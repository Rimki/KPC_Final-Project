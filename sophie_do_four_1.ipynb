{
 "cells": [
  {
   "cell_type": "code",
   "execution_count": 1,
   "metadata": {},
   "outputs": [],
   "source": [
    "import pandas as pd"
   ]
  },
  {
   "cell_type": "code",
   "execution_count": 2,
   "metadata": {},
   "outputs": [],
   "source": [
    "raw_df=pd.read_csv(\"WriteData.csv\")"
   ]
  },
  {
   "cell_type": "code",
   "execution_count": 3,
   "metadata": {},
   "outputs": [
    {
     "data": {
      "text/html": [
       "<div>\n",
       "<style scoped>\n",
       "    .dataframe tbody tr th:only-of-type {\n",
       "        vertical-align: middle;\n",
       "    }\n",
       "\n",
       "    .dataframe tbody tr th {\n",
       "        vertical-align: top;\n",
       "    }\n",
       "\n",
       "    .dataframe thead th {\n",
       "        text-align: right;\n",
       "    }\n",
       "</style>\n",
       "<table border=\"1\" class=\"dataframe\">\n",
       "  <thead>\n",
       "    <tr style=\"text-align: right;\">\n",
       "      <th></th>\n",
       "      <th>1</th>\n",
       "      <th>2</th>\n",
       "      <th>3</th>\n",
       "    </tr>\n",
       "  </thead>\n",
       "  <tbody>\n",
       "    <tr>\n",
       "      <th>0</th>\n",
       "      <td>한국석유공사 / 설비 / 2020 상반기</td>\n",
       "      <td>광주전자공업고등학교 / 학점 1.7등급 / 인천 글로벌 숙련 진흥원 5일, 선반, ...</td>\n",
       "      <td>7.한국석유공사\\n\\n 1. 지원 분야 직무기술서 ‘직무수행 내용’ 중 본인이 가장...</td>\n",
       "    </tr>\n",
       "    <tr>\n",
       "      <th>1</th>\n",
       "      <td>CJ제일제당 / Food Sales / 2020 상반기</td>\n",
       "      <td>중경외시 / 상경계열 / 학점 3.92 / 토익 905, 토스 LV 6 / 봉사활동...</td>\n",
       "      <td>CJ제일제당 및 선택한 직무에 대한 지원동기는 무엇인가요? ① 선택한 직무에 관심을...</td>\n",
       "    </tr>\n",
       "    <tr>\n",
       "      <th>2</th>\n",
       "      <td>한국가스안전공사 / LP가스 안전지킴이사업 / 2020 상반기</td>\n",
       "      <td>제주대학교 / 학점 3.3 / 토익830 / 컴퓨터활용능력1급, 한국사1급</td>\n",
       "      <td>\\n1. 한국가스안전공사가 진행하는 사업에 관심을 갖고 공사에 지원한 동기에 대해 ...</td>\n",
       "    </tr>\n",
       "    <tr>\n",
       "      <th>3</th>\n",
       "      <td>코레일 / 사무영업 / 2020 상반기</td>\n",
       "      <td>충남대학교 / 학점 3.87 / 토익 835 / 토론동아리 3년, 컴활1급, 한국사1급</td>\n",
       "      <td>1.공동체의 일원으로서 가장 중요하게 생각하는 가치를 제시하고, 그 가치를 실천했던...</td>\n",
       "    </tr>\n",
       "    <tr>\n",
       "      <th>4</th>\n",
       "      <td>한국기술교육대학교 / 행정 / 2020 상반기</td>\n",
       "      <td>건국대학교 / 학점 4.0 / 토익 780 / 컴활 1급, 한국사1급</td>\n",
       "      <td>1. 본인이 가진 가장 뛰어난 점과 그렇게 판단한 이유, 고용노동연수원 업무수행에서...</td>\n",
       "    </tr>\n",
       "    <tr>\n",
       "      <th>...</th>\n",
       "      <td>...</td>\n",
       "      <td>...</td>\n",
       "      <td>...</td>\n",
       "    </tr>\n",
       "    <tr>\n",
       "      <th>10102</th>\n",
       "      <td>현대자동차 / 영업관리 / 2013 상반기</td>\n",
       "      <td>상명대학교 / 국제통상학 / 학점 4.3 / 토익 900, HSK 6급 / 해외인턴...</td>\n",
       "      <td>1. 현대자동차에 지원하게 된 동기 또는 해당 직무에 지원하게 된 동기는 무엇입니까...</td>\n",
       "    </tr>\n",
       "    <tr>\n",
       "      <th>10103</th>\n",
       "      <td>심팩 / 용접관리 / 2013 상반기</td>\n",
       "      <td>지방전문대 / 공업화학 / 학점 3.06</td>\n",
       "      <td>성격소개\\n\\n대부분의 사람들이 평가하는 첫인상은 소심하고 내성적인 성격일것이라 생...</td>\n",
       "    </tr>\n",
       "    <tr>\n",
       "      <th>10104</th>\n",
       "      <td>한국전력 / 인턴[송,배전] / 2013 상반기</td>\n",
       "      <td>지거국 / 전자공학 / 학점 3.7 / 토익 900대 / 음악봉사활동, 멘토링 등</td>\n",
       "      <td>[질문 1] 취업이라는 목표 이외에 인생의 큰 목표를 세운 경험, 그 목표를 실현하...</td>\n",
       "    </tr>\n",
       "    <tr>\n",
       "      <th>10105</th>\n",
       "      <td>한국전력 / 인턴[송,배전] / 2013 상반기</td>\n",
       "      <td>지거국 / 전자공학 / 학점 3.7 / 토익 900 / 음악봉사활동, 멘토링등</td>\n",
       "      <td>한전 자가소개서 양식 500자 12줄 이내\\n\\n[질문 1] 취업이라는 목표 이외에...</td>\n",
       "    </tr>\n",
       "    <tr>\n",
       "      <th>10106</th>\n",
       "      <td>한국전력 / 인턴[송,배전] / 2013 상반기</td>\n",
       "      <td>지거국 / 전자공학 / 학점 3.7 / 토익 900 / 음악봉사활동, 멘토링등</td>\n",
       "      <td>한전 자가소개서 양식 500자 12줄 이내\\n\\n[질문 1] 취업이라는 목표 이외에...</td>\n",
       "    </tr>\n",
       "  </tbody>\n",
       "</table>\n",
       "<p>10107 rows × 3 columns</p>\n",
       "</div>"
      ],
      "text/plain": [
       "                                        1  \\\n",
       "0                  한국석유공사 / 설비 / 2020 상반기   \n",
       "1          CJ제일제당 / Food Sales / 2020 상반기   \n",
       "2      한국가스안전공사 / LP가스 안전지킴이사업 / 2020 상반기   \n",
       "3                   코레일 / 사무영업 / 2020 상반기   \n",
       "4               한국기술교육대학교 / 행정 / 2020 상반기   \n",
       "...                                   ...   \n",
       "10102             현대자동차 / 영업관리 / 2013 상반기   \n",
       "10103                심팩 / 용접관리 / 2013 상반기   \n",
       "10104          한국전력 / 인턴[송,배전] / 2013 상반기   \n",
       "10105          한국전력 / 인턴[송,배전] / 2013 상반기   \n",
       "10106          한국전력 / 인턴[송,배전] / 2013 상반기   \n",
       "\n",
       "                                                       2  \\\n",
       "0      광주전자공업고등학교 / 학점 1.7등급 / 인천 글로벌 숙련 진흥원 5일, 선반, ...   \n",
       "1      중경외시 / 상경계열 / 학점 3.92 / 토익 905, 토스 LV 6 / 봉사활동...   \n",
       "2              제주대학교 / 학점 3.3 / 토익830 / 컴퓨터활용능력1급, 한국사1급   \n",
       "3       충남대학교 / 학점 3.87 / 토익 835 / 토론동아리 3년, 컴활1급, 한국사1급   \n",
       "4                 건국대학교 / 학점 4.0 / 토익 780 / 컴활 1급, 한국사1급   \n",
       "...                                                  ...   \n",
       "10102  상명대학교 / 국제통상학 / 학점 4.3 / 토익 900, HSK 6급 / 해외인턴...   \n",
       "10103                             지방전문대 / 공업화학 / 학점 3.06   \n",
       "10104      지거국 / 전자공학 / 학점 3.7 / 토익 900대 / 음악봉사활동, 멘토링 등   \n",
       "10105        지거국 / 전자공학 / 학점 3.7 / 토익 900 / 음악봉사활동, 멘토링등   \n",
       "10106        지거국 / 전자공학 / 학점 3.7 / 토익 900 / 음악봉사활동, 멘토링등   \n",
       "\n",
       "                                                       3  \n",
       "0      7.한국석유공사\\n\\n 1. 지원 분야 직무기술서 ‘직무수행 내용’ 중 본인이 가장...  \n",
       "1      CJ제일제당 및 선택한 직무에 대한 지원동기는 무엇인가요? ① 선택한 직무에 관심을...  \n",
       "2      \\n1. 한국가스안전공사가 진행하는 사업에 관심을 갖고 공사에 지원한 동기에 대해 ...  \n",
       "3      1.공동체의 일원으로서 가장 중요하게 생각하는 가치를 제시하고, 그 가치를 실천했던...  \n",
       "4      1. 본인이 가진 가장 뛰어난 점과 그렇게 판단한 이유, 고용노동연수원 업무수행에서...  \n",
       "...                                                  ...  \n",
       "10102  1. 현대자동차에 지원하게 된 동기 또는 해당 직무에 지원하게 된 동기는 무엇입니까...  \n",
       "10103  성격소개\\n\\n대부분의 사람들이 평가하는 첫인상은 소심하고 내성적인 성격일것이라 생...  \n",
       "10104  [질문 1] 취업이라는 목표 이외에 인생의 큰 목표를 세운 경험, 그 목표를 실현하...  \n",
       "10105  한전 자가소개서 양식 500자 12줄 이내\\n\\n[질문 1] 취업이라는 목표 이외에...  \n",
       "10106  한전 자가소개서 양식 500자 12줄 이내\\n\\n[질문 1] 취업이라는 목표 이외에...  \n",
       "\n",
       "[10107 rows x 3 columns]"
      ]
     },
     "execution_count": 3,
     "metadata": {},
     "output_type": "execute_result"
    }
   ],
   "source": [
    "raw_df"
   ]
  },
  {
   "cell_type": "code",
   "execution_count": 4,
   "metadata": {},
   "outputs": [],
   "source": [
    "df = pd.DataFrame(columns=[\"기업명\",\"지원부서\",\"지원시기\",\"학교\",\"학과\",\"학점\",\"어학\",\"자격증\",\"경험사항\",\"자소서\"])"
   ]
  },
  {
   "cell_type": "code",
   "execution_count": 5,
   "metadata": {},
   "outputs": [],
   "source": [
    "df=pd.read_csv(\"3-1.csv\")"
   ]
  },
  {
   "cell_type": "code",
   "execution_count": 6,
   "metadata": {
    "scrolled": true
   },
   "outputs": [
    {
     "data": {
      "text/html": [
       "<div>\n",
       "<style scoped>\n",
       "    .dataframe tbody tr th:only-of-type {\n",
       "        vertical-align: middle;\n",
       "    }\n",
       "\n",
       "    .dataframe tbody tr th {\n",
       "        vertical-align: top;\n",
       "    }\n",
       "\n",
       "    .dataframe thead th {\n",
       "        text-align: right;\n",
       "    }\n",
       "</style>\n",
       "<table border=\"1\" class=\"dataframe\">\n",
       "  <thead>\n",
       "    <tr style=\"text-align: right;\">\n",
       "      <th></th>\n",
       "      <th>Unnamed: 0</th>\n",
       "      <th>Unnamed: 0.1</th>\n",
       "      <th>Unnamed: 0.1.1</th>\n",
       "      <th>Unnamed: 0.1.1.1</th>\n",
       "      <th>기업명</th>\n",
       "      <th>지원부서</th>\n",
       "      <th>지원시기</th>\n",
       "      <th>학교</th>\n",
       "      <th>학과</th>\n",
       "      <th>학점</th>\n",
       "      <th>어학</th>\n",
       "      <th>자격증</th>\n",
       "      <th>경험사항</th>\n",
       "      <th>자소서</th>\n",
       "    </tr>\n",
       "  </thead>\n",
       "  <tbody>\n",
       "    <tr>\n",
       "      <th>0</th>\n",
       "      <td>0</td>\n",
       "      <td>0</td>\n",
       "      <td>0</td>\n",
       "      <td>0</td>\n",
       "      <td>한국석유공사</td>\n",
       "      <td>설비</td>\n",
       "      <td>2020 상반기</td>\n",
       "      <td>NaN</td>\n",
       "      <td>전자공학과</td>\n",
       "      <td>학점 1.7등급</td>\n",
       "      <td>NaN</td>\n",
       "      <td>NaN</td>\n",
       "      <td>인천 글로벌 숙련 진흥원, 선반, 용접 ,특수용접, 설비보전</td>\n",
       "      <td>7.한국석유공사\\n\\n 1. 지원 분야 직무기술서 ‘직무수행 내용’ 중 본인이 가장...</td>\n",
       "    </tr>\n",
       "    <tr>\n",
       "      <th>1</th>\n",
       "      <td>1</td>\n",
       "      <td>1</td>\n",
       "      <td>1</td>\n",
       "      <td>1</td>\n",
       "      <td>CJ제일제당</td>\n",
       "      <td>Food Sales</td>\n",
       "      <td>2020 상반기</td>\n",
       "      <td>서울사립대(중앙대학교)</td>\n",
       "      <td>상경계열학과</td>\n",
       "      <td>학점 3.92</td>\n",
       "      <td>토익 905, 토스 LV 6</td>\n",
       "      <td>NaN</td>\n",
       "      <td>봉사활동 일부빼고는 전무.</td>\n",
       "      <td>CJ제일제당 및 선택한 직무에 대한 지원동기는 무엇인가요? ① 선택한 직무에 관심을...</td>\n",
       "    </tr>\n",
       "    <tr>\n",
       "      <th>2</th>\n",
       "      <td>2</td>\n",
       "      <td>2</td>\n",
       "      <td>2</td>\n",
       "      <td>2</td>\n",
       "      <td>한국가스안전공사</td>\n",
       "      <td>LP가스 안전지킴이사업</td>\n",
       "      <td>2020 상반기</td>\n",
       "      <td>지방거점국립대(제주대학교)</td>\n",
       "      <td>NaN</td>\n",
       "      <td>학점 3.3</td>\n",
       "      <td>토익830</td>\n",
       "      <td>NaN</td>\n",
       "      <td>NaN</td>\n",
       "      <td>\\n1. 한국가스안전공사가 진행하는 사업에 관심을 갖고 공사에 지원한 동기에 대해 ...</td>\n",
       "    </tr>\n",
       "    <tr>\n",
       "      <th>3</th>\n",
       "      <td>3</td>\n",
       "      <td>3</td>\n",
       "      <td>3</td>\n",
       "      <td>3</td>\n",
       "      <td>코레일</td>\n",
       "      <td>사무영업</td>\n",
       "      <td>2020 상반기</td>\n",
       "      <td>지방거점국립대(충남대학교)</td>\n",
       "      <td>NaN</td>\n",
       "      <td>학점 3.87</td>\n",
       "      <td>토익 835</td>\n",
       "      <td>NaN</td>\n",
       "      <td>NaN</td>\n",
       "      <td>1.공동체의 일원으로서 가장 중요하게 생각하는 가치를 제시하고, 그 가치를 실천했던...</td>\n",
       "    </tr>\n",
       "    <tr>\n",
       "      <th>4</th>\n",
       "      <td>4</td>\n",
       "      <td>4</td>\n",
       "      <td>4</td>\n",
       "      <td>4</td>\n",
       "      <td>한국기술교육대학교</td>\n",
       "      <td>행정</td>\n",
       "      <td>2020 상반기</td>\n",
       "      <td>서울사립대(건국대학교)</td>\n",
       "      <td>NaN</td>\n",
       "      <td>학점 4.0</td>\n",
       "      <td>토익 780</td>\n",
       "      <td>NaN</td>\n",
       "      <td>NaN</td>\n",
       "      <td>1. 본인이 가진 가장 뛰어난 점과 그렇게 판단한 이유, 고용노동연수원 업무수행에서...</td>\n",
       "    </tr>\n",
       "    <tr>\n",
       "      <th>...</th>\n",
       "      <td>...</td>\n",
       "      <td>...</td>\n",
       "      <td>...</td>\n",
       "      <td>...</td>\n",
       "      <td>...</td>\n",
       "      <td>...</td>\n",
       "      <td>...</td>\n",
       "      <td>...</td>\n",
       "      <td>...</td>\n",
       "      <td>...</td>\n",
       "      <td>...</td>\n",
       "      <td>...</td>\n",
       "      <td>...</td>\n",
       "      <td>...</td>\n",
       "    </tr>\n",
       "    <tr>\n",
       "      <th>10102</th>\n",
       "      <td>10102</td>\n",
       "      <td>10102</td>\n",
       "      <td>10102</td>\n",
       "      <td>10102</td>\n",
       "      <td>현대자동차</td>\n",
       "      <td>영업관리</td>\n",
       "      <td>2013 상반기</td>\n",
       "      <td>서울사립대(상명대학교)</td>\n",
       "      <td>국제통상학과</td>\n",
       "      <td>학점 4.3</td>\n",
       "      <td>토익 900, HSK 6급</td>\n",
       "      <td>NaN</td>\n",
       "      <td>해외인턴1회, 중국어 말하기 대회 1등, 와인바 매니저 1년 6개월 경력</td>\n",
       "      <td>1. 현대자동차에 지원하게 된 동기 또는 해당 직무에 지원하게 된 동기는 무엇입니까...</td>\n",
       "    </tr>\n",
       "    <tr>\n",
       "      <th>10103</th>\n",
       "      <td>10103</td>\n",
       "      <td>10103</td>\n",
       "      <td>10103</td>\n",
       "      <td>10103</td>\n",
       "      <td>심팩</td>\n",
       "      <td>용접관리</td>\n",
       "      <td>2013 상반기</td>\n",
       "      <td>전문대</td>\n",
       "      <td>공업화학과</td>\n",
       "      <td>학점 3.06</td>\n",
       "      <td>NaN</td>\n",
       "      <td>NaN</td>\n",
       "      <td>NaN</td>\n",
       "      <td>성격소개\\n\\n대부분의 사람들이 평가하는 첫인상은 소심하고 내성적인 성격일것이라 생...</td>\n",
       "    </tr>\n",
       "    <tr>\n",
       "      <th>10104</th>\n",
       "      <td>10104</td>\n",
       "      <td>10104</td>\n",
       "      <td>10104</td>\n",
       "      <td>10104</td>\n",
       "      <td>한국전력</td>\n",
       "      <td>인턴[송,배전]</td>\n",
       "      <td>2013 상반기</td>\n",
       "      <td>지방거점국립대</td>\n",
       "      <td>전자공학과</td>\n",
       "      <td>학점 3.7</td>\n",
       "      <td>토익 900대</td>\n",
       "      <td>NaN</td>\n",
       "      <td>음악봉사활동, 멘토링 등</td>\n",
       "      <td>[질문 1] 취업이라는 목표 이외에 인생의 큰 목표를 세운 경험, 그 목표를 실현하...</td>\n",
       "    </tr>\n",
       "    <tr>\n",
       "      <th>10105</th>\n",
       "      <td>10105</td>\n",
       "      <td>10105</td>\n",
       "      <td>10105</td>\n",
       "      <td>10105</td>\n",
       "      <td>한국전력</td>\n",
       "      <td>인턴[송,배전]</td>\n",
       "      <td>2013 상반기</td>\n",
       "      <td>지방거점국립대</td>\n",
       "      <td>전자공학과</td>\n",
       "      <td>학점 3.7</td>\n",
       "      <td>토익 900</td>\n",
       "      <td>NaN</td>\n",
       "      <td>음악봉사활동, 멘토링등</td>\n",
       "      <td>한전 자가소개서 양식 500자 12줄 이내\\n\\n[질문 1] 취업이라는 목표 이외에...</td>\n",
       "    </tr>\n",
       "    <tr>\n",
       "      <th>10106</th>\n",
       "      <td>10106</td>\n",
       "      <td>10106</td>\n",
       "      <td>10106</td>\n",
       "      <td>10106</td>\n",
       "      <td>한국전력</td>\n",
       "      <td>인턴[송,배전]</td>\n",
       "      <td>2013 상반기</td>\n",
       "      <td>지방거점국립대</td>\n",
       "      <td>전자공학과</td>\n",
       "      <td>학점 3.7</td>\n",
       "      <td>토익 900</td>\n",
       "      <td>NaN</td>\n",
       "      <td>음악봉사활동, 멘토링등</td>\n",
       "      <td>한전 자가소개서 양식 500자 12줄 이내\\n\\n[질문 1] 취업이라는 목표 이외에...</td>\n",
       "    </tr>\n",
       "  </tbody>\n",
       "</table>\n",
       "<p>10107 rows × 14 columns</p>\n",
       "</div>"
      ],
      "text/plain": [
       "       Unnamed: 0  Unnamed: 0.1  Unnamed: 0.1.1  Unnamed: 0.1.1.1         기업명  \\\n",
       "0               0             0               0                 0     한국석유공사    \n",
       "1               1             1               1                 1     CJ제일제당    \n",
       "2               2             2               2                 2   한국가스안전공사    \n",
       "3               3             3               3                 3        코레일    \n",
       "4               4             4               4                 4  한국기술교육대학교    \n",
       "...           ...           ...             ...               ...         ...   \n",
       "10102       10102         10102           10102             10102      현대자동차    \n",
       "10103       10103         10103           10103             10103         심팩    \n",
       "10104       10104         10104           10104             10104       한국전력    \n",
       "10105       10105         10105           10105             10105       한국전력    \n",
       "10106       10106         10106           10106             10106       한국전력    \n",
       "\n",
       "                 지원부서       지원시기              학교      학과          학점  \\\n",
       "0                 설비    2020 상반기             NaN   전자공학과   학점 1.7등급    \n",
       "1         Food Sales    2020 상반기    서울사립대(중앙대학교)  상경계열학과    학점 3.92    \n",
       "2       LP가스 안전지킴이사업    2020 상반기  지방거점국립대(제주대학교)     NaN     학점 3.3    \n",
       "3               사무영업    2020 상반기  지방거점국립대(충남대학교)     NaN    학점 3.87    \n",
       "4                 행정    2020 상반기    서울사립대(건국대학교)     NaN     학점 4.0    \n",
       "...               ...        ...             ...     ...         ...   \n",
       "10102           영업관리    2013 상반기    서울사립대(상명대학교)  국제통상학과     학점 4.3    \n",
       "10103           용접관리    2013 상반기             전문대   공업화학과     학점 3.06   \n",
       "10104       인턴[송,배전]    2013 상반기         지방거점국립대   전자공학과     학점 3.7    \n",
       "10105       인턴[송,배전]    2013 상반기         지방거점국립대   전자공학과     학점 3.7    \n",
       "10106       인턴[송,배전]    2013 상반기         지방거점국립대   전자공학과     학점 3.7    \n",
       "\n",
       "                      어학  자격증                                       경험사항  \\\n",
       "0                    NaN  NaN          인천 글로벌 숙련 진흥원, 선반, 용접 ,특수용접, 설비보전   \n",
       "1       토익 905, 토스 LV 6   NaN                             봉사활동 일부빼고는 전무.   \n",
       "2                 토익830   NaN                                        NaN   \n",
       "3                토익 835   NaN                                        NaN   \n",
       "4                토익 780   NaN                                        NaN   \n",
       "...                  ...  ...                                        ...   \n",
       "10102    토익 900, HSK 6급   NaN   해외인턴1회, 중국어 말하기 대회 1등, 와인바 매니저 1년 6개월 경력   \n",
       "10103                NaN  NaN                                        NaN   \n",
       "10104           토익 900대   NaN                              음악봉사활동, 멘토링 등   \n",
       "10105            토익 900   NaN                               음악봉사활동, 멘토링등   \n",
       "10106            토익 900   NaN                               음악봉사활동, 멘토링등   \n",
       "\n",
       "                                                     자소서  \n",
       "0      7.한국석유공사\\n\\n 1. 지원 분야 직무기술서 ‘직무수행 내용’ 중 본인이 가장...  \n",
       "1      CJ제일제당 및 선택한 직무에 대한 지원동기는 무엇인가요? ① 선택한 직무에 관심을...  \n",
       "2      \\n1. 한국가스안전공사가 진행하는 사업에 관심을 갖고 공사에 지원한 동기에 대해 ...  \n",
       "3      1.공동체의 일원으로서 가장 중요하게 생각하는 가치를 제시하고, 그 가치를 실천했던...  \n",
       "4      1. 본인이 가진 가장 뛰어난 점과 그렇게 판단한 이유, 고용노동연수원 업무수행에서...  \n",
       "...                                                  ...  \n",
       "10102  1. 현대자동차에 지원하게 된 동기 또는 해당 직무에 지원하게 된 동기는 무엇입니까...  \n",
       "10103  성격소개\\n\\n대부분의 사람들이 평가하는 첫인상은 소심하고 내성적인 성격일것이라 생...  \n",
       "10104  [질문 1] 취업이라는 목표 이외에 인생의 큰 목표를 세운 경험, 그 목표를 실현하...  \n",
       "10105  한전 자가소개서 양식 500자 12줄 이내\\n\\n[질문 1] 취업이라는 목표 이외에...  \n",
       "10106  한전 자가소개서 양식 500자 12줄 이내\\n\\n[질문 1] 취업이라는 목표 이외에...  \n",
       "\n",
       "[10107 rows x 14 columns]"
      ]
     },
     "execution_count": 6,
     "metadata": {},
     "output_type": "execute_result"
    }
   ],
   "source": [
    "df"
   ]
  },
  {
   "cell_type": "code",
   "execution_count": 7,
   "metadata": {},
   "outputs": [
    {
     "data": {
      "text/plain": [
       "'토익 940'"
      ]
     },
     "execution_count": 7,
     "metadata": {},
     "output_type": "execute_result"
    }
   ],
   "source": [
    "df[\"어학\"][6793]"
   ]
  },
  {
   "cell_type": "code",
   "execution_count": 8,
   "metadata": {},
   "outputs": [],
   "source": [
    "four=pd.read_csv(\"sophie.csv\",index_col=0)"
   ]
  },
  {
   "cell_type": "code",
   "execution_count": 9,
   "metadata": {},
   "outputs": [
    {
     "data": {
      "text/html": [
       "<div>\n",
       "<style scoped>\n",
       "    .dataframe tbody tr th:only-of-type {\n",
       "        vertical-align: middle;\n",
       "    }\n",
       "\n",
       "    .dataframe tbody tr th {\n",
       "        vertical-align: top;\n",
       "    }\n",
       "\n",
       "    .dataframe thead th {\n",
       "        text-align: right;\n",
       "    }\n",
       "</style>\n",
       "<table border=\"1\" class=\"dataframe\">\n",
       "  <thead>\n",
       "    <tr style=\"text-align: right;\">\n",
       "      <th></th>\n",
       "      <th>3</th>\n",
       "    </tr>\n",
       "  </thead>\n",
       "  <tbody>\n",
       "    <tr>\n",
       "      <th>0</th>\n",
       "      <td>NaN</td>\n",
       "    </tr>\n",
       "    <tr>\n",
       "      <th>1</th>\n",
       "      <td>NaN</td>\n",
       "    </tr>\n",
       "    <tr>\n",
       "      <th>2</th>\n",
       "      <td>컴퓨터활용능력1급, 한국사1급</td>\n",
       "    </tr>\n",
       "    <tr>\n",
       "      <th>3</th>\n",
       "      <td>토론동아리 3년, 컴활1급, 한국사1급</td>\n",
       "    </tr>\n",
       "    <tr>\n",
       "      <th>4</th>\n",
       "      <td>컴활 1급, 한국사1급</td>\n",
       "    </tr>\n",
       "    <tr>\n",
       "      <th>...</th>\n",
       "      <td>...</td>\n",
       "    </tr>\n",
       "    <tr>\n",
       "      <th>10102</th>\n",
       "      <td>NaN</td>\n",
       "    </tr>\n",
       "    <tr>\n",
       "      <th>10103</th>\n",
       "      <td>NaN</td>\n",
       "    </tr>\n",
       "    <tr>\n",
       "      <th>10104</th>\n",
       "      <td>NaN</td>\n",
       "    </tr>\n",
       "    <tr>\n",
       "      <th>10105</th>\n",
       "      <td>NaN</td>\n",
       "    </tr>\n",
       "    <tr>\n",
       "      <th>10106</th>\n",
       "      <td>NaN</td>\n",
       "    </tr>\n",
       "  </tbody>\n",
       "</table>\n",
       "<p>10107 rows × 1 columns</p>\n",
       "</div>"
      ],
      "text/plain": [
       "                            3\n",
       "0                         NaN\n",
       "1                         NaN\n",
       "2            컴퓨터활용능력1급, 한국사1급\n",
       "3       토론동아리 3년, 컴활1급, 한국사1급\n",
       "4                컴활 1급, 한국사1급\n",
       "...                       ...\n",
       "10102                     NaN\n",
       "10103                     NaN\n",
       "10104                     NaN\n",
       "10105                     NaN\n",
       "10106                     NaN\n",
       "\n",
       "[10107 rows x 1 columns]"
      ]
     },
     "execution_count": 9,
     "metadata": {},
     "output_type": "execute_result"
    }
   ],
   "source": [
    "four"
   ]
  },
  {
   "cell_type": "code",
   "execution_count": 10,
   "metadata": {},
   "outputs": [],
   "source": [
    "four = four[\"3\"]"
   ]
  },
  {
   "cell_type": "code",
   "execution_count": 11,
   "metadata": {},
   "outputs": [
    {
     "data": {
      "text/plain": [
       "1950     OPIc IL \n",
       "2089     OPIc IL \n",
       "Name: 3, dtype: object"
      ]
     },
     "execution_count": 11,
     "metadata": {},
     "output_type": "execute_result"
    }
   ],
   "source": [
    "four[four.str.contains(\"IL\")==True]"
   ]
  },
  {
   "cell_type": "code",
   "execution_count": 12,
   "metadata": {},
   "outputs": [],
   "source": [
    "df.at[four[four.str.contains(\"IL\")==True].index,[\"어학\"]]=four[four.str.contains(\"IL\")==True]"
   ]
  },
  {
   "cell_type": "code",
   "execution_count": 13,
   "metadata": {},
   "outputs": [],
   "source": [
    "four[four.str.contains(\"IL\")==True]=\"\""
   ]
  },
  {
   "cell_type": "code",
   "execution_count": 14,
   "metadata": {},
   "outputs": [
    {
     "data": {
      "text/plain": [
       "87      바디텍메드 인턴 (2개월), 학과 축구동아리 회장 1년, 교육봉사 28시간\n",
       "106     바디텍메드 인턴 (2개월), 학과 축구동아리 회장 1년, 교육봉사 28시간\n",
       "126     바디텍메드 인턴 (2개월), 학과 축구동아리 회장 1년, 교육봉사 28시간\n",
       "Name: 3, dtype: object"
      ]
     },
     "execution_count": 14,
     "metadata": {},
     "output_type": "execute_result"
    }
   ],
   "source": [
    "four[four.str.contains(\"축구\")==True]"
   ]
  },
  {
   "cell_type": "code",
   "execution_count": 15,
   "metadata": {},
   "outputs": [],
   "source": [
    "df.at[four[four.str.contains(\"축구\")==True].index,[\"경험사항\"]]=four[four.str.contains(\"축구\")==True]"
   ]
  },
  {
   "cell_type": "code",
   "execution_count": 16,
   "metadata": {},
   "outputs": [],
   "source": [
    "four[four.str.contains(\"축구\")==True]=\"\""
   ]
  },
  {
   "cell_type": "code",
   "execution_count": 17,
   "metadata": {},
   "outputs": [
    {
     "data": {
      "text/plain": [
       "268     아시아나 지상직원 근무 (1년2개월), 백석대학교 어문학부 학생회 (1년), 교내...\n",
       "340     아시아나 지상직원 근무 (1년2개월), 백석대학교 어문학부 학생회 (1년), 교내...\n",
       "360     아시아나 지상직원 근무 (1년2개월), 백석대학교 어문학부 학생회 (1년), 교내...\n",
       "Name: 3, dtype: object"
      ]
     },
     "execution_count": 17,
     "metadata": {},
     "output_type": "execute_result"
    }
   ],
   "source": [
    "four[four.str.contains(\"아시아나\")==True]"
   ]
  },
  {
   "cell_type": "code",
   "execution_count": 18,
   "metadata": {},
   "outputs": [],
   "source": [
    "df.at[four[four.str.contains(\"아시아나\")==True].index,[\"경험사항\"]]=four[four.str.contains(\"아시아나\")==True]"
   ]
  },
  {
   "cell_type": "code",
   "execution_count": 19,
   "metadata": {},
   "outputs": [],
   "source": [
    "four[four.str.contains(\"아시아나\")==True]=\"\""
   ]
  },
  {
   "cell_type": "code",
   "execution_count": 20,
   "metadata": {},
   "outputs": [
    {
     "data": {
      "text/plain": [
       "159     몽골해외 봉사, 교내 봉사 동아리, 공조냉동기계기사\n",
       "185     몽골해외 봉사, 교내 봉사 동아리, 공조냉동기계기사\n",
       "261     몽골해외 봉사, 교내 봉사 동아리, 공조냉동기계기사\n",
       "337     몽골해외 봉사, 교내 봉사 동아리, 공조냉동기계기사\n",
       "Name: 3, dtype: object"
      ]
     },
     "execution_count": 20,
     "metadata": {},
     "output_type": "execute_result"
    }
   ],
   "source": [
    "four[four.str.contains(\"몽골\")==True]"
   ]
  },
  {
   "cell_type": "code",
   "execution_count": 21,
   "metadata": {},
   "outputs": [],
   "source": [
    "df.at[four[four.str.contains(\"몽골\")==True].index,[\"경험사항\"]]=four[four.str.contains(\"몽골\")==True]"
   ]
  },
  {
   "cell_type": "code",
   "execution_count": 22,
   "metadata": {},
   "outputs": [],
   "source": [
    "four[four.str.contains(\"몽골\")==True]=\"\""
   ]
  },
  {
   "cell_type": "code",
   "execution_count": 23,
   "metadata": {},
   "outputs": [
    {
     "data": {
      "text/plain": [
       "4       컴활 1급, 한국사1급\n",
       "21      컴활 1급, 한국사1급\n",
       "38      컴활 1급, 한국사1급\n",
       "45      컴활 1급, 한국사1급\n",
       "405     컴활 1급, 한국사1급\n",
       "Name: 3, dtype: object"
      ]
     },
     "execution_count": 23,
     "metadata": {},
     "output_type": "execute_result"
    }
   ],
   "source": [
    "four[four.str.contains(\"컴활 1급, 한국사1급\")==True]"
   ]
  },
  {
   "cell_type": "code",
   "execution_count": 24,
   "metadata": {},
   "outputs": [],
   "source": [
    "df.at[four[four.str.contains(\"컴활 1급, 한국사1급\")==True].index,[\"자격증\"]]=four[four.str.contains(\"컴활 1급, 한국사1급\")==True]"
   ]
  },
  {
   "cell_type": "code",
   "execution_count": 25,
   "metadata": {},
   "outputs": [],
   "source": [
    "four[four.str.contains(\"컴활 1급, 한국사1급\")==True]=\"\""
   ]
  },
  {
   "cell_type": "code",
   "execution_count": 26,
   "metadata": {},
   "outputs": [
    {
     "data": {
      "text/plain": [
       "15      슈나이더일렉트릭코리아 대학생 공모전(9개월), 2018년 여름방학 현장실습 (4주) \n",
       "216     슈나이더일렉트릭코리아 대학생 공모전(9개월), 2018년 여름방학 현장실습 (4주) \n",
       "305     슈나이더일렉트릭코리아 대학생 공모전(9개월), 2018년 여름방학 현장실습 (4주) \n",
       "647     슈나이더일렉트릭코리아 대학생 공모전(9개월), 2018년 여름방학 현장실습 (4주) \n",
       "743     슈나이더일렉트릭코리아 대학생 공모전(9개월), 2018년 여름방학 현장실습 (4주) \n",
       "Name: 3, dtype: object"
      ]
     },
     "execution_count": 26,
     "metadata": {},
     "output_type": "execute_result"
    }
   ],
   "source": [
    "four[four.str.contains(\"슈나이더일렉트릭코리아\")==True]"
   ]
  },
  {
   "cell_type": "code",
   "execution_count": 27,
   "metadata": {},
   "outputs": [],
   "source": [
    "df.at[four[four.str.contains(\"슈나이더일렉트릭코리아\")==True].index,[\"경험사항\"]]=four[four.str.contains(\"슈나이더일렉트릭코리아\")==True]"
   ]
  },
  {
   "cell_type": "code",
   "execution_count": 28,
   "metadata": {},
   "outputs": [],
   "source": [
    "four[four.str.contains(\"슈나이더일렉트릭코리아\")==True]=\"\""
   ]
  },
  {
   "cell_type": "code",
   "execution_count": 29,
   "metadata": {},
   "outputs": [
    {
     "data": {
      "text/plain": [
       "17       (주)에이피피 학교 연계형 인턴 (2개월, 2018년 상반기), 재료연구소 체험형...\n",
       "80       (주)에이피피 학교 연계형 인턴 (2개월, 2018년 상반기), 재료연구소 체험형...\n",
       "83       (주)에이피피 학교 연계형 인턴 (2개월, 2018년 상반기), 재료연구소 체험형...\n",
       "113      (주)에이피피 학교 연계형 인턴 (2개월, 2018년 상반기), 재료연구소 체험형...\n",
       "133      (주)에이피피 학교 연계형 인턴 (2개월, 2018년 상반기), 재료연구소 체험형...\n",
       "153      (주)에이피피 학교 연계형 인턴 (2개월, 2018년 상반기), 재료연구소 체험형...\n",
       "179      (주)에이피피 학교 연계형 인턴 (2개월, 2018년 상반기), 재료연구소 체험형...\n",
       "208      (주)에이피피 학교 연계형 인턴 (2개월, 2018년 상반기), 재료연구소 체험형...\n",
       "265      (주)에이피피 학교 연계형 인턴 (2개월, 2018년 상반기), 재료연구소 체험형...\n",
       "335      (주)에이피피 학교 연계형 인턴 (2개월, 2018년 상반기), 재료연구소 체험형...\n",
       "578      (주)에이피피 학교 연계형 인턴 (2개월, 2018년 상반기), 재료연구소 체험형...\n",
       "646      (주)에이피피 학교 연계형 인턴 (2개월, 2018년 상반기), 재료연구소 체험형...\n",
       "652      (주)에이피피 학교 연계형 인턴 (2개월, 2018년 상반기), 재료연구소 체험형...\n",
       "740      (주)에이피피 학교 연계형 인턴 (2개월, 2018년 상반기), 재료연구소 체험형...\n",
       "747      (주)에이피피 학교 연계형 인턴 (2개월, 2018년 상반기), 재료연구소 체험형...\n",
       "769      (주)에이피피 학교 연계형 인턴 (2개월, 2018년 상반기), 재료연구소 체험형...\n",
       "1277     (주)에이피피 학교 연계형 인턴 (2개월, 2018년 상반기), 재료연구소 체험형...\n",
       "1364     (주)에이피피 학교 연계형 인턴 (2개월, 2018년 상반기), 재료연구소 체험형...\n",
       "Name: 3, dtype: object"
      ]
     },
     "execution_count": 29,
     "metadata": {},
     "output_type": "execute_result"
    }
   ],
   "source": [
    "four[four.str.contains(\"한국나노기술원\")==True]"
   ]
  },
  {
   "cell_type": "code",
   "execution_count": 30,
   "metadata": {},
   "outputs": [],
   "source": [
    "df.at[four[four.str.contains(\"한국나노기술원\")==True].index,[\"경험사항\"]]=four[four.str.contains(\"한국나노기술원\")==True]"
   ]
  },
  {
   "cell_type": "code",
   "execution_count": 31,
   "metadata": {},
   "outputs": [],
   "source": [
    "four[four.str.contains(\"한국나노기술원\")==True]=\"\""
   ]
  },
  {
   "cell_type": "code",
   "execution_count": 32,
   "metadata": {},
   "outputs": [
    {
     "data": {
      "text/plain": [
       "28     전산회계1급, ERP회계정보관리사 2급, ERP 인사정보관리사 2급\n",
       "50     전산회계1급, ERP회계정보관리사 2급, ERP 인사정보관리사 2급\n",
       "Name: 3, dtype: object"
      ]
     },
     "execution_count": 32,
     "metadata": {},
     "output_type": "execute_result"
    }
   ],
   "source": [
    "four[four.str.contains(\"전산회계1급, \")==True]"
   ]
  },
  {
   "cell_type": "code",
   "execution_count": 33,
   "metadata": {},
   "outputs": [],
   "source": [
    "df.at[four[four.str.contains(\"전산회계1급, \")==True].index,[\"자격증\"]]=four[four.str.contains(\"전산회계1급, \")==True]"
   ]
  },
  {
   "cell_type": "code",
   "execution_count": 34,
   "metadata": {},
   "outputs": [],
   "source": [
    "four[four.str.contains(\"전산회계1급, \")==True]=\"\""
   ]
  },
  {
   "cell_type": "code",
   "execution_count": 35,
   "metadata": {},
   "outputs": [
    {
     "data": {
      "text/plain": [
       "30     한국장애인고용공단 체험형 인턴(2018 상반기) \n",
       "51     한국장애인고용공단 체험형 인턴(2018 상반기) \n",
       "Name: 3, dtype: object"
      ]
     },
     "execution_count": 35,
     "metadata": {},
     "output_type": "execute_result"
    }
   ],
   "source": [
    "four[four.str.contains(\"한국장애인고용공단 \")==True]"
   ]
  },
  {
   "cell_type": "code",
   "execution_count": 36,
   "metadata": {},
   "outputs": [],
   "source": [
    "df.at[four[four.str.contains(\"한국장애인고용공단 \")==True].index,[\"경험사항\"]]=four[four.str.contains(\"한국장애인고용공단 \")==True]"
   ]
  },
  {
   "cell_type": "code",
   "execution_count": 37,
   "metadata": {},
   "outputs": [],
   "source": [
    "four[four.str.contains(\"한국장애인고용공단 \")==True]=\"\""
   ]
  },
  {
   "cell_type": "code",
   "execution_count": 38,
   "metadata": {},
   "outputs": [
    {
     "data": {
      "text/plain": [
       "61      백석대학교 어문학부 학생회 (1년), 교내 중국 국제교류 한국인 봉사자 (2주)\n",
       "89         백석대학교 어문학부 학생회 (1년), 교내 국제교류 한국인 봉사자 (2주)\n",
       "93      백석대학교 어문학부 학생회 (1년), 교내 중국 국제교류 한국인 봉사자 (2주)\n",
       "108        백석대학교 어문학부 학생회 (1년), 교내 국제교류 한국인 봉사자 (2주)\n",
       "128        백석대학교 어문학부 학생회 (1년), 교내 국제교류 한국인 봉사자 (2주)\n",
       "Name: 3, dtype: object"
      ]
     },
     "execution_count": 38,
     "metadata": {},
     "output_type": "execute_result"
    }
   ],
   "source": [
    "four[four.str.contains(\"백석대학교\")==True]"
   ]
  },
  {
   "cell_type": "code",
   "execution_count": 39,
   "metadata": {},
   "outputs": [],
   "source": [
    "df.at[four[four.str.contains(\"백석대학교\")==True].index,[\"경험사항\"]]=four[four.str.contains(\"백석대학교\")==True]"
   ]
  },
  {
   "cell_type": "code",
   "execution_count": 40,
   "metadata": {},
   "outputs": [],
   "source": [
    "four[four.str.contains(\"백석대학교\")==True]=\"\""
   ]
  },
  {
   "cell_type": "code",
   "execution_count": 41,
   "metadata": {},
   "outputs": [
    {
     "data": {
      "text/plain": [
       "32       컴퓨터활용능력 2급, 한국사 1급, 재경관리사, 정보처리기사\n",
       "54       컴퓨터활용능력 2급, 한국사 1급, 재경관리사, 정보처리기사\n",
       "74                재경관리사, 사무자동화산업기사, 정보처리기사\n",
       "115       재경관리사, 정보처리기사, 사무자동화산업기사, 워드프로세서\n",
       "135       재경관리사, 정보처리기사, 사무자동화산업기사, 워드프로세서\n",
       "161       재경관리사, 정보처리기사, 사무자동화산업기사, 워드프로세서\n",
       "204                                 재경관리사 \n",
       "395                                 재경관리사 \n",
       "436                                 재경관리사 \n",
       "448                                 재경관리사 \n",
       "459     재경관리사, 정보처리산업기사, 사무자동화산업기사, 워드프로세서\n",
       "460                                 재경관리사 \n",
       "474                                 재경관리사 \n",
       "480                                 재경관리사 \n",
       "494                                 재경관리사 \n",
       "522                                 재경관리사 \n",
       "529                                 재경관리사 \n",
       "542     재경관리사, 정보처리산업기사, 사무자동화산업기사, 워드프로세서\n",
       "550                                 재경관리사 \n",
       "553                                 재경관리사 \n",
       "Name: 3, dtype: object"
      ]
     },
     "execution_count": 41,
     "metadata": {},
     "output_type": "execute_result"
    }
   ],
   "source": [
    "four[four.str.contains(\"재경관리사\")==True]"
   ]
  },
  {
   "cell_type": "code",
   "execution_count": 42,
   "metadata": {},
   "outputs": [],
   "source": [
    "df.at[four[four.str.contains(\"재경관리사\")==True].index,[\"자격증\"]]=four[four.str.contains(\"재경관리사\")==True]"
   ]
  },
  {
   "cell_type": "code",
   "execution_count": 43,
   "metadata": {},
   "outputs": [],
   "source": [
    "four[four.str.contains(\"재경관리사\")==True]=\"\""
   ]
  },
  {
   "cell_type": "code",
   "execution_count": 44,
   "metadata": {},
   "outputs": [
    {
     "data": {
      "text/plain": [
       "3545     교육봉사 1\n",
       "3546     교육봉사 1\n",
       "Name: 3, dtype: object"
      ]
     },
     "execution_count": 44,
     "metadata": {},
     "output_type": "execute_result"
    }
   ],
   "source": [
    "four[four.str.contains(\"교육봉사 1\")==True]"
   ]
  },
  {
   "cell_type": "code",
   "execution_count": 45,
   "metadata": {},
   "outputs": [],
   "source": [
    "df.at[four[four.str.contains(\"교육봉사 1\")==True].index,[\"경험사항\"]]=four[four.str.contains(\"교육봉사 1\")==True]"
   ]
  },
  {
   "cell_type": "code",
   "execution_count": 46,
   "metadata": {},
   "outputs": [],
   "source": [
    "four[four.str.contains(\"교육봉사 1\")==True]=\"\""
   ]
  },
  {
   "cell_type": "code",
   "execution_count": 47,
   "metadata": {},
   "outputs": [
    {
     "data": {
      "text/plain": [
       "141     교내 범죄학논문대회 2등\n",
       "176     교내 범죄학논문대회 2등\n",
       "Name: 3, dtype: object"
      ]
     },
     "execution_count": 47,
     "metadata": {},
     "output_type": "execute_result"
    }
   ],
   "source": [
    "four[four.str.contains(\"범죄학\")==True]"
   ]
  },
  {
   "cell_type": "code",
   "execution_count": 48,
   "metadata": {},
   "outputs": [],
   "source": [
    "df.at[four[four.str.contains(\"범죄학\")==True].index,[\"경험사항\"]]=four[four.str.contains(\"범죄학\")==True]"
   ]
  },
  {
   "cell_type": "code",
   "execution_count": 49,
   "metadata": {},
   "outputs": [],
   "source": [
    "four[four.str.contains(\"범죄학\")==True]=\"\""
   ]
  },
  {
   "cell_type": "code",
   "execution_count": 50,
   "metadata": {},
   "outputs": [
    {
     "data": {
      "text/plain": [
       "144     KT&G 상상마케팅스쿨 2018하반기 우수상(2위) 수상 \n",
       "174     KT&G 상상마케팅스쿨 2018하반기 우수상(2위) 수상 \n",
       "Name: 3, dtype: object"
      ]
     },
     "execution_count": 50,
     "metadata": {},
     "output_type": "execute_result"
    }
   ],
   "source": [
    "four[four.str.contains(\"2018하반기 우수상\")==True]"
   ]
  },
  {
   "cell_type": "code",
   "execution_count": 51,
   "metadata": {},
   "outputs": [],
   "source": [
    "df.at[four[four.str.contains(\"2018하반기 우수상\")==True].index,[\"경험사항\"]]=four[four.str.contains(\"2018하반기 우수상\")==True]"
   ]
  },
  {
   "cell_type": "code",
   "execution_count": 52,
   "metadata": {},
   "outputs": [],
   "source": [
    "four[four.str.contains(\"2018하반기 우수상\")==True]=\"\""
   ]
  },
  {
   "cell_type": "code",
   "execution_count": 53,
   "metadata": {},
   "outputs": [
    {
     "data": {
      "text/plain": [
       "195     롯데자산개발 계약직(3개월), 철도기술연구원 계약직(3개월) 동원시스템즈 인턴 (...\n",
       "Name: 3, dtype: object"
      ]
     },
     "execution_count": 53,
     "metadata": {},
     "output_type": "execute_result"
    }
   ],
   "source": [
    "four[four.str.contains(\"롯데자산개발\")==True]"
   ]
  },
  {
   "cell_type": "code",
   "execution_count": 54,
   "metadata": {},
   "outputs": [],
   "source": [
    "df.at[four[four.str.contains(\"롯데자산개발\")==True].index,[\"경험사항\"]]=four[four.str.contains(\"롯데자산개발\")==True]"
   ]
  },
  {
   "cell_type": "code",
   "execution_count": 55,
   "metadata": {},
   "outputs": [],
   "source": [
    "four[four.str.contains(\"롯데자산개발\")==True]=\"\""
   ]
  },
  {
   "cell_type": "code",
   "execution_count": 56,
   "metadata": {},
   "outputs": [
    {
     "data": {
      "text/plain": [
       "209     고용노동부 청년취업아카데미(2개월)\n",
       "228     고용노동부 청년취업아카데미(2개월)\n",
       "248     고용노동부 청년취업아카데미(2개월)\n",
       "306     고용노동부 청년취업아카데미(2개월)\n",
       "318     고용노동부 청년취업아카데미(2개월)\n",
       "413     고용노동부 청년취업아카데미(2개월)\n",
       "414     고용노동부 청년취업아카데미(2개월)\n",
       "458     고용노동부 청년취업아카데미(2개월)\n",
       "501     고용노동부 청년취업아카데미(2개월)\n",
       "502     고용노동부 청년취업아카데미(2개월)\n",
       "649     고용노동부 청년취업아카데미(2개월)\n",
       "744     고용노동부 청년취업아카데미(2개월)\n",
       "Name: 3, dtype: object"
      ]
     },
     "execution_count": 56,
     "metadata": {},
     "output_type": "execute_result"
    }
   ],
   "source": [
    "four[four.str.contains(\"고용노동부\")==True]"
   ]
  },
  {
   "cell_type": "code",
   "execution_count": 57,
   "metadata": {},
   "outputs": [],
   "source": [
    "df.at[four[four.str.contains(\"고용노동부\")==True].index,[\"경험사항\"]]=four[four.str.contains(\"고용노동부\")==True]"
   ]
  },
  {
   "cell_type": "code",
   "execution_count": 58,
   "metadata": {},
   "outputs": [],
   "source": [
    "four[four.str.contains(\"고용노동부\")==True]=\"\""
   ]
  },
  {
   "cell_type": "code",
   "execution_count": 59,
   "metadata": {},
   "outputs": [
    {
     "data": {
      "text/plain": [
       "212     휴먼 번역 핀챗 6기, 해외송금 모인 서포터즈 2기, 고우해커스 지구촌 특파원 2...\n",
       "309     휴먼 번역 핀챗 6기, 해외송금 모인 서포터즈 2기, 고우해커스 지구촌 특파원 2...\n",
       "Name: 3, dtype: object"
      ]
     },
     "execution_count": 59,
     "metadata": {},
     "output_type": "execute_result"
    }
   ],
   "source": [
    "four[four.str.contains(\"해외송금\")==True]"
   ]
  },
  {
   "cell_type": "code",
   "execution_count": 60,
   "metadata": {},
   "outputs": [],
   "source": [
    "df.at[four[four.str.contains(\"해외송금\")==True].index,[\"경험사항\"]]=four[four.str.contains(\"해외송금\")==True]"
   ]
  },
  {
   "cell_type": "code",
   "execution_count": 61,
   "metadata": {},
   "outputs": [],
   "source": [
    "four[four.str.contains(\"해외송금\")==True]=\"\""
   ]
  },
  {
   "cell_type": "code",
   "execution_count": 62,
   "metadata": {},
   "outputs": [
    {
     "data": {
      "text/plain": [
       "219       학점 3.69?(3.51\n",
       "313       학점 3.69?(3.51\n",
       "461              학점 2.8\n",
       "481              학점 2.8\n",
       "551              학점 2.8\n",
       "              ...      \n",
       "9724             학점 3.7\n",
       "9812           학점 3.58 \n",
       "9830           학점 3.84 \n",
       "9839             학점 3.7\n",
       "10069           학점 3.5 \n",
       "Name: 3, Length: 196, dtype: object"
      ]
     },
     "execution_count": 62,
     "metadata": {},
     "output_type": "execute_result"
    }
   ],
   "source": [
    "four[four.str.contains(\"학점\")==True]"
   ]
  },
  {
   "cell_type": "code",
   "execution_count": 63,
   "metadata": {},
   "outputs": [],
   "source": [
    "df.at[four[four.str.contains(\"학점\")==True].index,[\"학점\"]]=four[four.str.contains(\"학점\")==True]"
   ]
  },
  {
   "cell_type": "code",
   "execution_count": 64,
   "metadata": {},
   "outputs": [],
   "source": [
    "four[four.str.contains(\"학점\")==True]=\"\""
   ]
  },
  {
   "cell_type": "code",
   "execution_count": 65,
   "metadata": {},
   "outputs": [
    {
     "data": {
      "text/plain": [
       "225    4점초반 \n",
       "245    4점초반 \n",
       "323    4점초반 \n",
       "Name: 3, dtype: object"
      ]
     },
     "execution_count": 65,
     "metadata": {},
     "output_type": "execute_result"
    }
   ],
   "source": [
    "four[four.str.contains(\"4점\")==True]"
   ]
  },
  {
   "cell_type": "code",
   "execution_count": 66,
   "metadata": {},
   "outputs": [],
   "source": [
    "four[four.str.contains(\"4점\")==True]=\"학점 4.0\""
   ]
  },
  {
   "cell_type": "code",
   "execution_count": 67,
   "metadata": {},
   "outputs": [],
   "source": [
    "df.at[four[four.str.contains(\"학점 4.0\")==True].index,[\"학점\"]]=four[four.str.contains(\"학점 4.0\")==True]"
   ]
  },
  {
   "cell_type": "code",
   "execution_count": 68,
   "metadata": {},
   "outputs": [],
   "source": [
    "four[four.str.contains(\"학점 4.0\")==True]=\"\""
   ]
  },
  {
   "cell_type": "code",
   "execution_count": 69,
   "metadata": {},
   "outputs": [
    {
     "data": {
      "text/plain": [
       "2791     한국전력공사 인턴 수료(2017 상반기) \n",
       "2921     한국전력공사 인턴 수료(2017 상반기) \n",
       "Name: 3, dtype: object"
      ]
     },
     "execution_count": 69,
     "metadata": {},
     "output_type": "execute_result"
    }
   ],
   "source": [
    "four[four.str.contains(\"한국전력공사 인턴 수료\")==True]"
   ]
  },
  {
   "cell_type": "code",
   "execution_count": 70,
   "metadata": {},
   "outputs": [],
   "source": [
    "df.at[four[four.str.contains(\"한국전력공사 인턴 수료\")==True].index,[\"경험사항\"]]=four[four.str.contains(\"한국전력공사 인턴 수료\")==True]"
   ]
  },
  {
   "cell_type": "code",
   "execution_count": 71,
   "metadata": {},
   "outputs": [],
   "source": [
    "four[four.str.contains(\"한국전력공사 인턴 수료\")==True]=\"\""
   ]
  },
  {
   "cell_type": "code",
   "execution_count": 72,
   "metadata": {},
   "outputs": [
    {
     "data": {
      "text/plain": [
       "275      관세청 정책기자단 2기\n",
       "347      관세청 정책기자단 2기\n",
       "367      관세청 정책기자단 2기\n",
       "561      관세청 정책기자단 2기\n",
       "585      관세청 정책기자단 2기\n",
       "605      관세청 정책기자단 2기\n",
       "660      관세청 정책기자단 2기\n",
       "698      관세청 정책기자단 2기\n",
       "745      관세청 정책기자단 2기\n",
       "766      관세청 정책기자단 2기\n",
       "1117     관세청 정책기자단 2기\n",
       "1183     관세청 정책기자단 2기\n",
       "1203     관세청 정책기자단 2기\n",
       "1366     관세청 정책기자단 2기\n",
       "1387     관세청 정책기자단 2기\n",
       "Name: 3, dtype: object"
      ]
     },
     "execution_count": 72,
     "metadata": {},
     "output_type": "execute_result"
    }
   ],
   "source": [
    "four[four.str.contains(\"관세청 정책기자단 2기\")==True]"
   ]
  },
  {
   "cell_type": "code",
   "execution_count": 73,
   "metadata": {},
   "outputs": [],
   "source": [
    "df.at[four[four.str.contains(\"관세청 정책기자단 2기\")==True].index,[\"경험사항\"]]=four[four.str.contains(\"관세청 정책기자단 2기\")==True]"
   ]
  },
  {
   "cell_type": "code",
   "execution_count": 74,
   "metadata": {},
   "outputs": [],
   "source": [
    "four[four.str.contains(\"관세청 정책기자단 2기\")==True]=\"\""
   ]
  },
  {
   "cell_type": "code",
   "execution_count": 75,
   "metadata": {},
   "outputs": [
    {
     "data": {
      "text/plain": [
       "269     청년TLO근무 (19.05.01~19.10.30), 돌봄교실 봉사단(17.08.0...\n",
       "279     청년TLO근무 (19.05.01~19.10.30)\\n 돌봄교실 봉사단(17.08....\n",
       "341     청년TLO근무 (19.05.01~19.10.30), 돌봄교실 봉사단(17.08.0...\n",
       "346     청년TLO근무 (19.05.01~19.10.30)\\n 돌봄교실 봉사단(17.08....\n",
       "361     청년TLO근무 (19.05.01~19.10.30), 돌봄교실 봉사단(17.08.0...\n",
       "366     청년TLO근무 (19.05.01~19.10.30)\\n 돌봄교실 봉사단(17.08....\n",
       "418     청년TLO근무 (19.05.01~19.10.30), 돌봄교실 봉사단(17.08.0...\n",
       "428     청년TLO근무 (19.05.01~19.10.30), 돌봄교실 봉사단(17.08.0...\n",
       "450     청년TLO근무 (19.05.01~19.10.30), 돌봄교실 봉사단(17.08.0...\n",
       "513     청년TLO근무 (19.05.01~19.10.30), 돌봄교실 봉사단(17.08.0...\n",
       "531     청년TLO근무 (19.05.01~19.10.30), 돌봄교실 봉사단(17.08.0...\n",
       "644     청년TLO근무 (19.05.01~19.10.30), 돌봄교실 봉사단(17.08.0...\n",
       "679     청년TLO근무 (19.05.01~19.10.30), 돌봄교실 봉사단(17.08.0...\n",
       "719     청년TLO근무 (19.05.01~19.10.30), 돌봄교실 봉사단(17.08.0...\n",
       "739     청년TLO근무 (19.05.01~19.10.30), 돌봄교실 봉사단(17.08.0...\n",
       "765     청년TLO근무 (19.05.01~19.10.30), 돌봄교실 봉사단(17.08.0...\n",
       "Name: 3, dtype: object"
      ]
     },
     "execution_count": 75,
     "metadata": {},
     "output_type": "execute_result"
    }
   ],
   "source": [
    "four[four.str.contains(\"TLO\")==True]"
   ]
  },
  {
   "cell_type": "code",
   "execution_count": 76,
   "metadata": {},
   "outputs": [],
   "source": [
    "df.at[four[four.str.contains(\"TLO\")==True].index,[\"경험사항\"]]=four[four.str.contains(\"TLO\")==True]"
   ]
  },
  {
   "cell_type": "code",
   "execution_count": 77,
   "metadata": {},
   "outputs": [],
   "source": [
    "four[four.str.contains(\"TLO\")==True]=\"\""
   ]
  },
  {
   "cell_type": "code",
   "execution_count": 78,
   "metadata": {},
   "outputs": [
    {
     "data": {
      "text/plain": [
       "Series([], Name: 3, dtype: object)"
      ]
     },
     "execution_count": 78,
     "metadata": {},
     "output_type": "execute_result"
    }
   ],
   "source": [
    "four[four.isin([\"컴퓨터활용능력 2급\"])==True]"
   ]
  },
  {
   "cell_type": "code",
   "execution_count": 79,
   "metadata": {},
   "outputs": [
    {
     "data": {
      "text/plain": [
       "1110     컴퓨터활용능력 2급, 한국사능력검정1급, 토목기사\n",
       "1177     컴퓨터활용능력 2급, 한국사능력검정1급, 토목기사\n",
       "Name: 3, dtype: object"
      ]
     },
     "execution_count": 79,
     "metadata": {},
     "output_type": "execute_result"
    }
   ],
   "source": [
    "four[four.str.find(\"컴퓨터활용능력 2급, 한국사\")==True]"
   ]
  },
  {
   "cell_type": "code",
   "execution_count": 80,
   "metadata": {},
   "outputs": [],
   "source": [
    "df.at[four[four.str.find(\"컴퓨터활용능력 2급, 한국사\")==True].index,[\"자격증\"]]=four[four.str.find(\"컴퓨터활용능력 2급, 한국사\")==True]"
   ]
  },
  {
   "cell_type": "code",
   "execution_count": 81,
   "metadata": {},
   "outputs": [],
   "source": [
    "four[four.str.find(\"컴퓨터활용능력 2급, 한국사\")==True]=\"\""
   ]
  },
  {
   "cell_type": "code",
   "execution_count": 82,
   "metadata": {},
   "outputs": [
    {
     "data": {
      "text/plain": [
       "5                                              컴퓨터활용능력 2급\n",
       "36       경북대학교 이종격투기 동아리 회장 (12개월), 경북대학교 총동아리연합회 홍보부장...\n",
       "37       컴퓨터활용능력 2급, 사무자동화산업기사, 한국사능력검정시험 2급, ERP정보관리사...\n",
       "58       경북대학교 이종격투기 동아리 회장 (12개월), 경북대학교 총동아리연합회 홍보부장...\n",
       "59       컴퓨터활용능력 2급, 사무자동화산업기사, 한국사능력검정시험 2급, ERP정보관리사...\n",
       "                              ...                        \n",
       "3149                                           컴퓨터활용능력 2급\n",
       "3169                                           컴퓨터활용능력 2급\n",
       "3246                                           컴퓨터활용능력 2급\n",
       "3358     교내 창업동아리(1년), 에너지인력양성사업(1년), 해외취업프론티어(6개월), 기...\n",
       "3475     교내 창업동아리(1년), 에너지인력양성사업(1년), 해외취업프론티어(6개월), 기...\n",
       "Name: 3, Length: 64, dtype: object"
      ]
     },
     "execution_count": 82,
     "metadata": {},
     "output_type": "execute_result"
    }
   ],
   "source": [
    "four[four.str.contains(\"컴퓨터활용능력 2급\")==True]"
   ]
  },
  {
   "cell_type": "code",
   "execution_count": 83,
   "metadata": {},
   "outputs": [
    {
     "data": {
      "text/plain": [
       "29                정보처리기사 \n",
       "47                정보처리기사 \n",
       "6834     정보처리기사 ccna mcse\n",
       "7065     정보처리기사 ccna mcse\n",
       "Name: 3, dtype: object"
      ]
     },
     "execution_count": 83,
     "metadata": {},
     "output_type": "execute_result"
    }
   ],
   "source": [
    "four[four.str.find(\"정보처리기사 \")==True]"
   ]
  },
  {
   "cell_type": "code",
   "execution_count": 84,
   "metadata": {},
   "outputs": [],
   "source": [
    "df.at[four[four.str.find(\"정보처리기사 \")==True].index,[\"자격증\"]]=four[four.str.find(\"정보처리기사 \")==True]"
   ]
  },
  {
   "cell_type": "code",
   "execution_count": 85,
   "metadata": {},
   "outputs": [],
   "source": [
    "four[four.str.find(\"정보처리기사 \")==True]=\"\""
   ]
  },
  {
   "cell_type": "code",
   "execution_count": 86,
   "metadata": {},
   "outputs": [
    {
     "data": {
      "text/plain": [
       "82     한국사 1급 \n",
       "Name: 3, dtype: object"
      ]
     },
     "execution_count": 86,
     "metadata": {},
     "output_type": "execute_result"
    }
   ],
   "source": [
    "four[four.str.find(\"한국사 \")==True]"
   ]
  },
  {
   "cell_type": "code",
   "execution_count": 87,
   "metadata": {},
   "outputs": [],
   "source": [
    "df.at[four[four.str.find(\"한국사 \")==True].index,[\"자격증\"]]=four[four.str.find(\"한국사 \")==True]"
   ]
  },
  {
   "cell_type": "code",
   "execution_count": 88,
   "metadata": {},
   "outputs": [],
   "source": [
    "four[four.str.find(\"한국사 \")==True]=\"\""
   ]
  },
  {
   "cell_type": "code",
   "execution_count": 89,
   "metadata": {},
   "outputs": [
    {
     "data": {
      "text/plain": [
       "417     컴활2급, 투자자산운용사\n",
       "582     컴활2급, 투자자산운용사\n",
       "602     컴활2급, 투자자산운용사\n",
       "Name: 3, dtype: object"
      ]
     },
     "execution_count": 89,
     "metadata": {},
     "output_type": "execute_result"
    }
   ],
   "source": [
    "four[four.str.contains(\"투자자산\")==True]"
   ]
  },
  {
   "cell_type": "code",
   "execution_count": 90,
   "metadata": {},
   "outputs": [],
   "source": [
    "df.at[four[four.str.contains(\"투자자산\")==True].index,[\"자격증\"]]=four[four.str.contains(\"투자자산\")==True]\n"
   ]
  },
  {
   "cell_type": "code",
   "execution_count": 91,
   "metadata": {},
   "outputs": [],
   "source": [
    "four[four.str.contains(\"투자자산\")==True]=\"\""
   ]
  },
  {
   "cell_type": "code",
   "execution_count": 92,
   "metadata": {},
   "outputs": [
    {
     "data": {
      "text/plain": [
       "589      정보처리기사\n",
       "595      정보처리기사\n",
       "609      정보처리기사\n",
       "615      정보처리기사\n",
       "681      정보처리기사\n",
       "692      정보처리기사\n",
       "1036     정보처리기사\n",
       "1129     정보처리기사\n",
       "3070     정보처리기사\n",
       "3184     정보처리기사\n",
       "Name: 3, dtype: object"
      ]
     },
     "execution_count": 92,
     "metadata": {},
     "output_type": "execute_result"
    }
   ],
   "source": [
    "four[four.str.contains(\"정보처리기사$\")==True]"
   ]
  },
  {
   "cell_type": "code",
   "execution_count": 93,
   "metadata": {},
   "outputs": [],
   "source": [
    "df.at[four[four.str.contains(\"정보처리기사$\")==True].index,[\"자격증\"]]=four[four.str.contains(\"정보처리기사$\")==True]"
   ]
  },
  {
   "cell_type": "code",
   "execution_count": 94,
   "metadata": {},
   "outputs": [],
   "source": [
    "four[four.str.contains(\"정보처리기사$\")==True]=\"\""
   ]
  },
  {
   "cell_type": "code",
   "execution_count": 95,
   "metadata": {},
   "outputs": [
    {
     "data": {
      "text/plain": [
       "201                  토목기사\n",
       "234                  토목기사\n",
       "237                  토목기사\n",
       "254                  토목기사\n",
       "257                  토목기사\n",
       "328                  토목기사\n",
       "329                  토목기사\n",
       "567      컴퓨터활용능력 1급, 토목기사\n",
       "587      컴퓨터활용능력 1급, 토목기사\n",
       "588                  토목기사\n",
       "591                  토목기사\n",
       "607      컴퓨터활용능력 1급, 토목기사\n",
       "608                  토목기사\n",
       "611                  토목기사\n",
       "662      컴퓨터활용능력 1급, 토목기사\n",
       "677      컴퓨터활용능력 1급, 토목기사\n",
       "684                  토목기사\n",
       "686      컴퓨터활용능력 1급, 토목기사\n",
       "687                  토목기사\n",
       "753      컴퓨터활용능력 1급, 토목기사\n",
       "1227                 토목기사\n",
       "Name: 3, dtype: object"
      ]
     },
     "execution_count": 95,
     "metadata": {},
     "output_type": "execute_result"
    }
   ],
   "source": [
    "four[four.str.contains(\"토목기사$\")==True]"
   ]
  },
  {
   "cell_type": "code",
   "execution_count": 96,
   "metadata": {},
   "outputs": [],
   "source": [
    "df.at[four[four.str.contains(\"토목기사$\")==True].index,[\"자격증\"]]=four[four.str.contains(\"토목기사$\")==True]"
   ]
  },
  {
   "cell_type": "code",
   "execution_count": 97,
   "metadata": {},
   "outputs": [],
   "source": [
    "four[four.str.contains(\"토목기사$\")==True]=\"\""
   ]
  },
  {
   "cell_type": "code",
   "execution_count": 98,
   "metadata": {},
   "outputs": [
    {
     "data": {
      "text/plain": [
       "671     품질경영기사, 컴활 2급\n",
       "760     품질경영기사, 컴활 2급\n",
       "Name: 3, dtype: object"
      ]
     },
     "execution_count": 98,
     "metadata": {},
     "output_type": "execute_result"
    }
   ],
   "source": [
    "four[four.str.contains(\"품질경영기사\")==True]"
   ]
  },
  {
   "cell_type": "code",
   "execution_count": 99,
   "metadata": {},
   "outputs": [],
   "source": [
    "df.at[four[four.str.contains(\"품질경영기사\")==True].index,[\"자격증\"]]=four[four.str.contains(\"품질경영기사\")==True]\n"
   ]
  },
  {
   "cell_type": "code",
   "execution_count": 100,
   "metadata": {},
   "outputs": [],
   "source": [
    "four[four.str.contains(\"품질경영기사\")==True]=\"\""
   ]
  },
  {
   "cell_type": "code",
   "execution_count": 101,
   "metadata": {},
   "outputs": [
    {
     "data": {
      "text/plain": [
       "1419    4.00 \n",
       "1433    4.00 \n",
       "1453    4.00 \n",
       "3376    4.00 \n",
       "3498    4.00 \n",
       "6931    4.00 \n",
       "7151    4.00 \n",
       "Name: 3, dtype: object"
      ]
     },
     "execution_count": 101,
     "metadata": {},
     "output_type": "execute_result"
    }
   ],
   "source": [
    "four[four.str.contains(\"4.00\")==True]"
   ]
  },
  {
   "cell_type": "code",
   "execution_count": 102,
   "metadata": {},
   "outputs": [],
   "source": [
    "df.at[four[four.str.contains(\"4.00\")==True].index,[\"학점\"]]=four[four.str.contains(\"4.00\")==True]"
   ]
  },
  {
   "cell_type": "code",
   "execution_count": 103,
   "metadata": {},
   "outputs": [],
   "source": [
    "four[four.str.contains(\"4.00\")==True]=\"\""
   ]
  },
  {
   "cell_type": "code",
   "execution_count": 104,
   "metadata": {},
   "outputs": [
    {
     "data": {
      "text/plain": [
       "793     안랩 학생기자단, 생산성본부 주관 AI 성과발표회 우수상\n",
       "804     안랩 학생기자단, 생산성본부 주관 AI 성과발표회 우수상\n",
       "Name: 3, dtype: object"
      ]
     },
     "execution_count": 104,
     "metadata": {},
     "output_type": "execute_result"
    }
   ],
   "source": [
    "four[four.str.contains(\"성과발표회 우수상\")==True]"
   ]
  },
  {
   "cell_type": "code",
   "execution_count": 105,
   "metadata": {},
   "outputs": [],
   "source": [
    "df.at[four[four.str.contains(\"성과발표회 우수상\")==True].index,[\"경험사항\"]]=four[four.str.contains(\"성과발표회 우수상\")==True]"
   ]
  },
  {
   "cell_type": "code",
   "execution_count": 106,
   "metadata": {},
   "outputs": [],
   "source": [
    "four[four.str.contains(\"성과발표회 우수상\")==True]=\"\""
   ]
  },
  {
   "cell_type": "code",
   "execution_count": 107,
   "metadata": {},
   "outputs": [
    {
     "data": {
      "text/plain": [
       "423      4.5 \n",
       "511      4.5 \n",
       "813      4.5 \n",
       "822      4.5 \n",
       "842      4.5 \n",
       "         ... \n",
       "9989     4.5 \n",
       "9990     4.5 \n",
       "10009    4.5 \n",
       "10010    4.5 \n",
       "10075    4.5 \n",
       "Name: 3, Length: 217, dtype: object"
      ]
     },
     "execution_count": 107,
     "metadata": {},
     "output_type": "execute_result"
    }
   ],
   "source": [
    "four[four.str.contains(\"4.5\")==True]"
   ]
  },
  {
   "cell_type": "code",
   "execution_count": 108,
   "metadata": {},
   "outputs": [],
   "source": [
    "df.at[four[four.str.contains(\"4.5\")==True].index,[\"학점\"]]=four[four.str.contains(\"4.5\")==True]"
   ]
  },
  {
   "cell_type": "code",
   "execution_count": 109,
   "metadata": {},
   "outputs": [],
   "source": [
    "four[four.str.contains(\"4.5\")==True]=\"\""
   ]
  },
  {
   "cell_type": "code",
   "execution_count": 110,
   "metadata": {},
   "outputs": [
    {
     "data": {
      "text/plain": [
       "814     세계 여행 3년, 물류 포워딩 업체 근무 경험\n",
       "823     세계 여행 3년, 물류 포워딩 업체 근무 경험\n",
       "843     세계 여행 3년, 물류 포워딩 업체 근무 경험\n",
       "Name: 3, dtype: object"
      ]
     },
     "execution_count": 110,
     "metadata": {},
     "output_type": "execute_result"
    }
   ],
   "source": [
    "four[four.str.contains(\"세계 여행\")==True]"
   ]
  },
  {
   "cell_type": "code",
   "execution_count": 111,
   "metadata": {},
   "outputs": [],
   "source": [
    "df.at[four[four.str.contains(\"세계 여행\")==True].index,[\"경험사항\"]]=four[four.str.contains(\"세계 여행\")==True]"
   ]
  },
  {
   "cell_type": "code",
   "execution_count": 112,
   "metadata": {},
   "outputs": [],
   "source": [
    "four[four.str.contains(\"세계 여행\")==True]=\"\""
   ]
  },
  {
   "cell_type": "code",
   "execution_count": 113,
   "metadata": {},
   "outputs": [
    {
     "data": {
      "text/plain": [
       "895      인턴 1, 대외활동 2\n",
       "993      인턴 1, 대외활동 2\n",
       "5722     인턴 1, 대외활동 2\n",
       "5762     인턴 1, 대외활동 2\n",
       "Name: 3, dtype: object"
      ]
     },
     "execution_count": 113,
     "metadata": {},
     "output_type": "execute_result"
    }
   ],
   "source": [
    "four[four.str.contains(\"인턴 1, 대외활동\")==True]"
   ]
  },
  {
   "cell_type": "code",
   "execution_count": 114,
   "metadata": {},
   "outputs": [],
   "source": [
    "df.at[four[four.str.contains(\"인턴 1, 대외활동\")==True].index,[\"경험사항\"]]=four[four.str.contains(\"인턴 1, 대외활동\")==True]\n"
   ]
  },
  {
   "cell_type": "code",
   "execution_count": 115,
   "metadata": {},
   "outputs": [],
   "source": [
    "four[four.str.contains(\"인턴 1, 대외활동\")==True]=\"\""
   ]
  },
  {
   "cell_type": "code",
   "execution_count": 116,
   "metadata": {},
   "outputs": [
    {
     "data": {
      "text/plain": [
       "869           4.3 \n",
       "915           4.3 \n",
       "1543     4.3, 3.63\n",
       "1563     4.3, 3.63\n",
       "2225          4.3 \n",
       "2383          4.3 \n",
       "2403          4.3 \n",
       "3738     4.3 (석사) \n",
       "3839     4.3 (석사) \n",
       "3953          4.3 \n",
       "5251          4.3 \n",
       "5281          4.3 \n",
       "5285          4.3 \n",
       "5295          4.3 \n",
       "5364          4.3 \n",
       "5406          4.3 \n",
       "5430          4.3 \n",
       "5436          4.3 \n",
       "5450          4.3 \n",
       "5456          4.3 \n",
       "5462          4.3 \n",
       "5513          4.3 \n",
       "5947     (석사)4.32 \n",
       "6151     (석사)4.32 \n",
       "6171     (석사)4.32 \n",
       "6250       4.3(석) \n",
       "6380          4.3 \n",
       "6400          4.3 \n",
       "6475          4.3 \n",
       "6613          4.3 \n",
       "6682          4.3 \n",
       "6797          4.3 \n",
       "6869       4.3(석) \n",
       "6889       4.3(석) \n",
       "7031          4.3 \n",
       "7948          4.3 \n",
       "7968          4.3 \n",
       "8055          4.3 \n",
       "8138          4.3 \n",
       "8355          4.3 \n",
       "8415          4.3 \n",
       "8591          4.3 \n",
       "8724          4.3 \n",
       "8740          4.3 \n",
       "8833          4.3 \n",
       "8854     석사(4.36) \n",
       "8877          4.3 \n",
       "8890          4.3 \n",
       "8937          4.3 \n",
       "9014          4.3 \n",
       "9044     석사(4.36) \n",
       "9134          4.3 \n",
       "9502          4.3 \n",
       "9507          4.3 \n",
       "9792          4.3 \n",
       "9877          4.3 \n",
       "9897          4.3 \n",
       "9946          4.3 \n",
       "Name: 3, dtype: object"
      ]
     },
     "execution_count": 116,
     "metadata": {},
     "output_type": "execute_result"
    }
   ],
   "source": [
    "four[four.str.contains(\"4.3\")==True]"
   ]
  },
  {
   "cell_type": "code",
   "execution_count": 117,
   "metadata": {},
   "outputs": [],
   "source": [
    "df.at[four[four.str.contains(\"4.3\")==True].index,[\"학점\"]]=four[four.str.contains(\"4.3\")==True]\n"
   ]
  },
  {
   "cell_type": "code",
   "execution_count": 118,
   "metadata": {},
   "outputs": [],
   "source": [
    "four[four.str.contains(\"4.3\")==True]=\"\""
   ]
  },
  {
   "cell_type": "code",
   "execution_count": 119,
   "metadata": {},
   "outputs": [
    {
     "data": {
      "text/plain": [
       "220      교내 마케팅동아리 1년, 스피치대회 시장상, IBK기업은행 체험형인턴(2018하계...\n",
       "240      교내 마케팅동아리 1년, 스피치대회 시장상, IBK기업은행 체험형인턴(2018하계...\n",
       "322      교내 마케팅동아리 1년, 스피치대회 시장상, IBK기업은행 체험형인턴(2018하계...\n",
       "449      교내 마케팅동아리 1년, 스피치대회 시장상, IBK기업은행 체험형인턴(2018하계...\n",
       "530      교내 마케팅동아리 1년, 스피치대회 시장상, IBK기업은행 체험형인턴(2018하계...\n",
       "668      교내 마케팅동아리 1년, 스피치대회 시장상, IBK기업은행 체험형인턴(2018하계...\n",
       "872      교내 마케팅동아리 1년, 스피치대회 시장상, IBK기업은행 체험형인턴(2018하계...\n",
       "941      교내 마케팅동아리 1년, 스피치대회 시장상, IBK기업은행 체험형인턴(2018하계...\n",
       "961      교내 마케팅동아리 1년, 스피치대회 시장상, IBK기업은행 체험형인턴(2018하계...\n",
       "1101     교내 마케팅동아리 1년, 스피치대회 시장상, IBK기업은행 체험형인턴(2018하계...\n",
       "1173     교내 마케팅동아리 1년, 스피치대회 시장상, IBK기업은행 체험형인턴(2018하계...\n",
       "1296     교내 마케팅동아리 1년, 스피치대회 시장상, IBK기업은행 체험형인턴(2018하계...\n",
       "1388     교내 마케팅동아리 1년, 스피치대회 시장상, IBK기업은행 체험형인턴(2018하계...\n",
       "1610       교내 마케팅동아리 1년, 스피치대회 시장상, IBK기업은행 체험형인턴(2018하계)\n",
       "1752       교내 마케팅동아리 1년, 스피치대회 시장상, IBK기업은행 체험형인턴(2018하계)\n",
       "1882       교내 마케팅동아리 1년, 스피치대회 시장상, IBK기업은행 체험형인턴(2018하계)\n",
       "2826                              교내 마케팅동아리 1년, 스피치대회 시장상\n",
       "2960                              교내 마케팅동아리 1년, 스피치대회 시장상\n",
       "Name: 3, dtype: object"
      ]
     },
     "execution_count": 119,
     "metadata": {},
     "output_type": "execute_result"
    }
   ],
   "source": [
    "four[four.str.contains(\"스피치대회 시장상\")==True]"
   ]
  },
  {
   "cell_type": "code",
   "execution_count": 120,
   "metadata": {},
   "outputs": [],
   "source": [
    "df.at[four[four.str.contains(\"스피치대회 시장상\")==True].index,[\"경험사항\"]]=four[four.str.contains(\"스피치대회 시장상\")==True]"
   ]
  },
  {
   "cell_type": "code",
   "execution_count": 121,
   "metadata": {},
   "outputs": [],
   "source": [
    "four[four.str.contains(\"스피치대회 시장상\")==True]=\"\""
   ]
  },
  {
   "cell_type": "code",
   "execution_count": 122,
   "metadata": {},
   "outputs": [
    {
     "data": {
      "text/plain": [
       "18       유앤트레블 인턴, 한국전력공사 인턴, 2019 하반기 말레이시아 해외봉사, 일본 ...\n",
       "908                                 한국전력공사 인턴(2017년 상반기) \n",
       "997                                 한국전력공사 인턴(2017년 상반기) \n",
       "1000                                한국전력공사 인턴(2017년 상반기) \n",
       "Name: 3, dtype: object"
      ]
     },
     "execution_count": 122,
     "metadata": {},
     "output_type": "execute_result"
    }
   ],
   "source": [
    "four[four.str.contains(\"한국전력공사 인턴\")==True]"
   ]
  },
  {
   "cell_type": "code",
   "execution_count": 123,
   "metadata": {},
   "outputs": [],
   "source": [
    "df.at[four[four.str.contains(\"한국전력공사 인턴\")==True].index,[\"경험사항\"]]=four[four.str.contains(\"한국전력공사 인턴\")==True]"
   ]
  },
  {
   "cell_type": "code",
   "execution_count": 124,
   "metadata": {},
   "outputs": [],
   "source": [
    "four[four.str.contains(\"한국전력공사 인턴\")==True]=\"\""
   ]
  },
  {
   "cell_type": "code",
   "execution_count": 125,
   "metadata": {},
   "outputs": [
    {
     "data": {
      "text/plain": [
       "65       봉사활동 470시간(헌혈 81회 포함), 교내 도서관 홍보대사, 대한적십자사 헌혈...\n",
       "1056     봉사활동 470시간(헌혈 81회 포함), 교내 도서관 홍보대사, 대한적십자사 헌혈...\n",
       "1143     봉사활동 470시간(헌혈 81회 포함), 교내 도서관 홍보대사, 대한적십자사 헌혈...\n",
       "1241     봉사활동 470시간(헌혈 81회 포함), 교내 도서관 홍보대사, 대한적십자사 헌혈...\n",
       "1259     봉사활동 470시간(헌혈 81회 포함), 교내 도서관 홍보대사, 대한적십자사 헌혈...\n",
       "1261     봉사활동 470시간(헌혈 81회 포함), 교내 도서관 홍보대사, 대한적십자사 헌혈...\n",
       "1304     봉사활동 470시간(헌혈 81회 포함), 교내 도서관 홍보대사, 대한적십자사 헌혈...\n",
       "1324     봉사활동 470시간(헌혈 81회 포함), 교내 도서관 홍보대사, 대한적십자사 헌혈...\n",
       "1349     봉사활동 470시간(헌혈 81회 포함), 교내 도서관 홍보대사, 대한적십자사 헌혈...\n",
       "1350     봉사활동 470시간(헌혈 81회 포함), 교내 도서관 홍보대사, 대한적십자사 헌혈...\n",
       "Name: 3, dtype: object"
      ]
     },
     "execution_count": 125,
     "metadata": {},
     "output_type": "execute_result"
    }
   ],
   "source": [
    "four[four.str.contains(\"470시간\")==True]"
   ]
  },
  {
   "cell_type": "code",
   "execution_count": 126,
   "metadata": {},
   "outputs": [],
   "source": [
    "df.at[four[four.str.contains(\"470시간\")==True].index,[\"경험사항\"]]=four[four.str.contains(\"470시간\")==True]"
   ]
  },
  {
   "cell_type": "code",
   "execution_count": 127,
   "metadata": {},
   "outputs": [],
   "source": [
    "four[four.str.contains(\"470시간\")==True]=\"\""
   ]
  },
  {
   "cell_type": "code",
   "execution_count": 128,
   "metadata": {},
   "outputs": [
    {
     "data": {
      "text/plain": [
       "654      해외 국제기구 인턴십 (6개월)\n",
       "749      해외 국제기구 인턴십 (6개월)\n",
       "1061     해외 국제기구 인턴십 (6개월)\n",
       "1081     해외 국제기구 인턴십 (6개월)\n",
       "1152     해외 국제기구 인턴십 (6개월)\n",
       "Name: 3, dtype: object"
      ]
     },
     "execution_count": 128,
     "metadata": {},
     "output_type": "execute_result"
    }
   ],
   "source": [
    "four[four.str.contains(\"국제기구\")==True]"
   ]
  },
  {
   "cell_type": "code",
   "execution_count": 129,
   "metadata": {},
   "outputs": [],
   "source": [
    "df.at[four[four.str.contains(\"국제기구\")==True].index,[\"경험사항\"]]=four[four.str.contains(\"국제기구\")==True]"
   ]
  },
  {
   "cell_type": "code",
   "execution_count": 130,
   "metadata": {},
   "outputs": [],
   "source": [
    "four[four.str.contains(\"국제기구\")==True]=\"\""
   ]
  },
  {
   "cell_type": "code",
   "execution_count": 131,
   "metadata": {},
   "outputs": [
    {
     "data": {
      "text/plain": [
       "1074     식품기사\n",
       "1094     식품기사\n",
       "1166     식품기사\n",
       "2329     식품기사\n",
       "2486     식품기사\n",
       "Name: 3, dtype: object"
      ]
     },
     "execution_count": 131,
     "metadata": {},
     "output_type": "execute_result"
    }
   ],
   "source": [
    "four[four.str.contains(\"식품기사$\")==True]"
   ]
  },
  {
   "cell_type": "code",
   "execution_count": 132,
   "metadata": {},
   "outputs": [],
   "source": [
    "df.at[four[four.str.contains(\"식품기사$\")==True].index,[\"자격증\"]]=four[four.str.contains(\"식품기사$\")==True]"
   ]
  },
  {
   "cell_type": "code",
   "execution_count": 133,
   "metadata": {},
   "outputs": [],
   "source": [
    "four[four.str.contains(\"식품기사$\")==True]=\"\""
   ]
  },
  {
   "cell_type": "code",
   "execution_count": 134,
   "metadata": {},
   "outputs": [
    {
     "data": {
      "text/plain": [
       "9973      인턴 2, 창업 2, 공모전 2, 동아리 1\n",
       "9996      인턴 2, 창업 2, 공모전 2, 동아리 1\n",
       "10016     인턴 2, 창업 2, 공모전 2, 동아리 1\n",
       "Name: 3, dtype: object"
      ]
     },
     "execution_count": 134,
     "metadata": {},
     "output_type": "execute_result"
    }
   ],
   "source": [
    "four[four.str.contains(\"인턴 2, 창업\")==True]"
   ]
  },
  {
   "cell_type": "code",
   "execution_count": 135,
   "metadata": {},
   "outputs": [],
   "source": [
    "df.at[four[four.str.contains(\"인턴 2, 창업\")==True].index,[\"경험사항\"]]=four[four.str.contains(\"인턴 2, 창업\")==True]"
   ]
  },
  {
   "cell_type": "code",
   "execution_count": 136,
   "metadata": {},
   "outputs": [],
   "source": [
    "four[four.str.contains(\"인턴 2, 창업\")==True]=\"\""
   ]
  },
  {
   "cell_type": "code",
   "execution_count": 137,
   "metadata": {},
   "outputs": [
    {
     "data": {
      "text/plain": [
       "6311     인턴1, 대외활동4\n",
       "Name: 3, dtype: object"
      ]
     },
     "execution_count": 137,
     "metadata": {},
     "output_type": "execute_result"
    }
   ],
   "source": [
    "four[four.str.contains(\"인턴1, 대외활동\")==True]"
   ]
  },
  {
   "cell_type": "code",
   "execution_count": 138,
   "metadata": {},
   "outputs": [],
   "source": [
    "df.at[four[four.str.contains(\"인턴1, 대외활동\")==True].index,[\"경험사항\"]]=four[four.str.contains(\"인턴1, 대외활동\")==True]"
   ]
  },
  {
   "cell_type": "code",
   "execution_count": 139,
   "metadata": {},
   "outputs": [],
   "source": [
    "four[four.str.contains(\"인턴1, 대외활동\")==True]=\"\""
   ]
  },
  {
   "cell_type": "code",
   "execution_count": 140,
   "metadata": {},
   "outputs": [],
   "source": [
    "four[four.str.contains(\"4$\")==True]=\"학점 4.0\""
   ]
  },
  {
   "cell_type": "code",
   "execution_count": 141,
   "metadata": {},
   "outputs": [],
   "source": [
    "df.at[four[four.str.contains(\"학점 4.0\")==True].index,[\"학점\"]]=four[four.str.contains(\"학점 4.0\")==True]"
   ]
  },
  {
   "cell_type": "code",
   "execution_count": 142,
   "metadata": {},
   "outputs": [],
   "source": [
    "four[four.str.contains(\"학점 4.0\")==True]=\"\""
   ]
  },
  {
   "cell_type": "code",
   "execution_count": 143,
   "metadata": {},
   "outputs": [],
   "source": [
    "four[four.str.contains(\"4.0$\")==True]=\"학점 4.0\""
   ]
  },
  {
   "cell_type": "code",
   "execution_count": 144,
   "metadata": {},
   "outputs": [],
   "source": [
    "df.at[four[four.str.contains(\"학점 4.0\")==True].index,[\"학점\"]]=four[four.str.contains(\"학점 4.0\")==True]"
   ]
  },
  {
   "cell_type": "code",
   "execution_count": 145,
   "metadata": {},
   "outputs": [],
   "source": [
    "four[four.str.contains(\"학점 4.0\")==True]=\"\""
   ]
  },
  {
   "cell_type": "code",
   "execution_count": 146,
   "metadata": {},
   "outputs": [
    {
     "data": {
      "text/plain": [
       "1516     관련직종 경력 합 4년\n",
       "1531     관련직종 경력 합 4년\n",
       "Name: 3, dtype: object"
      ]
     },
     "execution_count": 146,
     "metadata": {},
     "output_type": "execute_result"
    }
   ],
   "source": [
    "four[four.str.contains(\"관련직종 경력 합\")==True]"
   ]
  },
  {
   "cell_type": "code",
   "execution_count": 147,
   "metadata": {},
   "outputs": [],
   "source": [
    "df.at[four[four.str.contains(\"관련직종 경력 합\")==True].index,[\"경험사항\"]]=four[four.str.contains(\"관련직종 경력 합\")==True]"
   ]
  },
  {
   "cell_type": "code",
   "execution_count": 148,
   "metadata": {},
   "outputs": [],
   "source": [
    "four[four.str.contains(\"관련직종 경력 합\")==True]=\"\""
   ]
  },
  {
   "cell_type": "code",
   "execution_count": 149,
   "metadata": {},
   "outputs": [
    {
     "data": {
      "text/plain": [
       "1270     교내활동, 학과 학생회장 교육, 품질관리 교육 490시간\n",
       "Name: 3, dtype: object"
      ]
     },
     "execution_count": 149,
     "metadata": {},
     "output_type": "execute_result"
    }
   ],
   "source": [
    "four[four.str.contains(\"품질관리 교육\")==True]"
   ]
  },
  {
   "cell_type": "code",
   "execution_count": 150,
   "metadata": {},
   "outputs": [],
   "source": [
    "df.at[four[four.str.contains(\"품질관리 교육\")==True].index,[\"경험사항\"]]=four[four.str.contains(\"품질관리 교육\")==True]"
   ]
  },
  {
   "cell_type": "code",
   "execution_count": 151,
   "metadata": {},
   "outputs": [],
   "source": [
    "four[four.str.contains(\"품질관리 교육\")==True]=\"\""
   ]
  },
  {
   "cell_type": "code",
   "execution_count": 152,
   "metadata": {},
   "outputs": [
    {
     "data": {
      "text/plain": [
       "9983      석사 4.0 \n",
       "10003     석사 4.0 \n",
       "Name: 3, dtype: object"
      ]
     },
     "execution_count": 152,
     "metadata": {},
     "output_type": "execute_result"
    }
   ],
   "source": [
    "four[four.str.contains(\"석사 4.0\")==True]"
   ]
  },
  {
   "cell_type": "code",
   "execution_count": 153,
   "metadata": {},
   "outputs": [],
   "source": [
    "df.at[four[four.str.contains(\"석사 4.0\")==True].index,[\"학점\"]]=four[four.str.contains(\"석사 4.0\")==True]"
   ]
  },
  {
   "cell_type": "code",
   "execution_count": 154,
   "metadata": {},
   "outputs": [],
   "source": [
    "four[four.str.contains(\"석사 4.0\")==True]=\"\""
   ]
  },
  {
   "cell_type": "code",
   "execution_count": 155,
   "metadata": {},
   "outputs": [],
   "source": [
    "four[four.str.contains(\"4.06\")==True]=\"학점 4.06\""
   ]
  },
  {
   "cell_type": "code",
   "execution_count": 156,
   "metadata": {},
   "outputs": [],
   "source": [
    "df.at[four[four.str.contains(\"학점 4.06\")==True].index,[\"학점\"]]=four[four.str.contains(\"학점 4.06\")==True]"
   ]
  },
  {
   "cell_type": "code",
   "execution_count": 157,
   "metadata": {},
   "outputs": [],
   "source": [
    "four[four.str.contains(\"학점 4.06\")==True]=\"\""
   ]
  },
  {
   "cell_type": "code",
   "execution_count": 158,
   "metadata": {},
   "outputs": [
    {
     "data": {
      "text/plain": [
       "9936     봉사활동 5년, 프리랜서 강사 2회, 공모전 입선 4회, 졸업전시 은상 1회\n",
       "Name: 3, dtype: object"
      ]
     },
     "execution_count": 158,
     "metadata": {},
     "output_type": "execute_result"
    }
   ],
   "source": [
    "four[four.str.contains(\"봉사활동 5년\")==True]"
   ]
  },
  {
   "cell_type": "code",
   "execution_count": 159,
   "metadata": {},
   "outputs": [],
   "source": [
    "df.at[four[four.str.contains(\"봉사활동 5년\")==True].index,[\"경험사항\"]]=four[four.str.contains(\"봉사활동 5년\")==True]"
   ]
  },
  {
   "cell_type": "code",
   "execution_count": 160,
   "metadata": {},
   "outputs": [],
   "source": [
    "four[four.str.contains(\"봉사활동 5년\")==True]=\"\""
   ]
  },
  {
   "cell_type": "code",
   "execution_count": 161,
   "metadata": {},
   "outputs": [
    {
     "data": {
      "text/plain": [
       "0                           NaN\n",
       "1                           NaN\n",
       "2              컴퓨터활용능력1급, 한국사1급\n",
       "3         토론동아리 3년, 컴활1급, 한국사1급\n",
       "4                              \n",
       "                  ...          \n",
       "10102                       NaN\n",
       "10103                       NaN\n",
       "10104                       NaN\n",
       "10105                       NaN\n",
       "10106                       NaN\n",
       "Name: 3, Length: 10107, dtype: object"
      ]
     },
     "execution_count": 161,
     "metadata": {},
     "output_type": "execute_result"
    }
   ],
   "source": [
    "four"
   ]
  },
  {
   "cell_type": "code",
   "execution_count": 162,
   "metadata": {
    "scrolled": false
   },
   "outputs": [
    {
     "data": {
      "text/html": [
       "<div>\n",
       "<style scoped>\n",
       "    .dataframe tbody tr th:only-of-type {\n",
       "        vertical-align: middle;\n",
       "    }\n",
       "\n",
       "    .dataframe tbody tr th {\n",
       "        vertical-align: top;\n",
       "    }\n",
       "\n",
       "    .dataframe thead th {\n",
       "        text-align: right;\n",
       "    }\n",
       "</style>\n",
       "<table border=\"1\" class=\"dataframe\">\n",
       "  <thead>\n",
       "    <tr style=\"text-align: right;\">\n",
       "      <th></th>\n",
       "      <th>Unnamed: 0</th>\n",
       "      <th>Unnamed: 0.1</th>\n",
       "      <th>Unnamed: 0.1.1</th>\n",
       "      <th>Unnamed: 0.1.1.1</th>\n",
       "      <th>기업명</th>\n",
       "      <th>지원부서</th>\n",
       "      <th>지원시기</th>\n",
       "      <th>학교</th>\n",
       "      <th>학과</th>\n",
       "      <th>학점</th>\n",
       "      <th>어학</th>\n",
       "      <th>자격증</th>\n",
       "      <th>경험사항</th>\n",
       "      <th>자소서</th>\n",
       "    </tr>\n",
       "  </thead>\n",
       "  <tbody>\n",
       "    <tr>\n",
       "      <th>0</th>\n",
       "      <td>0</td>\n",
       "      <td>0</td>\n",
       "      <td>0</td>\n",
       "      <td>0</td>\n",
       "      <td>한국석유공사</td>\n",
       "      <td>설비</td>\n",
       "      <td>2020 상반기</td>\n",
       "      <td>NaN</td>\n",
       "      <td>전자공학과</td>\n",
       "      <td>학점 1.7등급</td>\n",
       "      <td>NaN</td>\n",
       "      <td>NaN</td>\n",
       "      <td>인천 글로벌 숙련 진흥원, 선반, 용접 ,특수용접, 설비보전</td>\n",
       "      <td>7.한국석유공사\\n\\n 1. 지원 분야 직무기술서 ‘직무수행 내용’ 중 본인이 가장...</td>\n",
       "    </tr>\n",
       "    <tr>\n",
       "      <th>1</th>\n",
       "      <td>1</td>\n",
       "      <td>1</td>\n",
       "      <td>1</td>\n",
       "      <td>1</td>\n",
       "      <td>CJ제일제당</td>\n",
       "      <td>Food Sales</td>\n",
       "      <td>2020 상반기</td>\n",
       "      <td>서울사립대(중앙대학교)</td>\n",
       "      <td>상경계열학과</td>\n",
       "      <td>학점 3.92</td>\n",
       "      <td>토익 905, 토스 LV 6</td>\n",
       "      <td>NaN</td>\n",
       "      <td>봉사활동 일부빼고는 전무.</td>\n",
       "      <td>CJ제일제당 및 선택한 직무에 대한 지원동기는 무엇인가요? ① 선택한 직무에 관심을...</td>\n",
       "    </tr>\n",
       "    <tr>\n",
       "      <th>2</th>\n",
       "      <td>2</td>\n",
       "      <td>2</td>\n",
       "      <td>2</td>\n",
       "      <td>2</td>\n",
       "      <td>한국가스안전공사</td>\n",
       "      <td>LP가스 안전지킴이사업</td>\n",
       "      <td>2020 상반기</td>\n",
       "      <td>지방거점국립대(제주대학교)</td>\n",
       "      <td>NaN</td>\n",
       "      <td>학점 3.3</td>\n",
       "      <td>토익830</td>\n",
       "      <td>NaN</td>\n",
       "      <td>NaN</td>\n",
       "      <td>\\n1. 한국가스안전공사가 진행하는 사업에 관심을 갖고 공사에 지원한 동기에 대해 ...</td>\n",
       "    </tr>\n",
       "    <tr>\n",
       "      <th>3</th>\n",
       "      <td>3</td>\n",
       "      <td>3</td>\n",
       "      <td>3</td>\n",
       "      <td>3</td>\n",
       "      <td>코레일</td>\n",
       "      <td>사무영업</td>\n",
       "      <td>2020 상반기</td>\n",
       "      <td>지방거점국립대(충남대학교)</td>\n",
       "      <td>NaN</td>\n",
       "      <td>학점 3.87</td>\n",
       "      <td>토익 835</td>\n",
       "      <td>NaN</td>\n",
       "      <td>NaN</td>\n",
       "      <td>1.공동체의 일원으로서 가장 중요하게 생각하는 가치를 제시하고, 그 가치를 실천했던...</td>\n",
       "    </tr>\n",
       "    <tr>\n",
       "      <th>4</th>\n",
       "      <td>4</td>\n",
       "      <td>4</td>\n",
       "      <td>4</td>\n",
       "      <td>4</td>\n",
       "      <td>한국기술교육대학교</td>\n",
       "      <td>행정</td>\n",
       "      <td>2020 상반기</td>\n",
       "      <td>서울사립대(건국대학교)</td>\n",
       "      <td>NaN</td>\n",
       "      <td>학점 4.0</td>\n",
       "      <td>토익 780</td>\n",
       "      <td>컴활 1급, 한국사1급</td>\n",
       "      <td>NaN</td>\n",
       "      <td>1. 본인이 가진 가장 뛰어난 점과 그렇게 판단한 이유, 고용노동연수원 업무수행에서...</td>\n",
       "    </tr>\n",
       "    <tr>\n",
       "      <th>...</th>\n",
       "      <td>...</td>\n",
       "      <td>...</td>\n",
       "      <td>...</td>\n",
       "      <td>...</td>\n",
       "      <td>...</td>\n",
       "      <td>...</td>\n",
       "      <td>...</td>\n",
       "      <td>...</td>\n",
       "      <td>...</td>\n",
       "      <td>...</td>\n",
       "      <td>...</td>\n",
       "      <td>...</td>\n",
       "      <td>...</td>\n",
       "      <td>...</td>\n",
       "    </tr>\n",
       "    <tr>\n",
       "      <th>10102</th>\n",
       "      <td>10102</td>\n",
       "      <td>10102</td>\n",
       "      <td>10102</td>\n",
       "      <td>10102</td>\n",
       "      <td>현대자동차</td>\n",
       "      <td>영업관리</td>\n",
       "      <td>2013 상반기</td>\n",
       "      <td>서울사립대(상명대학교)</td>\n",
       "      <td>국제통상학과</td>\n",
       "      <td>학점 4.3</td>\n",
       "      <td>토익 900, HSK 6급</td>\n",
       "      <td>NaN</td>\n",
       "      <td>해외인턴1회, 중국어 말하기 대회 1등, 와인바 매니저 1년 6개월 경력</td>\n",
       "      <td>1. 현대자동차에 지원하게 된 동기 또는 해당 직무에 지원하게 된 동기는 무엇입니까...</td>\n",
       "    </tr>\n",
       "    <tr>\n",
       "      <th>10103</th>\n",
       "      <td>10103</td>\n",
       "      <td>10103</td>\n",
       "      <td>10103</td>\n",
       "      <td>10103</td>\n",
       "      <td>심팩</td>\n",
       "      <td>용접관리</td>\n",
       "      <td>2013 상반기</td>\n",
       "      <td>전문대</td>\n",
       "      <td>공업화학과</td>\n",
       "      <td>학점 3.06</td>\n",
       "      <td>NaN</td>\n",
       "      <td>NaN</td>\n",
       "      <td>NaN</td>\n",
       "      <td>성격소개\\n\\n대부분의 사람들이 평가하는 첫인상은 소심하고 내성적인 성격일것이라 생...</td>\n",
       "    </tr>\n",
       "    <tr>\n",
       "      <th>10104</th>\n",
       "      <td>10104</td>\n",
       "      <td>10104</td>\n",
       "      <td>10104</td>\n",
       "      <td>10104</td>\n",
       "      <td>한국전력</td>\n",
       "      <td>인턴[송,배전]</td>\n",
       "      <td>2013 상반기</td>\n",
       "      <td>지방거점국립대</td>\n",
       "      <td>전자공학과</td>\n",
       "      <td>학점 3.7</td>\n",
       "      <td>토익 900대</td>\n",
       "      <td>NaN</td>\n",
       "      <td>음악봉사활동, 멘토링 등</td>\n",
       "      <td>[질문 1] 취업이라는 목표 이외에 인생의 큰 목표를 세운 경험, 그 목표를 실현하...</td>\n",
       "    </tr>\n",
       "    <tr>\n",
       "      <th>10105</th>\n",
       "      <td>10105</td>\n",
       "      <td>10105</td>\n",
       "      <td>10105</td>\n",
       "      <td>10105</td>\n",
       "      <td>한국전력</td>\n",
       "      <td>인턴[송,배전]</td>\n",
       "      <td>2013 상반기</td>\n",
       "      <td>지방거점국립대</td>\n",
       "      <td>전자공학과</td>\n",
       "      <td>학점 3.7</td>\n",
       "      <td>토익 900</td>\n",
       "      <td>NaN</td>\n",
       "      <td>음악봉사활동, 멘토링등</td>\n",
       "      <td>한전 자가소개서 양식 500자 12줄 이내\\n\\n[질문 1] 취업이라는 목표 이외에...</td>\n",
       "    </tr>\n",
       "    <tr>\n",
       "      <th>10106</th>\n",
       "      <td>10106</td>\n",
       "      <td>10106</td>\n",
       "      <td>10106</td>\n",
       "      <td>10106</td>\n",
       "      <td>한국전력</td>\n",
       "      <td>인턴[송,배전]</td>\n",
       "      <td>2013 상반기</td>\n",
       "      <td>지방거점국립대</td>\n",
       "      <td>전자공학과</td>\n",
       "      <td>학점 3.7</td>\n",
       "      <td>토익 900</td>\n",
       "      <td>NaN</td>\n",
       "      <td>음악봉사활동, 멘토링등</td>\n",
       "      <td>한전 자가소개서 양식 500자 12줄 이내\\n\\n[질문 1] 취업이라는 목표 이외에...</td>\n",
       "    </tr>\n",
       "  </tbody>\n",
       "</table>\n",
       "<p>10107 rows × 14 columns</p>\n",
       "</div>"
      ],
      "text/plain": [
       "       Unnamed: 0  Unnamed: 0.1  Unnamed: 0.1.1  Unnamed: 0.1.1.1         기업명  \\\n",
       "0               0             0               0                 0     한국석유공사    \n",
       "1               1             1               1                 1     CJ제일제당    \n",
       "2               2             2               2                 2   한국가스안전공사    \n",
       "3               3             3               3                 3        코레일    \n",
       "4               4             4               4                 4  한국기술교육대학교    \n",
       "...           ...           ...             ...               ...         ...   \n",
       "10102       10102         10102           10102             10102      현대자동차    \n",
       "10103       10103         10103           10103             10103         심팩    \n",
       "10104       10104         10104           10104             10104       한국전력    \n",
       "10105       10105         10105           10105             10105       한국전력    \n",
       "10106       10106         10106           10106             10106       한국전력    \n",
       "\n",
       "                 지원부서       지원시기              학교      학과          학점  \\\n",
       "0                 설비    2020 상반기             NaN   전자공학과   학점 1.7등급    \n",
       "1         Food Sales    2020 상반기    서울사립대(중앙대학교)  상경계열학과    학점 3.92    \n",
       "2       LP가스 안전지킴이사업    2020 상반기  지방거점국립대(제주대학교)     NaN     학점 3.3    \n",
       "3               사무영업    2020 상반기  지방거점국립대(충남대학교)     NaN    학점 3.87    \n",
       "4                 행정    2020 상반기    서울사립대(건국대학교)     NaN     학점 4.0    \n",
       "...               ...        ...             ...     ...         ...   \n",
       "10102           영업관리    2013 상반기    서울사립대(상명대학교)  국제통상학과     학점 4.3    \n",
       "10103           용접관리    2013 상반기             전문대   공업화학과     학점 3.06   \n",
       "10104       인턴[송,배전]    2013 상반기         지방거점국립대   전자공학과     학점 3.7    \n",
       "10105       인턴[송,배전]    2013 상반기         지방거점국립대   전자공학과     학점 3.7    \n",
       "10106       인턴[송,배전]    2013 상반기         지방거점국립대   전자공학과     학점 3.7    \n",
       "\n",
       "                      어학            자격증  \\\n",
       "0                    NaN            NaN   \n",
       "1       토익 905, 토스 LV 6             NaN   \n",
       "2                 토익830             NaN   \n",
       "3                토익 835             NaN   \n",
       "4                토익 780    컴활 1급, 한국사1급   \n",
       "...                  ...            ...   \n",
       "10102    토익 900, HSK 6급             NaN   \n",
       "10103                NaN            NaN   \n",
       "10104           토익 900대             NaN   \n",
       "10105            토익 900             NaN   \n",
       "10106            토익 900             NaN   \n",
       "\n",
       "                                            경험사항  \\\n",
       "0              인천 글로벌 숙련 진흥원, 선반, 용접 ,특수용접, 설비보전   \n",
       "1                                 봉사활동 일부빼고는 전무.   \n",
       "2                                            NaN   \n",
       "3                                            NaN   \n",
       "4                                            NaN   \n",
       "...                                          ...   \n",
       "10102   해외인턴1회, 중국어 말하기 대회 1등, 와인바 매니저 1년 6개월 경력   \n",
       "10103                                        NaN   \n",
       "10104                              음악봉사활동, 멘토링 등   \n",
       "10105                               음악봉사활동, 멘토링등   \n",
       "10106                               음악봉사활동, 멘토링등   \n",
       "\n",
       "                                                     자소서  \n",
       "0      7.한국석유공사\\n\\n 1. 지원 분야 직무기술서 ‘직무수행 내용’ 중 본인이 가장...  \n",
       "1      CJ제일제당 및 선택한 직무에 대한 지원동기는 무엇인가요? ① 선택한 직무에 관심을...  \n",
       "2      \\n1. 한국가스안전공사가 진행하는 사업에 관심을 갖고 공사에 지원한 동기에 대해 ...  \n",
       "3      1.공동체의 일원으로서 가장 중요하게 생각하는 가치를 제시하고, 그 가치를 실천했던...  \n",
       "4      1. 본인이 가진 가장 뛰어난 점과 그렇게 판단한 이유, 고용노동연수원 업무수행에서...  \n",
       "...                                                  ...  \n",
       "10102  1. 현대자동차에 지원하게 된 동기 또는 해당 직무에 지원하게 된 동기는 무엇입니까...  \n",
       "10103  성격소개\\n\\n대부분의 사람들이 평가하는 첫인상은 소심하고 내성적인 성격일것이라 생...  \n",
       "10104  [질문 1] 취업이라는 목표 이외에 인생의 큰 목표를 세운 경험, 그 목표를 실현하...  \n",
       "10105  한전 자가소개서 양식 500자 12줄 이내\\n\\n[질문 1] 취업이라는 목표 이외에...  \n",
       "10106  한전 자가소개서 양식 500자 12줄 이내\\n\\n[질문 1] 취업이라는 목표 이외에...  \n",
       "\n",
       "[10107 rows x 14 columns]"
      ]
     },
     "execution_count": 162,
     "metadata": {},
     "output_type": "execute_result"
    }
   ],
   "source": [
    "df"
   ]
  },
  {
   "cell_type": "code",
   "execution_count": 163,
   "metadata": {},
   "outputs": [
    {
     "data": {
      "text/html": [
       "<div>\n",
       "<style scoped>\n",
       "    .dataframe tbody tr th:only-of-type {\n",
       "        vertical-align: middle;\n",
       "    }\n",
       "\n",
       "    .dataframe tbody tr th {\n",
       "        vertical-align: top;\n",
       "    }\n",
       "\n",
       "    .dataframe thead th {\n",
       "        text-align: right;\n",
       "    }\n",
       "</style>\n",
       "<table border=\"1\" class=\"dataframe\">\n",
       "  <thead>\n",
       "    <tr style=\"text-align: right;\">\n",
       "      <th></th>\n",
       "      <th>Unnamed: 0</th>\n",
       "      <th>Unnamed: 0.1</th>\n",
       "      <th>Unnamed: 0.1.1</th>\n",
       "      <th>Unnamed: 0.1.1.1</th>\n",
       "      <th>기업명</th>\n",
       "      <th>지원부서</th>\n",
       "      <th>지원시기</th>\n",
       "      <th>학교</th>\n",
       "      <th>학과</th>\n",
       "      <th>학점</th>\n",
       "      <th>어학</th>\n",
       "      <th>자격증</th>\n",
       "      <th>경험사항</th>\n",
       "      <th>자소서</th>\n",
       "    </tr>\n",
       "  </thead>\n",
       "  <tbody>\n",
       "    <tr>\n",
       "      <th>0</th>\n",
       "      <td>0</td>\n",
       "      <td>0</td>\n",
       "      <td>0</td>\n",
       "      <td>0</td>\n",
       "      <td>한국석유공사</td>\n",
       "      <td>설비</td>\n",
       "      <td>2020 상반기</td>\n",
       "      <td>NaN</td>\n",
       "      <td>전자공학과</td>\n",
       "      <td>학점 1.7등급</td>\n",
       "      <td>NaN</td>\n",
       "      <td>NaN</td>\n",
       "      <td>인천 글로벌 숙련 진흥원, 선반, 용접 ,특수용접, 설비보전</td>\n",
       "      <td>7.한국석유공사\\n\\n 1. 지원 분야 직무기술서 ‘직무수행 내용’ 중 본인이 가장...</td>\n",
       "    </tr>\n",
       "    <tr>\n",
       "      <th>1</th>\n",
       "      <td>1</td>\n",
       "      <td>1</td>\n",
       "      <td>1</td>\n",
       "      <td>1</td>\n",
       "      <td>CJ제일제당</td>\n",
       "      <td>Food Sales</td>\n",
       "      <td>2020 상반기</td>\n",
       "      <td>서울사립대(중앙대학교)</td>\n",
       "      <td>상경계열학과</td>\n",
       "      <td>학점 3.92</td>\n",
       "      <td>토익 905, 토스 LV 6</td>\n",
       "      <td>NaN</td>\n",
       "      <td>봉사활동 일부빼고는 전무.</td>\n",
       "      <td>CJ제일제당 및 선택한 직무에 대한 지원동기는 무엇인가요? ① 선택한 직무에 관심을...</td>\n",
       "    </tr>\n",
       "    <tr>\n",
       "      <th>2</th>\n",
       "      <td>2</td>\n",
       "      <td>2</td>\n",
       "      <td>2</td>\n",
       "      <td>2</td>\n",
       "      <td>한국가스안전공사</td>\n",
       "      <td>LP가스 안전지킴이사업</td>\n",
       "      <td>2020 상반기</td>\n",
       "      <td>지방거점국립대(제주대학교)</td>\n",
       "      <td>NaN</td>\n",
       "      <td>학점 3.3</td>\n",
       "      <td>토익830</td>\n",
       "      <td>NaN</td>\n",
       "      <td>NaN</td>\n",
       "      <td>\\n1. 한국가스안전공사가 진행하는 사업에 관심을 갖고 공사에 지원한 동기에 대해 ...</td>\n",
       "    </tr>\n",
       "    <tr>\n",
       "      <th>3</th>\n",
       "      <td>3</td>\n",
       "      <td>3</td>\n",
       "      <td>3</td>\n",
       "      <td>3</td>\n",
       "      <td>코레일</td>\n",
       "      <td>사무영업</td>\n",
       "      <td>2020 상반기</td>\n",
       "      <td>지방거점국립대(충남대학교)</td>\n",
       "      <td>NaN</td>\n",
       "      <td>학점 3.87</td>\n",
       "      <td>토익 835</td>\n",
       "      <td>NaN</td>\n",
       "      <td>NaN</td>\n",
       "      <td>1.공동체의 일원으로서 가장 중요하게 생각하는 가치를 제시하고, 그 가치를 실천했던...</td>\n",
       "    </tr>\n",
       "    <tr>\n",
       "      <th>4</th>\n",
       "      <td>4</td>\n",
       "      <td>4</td>\n",
       "      <td>4</td>\n",
       "      <td>4</td>\n",
       "      <td>한국기술교육대학교</td>\n",
       "      <td>행정</td>\n",
       "      <td>2020 상반기</td>\n",
       "      <td>서울사립대(건국대학교)</td>\n",
       "      <td>NaN</td>\n",
       "      <td>학점 4.0</td>\n",
       "      <td>토익 780</td>\n",
       "      <td>컴활 1급, 한국사1급</td>\n",
       "      <td>NaN</td>\n",
       "      <td>1. 본인이 가진 가장 뛰어난 점과 그렇게 판단한 이유, 고용노동연수원 업무수행에서...</td>\n",
       "    </tr>\n",
       "    <tr>\n",
       "      <th>5</th>\n",
       "      <td>5</td>\n",
       "      <td>5</td>\n",
       "      <td>5</td>\n",
       "      <td>5</td>\n",
       "      <td>코레일</td>\n",
       "      <td>사무영업 수송</td>\n",
       "      <td>2020 상반기</td>\n",
       "      <td>서울사립대(서강대학교)</td>\n",
       "      <td>NaN</td>\n",
       "      <td>학점 3.0</td>\n",
       "      <td>토익 705</td>\n",
       "      <td>NaN</td>\n",
       "      <td>NaN</td>\n",
       "      <td>1.공동체의 일원으로서 가장 중요하게 생각하는 가치를 제시하고, 그 가치를 실천했던...</td>\n",
       "    </tr>\n",
       "    <tr>\n",
       "      <th>6</th>\n",
       "      <td>6</td>\n",
       "      <td>6</td>\n",
       "      <td>6</td>\n",
       "      <td>6</td>\n",
       "      <td>코레일</td>\n",
       "      <td>토목직</td>\n",
       "      <td>2020 상반기</td>\n",
       "      <td>지방국립대(한경대학교)</td>\n",
       "      <td>NaN</td>\n",
       "      <td>학점 3.89</td>\n",
       "      <td>토익 755</td>\n",
       "      <td>NaN</td>\n",
       "      <td>NaN</td>\n",
       "      <td>1.공동체의 일원으로서 가장 중요하게 생각하는 가치를 제시하고, 그 가치를 실천했던...</td>\n",
       "    </tr>\n",
       "    <tr>\n",
       "      <th>7</th>\n",
       "      <td>7</td>\n",
       "      <td>7</td>\n",
       "      <td>7</td>\n",
       "      <td>7</td>\n",
       "      <td>코레일</td>\n",
       "      <td>토목직</td>\n",
       "      <td>2020 상반기</td>\n",
       "      <td>지방국립대(한경대학교)</td>\n",
       "      <td>NaN</td>\n",
       "      <td>학점 3.89</td>\n",
       "      <td>토익 755</td>\n",
       "      <td>NaN</td>\n",
       "      <td>NaN</td>\n",
       "      <td>1.공동체의 일원으로서 가장 중요하게 생각하는 가치를 제시하고, 그 가치를 실천했던...</td>\n",
       "    </tr>\n",
       "    <tr>\n",
       "      <th>8</th>\n",
       "      <td>8</td>\n",
       "      <td>8</td>\n",
       "      <td>8</td>\n",
       "      <td>8</td>\n",
       "      <td>코레일</td>\n",
       "      <td>사무영업</td>\n",
       "      <td>2020 상반기</td>\n",
       "      <td>지방거점국립대(충남대학교)</td>\n",
       "      <td>NaN</td>\n",
       "      <td>학점 3.6</td>\n",
       "      <td>토익 965, 오픽 AL, 신HSK 4급</td>\n",
       "      <td>NaN</td>\n",
       "      <td>NaN</td>\n",
       "      <td>직무활동, 동아리/동호회, 팀프로젝트, 연구회, 재능기부 등 주요 직무능력을 서술하...</td>\n",
       "    </tr>\n",
       "    <tr>\n",
       "      <th>9</th>\n",
       "      <td>9</td>\n",
       "      <td>9</td>\n",
       "      <td>9</td>\n",
       "      <td>9</td>\n",
       "      <td>코레일</td>\n",
       "      <td>전기통신</td>\n",
       "      <td>2020 상반기</td>\n",
       "      <td>지방사립대(신한대학교)</td>\n",
       "      <td>NaN</td>\n",
       "      <td>학점 3.39</td>\n",
       "      <td>NaN</td>\n",
       "      <td>한국사검정능력1급</td>\n",
       "      <td>NaN</td>\n",
       "      <td>1. 공동체의 일원으로서 가장 중요하게 생각하는 가치를 제시하고, 그 가치를 실천했...</td>\n",
       "    </tr>\n",
       "    <tr>\n",
       "      <th>10</th>\n",
       "      <td>10</td>\n",
       "      <td>10</td>\n",
       "      <td>10</td>\n",
       "      <td>10</td>\n",
       "      <td>구로문화재단</td>\n",
       "      <td>사업운영 지원</td>\n",
       "      <td>2020 상반기</td>\n",
       "      <td>서울사립대(한국외국어대학교)</td>\n",
       "      <td>NaN</td>\n",
       "      <td>학점 3.81</td>\n",
       "      <td>NaN</td>\n",
       "      <td>한국사검정능력1급, GAIQ고급</td>\n",
       "      <td>세종문화회관 인턴 (2개월), 구립망원청소년문화센터 계약직 (6개월), CJ ONE...</td>\n",
       "      <td>Q. 지원분야와 관련된 본인의 업무 역량을 중심으로 기술하시오.\\n \\n문예체 협력...</td>\n",
       "    </tr>\n",
       "    <tr>\n",
       "      <th>11</th>\n",
       "      <td>11</td>\n",
       "      <td>11</td>\n",
       "      <td>11</td>\n",
       "      <td>11</td>\n",
       "      <td>코레일</td>\n",
       "      <td>사무영업</td>\n",
       "      <td>2020 상반기</td>\n",
       "      <td>NaN</td>\n",
       "      <td>NaN</td>\n",
       "      <td>NaN</td>\n",
       "      <td>NaN</td>\n",
       "      <td>NaN</td>\n",
       "      <td>교내 금융 동아리 3년, 학생회장단연합회 1년, 특성화고 권리 연합회 1년, 컴퓨터...</td>\n",
       "      <td>1. 공동체 일원으로서 가장 중요하게 생각하는 가치를 제시하고, 그 가치를 실천했던...</td>\n",
       "    </tr>\n",
       "    <tr>\n",
       "      <th>12</th>\n",
       "      <td>12</td>\n",
       "      <td>12</td>\n",
       "      <td>12</td>\n",
       "      <td>12</td>\n",
       "      <td>한국전기안전공사</td>\n",
       "      <td>기술(전기점검직)</td>\n",
       "      <td>2020 상반기</td>\n",
       "      <td>지방거점국립대(전북대학교)</td>\n",
       "      <td>NaN</td>\n",
       "      <td>학점 3.5</td>\n",
       "      <td>NaN</td>\n",
       "      <td>한국사검정능력1급, 전기기사, 전기공사기사</td>\n",
       "      <td>LG 디스플레이 3년 근무</td>\n",
       "      <td>Q. 솔선수범하여 일처리를 한 경험이 있는가?\\n \\n [Gray 영역에서도 앞장서...</td>\n",
       "    </tr>\n",
       "    <tr>\n",
       "      <th>13</th>\n",
       "      <td>13</td>\n",
       "      <td>13</td>\n",
       "      <td>13</td>\n",
       "      <td>13</td>\n",
       "      <td>코레일</td>\n",
       "      <td>차량(기계)</td>\n",
       "      <td>2020 상반기</td>\n",
       "      <td>지방국립대(순천대학교)</td>\n",
       "      <td>NaN</td>\n",
       "      <td>학점 3.51</td>\n",
       "      <td>NaN</td>\n",
       "      <td>한국사검정능력1급, 산업안전기사, 위험물산산업기사</td>\n",
       "      <td>NaN</td>\n",
       "      <td>직무활동, 동아리/동호회, 팀프로젝트, 연구회, 재능기부 등 주요 직무능력을 서술하...</td>\n",
       "    </tr>\n",
       "    <tr>\n",
       "      <th>14</th>\n",
       "      <td>14</td>\n",
       "      <td>14</td>\n",
       "      <td>14</td>\n",
       "      <td>14</td>\n",
       "      <td>전략물자관리원</td>\n",
       "      <td>전산</td>\n",
       "      <td>2020 상반기</td>\n",
       "      <td>서울사립대(숭실대학교)</td>\n",
       "      <td>NaN</td>\n",
       "      <td>학점 3.0</td>\n",
       "      <td>토익 820, 오픽 IL</td>\n",
       "      <td>NaN</td>\n",
       "      <td>NaN</td>\n",
       "      <td>지원하고자 하는 직무와 관련하여, 직무활동, 동아리/동호회, 팀프로젝트, 연구회, ...</td>\n",
       "    </tr>\n",
       "    <tr>\n",
       "      <th>15</th>\n",
       "      <td>15</td>\n",
       "      <td>15</td>\n",
       "      <td>15</td>\n",
       "      <td>15</td>\n",
       "      <td>성신양회</td>\n",
       "      <td>전기직</td>\n",
       "      <td>2020 상반기</td>\n",
       "      <td>지방국립대(금오공과대학교)</td>\n",
       "      <td>NaN</td>\n",
       "      <td>학점 3.04</td>\n",
       "      <td>토익740, 오픽 IL</td>\n",
       "      <td>전기기사, 전기공사기사</td>\n",
       "      <td>슈나이더일렉트릭코리아 대학생 공모전(9개월), 2018년 여름방학 현장실습 (4주)</td>\n",
       "      <td>1. [실행중심] 새로운 아이디어 제안 또는 새롭게 시도하여 성과를 낸 경험에 대해...</td>\n",
       "    </tr>\n",
       "    <tr>\n",
       "      <th>16</th>\n",
       "      <td>16</td>\n",
       "      <td>16</td>\n",
       "      <td>16</td>\n",
       "      <td>16</td>\n",
       "      <td>한국보훈복지의료공단</td>\n",
       "      <td>일반행정</td>\n",
       "      <td>2020 상반기</td>\n",
       "      <td>NaN</td>\n",
       "      <td>컴퓨터공학과</td>\n",
       "      <td>학점 3.04</td>\n",
       "      <td>토익스피킹 레벨7</td>\n",
       "      <td>NaN</td>\n",
       "      <td>NaN</td>\n",
       "      <td>[조직이해능력] 본인이 생각하는 ‘한국보훈복지의료공단’의 역할과 책임은 무엇이며, ...</td>\n",
       "    </tr>\n",
       "    <tr>\n",
       "      <th>17</th>\n",
       "      <td>17</td>\n",
       "      <td>17</td>\n",
       "      <td>17</td>\n",
       "      <td>17</td>\n",
       "      <td>에코프로비엠</td>\n",
       "      <td>공정기술</td>\n",
       "      <td>2020 상반기</td>\n",
       "      <td>서울사립대(아주대학교)</td>\n",
       "      <td>NaN</td>\n",
       "      <td>학점 3.84</td>\n",
       "      <td>한자 1급, 토익 855, 오픽 IH</td>\n",
       "      <td>NaN</td>\n",
       "      <td>(주)에이피피 학교 연계형 인턴 (2개월, 2018년 상반기), 재료연구소 체험형...</td>\n",
       "      <td>* 자유양식\\n \\n 1. 성장과정\\n\\n 인간관계나 이루고자 하는 목표에 '좋은 ...</td>\n",
       "    </tr>\n",
       "    <tr>\n",
       "      <th>18</th>\n",
       "      <td>18</td>\n",
       "      <td>18</td>\n",
       "      <td>18</td>\n",
       "      <td>18</td>\n",
       "      <td>코레일</td>\n",
       "      <td>사무</td>\n",
       "      <td>2020 상반기</td>\n",
       "      <td>지방사립대(순천향대학교)</td>\n",
       "      <td>NaN</td>\n",
       "      <td>학점 3.85</td>\n",
       "      <td>토익 845, 토스 lv6</td>\n",
       "      <td>NaN</td>\n",
       "      <td>유앤트레블 인턴, 한국전력공사 인턴, 2019 하반기 말레이시아 해외봉사, 일본 ...</td>\n",
       "      <td>1. 공동체의 일원으로서 가장 중요하게 생각하는 가치를 제시하고, 그 가치를 실현했...</td>\n",
       "    </tr>\n",
       "    <tr>\n",
       "      <th>19</th>\n",
       "      <td>19</td>\n",
       "      <td>19</td>\n",
       "      <td>19</td>\n",
       "      <td>19</td>\n",
       "      <td>부산교통공사</td>\n",
       "      <td>기계직</td>\n",
       "      <td>2020 상반기</td>\n",
       "      <td>지방국립대(창원대학교)</td>\n",
       "      <td>NaN</td>\n",
       "      <td>학점 3.46</td>\n",
       "      <td>토익 725</td>\n",
       "      <td>NaN</td>\n",
       "      <td>NaN</td>\n",
       "      <td>(1) 부산교통공사에 지원한 동기와 본인이 공사의 인재상에 부합하는 이유를 기술하시...</td>\n",
       "    </tr>\n",
       "    <tr>\n",
       "      <th>20</th>\n",
       "      <td>20</td>\n",
       "      <td>20</td>\n",
       "      <td>20</td>\n",
       "      <td>20</td>\n",
       "      <td>한국관광공사</td>\n",
       "      <td>5급 한국관광진흥직</td>\n",
       "      <td>2020 상반기</td>\n",
       "      <td>서울공립대(서울시립대학교)</td>\n",
       "      <td>NaN</td>\n",
       "      <td>학점 3.71</td>\n",
       "      <td>토익 950, 토스 lv7</td>\n",
       "      <td>NaN</td>\n",
       "      <td>NaN</td>\n",
       "      <td>1. 타인의 요구사항을 사전에 파악하여 문제를 해결했던 경험에 대해 작성해 주십시오...</td>\n",
       "    </tr>\n",
       "    <tr>\n",
       "      <th>21</th>\n",
       "      <td>21</td>\n",
       "      <td>21</td>\n",
       "      <td>21</td>\n",
       "      <td>21</td>\n",
       "      <td>국민건강보험공단</td>\n",
       "      <td>사무직</td>\n",
       "      <td>2020 상반기</td>\n",
       "      <td>서울사립대(건국대학교)</td>\n",
       "      <td>NaN</td>\n",
       "      <td>학점 4.0</td>\n",
       "      <td>토익 780</td>\n",
       "      <td>컴활 1급, 한국사1급</td>\n",
       "      <td>NaN</td>\n",
       "      <td>1. 학교나 직장 또는 기타 단체에서 업무를 추진하는데 필요한 능력을 스스로 관리하...</td>\n",
       "    </tr>\n",
       "    <tr>\n",
       "      <th>22</th>\n",
       "      <td>22</td>\n",
       "      <td>22</td>\n",
       "      <td>22</td>\n",
       "      <td>22</td>\n",
       "      <td>코레일</td>\n",
       "      <td>사무영업</td>\n",
       "      <td>2020 상반기</td>\n",
       "      <td>서울사립대(한국외국어대학교)</td>\n",
       "      <td>NaN</td>\n",
       "      <td>학점 2.88</td>\n",
       "      <td>토익 800, 무역영어 1,2급</td>\n",
       "      <td>NaN</td>\n",
       "      <td>NaN</td>\n",
       "      <td>*직무활동, 동아리/동호회, 팀프로젝트, 연구회, 재능기부 등 주요 직무능력을 서술...</td>\n",
       "    </tr>\n",
       "    <tr>\n",
       "      <th>23</th>\n",
       "      <td>23</td>\n",
       "      <td>23</td>\n",
       "      <td>23</td>\n",
       "      <td>23</td>\n",
       "      <td>한국보훈복지의료공단</td>\n",
       "      <td>사무직</td>\n",
       "      <td>2020 상반기</td>\n",
       "      <td>지방사립대(동아대학교)</td>\n",
       "      <td>NaN</td>\n",
       "      <td>학점 3.67</td>\n",
       "      <td>토익 840, 토스 레벨7</td>\n",
       "      <td>NaN</td>\n",
       "      <td>NaN</td>\n",
       "      <td>[조직이해능력] 본인이 생각하는 ‘한국보훈복지의료공단’의 역할과 책임은 무엇이며, ...</td>\n",
       "    </tr>\n",
       "    <tr>\n",
       "      <th>24</th>\n",
       "      <td>24</td>\n",
       "      <td>24</td>\n",
       "      <td>24</td>\n",
       "      <td>24</td>\n",
       "      <td>한국관광공사</td>\n",
       "      <td>일반직(경영)</td>\n",
       "      <td>2020 상반기</td>\n",
       "      <td>서울사립대(한양대학교)</td>\n",
       "      <td>NaN</td>\n",
       "      <td>학점 3.45</td>\n",
       "      <td>토스 lv7</td>\n",
       "      <td>NaN</td>\n",
       "      <td>학생회 홍보부쟝(1년)</td>\n",
       "      <td>■ 역량기술서\\n\\n * 입사지원서에 기술한 경력사항 및 직무 관련 기타 활동에 대...</td>\n",
       "    </tr>\n",
       "    <tr>\n",
       "      <th>25</th>\n",
       "      <td>25</td>\n",
       "      <td>25</td>\n",
       "      <td>25</td>\n",
       "      <td>25</td>\n",
       "      <td>신용보증기금</td>\n",
       "      <td>인턴</td>\n",
       "      <td>2020 상반기</td>\n",
       "      <td>지방사립대(동아대학교)</td>\n",
       "      <td>NaN</td>\n",
       "      <td>학점 3.89</td>\n",
       "      <td>토스 lv6</td>\n",
       "      <td>무역영어 1급</td>\n",
       "      <td>NaN</td>\n",
       "      <td>1. 신용보증기금의 청년인턴에 지원하게 된 동기와 인턴생활을 통해 얻고자(배우고자)...</td>\n",
       "    </tr>\n",
       "    <tr>\n",
       "      <th>26</th>\n",
       "      <td>26</td>\n",
       "      <td>26</td>\n",
       "      <td>26</td>\n",
       "      <td>26</td>\n",
       "      <td>신용보증기금 청년인턴</td>\n",
       "      <td>영업점 업무지원</td>\n",
       "      <td>2020 상반기</td>\n",
       "      <td>서울사립대(한국외국어대학교)</td>\n",
       "      <td>NaN</td>\n",
       "      <td>학점 3.5</td>\n",
       "      <td>토익 755</td>\n",
       "      <td>NaN</td>\n",
       "      <td>NaN</td>\n",
       "      <td>1. 신용보증기금의 청년인턴에 지원하게 된 동기와 인턴생활을 통해 얻고자(배우고자)...</td>\n",
       "    </tr>\n",
       "    <tr>\n",
       "      <th>27</th>\n",
       "      <td>27</td>\n",
       "      <td>27</td>\n",
       "      <td>27</td>\n",
       "      <td>27</td>\n",
       "      <td>코레일</td>\n",
       "      <td>전산</td>\n",
       "      <td>2020 상반기</td>\n",
       "      <td>지방사립대(한동대학교)</td>\n",
       "      <td>NaN</td>\n",
       "      <td>학점 2.7</td>\n",
       "      <td>토익 775</td>\n",
       "      <td>NaN</td>\n",
       "      <td>NaN</td>\n",
       "      <td>1. 공동체의 일원으로서 가장 중요하게 생각하는 가치를 제시하고, 그 가치를 실천했...</td>\n",
       "    </tr>\n",
       "    <tr>\n",
       "      <th>28</th>\n",
       "      <td>28</td>\n",
       "      <td>28</td>\n",
       "      <td>28</td>\n",
       "      <td>28</td>\n",
       "      <td>아리랑국제방송</td>\n",
       "      <td>재무, 예산</td>\n",
       "      <td>2020 상반기</td>\n",
       "      <td>지방사립대(대전대학교)</td>\n",
       "      <td>NaN</td>\n",
       "      <td>학점 3.14</td>\n",
       "      <td>NaN</td>\n",
       "      <td>전산회계1급, ERP회계정보관리사 2급, ERP 인사정보관리사 2급</td>\n",
       "      <td>중소기업 계약직 1년</td>\n",
       "      <td>1. 아리랑국제방송 해당직무를 지원한 동기 및 열정을 생각해 보시기 바랍니다. 해당...</td>\n",
       "    </tr>\n",
       "    <tr>\n",
       "      <th>29</th>\n",
       "      <td>29</td>\n",
       "      <td>29</td>\n",
       "      <td>29</td>\n",
       "      <td>29</td>\n",
       "      <td>농협중앙회</td>\n",
       "      <td>일반직 6급</td>\n",
       "      <td>2020 상반기</td>\n",
       "      <td>서울국립대(서울과학기술대학교)</td>\n",
       "      <td>NaN</td>\n",
       "      <td>학점 4.31</td>\n",
       "      <td>오픽 IH</td>\n",
       "      <td>정보처리기사</td>\n",
       "      <td>NaN</td>\n",
       "      <td>1. 본인이 직장에서 이루고자 하는 목표와 농협중앙회에 지원한 이유를 연결지어 설명...</td>\n",
       "    </tr>\n",
       "    <tr>\n",
       "      <th>30</th>\n",
       "      <td>30</td>\n",
       "      <td>30</td>\n",
       "      <td>30</td>\n",
       "      <td>30</td>\n",
       "      <td>코레일</td>\n",
       "      <td>사무영업</td>\n",
       "      <td>2020 상반기</td>\n",
       "      <td>지방거점국립대(전북대학교)</td>\n",
       "      <td>NaN</td>\n",
       "      <td>학점 4.0</td>\n",
       "      <td>토익 910</td>\n",
       "      <td>NaN</td>\n",
       "      <td>한국장애인고용공단 체험형 인턴(2018 상반기)</td>\n",
       "      <td>1. 공동체의 일원으로서 가장 중요하게 생각하는 가치를 제시하고, 그 가치를 실천했...</td>\n",
       "    </tr>\n",
       "    <tr>\n",
       "      <th>31</th>\n",
       "      <td>31</td>\n",
       "      <td>31</td>\n",
       "      <td>31</td>\n",
       "      <td>31</td>\n",
       "      <td>GS리테일</td>\n",
       "      <td>데이터분석</td>\n",
       "      <td>2020 상반기</td>\n",
       "      <td>대학원</td>\n",
       "      <td>NaN</td>\n",
       "      <td>학점 4.13</td>\n",
       "      <td>NaN</td>\n",
       "      <td>NaN</td>\n",
       "      <td>SAS Certified Base Programmer for SAS 9, SAS C...</td>\n",
       "      <td>1. GS리테일에 지원하게 된 동기를 서술하여 주십시오.\\n\\n '데이터 분석을 통...</td>\n",
       "    </tr>\n",
       "    <tr>\n",
       "      <th>32</th>\n",
       "      <td>32</td>\n",
       "      <td>32</td>\n",
       "      <td>32</td>\n",
       "      <td>32</td>\n",
       "      <td>한국전기안전공사</td>\n",
       "      <td>청년인턴</td>\n",
       "      <td>2020 상반기</td>\n",
       "      <td>서울국립대(서울과학기술대학교)</td>\n",
       "      <td>NaN</td>\n",
       "      <td>학점 4.31</td>\n",
       "      <td>오픽 IH</td>\n",
       "      <td>컴퓨터활용능력 2급, 한국사 1급, 재경관리사, 정보처리기사</td>\n",
       "      <td>NaN</td>\n",
       "      <td>■ (A,B 중 택 1)A. 자신이 공동 목표 달성을 하는 과정에서 솔선수범하는 사...</td>\n",
       "    </tr>\n",
       "    <tr>\n",
       "      <th>33</th>\n",
       "      <td>33</td>\n",
       "      <td>33</td>\n",
       "      <td>33</td>\n",
       "      <td>33</td>\n",
       "      <td>국민연금공단</td>\n",
       "      <td>행정사무</td>\n",
       "      <td>2020 상반기</td>\n",
       "      <td>지방사립대(순천향대학교)</td>\n",
       "      <td>NaN</td>\n",
       "      <td>학점 3.41</td>\n",
       "      <td>토익 855</td>\n",
       "      <td>NaN</td>\n",
       "      <td>NaN</td>\n",
       "      <td>1. 가장 열정적으로 임했던 경험을 기술하고, 그 경험을 통해 청년인턴으로 근무하면...</td>\n",
       "    </tr>\n",
       "    <tr>\n",
       "      <th>34</th>\n",
       "      <td>34</td>\n",
       "      <td>34</td>\n",
       "      <td>34</td>\n",
       "      <td>34</td>\n",
       "      <td>한국관광공사</td>\n",
       "      <td>행정</td>\n",
       "      <td>2020 상반기</td>\n",
       "      <td>서울사립대(가톨릭대학교)</td>\n",
       "      <td>NaN</td>\n",
       "      <td>학점 3.1</td>\n",
       "      <td>토익 850</td>\n",
       "      <td>NaN</td>\n",
       "      <td>NaN</td>\n",
       "      <td>타인의 요구사항을 사전에 파악하여 문제를 해결했던 경험에 대해 작성해 주십시오.(...</td>\n",
       "    </tr>\n",
       "    <tr>\n",
       "      <th>35</th>\n",
       "      <td>35</td>\n",
       "      <td>35</td>\n",
       "      <td>35</td>\n",
       "      <td>35</td>\n",
       "      <td>한국가스안전공사</td>\n",
       "      <td>청년인턴</td>\n",
       "      <td>2020 상반기</td>\n",
       "      <td>지방사립대(한국항공대학교)</td>\n",
       "      <td>NaN</td>\n",
       "      <td>학점 3.32</td>\n",
       "      <td>토익 820</td>\n",
       "      <td>NaN</td>\n",
       "      <td>NaN</td>\n",
       "      <td>1. 한국가스안전공사가 진행하는 사업에 관심을 갖고 공사에 지원한 동기에 대해 구체...</td>\n",
       "    </tr>\n",
       "    <tr>\n",
       "      <th>36</th>\n",
       "      <td>36</td>\n",
       "      <td>36</td>\n",
       "      <td>36</td>\n",
       "      <td>36</td>\n",
       "      <td>코레일</td>\n",
       "      <td>행정</td>\n",
       "      <td>2020 상반기</td>\n",
       "      <td>지방거점국립대(경북대학교)</td>\n",
       "      <td>NaN</td>\n",
       "      <td>학점 3.32</td>\n",
       "      <td>토익 715, 토스 lv 6</td>\n",
       "      <td>NaN</td>\n",
       "      <td>NaN</td>\n",
       "      <td>1.공동체의 일원으로서 가장 중요하게 생각하는 가치를 제시하고, 그 가치를 실천했던...</td>\n",
       "    </tr>\n",
       "    <tr>\n",
       "      <th>37</th>\n",
       "      <td>37</td>\n",
       "      <td>37</td>\n",
       "      <td>37</td>\n",
       "      <td>37</td>\n",
       "      <td>국민연금공단</td>\n",
       "      <td>체험형 인턴</td>\n",
       "      <td>2020 상반기</td>\n",
       "      <td>지방국립대(한밭대학교)</td>\n",
       "      <td>NaN</td>\n",
       "      <td>학점 3.57</td>\n",
       "      <td>토익 755</td>\n",
       "      <td>NaN</td>\n",
       "      <td>NaN</td>\n",
       "      <td>1. 가장 열정적으로 임했던 경험을 기술하고, 그 경험을 통해 청년인턴으로 근무하면...</td>\n",
       "    </tr>\n",
       "    <tr>\n",
       "      <th>38</th>\n",
       "      <td>38</td>\n",
       "      <td>38</td>\n",
       "      <td>38</td>\n",
       "      <td>38</td>\n",
       "      <td>가천대학교</td>\n",
       "      <td>행정</td>\n",
       "      <td>2020 상반기</td>\n",
       "      <td>서울사립대(건국대학교)</td>\n",
       "      <td>NaN</td>\n",
       "      <td>학점 4.0</td>\n",
       "      <td>토익 780</td>\n",
       "      <td>컴활 1급, 한국사1급</td>\n",
       "      <td>NaN</td>\n",
       "      <td>1. 지원동기 및 입사 후 포부 (최소 1자, 최대 1,000자 입력가능)\\n \\n...</td>\n",
       "    </tr>\n",
       "    <tr>\n",
       "      <th>39</th>\n",
       "      <td>39</td>\n",
       "      <td>39</td>\n",
       "      <td>39</td>\n",
       "      <td>39</td>\n",
       "      <td>한국기상산업기술원</td>\n",
       "      <td>전산</td>\n",
       "      <td>2020 상반기</td>\n",
       "      <td>서울사립대(단국대학교)</td>\n",
       "      <td>NaN</td>\n",
       "      <td>학점 3.5</td>\n",
       "      <td>토익850, 토스 Lv.5</td>\n",
       "      <td>NaN</td>\n",
       "      <td>NaN</td>\n",
       "      <td>1. 지원자의 회사를 선택할 때 기준은 무엇이며, 왜 한국기상산업기술원이 그 기준에...</td>\n",
       "    </tr>\n",
       "    <tr>\n",
       "      <th>40</th>\n",
       "      <td>40</td>\n",
       "      <td>40</td>\n",
       "      <td>40</td>\n",
       "      <td>40</td>\n",
       "      <td>코레일</td>\n",
       "      <td>사무영업</td>\n",
       "      <td>2020 상반기</td>\n",
       "      <td>NaN</td>\n",
       "      <td>NaN</td>\n",
       "      <td>NaN</td>\n",
       "      <td>NaN</td>\n",
       "      <td>NaN</td>\n",
       "      <td>교내 금융 동아리 3년, 학생회장단연합회 1년, 특성화고 권리 연합회 1년, 컴퓨터...</td>\n",
       "      <td>1. 공동체 일원으로서 가장 중요하게 생각하는 가치를 제시하고, 그 가치를 실천했던...</td>\n",
       "    </tr>\n",
       "    <tr>\n",
       "      <th>41</th>\n",
       "      <td>41</td>\n",
       "      <td>41</td>\n",
       "      <td>41</td>\n",
       "      <td>41</td>\n",
       "      <td>전략물자관리원</td>\n",
       "      <td>전산</td>\n",
       "      <td>2020 상반기</td>\n",
       "      <td>서울사립대(숭실대학교)</td>\n",
       "      <td>NaN</td>\n",
       "      <td>학점 3.0</td>\n",
       "      <td>토익 820, 오픽 IL</td>\n",
       "      <td>NaN</td>\n",
       "      <td>NaN</td>\n",
       "      <td>지원하고자 하는 직무와 관련하여, 직무활동, 동아리/동호회, 팀프로젝트, 연구회, ...</td>\n",
       "    </tr>\n",
       "    <tr>\n",
       "      <th>42</th>\n",
       "      <td>42</td>\n",
       "      <td>42</td>\n",
       "      <td>42</td>\n",
       "      <td>42</td>\n",
       "      <td>신용보증기금 청년인턴</td>\n",
       "      <td>영업점 업무지원</td>\n",
       "      <td>2020 상반기</td>\n",
       "      <td>서울사립대(한국외국어대학교)</td>\n",
       "      <td>NaN</td>\n",
       "      <td>학점 3.5</td>\n",
       "      <td>토익 755</td>\n",
       "      <td>NaN</td>\n",
       "      <td>NaN</td>\n",
       "      <td>1. 신용보증기금의 청년인턴에 지원하게 된 동기와 인턴생활을 통해 얻고자(배우고자)...</td>\n",
       "    </tr>\n",
       "    <tr>\n",
       "      <th>43</th>\n",
       "      <td>43</td>\n",
       "      <td>43</td>\n",
       "      <td>43</td>\n",
       "      <td>43</td>\n",
       "      <td>코레일</td>\n",
       "      <td>전산</td>\n",
       "      <td>2020 상반기</td>\n",
       "      <td>지방사립대(한동대학교)</td>\n",
       "      <td>NaN</td>\n",
       "      <td>학점 2.7</td>\n",
       "      <td>토익 775</td>\n",
       "      <td>NaN</td>\n",
       "      <td>NaN</td>\n",
       "      <td>1. 공동체의 일원으로서 가장 중요하게 생각하는 가치를 제시하고, 그 가치를 실천했...</td>\n",
       "    </tr>\n",
       "    <tr>\n",
       "      <th>44</th>\n",
       "      <td>44</td>\n",
       "      <td>44</td>\n",
       "      <td>44</td>\n",
       "      <td>44</td>\n",
       "      <td>한국관광공사</td>\n",
       "      <td>5급 한국관광진흥직</td>\n",
       "      <td>2020 상반기</td>\n",
       "      <td>서울공립대(서울시립대학교)</td>\n",
       "      <td>NaN</td>\n",
       "      <td>학점 3.71</td>\n",
       "      <td>토익 950, 토스 lv7</td>\n",
       "      <td>NaN</td>\n",
       "      <td>NaN</td>\n",
       "      <td>1. 타인의 요구사항을 사전에 파악하여 문제를 해결했던 경험에 대해 작성해 주십시오...</td>\n",
       "    </tr>\n",
       "    <tr>\n",
       "      <th>45</th>\n",
       "      <td>45</td>\n",
       "      <td>45</td>\n",
       "      <td>45</td>\n",
       "      <td>45</td>\n",
       "      <td>국민건강보험공단</td>\n",
       "      <td>사무직</td>\n",
       "      <td>2020 상반기</td>\n",
       "      <td>서울사립대(건국대학교)</td>\n",
       "      <td>NaN</td>\n",
       "      <td>학점 4.0</td>\n",
       "      <td>토익 780</td>\n",
       "      <td>컴활 1급, 한국사1급</td>\n",
       "      <td>NaN</td>\n",
       "      <td>1. 학교나 직장 또는 기타 단체에서 업무를 추진하는데 필요한 능력을 스스로 관리하...</td>\n",
       "    </tr>\n",
       "    <tr>\n",
       "      <th>46</th>\n",
       "      <td>46</td>\n",
       "      <td>46</td>\n",
       "      <td>46</td>\n",
       "      <td>46</td>\n",
       "      <td>한국관광공사</td>\n",
       "      <td>일반직(경영)</td>\n",
       "      <td>2020 상반기</td>\n",
       "      <td>서울사립대(한양대학교)</td>\n",
       "      <td>NaN</td>\n",
       "      <td>학점 3.45</td>\n",
       "      <td>토스 lv7</td>\n",
       "      <td>NaN</td>\n",
       "      <td>학생회 홍보부쟝(1년)</td>\n",
       "      <td>■ 역량기술서\\n\\n * 입사지원서에 기술한 경력사항 및 직무 관련 기타 활동에 대...</td>\n",
       "    </tr>\n",
       "    <tr>\n",
       "      <th>47</th>\n",
       "      <td>47</td>\n",
       "      <td>47</td>\n",
       "      <td>47</td>\n",
       "      <td>47</td>\n",
       "      <td>농협중앙회</td>\n",
       "      <td>일반직 6급</td>\n",
       "      <td>2020 상반기</td>\n",
       "      <td>서울국립대(서울과학기술대학교)</td>\n",
       "      <td>NaN</td>\n",
       "      <td>학점 4.31</td>\n",
       "      <td>오픽 IH</td>\n",
       "      <td>정보처리기사</td>\n",
       "      <td>NaN</td>\n",
       "      <td>1. 본인이 직장에서 이루고자 하는 목표와 농협중앙회에 지원한 이유를 연결지어 설명...</td>\n",
       "    </tr>\n",
       "    <tr>\n",
       "      <th>48</th>\n",
       "      <td>48</td>\n",
       "      <td>48</td>\n",
       "      <td>48</td>\n",
       "      <td>48</td>\n",
       "      <td>한국보훈복지의료공단</td>\n",
       "      <td>사무직</td>\n",
       "      <td>2020 상반기</td>\n",
       "      <td>지방사립대(동아대학교)</td>\n",
       "      <td>NaN</td>\n",
       "      <td>학점 3.67</td>\n",
       "      <td>토익 840, 토스 레벨7</td>\n",
       "      <td>NaN</td>\n",
       "      <td>NaN</td>\n",
       "      <td>[조직이해능력] 본인이 생각하는 ‘한국보훈복지의료공단’의 역할과 책임은 무엇이며, ...</td>\n",
       "    </tr>\n",
       "    <tr>\n",
       "      <th>49</th>\n",
       "      <td>49</td>\n",
       "      <td>49</td>\n",
       "      <td>49</td>\n",
       "      <td>49</td>\n",
       "      <td>신용보증기금</td>\n",
       "      <td>인턴</td>\n",
       "      <td>2020 상반기</td>\n",
       "      <td>지방사립대(동아대학교)</td>\n",
       "      <td>NaN</td>\n",
       "      <td>학점 3.89</td>\n",
       "      <td>토스 lv6</td>\n",
       "      <td>무역영어 1급</td>\n",
       "      <td>NaN</td>\n",
       "      <td>1. 신용보증기금의 청년인턴에 지원하게 된 동기와 인턴생활을 통해 얻고자(배우고자)...</td>\n",
       "    </tr>\n",
       "  </tbody>\n",
       "</table>\n",
       "</div>"
      ],
      "text/plain": [
       "    Unnamed: 0  Unnamed: 0.1  Unnamed: 0.1.1  Unnamed: 0.1.1.1           기업명  \\\n",
       "0            0             0               0                 0       한국석유공사    \n",
       "1            1             1               1                 1       CJ제일제당    \n",
       "2            2             2               2                 2     한국가스안전공사    \n",
       "3            3             3               3                 3          코레일    \n",
       "4            4             4               4                 4    한국기술교육대학교    \n",
       "5            5             5               5                 5          코레일    \n",
       "6            6             6               6                 6          코레일    \n",
       "7            7             7               7                 7          코레일    \n",
       "8            8             8               8                 8          코레일    \n",
       "9            9             9               9                 9          코레일    \n",
       "10          10            10              10                10       구로문화재단    \n",
       "11          11            11              11                11          코레일    \n",
       "12          12            12              12                12     한국전기안전공사    \n",
       "13          13            13              13                13          코레일    \n",
       "14          14            14              14                14      전략물자관리원    \n",
       "15          15            15              15                15         성신양회    \n",
       "16          16            16              16                16   한국보훈복지의료공단    \n",
       "17          17            17              17                17       에코프로비엠    \n",
       "18          18            18              18                18          코레일    \n",
       "19          19            19              19                19       부산교통공사    \n",
       "20          20            20              20                20       한국관광공사    \n",
       "21          21            21              21                21     국민건강보험공단    \n",
       "22          22            22              22                22          코레일    \n",
       "23          23            23              23                23   한국보훈복지의료공단    \n",
       "24          24            24              24                24       한국관광공사    \n",
       "25          25            25              25                25       신용보증기금    \n",
       "26          26            26              26                26  신용보증기금 청년인턴    \n",
       "27          27            27              27                27          코레일    \n",
       "28          28            28              28                28      아리랑국제방송    \n",
       "29          29            29              29                29        농협중앙회    \n",
       "30          30            30              30                30          코레일    \n",
       "31          31            31              31                31        GS리테일    \n",
       "32          32            32              32                32     한국전기안전공사    \n",
       "33          33            33              33                33       국민연금공단    \n",
       "34          34            34              34                34       한국관광공사    \n",
       "35          35            35              35                35     한국가스안전공사    \n",
       "36          36            36              36                36          코레일    \n",
       "37          37            37              37                37       국민연금공단    \n",
       "38          38            38              38                38        가천대학교    \n",
       "39          39            39              39                39    한국기상산업기술원    \n",
       "40          40            40              40                40          코레일    \n",
       "41          41            41              41                41      전략물자관리원    \n",
       "42          42            42              42                42  신용보증기금 청년인턴    \n",
       "43          43            43              43                43          코레일    \n",
       "44          44            44              44                44       한국관광공사    \n",
       "45          45            45              45                45     국민건강보험공단    \n",
       "46          46            46              46                46       한국관광공사    \n",
       "47          47            47              47                47        농협중앙회    \n",
       "48          48            48              48                48   한국보훈복지의료공단    \n",
       "49          49            49              49                49       신용보증기금    \n",
       "\n",
       "              지원부서       지원시기                학교      학과          학점  \\\n",
       "0              설비    2020 상반기               NaN   전자공학과   학점 1.7등급    \n",
       "1      Food Sales    2020 상반기      서울사립대(중앙대학교)  상경계열학과    학점 3.92    \n",
       "2    LP가스 안전지킴이사업    2020 상반기    지방거점국립대(제주대학교)     NaN     학점 3.3    \n",
       "3            사무영업    2020 상반기    지방거점국립대(충남대학교)     NaN    학점 3.87    \n",
       "4              행정    2020 상반기      서울사립대(건국대학교)     NaN     학점 4.0    \n",
       "5         사무영업 수송    2020 상반기      서울사립대(서강대학교)     NaN     학점 3.0    \n",
       "6             토목직    2020 상반기      지방국립대(한경대학교)     NaN    학점 3.89    \n",
       "7             토목직    2020 상반기      지방국립대(한경대학교)     NaN    학점 3.89    \n",
       "8            사무영업    2020 상반기    지방거점국립대(충남대학교)     NaN     학점 3.6    \n",
       "9            전기통신    2020 상반기      지방사립대(신한대학교)     NaN    학점 3.39    \n",
       "10        사업운영 지원    2020 상반기   서울사립대(한국외국어대학교)     NaN    학점 3.81    \n",
       "11           사무영업    2020 상반기               NaN     NaN         NaN   \n",
       "12      기술(전기점검직)    2020 상반기    지방거점국립대(전북대학교)     NaN     학점 3.5    \n",
       "13         차량(기계)    2020 상반기      지방국립대(순천대학교)     NaN    학점 3.51    \n",
       "14             전산    2020 상반기      서울사립대(숭실대학교)     NaN     학점 3.0    \n",
       "15            전기직    2020 상반기    지방국립대(금오공과대학교)     NaN    학점 3.04    \n",
       "16           일반행정    2020 상반기               NaN  컴퓨터공학과    학점 3.04    \n",
       "17           공정기술    2020 상반기      서울사립대(아주대학교)     NaN    학점 3.84    \n",
       "18             사무    2020 상반기     지방사립대(순천향대학교)     NaN    학점 3.85    \n",
       "19            기계직    2020 상반기      지방국립대(창원대학교)     NaN    학점 3.46    \n",
       "20     5급 한국관광진흥직    2020 상반기    서울공립대(서울시립대학교)     NaN    학점 3.71    \n",
       "21            사무직    2020 상반기      서울사립대(건국대학교)     NaN     학점 4.0    \n",
       "22           사무영업    2020 상반기   서울사립대(한국외국어대학교)     NaN    학점 2.88    \n",
       "23            사무직    2020 상반기      지방사립대(동아대학교)     NaN    학점 3.67    \n",
       "24        일반직(경영)    2020 상반기      서울사립대(한양대학교)     NaN    학점 3.45    \n",
       "25             인턴    2020 상반기      지방사립대(동아대학교)     NaN    학점 3.89    \n",
       "26       영업점 업무지원    2020 상반기   서울사립대(한국외국어대학교)     NaN     학점 3.5    \n",
       "27             전산    2020 상반기      지방사립대(한동대학교)     NaN     학점 2.7    \n",
       "28         재무, 예산    2020 상반기      지방사립대(대전대학교)     NaN    학점 3.14    \n",
       "29         일반직 6급    2020 상반기  서울국립대(서울과학기술대학교)     NaN    학점 4.31    \n",
       "30           사무영업    2020 상반기    지방거점국립대(전북대학교)     NaN     학점 4.0    \n",
       "31          데이터분석    2020 상반기               대학원     NaN    학점 4.13    \n",
       "32           청년인턴    2020 상반기  서울국립대(서울과학기술대학교)     NaN    학점 4.31    \n",
       "33           행정사무    2020 상반기     지방사립대(순천향대학교)     NaN    학점 3.41    \n",
       "34             행정    2020 상반기     서울사립대(가톨릭대학교)     NaN     학점 3.1    \n",
       "35           청년인턴    2020 상반기    지방사립대(한국항공대학교)     NaN    학점 3.32    \n",
       "36             행정    2020 상반기    지방거점국립대(경북대학교)     NaN    학점 3.32    \n",
       "37         체험형 인턴    2020 상반기      지방국립대(한밭대학교)     NaN    학점 3.57    \n",
       "38             행정    2020 상반기      서울사립대(건국대학교)     NaN     학점 4.0    \n",
       "39             전산    2020 상반기      서울사립대(단국대학교)     NaN     학점 3.5    \n",
       "40           사무영업    2020 상반기               NaN     NaN         NaN   \n",
       "41             전산    2020 상반기      서울사립대(숭실대학교)     NaN     학점 3.0    \n",
       "42       영업점 업무지원    2020 상반기   서울사립대(한국외국어대학교)     NaN     학점 3.5    \n",
       "43             전산    2020 상반기      지방사립대(한동대학교)     NaN     학점 2.7    \n",
       "44     5급 한국관광진흥직    2020 상반기    서울공립대(서울시립대학교)     NaN    학점 3.71    \n",
       "45            사무직    2020 상반기      서울사립대(건국대학교)     NaN     학점 4.0    \n",
       "46        일반직(경영)    2020 상반기      서울사립대(한양대학교)     NaN    학점 3.45    \n",
       "47         일반직 6급    2020 상반기  서울국립대(서울과학기술대학교)     NaN    학점 4.31    \n",
       "48            사무직    2020 상반기      지방사립대(동아대학교)     NaN    학점 3.67    \n",
       "49             인턴    2020 상반기      지방사립대(동아대학교)     NaN    학점 3.89    \n",
       "\n",
       "                          어학                                     자격증  \\\n",
       "0                        NaN                                     NaN   \n",
       "1           토익 905, 토스 LV 6                                      NaN   \n",
       "2                     토익830                                      NaN   \n",
       "3                    토익 835                                      NaN   \n",
       "4                    토익 780                             컴활 1급, 한국사1급   \n",
       "5                    토익 705                                      NaN   \n",
       "6                    토익 755                                      NaN   \n",
       "7                    토익 755                                      NaN   \n",
       "8    토익 965, 오픽 AL, 신HSK 4급                                      NaN   \n",
       "9                        NaN                               한국사검정능력1급   \n",
       "10                       NaN                       한국사검정능력1급, GAIQ고급   \n",
       "11                       NaN                                     NaN   \n",
       "12                       NaN                 한국사검정능력1급, 전기기사, 전기공사기사   \n",
       "13                       NaN             한국사검정능력1급, 산업안전기사, 위험물산산업기사   \n",
       "14            토익 820, 오픽 IL                                      NaN   \n",
       "15             토익740, 오픽 IL                             전기기사, 전기공사기사   \n",
       "16                토익스피킹 레벨7                                      NaN   \n",
       "17     한자 1급, 토익 855, 오픽 IH                                      NaN   \n",
       "18           토익 845, 토스 lv6                                      NaN   \n",
       "19                   토익 725                                      NaN   \n",
       "20           토익 950, 토스 lv7                                      NaN   \n",
       "21                   토익 780                             컴활 1급, 한국사1급   \n",
       "22        토익 800, 무역영어 1,2급                                      NaN   \n",
       "23           토익 840, 토스 레벨7                                      NaN   \n",
       "24                   토스 lv7                                      NaN   \n",
       "25                   토스 lv6                                 무역영어 1급    \n",
       "26                   토익 755                                      NaN   \n",
       "27                   토익 775                                      NaN   \n",
       "28                       NaN   전산회계1급, ERP회계정보관리사 2급, ERP 인사정보관리사 2급   \n",
       "29                    오픽 IH                                  정보처리기사    \n",
       "30                   토익 910                                      NaN   \n",
       "31                       NaN                                     NaN   \n",
       "32                    오픽 IH        컴퓨터활용능력 2급, 한국사 1급, 재경관리사, 정보처리기사   \n",
       "33                   토익 855                                      NaN   \n",
       "34                   토익 850                                      NaN   \n",
       "35                   토익 820                                      NaN   \n",
       "36          토익 715, 토스 lv 6                                      NaN   \n",
       "37                   토익 755                                      NaN   \n",
       "38                   토익 780                             컴활 1급, 한국사1급   \n",
       "39           토익850, 토스 Lv.5                                      NaN   \n",
       "40                       NaN                                     NaN   \n",
       "41            토익 820, 오픽 IL                                      NaN   \n",
       "42                   토익 755                                      NaN   \n",
       "43                   토익 775                                      NaN   \n",
       "44           토익 950, 토스 lv7                                      NaN   \n",
       "45                   토익 780                             컴활 1급, 한국사1급   \n",
       "46                   토스 lv7                                      NaN   \n",
       "47                    오픽 IH                                  정보처리기사    \n",
       "48           토익 840, 토스 레벨7                                      NaN   \n",
       "49                   토스 lv6                                 무역영어 1급    \n",
       "\n",
       "                                                 경험사항  \\\n",
       "0                   인천 글로벌 숙련 진흥원, 선반, 용접 ,특수용접, 설비보전   \n",
       "1                                      봉사활동 일부빼고는 전무.   \n",
       "2                                                 NaN   \n",
       "3                                                 NaN   \n",
       "4                                                 NaN   \n",
       "5                                                 NaN   \n",
       "6                                                 NaN   \n",
       "7                                                 NaN   \n",
       "8                                                 NaN   \n",
       "9                                                 NaN   \n",
       "10  세종문화회관 인턴 (2개월), 구립망원청소년문화센터 계약직 (6개월), CJ ONE...   \n",
       "11  교내 금융 동아리 3년, 학생회장단연합회 1년, 특성화고 권리 연합회 1년, 컴퓨터...   \n",
       "12                                     LG 디스플레이 3년 근무   \n",
       "13                                                NaN   \n",
       "14                                                NaN   \n",
       "15    슈나이더일렉트릭코리아 대학생 공모전(9개월), 2018년 여름방학 현장실습 (4주)    \n",
       "16                                                NaN   \n",
       "17   (주)에이피피 학교 연계형 인턴 (2개월, 2018년 상반기), 재료연구소 체험형...   \n",
       "18   유앤트레블 인턴, 한국전력공사 인턴, 2019 하반기 말레이시아 해외봉사, 일본 ...   \n",
       "19                                                NaN   \n",
       "20                                                NaN   \n",
       "21                                                NaN   \n",
       "22                                                NaN   \n",
       "23                                                NaN   \n",
       "24                                      학생회 홍보부쟝(1년)    \n",
       "25                                                NaN   \n",
       "26                                                NaN   \n",
       "27                                                NaN   \n",
       "28                                        중소기업 계약직 1년   \n",
       "29                                                NaN   \n",
       "30                        한국장애인고용공단 체험형 인턴(2018 상반기)    \n",
       "31  SAS Certified Base Programmer for SAS 9, SAS C...   \n",
       "32                                                NaN   \n",
       "33                                                NaN   \n",
       "34                                                NaN   \n",
       "35                                                NaN   \n",
       "36                                                NaN   \n",
       "37                                                NaN   \n",
       "38                                                NaN   \n",
       "39                                                NaN   \n",
       "40  교내 금융 동아리 3년, 학생회장단연합회 1년, 특성화고 권리 연합회 1년, 컴퓨터...   \n",
       "41                                                NaN   \n",
       "42                                                NaN   \n",
       "43                                                NaN   \n",
       "44                                                NaN   \n",
       "45                                                NaN   \n",
       "46                                      학생회 홍보부쟝(1년)    \n",
       "47                                                NaN   \n",
       "48                                                NaN   \n",
       "49                                                NaN   \n",
       "\n",
       "                                                  자소서  \n",
       "0   7.한국석유공사\\n\\n 1. 지원 분야 직무기술서 ‘직무수행 내용’ 중 본인이 가장...  \n",
       "1   CJ제일제당 및 선택한 직무에 대한 지원동기는 무엇인가요? ① 선택한 직무에 관심을...  \n",
       "2   \\n1. 한국가스안전공사가 진행하는 사업에 관심을 갖고 공사에 지원한 동기에 대해 ...  \n",
       "3   1.공동체의 일원으로서 가장 중요하게 생각하는 가치를 제시하고, 그 가치를 실천했던...  \n",
       "4   1. 본인이 가진 가장 뛰어난 점과 그렇게 판단한 이유, 고용노동연수원 업무수행에서...  \n",
       "5   1.공동체의 일원으로서 가장 중요하게 생각하는 가치를 제시하고, 그 가치를 실천했던...  \n",
       "6   1.공동체의 일원으로서 가장 중요하게 생각하는 가치를 제시하고, 그 가치를 실천했던...  \n",
       "7   1.공동체의 일원으로서 가장 중요하게 생각하는 가치를 제시하고, 그 가치를 실천했던...  \n",
       "8   직무활동, 동아리/동호회, 팀프로젝트, 연구회, 재능기부 등 주요 직무능력을 서술하...  \n",
       "9   1. 공동체의 일원으로서 가장 중요하게 생각하는 가치를 제시하고, 그 가치를 실천했...  \n",
       "10  Q. 지원분야와 관련된 본인의 업무 역량을 중심으로 기술하시오.\\n \\n문예체 협력...  \n",
       "11  1. 공동체 일원으로서 가장 중요하게 생각하는 가치를 제시하고, 그 가치를 실천했던...  \n",
       "12  Q. 솔선수범하여 일처리를 한 경험이 있는가?\\n \\n [Gray 영역에서도 앞장서...  \n",
       "13  직무활동, 동아리/동호회, 팀프로젝트, 연구회, 재능기부 등 주요 직무능력을 서술하...  \n",
       "14  지원하고자 하는 직무와 관련하여, 직무활동, 동아리/동호회, 팀프로젝트, 연구회, ...  \n",
       "15  1. [실행중심] 새로운 아이디어 제안 또는 새롭게 시도하여 성과를 낸 경험에 대해...  \n",
       "16  [조직이해능력] 본인이 생각하는 ‘한국보훈복지의료공단’의 역할과 책임은 무엇이며, ...  \n",
       "17  * 자유양식\\n \\n 1. 성장과정\\n\\n 인간관계나 이루고자 하는 목표에 '좋은 ...  \n",
       "18  1. 공동체의 일원으로서 가장 중요하게 생각하는 가치를 제시하고, 그 가치를 실현했...  \n",
       "19  (1) 부산교통공사에 지원한 동기와 본인이 공사의 인재상에 부합하는 이유를 기술하시...  \n",
       "20  1. 타인의 요구사항을 사전에 파악하여 문제를 해결했던 경험에 대해 작성해 주십시오...  \n",
       "21  1. 학교나 직장 또는 기타 단체에서 업무를 추진하는데 필요한 능력을 스스로 관리하...  \n",
       "22  *직무활동, 동아리/동호회, 팀프로젝트, 연구회, 재능기부 등 주요 직무능력을 서술...  \n",
       "23  [조직이해능력] 본인이 생각하는 ‘한국보훈복지의료공단’의 역할과 책임은 무엇이며, ...  \n",
       "24  ■ 역량기술서\\n\\n * 입사지원서에 기술한 경력사항 및 직무 관련 기타 활동에 대...  \n",
       "25  1. 신용보증기금의 청년인턴에 지원하게 된 동기와 인턴생활을 통해 얻고자(배우고자)...  \n",
       "26  1. 신용보증기금의 청년인턴에 지원하게 된 동기와 인턴생활을 통해 얻고자(배우고자)...  \n",
       "27  1. 공동체의 일원으로서 가장 중요하게 생각하는 가치를 제시하고, 그 가치를 실천했...  \n",
       "28  1. 아리랑국제방송 해당직무를 지원한 동기 및 열정을 생각해 보시기 바랍니다. 해당...  \n",
       "29  1. 본인이 직장에서 이루고자 하는 목표와 농협중앙회에 지원한 이유를 연결지어 설명...  \n",
       "30  1. 공동체의 일원으로서 가장 중요하게 생각하는 가치를 제시하고, 그 가치를 실천했...  \n",
       "31  1. GS리테일에 지원하게 된 동기를 서술하여 주십시오.\\n\\n '데이터 분석을 통...  \n",
       "32  ■ (A,B 중 택 1)A. 자신이 공동 목표 달성을 하는 과정에서 솔선수범하는 사...  \n",
       "33  1. 가장 열정적으로 임했던 경험을 기술하고, 그 경험을 통해 청년인턴으로 근무하면...  \n",
       "34   타인의 요구사항을 사전에 파악하여 문제를 해결했던 경험에 대해 작성해 주십시오.(...  \n",
       "35  1. 한국가스안전공사가 진행하는 사업에 관심을 갖고 공사에 지원한 동기에 대해 구체...  \n",
       "36  1.공동체의 일원으로서 가장 중요하게 생각하는 가치를 제시하고, 그 가치를 실천했던...  \n",
       "37  1. 가장 열정적으로 임했던 경험을 기술하고, 그 경험을 통해 청년인턴으로 근무하면...  \n",
       "38  1. 지원동기 및 입사 후 포부 (최소 1자, 최대 1,000자 입력가능)\\n \\n...  \n",
       "39  1. 지원자의 회사를 선택할 때 기준은 무엇이며, 왜 한국기상산업기술원이 그 기준에...  \n",
       "40  1. 공동체 일원으로서 가장 중요하게 생각하는 가치를 제시하고, 그 가치를 실천했던...  \n",
       "41  지원하고자 하는 직무와 관련하여, 직무활동, 동아리/동호회, 팀프로젝트, 연구회, ...  \n",
       "42  1. 신용보증기금의 청년인턴에 지원하게 된 동기와 인턴생활을 통해 얻고자(배우고자)...  \n",
       "43  1. 공동체의 일원으로서 가장 중요하게 생각하는 가치를 제시하고, 그 가치를 실천했...  \n",
       "44  1. 타인의 요구사항을 사전에 파악하여 문제를 해결했던 경험에 대해 작성해 주십시오...  \n",
       "45  1. 학교나 직장 또는 기타 단체에서 업무를 추진하는데 필요한 능력을 스스로 관리하...  \n",
       "46  ■ 역량기술서\\n\\n * 입사지원서에 기술한 경력사항 및 직무 관련 기타 활동에 대...  \n",
       "47  1. 본인이 직장에서 이루고자 하는 목표와 농협중앙회에 지원한 이유를 연결지어 설명...  \n",
       "48  [조직이해능력] 본인이 생각하는 ‘한국보훈복지의료공단’의 역할과 책임은 무엇이며, ...  \n",
       "49  1. 신용보증기금의 청년인턴에 지원하게 된 동기와 인턴생활을 통해 얻고자(배우고자)...  "
      ]
     },
     "execution_count": 163,
     "metadata": {},
     "output_type": "execute_result"
    }
   ],
   "source": [
    "df.head(50)"
   ]
  },
  {
   "cell_type": "code",
   "execution_count": 164,
   "metadata": {},
   "outputs": [],
   "source": [
    "df.to_csv(\"4.csv\",encoding=\"utf-8\")"
   ]
  },
  {
   "cell_type": "code",
   "execution_count": 166,
   "metadata": {},
   "outputs": [
    {
     "data": {
      "text/plain": [
       "734"
      ]
     },
     "execution_count": 166,
     "metadata": {},
     "output_type": "execute_result"
    }
   ],
   "source": [
    "df[\"학점\"].isnull().sum()"
   ]
  }
 ],
 "metadata": {
  "kernelspec": {
   "display_name": "Python 3",
   "language": "python",
   "name": "python3"
  },
  "language_info": {
   "codemirror_mode": {
    "name": "ipython",
    "version": 3
   },
   "file_extension": ".py",
   "mimetype": "text/x-python",
   "name": "python",
   "nbconvert_exporter": "python",
   "pygments_lexer": "ipython3",
   "version": "3.7.6"
  }
 },
 "nbformat": 4,
 "nbformat_minor": 4
}
