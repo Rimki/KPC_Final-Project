{
 "cells": [
  {
   "cell_type": "code",
   "execution_count": 1,
   "metadata": {},
   "outputs": [],
   "source": [
    "# import\n",
    "from bs4 import BeautifulSoup as bs\n",
    "import requests\n",
    "import numpy as np\n",
    "import pandas as pd\n",
    "import re\n",
    "\n",
    "import time\n",
    "\n",
    "from selenium import webdriver\n",
    "from selenium.webdriver.chrome.options import Options\n",
    "from selenium.webdriver.support.wait import WebDriverWait"
   ]
  },
  {
   "cell_type": "code",
   "execution_count": 9,
   "metadata": {},
   "outputs": [],
   "source": [
    "browser = webdriver.Chrome(executable_path=\"C:\\\\Users\\\\acorn-509\\\\Documents\\\\GitHub\\\\KPC_Final-Project\\\\chromedriver.exe\")\n",
    "\n",
    "browser.get(\"https://linkareer.com/cover-letter/24360?page=1&sort=SCRAP_COUNT&tab=all\")"
   ]
  },
  {
   "cell_type": "code",
   "execution_count": 12,
   "metadata": {},
   "outputs": [
    {
     "data": {
      "text/plain": [
       "'서울과학기술대학교 / 학점 4.29 / 오픽 IH / 재경관리사 / 정보처리산업기사 / 사무자동화산업기사 / 워드프로세서'"
      ]
     },
     "execution_count": 12,
     "metadata": {},
     "output_type": "execute_result"
    }
   ],
   "source": [
    "res = browser.page_source # urllib.request.urlopen(~~)\n",
    "soup = bs(res, 'html.parser')\n",
    "soup.find_all(\"p\")[1].text"
   ]
  },
  {
   "cell_type": "code",
   "execution_count": 34,
   "metadata": {},
   "outputs": [
    {
     "ename": "NoSuchElementException",
     "evalue": "Message: no such element: Unable to locate element: {\"method\":\"xpath\",\"selector\":\"/html/body/div[1]/div[1]/div[2]/div/div[2]/div[2]/div[1]/div/div[2]/div[8]\"}\n  (Session info: chrome=84.0.4147.105)\n",
     "output_type": "error",
     "traceback": [
      "\u001b[1;31m---------------------------------------------------------------------------\u001b[0m",
      "\u001b[1;31mNoSuchElementException\u001b[0m                    Traceback (most recent call last)",
      "\u001b[1;32m<ipython-input-34-9ed2b84d9d8f>\u001b[0m in \u001b[0;36m<module>\u001b[1;34m\u001b[0m\n\u001b[0;32m     30\u001b[0m         \u001b[1;32mfor\u001b[0m \u001b[0ml\u001b[0m \u001b[1;32min\u001b[0m \u001b[0mrange\u001b[0m\u001b[1;33m(\u001b[0m\u001b[1;36m1\u001b[0m\u001b[1;33m,\u001b[0m\u001b[1;36m21\u001b[0m\u001b[1;33m)\u001b[0m\u001b[1;33m:\u001b[0m\u001b[1;33m\u001b[0m\u001b[1;33m\u001b[0m\u001b[0m\n\u001b[0;32m     31\u001b[0m             \u001b[0mc\u001b[0m \u001b[1;33m=\u001b[0m \u001b[0ma\u001b[0m \u001b[1;33m+\u001b[0m \u001b[0mstr\u001b[0m\u001b[1;33m(\u001b[0m\u001b[0ml\u001b[0m\u001b[1;33m)\u001b[0m \u001b[1;33m+\u001b[0m \u001b[0mb\u001b[0m\u001b[1;33m\u001b[0m\u001b[1;33m\u001b[0m\u001b[0m\n\u001b[1;32m---> 32\u001b[1;33m             \u001b[0mbrowser\u001b[0m\u001b[1;33m.\u001b[0m\u001b[0mfind_element_by_xpath\u001b[0m\u001b[1;33m(\u001b[0m\u001b[0mc\u001b[0m\u001b[1;33m)\u001b[0m\u001b[1;33m.\u001b[0m\u001b[0mclick\u001b[0m\u001b[1;33m(\u001b[0m\u001b[1;33m)\u001b[0m\u001b[1;33m\u001b[0m\u001b[1;33m\u001b[0m\u001b[0m\n\u001b[0m\u001b[0;32m     33\u001b[0m             \u001b[0mtime\u001b[0m\u001b[1;33m.\u001b[0m\u001b[0msleep\u001b[0m\u001b[1;33m(\u001b[0m\u001b[1;36m0.5\u001b[0m\u001b[1;33m)\u001b[0m\u001b[1;33m\u001b[0m\u001b[1;33m\u001b[0m\u001b[0m\n\u001b[0;32m     34\u001b[0m \u001b[1;33m\u001b[0m\u001b[0m\n",
      "\u001b[1;32m~\\anaconda3\\lib\\site-packages\\selenium\\webdriver\\remote\\webdriver.py\u001b[0m in \u001b[0;36mfind_element_by_xpath\u001b[1;34m(self, xpath)\u001b[0m\n\u001b[0;32m    392\u001b[0m             \u001b[0melement\u001b[0m \u001b[1;33m=\u001b[0m \u001b[0mdriver\u001b[0m\u001b[1;33m.\u001b[0m\u001b[0mfind_element_by_xpath\u001b[0m\u001b[1;33m(\u001b[0m\u001b[1;34m'//div/td[1]'\u001b[0m\u001b[1;33m)\u001b[0m\u001b[1;33m\u001b[0m\u001b[1;33m\u001b[0m\u001b[0m\n\u001b[0;32m    393\u001b[0m         \"\"\"\n\u001b[1;32m--> 394\u001b[1;33m         \u001b[1;32mreturn\u001b[0m \u001b[0mself\u001b[0m\u001b[1;33m.\u001b[0m\u001b[0mfind_element\u001b[0m\u001b[1;33m(\u001b[0m\u001b[0mby\u001b[0m\u001b[1;33m=\u001b[0m\u001b[0mBy\u001b[0m\u001b[1;33m.\u001b[0m\u001b[0mXPATH\u001b[0m\u001b[1;33m,\u001b[0m \u001b[0mvalue\u001b[0m\u001b[1;33m=\u001b[0m\u001b[0mxpath\u001b[0m\u001b[1;33m)\u001b[0m\u001b[1;33m\u001b[0m\u001b[1;33m\u001b[0m\u001b[0m\n\u001b[0m\u001b[0;32m    395\u001b[0m \u001b[1;33m\u001b[0m\u001b[0m\n\u001b[0;32m    396\u001b[0m     \u001b[1;32mdef\u001b[0m \u001b[0mfind_elements_by_xpath\u001b[0m\u001b[1;33m(\u001b[0m\u001b[0mself\u001b[0m\u001b[1;33m,\u001b[0m \u001b[0mxpath\u001b[0m\u001b[1;33m)\u001b[0m\u001b[1;33m:\u001b[0m\u001b[1;33m\u001b[0m\u001b[1;33m\u001b[0m\u001b[0m\n",
      "\u001b[1;32m~\\anaconda3\\lib\\site-packages\\selenium\\webdriver\\remote\\webdriver.py\u001b[0m in \u001b[0;36mfind_element\u001b[1;34m(self, by, value)\u001b[0m\n\u001b[0;32m    976\u001b[0m         return self.execute(Command.FIND_ELEMENT, {\n\u001b[0;32m    977\u001b[0m             \u001b[1;34m'using'\u001b[0m\u001b[1;33m:\u001b[0m \u001b[0mby\u001b[0m\u001b[1;33m,\u001b[0m\u001b[1;33m\u001b[0m\u001b[1;33m\u001b[0m\u001b[0m\n\u001b[1;32m--> 978\u001b[1;33m             'value': value})['value']\n\u001b[0m\u001b[0;32m    979\u001b[0m \u001b[1;33m\u001b[0m\u001b[0m\n\u001b[0;32m    980\u001b[0m     \u001b[1;32mdef\u001b[0m \u001b[0mfind_elements\u001b[0m\u001b[1;33m(\u001b[0m\u001b[0mself\u001b[0m\u001b[1;33m,\u001b[0m \u001b[0mby\u001b[0m\u001b[1;33m=\u001b[0m\u001b[0mBy\u001b[0m\u001b[1;33m.\u001b[0m\u001b[0mID\u001b[0m\u001b[1;33m,\u001b[0m \u001b[0mvalue\u001b[0m\u001b[1;33m=\u001b[0m\u001b[1;32mNone\u001b[0m\u001b[1;33m)\u001b[0m\u001b[1;33m:\u001b[0m\u001b[1;33m\u001b[0m\u001b[1;33m\u001b[0m\u001b[0m\n",
      "\u001b[1;32m~\\anaconda3\\lib\\site-packages\\selenium\\webdriver\\remote\\webdriver.py\u001b[0m in \u001b[0;36mexecute\u001b[1;34m(self, driver_command, params)\u001b[0m\n\u001b[0;32m    319\u001b[0m         \u001b[0mresponse\u001b[0m \u001b[1;33m=\u001b[0m \u001b[0mself\u001b[0m\u001b[1;33m.\u001b[0m\u001b[0mcommand_executor\u001b[0m\u001b[1;33m.\u001b[0m\u001b[0mexecute\u001b[0m\u001b[1;33m(\u001b[0m\u001b[0mdriver_command\u001b[0m\u001b[1;33m,\u001b[0m \u001b[0mparams\u001b[0m\u001b[1;33m)\u001b[0m\u001b[1;33m\u001b[0m\u001b[1;33m\u001b[0m\u001b[0m\n\u001b[0;32m    320\u001b[0m         \u001b[1;32mif\u001b[0m \u001b[0mresponse\u001b[0m\u001b[1;33m:\u001b[0m\u001b[1;33m\u001b[0m\u001b[1;33m\u001b[0m\u001b[0m\n\u001b[1;32m--> 321\u001b[1;33m             \u001b[0mself\u001b[0m\u001b[1;33m.\u001b[0m\u001b[0merror_handler\u001b[0m\u001b[1;33m.\u001b[0m\u001b[0mcheck_response\u001b[0m\u001b[1;33m(\u001b[0m\u001b[0mresponse\u001b[0m\u001b[1;33m)\u001b[0m\u001b[1;33m\u001b[0m\u001b[1;33m\u001b[0m\u001b[0m\n\u001b[0m\u001b[0;32m    322\u001b[0m             response['value'] = self._unwrap_value(\n\u001b[0;32m    323\u001b[0m                 response.get('value', None))\n",
      "\u001b[1;32m~\\anaconda3\\lib\\site-packages\\selenium\\webdriver\\remote\\errorhandler.py\u001b[0m in \u001b[0;36mcheck_response\u001b[1;34m(self, response)\u001b[0m\n\u001b[0;32m    240\u001b[0m                 \u001b[0malert_text\u001b[0m \u001b[1;33m=\u001b[0m \u001b[0mvalue\u001b[0m\u001b[1;33m[\u001b[0m\u001b[1;34m'alert'\u001b[0m\u001b[1;33m]\u001b[0m\u001b[1;33m.\u001b[0m\u001b[0mget\u001b[0m\u001b[1;33m(\u001b[0m\u001b[1;34m'text'\u001b[0m\u001b[1;33m)\u001b[0m\u001b[1;33m\u001b[0m\u001b[1;33m\u001b[0m\u001b[0m\n\u001b[0;32m    241\u001b[0m             \u001b[1;32mraise\u001b[0m \u001b[0mexception_class\u001b[0m\u001b[1;33m(\u001b[0m\u001b[0mmessage\u001b[0m\u001b[1;33m,\u001b[0m \u001b[0mscreen\u001b[0m\u001b[1;33m,\u001b[0m \u001b[0mstacktrace\u001b[0m\u001b[1;33m,\u001b[0m \u001b[0malert_text\u001b[0m\u001b[1;33m)\u001b[0m\u001b[1;33m\u001b[0m\u001b[1;33m\u001b[0m\u001b[0m\n\u001b[1;32m--> 242\u001b[1;33m         \u001b[1;32mraise\u001b[0m \u001b[0mexception_class\u001b[0m\u001b[1;33m(\u001b[0m\u001b[0mmessage\u001b[0m\u001b[1;33m,\u001b[0m \u001b[0mscreen\u001b[0m\u001b[1;33m,\u001b[0m \u001b[0mstacktrace\u001b[0m\u001b[1;33m)\u001b[0m\u001b[1;33m\u001b[0m\u001b[1;33m\u001b[0m\u001b[0m\n\u001b[0m\u001b[0;32m    243\u001b[0m \u001b[1;33m\u001b[0m\u001b[0m\n\u001b[0;32m    244\u001b[0m     \u001b[1;32mdef\u001b[0m \u001b[0m_value_or_default\u001b[0m\u001b[1;33m(\u001b[0m\u001b[0mself\u001b[0m\u001b[1;33m,\u001b[0m \u001b[0mobj\u001b[0m\u001b[1;33m,\u001b[0m \u001b[0mkey\u001b[0m\u001b[1;33m,\u001b[0m \u001b[0mdefault\u001b[0m\u001b[1;33m)\u001b[0m\u001b[1;33m:\u001b[0m\u001b[1;33m\u001b[0m\u001b[1;33m\u001b[0m\u001b[0m\n",
      "\u001b[1;31mNoSuchElementException\u001b[0m: Message: no such element: Unable to locate element: {\"method\":\"xpath\",\"selector\":\"/html/body/div[1]/div[1]/div[2]/div/div[2]/div[2]/div[1]/div/div[2]/div[8]\"}\n  (Session info: chrome=84.0.4147.105)\n"
     ]
    }
   ],
   "source": [
    "# 해당 페이지 설정\n",
    "browser = webdriver.Chrome(executable_path=\"C:\\\\Users\\\\acorn-509\\\\Documents\\\\GitHub\\\\KPC_Final-Project\\\\chromedriver.exe\")\n",
    "browser.get(\"https://linkareer.com/cover-letter/21858?page=368&sort=PASSED_AT&tab=all\")\n",
    "\n",
    "# 상세 내용을 알수 있는 메서드\n",
    "a = \"/html/body/div[1]/div[1]/div[2]/div/div[2]/div[2]/div[1]/div/div[2]/div[\"\n",
    "b = \"]\"\n",
    "\n",
    "# 버튼의 xpath(버튼은 415까지 있음)\n",
    "# button 2 3 4 5 6      >버튼)-> 7\n",
    "d=\"/html/body/div[1]/div[1]/div[2]/div/div[2]/div[2]/div[1]/div/div[2]/div[21]/div/div[1]/button[\"\n",
    "e=\"]\"\n",
    "\n",
    "\n",
    "# 데이터 프레임 정의 하기\n",
    "#WriteData_3 = pd.DataFrame()\n",
    "WriteData_temp = pd.DataFrame()\n",
    "WriteData_temp = WriteData_temp.append({\"1\" : \"\",\"2\" : \"\", \"3\" : \"\"}, ignore_index = True)\n",
    "\n",
    "one_idx = WriteData_temp.columns.get_loc(\"1\")\n",
    "two_idx = WriteData_temp.columns.get_loc(\"2\")\n",
    "three_idx = WriteData_temp.columns.get_loc(\"3\")\n",
    "page = 1\n",
    "while(page<29):\n",
    "    for k in range(3,8):\n",
    "        f = d + str(k) + e\n",
    "        browser.find_element_by_xpath(f).click()\n",
    "        time.sleep(0.5)\n",
    "\n",
    "        for l in range(1,21):\n",
    "            c = a + str(l) + b\n",
    "            browser.find_element_by_xpath(c).click()\n",
    "            time.sleep(0.5)\n",
    "\n",
    "            # 전체페이지를 가지고와서 전체데이터 확인\n",
    "            res = browser.page_source # urllib.request.urlopen(~~)\n",
    "            soup = bs(res, 'html.parser')\n",
    "            WriteData_temp.iat[0,one_idx] = soup.find_all(\"p\")[1].text\n",
    "            WriteData_temp.iat[0,two_idx] = soup.find_all(\"p\")[2].text\n",
    "            WriteData_temp.iat[0,three_idx] = soup.find_all(\"p\")[5].text\n",
    "\n",
    "            WriteData_3 = WriteData_3.append(WriteData_temp, ignore_index=True)\n",
    "\n",
    "            #   정보 비우기\n",
    "            for j in range(0, len(WriteData_temp.columns)):\n",
    "                WriteData_temp.iat[0,j] = \"\"\n",
    "    page=page+1\n",
    "\n",
    "\n",
    "# WriteData 데이터 프레임 가져오기\n",
    "WriteData_3"
   ]
  },
  {
   "cell_type": "code",
   "execution_count": 49,
   "metadata": {},
   "outputs": [
    {
     "data": {
      "text/html": [
       "<div>\n",
       "<style scoped>\n",
       "    .dataframe tbody tr th:only-of-type {\n",
       "        vertical-align: middle;\n",
       "    }\n",
       "\n",
       "    .dataframe tbody tr th {\n",
       "        vertical-align: top;\n",
       "    }\n",
       "\n",
       "    .dataframe thead th {\n",
       "        text-align: right;\n",
       "    }\n",
       "</style>\n",
       "<table border=\"1\" class=\"dataframe\">\n",
       "  <thead>\n",
       "    <tr style=\"text-align: right;\">\n",
       "      <th></th>\n",
       "      <th>1</th>\n",
       "      <th>2</th>\n",
       "      <th>3</th>\n",
       "    </tr>\n",
       "  </thead>\n",
       "  <tbody>\n",
       "    <tr>\n",
       "      <th>0</th>\n",
       "      <td>삼성전자 / 반도체연구소 / 2016 하반기</td>\n",
       "      <td>SKY / 신소재 / 학점 3.78 / 토익 910 / 토스 lv6</td>\n",
       "      <td>삼성취업을 선택한 이유와 입사 후 회사에서 이루고 싶은 꿈을 기술하십시오.\\n\\n제...</td>\n",
       "    </tr>\n",
       "    <tr>\n",
       "      <th>1</th>\n",
       "      <td>LG 실트론 / 품질 / 2016 하반기</td>\n",
       "      <td>지방사립 / 화학공학 / 학점 3.44 / 토익 715 / 대외할동1회, 현장실습2회</td>\n",
       "      <td>해당회사 및 직무에 지원하는 동기에 대해 기술하시오. 500자 ~ 1000자\\n\\n...</td>\n",
       "    </tr>\n",
       "    <tr>\n",
       "      <th>2</th>\n",
       "      <td>CJ올리브영 / 사업관리 / 2016 하반기</td>\n",
       "      <td>중경외시 / 법학과 / 학점 3.5x / 오픽 IM2</td>\n",
       "      <td>올리브영 및 해당 직무에 지원한 동기는 무엇인가요? 관심 갖게 된 계기를 반드시 포...</td>\n",
       "    </tr>\n",
       "    <tr>\n",
       "      <th>3</th>\n",
       "      <td>KT 스카이라이프 / 방송,콘텐츠 / 2016 하반기</td>\n",
       "      <td>서울 4년제 / 미디어 / 학점 3.5 / 910, level6(140) / 학생회...</td>\n",
       "      <td>2. 공동의목표를 달성하기 위해 타인과 협업했던 경험과 그 과정에서 본인이 수행한 ...</td>\n",
       "    </tr>\n",
       "    <tr>\n",
       "      <th>4</th>\n",
       "      <td>KT / 네트워크 / 2016 하반기</td>\n",
       "      <td></td>\n",
       "      <td>1. 회사 및 해당직무에 지원하게 된 동기와 입사 후 회사에서 이루고 싶은 중장기적...</td>\n",
       "    </tr>\n",
       "    <tr>\n",
       "      <th>...</th>\n",
       "      <td>...</td>\n",
       "      <td>...</td>\n",
       "      <td>...</td>\n",
       "    </tr>\n",
       "    <tr>\n",
       "      <th>2860</th>\n",
       "      <td>현대파워텍 / 연구개발 / 2013 하반기</td>\n",
       "      <td>경희대 / 기계 / 학점 3.76 / 토익 860 / 인턴 1회</td>\n",
       "      <td>1. 성장과정\\n\\n&lt;견학을 통해 얻은 특허&gt;\\n\\n특허를 취득하고 싶어서 아이디어...</td>\n",
       "    </tr>\n",
       "    <tr>\n",
       "      <th>2861</th>\n",
       "      <td>웅진코웨이 / 마케팅 / 2013 하반기</td>\n",
       "      <td>부산경상대학교 / 광고마케팅과 / 학점 3.8 / 토익 850</td>\n",
       "      <td>1. 지원동기\\n\\n인재와 기업이 함께 성장할 수 있는 곳, 그곳이 바로 웅진코웨이...</td>\n",
       "    </tr>\n",
       "    <tr>\n",
       "      <th>2862</th>\n",
       "      <td>현대자동차 / 영업관리 / 2013 상반기</td>\n",
       "      <td>상명대학교 / 국제통상학 / 학점 4.3 / 토익 900, HSK 6급 / 해외인턴...</td>\n",
       "      <td>1. 현대자동차에 지원하게 된 동기 또는 해당 직무에 지원하게 된 동기는 무엇입니까...</td>\n",
       "    </tr>\n",
       "    <tr>\n",
       "      <th>2863</th>\n",
       "      <td>심팩 / 용접관리 / 2013 상반기</td>\n",
       "      <td>지방전문대 / 공업화학 / 학점 3.06</td>\n",
       "      <td>성격소개\\n\\n대부분의 사람들이 평가하는 첫인상은 소심하고 내성적인 성격일것이라 생...</td>\n",
       "    </tr>\n",
       "    <tr>\n",
       "      <th>2864</th>\n",
       "      <td>한국전력 / 인턴[송,배전] / 2013 상반기</td>\n",
       "      <td>지거국 / 전자공학 / 학점 3.7 / 토익 900대 / 음악봉사활동, 멘토링 등</td>\n",
       "      <td>[질문 1] 취업이라는 목표 이외에 인생의 큰 목표를 세운 경험, 그 목표를 실현하...</td>\n",
       "    </tr>\n",
       "  </tbody>\n",
       "</table>\n",
       "<p>1543 rows × 3 columns</p>\n",
       "</div>"
      ],
      "text/plain": [
       "                                  1  \\\n",
       "0          삼성전자 / 반도체연구소 / 2016 하반기   \n",
       "1            LG 실트론 / 품질 / 2016 하반기   \n",
       "2          CJ올리브영 / 사업관리 / 2016 하반기   \n",
       "3     KT 스카이라이프 / 방송,콘텐츠 / 2016 하반기   \n",
       "4              KT / 네트워크 / 2016 하반기   \n",
       "...                             ...   \n",
       "2860        현대파워텍 / 연구개발 / 2013 하반기   \n",
       "2861         웅진코웨이 / 마케팅 / 2013 하반기   \n",
       "2862        현대자동차 / 영업관리 / 2013 상반기   \n",
       "2863           심팩 / 용접관리 / 2013 상반기   \n",
       "2864     한국전력 / 인턴[송,배전] / 2013 상반기   \n",
       "\n",
       "                                                      2  \\\n",
       "0                 SKY / 신소재 / 학점 3.78 / 토익 910 / 토스 lv6   \n",
       "1       지방사립 / 화학공학 / 학점 3.44 / 토익 715 / 대외할동1회, 현장실습2회   \n",
       "2                         중경외시 / 법학과 / 학점 3.5x / 오픽 IM2   \n",
       "3     서울 4년제 / 미디어 / 학점 3.5 / 910, level6(140) / 학생회...   \n",
       "4                                                         \n",
       "...                                                 ...   \n",
       "2860                경희대 / 기계 / 학점 3.76 / 토익 860 / 인턴 1회   \n",
       "2861                 부산경상대학교 / 광고마케팅과 / 학점 3.8 / 토익 850   \n",
       "2862  상명대학교 / 국제통상학 / 학점 4.3 / 토익 900, HSK 6급 / 해외인턴...   \n",
       "2863                             지방전문대 / 공업화학 / 학점 3.06   \n",
       "2864      지거국 / 전자공학 / 학점 3.7 / 토익 900대 / 음악봉사활동, 멘토링 등   \n",
       "\n",
       "                                                      3  \n",
       "0     삼성취업을 선택한 이유와 입사 후 회사에서 이루고 싶은 꿈을 기술하십시오.\\n\\n제...  \n",
       "1     해당회사 및 직무에 지원하는 동기에 대해 기술하시오. 500자 ~ 1000자\\n\\n...  \n",
       "2     올리브영 및 해당 직무에 지원한 동기는 무엇인가요? 관심 갖게 된 계기를 반드시 포...  \n",
       "3     2. 공동의목표를 달성하기 위해 타인과 협업했던 경험과 그 과정에서 본인이 수행한 ...  \n",
       "4     1. 회사 및 해당직무에 지원하게 된 동기와 입사 후 회사에서 이루고 싶은 중장기적...  \n",
       "...                                                 ...  \n",
       "2860  1. 성장과정\\n\\n<견학을 통해 얻은 특허>\\n\\n특허를 취득하고 싶어서 아이디어...  \n",
       "2861  1. 지원동기\\n\\n인재와 기업이 함께 성장할 수 있는 곳, 그곳이 바로 웅진코웨이...  \n",
       "2862  1. 현대자동차에 지원하게 된 동기 또는 해당 직무에 지원하게 된 동기는 무엇입니까...  \n",
       "2863  성격소개\\n\\n대부분의 사람들이 평가하는 첫인상은 소심하고 내성적인 성격일것이라 생...  \n",
       "2864  [질문 1] 취업이라는 목표 이외에 인생의 큰 목표를 세운 경험, 그 목표를 실현하...  \n",
       "\n",
       "[1543 rows x 3 columns]"
      ]
     },
     "execution_count": 49,
     "metadata": {},
     "output_type": "execute_result"
    }
   ],
   "source": [
    "WriteData_3 "
   ]
  },
  {
   "cell_type": "code",
   "execution_count": 48,
   "metadata": {},
   "outputs": [],
   "source": [
    "WriteData_3.to_csv(\"WriteDate_3.csv\",encoding='utf-8')"
   ]
  },
  {
   "cell_type": "code",
   "execution_count": 49,
   "metadata": {
    "scrolled": true
   },
   "outputs": [
    {
     "data": {
      "text/plain": [
       "\"1. CJ제일제당에 지원하게 된 동기와 여러 지원자들 중 본인이 'ONLYONE' 이라고 생각하는 부분은 무엇인지 작성해주십시오. (CJ에서 ONLYONE의 의미 참조) (500자) \\n\\n [발전과 기여의 기회, CJ제일제당]\\n \\n CJ제일제당은 끊임없는 연구개발을 통해 빠르게 변화하는 소비자들의 니즈에 맞는 다양한 상품을 만들고 있습니다. 또한 이를 통해 트렌드를 선도하며 사람들의 삶의 양식을 바꿔 새로운 문화를 만들어내고 있습니다. 이렇게 좋은 상품으로 고객에게 최고의 만족을 주고 변화를 두려워하지 않으며 계속 발전해나가는 것을 지향하는 CJ제일제당에서의 식품 영업 업무는 효율적인 프로세스 안에서 항상 새로운 것을 지향하고 능동적으로 일하며 저의 업무를 통해 스스로의 역량 발전을 이룰 뿐만 아니라 CJ제일제당에 매출이라는 성과로서 기여할 수 있는 좋은 기회라고 생각하였습니다.\\n 이러한 기회를 얻음으로써 저만의 ONLY ONE인 상품의 특성에 맞는 진열 방식과 진열 위치 선정 방법 그리고 제가 원하는 것을 얻어 낼 수 있는 파트너사와의 소통 방법 등 실무의 경험에서 얻은 노하우들을 업무에 적극 활용하여 항상 최고의 성과를 도출해 내는 CJ제일제당의 영업사원이 되겠습니다.\\n \\n\\n\\n\\n 2. 필수 본인이 지원한 직무를 회사에서 수행하는 역할을 기준으로 하나의 키워드를 활용해서 정의해보고, 해당 직무를 본인이 잘 할 수 있다고 판단하는 근거를 기술해주십시오. (500자) \\n \\n[소통의 경험]\\n \\n CJ제일제당에서의 식품 영업의 가장 주된 역할은 어느 유통 채널에 가더라도 고객들이 CJ제일제당의 상품을 쉽게 접할 수 있도록 하는 기회를 만들어내는 것이라고 생각합니다.\\n 고객들이 쉽게 상품을 접하게 하기 위해서는 상품에 맞는 효율적인 진열 방식을 제안하고 고객들에게 자주 노출될 수 있는 진열 위치를 잡는 등의 활동이 필요한데 이런 활동은 유통사 영업담당과의 소통을 통해 이루어질 것입니다. 하이퍼마켓에서 가공식품 담당 업무를 할 때 CJ 영업담당과 소통하고 협력하여 주류코너에 좋은 위치를 잡아 맛밤 나무 조형물을 설치하고 맛밤을 연관 진열하여 권역에서 맛밤 매출 1등을 달성하였습니다. 또한 CJ뿐만 아니라 여러 식품사 영업담당들과 소통을 통해 다양한 행사 전개 및 프로모션 활동을 경험하였습니다.\\n 이렇게 소통을 통한 협업으로 성과를 도출해 낸 경험을 적극 활용하여 CJ제일제당의 좋은 상품들을 고객들이 더욱 쉽고, 자주 접할 수 있도록 하는 기회를 만들어내겠습니다.\\n\\n\\n\\n \\n 3. CJ가 만들고 있는 '문화'는 무엇이라고 생각하는지 자신의 견해를 기술하고, 자신이 지원 직무를 수행함으로써 본인이 정의한 '문화'를 만드는 일에 어떻게 기여할 수 있을지 작성해주십시오. ※문항의 '문화'의 의미를 식문화로 한정할 필요는 없음 (500자)\\n \\n [건강하고 편리한 생활양식으로서의 문화]\\n \\n CJ가 만들고 있는 문화의 의미는 '사람들의 삶을 건강하고 편리하게 만드는 새로운 생활양식''이라고 생각합니다.\\n CJ는 옛날의 생활양식으로써는 사람들이 받아들이기 힘들었던 냉동식품, 즉석밥 등의 상품들을 최고의 품질로 만들어 가공된 가정간편식은 질이 안 좋다는 소비자들의 편견을 없애주고 편의성, 맛 등 여러 요소에서 만족감을 주어 꼭 밥을 지어먹어야 하고, 요리를 만들어 먹어야 했던 생활양식을 CJ의 제품을 통해 건강하면서도 편리하게 생활할 수 있도록 소비자들의 생활에 긍정적인 변화를 가져다주었습니다.\\n 이렇게 삶의 양식을 긍정적으로 변화시키고 트렌드를 선도해나가는 CJ제일제당의 최고 품질의 상품들을 지금보다 더 많은 소비자들이 여러 유통 채널에서 더욱 폭넓고 쉽게 접할 수 있는 기회를 만들어내는 업무를 효율적으로 수행하여 건강하고 편리한 새로운 생활양식을 만들어내는 CJ의 문화를 끊임없이 전파하고 창조하는 것에 기여하겠습니다. 4.\\n \\n\\n\\n\\n4. CJ제일제당이 속한 식품산업군은 급속한 환경의 변화가 이루어지는 시장입니다. 식품산업군의 지원 직무 Specialist로 어떤 미래를 그리고 싶은지, 본인의 성장 계획을 작성해주십시오. (500자) \\n\\n [동반성장에 기여하는 영업사원]\\n \\n 고객, 유통사와의 끊임없는 직, 간접적 소통을 통해 트렌드에 맞는 CJ제일제당의 최고의 상품을 고객에게 효율적으로 제안하는 업무를 통하여 모두에게 신뢰를 얻고 동시에 매출이라는 가시적인 성과를 얻어 고객, 유통사에는 만족을 주고 CJ제일제당에는 성과로 기여하면서 스스로의 역량 발전을 이뤄 저와 CJ제일제당의 동반성장을 이끌어내는 영업사원이 되겠습니다.\\n CJ제일제당은 각종 이슈사항, 시즌 등에 따라 빠르게 변하는 소비 트렌드에 맞춰 끊임없는 개발과 연구를 통해 소비자들의 니즈에 맞는 상품을 끊임없이 출시하고 있습니다. 이러한 CJ제일제당의 영업사원으로서 스스로 발전하며 회사에 기여하기 위해 유통사, 고객과의 지속적인 소통과 동시에 변화에 뒤처지지 않기 위한 소비 트렌드 분석, 담당 권역의 상권 분석 등의 능동적인 업무 수행을 통하여 스스로 끊임없이 발전하여 성취감을 얻음과 동시에 CJ제일제당의 일원으로서 성과로서 회사에 기여할 수 있도록 하겠습니다.\""
      ]
     },
     "execution_count": 49,
     "metadata": {},
     "output_type": "execute_result"
    }
   ],
   "source": [
    "# 자소서 문항 뽑기1\n",
    "soup.find_all(\"body\")[0].find(\"div\",class_=\"jss6 jss1\").find_all(\"div\",class_=\"MuiBox-root jss363 jss320\")[0].find_all(\"p\",class_=\"MuiTypography-root jss319 MuiTypography-body1\")[0].text.strip()"
   ]
  },
  {
   "cell_type": "code",
   "execution_count": 5,
   "metadata": {},
   "outputs": [
    {
     "ename": "NameError",
     "evalue": "name 'soup' is not defined",
     "output_type": "error",
     "traceback": [
      "\u001b[1;31m---------------------------------------------------------------------------\u001b[0m",
      "\u001b[1;31mNameError\u001b[0m                                 Traceback (most recent call last)",
      "\u001b[1;32m<ipython-input-5-d87b4a98bf5e>\u001b[0m in \u001b[0;36m<module>\u001b[1;34m\u001b[0m\n\u001b[1;32m----> 1\u001b[1;33m \u001b[0msoup\u001b[0m\u001b[1;33m.\u001b[0m\u001b[0mfind_all\u001b[0m\u001b[1;33m(\u001b[0m\u001b[1;34m\"p\"\u001b[0m\u001b[1;33m)\u001b[0m\u001b[1;33m[\u001b[0m\u001b[1;36m1\u001b[0m\u001b[1;33m]\u001b[0m\u001b[1;33m.\u001b[0m\u001b[0mtext\u001b[0m\u001b[1;33m\u001b[0m\u001b[1;33m\u001b[0m\u001b[0m\n\u001b[0m",
      "\u001b[1;31mNameError\u001b[0m: name 'soup' is not defined"
     ]
    }
   ],
   "source": [
    "soup.find_all(\"p\")[1].text"
   ]
  },
  {
   "cell_type": "code",
   "execution_count": 9,
   "metadata": {},
   "outputs": [
    {
     "data": {
      "text/plain": [
       "'지방사립 / 토목 / 학점 2.95 / 토익400 / RCY 2년 10개월'"
      ]
     },
     "execution_count": 9,
     "metadata": {},
     "output_type": "execute_result"
    }
   ],
   "source": [
    "soup.find_all(\"p\")[2].text"
   ]
  },
  {
   "cell_type": "code",
   "execution_count": 66,
   "metadata": {
    "scrolled": true
   },
   "outputs": [
    {
     "data": {
      "text/plain": [
       "'■ 한국전력공사의 4가지 인재상 중 본인과 가장 부합한다고 생각하는 인재상을 두 가지 선택하여 그렇게 생각하는 이유를 본인의 교육, 경험, 경력사항 등 구체적인 사례를 들어 기술하여 주십시오.\\n｢조직 생활의 밑거름이 된 학생회｣\\n\\n대학 입학 후 1년 동안 학과의 학생회로 활동하였습니다. 그 중에서도 사무부에 배치되어 다양한 업무를 수행하게 되었습니다. 학생회비를 토대로 한 학기의 예산안을 작성하고, 장부에 기록하며, 결산안을 작성하여 공표하는 등의 활동을 하였습니다. 이 활동에서 사무부가 타 부서와의 갈등이 자주 발생한다는 것을 깨닫게 되었습니다. 자금을 관리하다 보니 각 부서마다 원하는 금액이 달라 협상할 필요가 있었고, 그 때마다 상황에 따른 확고한 의견 제시와 때로는 적절한 의견 수렴을 통해 해결하면서 학생회라는 조직 전체의 발전에 이바지 할 수 있었습니다.\\n\\n[창의적 사고를 늘려준 시민경영참여단]\\n\\n평소 저 자신을 바라볼 때, 제가 아이디어를 제시하는 스타일이 아니라고 생각하던 사람이었습니다. 그러나 서울시설공단에서 진행된 시민경영참여단에서 활동하며 잘못된 생각임을 알게 되었습니다. 다양한 분야의 사람들과 하나의 팀으로 이뤄져, 공단에서 제시하는 자율과제와 차년도 사업 아이디어에 대한 프로젝트를 하게 되었는데, 전체적으로 아이디어를 제시하지 못하던 상황에서, 의견을 내기 편한 분위기를 조성하고 제가 전공으로 하는 분야와 연관을 지어 생각을 확장하자 어느새 다양한 아이디어가 제시되었고, 제 아이디어가 선별 되어, 공단 직원들로부터 긍정적인 결론을 이끌어 낼 수 있었습니다.\\n\\n위의 활동을 통해 제가 한국전력공사에서 요구하는 통섭형 인재와 도전적 인재와 부합된다고 생각했습니다. 공사에 입사한 이후에도 앞에서 말씀드린 강점을 가지고 조직 역량을 발휘하고, 새로운 도전을 지속하는 인재가 되겠습니다.\\n\\n■ 한국전력공사에 지원하게 된 동기, 희망 직무를 선택한 이유 그리고 입사 후 어떤 업무를 하고 싶은지를 본인의 교육, 경험, 경력사항 등과 연계하여 구체적으로 기술하여 주십시오.\\n\\n[일상에서 밀접한 관련이 있는 한국전력공사]\\n\\n평소 기업을 선택할 때 중요하게 여기는 것은 그 기업이 진행하는 사업이 얼마나 우리의 삶에 영향을 미치는가 입니다. 이러한 요인은 제가 맡은 직무에 더욱 관심을 가지고 몰입할 수 있게 만들어 준다고 생각합니다. 그러한 면에서 한국전력공사는 어린 시절부터 자주 접한 분야이자, 에너지를 통해 새로운 미래 가치를 창출해 나간다는 점에서 고민 없이 선택하게 되었습니다.\\n\\n[회계와 재무에 대한 열정적인 자세]\\n\\n희망 직무인 사무 분야 중에서도 재무 및 회계 분야의 업무를 진행하고 싶습니다. 이 분야에 있어 역량을 갖추기 위해 학과에는 존재하지 않아 타 전공에서 듣는 위험을 감수하고, 수강 가능한 모든 재무 및 회계 과목을 이수하였으며 학생회나, 다양한 팀 프로젝트를 하면서도 빠질 수 없는 자금 계획을 작성하는 과정에서 항상 흥미를 느끼고 열정적으로 몰입했기 때문입니다.\\n\\n회사에 입사한 후 3년 이내에 전문성을 기르기 위해 전문자격증을 취득할 예정입니다. 이를 통해 이 분야의 전문가가 되도록 하겠습니다. 또한 4차 산업에 대한 기술 분야의 교육도 받음으로써 융합형 인재가 되어 회사의 발전에 도움이 될 수 있도록 하겠습니다.\\n\\n■ 어떤 경험을 하였고, 어떤 역할을 수행하였는지, 비전과 핵심가치는 무엇이며, 앞으로의 발전 방향은 무엇인지 언급 후 이 곳이 자신의 목표와 비전을 실현하기에 최적의 회사, 기여할 수 있는 역량을 준비해왔음을 어필. 3년, 5년 10년 내 이룰 수 있는 역량과 목표, 구체적 실현계획과 자기계발 계획.        \\n\\n■ 최근 한국전력공사 또는 한국전력공사의 사업과 관련된 주요 이슈에 대해 한 가지를 언급하고 그것에 대한 본인의 견해(문제의 원인, 개선방안 등 포함)를 기술하여 주십시오.\\n\\n[발전 공기업의 영업이익 감소 추세, 그럼에도 늘어난 채용 인원]\\n\\n최근 발표된 자료에 따르면, 한국의 발전 공기업의 영업이익이 2년 사이에 적자로 돌아섰고, 전기요금 인상 논란에도 오히려 인건비 지출이 늘었다는 점을 비판하는 여론을 피할 수 없었습니다.\\n\\n그러나 근본적으로 생각해보면 적자는 당연한 수순이라고 생각합니다. 한국전력공사의 주요 상품이 전기이다 보니, 2년 전 탈원전 정책에 따른 원자력 에너지 저감 조치가 발생하였고, 전력 발전량을 유지하기 위해 기존에 사용하던 자원으로 회귀하면서 연료 가격이 상승하였고 이는 적자로 연결이 되었습니다. 또한, 올해 7월에 시행된 전기세 완화 개편으로 인해 수익 그리고 이에 따라 이익 감소하는 것은 피할 수 없다고 생각합니다. 이러한 상황에서도 채용 인원을 줄일 수 없는 것은 새로운 사업 및 산업의 변화에 따라 필요한 인력을 고용해야 하기 때문입니다.\\n\\n따라서, 이러한 비판에 굴하지 않고 지속적으로 기존의 사업을 유지해 나가는 것이 중요하다고 생각합니다. 또한 앞으로 발전 가능성이 있는 해외 사업과 4차 산업혁명과 연관 있는 다양한 사업을 발굴함으로써 이를 해결할 수 있다고 생각합니다. 감사합니다.'"
      ]
     },
     "execution_count": 66,
     "metadata": {},
     "output_type": "execute_result"
    }
   ],
   "source": [
    "# 자소서(2) 문항 뽑기\n",
    "soup.find_all(\"body\")[0].find(\"div\",class_=\"jss6 jss1\").find_all(\"div\",class_=\"MuiBox-root jss363 jss320\")[0].find_all(\"p\",class_=\"MuiTypography-root jss319 MuiTypography-body1\")[0].text.strip()"
   ]
  },
  {
   "cell_type": "code",
   "execution_count": null,
   "metadata": {},
   "outputs": [],
   "source": [
    "# 자소서 문항 뽑기\n",
    "soup.find_all(\"body\")[0].find(\"div\",class_=\"jss6 jss1\").find_all(\"div\",class_=\"MuiBox-root jss363 jss320\")[0].find_all(\"p\",class_=\"MuiTypography-root jss319 MuiTypography-body1\")[0].text.strip()"
   ]
  }
 ],
 "metadata": {
  "kernelspec": {
   "display_name": "Python 3",
   "language": "python",
   "name": "python3"
  },
  "language_info": {
   "codemirror_mode": {
    "name": "ipython",
    "version": 3
   },
   "file_extension": ".py",
   "mimetype": "text/x-python",
   "name": "python",
   "nbconvert_exporter": "python",
   "pygments_lexer": "ipython3",
   "version": "3.7.6"
  },
  "toc": {
   "base_numbering": 1,
   "nav_menu": {},
   "number_sections": true,
   "sideBar": true,
   "skip_h1_title": false,
   "title_cell": "Table of Contents",
   "title_sidebar": "Contents",
   "toc_cell": false,
   "toc_position": {},
   "toc_section_display": true,
   "toc_window_display": false
  }
 },
 "nbformat": 4,
 "nbformat_minor": 4
}
