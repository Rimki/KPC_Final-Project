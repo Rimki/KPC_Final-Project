{
 "cells": [
  {
   "cell_type": "code",
   "execution_count": 19,
   "metadata": {},
   "outputs": [],
   "source": [
    "import pandas as pd\n",
    "import numpy as np"
   ]
  },
  {
   "cell_type": "code",
   "execution_count": 31,
   "metadata": {},
   "outputs": [],
   "source": [
    "raw_df = pd.read_csv(\"WriteData.csv\")"
   ]
  },
  {
   "cell_type": "code",
   "execution_count": 25,
   "metadata": {},
   "outputs": [],
   "source": [
    "raw_df1=pd.read_csv(\"20200807.csv\")"
   ]
  },
  {
   "cell_type": "code",
   "execution_count": 30,
   "metadata": {
    "scrolled": false
   },
   "outputs": [
    {
     "data": {
      "text/html": [
       "<div>\n",
       "<style scoped>\n",
       "    .dataframe tbody tr th:only-of-type {\n",
       "        vertical-align: middle;\n",
       "    }\n",
       "\n",
       "    .dataframe tbody tr th {\n",
       "        vertical-align: top;\n",
       "    }\n",
       "\n",
       "    .dataframe thead th {\n",
       "        text-align: right;\n",
       "    }\n",
       "</style>\n",
       "<table border=\"1\" class=\"dataframe\">\n",
       "  <thead>\n",
       "    <tr style=\"text-align: right;\">\n",
       "      <th></th>\n",
       "      <th>Unnamed: 0</th>\n",
       "      <th>기업명</th>\n",
       "      <th>지원부서</th>\n",
       "      <th>지원시기</th>\n",
       "      <th>학교</th>\n",
       "      <th>학과</th>\n",
       "      <th>학점</th>\n",
       "      <th>어학</th>\n",
       "      <th>자격증</th>\n",
       "      <th>경험사항</th>\n",
       "      <th>자소서</th>\n",
       "    </tr>\n",
       "  </thead>\n",
       "  <tbody>\n",
       "    <tr>\n",
       "      <th>0</th>\n",
       "      <td>0</td>\n",
       "      <td>한국석유공사</td>\n",
       "      <td>설비</td>\n",
       "      <td>2020 상반기</td>\n",
       "      <td>고등학교졸업</td>\n",
       "      <td>NaN</td>\n",
       "      <td>학점 1.7등급</td>\n",
       "      <td>NaN</td>\n",
       "      <td>NaN</td>\n",
       "      <td>NaN</td>\n",
       "      <td>7.한국석유공사\\n\\n 1. 지원 분야 직무기술서 ‘직무수행 내용’ 중 본인이 가장...</td>\n",
       "    </tr>\n",
       "    <tr>\n",
       "      <th>1</th>\n",
       "      <td>1</td>\n",
       "      <td>CJ제일제당</td>\n",
       "      <td>Food Sales</td>\n",
       "      <td>2020 상반기</td>\n",
       "      <td>서울사립대(중앙대학교)</td>\n",
       "      <td>NaN</td>\n",
       "      <td>NaN</td>\n",
       "      <td>NaN</td>\n",
       "      <td>NaN</td>\n",
       "      <td>NaN</td>\n",
       "      <td>CJ제일제당 및 선택한 직무에 대한 지원동기는 무엇인가요? ① 선택한 직무에 관심을...</td>\n",
       "    </tr>\n",
       "    <tr>\n",
       "      <th>2</th>\n",
       "      <td>2</td>\n",
       "      <td>한국가스안전공사</td>\n",
       "      <td>LP가스 안전지킴이사업</td>\n",
       "      <td>2020 상반기</td>\n",
       "      <td>지방거점국립대(제주대학교)</td>\n",
       "      <td>NaN</td>\n",
       "      <td>학점 3.3</td>\n",
       "      <td>NaN</td>\n",
       "      <td>NaN</td>\n",
       "      <td>NaN</td>\n",
       "      <td>\\n1. 한국가스안전공사가 진행하는 사업에 관심을 갖고 공사에 지원한 동기에 대해 ...</td>\n",
       "    </tr>\n",
       "    <tr>\n",
       "      <th>3</th>\n",
       "      <td>3</td>\n",
       "      <td>코레일</td>\n",
       "      <td>사무영업</td>\n",
       "      <td>2020 상반기</td>\n",
       "      <td>지방거점국립대(충남대학교)</td>\n",
       "      <td>NaN</td>\n",
       "      <td>학점 3.87</td>\n",
       "      <td>NaN</td>\n",
       "      <td>NaN</td>\n",
       "      <td>NaN</td>\n",
       "      <td>1.공동체의 일원으로서 가장 중요하게 생각하는 가치를 제시하고, 그 가치를 실천했던...</td>\n",
       "    </tr>\n",
       "    <tr>\n",
       "      <th>4</th>\n",
       "      <td>4</td>\n",
       "      <td>한국기술교육대학교</td>\n",
       "      <td>행정</td>\n",
       "      <td>2020 상반기</td>\n",
       "      <td>서울사립대(건국대학교)</td>\n",
       "      <td>NaN</td>\n",
       "      <td>학점 4.0</td>\n",
       "      <td>NaN</td>\n",
       "      <td>NaN</td>\n",
       "      <td>NaN</td>\n",
       "      <td>1. 본인이 가진 가장 뛰어난 점과 그렇게 판단한 이유, 고용노동연수원 업무수행에서...</td>\n",
       "    </tr>\n",
       "    <tr>\n",
       "      <th>...</th>\n",
       "      <td>...</td>\n",
       "      <td>...</td>\n",
       "      <td>...</td>\n",
       "      <td>...</td>\n",
       "      <td>...</td>\n",
       "      <td>...</td>\n",
       "      <td>...</td>\n",
       "      <td>...</td>\n",
       "      <td>...</td>\n",
       "      <td>...</td>\n",
       "      <td>...</td>\n",
       "    </tr>\n",
       "    <tr>\n",
       "      <th>10102</th>\n",
       "      <td>10102</td>\n",
       "      <td>현대자동차</td>\n",
       "      <td>영업관리</td>\n",
       "      <td>2013 상반기</td>\n",
       "      <td>서울사립대(상명대학교)</td>\n",
       "      <td>NaN</td>\n",
       "      <td>NaN</td>\n",
       "      <td>NaN</td>\n",
       "      <td>NaN</td>\n",
       "      <td>NaN</td>\n",
       "      <td>1. 현대자동차에 지원하게 된 동기 또는 해당 직무에 지원하게 된 동기는 무엇입니까...</td>\n",
       "    </tr>\n",
       "    <tr>\n",
       "      <th>10103</th>\n",
       "      <td>10103</td>\n",
       "      <td>심팩</td>\n",
       "      <td>용접관리</td>\n",
       "      <td>2013 상반기</td>\n",
       "      <td>전문대</td>\n",
       "      <td>NaN</td>\n",
       "      <td>NaN</td>\n",
       "      <td>NaN</td>\n",
       "      <td>NaN</td>\n",
       "      <td>NaN</td>\n",
       "      <td>성격소개\\n\\n대부분의 사람들이 평가하는 첫인상은 소심하고 내성적인 성격일것이라 생...</td>\n",
       "    </tr>\n",
       "    <tr>\n",
       "      <th>10104</th>\n",
       "      <td>10104</td>\n",
       "      <td>한국전력</td>\n",
       "      <td>인턴[송,배전]</td>\n",
       "      <td>2013 상반기</td>\n",
       "      <td>지방거점국립대</td>\n",
       "      <td>NaN</td>\n",
       "      <td>NaN</td>\n",
       "      <td>NaN</td>\n",
       "      <td>NaN</td>\n",
       "      <td>NaN</td>\n",
       "      <td>[질문 1] 취업이라는 목표 이외에 인생의 큰 목표를 세운 경험, 그 목표를 실현하...</td>\n",
       "    </tr>\n",
       "    <tr>\n",
       "      <th>10105</th>\n",
       "      <td>10105</td>\n",
       "      <td>한국전력</td>\n",
       "      <td>인턴[송,배전]</td>\n",
       "      <td>2013 상반기</td>\n",
       "      <td>지방거점국립대</td>\n",
       "      <td>NaN</td>\n",
       "      <td>NaN</td>\n",
       "      <td>NaN</td>\n",
       "      <td>NaN</td>\n",
       "      <td>NaN</td>\n",
       "      <td>한전 자가소개서 양식 500자 12줄 이내\\n\\n[질문 1] 취업이라는 목표 이외에...</td>\n",
       "    </tr>\n",
       "    <tr>\n",
       "      <th>10106</th>\n",
       "      <td>10106</td>\n",
       "      <td>한국전력</td>\n",
       "      <td>인턴[송,배전]</td>\n",
       "      <td>2013 상반기</td>\n",
       "      <td>지방거점국립대</td>\n",
       "      <td>NaN</td>\n",
       "      <td>NaN</td>\n",
       "      <td>NaN</td>\n",
       "      <td>NaN</td>\n",
       "      <td>NaN</td>\n",
       "      <td>한전 자가소개서 양식 500자 12줄 이내\\n\\n[질문 1] 취업이라는 목표 이외에...</td>\n",
       "    </tr>\n",
       "  </tbody>\n",
       "</table>\n",
       "<p>10107 rows × 11 columns</p>\n",
       "</div>"
      ],
      "text/plain": [
       "       Unnamed: 0         기업명            지원부서       지원시기              학교   학과  \\\n",
       "0               0     한국석유공사              설비    2020 상반기          고등학교졸업  NaN   \n",
       "1               1     CJ제일제당      Food Sales    2020 상반기    서울사립대(중앙대학교)  NaN   \n",
       "2               2   한국가스안전공사    LP가스 안전지킴이사업    2020 상반기  지방거점국립대(제주대학교)  NaN   \n",
       "3               3        코레일            사무영업    2020 상반기  지방거점국립대(충남대학교)  NaN   \n",
       "4               4  한국기술교육대학교              행정    2020 상반기    서울사립대(건국대학교)  NaN   \n",
       "...           ...         ...             ...        ...             ...  ...   \n",
       "10102       10102      현대자동차            영업관리    2013 상반기    서울사립대(상명대학교)  NaN   \n",
       "10103       10103         심팩            용접관리    2013 상반기             전문대  NaN   \n",
       "10104       10104       한국전력        인턴[송,배전]    2013 상반기         지방거점국립대  NaN   \n",
       "10105       10105       한국전력        인턴[송,배전]    2013 상반기         지방거점국립대  NaN   \n",
       "10106       10106       한국전력        인턴[송,배전]    2013 상반기         지방거점국립대  NaN   \n",
       "\n",
       "               학점   어학  자격증 경험사항  \\\n",
       "0       학점 1.7등급   NaN  NaN  NaN   \n",
       "1             NaN  NaN  NaN  NaN   \n",
       "2         학점 3.3   NaN  NaN  NaN   \n",
       "3        학점 3.87   NaN  NaN  NaN   \n",
       "4         학점 4.0   NaN  NaN  NaN   \n",
       "...           ...  ...  ...  ...   \n",
       "10102         NaN  NaN  NaN  NaN   \n",
       "10103         NaN  NaN  NaN  NaN   \n",
       "10104         NaN  NaN  NaN  NaN   \n",
       "10105         NaN  NaN  NaN  NaN   \n",
       "10106         NaN  NaN  NaN  NaN   \n",
       "\n",
       "                                                     자소서  \n",
       "0      7.한국석유공사\\n\\n 1. 지원 분야 직무기술서 ‘직무수행 내용’ 중 본인이 가장...  \n",
       "1      CJ제일제당 및 선택한 직무에 대한 지원동기는 무엇인가요? ① 선택한 직무에 관심을...  \n",
       "2      \\n1. 한국가스안전공사가 진행하는 사업에 관심을 갖고 공사에 지원한 동기에 대해 ...  \n",
       "3      1.공동체의 일원으로서 가장 중요하게 생각하는 가치를 제시하고, 그 가치를 실천했던...  \n",
       "4      1. 본인이 가진 가장 뛰어난 점과 그렇게 판단한 이유, 고용노동연수원 업무수행에서...  \n",
       "...                                                  ...  \n",
       "10102  1. 현대자동차에 지원하게 된 동기 또는 해당 직무에 지원하게 된 동기는 무엇입니까...  \n",
       "10103  성격소개\\n\\n대부분의 사람들이 평가하는 첫인상은 소심하고 내성적인 성격일것이라 생...  \n",
       "10104  [질문 1] 취업이라는 목표 이외에 인생의 큰 목표를 세운 경험, 그 목표를 실현하...  \n",
       "10105  한전 자가소개서 양식 500자 12줄 이내\\n\\n[질문 1] 취업이라는 목표 이외에...  \n",
       "10106  한전 자가소개서 양식 500자 12줄 이내\\n\\n[질문 1] 취업이라는 목표 이외에...  \n",
       "\n",
       "[10107 rows x 11 columns]"
      ]
     },
     "execution_count": 30,
     "metadata": {},
     "output_type": "execute_result"
    }
   ],
   "source": [
    "raw_df1"
   ]
  },
  {
   "cell_type": "code",
   "execution_count": 32,
   "metadata": {},
   "outputs": [],
   "source": [
    "df = pd.DataFrame(columns=[\"기업명\",\"지원부서\",\"지원시기\",\"학교\",\"학과\",\"학점\",\"어학\",\"자격증\",\"경험사항\",\"자소서\"])"
   ]
  },
  {
   "cell_type": "code",
   "execution_count": 26,
   "metadata": {},
   "outputs": [],
   "source": [
    "df1 = pd.DataFrame(columns=[\"기업명\",\"지원부서\",\"지원시기\",\"학교\",\"학과\",\"학점\",\"어학\",\"자격증\",\"경험사항\",\"자소서\"])"
   ]
  },
  {
   "cell_type": "code",
   "execution_count": 34,
   "metadata": {},
   "outputs": [],
   "source": [
    "df[\"기업명\"] = raw_df['1'].str.split(\"/\",expand=True)[0]\n",
    "df[\"지원부서\"] = raw_df['1'].str.split(\"/\",expand=True)[1]\n",
    "df[\"지원시기\"] = raw_df['1'].str.split(\"/\",expand=True)[2]\n",
    "df[\"자소서\"] = raw_df[\"3\"]"
   ]
  },
  {
   "cell_type": "code",
   "execution_count": 24,
   "metadata": {},
   "outputs": [
    {
     "data": {
      "text/plain": [
       "0                    한국석유공사 / 설비 / 2020 상반기\n",
       "1            CJ제일제당 / Food Sales / 2020 상반기\n",
       "2        한국가스안전공사 / LP가스 안전지킴이사업 / 2020 상반기\n",
       "3                     코레일 / 사무영업 / 2020 상반기\n",
       "4                 한국기술교육대학교 / 행정 / 2020 상반기\n",
       "                        ...                \n",
       "10102               현대자동차 / 영업관리 / 2013 상반기\n",
       "10103                  심팩 / 용접관리 / 2013 상반기\n",
       "10104            한국전력 / 인턴[송,배전] / 2013 상반기\n",
       "10105            한국전력 / 인턴[송,배전] / 2013 상반기\n",
       "10106            한국전력 / 인턴[송,배전] / 2013 상반기\n",
       "Name: 1, Length: 10107, dtype: object"
      ]
     },
     "execution_count": 24,
     "metadata": {},
     "output_type": "execute_result"
    }
   ],
   "source": [
    "raw_df[\"1\"]"
   ]
  },
  {
   "cell_type": "code",
   "execution_count": 40,
   "metadata": {
    "scrolled": false
   },
   "outputs": [
    {
     "data": {
      "text/html": [
       "<div>\n",
       "<style scoped>\n",
       "    .dataframe tbody tr th:only-of-type {\n",
       "        vertical-align: middle;\n",
       "    }\n",
       "\n",
       "    .dataframe tbody tr th {\n",
       "        vertical-align: top;\n",
       "    }\n",
       "\n",
       "    .dataframe thead th {\n",
       "        text-align: right;\n",
       "    }\n",
       "</style>\n",
       "<table border=\"1\" class=\"dataframe\">\n",
       "  <thead>\n",
       "    <tr style=\"text-align: right;\">\n",
       "      <th></th>\n",
       "      <th>기업명</th>\n",
       "      <th>지원부서</th>\n",
       "      <th>지원시기</th>\n",
       "      <th>학교</th>\n",
       "      <th>학과</th>\n",
       "      <th>학점</th>\n",
       "      <th>어학</th>\n",
       "      <th>자격증</th>\n",
       "      <th>경험사항</th>\n",
       "      <th>자소서</th>\n",
       "    </tr>\n",
       "  </thead>\n",
       "  <tbody>\n",
       "    <tr>\n",
       "      <th>0</th>\n",
       "      <td>한국석유공사</td>\n",
       "      <td>설비</td>\n",
       "      <td>2020 상반기</td>\n",
       "      <td>NaN</td>\n",
       "      <td>NaN</td>\n",
       "      <td>학점 1.7등급</td>\n",
       "      <td>NaN</td>\n",
       "      <td>NaN</td>\n",
       "      <td>NaN</td>\n",
       "      <td>7.한국석유공사\\n\\n 1. 지원 분야 직무기술서 ‘직무수행 내용’ 중 본인이 가장...</td>\n",
       "    </tr>\n",
       "    <tr>\n",
       "      <th>1</th>\n",
       "      <td>CJ제일제당</td>\n",
       "      <td>Food Sales</td>\n",
       "      <td>2020 상반기</td>\n",
       "      <td>NaN</td>\n",
       "      <td>NaN</td>\n",
       "      <td>NaN</td>\n",
       "      <td>NaN</td>\n",
       "      <td>NaN</td>\n",
       "      <td>NaN</td>\n",
       "      <td>CJ제일제당 및 선택한 직무에 대한 지원동기는 무엇인가요? ① 선택한 직무에 관심을...</td>\n",
       "    </tr>\n",
       "    <tr>\n",
       "      <th>2</th>\n",
       "      <td>한국가스안전공사</td>\n",
       "      <td>LP가스 안전지킴이사업</td>\n",
       "      <td>2020 상반기</td>\n",
       "      <td>NaN</td>\n",
       "      <td>NaN</td>\n",
       "      <td>학점 3.3</td>\n",
       "      <td>NaN</td>\n",
       "      <td>NaN</td>\n",
       "      <td>NaN</td>\n",
       "      <td>\\n1. 한국가스안전공사가 진행하는 사업에 관심을 갖고 공사에 지원한 동기에 대해 ...</td>\n",
       "    </tr>\n",
       "    <tr>\n",
       "      <th>3</th>\n",
       "      <td>코레일</td>\n",
       "      <td>사무영업</td>\n",
       "      <td>2020 상반기</td>\n",
       "      <td>NaN</td>\n",
       "      <td>NaN</td>\n",
       "      <td>학점 3.87</td>\n",
       "      <td>NaN</td>\n",
       "      <td>NaN</td>\n",
       "      <td>NaN</td>\n",
       "      <td>1.공동체의 일원으로서 가장 중요하게 생각하는 가치를 제시하고, 그 가치를 실천했던...</td>\n",
       "    </tr>\n",
       "    <tr>\n",
       "      <th>4</th>\n",
       "      <td>한국기술교육대학교</td>\n",
       "      <td>행정</td>\n",
       "      <td>2020 상반기</td>\n",
       "      <td>NaN</td>\n",
       "      <td>NaN</td>\n",
       "      <td>학점 4.0</td>\n",
       "      <td>NaN</td>\n",
       "      <td>NaN</td>\n",
       "      <td>NaN</td>\n",
       "      <td>1. 본인이 가진 가장 뛰어난 점과 그렇게 판단한 이유, 고용노동연수원 업무수행에서...</td>\n",
       "    </tr>\n",
       "    <tr>\n",
       "      <th>...</th>\n",
       "      <td>...</td>\n",
       "      <td>...</td>\n",
       "      <td>...</td>\n",
       "      <td>...</td>\n",
       "      <td>...</td>\n",
       "      <td>...</td>\n",
       "      <td>...</td>\n",
       "      <td>...</td>\n",
       "      <td>...</td>\n",
       "      <td>...</td>\n",
       "    </tr>\n",
       "    <tr>\n",
       "      <th>10102</th>\n",
       "      <td>현대자동차</td>\n",
       "      <td>영업관리</td>\n",
       "      <td>2013 상반기</td>\n",
       "      <td>NaN</td>\n",
       "      <td>NaN</td>\n",
       "      <td>NaN</td>\n",
       "      <td>NaN</td>\n",
       "      <td>NaN</td>\n",
       "      <td>NaN</td>\n",
       "      <td>1. 현대자동차에 지원하게 된 동기 또는 해당 직무에 지원하게 된 동기는 무엇입니까...</td>\n",
       "    </tr>\n",
       "    <tr>\n",
       "      <th>10103</th>\n",
       "      <td>심팩</td>\n",
       "      <td>용접관리</td>\n",
       "      <td>2013 상반기</td>\n",
       "      <td>NaN</td>\n",
       "      <td>NaN</td>\n",
       "      <td>NaN</td>\n",
       "      <td>NaN</td>\n",
       "      <td>NaN</td>\n",
       "      <td>NaN</td>\n",
       "      <td>성격소개\\n\\n대부분의 사람들이 평가하는 첫인상은 소심하고 내성적인 성격일것이라 생...</td>\n",
       "    </tr>\n",
       "    <tr>\n",
       "      <th>10104</th>\n",
       "      <td>한국전력</td>\n",
       "      <td>인턴[송,배전]</td>\n",
       "      <td>2013 상반기</td>\n",
       "      <td>NaN</td>\n",
       "      <td>NaN</td>\n",
       "      <td>NaN</td>\n",
       "      <td>NaN</td>\n",
       "      <td>NaN</td>\n",
       "      <td>NaN</td>\n",
       "      <td>[질문 1] 취업이라는 목표 이외에 인생의 큰 목표를 세운 경험, 그 목표를 실현하...</td>\n",
       "    </tr>\n",
       "    <tr>\n",
       "      <th>10105</th>\n",
       "      <td>한국전력</td>\n",
       "      <td>인턴[송,배전]</td>\n",
       "      <td>2013 상반기</td>\n",
       "      <td>NaN</td>\n",
       "      <td>NaN</td>\n",
       "      <td>NaN</td>\n",
       "      <td>NaN</td>\n",
       "      <td>NaN</td>\n",
       "      <td>NaN</td>\n",
       "      <td>한전 자가소개서 양식 500자 12줄 이내\\n\\n[질문 1] 취업이라는 목표 이외에...</td>\n",
       "    </tr>\n",
       "    <tr>\n",
       "      <th>10106</th>\n",
       "      <td>한국전력</td>\n",
       "      <td>인턴[송,배전]</td>\n",
       "      <td>2013 상반기</td>\n",
       "      <td>NaN</td>\n",
       "      <td>NaN</td>\n",
       "      <td>NaN</td>\n",
       "      <td>NaN</td>\n",
       "      <td>NaN</td>\n",
       "      <td>NaN</td>\n",
       "      <td>한전 자가소개서 양식 500자 12줄 이내\\n\\n[질문 1] 취업이라는 목표 이외에...</td>\n",
       "    </tr>\n",
       "  </tbody>\n",
       "</table>\n",
       "<p>10107 rows × 10 columns</p>\n",
       "</div>"
      ],
      "text/plain": [
       "              기업명            지원부서       지원시기   학교   학과          학점   어학  자격증  \\\n",
       "0         한국석유공사              설비    2020 상반기  NaN  NaN   학점 1.7등급   NaN  NaN   \n",
       "1         CJ제일제당      Food Sales    2020 상반기  NaN  NaN         NaN  NaN  NaN   \n",
       "2       한국가스안전공사    LP가스 안전지킴이사업    2020 상반기  NaN  NaN     학점 3.3   NaN  NaN   \n",
       "3            코레일            사무영업    2020 상반기  NaN  NaN    학점 3.87   NaN  NaN   \n",
       "4      한국기술교육대학교              행정    2020 상반기  NaN  NaN     학점 4.0   NaN  NaN   \n",
       "...           ...             ...        ...  ...  ...         ...  ...  ...   \n",
       "10102      현대자동차            영업관리    2013 상반기  NaN  NaN         NaN  NaN  NaN   \n",
       "10103         심팩            용접관리    2013 상반기  NaN  NaN         NaN  NaN  NaN   \n",
       "10104       한국전력        인턴[송,배전]    2013 상반기  NaN  NaN         NaN  NaN  NaN   \n",
       "10105       한국전력        인턴[송,배전]    2013 상반기  NaN  NaN         NaN  NaN  NaN   \n",
       "10106       한국전력        인턴[송,배전]    2013 상반기  NaN  NaN         NaN  NaN  NaN   \n",
       "\n",
       "      경험사항                                                자소서  \n",
       "0      NaN  7.한국석유공사\\n\\n 1. 지원 분야 직무기술서 ‘직무수행 내용’ 중 본인이 가장...  \n",
       "1      NaN  CJ제일제당 및 선택한 직무에 대한 지원동기는 무엇인가요? ① 선택한 직무에 관심을...  \n",
       "2      NaN  \\n1. 한국가스안전공사가 진행하는 사업에 관심을 갖고 공사에 지원한 동기에 대해 ...  \n",
       "3      NaN  1.공동체의 일원으로서 가장 중요하게 생각하는 가치를 제시하고, 그 가치를 실천했던...  \n",
       "4      NaN  1. 본인이 가진 가장 뛰어난 점과 그렇게 판단한 이유, 고용노동연수원 업무수행에서...  \n",
       "...    ...                                                ...  \n",
       "10102  NaN  1. 현대자동차에 지원하게 된 동기 또는 해당 직무에 지원하게 된 동기는 무엇입니까...  \n",
       "10103  NaN  성격소개\\n\\n대부분의 사람들이 평가하는 첫인상은 소심하고 내성적인 성격일것이라 생...  \n",
       "10104  NaN  [질문 1] 취업이라는 목표 이외에 인생의 큰 목표를 세운 경험, 그 목표를 실현하...  \n",
       "10105  NaN  한전 자가소개서 양식 500자 12줄 이내\\n\\n[질문 1] 취업이라는 목표 이외에...  \n",
       "10106  NaN  한전 자가소개서 양식 500자 12줄 이내\\n\\n[질문 1] 취업이라는 목표 이외에...  \n",
       "\n",
       "[10107 rows x 10 columns]"
      ]
     },
     "execution_count": 40,
     "metadata": {},
     "output_type": "execute_result"
    }
   ],
   "source": [
    "df"
   ]
  },
  {
   "cell_type": "code",
   "execution_count": 124,
   "metadata": {},
   "outputs": [],
   "source": [
    "first = raw_df[\"2\"].str.split(\"/\",expand=True)[0]\n",
    "second = raw_df[\"2\"].str.split(\"/\",expand=True)[1]\n",
    "third = raw_df[\"2\"].str.split(\"/\",expand=True)[2]\n",
    "#raw_df[\"2\"].str.split(\"/\",expand=True)[3]\n",
    "#raw_df[\"2\"].str.split(\"/\",expand=True)[4]\n",
    "#raw_df[\"2\"].str.split(\"/\",expand=True)[5]"
   ]
  },
  {
   "cell_type": "code",
   "execution_count": 96,
   "metadata": {
    "scrolled": true
   },
   "outputs": [
    {
     "data": {
      "text/plain": [
       "10057    NaN\n",
       "10058    NaN\n",
       "10059    NaN\n",
       "10060    NaN\n",
       "10061    NaN\n",
       "10062    NaN\n",
       "10063    NaN\n",
       "10064    NaN\n",
       "10065    NaN\n",
       "10066    NaN\n",
       "10067    NaN\n",
       "10068    NaN\n",
       "10069    NaN\n",
       "10070    NaN\n",
       "10071    NaN\n",
       "10072    NaN\n",
       "10073    NaN\n",
       "10074    NaN\n",
       "10075    NaN\n",
       "10076    NaN\n",
       "10077    NaN\n",
       "10078    NaN\n",
       "10079    NaN\n",
       "10080    NaN\n",
       "10081    NaN\n",
       "10082    NaN\n",
       "10083    NaN\n",
       "10084    NaN\n",
       "10085    NaN\n",
       "10086    NaN\n",
       "10087    NaN\n",
       "10088    NaN\n",
       "10089    NaN\n",
       "10090    NaN\n",
       "10091    NaN\n",
       "10092    NaN\n",
       "10093    NaN\n",
       "10094    NaN\n",
       "10095    NaN\n",
       "10096    NaN\n",
       "10097    NaN\n",
       "10098    NaN\n",
       "10099    NaN\n",
       "10100    NaN\n",
       "10101    NaN\n",
       "10102    NaN\n",
       "10103    NaN\n",
       "10104    NaN\n",
       "10105    NaN\n",
       "10106    NaN\n",
       "Name: 학과, dtype: object"
      ]
     },
     "execution_count": 96,
     "metadata": {},
     "output_type": "execute_result"
    }
   ],
   "source": [
    "df[\"학과\"].tail(50)"
   ]
  },
  {
   "cell_type": "code",
   "execution_count": 97,
   "metadata": {
    "scrolled": true
   },
   "outputs": [
    {
     "data": {
      "text/plain": [
       "10057               기계과 \n",
       "10058              전자전기 \n",
       "10059                경영 \n",
       "10060               컴퓨터 \n",
       "10061                재료 \n",
       "10062                경제 \n",
       "10063             전자공학과 \n",
       "10064               기계과 \n",
       "10065              전자전기 \n",
       "10066                경영 \n",
       "10067            토익 880 \n",
       "10068              전기전자 \n",
       "10069                영문과\n",
       "10070              신문방송 \n",
       "10071           전자전기공학부 \n",
       "10072               경영학 \n",
       "10073               법학과 \n",
       "10074              경영학부 \n",
       "10075            국제통상학과 \n",
       "10076              지리학과 \n",
       "10077             바이오나노 \n",
       "10078                기계 \n",
       "10079                화공 \n",
       "10080             바이오나노 \n",
       "10081                기계 \n",
       "10082                화공 \n",
       "10083     경영학, 경제학 복수전공 \n",
       "10084                전기 \n",
       "10085                기계 \n",
       "10086            컴퓨터공학과 \n",
       "10087              경영학과 \n",
       "10088            학점 3.8 \n",
       "10089                전자 \n",
       "10090                NaN\n",
       "10091              전기공학 \n",
       "10092                기계 \n",
       "10093              경제학과 \n",
       "10094             전기공학과 \n",
       "10095               경영학 \n",
       "10096                경영 \n",
       "10097              정보통신 \n",
       "10098              산업공학 \n",
       "10099            학점 3.8 \n",
       "10100                기계 \n",
       "10101            광고마케팅과 \n",
       "10102             국제통상학 \n",
       "10103              공업화학 \n",
       "10104              전자공학 \n",
       "10105              전자공학 \n",
       "10106              전자공학 \n",
       "Name: 1, dtype: object"
      ]
     },
     "execution_count": 97,
     "metadata": {},
     "output_type": "execute_result"
    }
   ],
   "source": [
    "second.tail(50)"
   ]
  },
  {
   "cell_type": "code",
   "execution_count": 368,
   "metadata": {},
   "outputs": [
    {
     "data": {
      "text/plain": [
       "0              학점 1.7등급 \n",
       "2                학점 3.3 \n",
       "3               학점 3.87 \n",
       "4                학점 4.0 \n",
       "5                학점 3.0 \n",
       "              ...       \n",
       "9905            학점 3.96 \n",
       "9932      학점 3.56, 4.28 \n",
       "9933            학점 4.17 \n",
       "10088            학점 3.8 \n",
       "10099            학점 3.8 \n",
       "Name: 1, Length: 1483, dtype: object"
      ]
     },
     "execution_count": 368,
     "metadata": {},
     "output_type": "execute_result"
    }
   ],
   "source": [
    "second[second.str.contains(\"학점 \")==True]"
   ]
  },
  {
   "cell_type": "code",
   "execution_count": 369,
   "metadata": {
    "scrolled": true
   },
   "outputs": [
    {
     "data": {
      "text/plain": [
       "0              학점 1.7등급 \n",
       "2                학점 3.3 \n",
       "3               학점 3.87 \n",
       "4                학점 4.0 \n",
       "5                학점 3.0 \n",
       "              ...       \n",
       "9905            학점 3.96 \n",
       "9932      학점 3.56, 4.28 \n",
       "9933            학점 4.17 \n",
       "10088            학점 3.8 \n",
       "10099            학점 3.8 \n",
       "Name: 1, Length: 1483, dtype: object"
      ]
     },
     "execution_count": 369,
     "metadata": {},
     "output_type": "execute_result"
    }
   ],
   "source": [
    "score"
   ]
  },
  {
   "cell_type": "code",
   "execution_count": 370,
   "metadata": {},
   "outputs": [],
   "source": [
    "second[second.str.contains(\"학점 \")==True]=\"\""
   ]
  },
  {
   "cell_type": "code",
   "execution_count": null,
   "metadata": {},
   "outputs": [],
   "source": []
  },
  {
   "cell_type": "code",
   "execution_count": null,
   "metadata": {},
   "outputs": [],
   "source": []
  },
  {
   "cell_type": "code",
   "execution_count": 100,
   "metadata": {},
   "outputs": [],
   "source": [
    "df[\"어학\"]=second[second.str.contains(\"토익\")==True]"
   ]
  },
  {
   "cell_type": "code",
   "execution_count": 101,
   "metadata": {},
   "outputs": [],
   "source": [
    "second[second.str.contains(\"토익\")==True]=\"\""
   ]
  },
  {
   "cell_type": "code",
   "execution_count": null,
   "metadata": {},
   "outputs": [],
   "source": []
  },
  {
   "cell_type": "code",
   "execution_count": null,
   "metadata": {},
   "outputs": [],
   "source": []
  },
  {
   "cell_type": "code",
   "execution_count": 163,
   "metadata": {},
   "outputs": [],
   "source": [
    "second[second.str.contains(\"전자공학\")==True]=\"전자공학과\""
   ]
  },
  {
   "cell_type": "code",
   "execution_count": 164,
   "metadata": {},
   "outputs": [
    {
     "data": {
      "text/plain": [
       "775      전자공학과\n",
       "781      전자공학과\n",
       "784      전자공학과\n",
       "862      전자공학과\n",
       "863      전자공학과\n",
       "         ...  \n",
       "10056    전자공학과\n",
       "10063    전자공학과\n",
       "10104    전자공학과\n",
       "10105    전자공학과\n",
       "10106    전자공학과\n",
       "Name: 1, Length: 369, dtype: object"
      ]
     },
     "execution_count": 164,
     "metadata": {},
     "output_type": "execute_result"
    }
   ],
   "source": [
    "second[second.str.contains(\"전자공학과\")==True]"
   ]
  },
  {
   "cell_type": "code",
   "execution_count": 136,
   "metadata": {},
   "outputs": [],
   "source": [
    "# df.loc[:,\"학과\"]=second[second.str.contains(\"전자공학과\")==True]"
   ]
  },
  {
   "cell_type": "code",
   "execution_count": 138,
   "metadata": {},
   "outputs": [],
   "source": [
    "# df[\"학과\"]=second[second.str.contains(\"전자공학과\")==True]"
   ]
  },
  {
   "cell_type": "code",
   "execution_count": 141,
   "metadata": {},
   "outputs": [
    {
     "data": {
      "text/plain": [
       "0        NaN\n",
       "1        NaN\n",
       "2        NaN\n",
       "3        NaN\n",
       "4        NaN\n",
       "        ... \n",
       "10102    NaN\n",
       "10103    NaN\n",
       "10104    NaN\n",
       "10105    NaN\n",
       "10106    NaN\n",
       "Name: 학과, Length: 10107, dtype: object"
      ]
     },
     "execution_count": 141,
     "metadata": {},
     "output_type": "execute_result"
    }
   ],
   "source": [
    "df"
   ]
  },
  {
   "cell_type": "code",
   "execution_count": 165,
   "metadata": {},
   "outputs": [],
   "source": [
    "second[second.str.contains(\"전기전자\")==True]=\"전기전자공학과\""
   ]
  },
  {
   "cell_type": "code",
   "execution_count": 166,
   "metadata": {},
   "outputs": [
    {
     "data": {
      "text/plain": [
       "670      전기전자공학과\n",
       "762      전기전자공학과\n",
       "1473     전기전자공학과\n",
       "1497     전기전자공학과\n",
       "2185     전기전자공학과\n",
       "          ...   \n",
       "9399     전기전자공학과\n",
       "9505     전기전자공학과\n",
       "9609     전기전자공학과\n",
       "9827     전기전자공학과\n",
       "10068    전기전자공학과\n",
       "Name: 1, Length: 79, dtype: object"
      ]
     },
     "execution_count": 166,
     "metadata": {},
     "output_type": "execute_result"
    }
   ],
   "source": [
    "second[second.str.contains(\"전기전자공학과\")==True]"
   ]
  },
  {
   "cell_type": "code",
   "execution_count": null,
   "metadata": {},
   "outputs": [],
   "source": []
  },
  {
   "cell_type": "code",
   "execution_count": 112,
   "metadata": {},
   "outputs": [],
   "source": [
    "#df[\"학과\"]=second[second.str.contains(\"전기전자공학과\")==True]"
   ]
  },
  {
   "cell_type": "code",
   "execution_count": 114,
   "metadata": {},
   "outputs": [
    {
     "data": {
      "text/plain": [
       "0        NaN\n",
       "1        NaN\n",
       "2        NaN\n",
       "3        NaN\n",
       "4        NaN\n",
       "        ... \n",
       "10102    NaN\n",
       "10103    NaN\n",
       "10104    NaN\n",
       "10105    NaN\n",
       "10106    NaN\n",
       "Name: 학과, Length: 10107, dtype: object"
      ]
     },
     "execution_count": 114,
     "metadata": {},
     "output_type": "execute_result"
    }
   ],
   "source": [
    "df[\"학과\"]"
   ]
  },
  {
   "cell_type": "code",
   "execution_count": 167,
   "metadata": {},
   "outputs": [],
   "source": [
    "#df[\"학과\"]=second[second.str.contains(\"전자공학\")==True]"
   ]
  },
  {
   "cell_type": "code",
   "execution_count": 168,
   "metadata": {},
   "outputs": [],
   "source": [
    "second[second.str.contains(\"전자공학부\")==True]=\"전자공학과\""
   ]
  },
  {
   "cell_type": "code",
   "execution_count": 56,
   "metadata": {},
   "outputs": [],
   "source": [
    "#df[\"학과\"]=second[second.str.contains(\"전자공학과\")==True]"
   ]
  },
  {
   "cell_type": "code",
   "execution_count": 169,
   "metadata": {},
   "outputs": [],
   "source": [
    "second[second.str.contains(\"전자공학\")==True]=\"전자공학과\""
   ]
  },
  {
   "cell_type": "code",
   "execution_count": 58,
   "metadata": {},
   "outputs": [],
   "source": [
    "#df[\"학과\"]=second[second.str.contains(\"전자공학과\")==True]"
   ]
  },
  {
   "cell_type": "code",
   "execution_count": 59,
   "metadata": {},
   "outputs": [],
   "source": [
    "#second[second.str.contains(\"전자공학과\")==True]=\"\""
   ]
  },
  {
   "cell_type": "code",
   "execution_count": 170,
   "metadata": {},
   "outputs": [],
   "source": [
    "second[second.str.contains(\"전자전기\")==True]=\"전기전자공학과\""
   ]
  },
  {
   "cell_type": "code",
   "execution_count": 65,
   "metadata": {},
   "outputs": [],
   "source": [
    "#df[\"학과\"]=second[second.str.contains(\"전기전자공학과\")==True]"
   ]
  },
  {
   "cell_type": "code",
   "execution_count": 66,
   "metadata": {},
   "outputs": [],
   "source": [
    "#second[second.str.contains(\"전기전자공학과\")==True]=\"\""
   ]
  },
  {
   "cell_type": "code",
   "execution_count": 67,
   "metadata": {},
   "outputs": [],
   "source": [
    "#df[\"학과\"]=second[second.str.contains(\"전자컴퓨터통신공학과\")==True]"
   ]
  },
  {
   "cell_type": "code",
   "execution_count": 68,
   "metadata": {},
   "outputs": [],
   "source": [
    "#second[second.str.contains(\"전자컴퓨터통신공학과\")==True]=\"\""
   ]
  },
  {
   "cell_type": "code",
   "execution_count": 171,
   "metadata": {},
   "outputs": [],
   "source": [
    "second[second.str.contains(\"전자통신공학\")==True]=\"전자통신공학과\""
   ]
  },
  {
   "cell_type": "code",
   "execution_count": 70,
   "metadata": {},
   "outputs": [],
   "source": [
    "df[\"학과\"]=second[second.str.contains(\"전자통신공학과\")==True]"
   ]
  },
  {
   "cell_type": "code",
   "execution_count": 71,
   "metadata": {},
   "outputs": [],
   "source": [
    "second[second.str.contains(\"전자통신공학과\")==True]=\"\""
   ]
  },
  {
   "cell_type": "code",
   "execution_count": null,
   "metadata": {},
   "outputs": [],
   "source": []
  },
  {
   "cell_type": "code",
   "execution_count": 172,
   "metadata": {},
   "outputs": [],
   "source": [
    "second[second.str.contains(\"전기전자과\")==True]=\"전기전자공학과\""
   ]
  },
  {
   "cell_type": "code",
   "execution_count": 2011,
   "metadata": {},
   "outputs": [],
   "source": [
    "df[\"학과\"]=second[second.str.contains(\"전기전자공학과\")==True]"
   ]
  },
  {
   "cell_type": "code",
   "execution_count": 173,
   "metadata": {},
   "outputs": [],
   "source": [
    "second[second.str.contains(\"전자과\")==True]=\"전자공학과\""
   ]
  },
  {
   "cell_type": "code",
   "execution_count": 2013,
   "metadata": {},
   "outputs": [],
   "source": [
    "df[\"학과\"]=second[second.str.contains(\"전자공학과\")==True]"
   ]
  },
  {
   "cell_type": "code",
   "execution_count": 174,
   "metadata": {},
   "outputs": [],
   "source": [
    "second[second.str.contains(\"전기전자\")==True]=\"전기전자공학과\""
   ]
  },
  {
   "cell_type": "code",
   "execution_count": 2015,
   "metadata": {},
   "outputs": [],
   "source": [
    "df[\"학과\"]=second[second.str.contains(\"전기전자\")==True]"
   ]
  },
  {
   "cell_type": "code",
   "execution_count": 1293,
   "metadata": {},
   "outputs": [],
   "source": [
    "second[second.str.contains(\"전기전자\")==True]=\"\""
   ]
  },
  {
   "cell_type": "code",
   "execution_count": 175,
   "metadata": {},
   "outputs": [],
   "source": [
    "second[second.str.contains(\"광전자화공소재\")==True]=\"광전자화공소재공학과\""
   ]
  },
  {
   "cell_type": "code",
   "execution_count": 2017,
   "metadata": {},
   "outputs": [],
   "source": [
    "df[\"학과\"]=second[second.str.contains(\"광전자화공소재\")==True]"
   ]
  },
  {
   "cell_type": "code",
   "execution_count": 1296,
   "metadata": {},
   "outputs": [],
   "source": [
    "second[second.str.contains(\"광전자화공소재\")==True]=\"\""
   ]
  },
  {
   "cell_type": "code",
   "execution_count": 176,
   "metadata": {},
   "outputs": [],
   "source": [
    "second[second.str.contains(\"전자\")==True]=\"전자공학과\""
   ]
  },
  {
   "cell_type": "code",
   "execution_count": 2019,
   "metadata": {},
   "outputs": [],
   "source": [
    "df[\"학과\"]=second[second.str.contains(\"전자\")==True]"
   ]
  },
  {
   "cell_type": "code",
   "execution_count": 1299,
   "metadata": {},
   "outputs": [],
   "source": [
    "second[second.str.contains(\"전자\")==True]=\"\""
   ]
  },
  {
   "cell_type": "code",
   "execution_count": 2020,
   "metadata": {},
   "outputs": [],
   "source": [
    "df[\"학과\"]=second[second.str.contains(\"컴퓨터공학과\")==True]"
   ]
  },
  {
   "cell_type": "code",
   "execution_count": 1301,
   "metadata": {},
   "outputs": [],
   "source": [
    "second[second.str.contains(\"컴퓨터공학과\")==True]=\"\""
   ]
  },
  {
   "cell_type": "code",
   "execution_count": 177,
   "metadata": {},
   "outputs": [],
   "source": [
    "second[second.str.contains(\"컴퓨터공학부\")==True]=\"컴퓨터공학과\""
   ]
  },
  {
   "cell_type": "code",
   "execution_count": 2022,
   "metadata": {},
   "outputs": [],
   "source": [
    "df[\"학과\"]=second[second.str.contains(\"컴퓨터공학과\")==True]"
   ]
  },
  {
   "cell_type": "code",
   "execution_count": 1304,
   "metadata": {},
   "outputs": [],
   "source": [
    "second[second.str.contains(\"컴퓨터공학과\")==True]=\"\""
   ]
  },
  {
   "cell_type": "code",
   "execution_count": 178,
   "metadata": {},
   "outputs": [],
   "source": [
    "second[second.str.contains(\"컴퓨터학\")==True]=\"컴퓨터공학과\""
   ]
  },
  {
   "cell_type": "code",
   "execution_count": 179,
   "metadata": {},
   "outputs": [],
   "source": [
    "second[second.str.contains(\"컴퓨터공학\")==True]=\"컴퓨터공학과\""
   ]
  },
  {
   "cell_type": "code",
   "execution_count": 180,
   "metadata": {},
   "outputs": [],
   "source": [
    "second[second.str.contains(\"컴퓨\")==True]=\"컴퓨터공학과\""
   ]
  },
  {
   "cell_type": "code",
   "execution_count": 2026,
   "metadata": {},
   "outputs": [],
   "source": [
    "df[\"학과\"]=second[second.str.contains(\"컴퓨터공학과\")==True]"
   ]
  },
  {
   "cell_type": "code",
   "execution_count": 1309,
   "metadata": {},
   "outputs": [],
   "source": [
    "second[second.str.contains(\"컴퓨터공학과\")==True]=\"\""
   ]
  },
  {
   "cell_type": "code",
   "execution_count": 181,
   "metadata": {},
   "outputs": [],
   "source": [
    "second[second.str.contains(\"패션\")==True]=\"패션디자인학과\""
   ]
  },
  {
   "cell_type": "code",
   "execution_count": 2028,
   "metadata": {},
   "outputs": [],
   "source": [
    "df[\"학과\"]=second[second.str.contains(\"패션\")==True]"
   ]
  },
  {
   "cell_type": "code",
   "execution_count": 1312,
   "metadata": {},
   "outputs": [],
   "source": [
    "second[second.str.contains(\"패션\")==True]=\"\""
   ]
  },
  {
   "cell_type": "code",
   "execution_count": 2029,
   "metadata": {},
   "outputs": [],
   "source": [
    "df[\"학과\"]=second[second.str.contains(\"기계시스템디자인공학과\")==True]"
   ]
  },
  {
   "cell_type": "code",
   "execution_count": 1314,
   "metadata": {},
   "outputs": [],
   "source": [
    "second[second.str.contains(\"기계시스템디자인공학과\")==True]=\"\""
   ]
  },
  {
   "cell_type": "code",
   "execution_count": 182,
   "metadata": {},
   "outputs": [],
   "source": [
    "second[second.str.contains(\"기계공학부\")==True]=\"기계공학과\""
   ]
  },
  {
   "cell_type": "code",
   "execution_count": 183,
   "metadata": {},
   "outputs": [],
   "source": [
    "second[second.str.contains(\"기계공학\")==True]=\"기계공학과\""
   ]
  },
  {
   "cell_type": "code",
   "execution_count": 184,
   "metadata": {},
   "outputs": [],
   "source": [
    "second[second.str.contains(\"기계공\")==True]=\"기계공학과\""
   ]
  },
  {
   "cell_type": "code",
   "execution_count": 185,
   "metadata": {},
   "outputs": [],
   "source": [
    "second[second.str.contains(\"기계\")==True]=\"기계공학과\""
   ]
  },
  {
   "cell_type": "code",
   "execution_count": 2034,
   "metadata": {},
   "outputs": [],
   "source": [
    "df[\"학과\"]=second[second.str.contains(\"기계공학과\")==True]"
   ]
  },
  {
   "cell_type": "code",
   "execution_count": 1320,
   "metadata": {},
   "outputs": [],
   "source": [
    "second[second.str.contains(\"기계공학과\")==True]=\"\""
   ]
  },
  {
   "cell_type": "code",
   "execution_count": 186,
   "metadata": {},
   "outputs": [],
   "source": [
    "second[second.str.contains(\"설비\")==True]=\"건축설비공학과\""
   ]
  },
  {
   "cell_type": "code",
   "execution_count": 2036,
   "metadata": {},
   "outputs": [],
   "source": [
    "df[\"학과\"]=second[second.str.contains(\"설비\")==True]"
   ]
  },
  {
   "cell_type": "code",
   "execution_count": 1323,
   "metadata": {},
   "outputs": [],
   "source": [
    "second[second.str.contains(\"설비\")==True]=\"\""
   ]
  },
  {
   "cell_type": "code",
   "execution_count": 187,
   "metadata": {},
   "outputs": [],
   "source": [
    "second[second.str.contains(\"건설환경\")==True]=\"건설환경공학과\""
   ]
  },
  {
   "cell_type": "code",
   "execution_count": 2038,
   "metadata": {},
   "outputs": [],
   "source": [
    "df[\"학과\"]=second[second.str.contains(\"건설환경공학과\")==True]"
   ]
  },
  {
   "cell_type": "code",
   "execution_count": 1326,
   "metadata": {},
   "outputs": [],
   "source": [
    "second[second.str.contains(\"건설환경공학과\")==True]=\"\""
   ]
  },
  {
   "cell_type": "code",
   "execution_count": 188,
   "metadata": {},
   "outputs": [],
   "source": [
    "second[second.str.contains(\"도시건설\")==True]=\"도시건설공학과\""
   ]
  },
  {
   "cell_type": "code",
   "execution_count": 2040,
   "metadata": {},
   "outputs": [],
   "source": [
    "df[\"학과\"]=second[second.str.contains(\"도시건설공학과\")==True]"
   ]
  },
  {
   "cell_type": "code",
   "execution_count": 1329,
   "metadata": {},
   "outputs": [],
   "source": [
    "second[second.str.contains(\"도시건설공학과\")==True]=\"\""
   ]
  },
  {
   "cell_type": "code",
   "execution_count": 189,
   "metadata": {},
   "outputs": [],
   "source": [
    "second[second.str.contains(\"건설\")==True]=\"건설공학과\""
   ]
  },
  {
   "cell_type": "code",
   "execution_count": 2042,
   "metadata": {},
   "outputs": [],
   "source": [
    "df[\"학과\"]=second[second.str.contains(\"건설공학과\")==True]"
   ]
  },
  {
   "cell_type": "code",
   "execution_count": 1332,
   "metadata": {},
   "outputs": [],
   "source": [
    "second[second.str.contains(\"건설공학과\")==True]=\"\""
   ]
  },
  {
   "cell_type": "code",
   "execution_count": 190,
   "metadata": {},
   "outputs": [],
   "source": [
    "second[second.str.contains(\"실내건축\")==True]=\"실내건축학과\""
   ]
  },
  {
   "cell_type": "code",
   "execution_count": 2044,
   "metadata": {},
   "outputs": [],
   "source": [
    "df[\"학과\"]=second[second.str.contains(\"실내건축학과\")==True]"
   ]
  },
  {
   "cell_type": "code",
   "execution_count": 1335,
   "metadata": {},
   "outputs": [],
   "source": [
    "second[second.str.contains(\"실내건축학과\")==True]=\"\""
   ]
  },
  {
   "cell_type": "code",
   "execution_count": 191,
   "metadata": {},
   "outputs": [],
   "source": [
    "second[second.str.contains(\"건축공\")==True]=\"건축공학과\""
   ]
  },
  {
   "cell_type": "code",
   "execution_count": 2046,
   "metadata": {},
   "outputs": [],
   "source": [
    "df[\"학과\"]=second[second.str.contains(\"건축공학과\")==True]"
   ]
  },
  {
   "cell_type": "code",
   "execution_count": 1338,
   "metadata": {},
   "outputs": [],
   "source": [
    "second[second.str.contains(\"건축공학과\")==True]=\"\""
   ]
  },
  {
   "cell_type": "code",
   "execution_count": 192,
   "metadata": {},
   "outputs": [],
   "source": [
    "second[second.str.contains(\"건축설\")==True]=\"건축설계학과\""
   ]
  },
  {
   "cell_type": "code",
   "execution_count": 2048,
   "metadata": {},
   "outputs": [],
   "source": [
    "df[\"학과\"]=second[second.str.contains(\"건축설계\")==True]"
   ]
  },
  {
   "cell_type": "code",
   "execution_count": 1341,
   "metadata": {},
   "outputs": [],
   "source": [
    "second[second.str.contains(\"건축설계\")==True]=\"\""
   ]
  },
  {
   "cell_type": "code",
   "execution_count": 193,
   "metadata": {},
   "outputs": [],
   "source": [
    "second[second.str.contains(\"건축\")==True]=\"건축학과\""
   ]
  },
  {
   "cell_type": "code",
   "execution_count": 2050,
   "metadata": {},
   "outputs": [],
   "source": [
    "df[\"학과\"]=second[second.str.contains(\"건축학과\")==True]"
   ]
  },
  {
   "cell_type": "code",
   "execution_count": 1344,
   "metadata": {},
   "outputs": [],
   "source": [
    "second[second.str.contains(\"건축학과\")==True]=\"\""
   ]
  },
  {
   "cell_type": "code",
   "execution_count": 194,
   "metadata": {},
   "outputs": [],
   "source": [
    "second[second.str.contains(\"화공\")==True]=\"화학공학과\""
   ]
  },
  {
   "cell_type": "code",
   "execution_count": 195,
   "metadata": {},
   "outputs": [],
   "source": [
    "second[second.str.contains(\"화학공\")==True]=\"화학공학과\""
   ]
  },
  {
   "cell_type": "code",
   "execution_count": 196,
   "metadata": {},
   "outputs": [],
   "source": [
    "second[second.str.contains(\"공업화학\")==True]=\"공업화학과\""
   ]
  },
  {
   "cell_type": "code",
   "execution_count": 2054,
   "metadata": {},
   "outputs": [],
   "source": [
    "df[\"학과\"]=second[second.str.contains(\"화학공학과\")==True]"
   ]
  },
  {
   "cell_type": "code",
   "execution_count": 1349,
   "metadata": {},
   "outputs": [],
   "source": [
    "second[second.str.contains(\"화학공학과\")==True]=\"\""
   ]
  },
  {
   "cell_type": "code",
   "execution_count": 2055,
   "metadata": {},
   "outputs": [],
   "source": [
    "df[\"학과\"]=second[second.str.contains(\"공업공학과\")==True]"
   ]
  },
  {
   "cell_type": "code",
   "execution_count": 1351,
   "metadata": {},
   "outputs": [],
   "source": [
    "second[second.str.contains(\"공업화학과\")==True]=\"\""
   ]
  },
  {
   "cell_type": "code",
   "execution_count": 2056,
   "metadata": {},
   "outputs": [],
   "source": [
    "df[\"학과\"]=second[second.str.contains(\"영화학과\")==True]"
   ]
  },
  {
   "cell_type": "code",
   "execution_count": 1353,
   "metadata": {},
   "outputs": [],
   "source": [
    "second[second.str.contains(\"영화학과\")==True]=\"\""
   ]
  },
  {
   "cell_type": "code",
   "execution_count": 2057,
   "metadata": {},
   "outputs": [],
   "source": [
    "df[\"학과\"]=second[second.str.contains(\"화학과\")==True]"
   ]
  },
  {
   "cell_type": "code",
   "execution_count": 1355,
   "metadata": {},
   "outputs": [],
   "source": [
    "second[second.str.contains(\"화학과\")==True]=\"\""
   ]
  },
  {
   "cell_type": "code",
   "execution_count": 197,
   "metadata": {},
   "outputs": [],
   "source": [
    "second[second.str.contains(\"연극\")==True]=\"연극영화학과\""
   ]
  },
  {
   "cell_type": "code",
   "execution_count": 2059,
   "metadata": {},
   "outputs": [],
   "source": [
    "df[\"학과\"]=second[second.str.contains(\"연극\")==True]"
   ]
  },
  {
   "cell_type": "code",
   "execution_count": 1358,
   "metadata": {},
   "outputs": [],
   "source": [
    "second[second.str.contains(\"연극\")==True]=\"\""
   ]
  },
  {
   "cell_type": "code",
   "execution_count": 198,
   "metadata": {},
   "outputs": [],
   "source": [
    "second[second.str.contains(\"화학생명\")==True]=\"화학생명공학과\""
   ]
  },
  {
   "cell_type": "code",
   "execution_count": 2061,
   "metadata": {},
   "outputs": [],
   "source": [
    "df[\"학과\"]=second[second.str.contains(\"화학생명\")==True]"
   ]
  },
  {
   "cell_type": "code",
   "execution_count": 1361,
   "metadata": {},
   "outputs": [],
   "source": [
    "second[second.str.contains(\"화학생명\")==True]=\"\""
   ]
  },
  {
   "cell_type": "code",
   "execution_count": 199,
   "metadata": {},
   "outputs": [],
   "source": [
    "second[second.str.contains(\"응용화학\")==True]=\"응용화학공학과\""
   ]
  },
  {
   "cell_type": "code",
   "execution_count": 2063,
   "metadata": {},
   "outputs": [],
   "source": [
    "df[\"학과\"]=second[second.str.contains(\"응용화학\")==True]"
   ]
  },
  {
   "cell_type": "code",
   "execution_count": 1364,
   "metadata": {},
   "outputs": [],
   "source": [
    "second[second.str.contains(\"응용화학\")==True]=\"\""
   ]
  },
  {
   "cell_type": "code",
   "execution_count": 200,
   "metadata": {},
   "outputs": [],
   "source": [
    "second[second.str.contains(\"중국언어문화학\")==True]=\"중국언어문화학과\""
   ]
  },
  {
   "cell_type": "code",
   "execution_count": 2065,
   "metadata": {},
   "outputs": [],
   "source": [
    "df[\"학과\"]=second[second.str.contains(\"중국언어문화학\")==True]"
   ]
  },
  {
   "cell_type": "code",
   "execution_count": 1367,
   "metadata": {},
   "outputs": [],
   "source": [
    "second[second.str.contains(\"중국언어문화학\")==True]=\"\""
   ]
  },
  {
   "cell_type": "code",
   "execution_count": 201,
   "metadata": {},
   "outputs": [],
   "source": [
    "second[second.str.contains(\"화학\")==True]=\"화학공학과\""
   ]
  },
  {
   "cell_type": "code",
   "execution_count": 2067,
   "metadata": {},
   "outputs": [],
   "source": [
    "df[\"학과\"]=second[second.str.contains(\"화학공학과\")==True]"
   ]
  },
  {
   "cell_type": "code",
   "execution_count": 1370,
   "metadata": {},
   "outputs": [],
   "source": [
    "second[second.str.contains(\"화학공학과\")==True]=\"\""
   ]
  },
  {
   "cell_type": "code",
   "execution_count": 202,
   "metadata": {},
   "outputs": [],
   "source": [
    "second[second.str.contains(\"호텔경영\")==True]=\"호텔경영학과\""
   ]
  },
  {
   "cell_type": "code",
   "execution_count": 2069,
   "metadata": {},
   "outputs": [],
   "source": [
    "df[\"학과\"]=second[second.str.contains(\"호텔경영\")==True]"
   ]
  },
  {
   "cell_type": "code",
   "execution_count": 1373,
   "metadata": {},
   "outputs": [],
   "source": [
    "second[second.str.contains(\"호텔경영\")==True]=\"\""
   ]
  },
  {
   "cell_type": "code",
   "execution_count": 2076,
   "metadata": {},
   "outputs": [
    {
     "data": {
      "text/plain": [
       "0        True\n",
       "1        True\n",
       "2        True\n",
       "3        True\n",
       "4        True\n",
       "         ... \n",
       "10102    True\n",
       "10103    True\n",
       "10104    True\n",
       "10105    True\n",
       "10106    True\n",
       "Name: 학과, Length: 10107, dtype: bool"
      ]
     },
     "execution_count": 2076,
     "metadata": {},
     "output_type": "execute_result"
    }
   ],
   "source": [
    "df[\"학과\"].isnull()"
   ]
  },
  {
   "cell_type": "code",
   "execution_count": null,
   "metadata": {},
   "outputs": [],
   "source": []
  },
  {
   "cell_type": "code",
   "execution_count": null,
   "metadata": {},
   "outputs": [],
   "source": []
  },
  {
   "cell_type": "code",
   "execution_count": 1374,
   "metadata": {},
   "outputs": [
    {
     "data": {
      "text/plain": [
       "659          관광경영 \n",
       "751          관광경영 \n",
       "2314           관광 \n",
       "2474           관광 \n",
       "2482           관광 \n",
       "3311           관광 \n",
       "3319           관광 \n",
       "3320           관광 \n",
       "3430           관광 \n",
       "3437           관광 \n",
       "3440           관광 \n",
       "3992            관광\n",
       "4012            관광\n",
       "4097            관광\n",
       "5238           관광 \n",
       "5386           관광 \n",
       "7230        ㄱ관광경영 \n",
       "7250        ㄱ관광경영 \n",
       "7622     관광영어통역학과 \n",
       "7746      문화관광콘텐츠 \n",
       "7747      문화관광콘텐츠 \n",
       "7778      문화관광콘텐츠 \n",
       "7883           관광 \n",
       "7896           관광 \n",
       "9501         관광경영 \n",
       "9795         관광경영 \n",
       "9872         관광경영 \n",
       "9892         관광경영 \n",
       "Name: 1, dtype: object"
      ]
     },
     "execution_count": 1374,
     "metadata": {},
     "output_type": "execute_result"
    }
   ],
   "source": [
    "second[second.str.contains(\"관광\")==True]"
   ]
  },
  {
   "cell_type": "code",
   "execution_count": 203,
   "metadata": {},
   "outputs": [],
   "source": [
    "second[second.str.contains(\"문화관광\")==True]=\"문화관광콘텐츠학과\""
   ]
  },
  {
   "cell_type": "code",
   "execution_count": 1376,
   "metadata": {},
   "outputs": [],
   "source": [
    "df[\"학과\"]=second[second.str.contains(\"문화관광\")==True]"
   ]
  },
  {
   "cell_type": "code",
   "execution_count": 1377,
   "metadata": {},
   "outputs": [],
   "source": [
    "second[second.str.contains(\"문화관광\")==True]=\"\""
   ]
  },
  {
   "cell_type": "code",
   "execution_count": 204,
   "metadata": {},
   "outputs": [],
   "source": [
    "second[second.str.contains(\"관광경영\")==True]=\"관광경영학과\""
   ]
  },
  {
   "cell_type": "code",
   "execution_count": 1379,
   "metadata": {},
   "outputs": [],
   "source": [
    "df[\"학과\"]=second[second.str.contains(\"관광경영학과\")==True]"
   ]
  },
  {
   "cell_type": "code",
   "execution_count": 1380,
   "metadata": {},
   "outputs": [],
   "source": [
    "second[second.str.contains(\"관광경영학과\")==True]=\"\""
   ]
  },
  {
   "cell_type": "code",
   "execution_count": 1381,
   "metadata": {},
   "outputs": [],
   "source": [
    "df[\"학과\"]=second[second.str.contains(\"통역\")==True]"
   ]
  },
  {
   "cell_type": "code",
   "execution_count": 1382,
   "metadata": {},
   "outputs": [],
   "source": [
    "second[second.str.contains(\"통역\")==True]=\"\""
   ]
  },
  {
   "cell_type": "code",
   "execution_count": 205,
   "metadata": {},
   "outputs": [],
   "source": [
    "second[second.str.contains(\"아태물류\")==True]=\"아태물류학과\""
   ]
  },
  {
   "cell_type": "code",
   "execution_count": 1384,
   "metadata": {},
   "outputs": [],
   "source": [
    "df[\"학과\"]=second[second.str.contains(\"아태물류\")==True]"
   ]
  },
  {
   "cell_type": "code",
   "execution_count": 1385,
   "metadata": {},
   "outputs": [],
   "source": [
    "second[second.str.contains(\"아태물류\")==True]=\"\""
   ]
  },
  {
   "cell_type": "code",
   "execution_count": 1386,
   "metadata": {},
   "outputs": [],
   "source": [
    "df[\"학과\"]=second[second.str.contains(\"물류학\")==True]"
   ]
  },
  {
   "cell_type": "code",
   "execution_count": 1387,
   "metadata": {},
   "outputs": [],
   "source": [
    "second[second.str.contains(\"물류학\")==True]=\"\""
   ]
  },
  {
   "cell_type": "code",
   "execution_count": 1388,
   "metadata": {},
   "outputs": [],
   "source": [
    "df[\"자격증\"]=second[second.str.contains(\"컴활\")==True]"
   ]
  },
  {
   "cell_type": "code",
   "execution_count": 1389,
   "metadata": {},
   "outputs": [],
   "source": [
    "second[second.str.contains(\"컴활\")==True]=\"\""
   ]
  },
  {
   "cell_type": "code",
   "execution_count": 206,
   "metadata": {},
   "outputs": [],
   "source": [
    "second[second.str.contains(\"물리\")==True]=\"물리학과\""
   ]
  },
  {
   "cell_type": "code",
   "execution_count": 1391,
   "metadata": {},
   "outputs": [],
   "source": [
    "df[\"학과\"]=second[second.str.contains(\"물리\")==True]"
   ]
  },
  {
   "cell_type": "code",
   "execution_count": 1392,
   "metadata": {},
   "outputs": [],
   "source": [
    "second[second.str.contains(\"물리\")==True]=\"\""
   ]
  },
  {
   "cell_type": "code",
   "execution_count": 207,
   "metadata": {},
   "outputs": [],
   "source": [
    "second[second.str.contains(\"러시아어문학\")==True]=\"러시어문학과\""
   ]
  },
  {
   "cell_type": "code",
   "execution_count": 1394,
   "metadata": {},
   "outputs": [],
   "source": [
    "df[\"학과\"]=second[second.str.contains(\"러시아어문학\")==True]"
   ]
  },
  {
   "cell_type": "code",
   "execution_count": 1395,
   "metadata": {},
   "outputs": [],
   "source": [
    "second[second.str.contains(\"러시아어문학\")==True]=\"\""
   ]
  },
  {
   "cell_type": "code",
   "execution_count": 1396,
   "metadata": {},
   "outputs": [],
   "source": [
    "df[\"학과\"]=second[second.str.contains(\"북한학과\")==True]"
   ]
  },
  {
   "cell_type": "code",
   "execution_count": 1397,
   "metadata": {},
   "outputs": [],
   "source": [
    "second[second.str.contains(\"북한학과\")==True]=\"\""
   ]
  },
  {
   "cell_type": "code",
   "execution_count": 1398,
   "metadata": {},
   "outputs": [],
   "source": [
    "df[\"학과\"]=second[second.str.contains(\"러시어\")==True]"
   ]
  },
  {
   "cell_type": "code",
   "execution_count": 1399,
   "metadata": {},
   "outputs": [],
   "source": [
    "second[second.str.contains(\"러시어\")==True]=\"\""
   ]
  },
  {
   "cell_type": "code",
   "execution_count": 208,
   "metadata": {},
   "outputs": [],
   "source": [
    "second[second.str.contains(\"심리학 복\")==True]=\"국어국문학과\""
   ]
  },
  {
   "cell_type": "code",
   "execution_count": 1401,
   "metadata": {},
   "outputs": [],
   "source": [
    "df[\"학과\"]=second[second.str.contains(\"국어국문화, 심리학과\")==True]"
   ]
  },
  {
   "cell_type": "code",
   "execution_count": 1402,
   "metadata": {},
   "outputs": [],
   "source": [
    "second[second.str.contains(\"국어국문화, 심리학과\")==True]=\"\""
   ]
  },
  {
   "cell_type": "code",
   "execution_count": 209,
   "metadata": {},
   "outputs": [],
   "source": [
    "second[second.str.contains(\"문예창작, 국어국문\")==True]=\"문예창작학과\""
   ]
  },
  {
   "cell_type": "code",
   "execution_count": 1404,
   "metadata": {},
   "outputs": [],
   "source": [
    "df[\"학과\"]=second[second.str.contains(\"문예창작과, 국어국문과\")==True]"
   ]
  },
  {
   "cell_type": "code",
   "execution_count": 1405,
   "metadata": {},
   "outputs": [],
   "source": [
    "second[second.str.contains(\"문예창작과, 국어국문과\")==True]=\"\""
   ]
  },
  {
   "cell_type": "code",
   "execution_count": 210,
   "metadata": {},
   "outputs": [],
   "source": [
    "second[second.str.contains(\"국어국\")==True]=\"국어국문학과\""
   ]
  },
  {
   "cell_type": "code",
   "execution_count": 1407,
   "metadata": {},
   "outputs": [],
   "source": [
    "df[\"학과\"]=second[second.str.contains(\"국어국문학과\")==True]"
   ]
  },
  {
   "cell_type": "code",
   "execution_count": 1408,
   "metadata": {},
   "outputs": [],
   "source": [
    "second[second.str.contains(\"국어국문학과\")==True]=\"\""
   ]
  },
  {
   "cell_type": "code",
   "execution_count": 211,
   "metadata": {},
   "outputs": [],
   "source": [
    "second[second.str.contains(\"중국문\")==True]=\"중국문화학과\""
   ]
  },
  {
   "cell_type": "code",
   "execution_count": 1410,
   "metadata": {},
   "outputs": [],
   "source": [
    "df[\"학과\"]=second[second.str.contains(\"중국문화학과\")==True]"
   ]
  },
  {
   "cell_type": "code",
   "execution_count": 1411,
   "metadata": {},
   "outputs": [],
   "source": [
    "second[second.str.contains(\"중국문화학과\")==True]=\"\""
   ]
  },
  {
   "cell_type": "code",
   "execution_count": 212,
   "metadata": {},
   "outputs": [],
   "source": [
    "second[second.str.contains(\"경영&중국어\")==True]=\"경영학과\""
   ]
  },
  {
   "cell_type": "code",
   "execution_count": 1413,
   "metadata": {},
   "outputs": [],
   "source": [
    "df[\"학과\"]=second[second.str.contains(\"경영학과, 중국어학과\")==True]"
   ]
  },
  {
   "cell_type": "code",
   "execution_count": 1414,
   "metadata": {},
   "outputs": [],
   "source": [
    "second[second.str.contains(\"경영학과, 중국어학과\")==True]=\"\""
   ]
  },
  {
   "cell_type": "code",
   "execution_count": 213,
   "metadata": {},
   "outputs": [],
   "source": [
    "second[second.str.contains(\"중국어, 국제물류\")==True]=\"중국어학과\""
   ]
  },
  {
   "cell_type": "code",
   "execution_count": 1416,
   "metadata": {},
   "outputs": [],
   "source": [
    "df[\"학과\"]=second[second.str.contains(\"중국어학과, 국제물류학과\")==True]"
   ]
  },
  {
   "cell_type": "code",
   "execution_count": 1417,
   "metadata": {},
   "outputs": [],
   "source": [
    "second[second.str.contains(\"중국어학과, 국제물류학과\")==True]=\"\""
   ]
  },
  {
   "cell_type": "code",
   "execution_count": 214,
   "metadata": {},
   "outputs": [],
   "source": [
    "second[second.str.contains(\"비즈니스중국어\")==True]=\"비즈니스중국어학과\""
   ]
  },
  {
   "cell_type": "code",
   "execution_count": 1419,
   "metadata": {},
   "outputs": [],
   "source": [
    "df[\"학과\"]=second[second.str.contains(\"비즈니스중국어학과\")==True]"
   ]
  },
  {
   "cell_type": "code",
   "execution_count": 1420,
   "metadata": {},
   "outputs": [],
   "source": [
    "second[second.str.contains(\"비즈니스중국어학과\")==True]=\"\""
   ]
  },
  {
   "cell_type": "code",
   "execution_count": 215,
   "metadata": {},
   "outputs": [],
   "source": [
    "second[second.str.contains(\"중국어\")==True]=\"중국어학과\""
   ]
  },
  {
   "cell_type": "code",
   "execution_count": 1422,
   "metadata": {},
   "outputs": [],
   "source": [
    "df[\"학과\"]=second[second.str.contains(\"중국어학과\")==True]"
   ]
  },
  {
   "cell_type": "code",
   "execution_count": 1423,
   "metadata": {},
   "outputs": [],
   "source": [
    "second[second.str.contains(\"중국어학과\")==True]=\"\""
   ]
  },
  {
   "cell_type": "code",
   "execution_count": 216,
   "metadata": {},
   "outputs": [],
   "source": [
    "second[second.str.contains(\"중국학\")==True]=\"중국학과\""
   ]
  },
  {
   "cell_type": "code",
   "execution_count": 1425,
   "metadata": {},
   "outputs": [],
   "source": [
    "df[\"학과\"]=second[second.str.contains(\"중국학과\")==True]"
   ]
  },
  {
   "cell_type": "code",
   "execution_count": 1426,
   "metadata": {},
   "outputs": [],
   "source": [
    "second[second.str.contains(\"중국학과\")==True]=\"\""
   ]
  },
  {
   "cell_type": "code",
   "execution_count": 217,
   "metadata": {},
   "outputs": [],
   "source": [
    "second[second.str.contains(\"중국지역학\")==True]=\"중국지역학과\""
   ]
  },
  {
   "cell_type": "code",
   "execution_count": 1428,
   "metadata": {},
   "outputs": [],
   "source": [
    "df[\"학과\"]=second[second.str.contains(\"중국지역학과\")==True]"
   ]
  },
  {
   "cell_type": "code",
   "execution_count": 1429,
   "metadata": {},
   "outputs": [],
   "source": [
    "second[second.str.contains(\"중국지역학과\")==True]=\"\""
   ]
  },
  {
   "cell_type": "code",
   "execution_count": 218,
   "metadata": {},
   "outputs": [],
   "source": [
    "second[second.str.contains(\"중국\")==True]=\"국제통상학과\""
   ]
  },
  {
   "cell_type": "code",
   "execution_count": 219,
   "metadata": {},
   "outputs": [],
   "source": [
    "second[second.str.contains(\"국제통\")==True]=\"국제통상학과\""
   ]
  },
  {
   "cell_type": "code",
   "execution_count": 220,
   "metadata": {},
   "outputs": [],
   "source": [
    "second[second.str.contains(\"경제통상\")==True]=\"경제통상학과\""
   ]
  },
  {
   "cell_type": "code",
   "execution_count": 1433,
   "metadata": {},
   "outputs": [],
   "source": [
    "df[\"학과\"]=second[second.str.contains(\"국제통상학과\")==True]"
   ]
  },
  {
   "cell_type": "code",
   "execution_count": 1434,
   "metadata": {},
   "outputs": [],
   "source": [
    "df[\"학과\"]=second[second.str.contains(\"경제통상학과\")==True]"
   ]
  },
  {
   "cell_type": "code",
   "execution_count": 1435,
   "metadata": {},
   "outputs": [],
   "source": [
    "second[second.str.contains(\"국제통상학과\")==True]=\"\""
   ]
  },
  {
   "cell_type": "code",
   "execution_count": 1436,
   "metadata": {},
   "outputs": [],
   "source": [
    "second[second.str.contains(\"경제통상학과\")==True]=\"\""
   ]
  },
  {
   "cell_type": "code",
   "execution_count": 221,
   "metadata": {},
   "outputs": [],
   "source": [
    "second[second.str.contains(\"통상\")==True]=\"일본통상학과\""
   ]
  },
  {
   "cell_type": "code",
   "execution_count": 1438,
   "metadata": {},
   "outputs": [],
   "source": [
    "df[\"학과\"]=second[second.str.contains(\"일본통상학과\")==True]"
   ]
  },
  {
   "cell_type": "code",
   "execution_count": 1439,
   "metadata": {},
   "outputs": [],
   "source": [
    "second[second.str.contains(\"일본통상학과\")==True]=\"\""
   ]
  },
  {
   "cell_type": "code",
   "execution_count": 222,
   "metadata": {},
   "outputs": [],
   "source": [
    "second[second.str.contains(\"정보통신\")==True]=\"정보통신공학과\""
   ]
  },
  {
   "cell_type": "code",
   "execution_count": 1441,
   "metadata": {},
   "outputs": [],
   "source": [
    "df[\"학과\"]=second[second.str.contains(\"정보통신공학과\")==True]"
   ]
  },
  {
   "cell_type": "code",
   "execution_count": 1442,
   "metadata": {},
   "outputs": [],
   "source": [
    "second[second.str.contains(\"정보통신공학과\")==True]=\"\""
   ]
  },
  {
   "cell_type": "code",
   "execution_count": 223,
   "metadata": {},
   "outputs": [],
   "source": [
    "second[second.str.contains(\"항공우주정보시스템공학\")==True]=\"항공우주시스템공학과\""
   ]
  },
  {
   "cell_type": "code",
   "execution_count": 224,
   "metadata": {},
   "outputs": [],
   "source": [
    "second[second.str.contains(\"항공우주시스템공학\")==True]=\"항공우주시스템공학과\""
   ]
  },
  {
   "cell_type": "code",
   "execution_count": 1445,
   "metadata": {},
   "outputs": [],
   "source": [
    "df[\"학과\"]=second[second.str.contains(\"항공우주시스템공학과\")==True]"
   ]
  },
  {
   "cell_type": "code",
   "execution_count": 1446,
   "metadata": {},
   "outputs": [],
   "source": [
    "second[second.str.contains(\"항공우주시스템공학과\")==True]=\"\""
   ]
  },
  {
   "cell_type": "code",
   "execution_count": 225,
   "metadata": {},
   "outputs": [],
   "source": [
    "second[second.str.contains(\"항공우주시스템\")==True]=\"항공우주시스템공학과\""
   ]
  },
  {
   "cell_type": "code",
   "execution_count": 1448,
   "metadata": {},
   "outputs": [],
   "source": [
    "df[\"학과\"]=second[second.str.contains(\"항공우주시스템공학과\")==True]"
   ]
  },
  {
   "cell_type": "code",
   "execution_count": 1449,
   "metadata": {},
   "outputs": [],
   "source": [
    "second[second.str.contains(\"항공우주시스템공학과\")==True]=\"\""
   ]
  },
  {
   "cell_type": "code",
   "execution_count": 1450,
   "metadata": {},
   "outputs": [
    {
     "data": {
      "text/plain": [
       "1256      항공우주공학 \n",
       "1348      항공우주공학 \n",
       "1583      항공교통학과 \n",
       "1617      항공우주공학 \n",
       "1725      항공교통학과 \n",
       "1753      항공우주공학 \n",
       "2264     항공우주공학과 \n",
       "2265      항공우주공학 \n",
       "2284     항공우주공학과 \n",
       "2285      항공우주공학 \n",
       "2440     항공우주공학과 \n",
       "2442      항공우주공학 \n",
       "3946     항공우주공학과 \n",
       "5251        항공우주 \n",
       "5406        항공우주 \n",
       "5888      항공교통학과 \n",
       "5904      항공우주공학 \n",
       "5924      항공우주공학 \n",
       "6130      항공우주공학 \n",
       "6365         항공과 \n",
       "6674         항공과 \n",
       "7903      항공기시스템 \n",
       "7933      항공기시스템 \n",
       "8197        항공우주 \n",
       "8217        항공우주 \n",
       "8434        항공우주 \n",
       "8454        항공우주 \n",
       "8504        항공우주 \n",
       "8888          항공 \n",
       "9139          항공 \n",
       "9374      항공우주공학 \n",
       "9440      항공우주공학 \n",
       "9460      항공우주공학 \n",
       "9734      항공우주공학 \n",
       "9931         항공과 \n",
       "Name: 1, dtype: object"
      ]
     },
     "execution_count": 1450,
     "metadata": {},
     "output_type": "execute_result"
    }
   ],
   "source": [
    "second[second.str.contains(\"항공\")==True]"
   ]
  },
  {
   "cell_type": "code",
   "execution_count": 226,
   "metadata": {},
   "outputs": [],
   "source": [
    "second[second.str.contains(\"항공우주\")==True]=\"항공우주공학과\""
   ]
  },
  {
   "cell_type": "code",
   "execution_count": 1452,
   "metadata": {},
   "outputs": [],
   "source": [
    "df[\"학과\"]=second[second.str.contains(\"항공우주공학과\")==True]"
   ]
  },
  {
   "cell_type": "code",
   "execution_count": 1453,
   "metadata": {},
   "outputs": [],
   "source": [
    "second[second.str.contains(\"항공우주공학과\")==True]=\"\""
   ]
  },
  {
   "cell_type": "code",
   "execution_count": 227,
   "metadata": {},
   "outputs": [],
   "source": [
    "second[second.str.contains(\"항공교통\")==True]=\"항공교통학과\""
   ]
  },
  {
   "cell_type": "code",
   "execution_count": 1455,
   "metadata": {},
   "outputs": [],
   "source": [
    "df[\"학과\"]=second[second.str.contains(\"항공교통학과\")==True]"
   ]
  },
  {
   "cell_type": "code",
   "execution_count": 1456,
   "metadata": {},
   "outputs": [],
   "source": [
    "second[second.str.contains(\"항공교통학과\")==True]=\"\""
   ]
  },
  {
   "cell_type": "code",
   "execution_count": 228,
   "metadata": {},
   "outputs": [],
   "source": [
    "second[second.str.contains(\"항공기\")==True]=\"항공기시스템학과\""
   ]
  },
  {
   "cell_type": "code",
   "execution_count": 1458,
   "metadata": {},
   "outputs": [],
   "source": [
    "df[\"학과\"]=second[second.str.contains(\"항공기시스템학과\")==True]"
   ]
  },
  {
   "cell_type": "code",
   "execution_count": 1459,
   "metadata": {},
   "outputs": [],
   "source": [
    "second[second.str.contains(\"항공기시스템학과\")==True]=\"\""
   ]
  },
  {
   "cell_type": "code",
   "execution_count": 229,
   "metadata": {},
   "outputs": [],
   "source": [
    "second[second.str.contains(\"항공\")==True]=\"항공학과\""
   ]
  },
  {
   "cell_type": "code",
   "execution_count": 1461,
   "metadata": {},
   "outputs": [],
   "source": [
    "df[\"학과\"]=second[second.str.contains(\"항공학과\")==True]"
   ]
  },
  {
   "cell_type": "code",
   "execution_count": 1462,
   "metadata": {},
   "outputs": [],
   "source": [
    "second[second.str.contains(\"항공학과\")==True]=\"\""
   ]
  },
  {
   "cell_type": "code",
   "execution_count": 230,
   "metadata": {},
   "outputs": [],
   "source": [
    "second[second.str.contains(\"광고\")==True]=\"광고홍보학과\""
   ]
  },
  {
   "cell_type": "code",
   "execution_count": 1464,
   "metadata": {},
   "outputs": [],
   "source": [
    "df[\"학과\"]=second[second.str.contains(\"광고홍보학과\")==True]"
   ]
  },
  {
   "cell_type": "code",
   "execution_count": 1465,
   "metadata": {},
   "outputs": [],
   "source": [
    "second[second.str.contains(\"광고홍보학과\")==True]=\"\""
   ]
  },
  {
   "cell_type": "code",
   "execution_count": 231,
   "metadata": {},
   "outputs": [],
   "source": [
    "second[second.str.contains(\"산업공\")==True]=\"산업공학과\""
   ]
  },
  {
   "cell_type": "code",
   "execution_count": 1467,
   "metadata": {},
   "outputs": [],
   "source": [
    "df[\"학과\"]=second[second.str.contains(\"산업공학과\")==True]"
   ]
  },
  {
   "cell_type": "code",
   "execution_count": 1468,
   "metadata": {},
   "outputs": [],
   "source": [
    "second[second.str.contains(\"산업공학과\")==True]=\"\""
   ]
  },
  {
   "cell_type": "code",
   "execution_count": 232,
   "metadata": {},
   "outputs": [],
   "source": [
    "second[second.str.contains(\"전기공\")==True]=\"전기공학과\""
   ]
  },
  {
   "cell_type": "code",
   "execution_count": 1470,
   "metadata": {},
   "outputs": [],
   "source": [
    "df[\"학과\"]=second[second.str.contains(\"전기공학과\")==True]"
   ]
  },
  {
   "cell_type": "code",
   "execution_count": 1471,
   "metadata": {},
   "outputs": [],
   "source": [
    "second[second.str.contains(\"전기공학과\")==True]=\"\""
   ]
  },
  {
   "cell_type": "code",
   "execution_count": 233,
   "metadata": {},
   "outputs": [],
   "source": [
    "second[second.str.contains(\"전기정보\")==True]=\"전기정보공학과\""
   ]
  },
  {
   "cell_type": "code",
   "execution_count": 1473,
   "metadata": {},
   "outputs": [],
   "source": [
    "df[\"학과\"]=second[second.str.contains(\"전기정보공학과\")==True]"
   ]
  },
  {
   "cell_type": "code",
   "execution_count": 1474,
   "metadata": {},
   "outputs": [],
   "source": [
    "second[second.str.contains(\"전기정보공학과\")==True]=\"\""
   ]
  },
  {
   "cell_type": "code",
   "execution_count": 234,
   "metadata": {},
   "outputs": [],
   "source": [
    "second[second.str.contains(\"전기\")==True]=\"전기공학과\""
   ]
  },
  {
   "cell_type": "code",
   "execution_count": 1476,
   "metadata": {},
   "outputs": [],
   "source": [
    "df[\"학과\"]=second[second.str.contains(\"전기공학과\")==True]"
   ]
  },
  {
   "cell_type": "code",
   "execution_count": 1477,
   "metadata": {},
   "outputs": [],
   "source": [
    "second[second.str.contains(\"전기공학과\")==True]=\"\""
   ]
  },
  {
   "cell_type": "code",
   "execution_count": 235,
   "metadata": {},
   "outputs": [],
   "source": [
    "second[second.str.contains(\"경영\")==True]=\"경영학과\""
   ]
  },
  {
   "cell_type": "code",
   "execution_count": 1479,
   "metadata": {},
   "outputs": [],
   "source": [
    "df[\"학과\"]=second[second.str.contains(\"경영학과\")==True]"
   ]
  },
  {
   "cell_type": "code",
   "execution_count": 1480,
   "metadata": {},
   "outputs": [],
   "source": [
    "second[second.str.contains(\"경영학과\")==True]=\"\""
   ]
  },
  {
   "cell_type": "code",
   "execution_count": 236,
   "metadata": {},
   "outputs": [],
   "source": [
    "second[second.str.contains(\"바이오나노\")==True]=\"바이오나노학과\""
   ]
  },
  {
   "cell_type": "code",
   "execution_count": 1482,
   "metadata": {},
   "outputs": [],
   "source": [
    "df[\"학과\"]=second[second.str.contains(\"바이오나노학과\")==True]"
   ]
  },
  {
   "cell_type": "code",
   "execution_count": 1483,
   "metadata": {},
   "outputs": [],
   "source": [
    "second[second.str.contains(\"바이오나노학과\")==True]=\"\""
   ]
  },
  {
   "cell_type": "code",
   "execution_count": 237,
   "metadata": {},
   "outputs": [],
   "source": [
    "second[second.str.contains(\"바이오\")==True]=\"바이오공학과\""
   ]
  },
  {
   "cell_type": "code",
   "execution_count": 1485,
   "metadata": {},
   "outputs": [],
   "source": [
    "df[\"학과\"]=second[second.str.contains(\"바이오공학과\")==True]"
   ]
  },
  {
   "cell_type": "code",
   "execution_count": 1486,
   "metadata": {},
   "outputs": [],
   "source": [
    "second[second.str.contains(\"바이오공학과\")==True]=\"\""
   ]
  },
  {
   "cell_type": "code",
   "execution_count": 238,
   "metadata": {},
   "outputs": [],
   "source": [
    "second[second.str.contains(\"생명나노공학\")==True]=\"생명나노공학과\""
   ]
  },
  {
   "cell_type": "code",
   "execution_count": 239,
   "metadata": {},
   "outputs": [],
   "source": [
    "second[second.str.contains(\"나노메디컬유기재료공학과\")==True]=\"생명나노공학과\""
   ]
  },
  {
   "cell_type": "code",
   "execution_count": 240,
   "metadata": {},
   "outputs": [],
   "source": [
    "second[second.str.contains(\"유기나노공학과\")==True]=\"생명나노공학과\""
   ]
  },
  {
   "cell_type": "code",
   "execution_count": 1490,
   "metadata": {},
   "outputs": [],
   "source": [
    "df[\"학과\"]=second[second.str.contains(\"생명나노공학과\")==True]"
   ]
  },
  {
   "cell_type": "code",
   "execution_count": 1491,
   "metadata": {},
   "outputs": [],
   "source": [
    "second[second.str.contains(\"생명나노공학과\")==True]=\"\""
   ]
  },
  {
   "cell_type": "code",
   "execution_count": 241,
   "metadata": {},
   "outputs": [],
   "source": [
    "second[second.str.contains(\"나노\")==True]=\"나노공학과\""
   ]
  },
  {
   "cell_type": "code",
   "execution_count": 1493,
   "metadata": {},
   "outputs": [],
   "source": [
    "df[\"학과\"]=second[second.str.contains(\"나노공학과\")==True]"
   ]
  },
  {
   "cell_type": "code",
   "execution_count": 1494,
   "metadata": {},
   "outputs": [],
   "source": [
    "second[second.str.contains(\"나노공학과\")==True]=\"\""
   ]
  },
  {
   "cell_type": "code",
   "execution_count": 1495,
   "metadata": {},
   "outputs": [],
   "source": [
    "df[\"학과\"]=second[second.str.contains(\"지리\")==True]"
   ]
  },
  {
   "cell_type": "code",
   "execution_count": 1496,
   "metadata": {},
   "outputs": [],
   "source": [
    "second[second.str.contains(\"지리\")==True]=\"\""
   ]
  },
  {
   "cell_type": "code",
   "execution_count": 1497,
   "metadata": {},
   "outputs": [],
   "source": [
    "df[\"어학\"]=second[second.str.contains(\"토익\")==True]"
   ]
  },
  {
   "cell_type": "code",
   "execution_count": 1498,
   "metadata": {},
   "outputs": [],
   "source": [
    "second[second.str.contains(\"토익\")==True]=\"\""
   ]
  },
  {
   "cell_type": "code",
   "execution_count": 242,
   "metadata": {},
   "outputs": [],
   "source": [
    "second[second.str.contains(\"법학\")==True]=\"법학과\""
   ]
  },
  {
   "cell_type": "code",
   "execution_count": 1500,
   "metadata": {},
   "outputs": [],
   "source": [
    "df[\"학과\"]=second[second.str.contains(\"법학과\")==True]"
   ]
  },
  {
   "cell_type": "code",
   "execution_count": 1501,
   "metadata": {},
   "outputs": [],
   "source": [
    "second[second.str.contains(\"법학과\")==True]=\"\""
   ]
  },
  {
   "cell_type": "code",
   "execution_count": 243,
   "metadata": {},
   "outputs": [],
   "source": [
    "second[second.str.contains(\"신문\")==True]=\"신문방송학과\""
   ]
  },
  {
   "cell_type": "code",
   "execution_count": 1503,
   "metadata": {},
   "outputs": [],
   "source": [
    "df[\"학과\"]=second[second.str.contains(\"신문방송학과\")==True]"
   ]
  },
  {
   "cell_type": "code",
   "execution_count": 1504,
   "metadata": {},
   "outputs": [],
   "source": [
    "second[second.str.contains(\"신문방송학과\")==True]=\"\""
   ]
  },
  {
   "cell_type": "code",
   "execution_count": 244,
   "metadata": {},
   "outputs": [],
   "source": [
    "second[second.str.contains(\"영문\")==True]=\"영문학과\""
   ]
  },
  {
   "cell_type": "code",
   "execution_count": 1506,
   "metadata": {},
   "outputs": [],
   "source": [
    "df[\"학과\"]=second[second.str.contains(\"영문학과\")==True]"
   ]
  },
  {
   "cell_type": "code",
   "execution_count": 1507,
   "metadata": {},
   "outputs": [],
   "source": [
    "second[second.str.contains(\"영문학과\")==True]=\"\""
   ]
  },
  {
   "cell_type": "code",
   "execution_count": 245,
   "metadata": {},
   "outputs": [],
   "source": [
    "second[second.str.contains(\"경제\")==True]=\"경제학과\""
   ]
  },
  {
   "cell_type": "code",
   "execution_count": 1509,
   "metadata": {},
   "outputs": [],
   "source": [
    "df[\"학과\"]=second[second.str.contains(\"경제학과\")==True]"
   ]
  },
  {
   "cell_type": "code",
   "execution_count": 1510,
   "metadata": {},
   "outputs": [],
   "source": [
    "second[second.str.contains(\"경제학과\")==True]=\"\""
   ]
  },
  {
   "cell_type": "code",
   "execution_count": 246,
   "metadata": {},
   "outputs": [],
   "source": [
    "second[second.str.contains(\"토목\")==True]=\"토목공학과\""
   ]
  },
  {
   "cell_type": "code",
   "execution_count": 1512,
   "metadata": {},
   "outputs": [],
   "source": [
    "df[\"학과\"]=second[second.str.contains(\"토목공학과\")==True]"
   ]
  },
  {
   "cell_type": "code",
   "execution_count": 1513,
   "metadata": {},
   "outputs": [],
   "source": [
    "second[second.str.contains(\"토목공학과\")==True]=\"\""
   ]
  },
  {
   "cell_type": "code",
   "execution_count": 247,
   "metadata": {},
   "outputs": [],
   "source": [
    "second[second.str.contains(\"국제정치\")==True]=\"국제정치학과\""
   ]
  },
  {
   "cell_type": "code",
   "execution_count": 1515,
   "metadata": {},
   "outputs": [],
   "source": [
    "df[\"학과\"]=second[second.str.contains(\"국제정치학과\")==True]"
   ]
  },
  {
   "cell_type": "code",
   "execution_count": 1516,
   "metadata": {},
   "outputs": [],
   "source": [
    "second[second.str.contains(\"국제정치학과\")==True]=\"\""
   ]
  },
  {
   "cell_type": "code",
   "execution_count": 248,
   "metadata": {},
   "outputs": [],
   "source": [
    "second[second.str.contains(\"정치\")==True]=\"정치외교학과\""
   ]
  },
  {
   "cell_type": "code",
   "execution_count": 1518,
   "metadata": {},
   "outputs": [],
   "source": [
    "df[\"학과\"]=second[second.str.contains(\"정치외교학과\")==True]"
   ]
  },
  {
   "cell_type": "code",
   "execution_count": 1519,
   "metadata": {},
   "outputs": [],
   "source": [
    "second[second.str.contains(\"정치외교학과\")==True]=\"\""
   ]
  },
  {
   "cell_type": "code",
   "execution_count": 249,
   "metadata": {},
   "outputs": [],
   "source": [
    "second[second.str.contains(\"대학원\")==True]=\"대학원\""
   ]
  },
  {
   "cell_type": "code",
   "execution_count": 1521,
   "metadata": {},
   "outputs": [],
   "source": [
    "df[\"학과\"]=second[second.str.contains(\"대학원\")==True]"
   ]
  },
  {
   "cell_type": "code",
   "execution_count": 1522,
   "metadata": {},
   "outputs": [],
   "source": [
    "second[second.str.contains(\"대학원\")==True]=\"\""
   ]
  },
  {
   "cell_type": "code",
   "execution_count": 250,
   "metadata": {},
   "outputs": [],
   "source": [
    "second[second.str.contains(\"수학\")==True]=\"수학과\""
   ]
  },
  {
   "cell_type": "code",
   "execution_count": 1524,
   "metadata": {},
   "outputs": [],
   "source": [
    "df[\"학과\"]=second[second.str.contains(\"수학과\")==True]"
   ]
  },
  {
   "cell_type": "code",
   "execution_count": 1525,
   "metadata": {},
   "outputs": [],
   "source": [
    "second[second.str.contains(\"수학과\")==True]=\"\""
   ]
  },
  {
   "cell_type": "code",
   "execution_count": 251,
   "metadata": {},
   "outputs": [],
   "source": [
    "second[second.str.contains(\"컴공\")==True]=\"컴퓨터공학과\""
   ]
  },
  {
   "cell_type": "code",
   "execution_count": 1527,
   "metadata": {},
   "outputs": [],
   "source": [
    "df[\"학과\"]=second[second.str.contains(\"컴퓨터공학과\")==True]"
   ]
  },
  {
   "cell_type": "code",
   "execution_count": 1528,
   "metadata": {},
   "outputs": [],
   "source": [
    "second[second.str.contains(\"컴퓨터공학과\")==True]=\"\""
   ]
  },
  {
   "cell_type": "code",
   "execution_count": 252,
   "metadata": {},
   "outputs": [],
   "source": [
    "second[second.str.contains(\"이탈\")==True]=\"이탈리아어학과\""
   ]
  },
  {
   "cell_type": "code",
   "execution_count": 1530,
   "metadata": {},
   "outputs": [],
   "source": [
    "df[\"학과\"]=second[second.str.contains(\"이탈리아어학과\")==True]"
   ]
  },
  {
   "cell_type": "code",
   "execution_count": 1531,
   "metadata": {},
   "outputs": [],
   "source": [
    "second[second.str.contains(\"이탈리아어학과\")==True]=\"\""
   ]
  },
  {
   "cell_type": "code",
   "execution_count": 253,
   "metadata": {},
   "outputs": [],
   "source": [
    "second[second.str.contains(\"유기응용재료공학\")==True]=\"유기응용재료공학과\""
   ]
  },
  {
   "cell_type": "code",
   "execution_count": 1533,
   "metadata": {},
   "outputs": [],
   "source": [
    "df[\"학과\"]=second[second.str.contains(\"유기응용재료공학과\")==True]"
   ]
  },
  {
   "cell_type": "code",
   "execution_count": 1534,
   "metadata": {},
   "outputs": [],
   "source": [
    "second[second.str.contains(\"유기응용재료공학과\")==True]=\"\""
   ]
  },
  {
   "cell_type": "code",
   "execution_count": 254,
   "metadata": {},
   "outputs": [],
   "source": [
    "second[second.str.contains(\"재료\")==True]=\"재료공학과\""
   ]
  },
  {
   "cell_type": "code",
   "execution_count": 1536,
   "metadata": {},
   "outputs": [],
   "source": [
    "df[\"학과\"]=second[second.str.contains(\"재료공학과\")==True]"
   ]
  },
  {
   "cell_type": "code",
   "execution_count": 1537,
   "metadata": {},
   "outputs": [],
   "source": [
    "second[second.str.contains(\"재료공학과\")==True]=\"\""
   ]
  },
  {
   "cell_type": "code",
   "execution_count": 255,
   "metadata": {},
   "outputs": [],
   "source": [
    "second[second.str.contains(\"신소재\")==True]=\"신소재공학과\""
   ]
  },
  {
   "cell_type": "code",
   "execution_count": 1539,
   "metadata": {},
   "outputs": [],
   "source": [
    "df[\"학과\"]=second[second.str.contains(\"신소재공학과\")==True]"
   ]
  },
  {
   "cell_type": "code",
   "execution_count": 1540,
   "metadata": {},
   "outputs": [],
   "source": [
    "second[second.str.contains(\"신소재공학과\")==True]=\"\""
   ]
  },
  {
   "cell_type": "code",
   "execution_count": 256,
   "metadata": {},
   "outputs": [],
   "source": [
    "second[second.str.contains(\"사회과학\")==True]=\"사회과학계열학과\""
   ]
  },
  {
   "cell_type": "code",
   "execution_count": 1542,
   "metadata": {},
   "outputs": [],
   "source": [
    "df[\"학과\"]=second[second.str.contains(\"사회과학계열학과\")==True]"
   ]
  },
  {
   "cell_type": "code",
   "execution_count": 1543,
   "metadata": {},
   "outputs": [],
   "source": [
    "second[second.str.contains(\"사회과학계열학과\")==True]=\"\""
   ]
  },
  {
   "cell_type": "code",
   "execution_count": 257,
   "metadata": {},
   "outputs": [],
   "source": [
    "second[second.str.contains(\"상경\")==True]=\"상경계열학과\""
   ]
  },
  {
   "cell_type": "code",
   "execution_count": 1545,
   "metadata": {},
   "outputs": [],
   "source": [
    "df[\"학과\"]=second[second.str.contains(\"상경계열학과\")==True]"
   ]
  },
  {
   "cell_type": "code",
   "execution_count": 1546,
   "metadata": {},
   "outputs": [],
   "source": [
    "second[second.str.contains(\"상경계열학과\")==True]=\"\""
   ]
  },
  {
   "cell_type": "code",
   "execution_count": 258,
   "metadata": {},
   "outputs": [],
   "source": [
    "second[second.str.contains(\"문사\")==True]=\"인문사회계열학과\""
   ]
  },
  {
   "cell_type": "code",
   "execution_count": 1548,
   "metadata": {},
   "outputs": [],
   "source": [
    "df[\"학과\"]=second[second.str.contains(\"인문사회계열학과\")==True]"
   ]
  },
  {
   "cell_type": "code",
   "execution_count": 1549,
   "metadata": {},
   "outputs": [],
   "source": [
    "second[second.str.contains(\"인문사회계열학과\")==True]=\"\""
   ]
  },
  {
   "cell_type": "code",
   "execution_count": 259,
   "metadata": {},
   "outputs": [],
   "source": [
    "second[second.str.contains(\"중문\")==True]=\"중어중문학과\""
   ]
  },
  {
   "cell_type": "code",
   "execution_count": 1551,
   "metadata": {},
   "outputs": [],
   "source": [
    "df[\"학과\"]=second[second.str.contains(\"중어중문학과\")==True]"
   ]
  },
  {
   "cell_type": "code",
   "execution_count": 1552,
   "metadata": {},
   "outputs": [],
   "source": [
    "second[second.str.contains(\"중어중문학과\")==True]=\"\""
   ]
  },
  {
   "cell_type": "code",
   "execution_count": 1553,
   "metadata": {},
   "outputs": [],
   "source": [
    "df[\"학과\"]=second[second.str.contains(\"축산\")==True]"
   ]
  },
  {
   "cell_type": "code",
   "execution_count": 1554,
   "metadata": {},
   "outputs": [],
   "source": [
    "second[second.str.contains(\"축산\")==True]=\"\""
   ]
  },
  {
   "cell_type": "code",
   "execution_count": 260,
   "metadata": {},
   "outputs": [],
   "source": [
    "second[second.str.contains(\"식품공\")==True]=\"식품공학과\""
   ]
  },
  {
   "cell_type": "code",
   "execution_count": 1556,
   "metadata": {},
   "outputs": [],
   "source": [
    "df[\"학과\"]=second[second.str.contains(\"식품공학과\")==True]"
   ]
  },
  {
   "cell_type": "code",
   "execution_count": 1557,
   "metadata": {},
   "outputs": [],
   "source": [
    "second[second.str.contains(\"식품공학과\")==True]=\"\""
   ]
  },
  {
   "cell_type": "code",
   "execution_count": 1558,
   "metadata": {},
   "outputs": [],
   "source": [
    "df[\"학과\"]=second[second.str.contains(\"식품생명\")==True]"
   ]
  },
  {
   "cell_type": "code",
   "execution_count": 1559,
   "metadata": {},
   "outputs": [],
   "source": [
    "second[second.str.contains(\"식품생명\")==True]=\"\""
   ]
  },
  {
   "cell_type": "code",
   "execution_count": 261,
   "metadata": {},
   "outputs": [],
   "source": [
    "second[second.str.contains(\"식품\")==True]=\"식품영양학과\""
   ]
  },
  {
   "cell_type": "code",
   "execution_count": 1561,
   "metadata": {},
   "outputs": [],
   "source": [
    "df[\"학과\"]=second[second.str.contains(\"식품영양학과\")==True]"
   ]
  },
  {
   "cell_type": "code",
   "execution_count": 1562,
   "metadata": {},
   "outputs": [],
   "source": [
    "second[second.str.contains(\"식품영양학과\")==True]=\"\""
   ]
  },
  {
   "cell_type": "code",
   "execution_count": 262,
   "metadata": {},
   "outputs": [],
   "source": [
    "second[second.str.contains(\"공과\")==True]=\"공과계열학과\""
   ]
  },
  {
   "cell_type": "code",
   "execution_count": 1564,
   "metadata": {},
   "outputs": [],
   "source": [
    "df[\"학과\"]=second[second.str.contains(\"공과계열학과\")==True]"
   ]
  },
  {
   "cell_type": "code",
   "execution_count": 1565,
   "metadata": {},
   "outputs": [],
   "source": [
    "second[second.str.contains(\"공과계열학과\")==True]=\"\""
   ]
  },
  {
   "cell_type": "code",
   "execution_count": 263,
   "metadata": {},
   "outputs": [],
   "source": [
    "second[second.str.contains(\"의류\")==True]=\"의류학과\""
   ]
  },
  {
   "cell_type": "code",
   "execution_count": 1567,
   "metadata": {},
   "outputs": [],
   "source": [
    "df[\"학과\"]=second[second.str.contains(\"의류학과\")==True]"
   ]
  },
  {
   "cell_type": "code",
   "execution_count": 1568,
   "metadata": {},
   "outputs": [],
   "source": [
    "second[second.str.contains(\"의류학과\")==True]=\"\""
   ]
  },
  {
   "cell_type": "code",
   "execution_count": 264,
   "metadata": {},
   "outputs": [],
   "source": [
    "second[second.str.contains(\"국제무역\")==True]=\"국제무역학과\""
   ]
  },
  {
   "cell_type": "code",
   "execution_count": 1570,
   "metadata": {},
   "outputs": [],
   "source": [
    "df[\"학과\"]=second[second.str.contains(\"국제무역학과\")==True]"
   ]
  },
  {
   "cell_type": "code",
   "execution_count": 1571,
   "metadata": {},
   "outputs": [],
   "source": [
    "second[second.str.contains(\"국제무역학과\")==True]=\"\""
   ]
  },
  {
   "cell_type": "code",
   "execution_count": 265,
   "metadata": {},
   "outputs": [],
   "source": [
    "second[second.str.contains(\"무역\")==True]=\"무역학과\""
   ]
  },
  {
   "cell_type": "code",
   "execution_count": 1573,
   "metadata": {},
   "outputs": [],
   "source": [
    "df[\"학과\"]=second[second.str.contains(\"무역학과\")==True]"
   ]
  },
  {
   "cell_type": "code",
   "execution_count": 1574,
   "metadata": {},
   "outputs": [],
   "source": [
    "second[second.str.contains(\"무역학과\")==True]=\"\""
   ]
  },
  {
   "cell_type": "code",
   "execution_count": 266,
   "metadata": {},
   "outputs": [],
   "source": [
    "second[second.str.contains(\"산업디자인\")==True]=\"산업디자인학과\""
   ]
  },
  {
   "cell_type": "code",
   "execution_count": 1576,
   "metadata": {},
   "outputs": [],
   "source": [
    "df[\"학과\"]=second[second.str.contains(\"산업디자인학과\")==True]"
   ]
  },
  {
   "cell_type": "code",
   "execution_count": 1577,
   "metadata": {},
   "outputs": [],
   "source": [
    "second[second.str.contains(\"산업디자인학과\")==True]=\"\""
   ]
  },
  {
   "cell_type": "code",
   "execution_count": 1578,
   "metadata": {},
   "outputs": [],
   "source": [
    "df[\"학과\"]=second[second.str.contains(\"외식산업학과\")==True]"
   ]
  },
  {
   "cell_type": "code",
   "execution_count": 1579,
   "metadata": {},
   "outputs": [],
   "source": [
    "second[second.str.contains(\"외식산업학과\")==True]=\"\""
   ]
  },
  {
   "cell_type": "code",
   "execution_count": 267,
   "metadata": {},
   "outputs": [],
   "source": [
    "second[second.str.contains(\"산업\")==True]=\"산업시스템공학과\""
   ]
  },
  {
   "cell_type": "code",
   "execution_count": 1581,
   "metadata": {},
   "outputs": [],
   "source": [
    "df[\"학과\"]=second[second.str.contains(\"산업시스템공학과\")==True]"
   ]
  },
  {
   "cell_type": "code",
   "execution_count": 1582,
   "metadata": {},
   "outputs": [],
   "source": [
    "second[second.str.contains(\"산업시스템공학과\")==True]=\"\""
   ]
  },
  {
   "cell_type": "code",
   "execution_count": 268,
   "metadata": {},
   "outputs": [],
   "source": [
    "second[second.str.contains(\"어문\")==True]=\"어문계열학과\""
   ]
  },
  {
   "cell_type": "code",
   "execution_count": 1584,
   "metadata": {},
   "outputs": [],
   "source": [
    "df[\"학과\"]=second[second.str.contains(\"어문계열학과\")==True]"
   ]
  },
  {
   "cell_type": "code",
   "execution_count": 269,
   "metadata": {},
   "outputs": [],
   "source": [
    "second[second.str.contains(\"국제물류\")==True]=\"국제물류학과\""
   ]
  },
  {
   "cell_type": "code",
   "execution_count": 1586,
   "metadata": {},
   "outputs": [],
   "source": [
    "df[\"학과\"]=second[second.str.contains(\"국제물류학과\")==True]"
   ]
  },
  {
   "cell_type": "code",
   "execution_count": 1587,
   "metadata": {},
   "outputs": [],
   "source": [
    "second[second.str.contains(\"국제물류학과\")==True]=\"\""
   ]
  },
  {
   "cell_type": "code",
   "execution_count": 270,
   "metadata": {},
   "outputs": [],
   "source": [
    "second[second.str.contains(\"물류\")==True]=\"물류학과\""
   ]
  },
  {
   "cell_type": "code",
   "execution_count": 1589,
   "metadata": {},
   "outputs": [],
   "source": [
    "df[\"학과\"]=second[second.str.contains(\"물류학과\")==True]"
   ]
  },
  {
   "cell_type": "code",
   "execution_count": 1590,
   "metadata": {},
   "outputs": [],
   "source": [
    "second[second.str.contains(\"물류학과\")==True]=\"\""
   ]
  },
  {
   "cell_type": "code",
   "execution_count": 271,
   "metadata": {},
   "outputs": [],
   "source": [
    "second[second.str.contains(\"멀티미디어\")==True]=\"멀티미디어학과\""
   ]
  },
  {
   "cell_type": "code",
   "execution_count": 1592,
   "metadata": {},
   "outputs": [],
   "source": [
    "df[\"학과\"]=second[second.str.contains(\"멀티미디어학과\")==True]"
   ]
  },
  {
   "cell_type": "code",
   "execution_count": 1593,
   "metadata": {},
   "outputs": [],
   "source": [
    "second[second.str.contains(\"멀티미디어학과\")==True]=\"\""
   ]
  },
  {
   "cell_type": "code",
   "execution_count": 1594,
   "metadata": {},
   "outputs": [],
   "source": [
    "df[\"학과\"]=second[second.str.contains(\"미디어커뮤니케이션학과\")==True]"
   ]
  },
  {
   "cell_type": "code",
   "execution_count": 1595,
   "metadata": {},
   "outputs": [],
   "source": [
    "second[second.str.contains(\"미디어커뮤니케이션학과\")==True]=\"\""
   ]
  },
  {
   "cell_type": "code",
   "execution_count": 272,
   "metadata": {},
   "outputs": [],
   "source": [
    "second[second.str.contains(\"미디어\")==True]=\"미디어학과\""
   ]
  },
  {
   "cell_type": "code",
   "execution_count": 1597,
   "metadata": {},
   "outputs": [],
   "source": [
    "df[\"학과\"]=second[second.str.contains(\"미디어학과\")==True]"
   ]
  },
  {
   "cell_type": "code",
   "execution_count": 1598,
   "metadata": {},
   "outputs": [],
   "source": [
    "second[second.str.contains(\"미디어학과\")==True]=\"\""
   ]
  },
  {
   "cell_type": "code",
   "execution_count": 273,
   "metadata": {},
   "outputs": [],
   "source": [
    "second[second.str.contains(\"사회\")==True]=\"사회학과\""
   ]
  },
  {
   "cell_type": "code",
   "execution_count": 1600,
   "metadata": {},
   "outputs": [],
   "source": [
    "df[\"학과\"]=second[second.str.contains(\"사회학과\")==True]"
   ]
  },
  {
   "cell_type": "code",
   "execution_count": 1601,
   "metadata": {},
   "outputs": [],
   "source": [
    "second[second.str.contains(\"사회학과\")==True]=\"\""
   ]
  },
  {
   "cell_type": "code",
   "execution_count": 274,
   "metadata": {},
   "outputs": [],
   "source": [
    "second[second.str.contains(\"디지털콘텐츠\")==True]=\"디지털콘텐츠학과\""
   ]
  },
  {
   "cell_type": "code",
   "execution_count": 275,
   "metadata": {},
   "outputs": [],
   "source": [
    "second[second.str.contains(\"디지털컨텐츠\")==True]=\"디지털콘텐츠학과\""
   ]
  },
  {
   "cell_type": "code",
   "execution_count": 1604,
   "metadata": {},
   "outputs": [],
   "source": [
    "df[\"학과\"]=second[second.str.contains(\"디지털콘텐츠학과\")==True]"
   ]
  },
  {
   "cell_type": "code",
   "execution_count": 1605,
   "metadata": {},
   "outputs": [],
   "source": [
    "second[second.str.contains(\"디지털콘텐츠학과\")==True]=\"\""
   ]
  },
  {
   "cell_type": "code",
   "execution_count": 276,
   "metadata": {},
   "outputs": [],
   "source": [
    "second[second.str.contains(\"디지털마케팅과\")==True]=\"디지털마케팅학과\""
   ]
  },
  {
   "cell_type": "code",
   "execution_count": 1607,
   "metadata": {},
   "outputs": [],
   "source": [
    "df[\"학과\"]=second[second.str.contains(\"디지털마케팅학과\")==True]"
   ]
  },
  {
   "cell_type": "code",
   "execution_count": 1608,
   "metadata": {},
   "outputs": [],
   "source": [
    "second[second.str.contains(\"디지털콘텐츠학과\")==True]=\"\""
   ]
  },
  {
   "cell_type": "code",
   "execution_count": 1609,
   "metadata": {},
   "outputs": [],
   "source": [
    "second[second.str.contains(\"디지털\")==True]=\"\""
   ]
  },
  {
   "cell_type": "code",
   "execution_count": 277,
   "metadata": {},
   "outputs": [],
   "source": [
    "second[second.str.contains(\"소프트\")==True]=\"소프트웨어공학과\""
   ]
  },
  {
   "cell_type": "code",
   "execution_count": 1611,
   "metadata": {},
   "outputs": [],
   "source": [
    "df[\"학과\"]=second[second.str.contains(\"소프트웨어공학과\")==True]"
   ]
  },
  {
   "cell_type": "code",
   "execution_count": 1612,
   "metadata": {},
   "outputs": [],
   "source": [
    "second[second.str.contains(\"소프트웨어공학과\")==True]=\"\""
   ]
  },
  {
   "cell_type": "code",
   "execution_count": 278,
   "metadata": {},
   "outputs": [],
   "source": [
    "second[second.str.contains(\"통계\")==True]=\"통계학과\""
   ]
  },
  {
   "cell_type": "code",
   "execution_count": 1614,
   "metadata": {},
   "outputs": [],
   "source": [
    "df[\"학과\"]=second[second.str.contains(\"통계학과\")==True]"
   ]
  },
  {
   "cell_type": "code",
   "execution_count": 1615,
   "metadata": {},
   "outputs": [],
   "source": [
    "second[second.str.contains(\"통계학과\")==True]=\"\""
   ]
  },
  {
   "cell_type": "code",
   "execution_count": 279,
   "metadata": {},
   "outputs": [],
   "source": [
    "second[second.str.contains(\"초등\")==True]=\"초등교육학과\""
   ]
  },
  {
   "cell_type": "code",
   "execution_count": 1617,
   "metadata": {},
   "outputs": [],
   "source": [
    "df[\"학과\"]=second[second.str.contains(\"초등교육학과\")==True]"
   ]
  },
  {
   "cell_type": "code",
   "execution_count": 1618,
   "metadata": {},
   "outputs": [],
   "source": [
    "second[second.str.contains(\"초등교육학과\")==True]=\"\""
   ]
  },
  {
   "cell_type": "code",
   "execution_count": 280,
   "metadata": {},
   "outputs": [],
   "source": [
    "second[second.str.contains(\"조선\")==True]=\"조선해양공학과\""
   ]
  },
  {
   "cell_type": "code",
   "execution_count": 1620,
   "metadata": {},
   "outputs": [],
   "source": [
    "df[\"학과\"]=second[second.str.contains(\"조선해양공학과\")==True]"
   ]
  },
  {
   "cell_type": "code",
   "execution_count": 1621,
   "metadata": {},
   "outputs": [],
   "source": [
    "second[second.str.contains(\"조선해양공학과\")==True]=\"\""
   ]
  },
  {
   "cell_type": "code",
   "execution_count": 281,
   "metadata": {},
   "outputs": [],
   "source": [
    "second[second.str.contains(\"영어통번역\")==True]=\"영어통번역학과\""
   ]
  },
  {
   "cell_type": "code",
   "execution_count": 1623,
   "metadata": {},
   "outputs": [],
   "source": [
    "df[\"학과\"]=second[second.str.contains(\"영어통번역학과\")==True]"
   ]
  },
  {
   "cell_type": "code",
   "execution_count": 1624,
   "metadata": {},
   "outputs": [],
   "source": [
    "second[second.str.contains(\"영어통번역학과\")==True]=\"\""
   ]
  },
  {
   "cell_type": "code",
   "execution_count": 282,
   "metadata": {},
   "outputs": [],
   "source": [
    "second[second.str.contains(\"설계\")==True]=\"기계설계공학과\""
   ]
  },
  {
   "cell_type": "code",
   "execution_count": 1626,
   "metadata": {},
   "outputs": [],
   "source": [
    "df[\"학과\"]=second[second.str.contains(\"기계설계공학과\")==True]"
   ]
  },
  {
   "cell_type": "code",
   "execution_count": 1627,
   "metadata": {},
   "outputs": [],
   "source": [
    "second[second.str.contains(\"기계설계공학과\")==True]=\"\""
   ]
  },
  {
   "cell_type": "code",
   "execution_count": 283,
   "metadata": {},
   "outputs": [],
   "source": [
    "second[second.str.contains(\"의상\")==True]=\"의상학과\""
   ]
  },
  {
   "cell_type": "code",
   "execution_count": 1629,
   "metadata": {},
   "outputs": [],
   "source": [
    "df[\"학과\"]=second[second.str.contains(\"의상학과\")==True]"
   ]
  },
  {
   "cell_type": "code",
   "execution_count": 1630,
   "metadata": {},
   "outputs": [],
   "source": [
    "second[second.str.contains(\"의상학과\")==True]=\"\""
   ]
  },
  {
   "cell_type": "code",
   "execution_count": 1631,
   "metadata": {},
   "outputs": [],
   "source": [
    "df[\"학과\"]=second[second.str.contains(\"조경\")==True]"
   ]
  },
  {
   "cell_type": "code",
   "execution_count": 1632,
   "metadata": {},
   "outputs": [],
   "source": [
    "second[second.str.contains(\"조경\")==True]=\"\""
   ]
  },
  {
   "cell_type": "code",
   "execution_count": 284,
   "metadata": {},
   "outputs": [],
   "source": [
    "second[second.str.contains(\"이공\")==True]=\"이공계열학과\""
   ]
  },
  {
   "cell_type": "code",
   "execution_count": 1634,
   "metadata": {},
   "outputs": [],
   "source": [
    "df[\"학과\"]=second[second.str.contains(\"이공계열학과\")==True]"
   ]
  },
  {
   "cell_type": "code",
   "execution_count": 1635,
   "metadata": {},
   "outputs": [],
   "source": [
    "second[second.str.contains(\"이공계열학과\")==True]=\"\""
   ]
  },
  {
   "cell_type": "code",
   "execution_count": 285,
   "metadata": {},
   "outputs": [],
   "source": [
    "second[second.str.contains(\"지질\")==True]=\"지질환경과학과\""
   ]
  },
  {
   "cell_type": "code",
   "execution_count": 1637,
   "metadata": {},
   "outputs": [],
   "source": [
    "df[\"학과\"]=second[second.str.contains(\"지질환경과학과\")==True]"
   ]
  },
  {
   "cell_type": "code",
   "execution_count": 1638,
   "metadata": {},
   "outputs": [],
   "source": [
    "second[second.str.contains(\"지질환경과학과\")==True]=\"\""
   ]
  },
  {
   "cell_type": "code",
   "execution_count": 286,
   "metadata": {},
   "outputs": [],
   "source": [
    "second[second.str.contains(\"유기응용\")==True]=\"유기응용공학과\""
   ]
  },
  {
   "cell_type": "code",
   "execution_count": 1640,
   "metadata": {},
   "outputs": [],
   "source": [
    "df[\"학과\"]=second[second.str.contains(\"유기응용공학과\")==True]"
   ]
  },
  {
   "cell_type": "code",
   "execution_count": 1641,
   "metadata": {},
   "outputs": [],
   "source": [
    "second[second.str.contains(\"유기응용공학과\")==True]=\"\""
   ]
  },
  {
   "cell_type": "code",
   "execution_count": 287,
   "metadata": {},
   "outputs": [],
   "source": [
    "second[second.str.contains(\"유기\")==True]=\"유기소재공학과\""
   ]
  },
  {
   "cell_type": "code",
   "execution_count": 1643,
   "metadata": {},
   "outputs": [],
   "source": [
    "df[\"학과\"]=second[second.str.contains(\"유기소재공학과\")==True]"
   ]
  },
  {
   "cell_type": "code",
   "execution_count": 1644,
   "metadata": {},
   "outputs": [],
   "source": [
    "second[second.str.contains(\"유기소재공학과\")==True]=\"\""
   ]
  },
  {
   "cell_type": "code",
   "execution_count": 1645,
   "metadata": {},
   "outputs": [],
   "source": [
    "df[\"학과\"]=second[second.str.contains(\"어문\")==True]"
   ]
  },
  {
   "cell_type": "code",
   "execution_count": 1646,
   "metadata": {},
   "outputs": [],
   "source": [
    "second[second.str.contains(\"어문\")==True]=\"\""
   ]
  },
  {
   "cell_type": "code",
   "execution_count": 288,
   "metadata": {},
   "outputs": [],
   "source": [
    "second[second.str.contains(\"독\")==True]=\"독어독문학과\""
   ]
  },
  {
   "cell_type": "code",
   "execution_count": 1648,
   "metadata": {},
   "outputs": [],
   "source": [
    "df[\"학과\"]=second[second.str.contains(\"독어독문학과\")==True]"
   ]
  },
  {
   "cell_type": "code",
   "execution_count": 1649,
   "metadata": {},
   "outputs": [],
   "source": [
    "second[second.str.contains(\"독어독문학과\")==True]=\"\""
   ]
  },
  {
   "cell_type": "code",
   "execution_count": 289,
   "metadata": {},
   "outputs": [],
   "source": [
    "second[second.str.contains(\"불어\")==True]=\"불어불문학과\""
   ]
  },
  {
   "cell_type": "code",
   "execution_count": 1651,
   "metadata": {},
   "outputs": [],
   "source": [
    "df[\"학과\"]=second[second.str.contains(\"불어불문학과\")==True]"
   ]
  },
  {
   "cell_type": "code",
   "execution_count": 1652,
   "metadata": {},
   "outputs": [],
   "source": [
    "second[second.str.contains(\"불어불문학과\")==True]=\"\""
   ]
  },
  {
   "cell_type": "code",
   "execution_count": 290,
   "metadata": {},
   "outputs": [],
   "source": [
    "second[second.str.contains(\"자연\")==True]=\"자연계열학과\""
   ]
  },
  {
   "cell_type": "code",
   "execution_count": 1654,
   "metadata": {},
   "outputs": [],
   "source": [
    "df[\"학과\"]=second[second.str.contains(\"자연계열학과\")==True]"
   ]
  },
  {
   "cell_type": "code",
   "execution_count": 1655,
   "metadata": {},
   "outputs": [],
   "source": [
    "second[second.str.contains(\"자연계열학과\")==True]=\"\""
   ]
  },
  {
   "cell_type": "code",
   "execution_count": 291,
   "metadata": {},
   "outputs": [],
   "source": [
    "second[second.str.contains(\"도시교통공학\")==True]=\"도시교통공학과\""
   ]
  },
  {
   "cell_type": "code",
   "execution_count": 1657,
   "metadata": {},
   "outputs": [],
   "source": [
    "df[\"학과\"]=second[second.str.contains(\"도시교통공학과\")==True]"
   ]
  },
  {
   "cell_type": "code",
   "execution_count": 1658,
   "metadata": {},
   "outputs": [],
   "source": [
    "second[second.str.contains(\"도시교통공학과\")==True]=\"\""
   ]
  },
  {
   "cell_type": "code",
   "execution_count": 292,
   "metadata": {},
   "outputs": [],
   "source": [
    "second[second.str.contains(\"도시정보\")==True]=\"도시정보공학과\""
   ]
  },
  {
   "cell_type": "code",
   "execution_count": 1660,
   "metadata": {},
   "outputs": [],
   "source": [
    "df[\"학과\"]=second[second.str.contains(\"도시정보공학과\")==True]"
   ]
  },
  {
   "cell_type": "code",
   "execution_count": 1661,
   "metadata": {},
   "outputs": [],
   "source": [
    "second[second.str.contains(\"도시정보공학과\")==True]=\"\""
   ]
  },
  {
   "cell_type": "code",
   "execution_count": 293,
   "metadata": {},
   "outputs": [],
   "source": [
    "second[second.str.contains(\"도시\")==True]=\"도시공학과\""
   ]
  },
  {
   "cell_type": "code",
   "execution_count": 1663,
   "metadata": {},
   "outputs": [],
   "source": [
    "df[\"학과\"]=second[second.str.contains(\"도시공학과\")==True]"
   ]
  },
  {
   "cell_type": "code",
   "execution_count": 1664,
   "metadata": {},
   "outputs": [],
   "source": [
    "second[second.str.contains(\"도시공학과\")==True]=\"\""
   ]
  },
  {
   "cell_type": "code",
   "execution_count": 294,
   "metadata": {},
   "outputs": [],
   "source": [
    "second[second.str.contains(\"포어\")==True]=\"포르투칼어학과\""
   ]
  },
  {
   "cell_type": "code",
   "execution_count": 1666,
   "metadata": {},
   "outputs": [],
   "source": [
    "df[\"학과\"]=second[second.str.contains(\"포르투칼어학과\")==True]"
   ]
  },
  {
   "cell_type": "code",
   "execution_count": 1667,
   "metadata": {},
   "outputs": [],
   "source": [
    "second[second.str.contains(\"포르투칼어학과\")==True]=\"\""
   ]
  },
  {
   "cell_type": "code",
   "execution_count": 295,
   "metadata": {},
   "outputs": [],
   "source": [
    "second[second.str.contains(\"철학\")==True]=\"철학과\""
   ]
  },
  {
   "cell_type": "code",
   "execution_count": 1669,
   "metadata": {},
   "outputs": [],
   "source": [
    "df[\"학과\"]=second[second.str.contains(\"철학과\")==True]"
   ]
  },
  {
   "cell_type": "code",
   "execution_count": 1670,
   "metadata": {},
   "outputs": [],
   "source": [
    "second[second.str.contains(\"철학과\")==True]=\"\""
   ]
  },
  {
   "cell_type": "code",
   "execution_count": 296,
   "metadata": {},
   "outputs": [],
   "source": [
    "second[second.str.contains(\"심리학\")==True]=\"심리학과\""
   ]
  },
  {
   "cell_type": "code",
   "execution_count": 1672,
   "metadata": {},
   "outputs": [],
   "source": [
    "df[\"학과\"]=second[second.str.contains(\"심리학과\")==True]"
   ]
  },
  {
   "cell_type": "code",
   "execution_count": 1673,
   "metadata": {},
   "outputs": [],
   "source": [
    "second[second.str.contains(\"심리학과\")==True]=\"\""
   ]
  },
  {
   "cell_type": "code",
   "execution_count": 297,
   "metadata": {},
   "outputs": [],
   "source": [
    "second[second.str.contains(\"생명공\")==True]=\"생명공학과\""
   ]
  },
  {
   "cell_type": "code",
   "execution_count": 1675,
   "metadata": {},
   "outputs": [],
   "source": [
    "df[\"학과\"]=second[second.str.contains(\"생명공학과\")==True]"
   ]
  },
  {
   "cell_type": "code",
   "execution_count": 1676,
   "metadata": {},
   "outputs": [],
   "source": [
    "second[second.str.contains(\"생명공학과\")==True]=\"\""
   ]
  },
  {
   "cell_type": "code",
   "execution_count": 298,
   "metadata": {},
   "outputs": [],
   "source": [
    "second[second.str.contains(\"생명과\")==True]=\"생명과학과\""
   ]
  },
  {
   "cell_type": "code",
   "execution_count": 1678,
   "metadata": {},
   "outputs": [],
   "source": [
    "df[\"학과\"]=second[second.str.contains(\"생명과학과\")==True]"
   ]
  },
  {
   "cell_type": "code",
   "execution_count": 1679,
   "metadata": {},
   "outputs": [],
   "source": [
    "second[second.str.contains(\"생명과학과\")==True]=\"\""
   ]
  },
  {
   "cell_type": "code",
   "execution_count": 299,
   "metadata": {},
   "outputs": [],
   "source": [
    "second[second.str.contains(\"의료\")==True]=\"의료계열학과\""
   ]
  },
  {
   "cell_type": "code",
   "execution_count": 1681,
   "metadata": {},
   "outputs": [],
   "source": [
    "df[\"학과\"]=second[second.str.contains(\"의료계열학과\")==True]"
   ]
  },
  {
   "cell_type": "code",
   "execution_count": 1682,
   "metadata": {},
   "outputs": [],
   "source": [
    "second[second.str.contains(\"의료계열학과\")==True]=\"\""
   ]
  },
  {
   "cell_type": "code",
   "execution_count": 300,
   "metadata": {},
   "outputs": [],
   "source": [
    "second[second.str.contains(\"광홍\")==True]=\"광고홍보학과\""
   ]
  },
  {
   "cell_type": "code",
   "execution_count": 1684,
   "metadata": {},
   "outputs": [],
   "source": [
    "df[\"학과\"]=second[second.str.contains(\"광고\")==True]"
   ]
  },
  {
   "cell_type": "code",
   "execution_count": 1685,
   "metadata": {},
   "outputs": [],
   "source": [
    "second[second.str.contains(\"광고\")==True]=\"\""
   ]
  },
  {
   "cell_type": "code",
   "execution_count": 301,
   "metadata": {},
   "outputs": [],
   "source": [
    "second[second.str.contains(\"국제\")==True]=\"국제학과\""
   ]
  },
  {
   "cell_type": "code",
   "execution_count": 1687,
   "metadata": {},
   "outputs": [],
   "source": [
    "df[\"학과\"]=second[second.str.contains(\"국제학과\")==True]"
   ]
  },
  {
   "cell_type": "code",
   "execution_count": 1688,
   "metadata": {},
   "outputs": [],
   "source": [
    "second[second.str.contains(\"국제학과\")==True]=\"\""
   ]
  },
  {
   "cell_type": "code",
   "execution_count": 302,
   "metadata": {},
   "outputs": [],
   "source": [
    "second[second.str.contains(\"간호\")==True]=\"간호학과\""
   ]
  },
  {
   "cell_type": "code",
   "execution_count": 1690,
   "metadata": {},
   "outputs": [],
   "source": [
    "df[\"학과\"]=second[second.str.contains(\"간호학과\")==True]"
   ]
  },
  {
   "cell_type": "code",
   "execution_count": 1691,
   "metadata": {},
   "outputs": [],
   "source": [
    "second[second.str.contains(\"간호학과\")==True]=\"\""
   ]
  },
  {
   "cell_type": "code",
   "execution_count": 303,
   "metadata": {},
   "outputs": [],
   "source": [
    "second[second.str.contains(\"환경공\")==True]=\"환경공학과\""
   ]
  },
  {
   "cell_type": "code",
   "execution_count": 1693,
   "metadata": {},
   "outputs": [],
   "source": [
    "df[\"학과\"]=second[second.str.contains(\"환경공학과\")==True]"
   ]
  },
  {
   "cell_type": "code",
   "execution_count": 1694,
   "metadata": {},
   "outputs": [],
   "source": [
    "second[second.str.contains(\"환경공학과\")==True]=\"\""
   ]
  },
  {
   "cell_type": "code",
   "execution_count": 304,
   "metadata": {},
   "outputs": [],
   "source": [
    "second[second.str.contains(\"보건과학\")==True]=\"보건과학학과\""
   ]
  },
  {
   "cell_type": "code",
   "execution_count": 1696,
   "metadata": {},
   "outputs": [],
   "source": [
    "df[\"학과\"]=second[second.str.contains(\"보건과학학과\")==True]"
   ]
  },
  {
   "cell_type": "code",
   "execution_count": 1697,
   "metadata": {},
   "outputs": [],
   "source": [
    "second[second.str.contains(\"보건과학학과\")==True]=\"\""
   ]
  },
  {
   "cell_type": "code",
   "execution_count": 1698,
   "metadata": {},
   "outputs": [],
   "source": [
    "df[\"학과\"]=second[second.str.contains(\"보건관리학과\")==True]"
   ]
  },
  {
   "cell_type": "code",
   "execution_count": 1699,
   "metadata": {},
   "outputs": [],
   "source": [
    "second[second.str.contains(\"보건관리학과\")==True]=\"\""
   ]
  },
  {
   "cell_type": "code",
   "execution_count": 305,
   "metadata": {},
   "outputs": [],
   "source": [
    "second[second.str.contains(\"보건환경\")==True]=\"보건환경학과\""
   ]
  },
  {
   "cell_type": "code",
   "execution_count": 1701,
   "metadata": {},
   "outputs": [],
   "source": [
    "df[\"학과\"]=second[second.str.contains(\"보건환경학과\")==True]"
   ]
  },
  {
   "cell_type": "code",
   "execution_count": 1702,
   "metadata": {},
   "outputs": [],
   "source": [
    "second[second.str.contains(\"보건환경학과\")==True]=\"\""
   ]
  },
  {
   "cell_type": "code",
   "execution_count": 306,
   "metadata": {},
   "outputs": [],
   "source": [
    "second[second.str.contains(\"보건\")==True]=\"보건학과\""
   ]
  },
  {
   "cell_type": "code",
   "execution_count": 1704,
   "metadata": {},
   "outputs": [],
   "source": [
    "df[\"학과\"]=second[second.str.contains(\"보건학과\")==True]"
   ]
  },
  {
   "cell_type": "code",
   "execution_count": 1705,
   "metadata": {},
   "outputs": [],
   "source": [
    "second[second.str.contains(\"보건학과\")==True]=\"\""
   ]
  },
  {
   "cell_type": "code",
   "execution_count": 1706,
   "metadata": {},
   "outputs": [],
   "source": [
    "# 이상함\n",
    "second[second.str.contains(\"시립\")==True]=\"\""
   ]
  },
  {
   "cell_type": "code",
   "execution_count": 307,
   "metadata": {},
   "outputs": [],
   "source": [
    "second[second.str.contains(\"생명\")==True]=\"생명공학과\""
   ]
  },
  {
   "cell_type": "code",
   "execution_count": 1708,
   "metadata": {},
   "outputs": [],
   "source": [
    "df[\"학과\"]=second[second.str.contains(\"생명공학과\")==True]"
   ]
  },
  {
   "cell_type": "code",
   "execution_count": 1709,
   "metadata": {},
   "outputs": [],
   "source": [
    "second[second.str.contains(\"생명공학과\")==True]=\"\""
   ]
  },
  {
   "cell_type": "code",
   "execution_count": 1710,
   "metadata": {},
   "outputs": [],
   "source": [
    "df[\"학과\"]=second[second.str.contains(\"미생물학\")==True]"
   ]
  },
  {
   "cell_type": "code",
   "execution_count": 1711,
   "metadata": {},
   "outputs": [],
   "source": [
    "second[second.str.contains(\"미생물학\")==True]=\"\""
   ]
  },
  {
   "cell_type": "code",
   "execution_count": 308,
   "metadata": {},
   "outputs": [],
   "source": [
    "second[second.str.contains(\"생물학\")==True]=\"생물학과\""
   ]
  },
  {
   "cell_type": "code",
   "execution_count": 1713,
   "metadata": {},
   "outputs": [],
   "source": [
    "df[\"학과\"]=second[second.str.contains(\"생물학과\")==True]"
   ]
  },
  {
   "cell_type": "code",
   "execution_count": 1714,
   "metadata": {},
   "outputs": [],
   "source": [
    "second[second.str.contains(\"생물학과\")==True]=\"\""
   ]
  },
  {
   "cell_type": "code",
   "execution_count": 309,
   "metadata": {},
   "outputs": [],
   "source": [
    "second[second.str.contains(\"생물\")==True]=\"생물학과\""
   ]
  },
  {
   "cell_type": "code",
   "execution_count": 1716,
   "metadata": {},
   "outputs": [],
   "source": [
    "df[\"학과\"]=second[second.str.contains(\"생물학과\")==True]"
   ]
  },
  {
   "cell_type": "code",
   "execution_count": 1717,
   "metadata": {},
   "outputs": [],
   "source": [
    "second[second.str.contains(\"생물학과\")==True]=\"\""
   ]
  },
  {
   "cell_type": "code",
   "execution_count": 310,
   "metadata": {},
   "outputs": [],
   "source": [
    "second[second.str.contains(\"행\")==True]=\"행정학과\""
   ]
  },
  {
   "cell_type": "code",
   "execution_count": 1720,
   "metadata": {},
   "outputs": [],
   "source": [
    "df[\"학과\"]=second[second.str.contains(\"행정학과\")==True]"
   ]
  },
  {
   "cell_type": "code",
   "execution_count": 1721,
   "metadata": {},
   "outputs": [],
   "source": [
    "second[second.str.contains(\"행정학과\")==True]=\"\""
   ]
  },
  {
   "cell_type": "code",
   "execution_count": 311,
   "metadata": {},
   "outputs": [],
   "source": [
    "second[second.str.contains(\"공대\")==True]=\"공학계열학과\""
   ]
  },
  {
   "cell_type": "code",
   "execution_count": 1726,
   "metadata": {},
   "outputs": [],
   "source": [
    "df[\"학과\"]=second[second.str.contains(\"공학계열학과\")==True]"
   ]
  },
  {
   "cell_type": "code",
   "execution_count": 1727,
   "metadata": {},
   "outputs": [],
   "source": [
    "second[second.str.contains(\"공학계열학과\")==True]=\"\""
   ]
  },
  {
   "cell_type": "code",
   "execution_count": 312,
   "metadata": {},
   "outputs": [],
   "source": [
    "second[second.str.contains(\"고분자\")==True]=\"고분자공학과\""
   ]
  },
  {
   "cell_type": "code",
   "execution_count": 1731,
   "metadata": {},
   "outputs": [],
   "source": [
    "df[\"학과\"]=second[second.str.contains(\"고분자공학과\")==True]"
   ]
  },
  {
   "cell_type": "code",
   "execution_count": 1732,
   "metadata": {},
   "outputs": [],
   "source": [
    "second[second.str.contains(\"고분자공학과\")==True]=\"\""
   ]
  },
  {
   "cell_type": "code",
   "execution_count": 313,
   "metadata": {},
   "outputs": [],
   "source": [
    "second[second.str.contains(\"산공\")==True]=\"산업공학과\""
   ]
  },
  {
   "cell_type": "code",
   "execution_count": 1736,
   "metadata": {},
   "outputs": [],
   "source": [
    "df[\"학과\"]=second[second.str.contains(\"산업공학과\")==True]"
   ]
  },
  {
   "cell_type": "code",
   "execution_count": 1737,
   "metadata": {},
   "outputs": [],
   "source": [
    "second[second.str.contains(\"산업공학과\")==True]=\"\""
   ]
  },
  {
   "cell_type": "code",
   "execution_count": 314,
   "metadata": {},
   "outputs": [],
   "source": [
    "second[second.str.contains(\"제어자동화\")==True]=\"제어자동화학과\""
   ]
  },
  {
   "cell_type": "code",
   "execution_count": 1741,
   "metadata": {},
   "outputs": [],
   "source": [
    "df[\"학과\"]=second[second.str.contains(\"제어자동화학과\")==True]"
   ]
  },
  {
   "cell_type": "code",
   "execution_count": 1742,
   "metadata": {},
   "outputs": [],
   "source": [
    "second[second.str.contains(\"제어자동화학과\")==True]=\"\""
   ]
  },
  {
   "cell_type": "code",
   "execution_count": 315,
   "metadata": {},
   "outputs": [],
   "source": [
    "second[second.str.contains(\"자동차\")==True]=\"자동차공학과\""
   ]
  },
  {
   "cell_type": "code",
   "execution_count": 1746,
   "metadata": {},
   "outputs": [],
   "source": [
    "df[\"학과\"]=second[second.str.contains(\"자동차공학과\")==True]"
   ]
  },
  {
   "cell_type": "code",
   "execution_count": 316,
   "metadata": {},
   "outputs": [],
   "source": [
    "second[second.str.contains(\"에너지시스템\")==True]=\"에너지시스템학과\""
   ]
  },
  {
   "cell_type": "code",
   "execution_count": 1752,
   "metadata": {},
   "outputs": [],
   "source": [
    "df[\"학과\"]=second[second.str.contains(\"에너지시스템학과\")==True]"
   ]
  },
  {
   "cell_type": "code",
   "execution_count": 1753,
   "metadata": {},
   "outputs": [],
   "source": [
    "second[second.str.contains(\"에너지시스템학과\")==True]=\"\""
   ]
  },
  {
   "cell_type": "code",
   "execution_count": 317,
   "metadata": {},
   "outputs": [],
   "source": [
    "second[second.str.contains(\"에너지\")==True]=\"에너지공학과\""
   ]
  },
  {
   "cell_type": "code",
   "execution_count": 1756,
   "metadata": {},
   "outputs": [],
   "source": [
    "df[\"학과\"]=second[second.str.contains(\"에너지공학과\")==True]"
   ]
  },
  {
   "cell_type": "code",
   "execution_count": 1757,
   "metadata": {},
   "outputs": [],
   "source": [
    "second[second.str.contains(\"에너지공학과\")==True]=\"\""
   ]
  },
  {
   "cell_type": "code",
   "execution_count": 1759,
   "metadata": {},
   "outputs": [],
   "source": [
    "df[\"어학\"]=second[second.str.contains(\"오픽\")==True]"
   ]
  },
  {
   "cell_type": "code",
   "execution_count": 1761,
   "metadata": {},
   "outputs": [],
   "source": [
    "second[second.str.contains(\"오픽\")==True]=\"\""
   ]
  },
  {
   "cell_type": "code",
   "execution_count": 318,
   "metadata": {},
   "outputs": [],
   "source": [
    "second[second.str.contains(\"식영\")==True]=\"식품영양학과\""
   ]
  },
  {
   "cell_type": "code",
   "execution_count": 1764,
   "metadata": {},
   "outputs": [],
   "source": [
    "df[\"학과\"]=second[second.str.contains(\"식품영양학과\")==True]"
   ]
  },
  {
   "cell_type": "code",
   "execution_count": 1765,
   "metadata": {},
   "outputs": [],
   "source": [
    "second[second.str.contains(\"식품영양학과\")==True]=\"\""
   ]
  },
  {
   "cell_type": "code",
   "execution_count": 1767,
   "metadata": {},
   "outputs": [],
   "source": [
    "df[\"학과\"]=second[second.str.contains(\"천문대기과학과\")==True]"
   ]
  },
  {
   "cell_type": "code",
   "execution_count": 1768,
   "metadata": {},
   "outputs": [],
   "source": [
    "second[second.str.contains(\"천문대기과학과\")==True]=\"\""
   ]
  },
  {
   "cell_type": "code",
   "execution_count": 319,
   "metadata": {},
   "outputs": [],
   "source": [
    "second[second.str.contains(\"국문\")==True]=\"국어국문학과\""
   ]
  },
  {
   "cell_type": "code",
   "execution_count": 1772,
   "metadata": {},
   "outputs": [],
   "source": [
    "df[\"학과\"]=second[second.str.contains(\"국어국문학과\")==True]"
   ]
  },
  {
   "cell_type": "code",
   "execution_count": 1773,
   "metadata": {},
   "outputs": [],
   "source": [
    "second[second.str.contains(\"국어국문학과\")==True]=\"\""
   ]
  },
  {
   "cell_type": "code",
   "execution_count": 1776,
   "metadata": {},
   "outputs": [],
   "source": [
    "df[\"학과\"]=second[second.str.contains(\"문화인류학과\")==True]"
   ]
  },
  {
   "cell_type": "code",
   "execution_count": 1777,
   "metadata": {},
   "outputs": [],
   "source": [
    "second[second.str.contains(\"문화인류학과\")==True]=\"\""
   ]
  },
  {
   "cell_type": "code",
   "execution_count": 320,
   "metadata": {},
   "outputs": [],
   "source": [
    "second[second.str.contains(\"문대\")==True]=\"인문대학과\""
   ]
  },
  {
   "cell_type": "code",
   "execution_count": 1780,
   "metadata": {},
   "outputs": [],
   "source": [
    "df[\"학과\"]=second[second.str.contains(\"인문대학과\")==True]"
   ]
  },
  {
   "cell_type": "code",
   "execution_count": 1781,
   "metadata": {},
   "outputs": [],
   "source": [
    "second[second.str.contains(\"인문대학과\")==True]=\"\""
   ]
  },
  {
   "cell_type": "code",
   "execution_count": 321,
   "metadata": {},
   "outputs": [],
   "source": [
    "second[second.str.contains(\"공간디자인\")==True]=\"공간디자인학과\""
   ]
  },
  {
   "cell_type": "code",
   "execution_count": 1786,
   "metadata": {},
   "outputs": [],
   "source": [
    "df[\"학과\"]=second[second.str.contains(\"공간디자인학과\")==True]"
   ]
  },
  {
   "cell_type": "code",
   "execution_count": 1787,
   "metadata": {},
   "outputs": [],
   "source": [
    "second[second.str.contains(\"공간디자인학과\")==True]=\"\""
   ]
  },
  {
   "cell_type": "code",
   "execution_count": 322,
   "metadata": {},
   "outputs": [],
   "source": [
    "second[second.str.contains(\"시각디자인\")==True]=\"시각디자인학과\""
   ]
  },
  {
   "cell_type": "code",
   "execution_count": 1790,
   "metadata": {},
   "outputs": [],
   "source": [
    "df[\"학과\"]=second[second.str.contains(\"시각디자인학과\")==True]"
   ]
  },
  {
   "cell_type": "code",
   "execution_count": 1791,
   "metadata": {},
   "outputs": [],
   "source": [
    "second[second.str.contains(\"시각디자인학과\")==True]=\"\""
   ]
  },
  {
   "cell_type": "code",
   "execution_count": 323,
   "metadata": {},
   "outputs": [],
   "source": [
    "second[second.str.contains(\"실내디자인\")==True]=\"실내디자인학과\""
   ]
  },
  {
   "cell_type": "code",
   "execution_count": 1795,
   "metadata": {},
   "outputs": [],
   "source": [
    "df[\"학과\"]=second[second.str.contains(\"실내디자인학과\")==True]"
   ]
  },
  {
   "cell_type": "code",
   "execution_count": 1796,
   "metadata": {},
   "outputs": [],
   "source": [
    "second[second.str.contains(\"실내디자인학과\")==True]=\"\""
   ]
  },
  {
   "cell_type": "code",
   "execution_count": 324,
   "metadata": {},
   "outputs": [],
   "source": [
    "second[second.str.contains(\"디자인\")==True]=\"디자인학과\""
   ]
  },
  {
   "cell_type": "code",
   "execution_count": 1798,
   "metadata": {},
   "outputs": [],
   "source": [
    "df[\"학과\"]=second[second.str.contains(\"디자인학과\")==True]"
   ]
  },
  {
   "cell_type": "code",
   "execution_count": 1799,
   "metadata": {},
   "outputs": [],
   "source": [
    "second[second.str.contains(\"디자인학과\")==True]=\"\""
   ]
  },
  {
   "cell_type": "code",
   "execution_count": 325,
   "metadata": {},
   "outputs": [],
   "source": [
    "second[second.str.contains(\"회계\")==True]=\"회계학과\""
   ]
  },
  {
   "cell_type": "code",
   "execution_count": 1802,
   "metadata": {},
   "outputs": [],
   "source": [
    "df[\"학과\"]=second[second.str.contains(\"회계학과\")==True]"
   ]
  },
  {
   "cell_type": "code",
   "execution_count": 1803,
   "metadata": {},
   "outputs": [],
   "source": [
    "second[second.str.contains(\"회계학과\")==True]=\"\""
   ]
  },
  {
   "cell_type": "code",
   "execution_count": 326,
   "metadata": {},
   "outputs": [],
   "source": [
    "second[second.str.contains(\"안전\")==True]=\"안전공학과\""
   ]
  },
  {
   "cell_type": "code",
   "execution_count": 1806,
   "metadata": {},
   "outputs": [],
   "source": [
    "df[\"학과\"]=second[second.str.contains(\"안전공학과\")==True]"
   ]
  },
  {
   "cell_type": "code",
   "execution_count": 1807,
   "metadata": {},
   "outputs": [],
   "source": [
    "second[second.str.contains(\"안전공학과\")==True]=\"\""
   ]
  },
  {
   "cell_type": "code",
   "execution_count": 1809,
   "metadata": {},
   "outputs": [],
   "source": [
    "df[\"어학\"]=second[second.str.contains(\"토스\")==True]"
   ]
  },
  {
   "cell_type": "code",
   "execution_count": 1810,
   "metadata": {},
   "outputs": [],
   "source": [
    "second[second.str.contains(\"토스\")==True]=\"\""
   ]
  },
  {
   "cell_type": "code",
   "execution_count": 327,
   "metadata": {},
   "outputs": [],
   "source": [
    "second[second.str.contains(\"환경\")==True]=\"환경과학과\""
   ]
  },
  {
   "cell_type": "code",
   "execution_count": 1813,
   "metadata": {},
   "outputs": [],
   "source": [
    "df[\"학과\"]=second[second.str.contains(\"환경과학과\")==True]"
   ]
  },
  {
   "cell_type": "code",
   "execution_count": 1814,
   "metadata": {},
   "outputs": [],
   "source": [
    "second[second.str.contains(\"환경과학과\")==True]=\"\""
   ]
  },
  {
   "cell_type": "code",
   "execution_count": 328,
   "metadata": {},
   "outputs": [],
   "source": [
    "second[second.str.contains(\"커뮤\")==True]=\"미디어커뮤니케이션학과\""
   ]
  },
  {
   "cell_type": "code",
   "execution_count": 1817,
   "metadata": {},
   "outputs": [],
   "source": [
    "df[\"학과\"]=second[second.str.contains(\"미디어커뮤니케이션학과\")==True]"
   ]
  },
  {
   "cell_type": "code",
   "execution_count": 1818,
   "metadata": {},
   "outputs": [],
   "source": [
    "second[second.str.contains(\"미디어커뮤니케이션학과\")==True]=\"\""
   ]
  },
  {
   "cell_type": "code",
   "execution_count": 329,
   "metadata": {},
   "outputs": [],
   "source": [
    "second[second.str.contains(\"약\")==True]=\"약학과\""
   ]
  },
  {
   "cell_type": "code",
   "execution_count": 1821,
   "metadata": {},
   "outputs": [],
   "source": [
    "df[\"학과\"]=second[second.str.contains(\"약학과\")==True]"
   ]
  },
  {
   "cell_type": "code",
   "execution_count": 1822,
   "metadata": {},
   "outputs": [],
   "source": [
    "second[second.str.contains(\"약학과\")==True]=\"\""
   ]
  },
  {
   "cell_type": "code",
   "execution_count": 330,
   "metadata": {},
   "outputs": [],
   "source": [
    "second[second.str.contains(\"금융\")==True]=\"경제금융학과\""
   ]
  },
  {
   "cell_type": "code",
   "execution_count": 1826,
   "metadata": {},
   "outputs": [],
   "source": [
    "df[\"학과\"]=second[second.str.contains(\"경제금융학과\")==True]"
   ]
  },
  {
   "cell_type": "code",
   "execution_count": 1827,
   "metadata": {},
   "outputs": [],
   "source": [
    "second[second.str.contains(\"경제금융학과\")==True]=\"\""
   ]
  },
  {
   "cell_type": "code",
   "execution_count": 331,
   "metadata": {},
   "outputs": [],
   "source": [
    "second[second.str.contains(\"치\")==True]=\"치기공학과\""
   ]
  },
  {
   "cell_type": "code",
   "execution_count": 1831,
   "metadata": {},
   "outputs": [],
   "source": [
    "df[\"학과\"]=second[second.str.contains(\"치기공학과\")==True]"
   ]
  },
  {
   "cell_type": "code",
   "execution_count": 1832,
   "metadata": {},
   "outputs": [],
   "source": [
    "second[second.str.contains(\"치기공학과\")==True]=\"\""
   ]
  },
  {
   "cell_type": "code",
   "execution_count": 1834,
   "metadata": {},
   "outputs": [],
   "source": [
    "df[\"학과\"]=second[second.str.contains(\"태권도\")==True]"
   ]
  },
  {
   "cell_type": "code",
   "execution_count": 1835,
   "metadata": {},
   "outputs": [],
   "source": [
    "second[second.str.contains(\"태권도\")==True]=\"\""
   ]
  },
  {
   "cell_type": "code",
   "execution_count": 332,
   "metadata": {},
   "outputs": [],
   "source": [
    "second[second.str.contains(\"소비자학\")==True]=\"소비자학과\""
   ]
  },
  {
   "cell_type": "code",
   "execution_count": 1839,
   "metadata": {},
   "outputs": [],
   "source": [
    "df[\"학과\"]=second[second.str.contains(\"소비자학과\")==True]"
   ]
  },
  {
   "cell_type": "code",
   "execution_count": 1840,
   "metadata": {},
   "outputs": [],
   "source": [
    "second[second.str.contains(\"소비자학과\")==True]=\"\""
   ]
  },
  {
   "cell_type": "code",
   "execution_count": 333,
   "metadata": {},
   "outputs": [],
   "source": [
    "second[second.str.contains(\"러시아\")==True]=\"러시아학과\""
   ]
  },
  {
   "cell_type": "code",
   "execution_count": 1843,
   "metadata": {},
   "outputs": [],
   "source": [
    "df[\"학과\"]=second[second.str.contains(\"러시아학과\")==True]"
   ]
  },
  {
   "cell_type": "code",
   "execution_count": 1844,
   "metadata": {},
   "outputs": [],
   "source": [
    "second[second.str.contains(\"러시아학과\")==True]=\"\""
   ]
  },
  {
   "cell_type": "code",
   "execution_count": 334,
   "metadata": {},
   "outputs": [],
   "source": [
    "second[second.str.contains(\"영어교육\")==True]=\"영어교육과\""
   ]
  },
  {
   "cell_type": "code",
   "execution_count": 1848,
   "metadata": {},
   "outputs": [],
   "source": [
    "df[\"학과\"]=second[second.str.contains(\"영어교육과\")==True]"
   ]
  },
  {
   "cell_type": "code",
   "execution_count": 1849,
   "metadata": {},
   "outputs": [],
   "source": [
    "second[second.str.contains(\"영어교육과\")==True]=\"\""
   ]
  },
  {
   "cell_type": "code",
   "execution_count": 335,
   "metadata": {},
   "outputs": [],
   "source": [
    "second[second.str.contains(\"영어\")==True]=\"영어영문학과\""
   ]
  },
  {
   "cell_type": "code",
   "execution_count": 1852,
   "metadata": {},
   "outputs": [],
   "source": [
    "df[\"학과\"]=second[second.str.contains(\"영어영문학과\")==True]"
   ]
  },
  {
   "cell_type": "code",
   "execution_count": 1853,
   "metadata": {},
   "outputs": [],
   "source": [
    "second[second.str.contains(\"영어영문학과\")==True]=\"\""
   ]
  },
  {
   "cell_type": "code",
   "execution_count": 336,
   "metadata": {},
   "outputs": [],
   "source": [
    "second[second.str.contains(\"인지\")==True]=\"인지과학학과\""
   ]
  },
  {
   "cell_type": "code",
   "execution_count": 1856,
   "metadata": {},
   "outputs": [],
   "source": [
    "df[\"학과\"]=second[second.str.contains(\"인지과학학과\")==True]"
   ]
  },
  {
   "cell_type": "code",
   "execution_count": 1857,
   "metadata": {},
   "outputs": [],
   "source": [
    "second[second.str.contains(\"인지과학학과\")==True]=\"\""
   ]
  },
  {
   "cell_type": "code",
   "execution_count": 337,
   "metadata": {},
   "outputs": [],
   "source": [
    "second[second.str.contains(\"반도체\")==True]=\"반도체공학과\""
   ]
  },
  {
   "cell_type": "code",
   "execution_count": 1860,
   "metadata": {},
   "outputs": [],
   "source": [
    "df[\"학과\"]=second[second.str.contains(\"반도체공학과\")==True]"
   ]
  },
  {
   "cell_type": "code",
   "execution_count": 1861,
   "metadata": {},
   "outputs": [],
   "source": [
    "second[second.str.contains(\"반도체공학과\")==True]=\"\""
   ]
  },
  {
   "cell_type": "code",
   "execution_count": 338,
   "metadata": {},
   "outputs": [],
   "source": [
    "second[second.str.contains(\"기게\")==True]=\"기계공학과\""
   ]
  },
  {
   "cell_type": "code",
   "execution_count": 1864,
   "metadata": {},
   "outputs": [],
   "source": [
    "df[\"학과\"]=second[second.str.contains(\"기계공학과\")==True]"
   ]
  },
  {
   "cell_type": "code",
   "execution_count": 1865,
   "metadata": {},
   "outputs": [],
   "source": [
    "second[second.str.contains(\"기계공학과\")==True]=\"\""
   ]
  },
  {
   "cell_type": "code",
   "execution_count": 339,
   "metadata": {},
   "outputs": [],
   "source": [
    "second[second.str.contains(\"체육\")==True]=\"체육학과\""
   ]
  },
  {
   "cell_type": "code",
   "execution_count": 1868,
   "metadata": {},
   "outputs": [],
   "source": [
    "df[\"학과\"]=second[second.str.contains(\"체육학과\")==True]"
   ]
  },
  {
   "cell_type": "code",
   "execution_count": 1869,
   "metadata": {},
   "outputs": [],
   "source": [
    "second[second.str.contains(\"체육학과\")==True]=\"\""
   ]
  },
  {
   "cell_type": "code",
   "execution_count": 340,
   "metadata": {},
   "outputs": [],
   "source": [
    "second[second.str.contains(\"통신\")==True]=\"정보통신학과\""
   ]
  },
  {
   "cell_type": "code",
   "execution_count": 1872,
   "metadata": {},
   "outputs": [],
   "source": [
    "df[\"학과\"]=second[second.str.contains(\"정보통신학과\")==True]"
   ]
  },
  {
   "cell_type": "code",
   "execution_count": 1873,
   "metadata": {},
   "outputs": [],
   "source": [
    "second[second.str.contains(\"정보통신학과\")==True]=\"\""
   ]
  },
  {
   "cell_type": "code",
   "execution_count": 341,
   "metadata": {},
   "outputs": [],
   "source": [
    "second[second.str.contains(\"유아교육\")==True]=\"유아교육과\""
   ]
  },
  {
   "cell_type": "code",
   "execution_count": 1876,
   "metadata": {},
   "outputs": [],
   "source": [
    "df[\"학과\"]=second[second.str.contains(\"유아교육과\")==True]"
   ]
  },
  {
   "cell_type": "code",
   "execution_count": 1877,
   "metadata": {},
   "outputs": [],
   "source": [
    "second[second.str.contains(\"유아교육과\")==True]=\"\""
   ]
  },
  {
   "cell_type": "code",
   "execution_count": 342,
   "metadata": {},
   "outputs": [],
   "source": [
    "second[second.str.contains(\"역사교육\")==True]=\"역사교육학과\""
   ]
  },
  {
   "cell_type": "code",
   "execution_count": 1881,
   "metadata": {},
   "outputs": [],
   "source": [
    "df[\"학과\"]=second[second.str.contains(\"역사교육학과\")==True]"
   ]
  },
  {
   "cell_type": "code",
   "execution_count": 1882,
   "metadata": {},
   "outputs": [],
   "source": [
    "second[second.str.contains(\"역사교육학과\")==True]=\"\""
   ]
  },
  {
   "cell_type": "code",
   "execution_count": 343,
   "metadata": {},
   "outputs": [],
   "source": [
    "second[second.str.contains(\"과학교육\")==True]=\"과학교육학과\""
   ]
  },
  {
   "cell_type": "code",
   "execution_count": 1885,
   "metadata": {},
   "outputs": [],
   "source": [
    "df[\"학과\"]=second[second.str.contains(\"과학교육학과\")==True]"
   ]
  },
  {
   "cell_type": "code",
   "execution_count": 1886,
   "metadata": {},
   "outputs": [],
   "source": [
    "second[second.str.contains(\"과학교육학과\")==True]=\"\""
   ]
  },
  {
   "cell_type": "code",
   "execution_count": 344,
   "metadata": {},
   "outputs": [],
   "source": [
    "second[second.str.contains(\"교육\")==True]=\"교육학과\""
   ]
  },
  {
   "cell_type": "code",
   "execution_count": 1889,
   "metadata": {},
   "outputs": [],
   "source": [
    "df[\"학과\"]=second[second.str.contains(\"교육학과\")==True]"
   ]
  },
  {
   "cell_type": "code",
   "execution_count": 1890,
   "metadata": {},
   "outputs": [],
   "source": [
    "second[second.str.contains(\"교육학과\")==True]=\"\""
   ]
  },
  {
   "cell_type": "code",
   "execution_count": 1891,
   "metadata": {},
   "outputs": [],
   "source": [
    "second[second.str.contains(\"부산대\")==True]=\"\""
   ]
  },
  {
   "cell_type": "code",
   "execution_count": 345,
   "metadata": {},
   "outputs": [],
   "source": [
    "second[second.str.contains(\"생공\")==True]=\"생명공학과\""
   ]
  },
  {
   "cell_type": "code",
   "execution_count": 1894,
   "metadata": {},
   "outputs": [],
   "source": [
    "df[\"학과\"]=second[second.str.contains(\"생명공학과\")==True]"
   ]
  },
  {
   "cell_type": "code",
   "execution_count": 1895,
   "metadata": {},
   "outputs": [],
   "source": [
    "second[second.str.contains(\"생명공학과\")==True]=\"\""
   ]
  },
  {
   "cell_type": "code",
   "execution_count": 346,
   "metadata": {},
   "outputs": [],
   "source": [
    "second[second.str.contains(\"특수\")==True]=\"특수어학과\""
   ]
  },
  {
   "cell_type": "code",
   "execution_count": 1898,
   "metadata": {},
   "outputs": [],
   "source": [
    "df[\"학과\"]=second[second.str.contains(\"특수어학과\")==True]"
   ]
  },
  {
   "cell_type": "code",
   "execution_count": 1899,
   "metadata": {},
   "outputs": [],
   "source": [
    "second[second.str.contains(\"특수어학과\")==True]=\"\""
   ]
  },
  {
   "cell_type": "code",
   "execution_count": 347,
   "metadata": {},
   "outputs": [],
   "source": [
    "second[second.str.contains(\"Illustration Animation BA\")==True]=\"디자인학과\""
   ]
  },
  {
   "cell_type": "code",
   "execution_count": 1902,
   "metadata": {},
   "outputs": [],
   "source": [
    "df[\"학과\"]=second[second.str.contains(\"디자인학과\")==True]"
   ]
  },
  {
   "cell_type": "code",
   "execution_count": 1903,
   "metadata": {},
   "outputs": [],
   "source": [
    "second[second.str.contains(\"디자인학과\")==True]=\"\""
   ]
  },
  {
   "cell_type": "code",
   "execution_count": 348,
   "metadata": {},
   "outputs": [],
   "source": [
    "second[second.str.contains(\"영상\")==True]=\"영상학과\""
   ]
  },
  {
   "cell_type": "code",
   "execution_count": 1906,
   "metadata": {},
   "outputs": [],
   "source": [
    "df[\"학과\"]=second[second.str.contains(\"영상학과\")==True]"
   ]
  },
  {
   "cell_type": "code",
   "execution_count": 1907,
   "metadata": {},
   "outputs": [],
   "source": [
    "second[second.str.contains(\"영상학과\")==True]=\"\""
   ]
  },
  {
   "cell_type": "code",
   "execution_count": 349,
   "metadata": {},
   "outputs": [],
   "source": [
    "second[second.str.contains(\"관광\")==True]=\"관광학과\""
   ]
  },
  {
   "cell_type": "code",
   "execution_count": 1910,
   "metadata": {},
   "outputs": [],
   "source": [
    "df[\"학과\"]=second[second.str.contains(\"관광학과\")==True]"
   ]
  },
  {
   "cell_type": "code",
   "execution_count": 1911,
   "metadata": {},
   "outputs": [],
   "source": [
    "second[second.str.contains(\"관광학과\")==True]=\"\""
   ]
  },
  {
   "cell_type": "code",
   "execution_count": 1914,
   "metadata": {},
   "outputs": [],
   "source": [
    "df[\"학과\"]=second[second.str.contains(\"메카트로닉스공학과\")==True]"
   ]
  },
  {
   "cell_type": "code",
   "execution_count": 1915,
   "metadata": {},
   "outputs": [],
   "source": [
    "second[second.str.contains(\"메카트로닉스공학과\")==True]=\"\""
   ]
  },
  {
   "cell_type": "code",
   "execution_count": 350,
   "metadata": {},
   "outputs": [],
   "source": [
    "second[second.str.contains(\"제어계측공학\")==True]=\"제어계측공학과\""
   ]
  },
  {
   "cell_type": "code",
   "execution_count": 1919,
   "metadata": {},
   "outputs": [],
   "source": [
    "df[\"학과\"]=second[second.str.contains(\"제어계측공학과\")==True]"
   ]
  },
  {
   "cell_type": "code",
   "execution_count": 1920,
   "metadata": {},
   "outputs": [],
   "source": [
    "second[second.str.contains(\"제어계측공학과\")==True]=\"\""
   ]
  },
  {
   "cell_type": "code",
   "execution_count": 1923,
   "metadata": {},
   "outputs": [],
   "source": [
    "df[\"학과\"]=second[second.str.contains(\"생체공학과\")==True]"
   ]
  },
  {
   "cell_type": "code",
   "execution_count": 1924,
   "metadata": {},
   "outputs": [],
   "source": [
    "second[second.str.contains(\"생체공학과\")==True]=\"\""
   ]
  },
  {
   "cell_type": "code",
   "execution_count": 1926,
   "metadata": {},
   "outputs": [],
   "source": [
    "df[\"학과\"]=second[second.str.contains(\"유전공학과\")==True]"
   ]
  },
  {
   "cell_type": "code",
   "execution_count": 1927,
   "metadata": {},
   "outputs": [],
   "source": [
    "second[second.str.contains(\"유전공학과\")==True]=\"\""
   ]
  },
  {
   "cell_type": "code",
   "execution_count": 351,
   "metadata": {},
   "outputs": [],
   "source": [
    "second[second.str.contains(\"기전공학부\")==True]=\"기계전자공학과\""
   ]
  },
  {
   "cell_type": "code",
   "execution_count": 1930,
   "metadata": {},
   "outputs": [],
   "source": [
    "df[\"학과\"]=second[second.str.contains(\"기계전자공학과\")==True]"
   ]
  },
  {
   "cell_type": "code",
   "execution_count": 1931,
   "metadata": {},
   "outputs": [],
   "source": [
    "second[second.str.contains(\"기계전자공학과\")==True]=\"\""
   ]
  },
  {
   "cell_type": "code",
   "execution_count": 352,
   "metadata": {},
   "outputs": [],
   "source": [
    "second[second.str.contains(\"금속공학\")==True]=\"금속공학과\""
   ]
  },
  {
   "cell_type": "code",
   "execution_count": 1934,
   "metadata": {},
   "outputs": [],
   "source": [
    "df[\"학과\"]=second[second.str.contains(\"금속공학과\")==True]"
   ]
  },
  {
   "cell_type": "code",
   "execution_count": 1935,
   "metadata": {},
   "outputs": [],
   "source": [
    "second[second.str.contains(\"금속공학과\")==True]=\"\""
   ]
  },
  {
   "cell_type": "code",
   "execution_count": 1976,
   "metadata": {},
   "outputs": [
    {
     "data": {
      "text/plain": [
       "883           공학 \n",
       "2156        공학계열 \n",
       "2176        공학계열 \n",
       "2199        공학계열 \n",
       "2200        공학계열 \n",
       "2342        공학계열 \n",
       "2359        공학계열 \n",
       "2586        의공학부 \n",
       "2597         공모전1\n",
       "2599        냉동공조 \n",
       "2612        의공학부 \n",
       "2619         공모전1\n",
       "2620        냉동공조 \n",
       "2640        냉동공조 \n",
       "3041        공간정보 \n",
       "3081        공간정보 \n",
       "3103         공학계 \n",
       "3200         공학계 \n",
       "3345         공모전1\n",
       "3453         공모전1\n",
       "3684       언론 전공 \n",
       "4102         비공개 \n",
       "4122         비공개 \n",
       "4328           공간\n",
       "4352           공간\n",
       "4372           공간\n",
       "5893        공학계열 \n",
       "6113        공학계열 \n",
       "6342          식공 \n",
       "6571          식공 \n",
       "7913        공학계열 \n",
       "7939        공학계열 \n",
       "8012         생체의공\n",
       "8296         생체의공\n",
       "8705        생체공학 \n",
       "8712       제어공학과 \n",
       "8736     정보제어공학과 \n",
       "9494          공학 \n",
       "9799          공학 \n",
       "9903          공학 \n",
       "Name: 1, dtype: object"
      ]
     },
     "execution_count": 1976,
     "metadata": {},
     "output_type": "execute_result"
    }
   ],
   "source": [
    "second[second.str.contains(\"공\")==True]"
   ]
  },
  {
   "cell_type": "code",
   "execution_count": 1940,
   "metadata": {},
   "outputs": [],
   "source": [
    "second[second.str.contains(\"경험사항\")==True]=\"공모전1\""
   ]
  },
  {
   "cell_type": "code",
   "execution_count": 1942,
   "metadata": {},
   "outputs": [],
   "source": [
    "df[\"경험사항\"]=second[second.str.contains(\"공모전1\")==True]"
   ]
  },
  {
   "cell_type": "code",
   "execution_count": 353,
   "metadata": {},
   "outputs": [],
   "source": [
    "second[second.str.contains(\"기공\")==True]=\"기계공학과\""
   ]
  },
  {
   "cell_type": "code",
   "execution_count": 1945,
   "metadata": {},
   "outputs": [],
   "source": [
    "df[\"학과\"]=second[second.str.contains(\"기계공학과\")==True]"
   ]
  },
  {
   "cell_type": "code",
   "execution_count": 1946,
   "metadata": {},
   "outputs": [],
   "source": [
    "second[second.str.contains(\"기계공학과\")==True]=\"\""
   ]
  },
  {
   "cell_type": "code",
   "execution_count": 1950,
   "metadata": {},
   "outputs": [],
   "source": [
    "df[\"학과\"]=second[second.str.contains(\"뇌\")==True]"
   ]
  },
  {
   "cell_type": "code",
   "execution_count": 1951,
   "metadata": {},
   "outputs": [],
   "source": [
    "second[second.str.contains(\"뇌\")==True]=\"\""
   ]
  },
  {
   "cell_type": "code",
   "execution_count": 354,
   "metadata": {},
   "outputs": [],
   "source": [
    "second[second.str.contains(\"디자인\")==True]=\"디자인학과\""
   ]
  },
  {
   "cell_type": "code",
   "execution_count": 1954,
   "metadata": {},
   "outputs": [],
   "source": [
    "df[\"학과\"]=second[second.str.contains(\"디자인학과\")==True]"
   ]
  },
  {
   "cell_type": "code",
   "execution_count": 1955,
   "metadata": {},
   "outputs": [],
   "source": [
    "second[second.str.contains(\"디자인학과\")==True]=\"\""
   ]
  },
  {
   "cell_type": "code",
   "execution_count": 355,
   "metadata": {},
   "outputs": [],
   "source": [
    "second[second.str.contains(\"병원\")==True]=\"의료학과\""
   ]
  },
  {
   "cell_type": "code",
   "execution_count": 1958,
   "metadata": {},
   "outputs": [],
   "source": [
    "df[\"학과\"]=second[second.str.contains(\"의료학과\")==True]"
   ]
  },
  {
   "cell_type": "code",
   "execution_count": 1959,
   "metadata": {},
   "outputs": [],
   "source": [
    "second[second.str.contains(\"의료학과\")==True]=\"\""
   ]
  },
  {
   "cell_type": "code",
   "execution_count": 356,
   "metadata": {},
   "outputs": [],
   "source": [
    "second[second.str.contains(\"인문\")==True]=\"인문계열학과\""
   ]
  },
  {
   "cell_type": "code",
   "execution_count": 1962,
   "metadata": {},
   "outputs": [],
   "source": [
    "df[\"학과\"]=second[second.str.contains(\"인문계열학과\")==True]"
   ]
  },
  {
   "cell_type": "code",
   "execution_count": 1963,
   "metadata": {},
   "outputs": [],
   "source": [
    "second[second.str.contains(\"인문계열학과\")==True]=\"\""
   ]
  },
  {
   "cell_type": "code",
   "execution_count": 1965,
   "metadata": {},
   "outputs": [],
   "source": [
    "df[\"경험사항\"]=second[second.str.contains(\"인턴\")==True]"
   ]
  },
  {
   "cell_type": "code",
   "execution_count": 1966,
   "metadata": {},
   "outputs": [],
   "source": [
    "second[second.str.contains(\"인턴\")==True]=\"\""
   ]
  },
  {
   "cell_type": "code",
   "execution_count": 357,
   "metadata": {},
   "outputs": [],
   "source": [
    "second[second.str.contains(\"보안\")==True]=\"보안학과\""
   ]
  },
  {
   "cell_type": "code",
   "execution_count": 1969,
   "metadata": {},
   "outputs": [],
   "source": [
    "df[\"학과\"]=second[second.str.contains(\"보안학과\")==True]"
   ]
  },
  {
   "cell_type": "code",
   "execution_count": 1970,
   "metadata": {},
   "outputs": [],
   "source": [
    "second[second.str.contains(\"보안학과\")==True]=\"\""
   ]
  },
  {
   "cell_type": "code",
   "execution_count": 358,
   "metadata": {},
   "outputs": [],
   "source": [
    "second[second.str.contains(\"SW\")==True]=\"소프트웨어학과\""
   ]
  },
  {
   "cell_type": "code",
   "execution_count": 1974,
   "metadata": {},
   "outputs": [],
   "source": [
    "df[\"학과\"]=second[second.str.contains(\"소프트웨어학과\")==True]"
   ]
  },
  {
   "cell_type": "code",
   "execution_count": 1975,
   "metadata": {},
   "outputs": [],
   "source": [
    "second[second.str.contains(\"소프트웨어학과\")==True]=\"\""
   ]
  },
  {
   "cell_type": "code",
   "execution_count": 1978,
   "metadata": {},
   "outputs": [],
   "source": [
    "df[\"학과\"]=second[second.str.contains(\"정보제어\")==True]"
   ]
  },
  {
   "cell_type": "code",
   "execution_count": 1979,
   "metadata": {},
   "outputs": [],
   "source": [
    "second[second.str.contains(\"정보제어\")==True]=\"\""
   ]
  },
  {
   "cell_type": "code",
   "execution_count": 359,
   "metadata": {},
   "outputs": [],
   "source": [
    "second[second.str.contains(\"원자\")==True]=\"원자력공학과\""
   ]
  },
  {
   "cell_type": "code",
   "execution_count": 1982,
   "metadata": {},
   "outputs": [],
   "source": [
    "df[\"학과\"]=second[second.str.contains(\"원자력공학과\")==True]"
   ]
  },
  {
   "cell_type": "code",
   "execution_count": 1983,
   "metadata": {},
   "outputs": [],
   "source": [
    "second[second.str.contains(\"원자력공학과\")==True]=\"\""
   ]
  },
  {
   "cell_type": "code",
   "execution_count": 360,
   "metadata": {},
   "outputs": [],
   "source": [
    "second[second.str.contains(\"식\")==True]=\"식품공학과\""
   ]
  },
  {
   "cell_type": "code",
   "execution_count": 1986,
   "metadata": {},
   "outputs": [],
   "source": [
    "df[\"학과\"]=second[second.str.contains(\"식품공학과\")==True]"
   ]
  },
  {
   "cell_type": "code",
   "execution_count": 1987,
   "metadata": {},
   "outputs": [],
   "source": [
    "second[second.str.contains(\"식품공학과\")==True]=\"\""
   ]
  },
  {
   "cell_type": "code",
   "execution_count": 1988,
   "metadata": {
    "scrolled": true
   },
   "outputs": [
    {
     "data": {
      "text/plain": [
       "0        NaN\n",
       "1        NaN\n",
       "2        NaN\n",
       "3        NaN\n",
       "4        NaN\n",
       "        ... \n",
       "10102    NaN\n",
       "10103    NaN\n",
       "10104    NaN\n",
       "10105    NaN\n",
       "10106    NaN\n",
       "Name: 학과, Length: 10107, dtype: object"
      ]
     },
     "execution_count": 1988,
     "metadata": {},
     "output_type": "execute_result"
    }
   ],
   "source": [
    "df[\"학과\"]"
   ]
  },
  {
   "cell_type": "code",
   "execution_count": null,
   "metadata": {},
   "outputs": [],
   "source": []
  },
  {
   "cell_type": "code",
   "execution_count": null,
   "metadata": {},
   "outputs": [],
   "source": []
  },
  {
   "cell_type": "code",
   "execution_count": null,
   "metadata": {},
   "outputs": [],
   "source": []
  },
  {
   "cell_type": "code",
   "execution_count": null,
   "metadata": {},
   "outputs": [],
   "source": []
  },
  {
   "cell_type": "code",
   "execution_count": null,
   "metadata": {},
   "outputs": [],
   "source": []
  },
  {
   "cell_type": "code",
   "execution_count": null,
   "metadata": {},
   "outputs": [],
   "source": []
  },
  {
   "cell_type": "code",
   "execution_count": null,
   "metadata": {},
   "outputs": [],
   "source": []
  },
  {
   "cell_type": "code",
   "execution_count": null,
   "metadata": {},
   "outputs": [],
   "source": []
  },
  {
   "cell_type": "code",
   "execution_count": null,
   "metadata": {},
   "outputs": [],
   "source": []
  },
  {
   "cell_type": "code",
   "execution_count": null,
   "metadata": {},
   "outputs": [],
   "source": []
  },
  {
   "cell_type": "code",
   "execution_count": null,
   "metadata": {},
   "outputs": [],
   "source": []
  },
  {
   "cell_type": "code",
   "execution_count": null,
   "metadata": {},
   "outputs": [],
   "source": []
  },
  {
   "cell_type": "code",
   "execution_count": null,
   "metadata": {},
   "outputs": [],
   "source": []
  },
  {
   "cell_type": "code",
   "execution_count": null,
   "metadata": {},
   "outputs": [],
   "source": []
  },
  {
   "cell_type": "code",
   "execution_count": null,
   "metadata": {},
   "outputs": [],
   "source": []
  },
  {
   "cell_type": "code",
   "execution_count": null,
   "metadata": {},
   "outputs": [],
   "source": []
  },
  {
   "cell_type": "code",
   "execution_count": null,
   "metadata": {},
   "outputs": [],
   "source": []
  },
  {
   "cell_type": "code",
   "execution_count": 9,
   "metadata": {
    "scrolled": true
   },
   "outputs": [
    {
     "data": {
      "text/plain": [
       "15"
      ]
     },
     "execution_count": 9,
     "metadata": {},
     "output_type": "execute_result"
    }
   ],
   "source": [
    "len(first[first.str.contains(\"고등학교\")==True])"
   ]
  },
  {
   "cell_type": "code",
   "execution_count": 10,
   "metadata": {},
   "outputs": [],
   "source": [
    "first[first.str.contains(\"고등학교\")==True] = \"고등학교졸업\""
   ]
  },
  {
   "cell_type": "code",
   "execution_count": 11,
   "metadata": {},
   "outputs": [
    {
     "data": {
      "text/plain": [
       "1018"
      ]
     },
     "execution_count": 11,
     "metadata": {},
     "output_type": "execute_result"
    }
   ],
   "source": [
    "len(first[first.str.contains(\"지방\")==True])"
   ]
  },
  {
   "cell_type": "code",
   "execution_count": 12,
   "metadata": {},
   "outputs": [],
   "source": [
    "first[first.str.contains(\"해외\")==True] = \"해외대\""
   ]
  },
  {
   "cell_type": "code",
   "execution_count": 13,
   "metadata": {},
   "outputs": [],
   "source": [
    "first[first.str.contains(\"미국\")==True]= \"해외대(미국)\""
   ]
  },
  {
   "cell_type": "code",
   "execution_count": 14,
   "metadata": {},
   "outputs": [],
   "source": [
    "first[first.str.contains(\"중국\")==True]=\"해외대(중국)\""
   ]
  },
  {
   "cell_type": "code",
   "execution_count": 15,
   "metadata": {},
   "outputs": [],
   "source": [
    "first[first.str.contains(\"외국대학\")==True]=\"해외대\""
   ]
  },
  {
   "cell_type": "code",
   "execution_count": 16,
   "metadata": {},
   "outputs": [],
   "source": [
    "first[first.str.contains(\"외국대\")==True]=\"해외대\""
   ]
  },
  {
   "cell_type": "code",
   "execution_count": 17,
   "metadata": {},
   "outputs": [],
   "source": [
    "first[first.str.contains(\"북경외국\")==True]=\"해외대(중국)\""
   ]
  },
  {
   "cell_type": "code",
   "execution_count": 18,
   "metadata": {},
   "outputs": [],
   "source": [
    "first[first.str.contains(\"외국4년제\")==True]=\"해외대\""
   ]
  },
  {
   "cell_type": "code",
   "execution_count": 19,
   "metadata": {},
   "outputs": [],
   "source": [
    "first[first.str.contains(\"외국계\")==True]=\"해외대\""
   ]
  },
  {
   "cell_type": "code",
   "execution_count": 20,
   "metadata": {},
   "outputs": [],
   "source": [
    "first[first.str.contains(\"일본\")==True]=\"해외대(일본)\""
   ]
  },
  {
   "cell_type": "code",
   "execution_count": 21,
   "metadata": {},
   "outputs": [],
   "source": [
    "first[first.str.contains(\"영국\")==True]=\"해외대(영국)\""
   ]
  },
  {
   "cell_type": "code",
   "execution_count": 22,
   "metadata": {},
   "outputs": [
    {
     "data": {
      "text/plain": [
       "16            Valdosta State University \n",
       "651           Valdosta State University \n",
       "1043            Pennsylvania State Uni. \n",
       "1108           Pennsylvania State Univ. \n",
       "1134            Pennsylvania State Uni. \n",
       "1188           Pennsylvania State Univ. \n",
       "1208           Pennsylvania State Univ. \n",
       "1639                                USC \n",
       "1777                                USC \n",
       "2195    University of Technology,sydney \n",
       "2307                Kingston University \n",
       "2355    University of Technology,sydney \n",
       "2466                Kingston University \n",
       "3133          Kingston University Lodon \n",
       "3235          Kingston University Lodon \n",
       "3359                              UNIST \n",
       "3477                              UNIST \n",
       "5276                              UNIST \n",
       "5301                              UNIST \n",
       "5321                              UNIST \n",
       "5424                              UNIST \n",
       "5444                              UNIST \n",
       "5477                              UNIST \n",
       "5653                     U. of Illinois \n",
       "8769              Kyrgyz National Univ. \n",
       "Name: 0, dtype: object"
      ]
     },
     "execution_count": 22,
     "metadata": {},
     "output_type": "execute_result"
    }
   ],
   "source": [
    "first[first.str.contains(\"U\")==True]"
   ]
  },
  {
   "cell_type": "code",
   "execution_count": 23,
   "metadata": {},
   "outputs": [],
   "source": [
    "first[first.str.contains(\"Valdosta State University\")==True]=\"해외대(미국)\""
   ]
  },
  {
   "cell_type": "code",
   "execution_count": 24,
   "metadata": {},
   "outputs": [],
   "source": [
    "first[first.str.contains(\"Pennsylvania\")==True]=\"해외대(미국)\""
   ]
  },
  {
   "cell_type": "code",
   "execution_count": 25,
   "metadata": {},
   "outputs": [],
   "source": [
    "first[first.str.contains(\"USC\")==True]=\"해외대(미국)\""
   ]
  },
  {
   "cell_type": "code",
   "execution_count": 26,
   "metadata": {},
   "outputs": [],
   "source": [
    "first[first.str.contains(\"sydney\")==True]=\"해외대(호주)\""
   ]
  },
  {
   "cell_type": "code",
   "execution_count": 27,
   "metadata": {},
   "outputs": [],
   "source": [
    "first[first.str.contains(\"Lodon\")==True]=\"해외대(영국)\""
   ]
  },
  {
   "cell_type": "code",
   "execution_count": 28,
   "metadata": {},
   "outputs": [],
   "source": [
    "first[first.str.contains(\"Illinois\")==True]=\"해외대(미국)\""
   ]
  },
  {
   "cell_type": "code",
   "execution_count": 29,
   "metadata": {},
   "outputs": [],
   "source": [
    "first[first.str.contains(\"University\")==True]=\"해외대\""
   ]
  },
  {
   "cell_type": "code",
   "execution_count": 30,
   "metadata": {},
   "outputs": [],
   "source": [
    "first[first.str.contains(\"Kyrgyz\")==True]=\"해외대\""
   ]
  },
  {
   "cell_type": "code",
   "execution_count": 31,
   "metadata": {},
   "outputs": [
    {
     "data": {
      "text/plain": [
       "288"
      ]
     },
     "execution_count": 31,
     "metadata": {},
     "output_type": "execute_result"
    }
   ],
   "source": [
    "len(first[first.str.contains(\"해외대\")==True])"
   ]
  },
  {
   "cell_type": "code",
   "execution_count": 32,
   "metadata": {},
   "outputs": [
    {
     "data": {
      "text/plain": [
       "0          고등학교졸업\n",
       "2          제주대학교 \n",
       "3          충남대학교 \n",
       "4          건국대학교 \n",
       "6          한경대학교 \n",
       "           ...   \n",
       "10093      동아대학교 \n",
       "10094      경북대학교 \n",
       "10099      경성대학교 \n",
       "10101    부산경상대학교 \n",
       "10102      상명대학교 \n",
       "Name: 0, Length: 2356, dtype: object"
      ]
     },
     "execution_count": 32,
     "metadata": {},
     "output_type": "execute_result"
    }
   ],
   "source": [
    "first[first.str.contains(\"학\")==True]"
   ]
  },
  {
   "cell_type": "code",
   "execution_count": 33,
   "metadata": {},
   "outputs": [],
   "source": [
    "first[first.str.contains(\"o\")==True]=\"해외대\""
   ]
  },
  {
   "cell_type": "code",
   "execution_count": 34,
   "metadata": {},
   "outputs": [],
   "source": [
    "first[first.str.contains(\"W\")==True]=\"광운대학교\""
   ]
  },
  {
   "cell_type": "code",
   "execution_count": 35,
   "metadata": {},
   "outputs": [],
   "source": [
    "first[first.str.contains(\"h\")==True]=\"경희대학교\""
   ]
  },
  {
   "cell_type": "code",
   "execution_count": 36,
   "metadata": {
    "scrolled": true
   },
   "outputs": [
    {
     "data": {
      "text/plain": [
       "290"
      ]
     },
     "execution_count": 36,
     "metadata": {},
     "output_type": "execute_result"
    }
   ],
   "source": [
    "len(first[first.str.contains(\"해외\")==True])"
   ]
  },
  {
   "cell_type": "code",
   "execution_count": 37,
   "metadata": {},
   "outputs": [],
   "source": [
    "first[first.str.contains(\"지거국\")==True]=\"지방거점국립대\""
   ]
  },
  {
   "cell_type": "code",
   "execution_count": 38,
   "metadata": {},
   "outputs": [],
   "source": [
    "first[first.str.contains(\"지거\")==True]=\"지방거점국립대\""
   ]
  },
  {
   "cell_type": "code",
   "execution_count": 39,
   "metadata": {},
   "outputs": [],
   "source": [
    "first[first.str.contains(\"강원\")==True]=\"지방거점국립대(강원대학교)\""
   ]
  },
  {
   "cell_type": "code",
   "execution_count": 40,
   "metadata": {},
   "outputs": [],
   "source": [
    "first[first.str.contains(\"대학원\")==True]=\"대학원\""
   ]
  },
  {
   "cell_type": "code",
   "execution_count": 41,
   "metadata": {},
   "outputs": [],
   "source": [
    "first[first.str.contains(\"충북\")==True]=\"지방거점국립대(충북대학교)\""
   ]
  },
  {
   "cell_type": "code",
   "execution_count": 42,
   "metadata": {},
   "outputs": [],
   "source": [
    "first[first.str.contains(\"충남\")==True]=\"지방거점국립대(충남대학교)\""
   ]
  },
  {
   "cell_type": "code",
   "execution_count": 43,
   "metadata": {},
   "outputs": [],
   "source": [
    "first[first.str.contains(\"전북\")==True]=\"지방거점국립대(전북대학교)\""
   ]
  },
  {
   "cell_type": "code",
   "execution_count": 44,
   "metadata": {},
   "outputs": [],
   "source": [
    "first[first.str.contains(\"전남\")==True]=\"지방거점국립대(전남대학교)\""
   ]
  },
  {
   "cell_type": "code",
   "execution_count": 45,
   "metadata": {},
   "outputs": [],
   "source": [
    "first[first.str.contains(\"경북대\")==True]=\"지방거점국립대(경북대학교)\""
   ]
  },
  {
   "cell_type": "code",
   "execution_count": 46,
   "metadata": {},
   "outputs": [],
   "source": [
    "first[first.str.contains(\"부산대\")==True]=\"지방거점국립대(부산대학교)\""
   ]
  },
  {
   "cell_type": "code",
   "execution_count": 47,
   "metadata": {},
   "outputs": [],
   "source": [
    "first[first.str.contains(\"제주\")==True]=\"지방거점국립대(제주대학교)\""
   ]
  },
  {
   "cell_type": "code",
   "execution_count": 48,
   "metadata": {},
   "outputs": [
    {
     "data": {
      "text/plain": [
       "2        지방거점국립대(제주대학교)\n",
       "3        지방거점국립대(충남대학교)\n",
       "8        지방거점국립대(충남대학교)\n",
       "12       지방거점국립대(전북대학교)\n",
       "30       지방거점국립대(전북대학교)\n",
       "              ...      \n",
       "10094    지방거점국립대(경북대학교)\n",
       "10096           지방거점국립대\n",
       "10104           지방거점국립대\n",
       "10105           지방거점국립대\n",
       "10106           지방거점국립대\n",
       "Name: 0, Length: 1067, dtype: object"
      ]
     },
     "execution_count": 48,
     "metadata": {},
     "output_type": "execute_result"
    }
   ],
   "source": [
    "first[first.str.contains(\"지방거점국립대\")==True]"
   ]
  },
  {
   "cell_type": "code",
   "execution_count": 49,
   "metadata": {},
   "outputs": [],
   "source": [
    "first[first.str.contains(\"강릉\")==True]=\"지방국립대(강릉대학교)\""
   ]
  },
  {
   "cell_type": "code",
   "execution_count": 50,
   "metadata": {},
   "outputs": [],
   "source": [
    "first[first.str.contains(\"공주\")==True]=\"지방국립대(공주대학교)\""
   ]
  },
  {
   "cell_type": "code",
   "execution_count": 51,
   "metadata": {},
   "outputs": [],
   "source": [
    "first[first.str.contains(\"해양\")==True]=\"지방국립대(한국해양대학교)\""
   ]
  },
  {
   "cell_type": "code",
   "execution_count": 52,
   "metadata": {},
   "outputs": [],
   "source": [
    "first[first.str.contains(\"부경\")==True]=\"지방국립대(부경대학교)\""
   ]
  },
  {
   "cell_type": "code",
   "execution_count": 53,
   "metadata": {},
   "outputs": [],
   "source": [
    "first[first.str.contains(\"순천대학교\")==True]=\"지방국립대(순천대학교)\""
   ]
  },
  {
   "cell_type": "code",
   "execution_count": 54,
   "metadata": {},
   "outputs": [],
   "source": [
    "first[first.str.contains(\"순천향\")==True]=\"지방사립대(순천향대학교)\""
   ]
  },
  {
   "cell_type": "code",
   "execution_count": 55,
   "metadata": {},
   "outputs": [],
   "source": [
    "first[first.str.contains(\"인천대\")==True]=\"지방국립대(인천대학교)\""
   ]
  },
  {
   "cell_type": "code",
   "execution_count": 56,
   "metadata": {},
   "outputs": [],
   "source": [
    "first[first.str.contains(\"창원\")==True]=\"지방국립대(창원대학교)\""
   ]
  },
  {
   "cell_type": "code",
   "execution_count": 57,
   "metadata": {},
   "outputs": [],
   "source": [
    "first[first.str.contains(\"한국교통\")==True]=\"지방국립대(한국교통대학교)\""
   ]
  },
  {
   "cell_type": "code",
   "execution_count": 58,
   "metadata": {},
   "outputs": [],
   "source": [
    "first[first.str.contains(\"한경\")==True]=\"지방국립대(한경대학교)\""
   ]
  },
  {
   "cell_type": "code",
   "execution_count": 59,
   "metadata": {},
   "outputs": [],
   "source": [
    "first[first.str.contains(\"한밭\")==True]=\"지방국립대(한밭대학교)\""
   ]
  },
  {
   "cell_type": "code",
   "execution_count": 60,
   "metadata": {},
   "outputs": [],
   "source": [
    "first[first.str.contains(\"금오\")==True]=\"지방국립대(금오공과대학교)\""
   ]
  },
  {
   "cell_type": "code",
   "execution_count": 61,
   "metadata": {},
   "outputs": [],
   "source": [
    "first[first.str.contains(\"광주\")==True]=\"지방사립대(광주대학교)\""
   ]
  },
  {
   "cell_type": "code",
   "execution_count": 62,
   "metadata": {},
   "outputs": [],
   "source": [
    "first[first.str.contains(\"경남대학교\")==True]=\"지방사립대(경남대학교)\""
   ]
  },
  {
   "cell_type": "code",
   "execution_count": 63,
   "metadata": {},
   "outputs": [],
   "source": [
    "first[first.str.contains(\"부산가톨릭\")==True]=\"지방사립대(부산가톨릭대학교)\""
   ]
  },
  {
   "cell_type": "code",
   "execution_count": 64,
   "metadata": {},
   "outputs": [],
   "source": [
    "first[first.str.contains(\"영남\")==True]=\"지방사립대(영남대학교)\""
   ]
  },
  {
   "cell_type": "code",
   "execution_count": 65,
   "metadata": {},
   "outputs": [],
   "source": [
    "first[first.str.contains(\"울산대\")==True]=\"지방사립대(울산대학교)\""
   ]
  },
  {
   "cell_type": "code",
   "execution_count": 66,
   "metadata": {},
   "outputs": [],
   "source": [
    "first[first.str.contains(\"동아대\")==True]=\"지방사립대(동아대학교)\""
   ]
  },
  {
   "cell_type": "code",
   "execution_count": 67,
   "metadata": {},
   "outputs": [],
   "source": [
    "first[first.str.contains(\"조선대\")==True]=\"지방사립대(조선대학교)\""
   ]
  },
  {
   "cell_type": "code",
   "execution_count": 68,
   "metadata": {},
   "outputs": [],
   "source": [
    "first[first.str.contains(\"원광대\")==True]=\"지방사립대(원광대학교)\""
   ]
  },
  {
   "cell_type": "code",
   "execution_count": 69,
   "metadata": {},
   "outputs": [],
   "source": [
    "first[first.str.contains(\"계명\")==True]=\"지방사립대(계명대학교)\""
   ]
  },
  {
   "cell_type": "code",
   "execution_count": 70,
   "metadata": {},
   "outputs": [],
   "source": [
    "first[first.str.contains(\"한남\")==True]=\"지방사립대(한남대학교)\""
   ]
  },
  {
   "cell_type": "code",
   "execution_count": 71,
   "metadata": {},
   "outputs": [],
   "source": [
    "first[first.str.contains(\"폴리\")==True]=\"2년제(한국폴리텍대학)\""
   ]
  },
  {
   "cell_type": "code",
   "execution_count": 72,
   "metadata": {},
   "outputs": [],
   "source": [
    "first[first.str.contains(\"경인\")==True]=\"지방국립대\""
   ]
  },
  {
   "cell_type": "code",
   "execution_count": 73,
   "metadata": {},
   "outputs": [],
   "source": [
    "first[first.str.contains(\"교육\")==True]=\"지방사립대(한국기술교육대학교)\""
   ]
  },
  {
   "cell_type": "code",
   "execution_count": 74,
   "metadata": {},
   "outputs": [
    {
     "data": {
      "text/plain": [
       "220      지방국립대(인천대학교)\n",
       "232      지방국립대(인천대학교)\n",
       "240      지방국립대(인천대학교)\n",
       "252      지방국립대(인천대학교)\n",
       "322      지방국립대(인천대학교)\n",
       "             ...     \n",
       "9969     지방국립대(인천대학교)\n",
       "9998     지방국립대(인천대학교)\n",
       "10018    지방국립대(인천대학교)\n",
       "10023    지방국립대(인천대학교)\n",
       "10043    지방국립대(인천대학교)\n",
       "Name: 0, Length: 103, dtype: object"
      ]
     },
     "execution_count": 74,
     "metadata": {},
     "output_type": "execute_result"
    }
   ],
   "source": [
    "first[first.str.contains(\"인천\")==True]"
   ]
  },
  {
   "cell_type": "code",
   "execution_count": 75,
   "metadata": {},
   "outputs": [],
   "source": [
    "first[first.str.contains(\"인제\")==True]=\"지방사립대(인제대학교)\""
   ]
  },
  {
   "cell_type": "code",
   "execution_count": 76,
   "metadata": {},
   "outputs": [
    {
     "data": {
      "text/plain": [
       "6          지방국립대(한경대학교)\n",
       "7          지방국립대(한경대학교)\n",
       "13         지방국립대(순천대학교)\n",
       "15       지방국립대(금오공과대학교)\n",
       "19         지방국립대(창원대학교)\n",
       "              ...      \n",
       "10032            지방국립대 \n",
       "10042            지방국립대 \n",
       "10043      지방국립대(인천대학교)\n",
       "10052            지방국립대 \n",
       "10089             지방국립 \n",
       "Name: 0, Length: 564, dtype: object"
      ]
     },
     "execution_count": 76,
     "metadata": {},
     "output_type": "execute_result"
    }
   ],
   "source": [
    "first[first.str.contains(\"지방국립\")==True]"
   ]
  },
  {
   "cell_type": "code",
   "execution_count": 77,
   "metadata": {},
   "outputs": [],
   "source": [
    "first[first.str.contains(\"2년제\")==True]=\"전문대\""
   ]
  },
  {
   "cell_type": "code",
   "execution_count": 78,
   "metadata": {},
   "outputs": [],
   "source": [
    "first[first.str.contains(\"수도권 2년\")==True]=\"2년제\""
   ]
  },
  {
   "cell_type": "code",
   "execution_count": 79,
   "metadata": {},
   "outputs": [],
   "source": [
    "first[first.str.contains(\"전문\")==True]=\"전문대\""
   ]
  },
  {
   "cell_type": "code",
   "execution_count": 80,
   "metadata": {},
   "outputs": [],
   "source": [
    "first[first.str.contains(\"서울과학\")==True]=\"서울국립대(서울과학기술대학교)\""
   ]
  },
  {
   "cell_type": "code",
   "execution_count": 81,
   "metadata": {},
   "outputs": [],
   "source": [
    "first[first.str.contains(\"서울시립\")==True]=\"서울공립대(서울시립대학교)\""
   ]
  },
  {
   "cell_type": "code",
   "execution_count": 82,
   "metadata": {},
   "outputs": [
    {
     "data": {
      "text/plain": [
       "29       서울국립대(서울과학기술대학교)\n",
       "32       서울국립대(서울과학기술대학교)\n",
       "47       서울국립대(서울과학기술대학교)\n",
       "54       서울국립대(서울과학기술대학교)\n",
       "74       서울국립대(서울과학기술대학교)\n",
       "               ...       \n",
       "8716     서울국립대(서울과학기술대학교)\n",
       "9944     서울국립대(서울과학기술대학교)\n",
       "9968     서울국립대(서울과학기술대학교)\n",
       "9993     서울국립대(서울과학기술대학교)\n",
       "10013    서울국립대(서울과학기술대학교)\n",
       "Name: 0, Length: 65, dtype: object"
      ]
     },
     "execution_count": 82,
     "metadata": {},
     "output_type": "execute_result"
    }
   ],
   "source": [
    "first[first.str.contains(\"서울국립대\")==True]"
   ]
  },
  {
   "cell_type": "code",
   "execution_count": 83,
   "metadata": {},
   "outputs": [],
   "source": [
    "first[first.str.contains(\"인서울대학\")==True]=\"서울사립대\""
   ]
  },
  {
   "cell_type": "code",
   "execution_count": 84,
   "metadata": {},
   "outputs": [],
   "source": [
    "first[first.str.contains(\"서울대\")==True]=\"서울대학교\""
   ]
  },
  {
   "cell_type": "code",
   "execution_count": 85,
   "metadata": {},
   "outputs": [],
   "source": [
    "first[first.str.contains(\"부산가톨릭\")==True]=\"지방사립대(부산가톨릭대학교)\""
   ]
  },
  {
   "cell_type": "code",
   "execution_count": 86,
   "metadata": {},
   "outputs": [
    {
     "data": {
      "text/plain": [
       "34                가톨릭대 \n",
       "56                가톨릭대 \n",
       "78                가톨릭대 \n",
       "203             가톨릭대학교 \n",
       "230               가톨릭대 \n",
       "236             가톨릭대학교 \n",
       "250               가톨릭대 \n",
       "256             가톨릭대학교 \n",
       "292             가톨릭대학교 \n",
       "324               가톨릭대 \n",
       "326             가톨릭대학교 \n",
       "385             가톨릭대학교 \n",
       "408               가톨릭대 \n",
       "441               가톨릭대 \n",
       "525               가톨릭대 \n",
       "584               가톨릭대 \n",
       "594             가톨릭대학교 \n",
       "604               가톨릭대 \n",
       "614             가톨릭대학교 \n",
       "639             가톨릭대학교 \n",
       "658             가톨릭대학교 \n",
       "663               가톨릭대 \n",
       "680               가톨릭대 \n",
       "690             가톨릭대학교 \n",
       "715             가톨릭대학교 \n",
       "735             가톨릭대학교 \n",
       "748             가톨릭대학교 \n",
       "754               가톨릭대 \n",
       "1100            가톨릭대학교 \n",
       "1171            가톨릭대학교 \n",
       "1222            가톨릭대학교 \n",
       "1275            가톨릭대학교 \n",
       "1276            가톨릭대학교 \n",
       "1365            가톨릭대학교 \n",
       "1367            가톨릭대학교 \n",
       "1552              가톨릭대 \n",
       "1572              가톨릭대 \n",
       "1636              가톨릭대 \n",
       "1776              가톨릭대 \n",
       "2306            가톨릭대학교 \n",
       "2465            가톨릭대학교 \n",
       "2600    지방사립대(부산가톨릭대학교)\n",
       "2621    지방사립대(부산가톨릭대학교)\n",
       "2641    지방사립대(부산가톨릭대학교)\n",
       "2738              가톨릭대 \n",
       "2824              가톨릭대 \n",
       "2865              가톨릭대 \n",
       "2866              가톨릭대 \n",
       "2885              가톨릭대 \n",
       "2886              가톨릭대 \n",
       "3111              가톨릭대 \n",
       "3207              가톨릭대 \n",
       "9390            가톨릭대학교 \n",
       "9614            가톨릭대학교 \n",
       "Name: 0, dtype: object"
      ]
     },
     "execution_count": 86,
     "metadata": {},
     "output_type": "execute_result"
    }
   ],
   "source": [
    "# 부산카톨릭 지우고 싶음\n",
    "first[first.str.contains(\"가톨릭대\")==True]"
   ]
  },
  {
   "cell_type": "code",
   "execution_count": 87,
   "metadata": {},
   "outputs": [],
   "source": [
    "first[first.str.contains(\"건국\")==True]=\"서울사립대(건국대학교)\""
   ]
  },
  {
   "cell_type": "code",
   "execution_count": 88,
   "metadata": {},
   "outputs": [],
   "source": [
    "first[first.str.contains(\"경기대\")==True]=\"서울사립대(경기대학교)\""
   ]
  },
  {
   "cell_type": "code",
   "execution_count": 89,
   "metadata": {},
   "outputs": [],
   "source": [
    "first[first.str.contains(\"경희대\")==True]=\"서울사립대(경희대학교)\""
   ]
  },
  {
   "cell_type": "code",
   "execution_count": 90,
   "metadata": {},
   "outputs": [],
   "source": [
    "first[first.str.contains(\"고려대\")==True]=\"서울사립대(고려대학교)\""
   ]
  },
  {
   "cell_type": "code",
   "execution_count": 91,
   "metadata": {},
   "outputs": [],
   "source": [
    "first[first.str.contains(\"광운\")==True]=\"서울사립대(광운대학교)\""
   ]
  },
  {
   "cell_type": "code",
   "execution_count": 92,
   "metadata": {},
   "outputs": [],
   "source": [
    "first[first.str.contains(\"국민\")==True]=\"서울사립대(국민대학교)\""
   ]
  },
  {
   "cell_type": "code",
   "execution_count": 93,
   "metadata": {},
   "outputs": [],
   "source": [
    "first[first.str.contains(\"덕성\")==True]=\"서울사립대(덕성여자대학교)\""
   ]
  },
  {
   "cell_type": "code",
   "execution_count": 94,
   "metadata": {},
   "outputs": [],
   "source": [
    "first[first.str.contains(\"동국대\")==True]=\"서울사립대(동국대학교)\""
   ]
  },
  {
   "cell_type": "code",
   "execution_count": 95,
   "metadata": {},
   "outputs": [],
   "source": [
    "first[first.str.contains(\"동덕\")==True]=\"서울사립대(동덕여자대학교)\""
   ]
  },
  {
   "cell_type": "code",
   "execution_count": 96,
   "metadata": {},
   "outputs": [],
   "source": [
    "first[first.str.contains(\"명지\")==True]=\"서울사립대(명지대학교)\""
   ]
  },
  {
   "cell_type": "code",
   "execution_count": 97,
   "metadata": {},
   "outputs": [],
   "source": [
    "first[first.str.contains(\"삼육\")==True]=\"서울사립대(삼육대학교)\""
   ]
  },
  {
   "cell_type": "code",
   "execution_count": 98,
   "metadata": {},
   "outputs": [],
   "source": [
    "first[first.str.contains(\"천안\")==True]=\"지방사립대(상명대학교)\""
   ]
  },
  {
   "cell_type": "code",
   "execution_count": 99,
   "metadata": {},
   "outputs": [
    {
     "data": {
      "text/plain": [
       "1021           상명대학교 \n",
       "2309           상명대학교 \n",
       "2467           상명대학교 \n",
       "5263     지방사립대(상명대학교)\n",
       "5412     지방사립대(상명대학교)\n",
       "7236           상명대학교 \n",
       "7256           상명대학교 \n",
       "10102          상명대학교 \n",
       "Name: 0, dtype: object"
      ]
     },
     "execution_count": 99,
     "metadata": {},
     "output_type": "execute_result"
    }
   ],
   "source": [
    "#상명대 =-> 서울캠 적고싶음\n",
    "first[first.str.contains(\"상명\")==True]"
   ]
  },
  {
   "cell_type": "code",
   "execution_count": 100,
   "metadata": {},
   "outputs": [],
   "source": [
    "first[first.str.contains(\"서강\")==True]=\"서울사립대(서강대학교)\""
   ]
  },
  {
   "cell_type": "code",
   "execution_count": 101,
   "metadata": {},
   "outputs": [],
   "source": [
    "first[first.str.contains(\"서경\")==True]=\"서울사립대(서경대학교)\""
   ]
  },
  {
   "cell_type": "code",
   "execution_count": 102,
   "metadata": {},
   "outputs": [],
   "source": [
    "first[first.str.contains(\"성신\")==True]=\"서울사립대(성신여자대학교)\""
   ]
  },
  {
   "cell_type": "code",
   "execution_count": 103,
   "metadata": {},
   "outputs": [],
   "source": [
    "first[first.str.contains(\"인서울 여자대학교\")==True]=\"서울사립대(성신여자대학교)\""
   ]
  },
  {
   "cell_type": "code",
   "execution_count": 104,
   "metadata": {},
   "outputs": [],
   "source": [
    "first[first.str.contains(\"숙명\")==True]=\"서울사립대(숙명여자대학교)\""
   ]
  },
  {
   "cell_type": "code",
   "execution_count": 105,
   "metadata": {},
   "outputs": [],
   "source": [
    "first[first.str.contains(\"홍익대학교 세종캠퍼스\")==True]=\"지방사립대(홍익대학교)\""
   ]
  },
  {
   "cell_type": "code",
   "execution_count": 106,
   "metadata": {},
   "outputs": [],
   "source": [
    "first[first.str.contains(\"고대 세종\")==True]=\"지방사립대(고려대학교)\""
   ]
  },
  {
   "cell_type": "code",
   "execution_count": 107,
   "metadata": {},
   "outputs": [],
   "source": [
    "first[first.str.contains(\"세종\")==True]=\"서울사립대(세종대학교)\""
   ]
  },
  {
   "cell_type": "code",
   "execution_count": 108,
   "metadata": {},
   "outputs": [],
   "source": [
    "first[first.str.contains(\"숭실\")==True]=\"서울사립대(숭실대학교)\""
   ]
  },
  {
   "cell_type": "code",
   "execution_count": 109,
   "metadata": {},
   "outputs": [],
   "source": [
    "first[first.str.contains(\"연세\")==True]=\"서울사립대(연세대학교)\""
   ]
  },
  {
   "cell_type": "code",
   "execution_count": 110,
   "metadata": {},
   "outputs": [],
   "source": [
    "first[first.str.contains(\"이화\")==True]=\"서울사립대(이화여자대학교)\""
   ]
  },
  {
   "cell_type": "code",
   "execution_count": 111,
   "metadata": {},
   "outputs": [],
   "source": [
    "first[first.str.contains(\"중앙\")==True]=\"서울사립대(중앙대학교)\""
   ]
  },
  {
   "cell_type": "code",
   "execution_count": 112,
   "metadata": {},
   "outputs": [],
   "source": [
    "first[first.str.contains(\"성서\")==True]=\"서울사립대(서성한)\""
   ]
  },
  {
   "cell_type": "code",
   "execution_count": 113,
   "metadata": {},
   "outputs": [],
   "source": [
    "first[first.str.contains(\"외국\")==True]=\"서울사립대(한국외국어대학교)\""
   ]
  },
  {
   "cell_type": "code",
   "execution_count": 114,
   "metadata": {},
   "outputs": [],
   "source": [
    "first[first.str.contains(\"한성대\")==True]=\"서울사립대(한성대학교)\""
   ]
  },
  {
   "cell_type": "code",
   "execution_count": 115,
   "metadata": {},
   "outputs": [],
   "source": [
    "first[first.str.contains(\"한양\")==True]=\"서울사립대(한양대학교)\""
   ]
  },
  {
   "cell_type": "code",
   "execution_count": 116,
   "metadata": {},
   "outputs": [
    {
     "data": {
      "text/plain": [
       "1226            홍익대 \n",
       "3341    지방사립대(홍익대학교)\n",
       "3458    지방사립대(홍익대학교)\n",
       "3750          홍익대학교 \n",
       "3770          홍익대학교 \n",
       "3850          홍익대학교 \n",
       "3939          홍익대학교 \n",
       "3973             홍익 \n",
       "4075          홍익대학교 \n",
       "4090             홍익 \n",
       "4650          홍익대학교 \n",
       "4804          홍익대학교 \n",
       "4983            홍익대 \n",
       "5143            홍익대 \n",
       "6756            홍익대 \n",
       "6776            홍익대 \n",
       "6904          홍익대학교 \n",
       "6986            홍익대 \n",
       "7006            홍익대 \n",
       "7040            홍익대 \n",
       "8113          홍익대학교 \n",
       "8400          홍익대학교 \n",
       "8617          홍익대학교 \n",
       "8630            홍익대 \n",
       "8668          홍익대학교 \n",
       "8688          홍익대학교 \n",
       "8739          홍익대학교 \n",
       "8832          홍익대학교 \n",
       "9008          홍익대학교 \n",
       "9077          홍익대학교 \n",
       "9265            홍익대 \n",
       "9447          홍익대학교 \n",
       "9467          홍익대학교 \n",
       "9566            홍익대 \n",
       "9670            홍익대 \n",
       "9684            홍익대 \n",
       "9803          홍익대학교 \n",
       "Name: 0, dtype: object"
      ]
     },
     "execution_count": 116,
     "metadata": {},
     "output_type": "execute_result"
    }
   ],
   "source": [
    "first[first.str.contains(\"홍익\")==True]"
   ]
  },
  {
   "cell_type": "code",
   "execution_count": 117,
   "metadata": {},
   "outputs": [],
   "source": [
    "first[first.str.contains(\"서성\")==True]=\"서울사립대(서성한)\""
   ]
  },
  {
   "cell_type": "code",
   "execution_count": 118,
   "metadata": {},
   "outputs": [],
   "source": [
    "first[first.str.contains(\"중경\")==True]=\"서울사립대(중경외시)\""
   ]
  },
  {
   "cell_type": "code",
   "execution_count": 119,
   "metadata": {},
   "outputs": [],
   "source": [
    "first[first.str.contains(\"건홍\")==True]=\"서울사립대(건동홍)\""
   ]
  },
  {
   "cell_type": "code",
   "execution_count": 120,
   "metadata": {},
   "outputs": [],
   "source": [
    "first[first.str.contains(\"건동\")==True]=\"서울사립대(건동홍)\""
   ]
  },
  {
   "cell_type": "code",
   "execution_count": 121,
   "metadata": {},
   "outputs": [],
   "source": [
    "first[first.str.contains(\"원광보건대학교\")==True]=\"전문대\""
   ]
  },
  {
   "cell_type": "code",
   "execution_count": 122,
   "metadata": {},
   "outputs": [],
   "source": [
    "first[first.str.contains(\"건대\")==True]=\"서울사립대(건국대학교)\""
   ]
  },
  {
   "cell_type": "code",
   "execution_count": 123,
   "metadata": {},
   "outputs": [],
   "source": [
    "first[first.str.contains(\"부산경상\")==True]=\"전문대\""
   ]
  },
  {
   "cell_type": "code",
   "execution_count": 124,
   "metadata": {},
   "outputs": [
    {
     "data": {
      "text/plain": [
       "1021           상명대학교 \n",
       "2309           상명대학교 \n",
       "2467           상명대학교 \n",
       "5263     지방사립대(상명대학교)\n",
       "5412     지방사립대(상명대학교)\n",
       "7236           상명대학교 \n",
       "7256           상명대학교 \n",
       "10102          상명대학교 \n",
       "Name: 0, dtype: object"
      ]
     },
     "execution_count": 124,
     "metadata": {},
     "output_type": "execute_result"
    }
   ],
   "source": [
    "first[first.str.contains(\"상명\")==True]"
   ]
  },
  {
   "cell_type": "code",
   "execution_count": 125,
   "metadata": {},
   "outputs": [],
   "source": [
    "# 이름 바꿔야함\n",
    "first[first.str.contains(\"수도권\")==True]=\"지방사립대(경기)\""
   ]
  },
  {
   "cell_type": "code",
   "execution_count": 126,
   "metadata": {},
   "outputs": [],
   "source": [
    "first[first.str.contains(\"하위\")==True]=\"서울사립대\""
   ]
  },
  {
   "cell_type": "code",
   "execution_count": 127,
   "metadata": {},
   "outputs": [],
   "source": [
    "first[first.str.contains(\"인서울\")==True]=\"서울사립대\""
   ]
  },
  {
   "cell_type": "code",
   "execution_count": 128,
   "metadata": {},
   "outputs": [
    {
     "data": {
      "text/plain": [
       "4106     설카포 \n",
       "4126     설카포 \n",
       "4207     설카포 \n",
       "9959     설카포 \n",
       "9963     설카포 \n",
       "10034    설카포 \n",
       "10054    설카포 \n",
       "10061    설카포 \n",
       "Name: 0, dtype: object"
      ]
     },
     "execution_count": 128,
     "metadata": {},
     "output_type": "execute_result"
    }
   ],
   "source": [
    "# 설카포\n",
    "first[first.str.contains(\"설카\")==True]"
   ]
  },
  {
   "cell_type": "code",
   "execution_count": 129,
   "metadata": {},
   "outputs": [],
   "source": [
    "first[first.str.contains(\"중상\")==True]=\"서울사립대\""
   ]
  },
  {
   "cell_type": "code",
   "execution_count": 130,
   "metadata": {},
   "outputs": [],
   "source": [
    "first[first.str.contains(\"중하\")==True]=\"서울사립대\""
   ]
  },
  {
   "cell_type": "code",
   "execution_count": 131,
   "metadata": {},
   "outputs": [],
   "source": [
    "first[first.str.contains(\"협성\")==True]=\"지방사립대(협성대학교)\""
   ]
  },
  {
   "cell_type": "code",
   "execution_count": 132,
   "metadata": {},
   "outputs": [],
   "source": [
    "first[first.str.contains(\"경성대\")==True]=\"지방사립대(경성대학교)\""
   ]
  },
  {
   "cell_type": "code",
   "execution_count": 133,
   "metadata": {},
   "outputs": [
    {
     "data": {
      "text/plain": [
       "281      서울사립대(한성대학교)\n",
       "293      서울사립대(한성대학교)\n",
       "381      서울사립대(한성대학교)\n",
       "386      서울사립대(한성대학교)\n",
       "397      서울사립대(한성대학교)\n",
       "433      서울사립대(한성대학교)\n",
       "434      서울사립대(한성대학교)\n",
       "445      지방사립대(협성대학교)\n",
       "454      서울사립대(한성대학교)\n",
       "514      서울사립대(한성대학교)\n",
       "533      지방사립대(협성대학교)\n",
       "534      서울사립대(한성대학교)\n",
       "545      서울사립대(한성대학교)\n",
       "560      서울사립대(한성대학교)\n",
       "1260     서울사립대(한성대학교)\n",
       "1352     서울사립대(한성대학교)\n",
       "1967     서울사립대(한성대학교)\n",
       "1969     서울사립대(한성대학교)\n",
       "2105     서울사립대(한성대학교)\n",
       "2107     서울사립대(한성대학교)\n",
       "2318     서울사립대(한성대학교)\n",
       "2478     서울사립대(한성대학교)\n",
       "3702              성대 \n",
       "3930              성대 \n",
       "4039              성대 \n",
       "4048              성대 \n",
       "9912              성대 \n",
       "10038             성대 \n",
       "10058             성대 \n",
       "10065             성대 \n",
       "10088    지방사립대(경성대학교)\n",
       "10099    지방사립대(경성대학교)\n",
       "Name: 0, dtype: object"
      ]
     },
     "execution_count": 133,
     "metadata": {},
     "output_type": "execute_result"
    }
   ],
   "source": [
    "#성균관대\n",
    "first[first.str.contains(\"성대\")==True]"
   ]
  },
  {
   "cell_type": "code",
   "execution_count": 134,
   "metadata": {},
   "outputs": [],
   "source": [
    "first[first.str.contains(\"수도권4년제\")==True]=\"서울사립대(경기)\""
   ]
  },
  {
   "cell_type": "code",
   "execution_count": 135,
   "metadata": {},
   "outputs": [],
   "source": [
    "first[first.str.contains(\"서울4년제\")==True]=\"서울사립대\""
   ]
  },
  {
   "cell_type": "code",
   "execution_count": 136,
   "metadata": {},
   "outputs": [],
   "source": [
    "first[first.str.contains(\"지방4년제\")==True]=\"지방사립대\""
   ]
  },
  {
   "cell_type": "code",
   "execution_count": 137,
   "metadata": {},
   "outputs": [],
   "source": [
    "first[first.str.contains(\"서울 4년제\")==True]=\"서울사립대\""
   ]
  },
  {
   "cell_type": "code",
   "execution_count": 138,
   "metadata": {},
   "outputs": [],
   "source": [
    "#모름\n",
    "first[first.str.contains(\"2년\")==True]=\"전문대\""
   ]
  },
  {
   "cell_type": "code",
   "execution_count": 139,
   "metadata": {},
   "outputs": [],
   "source": [
    "first[first.str.contains(\"경기도 4년제\")==True]=\"지방사립대(경기)\""
   ]
  },
  {
   "cell_type": "code",
   "execution_count": 140,
   "metadata": {},
   "outputs": [],
   "source": [
    "first[first.str.contains(\"지방 국립4년제\")==True]=\"지방국립대\""
   ]
  },
  {
   "cell_type": "code",
   "execution_count": 141,
   "metadata": {},
   "outputs": [],
   "source": [
    "first[first.str.contains(\"서울 4년\")==True]=\"서울사립대\""
   ]
  },
  {
   "cell_type": "code",
   "execution_count": 142,
   "metadata": {},
   "outputs": [],
   "source": [
    "first[first.str.contains(\"지방 4년제\")==True]=\"지방사립대\""
   ]
  },
  {
   "cell_type": "code",
   "execution_count": 143,
   "metadata": {},
   "outputs": [],
   "source": [
    "first[first.str.contains(\"경기권 4년제\")==True]=\"지방사립대(경기)\""
   ]
  },
  {
   "cell_type": "code",
   "execution_count": 144,
   "metadata": {},
   "outputs": [],
   "source": [
    "first[first.str.contains(\"지방사립 4년\")==True]=\"지방사립대\""
   ]
  },
  {
   "cell_type": "code",
   "execution_count": 145,
   "metadata": {},
   "outputs": [],
   "source": [
    "first[first.str.contains(\"지방 4년\")==True]=\"지방사립대\""
   ]
  },
  {
   "cell_type": "code",
   "execution_count": null,
   "metadata": {},
   "outputs": [],
   "source": []
  },
  {
   "cell_type": "code",
   "execution_count": 146,
   "metadata": {},
   "outputs": [],
   "source": [
    "first[first.str.contains(\"00대학교\")==True]=\"지방사립대\""
   ]
  },
  {
   "cell_type": "code",
   "execution_count": 147,
   "metadata": {},
   "outputs": [],
   "source": [
    "first[first.str.contains(\"지방대 4년제\")==True]=\"지방사립대\""
   ]
  },
  {
   "cell_type": "code",
   "execution_count": 148,
   "metadata": {},
   "outputs": [],
   "source": [
    "#지방국립대4\n",
    "first[first.str.contains(\"지방국립대 4년제\")==True]=\"지방국립대\""
   ]
  },
  {
   "cell_type": "code",
   "execution_count": 149,
   "metadata": {},
   "outputs": [],
   "source": [
    "first[first.str.contains(\"서울권4년제\")==True]=\"서울사립대\""
   ]
  },
  {
   "cell_type": "code",
   "execution_count": 150,
   "metadata": {},
   "outputs": [],
   "source": [
    "first[first.str.contains(\"경기 4년제\")==True]=\"지방사립대(경기)\""
   ]
  },
  {
   "cell_type": "code",
   "execution_count": 151,
   "metadata": {},
   "outputs": [],
   "source": [
    "first[first.str.contains(\"서울 중위권 4년제\")==True]=\"서울사립대\""
   ]
  },
  {
   "cell_type": "code",
   "execution_count": 152,
   "metadata": {},
   "outputs": [],
   "source": [
    "first[first.str.contains(\"경기원 4년제\")==True]=\"지방사립대\""
   ]
  },
  {
   "cell_type": "code",
   "execution_count": 153,
   "metadata": {},
   "outputs": [],
   "source": [
    "first[first.str.contains(\"지방대4년\")==True]=\"지방사립대\""
   ]
  },
  {
   "cell_type": "code",
   "execution_count": 154,
   "metadata": {},
   "outputs": [],
   "source": [
    "first[first.str.contains(\"서울소재 4년\")==True]=\"서울사립대\""
   ]
  },
  {
   "cell_type": "code",
   "execution_count": 155,
   "metadata": {},
   "outputs": [],
   "source": [
    "first[first.str.contains(\"지방 국립 4년\")==True]=\"지방국립대\""
   ]
  },
  {
   "cell_type": "code",
   "execution_count": 156,
   "metadata": {},
   "outputs": [],
   "source": [
    "first[first.str.contains(\"지방국립4년제\")==True]=\"지방국립대\""
   ]
  },
  {
   "cell_type": "code",
   "execution_count": 157,
   "metadata": {},
   "outputs": [],
   "source": [
    "first[first.str.contains(\"지방사립4년\")==True]=\"지방사립대\""
   ]
  },
  {
   "cell_type": "code",
   "execution_count": 158,
   "metadata": {},
   "outputs": [],
   "source": [
    "first[first.str.contains(\"인천지역 4년제대\")==True]=\"지방사립대(경기)\""
   ]
  },
  {
   "cell_type": "code",
   "execution_count": 159,
   "metadata": {},
   "outputs": [],
   "source": [
    "first[first.str.contains(\"북경4년제\")==True]=\"해외대(중국)\""
   ]
  },
  {
   "cell_type": "code",
   "execution_count": 160,
   "metadata": {},
   "outputs": [],
   "source": [
    "first[first.str.contains(\"서울권 4년제\")==True]=\"서울사립대\""
   ]
  },
  {
   "cell_type": "code",
   "execution_count": 161,
   "metadata": {},
   "outputs": [],
   "source": [
    "first[first.str.contains(\"4년제\")==True]=\"지방사립대\""
   ]
  },
  {
   "cell_type": "code",
   "execution_count": 162,
   "metadata": {},
   "outputs": [
    {
     "data": {
      "text/plain": [
       "1         서울사립대(중경외시)\n",
       "114      서울사립대(중앙대학교)\n",
       "134      서울사립대(중앙대학교)\n",
       "150      서울사립대(중앙대학교)\n",
       "158      서울사립대(중앙대학교)\n",
       "             ...     \n",
       "10055     서울사립대(중경외시)\n",
       "10062     서울사립대(중경외시)\n",
       "10070     서울사립대(중경외시)\n",
       "10071    서울사립대(중앙대학교)\n",
       "10092    서울사립대(중앙대학교)\n",
       "Name: 0, Length: 1018, dtype: object"
      ]
     },
     "execution_count": 162,
     "metadata": {},
     "output_type": "execute_result"
    }
   ],
   "source": [
    "first[first.str.contains(\"중\")==True]"
   ]
  },
  {
   "cell_type": "code",
   "execution_count": 163,
   "metadata": {},
   "outputs": [],
   "source": [
    "first[first.str.contains(\"서울 상위\")==True]=\"서울사립대\""
   ]
  },
  {
   "cell_type": "code",
   "execution_count": 164,
   "metadata": {},
   "outputs": [],
   "source": [
    "first[first.str.contains(\"서상한\")==True]=\"서울사립대(서성한)\""
   ]
  },
  {
   "cell_type": "code",
   "execution_count": 165,
   "metadata": {},
   "outputs": [],
   "source": [
    "first[first.str.contains(\"지방 상위\")==True]=\"지방사립대\""
   ]
  },
  {
   "cell_type": "code",
   "execution_count": 166,
   "metadata": {},
   "outputs": [],
   "source": [
    "first[first.str.contains(\"경상대학교\")==True]=\"지방국립대\""
   ]
  },
  {
   "cell_type": "code",
   "execution_count": 167,
   "metadata": {},
   "outputs": [],
   "source": [
    "first[first.str.contains(\"지방상위권\")==True]=\"지방사립대\""
   ]
  },
  {
   "cell_type": "code",
   "execution_count": 168,
   "metadata": {},
   "outputs": [],
   "source": [
    "first[first.str.contains(\"상명대학교 \")==True]=\"서울사립대(상명대학교)\""
   ]
  },
  {
   "cell_type": "code",
   "execution_count": 169,
   "metadata": {},
   "outputs": [],
   "source": [
    "first[first.str.contains(\"서울상위권\")==True]=\"서울사립대\""
   ]
  },
  {
   "cell_type": "code",
   "execution_count": 170,
   "metadata": {},
   "outputs": [],
   "source": [
    "first[first.str.contains(\"상위권\")==True]=\"서울사립대\""
   ]
  },
  {
   "cell_type": "code",
   "execution_count": 171,
   "metadata": {},
   "outputs": [],
   "source": [
    "first[first.str.contains(\"광명상가\")==True]=\"서울사립대(명지대학교)\""
   ]
  },
  {
   "cell_type": "code",
   "execution_count": 172,
   "metadata": {},
   "outputs": [],
   "source": [
    "first[first.str.contains(\"경상대\")==True]=\"지방국립대\""
   ]
  },
  {
   "cell_type": "code",
   "execution_count": 173,
   "metadata": {},
   "outputs": [],
   "source": [
    "first[first.str.contains(\"상경\")==True]=\"서울사립대\""
   ]
  },
  {
   "cell_type": "code",
   "execution_count": 174,
   "metadata": {},
   "outputs": [],
   "source": [
    "first[first.str.contains(\"서울상위\")==True]='서울사립대'"
   ]
  },
  {
   "cell_type": "code",
   "execution_count": 175,
   "metadata": {},
   "outputs": [],
   "source": [
    "first[first.str.contains(\"라인\")==True]=\"서울사립대\""
   ]
  },
  {
   "cell_type": "code",
   "execution_count": 176,
   "metadata": {},
   "outputs": [],
   "source": [
    "first[first.str.contains(\"국숭세단\")==True]=\"서울사립대(숭실대학교)\""
   ]
  },
  {
   "cell_type": "code",
   "execution_count": 177,
   "metadata": {},
   "outputs": [],
   "source": [
    "first[first.str.contains(\"세단\")==True]=\"서울사립대(숭실대학교)\""
   ]
  },
  {
   "cell_type": "code",
   "execution_count": 178,
   "metadata": {},
   "outputs": [],
   "source": [
    "first[first.str.contains(\"단국대학교\")==True]=\"서울사립대(단국대학교)\""
   ]
  },
  {
   "cell_type": "code",
   "execution_count": 179,
   "metadata": {},
   "outputs": [],
   "source": [
    "first[first.str.contains(\"단국대학교\")==True]=\"서울사립대(단국대학교)\""
   ]
  },
  {
   "cell_type": "code",
   "execution_count": 180,
   "metadata": {},
   "outputs": [],
   "source": [
    "#first.to_csv(\"20200806.txt\",encoding=\"utf-8\")"
   ]
  },
  {
   "cell_type": "code",
   "execution_count": 181,
   "metadata": {},
   "outputs": [],
   "source": [
    "first[first.str.contains(\"신한대학교\")==True]=\"지방사립대(신한대학교)\""
   ]
  },
  {
   "cell_type": "code",
   "execution_count": 182,
   "metadata": {},
   "outputs": [],
   "source": [
    "first[first.str.contains(\"아주대학교\")==True]=\"서울사립대(아주대학교)\""
   ]
  },
  {
   "cell_type": "code",
   "execution_count": 183,
   "metadata": {},
   "outputs": [],
   "source": [
    "first[first.str.contains(\"한동대학교\")==True]=\"지방사립대(한동대학교)\""
   ]
  },
  {
   "cell_type": "code",
   "execution_count": 184,
   "metadata": {},
   "outputs": [],
   "source": [
    "first[first.str.contains(\"대전대학교\")==True]=\"지방사립대(대전대학교)\""
   ]
  },
  {
   "cell_type": "code",
   "execution_count": 185,
   "metadata": {},
   "outputs": [],
   "source": [
    "first[first.str.contains(\"항공대\")==True]=\"지방사립대(한국항공대학교)\""
   ]
  },
  {
   "cell_type": "code",
   "execution_count": 186,
   "metadata": {},
   "outputs": [],
   "source": [
    "first[first.str.contains(\"백석대\")==True]=\"지방사립대(백석대학교)\""
   ]
  },
  {
   "cell_type": "code",
   "execution_count": 187,
   "metadata": {},
   "outputs": [],
   "source": [
    "first[first.str.contains(\"성결\")==True]=\"지방사립대(성결대학교)\""
   ]
  },
  {
   "cell_type": "code",
   "execution_count": 188,
   "metadata": {},
   "outputs": [],
   "source": [
    "first[first.str.contains(\"한림\")==True]=\"지방사립대(한림대학교)\""
   ]
  },
  {
   "cell_type": "code",
   "execution_count": 162,
   "metadata": {
    "scrolled": true
   },
   "outputs": [
    {
     "data": {
      "text/plain": [
       "119      학점 3.57 \n",
       "139      학점 3.57 \n",
       "166      학점 3.57 \n",
       "811      학점 3.67 \n",
       "820      학점 3.67 \n",
       "           ...   \n",
       "7975     학점 3.96 \n",
       "8845     학점 3.99 \n",
       "9298     학점 3.38 \n",
       "10047     학점 3.6 \n",
       "10067     학점 3.6 \n",
       "Name: 0, Length: 107, dtype: object"
      ]
     },
     "execution_count": 162,
     "metadata": {},
     "output_type": "execute_result"
    }
   ],
   "source": [
    "# 우선 놔둠\n",
    "first[first.str.contains(\"학점\")==True]"
   ]
  },
  {
   "cell_type": "code",
   "execution_count": 161,
   "metadata": {},
   "outputs": [
    {
     "ename": "SyntaxError",
     "evalue": "unexpected EOF while parsing (<ipython-input-161-c427309e5df3>, line 1)",
     "output_type": "error",
     "traceback": [
      "\u001b[1;36m  File \u001b[1;32m\"<ipython-input-161-c427309e5df3>\"\u001b[1;36m, line \u001b[1;32m1\u001b[0m\n\u001b[1;33m    df[\"학점\"] = pd.concat((df[\"학점\"], df_h)\u001b[0m\n\u001b[1;37m                                         ^\u001b[0m\n\u001b[1;31mSyntaxError\u001b[0m\u001b[1;31m:\u001b[0m unexpected EOF while parsing\n"
     ]
    }
   ],
   "source": [
    "df[\"학점\"] = pd.concat((df[\"학점\"], first[first.str.contains(\"학점\")==True])"
   ]
  },
  {
   "cell_type": "code",
   "execution_count": 149,
   "metadata": {},
   "outputs": [
    {
     "name": "stderr",
     "output_type": "stream",
     "text": [
      "C:\\Users\\samsung\\anaconda3\\lib\\site-packages\\ipykernel_launcher.py:1: DeprecationWarning: The default dtype for empty Series will be 'object' instead of 'float64' in a future version. Specify a dtype explicitly to silence this warning.\n",
      "  \"\"\"Entry point for launching an IPython kernel.\n"
     ]
    }
   ],
   "source": [
    "s = pd.Series()"
   ]
  },
  {
   "cell_type": "code",
   "execution_count": 150,
   "metadata": {},
   "outputs": [],
   "source": [
    "s=first[first.str.contains(\"학점\")==True]"
   ]
  },
  {
   "cell_type": "code",
   "execution_count": 153,
   "metadata": {},
   "outputs": [
    {
     "data": {
      "text/plain": [
       "442     컴활2급, 워드프로세서, ERP(회계,인사,생산,물류), 한국사능력검정2급, 전산회...\n",
       "528     컴활2급, 워드프로세서, ERP(회계,인사,생산,물류), 한국사능력검정2급, 전산회...\n",
       "570     컴활2급, 워드프로세서, ERP(회계,인사,생산,물류), 한국사능력검정2급, 전산회...\n",
       "674     컴활2급, 워드프로세서, ERP(회계,인사,생산,물류), 한국사능력검정2급, 전산회...\n",
       "866     컴활2급, 워드프로세서, ERP(회계,인사,생산,물류), 한국사능력검정2급, 전산회...\n",
       "2510                                                   봉사\n",
       "2530                                                   봉사\n",
       "4385                                    봉사활동, 아시아게임청년서포터즈\n",
       "4386                                    봉사활동, 아시아게임청년서포터즈\n",
       "7819                                        인턴2회, 봉사활동 다수\n",
       "7874                                        인턴2회, 봉사활동 다수\n",
       "Name: 0, dtype: object"
      ]
     },
     "execution_count": 153,
     "metadata": {},
     "output_type": "execute_result"
    }
   ],
   "source": [
    "[df[\"학점\"]"
   ]
  },
  {
   "cell_type": "code",
   "execution_count": 152,
   "metadata": {},
   "outputs": [],
   "source": [
    "s=first[first.str.contains(\"봉사\")==True]"
   ]
  },
  {
   "cell_type": "code",
   "execution_count": 146,
   "metadata": {},
   "outputs": [
    {
     "data": {
      "text/plain": [
       "442     컴활2급, 워드프로세서, ERP(회계,인사,생산,물류), 한국사능력검정2급, 전산회...\n",
       "528     컴활2급, 워드프로세서, ERP(회계,인사,생산,물류), 한국사능력검정2급, 전산회...\n",
       "570     컴활2급, 워드프로세서, ERP(회계,인사,생산,물류), 한국사능력검정2급, 전산회...\n",
       "674     컴활2급, 워드프로세서, ERP(회계,인사,생산,물류), 한국사능력검정2급, 전산회...\n",
       "866     컴활2급, 워드프로세서, ERP(회계,인사,생산,물류), 한국사능력검정2급, 전산회...\n",
       "2510                                                   봉사\n",
       "2530                                                   봉사\n",
       "4385                                    봉사활동, 아시아게임청년서포터즈\n",
       "4386                                    봉사활동, 아시아게임청년서포터즈\n",
       "7819                                        인턴2회, 봉사활동 다수\n",
       "7874                                        인턴2회, 봉사활동 다수\n",
       "Name: 0, dtype: object"
      ]
     },
     "execution_count": 146,
     "metadata": {},
     "output_type": "execute_result"
    }
   ],
   "source": [
    "first[first.str.contains(\"봉사\")==True]"
   ]
  },
  {
   "cell_type": "code",
   "execution_count": 148,
   "metadata": {},
   "outputs": [
    {
     "data": {
      "text/plain": [
       "nan"
      ]
     },
     "execution_count": 148,
     "metadata": {},
     "output_type": "execute_result"
    }
   ],
   "source": [
    "df[\"학점\"][119]"
   ]
  },
  {
   "cell_type": "code",
   "execution_count": 190,
   "metadata": {},
   "outputs": [],
   "source": [
    "first[first.str.contains(\"서울권 \")==True]=\"서울사립대\""
   ]
  },
  {
   "cell_type": "code",
   "execution_count": 191,
   "metadata": {},
   "outputs": [],
   "source": [
    "first[first.str.contains(\"경남과기대\")==True]=\"지방국립대(경남과학기술대학교)\""
   ]
  },
  {
   "cell_type": "code",
   "execution_count": 192,
   "metadata": {},
   "outputs": [],
   "source": [
    "first[first.str.contains(\"인하대\")==True]=\"지방사립대(인하대학교)\""
   ]
  },
  {
   "cell_type": "code",
   "execution_count": 193,
   "metadata": {},
   "outputs": [],
   "source": [
    "first[first.str.contains(\"성균\")==True]=\"서울사립대(성균관대학교)\""
   ]
  },
  {
   "cell_type": "code",
   "execution_count": 194,
   "metadata": {},
   "outputs": [],
   "source": [
    "first[first.str.contains(\"경중외시\")==True]=\"서울사립대(경희대학교)\""
   ]
  },
  {
   "cell_type": "code",
   "execution_count": 195,
   "metadata": {},
   "outputs": [],
   "source": [
    "first[first.str.contains(\"지방 국립대\")==True]=\"지방국립대\""
   ]
  },
  {
   "cell_type": "code",
   "execution_count": 196,
   "metadata": {},
   "outputs": [],
   "source": [
    "first[first.str.contains(\"지방 사립\")==True]=\"지방사립대\""
   ]
  },
  {
   "cell_type": "code",
   "execution_count": 197,
   "metadata": {},
   "outputs": [],
   "source": [
    "first[first.str.contains(\"서울 사립\")==True]=\"서울사립대\""
   ]
  },
  {
   "cell_type": "code",
   "execution_count": 198,
   "metadata": {},
   "outputs": [],
   "source": [
    "first[first.str.contains(\"서울 중위권\")==True]=\"서울사립대\""
   ]
  },
  {
   "cell_type": "code",
   "execution_count": 199,
   "metadata": {},
   "outputs": [],
   "source": [
    "first[first.str.contains(\"서울 중\")==True]=\"서울사립대\""
   ]
  },
  {
   "cell_type": "code",
   "execution_count": 200,
   "metadata": {},
   "outputs": [],
   "source": [
    "first[first.str.contains(\"서울 과기대\")==True]=\"서울국립대(서울과학기술대학교)\""
   ]
  },
  {
   "cell_type": "code",
   "execution_count": 201,
   "metadata": {},
   "outputs": [],
   "source": [
    "first[first.str.contains(\"서울 하\")==True]=\"서울사립대\""
   ]
  },
  {
   "cell_type": "code",
   "execution_count": 202,
   "metadata": {},
   "outputs": [],
   "source": [
    "first[first.str.contains(\"서울 소재\")==True]=\"서울사립대\""
   ]
  },
  {
   "cell_type": "code",
   "execution_count": 203,
   "metadata": {},
   "outputs": [],
   "source": [
    "first[first.str.contains(\"서울 광진구\")==True]=\"서울사립대\""
   ]
  },
  {
   "cell_type": "code",
   "execution_count": 204,
   "metadata": {},
   "outputs": [],
   "source": [
    "first[first.str.contains(\"지방, 서울\")==True]=\"지방사립대\""
   ]
  },
  {
   "cell_type": "code",
   "execution_count": 205,
   "metadata": {},
   "outputs": [],
   "source": [
    "first[first.str.contains(\"서울 \")==True]=\"서울사립대\""
   ]
  },
  {
   "cell_type": "code",
   "execution_count": 206,
   "metadata": {},
   "outputs": [],
   "source": [
    "first[first.str.contains(\"지방 과기원 \")==True]=\"UNIST\""
   ]
  },
  {
   "cell_type": "code",
   "execution_count": 207,
   "metadata": {},
   "outputs": [],
   "source": [
    "first[first.str.contains(\"지방 국립\")==True]=\"지방국립대\""
   ]
  },
  {
   "cell_type": "code",
   "execution_count": 208,
   "metadata": {},
   "outputs": [],
   "source": [
    "first[first.str.contains(\"분교 지방\")==True]=\"지방사립대\""
   ]
  },
  {
   "cell_type": "code",
   "execution_count": 209,
   "metadata": {},
   "outputs": [],
   "source": [
    "first[first.str.contains(\"지방 거점\")==True]=\"지방거점국립대\""
   ]
  },
  {
   "cell_type": "code",
   "execution_count": 210,
   "metadata": {},
   "outputs": [],
   "source": [
    "first[first.str.contains(\"부산지방\")==True]=\"지방사립대\""
   ]
  },
  {
   "cell_type": "code",
   "execution_count": 211,
   "metadata": {},
   "outputs": [],
   "source": [
    "first[first.str.contains(\"지방 공립\")==True]=\"지방국립대\""
   ]
  },
  {
   "cell_type": "code",
   "execution_count": 212,
   "metadata": {},
   "outputs": [],
   "source": [
    "first[first.str.contains(\"지방 \")==True]=\"지방사립대\""
   ]
  },
  {
   "cell_type": "code",
   "execution_count": 213,
   "metadata": {},
   "outputs": [
    {
     "data": {
      "text/plain": [
       "6          지방국립대(한경대학교)\n",
       "7          지방국립대(한경대학교)\n",
       "13         지방국립대(순천대학교)\n",
       "15       지방국립대(금오공과대학교)\n",
       "19         지방국립대(창원대학교)\n",
       "              ...      \n",
       "10032            지방국립대 \n",
       "10042            지방국립대 \n",
       "10043      지방국립대(인천대학교)\n",
       "10052            지방국립대 \n",
       "10089             지방국립 \n",
       "Name: 0, Length: 663, dtype: object"
      ]
     },
     "execution_count": 213,
     "metadata": {},
     "output_type": "execute_result"
    }
   ],
   "source": [
    "first[first.str.contains(\"지방국립\")==True]"
   ]
  },
  {
   "cell_type": "code",
   "execution_count": 214,
   "metadata": {},
   "outputs": [],
   "source": [
    "first[first.str.contains(\"지방대\")==True]=\"지방사립대\""
   ]
  },
  {
   "cell_type": "code",
   "execution_count": 215,
   "metadata": {},
   "outputs": [],
   "source": [
    "first[first.str.contains(\"인천 지방사립대\")==True]=\"지방사립대\""
   ]
  },
  {
   "cell_type": "code",
   "execution_count": 216,
   "metadata": {},
   "outputs": [],
   "source": [
    "first[first.str.contains(\"SKY 지방캠\")==True]=\"지방사립대\""
   ]
  },
  {
   "cell_type": "code",
   "execution_count": 217,
   "metadata": {},
   "outputs": [],
   "source": [
    "first[first.str.contains(\"디자인 서홍국\")==True]=\"서울사립대(홍익대학교)\""
   ]
  },
  {
   "cell_type": "code",
   "execution_count": 218,
   "metadata": {},
   "outputs": [],
   "source": [
    "first[first.str.contains(\"신라\")==True]=\"지방사립대(신라대학교)\""
   ]
  },
  {
   "cell_type": "code",
   "execution_count": 219,
   "metadata": {},
   "outputs": [],
   "source": [
    "first[first.str.contains(\"서울과기대\")==True]=\"서울국립대(서울과학기술대학교)\""
   ]
  },
  {
   "cell_type": "code",
   "execution_count": 220,
   "metadata": {},
   "outputs": [],
   "source": [
    "first[first.str.contains(\"과기대\")==True]=\"서울국립대(서울과학기술대학교)\""
   ]
  },
  {
   "cell_type": "code",
   "execution_count": 221,
   "metadata": {},
   "outputs": [],
   "source": [
    "first[first.str.contains(\"과기\")==True]=\"KAIST\""
   ]
  },
  {
   "cell_type": "code",
   "execution_count": 222,
   "metadata": {},
   "outputs": [
    {
     "data": {
      "text/plain": [
       "1            서울사립대(중경외시)\n",
       "4           서울사립대(건국대학교)\n",
       "5             서울사립대(서성한)\n",
       "10       서울사립대(한국외국어대학교)\n",
       "14          서울사립대(숭실대학교)\n",
       "              ...       \n",
       "10092       서울사립대(중앙대학교)\n",
       "10097       서울사립대(건국대학교)\n",
       "10098       서울사립대(동국대학교)\n",
       "10100       서울사립대(경희대학교)\n",
       "10102       서울사립대(상명대학교)\n",
       "Name: 0, Length: 4315, dtype: object"
      ]
     },
     "execution_count": 222,
     "metadata": {},
     "output_type": "execute_result"
    }
   ],
   "source": [
    "first[first.str.contains(\"서울사립대\")==True]"
   ]
  },
  {
   "cell_type": "code",
   "execution_count": 223,
   "metadata": {},
   "outputs": [],
   "source": [
    "#first.to_csv(\"first.txt\",encoding='utf-8')"
   ]
  },
  {
   "cell_type": "code",
   "execution_count": 224,
   "metadata": {},
   "outputs": [],
   "source": [
    "first[first.str.contains(\"가천\")==True]=\"지방사립대(가천대학교)\""
   ]
  },
  {
   "cell_type": "code",
   "execution_count": 225,
   "metadata": {},
   "outputs": [],
   "source": [
    "first[first.str.contains(\"지방거점 \")==True]=\"지방거점국립대\""
   ]
  },
  {
   "cell_type": "code",
   "execution_count": 226,
   "metadata": {},
   "outputs": [],
   "source": [
    "first[first.str.contains(\"ky\")==True]=\"서울사립대(고려대학교)\""
   ]
  },
  {
   "cell_type": "code",
   "execution_count": 227,
   "metadata": {},
   "outputs": [],
   "source": [
    "first[first.str.contains(\"s\")==True]=\"서울국립대(서울대학교)\""
   ]
  },
  {
   "cell_type": "code",
   "execution_count": 228,
   "metadata": {},
   "outputs": [],
   "source": [
    "first[first.str.contains(\"서울대\")==True]=\"서울국립대(서울대학교)\""
   ]
  },
  {
   "cell_type": "code",
   "execution_count": 229,
   "metadata": {},
   "outputs": [],
   "source": [
    "first[first.str.contains(\"SK\")==True]=\"서울사립대(연세대학교)\""
   ]
  },
  {
   "cell_type": "code",
   "execution_count": 230,
   "metadata": {},
   "outputs": [],
   "source": [
    "first[first.str.contains(\"아주대 석사\")==True]=\"대학원\""
   ]
  },
  {
   "cell_type": "code",
   "execution_count": 231,
   "metadata": {},
   "outputs": [],
   "source": [
    "first[first.str.contains(\"아주대 \")==True]=\"서울사립대(아주대학교)\""
   ]
  },
  {
   "cell_type": "code",
   "execution_count": 232,
   "metadata": {},
   "outputs": [],
   "source": [
    "first[first.str.contains(\"석사\")==True]=\"대학원\""
   ]
  },
  {
   "cell_type": "code",
   "execution_count": 233,
   "metadata": {},
   "outputs": [],
   "source": [
    "first[first.str.contains(\"기계\")==True]=\"지방사립대\""
   ]
  },
  {
   "cell_type": "code",
   "execution_count": 234,
   "metadata": {},
   "outputs": [],
   "source": [
    "first[first.str.contains(\"한국외\")==True]=\"서울사립대(한국외국어대학교)\""
   ]
  },
  {
   "cell_type": "code",
   "execution_count": 235,
   "metadata": {},
   "outputs": [],
   "source": [
    "first[first.str.contains(\"상지\")==True]=\"지방사립대(상지대학교)\""
   ]
  },
  {
   "cell_type": "code",
   "execution_count": 236,
   "metadata": {},
   "outputs": [],
   "source": [
    "first[first.str.contains(\"\\(경기\\)\")==True]=\"지방사립대\""
   ]
  },
  {
   "cell_type": "code",
   "execution_count": 237,
   "metadata": {},
   "outputs": [],
   "source": [
    "first[first.str.contains(\"경기권 \")==True]=\"지방사립대\""
   ]
  },
  {
   "cell_type": "code",
   "execution_count": 238,
   "metadata": {},
   "outputs": [],
   "source": [
    "first[first.str.contains(\"경기 \")==True]=\"지방사립대\""
   ]
  },
  {
   "cell_type": "code",
   "execution_count": 239,
   "metadata": {},
   "outputs": [],
   "source": [
    "first[first.str.contains(\"경기과학기술대학교\")==True]=\"전문대\""
   ]
  },
  {
   "cell_type": "code",
   "execution_count": 240,
   "metadata": {},
   "outputs": [],
   "source": [
    "first[first.str.contains(\"학점은행\")==True]=\"고등학교졸업\""
   ]
  },
  {
   "cell_type": "code",
   "execution_count": 241,
   "metadata": {},
   "outputs": [],
   "source": [
    "first[first.str.contains(\"동서\")==True]=\"지방사립대(동서대학교)\""
   ]
  },
  {
   "cell_type": "code",
   "execution_count": 242,
   "metadata": {},
   "outputs": [],
   "source": [
    "first[first.str.contains(\"한신\")==True]=\"지방사립대(한신대학교)\""
   ]
  },
  {
   "cell_type": "code",
   "execution_count": 243,
   "metadata": {},
   "outputs": [],
   "source": [
    "first[first.str.contains(\"서연\")==True]=\"서울사립대(고려대학교)\""
   ]
  },
  {
   "cell_type": "code",
   "execution_count": 244,
   "metadata": {},
   "outputs": [],
   "source": [
    "first[first.str.contains(\"연고\")==True]=\"서울사립대(연세대학교)\""
   ]
  },
  {
   "cell_type": "code",
   "execution_count": 245,
   "metadata": {},
   "outputs": [],
   "source": [
    "first[first.str.contains(\"스카이\")==True]=\"서울사립대(고려대학교)\""
   ]
  },
  {
   "cell_type": "code",
   "execution_count": 246,
   "metadata": {},
   "outputs": [],
   "source": [
    "first[first.str.contains(\"5공\")==True]=\"서울사립대(한양대학교)\""
   ]
  },
  {
   "cell_type": "code",
   "execution_count": 247,
   "metadata": {},
   "outputs": [],
   "source": [
    "first[first.str.contains(\"지방국립 \")==True]=\"지방국립대\""
   ]
  },
  {
   "cell_type": "code",
   "execution_count": 248,
   "metadata": {},
   "outputs": [],
   "source": [
    "first[first.str.contains(\"동국\")==True]=\"서울사립대(동국대학교)\""
   ]
  },
  {
   "cell_type": "code",
   "execution_count": 249,
   "metadata": {},
   "outputs": [],
   "source": [
    "first[first.str.contains(\"도시공학, 컴퓨터공학\")==True]=\"서울공립대(서울시립대)\""
   ]
  },
  {
   "cell_type": "code",
   "execution_count": 250,
   "metadata": {},
   "outputs": [
    {
     "data": {
      "text/plain": [
       "1262    컴퓨터공학과 \n",
       "1356    컴퓨터공학과 \n",
       "2507     컴퓨터공학 \n",
       "2527     컴퓨터공학 \n",
       "4696     컴퓨터공학 \n",
       "4872     컴퓨터공학 \n",
       "5725    컴퓨터공학과 \n",
       "5726    컴퓨터공학과 \n",
       "8853     컴퓨터공학 \n",
       "9043     컴퓨터공학 \n",
       "Name: 0, dtype: object"
      ]
     },
     "execution_count": 250,
     "metadata": {},
     "output_type": "execute_result"
    }
   ],
   "source": [
    "# 컴퓨터공학과\n",
    "first[first.str.contains(\"컴퓨터공\")==True]"
   ]
  },
  {
   "cell_type": "code",
   "execution_count": 251,
   "metadata": {
    "scrolled": true
   },
   "outputs": [
    {
     "data": {
      "text/plain": [
       "1263      경영 \n",
       "1355      경영 \n",
       "2838      경영 \n",
       "2841      경영 \n",
       "2968      경영 \n",
       "2970      경영 \n",
       "3100     경영학 \n",
       "3203     경영학 \n",
       "4642      경영 \n",
       "4664       경영\n",
       "4807      경영 \n",
       "4829       경영\n",
       "4849       경영\n",
       "5370      경영 \n",
       "5521      경영 \n",
       "5722     경영학 \n",
       "5756    경영학과 \n",
       "5762     경영학 \n",
       "5780    경영학과 \n",
       "5800    경영학과 \n",
       "9378    경영학과 \n",
       "9738    경영학과 \n",
       "9850    경영학과 \n",
       "Name: 0, dtype: object"
      ]
     },
     "execution_count": 251,
     "metadata": {},
     "output_type": "execute_result"
    }
   ],
   "source": [
    "# 경영학과\n",
    "first[first.str.contains(\"경영\")==True]"
   ]
  },
  {
   "cell_type": "code",
   "execution_count": 252,
   "metadata": {},
   "outputs": [],
   "source": [
    "first[first.str.contains(\"부산외대\")==True]=\"지방사립대(부산외국어대학교)\""
   ]
  },
  {
   "cell_type": "code",
   "execution_count": 253,
   "metadata": {},
   "outputs": [],
   "source": [
    "first[first.str.contains(\"외대 \")==True]=\"서울사립대(한국외국어대학교)\""
   ]
  },
  {
   "cell_type": "code",
   "execution_count": 254,
   "metadata": {
    "scrolled": true
   },
   "outputs": [
    {
     "data": {
      "text/plain": [
       "1403         바이오 \n",
       "6786    바이오및뇌공학과 \n",
       "7022    바이오및뇌공학과 \n",
       "Name: 0, dtype: object"
      ]
     },
     "execution_count": 254,
     "metadata": {},
     "output_type": "execute_result"
    }
   ],
   "source": [
    "# 바이오\n",
    "first[first.str.contains(\"바이오\")==True]"
   ]
  },
  {
   "cell_type": "code",
   "execution_count": 255,
   "metadata": {},
   "outputs": [],
   "source": [
    "first[first.str.contains(\"거제\")==True]=\"지방사립대(거제대학교)\""
   ]
  },
  {
   "cell_type": "code",
   "execution_count": 256,
   "metadata": {},
   "outputs": [],
   "source": [
    "first[first.str.contains(\"연대\")==True]=\"서울사립대(연세대학교)\""
   ]
  },
  {
   "cell_type": "code",
   "execution_count": 257,
   "metadata": {},
   "outputs": [],
   "source": [
    "first[first.str.contains(\"서성한\")==True]=\"서울사립대(서강대학교)\""
   ]
  },
  {
   "cell_type": "code",
   "execution_count": 258,
   "metadata": {},
   "outputs": [],
   "source": [
    "first[first.str.contains(\"건동홍\")==True]=\"서울사립대(홍익대학교)\""
   ]
  },
  {
   "cell_type": "code",
   "execution_count": 259,
   "metadata": {},
   "outputs": [],
   "source": [
    "first[first.str.contains(\"단국\")==True]=\"서울사립대(단국대학교)\""
   ]
  },
  {
   "cell_type": "code",
   "execution_count": 260,
   "metadata": {},
   "outputs": [
    {
     "data": {
      "text/plain": [
       "1622    컴퓨터그래픽 \n",
       "1763    컴퓨터그래픽 \n",
       "Name: 0, dtype: object"
      ]
     },
     "execution_count": 260,
     "metadata": {},
     "output_type": "execute_result"
    }
   ],
   "source": [
    "# 컴퓨터그래픽(전공)\n",
    "first[first.str.contains(\"그래픽\")==True]"
   ]
  },
  {
   "cell_type": "code",
   "execution_count": 261,
   "metadata": {},
   "outputs": [],
   "source": [
    "first[first.str.contains(\"고대\")==True]=\"서울사립대(고려대학교)\""
   ]
  },
  {
   "cell_type": "code",
   "execution_count": 262,
   "metadata": {},
   "outputs": [],
   "source": [
    "first[first.str.contains(\"경기권\")==True]=\"지방사립대\""
   ]
  },
  {
   "cell_type": "code",
   "execution_count": 263,
   "metadata": {},
   "outputs": [
    {
     "data": {
      "text/plain": [
       "1677     화공\n",
       "1697     화공\n",
       "1845     화공\n",
       "4656    화공 \n",
       "4817    화공 \n",
       "5559    화공 \n",
       "5579    화공 \n",
       "5604    화공 \n",
       "Name: 0, dtype: object"
      ]
     },
     "execution_count": 263,
     "metadata": {},
     "output_type": "execute_result"
    }
   ],
   "source": [
    "# 화공(전공)\n",
    "first[first.str.contains(\"화공\")==True]"
   ]
  },
  {
   "cell_type": "code",
   "execution_count": 264,
   "metadata": {},
   "outputs": [],
   "source": [
    "first[first.str.contains(\" 국립대\")==True]=\"서울국립대\""
   ]
  },
  {
   "cell_type": "code",
   "execution_count": 265,
   "metadata": {},
   "outputs": [],
   "source": [
    "# 국립대 검사해보기\n",
    "first[first.str.contains(\"지방국립대 \")==True]=\"지방국립대\""
   ]
  },
  {
   "cell_type": "code",
   "execution_count": 266,
   "metadata": {},
   "outputs": [],
   "source": [
    "first[first.str.contains(\"서울중위\")==True]=\"서울사립대\""
   ]
  },
  {
   "cell_type": "code",
   "execution_count": 267,
   "metadata": {},
   "outputs": [],
   "source": [
    "first[first.str.contains(\"중위\")==True]=\"지방사립대\""
   ]
  },
  {
   "cell_type": "code",
   "execution_count": 268,
   "metadata": {},
   "outputs": [],
   "source": [
    "first[first.str.contains(\"인하 \")==True]=\"지방사립대(인하대학교)\""
   ]
  },
  {
   "cell_type": "code",
   "execution_count": 269,
   "metadata": {},
   "outputs": [],
   "source": [
    "first[first.str.contains(\"중 \")==True]=\"지방사립대\""
   ]
  },
  {
   "cell_type": "code",
   "execution_count": 270,
   "metadata": {},
   "outputs": [
    {
     "data": {
      "text/plain": [
       "6331    국제통상 \n",
       "6561    국제통상 \n",
       "Name: 0, dtype: object"
      ]
     },
     "execution_count": 270,
     "metadata": {},
     "output_type": "execute_result"
    }
   ],
   "source": [
    "# 국제통상(전공)\n",
    "first[first.str.contains(\"국제통상 \")==True]"
   ]
  },
  {
   "cell_type": "code",
   "execution_count": 271,
   "metadata": {},
   "outputs": [],
   "source": [
    "first[first.str.contains(\"영산\")==True]=\"지방사립대(영산대학교)\""
   ]
  },
  {
   "cell_type": "code",
   "execution_count": 272,
   "metadata": {},
   "outputs": [],
   "source": [
    "first[first.str.contains(\"S대\")==True]=\"서울국립대(서울대학교)\""
   ]
  },
  {
   "cell_type": "code",
   "execution_count": 273,
   "metadata": {
    "scrolled": true
   },
   "outputs": [
    {
     "data": {
      "text/plain": [
       "1713    무역학과 \n",
       "1858    무역학과 \n",
       "2260    무역학과 \n",
       "2280    무역학과 \n",
       "2437    무역학과 \n",
       "2441    무역학과 \n",
       "Name: 0, dtype: object"
      ]
     },
     "execution_count": 273,
     "metadata": {},
     "output_type": "execute_result"
    }
   ],
   "source": [
    "# 무역학과(전공)\n",
    "first[first.str.contains(\"무역\")==True]"
   ]
  },
  {
   "cell_type": "code",
   "execution_count": 274,
   "metadata": {},
   "outputs": [],
   "source": [
    "first[first.str.contains(\"서울권\")==True]=\"서울사립대\""
   ]
  },
  {
   "cell_type": "code",
   "execution_count": 275,
   "metadata": {},
   "outputs": [],
   "source": [
    "first[first.str.contains(\"연대\")==True]=\"서울사립대(연세대학교)\""
   ]
  },
  {
   "cell_type": "code",
   "execution_count": 276,
   "metadata": {},
   "outputs": [
    {
     "data": {
      "text/plain": [
       "2190    메카르토닉스 \n",
       "2350    메카르토닉스 \n",
       "Name: 0, dtype: object"
      ]
     },
     "execution_count": 276,
     "metadata": {},
     "output_type": "execute_result"
    }
   ],
   "source": [
    "# 메카(전공)\n",
    "first[first.str.contains(\"메카\")==True]"
   ]
  },
  {
   "cell_type": "code",
   "execution_count": 277,
   "metadata": {},
   "outputs": [],
   "source": [
    "first[first.str.contains(\"KY 학사\")==True]=\"대학원\""
   ]
  },
  {
   "cell_type": "code",
   "execution_count": 278,
   "metadata": {},
   "outputs": [],
   "source": [
    "first[first.str.contains(\"Y\")==True]=\"서울사립대(연세대학교)\""
   ]
  },
  {
   "cell_type": "code",
   "execution_count": 279,
   "metadata": {},
   "outputs": [],
   "source": [
    "first[first.str.contains(\"중경외시\")==True]=\"서울사립대(중앙대학교)\""
   ]
  },
  {
   "cell_type": "code",
   "execution_count": 280,
   "metadata": {},
   "outputs": [
    {
     "data": {
      "text/plain": [
       "2240    재료 \n",
       "2398    재료 \n",
       "2418    재료 \n",
       "2420    재료 \n",
       "7271    재료 \n",
       "Name: 0, dtype: object"
      ]
     },
     "execution_count": 280,
     "metadata": {},
     "output_type": "execute_result"
    }
   ],
   "source": [
    "#재료(전공)\n",
    "first[first.str.contains(\"재료\")==True]"
   ]
  },
  {
   "cell_type": "code",
   "execution_count": 281,
   "metadata": {},
   "outputs": [],
   "source": [
    "first[first.str.contains(\"지방사립 \")==True]=\"지방사립대\""
   ]
  },
  {
   "cell_type": "code",
   "execution_count": null,
   "metadata": {},
   "outputs": [],
   "source": []
  },
  {
   "cell_type": "code",
   "execution_count": 282,
   "metadata": {},
   "outputs": [],
   "source": [
    "first[first.str.contains(\"인천 소재 대학교 \")==True]=\"지방사립대\""
   ]
  },
  {
   "cell_type": "code",
   "execution_count": 283,
   "metadata": {},
   "outputs": [
    {
     "data": {
      "text/plain": [
       "442     컴활2급, 워드프로세서, ERP(회계,인사,생산,물류), 한국사능력검정2급, 전산회...\n",
       "528     컴활2급, 워드프로세서, ERP(회계,인사,생산,물류), 한국사능력검정2급, 전산회...\n",
       "570     컴활2급, 워드프로세서, ERP(회계,인사,생산,물류), 한국사능력검정2급, 전산회...\n",
       "674     컴활2급, 워드프로세서, ERP(회계,인사,생산,물류), 한국사능력검정2급, 전산회...\n",
       "866     컴활2급, 워드프로세서, ERP(회계,인사,생산,물류), 한국사능력검정2급, 전산회...\n",
       "2510                                                   봉사\n",
       "2530                                                   봉사\n",
       "4385                                    봉사활동, 아시아게임청년서포터즈\n",
       "4386                                    봉사활동, 아시아게임청년서포터즈\n",
       "7819                                        인턴2회, 봉사활동 다수\n",
       "7874                                        인턴2회, 봉사활동 다수\n",
       "Name: 0, dtype: object"
      ]
     },
     "execution_count": 283,
     "metadata": {},
     "output_type": "execute_result"
    }
   ],
   "source": [
    "# 봉사새끼\n",
    "first[first.str.contains(\"봉사\")==True]"
   ]
  },
  {
   "cell_type": "code",
   "execution_count": 284,
   "metadata": {},
   "outputs": [],
   "source": [
    "first[first.str.contains(\"안양대\")==True]=\"지방사립대(안양대학교)\""
   ]
  },
  {
   "cell_type": "code",
   "execution_count": 285,
   "metadata": {},
   "outputs": [],
   "source": [
    "first[first.str.contains(\"건\")==True]=\"서울사립대(건국대학교)\""
   ]
  },
  {
   "cell_type": "code",
   "execution_count": 286,
   "metadata": {},
   "outputs": [],
   "source": [
    "first[first.str.contains(\"경희 수원\")==True]=\"지방사립대(경희대학교)\""
   ]
  },
  {
   "cell_type": "code",
   "execution_count": 287,
   "metadata": {},
   "outputs": [],
   "source": [
    "first[first.str.contains(\"경희 \")==True]=\"서울사립대(경희대학교)\""
   ]
  },
  {
   "cell_type": "code",
   "execution_count": 288,
   "metadata": {},
   "outputs": [],
   "source": [
    "first[first.str.contains(\"상하이\")==True]=\"해외대(중국)\""
   ]
  },
  {
   "cell_type": "code",
   "execution_count": 289,
   "metadata": {},
   "outputs": [],
   "source": [
    "first[first.str.contains(\"중,아,인\")==True]=\"서울사립대(아주대학교)\""
   ]
  },
  {
   "cell_type": "code",
   "execution_count": 290,
   "metadata": {},
   "outputs": [],
   "source": [
    "first[first.str.contains(\"시립대\")==True]=\"서울공립대(서울시립대학교)\""
   ]
  },
  {
   "cell_type": "code",
   "execution_count": 291,
   "metadata": {},
   "outputs": [],
   "source": [
    "first[first.str.contains(\"중인시\")==True]=\"지방사립대(인하대학교)\""
   ]
  },
  {
   "cell_type": "code",
   "execution_count": null,
   "metadata": {},
   "outputs": [],
   "source": []
  },
  {
   "cell_type": "code",
   "execution_count": 292,
   "metadata": {},
   "outputs": [],
   "source": [
    "first[first.str.contains(\"E 대학교\")==True]=\"서울사립대(이화여자대학교)\""
   ]
  },
  {
   "cell_type": "code",
   "execution_count": 293,
   "metadata": {},
   "outputs": [],
   "source": [
    "first[first.str.contains(\"국숭\")==True]=\"서울사립대(숭실대학교)\""
   ]
  },
  {
   "cell_type": "code",
   "execution_count": 294,
   "metadata": {},
   "outputs": [],
   "source": [
    "first[first.str.contains(\"홍익대학교 \")==True]=\"서울사립대(홍익대학교)\""
   ]
  },
  {
   "cell_type": "code",
   "execution_count": 295,
   "metadata": {},
   "outputs": [],
   "source": [
    "first[first.str.contains(\"칭화대학교\")==True]=\"해외대(중국)\""
   ]
  },
  {
   "cell_type": "code",
   "execution_count": 296,
   "metadata": {},
   "outputs": [],
   "source": [
    "first[first.str.contains(\"센트럴\")==True]=\"해외대(영국)\""
   ]
  },
  {
   "cell_type": "code",
   "execution_count": 297,
   "metadata": {},
   "outputs": [],
   "source": [
    "first[first.str.contains(\"홍익 \")==True]=\"서울사립대(홍익대학교)\""
   ]
  },
  {
   "cell_type": "code",
   "execution_count": 298,
   "metadata": {},
   "outputs": [],
   "source": [
    "first[first.str.contains(\"설카포\")==True]=\"포항공과대학교\""
   ]
  },
  {
   "cell_type": "code",
   "execution_count": 299,
   "metadata": {},
   "outputs": [],
   "source": [
    "first[first.str.contains(\"고려사이버\")==True]=\"전문대\""
   ]
  },
  {
   "cell_type": "code",
   "execution_count": 300,
   "metadata": {},
   "outputs": [],
   "source": [
    "first[first.str.contains(\"지방분교\")==True]=\"지방사립대\""
   ]
  },
  {
   "cell_type": "code",
   "execution_count": 301,
   "metadata": {},
   "outputs": [],
   "source": [
    "first[first.str.contains(\"명문대\")==True]=\"서울사립대\""
   ]
  },
  {
   "cell_type": "code",
   "execution_count": 302,
   "metadata": {},
   "outputs": [],
   "source": [
    "first[first.str.contains(\"인천소재\")==True]=\"지방사립대\""
   ]
  },
  {
   "cell_type": "code",
   "execution_count": 303,
   "metadata": {},
   "outputs": [
    {
     "data": {
      "text/plain": [
       "'중,아,인 '"
      ]
     },
     "execution_count": 303,
     "metadata": {},
     "output_type": "execute_result"
    }
   ],
   "source": [
    "\"중,아,인 \""
   ]
  },
  {
   "cell_type": "code",
   "execution_count": 304,
   "metadata": {},
   "outputs": [],
   "source": [
    "first[first.str.contains(\"^거점국립대\")==True]=\"지방거점국립대\""
   ]
  },
  {
   "cell_type": "code",
   "execution_count": 305,
   "metadata": {},
   "outputs": [],
   "source": [
    "first[first.str.contains(\"경기도권\")==True]=\"지방사립대\""
   ]
  },
  {
   "cell_type": "code",
   "execution_count": 306,
   "metadata": {},
   "outputs": [],
   "source": [
    "first[first.str.contains(\"지방4\")==True]=\"지방사립대\""
   ]
  },
  {
   "cell_type": "code",
   "execution_count": 307,
   "metadata": {},
   "outputs": [],
   "source": [
    "first[first.str.contains(\"지방국립공\")==True]=\"지방국립대\""
   ]
  },
  {
   "cell_type": "code",
   "execution_count": 308,
   "metadata": {},
   "outputs": [],
   "source": [
    "first[first.str.contains(\"^국립대\")==True]=\"지방국립대\""
   ]
  },
  {
   "cell_type": "code",
   "execution_count": 309,
   "metadata": {},
   "outputs": [],
   "source": [
    "first[first.str.contains(\"숙대\")==True]=\"서울사립대(숙명여자대학교)\""
   ]
  },
  {
   "cell_type": "code",
   "execution_count": 310,
   "metadata": {},
   "outputs": [],
   "source": [
    "first[first.str.contains(\"서울하\")==True]=\"서울사립대\""
   ]
  },
  {
   "cell_type": "code",
   "execution_count": 311,
   "metadata": {},
   "outputs": [],
   "source": [
    "first[first.str.contains(\"서울소재\")==True]=\"서울사립대\""
   ]
  },
  {
   "cell_type": "code",
   "execution_count": 312,
   "metadata": {},
   "outputs": [
    {
     "data": {
      "text/plain": [
       "Series([], Name: 0, dtype: object)"
      ]
     },
     "execution_count": 312,
     "metadata": {},
     "output_type": "execute_result"
    }
   ],
   "source": [
    "first[first.str.contains(\"^지방사립 \")==True]"
   ]
  },
  {
   "cell_type": "code",
   "execution_count": 313,
   "metadata": {},
   "outputs": [],
   "source": [
    "first[first.str.contains(\"뉴\")==True]=\"해외대(미국)\""
   ]
  },
  {
   "cell_type": "code",
   "execution_count": 314,
   "metadata": {},
   "outputs": [],
   "source": [
    "first[first.str.contains(\"한서\")==True]=\"지방사립대(한서대학교)\""
   ]
  },
  {
   "cell_type": "code",
   "execution_count": 315,
   "metadata": {},
   "outputs": [
    {
     "data": {
      "text/plain": [
       "Series([], Name: 0, dtype: object)"
      ]
     },
     "execution_count": 315,
     "metadata": {},
     "output_type": "execute_result"
    }
   ],
   "source": [
    "first[first.str.contains(\"경기권\")==True]"
   ]
  },
  {
   "cell_type": "code",
   "execution_count": 316,
   "metadata": {},
   "outputs": [],
   "source": [
    "first[first.str.contains(\"한국산업기술\")==True]=\"지방사립대(한국산업기술대학교)\""
   ]
  },
  {
   "cell_type": "code",
   "execution_count": 317,
   "metadata": {},
   "outputs": [],
   "source": [
    "first[first.str.contains(\"사립대학교\")==True]=\"지방사립대\""
   ]
  },
  {
   "cell_type": "code",
   "execution_count": 318,
   "metadata": {},
   "outputs": [],
   "source": [
    "first[first.str.contains(\"카이스트\")==True]=\"KAIST\""
   ]
  },
  {
   "cell_type": "code",
   "execution_count": 319,
   "metadata": {},
   "outputs": [],
   "source": [
    "first[first.str.contains(\"경남과학기술대학교\")==True]=\"지방국립대(경남과학기술대학교)\""
   ]
  },
  {
   "cell_type": "code",
   "execution_count": 320,
   "metadata": {},
   "outputs": [
    {
     "data": {
      "text/plain": [
       "Series([], Name: 0, dtype: object)"
      ]
     },
     "execution_count": 320,
     "metadata": {},
     "output_type": "execute_result"
    }
   ],
   "source": [
    "first[first.str.contains(\"인문\")==True]"
   ]
  },
  {
   "cell_type": "code",
   "execution_count": 321,
   "metadata": {},
   "outputs": [],
   "source": [
    "first[first.str.contains(\"지방거점국립대학\")==True]=\"지방거점국립대\""
   ]
  },
  {
   "cell_type": "code",
   "execution_count": 322,
   "metadata": {},
   "outputs": [],
   "source": [
    "first[first.str.contains(\"서홍국\")==True]=\"서울사립대(홍익대학교)\""
   ]
  },
  {
   "cell_type": "code",
   "execution_count": 323,
   "metadata": {},
   "outputs": [],
   "source": [
    "first[first.str.contains(\"한기대\")==True]=\"지방사립대(한국기술교육대학교)\""
   ]
  },
  {
   "cell_type": "code",
   "execution_count": 324,
   "metadata": {},
   "outputs": [],
   "source": [
    "first[first.str.contains(\"중견\")==True]=\"서울사립대\""
   ]
  },
  {
   "cell_type": "code",
   "execution_count": 325,
   "metadata": {},
   "outputs": [],
   "source": [
    "first[first.str.contains(\"경원대\")==True]=\"지방사립대(가천대학교)\""
   ]
  },
  {
   "cell_type": "code",
   "execution_count": 326,
   "metadata": {},
   "outputs": [],
   "source": [
    "first[first.str.contains(\"목원\")==True]=\"지방사립대(목원대학교)\""
   ]
  },
  {
   "cell_type": "code",
   "execution_count": 327,
   "metadata": {},
   "outputs": [],
   "source": [
    "first[first.str.contains(\"c대\")==True]=\"서울사립대(중앙대학교)\""
   ]
  },
  {
   "cell_type": "code",
   "execution_count": 328,
   "metadata": {},
   "outputs": [
    {
     "data": {
      "text/plain": [
       "Series([], Name: 0, dtype: object)"
      ]
     },
     "execution_count": 328,
     "metadata": {},
     "output_type": "execute_result"
    }
   ],
   "source": [
    "first[first.str.contains(\"s\")==True]"
   ]
  },
  {
   "cell_type": "code",
   "execution_count": 329,
   "metadata": {},
   "outputs": [],
   "source": [
    "first[first.str.contains(\"울산과학\")==True]=\"UNIST\""
   ]
  },
  {
   "cell_type": "code",
   "execution_count": 330,
   "metadata": {},
   "outputs": [],
   "source": [
    "first[first.str.contains(\"캠퍼스\")==True]=\"지방사립대\""
   ]
  },
  {
   "cell_type": "code",
   "execution_count": 331,
   "metadata": {},
   "outputs": [],
   "source": [
    "first[first.str.contains(\"북경항공\")==True]=\"해외대(중국)\""
   ]
  },
  {
   "cell_type": "code",
   "execution_count": 332,
   "metadata": {},
   "outputs": [],
   "source": [
    "first[first.str.contains(\"북경\")==True]=\"해외대(중국)\""
   ]
  },
  {
   "cell_type": "code",
   "execution_count": 333,
   "metadata": {},
   "outputs": [],
   "source": [
    "first[first.str.contains(\"서울사립대\\(중앙대하굑\\)\")==True]=\"서울사립대(중앙대학교)\""
   ]
  },
  {
   "cell_type": "code",
   "execution_count": 334,
   "metadata": {},
   "outputs": [
    {
     "data": {
      "text/plain": [
       "Series([], Name: 0, dtype: object)"
      ]
     },
     "execution_count": 334,
     "metadata": {},
     "output_type": "execute_result"
    }
   ],
   "source": [
    "first[first.str.contains(\"중앙대하굑\")==True]"
   ]
  },
  {
   "cell_type": "code",
   "execution_count": 335,
   "metadata": {},
   "outputs": [],
   "source": [
    "first[first.str.contains(\"중,\")==True]=\"서울사립대(경희대학교)\""
   ]
  },
  {
   "cell_type": "code",
   "execution_count": 336,
   "metadata": {},
   "outputs": [],
   "source": [
    "first[first.str.contains(\"강남대학교\")==True]=\"지방사립대(강남대학교)\""
   ]
  },
  {
   "cell_type": "code",
   "execution_count": 337,
   "metadata": {},
   "outputs": [],
   "source": [
    "first[first.str.contains(\"홍대\")==True]=\"서울사립대(홍익대학교)\""
   ]
  },
  {
   "cell_type": "code",
   "execution_count": 338,
   "metadata": {},
   "outputs": [],
   "source": [
    "first[first.str.contains(\"에리카\")==True]=\"지방사립대(한양대에리카)\""
   ]
  },
  {
   "cell_type": "code",
   "execution_count": 339,
   "metadata": {},
   "outputs": [],
   "source": [
    "first[first.str.contains(\"교대\")==True]=\"서울국립대(서울교육대학교)\""
   ]
  },
  {
   "cell_type": "code",
   "execution_count": 340,
   "metadata": {},
   "outputs": [],
   "source": [
    "first[first.str.contains(\"중아인\")==True]=\"서울사립대(아주대학교)\""
   ]
  },
  {
   "cell_type": "code",
   "execution_count": 341,
   "metadata": {},
   "outputs": [],
   "source": [
    "first[first.str.contains(\"국외대\")==True]=\"해외대\""
   ]
  },
  {
   "cell_type": "code",
   "execution_count": 342,
   "metadata": {},
   "outputs": [],
   "source": [
    "first[first.str.contains(\"I대\")==True]=\"지방사립대(인하대학교)\""
   ]
  },
  {
   "cell_type": "code",
   "execution_count": 343,
   "metadata": {},
   "outputs": [],
   "source": [
    "first[first.str.contains(\"경기사립\")==True]=\"지방사립대\""
   ]
  },
  {
   "cell_type": "code",
   "execution_count": 344,
   "metadata": {},
   "outputs": [],
   "source": [
    "first[first.str.contains(\"지방거주\")==True]=\"지방사립대\""
   ]
  },
  {
   "cell_type": "code",
   "execution_count": 345,
   "metadata": {},
   "outputs": [],
   "source": [
    "first[first.str.contains(\"초대졸\")==True]=\"전문대\""
   ]
  },
  {
   "cell_type": "code",
   "execution_count": 346,
   "metadata": {},
   "outputs": [],
   "source": [
    "first[first.str.contains(\"지국대\")==True]=\"지방국립대\""
   ]
  },
  {
   "cell_type": "code",
   "execution_count": 347,
   "metadata": {
    "scrolled": true
   },
   "outputs": [
    {
     "data": {
      "text/plain": [
       "6          지방국립대(한경대학교)\n",
       "7          지방국립대(한경대학교)\n",
       "13         지방국립대(순천대학교)\n",
       "15       지방국립대(금오공과대학교)\n",
       "19         지방국립대(창원대학교)\n",
       "              ...      \n",
       "10032             지방국립대\n",
       "10042             지방국립대\n",
       "10043      지방국립대(인천대학교)\n",
       "10052             지방국립대\n",
       "10089             지방국립대\n",
       "Name: 0, Length: 692, dtype: object"
      ]
     },
     "execution_count": 347,
     "metadata": {},
     "output_type": "execute_result"
    }
   ],
   "source": [
    "first[first.str.contains(\"지방국립\")==True]"
   ]
  },
  {
   "cell_type": "code",
   "execution_count": 348,
   "metadata": {},
   "outputs": [],
   "source": [
    "first[first.str.contains(\"^가톨릭\")==True]=\"서울사립대(가톨릭대학교)\""
   ]
  },
  {
   "cell_type": "code",
   "execution_count": 349,
   "metadata": {},
   "outputs": [],
   "source": [
    "first[first.str.contains(\"IST\")==True]=\"과학기술원\""
   ]
  },
  {
   "cell_type": "code",
   "execution_count": 350,
   "metadata": {},
   "outputs": [],
   "source": [
    "first[first.str.contains(\"포항\")==True]=\"과학기술원\""
   ]
  },
  {
   "cell_type": "code",
   "execution_count": 351,
   "metadata": {},
   "outputs": [
    {
     "data": {
      "text/plain": [
       "119      학점 3.57 \n",
       "139      학점 3.57 \n",
       "166      학점 3.57 \n",
       "811      학점 3.67 \n",
       "820      학점 3.67 \n",
       "           ...   \n",
       "7975     학점 3.96 \n",
       "8845     학점 3.99 \n",
       "9298     학점 3.38 \n",
       "10047     학점 3.6 \n",
       "10067     학점 3.6 \n",
       "Name: 0, Length: 104, dtype: object"
      ]
     },
     "execution_count": 351,
     "metadata": {},
     "output_type": "execute_result"
    }
   ],
   "source": [
    "first[first.str.contains(\"학점\")==True]"
   ]
  },
  {
   "cell_type": "code",
   "execution_count": 352,
   "metadata": {
    "scrolled": true
   },
   "outputs": [
    {
     "data": {
      "text/plain": [
       "0        NaN\n",
       "1        NaN\n",
       "2        NaN\n",
       "3        NaN\n",
       "4        NaN\n",
       "        ... \n",
       "10102    NaN\n",
       "10103    NaN\n",
       "10104    NaN\n",
       "10105    NaN\n",
       "10106    NaN\n",
       "Name: 학점, Length: 10107, dtype: object"
      ]
     },
     "execution_count": 352,
     "metadata": {},
     "output_type": "execute_result"
    }
   ],
   "source": [
    "df[\"학점\"]"
   ]
  },
  {
   "cell_type": "code",
   "execution_count": null,
   "metadata": {},
   "outputs": [],
   "source": []
  },
  {
   "cell_type": "code",
   "execution_count": 132,
   "metadata": {},
   "outputs": [
    {
     "data": {
      "text/plain": [
       "0         학점 1.7등급 \n",
       "1               NaN\n",
       "2           학점 3.3 \n",
       "3          학점 3.87 \n",
       "4           학점 4.0 \n",
       "            ...    \n",
       "10102           NaN\n",
       "10103           NaN\n",
       "10104           NaN\n",
       "10105           NaN\n",
       "10106           NaN\n",
       "Name: 학점, Length: 10107, dtype: object"
      ]
     },
     "execution_count": 132,
     "metadata": {},
     "output_type": "execute_result"
    }
   ],
   "source": [
    "df.loc[:,\"학점\"]"
   ]
  },
  {
   "cell_type": "code",
   "execution_count": 125,
   "metadata": {},
   "outputs": [
    {
     "data": {
      "text/plain": [
       "119      학점 3.57 \n",
       "139      학점 3.57 \n",
       "166      학점 3.57 \n",
       "811      학점 3.67 \n",
       "820      학점 3.67 \n",
       "           ...   \n",
       "7975     학점 3.96 \n",
       "8845     학점 3.99 \n",
       "9298     학점 3.38 \n",
       "10047     학점 3.6 \n",
       "10067     학점 3.6 \n",
       "Name: 0, Length: 107, dtype: object"
      ]
     },
     "execution_count": 125,
     "metadata": {},
     "output_type": "execute_result"
    }
   ],
   "source": [
    "first[first.str.contains(\"학점\")==True]\n"
   ]
  },
  {
   "cell_type": "code",
   "execution_count": 354,
   "metadata": {},
   "outputs": [],
   "source": [
    "first[first.str.contains(\"학점\")==True]=\"\""
   ]
  },
  {
   "cell_type": "code",
   "execution_count": 355,
   "metadata": {},
   "outputs": [
    {
     "data": {
      "text/plain": [
       "11      교내 금융 동아리 3년, 학생회장단연합회 1년, 특성화고 권리 연합회 1년, 컴퓨터...\n",
       "40      교내 금융 동아리 3년, 학생회장단연합회 1년, 특성화고 권리 연합회 1년, 컴퓨터...\n",
       "421     교내 금융 동아리 3년, 학생회장단연합회 1년, 특성화고 권리 연합회 1년, 컴퓨터...\n",
       "508     교내 금융 동아리 3년, 학생회장단연합회 1년, 특성화고 권리 연합회 1년, 컴퓨터...\n",
       "569     교내 금융 동아리 3년, 학생회장단연합회 1년, 특성화고 권리 연합회 1년, 컴퓨터...\n",
       "673     교내 금융 동아리 3년, 학생회장단연합회 1년, 특성화고 권리 연합회 1년, 컴퓨터...\n",
       "1112    교내 금융 동아리 3년, 학생회장단연합회 1년, 특성화고 권리 연합회 1년, 컴퓨터...\n",
       "1179    교내 금융 동아리 3년, 학생회장단연합회 1년, 특성화고 권리 연합회 1년, 컴퓨터...\n",
       "Name: 0, dtype: object"
      ]
     },
     "execution_count": 355,
     "metadata": {},
     "output_type": "execute_result"
    }
   ],
   "source": [
    "first[first.str.contains(\"교내\")==True]"
   ]
  },
  {
   "cell_type": "code",
   "execution_count": 356,
   "metadata": {},
   "outputs": [],
   "source": [
    "df['경험사항']=first[first.str.contains(\"교내\")==True]"
   ]
  },
  {
   "cell_type": "code",
   "execution_count": 357,
   "metadata": {},
   "outputs": [],
   "source": [
    "first[first.str.contains(\"교내\")==True]=\"\""
   ]
  },
  {
   "cell_type": "code",
   "execution_count": 358,
   "metadata": {},
   "outputs": [
    {
     "data": {
      "text/plain": [
       "442    컴활2급, 워드프로세서, ERP(회계,인사,생산,물류), 한국사능력검정2급, 전산회...\n",
       "528    컴활2급, 워드프로세서, ERP(회계,인사,생산,물류), 한국사능력검정2급, 전산회...\n",
       "570    컴활2급, 워드프로세서, ERP(회계,인사,생산,물류), 한국사능력검정2급, 전산회...\n",
       "674    컴활2급, 워드프로세서, ERP(회계,인사,생산,물류), 한국사능력검정2급, 전산회...\n",
       "866    컴활2급, 워드프로세서, ERP(회계,인사,생산,물류), 한국사능력검정2급, 전산회...\n",
       "Name: 0, dtype: object"
      ]
     },
     "execution_count": 358,
     "metadata": {},
     "output_type": "execute_result"
    }
   ],
   "source": [
    "first[first.str.contains(\"컴활\")==True]"
   ]
  },
  {
   "cell_type": "code",
   "execution_count": 359,
   "metadata": {},
   "outputs": [],
   "source": [
    "df['경험사항']=first[first.str.contains(\"교내\")==True]"
   ]
  },
  {
   "cell_type": "code",
   "execution_count": 360,
   "metadata": {},
   "outputs": [],
   "source": [
    "first[first.str.contains(\"교내\")==True]=\"\""
   ]
  },
  {
   "cell_type": "code",
   "execution_count": 361,
   "metadata": {},
   "outputs": [],
   "source": [
    "first[first.str.contains(\"전기\")==True]=\"전자전기공학과\""
   ]
  },
  {
   "cell_type": "code",
   "execution_count": 362,
   "metadata": {},
   "outputs": [],
   "source": [
    "df[\"학과\"]=first[first.str.contains(\"전자전기공학과\")==True]"
   ]
  },
  {
   "cell_type": "code",
   "execution_count": 363,
   "metadata": {},
   "outputs": [],
   "source": [
    "first[first.str.contains(\"전자전기공학과\")==True]=\"\""
   ]
  },
  {
   "cell_type": "code",
   "execution_count": 364,
   "metadata": {},
   "outputs": [],
   "source": [
    "first[first.str.contains(\"전자공\")==True]=\"전자공학과\""
   ]
  },
  {
   "cell_type": "code",
   "execution_count": 365,
   "metadata": {},
   "outputs": [],
   "source": [
    "first[first.str.contains(\"^전자\")==True]=\"전자공학과\""
   ]
  },
  {
   "cell_type": "code",
   "execution_count": 366,
   "metadata": {
    "scrolled": true
   },
   "outputs": [
    {
     "data": {
      "text/plain": [
       "1223             전자공학과\n",
       "1864             전자공학과\n",
       "2019             전자공학과\n",
       "3515     LG전자 기술원 현장실습\n",
       "3517             전자공학과\n",
       "3535     LG전자 기술원 현장실습\n",
       "3537             전자공학과\n",
       "3691             전자공학과\n",
       "4318             전자공학과\n",
       "4344             전자공학과\n",
       "4364             전자공학과\n",
       "4561             전자공학과\n",
       "4621             전자공학과\n",
       "4718             전자공학과\n",
       "4738             전자공학과\n",
       "4773             전자공학과\n",
       "5548             전자공학과\n",
       "5568             전자공학과\n",
       "9299             전자공학과\n",
       "9448             전자공학과\n",
       "9468             전자공학과\n",
       "10026            전자공학과\n",
       "10027            전자공학과\n",
       "10046            전자공학과\n",
       "Name: 0, dtype: object"
      ]
     },
     "execution_count": 366,
     "metadata": {},
     "output_type": "execute_result"
    }
   ],
   "source": [
    "#LG전자 이거는 뭐야아아아\n",
    "first[first.str.contains(\"전자\")==True]"
   ]
  },
  {
   "cell_type": "code",
   "execution_count": 367,
   "metadata": {},
   "outputs": [],
   "source": [
    "df[\"학과\"]=first[first.str.contains(\"전자공학과\")==True]"
   ]
  },
  {
   "cell_type": "code",
   "execution_count": 368,
   "metadata": {},
   "outputs": [],
   "source": [
    "first[first.str.contains(\"전자공학과\")==True]=\"\""
   ]
  },
  {
   "cell_type": "code",
   "execution_count": 369,
   "metadata": {},
   "outputs": [
    {
     "data": {
      "text/plain": [
       "4469    산업디자인 \n",
       "4489    산업디자인 \n",
       "7191    산업디자인 \n",
       "7206    산업디자인 \n",
       "7207    산업디자인 \n",
       "7234    산업디자인 \n",
       "7254    산업디자인 \n",
       "Name: 0, dtype: object"
      ]
     },
     "execution_count": 369,
     "metadata": {},
     "output_type": "execute_result"
    }
   ],
   "source": [
    "first[first.str.contains(\"디자인\")==True]"
   ]
  },
  {
   "cell_type": "code",
   "execution_count": 370,
   "metadata": {},
   "outputs": [],
   "source": [
    "df[\"학과\"]=first[first.str.contains(\"디자인\")==True]"
   ]
  },
  {
   "cell_type": "code",
   "execution_count": 371,
   "metadata": {},
   "outputs": [],
   "source": [
    "first[first.str.contains(\"디자인\")==True]=\"\""
   ]
  },
  {
   "cell_type": "code",
   "execution_count": 372,
   "metadata": {},
   "outputs": [],
   "source": [
    "df[\"학과\"]=first[first.str.contains(\"그래픽\")==True]"
   ]
  },
  {
   "cell_type": "code",
   "execution_count": 373,
   "metadata": {},
   "outputs": [],
   "source": [
    "first[first.str.contains(\"그래픽\")==True]=\"\""
   ]
  },
  {
   "cell_type": "code",
   "execution_count": 374,
   "metadata": {},
   "outputs": [],
   "source": [
    "first[first.str.contains(\"컴퓨터\")==True]=\"컴퓨터공학과\""
   ]
  },
  {
   "cell_type": "code",
   "execution_count": 375,
   "metadata": {},
   "outputs": [],
   "source": [
    "df[\"학과\"]=first[first.str.contains(\"컴퓨터\")==True]"
   ]
  },
  {
   "cell_type": "code",
   "execution_count": 376,
   "metadata": {},
   "outputs": [],
   "source": [
    "first[first.str.contains(\"컴퓨터\")==True]=\"\""
   ]
  },
  {
   "cell_type": "code",
   "execution_count": 377,
   "metadata": {},
   "outputs": [],
   "source": [
    "df[\"학과\"]=first[first.str.contains(\"학과\")==True]"
   ]
  },
  {
   "cell_type": "code",
   "execution_count": 378,
   "metadata": {},
   "outputs": [],
   "source": [
    "first[first.str.contains(\"학과\")==True]=\"\""
   ]
  },
  {
   "cell_type": "code",
   "execution_count": 379,
   "metadata": {},
   "outputs": [],
   "source": [
    "df['자격증']=first[first.str.contains(\"컴활\")==True]"
   ]
  },
  {
   "cell_type": "code",
   "execution_count": 380,
   "metadata": {},
   "outputs": [],
   "source": [
    "first[first.str.contains(\"컴활\")==True]=\"\""
   ]
  },
  {
   "cell_type": "code",
   "execution_count": 381,
   "metadata": {},
   "outputs": [],
   "source": [
    "first[first.str.contains(\"컴\")==True]=\"컴퓨터공학\""
   ]
  },
  {
   "cell_type": "code",
   "execution_count": 382,
   "metadata": {},
   "outputs": [],
   "source": [
    "df[\"학과\"]=first[first.str.contains(\"컴퓨터공학\")==True]"
   ]
  },
  {
   "cell_type": "code",
   "execution_count": 383,
   "metadata": {},
   "outputs": [],
   "source": [
    "first[first.str.contains(\"컴퓨터공학\")==True]=\"\""
   ]
  },
  {
   "cell_type": "code",
   "execution_count": 384,
   "metadata": {},
   "outputs": [],
   "source": [
    "first[first.str.contains(\"바이오\")==True]=\"바이오공학\""
   ]
  },
  {
   "cell_type": "code",
   "execution_count": 385,
   "metadata": {},
   "outputs": [],
   "source": [
    "df[\"학과\"]=first[first.str.contains(\"바이오공학\")==True]"
   ]
  },
  {
   "cell_type": "code",
   "execution_count": 386,
   "metadata": {},
   "outputs": [],
   "source": [
    "first[first.str.contains(\"바이오공학\")==True]=\"\""
   ]
  },
  {
   "cell_type": "code",
   "execution_count": 387,
   "metadata": {},
   "outputs": [],
   "source": [
    "first[first.str.contains(\"경영\")==True]=\"경영학\""
   ]
  },
  {
   "cell_type": "code",
   "execution_count": 388,
   "metadata": {},
   "outputs": [],
   "source": [
    "df[\"학과\"]=first[first.str.contains(\"경영학\")==True]"
   ]
  },
  {
   "cell_type": "code",
   "execution_count": 389,
   "metadata": {},
   "outputs": [],
   "source": [
    "first[first.str.contains(\"경영학\")==True]=\"\""
   ]
  },
  {
   "cell_type": "code",
   "execution_count": 390,
   "metadata": {},
   "outputs": [],
   "source": [
    "first[first.str.contains(\"경기도 대학\")==True]=\"지방사립대\""
   ]
  },
  {
   "cell_type": "code",
   "execution_count": 391,
   "metadata": {},
   "outputs": [],
   "source": [
    "df[\"학과\"]=first[first.str.contains(\"정보통신공학\")==True]"
   ]
  },
  {
   "cell_type": "code",
   "execution_count": 392,
   "metadata": {},
   "outputs": [],
   "source": [
    "first[first.str.contains(\"정보통신공학\")==True]=\"\""
   ]
  },
  {
   "cell_type": "code",
   "execution_count": 393,
   "metadata": {},
   "outputs": [],
   "source": [
    "first[first.str.contains(\"화학공\")==True]=\"화학공학\""
   ]
  },
  {
   "cell_type": "code",
   "execution_count": 394,
   "metadata": {},
   "outputs": [],
   "source": [
    "df[\"학과\"]=first[first.str.contains(\"화학공학\")==True]"
   ]
  },
  {
   "cell_type": "code",
   "execution_count": 395,
   "metadata": {},
   "outputs": [],
   "source": [
    "first[first.str.contains(\"화학공학\")==True]=\"\""
   ]
  },
  {
   "cell_type": "code",
   "execution_count": 396,
   "metadata": {},
   "outputs": [],
   "source": [
    "df[\"학과\"]=first[first.str.contains(\"화학\")==True]"
   ]
  },
  {
   "cell_type": "code",
   "execution_count": 397,
   "metadata": {},
   "outputs": [],
   "source": [
    "first[first.str.contains(\"화학\")==True]=\"\""
   ]
  },
  {
   "cell_type": "code",
   "execution_count": 398,
   "metadata": {},
   "outputs": [],
   "source": [
    "df[\"학과\"]=first[first.str.contains(\"산업공학\")==True]"
   ]
  },
  {
   "cell_type": "code",
   "execution_count": 399,
   "metadata": {},
   "outputs": [],
   "source": [
    "first[first.str.contains(\"산업공학\")==True]=\"\""
   ]
  },
  {
   "cell_type": "code",
   "execution_count": 400,
   "metadata": {},
   "outputs": [],
   "source": [
    "df[\"학과\"]=first[first.str.contains(\"고분자공학\")==True]"
   ]
  },
  {
   "cell_type": "code",
   "execution_count": 401,
   "metadata": {},
   "outputs": [],
   "source": [
    "first[first.str.contains(\"고분자공학\")==True]=\"\""
   ]
  },
  {
   "cell_type": "code",
   "execution_count": 402,
   "metadata": {},
   "outputs": [],
   "source": [
    "df[\"학과\"]=first[first.str.contains(\"환경공학\")==True]"
   ]
  },
  {
   "cell_type": "code",
   "execution_count": 403,
   "metadata": {},
   "outputs": [],
   "source": [
    "first[first.str.contains(\"환경공학\")==True]=\"\""
   ]
  },
  {
   "cell_type": "code",
   "execution_count": 404,
   "metadata": {},
   "outputs": [],
   "source": [
    "first[first.str.contains(\"환경\")==True]=\"토목환경공학\""
   ]
  },
  {
   "cell_type": "code",
   "execution_count": 405,
   "metadata": {},
   "outputs": [],
   "source": [
    "df[\"학과\"]=first[first.str.contains(\"토목환경공학\")==True]"
   ]
  },
  {
   "cell_type": "code",
   "execution_count": 406,
   "metadata": {},
   "outputs": [],
   "source": [
    "first[first.str.contains(\"토목환경공학\")==True]=\"\""
   ]
  },
  {
   "cell_type": "code",
   "execution_count": 407,
   "metadata": {},
   "outputs": [],
   "source": [
    "df[\"학과\"]=first[first.str.contains(\"신소재\")==True]"
   ]
  },
  {
   "cell_type": "code",
   "execution_count": 408,
   "metadata": {},
   "outputs": [],
   "source": [
    "first[first.str.contains(\"신소재\")==True]=\"\""
   ]
  },
  {
   "cell_type": "code",
   "execution_count": 409,
   "metadata": {},
   "outputs": [],
   "source": [
    "first[first.str.contains(\"경제\")==True]=\"경제학\""
   ]
  },
  {
   "cell_type": "code",
   "execution_count": 410,
   "metadata": {},
   "outputs": [],
   "source": [
    "df[\"학과\"]=first[first.str.contains(\"경제학\")==True]"
   ]
  },
  {
   "cell_type": "code",
   "execution_count": 411,
   "metadata": {},
   "outputs": [],
   "source": [
    "first[first.str.contains(\"경제학\")==True]=\"\""
   ]
  },
  {
   "cell_type": "code",
   "execution_count": 412,
   "metadata": {},
   "outputs": [],
   "source": [
    "first[first.str.contains(\"^공과대학\")==True]=\"공학\""
   ]
  },
  {
   "cell_type": "code",
   "execution_count": 413,
   "metadata": {},
   "outputs": [],
   "source": [
    "df[\"학과\"]=first[first.str.contains(\"공학\")==True]"
   ]
  },
  {
   "cell_type": "code",
   "execution_count": 414,
   "metadata": {},
   "outputs": [],
   "source": [
    "first[first.str.contains(\"공학\")==True]=\"\""
   ]
  },
  {
   "cell_type": "code",
   "execution_count": 416,
   "metadata": {},
   "outputs": [],
   "source": [
    "df[\"학과\"]=first[first.str.contains(\"자연\")==True]"
   ]
  },
  {
   "cell_type": "code",
   "execution_count": 417,
   "metadata": {},
   "outputs": [],
   "source": [
    "first[first.str.contains(\"자연\")==True]=\"\""
   ]
  },
  {
   "cell_type": "code",
   "execution_count": 418,
   "metadata": {},
   "outputs": [
    {
     "data": {
      "text/plain": [
       "2240    재료 \n",
       "2398    재료 \n",
       "2418    재료 \n",
       "2420    재료 \n",
       "7271    재료 \n",
       "Name: 0, dtype: object"
      ]
     },
     "execution_count": 418,
     "metadata": {},
     "output_type": "execute_result"
    }
   ],
   "source": [
    "first[first.str.contains(\"재료\")==True]"
   ]
  },
  {
   "cell_type": "code",
   "execution_count": 419,
   "metadata": {},
   "outputs": [],
   "source": [
    "df[\"학과\"]=first[first.str.contains(\"재료공학\")==True]"
   ]
  },
  {
   "cell_type": "code",
   "execution_count": 420,
   "metadata": {},
   "outputs": [],
   "source": [
    "first[first.str.contains(\"재료공학\")==True]=\"\""
   ]
  },
  {
   "cell_type": "code",
   "execution_count": 421,
   "metadata": {},
   "outputs": [],
   "source": [
    "first[first.str.contains(\"메카\")==True]=\"메카트로닉스공학\""
   ]
  },
  {
   "cell_type": "code",
   "execution_count": 362,
   "metadata": {},
   "outputs": [],
   "source": [
    "#자연과학"
   ]
  },
  {
   "cell_type": "code",
   "execution_count": 422,
   "metadata": {},
   "outputs": [],
   "source": [
    "df[\"학과\"]=first[first.str.contains(\"메카\")==True]"
   ]
  },
  {
   "cell_type": "code",
   "execution_count": 423,
   "metadata": {},
   "outputs": [],
   "source": [
    "first[first.str.contains(\"메카\")==True]=\"\""
   ]
  },
  {
   "cell_type": "code",
   "execution_count": 424,
   "metadata": {},
   "outputs": [],
   "source": [
    "df[\"학과\"]=first[first.str.contains(\"통상\")==True]"
   ]
  },
  {
   "cell_type": "code",
   "execution_count": 425,
   "metadata": {},
   "outputs": [],
   "source": [
    "first[first.str.contains(\"통상\")==True]=\"\""
   ]
  },
  {
   "cell_type": "code",
   "execution_count": 426,
   "metadata": {},
   "outputs": [],
   "source": [
    "first[first.str.contains(\"화공\")==True]=\"화학공학과\""
   ]
  },
  {
   "cell_type": "code",
   "execution_count": 427,
   "metadata": {},
   "outputs": [],
   "source": [
    "df[\"학과\"]=first[first.str.contains(\"화학\")==True]"
   ]
  },
  {
   "cell_type": "code",
   "execution_count": 428,
   "metadata": {},
   "outputs": [],
   "source": [
    "first[first.str.contains(\"화학\")==True]=\"\""
   ]
  },
  {
   "cell_type": "code",
   "execution_count": 429,
   "metadata": {},
   "outputs": [],
   "source": [
    "first[first.str.contains(\"홍익대 \")==True]=\"서울사립대(홍익대학교)\""
   ]
  },
  {
   "cell_type": "code",
   "execution_count": 430,
   "metadata": {},
   "outputs": [],
   "source": [
    "first[first.str.contains(\"부산 지잡\")==True]=\"지방사립대\""
   ]
  },
  {
   "cell_type": "code",
   "execution_count": 431,
   "metadata": {},
   "outputs": [],
   "source": [
    "df['경험사항']=first[first.str.contains(\"봉사\")==True]"
   ]
  },
  {
   "cell_type": "code",
   "execution_count": 432,
   "metadata": {},
   "outputs": [],
   "source": [
    "first[first.str.contains(\"봉사\")==True]=\"\""
   ]
  },
  {
   "cell_type": "code",
   "execution_count": 433,
   "metadata": {},
   "outputs": [],
   "source": [
    "df[\"어학\"]=first[first.str.contains(\"토익\")==True]"
   ]
  },
  {
   "cell_type": "code",
   "execution_count": 434,
   "metadata": {},
   "outputs": [],
   "source": [
    "first[first.str.contains(\"토익\")==True]=\"\""
   ]
  },
  {
   "cell_type": "code",
   "execution_count": 435,
   "metadata": {},
   "outputs": [],
   "source": [
    "first[first.str.contains(\"it\")==True]=\"컴퓨터공학과\""
   ]
  },
  {
   "cell_type": "code",
   "execution_count": 436,
   "metadata": {},
   "outputs": [],
   "source": [
    "first[first.str.contains(\"I\")==True]=\"컴퓨터공학과\""
   ]
  },
  {
   "cell_type": "code",
   "execution_count": 437,
   "metadata": {},
   "outputs": [],
   "source": [
    "df[\"학과\"]=first[first.str.contains(\"컴퓨터\")==True]"
   ]
  },
  {
   "cell_type": "code",
   "execution_count": 438,
   "metadata": {},
   "outputs": [],
   "source": [
    "first[first.str.contains(\"컴퓨터\")==True]=\"\""
   ]
  },
  {
   "cell_type": "code",
   "execution_count": 439,
   "metadata": {},
   "outputs": [],
   "source": [
    "df['경험사항']=first[first.str.contains(\"인턴 1회\")==True]"
   ]
  },
  {
   "cell_type": "code",
   "execution_count": 440,
   "metadata": {},
   "outputs": [],
   "source": [
    "first[first.str.contains(\"인턴 1회\")==True]=\"\""
   ]
  },
  {
   "cell_type": "code",
   "execution_count": 441,
   "metadata": {},
   "outputs": [],
   "source": [
    "first[first.str.contains(\"^인천\")==True]=\"지방사립대\""
   ]
  },
  {
   "cell_type": "code",
   "execution_count": 442,
   "metadata": {},
   "outputs": [],
   "source": [
    "first[first.str.contains(\"인턴 경험\")==True]=\"\""
   ]
  },
  {
   "cell_type": "code",
   "execution_count": 443,
   "metadata": {},
   "outputs": [],
   "source": [
    "df['경험사항']=first[first.str.contains(\"인턴1회\")==True]"
   ]
  },
  {
   "cell_type": "code",
   "execution_count": 444,
   "metadata": {},
   "outputs": [],
   "source": [
    "first[first.str.contains(\"인턴1회\")==True]=\"\""
   ]
  },
  {
   "cell_type": "code",
   "execution_count": 445,
   "metadata": {},
   "outputs": [],
   "source": [
    "first[first.str.contains(\"^인\")==True]=\"지방사립대\""
   ]
  },
  {
   "cell_type": "code",
   "execution_count": 446,
   "metadata": {},
   "outputs": [
    {
     "data": {
      "text/plain": [
       "3515    LG전자 기술원 현장실습\n",
       "3535    LG전자 기술원 현장실습\n",
       "Name: 0, dtype: object"
      ]
     },
     "execution_count": 446,
     "metadata": {},
     "output_type": "execute_result"
    }
   ],
   "source": [
    "#LG어캐할까욤???\n",
    "first[first.str.contains(\"LG\")==True]"
   ]
  },
  {
   "cell_type": "code",
   "execution_count": 447,
   "metadata": {},
   "outputs": [],
   "source": [
    "first[first.str.contains(\"^성대\")==True]=\"서울사립대(성균관대학교)\""
   ]
  },
  {
   "cell_type": "code",
   "execution_count": 448,
   "metadata": {},
   "outputs": [],
   "source": [
    "df[\"학과\"]=first[first.str.contains(\"동물\")==True]"
   ]
  },
  {
   "cell_type": "code",
   "execution_count": 449,
   "metadata": {},
   "outputs": [],
   "source": [
    "first[first.str.contains(\"동물\")==True]=\"\""
   ]
  },
  {
   "cell_type": "code",
   "execution_count": 450,
   "metadata": {},
   "outputs": [],
   "source": [
    "df[\"어학\"]=first[first.str.contains(\"토\")==True]"
   ]
  },
  {
   "cell_type": "code",
   "execution_count": 451,
   "metadata": {},
   "outputs": [],
   "source": [
    "first[first.str.contains(\"토\")==True]=\"\""
   ]
  },
  {
   "cell_type": "code",
   "execution_count": 452,
   "metadata": {},
   "outputs": [],
   "source": [
    "df[\"학과\"]=first[first.str.contains(\"영어\")==True]"
   ]
  },
  {
   "cell_type": "code",
   "execution_count": 453,
   "metadata": {},
   "outputs": [],
   "source": [
    "first[first.str.contains(\"영어\")==True]=\"\""
   ]
  },
  {
   "cell_type": "code",
   "execution_count": 454,
   "metadata": {},
   "outputs": [],
   "source": [
    "first[first.str.contains(\"설포\")==True]=\"과학기술원\""
   ]
  },
  {
   "cell_type": "code",
   "execution_count": 455,
   "metadata": {
    "scrolled": true
   },
   "outputs": [
    {
     "data": {
      "text/plain": [
       "153"
      ]
     },
     "execution_count": 455,
     "metadata": {},
     "output_type": "execute_result"
    }
   ],
   "source": [
    "len(first[first.str.contains(\"과학기술\")==True])"
   ]
  },
  {
   "cell_type": "code",
   "execution_count": 456,
   "metadata": {},
   "outputs": [],
   "source": [
    "first[first.str.contains(\"^중\")==True]=\"서울사립대(중앙대학교)\""
   ]
  },
  {
   "cell_type": "code",
   "execution_count": 457,
   "metadata": {},
   "outputs": [],
   "source": [
    "first[first.str.contains(\"산공\")==True]=\"산업공학과\""
   ]
  },
  {
   "cell_type": "code",
   "execution_count": 458,
   "metadata": {},
   "outputs": [],
   "source": [
    "df[\"학과\"]=first[first.str.contains(\"산업공\")==True]"
   ]
  },
  {
   "cell_type": "code",
   "execution_count": 459,
   "metadata": {},
   "outputs": [],
   "source": [
    "first[first.str.contains(\"산업공\")==True]=\"\""
   ]
  },
  {
   "cell_type": "code",
   "execution_count": 460,
   "metadata": {},
   "outputs": [],
   "source": [
    "first[first.str.contains(\"정보\")==True]=\"정보통신공학\""
   ]
  },
  {
   "cell_type": "code",
   "execution_count": 461,
   "metadata": {},
   "outputs": [],
   "source": [
    "df[\"학과\"]=first[first.str.contains(\"정보\")==True]"
   ]
  },
  {
   "cell_type": "code",
   "execution_count": 462,
   "metadata": {},
   "outputs": [],
   "source": [
    "first[first.str.contains(\"정보\")==True]=\"\""
   ]
  },
  {
   "cell_type": "code",
   "execution_count": 463,
   "metadata": {},
   "outputs": [],
   "source": [
    "first[first.str.contains(\"^K\")==True]=\"서울사립대(고려대학교)\""
   ]
  },
  {
   "cell_type": "code",
   "execution_count": 464,
   "metadata": {
    "scrolled": true
   },
   "outputs": [
    {
     "data": {
      "text/plain": [
       "Series([], Name: 0, dtype: object)"
      ]
     },
     "execution_count": 464,
     "metadata": {},
     "output_type": "execute_result"
    }
   ],
   "source": [
    "first[first.str.contains(\"^K\")==True]"
   ]
  },
  {
   "cell_type": "code",
   "execution_count": 465,
   "metadata": {},
   "outputs": [],
   "source": [
    "first[first.str.contains(\"^통\")==True]=\"통계학\""
   ]
  },
  {
   "cell_type": "code",
   "execution_count": 466,
   "metadata": {},
   "outputs": [],
   "source": [
    "df[\"학과\"]=first[first.str.contains(\"통계\")==True]"
   ]
  },
  {
   "cell_type": "code",
   "execution_count": 467,
   "metadata": {},
   "outputs": [],
   "source": [
    "first[first.str.contains(\"통계\")==True]=\"\""
   ]
  },
  {
   "cell_type": "code",
   "execution_count": 468,
   "metadata": {},
   "outputs": [],
   "source": [
    "first[first.str.contains(\"^경기도\")==True]=\"지방사립대\""
   ]
  },
  {
   "cell_type": "code",
   "execution_count": 469,
   "metadata": {},
   "outputs": [],
   "source": [
    "first[first.str.contains(\"자동\")==True]=\"자동차공학\""
   ]
  },
  {
   "cell_type": "code",
   "execution_count": 470,
   "metadata": {},
   "outputs": [],
   "source": [
    "df[\"학과\"]=first[first.str.contains(\"자동\")==True]"
   ]
  },
  {
   "cell_type": "code",
   "execution_count": 471,
   "metadata": {},
   "outputs": [],
   "source": [
    "first[first.str.contains(\"자동\")==True]=\"\""
   ]
  },
  {
   "cell_type": "code",
   "execution_count": 472,
   "metadata": {},
   "outputs": [],
   "source": [
    "first[first.str.contains(\"서울사립 \")==True]=\"서울사립대\""
   ]
  },
  {
   "cell_type": "code",
   "execution_count": 473,
   "metadata": {},
   "outputs": [],
   "source": [
    "first[first.str.contains(\"서카\")==True]=\"과학기술원\""
   ]
  },
  {
   "cell_type": "code",
   "execution_count": 474,
   "metadata": {},
   "outputs": [],
   "source": [
    "first[first.str.contains(\"한동\")==True]=\"지방사립대(한동대학교)\""
   ]
  },
  {
   "cell_type": "code",
   "execution_count": 475,
   "metadata": {},
   "outputs": [],
   "source": [
    "first.to_csv(\"20200807.txt\",encoding='utf-8')"
   ]
  },
  {
   "cell_type": "code",
   "execution_count": 477,
   "metadata": {},
   "outputs": [],
   "source": [
    "df['학교']=first"
   ]
  },
  {
   "cell_type": "code",
   "execution_count": 2078,
   "metadata": {},
   "outputs": [],
   "source": [
    "df.to_csv(\"20200807.txt\",encoding=\"utf-8\")"
   ]
  },
  {
   "cell_type": "code",
   "execution_count": null,
   "metadata": {},
   "outputs": [],
   "source": []
  },
  {
   "cell_type": "code",
   "execution_count": null,
   "metadata": {},
   "outputs": [],
   "source": []
  },
  {
   "cell_type": "code",
   "execution_count": null,
   "metadata": {},
   "outputs": [],
   "source": []
  },
  {
   "cell_type": "code",
   "execution_count": null,
   "metadata": {},
   "outputs": [],
   "source": []
  },
  {
   "cell_type": "code",
   "execution_count": null,
   "metadata": {},
   "outputs": [],
   "source": []
  },
  {
   "cell_type": "code",
   "execution_count": null,
   "metadata": {},
   "outputs": [],
   "source": [
    "#first.to_csv(\"first.txt\",encoding='utf-8')"
   ]
  },
  {
   "cell_type": "code",
   "execution_count": 480,
   "metadata": {},
   "outputs": [
    {
     "data": {
      "text/plain": [
       "10107"
      ]
     },
     "execution_count": 480,
     "metadata": {},
     "output_type": "execute_result"
    }
   ],
   "source": [
    "len(df['학과'].notnull())"
   ]
  },
  {
   "cell_type": "code",
   "execution_count": null,
   "metadata": {},
   "outputs": [],
   "source": []
  },
  {
   "cell_type": "code",
   "execution_count": null,
   "metadata": {},
   "outputs": [],
   "source": []
  },
  {
   "cell_type": "code",
   "execution_count": null,
   "metadata": {},
   "outputs": [],
   "source": [
    "#first.to_csv(\"20200806_final.txt\",encoding='utf-8')"
   ]
  },
  {
   "cell_type": "code",
   "execution_count": 361,
   "metadata": {},
   "outputs": [],
   "source": [
    "second.to_csv(\"다시학과.txt\",encoding='utf-8')"
   ]
  },
  {
   "cell_type": "code",
   "execution_count": null,
   "metadata": {},
   "outputs": [],
   "source": []
  },
  {
   "cell_type": "code",
   "execution_count": null,
   "metadata": {},
   "outputs": [],
   "source": []
  }
 ],
 "metadata": {
  "kernelspec": {
   "display_name": "Python 3",
   "language": "python",
   "name": "python3"
  },
  "language_info": {
   "codemirror_mode": {
    "name": "ipython",
    "version": 3
   },
   "file_extension": ".py",
   "mimetype": "text/x-python",
   "name": "python",
   "nbconvert_exporter": "python",
   "pygments_lexer": "ipython3",
   "version": "3.7.6"
  }
 },
 "nbformat": 4,
 "nbformat_minor": 4
}
