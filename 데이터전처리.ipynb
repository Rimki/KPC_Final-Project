{
 "cells": [
  {
   "cell_type": "code",
   "execution_count": 1,
   "metadata": {},
   "outputs": [],
   "source": [
    "import pandas as pd"
   ]
  },
  {
   "cell_type": "code",
   "execution_count": 680,
   "metadata": {},
   "outputs": [],
   "source": [
    "raw_df = pd.read_csv(\"WriteData.csv\")"
   ]
  },
  {
   "cell_type": "code",
   "execution_count": 681,
   "metadata": {},
   "outputs": [
    {
     "data": {
      "text/html": [
       "<div>\n",
       "<style scoped>\n",
       "    .dataframe tbody tr th:only-of-type {\n",
       "        vertical-align: middle;\n",
       "    }\n",
       "\n",
       "    .dataframe tbody tr th {\n",
       "        vertical-align: top;\n",
       "    }\n",
       "\n",
       "    .dataframe thead th {\n",
       "        text-align: right;\n",
       "    }\n",
       "</style>\n",
       "<table border=\"1\" class=\"dataframe\">\n",
       "  <thead>\n",
       "    <tr style=\"text-align: right;\">\n",
       "      <th></th>\n",
       "      <th>1</th>\n",
       "      <th>2</th>\n",
       "      <th>3</th>\n",
       "    </tr>\n",
       "  </thead>\n",
       "  <tbody>\n",
       "    <tr>\n",
       "      <th>0</th>\n",
       "      <td>한국석유공사 / 설비 / 2020 상반기</td>\n",
       "      <td>광주전자공업고등학교 / 학점 1.7등급 / 인천 글로벌 숙련 진흥원 5일, 선반, ...</td>\n",
       "      <td>7.한국석유공사\\n\\n 1. 지원 분야 직무기술서 ‘직무수행 내용’ 중 본인이 가장...</td>\n",
       "    </tr>\n",
       "    <tr>\n",
       "      <th>1</th>\n",
       "      <td>CJ제일제당 / Food Sales / 2020 상반기</td>\n",
       "      <td>중경외시 / 상경계열 / 학점 3.92 / 토익 905, 토스 LV 6 / 봉사활동...</td>\n",
       "      <td>CJ제일제당 및 선택한 직무에 대한 지원동기는 무엇인가요? ① 선택한 직무에 관심을...</td>\n",
       "    </tr>\n",
       "    <tr>\n",
       "      <th>2</th>\n",
       "      <td>한국가스안전공사 / LP가스 안전지킴이사업 / 2020 상반기</td>\n",
       "      <td>제주대학교 / 학점 3.3 / 토익830 / 컴퓨터활용능력1급, 한국사1급</td>\n",
       "      <td>\\n1. 한국가스안전공사가 진행하는 사업에 관심을 갖고 공사에 지원한 동기에 대해 ...</td>\n",
       "    </tr>\n",
       "    <tr>\n",
       "      <th>3</th>\n",
       "      <td>코레일 / 사무영업 / 2020 상반기</td>\n",
       "      <td>충남대학교 / 학점 3.87 / 토익 835 / 토론동아리 3년, 컴활1급, 한국사1급</td>\n",
       "      <td>1.공동체의 일원으로서 가장 중요하게 생각하는 가치를 제시하고, 그 가치를 실천했던...</td>\n",
       "    </tr>\n",
       "    <tr>\n",
       "      <th>4</th>\n",
       "      <td>한국기술교육대학교 / 행정 / 2020 상반기</td>\n",
       "      <td>건국대학교 / 학점 4.0 / 토익 780 / 컴활 1급, 한국사1급</td>\n",
       "      <td>1. 본인이 가진 가장 뛰어난 점과 그렇게 판단한 이유, 고용노동연수원 업무수행에서...</td>\n",
       "    </tr>\n",
       "    <tr>\n",
       "      <th>...</th>\n",
       "      <td>...</td>\n",
       "      <td>...</td>\n",
       "      <td>...</td>\n",
       "    </tr>\n",
       "    <tr>\n",
       "      <th>10102</th>\n",
       "      <td>현대자동차 / 영업관리 / 2013 상반기</td>\n",
       "      <td>상명대학교 / 국제통상학 / 학점 4.3 / 토익 900, HSK 6급 / 해외인턴...</td>\n",
       "      <td>1. 현대자동차에 지원하게 된 동기 또는 해당 직무에 지원하게 된 동기는 무엇입니까...</td>\n",
       "    </tr>\n",
       "    <tr>\n",
       "      <th>10103</th>\n",
       "      <td>심팩 / 용접관리 / 2013 상반기</td>\n",
       "      <td>지방전문대 / 공업화학 / 학점 3.06</td>\n",
       "      <td>성격소개\\n\\n대부분의 사람들이 평가하는 첫인상은 소심하고 내성적인 성격일것이라 생...</td>\n",
       "    </tr>\n",
       "    <tr>\n",
       "      <th>10104</th>\n",
       "      <td>한국전력 / 인턴[송,배전] / 2013 상반기</td>\n",
       "      <td>지거국 / 전자공학 / 학점 3.7 / 토익 900대 / 음악봉사활동, 멘토링 등</td>\n",
       "      <td>[질문 1] 취업이라는 목표 이외에 인생의 큰 목표를 세운 경험, 그 목표를 실현하...</td>\n",
       "    </tr>\n",
       "    <tr>\n",
       "      <th>10105</th>\n",
       "      <td>한국전력 / 인턴[송,배전] / 2013 상반기</td>\n",
       "      <td>지거국 / 전자공학 / 학점 3.7 / 토익 900 / 음악봉사활동, 멘토링등</td>\n",
       "      <td>한전 자가소개서 양식 500자 12줄 이내\\n\\n[질문 1] 취업이라는 목표 이외에...</td>\n",
       "    </tr>\n",
       "    <tr>\n",
       "      <th>10106</th>\n",
       "      <td>한국전력 / 인턴[송,배전] / 2013 상반기</td>\n",
       "      <td>지거국 / 전자공학 / 학점 3.7 / 토익 900 / 음악봉사활동, 멘토링등</td>\n",
       "      <td>한전 자가소개서 양식 500자 12줄 이내\\n\\n[질문 1] 취업이라는 목표 이외에...</td>\n",
       "    </tr>\n",
       "  </tbody>\n",
       "</table>\n",
       "<p>10107 rows × 3 columns</p>\n",
       "</div>"
      ],
      "text/plain": [
       "                                        1  \\\n",
       "0                  한국석유공사 / 설비 / 2020 상반기   \n",
       "1          CJ제일제당 / Food Sales / 2020 상반기   \n",
       "2      한국가스안전공사 / LP가스 안전지킴이사업 / 2020 상반기   \n",
       "3                   코레일 / 사무영업 / 2020 상반기   \n",
       "4               한국기술교육대학교 / 행정 / 2020 상반기   \n",
       "...                                   ...   \n",
       "10102             현대자동차 / 영업관리 / 2013 상반기   \n",
       "10103                심팩 / 용접관리 / 2013 상반기   \n",
       "10104          한국전력 / 인턴[송,배전] / 2013 상반기   \n",
       "10105          한국전력 / 인턴[송,배전] / 2013 상반기   \n",
       "10106          한국전력 / 인턴[송,배전] / 2013 상반기   \n",
       "\n",
       "                                                       2  \\\n",
       "0      광주전자공업고등학교 / 학점 1.7등급 / 인천 글로벌 숙련 진흥원 5일, 선반, ...   \n",
       "1      중경외시 / 상경계열 / 학점 3.92 / 토익 905, 토스 LV 6 / 봉사활동...   \n",
       "2              제주대학교 / 학점 3.3 / 토익830 / 컴퓨터활용능력1급, 한국사1급   \n",
       "3       충남대학교 / 학점 3.87 / 토익 835 / 토론동아리 3년, 컴활1급, 한국사1급   \n",
       "4                 건국대학교 / 학점 4.0 / 토익 780 / 컴활 1급, 한국사1급   \n",
       "...                                                  ...   \n",
       "10102  상명대학교 / 국제통상학 / 학점 4.3 / 토익 900, HSK 6급 / 해외인턴...   \n",
       "10103                             지방전문대 / 공업화학 / 학점 3.06   \n",
       "10104      지거국 / 전자공학 / 학점 3.7 / 토익 900대 / 음악봉사활동, 멘토링 등   \n",
       "10105        지거국 / 전자공학 / 학점 3.7 / 토익 900 / 음악봉사활동, 멘토링등   \n",
       "10106        지거국 / 전자공학 / 학점 3.7 / 토익 900 / 음악봉사활동, 멘토링등   \n",
       "\n",
       "                                                       3  \n",
       "0      7.한국석유공사\\n\\n 1. 지원 분야 직무기술서 ‘직무수행 내용’ 중 본인이 가장...  \n",
       "1      CJ제일제당 및 선택한 직무에 대한 지원동기는 무엇인가요? ① 선택한 직무에 관심을...  \n",
       "2      \\n1. 한국가스안전공사가 진행하는 사업에 관심을 갖고 공사에 지원한 동기에 대해 ...  \n",
       "3      1.공동체의 일원으로서 가장 중요하게 생각하는 가치를 제시하고, 그 가치를 실천했던...  \n",
       "4      1. 본인이 가진 가장 뛰어난 점과 그렇게 판단한 이유, 고용노동연수원 업무수행에서...  \n",
       "...                                                  ...  \n",
       "10102  1. 현대자동차에 지원하게 된 동기 또는 해당 직무에 지원하게 된 동기는 무엇입니까...  \n",
       "10103  성격소개\\n\\n대부분의 사람들이 평가하는 첫인상은 소심하고 내성적인 성격일것이라 생...  \n",
       "10104  [질문 1] 취업이라는 목표 이외에 인생의 큰 목표를 세운 경험, 그 목표를 실현하...  \n",
       "10105  한전 자가소개서 양식 500자 12줄 이내\\n\\n[질문 1] 취업이라는 목표 이외에...  \n",
       "10106  한전 자가소개서 양식 500자 12줄 이내\\n\\n[질문 1] 취업이라는 목표 이외에...  \n",
       "\n",
       "[10107 rows x 3 columns]"
      ]
     },
     "execution_count": 681,
     "metadata": {},
     "output_type": "execute_result"
    }
   ],
   "source": [
    "raw_df"
   ]
  },
  {
   "cell_type": "code",
   "execution_count": 682,
   "metadata": {},
   "outputs": [],
   "source": [
    "df = pd.DataFrame(columns=[\"기업명\",\"지원부서\",\"지원시기\",\"학교\",\"학과\",\"학점\",\"어학\",\"자격증\",\"경험사항\",\"자소서\"])"
   ]
  },
  {
   "cell_type": "code",
   "execution_count": 683,
   "metadata": {},
   "outputs": [],
   "source": [
    "df[\"기업명\"] = raw_df['1'].str.split(\"/\",expand=True)[0]\n",
    "df[\"지원부서\"] = raw_df['1'].str.split(\"/\",expand=True)[1]\n",
    "df[\"지원시기\"] = raw_df['1'].str.split(\"/\",expand=True)[2]\n",
    "df[\"자소서\"] = raw_df[\"3\"]"
   ]
  },
  {
   "cell_type": "code",
   "execution_count": 684,
   "metadata": {
    "scrolled": false
   },
   "outputs": [
    {
     "data": {
      "text/html": [
       "<div>\n",
       "<style scoped>\n",
       "    .dataframe tbody tr th:only-of-type {\n",
       "        vertical-align: middle;\n",
       "    }\n",
       "\n",
       "    .dataframe tbody tr th {\n",
       "        vertical-align: top;\n",
       "    }\n",
       "\n",
       "    .dataframe thead th {\n",
       "        text-align: right;\n",
       "    }\n",
       "</style>\n",
       "<table border=\"1\" class=\"dataframe\">\n",
       "  <thead>\n",
       "    <tr style=\"text-align: right;\">\n",
       "      <th></th>\n",
       "      <th>기업명</th>\n",
       "      <th>지원부서</th>\n",
       "      <th>지원시기</th>\n",
       "      <th>학교</th>\n",
       "      <th>학과</th>\n",
       "      <th>학점</th>\n",
       "      <th>어학</th>\n",
       "      <th>자격증</th>\n",
       "      <th>경험사항</th>\n",
       "      <th>자소서</th>\n",
       "    </tr>\n",
       "  </thead>\n",
       "  <tbody>\n",
       "    <tr>\n",
       "      <th>0</th>\n",
       "      <td>한국석유공사</td>\n",
       "      <td>설비</td>\n",
       "      <td>2020 상반기</td>\n",
       "      <td>NaN</td>\n",
       "      <td>NaN</td>\n",
       "      <td>NaN</td>\n",
       "      <td>NaN</td>\n",
       "      <td>NaN</td>\n",
       "      <td>NaN</td>\n",
       "      <td>7.한국석유공사\\n\\n 1. 지원 분야 직무기술서 ‘직무수행 내용’ 중 본인이 가장...</td>\n",
       "    </tr>\n",
       "    <tr>\n",
       "      <th>1</th>\n",
       "      <td>CJ제일제당</td>\n",
       "      <td>Food Sales</td>\n",
       "      <td>2020 상반기</td>\n",
       "      <td>NaN</td>\n",
       "      <td>NaN</td>\n",
       "      <td>NaN</td>\n",
       "      <td>NaN</td>\n",
       "      <td>NaN</td>\n",
       "      <td>NaN</td>\n",
       "      <td>CJ제일제당 및 선택한 직무에 대한 지원동기는 무엇인가요? ① 선택한 직무에 관심을...</td>\n",
       "    </tr>\n",
       "    <tr>\n",
       "      <th>2</th>\n",
       "      <td>한국가스안전공사</td>\n",
       "      <td>LP가스 안전지킴이사업</td>\n",
       "      <td>2020 상반기</td>\n",
       "      <td>NaN</td>\n",
       "      <td>NaN</td>\n",
       "      <td>NaN</td>\n",
       "      <td>NaN</td>\n",
       "      <td>NaN</td>\n",
       "      <td>NaN</td>\n",
       "      <td>\\n1. 한국가스안전공사가 진행하는 사업에 관심을 갖고 공사에 지원한 동기에 대해 ...</td>\n",
       "    </tr>\n",
       "    <tr>\n",
       "      <th>3</th>\n",
       "      <td>코레일</td>\n",
       "      <td>사무영업</td>\n",
       "      <td>2020 상반기</td>\n",
       "      <td>NaN</td>\n",
       "      <td>NaN</td>\n",
       "      <td>NaN</td>\n",
       "      <td>NaN</td>\n",
       "      <td>NaN</td>\n",
       "      <td>NaN</td>\n",
       "      <td>1.공동체의 일원으로서 가장 중요하게 생각하는 가치를 제시하고, 그 가치를 실천했던...</td>\n",
       "    </tr>\n",
       "    <tr>\n",
       "      <th>4</th>\n",
       "      <td>한국기술교육대학교</td>\n",
       "      <td>행정</td>\n",
       "      <td>2020 상반기</td>\n",
       "      <td>NaN</td>\n",
       "      <td>NaN</td>\n",
       "      <td>NaN</td>\n",
       "      <td>NaN</td>\n",
       "      <td>NaN</td>\n",
       "      <td>NaN</td>\n",
       "      <td>1. 본인이 가진 가장 뛰어난 점과 그렇게 판단한 이유, 고용노동연수원 업무수행에서...</td>\n",
       "    </tr>\n",
       "    <tr>\n",
       "      <th>...</th>\n",
       "      <td>...</td>\n",
       "      <td>...</td>\n",
       "      <td>...</td>\n",
       "      <td>...</td>\n",
       "      <td>...</td>\n",
       "      <td>...</td>\n",
       "      <td>...</td>\n",
       "      <td>...</td>\n",
       "      <td>...</td>\n",
       "      <td>...</td>\n",
       "    </tr>\n",
       "    <tr>\n",
       "      <th>10102</th>\n",
       "      <td>현대자동차</td>\n",
       "      <td>영업관리</td>\n",
       "      <td>2013 상반기</td>\n",
       "      <td>NaN</td>\n",
       "      <td>NaN</td>\n",
       "      <td>NaN</td>\n",
       "      <td>NaN</td>\n",
       "      <td>NaN</td>\n",
       "      <td>NaN</td>\n",
       "      <td>1. 현대자동차에 지원하게 된 동기 또는 해당 직무에 지원하게 된 동기는 무엇입니까...</td>\n",
       "    </tr>\n",
       "    <tr>\n",
       "      <th>10103</th>\n",
       "      <td>심팩</td>\n",
       "      <td>용접관리</td>\n",
       "      <td>2013 상반기</td>\n",
       "      <td>NaN</td>\n",
       "      <td>NaN</td>\n",
       "      <td>NaN</td>\n",
       "      <td>NaN</td>\n",
       "      <td>NaN</td>\n",
       "      <td>NaN</td>\n",
       "      <td>성격소개\\n\\n대부분의 사람들이 평가하는 첫인상은 소심하고 내성적인 성격일것이라 생...</td>\n",
       "    </tr>\n",
       "    <tr>\n",
       "      <th>10104</th>\n",
       "      <td>한국전력</td>\n",
       "      <td>인턴[송,배전]</td>\n",
       "      <td>2013 상반기</td>\n",
       "      <td>NaN</td>\n",
       "      <td>NaN</td>\n",
       "      <td>NaN</td>\n",
       "      <td>NaN</td>\n",
       "      <td>NaN</td>\n",
       "      <td>NaN</td>\n",
       "      <td>[질문 1] 취업이라는 목표 이외에 인생의 큰 목표를 세운 경험, 그 목표를 실현하...</td>\n",
       "    </tr>\n",
       "    <tr>\n",
       "      <th>10105</th>\n",
       "      <td>한국전력</td>\n",
       "      <td>인턴[송,배전]</td>\n",
       "      <td>2013 상반기</td>\n",
       "      <td>NaN</td>\n",
       "      <td>NaN</td>\n",
       "      <td>NaN</td>\n",
       "      <td>NaN</td>\n",
       "      <td>NaN</td>\n",
       "      <td>NaN</td>\n",
       "      <td>한전 자가소개서 양식 500자 12줄 이내\\n\\n[질문 1] 취업이라는 목표 이외에...</td>\n",
       "    </tr>\n",
       "    <tr>\n",
       "      <th>10106</th>\n",
       "      <td>한국전력</td>\n",
       "      <td>인턴[송,배전]</td>\n",
       "      <td>2013 상반기</td>\n",
       "      <td>NaN</td>\n",
       "      <td>NaN</td>\n",
       "      <td>NaN</td>\n",
       "      <td>NaN</td>\n",
       "      <td>NaN</td>\n",
       "      <td>NaN</td>\n",
       "      <td>한전 자가소개서 양식 500자 12줄 이내\\n\\n[질문 1] 취업이라는 목표 이외에...</td>\n",
       "    </tr>\n",
       "  </tbody>\n",
       "</table>\n",
       "<p>10107 rows × 10 columns</p>\n",
       "</div>"
      ],
      "text/plain": [
       "              기업명            지원부서       지원시기   학교   학과   학점   어학  자격증 경험사항  \\\n",
       "0         한국석유공사              설비    2020 상반기  NaN  NaN  NaN  NaN  NaN  NaN   \n",
       "1         CJ제일제당      Food Sales    2020 상반기  NaN  NaN  NaN  NaN  NaN  NaN   \n",
       "2       한국가스안전공사    LP가스 안전지킴이사업    2020 상반기  NaN  NaN  NaN  NaN  NaN  NaN   \n",
       "3            코레일            사무영업    2020 상반기  NaN  NaN  NaN  NaN  NaN  NaN   \n",
       "4      한국기술교육대학교              행정    2020 상반기  NaN  NaN  NaN  NaN  NaN  NaN   \n",
       "...           ...             ...        ...  ...  ...  ...  ...  ...  ...   \n",
       "10102      현대자동차            영업관리    2013 상반기  NaN  NaN  NaN  NaN  NaN  NaN   \n",
       "10103         심팩            용접관리    2013 상반기  NaN  NaN  NaN  NaN  NaN  NaN   \n",
       "10104       한국전력        인턴[송,배전]    2013 상반기  NaN  NaN  NaN  NaN  NaN  NaN   \n",
       "10105       한국전력        인턴[송,배전]    2013 상반기  NaN  NaN  NaN  NaN  NaN  NaN   \n",
       "10106       한국전력        인턴[송,배전]    2013 상반기  NaN  NaN  NaN  NaN  NaN  NaN   \n",
       "\n",
       "                                                     자소서  \n",
       "0      7.한국석유공사\\n\\n 1. 지원 분야 직무기술서 ‘직무수행 내용’ 중 본인이 가장...  \n",
       "1      CJ제일제당 및 선택한 직무에 대한 지원동기는 무엇인가요? ① 선택한 직무에 관심을...  \n",
       "2      \\n1. 한국가스안전공사가 진행하는 사업에 관심을 갖고 공사에 지원한 동기에 대해 ...  \n",
       "3      1.공동체의 일원으로서 가장 중요하게 생각하는 가치를 제시하고, 그 가치를 실천했던...  \n",
       "4      1. 본인이 가진 가장 뛰어난 점과 그렇게 판단한 이유, 고용노동연수원 업무수행에서...  \n",
       "...                                                  ...  \n",
       "10102  1. 현대자동차에 지원하게 된 동기 또는 해당 직무에 지원하게 된 동기는 무엇입니까...  \n",
       "10103  성격소개\\n\\n대부분의 사람들이 평가하는 첫인상은 소심하고 내성적인 성격일것이라 생...  \n",
       "10104  [질문 1] 취업이라는 목표 이외에 인생의 큰 목표를 세운 경험, 그 목표를 실현하...  \n",
       "10105  한전 자가소개서 양식 500자 12줄 이내\\n\\n[질문 1] 취업이라는 목표 이외에...  \n",
       "10106  한전 자가소개서 양식 500자 12줄 이내\\n\\n[질문 1] 취업이라는 목표 이외에...  \n",
       "\n",
       "[10107 rows x 10 columns]"
      ]
     },
     "execution_count": 684,
     "metadata": {},
     "output_type": "execute_result"
    }
   ],
   "source": [
    "df"
   ]
  },
  {
   "cell_type": "code",
   "execution_count": 685,
   "metadata": {},
   "outputs": [],
   "source": [
    "first = raw_df[\"2\"].str.split(\"/\",expand=True)[0]\n",
    "second = raw_df[\"2\"].str.split(\"/\",expand=True)[1]\n",
    "third = raw_df[\"2\"].str.split(\"/\",expand=True)[2]\n",
    "#raw_df[\"2\"].str.split(\"/\",expand=True)[3]\n",
    "#raw_df[\"2\"].str.split(\"/\",expand=True)[4]\n",
    "#raw_df[\"2\"].str.split(\"/\",expand=True)[5]"
   ]
  },
  {
   "cell_type": "code",
   "execution_count": 686,
   "metadata": {},
   "outputs": [
    {
     "data": {
      "text/plain": [
       "0        광주전자공업고등학교 \n",
       "1              중경외시 \n",
       "2             제주대학교 \n",
       "3             충남대학교 \n",
       "4             건국대학교 \n",
       "            ...     \n",
       "10102         상명대학교 \n",
       "10103         지방전문대 \n",
       "10104           지거국 \n",
       "10105           지거국 \n",
       "10106           지거국 \n",
       "Name: 0, Length: 10107, dtype: object"
      ]
     },
     "execution_count": 686,
     "metadata": {},
     "output_type": "execute_result"
    }
   ],
   "source": [
    "first"
   ]
  },
  {
   "cell_type": "code",
   "execution_count": 687,
   "metadata": {
    "scrolled": true
   },
   "outputs": [
    {
     "data": {
      "text/plain": [
       "15"
      ]
     },
     "execution_count": 687,
     "metadata": {},
     "output_type": "execute_result"
    }
   ],
   "source": [
    "len(first[first.str.contains(\"고등학교\")==True])"
   ]
  },
  {
   "cell_type": "code",
   "execution_count": 688,
   "metadata": {},
   "outputs": [],
   "source": [
    "first[first.str.contains(\"고등학교\")==True] = \"고등학교졸업\""
   ]
  },
  {
   "cell_type": "code",
   "execution_count": 689,
   "metadata": {},
   "outputs": [
    {
     "data": {
      "text/plain": [
       "1018"
      ]
     },
     "execution_count": 689,
     "metadata": {},
     "output_type": "execute_result"
    }
   ],
   "source": [
    "len(first[first.str.contains(\"지방\")==True])"
   ]
  },
  {
   "cell_type": "code",
   "execution_count": 690,
   "metadata": {},
   "outputs": [],
   "source": [
    "first[first.str.contains(\"해외\")==True] = \"해외대\""
   ]
  },
  {
   "cell_type": "code",
   "execution_count": 691,
   "metadata": {},
   "outputs": [],
   "source": [
    "first[first.str.contains(\"미국\")==True]= \"해외대(미국)\""
   ]
  },
  {
   "cell_type": "code",
   "execution_count": 692,
   "metadata": {},
   "outputs": [],
   "source": [
    "first[first.str.contains(\"중국\")==True]=\"해외대(중국)\""
   ]
  },
  {
   "cell_type": "code",
   "execution_count": 693,
   "metadata": {},
   "outputs": [],
   "source": [
    "first[first.str.contains(\"외국대학\")==True]=\"해외대\""
   ]
  },
  {
   "cell_type": "code",
   "execution_count": 694,
   "metadata": {},
   "outputs": [],
   "source": [
    "first[first.str.contains(\"외국대\")==True]=\"해외대\""
   ]
  },
  {
   "cell_type": "code",
   "execution_count": 695,
   "metadata": {},
   "outputs": [],
   "source": [
    "first[first.str.contains(\"북경외국\")==True]=\"해외대(중국)\""
   ]
  },
  {
   "cell_type": "code",
   "execution_count": 696,
   "metadata": {},
   "outputs": [],
   "source": [
    "first[first.str.contains(\"외국4년제\")==True]=\"해외대\""
   ]
  },
  {
   "cell_type": "code",
   "execution_count": 697,
   "metadata": {},
   "outputs": [],
   "source": [
    "first[first.str.contains(\"외국계\")==True]=\"해외대\""
   ]
  },
  {
   "cell_type": "code",
   "execution_count": 698,
   "metadata": {},
   "outputs": [],
   "source": [
    "first[first.str.contains(\"일본\")==True]=\"해외대(일본)\""
   ]
  },
  {
   "cell_type": "code",
   "execution_count": 699,
   "metadata": {},
   "outputs": [],
   "source": [
    "first[first.str.contains(\"영국\")==True]=\"해외대(영국)\""
   ]
  },
  {
   "cell_type": "code",
   "execution_count": 700,
   "metadata": {},
   "outputs": [
    {
     "data": {
      "text/plain": [
       "16            Valdosta State University \n",
       "651           Valdosta State University \n",
       "1043            Pennsylvania State Uni. \n",
       "1108           Pennsylvania State Univ. \n",
       "1134            Pennsylvania State Uni. \n",
       "1188           Pennsylvania State Univ. \n",
       "1208           Pennsylvania State Univ. \n",
       "1639                                USC \n",
       "1777                                USC \n",
       "2195    University of Technology,sydney \n",
       "2307                Kingston University \n",
       "2355    University of Technology,sydney \n",
       "2466                Kingston University \n",
       "3133          Kingston University Lodon \n",
       "3235          Kingston University Lodon \n",
       "3359                              UNIST \n",
       "3477                              UNIST \n",
       "5276                              UNIST \n",
       "5301                              UNIST \n",
       "5321                              UNIST \n",
       "5424                              UNIST \n",
       "5444                              UNIST \n",
       "5477                              UNIST \n",
       "5653                     U. of Illinois \n",
       "8769              Kyrgyz National Univ. \n",
       "Name: 0, dtype: object"
      ]
     },
     "execution_count": 700,
     "metadata": {},
     "output_type": "execute_result"
    }
   ],
   "source": [
    "first[first.str.contains(\"U\")==True]"
   ]
  },
  {
   "cell_type": "code",
   "execution_count": 701,
   "metadata": {},
   "outputs": [],
   "source": [
    "first[first.str.contains(\"Valdosta State University\")==True]=\"해외대(미국)\""
   ]
  },
  {
   "cell_type": "code",
   "execution_count": 702,
   "metadata": {},
   "outputs": [],
   "source": [
    "first[first.str.contains(\"Pennsylvania\")==True]=\"해외대(미국)\""
   ]
  },
  {
   "cell_type": "code",
   "execution_count": 703,
   "metadata": {},
   "outputs": [],
   "source": [
    "first[first.str.contains(\"USC\")==True]=\"해외대(미국)\""
   ]
  },
  {
   "cell_type": "code",
   "execution_count": 704,
   "metadata": {},
   "outputs": [],
   "source": [
    "first[first.str.contains(\"sydney\")==True]=\"해외대(호주)\""
   ]
  },
  {
   "cell_type": "code",
   "execution_count": 705,
   "metadata": {},
   "outputs": [],
   "source": [
    "first[first.str.contains(\"Lodon\")==True]=\"해외대(영국)\""
   ]
  },
  {
   "cell_type": "code",
   "execution_count": 706,
   "metadata": {},
   "outputs": [],
   "source": [
    "first[first.str.contains(\"Illinois\")==True]=\"해외대(미국)\""
   ]
  },
  {
   "cell_type": "code",
   "execution_count": 707,
   "metadata": {},
   "outputs": [],
   "source": [
    "first[first.str.contains(\"University\")==True]=\"해외대\""
   ]
  },
  {
   "cell_type": "code",
   "execution_count": 708,
   "metadata": {},
   "outputs": [],
   "source": [
    "first[first.str.contains(\"Kyrgyz\")==True]=\"해외대\""
   ]
  },
  {
   "cell_type": "code",
   "execution_count": 709,
   "metadata": {},
   "outputs": [
    {
     "data": {
      "text/plain": [
       "288"
      ]
     },
     "execution_count": 709,
     "metadata": {},
     "output_type": "execute_result"
    }
   ],
   "source": [
    "len(first[first.str.contains(\"해외대\")==True])"
   ]
  },
  {
   "cell_type": "code",
   "execution_count": 710,
   "metadata": {},
   "outputs": [
    {
     "data": {
      "text/plain": [
       "0          고등학교졸업\n",
       "2          제주대학교 \n",
       "3          충남대학교 \n",
       "4          건국대학교 \n",
       "6          한경대학교 \n",
       "           ...   \n",
       "10093      동아대학교 \n",
       "10094      경북대학교 \n",
       "10099      경성대학교 \n",
       "10101    부산경상대학교 \n",
       "10102      상명대학교 \n",
       "Name: 0, Length: 2356, dtype: object"
      ]
     },
     "execution_count": 710,
     "metadata": {},
     "output_type": "execute_result"
    }
   ],
   "source": [
    "first[first.str.contains(\"학\")==True]"
   ]
  },
  {
   "cell_type": "code",
   "execution_count": 711,
   "metadata": {},
   "outputs": [],
   "source": [
    "first[first.str.contains(\"o\")==True]=\"해외대\""
   ]
  },
  {
   "cell_type": "code",
   "execution_count": 712,
   "metadata": {},
   "outputs": [],
   "source": [
    "first[first.str.contains(\"W\")==True]=\"광운대학교\""
   ]
  },
  {
   "cell_type": "code",
   "execution_count": 713,
   "metadata": {},
   "outputs": [],
   "source": [
    "first[first.str.contains(\"h\")==True]=\"경희대학교\""
   ]
  },
  {
   "cell_type": "code",
   "execution_count": 714,
   "metadata": {
    "scrolled": true
   },
   "outputs": [
    {
     "data": {
      "text/plain": [
       "290"
      ]
     },
     "execution_count": 714,
     "metadata": {},
     "output_type": "execute_result"
    }
   ],
   "source": [
    "len(first[first.str.contains(\"해외\")==True])"
   ]
  },
  {
   "cell_type": "code",
   "execution_count": 715,
   "metadata": {},
   "outputs": [],
   "source": [
    "first[first.str.contains(\"지거국\")==True]=\"지방거점국립대\""
   ]
  },
  {
   "cell_type": "code",
   "execution_count": 716,
   "metadata": {},
   "outputs": [],
   "source": [
    "first[first.str.contains(\"지거\")==True]=\"지방거점국립대\""
   ]
  },
  {
   "cell_type": "code",
   "execution_count": 717,
   "metadata": {},
   "outputs": [],
   "source": [
    "first[first.str.contains(\"강원\")==True]=\"지방거점국립대(강원대학교)\""
   ]
  },
  {
   "cell_type": "code",
   "execution_count": 718,
   "metadata": {},
   "outputs": [],
   "source": [
    "first[first.str.contains(\"대학원\")==True]=\"대학원\""
   ]
  },
  {
   "cell_type": "code",
   "execution_count": 719,
   "metadata": {},
   "outputs": [],
   "source": [
    "first[first.str.contains(\"충북\")==True]=\"지방거점국립대(충북대학교)\""
   ]
  },
  {
   "cell_type": "code",
   "execution_count": 720,
   "metadata": {},
   "outputs": [],
   "source": [
    "first[first.str.contains(\"충남\")==True]=\"지방거점국립대(충남대학교)\""
   ]
  },
  {
   "cell_type": "code",
   "execution_count": 721,
   "metadata": {},
   "outputs": [],
   "source": [
    "first[first.str.contains(\"전북\")==True]=\"지방거점국립대(전북대학교)\""
   ]
  },
  {
   "cell_type": "code",
   "execution_count": 722,
   "metadata": {},
   "outputs": [],
   "source": [
    "first[first.str.contains(\"전남\")==True]=\"지방거점국립대(전남대학교)\""
   ]
  },
  {
   "cell_type": "code",
   "execution_count": 723,
   "metadata": {},
   "outputs": [],
   "source": [
    "first[first.str.contains(\"경북대\")==True]=\"지방거점국립대(경북대학교)\""
   ]
  },
  {
   "cell_type": "code",
   "execution_count": 724,
   "metadata": {},
   "outputs": [],
   "source": [
    "first[first.str.contains(\"부산대\")==True]=\"지방거점국립대(부산대학교)\""
   ]
  },
  {
   "cell_type": "code",
   "execution_count": 725,
   "metadata": {},
   "outputs": [],
   "source": [
    "first[first.str.contains(\"제주\")==True]=\"지방거점국립대(제주대학교)\""
   ]
  },
  {
   "cell_type": "code",
   "execution_count": 726,
   "metadata": {},
   "outputs": [
    {
     "data": {
      "text/plain": [
       "2        지방거점국립대(제주대학교)\n",
       "3        지방거점국립대(충남대학교)\n",
       "8        지방거점국립대(충남대학교)\n",
       "12       지방거점국립대(전북대학교)\n",
       "30       지방거점국립대(전북대학교)\n",
       "              ...      \n",
       "10094    지방거점국립대(경북대학교)\n",
       "10096           지방거점국립대\n",
       "10104           지방거점국립대\n",
       "10105           지방거점국립대\n",
       "10106           지방거점국립대\n",
       "Name: 0, Length: 1067, dtype: object"
      ]
     },
     "execution_count": 726,
     "metadata": {},
     "output_type": "execute_result"
    }
   ],
   "source": [
    "first[first.str.contains(\"지방거점국립대\")==True]"
   ]
  },
  {
   "cell_type": "code",
   "execution_count": 727,
   "metadata": {},
   "outputs": [],
   "source": [
    "first[first.str.contains(\"강릉\")==True]=\"지방국립대(강릉대학교)\""
   ]
  },
  {
   "cell_type": "code",
   "execution_count": 728,
   "metadata": {},
   "outputs": [],
   "source": [
    "first[first.str.contains(\"공주\")==True]=\"지방국립대(공주대학교)\""
   ]
  },
  {
   "cell_type": "code",
   "execution_count": 729,
   "metadata": {},
   "outputs": [],
   "source": [
    "first[first.str.contains(\"해양\")==True]=\"지방국립대(한국해양대학교)\""
   ]
  },
  {
   "cell_type": "code",
   "execution_count": 730,
   "metadata": {},
   "outputs": [],
   "source": [
    "first[first.str.contains(\"부경\")==True]=\"지방국립대(부경대학교)\""
   ]
  },
  {
   "cell_type": "code",
   "execution_count": 731,
   "metadata": {},
   "outputs": [],
   "source": [
    "first[first.str.contains(\"순천대학교\")==True]=\"지방국립대(순천대학교)\""
   ]
  },
  {
   "cell_type": "code",
   "execution_count": 732,
   "metadata": {},
   "outputs": [],
   "source": [
    "first[first.str.contains(\"순천향\")==True]=\"지방사립대(순천향대학교)\""
   ]
  },
  {
   "cell_type": "code",
   "execution_count": 733,
   "metadata": {},
   "outputs": [],
   "source": [
    "first[first.str.contains(\"인천대\")==True]=\"지방국립대(인천대학교)\""
   ]
  },
  {
   "cell_type": "code",
   "execution_count": 734,
   "metadata": {},
   "outputs": [],
   "source": [
    "first[first.str.contains(\"창원\")==True]=\"지방국립대(창원대학교)\""
   ]
  },
  {
   "cell_type": "code",
   "execution_count": 735,
   "metadata": {},
   "outputs": [],
   "source": [
    "first[first.str.contains(\"한국교통\")==True]=\"지방국립대(한국교통대학교)\""
   ]
  },
  {
   "cell_type": "code",
   "execution_count": 736,
   "metadata": {},
   "outputs": [],
   "source": [
    "first[first.str.contains(\"한경\")==True]=\"지방국립대(한경대학교)\""
   ]
  },
  {
   "cell_type": "code",
   "execution_count": 737,
   "metadata": {},
   "outputs": [],
   "source": [
    "first[first.str.contains(\"한밭\")==True]=\"지방국립대(한밭대학교)\""
   ]
  },
  {
   "cell_type": "code",
   "execution_count": 738,
   "metadata": {},
   "outputs": [],
   "source": [
    "first[first.str.contains(\"금오\")==True]=\"지방국립대(금오공과대학교)\""
   ]
  },
  {
   "cell_type": "code",
   "execution_count": 739,
   "metadata": {},
   "outputs": [],
   "source": [
    "first[first.str.contains(\"광주\")==True]=\"지방사립대(광주대학교)\""
   ]
  },
  {
   "cell_type": "code",
   "execution_count": 740,
   "metadata": {},
   "outputs": [],
   "source": [
    "first[first.str.contains(\"경남대학교\")==True]=\"지방사립대(경남대학교)\""
   ]
  },
  {
   "cell_type": "code",
   "execution_count": 741,
   "metadata": {},
   "outputs": [],
   "source": [
    "first[first.str.contains(\"부산가톨릭\")==True]=\"지방사립대(부산가톨릭대학교)\""
   ]
  },
  {
   "cell_type": "code",
   "execution_count": 742,
   "metadata": {},
   "outputs": [],
   "source": [
    "first[first.str.contains(\"영남\")==True]=\"지방사립대(영남대학교)\""
   ]
  },
  {
   "cell_type": "code",
   "execution_count": 743,
   "metadata": {},
   "outputs": [],
   "source": [
    "first[first.str.contains(\"울산대\")==True]=\"지방사립대(울산대학교)\""
   ]
  },
  {
   "cell_type": "code",
   "execution_count": 744,
   "metadata": {},
   "outputs": [],
   "source": [
    "first[first.str.contains(\"동아대\")==True]=\"지방사립대(동아대학교)\""
   ]
  },
  {
   "cell_type": "code",
   "execution_count": 745,
   "metadata": {},
   "outputs": [],
   "source": [
    "first[first.str.contains(\"조선대\")==True]=\"지방사립대(조선대학교)\""
   ]
  },
  {
   "cell_type": "code",
   "execution_count": 746,
   "metadata": {},
   "outputs": [],
   "source": [
    "first[first.str.contains(\"원광대\")==True]=\"지방사립대(원광대학교)\""
   ]
  },
  {
   "cell_type": "code",
   "execution_count": 747,
   "metadata": {},
   "outputs": [],
   "source": [
    "first[first.str.contains(\"계명\")==True]=\"지방사립대(계명대학교)\""
   ]
  },
  {
   "cell_type": "code",
   "execution_count": 748,
   "metadata": {},
   "outputs": [],
   "source": [
    "first[first.str.contains(\"한남\")==True]=\"지방사립대(한남대학교)\""
   ]
  },
  {
   "cell_type": "code",
   "execution_count": 749,
   "metadata": {},
   "outputs": [],
   "source": [
    "first[first.str.contains(\"폴리\")==True]=\"2년제(한국폴리텍대학)\""
   ]
  },
  {
   "cell_type": "code",
   "execution_count": 750,
   "metadata": {},
   "outputs": [],
   "source": [
    "first[first.str.contains(\"경인\")==True]=\"지방국립대\""
   ]
  },
  {
   "cell_type": "code",
   "execution_count": 751,
   "metadata": {},
   "outputs": [],
   "source": [
    "first[first.str.contains(\"교육\")==True]=\"지방사립대(한국기술교육대학교)\""
   ]
  },
  {
   "cell_type": "code",
   "execution_count": 752,
   "metadata": {},
   "outputs": [
    {
     "data": {
      "text/plain": [
       "220      지방국립대(인천대학교)\n",
       "232      지방국립대(인천대학교)\n",
       "240      지방국립대(인천대학교)\n",
       "252      지방국립대(인천대학교)\n",
       "322      지방국립대(인천대학교)\n",
       "             ...     \n",
       "9969     지방국립대(인천대학교)\n",
       "9998     지방국립대(인천대학교)\n",
       "10018    지방국립대(인천대학교)\n",
       "10023    지방국립대(인천대학교)\n",
       "10043    지방국립대(인천대학교)\n",
       "Name: 0, Length: 103, dtype: object"
      ]
     },
     "execution_count": 752,
     "metadata": {},
     "output_type": "execute_result"
    }
   ],
   "source": [
    "first[first.str.contains(\"인천\")==True]"
   ]
  },
  {
   "cell_type": "code",
   "execution_count": 753,
   "metadata": {},
   "outputs": [],
   "source": [
    "first[first.str.contains(\"인제\")==True]=\"지방사립대(인제대학교)\""
   ]
  },
  {
   "cell_type": "code",
   "execution_count": 754,
   "metadata": {},
   "outputs": [
    {
     "data": {
      "text/plain": [
       "6          지방국립대(한경대학교)\n",
       "7          지방국립대(한경대학교)\n",
       "13         지방국립대(순천대학교)\n",
       "15       지방국립대(금오공과대학교)\n",
       "19         지방국립대(창원대학교)\n",
       "              ...      \n",
       "10032            지방국립대 \n",
       "10042            지방국립대 \n",
       "10043      지방국립대(인천대학교)\n",
       "10052            지방국립대 \n",
       "10089             지방국립 \n",
       "Name: 0, Length: 564, dtype: object"
      ]
     },
     "execution_count": 754,
     "metadata": {},
     "output_type": "execute_result"
    }
   ],
   "source": [
    "first[first.str.contains(\"지방국립\")==True]"
   ]
  },
  {
   "cell_type": "code",
   "execution_count": 755,
   "metadata": {},
   "outputs": [],
   "source": [
    "first[first.str.contains(\"2년제\")==True]=\"전문대\""
   ]
  },
  {
   "cell_type": "code",
   "execution_count": 756,
   "metadata": {},
   "outputs": [],
   "source": [
    "first[first.str.contains(\"수도권 2년\")==True]=\"2년제\""
   ]
  },
  {
   "cell_type": "code",
   "execution_count": 757,
   "metadata": {},
   "outputs": [],
   "source": [
    "first[first.str.contains(\"전문\")==True]=\"전문대\""
   ]
  },
  {
   "cell_type": "code",
   "execution_count": 758,
   "metadata": {},
   "outputs": [],
   "source": [
    "first[first.str.contains(\"서울과학\")==True]=\"서울국립대(서울과학기술대학교)\""
   ]
  },
  {
   "cell_type": "code",
   "execution_count": 759,
   "metadata": {},
   "outputs": [],
   "source": [
    "first[first.str.contains(\"서울시립\")==True]=\"서울공립대(서울시립대학교)\""
   ]
  },
  {
   "cell_type": "code",
   "execution_count": 760,
   "metadata": {},
   "outputs": [
    {
     "data": {
      "text/plain": [
       "29       서울국립대(서울과학기술대학교)\n",
       "32       서울국립대(서울과학기술대학교)\n",
       "47       서울국립대(서울과학기술대학교)\n",
       "54       서울국립대(서울과학기술대학교)\n",
       "74       서울국립대(서울과학기술대학교)\n",
       "               ...       \n",
       "8716     서울국립대(서울과학기술대학교)\n",
       "9944     서울국립대(서울과학기술대학교)\n",
       "9968     서울국립대(서울과학기술대학교)\n",
       "9993     서울국립대(서울과학기술대학교)\n",
       "10013    서울국립대(서울과학기술대학교)\n",
       "Name: 0, Length: 65, dtype: object"
      ]
     },
     "execution_count": 760,
     "metadata": {},
     "output_type": "execute_result"
    }
   ],
   "source": [
    "first[first.str.contains(\"서울국립대\")==True]"
   ]
  },
  {
   "cell_type": "code",
   "execution_count": 761,
   "metadata": {},
   "outputs": [],
   "source": [
    "first[first.str.contains(\"인서울대학\")==True]=\"서울사립대\""
   ]
  },
  {
   "cell_type": "code",
   "execution_count": 762,
   "metadata": {},
   "outputs": [],
   "source": [
    "first[first.str.contains(\"서울대\")==True]=\"서울대학교\""
   ]
  },
  {
   "cell_type": "code",
   "execution_count": 763,
   "metadata": {},
   "outputs": [],
   "source": [
    "first[first.str.contains(\"부산가톨릭\")==True]=\"지방사립대(부산가톨릭대학교)\""
   ]
  },
  {
   "cell_type": "code",
   "execution_count": 764,
   "metadata": {},
   "outputs": [
    {
     "data": {
      "text/plain": [
       "34                가톨릭대 \n",
       "56                가톨릭대 \n",
       "78                가톨릭대 \n",
       "203             가톨릭대학교 \n",
       "230               가톨릭대 \n",
       "236             가톨릭대학교 \n",
       "250               가톨릭대 \n",
       "256             가톨릭대학교 \n",
       "292             가톨릭대학교 \n",
       "324               가톨릭대 \n",
       "326             가톨릭대학교 \n",
       "385             가톨릭대학교 \n",
       "408               가톨릭대 \n",
       "441               가톨릭대 \n",
       "525               가톨릭대 \n",
       "584               가톨릭대 \n",
       "594             가톨릭대학교 \n",
       "604               가톨릭대 \n",
       "614             가톨릭대학교 \n",
       "639             가톨릭대학교 \n",
       "658             가톨릭대학교 \n",
       "663               가톨릭대 \n",
       "680               가톨릭대 \n",
       "690             가톨릭대학교 \n",
       "715             가톨릭대학교 \n",
       "735             가톨릭대학교 \n",
       "748             가톨릭대학교 \n",
       "754               가톨릭대 \n",
       "1100            가톨릭대학교 \n",
       "1171            가톨릭대학교 \n",
       "1222            가톨릭대학교 \n",
       "1275            가톨릭대학교 \n",
       "1276            가톨릭대학교 \n",
       "1365            가톨릭대학교 \n",
       "1367            가톨릭대학교 \n",
       "1552              가톨릭대 \n",
       "1572              가톨릭대 \n",
       "1636              가톨릭대 \n",
       "1776              가톨릭대 \n",
       "2306            가톨릭대학교 \n",
       "2465            가톨릭대학교 \n",
       "2600    지방사립대(부산가톨릭대학교)\n",
       "2621    지방사립대(부산가톨릭대학교)\n",
       "2641    지방사립대(부산가톨릭대학교)\n",
       "2738              가톨릭대 \n",
       "2824              가톨릭대 \n",
       "2865              가톨릭대 \n",
       "2866              가톨릭대 \n",
       "2885              가톨릭대 \n",
       "2886              가톨릭대 \n",
       "3111              가톨릭대 \n",
       "3207              가톨릭대 \n",
       "9390            가톨릭대학교 \n",
       "9614            가톨릭대학교 \n",
       "Name: 0, dtype: object"
      ]
     },
     "execution_count": 764,
     "metadata": {},
     "output_type": "execute_result"
    }
   ],
   "source": [
    "# 부산카톨릭 지우고 싶음\n",
    "first[first.str.contains(\"가톨릭대\")==True]"
   ]
  },
  {
   "cell_type": "code",
   "execution_count": 765,
   "metadata": {},
   "outputs": [],
   "source": [
    "first[first.str.contains(\"건국\")==True]=\"서울사립대(건국대학교)\""
   ]
  },
  {
   "cell_type": "code",
   "execution_count": 766,
   "metadata": {},
   "outputs": [],
   "source": [
    "first[first.str.contains(\"경기대\")==True]=\"서울사립대(경기대학교)\""
   ]
  },
  {
   "cell_type": "code",
   "execution_count": 767,
   "metadata": {},
   "outputs": [],
   "source": [
    "first[first.str.contains(\"경희대\")==True]=\"서울사립대(경희대학교)\""
   ]
  },
  {
   "cell_type": "code",
   "execution_count": 768,
   "metadata": {},
   "outputs": [],
   "source": [
    "first[first.str.contains(\"고려대\")==True]=\"서울사립대(고려대학교)\""
   ]
  },
  {
   "cell_type": "code",
   "execution_count": 769,
   "metadata": {},
   "outputs": [],
   "source": [
    "first[first.str.contains(\"광운\")==True]=\"서울사립대(광운대학교)\""
   ]
  },
  {
   "cell_type": "code",
   "execution_count": 770,
   "metadata": {},
   "outputs": [],
   "source": [
    "first[first.str.contains(\"국민\")==True]=\"서울사립대(국민대학교)\""
   ]
  },
  {
   "cell_type": "code",
   "execution_count": 771,
   "metadata": {},
   "outputs": [],
   "source": [
    "first[first.str.contains(\"덕성\")==True]=\"서울사립대(덕성여자대학교)\""
   ]
  },
  {
   "cell_type": "code",
   "execution_count": 772,
   "metadata": {},
   "outputs": [],
   "source": [
    "first[first.str.contains(\"동국대\")==True]=\"서울사립대(동국대학교)\""
   ]
  },
  {
   "cell_type": "code",
   "execution_count": 773,
   "metadata": {},
   "outputs": [],
   "source": [
    "first[first.str.contains(\"동덕\")==True]=\"서울사립대(동덕여자대학교)\""
   ]
  },
  {
   "cell_type": "code",
   "execution_count": 774,
   "metadata": {},
   "outputs": [],
   "source": [
    "first[first.str.contains(\"명지\")==True]=\"서울사립대(명지대학교)\""
   ]
  },
  {
   "cell_type": "code",
   "execution_count": 775,
   "metadata": {},
   "outputs": [],
   "source": [
    "first[first.str.contains(\"삼육\")==True]=\"서울사립대(삼육대학교)\""
   ]
  },
  {
   "cell_type": "code",
   "execution_count": 776,
   "metadata": {},
   "outputs": [],
   "source": [
    "first[first.str.contains(\"천안\")==True]=\"지방사립대(상명대학교)\""
   ]
  },
  {
   "cell_type": "code",
   "execution_count": 777,
   "metadata": {},
   "outputs": [
    {
     "data": {
      "text/plain": [
       "1021           상명대학교 \n",
       "2309           상명대학교 \n",
       "2467           상명대학교 \n",
       "5263     지방사립대(상명대학교)\n",
       "5412     지방사립대(상명대학교)\n",
       "7236           상명대학교 \n",
       "7256           상명대학교 \n",
       "10102          상명대학교 \n",
       "Name: 0, dtype: object"
      ]
     },
     "execution_count": 777,
     "metadata": {},
     "output_type": "execute_result"
    }
   ],
   "source": [
    "#상명대 =-> 서울캠 적고싶음\n",
    "first[first.str.contains(\"상명\")==True]"
   ]
  },
  {
   "cell_type": "code",
   "execution_count": 778,
   "metadata": {},
   "outputs": [],
   "source": [
    "first[first.str.contains(\"서강\")==True]=\"서울사립대(서강대학교)\""
   ]
  },
  {
   "cell_type": "code",
   "execution_count": 779,
   "metadata": {},
   "outputs": [],
   "source": [
    "first[first.str.contains(\"서경\")==True]=\"서울사립대(서경대학교)\""
   ]
  },
  {
   "cell_type": "code",
   "execution_count": 780,
   "metadata": {},
   "outputs": [],
   "source": [
    "first[first.str.contains(\"성신\")==True]=\"서울사립대(성신여자대학교)\""
   ]
  },
  {
   "cell_type": "code",
   "execution_count": 781,
   "metadata": {},
   "outputs": [],
   "source": [
    "first[first.str.contains(\"인서울 여자대학교\")==True]=\"서울사립대(성신여자대학교)\""
   ]
  },
  {
   "cell_type": "code",
   "execution_count": 782,
   "metadata": {},
   "outputs": [],
   "source": [
    "first[first.str.contains(\"숙명\")==True]=\"서울사립대(숙명여자대학교)\""
   ]
  },
  {
   "cell_type": "code",
   "execution_count": 783,
   "metadata": {},
   "outputs": [],
   "source": [
    "first[first.str.contains(\"홍익대학교 세종캠퍼스\")==True]=\"지방사립대(홍익대학교)\""
   ]
  },
  {
   "cell_type": "code",
   "execution_count": 784,
   "metadata": {},
   "outputs": [],
   "source": [
    "first[first.str.contains(\"고대 세종\")==True]=\"지방사립대(고려대학교)\""
   ]
  },
  {
   "cell_type": "code",
   "execution_count": 785,
   "metadata": {},
   "outputs": [],
   "source": [
    "first[first.str.contains(\"세종\")==True]=\"서울사립대(세종대학교)\""
   ]
  },
  {
   "cell_type": "code",
   "execution_count": 786,
   "metadata": {},
   "outputs": [],
   "source": [
    "first[first.str.contains(\"숭실\")==True]=\"서울사립대(숭실대학교)\""
   ]
  },
  {
   "cell_type": "code",
   "execution_count": 787,
   "metadata": {},
   "outputs": [],
   "source": [
    "first[first.str.contains(\"연세\")==True]=\"서울사립대(연세대학교)\""
   ]
  },
  {
   "cell_type": "code",
   "execution_count": 788,
   "metadata": {},
   "outputs": [],
   "source": [
    "first[first.str.contains(\"이화\")==True]=\"서울사립대(이화여자대학교)\""
   ]
  },
  {
   "cell_type": "code",
   "execution_count": 789,
   "metadata": {},
   "outputs": [],
   "source": [
    "first[first.str.contains(\"중앙\")==True]=\"서울사립대(중앙대학교)\""
   ]
  },
  {
   "cell_type": "code",
   "execution_count": 790,
   "metadata": {},
   "outputs": [],
   "source": [
    "first[first.str.contains(\"성서\")==True]=\"서울사립대(서성한)\""
   ]
  },
  {
   "cell_type": "code",
   "execution_count": 791,
   "metadata": {},
   "outputs": [],
   "source": [
    "first[first.str.contains(\"외국\")==True]=\"서울사립대(한국외국어대학교)\""
   ]
  },
  {
   "cell_type": "code",
   "execution_count": 792,
   "metadata": {},
   "outputs": [],
   "source": [
    "first[first.str.contains(\"한성대\")==True]=\"서울사립대(한성대학교)\""
   ]
  },
  {
   "cell_type": "code",
   "execution_count": 793,
   "metadata": {},
   "outputs": [],
   "source": [
    "first[first.str.contains(\"한양\")==True]=\"서울사립대(한양대학교)\""
   ]
  },
  {
   "cell_type": "code",
   "execution_count": 794,
   "metadata": {},
   "outputs": [
    {
     "data": {
      "text/plain": [
       "1226            홍익대 \n",
       "3341    지방사립대(홍익대학교)\n",
       "3458    지방사립대(홍익대학교)\n",
       "3750          홍익대학교 \n",
       "3770          홍익대학교 \n",
       "3850          홍익대학교 \n",
       "3939          홍익대학교 \n",
       "3973             홍익 \n",
       "4075          홍익대학교 \n",
       "4090             홍익 \n",
       "4650          홍익대학교 \n",
       "4804          홍익대학교 \n",
       "4983            홍익대 \n",
       "5143            홍익대 \n",
       "6756            홍익대 \n",
       "6776            홍익대 \n",
       "6904          홍익대학교 \n",
       "6986            홍익대 \n",
       "7006            홍익대 \n",
       "7040            홍익대 \n",
       "8113          홍익대학교 \n",
       "8400          홍익대학교 \n",
       "8617          홍익대학교 \n",
       "8630            홍익대 \n",
       "8668          홍익대학교 \n",
       "8688          홍익대학교 \n",
       "8739          홍익대학교 \n",
       "8832          홍익대학교 \n",
       "9008          홍익대학교 \n",
       "9077          홍익대학교 \n",
       "9265            홍익대 \n",
       "9447          홍익대학교 \n",
       "9467          홍익대학교 \n",
       "9566            홍익대 \n",
       "9670            홍익대 \n",
       "9684            홍익대 \n",
       "9803          홍익대학교 \n",
       "Name: 0, dtype: object"
      ]
     },
     "execution_count": 794,
     "metadata": {},
     "output_type": "execute_result"
    }
   ],
   "source": [
    "first[first.str.contains(\"홍익\")==True]"
   ]
  },
  {
   "cell_type": "code",
   "execution_count": 795,
   "metadata": {},
   "outputs": [
    {
     "ename": "KeyboardInterrupt",
     "evalue": "",
     "output_type": "error",
     "traceback": [
      "\u001b[1;31m---------------------------------------------------------------------------\u001b[0m",
      "\u001b[1;31mKeyboardInterrupt\u001b[0m                         Traceback (most recent call last)",
      "\u001b[1;32m<ipython-input-795-ee0ab88b96af>\u001b[0m in \u001b[0;36m<module>\u001b[1;34m\u001b[0m\n\u001b[1;32m----> 1\u001b[1;33m \u001b[0mfirst\u001b[0m\u001b[1;33m[\u001b[0m\u001b[0mfirst\u001b[0m\u001b[1;33m.\u001b[0m\u001b[0mstr\u001b[0m\u001b[1;33m.\u001b[0m\u001b[0mcontains\u001b[0m\u001b[1;33m(\u001b[0m\u001b[1;34m\"서성\"\u001b[0m\u001b[1;33m)\u001b[0m\u001b[1;33m==\u001b[0m\u001b[1;32mTrue\u001b[0m\u001b[1;33m]\u001b[0m\u001b[1;33m=\u001b[0m\u001b[1;34m\"서울사립대(서성한)\"\u001b[0m\u001b[1;33m\u001b[0m\u001b[1;33m\u001b[0m\u001b[0m\n\u001b[0m",
      "\u001b[1;32m~\\anaconda3\\lib\\site-packages\\pandas\\core\\strings.py\u001b[0m in \u001b[0;36mwrapper\u001b[1;34m(self, *args, **kwargs)\u001b[0m\n\u001b[0;32m   1950\u001b[0m                 )\n\u001b[0;32m   1951\u001b[0m                 \u001b[1;32mraise\u001b[0m \u001b[0mTypeError\u001b[0m\u001b[1;33m(\u001b[0m\u001b[0mmsg\u001b[0m\u001b[1;33m)\u001b[0m\u001b[1;33m\u001b[0m\u001b[1;33m\u001b[0m\u001b[0m\n\u001b[1;32m-> 1952\u001b[1;33m             \u001b[1;32mreturn\u001b[0m \u001b[0mfunc\u001b[0m\u001b[1;33m(\u001b[0m\u001b[0mself\u001b[0m\u001b[1;33m,\u001b[0m \u001b[1;33m*\u001b[0m\u001b[0margs\u001b[0m\u001b[1;33m,\u001b[0m \u001b[1;33m**\u001b[0m\u001b[0mkwargs\u001b[0m\u001b[1;33m)\u001b[0m\u001b[1;33m\u001b[0m\u001b[1;33m\u001b[0m\u001b[0m\n\u001b[0m\u001b[0;32m   1953\u001b[0m \u001b[1;33m\u001b[0m\u001b[0m\n\u001b[0;32m   1954\u001b[0m         \u001b[0mwrapper\u001b[0m\u001b[1;33m.\u001b[0m\u001b[0m__name__\u001b[0m \u001b[1;33m=\u001b[0m \u001b[0mfunc_name\u001b[0m\u001b[1;33m\u001b[0m\u001b[1;33m\u001b[0m\u001b[0m\n",
      "\u001b[1;32m~\\anaconda3\\lib\\site-packages\\pandas\\core\\strings.py\u001b[0m in \u001b[0;36mcontains\u001b[1;34m(self, pat, case, flags, na, regex)\u001b[0m\n\u001b[0;32m   2759\u001b[0m     \u001b[1;32mdef\u001b[0m \u001b[0mcontains\u001b[0m\u001b[1;33m(\u001b[0m\u001b[0mself\u001b[0m\u001b[1;33m,\u001b[0m \u001b[0mpat\u001b[0m\u001b[1;33m,\u001b[0m \u001b[0mcase\u001b[0m\u001b[1;33m=\u001b[0m\u001b[1;32mTrue\u001b[0m\u001b[1;33m,\u001b[0m \u001b[0mflags\u001b[0m\u001b[1;33m=\u001b[0m\u001b[1;36m0\u001b[0m\u001b[1;33m,\u001b[0m \u001b[0mna\u001b[0m\u001b[1;33m=\u001b[0m\u001b[0mnp\u001b[0m\u001b[1;33m.\u001b[0m\u001b[0mnan\u001b[0m\u001b[1;33m,\u001b[0m \u001b[0mregex\u001b[0m\u001b[1;33m=\u001b[0m\u001b[1;32mTrue\u001b[0m\u001b[1;33m)\u001b[0m\u001b[1;33m:\u001b[0m\u001b[1;33m\u001b[0m\u001b[1;33m\u001b[0m\u001b[0m\n\u001b[0;32m   2760\u001b[0m         result = str_contains(\n\u001b[1;32m-> 2761\u001b[1;33m             \u001b[0mself\u001b[0m\u001b[1;33m.\u001b[0m\u001b[0m_parent\u001b[0m\u001b[1;33m,\u001b[0m \u001b[0mpat\u001b[0m\u001b[1;33m,\u001b[0m \u001b[0mcase\u001b[0m\u001b[1;33m=\u001b[0m\u001b[0mcase\u001b[0m\u001b[1;33m,\u001b[0m \u001b[0mflags\u001b[0m\u001b[1;33m=\u001b[0m\u001b[0mflags\u001b[0m\u001b[1;33m,\u001b[0m \u001b[0mna\u001b[0m\u001b[1;33m=\u001b[0m\u001b[0mna\u001b[0m\u001b[1;33m,\u001b[0m \u001b[0mregex\u001b[0m\u001b[1;33m=\u001b[0m\u001b[0mregex\u001b[0m\u001b[1;33m\u001b[0m\u001b[1;33m\u001b[0m\u001b[0m\n\u001b[0m\u001b[0;32m   2762\u001b[0m         )\n\u001b[0;32m   2763\u001b[0m         \u001b[1;32mreturn\u001b[0m \u001b[0mself\u001b[0m\u001b[1;33m.\u001b[0m\u001b[0m_wrap_result\u001b[0m\u001b[1;33m(\u001b[0m\u001b[0mresult\u001b[0m\u001b[1;33m,\u001b[0m \u001b[0mfill_value\u001b[0m\u001b[1;33m=\u001b[0m\u001b[0mna\u001b[0m\u001b[1;33m,\u001b[0m \u001b[0mreturns_string\u001b[0m\u001b[1;33m=\u001b[0m\u001b[1;32mFalse\u001b[0m\u001b[1;33m)\u001b[0m\u001b[1;33m\u001b[0m\u001b[1;33m\u001b[0m\u001b[0m\n",
      "\u001b[1;32m~\\anaconda3\\lib\\site-packages\\pandas\\core\\strings.py\u001b[0m in \u001b[0;36mstr_contains\u001b[1;34m(arr, pat, case, flags, na, regex)\u001b[0m\n\u001b[0;32m    458\u001b[0m             \u001b[0muppered\u001b[0m \u001b[1;33m=\u001b[0m \u001b[0m_na_map\u001b[0m\u001b[1;33m(\u001b[0m\u001b[1;32mlambda\u001b[0m \u001b[0mx\u001b[0m\u001b[1;33m:\u001b[0m \u001b[0mx\u001b[0m\u001b[1;33m.\u001b[0m\u001b[0mupper\u001b[0m\u001b[1;33m(\u001b[0m\u001b[1;33m)\u001b[0m\u001b[1;33m,\u001b[0m \u001b[0marr\u001b[0m\u001b[1;33m)\u001b[0m\u001b[1;33m\u001b[0m\u001b[1;33m\u001b[0m\u001b[0m\n\u001b[0;32m    459\u001b[0m             \u001b[1;32mreturn\u001b[0m \u001b[0m_na_map\u001b[0m\u001b[1;33m(\u001b[0m\u001b[0mf\u001b[0m\u001b[1;33m,\u001b[0m \u001b[0muppered\u001b[0m\u001b[1;33m,\u001b[0m \u001b[0mna\u001b[0m\u001b[1;33m,\u001b[0m \u001b[0mdtype\u001b[0m\u001b[1;33m=\u001b[0m\u001b[0mbool\u001b[0m\u001b[1;33m)\u001b[0m\u001b[1;33m\u001b[0m\u001b[1;33m\u001b[0m\u001b[0m\n\u001b[1;32m--> 460\u001b[1;33m     \u001b[1;32mreturn\u001b[0m \u001b[0m_na_map\u001b[0m\u001b[1;33m(\u001b[0m\u001b[0mf\u001b[0m\u001b[1;33m,\u001b[0m \u001b[0marr\u001b[0m\u001b[1;33m,\u001b[0m \u001b[0mna\u001b[0m\u001b[1;33m,\u001b[0m \u001b[0mdtype\u001b[0m\u001b[1;33m=\u001b[0m\u001b[0mbool\u001b[0m\u001b[1;33m)\u001b[0m\u001b[1;33m\u001b[0m\u001b[1;33m\u001b[0m\u001b[0m\n\u001b[0m\u001b[0;32m    461\u001b[0m \u001b[1;33m\u001b[0m\u001b[0m\n\u001b[0;32m    462\u001b[0m \u001b[1;33m\u001b[0m\u001b[0m\n",
      "\u001b[1;32m~\\anaconda3\\lib\\site-packages\\pandas\\core\\strings.py\u001b[0m in \u001b[0;36m_na_map\u001b[1;34m(f, arr, na_result, dtype)\u001b[0m\n\u001b[0;32m    129\u001b[0m     \u001b[1;32mif\u001b[0m \u001b[0mna_result\u001b[0m \u001b[1;32mis\u001b[0m \u001b[1;32mNone\u001b[0m\u001b[1;33m:\u001b[0m\u001b[1;33m\u001b[0m\u001b[1;33m\u001b[0m\u001b[0m\n\u001b[0;32m    130\u001b[0m         \u001b[0mna_result\u001b[0m \u001b[1;33m=\u001b[0m \u001b[0mnp\u001b[0m\u001b[1;33m.\u001b[0m\u001b[0mnan\u001b[0m\u001b[1;33m\u001b[0m\u001b[1;33m\u001b[0m\u001b[0m\n\u001b[1;32m--> 131\u001b[1;33m     \u001b[1;32mreturn\u001b[0m \u001b[0m_map_object\u001b[0m\u001b[1;33m(\u001b[0m\u001b[0mf\u001b[0m\u001b[1;33m,\u001b[0m \u001b[0marr\u001b[0m\u001b[1;33m,\u001b[0m \u001b[0mna_mask\u001b[0m\u001b[1;33m=\u001b[0m\u001b[1;32mTrue\u001b[0m\u001b[1;33m,\u001b[0m \u001b[0mna_value\u001b[0m\u001b[1;33m=\u001b[0m\u001b[0mna_result\u001b[0m\u001b[1;33m,\u001b[0m \u001b[0mdtype\u001b[0m\u001b[1;33m=\u001b[0m\u001b[0mdtype\u001b[0m\u001b[1;33m)\u001b[0m\u001b[1;33m\u001b[0m\u001b[1;33m\u001b[0m\u001b[0m\n\u001b[0m\u001b[0;32m    132\u001b[0m \u001b[1;33m\u001b[0m\u001b[0m\n\u001b[0;32m    133\u001b[0m \u001b[1;33m\u001b[0m\u001b[0m\n",
      "\u001b[1;32m~\\anaconda3\\lib\\site-packages\\pandas\\core\\strings.py\u001b[0m in \u001b[0;36m_map_object\u001b[1;34m(f, arr, na_mask, na_value, dtype)\u001b[0m\n\u001b[0;32m    214\u001b[0m         \u001b[0mconvert\u001b[0m \u001b[1;33m=\u001b[0m \u001b[1;32mnot\u001b[0m \u001b[0mnp\u001b[0m\u001b[1;33m.\u001b[0m\u001b[0mall\u001b[0m\u001b[1;33m(\u001b[0m\u001b[0mmask\u001b[0m\u001b[1;33m)\u001b[0m\u001b[1;33m\u001b[0m\u001b[1;33m\u001b[0m\u001b[0m\n\u001b[0;32m    215\u001b[0m         \u001b[1;32mtry\u001b[0m\u001b[1;33m:\u001b[0m\u001b[1;33m\u001b[0m\u001b[1;33m\u001b[0m\u001b[0m\n\u001b[1;32m--> 216\u001b[1;33m             \u001b[0mresult\u001b[0m \u001b[1;33m=\u001b[0m \u001b[0mlib\u001b[0m\u001b[1;33m.\u001b[0m\u001b[0mmap_infer_mask\u001b[0m\u001b[1;33m(\u001b[0m\u001b[0marr\u001b[0m\u001b[1;33m,\u001b[0m \u001b[0mf\u001b[0m\u001b[1;33m,\u001b[0m \u001b[0mmask\u001b[0m\u001b[1;33m.\u001b[0m\u001b[0mview\u001b[0m\u001b[1;33m(\u001b[0m\u001b[0mnp\u001b[0m\u001b[1;33m.\u001b[0m\u001b[0muint8\u001b[0m\u001b[1;33m)\u001b[0m\u001b[1;33m,\u001b[0m \u001b[0mconvert\u001b[0m\u001b[1;33m)\u001b[0m\u001b[1;33m\u001b[0m\u001b[1;33m\u001b[0m\u001b[0m\n\u001b[0m\u001b[0;32m    217\u001b[0m         \u001b[1;32mexcept\u001b[0m \u001b[1;33m(\u001b[0m\u001b[0mTypeError\u001b[0m\u001b[1;33m,\u001b[0m \u001b[0mAttributeError\u001b[0m\u001b[1;33m)\u001b[0m \u001b[1;32mas\u001b[0m \u001b[0me\u001b[0m\u001b[1;33m:\u001b[0m\u001b[1;33m\u001b[0m\u001b[1;33m\u001b[0m\u001b[0m\n\u001b[0;32m    218\u001b[0m             \u001b[1;31m# Reraise the exception if callable `f` got wrong number of args.\u001b[0m\u001b[1;33m\u001b[0m\u001b[1;33m\u001b[0m\u001b[1;33m\u001b[0m\u001b[0m\n",
      "\u001b[1;32mpandas\\_libs\\lib.pyx\u001b[0m in \u001b[0;36mpandas._libs.lib.map_infer_mask\u001b[1;34m()\u001b[0m\n",
      "\u001b[1;32m~\\anaconda3\\lib\\site-packages\\pandas\\core\\strings.py\u001b[0m in \u001b[0;36m<lambda>\u001b[1;34m(x)\u001b[0m\n\u001b[0;32m    449\u001b[0m             )\n\u001b[0;32m    450\u001b[0m \u001b[1;33m\u001b[0m\u001b[0m\n\u001b[1;32m--> 451\u001b[1;33m         \u001b[0mf\u001b[0m \u001b[1;33m=\u001b[0m \u001b[1;32mlambda\u001b[0m \u001b[0mx\u001b[0m\u001b[1;33m:\u001b[0m \u001b[0mbool\u001b[0m\u001b[1;33m(\u001b[0m\u001b[0mregex\u001b[0m\u001b[1;33m.\u001b[0m\u001b[0msearch\u001b[0m\u001b[1;33m(\u001b[0m\u001b[0mx\u001b[0m\u001b[1;33m)\u001b[0m\u001b[1;33m)\u001b[0m\u001b[1;33m\u001b[0m\u001b[1;33m\u001b[0m\u001b[0m\n\u001b[0m\u001b[0;32m    452\u001b[0m     \u001b[1;32melse\u001b[0m\u001b[1;33m:\u001b[0m\u001b[1;33m\u001b[0m\u001b[1;33m\u001b[0m\u001b[0m\n\u001b[0;32m    453\u001b[0m         \u001b[1;32mif\u001b[0m \u001b[0mcase\u001b[0m\u001b[1;33m:\u001b[0m\u001b[1;33m\u001b[0m\u001b[1;33m\u001b[0m\u001b[0m\n",
      "\u001b[1;31mKeyboardInterrupt\u001b[0m: "
     ]
    }
   ],
   "source": [
    "first[first.str.contains(\"서성\")==True]=\"서울사립대(서성한)\""
   ]
  },
  {
   "cell_type": "code",
   "execution_count": null,
   "metadata": {},
   "outputs": [],
   "source": [
    "first[first.str.contains(\"중경\")==True]=\"서울사립대(중경외시)\""
   ]
  },
  {
   "cell_type": "code",
   "execution_count": null,
   "metadata": {},
   "outputs": [],
   "source": [
    "first[first.str.contains(\"건홍\")==True]=\"서울사립대(건동홍)\""
   ]
  },
  {
   "cell_type": "code",
   "execution_count": null,
   "metadata": {},
   "outputs": [],
   "source": [
    "first[first.str.contains(\"건동\")==True]=\"서울사립대(건동홍)\""
   ]
  },
  {
   "cell_type": "code",
   "execution_count": null,
   "metadata": {},
   "outputs": [],
   "source": [
    "first[first.str.contains(\"원광보건대학교\")==True]=\"전문대\""
   ]
  },
  {
   "cell_type": "code",
   "execution_count": null,
   "metadata": {},
   "outputs": [],
   "source": [
    "first[first.str.contains(\"건대\")==True]=\"서울사립대(건국대학교)\""
   ]
  },
  {
   "cell_type": "code",
   "execution_count": null,
   "metadata": {},
   "outputs": [],
   "source": [
    "first[first.str.contains(\"부산경상\")==True]=\"전문대\""
   ]
  },
  {
   "cell_type": "code",
   "execution_count": null,
   "metadata": {},
   "outputs": [],
   "source": [
    "first[first.str.contains(\"상명\")==True]"
   ]
  },
  {
   "cell_type": "code",
   "execution_count": null,
   "metadata": {},
   "outputs": [],
   "source": [
    "# 이름 바꿔야함\n",
    "first[first.str.contains(\"수도권\")==True]=\"지방사립대(경기)\""
   ]
  },
  {
   "cell_type": "code",
   "execution_count": null,
   "metadata": {},
   "outputs": [],
   "source": [
    "first[first.str.contains(\"하위\")==True]=\"서울사립대\""
   ]
  },
  {
   "cell_type": "code",
   "execution_count": null,
   "metadata": {},
   "outputs": [],
   "source": [
    "first[first.str.contains(\"인서울\")==True]=\"서울사립대\""
   ]
  },
  {
   "cell_type": "code",
   "execution_count": null,
   "metadata": {},
   "outputs": [],
   "source": [
    "# 설카포\n",
    "first[first.str.contains(\"설카\")==True]"
   ]
  },
  {
   "cell_type": "code",
   "execution_count": null,
   "metadata": {},
   "outputs": [],
   "source": [
    "first[first.str.contains(\"중상\")==True]=\"서울사립대\""
   ]
  },
  {
   "cell_type": "code",
   "execution_count": null,
   "metadata": {},
   "outputs": [],
   "source": [
    "first[first.str.contains(\"중하\")==True]=\"서울사립대\""
   ]
  },
  {
   "cell_type": "code",
   "execution_count": null,
   "metadata": {},
   "outputs": [],
   "source": [
    "first[first.str.contains(\"협성\")==True]=\"지방사립대(협성대학교)\""
   ]
  },
  {
   "cell_type": "code",
   "execution_count": null,
   "metadata": {},
   "outputs": [],
   "source": [
    "first[first.str.contains(\"경성대\")==True]=\"지방사립대(경성대학교)\""
   ]
  },
  {
   "cell_type": "code",
   "execution_count": null,
   "metadata": {},
   "outputs": [],
   "source": [
    "#성균관대\n",
    "first[first.str.contains(\"성대\")==True]"
   ]
  },
  {
   "cell_type": "code",
   "execution_count": null,
   "metadata": {},
   "outputs": [],
   "source": [
    "first[first.str.contains(\"수도권4년제\")==True]=\"서울사립대(경기)\""
   ]
  },
  {
   "cell_type": "code",
   "execution_count": null,
   "metadata": {},
   "outputs": [],
   "source": [
    "first[first.str.contains(\"서울4년제\")==True]=\"서울사립대\""
   ]
  },
  {
   "cell_type": "code",
   "execution_count": null,
   "metadata": {},
   "outputs": [],
   "source": [
    "first[first.str.contains(\"지방4년제\")==True]=\"지방사립대\""
   ]
  },
  {
   "cell_type": "code",
   "execution_count": null,
   "metadata": {},
   "outputs": [],
   "source": [
    "first[first.str.contains(\"서울 4년제\")==True]=\"서울사립대\""
   ]
  },
  {
   "cell_type": "code",
   "execution_count": null,
   "metadata": {},
   "outputs": [],
   "source": [
    "#모름\n",
    "first[first.str.contains(\"2년\")==True]=\"전문대\""
   ]
  },
  {
   "cell_type": "code",
   "execution_count": null,
   "metadata": {},
   "outputs": [],
   "source": [
    "first[first.str.contains(\"경기도 4년제\")==True]=\"지방사립대(경기)\""
   ]
  },
  {
   "cell_type": "code",
   "execution_count": null,
   "metadata": {},
   "outputs": [],
   "source": [
    "first[first.str.contains(\"지방 국립4년제\")==True]=\"지방국립대\""
   ]
  },
  {
   "cell_type": "code",
   "execution_count": null,
   "metadata": {},
   "outputs": [],
   "source": [
    "first[first.str.contains(\"서울 4년\")==True]=\"서울사립대\""
   ]
  },
  {
   "cell_type": "code",
   "execution_count": null,
   "metadata": {},
   "outputs": [],
   "source": [
    "first[first.str.contains(\"지방 4년제\")==True]=\"지방사립대\""
   ]
  },
  {
   "cell_type": "code",
   "execution_count": null,
   "metadata": {},
   "outputs": [],
   "source": [
    "first[first.str.contains(\"경기권 4년제\")==True]=\"지방사립대(경기)\""
   ]
  },
  {
   "cell_type": "code",
   "execution_count": null,
   "metadata": {},
   "outputs": [],
   "source": [
    "first[first.str.contains(\"지방사립 4년\")==True]=\"지방사립대\""
   ]
  },
  {
   "cell_type": "code",
   "execution_count": null,
   "metadata": {},
   "outputs": [],
   "source": [
    "first[first.str.contains(\"지방 4년\")==True]=\"지방사립대\""
   ]
  },
  {
   "cell_type": "code",
   "execution_count": null,
   "metadata": {},
   "outputs": [],
   "source": []
  },
  {
   "cell_type": "code",
   "execution_count": null,
   "metadata": {},
   "outputs": [],
   "source": [
    "first[first.str.contains(\"00대학교\")==True]=\"지방사립대\""
   ]
  },
  {
   "cell_type": "code",
   "execution_count": null,
   "metadata": {},
   "outputs": [],
   "source": [
    "first[first.str.contains(\"지방대 4년제\")==True]=\"지방사립대\""
   ]
  },
  {
   "cell_type": "code",
   "execution_count": null,
   "metadata": {},
   "outputs": [],
   "source": [
    "#지방국립대4\n",
    "first[first.str.contains(\"지방국립대 4년제\")==True]=\"지방국립대\""
   ]
  },
  {
   "cell_type": "code",
   "execution_count": null,
   "metadata": {},
   "outputs": [],
   "source": [
    "first[first.str.contains(\"서울권4년제\")==True]=\"서울사립대\""
   ]
  },
  {
   "cell_type": "code",
   "execution_count": null,
   "metadata": {},
   "outputs": [],
   "source": [
    "first[first.str.contains(\"경기 4년제\")==True]=\"지방사립대(경기)\""
   ]
  },
  {
   "cell_type": "code",
   "execution_count": null,
   "metadata": {},
   "outputs": [],
   "source": [
    "first[first.str.contains(\"서울 중위권 4년제\")==True]=\"서울사립대\""
   ]
  },
  {
   "cell_type": "code",
   "execution_count": null,
   "metadata": {},
   "outputs": [],
   "source": [
    "first[first.str.contains(\"경기원 4년제\")==True]=\"지방사립대\""
   ]
  },
  {
   "cell_type": "code",
   "execution_count": null,
   "metadata": {},
   "outputs": [],
   "source": [
    "first[first.str.contains(\"지방대4년\")==True]=\"지방사립대\""
   ]
  },
  {
   "cell_type": "code",
   "execution_count": null,
   "metadata": {},
   "outputs": [],
   "source": [
    "first[first.str.contains(\"서울소재 4년\")==True]=\"서울사립대\""
   ]
  },
  {
   "cell_type": "code",
   "execution_count": null,
   "metadata": {},
   "outputs": [],
   "source": [
    "first[first.str.contains(\"지방 국립 4년\")==True]=\"지방국립대\""
   ]
  },
  {
   "cell_type": "code",
   "execution_count": null,
   "metadata": {},
   "outputs": [],
   "source": [
    "first[first.str.contains(\"지방국립4년제\")==True]=\"지방국립대\""
   ]
  },
  {
   "cell_type": "code",
   "execution_count": null,
   "metadata": {},
   "outputs": [],
   "source": [
    "first[first.str.contains(\"지방사립4년\")==True]=\"지방사립대\""
   ]
  },
  {
   "cell_type": "code",
   "execution_count": null,
   "metadata": {},
   "outputs": [],
   "source": [
    "first[first.str.contains(\"인천지역 4년제대\")==True]=\"지방사립대(경기)\""
   ]
  },
  {
   "cell_type": "code",
   "execution_count": null,
   "metadata": {},
   "outputs": [],
   "source": [
    "first[first.str.contains(\"북경4년제\")==True]=\"해외대(중국)\""
   ]
  },
  {
   "cell_type": "code",
   "execution_count": null,
   "metadata": {},
   "outputs": [],
   "source": [
    "first[first.str.contains(\"서울권 4년제\")==True]=\"서울사립대\""
   ]
  },
  {
   "cell_type": "code",
   "execution_count": null,
   "metadata": {},
   "outputs": [],
   "source": [
    "first[first.str.contains(\"4년제\")==True]=\"지방사립대\""
   ]
  },
  {
   "cell_type": "code",
   "execution_count": null,
   "metadata": {},
   "outputs": [],
   "source": [
    "first[first.str.contains(\"중\")==True]"
   ]
  },
  {
   "cell_type": "code",
   "execution_count": null,
   "metadata": {},
   "outputs": [],
   "source": [
    "first[first.str.contains(\"서울 상위\")==True]=\"서울사립대\""
   ]
  },
  {
   "cell_type": "code",
   "execution_count": null,
   "metadata": {},
   "outputs": [],
   "source": [
    "first[first.str.contains(\"서상한\")==True]=\"서울사립대(서성한)\""
   ]
  },
  {
   "cell_type": "code",
   "execution_count": null,
   "metadata": {},
   "outputs": [],
   "source": [
    "first[first.str.contains(\"지방 상위\")==True]=\"지방사립대\""
   ]
  },
  {
   "cell_type": "code",
   "execution_count": null,
   "metadata": {},
   "outputs": [],
   "source": [
    "first[first.str.contains(\"경상대학교\")==True]=\"지방국립대\""
   ]
  },
  {
   "cell_type": "code",
   "execution_count": null,
   "metadata": {},
   "outputs": [],
   "source": [
    "first[first.str.contains(\"지방상위권\")==True]=\"지방사립대\""
   ]
  },
  {
   "cell_type": "code",
   "execution_count": null,
   "metadata": {},
   "outputs": [],
   "source": [
    "first[first.str.contains(\"상명대학교 \")==True]=\"서울사립대(상명대학교)\""
   ]
  },
  {
   "cell_type": "code",
   "execution_count": null,
   "metadata": {},
   "outputs": [],
   "source": [
    "first[first.str.contains(\"서울상위권\")==True]=\"서울사립대\""
   ]
  },
  {
   "cell_type": "code",
   "execution_count": null,
   "metadata": {},
   "outputs": [],
   "source": [
    "first[first.str.contains(\"상위권\")==True]=\"서울사립대\""
   ]
  },
  {
   "cell_type": "code",
   "execution_count": null,
   "metadata": {},
   "outputs": [],
   "source": [
    "first[first.str.contains(\"광명상가\")==True]=\"서울사립대(명지대학교)\""
   ]
  },
  {
   "cell_type": "code",
   "execution_count": null,
   "metadata": {},
   "outputs": [],
   "source": [
    "first[first.str.contains(\"경상대\")==True]=\"지방국립대\""
   ]
  },
  {
   "cell_type": "code",
   "execution_count": null,
   "metadata": {},
   "outputs": [],
   "source": [
    "first[first.str.contains(\"상경\")==True]=\"서울사립대\""
   ]
  },
  {
   "cell_type": "code",
   "execution_count": null,
   "metadata": {},
   "outputs": [],
   "source": [
    "first[first.str.contains(\"서울상위\")==True]='서울사립대'"
   ]
  },
  {
   "cell_type": "code",
   "execution_count": null,
   "metadata": {},
   "outputs": [],
   "source": [
    "first[first.str.contains(\"라인\")==True]=\"서울사립대\""
   ]
  },
  {
   "cell_type": "code",
   "execution_count": null,
   "metadata": {},
   "outputs": [],
   "source": [
    "first[first.str.contains(\"국숭세단\")==True]=\"서울사립대(숭실대학교)\""
   ]
  },
  {
   "cell_type": "code",
   "execution_count": null,
   "metadata": {},
   "outputs": [],
   "source": [
    "first[first.str.contains(\"세단\")==True]=\"서울사립대(숭실대학교)\""
   ]
  },
  {
   "cell_type": "code",
   "execution_count": null,
   "metadata": {},
   "outputs": [],
   "source": [
    "first[first.str.contains(\"단국대학교\")==True]=\"서울사립대(단국대학교)\""
   ]
  },
  {
   "cell_type": "code",
   "execution_count": null,
   "metadata": {},
   "outputs": [],
   "source": [
    "first[first.str.contains(\"단국대학교\")==True]=\"서울사립대(단국대학교)\""
   ]
  },
  {
   "cell_type": "code",
   "execution_count": null,
   "metadata": {},
   "outputs": [],
   "source": [
    "first.to_csv(\"final.txt\",encoding=\"utf-8\")"
   ]
  },
  {
   "cell_type": "code",
   "execution_count": null,
   "metadata": {},
   "outputs": [],
   "source": [
    "first[first.str.contains(\"신한대학교\")==True]=\"지방사립대(신한대학교)\""
   ]
  },
  {
   "cell_type": "code",
   "execution_count": null,
   "metadata": {},
   "outputs": [],
   "source": [
    "first[first.str.contains(\"아주대학교\")==True]=\"서울사립대(아주대학교)\""
   ]
  },
  {
   "cell_type": "code",
   "execution_count": null,
   "metadata": {},
   "outputs": [],
   "source": [
    "first[first.str.contains(\"한동대학교\")==True]=\"지방사립대(한동대학교)\""
   ]
  },
  {
   "cell_type": "code",
   "execution_count": null,
   "metadata": {},
   "outputs": [],
   "source": [
    "first[first.str.contains(\"대전대학교\")==True]=\"지방사립대(대전대학교)\""
   ]
  },
  {
   "cell_type": "code",
   "execution_count": null,
   "metadata": {},
   "outputs": [],
   "source": [
    "first[first.str.contains(\"항공대\")==True]=\"지방사립대(한국항공대학교)\""
   ]
  },
  {
   "cell_type": "code",
   "execution_count": null,
   "metadata": {},
   "outputs": [],
   "source": [
    "first[first.str.contains(\"백석대\")==True]=\"지방사립대(백석대학교)\""
   ]
  },
  {
   "cell_type": "code",
   "execution_count": null,
   "metadata": {},
   "outputs": [],
   "source": [
    "first[first.str.contains(\"성결\")==True]=\"지방사립대(성결대학교)\""
   ]
  },
  {
   "cell_type": "code",
   "execution_count": null,
   "metadata": {},
   "outputs": [],
   "source": [
    "first[first.str.contains(\"한림\")==True]=\"지방사립대(한림대학교)\""
   ]
  },
  {
   "cell_type": "code",
   "execution_count": null,
   "metadata": {},
   "outputs": [],
   "source": [
    "# 우선 놔둠\n",
    "first[first.str.contains(\"학점\")==True]"
   ]
  },
  {
   "cell_type": "code",
   "execution_count": null,
   "metadata": {},
   "outputs": [],
   "source": [
    "first[first.str.contains(\"서울권 \")==True]=\"서울사립대\""
   ]
  },
  {
   "cell_type": "code",
   "execution_count": null,
   "metadata": {},
   "outputs": [],
   "source": [
    "first[first.str.contains(\"경남과기대\")==True]=\"지방국립대(경남과학기술대학교)\""
   ]
  },
  {
   "cell_type": "code",
   "execution_count": null,
   "metadata": {},
   "outputs": [],
   "source": [
    "first[first.str.contains(\"인하대\")==True]=\"지방사립대(인하대학교)\""
   ]
  },
  {
   "cell_type": "code",
   "execution_count": null,
   "metadata": {},
   "outputs": [],
   "source": [
    "first[first.str.contains(\"성균\")==True]=\"서울사립대(성균관대학교)\""
   ]
  },
  {
   "cell_type": "code",
   "execution_count": null,
   "metadata": {},
   "outputs": [],
   "source": [
    "first[first.str.contains(\"경중외시\")==True]=\"서울사립대(경희대학교)\""
   ]
  },
  {
   "cell_type": "code",
   "execution_count": null,
   "metadata": {},
   "outputs": [],
   "source": [
    "first[first.str.contains(\"지방 국립대\")==True]=\"지방국립대\""
   ]
  },
  {
   "cell_type": "code",
   "execution_count": null,
   "metadata": {},
   "outputs": [],
   "source": [
    "first[first.str.contains(\"지방 사립\")==True]=\"지방사립대\""
   ]
  },
  {
   "cell_type": "code",
   "execution_count": null,
   "metadata": {},
   "outputs": [],
   "source": [
    "first[first.str.contains(\"서울 사립\")==True]=\"서울사립대\""
   ]
  },
  {
   "cell_type": "code",
   "execution_count": null,
   "metadata": {},
   "outputs": [],
   "source": [
    "first[first.str.contains(\"서울 중위권\")==True]=\"서울사립대\""
   ]
  },
  {
   "cell_type": "code",
   "execution_count": null,
   "metadata": {},
   "outputs": [],
   "source": [
    "first[first.str.contains(\"서울 중\")==True]=\"서울사립대\""
   ]
  },
  {
   "cell_type": "code",
   "execution_count": null,
   "metadata": {},
   "outputs": [],
   "source": [
    "first[first.str.contains(\"서울 과기대\")==True]=\"서울국립대(서울과학기술대학교)\""
   ]
  },
  {
   "cell_type": "code",
   "execution_count": null,
   "metadata": {},
   "outputs": [],
   "source": [
    "first[first.str.contains(\"서울 하\")==True]=\"서울사립대\""
   ]
  },
  {
   "cell_type": "code",
   "execution_count": null,
   "metadata": {},
   "outputs": [],
   "source": [
    "first[first.str.contains(\"서울 소재\")==True]=\"서울사립대\""
   ]
  },
  {
   "cell_type": "code",
   "execution_count": null,
   "metadata": {},
   "outputs": [],
   "source": [
    "first[first.str.contains(\"서울 광진구\")==True]=\"서울사립대\""
   ]
  },
  {
   "cell_type": "code",
   "execution_count": null,
   "metadata": {},
   "outputs": [],
   "source": [
    "first[first.str.contains(\"지방, 서울\")==True]=\"지방사립대\""
   ]
  },
  {
   "cell_type": "code",
   "execution_count": null,
   "metadata": {},
   "outputs": [],
   "source": [
    "first[first.str.contains(\"서울 \")==True]=\"서울사립대\""
   ]
  },
  {
   "cell_type": "code",
   "execution_count": null,
   "metadata": {},
   "outputs": [],
   "source": [
    "first[first.str.contains(\"지방 과기원 \")==True]=\"UNIST\""
   ]
  },
  {
   "cell_type": "code",
   "execution_count": null,
   "metadata": {},
   "outputs": [],
   "source": [
    "first[first.str.contains(\"지방 국립\")==True]=\"지방국립대\""
   ]
  },
  {
   "cell_type": "code",
   "execution_count": null,
   "metadata": {},
   "outputs": [],
   "source": [
    "first[first.str.contains(\"분교 지방\")==True]=\"지방사립대\""
   ]
  },
  {
   "cell_type": "code",
   "execution_count": null,
   "metadata": {},
   "outputs": [],
   "source": [
    "first[first.str.contains(\"지방 거점\")==True]=\"지방거점국립대\""
   ]
  },
  {
   "cell_type": "code",
   "execution_count": null,
   "metadata": {},
   "outputs": [],
   "source": [
    "first[first.str.contains(\"부산지방\")==True]=\"지방사립대\""
   ]
  },
  {
   "cell_type": "code",
   "execution_count": null,
   "metadata": {},
   "outputs": [],
   "source": [
    "first[first.str.contains(\"지방 공립\")==True]=\"지방국립대\""
   ]
  },
  {
   "cell_type": "code",
   "execution_count": null,
   "metadata": {},
   "outputs": [],
   "source": [
    "first[first.str.contains(\"지방 \")==True]=\"지방사립대\""
   ]
  },
  {
   "cell_type": "code",
   "execution_count": null,
   "metadata": {},
   "outputs": [],
   "source": [
    "first[first.str.contains(\"지방국립\")==True]"
   ]
  },
  {
   "cell_type": "code",
   "execution_count": null,
   "metadata": {},
   "outputs": [],
   "source": [
    "first[first.str.contains(\"지방대\")==True]=\"지방사립대\""
   ]
  },
  {
   "cell_type": "code",
   "execution_count": 796,
   "metadata": {},
   "outputs": [],
   "source": [
    "first[first.str.contains(\"인천 지방사립대\")==True]=\"지방사립대\""
   ]
  },
  {
   "cell_type": "code",
   "execution_count": 797,
   "metadata": {},
   "outputs": [],
   "source": [
    "first[first.str.contains(\"SKY 지방캠\")==True]=\"지방사립대\""
   ]
  },
  {
   "cell_type": "code",
   "execution_count": 798,
   "metadata": {},
   "outputs": [],
   "source": [
    "first[first.str.contains(\"디자인 서홍국\")==True]=\"서울사립대(홍익대학교)\""
   ]
  },
  {
   "cell_type": "code",
   "execution_count": 799,
   "metadata": {},
   "outputs": [],
   "source": [
    "first[first.str.contains(\"신라\")==True]=\"지방사립대(신라대학교)\""
   ]
  },
  {
   "cell_type": "code",
   "execution_count": 800,
   "metadata": {},
   "outputs": [],
   "source": [
    "first[first.str.contains(\"서울과기대\")==True]=\"서울국립대(서울과학기술대학교)\""
   ]
  },
  {
   "cell_type": "code",
   "execution_count": 801,
   "metadata": {},
   "outputs": [],
   "source": [
    "first[first.str.contains(\"과기대\")==True]=\"서울국립대(서울과학기술대학교)\""
   ]
  },
  {
   "cell_type": "code",
   "execution_count": 802,
   "metadata": {},
   "outputs": [],
   "source": [
    "first[first.str.contains(\"과기\")==True]=\"KAIST\""
   ]
  },
  {
   "cell_type": "code",
   "execution_count": 803,
   "metadata": {},
   "outputs": [
    {
     "data": {
      "text/plain": [
       "4           서울사립대(건국대학교)\n",
       "10       서울사립대(한국외국어대학교)\n",
       "14          서울사립대(숭실대학교)\n",
       "21          서울사립대(건국대학교)\n",
       "22       서울사립대(한국외국어대학교)\n",
       "              ...       \n",
       "10086     서울사립대(이화여자대학교)\n",
       "10087       서울사립대(연세대학교)\n",
       "10092       서울사립대(중앙대학교)\n",
       "10098       서울사립대(동국대학교)\n",
       "10100       서울사립대(경희대학교)\n",
       "Name: 0, Length: 1286, dtype: object"
      ]
     },
     "execution_count": 803,
     "metadata": {},
     "output_type": "execute_result"
    }
   ],
   "source": [
    "first[first.str.contains(\"서울사립대\")==True]"
   ]
  },
  {
   "cell_type": "code",
   "execution_count": 804,
   "metadata": {},
   "outputs": [],
   "source": [
    "first.to_csv(\"final.txt\",encoding='utf-8')"
   ]
  },
  {
   "cell_type": "code",
   "execution_count": 805,
   "metadata": {},
   "outputs": [],
   "source": [
    "first[first.str.contains(\"가천\")==True]=\"지방사립대(가천대학교)\""
   ]
  },
  {
   "cell_type": "code",
   "execution_count": 806,
   "metadata": {},
   "outputs": [],
   "source": [
    "first[first.str.contains(\"지방거점 \")==True]=\"지방거점국립대\""
   ]
  },
  {
   "cell_type": "code",
   "execution_count": 807,
   "metadata": {},
   "outputs": [],
   "source": [
    "first[first.str.contains(\"ky\")==True]=\"서울사립대(고려대학교)\""
   ]
  },
  {
   "cell_type": "code",
   "execution_count": 808,
   "metadata": {},
   "outputs": [],
   "source": [
    "first[first.str.contains(\"s\")==True]=\"서울국립대(서울대학교)\""
   ]
  },
  {
   "cell_type": "code",
   "execution_count": 809,
   "metadata": {},
   "outputs": [],
   "source": [
    "first[first.str.contains(\"서울대\")==True]=\"서울국립대(서울대학교)\""
   ]
  },
  {
   "cell_type": "code",
   "execution_count": 810,
   "metadata": {},
   "outputs": [],
   "source": [
    "first[first.str.contains(\"SK\")==True]=\"서울사립대(연세대학교)\""
   ]
  },
  {
   "cell_type": "code",
   "execution_count": 811,
   "metadata": {},
   "outputs": [],
   "source": [
    "first[first.str.contains(\"아주대 석사\")==True]=\"대학원\""
   ]
  },
  {
   "cell_type": "code",
   "execution_count": 812,
   "metadata": {},
   "outputs": [],
   "source": [
    "first[first.str.contains(\"아주대 \")==True]=\"서울사립대(아주대학교)\""
   ]
  },
  {
   "cell_type": "code",
   "execution_count": 813,
   "metadata": {},
   "outputs": [],
   "source": [
    "first[first.str.contains(\"석사\")==True]=\"대학원\""
   ]
  },
  {
   "cell_type": "code",
   "execution_count": 814,
   "metadata": {},
   "outputs": [],
   "source": [
    "first[first.str.contains(\"기계\")==True]=\"지방사립대\""
   ]
  },
  {
   "cell_type": "code",
   "execution_count": 815,
   "metadata": {},
   "outputs": [],
   "source": [
    "first[first.str.contains(\"한국외\")==True]=\"서울사립대(한국외국어대학교)\""
   ]
  },
  {
   "cell_type": "code",
   "execution_count": 816,
   "metadata": {},
   "outputs": [],
   "source": [
    "first[first.str.contains(\"상지\")==True]=\"지방사립대(상지대학교)\""
   ]
  },
  {
   "cell_type": "code",
   "execution_count": 817,
   "metadata": {},
   "outputs": [],
   "source": [
    "first[first.str.contains(\"\\(경기\\)\")==True]=\"지방사립대\""
   ]
  },
  {
   "cell_type": "code",
   "execution_count": 818,
   "metadata": {},
   "outputs": [],
   "source": [
    "first[first.str.contains(\"경기권 \")==True]=\"지방사립대\""
   ]
  },
  {
   "cell_type": "code",
   "execution_count": 819,
   "metadata": {},
   "outputs": [],
   "source": [
    "first[first.str.contains(\"경기 \")==True]=\"지방사립대\""
   ]
  },
  {
   "cell_type": "code",
   "execution_count": 820,
   "metadata": {},
   "outputs": [],
   "source": [
    "first[first.str.contains(\"경기과학기술대학교\")==True]=\"전문대\""
   ]
  },
  {
   "cell_type": "code",
   "execution_count": 821,
   "metadata": {},
   "outputs": [],
   "source": [
    "first[first.str.contains(\"학점은행\")==True]=\"고등학교졸업\""
   ]
  },
  {
   "cell_type": "code",
   "execution_count": 822,
   "metadata": {},
   "outputs": [],
   "source": [
    "first[first.str.contains(\"동서\")==True]=\"지방사립대(동서대학교)\""
   ]
  },
  {
   "cell_type": "code",
   "execution_count": 823,
   "metadata": {},
   "outputs": [],
   "source": [
    "first[first.str.contains(\"한신\")==True]=\"지방사립대(한신대학교)\""
   ]
  },
  {
   "cell_type": "code",
   "execution_count": 824,
   "metadata": {},
   "outputs": [],
   "source": [
    "first[first.str.contains(\"서연\")==True]=\"서울사립대(고려대학교)\""
   ]
  },
  {
   "cell_type": "code",
   "execution_count": 825,
   "metadata": {},
   "outputs": [],
   "source": [
    "first[first.str.contains(\"연고\")==True]=\"서울사립대(연세대학교)\""
   ]
  },
  {
   "cell_type": "code",
   "execution_count": 826,
   "metadata": {},
   "outputs": [],
   "source": [
    "first[first.str.contains(\"스카이\")==True]=\"서울사립대(고려대학교)\""
   ]
  },
  {
   "cell_type": "code",
   "execution_count": 827,
   "metadata": {},
   "outputs": [],
   "source": [
    "first[first.str.contains(\"5공\")==True]=\"서울사립대(한양대학교)\""
   ]
  },
  {
   "cell_type": "code",
   "execution_count": 828,
   "metadata": {},
   "outputs": [],
   "source": [
    "first[first.str.contains(\"지방국립 \")==True]=\"지방국립대\""
   ]
  },
  {
   "cell_type": "code",
   "execution_count": 829,
   "metadata": {},
   "outputs": [],
   "source": [
    "first[first.str.contains(\"동국\")==True]=\"서울사립대(동국대학교)\""
   ]
  },
  {
   "cell_type": "code",
   "execution_count": 830,
   "metadata": {},
   "outputs": [],
   "source": [
    "first[first.str.contains(\"도시공학, 컴퓨터공학\")==True]=\"서울공립대(서울시립대)\""
   ]
  },
  {
   "cell_type": "code",
   "execution_count": 831,
   "metadata": {},
   "outputs": [
    {
     "data": {
      "text/plain": [
       "1262    컴퓨터공학과 \n",
       "1356    컴퓨터공학과 \n",
       "2507     컴퓨터공학 \n",
       "2527     컴퓨터공학 \n",
       "4696     컴퓨터공학 \n",
       "4872     컴퓨터공학 \n",
       "5725    컴퓨터공학과 \n",
       "5726    컴퓨터공학과 \n",
       "8853     컴퓨터공학 \n",
       "9043     컴퓨터공학 \n",
       "Name: 0, dtype: object"
      ]
     },
     "execution_count": 831,
     "metadata": {},
     "output_type": "execute_result"
    }
   ],
   "source": [
    "# 컴퓨터공학과\n",
    "first[first.str.contains(\"컴퓨터공\")==True]"
   ]
  },
  {
   "cell_type": "code",
   "execution_count": 832,
   "metadata": {
    "scrolled": true
   },
   "outputs": [
    {
     "data": {
      "text/plain": [
       "1263      경영 \n",
       "1355      경영 \n",
       "2838      경영 \n",
       "2841      경영 \n",
       "2968      경영 \n",
       "2970      경영 \n",
       "3100     경영학 \n",
       "3203     경영학 \n",
       "4642      경영 \n",
       "4664       경영\n",
       "4807      경영 \n",
       "4829       경영\n",
       "4849       경영\n",
       "5370      경영 \n",
       "5521      경영 \n",
       "5722     경영학 \n",
       "5756    경영학과 \n",
       "5762     경영학 \n",
       "5780    경영학과 \n",
       "5800    경영학과 \n",
       "9378    경영학과 \n",
       "9738    경영학과 \n",
       "9850    경영학과 \n",
       "Name: 0, dtype: object"
      ]
     },
     "execution_count": 832,
     "metadata": {},
     "output_type": "execute_result"
    }
   ],
   "source": [
    "# 경영학과\n",
    "first[first.str.contains(\"경영\")==True]"
   ]
  },
  {
   "cell_type": "code",
   "execution_count": 833,
   "metadata": {},
   "outputs": [],
   "source": [
    "first[first.str.contains(\"부산외대\")==True]=\"지방사립대(부산외국어대학교)\""
   ]
  },
  {
   "cell_type": "code",
   "execution_count": 834,
   "metadata": {},
   "outputs": [],
   "source": [
    "first[first.str.contains(\"외대 \")==True]=\"서울사립대(한국외국어대학교)\""
   ]
  },
  {
   "cell_type": "code",
   "execution_count": 835,
   "metadata": {
    "scrolled": true
   },
   "outputs": [
    {
     "data": {
      "text/plain": [
       "1403         바이오 \n",
       "6786    바이오및뇌공학과 \n",
       "7022    바이오및뇌공학과 \n",
       "Name: 0, dtype: object"
      ]
     },
     "execution_count": 835,
     "metadata": {},
     "output_type": "execute_result"
    }
   ],
   "source": [
    "# 바이오\n",
    "first[first.str.contains(\"바이오\")==True]"
   ]
  },
  {
   "cell_type": "code",
   "execution_count": 836,
   "metadata": {},
   "outputs": [],
   "source": [
    "first[first.str.contains(\"거제\")==True]=\"지방사립대(거제대학교)\""
   ]
  },
  {
   "cell_type": "code",
   "execution_count": 837,
   "metadata": {},
   "outputs": [],
   "source": [
    "first[first.str.contains(\"연대\")==True]=\"서울사립대(연세대학교)\""
   ]
  },
  {
   "cell_type": "code",
   "execution_count": 838,
   "metadata": {},
   "outputs": [],
   "source": [
    "first[first.str.contains(\"서성한\")==True]=\"서울사립대(서강대학교)\""
   ]
  },
  {
   "cell_type": "code",
   "execution_count": 839,
   "metadata": {},
   "outputs": [],
   "source": [
    "first[first.str.contains(\"건동홍\")==True]=\"서울사립대(홍익대학교)\""
   ]
  },
  {
   "cell_type": "code",
   "execution_count": 840,
   "metadata": {},
   "outputs": [],
   "source": [
    "first[first.str.contains(\"단국\")==True]=\"서울사립대(단국대학교)\""
   ]
  },
  {
   "cell_type": "code",
   "execution_count": 841,
   "metadata": {},
   "outputs": [
    {
     "data": {
      "text/plain": [
       "1622    컴퓨터그래픽 \n",
       "1763    컴퓨터그래픽 \n",
       "Name: 0, dtype: object"
      ]
     },
     "execution_count": 841,
     "metadata": {},
     "output_type": "execute_result"
    }
   ],
   "source": [
    "# 컴퓨터그래픽(전공)\n",
    "first[first.str.contains(\"그래픽\")==True]"
   ]
  },
  {
   "cell_type": "code",
   "execution_count": 842,
   "metadata": {},
   "outputs": [],
   "source": [
    "first[first.str.contains(\"고대\")==True]=\"서울사립대(고려대학교)\""
   ]
  },
  {
   "cell_type": "code",
   "execution_count": 843,
   "metadata": {},
   "outputs": [],
   "source": [
    "first[first.str.contains(\"경기권\")==True]=\"지방사립대\""
   ]
  },
  {
   "cell_type": "code",
   "execution_count": 844,
   "metadata": {},
   "outputs": [
    {
     "data": {
      "text/plain": [
       "1677     화공\n",
       "1697     화공\n",
       "1845     화공\n",
       "4656    화공 \n",
       "4817    화공 \n",
       "5559    화공 \n",
       "5579    화공 \n",
       "5604    화공 \n",
       "Name: 0, dtype: object"
      ]
     },
     "execution_count": 844,
     "metadata": {},
     "output_type": "execute_result"
    }
   ],
   "source": [
    "# 화공(전공)\n",
    "first[first.str.contains(\"화공\")==True]"
   ]
  },
  {
   "cell_type": "code",
   "execution_count": 845,
   "metadata": {},
   "outputs": [],
   "source": [
    "first[first.str.contains(\" 국립대\")==True]=\"서울국립대\""
   ]
  },
  {
   "cell_type": "code",
   "execution_count": 846,
   "metadata": {},
   "outputs": [],
   "source": [
    "# 국립대 검사해보기\n",
    "first[first.str.contains(\"지방국립대 \")==True]=\"지방국립대\""
   ]
  },
  {
   "cell_type": "code",
   "execution_count": 847,
   "metadata": {},
   "outputs": [],
   "source": [
    "first[first.str.contains(\"서울중위\")==True]=\"서울사립대\""
   ]
  },
  {
   "cell_type": "code",
   "execution_count": 848,
   "metadata": {},
   "outputs": [],
   "source": [
    "first[first.str.contains(\"중위\")==True]=\"지방사립대\""
   ]
  },
  {
   "cell_type": "code",
   "execution_count": 849,
   "metadata": {},
   "outputs": [],
   "source": [
    "first[first.str.contains(\"인하 \")==True]=\"지방사립대(인하대학교)\""
   ]
  },
  {
   "cell_type": "code",
   "execution_count": 850,
   "metadata": {},
   "outputs": [],
   "source": [
    "first[first.str.contains(\"중 \")==True]=\"지방사립대\""
   ]
  },
  {
   "cell_type": "code",
   "execution_count": 851,
   "metadata": {},
   "outputs": [
    {
     "data": {
      "text/plain": [
       "6331    국제통상 \n",
       "6561    국제통상 \n",
       "Name: 0, dtype: object"
      ]
     },
     "execution_count": 851,
     "metadata": {},
     "output_type": "execute_result"
    }
   ],
   "source": [
    "# 국제통상(전공)\n",
    "first[first.str.contains(\"국제통상 \")==True]"
   ]
  },
  {
   "cell_type": "code",
   "execution_count": 852,
   "metadata": {},
   "outputs": [],
   "source": [
    "first[first.str.contains(\"영산\")==True]=\"지방사립대(영산대학교)\""
   ]
  },
  {
   "cell_type": "code",
   "execution_count": 853,
   "metadata": {},
   "outputs": [],
   "source": [
    "first[first.str.contains(\"S대\")==True]=\"서울국립대(서울대학교)\""
   ]
  },
  {
   "cell_type": "code",
   "execution_count": 854,
   "metadata": {
    "scrolled": true
   },
   "outputs": [
    {
     "data": {
      "text/plain": [
       "1713    무역학과 \n",
       "1858    무역학과 \n",
       "2260    무역학과 \n",
       "2280    무역학과 \n",
       "2437    무역학과 \n",
       "2441    무역학과 \n",
       "Name: 0, dtype: object"
      ]
     },
     "execution_count": 854,
     "metadata": {},
     "output_type": "execute_result"
    }
   ],
   "source": [
    "# 무역학과(전공)\n",
    "first[first.str.contains(\"무역\")==True]"
   ]
  },
  {
   "cell_type": "code",
   "execution_count": 855,
   "metadata": {},
   "outputs": [],
   "source": [
    "first[first.str.contains(\"서울권\")==True]=\"서울사립대\""
   ]
  },
  {
   "cell_type": "code",
   "execution_count": 856,
   "metadata": {},
   "outputs": [],
   "source": [
    "first[first.str.contains(\"연대\")==True]=\"서울사립대(연세대학교)\""
   ]
  },
  {
   "cell_type": "code",
   "execution_count": 857,
   "metadata": {},
   "outputs": [
    {
     "data": {
      "text/plain": [
       "2190    메카르토닉스 \n",
       "2350    메카르토닉스 \n",
       "Name: 0, dtype: object"
      ]
     },
     "execution_count": 857,
     "metadata": {},
     "output_type": "execute_result"
    }
   ],
   "source": [
    "# 메카(전공)\n",
    "first[first.str.contains(\"메카\")==True]"
   ]
  },
  {
   "cell_type": "code",
   "execution_count": 858,
   "metadata": {},
   "outputs": [],
   "source": [
    "first[first.str.contains(\"KY 학사\")==True]=\"대학원\""
   ]
  },
  {
   "cell_type": "code",
   "execution_count": 859,
   "metadata": {},
   "outputs": [],
   "source": [
    "first[first.str.contains(\"Y\")==True]=\"서울사립대(연세대학교)\""
   ]
  },
  {
   "cell_type": "code",
   "execution_count": 860,
   "metadata": {},
   "outputs": [],
   "source": [
    "first[first.str.contains(\"중경외시\")==True]=\"서울사립대(중앙대학교)\""
   ]
  },
  {
   "cell_type": "code",
   "execution_count": 861,
   "metadata": {},
   "outputs": [
    {
     "data": {
      "text/plain": [
       "2240    재료 \n",
       "2398    재료 \n",
       "2418    재료 \n",
       "2420    재료 \n",
       "7271    재료 \n",
       "Name: 0, dtype: object"
      ]
     },
     "execution_count": 861,
     "metadata": {},
     "output_type": "execute_result"
    }
   ],
   "source": [
    "#재료(전공)\n",
    "first[first.str.contains(\"재료\")==True]"
   ]
  },
  {
   "cell_type": "code",
   "execution_count": 862,
   "metadata": {},
   "outputs": [],
   "source": [
    "first[first.str.contains(\"지방사립 \")==True]=\"지방사립대\""
   ]
  },
  {
   "cell_type": "code",
   "execution_count": null,
   "metadata": {},
   "outputs": [],
   "source": []
  },
  {
   "cell_type": "code",
   "execution_count": 863,
   "metadata": {},
   "outputs": [],
   "source": [
    "first[first.str.contains(\"인천 소재 대학교 \")==True]=\"지방사립대\""
   ]
  },
  {
   "cell_type": "code",
   "execution_count": 864,
   "metadata": {},
   "outputs": [
    {
     "data": {
      "text/plain": [
       "442     컴활2급, 워드프로세서, ERP(회계,인사,생산,물류), 한국사능력검정2급, 전산회...\n",
       "528     컴활2급, 워드프로세서, ERP(회계,인사,생산,물류), 한국사능력검정2급, 전산회...\n",
       "570     컴활2급, 워드프로세서, ERP(회계,인사,생산,물류), 한국사능력검정2급, 전산회...\n",
       "674     컴활2급, 워드프로세서, ERP(회계,인사,생산,물류), 한국사능력검정2급, 전산회...\n",
       "866     컴활2급, 워드프로세서, ERP(회계,인사,생산,물류), 한국사능력검정2급, 전산회...\n",
       "2510                                                   봉사\n",
       "2530                                                   봉사\n",
       "4385                                    봉사활동, 아시아게임청년서포터즈\n",
       "4386                                    봉사활동, 아시아게임청년서포터즈\n",
       "7819                                        인턴2회, 봉사활동 다수\n",
       "7874                                        인턴2회, 봉사활동 다수\n",
       "Name: 0, dtype: object"
      ]
     },
     "execution_count": 864,
     "metadata": {},
     "output_type": "execute_result"
    }
   ],
   "source": [
    "# 봉사새끼\n",
    "first[first.str.contains(\"봉사\")==True]"
   ]
  },
  {
   "cell_type": "code",
   "execution_count": 865,
   "metadata": {},
   "outputs": [],
   "source": [
    "first[first.str.contains(\"안양대\")==True]=\"지방사립대(안양대학교)\""
   ]
  },
  {
   "cell_type": "code",
   "execution_count": 866,
   "metadata": {},
   "outputs": [],
   "source": [
    "first[first.str.contains(\"건\")==True]=\"서울사립대(건국대학교)\""
   ]
  },
  {
   "cell_type": "code",
   "execution_count": 867,
   "metadata": {},
   "outputs": [],
   "source": [
    "first[first.str.contains(\"경희 수원\")==True]=\"지방사립대(경희대학교)\""
   ]
  },
  {
   "cell_type": "code",
   "execution_count": 868,
   "metadata": {},
   "outputs": [],
   "source": [
    "first[first.str.contains(\"경희 \")==True]=\"서울사립대(경희대학교)\""
   ]
  },
  {
   "cell_type": "code",
   "execution_count": 869,
   "metadata": {},
   "outputs": [],
   "source": [
    "first[first.str.contains(\"상하이\")==True]=\"해외대(중국)\""
   ]
  },
  {
   "cell_type": "code",
   "execution_count": 870,
   "metadata": {},
   "outputs": [],
   "source": [
    "first[first.str.contains(\"중,아,인\")==True]=\"서울사립대(아주대학교)\""
   ]
  },
  {
   "cell_type": "code",
   "execution_count": 871,
   "metadata": {},
   "outputs": [],
   "source": [
    "first[first.str.contains(\"시립대\")==True]=\"서울공립대(서울시립대학교)\""
   ]
  },
  {
   "cell_type": "code",
   "execution_count": 872,
   "metadata": {},
   "outputs": [],
   "source": [
    "first[first.str.contains(\"중인시\")==True]=\"지방사립대(인하대학교)\""
   ]
  },
  {
   "cell_type": "code",
   "execution_count": null,
   "metadata": {},
   "outputs": [],
   "source": []
  },
  {
   "cell_type": "code",
   "execution_count": 873,
   "metadata": {},
   "outputs": [],
   "source": [
    "first[first.str.contains(\"E 대학교\")==True]=\"서울사립대(이화여자대학교)\""
   ]
  },
  {
   "cell_type": "code",
   "execution_count": 874,
   "metadata": {},
   "outputs": [],
   "source": [
    "first[first.str.contains(\"국숭\")==True]=\"서울사립대(숭실대학교)\""
   ]
  },
  {
   "cell_type": "code",
   "execution_count": 875,
   "metadata": {},
   "outputs": [],
   "source": [
    "first[first.str.contains(\"홍익대학교 \")==True]=\"서울사립대(홍익대학교)\""
   ]
  },
  {
   "cell_type": "code",
   "execution_count": 876,
   "metadata": {},
   "outputs": [],
   "source": [
    "first[first.str.contains(\"칭화대학교\")==True]=\"해외대(중국)\""
   ]
  },
  {
   "cell_type": "code",
   "execution_count": 877,
   "metadata": {},
   "outputs": [],
   "source": [
    "first[first.str.contains(\"센트럴\")==True]=\"해외대(영국)\""
   ]
  },
  {
   "cell_type": "code",
   "execution_count": 878,
   "metadata": {},
   "outputs": [],
   "source": [
    "first[first.str.contains(\"홍익 \")==True]=\"서울사립대(홍익대학교)\""
   ]
  },
  {
   "cell_type": "code",
   "execution_count": 879,
   "metadata": {},
   "outputs": [],
   "source": [
    "first[first.str.contains(\"설카포\")==True]=\"포항공과대학교\""
   ]
  },
  {
   "cell_type": "code",
   "execution_count": 880,
   "metadata": {},
   "outputs": [],
   "source": [
    "first[first.str.contains(\"고려사이버\")==True]=\"전문대\""
   ]
  },
  {
   "cell_type": "code",
   "execution_count": 881,
   "metadata": {},
   "outputs": [],
   "source": [
    "first[first.str.contains(\"지방분교\")==True]=\"지방사립대\""
   ]
  },
  {
   "cell_type": "code",
   "execution_count": 882,
   "metadata": {},
   "outputs": [],
   "source": [
    "first[first.str.contains(\"명문대\")==True]=\"서울사립대\""
   ]
  },
  {
   "cell_type": "code",
   "execution_count": 883,
   "metadata": {},
   "outputs": [],
   "source": [
    "first[first.str.contains(\"인천소재\")==True]=\"지방사립대\""
   ]
  },
  {
   "cell_type": "code",
   "execution_count": 884,
   "metadata": {},
   "outputs": [
    {
     "data": {
      "text/plain": [
       "'중,아,인 '"
      ]
     },
     "execution_count": 884,
     "metadata": {},
     "output_type": "execute_result"
    }
   ],
   "source": [
    "\"중,아,인 \""
   ]
  },
  {
   "cell_type": "code",
   "execution_count": 885,
   "metadata": {},
   "outputs": [],
   "source": [
    "first[first.str.contains(\"^거점국립대\")==True]=\"지방거점국립대\""
   ]
  },
  {
   "cell_type": "code",
   "execution_count": 886,
   "metadata": {},
   "outputs": [],
   "source": [
    "first[first.str.contains(\"경기도권\")==True]=\"지방사립대\""
   ]
  },
  {
   "cell_type": "code",
   "execution_count": 887,
   "metadata": {},
   "outputs": [],
   "source": [
    "first[first.str.contains(\"지방4\")==True]=\"지방사립대\""
   ]
  },
  {
   "cell_type": "code",
   "execution_count": 888,
   "metadata": {},
   "outputs": [],
   "source": [
    "first[first.str.contains(\"지방국립공\")==True]=\"지방국립대\""
   ]
  },
  {
   "cell_type": "code",
   "execution_count": 889,
   "metadata": {},
   "outputs": [],
   "source": [
    "first[first.str.contains(\"^국립대\")==True]=\"지방국립대\""
   ]
  },
  {
   "cell_type": "code",
   "execution_count": 890,
   "metadata": {},
   "outputs": [],
   "source": [
    "first[first.str.contains(\"숙대\")==True]=\"서울사립대(숙명여자대학교)\""
   ]
  },
  {
   "cell_type": "code",
   "execution_count": 891,
   "metadata": {},
   "outputs": [],
   "source": [
    "first[first.str.contains(\"서울하\")==True]=\"서울사립대\""
   ]
  },
  {
   "cell_type": "code",
   "execution_count": 892,
   "metadata": {},
   "outputs": [],
   "source": [
    "first[first.str.contains(\"서울소재\")==True]=\"서울사립대\""
   ]
  },
  {
   "cell_type": "code",
   "execution_count": 893,
   "metadata": {},
   "outputs": [
    {
     "data": {
      "text/plain": [
       "Series([], Name: 0, dtype: object)"
      ]
     },
     "execution_count": 893,
     "metadata": {},
     "output_type": "execute_result"
    }
   ],
   "source": [
    "first[first.str.contains(\"^지방사립 \")==True]"
   ]
  },
  {
   "cell_type": "code",
   "execution_count": 894,
   "metadata": {},
   "outputs": [],
   "source": [
    "first[first.str.contains(\"뉴\")==True]=\"해외대(미국)\""
   ]
  },
  {
   "cell_type": "code",
   "execution_count": 895,
   "metadata": {},
   "outputs": [],
   "source": [
    "first[first.str.contains(\"한서\")==True]=\"지방사립대(한서대학교)\""
   ]
  },
  {
   "cell_type": "code",
   "execution_count": 896,
   "metadata": {},
   "outputs": [
    {
     "data": {
      "text/plain": [
       "Series([], Name: 0, dtype: object)"
      ]
     },
     "execution_count": 896,
     "metadata": {},
     "output_type": "execute_result"
    }
   ],
   "source": [
    "first[first.str.contains(\"경기권\")==True]"
   ]
  },
  {
   "cell_type": "code",
   "execution_count": 897,
   "metadata": {},
   "outputs": [],
   "source": [
    "first[first.str.contains(\"한국산업기술\")==True]=\"지방사립대(한국산업기술대학교)\""
   ]
  },
  {
   "cell_type": "code",
   "execution_count": 898,
   "metadata": {},
   "outputs": [],
   "source": [
    "first[first.str.contains(\"사립대학교\")==True]=\"지방사립대\""
   ]
  },
  {
   "cell_type": "code",
   "execution_count": 899,
   "metadata": {},
   "outputs": [],
   "source": [
    "first[first.str.contains(\"카이스트\")==True]=\"KAIST\""
   ]
  },
  {
   "cell_type": "code",
   "execution_count": 900,
   "metadata": {},
   "outputs": [],
   "source": [
    "first[first.str.contains(\"경남과학기술대학교\")==True]=\"지방국립대(경남과학기술대학교)\""
   ]
  },
  {
   "cell_type": "code",
   "execution_count": 901,
   "metadata": {},
   "outputs": [
    {
     "data": {
      "text/plain": [
       "Series([], Name: 0, dtype: object)"
      ]
     },
     "execution_count": 901,
     "metadata": {},
     "output_type": "execute_result"
    }
   ],
   "source": [
    "first[first.str.contains(\"인문\")==True]"
   ]
  },
  {
   "cell_type": "code",
   "execution_count": 902,
   "metadata": {},
   "outputs": [],
   "source": [
    "first[first.str.contains(\"지방거점국립대학\")==True]=\"지방거점국립대\""
   ]
  },
  {
   "cell_type": "code",
   "execution_count": 903,
   "metadata": {},
   "outputs": [],
   "source": [
    "first[first.str.contains(\"서홍국\")==True]=\"서울사립대(홍익대학교)\""
   ]
  },
  {
   "cell_type": "code",
   "execution_count": 904,
   "metadata": {},
   "outputs": [],
   "source": [
    "first[first.str.contains(\"한기대\")==True]=\"지방사립대(한국기술교육대학교)\""
   ]
  },
  {
   "cell_type": "code",
   "execution_count": 905,
   "metadata": {},
   "outputs": [],
   "source": [
    "first[first.str.contains(\"중견\")==True]=\"서울사립대\""
   ]
  },
  {
   "cell_type": "code",
   "execution_count": 906,
   "metadata": {},
   "outputs": [],
   "source": [
    "first[first.str.contains(\"경원대\")==True]=\"지방사립대(가천대학교)\""
   ]
  },
  {
   "cell_type": "code",
   "execution_count": 907,
   "metadata": {},
   "outputs": [],
   "source": [
    "first[first.str.contains(\"목원\")==True]=\"지방사립대(목원대학교)\""
   ]
  },
  {
   "cell_type": "code",
   "execution_count": 908,
   "metadata": {},
   "outputs": [],
   "source": [
    "first[first.str.contains(\"c대\")==True]=\"서울사립대(중앙대학교)\""
   ]
  },
  {
   "cell_type": "code",
   "execution_count": 909,
   "metadata": {},
   "outputs": [
    {
     "data": {
      "text/plain": [
       "Series([], Name: 0, dtype: object)"
      ]
     },
     "execution_count": 909,
     "metadata": {},
     "output_type": "execute_result"
    }
   ],
   "source": [
    "first[first.str.contains(\"s\")==True]"
   ]
  },
  {
   "cell_type": "code",
   "execution_count": 910,
   "metadata": {},
   "outputs": [],
   "source": [
    "first[first.str.contains(\"울산과학\")==True]=\"UNIST\""
   ]
  },
  {
   "cell_type": "code",
   "execution_count": 911,
   "metadata": {},
   "outputs": [],
   "source": [
    "first[first.str.contains(\"캠퍼스\")==True]=\"지방사립대\""
   ]
  },
  {
   "cell_type": "code",
   "execution_count": 912,
   "metadata": {},
   "outputs": [],
   "source": [
    "first[first.str.contains(\"북경항공\")==True]=\"해외대(중국)\""
   ]
  },
  {
   "cell_type": "code",
   "execution_count": 913,
   "metadata": {},
   "outputs": [],
   "source": [
    "first[first.str.contains(\"북경\")==True]=\"해외대(중국)\""
   ]
  },
  {
   "cell_type": "code",
   "execution_count": 914,
   "metadata": {},
   "outputs": [],
   "source": [
    "first[first.str.contains(\"서울사립대\\(중앙대하굑\\)\")==True]=\"서울사립대(중앙대학교)\""
   ]
  },
  {
   "cell_type": "code",
   "execution_count": 915,
   "metadata": {},
   "outputs": [
    {
     "data": {
      "text/plain": [
       "Series([], Name: 0, dtype: object)"
      ]
     },
     "execution_count": 915,
     "metadata": {},
     "output_type": "execute_result"
    }
   ],
   "source": [
    "first[first.str.contains(\"중앙대하굑\")==True]"
   ]
  },
  {
   "cell_type": "code",
   "execution_count": 916,
   "metadata": {},
   "outputs": [],
   "source": [
    "first[first.str.contains(\"중,\")==True]=\"서울사립대(경희대학교)\""
   ]
  },
  {
   "cell_type": "code",
   "execution_count": 917,
   "metadata": {},
   "outputs": [],
   "source": [
    "first[first.str.contains(\"강남대학교\")==True]=\"지방사립대(강남대학교)\""
   ]
  },
  {
   "cell_type": "code",
   "execution_count": 918,
   "metadata": {},
   "outputs": [],
   "source": [
    "first[first.str.contains(\"홍대\")==True]=\"서울사립대(홍익대학교)\""
   ]
  },
  {
   "cell_type": "code",
   "execution_count": 919,
   "metadata": {},
   "outputs": [],
   "source": [
    "first[first.str.contains(\"에리카\")==True]=\"지방사립대(한양대에리카)\""
   ]
  },
  {
   "cell_type": "code",
   "execution_count": 920,
   "metadata": {},
   "outputs": [],
   "source": [
    "first[first.str.contains(\"교대\")==True]=\"서울국립대(서울교육대학교)\""
   ]
  },
  {
   "cell_type": "code",
   "execution_count": 921,
   "metadata": {},
   "outputs": [],
   "source": [
    "first[first.str.contains(\"중아인\")==True]=\"서울사립대(아주대학교)\""
   ]
  },
  {
   "cell_type": "code",
   "execution_count": 922,
   "metadata": {},
   "outputs": [],
   "source": [
    "first[first.str.contains(\"국외대\")==True]=\"해외대\""
   ]
  },
  {
   "cell_type": "code",
   "execution_count": 923,
   "metadata": {},
   "outputs": [],
   "source": [
    "first[first.str.contains(\"I대\")==True]=\"지방사립대(인하대학교)\""
   ]
  },
  {
   "cell_type": "code",
   "execution_count": 924,
   "metadata": {},
   "outputs": [],
   "source": [
    "first[first.str.contains(\"경기사립\")==True]=\"지방사립대\""
   ]
  },
  {
   "cell_type": "code",
   "execution_count": 925,
   "metadata": {},
   "outputs": [],
   "source": [
    "first[first.str.contains(\"지방거주\")==True]=\"지방사립대\""
   ]
  },
  {
   "cell_type": "code",
   "execution_count": 926,
   "metadata": {},
   "outputs": [],
   "source": [
    "first[first.str.contains(\"초대졸\")==True]=\"전문대\""
   ]
  },
  {
   "cell_type": "code",
   "execution_count": 927,
   "metadata": {},
   "outputs": [],
   "source": [
    "first[first.str.contains(\"지국대\")==True]=\"지방국립대\""
   ]
  },
  {
   "cell_type": "code",
   "execution_count": 933,
   "metadata": {},
   "outputs": [],
   "source": [
    "first=pd.read_csv(\"20200806.txt\",encoding=\"utf-8\")"
   ]
  },
  {
   "cell_type": "code",
   "execution_count": 934,
   "metadata": {},
   "outputs": [
    {
     "data": {
      "text/html": [
       "<div>\n",
       "<style scoped>\n",
       "    .dataframe tbody tr th:only-of-type {\n",
       "        vertical-align: middle;\n",
       "    }\n",
       "\n",
       "    .dataframe tbody tr th {\n",
       "        vertical-align: top;\n",
       "    }\n",
       "\n",
       "    .dataframe thead th {\n",
       "        text-align: right;\n",
       "    }\n",
       "</style>\n",
       "<table border=\"1\" class=\"dataframe\">\n",
       "  <thead>\n",
       "    <tr style=\"text-align: right;\">\n",
       "      <th></th>\n",
       "      <th>Unnamed: 0</th>\n",
       "      <th>0</th>\n",
       "    </tr>\n",
       "  </thead>\n",
       "  <tbody>\n",
       "    <tr>\n",
       "      <th>0</th>\n",
       "      <td>0</td>\n",
       "      <td>고등학교졸업</td>\n",
       "    </tr>\n",
       "    <tr>\n",
       "      <th>1</th>\n",
       "      <td>1</td>\n",
       "      <td>서울사립대(중앙대학교)</td>\n",
       "    </tr>\n",
       "    <tr>\n",
       "      <th>2</th>\n",
       "      <td>2</td>\n",
       "      <td>지방거점국립대(제주대학교)</td>\n",
       "    </tr>\n",
       "    <tr>\n",
       "      <th>3</th>\n",
       "      <td>3</td>\n",
       "      <td>지방거점국립대(충남대학교)</td>\n",
       "    </tr>\n",
       "    <tr>\n",
       "      <th>4</th>\n",
       "      <td>4</td>\n",
       "      <td>서울사립대(건국대학교)</td>\n",
       "    </tr>\n",
       "    <tr>\n",
       "      <th>...</th>\n",
       "      <td>...</td>\n",
       "      <td>...</td>\n",
       "    </tr>\n",
       "    <tr>\n",
       "      <th>10102</th>\n",
       "      <td>10102</td>\n",
       "      <td>서울사립대(상명대학교)</td>\n",
       "    </tr>\n",
       "    <tr>\n",
       "      <th>10103</th>\n",
       "      <td>10103</td>\n",
       "      <td>전문대</td>\n",
       "    </tr>\n",
       "    <tr>\n",
       "      <th>10104</th>\n",
       "      <td>10104</td>\n",
       "      <td>지방거점국립대</td>\n",
       "    </tr>\n",
       "    <tr>\n",
       "      <th>10105</th>\n",
       "      <td>10105</td>\n",
       "      <td>지방거점국립대</td>\n",
       "    </tr>\n",
       "    <tr>\n",
       "      <th>10106</th>\n",
       "      <td>10106</td>\n",
       "      <td>지방거점국립대</td>\n",
       "    </tr>\n",
       "  </tbody>\n",
       "</table>\n",
       "<p>10107 rows × 2 columns</p>\n",
       "</div>"
      ],
      "text/plain": [
       "       Unnamed: 0               0\n",
       "0               0          고등학교졸업\n",
       "1               1    서울사립대(중앙대학교)\n",
       "2               2  지방거점국립대(제주대학교)\n",
       "3               3  지방거점국립대(충남대학교)\n",
       "4               4    서울사립대(건국대학교)\n",
       "...           ...             ...\n",
       "10102       10102    서울사립대(상명대학교)\n",
       "10103       10103             전문대\n",
       "10104       10104         지방거점국립대\n",
       "10105       10105         지방거점국립대\n",
       "10106       10106         지방거점국립대\n",
       "\n",
       "[10107 rows x 2 columns]"
      ]
     },
     "execution_count": 934,
     "metadata": {},
     "output_type": "execute_result"
    }
   ],
   "source": [
    "first[first.str.contains(\"지국대\")==True]=\"지방국립대\""
   ]
  },
  {
   "cell_type": "code",
   "execution_count": null,
   "metadata": {},
   "outputs": [],
   "source": []
  },
  {
   "cell_type": "code",
   "execution_count": null,
   "metadata": {},
   "outputs": [],
   "source": []
  },
  {
   "cell_type": "code",
   "execution_count": null,
   "metadata": {},
   "outputs": [],
   "source": []
  },
  {
   "cell_type": "code",
   "execution_count": null,
   "metadata": {},
   "outputs": [],
   "source": []
  },
  {
   "cell_type": "code",
   "execution_count": null,
   "metadata": {},
   "outputs": [],
   "source": []
  },
  {
   "cell_type": "code",
   "execution_count": null,
   "metadata": {},
   "outputs": [],
   "source": []
  },
  {
   "cell_type": "code",
   "execution_count": null,
   "metadata": {},
   "outputs": [],
   "source": []
  },
  {
   "cell_type": "code",
   "execution_count": 935,
   "metadata": {},
   "outputs": [
    {
     "ename": "AttributeError",
     "evalue": "'DataFrame' object has no attribute 'str'",
     "output_type": "error",
     "traceback": [
      "\u001b[1;31m---------------------------------------------------------------------------\u001b[0m",
      "\u001b[1;31mAttributeError\u001b[0m                            Traceback (most recent call last)",
      "\u001b[1;32m<ipython-input-935-3eaba819cef6>\u001b[0m in \u001b[0;36m<module>\u001b[1;34m\u001b[0m\n\u001b[1;32m----> 1\u001b[1;33m \u001b[0mfirst\u001b[0m\u001b[1;33m[\u001b[0m\u001b[0mfirst\u001b[0m\u001b[1;33m.\u001b[0m\u001b[0mstr\u001b[0m\u001b[1;33m.\u001b[0m\u001b[0mcontains\u001b[0m\u001b[1;33m(\u001b[0m\u001b[1;34m\"^가톨릭\"\u001b[0m\u001b[1;33m)\u001b[0m\u001b[1;33m==\u001b[0m\u001b[1;32mTrue\u001b[0m\u001b[1;33m]\u001b[0m\u001b[1;33m\u001b[0m\u001b[1;33m\u001b[0m\u001b[0m\n\u001b[0m",
      "\u001b[1;32m~\\anaconda3\\lib\\site-packages\\pandas\\core\\generic.py\u001b[0m in \u001b[0;36m__getattr__\u001b[1;34m(self, name)\u001b[0m\n\u001b[0;32m   5272\u001b[0m             \u001b[1;32mif\u001b[0m \u001b[0mself\u001b[0m\u001b[1;33m.\u001b[0m\u001b[0m_info_axis\u001b[0m\u001b[1;33m.\u001b[0m\u001b[0m_can_hold_identifiers_and_holds_name\u001b[0m\u001b[1;33m(\u001b[0m\u001b[0mname\u001b[0m\u001b[1;33m)\u001b[0m\u001b[1;33m:\u001b[0m\u001b[1;33m\u001b[0m\u001b[1;33m\u001b[0m\u001b[0m\n\u001b[0;32m   5273\u001b[0m                 \u001b[1;32mreturn\u001b[0m \u001b[0mself\u001b[0m\u001b[1;33m[\u001b[0m\u001b[0mname\u001b[0m\u001b[1;33m]\u001b[0m\u001b[1;33m\u001b[0m\u001b[1;33m\u001b[0m\u001b[0m\n\u001b[1;32m-> 5274\u001b[1;33m             \u001b[1;32mreturn\u001b[0m \u001b[0mobject\u001b[0m\u001b[1;33m.\u001b[0m\u001b[0m__getattribute__\u001b[0m\u001b[1;33m(\u001b[0m\u001b[0mself\u001b[0m\u001b[1;33m,\u001b[0m \u001b[0mname\u001b[0m\u001b[1;33m)\u001b[0m\u001b[1;33m\u001b[0m\u001b[1;33m\u001b[0m\u001b[0m\n\u001b[0m\u001b[0;32m   5275\u001b[0m \u001b[1;33m\u001b[0m\u001b[0m\n\u001b[0;32m   5276\u001b[0m     \u001b[1;32mdef\u001b[0m \u001b[0m__setattr__\u001b[0m\u001b[1;33m(\u001b[0m\u001b[0mself\u001b[0m\u001b[1;33m,\u001b[0m \u001b[0mname\u001b[0m\u001b[1;33m:\u001b[0m \u001b[0mstr\u001b[0m\u001b[1;33m,\u001b[0m \u001b[0mvalue\u001b[0m\u001b[1;33m)\u001b[0m \u001b[1;33m->\u001b[0m \u001b[1;32mNone\u001b[0m\u001b[1;33m:\u001b[0m\u001b[1;33m\u001b[0m\u001b[1;33m\u001b[0m\u001b[0m\n",
      "\u001b[1;31mAttributeError\u001b[0m: 'DataFrame' object has no attribute 'str'"
     ]
    }
   ],
   "source": [
    "first[first.str.contains(\"^가톨릭\")==True]"
   ]
  },
  {
   "cell_type": "code",
   "execution_count": 929,
   "metadata": {},
   "outputs": [],
   "source": [
    "first[first.str.contains(\"IST\")==True]=\"과학기술원\""
   ]
  },
  {
   "cell_type": "code",
   "execution_count": 930,
   "metadata": {},
   "outputs": [],
   "source": [
    "first[first.str.contains(\"포항\")==True]=\"과학기술원\""
   ]
  },
  {
   "cell_type": "code",
   "execution_count": 932,
   "metadata": {},
   "outputs": [
    {
     "data": {
      "text/plain": [
       "119      학점 3.57 \n",
       "139      학점 3.57 \n",
       "166      학점 3.57 \n",
       "811      학점 3.67 \n",
       "820      학점 3.67 \n",
       "           ...   \n",
       "7975     학점 3.96 \n",
       "8845     학점 3.99 \n",
       "9298     학점 3.38 \n",
       "10047     학점 3.6 \n",
       "10067     학점 3.6 \n",
       "Name: 0, Length: 104, dtype: object"
      ]
     },
     "execution_count": 932,
     "metadata": {},
     "output_type": "execute_result"
    }
   ],
   "source": [
    "first[first.str.contains(\"학점\")==True]"
   ]
  },
  {
   "cell_type": "code",
   "execution_count": 939,
   "metadata": {},
   "outputs": [
    {
     "data": {
      "text/plain": [
       "10057    NaN\n",
       "10058    NaN\n",
       "10059    NaN\n",
       "10060    NaN\n",
       "10061    NaN\n",
       "10062    NaN\n",
       "10063    NaN\n",
       "10064    NaN\n",
       "10065    NaN\n",
       "10066    NaN\n",
       "10067    NaN\n",
       "10068    NaN\n",
       "10069    NaN\n",
       "10070    NaN\n",
       "10071    NaN\n",
       "10072    NaN\n",
       "10073    NaN\n",
       "10074    NaN\n",
       "10075    NaN\n",
       "10076    NaN\n",
       "10077    NaN\n",
       "10078    NaN\n",
       "10079    NaN\n",
       "10080    NaN\n",
       "10081    NaN\n",
       "10082    NaN\n",
       "10083    NaN\n",
       "10084    NaN\n",
       "10085    NaN\n",
       "10086    NaN\n",
       "10087    NaN\n",
       "10088    NaN\n",
       "10089    NaN\n",
       "10090    NaN\n",
       "10091    NaN\n",
       "10092    NaN\n",
       "10093    NaN\n",
       "10094    NaN\n",
       "10095    NaN\n",
       "10096    NaN\n",
       "10097    NaN\n",
       "10098    NaN\n",
       "10099    NaN\n",
       "10100    NaN\n",
       "10101    NaN\n",
       "10102    NaN\n",
       "10103    NaN\n",
       "10104    NaN\n",
       "10105    NaN\n",
       "10106    NaN\n",
       "Name: 학점, dtype: object"
      ]
     },
     "execution_count": 939,
     "metadata": {},
     "output_type": "execute_result"
    }
   ],
   "source": [
    "df[\"학점\"].tail(50)"
   ]
  },
  {
   "cell_type": "code",
   "execution_count": null,
   "metadata": {},
   "outputs": [],
   "source": [
    "df[\"학점\"] = first[first.str.contains(\"학점\")==True]"
   ]
  },
  {
   "cell_type": "code",
   "execution_count": null,
   "metadata": {
    "scrolled": true
   },
   "outputs": [],
   "source": [
    "first[first.str.contains(\"교내\")==True]"
   ]
  },
  {
   "cell_type": "code",
   "execution_count": null,
   "metadata": {
    "scrolled": true
   },
   "outputs": [],
   "source": [
    "first[first.str.contains(\"컴활\")==True]=\"\""
   ]
  },
  {
   "cell_type": "code",
   "execution_count": 594,
   "metadata": {},
   "outputs": [
    {
     "data": {
      "text/plain": [
       "'학점 3.57 '"
      ]
     },
     "execution_count": 594,
     "metadata": {},
     "output_type": "execute_result"
    }
   ],
   "source": [
    "df[\"학점\"]"
   ]
  },
  {
   "cell_type": "code",
   "execution_count": null,
   "metadata": {},
   "outputs": [],
   "source": [
    "df['경험사항']=first[first.str.contains(\"컴활\")==True]"
   ]
  },
  {
   "cell_type": "code",
   "execution_count": null,
   "metadata": {},
   "outputs": [],
   "source": [
    "df['경험사항']=first[first.str.contains(\"교내\")==True]"
   ]
  },
  {
   "cell_type": "code",
   "execution_count": null,
   "metadata": {
    "scrolled": false
   },
   "outputs": [],
   "source": [
    "df['경험사항'][11]"
   ]
  },
  {
   "cell_type": "code",
   "execution_count": null,
   "metadata": {},
   "outputs": [],
   "source": [
    "first[first.str.contains(\"교내\")==True]=\" \""
   ]
  },
  {
   "cell_type": "code",
   "execution_count": null,
   "metadata": {},
   "outputs": [],
   "source": [
    "first[first.str.contains(\"전기\")==True]"
   ]
  },
  {
   "cell_type": "code",
   "execution_count": null,
   "metadata": {},
   "outputs": [],
   "source": [
    "df['학과']=first[first.str.contains(\"전기\")==True]"
   ]
  },
  {
   "cell_type": "code",
   "execution_count": 621,
   "metadata": {},
   "outputs": [
    {
     "data": {
      "text/plain": [
       "Series([], Name: 0, dtype: object)"
      ]
     },
     "execution_count": 621,
     "metadata": {},
     "output_type": "execute_result"
    }
   ],
   "source": [
    "first[first.str.contains(\"교내\")==True]"
   ]
  },
  {
   "cell_type": "code",
   "execution_count": null,
   "metadata": {},
   "outputs": [],
   "source": [
    "df['학과']"
   ]
  },
  {
   "cell_type": "code",
   "execution_count": null,
   "metadata": {},
   "outputs": [],
   "source": [
    "first[first.str.contains(\"전기\")==True]=\"\""
   ]
  },
  {
   "cell_type": "code",
   "execution_count": null,
   "metadata": {},
   "outputs": [],
   "source": [
    "df['학과']=first[first.str.contains(\"영어\")==True]"
   ]
  },
  {
   "cell_type": "code",
   "execution_count": null,
   "metadata": {},
   "outputs": [],
   "source": [
    "first[first.str.contains(\"영어\")==True]=\"\""
   ]
  },
  {
   "cell_type": "code",
   "execution_count": null,
   "metadata": {},
   "outputs": [],
   "source": [
    "df['학과']=first[first.str.contains(\"디자인\")==True]"
   ]
  },
  {
   "cell_type": "code",
   "execution_count": null,
   "metadata": {},
   "outputs": [],
   "source": [
    "first[first.str.contains(\"영어\")==True]=''"
   ]
  },
  {
   "cell_type": "code",
   "execution_count": null,
   "metadata": {},
   "outputs": [],
   "source": [
    "df['학과']=first[first.str.contains(\"그래픽\")==True]"
   ]
  },
  {
   "cell_type": "code",
   "execution_count": null,
   "metadata": {},
   "outputs": [],
   "source": [
    "first[first.str.contains(\"그래픽\")==True]=\"\""
   ]
  },
  {
   "cell_type": "code",
   "execution_count": null,
   "metadata": {},
   "outputs": [],
   "source": [
    "df['학과']=first[first.str.contains(\"학과\")==True]"
   ]
  },
  {
   "cell_type": "code",
   "execution_count": null,
   "metadata": {},
   "outputs": [],
   "source": [
    "first[first.str.contains(\"그래픽\")==True]=\"\""
   ]
  },
  {
   "cell_type": "code",
   "execution_count": null,
   "metadata": {},
   "outputs": [],
   "source": [
    "first[first.str.contains(\"학과\")==True]=\"\""
   ]
  },
  {
   "cell_type": "code",
   "execution_count": null,
   "metadata": {},
   "outputs": [],
   "source": [
    "df['학과']=first[first.str.contains(\"통상\")==True]"
   ]
  },
  {
   "cell_type": "code",
   "execution_count": null,
   "metadata": {},
   "outputs": [],
   "source": [
    "first[first.str.contains(\"통상\")==True]=\"\""
   ]
  },
  {
   "cell_type": "code",
   "execution_count": null,
   "metadata": {},
   "outputs": [],
   "source": [
    "df['학과']=first[first.str.contains(\"컴퓨터\")==True]"
   ]
  },
  {
   "cell_type": "code",
   "execution_count": null,
   "metadata": {},
   "outputs": [],
   "source": [
    "first[first.str.contains(\"컴퓨터\")==True]=\"\""
   ]
  },
  {
   "cell_type": "code",
   "execution_count": null,
   "metadata": {},
   "outputs": [],
   "source": [
    "first[first.str.contains(\"경영\")==True]=\"경영학\""
   ]
  },
  {
   "cell_type": "code",
   "execution_count": null,
   "metadata": {},
   "outputs": [],
   "source": [
    "df[\"학과\"]=first[first.str.contains(\"경영학\")==True]"
   ]
  },
  {
   "cell_type": "code",
   "execution_count": null,
   "metadata": {},
   "outputs": [],
   "source": [
    "first[first.str.contains(\"경영학\")==True]=\"\""
   ]
  },
  {
   "cell_type": "code",
   "execution_count": null,
   "metadata": {},
   "outputs": [],
   "source": [
    "df[\"학과\"]=first[first.str.contains(\"디자인\")==True]"
   ]
  },
  {
   "cell_type": "code",
   "execution_count": null,
   "metadata": {},
   "outputs": [],
   "source": [
    "first[first.str.contains(\"디자인\")==True]=\"\""
   ]
  },
  {
   "cell_type": "code",
   "execution_count": null,
   "metadata": {},
   "outputs": [],
   "source": [
    "df[\"학과\"]=first[first.str.contains(\"바이오\")==True]"
   ]
  },
  {
   "cell_type": "code",
   "execution_count": null,
   "metadata": {},
   "outputs": [],
   "source": [
    "first[first.str.contains(\"바이오\")==True]=\"\""
   ]
  },
  {
   "cell_type": "code",
   "execution_count": null,
   "metadata": {},
   "outputs": [],
   "source": [
    "first[first.str.contains(\"화공\")==True]=\"화학공학과\""
   ]
  },
  {
   "cell_type": "code",
   "execution_count": null,
   "metadata": {},
   "outputs": [],
   "source": [
    "df[\"학과\"]=first[first.str.contains(\"화학공학과\")==True]"
   ]
  },
  {
   "cell_type": "code",
   "execution_count": null,
   "metadata": {},
   "outputs": [],
   "source": [
    "first[first.str.contains(\"화학공학과\")==True]=\"\""
   ]
  },
  {
   "cell_type": "code",
   "execution_count": null,
   "metadata": {},
   "outputs": [],
   "source": [
    "first[first.str.contains(\"전자공\")==True]=\"전자공학\""
   ]
  },
  {
   "cell_type": "code",
   "execution_count": 679,
   "metadata": {},
   "outputs": [],
   "source": [
    "first[first.str.contains(\"전자공학\")==True]=\"\""
   ]
  },
  {
   "cell_type": "code",
   "execution_count": null,
   "metadata": {},
   "outputs": [],
   "source": []
  },
  {
   "cell_type": "code",
   "execution_count": null,
   "metadata": {},
   "outputs": [],
   "source": []
  },
  {
   "cell_type": "code",
   "execution_count": null,
   "metadata": {},
   "outputs": [],
   "source": []
  },
  {
   "cell_type": "code",
   "execution_count": null,
   "metadata": {},
   "outputs": [],
   "source": []
  },
  {
   "cell_type": "code",
   "execution_count": null,
   "metadata": {},
   "outputs": [],
   "source": []
  },
  {
   "cell_type": "code",
   "execution_count": null,
   "metadata": {},
   "outputs": [],
   "source": []
  },
  {
   "cell_type": "code",
   "execution_count": null,
   "metadata": {},
   "outputs": [],
   "source": []
  },
  {
   "cell_type": "code",
   "execution_count": null,
   "metadata": {},
   "outputs": [],
   "source": []
  },
  {
   "cell_type": "code",
   "execution_count": 574,
   "metadata": {},
   "outputs": [
    {
     "ename": "TypeError",
     "evalue": "expected string or bytes-like object",
     "output_type": "error",
     "traceback": [
      "\u001b[1;31m---------------------------------------------------------------------------\u001b[0m",
      "\u001b[1;31mTypeError\u001b[0m                                 Traceback (most recent call last)",
      "\u001b[1;32m<ipython-input-574-37f204041d90>\u001b[0m in \u001b[0;36m<module>\u001b[1;34m\u001b[0m\n\u001b[0;32m      2\u001b[0m \u001b[0mtext\u001b[0m \u001b[1;33m=\u001b[0m \u001b[0mfirst\u001b[0m\u001b[1;33m[\u001b[0m\u001b[0mfirst\u001b[0m\u001b[1;33m.\u001b[0m\u001b[0mstr\u001b[0m\u001b[1;33m.\u001b[0m\u001b[0mcontains\u001b[0m\u001b[1;33m(\u001b[0m\u001b[1;34m\"지방국립\"\u001b[0m\u001b[1;33m)\u001b[0m\u001b[1;33m==\u001b[0m\u001b[1;32mTrue\u001b[0m\u001b[1;33m]\u001b[0m\u001b[1;33m\u001b[0m\u001b[1;33m\u001b[0m\u001b[0m\n\u001b[0;32m      3\u001b[0m \u001b[0mregex\u001b[0m \u001b[1;33m=\u001b[0m \u001b[0mre\u001b[0m\u001b[1;33m.\u001b[0m\u001b[0mcompile\u001b[0m\u001b[1;33m(\u001b[0m\u001b[1;34mr\"지방국립$\"\u001b[0m\u001b[1;33m)\u001b[0m\u001b[1;33m\u001b[0m\u001b[1;33m\u001b[0m\u001b[0m\n\u001b[1;32m----> 4\u001b[1;33m \u001b[0mmc\u001b[0m \u001b[1;33m=\u001b[0m \u001b[0mregex\u001b[0m\u001b[1;33m.\u001b[0m\u001b[0mfindall\u001b[0m\u001b[1;33m(\u001b[0m\u001b[0mtext\u001b[0m\u001b[1;33m)\u001b[0m\u001b[1;33m\u001b[0m\u001b[1;33m\u001b[0m\u001b[0m\n\u001b[0m\u001b[0;32m      5\u001b[0m \u001b[0mprint\u001b[0m\u001b[1;33m(\u001b[0m\u001b[0mmc\u001b[0m\u001b[1;33m)\u001b[0m\u001b[1;33m\u001b[0m\u001b[1;33m\u001b[0m\u001b[0m\n",
      "\u001b[1;31mTypeError\u001b[0m: expected string or bytes-like object"
     ]
    }
   ],
   "source": [
    "import re\n",
    "text = first[first.str.contains(\"지방국립\")==True]\n",
    "regex = re.compile(r\"지방국립$\")\n",
    "mc = regex.findall(text)\n",
    "print(mc)"
   ]
  },
  {
   "cell_type": "code",
   "execution_count": 450,
   "metadata": {},
   "outputs": [
    {
     "name": "stdout",
     "output_type": "stream",
     "text": [
      "['지방국립']\n"
     ]
    }
   ],
   "source": [
    "text=\"3050,지방국립\"\n",
    "regex = re.compile(\"지방국립$\")\n",
    "mc = regex.findall(text)\n",
    "print(mc)"
   ]
  },
  {
   "cell_type": "code",
   "execution_count": 451,
   "metadata": {},
   "outputs": [
    {
     "name": "stdout",
     "output_type": "stream",
     "text": [
      "['지방국립대']\n"
     ]
    }
   ],
   "source": [
    "text=\"3050,지방국립대(인천대학교)\"\n",
    "regex = re.compile(r\"지방국립대\")\n",
    "mc = regex.findall(text)\n",
    "print(mc)"
   ]
  },
  {
   "cell_type": "code",
   "execution_count": 452,
   "metadata": {},
   "outputs": [
    {
     "name": "stdout",
     "output_type": "stream",
     "text": [
      "[]\n"
     ]
    }
   ],
   "source": [
    "text=\"3050,지방국립대(인천대학교)\"\n",
    "regex = re.compile(r\"지방국립$\")\n",
    "mc = regex.findall(text)\n",
    "print(mc)"
   ]
  },
  {
   "cell_type": "code",
   "execution_count": null,
   "metadata": {},
   "outputs": [],
   "source": []
  },
  {
   "cell_type": "code",
   "execution_count": null,
   "metadata": {},
   "outputs": [],
   "source": []
  },
  {
   "cell_type": "code",
   "execution_count": null,
   "metadata": {},
   "outputs": [],
   "source": [
    "first.to_csv(\"final.txt\",encoding=\"utf-8\")"
   ]
  }
 ],
 "metadata": {
  "kernelspec": {
   "display_name": "Python 3",
   "language": "python",
   "name": "python3"
  },
  "language_info": {
   "codemirror_mode": {
    "name": "ipython",
    "version": 3
   },
   "file_extension": ".py",
   "mimetype": "text/x-python",
   "name": "python",
   "nbconvert_exporter": "python",
   "pygments_lexer": "ipython3",
   "version": "3.7.6"
  }
 },
 "nbformat": 4,
 "nbformat_minor": 4
}
