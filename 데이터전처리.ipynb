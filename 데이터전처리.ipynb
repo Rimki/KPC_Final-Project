{
 "cells": [
  {
   "cell_type": "code",
   "execution_count": 1,
   "metadata": {},
   "outputs": [],
   "source": [
    "import pandas as pd"
   ]
  },
  {
   "cell_type": "code",
   "execution_count": 2,
   "metadata": {},
   "outputs": [],
   "source": [
    "raw_df = pd.read_csv(\"WriteData.csv\")"
   ]
  },
  {
   "cell_type": "code",
   "execution_count": 3,
   "metadata": {},
   "outputs": [
    {
     "data": {
      "text/html": [
       "<div>\n",
       "<style scoped>\n",
       "    .dataframe tbody tr th:only-of-type {\n",
       "        vertical-align: middle;\n",
       "    }\n",
       "\n",
       "    .dataframe tbody tr th {\n",
       "        vertical-align: top;\n",
       "    }\n",
       "\n",
       "    .dataframe thead th {\n",
       "        text-align: right;\n",
       "    }\n",
       "</style>\n",
       "<table border=\"1\" class=\"dataframe\">\n",
       "  <thead>\n",
       "    <tr style=\"text-align: right;\">\n",
       "      <th></th>\n",
       "      <th>1</th>\n",
       "      <th>2</th>\n",
       "      <th>3</th>\n",
       "    </tr>\n",
       "  </thead>\n",
       "  <tbody>\n",
       "    <tr>\n",
       "      <th>0</th>\n",
       "      <td>한국석유공사 / 설비 / 2020 상반기</td>\n",
       "      <td>광주전자공업고등학교 / 학점 1.7등급 / 인천 글로벌 숙련 진흥원 5일, 선반, ...</td>\n",
       "      <td>7.한국석유공사\\n\\n 1. 지원 분야 직무기술서 ‘직무수행 내용’ 중 본인이 가장...</td>\n",
       "    </tr>\n",
       "    <tr>\n",
       "      <th>1</th>\n",
       "      <td>CJ제일제당 / Food Sales / 2020 상반기</td>\n",
       "      <td>중경외시 / 상경계열 / 학점 3.92 / 토익 905, 토스 LV 6 / 봉사활동...</td>\n",
       "      <td>CJ제일제당 및 선택한 직무에 대한 지원동기는 무엇인가요? ① 선택한 직무에 관심을...</td>\n",
       "    </tr>\n",
       "    <tr>\n",
       "      <th>2</th>\n",
       "      <td>한국가스안전공사 / LP가스 안전지킴이사업 / 2020 상반기</td>\n",
       "      <td>제주대학교 / 학점 3.3 / 토익830 / 컴퓨터활용능력1급, 한국사1급</td>\n",
       "      <td>\\n1. 한국가스안전공사가 진행하는 사업에 관심을 갖고 공사에 지원한 동기에 대해 ...</td>\n",
       "    </tr>\n",
       "    <tr>\n",
       "      <th>3</th>\n",
       "      <td>코레일 / 사무영업 / 2020 상반기</td>\n",
       "      <td>충남대학교 / 학점 3.87 / 토익 835 / 토론동아리 3년, 컴활1급, 한국사1급</td>\n",
       "      <td>1.공동체의 일원으로서 가장 중요하게 생각하는 가치를 제시하고, 그 가치를 실천했던...</td>\n",
       "    </tr>\n",
       "    <tr>\n",
       "      <th>4</th>\n",
       "      <td>한국기술교육대학교 / 행정 / 2020 상반기</td>\n",
       "      <td>건국대학교 / 학점 4.0 / 토익 780 / 컴활 1급, 한국사1급</td>\n",
       "      <td>1. 본인이 가진 가장 뛰어난 점과 그렇게 판단한 이유, 고용노동연수원 업무수행에서...</td>\n",
       "    </tr>\n",
       "    <tr>\n",
       "      <th>...</th>\n",
       "      <td>...</td>\n",
       "      <td>...</td>\n",
       "      <td>...</td>\n",
       "    </tr>\n",
       "    <tr>\n",
       "      <th>10102</th>\n",
       "      <td>현대자동차 / 영업관리 / 2013 상반기</td>\n",
       "      <td>상명대학교 / 국제통상학 / 학점 4.3 / 토익 900, HSK 6급 / 해외인턴...</td>\n",
       "      <td>1. 현대자동차에 지원하게 된 동기 또는 해당 직무에 지원하게 된 동기는 무엇입니까...</td>\n",
       "    </tr>\n",
       "    <tr>\n",
       "      <th>10103</th>\n",
       "      <td>심팩 / 용접관리 / 2013 상반기</td>\n",
       "      <td>지방전문대 / 공업화학 / 학점 3.06</td>\n",
       "      <td>성격소개\\n\\n대부분의 사람들이 평가하는 첫인상은 소심하고 내성적인 성격일것이라 생...</td>\n",
       "    </tr>\n",
       "    <tr>\n",
       "      <th>10104</th>\n",
       "      <td>한국전력 / 인턴[송,배전] / 2013 상반기</td>\n",
       "      <td>지거국 / 전자공학 / 학점 3.7 / 토익 900대 / 음악봉사활동, 멘토링 등</td>\n",
       "      <td>[질문 1] 취업이라는 목표 이외에 인생의 큰 목표를 세운 경험, 그 목표를 실현하...</td>\n",
       "    </tr>\n",
       "    <tr>\n",
       "      <th>10105</th>\n",
       "      <td>한국전력 / 인턴[송,배전] / 2013 상반기</td>\n",
       "      <td>지거국 / 전자공학 / 학점 3.7 / 토익 900 / 음악봉사활동, 멘토링등</td>\n",
       "      <td>한전 자가소개서 양식 500자 12줄 이내\\n\\n[질문 1] 취업이라는 목표 이외에...</td>\n",
       "    </tr>\n",
       "    <tr>\n",
       "      <th>10106</th>\n",
       "      <td>한국전력 / 인턴[송,배전] / 2013 상반기</td>\n",
       "      <td>지거국 / 전자공학 / 학점 3.7 / 토익 900 / 음악봉사활동, 멘토링등</td>\n",
       "      <td>한전 자가소개서 양식 500자 12줄 이내\\n\\n[질문 1] 취업이라는 목표 이외에...</td>\n",
       "    </tr>\n",
       "  </tbody>\n",
       "</table>\n",
       "<p>10107 rows × 3 columns</p>\n",
       "</div>"
      ],
      "text/plain": [
       "                                        1  \\\n",
       "0                  한국석유공사 / 설비 / 2020 상반기   \n",
       "1          CJ제일제당 / Food Sales / 2020 상반기   \n",
       "2      한국가스안전공사 / LP가스 안전지킴이사업 / 2020 상반기   \n",
       "3                   코레일 / 사무영업 / 2020 상반기   \n",
       "4               한국기술교육대학교 / 행정 / 2020 상반기   \n",
       "...                                   ...   \n",
       "10102             현대자동차 / 영업관리 / 2013 상반기   \n",
       "10103                심팩 / 용접관리 / 2013 상반기   \n",
       "10104          한국전력 / 인턴[송,배전] / 2013 상반기   \n",
       "10105          한국전력 / 인턴[송,배전] / 2013 상반기   \n",
       "10106          한국전력 / 인턴[송,배전] / 2013 상반기   \n",
       "\n",
       "                                                       2  \\\n",
       "0      광주전자공업고등학교 / 학점 1.7등급 / 인천 글로벌 숙련 진흥원 5일, 선반, ...   \n",
       "1      중경외시 / 상경계열 / 학점 3.92 / 토익 905, 토스 LV 6 / 봉사활동...   \n",
       "2              제주대학교 / 학점 3.3 / 토익830 / 컴퓨터활용능력1급, 한국사1급   \n",
       "3       충남대학교 / 학점 3.87 / 토익 835 / 토론동아리 3년, 컴활1급, 한국사1급   \n",
       "4                 건국대학교 / 학점 4.0 / 토익 780 / 컴활 1급, 한국사1급   \n",
       "...                                                  ...   \n",
       "10102  상명대학교 / 국제통상학 / 학점 4.3 / 토익 900, HSK 6급 / 해외인턴...   \n",
       "10103                             지방전문대 / 공업화학 / 학점 3.06   \n",
       "10104      지거국 / 전자공학 / 학점 3.7 / 토익 900대 / 음악봉사활동, 멘토링 등   \n",
       "10105        지거국 / 전자공학 / 학점 3.7 / 토익 900 / 음악봉사활동, 멘토링등   \n",
       "10106        지거국 / 전자공학 / 학점 3.7 / 토익 900 / 음악봉사활동, 멘토링등   \n",
       "\n",
       "                                                       3  \n",
       "0      7.한국석유공사\\n\\n 1. 지원 분야 직무기술서 ‘직무수행 내용’ 중 본인이 가장...  \n",
       "1      CJ제일제당 및 선택한 직무에 대한 지원동기는 무엇인가요? ① 선택한 직무에 관심을...  \n",
       "2      \\n1. 한국가스안전공사가 진행하는 사업에 관심을 갖고 공사에 지원한 동기에 대해 ...  \n",
       "3      1.공동체의 일원으로서 가장 중요하게 생각하는 가치를 제시하고, 그 가치를 실천했던...  \n",
       "4      1. 본인이 가진 가장 뛰어난 점과 그렇게 판단한 이유, 고용노동연수원 업무수행에서...  \n",
       "...                                                  ...  \n",
       "10102  1. 현대자동차에 지원하게 된 동기 또는 해당 직무에 지원하게 된 동기는 무엇입니까...  \n",
       "10103  성격소개\\n\\n대부분의 사람들이 평가하는 첫인상은 소심하고 내성적인 성격일것이라 생...  \n",
       "10104  [질문 1] 취업이라는 목표 이외에 인생의 큰 목표를 세운 경험, 그 목표를 실현하...  \n",
       "10105  한전 자가소개서 양식 500자 12줄 이내\\n\\n[질문 1] 취업이라는 목표 이외에...  \n",
       "10106  한전 자가소개서 양식 500자 12줄 이내\\n\\n[질문 1] 취업이라는 목표 이외에...  \n",
       "\n",
       "[10107 rows x 3 columns]"
      ]
     },
     "execution_count": 3,
     "metadata": {},
     "output_type": "execute_result"
    }
   ],
   "source": [
    "raw_df"
   ]
  },
  {
   "cell_type": "code",
   "execution_count": 4,
   "metadata": {},
   "outputs": [],
   "source": [
    "df = pd.DataFrame(columns=[\"기업명\",\"지원부서\",\"지원시기\",\"학교\",\"학과\",\"학점\",\"어학\",\"자격증\",\"경험사항\",\"자소서\"])"
   ]
  },
  {
   "cell_type": "code",
   "execution_count": 5,
   "metadata": {},
   "outputs": [],
   "source": [
    "df[\"기업명\"] = raw_df['1'].str.split(\"/\",expand=True)[0]\n",
    "df[\"지원부서\"] = raw_df['1'].str.split(\"/\",expand=True)[1]\n",
    "df[\"지원시기\"] = raw_df['1'].str.split(\"/\",expand=True)[2]\n",
    "df[\"자소서\"] = raw_df[\"3\"]"
   ]
  },
  {
   "cell_type": "code",
   "execution_count": 6,
   "metadata": {
    "scrolled": true
   },
   "outputs": [
    {
     "data": {
      "text/html": [
       "<div>\n",
       "<style scoped>\n",
       "    .dataframe tbody tr th:only-of-type {\n",
       "        vertical-align: middle;\n",
       "    }\n",
       "\n",
       "    .dataframe tbody tr th {\n",
       "        vertical-align: top;\n",
       "    }\n",
       "\n",
       "    .dataframe thead th {\n",
       "        text-align: right;\n",
       "    }\n",
       "</style>\n",
       "<table border=\"1\" class=\"dataframe\">\n",
       "  <thead>\n",
       "    <tr style=\"text-align: right;\">\n",
       "      <th></th>\n",
       "      <th>기업명</th>\n",
       "      <th>지원부서</th>\n",
       "      <th>지원시기</th>\n",
       "      <th>학교</th>\n",
       "      <th>학과</th>\n",
       "      <th>학점</th>\n",
       "      <th>어학</th>\n",
       "      <th>자격증</th>\n",
       "      <th>경험사항</th>\n",
       "      <th>자소서</th>\n",
       "    </tr>\n",
       "  </thead>\n",
       "  <tbody>\n",
       "    <tr>\n",
       "      <th>0</th>\n",
       "      <td>한국석유공사</td>\n",
       "      <td>설비</td>\n",
       "      <td>2020 상반기</td>\n",
       "      <td>NaN</td>\n",
       "      <td>NaN</td>\n",
       "      <td>NaN</td>\n",
       "      <td>NaN</td>\n",
       "      <td>NaN</td>\n",
       "      <td>NaN</td>\n",
       "      <td>7.한국석유공사\\n\\n 1. 지원 분야 직무기술서 ‘직무수행 내용’ 중 본인이 가장...</td>\n",
       "    </tr>\n",
       "    <tr>\n",
       "      <th>1</th>\n",
       "      <td>CJ제일제당</td>\n",
       "      <td>Food Sales</td>\n",
       "      <td>2020 상반기</td>\n",
       "      <td>NaN</td>\n",
       "      <td>NaN</td>\n",
       "      <td>NaN</td>\n",
       "      <td>NaN</td>\n",
       "      <td>NaN</td>\n",
       "      <td>NaN</td>\n",
       "      <td>CJ제일제당 및 선택한 직무에 대한 지원동기는 무엇인가요? ① 선택한 직무에 관심을...</td>\n",
       "    </tr>\n",
       "    <tr>\n",
       "      <th>2</th>\n",
       "      <td>한국가스안전공사</td>\n",
       "      <td>LP가스 안전지킴이사업</td>\n",
       "      <td>2020 상반기</td>\n",
       "      <td>NaN</td>\n",
       "      <td>NaN</td>\n",
       "      <td>NaN</td>\n",
       "      <td>NaN</td>\n",
       "      <td>NaN</td>\n",
       "      <td>NaN</td>\n",
       "      <td>\\n1. 한국가스안전공사가 진행하는 사업에 관심을 갖고 공사에 지원한 동기에 대해 ...</td>\n",
       "    </tr>\n",
       "    <tr>\n",
       "      <th>3</th>\n",
       "      <td>코레일</td>\n",
       "      <td>사무영업</td>\n",
       "      <td>2020 상반기</td>\n",
       "      <td>NaN</td>\n",
       "      <td>NaN</td>\n",
       "      <td>NaN</td>\n",
       "      <td>NaN</td>\n",
       "      <td>NaN</td>\n",
       "      <td>NaN</td>\n",
       "      <td>1.공동체의 일원으로서 가장 중요하게 생각하는 가치를 제시하고, 그 가치를 실천했던...</td>\n",
       "    </tr>\n",
       "    <tr>\n",
       "      <th>4</th>\n",
       "      <td>한국기술교육대학교</td>\n",
       "      <td>행정</td>\n",
       "      <td>2020 상반기</td>\n",
       "      <td>NaN</td>\n",
       "      <td>NaN</td>\n",
       "      <td>NaN</td>\n",
       "      <td>NaN</td>\n",
       "      <td>NaN</td>\n",
       "      <td>NaN</td>\n",
       "      <td>1. 본인이 가진 가장 뛰어난 점과 그렇게 판단한 이유, 고용노동연수원 업무수행에서...</td>\n",
       "    </tr>\n",
       "    <tr>\n",
       "      <th>...</th>\n",
       "      <td>...</td>\n",
       "      <td>...</td>\n",
       "      <td>...</td>\n",
       "      <td>...</td>\n",
       "      <td>...</td>\n",
       "      <td>...</td>\n",
       "      <td>...</td>\n",
       "      <td>...</td>\n",
       "      <td>...</td>\n",
       "      <td>...</td>\n",
       "    </tr>\n",
       "    <tr>\n",
       "      <th>10102</th>\n",
       "      <td>현대자동차</td>\n",
       "      <td>영업관리</td>\n",
       "      <td>2013 상반기</td>\n",
       "      <td>NaN</td>\n",
       "      <td>NaN</td>\n",
       "      <td>NaN</td>\n",
       "      <td>NaN</td>\n",
       "      <td>NaN</td>\n",
       "      <td>NaN</td>\n",
       "      <td>1. 현대자동차에 지원하게 된 동기 또는 해당 직무에 지원하게 된 동기는 무엇입니까...</td>\n",
       "    </tr>\n",
       "    <tr>\n",
       "      <th>10103</th>\n",
       "      <td>심팩</td>\n",
       "      <td>용접관리</td>\n",
       "      <td>2013 상반기</td>\n",
       "      <td>NaN</td>\n",
       "      <td>NaN</td>\n",
       "      <td>NaN</td>\n",
       "      <td>NaN</td>\n",
       "      <td>NaN</td>\n",
       "      <td>NaN</td>\n",
       "      <td>성격소개\\n\\n대부분의 사람들이 평가하는 첫인상은 소심하고 내성적인 성격일것이라 생...</td>\n",
       "    </tr>\n",
       "    <tr>\n",
       "      <th>10104</th>\n",
       "      <td>한국전력</td>\n",
       "      <td>인턴[송,배전]</td>\n",
       "      <td>2013 상반기</td>\n",
       "      <td>NaN</td>\n",
       "      <td>NaN</td>\n",
       "      <td>NaN</td>\n",
       "      <td>NaN</td>\n",
       "      <td>NaN</td>\n",
       "      <td>NaN</td>\n",
       "      <td>[질문 1] 취업이라는 목표 이외에 인생의 큰 목표를 세운 경험, 그 목표를 실현하...</td>\n",
       "    </tr>\n",
       "    <tr>\n",
       "      <th>10105</th>\n",
       "      <td>한국전력</td>\n",
       "      <td>인턴[송,배전]</td>\n",
       "      <td>2013 상반기</td>\n",
       "      <td>NaN</td>\n",
       "      <td>NaN</td>\n",
       "      <td>NaN</td>\n",
       "      <td>NaN</td>\n",
       "      <td>NaN</td>\n",
       "      <td>NaN</td>\n",
       "      <td>한전 자가소개서 양식 500자 12줄 이내\\n\\n[질문 1] 취업이라는 목표 이외에...</td>\n",
       "    </tr>\n",
       "    <tr>\n",
       "      <th>10106</th>\n",
       "      <td>한국전력</td>\n",
       "      <td>인턴[송,배전]</td>\n",
       "      <td>2013 상반기</td>\n",
       "      <td>NaN</td>\n",
       "      <td>NaN</td>\n",
       "      <td>NaN</td>\n",
       "      <td>NaN</td>\n",
       "      <td>NaN</td>\n",
       "      <td>NaN</td>\n",
       "      <td>한전 자가소개서 양식 500자 12줄 이내\\n\\n[질문 1] 취업이라는 목표 이외에...</td>\n",
       "    </tr>\n",
       "  </tbody>\n",
       "</table>\n",
       "<p>10107 rows × 10 columns</p>\n",
       "</div>"
      ],
      "text/plain": [
       "              기업명            지원부서       지원시기   학교   학과   학점   어학  자격증 경험사항  \\\n",
       "0         한국석유공사              설비    2020 상반기  NaN  NaN  NaN  NaN  NaN  NaN   \n",
       "1         CJ제일제당      Food Sales    2020 상반기  NaN  NaN  NaN  NaN  NaN  NaN   \n",
       "2       한국가스안전공사    LP가스 안전지킴이사업    2020 상반기  NaN  NaN  NaN  NaN  NaN  NaN   \n",
       "3            코레일            사무영업    2020 상반기  NaN  NaN  NaN  NaN  NaN  NaN   \n",
       "4      한국기술교육대학교              행정    2020 상반기  NaN  NaN  NaN  NaN  NaN  NaN   \n",
       "...           ...             ...        ...  ...  ...  ...  ...  ...  ...   \n",
       "10102      현대자동차            영업관리    2013 상반기  NaN  NaN  NaN  NaN  NaN  NaN   \n",
       "10103         심팩            용접관리    2013 상반기  NaN  NaN  NaN  NaN  NaN  NaN   \n",
       "10104       한국전력        인턴[송,배전]    2013 상반기  NaN  NaN  NaN  NaN  NaN  NaN   \n",
       "10105       한국전력        인턴[송,배전]    2013 상반기  NaN  NaN  NaN  NaN  NaN  NaN   \n",
       "10106       한국전력        인턴[송,배전]    2013 상반기  NaN  NaN  NaN  NaN  NaN  NaN   \n",
       "\n",
       "                                                     자소서  \n",
       "0      7.한국석유공사\\n\\n 1. 지원 분야 직무기술서 ‘직무수행 내용’ 중 본인이 가장...  \n",
       "1      CJ제일제당 및 선택한 직무에 대한 지원동기는 무엇인가요? ① 선택한 직무에 관심을...  \n",
       "2      \\n1. 한국가스안전공사가 진행하는 사업에 관심을 갖고 공사에 지원한 동기에 대해 ...  \n",
       "3      1.공동체의 일원으로서 가장 중요하게 생각하는 가치를 제시하고, 그 가치를 실천했던...  \n",
       "4      1. 본인이 가진 가장 뛰어난 점과 그렇게 판단한 이유, 고용노동연수원 업무수행에서...  \n",
       "...                                                  ...  \n",
       "10102  1. 현대자동차에 지원하게 된 동기 또는 해당 직무에 지원하게 된 동기는 무엇입니까...  \n",
       "10103  성격소개\\n\\n대부분의 사람들이 평가하는 첫인상은 소심하고 내성적인 성격일것이라 생...  \n",
       "10104  [질문 1] 취업이라는 목표 이외에 인생의 큰 목표를 세운 경험, 그 목표를 실현하...  \n",
       "10105  한전 자가소개서 양식 500자 12줄 이내\\n\\n[질문 1] 취업이라는 목표 이외에...  \n",
       "10106  한전 자가소개서 양식 500자 12줄 이내\\n\\n[질문 1] 취업이라는 목표 이외에...  \n",
       "\n",
       "[10107 rows x 10 columns]"
      ]
     },
     "execution_count": 6,
     "metadata": {},
     "output_type": "execute_result"
    }
   ],
   "source": [
    "df"
   ]
  },
  {
   "cell_type": "code",
   "execution_count": 7,
   "metadata": {},
   "outputs": [],
   "source": [
    "first = raw_df[\"2\"].str.split(\"/\",expand=True)[0]\n",
    "second = raw_df[\"2\"].str.split(\"/\",expand=True)[1]\n",
    "third = raw_df[\"2\"].str.split(\"/\",expand=True)[2]\n",
    "#raw_df[\"2\"].str.split(\"/\",expand=True)[3]\n",
    "#raw_df[\"2\"].str.split(\"/\",expand=True)[4]\n",
    "#raw_df[\"2\"].str.split(\"/\",expand=True)[5]"
   ]
  },
  {
   "cell_type": "code",
   "execution_count": 8,
   "metadata": {},
   "outputs": [
    {
     "data": {
      "text/plain": [
       "0        광주전자공업고등학교 \n",
       "1              중경외시 \n",
       "2             제주대학교 \n",
       "3             충남대학교 \n",
       "4             건국대학교 \n",
       "            ...     \n",
       "10102         상명대학교 \n",
       "10103         지방전문대 \n",
       "10104           지거국 \n",
       "10105           지거국 \n",
       "10106           지거국 \n",
       "Name: 0, Length: 10107, dtype: object"
      ]
     },
     "execution_count": 8,
     "metadata": {},
     "output_type": "execute_result"
    }
   ],
   "source": [
    "first"
   ]
  },
  {
   "cell_type": "code",
   "execution_count": 9,
   "metadata": {
    "scrolled": true
   },
   "outputs": [
    {
     "data": {
      "text/plain": [
       "15"
      ]
     },
     "execution_count": 9,
     "metadata": {},
     "output_type": "execute_result"
    }
   ],
   "source": [
    "len(first[first.str.contains(\"고등학교\")==True])"
   ]
  },
  {
   "cell_type": "code",
   "execution_count": 10,
   "metadata": {},
   "outputs": [],
   "source": [
    "first[first.str.contains(\"고등학교\")==True] = \"고등학교졸업\""
   ]
  },
  {
   "cell_type": "code",
   "execution_count": 11,
   "metadata": {},
   "outputs": [
    {
     "data": {
      "text/plain": [
       "1018"
      ]
     },
     "execution_count": 11,
     "metadata": {},
     "output_type": "execute_result"
    }
   ],
   "source": [
    "len(first[first.str.contains(\"지방\")==True])"
   ]
  },
  {
   "cell_type": "code",
   "execution_count": 12,
   "metadata": {},
   "outputs": [],
   "source": [
    "first[first.str.contains(\"해외\")==True] = \"해외대\""
   ]
  },
  {
   "cell_type": "code",
   "execution_count": 13,
   "metadata": {},
   "outputs": [],
   "source": [
    "first[first.str.contains(\"미국\")==True]= \"해외대(미국)\""
   ]
  },
  {
   "cell_type": "code",
   "execution_count": 14,
   "metadata": {},
   "outputs": [],
   "source": [
    "first[first.str.contains(\"중국\")==True]=\"해외대(중국)\""
   ]
  },
  {
   "cell_type": "code",
   "execution_count": 15,
   "metadata": {},
   "outputs": [],
   "source": [
    "first[first.str.contains(\"외국대학\")==True]=\"해외대\""
   ]
  },
  {
   "cell_type": "code",
   "execution_count": 16,
   "metadata": {},
   "outputs": [],
   "source": [
    "first[first.str.contains(\"외국대\")==True]=\"해외대\""
   ]
  },
  {
   "cell_type": "code",
   "execution_count": 17,
   "metadata": {},
   "outputs": [],
   "source": [
    "first[first.str.contains(\"북경외국\")==True]=\"해외대(중국)\""
   ]
  },
  {
   "cell_type": "code",
   "execution_count": 18,
   "metadata": {},
   "outputs": [],
   "source": [
    "first[first.str.contains(\"외국4년제\")==True]=\"해외대\""
   ]
  },
  {
   "cell_type": "code",
   "execution_count": 19,
   "metadata": {},
   "outputs": [],
   "source": [
    "first[first.str.contains(\"외국계\")==True]=\"해외대\""
   ]
  },
  {
   "cell_type": "code",
   "execution_count": 20,
   "metadata": {},
   "outputs": [],
   "source": [
    "first[first.str.contains(\"일본\")==True]=\"해외대(일본)\""
   ]
  },
  {
   "cell_type": "code",
   "execution_count": 21,
   "metadata": {},
   "outputs": [],
   "source": [
    "first[first.str.contains(\"영국\")==True]=\"해외대(영국)\""
   ]
  },
  {
   "cell_type": "code",
   "execution_count": 22,
   "metadata": {},
   "outputs": [
    {
     "data": {
      "text/plain": [
       "16            Valdosta State University \n",
       "651           Valdosta State University \n",
       "1043            Pennsylvania State Uni. \n",
       "1108           Pennsylvania State Univ. \n",
       "1134            Pennsylvania State Uni. \n",
       "1188           Pennsylvania State Univ. \n",
       "1208           Pennsylvania State Univ. \n",
       "1639                                USC \n",
       "1777                                USC \n",
       "2195    University of Technology,sydney \n",
       "2307                Kingston University \n",
       "2355    University of Technology,sydney \n",
       "2466                Kingston University \n",
       "3133          Kingston University Lodon \n",
       "3235          Kingston University Lodon \n",
       "3359                              UNIST \n",
       "3477                              UNIST \n",
       "5276                              UNIST \n",
       "5301                              UNIST \n",
       "5321                              UNIST \n",
       "5424                              UNIST \n",
       "5444                              UNIST \n",
       "5477                              UNIST \n",
       "5653                     U. of Illinois \n",
       "8769              Kyrgyz National Univ. \n",
       "Name: 0, dtype: object"
      ]
     },
     "execution_count": 22,
     "metadata": {},
     "output_type": "execute_result"
    }
   ],
   "source": [
    "first[first.str.contains(\"U\")==True]"
   ]
  },
  {
   "cell_type": "code",
   "execution_count": 23,
   "metadata": {},
   "outputs": [],
   "source": [
    "first[first.str.contains(\"Valdosta State University\")==True]=\"해외대(미국)\""
   ]
  },
  {
   "cell_type": "code",
   "execution_count": 24,
   "metadata": {},
   "outputs": [],
   "source": [
    "first[first.str.contains(\"Pennsylvania\")==True]=\"해외대(미국)\""
   ]
  },
  {
   "cell_type": "code",
   "execution_count": 25,
   "metadata": {},
   "outputs": [],
   "source": [
    "first[first.str.contains(\"USC\")==True]=\"해외대(미국)\""
   ]
  },
  {
   "cell_type": "code",
   "execution_count": 26,
   "metadata": {},
   "outputs": [],
   "source": [
    "first[first.str.contains(\"sydney\")==True]=\"해외대(호주)\""
   ]
  },
  {
   "cell_type": "code",
   "execution_count": 27,
   "metadata": {},
   "outputs": [],
   "source": [
    "first[first.str.contains(\"Lodon\")==True]=\"해외대(영국)\""
   ]
  },
  {
   "cell_type": "code",
   "execution_count": 28,
   "metadata": {},
   "outputs": [],
   "source": [
    "first[first.str.contains(\"Illinois\")==True]=\"해외대(미국)\""
   ]
  },
  {
   "cell_type": "code",
   "execution_count": 29,
   "metadata": {},
   "outputs": [],
   "source": [
    "first[first.str.contains(\"University\")==True]=\"해외대\""
   ]
  },
  {
   "cell_type": "code",
   "execution_count": 30,
   "metadata": {},
   "outputs": [],
   "source": [
    "first[first.str.contains(\"Kyrgyz\")==True]=\"해외대\""
   ]
  },
  {
   "cell_type": "code",
   "execution_count": 31,
   "metadata": {},
   "outputs": [
    {
     "data": {
      "text/plain": [
       "288"
      ]
     },
     "execution_count": 31,
     "metadata": {},
     "output_type": "execute_result"
    }
   ],
   "source": [
    "len(first[first.str.contains(\"해외대\")==True])"
   ]
  },
  {
   "cell_type": "code",
   "execution_count": 32,
   "metadata": {},
   "outputs": [
    {
     "data": {
      "text/plain": [
       "0          고등학교졸업\n",
       "2          제주대학교 \n",
       "3          충남대학교 \n",
       "4          건국대학교 \n",
       "6          한경대학교 \n",
       "           ...   \n",
       "10093      동아대학교 \n",
       "10094      경북대학교 \n",
       "10099      경성대학교 \n",
       "10101    부산경상대학교 \n",
       "10102      상명대학교 \n",
       "Name: 0, Length: 2356, dtype: object"
      ]
     },
     "execution_count": 32,
     "metadata": {},
     "output_type": "execute_result"
    }
   ],
   "source": [
    "first[first.str.contains(\"학\")==True]"
   ]
  },
  {
   "cell_type": "code",
   "execution_count": 33,
   "metadata": {},
   "outputs": [],
   "source": [
    "first[first.str.contains(\"o\")==True]=\"해외대\""
   ]
  },
  {
   "cell_type": "code",
   "execution_count": 34,
   "metadata": {},
   "outputs": [],
   "source": [
    "first[first.str.contains(\"W\")==True]=\"광운대학교\""
   ]
  },
  {
   "cell_type": "code",
   "execution_count": 35,
   "metadata": {},
   "outputs": [],
   "source": [
    "first[first.str.contains(\"h\")==True]=\"경희대학교\""
   ]
  },
  {
   "cell_type": "code",
   "execution_count": 36,
   "metadata": {
    "scrolled": true
   },
   "outputs": [
    {
     "data": {
      "text/plain": [
       "290"
      ]
     },
     "execution_count": 36,
     "metadata": {},
     "output_type": "execute_result"
    }
   ],
   "source": [
    "len(first[first.str.contains(\"해외\")==True])"
   ]
  },
  {
   "cell_type": "code",
   "execution_count": 37,
   "metadata": {},
   "outputs": [],
   "source": [
    "first[first.str.contains(\"지거국\")==True]=\"지방거점국립대\""
   ]
  },
  {
   "cell_type": "code",
   "execution_count": 38,
   "metadata": {},
   "outputs": [],
   "source": [
    "first[first.str.contains(\"지거\")==True]=\"지방거점국립대\""
   ]
  },
  {
   "cell_type": "code",
   "execution_count": 39,
   "metadata": {},
   "outputs": [],
   "source": [
    "first[first.str.contains(\"강원\")==True]=\"지방거점국립대(강원대학교)\""
   ]
  },
  {
   "cell_type": "code",
   "execution_count": 40,
   "metadata": {},
   "outputs": [],
   "source": [
    "first[first.str.contains(\"대학원\")==True]=\"대학원\""
   ]
  },
  {
   "cell_type": "code",
   "execution_count": 41,
   "metadata": {},
   "outputs": [],
   "source": [
    "first[first.str.contains(\"충북\")==True]=\"지방거점국립대(충북대학교)\""
   ]
  },
  {
   "cell_type": "code",
   "execution_count": 42,
   "metadata": {},
   "outputs": [],
   "source": [
    "first[first.str.contains(\"충남\")==True]=\"지방거점국립대(충남대학교)\""
   ]
  },
  {
   "cell_type": "code",
   "execution_count": 43,
   "metadata": {},
   "outputs": [],
   "source": [
    "first[first.str.contains(\"전북\")==True]=\"지방거점국립대(전북대학교)\""
   ]
  },
  {
   "cell_type": "code",
   "execution_count": 44,
   "metadata": {},
   "outputs": [],
   "source": [
    "first[first.str.contains(\"전남\")==True]=\"지방거점국립대(전남대학교)\""
   ]
  },
  {
   "cell_type": "code",
   "execution_count": 45,
   "metadata": {},
   "outputs": [],
   "source": [
    "first[first.str.contains(\"경북대\")==True]=\"지방거점국립대(경북대학교)\""
   ]
  },
  {
   "cell_type": "code",
   "execution_count": 46,
   "metadata": {},
   "outputs": [],
   "source": [
    "first[first.str.contains(\"부산대\")==True]=\"지방거점국립대(부산대학교)\""
   ]
  },
  {
   "cell_type": "code",
   "execution_count": 47,
   "metadata": {},
   "outputs": [],
   "source": [
    "first[first.str.contains(\"제주\")==True]=\"지방거점국립대(제주대학교)\""
   ]
  },
  {
   "cell_type": "code",
   "execution_count": 48,
   "metadata": {},
   "outputs": [
    {
     "data": {
      "text/plain": [
       "2        지방거점국립대(제주대학교)\n",
       "3        지방거점국립대(충남대학교)\n",
       "8        지방거점국립대(충남대학교)\n",
       "12       지방거점국립대(전북대학교)\n",
       "30       지방거점국립대(전북대학교)\n",
       "              ...      \n",
       "10094    지방거점국립대(경북대학교)\n",
       "10096           지방거점국립대\n",
       "10104           지방거점국립대\n",
       "10105           지방거점국립대\n",
       "10106           지방거점국립대\n",
       "Name: 0, Length: 1067, dtype: object"
      ]
     },
     "execution_count": 48,
     "metadata": {},
     "output_type": "execute_result"
    }
   ],
   "source": [
    "first[first.str.contains(\"지방거점국립대\")==True]"
   ]
  },
  {
   "cell_type": "code",
   "execution_count": 49,
   "metadata": {},
   "outputs": [],
   "source": [
    "first[first.str.contains(\"강릉\")==True]=\"지방국립대(강릉대학교)\""
   ]
  },
  {
   "cell_type": "code",
   "execution_count": 50,
   "metadata": {},
   "outputs": [],
   "source": [
    "first[first.str.contains(\"공주\")==True]=\"지방국립대(공주대학교)\""
   ]
  },
  {
   "cell_type": "code",
   "execution_count": 51,
   "metadata": {},
   "outputs": [],
   "source": [
    "first[first.str.contains(\"해양\")==True]=\"지방국립대(한국해양대학교)\""
   ]
  },
  {
   "cell_type": "code",
   "execution_count": 52,
   "metadata": {},
   "outputs": [],
   "source": [
    "first[first.str.contains(\"부경\")==True]=\"지방국립대(부경대학교)\""
   ]
  },
  {
   "cell_type": "code",
   "execution_count": 53,
   "metadata": {},
   "outputs": [],
   "source": [
    "first[first.str.contains(\"순천대학교\")==True]=\"지방국립대(순천대학교)\""
   ]
  },
  {
   "cell_type": "code",
   "execution_count": 54,
   "metadata": {},
   "outputs": [],
   "source": [
    "first[first.str.contains(\"순천향\")==True]=\"지방사립대(순천향대학교)\""
   ]
  },
  {
   "cell_type": "code",
   "execution_count": 55,
   "metadata": {},
   "outputs": [],
   "source": [
    "first[first.str.contains(\"인천대\")==True]=\"지방국립대(인천대학교)\""
   ]
  },
  {
   "cell_type": "code",
   "execution_count": 56,
   "metadata": {},
   "outputs": [],
   "source": [
    "first[first.str.contains(\"창원\")==True]=\"지방국립대(창원대학교)\""
   ]
  },
  {
   "cell_type": "code",
   "execution_count": 57,
   "metadata": {},
   "outputs": [],
   "source": [
    "first[first.str.contains(\"한국교통\")==True]=\"지방국립대(한국교통대학교)\""
   ]
  },
  {
   "cell_type": "code",
   "execution_count": 58,
   "metadata": {},
   "outputs": [],
   "source": [
    "first[first.str.contains(\"한경\")==True]=\"지방국립대(한경대학교)\""
   ]
  },
  {
   "cell_type": "code",
   "execution_count": 59,
   "metadata": {},
   "outputs": [],
   "source": [
    "first[first.str.contains(\"한밭\")==True]=\"지방국립대(한밭대학교)\""
   ]
  },
  {
   "cell_type": "code",
   "execution_count": 60,
   "metadata": {},
   "outputs": [],
   "source": [
    "first[first.str.contains(\"금오\")==True]=\"지방국립대(금오공과대학교)\""
   ]
  },
  {
   "cell_type": "code",
   "execution_count": 61,
   "metadata": {},
   "outputs": [],
   "source": [
    "first[first.str.contains(\"광주\")==True]=\"지방사립대(광주대학교)\""
   ]
  },
  {
   "cell_type": "code",
   "execution_count": 62,
   "metadata": {},
   "outputs": [],
   "source": [
    "first[first.str.contains(\"경남대학교\")==True]=\"지방사립대(경남대학교)\""
   ]
  },
  {
   "cell_type": "code",
   "execution_count": 63,
   "metadata": {},
   "outputs": [],
   "source": [
    "first[first.str.contains(\"부산가톨릭\")==True]=\"지방사립대(부산가톨릭대학교)\""
   ]
  },
  {
   "cell_type": "code",
   "execution_count": 64,
   "metadata": {},
   "outputs": [],
   "source": [
    "first[first.str.contains(\"영남\")==True]=\"지방사립대(영남대학교)\""
   ]
  },
  {
   "cell_type": "code",
   "execution_count": 65,
   "metadata": {},
   "outputs": [],
   "source": [
    "first[first.str.contains(\"울산대\")==True]=\"지방사립대(울산대학교)\""
   ]
  },
  {
   "cell_type": "code",
   "execution_count": 66,
   "metadata": {},
   "outputs": [],
   "source": [
    "first[first.str.contains(\"동아대\")==True]=\"지방사립대(동아대학교)\""
   ]
  },
  {
   "cell_type": "code",
   "execution_count": 67,
   "metadata": {},
   "outputs": [],
   "source": [
    "first[first.str.contains(\"조선대\")==True]=\"지방사립대(조선대학교)\""
   ]
  },
  {
   "cell_type": "code",
   "execution_count": 68,
   "metadata": {},
   "outputs": [],
   "source": [
    "first[first.str.contains(\"원광대\")==True]=\"지방사립대(원광대학교)\""
   ]
  },
  {
   "cell_type": "code",
   "execution_count": 69,
   "metadata": {},
   "outputs": [],
   "source": [
    "first[first.str.contains(\"계명\")==True]=\"지방사립대(계명대학교)\""
   ]
  },
  {
   "cell_type": "code",
   "execution_count": 70,
   "metadata": {},
   "outputs": [],
   "source": [
    "first[first.str.contains(\"한남\")==True]=\"지방사립대(한남대학교)\""
   ]
  },
  {
   "cell_type": "code",
   "execution_count": 71,
   "metadata": {},
   "outputs": [],
   "source": [
    "first[first.str.contains(\"폴리\")==True]=\"2년제(한국폴리텍대학)\""
   ]
  },
  {
   "cell_type": "code",
   "execution_count": 72,
   "metadata": {},
   "outputs": [],
   "source": [
    "first[first.str.contains(\"경인\")==True]=\"지방국립대\""
   ]
  },
  {
   "cell_type": "code",
   "execution_count": 73,
   "metadata": {},
   "outputs": [],
   "source": [
    "first[first.str.contains(\"교육\")==True]=\"지방사립대(한국기술교육대학교)\""
   ]
  },
  {
   "cell_type": "code",
   "execution_count": 74,
   "metadata": {},
   "outputs": [
    {
     "data": {
      "text/plain": [
       "220      지방국립대(인천대학교)\n",
       "232      지방국립대(인천대학교)\n",
       "240      지방국립대(인천대학교)\n",
       "252      지방국립대(인천대학교)\n",
       "322      지방국립대(인천대학교)\n",
       "             ...     \n",
       "9969     지방국립대(인천대학교)\n",
       "9998     지방국립대(인천대학교)\n",
       "10018    지방국립대(인천대학교)\n",
       "10023    지방국립대(인천대학교)\n",
       "10043    지방국립대(인천대학교)\n",
       "Name: 0, Length: 103, dtype: object"
      ]
     },
     "execution_count": 74,
     "metadata": {},
     "output_type": "execute_result"
    }
   ],
   "source": [
    "first[first.str.contains(\"인천\")==True]"
   ]
  },
  {
   "cell_type": "code",
   "execution_count": 75,
   "metadata": {},
   "outputs": [],
   "source": [
    "first[first.str.contains(\"인제\")==True]=\"지방사립대(인제대학교)\""
   ]
  },
  {
   "cell_type": "code",
   "execution_count": 76,
   "metadata": {},
   "outputs": [
    {
     "data": {
      "text/plain": [
       "6          지방국립대(한경대학교)\n",
       "7          지방국립대(한경대학교)\n",
       "13         지방국립대(순천대학교)\n",
       "15       지방국립대(금오공과대학교)\n",
       "19         지방국립대(창원대학교)\n",
       "              ...      \n",
       "10032            지방국립대 \n",
       "10042            지방국립대 \n",
       "10043      지방국립대(인천대학교)\n",
       "10052            지방국립대 \n",
       "10089             지방국립 \n",
       "Name: 0, Length: 564, dtype: object"
      ]
     },
     "execution_count": 76,
     "metadata": {},
     "output_type": "execute_result"
    }
   ],
   "source": [
    "first[first.str.contains(\"지방국립\")==True]"
   ]
  },
  {
   "cell_type": "code",
   "execution_count": 77,
   "metadata": {},
   "outputs": [],
   "source": [
    "first[first.str.contains(\"2년제\")==True]=\"전문대\""
   ]
  },
  {
   "cell_type": "code",
   "execution_count": 78,
   "metadata": {},
   "outputs": [],
   "source": [
    "first[first.str.contains(\"수도권 2년\")==True]=\"2년제\""
   ]
  },
  {
   "cell_type": "code",
   "execution_count": 79,
   "metadata": {},
   "outputs": [],
   "source": [
    "first[first.str.contains(\"전문\")==True]=\"전문대\""
   ]
  },
  {
   "cell_type": "code",
   "execution_count": 80,
   "metadata": {},
   "outputs": [],
   "source": [
    "first[first.str.contains(\"서울과학\")==True]=\"서울국립대(서울과학기술대학교)\""
   ]
  },
  {
   "cell_type": "code",
   "execution_count": 81,
   "metadata": {},
   "outputs": [],
   "source": [
    "first[first.str.contains(\"서울시립\")==True]=\"서울공립대(서울시립대학교)\""
   ]
  },
  {
   "cell_type": "code",
   "execution_count": 82,
   "metadata": {},
   "outputs": [
    {
     "data": {
      "text/plain": [
       "29       서울국립대(서울과학기술대학교)\n",
       "32       서울국립대(서울과학기술대학교)\n",
       "47       서울국립대(서울과학기술대학교)\n",
       "54       서울국립대(서울과학기술대학교)\n",
       "74       서울국립대(서울과학기술대학교)\n",
       "               ...       \n",
       "8716     서울국립대(서울과학기술대학교)\n",
       "9944     서울국립대(서울과학기술대학교)\n",
       "9968     서울국립대(서울과학기술대학교)\n",
       "9993     서울국립대(서울과학기술대학교)\n",
       "10013    서울국립대(서울과학기술대학교)\n",
       "Name: 0, Length: 65, dtype: object"
      ]
     },
     "execution_count": 82,
     "metadata": {},
     "output_type": "execute_result"
    }
   ],
   "source": [
    "first[first.str.contains(\"서울국립대\")==True]"
   ]
  },
  {
   "cell_type": "code",
   "execution_count": 83,
   "metadata": {},
   "outputs": [],
   "source": [
    "first[first.str.contains(\"인서울대학\")==True]=\"서울사립대\""
   ]
  },
  {
   "cell_type": "code",
   "execution_count": 84,
   "metadata": {},
   "outputs": [],
   "source": [
    "first[first.str.contains(\"서울대\")==True]=\"서울대학교\""
   ]
  },
  {
   "cell_type": "code",
   "execution_count": 85,
   "metadata": {},
   "outputs": [],
   "source": [
    "first[first.str.contains(\"부산가톨릭\")==True]=\"지방사립대(부산가톨릭대학교)\""
   ]
  },
  {
   "cell_type": "code",
   "execution_count": 86,
   "metadata": {},
   "outputs": [
    {
     "data": {
      "text/plain": [
       "34                가톨릭대 \n",
       "56                가톨릭대 \n",
       "78                가톨릭대 \n",
       "203             가톨릭대학교 \n",
       "230               가톨릭대 \n",
       "236             가톨릭대학교 \n",
       "250               가톨릭대 \n",
       "256             가톨릭대학교 \n",
       "292             가톨릭대학교 \n",
       "324               가톨릭대 \n",
       "326             가톨릭대학교 \n",
       "385             가톨릭대학교 \n",
       "408               가톨릭대 \n",
       "441               가톨릭대 \n",
       "525               가톨릭대 \n",
       "584               가톨릭대 \n",
       "594             가톨릭대학교 \n",
       "604               가톨릭대 \n",
       "614             가톨릭대학교 \n",
       "639             가톨릭대학교 \n",
       "658             가톨릭대학교 \n",
       "663               가톨릭대 \n",
       "680               가톨릭대 \n",
       "690             가톨릭대학교 \n",
       "715             가톨릭대학교 \n",
       "735             가톨릭대학교 \n",
       "748             가톨릭대학교 \n",
       "754               가톨릭대 \n",
       "1100            가톨릭대학교 \n",
       "1171            가톨릭대학교 \n",
       "1222            가톨릭대학교 \n",
       "1275            가톨릭대학교 \n",
       "1276            가톨릭대학교 \n",
       "1365            가톨릭대학교 \n",
       "1367            가톨릭대학교 \n",
       "1552              가톨릭대 \n",
       "1572              가톨릭대 \n",
       "1636              가톨릭대 \n",
       "1776              가톨릭대 \n",
       "2306            가톨릭대학교 \n",
       "2465            가톨릭대학교 \n",
       "2600    지방사립대(부산가톨릭대학교)\n",
       "2621    지방사립대(부산가톨릭대학교)\n",
       "2641    지방사립대(부산가톨릭대학교)\n",
       "2738              가톨릭대 \n",
       "2824              가톨릭대 \n",
       "2865              가톨릭대 \n",
       "2866              가톨릭대 \n",
       "2885              가톨릭대 \n",
       "2886              가톨릭대 \n",
       "3111              가톨릭대 \n",
       "3207              가톨릭대 \n",
       "9390            가톨릭대학교 \n",
       "9614            가톨릭대학교 \n",
       "Name: 0, dtype: object"
      ]
     },
     "execution_count": 86,
     "metadata": {},
     "output_type": "execute_result"
    }
   ],
   "source": [
    "# 부산카톨릭 지우고 싶음\n",
    "first[first.str.contains(\"가톨릭대\")==True]"
   ]
  },
  {
   "cell_type": "code",
   "execution_count": 87,
   "metadata": {},
   "outputs": [],
   "source": [
    "first[first.str.contains(\"건국\")==True]=\"서울사립대(건국대학교)\""
   ]
  },
  {
   "cell_type": "code",
   "execution_count": 88,
   "metadata": {},
   "outputs": [],
   "source": [
    "first[first.str.contains(\"경기대\")==True]=\"서울사립대(경기대학교)\""
   ]
  },
  {
   "cell_type": "code",
   "execution_count": 89,
   "metadata": {},
   "outputs": [],
   "source": [
    "first[first.str.contains(\"경희대\")==True]=\"서울사립대(경희대학교)\""
   ]
  },
  {
   "cell_type": "code",
   "execution_count": 90,
   "metadata": {},
   "outputs": [],
   "source": [
    "first[first.str.contains(\"고려대\")==True]=\"서울사립대(고려대학교)\""
   ]
  },
  {
   "cell_type": "code",
   "execution_count": 91,
   "metadata": {},
   "outputs": [],
   "source": [
    "first[first.str.contains(\"광운\")==True]=\"서울사립대(광운대학교)\""
   ]
  },
  {
   "cell_type": "code",
   "execution_count": 92,
   "metadata": {},
   "outputs": [],
   "source": [
    "first[first.str.contains(\"국민\")==True]=\"서울사립대(국민대학교)\""
   ]
  },
  {
   "cell_type": "code",
   "execution_count": 93,
   "metadata": {},
   "outputs": [],
   "source": [
    "first[first.str.contains(\"덕성\")==True]=\"서울사립대(덕성여자대학교)\""
   ]
  },
  {
   "cell_type": "code",
   "execution_count": 94,
   "metadata": {},
   "outputs": [],
   "source": [
    "first[first.str.contains(\"동국대\")==True]=\"서울사립대(동국대학교)\""
   ]
  },
  {
   "cell_type": "code",
   "execution_count": 95,
   "metadata": {},
   "outputs": [],
   "source": [
    "first[first.str.contains(\"동덕\")==True]=\"서울사립대(동덕여자대학교)\""
   ]
  },
  {
   "cell_type": "code",
   "execution_count": 96,
   "metadata": {},
   "outputs": [],
   "source": [
    "first[first.str.contains(\"명지\")==True]=\"서울사립대(명지대학교)\""
   ]
  },
  {
   "cell_type": "code",
   "execution_count": 97,
   "metadata": {},
   "outputs": [],
   "source": [
    "first[first.str.contains(\"삼육\")==True]=\"서울사립대(삼육대학교)\""
   ]
  },
  {
   "cell_type": "code",
   "execution_count": 98,
   "metadata": {},
   "outputs": [],
   "source": [
    "first[first.str.contains(\"천안\")==True]=\"지방사립대(상명대학교)\""
   ]
  },
  {
   "cell_type": "code",
   "execution_count": 99,
   "metadata": {},
   "outputs": [
    {
     "data": {
      "text/plain": [
       "1021           상명대학교 \n",
       "2309           상명대학교 \n",
       "2467           상명대학교 \n",
       "5263     지방사립대(상명대학교)\n",
       "5412     지방사립대(상명대학교)\n",
       "7236           상명대학교 \n",
       "7256           상명대학교 \n",
       "10102          상명대학교 \n",
       "Name: 0, dtype: object"
      ]
     },
     "execution_count": 99,
     "metadata": {},
     "output_type": "execute_result"
    }
   ],
   "source": [
    "#상명대 =-> 서울캠 적고싶음\n",
    "first[first.str.contains(\"상명\")==True]"
   ]
  },
  {
   "cell_type": "code",
   "execution_count": 100,
   "metadata": {},
   "outputs": [],
   "source": [
    "first[first.str.contains(\"서강\")==True]=\"서울사립대(서강대학교)\""
   ]
  },
  {
   "cell_type": "code",
   "execution_count": 101,
   "metadata": {},
   "outputs": [],
   "source": [
    "first[first.str.contains(\"서경\")==True]=\"서울사립대(서경대학교)\""
   ]
  },
  {
   "cell_type": "code",
   "execution_count": 102,
   "metadata": {},
   "outputs": [],
   "source": [
    "first[first.str.contains(\"성신\")==True]=\"서울사립대(성신여자대학교)\""
   ]
  },
  {
   "cell_type": "code",
   "execution_count": 103,
   "metadata": {},
   "outputs": [],
   "source": [
    "first[first.str.contains(\"인서울 여자대학교\")==True]=\"서울사립대(성신여자대학교)\""
   ]
  },
  {
   "cell_type": "code",
   "execution_count": 104,
   "metadata": {},
   "outputs": [],
   "source": [
    "first[first.str.contains(\"숙명\")==True]=\"서울사립대(숙명여자대학교)\""
   ]
  },
  {
   "cell_type": "code",
   "execution_count": 105,
   "metadata": {},
   "outputs": [],
   "source": [
    "first[first.str.contains(\"홍익대학교 세종캠퍼스\")==True]=\"지방사립대(홍익대학교)\""
   ]
  },
  {
   "cell_type": "code",
   "execution_count": 106,
   "metadata": {},
   "outputs": [],
   "source": [
    "first[first.str.contains(\"고대 세종\")==True]=\"지방사립대(고려대학교)\""
   ]
  },
  {
   "cell_type": "code",
   "execution_count": 107,
   "metadata": {},
   "outputs": [],
   "source": [
    "first[first.str.contains(\"세종\")==True]=\"서울사립대(세종대학교)\""
   ]
  },
  {
   "cell_type": "code",
   "execution_count": 108,
   "metadata": {},
   "outputs": [],
   "source": [
    "first[first.str.contains(\"숭실\")==True]=\"서울사립대(숭실대학교)\""
   ]
  },
  {
   "cell_type": "code",
   "execution_count": 109,
   "metadata": {},
   "outputs": [],
   "source": [
    "first[first.str.contains(\"연세\")==True]=\"서울사립대(연세대학교)\""
   ]
  },
  {
   "cell_type": "code",
   "execution_count": 110,
   "metadata": {},
   "outputs": [],
   "source": [
    "first[first.str.contains(\"이화\")==True]=\"서울사립대(이화여자대학교)\""
   ]
  },
  {
   "cell_type": "code",
   "execution_count": 111,
   "metadata": {},
   "outputs": [],
   "source": [
    "first[first.str.contains(\"중앙\")==True]=\"서울사립대(중앙대학교)\""
   ]
  },
  {
   "cell_type": "code",
   "execution_count": 112,
   "metadata": {},
   "outputs": [],
   "source": [
    "first[first.str.contains(\"성서\")==True]=\"서울사립대(서성한)\""
   ]
  },
  {
   "cell_type": "code",
   "execution_count": 113,
   "metadata": {},
   "outputs": [],
   "source": [
    "first[first.str.contains(\"외국\")==True]=\"서울사립대(한국외국어대학교)\""
   ]
  },
  {
   "cell_type": "code",
   "execution_count": 114,
   "metadata": {},
   "outputs": [],
   "source": [
    "first[first.str.contains(\"한성대\")==True]=\"서울사립대(한성대학교)\""
   ]
  },
  {
   "cell_type": "code",
   "execution_count": 115,
   "metadata": {},
   "outputs": [],
   "source": [
    "first[first.str.contains(\"한양\")==True]=\"서울사립대(한양대학교)\""
   ]
  },
  {
   "cell_type": "code",
   "execution_count": 116,
   "metadata": {},
   "outputs": [
    {
     "data": {
      "text/plain": [
       "1226            홍익대 \n",
       "3341    지방사립대(홍익대학교)\n",
       "3458    지방사립대(홍익대학교)\n",
       "3750          홍익대학교 \n",
       "3770          홍익대학교 \n",
       "3850          홍익대학교 \n",
       "3939          홍익대학교 \n",
       "3973             홍익 \n",
       "4075          홍익대학교 \n",
       "4090             홍익 \n",
       "4650          홍익대학교 \n",
       "4804          홍익대학교 \n",
       "4983            홍익대 \n",
       "5143            홍익대 \n",
       "6756            홍익대 \n",
       "6776            홍익대 \n",
       "6904          홍익대학교 \n",
       "6986            홍익대 \n",
       "7006            홍익대 \n",
       "7040            홍익대 \n",
       "8113          홍익대학교 \n",
       "8400          홍익대학교 \n",
       "8617          홍익대학교 \n",
       "8630            홍익대 \n",
       "8668          홍익대학교 \n",
       "8688          홍익대학교 \n",
       "8739          홍익대학교 \n",
       "8832          홍익대학교 \n",
       "9008          홍익대학교 \n",
       "9077          홍익대학교 \n",
       "9265            홍익대 \n",
       "9447          홍익대학교 \n",
       "9467          홍익대학교 \n",
       "9566            홍익대 \n",
       "9670            홍익대 \n",
       "9684            홍익대 \n",
       "9803          홍익대학교 \n",
       "Name: 0, dtype: object"
      ]
     },
     "execution_count": 116,
     "metadata": {},
     "output_type": "execute_result"
    }
   ],
   "source": [
    "first[first.str.contains(\"홍익\")==True]"
   ]
  },
  {
   "cell_type": "code",
   "execution_count": 117,
   "metadata": {},
   "outputs": [],
   "source": [
    "first[first.str.contains(\"서성\")==True]=\"서울사립대(서성한)\""
   ]
  },
  {
   "cell_type": "code",
   "execution_count": 118,
   "metadata": {},
   "outputs": [],
   "source": [
    "first[first.str.contains(\"중경\")==True]=\"서울사립대(중경외시)\""
   ]
  },
  {
   "cell_type": "code",
   "execution_count": 119,
   "metadata": {},
   "outputs": [],
   "source": [
    "first[first.str.contains(\"건홍\")==True]=\"서울사립대(건동홍)\""
   ]
  },
  {
   "cell_type": "code",
   "execution_count": 120,
   "metadata": {},
   "outputs": [],
   "source": [
    "first[first.str.contains(\"건동\")==True]=\"서울사립대(건동홍)\""
   ]
  },
  {
   "cell_type": "code",
   "execution_count": 121,
   "metadata": {},
   "outputs": [],
   "source": [
    "first[first.str.contains(\"원광보건대학교\")==True]=\"전문대\""
   ]
  },
  {
   "cell_type": "code",
   "execution_count": 122,
   "metadata": {},
   "outputs": [],
   "source": [
    "first[first.str.contains(\"건대\")==True]=\"서울사립대(건국대학교)\""
   ]
  },
  {
   "cell_type": "code",
   "execution_count": 123,
   "metadata": {},
   "outputs": [],
   "source": [
    "first[first.str.contains(\"부산경상\")==True]=\"전문대\""
   ]
  },
  {
   "cell_type": "code",
   "execution_count": 124,
   "metadata": {},
   "outputs": [
    {
     "data": {
      "text/plain": [
       "1021           상명대학교 \n",
       "2309           상명대학교 \n",
       "2467           상명대학교 \n",
       "5263     지방사립대(상명대학교)\n",
       "5412     지방사립대(상명대학교)\n",
       "7236           상명대학교 \n",
       "7256           상명대학교 \n",
       "10102          상명대학교 \n",
       "Name: 0, dtype: object"
      ]
     },
     "execution_count": 124,
     "metadata": {},
     "output_type": "execute_result"
    }
   ],
   "source": [
    "first[first.str.contains(\"상명\")==True]"
   ]
  },
  {
   "cell_type": "code",
   "execution_count": 125,
   "metadata": {},
   "outputs": [],
   "source": [
    "# 이름 바꿔야함\n",
    "first[first.str.contains(\"수도권\")==True]=\"지방사립대(경기)\""
   ]
  },
  {
   "cell_type": "code",
   "execution_count": 126,
   "metadata": {},
   "outputs": [],
   "source": [
    "first[first.str.contains(\"하위\")==True]=\"서울사립대\""
   ]
  },
  {
   "cell_type": "code",
   "execution_count": 127,
   "metadata": {},
   "outputs": [],
   "source": [
    "first[first.str.contains(\"인서울\")==True]=\"서울사립대\""
   ]
  },
  {
   "cell_type": "code",
   "execution_count": 128,
   "metadata": {},
   "outputs": [
    {
     "data": {
      "text/plain": [
       "4106     설카포 \n",
       "4126     설카포 \n",
       "4207     설카포 \n",
       "9959     설카포 \n",
       "9963     설카포 \n",
       "10034    설카포 \n",
       "10054    설카포 \n",
       "10061    설카포 \n",
       "Name: 0, dtype: object"
      ]
     },
     "execution_count": 128,
     "metadata": {},
     "output_type": "execute_result"
    }
   ],
   "source": [
    "# 설카포\n",
    "first[first.str.contains(\"설카\")==True]"
   ]
  },
  {
   "cell_type": "code",
   "execution_count": 129,
   "metadata": {},
   "outputs": [],
   "source": [
    "first[first.str.contains(\"중상\")==True]=\"서울사립대\""
   ]
  },
  {
   "cell_type": "code",
   "execution_count": 130,
   "metadata": {},
   "outputs": [],
   "source": [
    "first[first.str.contains(\"중하\")==True]=\"서울사립대\""
   ]
  },
  {
   "cell_type": "code",
   "execution_count": 131,
   "metadata": {},
   "outputs": [],
   "source": [
    "first[first.str.contains(\"협성\")==True]=\"지방사립대(협성대학교)\""
   ]
  },
  {
   "cell_type": "code",
   "execution_count": 132,
   "metadata": {},
   "outputs": [],
   "source": [
    "first[first.str.contains(\"경성대\")==True]=\"지방사립대(경성대학교)\""
   ]
  },
  {
   "cell_type": "code",
   "execution_count": 133,
   "metadata": {},
   "outputs": [
    {
     "data": {
      "text/plain": [
       "281      서울사립대(한성대학교)\n",
       "293      서울사립대(한성대학교)\n",
       "381      서울사립대(한성대학교)\n",
       "386      서울사립대(한성대학교)\n",
       "397      서울사립대(한성대학교)\n",
       "433      서울사립대(한성대학교)\n",
       "434      서울사립대(한성대학교)\n",
       "445      지방사립대(협성대학교)\n",
       "454      서울사립대(한성대학교)\n",
       "514      서울사립대(한성대학교)\n",
       "533      지방사립대(협성대학교)\n",
       "534      서울사립대(한성대학교)\n",
       "545      서울사립대(한성대학교)\n",
       "560      서울사립대(한성대학교)\n",
       "1260     서울사립대(한성대학교)\n",
       "1352     서울사립대(한성대학교)\n",
       "1967     서울사립대(한성대학교)\n",
       "1969     서울사립대(한성대학교)\n",
       "2105     서울사립대(한성대학교)\n",
       "2107     서울사립대(한성대학교)\n",
       "2318     서울사립대(한성대학교)\n",
       "2478     서울사립대(한성대학교)\n",
       "3702              성대 \n",
       "3930              성대 \n",
       "4039              성대 \n",
       "4048              성대 \n",
       "9912              성대 \n",
       "10038             성대 \n",
       "10058             성대 \n",
       "10065             성대 \n",
       "10088    지방사립대(경성대학교)\n",
       "10099    지방사립대(경성대학교)\n",
       "Name: 0, dtype: object"
      ]
     },
     "execution_count": 133,
     "metadata": {},
     "output_type": "execute_result"
    }
   ],
   "source": [
    "#성균관대\n",
    "first[first.str.contains(\"성대\")==True]"
   ]
  },
  {
   "cell_type": "code",
   "execution_count": 134,
   "metadata": {},
   "outputs": [],
   "source": [
    "first[first.str.contains(\"수도권4년제\")==True]=\"서울사립대(경기)\""
   ]
  },
  {
   "cell_type": "code",
   "execution_count": 135,
   "metadata": {},
   "outputs": [],
   "source": [
    "first[first.str.contains(\"서울4년제\")==True]=\"서울사립대\""
   ]
  },
  {
   "cell_type": "code",
   "execution_count": 136,
   "metadata": {},
   "outputs": [],
   "source": [
    "first[first.str.contains(\"지방4년제\")==True]=\"지방사립대\""
   ]
  },
  {
   "cell_type": "code",
   "execution_count": 137,
   "metadata": {},
   "outputs": [],
   "source": [
    "first[first.str.contains(\"서울 4년제\")==True]=\"서울사립대\""
   ]
  },
  {
   "cell_type": "code",
   "execution_count": 138,
   "metadata": {},
   "outputs": [],
   "source": [
    "#모름\n",
    "first[first.str.contains(\"2년\")==True]=\"전문대\""
   ]
  },
  {
   "cell_type": "code",
   "execution_count": 139,
   "metadata": {},
   "outputs": [],
   "source": [
    "first[first.str.contains(\"경기도 4년제\")==True]=\"지방사립대(경기)\""
   ]
  },
  {
   "cell_type": "code",
   "execution_count": 140,
   "metadata": {},
   "outputs": [],
   "source": [
    "first[first.str.contains(\"지방 국립4년제\")==True]=\"지방국립대\""
   ]
  },
  {
   "cell_type": "code",
   "execution_count": 141,
   "metadata": {},
   "outputs": [],
   "source": [
    "first[first.str.contains(\"서울 4년\")==True]=\"서울사립대\""
   ]
  },
  {
   "cell_type": "code",
   "execution_count": 142,
   "metadata": {},
   "outputs": [],
   "source": [
    "first[first.str.contains(\"지방 4년제\")==True]=\"지방사립대\""
   ]
  },
  {
   "cell_type": "code",
   "execution_count": 143,
   "metadata": {},
   "outputs": [],
   "source": [
    "first[first.str.contains(\"경기권 4년제\")==True]=\"지방사립대(경기)\""
   ]
  },
  {
   "cell_type": "code",
   "execution_count": 144,
   "metadata": {},
   "outputs": [],
   "source": [
    "first[first.str.contains(\"지방사립 4년\")==True]=\"지방사립대\""
   ]
  },
  {
   "cell_type": "code",
   "execution_count": 145,
   "metadata": {},
   "outputs": [],
   "source": [
    "first[first.str.contains(\"지방 4년\")==True]=\"지방사립대\""
   ]
  },
  {
   "cell_type": "code",
   "execution_count": null,
   "metadata": {},
   "outputs": [],
   "source": []
  },
  {
   "cell_type": "code",
   "execution_count": 146,
   "metadata": {},
   "outputs": [],
   "source": [
    "first[first.str.contains(\"00대학교\")==True]=\"지방사립대\""
   ]
  },
  {
   "cell_type": "code",
   "execution_count": 147,
   "metadata": {},
   "outputs": [],
   "source": [
    "first[first.str.contains(\"지방대 4년제\")==True]=\"지방사립대\""
   ]
  },
  {
   "cell_type": "code",
   "execution_count": 148,
   "metadata": {},
   "outputs": [],
   "source": [
    "#지방국립대4\n",
    "first[first.str.contains(\"지방국립대 4년제\")==True]=\"지방국립대\""
   ]
  },
  {
   "cell_type": "code",
   "execution_count": 149,
   "metadata": {},
   "outputs": [],
   "source": [
    "first[first.str.contains(\"서울권4년제\")==True]=\"서울사립대\""
   ]
  },
  {
   "cell_type": "code",
   "execution_count": 150,
   "metadata": {},
   "outputs": [],
   "source": [
    "first[first.str.contains(\"경기 4년제\")==True]=\"지방사립대(경기)\""
   ]
  },
  {
   "cell_type": "code",
   "execution_count": 151,
   "metadata": {},
   "outputs": [],
   "source": [
    "first[first.str.contains(\"서울 중위권 4년제\")==True]=\"서울사립대\""
   ]
  },
  {
   "cell_type": "code",
   "execution_count": 152,
   "metadata": {},
   "outputs": [],
   "source": [
    "first[first.str.contains(\"경기원 4년제\")==True]=\"지방사립대\""
   ]
  },
  {
   "cell_type": "code",
   "execution_count": 153,
   "metadata": {},
   "outputs": [],
   "source": [
    "first[first.str.contains(\"지방대4년\")==True]=\"지방사립대\""
   ]
  },
  {
   "cell_type": "code",
   "execution_count": 154,
   "metadata": {},
   "outputs": [],
   "source": [
    "first[first.str.contains(\"서울소재 4년\")==True]=\"서울사립대\""
   ]
  },
  {
   "cell_type": "code",
   "execution_count": 155,
   "metadata": {},
   "outputs": [],
   "source": [
    "first[first.str.contains(\"지방 국립 4년\")==True]=\"지방국립대\""
   ]
  },
  {
   "cell_type": "code",
   "execution_count": 156,
   "metadata": {},
   "outputs": [],
   "source": [
    "first[first.str.contains(\"지방국립4년제\")==True]=\"지방국립대\""
   ]
  },
  {
   "cell_type": "code",
   "execution_count": 157,
   "metadata": {},
   "outputs": [],
   "source": [
    "first[first.str.contains(\"지방사립4년\")==True]=\"지방사립대\""
   ]
  },
  {
   "cell_type": "code",
   "execution_count": 158,
   "metadata": {},
   "outputs": [],
   "source": [
    "first[first.str.contains(\"인천지역 4년제대\")==True]=\"지방사립대(경기)\""
   ]
  },
  {
   "cell_type": "code",
   "execution_count": 159,
   "metadata": {},
   "outputs": [],
   "source": [
    "first[first.str.contains(\"북경4년제\")==True]=\"해외대(중국)\""
   ]
  },
  {
   "cell_type": "code",
   "execution_count": 160,
   "metadata": {},
   "outputs": [],
   "source": [
    "first[first.str.contains(\"서울권 4년제\")==True]=\"서울사립대\""
   ]
  },
  {
   "cell_type": "code",
   "execution_count": 161,
   "metadata": {},
   "outputs": [],
   "source": [
    "first[first.str.contains(\"4년제\")==True]=\"지방사립대\""
   ]
  },
  {
   "cell_type": "code",
   "execution_count": 162,
   "metadata": {},
   "outputs": [
    {
     "data": {
      "text/plain": [
       "1         서울사립대(중경외시)\n",
       "114      서울사립대(중앙대학교)\n",
       "134      서울사립대(중앙대학교)\n",
       "150      서울사립대(중앙대학교)\n",
       "158      서울사립대(중앙대학교)\n",
       "             ...     \n",
       "10055     서울사립대(중경외시)\n",
       "10062     서울사립대(중경외시)\n",
       "10070     서울사립대(중경외시)\n",
       "10071    서울사립대(중앙대학교)\n",
       "10092    서울사립대(중앙대학교)\n",
       "Name: 0, Length: 1018, dtype: object"
      ]
     },
     "execution_count": 162,
     "metadata": {},
     "output_type": "execute_result"
    }
   ],
   "source": [
    "first[first.str.contains(\"중\")==True]"
   ]
  },
  {
   "cell_type": "code",
   "execution_count": 163,
   "metadata": {},
   "outputs": [],
   "source": [
    "first[first.str.contains(\"서울 상위\")==True]=\"서울사립대\""
   ]
  },
  {
   "cell_type": "code",
   "execution_count": 164,
   "metadata": {},
   "outputs": [],
   "source": [
    "first[first.str.contains(\"서상한\")==True]=\"서울사립대(서성한)\""
   ]
  },
  {
   "cell_type": "code",
   "execution_count": 165,
   "metadata": {},
   "outputs": [],
   "source": [
    "first[first.str.contains(\"지방 상위\")==True]=\"지방사립대\""
   ]
  },
  {
   "cell_type": "code",
   "execution_count": 166,
   "metadata": {},
   "outputs": [],
   "source": [
    "first[first.str.contains(\"경상대학교\")==True]=\"지방국립대\""
   ]
  },
  {
   "cell_type": "code",
   "execution_count": 167,
   "metadata": {},
   "outputs": [],
   "source": [
    "first[first.str.contains(\"지방상위권\")==True]=\"지방사립대\""
   ]
  },
  {
   "cell_type": "code",
   "execution_count": 168,
   "metadata": {},
   "outputs": [],
   "source": [
    "first[first.str.contains(\"상명대학교 \")==True]=\"서울사립대(상명대학교)\""
   ]
  },
  {
   "cell_type": "code",
   "execution_count": 169,
   "metadata": {},
   "outputs": [],
   "source": [
    "first[first.str.contains(\"서울상위권\")==True]=\"서울사립대\""
   ]
  },
  {
   "cell_type": "code",
   "execution_count": 170,
   "metadata": {},
   "outputs": [],
   "source": [
    "first[first.str.contains(\"상위권\")==True]=\"서울사립대\""
   ]
  },
  {
   "cell_type": "code",
   "execution_count": 171,
   "metadata": {},
   "outputs": [],
   "source": [
    "first[first.str.contains(\"광명상가\")==True]=\"서울사립대(명지대학교)\""
   ]
  },
  {
   "cell_type": "code",
   "execution_count": 172,
   "metadata": {},
   "outputs": [],
   "source": [
    "first[first.str.contains(\"경상대\")==True]=\"지방국립대\""
   ]
  },
  {
   "cell_type": "code",
   "execution_count": 173,
   "metadata": {},
   "outputs": [],
   "source": [
    "first[first.str.contains(\"상경\")==True]=\"서울사립대\""
   ]
  },
  {
   "cell_type": "code",
   "execution_count": 174,
   "metadata": {},
   "outputs": [],
   "source": [
    "first[first.str.contains(\"서울상위\")==True]='서울사립대'"
   ]
  },
  {
   "cell_type": "code",
   "execution_count": 175,
   "metadata": {},
   "outputs": [],
   "source": [
    "first[first.str.contains(\"라인\")==True]=\"서울사립대\""
   ]
  },
  {
   "cell_type": "code",
   "execution_count": 176,
   "metadata": {},
   "outputs": [],
   "source": [
    "first[first.str.contains(\"국숭세단\")==True]=\"서울사립대(숭실대학교)\""
   ]
  },
  {
   "cell_type": "code",
   "execution_count": 177,
   "metadata": {},
   "outputs": [],
   "source": [
    "first[first.str.contains(\"세단\")==True]=\"서울사립대(숭실대학교)\""
   ]
  },
  {
   "cell_type": "code",
   "execution_count": 178,
   "metadata": {},
   "outputs": [],
   "source": [
    "first[first.str.contains(\"단국대학교\")==True]=\"서울사립대(단국대학교)\""
   ]
  },
  {
   "cell_type": "code",
   "execution_count": 179,
   "metadata": {},
   "outputs": [],
   "source": [
    "first[first.str.contains(\"단국대학교\")==True]=\"서울사립대(단국대학교)\""
   ]
  },
  {
   "cell_type": "code",
   "execution_count": 580,
   "metadata": {},
   "outputs": [],
   "source": [
    "first.to_csv(\"20200806.txt\",encoding=\"utf-8\")"
   ]
  },
  {
   "cell_type": "code",
   "execution_count": 181,
   "metadata": {},
   "outputs": [],
   "source": [
    "first[first.str.contains(\"신한대학교\")==True]=\"지방사립대(신한대학교)\""
   ]
  },
  {
   "cell_type": "code",
   "execution_count": 182,
   "metadata": {},
   "outputs": [],
   "source": [
    "first[first.str.contains(\"아주대학교\")==True]=\"서울사립대(아주대학교)\""
   ]
  },
  {
   "cell_type": "code",
   "execution_count": 183,
   "metadata": {},
   "outputs": [],
   "source": [
    "first[first.str.contains(\"한동대학교\")==True]=\"지방사립대(한동대학교)\""
   ]
  },
  {
   "cell_type": "code",
   "execution_count": 184,
   "metadata": {},
   "outputs": [],
   "source": [
    "first[first.str.contains(\"대전대학교\")==True]=\"지방사립대(대전대학교)\""
   ]
  },
  {
   "cell_type": "code",
   "execution_count": 185,
   "metadata": {},
   "outputs": [],
   "source": [
    "first[first.str.contains(\"항공대\")==True]=\"지방사립대(한국항공대학교)\""
   ]
  },
  {
   "cell_type": "code",
   "execution_count": 186,
   "metadata": {},
   "outputs": [],
   "source": [
    "first[first.str.contains(\"백석대\")==True]=\"지방사립대(백석대학교)\""
   ]
  },
  {
   "cell_type": "code",
   "execution_count": 187,
   "metadata": {},
   "outputs": [],
   "source": [
    "first[first.str.contains(\"성결\")==True]=\"지방사립대(성결대학교)\""
   ]
  },
  {
   "cell_type": "code",
   "execution_count": 188,
   "metadata": {},
   "outputs": [],
   "source": [
    "first[first.str.contains(\"한림\")==True]=\"지방사립대(한림대학교)\""
   ]
  },
  {
   "cell_type": "code",
   "execution_count": 189,
   "metadata": {},
   "outputs": [
    {
     "data": {
      "text/plain": [
       "119      학점 3.57 \n",
       "139      학점 3.57 \n",
       "166      학점 3.57 \n",
       "811      학점 3.67 \n",
       "820      학점 3.67 \n",
       "           ...   \n",
       "7975     학점 3.96 \n",
       "8845     학점 3.99 \n",
       "9298     학점 3.38 \n",
       "10047     학점 3.6 \n",
       "10067     학점 3.6 \n",
       "Name: 0, Length: 107, dtype: object"
      ]
     },
     "execution_count": 189,
     "metadata": {},
     "output_type": "execute_result"
    }
   ],
   "source": [
    "# 우선 놔둠\n",
    "first[first.str.contains(\"학점\")==True]"
   ]
  },
  {
   "cell_type": "code",
   "execution_count": 190,
   "metadata": {},
   "outputs": [],
   "source": [
    "first[first.str.contains(\"서울권 \")==True]=\"서울사립대\""
   ]
  },
  {
   "cell_type": "code",
   "execution_count": 191,
   "metadata": {},
   "outputs": [],
   "source": [
    "first[first.str.contains(\"경남과기대\")==True]=\"지방국립대(경남과학기술대학교)\""
   ]
  },
  {
   "cell_type": "code",
   "execution_count": 192,
   "metadata": {},
   "outputs": [],
   "source": [
    "first[first.str.contains(\"인하대\")==True]=\"지방사립대(인하대학교)\""
   ]
  },
  {
   "cell_type": "code",
   "execution_count": 193,
   "metadata": {},
   "outputs": [],
   "source": [
    "first[first.str.contains(\"성균\")==True]=\"서울사립대(성균관대학교)\""
   ]
  },
  {
   "cell_type": "code",
   "execution_count": 194,
   "metadata": {},
   "outputs": [],
   "source": [
    "first[first.str.contains(\"경중외시\")==True]=\"서울사립대(경희대학교)\""
   ]
  },
  {
   "cell_type": "code",
   "execution_count": 195,
   "metadata": {},
   "outputs": [],
   "source": [
    "first[first.str.contains(\"지방 국립대\")==True]=\"지방국립대\""
   ]
  },
  {
   "cell_type": "code",
   "execution_count": 196,
   "metadata": {},
   "outputs": [],
   "source": [
    "first[first.str.contains(\"지방 사립\")==True]=\"지방사립대\""
   ]
  },
  {
   "cell_type": "code",
   "execution_count": 197,
   "metadata": {},
   "outputs": [],
   "source": [
    "first[first.str.contains(\"서울 사립\")==True]=\"서울사립대\""
   ]
  },
  {
   "cell_type": "code",
   "execution_count": 198,
   "metadata": {},
   "outputs": [],
   "source": [
    "first[first.str.contains(\"서울 중위권\")==True]=\"서울사립대\""
   ]
  },
  {
   "cell_type": "code",
   "execution_count": 199,
   "metadata": {},
   "outputs": [],
   "source": [
    "first[first.str.contains(\"서울 중\")==True]=\"서울사립대\""
   ]
  },
  {
   "cell_type": "code",
   "execution_count": 200,
   "metadata": {},
   "outputs": [],
   "source": [
    "first[first.str.contains(\"서울 과기대\")==True]=\"서울국립대(서울과학기술대학교)\""
   ]
  },
  {
   "cell_type": "code",
   "execution_count": 201,
   "metadata": {},
   "outputs": [],
   "source": [
    "first[first.str.contains(\"서울 하\")==True]=\"서울사립대\""
   ]
  },
  {
   "cell_type": "code",
   "execution_count": 202,
   "metadata": {},
   "outputs": [],
   "source": [
    "first[first.str.contains(\"서울 소재\")==True]=\"서울사립대\""
   ]
  },
  {
   "cell_type": "code",
   "execution_count": 203,
   "metadata": {},
   "outputs": [],
   "source": [
    "first[first.str.contains(\"서울 광진구\")==True]=\"서울사립대\""
   ]
  },
  {
   "cell_type": "code",
   "execution_count": 204,
   "metadata": {},
   "outputs": [],
   "source": [
    "first[first.str.contains(\"지방, 서울\")==True]=\"지방사립대\""
   ]
  },
  {
   "cell_type": "code",
   "execution_count": 205,
   "metadata": {},
   "outputs": [],
   "source": [
    "first[first.str.contains(\"서울 \")==True]=\"서울사립대\""
   ]
  },
  {
   "cell_type": "code",
   "execution_count": 206,
   "metadata": {},
   "outputs": [],
   "source": [
    "first[first.str.contains(\"지방 과기원 \")==True]=\"UNIST\""
   ]
  },
  {
   "cell_type": "code",
   "execution_count": 207,
   "metadata": {},
   "outputs": [],
   "source": [
    "first[first.str.contains(\"지방 국립\")==True]=\"지방국립대\""
   ]
  },
  {
   "cell_type": "code",
   "execution_count": 208,
   "metadata": {},
   "outputs": [],
   "source": [
    "first[first.str.contains(\"분교 지방\")==True]=\"지방사립대\""
   ]
  },
  {
   "cell_type": "code",
   "execution_count": 209,
   "metadata": {},
   "outputs": [],
   "source": [
    "first[first.str.contains(\"지방 거점\")==True]=\"지방거점국립대\""
   ]
  },
  {
   "cell_type": "code",
   "execution_count": 210,
   "metadata": {},
   "outputs": [],
   "source": [
    "first[first.str.contains(\"부산지방\")==True]=\"지방사립대\""
   ]
  },
  {
   "cell_type": "code",
   "execution_count": 211,
   "metadata": {},
   "outputs": [],
   "source": [
    "first[first.str.contains(\"지방 공립\")==True]=\"지방국립대\""
   ]
  },
  {
   "cell_type": "code",
   "execution_count": 212,
   "metadata": {},
   "outputs": [],
   "source": [
    "first[first.str.contains(\"지방 \")==True]=\"지방사립대\""
   ]
  },
  {
   "cell_type": "code",
   "execution_count": 213,
   "metadata": {},
   "outputs": [
    {
     "data": {
      "text/plain": [
       "6          지방국립대(한경대학교)\n",
       "7          지방국립대(한경대학교)\n",
       "13         지방국립대(순천대학교)\n",
       "15       지방국립대(금오공과대학교)\n",
       "19         지방국립대(창원대학교)\n",
       "              ...      \n",
       "10032            지방국립대 \n",
       "10042            지방국립대 \n",
       "10043      지방국립대(인천대학교)\n",
       "10052            지방국립대 \n",
       "10089             지방국립 \n",
       "Name: 0, Length: 663, dtype: object"
      ]
     },
     "execution_count": 213,
     "metadata": {},
     "output_type": "execute_result"
    }
   ],
   "source": [
    "first[first.str.contains(\"지방국립\")==True]"
   ]
  },
  {
   "cell_type": "code",
   "execution_count": 214,
   "metadata": {},
   "outputs": [],
   "source": [
    "first[first.str.contains(\"지방대\")==True]=\"지방사립대\""
   ]
  },
  {
   "cell_type": "code",
   "execution_count": 215,
   "metadata": {},
   "outputs": [],
   "source": [
    "first[first.str.contains(\"인천 지방사립대\")==True]=\"지방사립대\""
   ]
  },
  {
   "cell_type": "code",
   "execution_count": 216,
   "metadata": {},
   "outputs": [],
   "source": [
    "first[first.str.contains(\"SKY 지방캠\")==True]=\"지방사립대\""
   ]
  },
  {
   "cell_type": "code",
   "execution_count": 217,
   "metadata": {},
   "outputs": [],
   "source": [
    "first[first.str.contains(\"디자인 서홍국\")==True]=\"서울사립대(홍익대학교)\""
   ]
  },
  {
   "cell_type": "code",
   "execution_count": 218,
   "metadata": {},
   "outputs": [],
   "source": [
    "first[first.str.contains(\"신라\")==True]=\"지방사립대(신라대학교)\""
   ]
  },
  {
   "cell_type": "code",
   "execution_count": 219,
   "metadata": {},
   "outputs": [],
   "source": [
    "first[first.str.contains(\"서울과기대\")==True]=\"서울국립대(서울과학기술대학교)\""
   ]
  },
  {
   "cell_type": "code",
   "execution_count": 220,
   "metadata": {},
   "outputs": [],
   "source": [
    "first[first.str.contains(\"과기대\")==True]=\"서울국립대(서울과학기술대학교)\""
   ]
  },
  {
   "cell_type": "code",
   "execution_count": 221,
   "metadata": {},
   "outputs": [],
   "source": [
    "first[first.str.contains(\"과기\")==True]=\"KAIST\""
   ]
  },
  {
   "cell_type": "code",
   "execution_count": 222,
   "metadata": {},
   "outputs": [
    {
     "data": {
      "text/plain": [
       "1            서울사립대(중경외시)\n",
       "4           서울사립대(건국대학교)\n",
       "5             서울사립대(서성한)\n",
       "10       서울사립대(한국외국어대학교)\n",
       "14          서울사립대(숭실대학교)\n",
       "              ...       \n",
       "10092       서울사립대(중앙대학교)\n",
       "10097       서울사립대(건국대학교)\n",
       "10098       서울사립대(동국대학교)\n",
       "10100       서울사립대(경희대학교)\n",
       "10102       서울사립대(상명대학교)\n",
       "Name: 0, Length: 4315, dtype: object"
      ]
     },
     "execution_count": 222,
     "metadata": {},
     "output_type": "execute_result"
    }
   ],
   "source": [
    "first[first.str.contains(\"서울사립대\")==True]"
   ]
  },
  {
   "cell_type": "code",
   "execution_count": 223,
   "metadata": {},
   "outputs": [],
   "source": [
    "first.to_csv(\"first.txt\",encoding='utf-8')"
   ]
  },
  {
   "cell_type": "code",
   "execution_count": 224,
   "metadata": {},
   "outputs": [],
   "source": [
    "first[first.str.contains(\"가천\")==True]=\"지방사립대(가천대학교)\""
   ]
  },
  {
   "cell_type": "code",
   "execution_count": 225,
   "metadata": {},
   "outputs": [],
   "source": [
    "first[first.str.contains(\"지방거점 \")==True]=\"지방거점국립대\""
   ]
  },
  {
   "cell_type": "code",
   "execution_count": 226,
   "metadata": {},
   "outputs": [],
   "source": [
    "first[first.str.contains(\"ky\")==True]=\"서울사립대(고려대학교)\""
   ]
  },
  {
   "cell_type": "code",
   "execution_count": 227,
   "metadata": {},
   "outputs": [],
   "source": [
    "first[first.str.contains(\"s\")==True]=\"서울국립대(서울대학교)\""
   ]
  },
  {
   "cell_type": "code",
   "execution_count": 228,
   "metadata": {},
   "outputs": [],
   "source": [
    "first[first.str.contains(\"서울대\")==True]=\"서울국립대(서울대학교)\""
   ]
  },
  {
   "cell_type": "code",
   "execution_count": 229,
   "metadata": {},
   "outputs": [],
   "source": [
    "first[first.str.contains(\"SK\")==True]=\"서울사립대(연세대학교)\""
   ]
  },
  {
   "cell_type": "code",
   "execution_count": 230,
   "metadata": {},
   "outputs": [],
   "source": [
    "first[first.str.contains(\"아주대 석사\")==True]=\"대학원\""
   ]
  },
  {
   "cell_type": "code",
   "execution_count": 231,
   "metadata": {},
   "outputs": [],
   "source": [
    "first[first.str.contains(\"아주대 \")==True]=\"서울사립대(아주대학교)\""
   ]
  },
  {
   "cell_type": "code",
   "execution_count": 232,
   "metadata": {},
   "outputs": [],
   "source": [
    "first[first.str.contains(\"석사\")==True]=\"대학원\""
   ]
  },
  {
   "cell_type": "code",
   "execution_count": 233,
   "metadata": {},
   "outputs": [],
   "source": [
    "first[first.str.contains(\"기계\")==True]=\"지방사립대\""
   ]
  },
  {
   "cell_type": "code",
   "execution_count": 234,
   "metadata": {},
   "outputs": [],
   "source": [
    "first[first.str.contains(\"한국외\")==True]=\"서울사립대(한국외국어대학교)\""
   ]
  },
  {
   "cell_type": "code",
   "execution_count": 235,
   "metadata": {},
   "outputs": [],
   "source": [
    "first[first.str.contains(\"상지\")==True]=\"지방사립대(상지대학교)\""
   ]
  },
  {
   "cell_type": "code",
   "execution_count": 236,
   "metadata": {},
   "outputs": [],
   "source": [
    "first[first.str.contains(\"\\(경기\\)\")==True]=\"지방사립대\""
   ]
  },
  {
   "cell_type": "code",
   "execution_count": 237,
   "metadata": {},
   "outputs": [],
   "source": [
    "first[first.str.contains(\"경기권 \")==True]=\"지방사립대\""
   ]
  },
  {
   "cell_type": "code",
   "execution_count": 238,
   "metadata": {},
   "outputs": [],
   "source": [
    "first[first.str.contains(\"경기 \")==True]=\"지방사립대\""
   ]
  },
  {
   "cell_type": "code",
   "execution_count": 239,
   "metadata": {},
   "outputs": [],
   "source": [
    "first[first.str.contains(\"경기과학기술대학교\")==True]=\"전문대\""
   ]
  },
  {
   "cell_type": "code",
   "execution_count": 240,
   "metadata": {},
   "outputs": [],
   "source": [
    "first[first.str.contains(\"학점은행\")==True]=\"고등학교졸업\""
   ]
  },
  {
   "cell_type": "code",
   "execution_count": 241,
   "metadata": {},
   "outputs": [],
   "source": [
    "first[first.str.contains(\"동서\")==True]=\"지방사립대(동서대학교)\""
   ]
  },
  {
   "cell_type": "code",
   "execution_count": 242,
   "metadata": {},
   "outputs": [],
   "source": [
    "first[first.str.contains(\"한신\")==True]=\"지방사립대(한신대학교)\""
   ]
  },
  {
   "cell_type": "code",
   "execution_count": 243,
   "metadata": {},
   "outputs": [],
   "source": [
    "first[first.str.contains(\"서연\")==True]=\"서울사립대(고려대학교)\""
   ]
  },
  {
   "cell_type": "code",
   "execution_count": 244,
   "metadata": {},
   "outputs": [],
   "source": [
    "first[first.str.contains(\"연고\")==True]=\"서울사립대(연세대학교)\""
   ]
  },
  {
   "cell_type": "code",
   "execution_count": 245,
   "metadata": {},
   "outputs": [],
   "source": [
    "first[first.str.contains(\"스카이\")==True]=\"서울사립대(고려대학교)\""
   ]
  },
  {
   "cell_type": "code",
   "execution_count": 246,
   "metadata": {},
   "outputs": [],
   "source": [
    "first[first.str.contains(\"5공\")==True]=\"서울사립대(한양대학교)\""
   ]
  },
  {
   "cell_type": "code",
   "execution_count": 247,
   "metadata": {},
   "outputs": [],
   "source": [
    "first[first.str.contains(\"지방국립 \")==True]=\"지방국립대\""
   ]
  },
  {
   "cell_type": "code",
   "execution_count": 248,
   "metadata": {},
   "outputs": [],
   "source": [
    "first[first.str.contains(\"동국\")==True]=\"서울사립대(동국대학교)\""
   ]
  },
  {
   "cell_type": "code",
   "execution_count": 249,
   "metadata": {},
   "outputs": [],
   "source": [
    "first[first.str.contains(\"도시공학, 컴퓨터공학\")==True]=\"서울공립대(서울시립대)\""
   ]
  },
  {
   "cell_type": "code",
   "execution_count": 250,
   "metadata": {},
   "outputs": [
    {
     "data": {
      "text/plain": [
       "1262    컴퓨터공학과 \n",
       "1356    컴퓨터공학과 \n",
       "2507     컴퓨터공학 \n",
       "2527     컴퓨터공학 \n",
       "4696     컴퓨터공학 \n",
       "4872     컴퓨터공학 \n",
       "5725    컴퓨터공학과 \n",
       "5726    컴퓨터공학과 \n",
       "8853     컴퓨터공학 \n",
       "9043     컴퓨터공학 \n",
       "Name: 0, dtype: object"
      ]
     },
     "execution_count": 250,
     "metadata": {},
     "output_type": "execute_result"
    }
   ],
   "source": [
    "# 컴퓨터공학과\n",
    "first[first.str.contains(\"컴퓨터공\")==True]"
   ]
  },
  {
   "cell_type": "code",
   "execution_count": 251,
   "metadata": {
    "scrolled": true
   },
   "outputs": [
    {
     "data": {
      "text/plain": [
       "1263      경영 \n",
       "1355      경영 \n",
       "2838      경영 \n",
       "2841      경영 \n",
       "2968      경영 \n",
       "2970      경영 \n",
       "3100     경영학 \n",
       "3203     경영학 \n",
       "4642      경영 \n",
       "4664       경영\n",
       "4807      경영 \n",
       "4829       경영\n",
       "4849       경영\n",
       "5370      경영 \n",
       "5521      경영 \n",
       "5722     경영학 \n",
       "5756    경영학과 \n",
       "5762     경영학 \n",
       "5780    경영학과 \n",
       "5800    경영학과 \n",
       "9378    경영학과 \n",
       "9738    경영학과 \n",
       "9850    경영학과 \n",
       "Name: 0, dtype: object"
      ]
     },
     "execution_count": 251,
     "metadata": {},
     "output_type": "execute_result"
    }
   ],
   "source": [
    "# 경영학과\n",
    "first[first.str.contains(\"경영\")==True]"
   ]
  },
  {
   "cell_type": "code",
   "execution_count": 252,
   "metadata": {},
   "outputs": [],
   "source": [
    "first[first.str.contains(\"부산외대\")==True]=\"지방사립대(부산외국어대학교)\""
   ]
  },
  {
   "cell_type": "code",
   "execution_count": 253,
   "metadata": {},
   "outputs": [],
   "source": [
    "first[first.str.contains(\"외대 \")==True]=\"서울사립대(한국외국어대학교)\""
   ]
  },
  {
   "cell_type": "code",
   "execution_count": 254,
   "metadata": {
    "scrolled": true
   },
   "outputs": [
    {
     "data": {
      "text/plain": [
       "1403         바이오 \n",
       "6786    바이오및뇌공학과 \n",
       "7022    바이오및뇌공학과 \n",
       "Name: 0, dtype: object"
      ]
     },
     "execution_count": 254,
     "metadata": {},
     "output_type": "execute_result"
    }
   ],
   "source": [
    "# 바이오\n",
    "first[first.str.contains(\"바이오\")==True]"
   ]
  },
  {
   "cell_type": "code",
   "execution_count": 255,
   "metadata": {},
   "outputs": [],
   "source": [
    "first[first.str.contains(\"거제\")==True]=\"지방사립대(거제대학교)\""
   ]
  },
  {
   "cell_type": "code",
   "execution_count": 256,
   "metadata": {},
   "outputs": [],
   "source": [
    "first[first.str.contains(\"연대\")==True]=\"서울사립대(연세대학교)\""
   ]
  },
  {
   "cell_type": "code",
   "execution_count": 257,
   "metadata": {},
   "outputs": [],
   "source": [
    "first[first.str.contains(\"서성한\")==True]=\"서울사립대(서강대학교)\""
   ]
  },
  {
   "cell_type": "code",
   "execution_count": 258,
   "metadata": {},
   "outputs": [],
   "source": [
    "first[first.str.contains(\"건동홍\")==True]=\"서울사립대(홍익대학교)\""
   ]
  },
  {
   "cell_type": "code",
   "execution_count": 261,
   "metadata": {},
   "outputs": [],
   "source": [
    "first[first.str.contains(\"단국\")==True]=\"서울사립대(단국대학교)\""
   ]
  },
  {
   "cell_type": "code",
   "execution_count": 265,
   "metadata": {},
   "outputs": [
    {
     "data": {
      "text/plain": [
       "1622    컴퓨터그래픽 \n",
       "1763    컴퓨터그래픽 \n",
       "Name: 0, dtype: object"
      ]
     },
     "execution_count": 265,
     "metadata": {},
     "output_type": "execute_result"
    }
   ],
   "source": [
    "# 컴퓨터그래픽(전공)\n",
    "first[first.str.contains(\"그래픽\")==True]"
   ]
  },
  {
   "cell_type": "code",
   "execution_count": 268,
   "metadata": {},
   "outputs": [],
   "source": [
    "first[first.str.contains(\"고대\")==True]=\"서울사립대(고려대학교)\""
   ]
  },
  {
   "cell_type": "code",
   "execution_count": 271,
   "metadata": {},
   "outputs": [],
   "source": [
    "first[first.str.contains(\"경기권\")==True]=\"지방사립대\""
   ]
  },
  {
   "cell_type": "code",
   "execution_count": 272,
   "metadata": {},
   "outputs": [
    {
     "data": {
      "text/plain": [
       "1677     화공\n",
       "1697     화공\n",
       "1845     화공\n",
       "4656    화공 \n",
       "4817    화공 \n",
       "5559    화공 \n",
       "5579    화공 \n",
       "5604    화공 \n",
       "Name: 0, dtype: object"
      ]
     },
     "execution_count": 272,
     "metadata": {},
     "output_type": "execute_result"
    }
   ],
   "source": [
    "# 화공(전공)\n",
    "first[first.str.contains(\"화공\")==True]"
   ]
  },
  {
   "cell_type": "code",
   "execution_count": 275,
   "metadata": {},
   "outputs": [],
   "source": [
    "first[first.str.contains(\" 국립대\")==True]=\"서울국립대\""
   ]
  },
  {
   "cell_type": "code",
   "execution_count": 280,
   "metadata": {},
   "outputs": [
    {
     "data": {
      "text/plain": [
       "Series([], Name: 0, dtype: object)"
      ]
     },
     "execution_count": 280,
     "metadata": {},
     "output_type": "execute_result"
    }
   ],
   "source": [
    "# 국립대 검사해보기\n",
    "first[first.str.contains(\"지방국립대 \")==True]=\"지방국립대\""
   ]
  },
  {
   "cell_type": "code",
   "execution_count": 283,
   "metadata": {},
   "outputs": [],
   "source": [
    "first[first.str.contains(\"서울중위\")==True]=\"서울사립대\""
   ]
  },
  {
   "cell_type": "code",
   "execution_count": 285,
   "metadata": {},
   "outputs": [],
   "source": [
    "first[first.str.contains(\"중위\")==True]=\"지방사립대\""
   ]
  },
  {
   "cell_type": "code",
   "execution_count": 291,
   "metadata": {},
   "outputs": [],
   "source": [
    "first[first.str.contains(\"인하 \")==True]=\"지방사립대(인하대학교)\""
   ]
  },
  {
   "cell_type": "code",
   "execution_count": 293,
   "metadata": {},
   "outputs": [],
   "source": [
    "first[first.str.contains(\"중 \")==True]=\"지방사립대\""
   ]
  },
  {
   "cell_type": "code",
   "execution_count": 295,
   "metadata": {},
   "outputs": [
    {
     "data": {
      "text/plain": [
       "6331    국제통상 \n",
       "6561    국제통상 \n",
       "Name: 0, dtype: object"
      ]
     },
     "execution_count": 295,
     "metadata": {},
     "output_type": "execute_result"
    }
   ],
   "source": [
    "# 국제통상(전공)\n",
    "first[first.str.contains(\"국제통상 \")==True]"
   ]
  },
  {
   "cell_type": "code",
   "execution_count": 297,
   "metadata": {},
   "outputs": [],
   "source": [
    "first[first.str.contains(\"영산\")==True]=\"지방사립대(영산대학교)\""
   ]
  },
  {
   "cell_type": "code",
   "execution_count": 300,
   "metadata": {},
   "outputs": [],
   "source": [
    "first[first.str.contains(\"S대\")==True]=\"서울국립대(서울대학교)\""
   ]
  },
  {
   "cell_type": "code",
   "execution_count": 305,
   "metadata": {
    "scrolled": true
   },
   "outputs": [
    {
     "data": {
      "text/plain": [
       "1713    무역학과 \n",
       "1858    무역학과 \n",
       "2260    무역학과 \n",
       "2280    무역학과 \n",
       "2437    무역학과 \n",
       "2441    무역학과 \n",
       "Name: 0, dtype: object"
      ]
     },
     "execution_count": 305,
     "metadata": {},
     "output_type": "execute_result"
    }
   ],
   "source": [
    "# 무역학과(전공)\n",
    "first[first.str.contains(\"무역\")==True]"
   ]
  },
  {
   "cell_type": "code",
   "execution_count": 312,
   "metadata": {},
   "outputs": [],
   "source": [
    "first[first.str.contains(\"서울권\")==True]=\"서울사립대\""
   ]
  },
  {
   "cell_type": "code",
   "execution_count": 324,
   "metadata": {},
   "outputs": [],
   "source": [
    "first[first.str.contains(\"연대\")==True]=\"서울사립대(연세대학교)\""
   ]
  },
  {
   "cell_type": "code",
   "execution_count": 344,
   "metadata": {},
   "outputs": [
    {
     "data": {
      "text/plain": [
       "2190    메카르토닉스 \n",
       "2350    메카르토닉스 \n",
       "Name: 0, dtype: object"
      ]
     },
     "execution_count": 344,
     "metadata": {},
     "output_type": "execute_result"
    }
   ],
   "source": [
    "# 메카(전공)\n",
    "first[first.str.contains(\"메카\")==True]"
   ]
  },
  {
   "cell_type": "code",
   "execution_count": 346,
   "metadata": {},
   "outputs": [],
   "source": [
    "first[first.str.contains(\"KY 학사\")==True]=\"대학원\""
   ]
  },
  {
   "cell_type": "code",
   "execution_count": 348,
   "metadata": {},
   "outputs": [],
   "source": [
    "first[first.str.contains(\"Y\")==True]=\"서울사립대(연세대학교)\""
   ]
  },
  {
   "cell_type": "code",
   "execution_count": 351,
   "metadata": {},
   "outputs": [],
   "source": [
    "first[first.str.contains(\"중경외시\")==True]=\"서울사립대(중앙대학교)\""
   ]
  },
  {
   "cell_type": "code",
   "execution_count": 355,
   "metadata": {},
   "outputs": [
    {
     "data": {
      "text/plain": [
       "2240    재료 \n",
       "2398    재료 \n",
       "2418    재료 \n",
       "2420    재료 \n",
       "7271    재료 \n",
       "Name: 0, dtype: object"
      ]
     },
     "execution_count": 355,
     "metadata": {},
     "output_type": "execute_result"
    }
   ],
   "source": [
    "#재료(전공)\n",
    "first[first.str.contains(\"재료\")==True]"
   ]
  },
  {
   "cell_type": "code",
   "execution_count": 357,
   "metadata": {},
   "outputs": [],
   "source": [
    "first[first.str.contains(\"지방사립 \")==True]=\"지방사립대\""
   ]
  },
  {
   "cell_type": "code",
   "execution_count": null,
   "metadata": {},
   "outputs": [],
   "source": []
  },
  {
   "cell_type": "code",
   "execution_count": 359,
   "metadata": {},
   "outputs": [],
   "source": [
    "first[first.str.contains(\"인천 소재 대학교 \")==True]=\"지방사립대\""
   ]
  },
  {
   "cell_type": "code",
   "execution_count": 363,
   "metadata": {},
   "outputs": [
    {
     "data": {
      "text/plain": [
       "442     컴활2급, 워드프로세서, ERP(회계,인사,생산,물류), 한국사능력검정2급, 전산회...\n",
       "528     컴활2급, 워드프로세서, ERP(회계,인사,생산,물류), 한국사능력검정2급, 전산회...\n",
       "570     컴활2급, 워드프로세서, ERP(회계,인사,생산,물류), 한국사능력검정2급, 전산회...\n",
       "674     컴활2급, 워드프로세서, ERP(회계,인사,생산,물류), 한국사능력검정2급, 전산회...\n",
       "866     컴활2급, 워드프로세서, ERP(회계,인사,생산,물류), 한국사능력검정2급, 전산회...\n",
       "2510                                                   봉사\n",
       "2530                                                   봉사\n",
       "4385                                    봉사활동, 아시아게임청년서포터즈\n",
       "4386                                    봉사활동, 아시아게임청년서포터즈\n",
       "7819                                        인턴2회, 봉사활동 다수\n",
       "7874                                        인턴2회, 봉사활동 다수\n",
       "Name: 0, dtype: object"
      ]
     },
     "execution_count": 363,
     "metadata": {},
     "output_type": "execute_result"
    }
   ],
   "source": [
    "# 봉사새끼\n",
    "first[first.str.contains(\"봉사\")==True]"
   ]
  },
  {
   "cell_type": "code",
   "execution_count": 366,
   "metadata": {},
   "outputs": [],
   "source": [
    "first[first.str.contains(\"안양대\")==True]=\"지방사립대(안양대학교)\""
   ]
  },
  {
   "cell_type": "code",
   "execution_count": 369,
   "metadata": {},
   "outputs": [],
   "source": [
    "first[first.str.contains(\"건\")==True]=\"서울사립대(건국대학교)\""
   ]
  },
  {
   "cell_type": "code",
   "execution_count": 387,
   "metadata": {},
   "outputs": [],
   "source": [
    "first[first.str.contains(\"경희 수원\")==True]=\"지방사립대(경희대학교)\""
   ]
  },
  {
   "cell_type": "code",
   "execution_count": 391,
   "metadata": {},
   "outputs": [],
   "source": [
    "first[first.str.contains(\"경희 \")==True]=\"서울사립대(경희대학교)\""
   ]
  },
  {
   "cell_type": "code",
   "execution_count": 393,
   "metadata": {},
   "outputs": [],
   "source": [
    "first[first.str.contains(\"상하이\")==True]=\"해외대(중국)\""
   ]
  },
  {
   "cell_type": "code",
   "execution_count": 397,
   "metadata": {},
   "outputs": [],
   "source": [
    "first[first.str.contains(\"중,아,인\")==True]=\"서울사립대(아주대학교)\""
   ]
  },
  {
   "cell_type": "code",
   "execution_count": 401,
   "metadata": {},
   "outputs": [],
   "source": [
    "first[first.str.contains(\"시립대\")==True]=\"서울공립대(서울시립대학교)\""
   ]
  },
  {
   "cell_type": "code",
   "execution_count": 405,
   "metadata": {},
   "outputs": [],
   "source": [
    "first[first.str.contains(\"중인시\")==True]=\"지방사립대(인하대학교)\""
   ]
  },
  {
   "cell_type": "code",
   "execution_count": null,
   "metadata": {},
   "outputs": [],
   "source": []
  },
  {
   "cell_type": "code",
   "execution_count": 409,
   "metadata": {},
   "outputs": [],
   "source": [
    "first[first.str.contains(\"E 대학교\")==True]=\"서울사립대(이화여자대학교)\""
   ]
  },
  {
   "cell_type": "code",
   "execution_count": 411,
   "metadata": {},
   "outputs": [],
   "source": [
    "first[first.str.contains(\"국숭\")==True]=\"서울사립대(숭실대학교)\""
   ]
  },
  {
   "cell_type": "code",
   "execution_count": 416,
   "metadata": {},
   "outputs": [],
   "source": [
    "first[first.str.contains(\"홍익대학교 \")==True]=\"서울사립대(홍익대학교)\""
   ]
  },
  {
   "cell_type": "code",
   "execution_count": 418,
   "metadata": {},
   "outputs": [],
   "source": [
    "first[first.str.contains(\"칭화대학교\")==True]=\"해외대(중국)\""
   ]
  },
  {
   "cell_type": "code",
   "execution_count": 420,
   "metadata": {},
   "outputs": [],
   "source": [
    "first[first.str.contains(\"센트럴\")==True]=\"해외대(영국)\""
   ]
  },
  {
   "cell_type": "code",
   "execution_count": 423,
   "metadata": {},
   "outputs": [],
   "source": [
    "first[first.str.contains(\"홍익 \")==True]=\"서울사립대(홍익대학교)\""
   ]
  },
  {
   "cell_type": "code",
   "execution_count": 426,
   "metadata": {},
   "outputs": [],
   "source": [
    "first[first.str.contains(\"설카포\")==True]=\"포항공과대학교\""
   ]
  },
  {
   "cell_type": "code",
   "execution_count": 428,
   "metadata": {},
   "outputs": [],
   "source": [
    "first[first.str.contains(\"고려사이버\")==True]=\"전문대\""
   ]
  },
  {
   "cell_type": "code",
   "execution_count": 430,
   "metadata": {},
   "outputs": [],
   "source": [
    "first[first.str.contains(\"지방분교\")==True]=\"지방사립대\""
   ]
  },
  {
   "cell_type": "code",
   "execution_count": 432,
   "metadata": {},
   "outputs": [],
   "source": [
    "first[first.str.contains(\"명문대\")==True]=\"서울사립대\""
   ]
  },
  {
   "cell_type": "code",
   "execution_count": 434,
   "metadata": {},
   "outputs": [],
   "source": [
    "first[first.str.contains(\"인천소재\")==True]=\"지방사립대\""
   ]
  },
  {
   "cell_type": "code",
   "execution_count": null,
   "metadata": {},
   "outputs": [],
   "source": [
    "\"중,아,인 \""
   ]
  },
  {
   "cell_type": "code",
   "execution_count": 441,
   "metadata": {},
   "outputs": [],
   "source": [
    "first[first.str.contains(\"^거점국립대\")==True]=\"지방거점국립대\""
   ]
  },
  {
   "cell_type": "code",
   "execution_count": 445,
   "metadata": {},
   "outputs": [],
   "source": [
    "first[first.str.contains(\"경기도권\")==True]=\"지방사립대\""
   ]
  },
  {
   "cell_type": "code",
   "execution_count": 448,
   "metadata": {},
   "outputs": [],
   "source": [
    "first[first.str.contains(\"지방4\")==True]=\"지방사립대\""
   ]
  },
  {
   "cell_type": "code",
   "execution_count": 455,
   "metadata": {},
   "outputs": [],
   "source": [
    "first[first.str.contains(\"지방국립공\")==True]=\"지방국립대\""
   ]
  },
  {
   "cell_type": "code",
   "execution_count": 457,
   "metadata": {},
   "outputs": [],
   "source": [
    "first[first.str.contains(\"^국립대\")==True]=\"지방국립대\""
   ]
  },
  {
   "cell_type": "code",
   "execution_count": 459,
   "metadata": {},
   "outputs": [],
   "source": [
    "first[first.str.contains(\"숙대\")==True]=\"서울사립대(숙명여자대학교)\""
   ]
  },
  {
   "cell_type": "code",
   "execution_count": 461,
   "metadata": {},
   "outputs": [],
   "source": [
    "first[first.str.contains(\"서울하\")==True]=\"서울사립대\""
   ]
  },
  {
   "cell_type": "code",
   "execution_count": 464,
   "metadata": {},
   "outputs": [],
   "source": [
    "first[first.str.contains(\"서울소재\")==True]=\"서울사립대\""
   ]
  },
  {
   "cell_type": "code",
   "execution_count": 467,
   "metadata": {},
   "outputs": [
    {
     "data": {
      "text/plain": [
       "Series([], Name: 0, dtype: object)"
      ]
     },
     "execution_count": 467,
     "metadata": {},
     "output_type": "execute_result"
    }
   ],
   "source": [
    "first[first.str.contains(\"^지방사립 \")==True]"
   ]
  },
  {
   "cell_type": "code",
   "execution_count": 472,
   "metadata": {},
   "outputs": [],
   "source": [
    "first[first.str.contains(\"뉴\")==True]=\"해외대(미국)\""
   ]
  },
  {
   "cell_type": "code",
   "execution_count": 474,
   "metadata": {},
   "outputs": [],
   "source": [
    "first[first.str.contains(\"한서\")==True]=\"지방사립대(한서대학교)\""
   ]
  },
  {
   "cell_type": "code",
   "execution_count": 481,
   "metadata": {},
   "outputs": [
    {
     "data": {
      "text/plain": [
       "Series([], Name: 0, dtype: object)"
      ]
     },
     "execution_count": 481,
     "metadata": {},
     "output_type": "execute_result"
    }
   ],
   "source": [
    "first[first.str.contains(\"경기권\")==True]"
   ]
  },
  {
   "cell_type": "code",
   "execution_count": 483,
   "metadata": {},
   "outputs": [],
   "source": [
    "first[first.str.contains(\"한국산업기술\")==True]=\"지방사립대(한국산업기술대학교)\""
   ]
  },
  {
   "cell_type": "code",
   "execution_count": 485,
   "metadata": {},
   "outputs": [],
   "source": [
    "first[first.str.contains(\"사립대학교\")==True]=\"지방사립대\""
   ]
  },
  {
   "cell_type": "code",
   "execution_count": 489,
   "metadata": {},
   "outputs": [],
   "source": [
    "first[first.str.contains(\"카이스트\")==True]=\"KAIST\""
   ]
  },
  {
   "cell_type": "code",
   "execution_count": 492,
   "metadata": {},
   "outputs": [],
   "source": [
    "first[first.str.contains(\"경남과학기술대학교\")==True]=\"지방국립대(경남과학기술대학교)\""
   ]
  },
  {
   "cell_type": "code",
   "execution_count": 493,
   "metadata": {},
   "outputs": [
    {
     "data": {
      "text/plain": [
       "Series([], Name: 0, dtype: object)"
      ]
     },
     "execution_count": 493,
     "metadata": {},
     "output_type": "execute_result"
    }
   ],
   "source": [
    "first[first.str.contains(\"인문\")==True]"
   ]
  },
  {
   "cell_type": "code",
   "execution_count": 497,
   "metadata": {},
   "outputs": [],
   "source": [
    "first[first.str.contains(\"지방거점국립대학\")==True]=\"지방거점국립대\""
   ]
  },
  {
   "cell_type": "code",
   "execution_count": 502,
   "metadata": {},
   "outputs": [],
   "source": [
    "first[first.str.contains(\"서홍국\")==True]=\"서울사립대(홍익대학교)\""
   ]
  },
  {
   "cell_type": "code",
   "execution_count": 504,
   "metadata": {},
   "outputs": [],
   "source": [
    "first[first.str.contains(\"한기대\")==True]=\"지방사립대(한국기술교육대학교)\""
   ]
  },
  {
   "cell_type": "code",
   "execution_count": 508,
   "metadata": {},
   "outputs": [],
   "source": [
    "first[first.str.contains(\"중견\")==True]=\"서울사립대\""
   ]
  },
  {
   "cell_type": "code",
   "execution_count": 510,
   "metadata": {},
   "outputs": [],
   "source": [
    "first[first.str.contains(\"경원대\")==True]=\"지방사립대(가천대학교)\""
   ]
  },
  {
   "cell_type": "code",
   "execution_count": 513,
   "metadata": {},
   "outputs": [],
   "source": [
    "first[first.str.contains(\"목원\")==True]=\"지방사립대(목원대학교)\""
   ]
  },
  {
   "cell_type": "code",
   "execution_count": 515,
   "metadata": {},
   "outputs": [],
   "source": [
    "first[first.str.contains(\"c대\")==True]=\"서울사립대(중앙대학교)\""
   ]
  },
  {
   "cell_type": "code",
   "execution_count": 516,
   "metadata": {},
   "outputs": [
    {
     "data": {
      "text/plain": [
       "Series([], Name: 0, dtype: object)"
      ]
     },
     "execution_count": 516,
     "metadata": {},
     "output_type": "execute_result"
    }
   ],
   "source": [
    "first[first.str.contains(\"s\")==True]"
   ]
  },
  {
   "cell_type": "code",
   "execution_count": 518,
   "metadata": {},
   "outputs": [],
   "source": [
    "first[first.str.contains(\"울산과학\")==True]=\"UNIST\""
   ]
  },
  {
   "cell_type": "code",
   "execution_count": 520,
   "metadata": {},
   "outputs": [],
   "source": [
    "first[first.str.contains(\"캠퍼스\")==True]=\"지방사립대\""
   ]
  },
  {
   "cell_type": "code",
   "execution_count": 522,
   "metadata": {},
   "outputs": [],
   "source": [
    "first[first.str.contains(\"북경항공\")==True]=\"해외대(중국)\""
   ]
  },
  {
   "cell_type": "code",
   "execution_count": 524,
   "metadata": {},
   "outputs": [],
   "source": [
    "first[first.str.contains(\"북경\")==True]=\"해외대(중국)\""
   ]
  },
  {
   "cell_type": "code",
   "execution_count": 528,
   "metadata": {},
   "outputs": [],
   "source": [
    "first[first.str.contains(\"서울사립대\\(중앙대하굑\\)\")==True]=\"서울사립대(중앙대학교)\""
   ]
  },
  {
   "cell_type": "code",
   "execution_count": 529,
   "metadata": {},
   "outputs": [
    {
     "data": {
      "text/plain": [
       "Series([], Name: 0, dtype: object)"
      ]
     },
     "execution_count": 529,
     "metadata": {},
     "output_type": "execute_result"
    }
   ],
   "source": [
    "first[first.str.contains(\"중앙대하굑\")==True]"
   ]
  },
  {
   "cell_type": "code",
   "execution_count": 531,
   "metadata": {},
   "outputs": [],
   "source": [
    "first[first.str.contains(\"중,\")==True]=\"서울사립대(경희대학교)\""
   ]
  },
  {
   "cell_type": "code",
   "execution_count": 533,
   "metadata": {},
   "outputs": [],
   "source": [
    "first[first.str.contains(\"강남대학교\")==True]=\"지방사립대(강남대학교)\""
   ]
  },
  {
   "cell_type": "code",
   "execution_count": 536,
   "metadata": {},
   "outputs": [],
   "source": [
    "first[first.str.contains(\"홍대\")==True]=\"서울사립대(홍익대학교)\""
   ]
  },
  {
   "cell_type": "code",
   "execution_count": 538,
   "metadata": {},
   "outputs": [],
   "source": [
    "first[first.str.contains(\"에리카\")==True]=\"지방사립대(한양대에리카)\""
   ]
  },
  {
   "cell_type": "code",
   "execution_count": 546,
   "metadata": {},
   "outputs": [],
   "source": [
    "first[first.str.contains(\"교대\")==True]=\"서울국립대(서울교육대학교)\""
   ]
  },
  {
   "cell_type": "code",
   "execution_count": 548,
   "metadata": {},
   "outputs": [],
   "source": [
    "first[first.str.contains(\"중아인\")==True]=\"서울사립대(아주대학교)\""
   ]
  },
  {
   "cell_type": "code",
   "execution_count": 552,
   "metadata": {},
   "outputs": [],
   "source": [
    "first[first.str.contains(\"국외대\")==True]=\"해외대\""
   ]
  },
  {
   "cell_type": "code",
   "execution_count": 555,
   "metadata": {},
   "outputs": [],
   "source": [
    "first[first.str.contains(\"I대\")==True]=\"지방사립대(인하대학교)\""
   ]
  },
  {
   "cell_type": "code",
   "execution_count": 557,
   "metadata": {},
   "outputs": [],
   "source": [
    "first[first.str.contains(\"경기사립\")==True]=\"지방사립대\""
   ]
  },
  {
   "cell_type": "code",
   "execution_count": 559,
   "metadata": {},
   "outputs": [],
   "source": [
    "first[first.str.contains(\"지방거주\")==True]=\"지방사립대\""
   ]
  },
  {
   "cell_type": "code",
   "execution_count": 563,
   "metadata": {},
   "outputs": [],
   "source": [
    "first[first.str.contains(\"초대졸\")==True]=\"전문대\""
   ]
  },
  {
   "cell_type": "code",
   "execution_count": 565,
   "metadata": {},
   "outputs": [],
   "source": [
    "first[first.str.contains(\"지국대\")==True]=\"지방국립대\""
   ]
  },
  {
   "cell_type": "code",
   "execution_count": 579,
   "metadata": {},
   "outputs": [
    {
     "data": {
      "text/plain": [
       "Series([], Name: 0, dtype: object)"
      ]
     },
     "execution_count": 579,
     "metadata": {},
     "output_type": "execute_result"
    }
   ],
   "source": [
    "first[first.str.contains(\"지방국립\")==True]"
   ]
  },
  {
   "cell_type": "code",
   "execution_count": null,
   "metadata": {},
   "outputs": [],
   "source": []
  },
  {
   "cell_type": "code",
   "execution_count": null,
   "metadata": {},
   "outputs": [],
   "source": []
  },
  {
   "cell_type": "code",
   "execution_count": null,
   "metadata": {},
   "outputs": [],
   "source": []
  },
  {
   "cell_type": "code",
   "execution_count": 574,
   "metadata": {},
   "outputs": [
    {
     "ename": "TypeError",
     "evalue": "expected string or bytes-like object",
     "output_type": "error",
     "traceback": [
      "\u001b[1;31m---------------------------------------------------------------------------\u001b[0m",
      "\u001b[1;31mTypeError\u001b[0m                                 Traceback (most recent call last)",
      "\u001b[1;32m<ipython-input-574-37f204041d90>\u001b[0m in \u001b[0;36m<module>\u001b[1;34m\u001b[0m\n\u001b[0;32m      2\u001b[0m \u001b[0mtext\u001b[0m \u001b[1;33m=\u001b[0m \u001b[0mfirst\u001b[0m\u001b[1;33m[\u001b[0m\u001b[0mfirst\u001b[0m\u001b[1;33m.\u001b[0m\u001b[0mstr\u001b[0m\u001b[1;33m.\u001b[0m\u001b[0mcontains\u001b[0m\u001b[1;33m(\u001b[0m\u001b[1;34m\"지방국립\"\u001b[0m\u001b[1;33m)\u001b[0m\u001b[1;33m==\u001b[0m\u001b[1;32mTrue\u001b[0m\u001b[1;33m]\u001b[0m\u001b[1;33m\u001b[0m\u001b[1;33m\u001b[0m\u001b[0m\n\u001b[0;32m      3\u001b[0m \u001b[0mregex\u001b[0m \u001b[1;33m=\u001b[0m \u001b[0mre\u001b[0m\u001b[1;33m.\u001b[0m\u001b[0mcompile\u001b[0m\u001b[1;33m(\u001b[0m\u001b[1;34mr\"지방국립$\"\u001b[0m\u001b[1;33m)\u001b[0m\u001b[1;33m\u001b[0m\u001b[1;33m\u001b[0m\u001b[0m\n\u001b[1;32m----> 4\u001b[1;33m \u001b[0mmc\u001b[0m \u001b[1;33m=\u001b[0m \u001b[0mregex\u001b[0m\u001b[1;33m.\u001b[0m\u001b[0mfindall\u001b[0m\u001b[1;33m(\u001b[0m\u001b[0mtext\u001b[0m\u001b[1;33m)\u001b[0m\u001b[1;33m\u001b[0m\u001b[1;33m\u001b[0m\u001b[0m\n\u001b[0m\u001b[0;32m      5\u001b[0m \u001b[0mprint\u001b[0m\u001b[1;33m(\u001b[0m\u001b[0mmc\u001b[0m\u001b[1;33m)\u001b[0m\u001b[1;33m\u001b[0m\u001b[1;33m\u001b[0m\u001b[0m\n",
      "\u001b[1;31mTypeError\u001b[0m: expected string or bytes-like object"
     ]
    }
   ],
   "source": [
    "import re\n",
    "text = first[first.str.contains(\"지방국립\")==True]\n",
    "regex = re.compile(r\"지방국립$\")\n",
    "mc = regex.findall(text)\n",
    "print(mc)"
   ]
  },
  {
   "cell_type": "code",
   "execution_count": 450,
   "metadata": {},
   "outputs": [
    {
     "name": "stdout",
     "output_type": "stream",
     "text": [
      "['지방국립']\n"
     ]
    }
   ],
   "source": [
    "text=\"3050,지방국립\"\n",
    "regex = re.compile(\"지방국립$\")\n",
    "mc = regex.findall(text)\n",
    "print(mc)"
   ]
  },
  {
   "cell_type": "code",
   "execution_count": 451,
   "metadata": {},
   "outputs": [
    {
     "name": "stdout",
     "output_type": "stream",
     "text": [
      "['지방국립대']\n"
     ]
    }
   ],
   "source": [
    "text=\"3050,지방국립대(인천대학교)\"\n",
    "regex = re.compile(r\"지방국립대\")\n",
    "mc = regex.findall(text)\n",
    "print(mc)"
   ]
  },
  {
   "cell_type": "code",
   "execution_count": 452,
   "metadata": {},
   "outputs": [
    {
     "name": "stdout",
     "output_type": "stream",
     "text": [
      "[]\n"
     ]
    }
   ],
   "source": [
    "text=\"3050,지방국립대(인천대학교)\"\n",
    "regex = re.compile(r\"지방국립$\")\n",
    "mc = regex.findall(text)\n",
    "print(mc)"
   ]
  },
  {
   "cell_type": "code",
   "execution_count": null,
   "metadata": {},
   "outputs": [],
   "source": []
  },
  {
   "cell_type": "code",
   "execution_count": null,
   "metadata": {},
   "outputs": [],
   "source": []
  },
  {
   "cell_type": "code",
   "execution_count": null,
   "metadata": {},
   "outputs": [],
   "source": []
  }
 ],
 "metadata": {
  "kernelspec": {
   "display_name": "Python 3",
   "language": "python",
   "name": "python3"
  },
  "language_info": {
   "codemirror_mode": {
    "name": "ipython",
    "version": 3
   },
   "file_extension": ".py",
   "mimetype": "text/x-python",
   "name": "python",
   "nbconvert_exporter": "python",
   "pygments_lexer": "ipython3",
   "version": "3.7.6"
  }
 },
 "nbformat": 4,
 "nbformat_minor": 4
}
