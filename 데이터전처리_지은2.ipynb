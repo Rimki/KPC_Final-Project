{
 "cells": [
  {
   "cell_type": "code",
   "execution_count": 1,
   "metadata": {},
   "outputs": [],
   "source": [
    "import pandas as pd\n",
    "import numpy as np"
   ]
  },
  {
   "cell_type": "code",
   "execution_count": 2,
   "metadata": {},
   "outputs": [
    {
     "data": {
      "text/html": [
       "<div>\n",
       "<style scoped>\n",
       "    .dataframe tbody tr th:only-of-type {\n",
       "        vertical-align: middle;\n",
       "    }\n",
       "\n",
       "    .dataframe tbody tr th {\n",
       "        vertical-align: top;\n",
       "    }\n",
       "\n",
       "    .dataframe thead th {\n",
       "        text-align: right;\n",
       "    }\n",
       "</style>\n",
       "<table border=\"1\" class=\"dataframe\">\n",
       "  <thead>\n",
       "    <tr style=\"text-align: right;\">\n",
       "      <th></th>\n",
       "      <th>1</th>\n",
       "      <th>2</th>\n",
       "      <th>3</th>\n",
       "    </tr>\n",
       "  </thead>\n",
       "  <tbody>\n",
       "    <tr>\n",
       "      <th>0</th>\n",
       "      <td>한국석유공사 / 설비 / 2020 상반기</td>\n",
       "      <td>광주전자공업고등학교 / 학점 1.7등급 / 인천 글로벌 숙련 진흥원 5일, 선반, ...</td>\n",
       "      <td>7.한국석유공사\\n\\n 1. 지원 분야 직무기술서 ‘직무수행 내용’ 중 본인이 가장...</td>\n",
       "    </tr>\n",
       "    <tr>\n",
       "      <th>1</th>\n",
       "      <td>CJ제일제당 / Food Sales / 2020 상반기</td>\n",
       "      <td>중경외시 / 상경계열 / 학점 3.92 / 토익 905, 토스 LV 6 / 봉사활동...</td>\n",
       "      <td>CJ제일제당 및 선택한 직무에 대한 지원동기는 무엇인가요? ① 선택한 직무에 관심을...</td>\n",
       "    </tr>\n",
       "    <tr>\n",
       "      <th>2</th>\n",
       "      <td>한국가스안전공사 / LP가스 안전지킴이사업 / 2020 상반기</td>\n",
       "      <td>제주대학교 / 학점 3.3 / 토익830 / 컴퓨터활용능력1급, 한국사1급</td>\n",
       "      <td>\\n1. 한국가스안전공사가 진행하는 사업에 관심을 갖고 공사에 지원한 동기에 대해 ...</td>\n",
       "    </tr>\n",
       "    <tr>\n",
       "      <th>3</th>\n",
       "      <td>코레일 / 사무영업 / 2020 상반기</td>\n",
       "      <td>충남대학교 / 학점 3.87 / 토익 835 / 토론동아리 3년, 컴활1급, 한국사1급</td>\n",
       "      <td>1.공동체의 일원으로서 가장 중요하게 생각하는 가치를 제시하고, 그 가치를 실천했던...</td>\n",
       "    </tr>\n",
       "    <tr>\n",
       "      <th>4</th>\n",
       "      <td>한국기술교육대학교 / 행정 / 2020 상반기</td>\n",
       "      <td>건국대학교 / 학점 4.0 / 토익 780 / 컴활 1급, 한국사1급</td>\n",
       "      <td>1. 본인이 가진 가장 뛰어난 점과 그렇게 판단한 이유, 고용노동연수원 업무수행에서...</td>\n",
       "    </tr>\n",
       "    <tr>\n",
       "      <th>...</th>\n",
       "      <td>...</td>\n",
       "      <td>...</td>\n",
       "      <td>...</td>\n",
       "    </tr>\n",
       "    <tr>\n",
       "      <th>10102</th>\n",
       "      <td>현대자동차 / 영업관리 / 2013 상반기</td>\n",
       "      <td>상명대학교 / 국제통상학 / 학점 4.3 / 토익 900, HSK 6급 / 해외인턴...</td>\n",
       "      <td>1. 현대자동차에 지원하게 된 동기 또는 해당 직무에 지원하게 된 동기는 무엇입니까...</td>\n",
       "    </tr>\n",
       "    <tr>\n",
       "      <th>10103</th>\n",
       "      <td>심팩 / 용접관리 / 2013 상반기</td>\n",
       "      <td>지방전문대 / 공업화학 / 학점 3.06</td>\n",
       "      <td>성격소개\\n\\n대부분의 사람들이 평가하는 첫인상은 소심하고 내성적인 성격일것이라 생...</td>\n",
       "    </tr>\n",
       "    <tr>\n",
       "      <th>10104</th>\n",
       "      <td>한국전력 / 인턴[송,배전] / 2013 상반기</td>\n",
       "      <td>지거국 / 전자공학 / 학점 3.7 / 토익 900대 / 음악봉사활동, 멘토링 등</td>\n",
       "      <td>[질문 1] 취업이라는 목표 이외에 인생의 큰 목표를 세운 경험, 그 목표를 실현하...</td>\n",
       "    </tr>\n",
       "    <tr>\n",
       "      <th>10105</th>\n",
       "      <td>한국전력 / 인턴[송,배전] / 2013 상반기</td>\n",
       "      <td>지거국 / 전자공학 / 학점 3.7 / 토익 900 / 음악봉사활동, 멘토링등</td>\n",
       "      <td>한전 자가소개서 양식 500자 12줄 이내\\n\\n[질문 1] 취업이라는 목표 이외에...</td>\n",
       "    </tr>\n",
       "    <tr>\n",
       "      <th>10106</th>\n",
       "      <td>한국전력 / 인턴[송,배전] / 2013 상반기</td>\n",
       "      <td>지거국 / 전자공학 / 학점 3.7 / 토익 900 / 음악봉사활동, 멘토링등</td>\n",
       "      <td>한전 자가소개서 양식 500자 12줄 이내\\n\\n[질문 1] 취업이라는 목표 이외에...</td>\n",
       "    </tr>\n",
       "  </tbody>\n",
       "</table>\n",
       "<p>10107 rows × 3 columns</p>\n",
       "</div>"
      ],
      "text/plain": [
       "                                        1  \\\n",
       "0                  한국석유공사 / 설비 / 2020 상반기   \n",
       "1          CJ제일제당 / Food Sales / 2020 상반기   \n",
       "2      한국가스안전공사 / LP가스 안전지킴이사업 / 2020 상반기   \n",
       "3                   코레일 / 사무영업 / 2020 상반기   \n",
       "4               한국기술교육대학교 / 행정 / 2020 상반기   \n",
       "...                                   ...   \n",
       "10102             현대자동차 / 영업관리 / 2013 상반기   \n",
       "10103                심팩 / 용접관리 / 2013 상반기   \n",
       "10104          한국전력 / 인턴[송,배전] / 2013 상반기   \n",
       "10105          한국전력 / 인턴[송,배전] / 2013 상반기   \n",
       "10106          한국전력 / 인턴[송,배전] / 2013 상반기   \n",
       "\n",
       "                                                       2  \\\n",
       "0      광주전자공업고등학교 / 학점 1.7등급 / 인천 글로벌 숙련 진흥원 5일, 선반, ...   \n",
       "1      중경외시 / 상경계열 / 학점 3.92 / 토익 905, 토스 LV 6 / 봉사활동...   \n",
       "2              제주대학교 / 학점 3.3 / 토익830 / 컴퓨터활용능력1급, 한국사1급   \n",
       "3       충남대학교 / 학점 3.87 / 토익 835 / 토론동아리 3년, 컴활1급, 한국사1급   \n",
       "4                 건국대학교 / 학점 4.0 / 토익 780 / 컴활 1급, 한국사1급   \n",
       "...                                                  ...   \n",
       "10102  상명대학교 / 국제통상학 / 학점 4.3 / 토익 900, HSK 6급 / 해외인턴...   \n",
       "10103                             지방전문대 / 공업화학 / 학점 3.06   \n",
       "10104      지거국 / 전자공학 / 학점 3.7 / 토익 900대 / 음악봉사활동, 멘토링 등   \n",
       "10105        지거국 / 전자공학 / 학점 3.7 / 토익 900 / 음악봉사활동, 멘토링등   \n",
       "10106        지거국 / 전자공학 / 학점 3.7 / 토익 900 / 음악봉사활동, 멘토링등   \n",
       "\n",
       "                                                       3  \n",
       "0      7.한국석유공사\\n\\n 1. 지원 분야 직무기술서 ‘직무수행 내용’ 중 본인이 가장...  \n",
       "1      CJ제일제당 및 선택한 직무에 대한 지원동기는 무엇인가요? ① 선택한 직무에 관심을...  \n",
       "2      \\n1. 한국가스안전공사가 진행하는 사업에 관심을 갖고 공사에 지원한 동기에 대해 ...  \n",
       "3      1.공동체의 일원으로서 가장 중요하게 생각하는 가치를 제시하고, 그 가치를 실천했던...  \n",
       "4      1. 본인이 가진 가장 뛰어난 점과 그렇게 판단한 이유, 고용노동연수원 업무수행에서...  \n",
       "...                                                  ...  \n",
       "10102  1. 현대자동차에 지원하게 된 동기 또는 해당 직무에 지원하게 된 동기는 무엇입니까...  \n",
       "10103  성격소개\\n\\n대부분의 사람들이 평가하는 첫인상은 소심하고 내성적인 성격일것이라 생...  \n",
       "10104  [질문 1] 취업이라는 목표 이외에 인생의 큰 목표를 세운 경험, 그 목표를 실현하...  \n",
       "10105  한전 자가소개서 양식 500자 12줄 이내\\n\\n[질문 1] 취업이라는 목표 이외에...  \n",
       "10106  한전 자가소개서 양식 500자 12줄 이내\\n\\n[질문 1] 취업이라는 목표 이외에...  \n",
       "\n",
       "[10107 rows x 3 columns]"
      ]
     },
     "execution_count": 2,
     "metadata": {},
     "output_type": "execute_result"
    }
   ],
   "source": [
    "raw_df = pd.read_csv(\"WriteData.csv\")\n",
    "raw_df"
   ]
  },
  {
   "cell_type": "code",
   "execution_count": 3,
   "metadata": {
    "scrolled": true
   },
   "outputs": [
    {
     "data": {
      "text/html": [
       "<div>\n",
       "<style scoped>\n",
       "    .dataframe tbody tr th:only-of-type {\n",
       "        vertical-align: middle;\n",
       "    }\n",
       "\n",
       "    .dataframe tbody tr th {\n",
       "        vertical-align: top;\n",
       "    }\n",
       "\n",
       "    .dataframe thead th {\n",
       "        text-align: right;\n",
       "    }\n",
       "</style>\n",
       "<table border=\"1\" class=\"dataframe\">\n",
       "  <thead>\n",
       "    <tr style=\"text-align: right;\">\n",
       "      <th></th>\n",
       "      <th>Unnamed: 0</th>\n",
       "      <th>Unnamed: 0.1</th>\n",
       "      <th>기업명</th>\n",
       "      <th>지원부서</th>\n",
       "      <th>지원시기</th>\n",
       "      <th>학교</th>\n",
       "      <th>학과</th>\n",
       "      <th>학점</th>\n",
       "      <th>어학</th>\n",
       "      <th>자격증</th>\n",
       "      <th>경험사항</th>\n",
       "      <th>자소서</th>\n",
       "    </tr>\n",
       "  </thead>\n",
       "  <tbody>\n",
       "    <tr>\n",
       "      <th>10087</th>\n",
       "      <td>10087</td>\n",
       "      <td>10087</td>\n",
       "      <td>서울보증보험</td>\n",
       "      <td>일반사무</td>\n",
       "      <td>2014 하반기</td>\n",
       "      <td>서울사립대(연세대학교)</td>\n",
       "      <td>경영학과</td>\n",
       "      <td>학점 3.9</td>\n",
       "      <td>NaN</td>\n",
       "      <td>NaN</td>\n",
       "      <td>NaN</td>\n",
       "      <td>1. 귀하의 성장과정을 토대로 성격 및 장단점을 서술해 주십시오. - 500자 이내...</td>\n",
       "    </tr>\n",
       "    <tr>\n",
       "      <th>10088</th>\n",
       "      <td>10088</td>\n",
       "      <td>10088</td>\n",
       "      <td>신영</td>\n",
       "      <td>해외영업</td>\n",
       "      <td>2014 하반기</td>\n",
       "      <td>지방사립대(경성대학교)</td>\n",
       "      <td>NaN</td>\n",
       "      <td>학점 3.8</td>\n",
       "      <td>토익 905, 오픽 IH</td>\n",
       "      <td>NaN</td>\n",
       "      <td>NaN</td>\n",
       "      <td>1. 본인의 성장과정 및 학창시절을 기술하여 주십시오.\\n \\n[더불어 살 줄 아는...</td>\n",
       "    </tr>\n",
       "    <tr>\n",
       "      <th>10089</th>\n",
       "      <td>10089</td>\n",
       "      <td>10089</td>\n",
       "      <td>KT</td>\n",
       "      <td>네트워크</td>\n",
       "      <td>2014 하반기</td>\n",
       "      <td>지방국립대</td>\n",
       "      <td>NaN</td>\n",
       "      <td>학점 3.7</td>\n",
       "      <td>NaN</td>\n",
       "      <td>NaN</td>\n",
       "      <td>NaN</td>\n",
       "      <td>■해당 직무에 지원하게 된 동기와 입사 후 10년 내에 이루고 싶은 목표에 대해 구...</td>\n",
       "    </tr>\n",
       "    <tr>\n",
       "      <th>10090</th>\n",
       "      <td>10090</td>\n",
       "      <td>10090</td>\n",
       "      <td>삼성</td>\n",
       "      <td>-</td>\n",
       "      <td>2014 하반기</td>\n",
       "      <td>NaN</td>\n",
       "      <td>NaN</td>\n",
       "      <td>NaN</td>\n",
       "      <td>NaN</td>\n",
       "      <td>NaN</td>\n",
       "      <td>NaN</td>\n",
       "      <td>최근 사회이슈 중 중요하다고 생각되는 한가지를 선택하고 이에 관한 자신의 견해를 기...</td>\n",
       "    </tr>\n",
       "    <tr>\n",
       "      <th>10091</th>\n",
       "      <td>10091</td>\n",
       "      <td>10091</td>\n",
       "      <td>SK하이닉스</td>\n",
       "      <td>메인트</td>\n",
       "      <td>2014 상반기</td>\n",
       "      <td>전문대</td>\n",
       "      <td>전기공학과</td>\n",
       "      <td>학점 4.09</td>\n",
       "      <td>NaN</td>\n",
       "      <td>NaN</td>\n",
       "      <td>NaN</td>\n",
       "      <td>1. 이제까지 가장 강한 소속감을 느꼈던 조직의 발전을 위해 노력한 것 중 가장 기...</td>\n",
       "    </tr>\n",
       "    <tr>\n",
       "      <th>10092</th>\n",
       "      <td>10092</td>\n",
       "      <td>10092</td>\n",
       "      <td>두산인프라코어</td>\n",
       "      <td>R&amp;D</td>\n",
       "      <td>2014 상반기</td>\n",
       "      <td>서울사립대(중앙대학교)</td>\n",
       "      <td>기계공학과</td>\n",
       "      <td>학점 3.72</td>\n",
       "      <td>NaN</td>\n",
       "      <td>NaN</td>\n",
       "      <td>NaN</td>\n",
       "      <td>1. 지원하는 회사와 분야(직무)에 대한 지원동기를 자유롭게 기술 하세요.(50자 ...</td>\n",
       "    </tr>\n",
       "    <tr>\n",
       "      <th>10093</th>\n",
       "      <td>10093</td>\n",
       "      <td>10093</td>\n",
       "      <td>동아대학교</td>\n",
       "      <td>일반행정</td>\n",
       "      <td>2014 상반기</td>\n",
       "      <td>지방사립대(동아대학교)</td>\n",
       "      <td>경제학과</td>\n",
       "      <td>학점 3.97</td>\n",
       "      <td>NaN</td>\n",
       "      <td>NaN</td>\n",
       "      <td>NaN</td>\n",
       "      <td>■ 지원동기\\n\\n2002년 부산,경남지역 명문사학인 동아대학교에 진학하여 6년째 ...</td>\n",
       "    </tr>\n",
       "    <tr>\n",
       "      <th>10094</th>\n",
       "      <td>10094</td>\n",
       "      <td>10094</td>\n",
       "      <td>SK하이닉스</td>\n",
       "      <td>메인트</td>\n",
       "      <td>2014 상반기</td>\n",
       "      <td>지방거점국립대(경북대학교)</td>\n",
       "      <td>전기공학과</td>\n",
       "      <td>학점 4.09</td>\n",
       "      <td>NaN</td>\n",
       "      <td>NaN</td>\n",
       "      <td>NaN</td>\n",
       "      <td>1. 시절 자신이 경험한 환경적인 변화 중에서 자신에게 가장 의미있거나 영향이 컸던...</td>\n",
       "    </tr>\n",
       "    <tr>\n",
       "      <th>10095</th>\n",
       "      <td>10095</td>\n",
       "      <td>10095</td>\n",
       "      <td>한국전력공사</td>\n",
       "      <td>사무</td>\n",
       "      <td>2014 상반기</td>\n",
       "      <td>해외대</td>\n",
       "      <td>경영학과</td>\n",
       "      <td>학점 3.0</td>\n",
       "      <td>NaN</td>\n",
       "      <td>NaN</td>\n",
       "      <td>NaN</td>\n",
       "      <td>1. 가장 심혈을 기울여 목표를 성취한 경험이 있다면 구체적인 동기, 행동, 결과 ...</td>\n",
       "    </tr>\n",
       "    <tr>\n",
       "      <th>10096</th>\n",
       "      <td>10096</td>\n",
       "      <td>10096</td>\n",
       "      <td>IBK기업은행</td>\n",
       "      <td>일반행원</td>\n",
       "      <td>2014 상반기</td>\n",
       "      <td>지방거점국립대</td>\n",
       "      <td>경영학과</td>\n",
       "      <td>학점 4.03</td>\n",
       "      <td>NaN</td>\n",
       "      <td>NaN</td>\n",
       "      <td>NaN</td>\n",
       "      <td>1. 자기소개 * 각 항목별 제시한 주제에 한해서만 입력하시기바랍니다. (단답형으로...</td>\n",
       "    </tr>\n",
       "    <tr>\n",
       "      <th>10097</th>\n",
       "      <td>10097</td>\n",
       "      <td>10097</td>\n",
       "      <td>NC소프트</td>\n",
       "      <td>소프트웨어</td>\n",
       "      <td>2014 상반기</td>\n",
       "      <td>서울사립대(건국대학교)</td>\n",
       "      <td>정보통신공학과</td>\n",
       "      <td>학점 3.8</td>\n",
       "      <td>NaN</td>\n",
       "      <td>NaN</td>\n",
       "      <td>NaN</td>\n",
       "      <td>1. 자신이 하고 싶은 것을 진지하고 순수한 마음으로 수행했던 경험과, 그 결과에 ...</td>\n",
       "    </tr>\n",
       "    <tr>\n",
       "      <th>10098</th>\n",
       "      <td>10098</td>\n",
       "      <td>10098</td>\n",
       "      <td>금호타이어</td>\n",
       "      <td>생산관리</td>\n",
       "      <td>2014 상반기</td>\n",
       "      <td>서울사립대(동국대학교)</td>\n",
       "      <td>산업공학과</td>\n",
       "      <td>학점 3.5</td>\n",
       "      <td>NaN</td>\n",
       "      <td>NaN</td>\n",
       "      <td>NaN</td>\n",
       "      <td>1. 귀하가 금호아시아나그룹(1지망 지원회사)을 지원하게 된 동기에 대해 서술해 주...</td>\n",
       "    </tr>\n",
       "    <tr>\n",
       "      <th>10099</th>\n",
       "      <td>10099</td>\n",
       "      <td>10099</td>\n",
       "      <td>보쉬전장</td>\n",
       "      <td>수출입관리</td>\n",
       "      <td>2014 상반기</td>\n",
       "      <td>지방사립대(경성대학교)</td>\n",
       "      <td>NaN</td>\n",
       "      <td>학점 3.8</td>\n",
       "      <td>토익 750, 오픽 IM3</td>\n",
       "      <td>NaN</td>\n",
       "      <td>NaN</td>\n",
       "      <td>[소통의 중요성을 알게 된 해외마케팅활동]\\n \\n대학 시절 GTEP(해외마케팅활동...</td>\n",
       "    </tr>\n",
       "    <tr>\n",
       "      <th>10100</th>\n",
       "      <td>10100</td>\n",
       "      <td>10100</td>\n",
       "      <td>현대파워텍</td>\n",
       "      <td>연구개발</td>\n",
       "      <td>2013 하반기</td>\n",
       "      <td>서울사립대(경희대학교)</td>\n",
       "      <td>기계공학과</td>\n",
       "      <td>학점 3.76</td>\n",
       "      <td>NaN</td>\n",
       "      <td>NaN</td>\n",
       "      <td>NaN</td>\n",
       "      <td>1. 성장과정\\n\\n&lt;견학을 통해 얻은 특허&gt;\\n\\n특허를 취득하고 싶어서 아이디어...</td>\n",
       "    </tr>\n",
       "    <tr>\n",
       "      <th>10101</th>\n",
       "      <td>10101</td>\n",
       "      <td>10101</td>\n",
       "      <td>웅진코웨이</td>\n",
       "      <td>마케팅</td>\n",
       "      <td>2013 하반기</td>\n",
       "      <td>전문대</td>\n",
       "      <td>광고홍보학과</td>\n",
       "      <td>학점 3.8</td>\n",
       "      <td>NaN</td>\n",
       "      <td>NaN</td>\n",
       "      <td>NaN</td>\n",
       "      <td>1. 지원동기\\n\\n인재와 기업이 함께 성장할 수 있는 곳, 그곳이 바로 웅진코웨이...</td>\n",
       "    </tr>\n",
       "    <tr>\n",
       "      <th>10102</th>\n",
       "      <td>10102</td>\n",
       "      <td>10102</td>\n",
       "      <td>현대자동차</td>\n",
       "      <td>영업관리</td>\n",
       "      <td>2013 상반기</td>\n",
       "      <td>서울사립대(상명대학교)</td>\n",
       "      <td>국제통상학과</td>\n",
       "      <td>학점 4.3</td>\n",
       "      <td>NaN</td>\n",
       "      <td>NaN</td>\n",
       "      <td>NaN</td>\n",
       "      <td>1. 현대자동차에 지원하게 된 동기 또는 해당 직무에 지원하게 된 동기는 무엇입니까...</td>\n",
       "    </tr>\n",
       "    <tr>\n",
       "      <th>10103</th>\n",
       "      <td>10103</td>\n",
       "      <td>10103</td>\n",
       "      <td>심팩</td>\n",
       "      <td>용접관리</td>\n",
       "      <td>2013 상반기</td>\n",
       "      <td>전문대</td>\n",
       "      <td>공업화학과</td>\n",
       "      <td>학점 3.06</td>\n",
       "      <td>NaN</td>\n",
       "      <td>NaN</td>\n",
       "      <td>NaN</td>\n",
       "      <td>성격소개\\n\\n대부분의 사람들이 평가하는 첫인상은 소심하고 내성적인 성격일것이라 생...</td>\n",
       "    </tr>\n",
       "    <tr>\n",
       "      <th>10104</th>\n",
       "      <td>10104</td>\n",
       "      <td>10104</td>\n",
       "      <td>한국전력</td>\n",
       "      <td>인턴[송,배전]</td>\n",
       "      <td>2013 상반기</td>\n",
       "      <td>지방거점국립대</td>\n",
       "      <td>전자공학과</td>\n",
       "      <td>학점 3.7</td>\n",
       "      <td>NaN</td>\n",
       "      <td>NaN</td>\n",
       "      <td>NaN</td>\n",
       "      <td>[질문 1] 취업이라는 목표 이외에 인생의 큰 목표를 세운 경험, 그 목표를 실현하...</td>\n",
       "    </tr>\n",
       "    <tr>\n",
       "      <th>10105</th>\n",
       "      <td>10105</td>\n",
       "      <td>10105</td>\n",
       "      <td>한국전력</td>\n",
       "      <td>인턴[송,배전]</td>\n",
       "      <td>2013 상반기</td>\n",
       "      <td>지방거점국립대</td>\n",
       "      <td>전자공학과</td>\n",
       "      <td>학점 3.7</td>\n",
       "      <td>NaN</td>\n",
       "      <td>NaN</td>\n",
       "      <td>NaN</td>\n",
       "      <td>한전 자가소개서 양식 500자 12줄 이내\\n\\n[질문 1] 취업이라는 목표 이외에...</td>\n",
       "    </tr>\n",
       "    <tr>\n",
       "      <th>10106</th>\n",
       "      <td>10106</td>\n",
       "      <td>10106</td>\n",
       "      <td>한국전력</td>\n",
       "      <td>인턴[송,배전]</td>\n",
       "      <td>2013 상반기</td>\n",
       "      <td>지방거점국립대</td>\n",
       "      <td>전자공학과</td>\n",
       "      <td>학점 3.7</td>\n",
       "      <td>NaN</td>\n",
       "      <td>NaN</td>\n",
       "      <td>NaN</td>\n",
       "      <td>한전 자가소개서 양식 500자 12줄 이내\\n\\n[질문 1] 취업이라는 목표 이외에...</td>\n",
       "    </tr>\n",
       "  </tbody>\n",
       "</table>\n",
       "</div>"
      ],
      "text/plain": [
       "       Unnamed: 0  Unnamed: 0.1       기업명        지원부서       지원시기  \\\n",
       "10087       10087         10087   서울보증보험        일반사무    2014 하반기   \n",
       "10088       10088         10088       신영        해외영업    2014 하반기   \n",
       "10089       10089         10089       KT        네트워크    2014 하반기   \n",
       "10090       10090         10090       삼성           -    2014 하반기   \n",
       "10091       10091         10091   SK하이닉스         메인트    2014 상반기   \n",
       "10092       10092         10092  두산인프라코어         R&D    2014 상반기   \n",
       "10093       10093         10093    동아대학교        일반행정    2014 상반기   \n",
       "10094       10094         10094   SK하이닉스         메인트    2014 상반기   \n",
       "10095       10095         10095   한국전력공사          사무    2014 상반기   \n",
       "10096       10096         10096  IBK기업은행        일반행원    2014 상반기   \n",
       "10097       10097         10097    NC소프트       소프트웨어    2014 상반기   \n",
       "10098       10098         10098    금호타이어        생산관리    2014 상반기   \n",
       "10099       10099         10099     보쉬전장       수출입관리    2014 상반기   \n",
       "10100       10100         10100    현대파워텍        연구개발    2013 하반기   \n",
       "10101       10101         10101    웅진코웨이         마케팅    2013 하반기   \n",
       "10102       10102         10102    현대자동차        영업관리    2013 상반기   \n",
       "10103       10103         10103       심팩        용접관리    2013 상반기   \n",
       "10104       10104         10104     한국전력    인턴[송,배전]    2013 상반기   \n",
       "10105       10105         10105     한국전력    인턴[송,배전]    2013 상반기   \n",
       "10106       10106         10106     한국전력    인턴[송,배전]    2013 상반기   \n",
       "\n",
       "                   학교       학과         학점                어학  자격증 경험사항  \\\n",
       "10087    서울사립대(연세대학교)    경영학과     학점 3.9                NaN  NaN  NaN   \n",
       "10088    지방사립대(경성대학교)      NaN    학점 3.8     토익 905, 오픽 IH   NaN  NaN   \n",
       "10089           지방국립대      NaN    학점 3.7                NaN  NaN  NaN   \n",
       "10090             NaN      NaN        NaN               NaN  NaN  NaN   \n",
       "10091             전문대    전기공학과   학점 4.09                NaN  NaN  NaN   \n",
       "10092    서울사립대(중앙대학교)    기계공학과   학점 3.72                NaN  NaN  NaN   \n",
       "10093    지방사립대(동아대학교)     경제학과   학점 3.97                NaN  NaN  NaN   \n",
       "10094  지방거점국립대(경북대학교)    전기공학과    학점 4.09               NaN  NaN  NaN   \n",
       "10095             해외대     경영학과    학점 3.0                NaN  NaN  NaN   \n",
       "10096         지방거점국립대     경영학과   학점 4.03                NaN  NaN  NaN   \n",
       "10097    서울사립대(건국대학교)  정보통신공학과    학점 3.8                NaN  NaN  NaN   \n",
       "10098    서울사립대(동국대학교)    산업공학과    학점 3.5                NaN  NaN  NaN   \n",
       "10099    지방사립대(경성대학교)      NaN    학점 3.8    토익 750, 오픽 IM3   NaN  NaN   \n",
       "10100    서울사립대(경희대학교)    기계공학과   학점 3.76                NaN  NaN  NaN   \n",
       "10101             전문대   광고홍보학과    학점 3.8                NaN  NaN  NaN   \n",
       "10102    서울사립대(상명대학교)   국제통상학과    학점 4.3                NaN  NaN  NaN   \n",
       "10103             전문대    공업화학과    학점 3.06               NaN  NaN  NaN   \n",
       "10104         지방거점국립대    전자공학과    학점 3.7                NaN  NaN  NaN   \n",
       "10105         지방거점국립대    전자공학과    학점 3.7                NaN  NaN  NaN   \n",
       "10106         지방거점국립대    전자공학과    학점 3.7                NaN  NaN  NaN   \n",
       "\n",
       "                                                     자소서  \n",
       "10087  1. 귀하의 성장과정을 토대로 성격 및 장단점을 서술해 주십시오. - 500자 이내...  \n",
       "10088  1. 본인의 성장과정 및 학창시절을 기술하여 주십시오.\\n \\n[더불어 살 줄 아는...  \n",
       "10089  ■해당 직무에 지원하게 된 동기와 입사 후 10년 내에 이루고 싶은 목표에 대해 구...  \n",
       "10090  최근 사회이슈 중 중요하다고 생각되는 한가지를 선택하고 이에 관한 자신의 견해를 기...  \n",
       "10091  1. 이제까지 가장 강한 소속감을 느꼈던 조직의 발전을 위해 노력한 것 중 가장 기...  \n",
       "10092  1. 지원하는 회사와 분야(직무)에 대한 지원동기를 자유롭게 기술 하세요.(50자 ...  \n",
       "10093  ■ 지원동기\\n\\n2002년 부산,경남지역 명문사학인 동아대학교에 진학하여 6년째 ...  \n",
       "10094  1. 시절 자신이 경험한 환경적인 변화 중에서 자신에게 가장 의미있거나 영향이 컸던...  \n",
       "10095  1. 가장 심혈을 기울여 목표를 성취한 경험이 있다면 구체적인 동기, 행동, 결과 ...  \n",
       "10096  1. 자기소개 * 각 항목별 제시한 주제에 한해서만 입력하시기바랍니다. (단답형으로...  \n",
       "10097  1. 자신이 하고 싶은 것을 진지하고 순수한 마음으로 수행했던 경험과, 그 결과에 ...  \n",
       "10098  1. 귀하가 금호아시아나그룹(1지망 지원회사)을 지원하게 된 동기에 대해 서술해 주...  \n",
       "10099  [소통의 중요성을 알게 된 해외마케팅활동]\\n \\n대학 시절 GTEP(해외마케팅활동...  \n",
       "10100  1. 성장과정\\n\\n<견학을 통해 얻은 특허>\\n\\n특허를 취득하고 싶어서 아이디어...  \n",
       "10101  1. 지원동기\\n\\n인재와 기업이 함께 성장할 수 있는 곳, 그곳이 바로 웅진코웨이...  \n",
       "10102  1. 현대자동차에 지원하게 된 동기 또는 해당 직무에 지원하게 된 동기는 무엇입니까...  \n",
       "10103  성격소개\\n\\n대부분의 사람들이 평가하는 첫인상은 소심하고 내성적인 성격일것이라 생...  \n",
       "10104  [질문 1] 취업이라는 목표 이외에 인생의 큰 목표를 세운 경험, 그 목표를 실현하...  \n",
       "10105  한전 자가소개서 양식 500자 12줄 이내\\n\\n[질문 1] 취업이라는 목표 이외에...  \n",
       "10106  한전 자가소개서 양식 500자 12줄 이내\\n\\n[질문 1] 취업이라는 목표 이외에...  "
      ]
     },
     "execution_count": 3,
     "metadata": {},
     "output_type": "execute_result"
    }
   ],
   "source": [
    "df=pd.read_csv(\"1.csv\")\n",
    "df.tail(20)"
   ]
  },
  {
   "cell_type": "code",
   "execution_count": 4,
   "metadata": {},
   "outputs": [],
   "source": [
    "first = raw_df[\"2\"].str.split(\"/\",expand=True)[0]\n",
    "second = raw_df[\"2\"].str.split(\"/\",expand=True)[1]\n",
    "third = raw_df[\"2\"].str.split(\"/\",expand=True)[2]\n",
    "four=raw_df[\"2\"].str.split(\"/\",expand=True)[3]\n",
    "five=raw_df[\"2\"].str.split(\"/\",expand=True)[4]\n",
    "six=raw_df[\"2\"].str.split(\"/\",expand=True)[5]"
   ]
  },
  {
   "cell_type": "code",
   "execution_count": 5,
   "metadata": {
    "scrolled": true
   },
   "outputs": [
    {
     "data": {
      "text/plain": [
       "0                                             None\n",
       "1                                   봉사활동 일부빼고는 전무.\n",
       "2                                             None\n",
       "3                                             None\n",
       "4                                             None\n",
       "                           ...                    \n",
       "10102     해외인턴1회, 중국어 말하기 대회 1등, 와인바 매니저 1년 6개월 경력\n",
       "10103                                         None\n",
       "10104                                음악봉사활동, 멘토링 등\n",
       "10105                                 음악봉사활동, 멘토링등\n",
       "10106                                 음악봉사활동, 멘토링등\n",
       "Name: 4, Length: 10107, dtype: object"
      ]
     },
     "execution_count": 5,
     "metadata": {},
     "output_type": "execute_result"
    }
   ],
   "source": [
    "five"
   ]
  },
  {
   "cell_type": "code",
   "execution_count": 6,
   "metadata": {},
   "outputs": [
    {
     "data": {
      "text/plain": [
       "1                              봉사활동 일부빼고는 전무.\n",
       "67                                  학내 봉사동아리 \n",
       "72                            학내 봉사동아리일반기계기사 \n",
       "117                                 학내 봉사동아리 \n",
       "137                                 학내 봉사동아리 \n",
       "                         ...                 \n",
       "10095     봉사활동 3회, 공모전 3회, 대외활동 다수, 인턴 1년 2개월\n",
       "10098                 사회봉사활동 126시간, 공모전 2회 수상\n",
       "10104                           음악봉사활동, 멘토링 등\n",
       "10105                            음악봉사활동, 멘토링등\n",
       "10106                            음악봉사활동, 멘토링등\n",
       "Name: 4, Length: 1333, dtype: object"
      ]
     },
     "execution_count": 6,
     "metadata": {},
     "output_type": "execute_result"
    }
   ],
   "source": [
    "five[five.str.contains(\"봉사\")==True]"
   ]
  },
  {
   "cell_type": "code",
   "execution_count": 7,
   "metadata": {},
   "outputs": [],
   "source": [
    "df.at[five[five.str.contains(\"봉사\")==True].index,[\"경험사항\"]]=five[five.str.contains(\"봉사\")==True]"
   ]
  },
  {
   "cell_type": "code",
   "execution_count": 8,
   "metadata": {},
   "outputs": [],
   "source": [
    "five[five.str.contains(\"봉사\")==True]=\"\""
   ]
  },
  {
   "cell_type": "code",
   "execution_count": 9,
   "metadata": {},
   "outputs": [],
   "source": [
    "df.at[five[five.str.contains(\"기사\")==True].index,[\"자격증\"]]=five[five.str.contains(\"기사\")==True]"
   ]
  },
  {
   "cell_type": "code",
   "execution_count": 10,
   "metadata": {},
   "outputs": [],
   "source": [
    "five[five.str.contains(\"기사\")==True]=\"\""
   ]
  },
  {
   "cell_type": "code",
   "execution_count": 11,
   "metadata": {},
   "outputs": [],
   "source": [
    "df.at[five[five.str.contains(\"학생회\")==True].index,[\"경험사항\"]]=five[five.str.contains(\"학생회\")==True]"
   ]
  },
  {
   "cell_type": "code",
   "execution_count": 12,
   "metadata": {},
   "outputs": [],
   "source": [
    "five[five.str.contains(\"학생회\")==True]=\"\""
   ]
  },
  {
   "cell_type": "code",
   "execution_count": 13,
   "metadata": {},
   "outputs": [],
   "source": [
    "df.at[five[five.str.contains(\"인턴\")==True].index,[\"경험사항\"]]=five[five.str.contains(\"인턴\")==True]"
   ]
  },
  {
   "cell_type": "code",
   "execution_count": 14,
   "metadata": {},
   "outputs": [],
   "source": [
    "five[five.str.contains(\"인턴\")==True]=\"\""
   ]
  },
  {
   "cell_type": "code",
   "execution_count": 15,
   "metadata": {},
   "outputs": [],
   "source": [
    "df.at[five[five.str.contains(\"무역영어\")==True].index,[\"자격증\"]]=five[five.str.contains(\"무역영어\")==True]"
   ]
  },
  {
   "cell_type": "code",
   "execution_count": 16,
   "metadata": {},
   "outputs": [],
   "source": [
    "five[five.str.contains(\"무역영어\")==True]=\"\""
   ]
  },
  {
   "cell_type": "code",
   "execution_count": 17,
   "metadata": {},
   "outputs": [],
   "source": [
    "df.at[five[five.str.contains(\"워드\")==True].index,[\"자격증\"]]=five[five.str.contains(\"워드\")==True]"
   ]
  },
  {
   "cell_type": "code",
   "execution_count": 18,
   "metadata": {},
   "outputs": [],
   "source": [
    "five[five.str.contains(\"워드\")==True]=\"\""
   ]
  },
  {
   "cell_type": "code",
   "execution_count": 19,
   "metadata": {},
   "outputs": [],
   "source": [
    "df.at[five[five.str.contains(\"체험\")==True].index,[\"경험사항\"]]=five[five.str.contains(\"체험\")==True]"
   ]
  },
  {
   "cell_type": "code",
   "execution_count": 20,
   "metadata": {},
   "outputs": [],
   "source": [
    "five[five.str.contains(\"체험\")==True]=\"\""
   ]
  },
  {
   "cell_type": "code",
   "execution_count": 21,
   "metadata": {},
   "outputs": [],
   "source": [
    "df.at[five[five.str.contains(\"전기\")==True].index,[\"경험사항\"]]=five[five.str.contains(\"전기\")==True]"
   ]
  },
  {
   "cell_type": "code",
   "execution_count": 22,
   "metadata": {},
   "outputs": [],
   "source": [
    "five[five.str.contains(\"전기\")==True]=\"\""
   ]
  },
  {
   "cell_type": "code",
   "execution_count": 23,
   "metadata": {},
   "outputs": [],
   "source": [
    "df.at[five[five.str.contains(\"홍보\")==True].index,[\"경험사항\"]]=five[five.str.contains(\"홍보\")==True]"
   ]
  },
  {
   "cell_type": "code",
   "execution_count": 24,
   "metadata": {},
   "outputs": [],
   "source": [
    "five[five.str.contains(\"홍보\")==True]=\"\""
   ]
  },
  {
   "cell_type": "code",
   "execution_count": 25,
   "metadata": {},
   "outputs": [],
   "source": [
    "df.at[five[five.str.contains(\"교내\")==True].index,[\"경험사항\"]]=five[five.str.contains(\"교내\")==True]"
   ]
  },
  {
   "cell_type": "code",
   "execution_count": 26,
   "metadata": {},
   "outputs": [],
   "source": [
    "five[five.str.contains(\"교내\")==True]=\"\""
   ]
  },
  {
   "cell_type": "code",
   "execution_count": 27,
   "metadata": {},
   "outputs": [],
   "source": [
    "df.at[five[five.str.contains(\"재경\")==True].index,[\"자격증\"]]=five[five.str.contains(\"재경\")==True]"
   ]
  },
  {
   "cell_type": "code",
   "execution_count": 28,
   "metadata": {},
   "outputs": [],
   "source": [
    "five[five.str.contains(\"재경\")==True]=\"\""
   ]
  },
  {
   "cell_type": "code",
   "execution_count": 29,
   "metadata": {},
   "outputs": [],
   "source": [
    "df.at[five[five.str.contains(\"아르\")==True].index,[\"경험사항\"]]=five[five.str.contains(\"아르\")==True]"
   ]
  },
  {
   "cell_type": "code",
   "execution_count": 30,
   "metadata": {},
   "outputs": [],
   "source": [
    "five[five.str.contains(\"아르\")==True]=\"\""
   ]
  },
  {
   "cell_type": "code",
   "execution_count": 31,
   "metadata": {},
   "outputs": [],
   "source": [
    "five[five.str.contains(\"공로\")==True]=\"\""
   ]
  },
  {
   "cell_type": "code",
   "execution_count": 32,
   "metadata": {},
   "outputs": [],
   "source": [
    "df.at[five[five.str.contains(\"공모\")==True].index,[\"경험사항\"]]=five[five.str.contains(\"공모\")==True]"
   ]
  },
  {
   "cell_type": "code",
   "execution_count": 33,
   "metadata": {},
   "outputs": [],
   "source": [
    "five[five.str.contains(\"공모\")==True]=\"\""
   ]
  },
  {
   "cell_type": "code",
   "execution_count": 34,
   "metadata": {},
   "outputs": [],
   "source": [
    "five[five.str.contains(\"삼성취업\")==True]=\"\""
   ]
  },
  {
   "cell_type": "code",
   "execution_count": 35,
   "metadata": {},
   "outputs": [],
   "source": [
    "five[five.str.contains(\"지원하는 회사\")==True]=\"\""
   ]
  },
  {
   "cell_type": "code",
   "execution_count": 36,
   "metadata": {},
   "outputs": [],
   "source": [
    "df.at[five[five.str.contains(\"공\")==True].index,[\"경험사항\"]]=five[five.str.contains(\"공\")==True]"
   ]
  },
  {
   "cell_type": "code",
   "execution_count": 37,
   "metadata": {},
   "outputs": [],
   "source": [
    "five[five.str.contains(\"공\")==True]=\"\""
   ]
  },
  {
   "cell_type": "code",
   "execution_count": 38,
   "metadata": {},
   "outputs": [],
   "source": [
    "df.at[five[five.str.contains(\"국제\")==True].index,[\"경험사항\"]]=five[five.str.contains(\"국제\")==True]"
   ]
  },
  {
   "cell_type": "code",
   "execution_count": 39,
   "metadata": {},
   "outputs": [],
   "source": [
    "five[five.str.contains(\"국제\")==True]=\"\""
   ]
  },
  {
   "cell_type": "code",
   "execution_count": 40,
   "metadata": {},
   "outputs": [],
   "source": [
    "df.at[five[five.str.contains(\"국내\")==True].index,[\"경험사항\"]]=five[five.str.contains(\"국내\")==True]"
   ]
  },
  {
   "cell_type": "code",
   "execution_count": 41,
   "metadata": {},
   "outputs": [],
   "source": [
    "five[five.str.contains(\"국내\")==True]=\"\""
   ]
  },
  {
   "cell_type": "code",
   "execution_count": 42,
   "metadata": {},
   "outputs": [],
   "source": [
    "df.at[five[five.str.contains(\"컴퓨터\")==True].index,[\"자격증\"]]=five[five.str.contains(\"컴퓨터\")==True]"
   ]
  },
  {
   "cell_type": "code",
   "execution_count": 43,
   "metadata": {},
   "outputs": [],
   "source": [
    "five[five.str.contains(\"컴퓨터\")==True]=\"\""
   ]
  },
  {
   "cell_type": "code",
   "execution_count": 44,
   "metadata": {},
   "outputs": [],
   "source": [
    "df.at[five[five.str.contains(\"토익\")==True].index,[\"어학\"]]=five[five.str.contains(\"토익\")==True]"
   ]
  },
  {
   "cell_type": "code",
   "execution_count": 45,
   "metadata": {},
   "outputs": [],
   "source": [
    "five[five.str.contains(\"토익\")==True]=\"\""
   ]
  },
  {
   "cell_type": "code",
   "execution_count": 46,
   "metadata": {},
   "outputs": [],
   "source": [
    "df.at[five[five.str.contains(\"토스\")==True].index,[\"어학\"]]=five[five.str.contains(\"토스\")==True]"
   ]
  },
  {
   "cell_type": "code",
   "execution_count": 47,
   "metadata": {},
   "outputs": [],
   "source": [
    "five[five.str.contains(\"토스\")==True]=\"\""
   ]
  },
  {
   "cell_type": "code",
   "execution_count": 48,
   "metadata": {},
   "outputs": [],
   "source": [
    "df.at[five[five.str.contains(\"오픽\")==True].index,[\"어학\"]]=five[five.str.contains(\"오픽\")==True]"
   ]
  },
  {
   "cell_type": "code",
   "execution_count": 49,
   "metadata": {},
   "outputs": [],
   "source": [
    "five[five.str.contains(\"오픽\")==True]=\"\""
   ]
  },
  {
   "cell_type": "code",
   "execution_count": 50,
   "metadata": {},
   "outputs": [],
   "source": [
    "df.at[five[five.str.contains(\"오\")==True].index,[\"경험사항\"]]=five[five.str.contains(\"오\")==True]"
   ]
  },
  {
   "cell_type": "code",
   "execution_count": 51,
   "metadata": {},
   "outputs": [],
   "source": [
    "five[five.str.contains(\"오\")==True]=\"\""
   ]
  },
  {
   "cell_type": "code",
   "execution_count": 52,
   "metadata": {},
   "outputs": [],
   "source": [
    "df.at[five[five.str.contains(\"컴활\")==True].index,[\"자격증\"]]=five[five.str.contains(\"컴활\")==True]"
   ]
  },
  {
   "cell_type": "code",
   "execution_count": 53,
   "metadata": {},
   "outputs": [],
   "source": [
    "five[five.str.contains(\"컴활\")==True]=\"\""
   ]
  },
  {
   "cell_type": "code",
   "execution_count": 54,
   "metadata": {},
   "outputs": [],
   "source": [
    "df.at[five[five.str.contains(\"한국\")==True].index,[\"경험사항\"]]=five[five.str.contains(\"한국\")==True]"
   ]
  },
  {
   "cell_type": "code",
   "execution_count": 55,
   "metadata": {},
   "outputs": [],
   "source": [
    "five[five.str.contains(\"한국\")==True]=\"\""
   ]
  },
  {
   "cell_type": "code",
   "execution_count": 56,
   "metadata": {},
   "outputs": [],
   "source": [
    "df.at[five[five.str.contains(\"현장\")==True].index,[\"경험사항\"]]=five[five.str.contains(\"현장\")==True]"
   ]
  },
  {
   "cell_type": "code",
   "execution_count": 57,
   "metadata": {},
   "outputs": [],
   "source": [
    "five[five.str.contains(\"현장\")==True]=\"\""
   ]
  },
  {
   "cell_type": "code",
   "execution_count": 58,
   "metadata": {},
   "outputs": [],
   "source": [
    "df.at[five[five.str.contains(\"국\")==True].index,[\"경험사항\"]]=five[five.str.contains(\"국\")==True]"
   ]
  },
  {
   "cell_type": "code",
   "execution_count": 59,
   "metadata": {},
   "outputs": [],
   "source": [
    "five[five.str.contains(\"국\")==True]=\"\""
   ]
  },
  {
   "cell_type": "code",
   "execution_count": 60,
   "metadata": {},
   "outputs": [],
   "source": [
    "df.at[five[five.str.contains(\"지\")==True].index,[\"경험사항\"]]=five[five.str.contains(\"지\")==True]"
   ]
  },
  {
   "cell_type": "code",
   "execution_count": 61,
   "metadata": {},
   "outputs": [],
   "source": [
    "five[five.str.contains(\"지\")==True]=\"\""
   ]
  },
  {
   "cell_type": "code",
   "execution_count": 62,
   "metadata": {},
   "outputs": [],
   "source": [
    "five[five.str.contains(\"2018\")==True]=\"\""
   ]
  },
  {
   "cell_type": "code",
   "execution_count": 63,
   "metadata": {},
   "outputs": [],
   "source": [
    "df.at[five[five.str.contains(\"기\")==True].index,[\"경험사항\"]]=five[five.str.contains(\"기\")==True]"
   ]
  },
  {
   "cell_type": "code",
   "execution_count": 64,
   "metadata": {},
   "outputs": [],
   "source": [
    "five[five.str.contains(\"기\")==True]=\"\""
   ]
  },
  {
   "cell_type": "code",
   "execution_count": 65,
   "metadata": {},
   "outputs": [],
   "source": [
    "df.at[five[five.str.contains(\"중\")==True].index,[\"경험사항\"]]=five[five.str.contains(\"중\")==True]"
   ]
  },
  {
   "cell_type": "code",
   "execution_count": 66,
   "metadata": {},
   "outputs": [],
   "source": [
    "five[five.str.contains(\"중\")==True]=\"\""
   ]
  },
  {
   "cell_type": "code",
   "execution_count": 67,
   "metadata": {},
   "outputs": [],
   "source": [
    "df.at[five[five.str.contains(\"일\")==True].index,[\"경험사항\"]]=five[five.str.contains(\"일\")==True]"
   ]
  },
  {
   "cell_type": "code",
   "execution_count": 68,
   "metadata": {},
   "outputs": [],
   "source": [
    "five[five.str.contains(\"일\")==True]=\"\""
   ]
  },
  {
   "cell_type": "code",
   "execution_count": 69,
   "metadata": {},
   "outputs": [],
   "source": [
    "df.at[five[five.str.contains(\"영\")==True].index,[\"경험사항\"]]=five[five.str.contains(\"영\")==True]"
   ]
  },
  {
   "cell_type": "code",
   "execution_count": 70,
   "metadata": {},
   "outputs": [],
   "source": [
    "five[five.str.contains(\"영\")==True]=\"\""
   ]
  },
  {
   "cell_type": "code",
   "execution_count": 71,
   "metadata": {},
   "outputs": [],
   "source": [
    "df.at[five[five.str.contains(\"인\")==True].index,[\"경험사항\"]]=five[five.str.contains(\"인\")==True]"
   ]
  },
  {
   "cell_type": "code",
   "execution_count": 72,
   "metadata": {},
   "outputs": [],
   "source": [
    "five[five.str.contains(\"인\")==True]=\"\""
   ]
  },
  {
   "cell_type": "code",
   "execution_count": 73,
   "metadata": {},
   "outputs": [],
   "source": [
    "df.at[five[five.str.contains(\"학부\")==True].index,[\"경험사항\"]]=five[five.str.contains(\"학부\")==True]"
   ]
  },
  {
   "cell_type": "code",
   "execution_count": 74,
   "metadata": {},
   "outputs": [],
   "source": [
    "five[five.str.contains(\"학부\")==True]=\"\""
   ]
  },
  {
   "cell_type": "code",
   "execution_count": 75,
   "metadata": {},
   "outputs": [],
   "source": [
    "five[five.str.contains(\"4.3\")==True]=\"학점 4.3\""
   ]
  },
  {
   "cell_type": "code",
   "execution_count": 76,
   "metadata": {},
   "outputs": [],
   "source": [
    "df.at[five[five.str.contains(\"4.3\")==True].index,[\"학점\"]]=five[five.str.contains(\"4.3\")==True]"
   ]
  },
  {
   "cell_type": "code",
   "execution_count": 77,
   "metadata": {},
   "outputs": [],
   "source": [
    "five[five.str.contains(\"4.3\")==True]=\"\""
   ]
  },
  {
   "cell_type": "code",
   "execution_count": 78,
   "metadata": {},
   "outputs": [],
   "source": [
    "df.at[five[five.str.contains(\"Ad\")==True].index,[\"자격증\"]]=five[five.str.contains(\"Ad\")==True]"
   ]
  },
  {
   "cell_type": "code",
   "execution_count": 79,
   "metadata": {},
   "outputs": [],
   "source": [
    "five[five.str.contains(\"Ad\")==True]=\"\""
   ]
  },
  {
   "cell_type": "code",
   "execution_count": 80,
   "metadata": {},
   "outputs": [],
   "source": [
    "five[five.str.contains(\"3.7\")==True]=\"학점 3.7\""
   ]
  },
  {
   "cell_type": "code",
   "execution_count": 81,
   "metadata": {},
   "outputs": [],
   "source": [
    "df.at[five[five.str.contains(\"3.7\")==True].index,[\"학점\"]]=five[five.str.contains(\"3.7\")==True]"
   ]
  },
  {
   "cell_type": "code",
   "execution_count": 82,
   "metadata": {},
   "outputs": [],
   "source": [
    "five[five.str.contains(\"3.7\")==True]=\"\""
   ]
  },
  {
   "cell_type": "code",
   "execution_count": 83,
   "metadata": {},
   "outputs": [],
   "source": [
    "df.at[five[five.str.contains(\"연구\")==True].index,[\"경험사항\"]]=five[five.str.contains(\"연구\")==True]"
   ]
  },
  {
   "cell_type": "code",
   "execution_count": 84,
   "metadata": {},
   "outputs": [],
   "source": [
    "five[five.str.contains(\"연구\")==True]=\"\""
   ]
  },
  {
   "cell_type": "code",
   "execution_count": 85,
   "metadata": {},
   "outputs": [],
   "source": [
    "df.at[five[five.str.contains(\"대외활동\")==True].index,[\"경험사항\"]]=five[five.str.contains(\"대외활동\")==True]"
   ]
  },
  {
   "cell_type": "code",
   "execution_count": 86,
   "metadata": {},
   "outputs": [],
   "source": [
    "five[five.str.contains(\"대외활동\")==True]=\"\""
   ]
  },
  {
   "cell_type": "code",
   "execution_count": 87,
   "metadata": {},
   "outputs": [],
   "source": [
    "df.at[five[five.str.contains(\"대외\")==True].index,[\"경험사항\"]]=five[five.str.contains(\"대외\")==True]"
   ]
  },
  {
   "cell_type": "code",
   "execution_count": 88,
   "metadata": {},
   "outputs": [],
   "source": [
    "five[five.str.contains(\"대외\")==True]=\"\""
   ]
  },
  {
   "cell_type": "code",
   "execution_count": 89,
   "metadata": {},
   "outputs": [],
   "source": [
    "df.at[five[five.str.contains(\"동아리\")==True].index,[\"경험사항\"]]=five[five.str.contains(\"동아리\")==True]"
   ]
  },
  {
   "cell_type": "code",
   "execution_count": 90,
   "metadata": {},
   "outputs": [],
   "source": [
    "five[five.str.contains(\"동아리\")==True]=\"\""
   ]
  },
  {
   "cell_type": "code",
   "execution_count": 91,
   "metadata": {},
   "outputs": [],
   "source": [
    "df.at[five[five.str.contains(\"동\")==True].index,[\"경험사항\"]]=five[five.str.contains(\"동\")==True]"
   ]
  },
  {
   "cell_type": "code",
   "execution_count": 92,
   "metadata": {},
   "outputs": [],
   "source": [
    "five[five.str.contains(\"동\")==True]=\"\""
   ]
  },
  {
   "cell_type": "code",
   "execution_count": 93,
   "metadata": {},
   "outputs": [],
   "source": [
    "df.at[five[five.str.contains(\"자격증\")==True].index,[\"자격증\"]]=five[five.str.contains(\"자격증\")==True]"
   ]
  },
  {
   "cell_type": "code",
   "execution_count": 94,
   "metadata": {},
   "outputs": [],
   "source": [
    "five[five.str.contains(\"자격증\")==True]=\"\""
   ]
  },
  {
   "cell_type": "code",
   "execution_count": 95,
   "metadata": {},
   "outputs": [],
   "source": [
    "df.at[five[five.str.contains(\"1회\")==True].index,[\"경험사항\"]]=five[five.str.contains(\"1회\")==True]"
   ]
  },
  {
   "cell_type": "code",
   "execution_count": 96,
   "metadata": {},
   "outputs": [],
   "source": [
    "five[five.str.contains(\"1회\")==True]=\"\""
   ]
  },
  {
   "cell_type": "code",
   "execution_count": 97,
   "metadata": {},
   "outputs": [],
   "source": [
    "five[five.str.contains(\"4.0\")==True]=\"학점 4.0\""
   ]
  },
  {
   "cell_type": "code",
   "execution_count": 98,
   "metadata": {},
   "outputs": [],
   "source": [
    "df.at[five[five.str.contains(\"4.0\")==True].index,[\"학점\"]]=five[five.str.contains(\"4.0\")==True]"
   ]
  },
  {
   "cell_type": "code",
   "execution_count": 99,
   "metadata": {},
   "outputs": [],
   "source": [
    "five[five.str.contains(\"4.0\")==True]=\"\""
   ]
  },
  {
   "cell_type": "code",
   "execution_count": 100,
   "metadata": {},
   "outputs": [],
   "source": [
    "df.at[five[five.str.contains(\"어학\")==True].index,[\"경험사항\"]]=five[five.str.contains(\"어학\")==True]"
   ]
  },
  {
   "cell_type": "code",
   "execution_count": 101,
   "metadata": {},
   "outputs": [],
   "source": [
    "five[five.str.contains(\"어학\")==True]=\"\""
   ]
  },
  {
   "cell_type": "code",
   "execution_count": 102,
   "metadata": {},
   "outputs": [],
   "source": [
    "df.at[five[five.str.contains(\"캠프\")==True].index,[\"경험사항\"]]=five[five.str.contains(\"캠프\")==True]"
   ]
  },
  {
   "cell_type": "code",
   "execution_count": 103,
   "metadata": {},
   "outputs": [],
   "source": [
    "five[five.str.contains(\"캠프\")==True]=\"\""
   ]
  },
  {
   "cell_type": "code",
   "execution_count": 104,
   "metadata": {},
   "outputs": [],
   "source": [
    "df.at[five[five.str.contains(\"수료\")==True].index,[\"경험사항\"]]=five[five.str.contains(\"수료\")==True]"
   ]
  },
  {
   "cell_type": "code",
   "execution_count": 105,
   "metadata": {},
   "outputs": [],
   "source": [
    "five[five.str.contains(\"수료\")==True]=\"\""
   ]
  },
  {
   "cell_type": "code",
   "execution_count": 106,
   "metadata": {},
   "outputs": [],
   "source": [
    "df.at[five[five.str.contains(\"창\")==True].index,[\"경험사항\"]]=five[five.str.contains(\"창\")==True]"
   ]
  },
  {
   "cell_type": "code",
   "execution_count": 107,
   "metadata": {},
   "outputs": [],
   "source": [
    "five[five.str.contains(\"창\")==True]=\"\""
   ]
  },
  {
   "cell_type": "code",
   "execution_count": 108,
   "metadata": {},
   "outputs": [],
   "source": [
    "five[five.str.contains(\"없음\")==True]=\"\""
   ]
  },
  {
   "cell_type": "code",
   "execution_count": 109,
   "metadata": {},
   "outputs": [],
   "source": [
    "five[five.str.contains(\"x\")==True]=\"\""
   ]
  },
  {
   "cell_type": "code",
   "execution_count": 110,
   "metadata": {},
   "outputs": [],
   "source": [
    "df.at[five[five.str.contains(\"수상\")==True].index,[\"경험사항\"]]=five[five.str.contains(\"수상\")==True]"
   ]
  },
  {
   "cell_type": "code",
   "execution_count": 111,
   "metadata": {},
   "outputs": [],
   "source": [
    "five[five.str.contains(\"수상\")==True]=\"\""
   ]
  },
  {
   "cell_type": "code",
   "execution_count": 112,
   "metadata": {},
   "outputs": [],
   "source": [
    "df.at[five[five.str.contains(\"학점\")==True].index,[\"학점\"]]=five[five.str.contains(\"학점\")==True]"
   ]
  },
  {
   "cell_type": "code",
   "execution_count": 113,
   "metadata": {},
   "outputs": [],
   "source": [
    "five[five.str.contains(\"학점\")==True]=\"\""
   ]
  },
  {
   "cell_type": "code",
   "execution_count": 114,
   "metadata": {},
   "outputs": [],
   "source": [
    "five[five.str.contains(\"4.1\")==True]=\"학점 4.13\""
   ]
  },
  {
   "cell_type": "code",
   "execution_count": 115,
   "metadata": {},
   "outputs": [],
   "source": [
    "df.at[five[five.str.contains(\"학점\")==True].index,[\"학점\"]]=five[five.str.contains(\"학점\")==True]"
   ]
  },
  {
   "cell_type": "code",
   "execution_count": 116,
   "metadata": {},
   "outputs": [],
   "source": [
    "five[five.str.contains(\"학점\")==True]=\"\""
   ]
  },
  {
   "cell_type": "code",
   "execution_count": 117,
   "metadata": {},
   "outputs": [],
   "source": [
    "df.at[five[five.str.contains(\"헌혈\")==True].index,[\"경험사항\"]]=five[five.str.contains(\"헌혈\")==True]"
   ]
  },
  {
   "cell_type": "code",
   "execution_count": 118,
   "metadata": {},
   "outputs": [],
   "source": [
    "five[five.str.contains(\"헌혈\")==True]=\"\""
   ]
  },
  {
   "cell_type": "code",
   "execution_count": 119,
   "metadata": {},
   "outputs": [],
   "source": [
    "df.at[five[five.str.contains(\"3대\")==True].index,[\"경험사항\"]]=five[five.str.contains(\"3대\")==True]"
   ]
  },
  {
   "cell_type": "code",
   "execution_count": 120,
   "metadata": {},
   "outputs": [],
   "source": [
    "five[five.str.contains(\"3대\")==True]=\"\""
   ]
  },
  {
   "cell_type": "code",
   "execution_count": 121,
   "metadata": {},
   "outputs": [],
   "source": [
    "df.at[five[five.str.contains(\"3\")==True].index,[\"경험사항\"]]=five[five.str.contains(\"3\")==True]"
   ]
  },
  {
   "cell_type": "code",
   "execution_count": 122,
   "metadata": {},
   "outputs": [],
   "source": [
    "five[five.str.contains(\"3\")==True]=\"\""
   ]
  },
  {
   "cell_type": "code",
   "execution_count": 123,
   "metadata": {
    "scrolled": true
   },
   "outputs": [],
   "source": [
    "five[five.str.contains(\"Lev\")==True]=\"토스 Level5\""
   ]
  },
  {
   "cell_type": "code",
   "execution_count": 124,
   "metadata": {},
   "outputs": [],
   "source": [
    "df.at[five[five.str.contains(\"Lev\")==True].index,[\"경험사항\"]]=five[five.str.contains(\"Lev\")==True]"
   ]
  },
  {
   "cell_type": "code",
   "execution_count": 125,
   "metadata": {},
   "outputs": [],
   "source": [
    "five[five.str.contains(\"Lev\")==True]=\"\""
   ]
  },
  {
   "cell_type": "code",
   "execution_count": 126,
   "metadata": {},
   "outputs": [],
   "source": [
    "df.at[five[five.str.contains(\"2015\")==True].index,[\"경험사항\"]]=five[five.str.contains(\"2015\")==True]"
   ]
  },
  {
   "cell_type": "code",
   "execution_count": 127,
   "metadata": {},
   "outputs": [],
   "source": [
    "five[five.str.contains(\"2015\")==True]=\"\""
   ]
  },
  {
   "cell_type": "code",
   "execution_count": 128,
   "metadata": {},
   "outputs": [],
   "source": [
    "df.at[five[five.str.contains(\"ERP\")==True].index,[\"자격증\"]]=five[five.str.contains(\"ERP\")==True]"
   ]
  },
  {
   "cell_type": "code",
   "execution_count": 129,
   "metadata": {},
   "outputs": [],
   "source": [
    "five[five.str.contains(\"ERP\")==True]=\"\""
   ]
  },
  {
   "cell_type": "code",
   "execution_count": 130,
   "metadata": {},
   "outputs": [],
   "source": [
    "df.at[five[five.str.contains(\"상\")==True].index,[\"경험사항\"]]=five[five.str.contains(\"상\")==True]"
   ]
  },
  {
   "cell_type": "code",
   "execution_count": 131,
   "metadata": {},
   "outputs": [],
   "source": [
    "five[five.str.contains(\"상\")==True]=\"\""
   ]
  },
  {
   "cell_type": "code",
   "execution_count": 132,
   "metadata": {},
   "outputs": [],
   "source": [
    "df.at[five[five.str.contains(\"hsk\")==True].index,[\"어학\"]]=five[five.str.contains(\"hsk\")==True]"
   ]
  },
  {
   "cell_type": "code",
   "execution_count": 133,
   "metadata": {},
   "outputs": [],
   "source": [
    "five[five.str.contains(\"hsk\")==True]=\"\""
   ]
  },
  {
   "cell_type": "code",
   "execution_count": 134,
   "metadata": {},
   "outputs": [],
   "source": [
    "five[five.str.contains(\"280시간, SK sunny\")==True]=\"SK sunny\""
   ]
  },
  {
   "cell_type": "code",
   "execution_count": 135,
   "metadata": {},
   "outputs": [],
   "source": [
    "df.at[five[five.str.contains(\"sunny\")==True].index,[\"경험사항\"]]=five[five.str.contains(\"sunny\")==True]"
   ]
  },
  {
   "cell_type": "code",
   "execution_count": 136,
   "metadata": {},
   "outputs": [],
   "source": [
    "five[five.str.contains(\"sunny\")==True]=\"\""
   ]
  },
  {
   "cell_type": "code",
   "execution_count": 137,
   "metadata": {},
   "outputs": [],
   "source": [
    "five[five.str.contains(\"SU\")==True]=\"SK sunny\""
   ]
  },
  {
   "cell_type": "code",
   "execution_count": 138,
   "metadata": {},
   "outputs": [],
   "source": [
    "df.at[five[five.str.contains(\"sunny\")==True].index,[\"경험사항\"]]=five[five.str.contains(\"sunny\")==True]"
   ]
  },
  {
   "cell_type": "code",
   "execution_count": 139,
   "metadata": {},
   "outputs": [],
   "source": [
    "five[five.str.contains(\"sunny\")==True]=\"\""
   ]
  },
  {
   "cell_type": "code",
   "execution_count": 140,
   "metadata": {},
   "outputs": [],
   "source": [
    "five[five.str.contains(\"알바\")==True]=\"편의점아르바이트\"\n",
    "df.at[five[five.str.contains(\"편의점아르바이트\")==True].index,[\"경험사항\"]]=five[five.str.contains(\"편의점아르바이트\")==True]"
   ]
  },
  {
   "cell_type": "code",
   "execution_count": 141,
   "metadata": {},
   "outputs": [],
   "source": [
    "five[five.str.contains(\"편의점아르바이트\")==True]=\"\""
   ]
  },
  {
   "cell_type": "code",
   "execution_count": 142,
   "metadata": {},
   "outputs": [],
   "source": [
    "five[five.str.contains(\"근무\")==True]\n",
    "df.at[five[five.str.contains(\"근무\")==True].index,[\"경험사항\"]]=five[five.str.contains(\"근무\")==True]"
   ]
  },
  {
   "cell_type": "code",
   "execution_count": 143,
   "metadata": {},
   "outputs": [],
   "source": [
    "five[five.str.contains(\"근무\")==True]=\"\""
   ]
  },
  {
   "cell_type": "code",
   "execution_count": 144,
   "metadata": {},
   "outputs": [],
   "source": [
    "five[five.str.contains(\"이전\")==True]=\"\""
   ]
  },
  {
   "cell_type": "code",
   "execution_count": 145,
   "metadata": {},
   "outputs": [],
   "source": [
    "five[five.str.contains(\"교환\")==True]=\"교환학생\"\n",
    "df.at[five[five.str.contains(\"교환학생\")==True].index,[\"경험사항\"]]=five[five.str.contains(\"교환학생\")==True]"
   ]
  },
  {
   "cell_type": "code",
   "execution_count": 146,
   "metadata": {},
   "outputs": [],
   "source": [
    "five[five.str.contains(\"교환학생\")==True]=\"\""
   ]
  },
  {
   "cell_type": "code",
   "execution_count": 147,
   "metadata": {},
   "outputs": [],
   "source": [
    "five[five.str.contains(\"특허\")==True]\n",
    "df.at[five[five.str.contains(\"특허\")==True].index,[\"경험사항\"]]=five[five.str.contains(\"특허\")==True]"
   ]
  },
  {
   "cell_type": "code",
   "execution_count": 148,
   "metadata": {},
   "outputs": [],
   "source": [
    "five[five.str.contains(\"특허\")==True]=\"\""
   ]
  },
  {
   "cell_type": "code",
   "execution_count": 149,
   "metadata": {},
   "outputs": [],
   "source": [
    "five[five.str.contains(\"RCY\")==True]\n",
    "df.at[five[five.str.contains(\"RCY\")==True].index,[\"경험사항\"]]=five[five.str.contains(\"RCY\")==True]"
   ]
  },
  {
   "cell_type": "code",
   "execution_count": 150,
   "metadata": {},
   "outputs": [],
   "source": [
    "five[five.str.contains(\"RCY\")==True]=\"\""
   ]
  },
  {
   "cell_type": "code",
   "execution_count": 151,
   "metadata": {},
   "outputs": [],
   "source": [
    "five[five.str.contains(\"OPIC\")==True]=\"오픽 IL\"\n",
    "df.at[five[five.str.contains(\"오픽\")==True].index,[\"어학\"]]=five[five.str.contains(\"오픽\")==True]"
   ]
  },
  {
   "cell_type": "code",
   "execution_count": 152,
   "metadata": {},
   "outputs": [],
   "source": [
    "five[five.str.contains(\"오픽\")==True]=\"\""
   ]
  },
  {
   "cell_type": "code",
   "execution_count": 153,
   "metadata": {},
   "outputs": [],
   "source": [
    "five[five.str.contains(\"C\")==True]\n",
    "df.at[five[five.str.contains(\"C\")==True].index,[\"자격증\"]]=five[five.str.contains(\"C\")==True]"
   ]
  },
  {
   "cell_type": "code",
   "execution_count": 154,
   "metadata": {},
   "outputs": [],
   "source": [
    "five[five.str.contains(\"C\")==True]=\"\""
   ]
  },
  {
   "cell_type": "code",
   "execution_count": 155,
   "metadata": {},
   "outputs": [],
   "source": [
    "five[five.str.contains(\"경력\")==True]\n",
    "df.at[five[five.str.contains(\"경력\")==True].index,[\"경험사항\"]]=five[five.str.contains(\"경력\")==True]"
   ]
  },
  {
   "cell_type": "code",
   "execution_count": 156,
   "metadata": {},
   "outputs": [],
   "source": [
    "five[five.str.contains(\"경력\")==True]=\"\""
   ]
  },
  {
   "cell_type": "code",
   "execution_count": 157,
   "metadata": {},
   "outputs": [],
   "source": [
    "five[five.str.contains(\"X\")==True]=\"\""
   ]
  },
  {
   "cell_type": "code",
   "execution_count": 158,
   "metadata": {},
   "outputs": [],
   "source": [
    "five[five.str.contains(\"장교\")==True]=\"장교복무\"\n",
    "df.at[five[five.str.contains(\"장교\")==True].index,[\"경험사항\"]]=five[five.str.contains(\"장교\")==True]"
   ]
  },
  {
   "cell_type": "code",
   "execution_count": 159,
   "metadata": {},
   "outputs": [],
   "source": [
    "five[five.str.contains(\"장교\")==True]=\"\""
   ]
  },
  {
   "cell_type": "code",
   "execution_count": 160,
   "metadata": {},
   "outputs": [],
   "source": [
    "five[five.str.contains(\"석사\")==True]=\"\""
   ]
  },
  {
   "cell_type": "code",
   "execution_count": 161,
   "metadata": {},
   "outputs": [],
   "source": [
    "five[five.str.contains(\"다수\")==True]=\"\""
   ]
  },
  {
   "cell_type": "code",
   "execution_count": 162,
   "metadata": {},
   "outputs": [],
   "source": [
    "five[five.str.contains(\"2회\")==True]=\"\""
   ]
  },
  {
   "cell_type": "code",
   "execution_count": 163,
   "metadata": {},
   "outputs": [],
   "source": [
    "five[five.str.contains(\"병역\")==True]=\"\""
   ]
  },
  {
   "cell_type": "code",
   "execution_count": 164,
   "metadata": {},
   "outputs": [],
   "source": [
    "five[five.str.contains(\"과정\")==True]\n",
    "df.at[five[five.str.contains(\"과정\")==True].index,[\"경험사항\"]]=five[five.str.contains(\"과정\")==True]"
   ]
  },
  {
   "cell_type": "code",
   "execution_count": 165,
   "metadata": {},
   "outputs": [],
   "source": [
    "five[five.str.contains(\"과정\")==True]=\"\""
   ]
  },
  {
   "cell_type": "code",
   "execution_count": 166,
   "metadata": {},
   "outputs": [],
   "source": [
    "five[five.str.contains(\"J\")==True]\n",
    "df.at[five[five.str.contains(\"J\")==True].index,[\"어학\"]]=five[five.str.contains(\"J\")==True]"
   ]
  },
  {
   "cell_type": "code",
   "execution_count": 167,
   "metadata": {},
   "outputs": [],
   "source": [
    "five[five.str.contains(\"J\")==True]=\"\""
   ]
  },
  {
   "cell_type": "code",
   "execution_count": 168,
   "metadata": {},
   "outputs": [],
   "source": [
    "five[five.str.contains(\"서포터즈\")==True]\n",
    "df.at[five[five.str.contains(\"서포터즈\")==True].index,[\"경험사항\"]]=five[five.str.contains(\"서포터즈\")==True]"
   ]
  },
  {
   "cell_type": "code",
   "execution_count": 169,
   "metadata": {},
   "outputs": [],
   "source": [
    "five[five.str.contains(\"서포터즈\")==True]=\"\""
   ]
  },
  {
   "cell_type": "code",
   "execution_count": 170,
   "metadata": {},
   "outputs": [],
   "source": [
    "five[five.str.contains(\"건설사\")==True]\n",
    "df.at[five[five.str.contains(\"건설사\")==True].index,[\"경험사항\"]]=five[five.str.contains(\"건설사\")==True]"
   ]
  },
  {
   "cell_type": "code",
   "execution_count": 171,
   "metadata": {},
   "outputs": [],
   "source": [
    "five[five.str.contains(\"건설사\")==True]=\"\""
   ]
  },
  {
   "cell_type": "code",
   "execution_count": 172,
   "metadata": {},
   "outputs": [],
   "source": [
    "five[five.str.contains(\"s\")==True]\n",
    "df.at[five[five.str.contains(\"s\")==True].index,[\"경험사항\"]]=five[five.str.contains(\"s\")==True]\n",
    "five[five.str.contains(\"s\")==True]=\"\""
   ]
  },
  {
   "cell_type": "code",
   "execution_count": 173,
   "metadata": {},
   "outputs": [],
   "source": [
    "five[five.str.contains(\"석\")==True]=\"\""
   ]
  },
  {
   "cell_type": "code",
   "execution_count": 174,
   "metadata": {},
   "outputs": [],
   "source": [
    "five[five.str.contains(\"4회\")==True]=\"\""
   ]
  },
  {
   "cell_type": "code",
   "execution_count": 175,
   "metadata": {},
   "outputs": [],
   "source": [
    "five[five.str.contains(\"산업\")==True]=\"\""
   ]
  },
  {
   "cell_type": "code",
   "execution_count": 176,
   "metadata": {},
   "outputs": [],
   "source": [
    "five[five.str.contains(\"LEV\")==True]=\"토스 Level6\""
   ]
  },
  {
   "cell_type": "code",
   "execution_count": 177,
   "metadata": {},
   "outputs": [],
   "source": [
    "five[five.str.contains(\"LEV7\")==True]=\"토스 Level7\"\n",
    "df.at[five[five.str.contains(\"토스\")==True].index,[\"어학\"]]=five[five.str.contains(\"토스\")==True]"
   ]
  },
  {
   "cell_type": "code",
   "execution_count": 178,
   "metadata": {},
   "outputs": [],
   "source": [
    "five[five.str.contains(\"토스\")==True]=\"\""
   ]
  },
  {
   "cell_type": "code",
   "execution_count": 179,
   "metadata": {},
   "outputs": [],
   "source": [
    "five[five.str.contains(\"99\")==True]=\"토익 990\"\n",
    "df.at[five[five.str.contains(\"토익\")==True].index,[\"어학\"]]=five[five.str.contains(\"토익\")==True]"
   ]
  },
  {
   "cell_type": "code",
   "execution_count": 180,
   "metadata": {},
   "outputs": [],
   "source": [
    "five[five.str.contains(\"토익\")==True]=\"\""
   ]
  },
  {
   "cell_type": "code",
   "execution_count": 181,
   "metadata": {},
   "outputs": [],
   "source": [
    "five[five.str.contains(\"IM\")==True]=\"오픽 IM2\"\n",
    "df.at[five[five.str.contains(\"오픽\")==True].index,[\"어학\"]]=five[five.str.contains(\"오픽\")==True]"
   ]
  },
  {
   "cell_type": "code",
   "execution_count": 182,
   "metadata": {},
   "outputs": [],
   "source": [
    "five[five.str.contains(\"오픽\")==True]=\"\""
   ]
  },
  {
   "cell_type": "code",
   "execution_count": 183,
   "metadata": {},
   "outputs": [],
   "source": [
    "five[five.str.contains(\"어문\")==True]=\"\""
   ]
  },
  {
   "cell_type": "code",
   "execution_count": 184,
   "metadata": {},
   "outputs": [],
   "source": [
    "five[five.str.contains(\"코트\")==True]\n",
    "df.at[five[five.str.contains(\"코트\")==True].index,[\"경험사항\"]]=five[five.str.contains(\"코트\")==True]"
   ]
  },
  {
   "cell_type": "code",
   "execution_count": 185,
   "metadata": {},
   "outputs": [],
   "source": [
    "five[five.str.contains(\"코트\")==True]=\"\""
   ]
  },
  {
   "cell_type": "code",
   "execution_count": 186,
   "metadata": {},
   "outputs": [],
   "source": [
    "df.at[five[five.str.contains(\"IT\")==True].index,[\"자격증\"]]=five[five.str.contains(\"IT\")==True]\n",
    "five[five.str.contains(\"IT\")==True]=\"\""
   ]
  },
  {
   "cell_type": "code",
   "execution_count": 187,
   "metadata": {},
   "outputs": [],
   "source": [
    "five[five.str.contains(\"MIS\")==True]=\"\""
   ]
  },
  {
   "cell_type": "code",
   "execution_count": 188,
   "metadata": {},
   "outputs": [],
   "source": [
    "five[five.str.contains(\"4.5\")==True]=\"학점 4.5\"\n",
    "df.at[five[five.str.contains(\"학점\")==True].index,[\"학점\"]]=five[five.str.contains(\"학점\")==True]\n",
    "five[five.str.contains(\"학점\")==True]=\"\""
   ]
  },
  {
   "cell_type": "code",
   "execution_count": 189,
   "metadata": {},
   "outputs": [],
   "source": [
    "five[five.str.contains(\"삼성\")==True]\n",
    "df.at[five[five.str.contains(\"삼성\")==True].index,[\"경험사항\"]]=five[five.str.contains(\"삼성\")==True]\n",
    "five[five.str.contains(\"삼성\")==True]=\"\""
   ]
  },
  {
   "cell_type": "code",
   "execution_count": 190,
   "metadata": {},
   "outputs": [],
   "source": [
    "five[five.str.contains(\"보험\")==True]\n",
    "df.at[five[five.str.contains(\"보험\")==True].index,[\"경험사항\"]]=five[five.str.contains(\"보험\")==True]\n",
    "five[five.str.contains(\"보험\")==True]=\"\""
   ]
  },
  {
   "cell_type": "code",
   "execution_count": 191,
   "metadata": {},
   "outputs": [],
   "source": [
    "five[five.str.contains(\"-\")==True]=\"\""
   ]
  },
  {
   "cell_type": "code",
   "execution_count": 192,
   "metadata": {},
   "outputs": [],
   "source": [
    "five[five.str.contains(\"5회\")==True]=\"\""
   ]
  },
  {
   "cell_type": "code",
   "execution_count": 193,
   "metadata": {},
   "outputs": [],
   "source": [
    "five[five.str.contains(\"SA\")==True]\n",
    "df.at[five[five.str.contains(\"SA\")==True].index,[\"경험사항\"]]=five[five.str.contains(\"SA\")==True]\n",
    "five[five.str.contains(\"SA\")==True]=\"\""
   ]
  },
  {
   "cell_type": "code",
   "execution_count": 194,
   "metadata": {},
   "outputs": [],
   "source": [
    "five[five.str.contains(\"유\")==True]=\"\""
   ]
  },
  {
   "cell_type": "code",
   "execution_count": 195,
   "metadata": {},
   "outputs": [],
   "source": [
    "five[five.str.contains(\"무역\")==True]\n",
    "df.at[five[five.str.contains(\"무역\")==True].index,[\"경험사항\"]]=five[five.str.contains(\"무역\")==True]\n",
    "five[five.str.contains(\"무역\")==True]=\"\""
   ]
  },
  {
   "cell_type": "code",
   "execution_count": 196,
   "metadata": {},
   "outputs": [],
   "source": [
    "five[five.str.contains(\"스펙업\\n\\n마이크로소프트\\n\\n눔 코리아\\n\\n야놀자\\n\\n식신 핫플레이스\")==True]=\"스펙업, 마이크로소프트, 눔 코리아, 야놀자, 식신 핫플레이스\""
   ]
  },
  {
   "cell_type": "code",
   "execution_count": 197,
   "metadata": {},
   "outputs": [],
   "source": [
    "df.at[five[five.str.contains(\"스펙업\")==True].index,[\"경험사항\"]]=five[five.str.contains(\"스펙업\")==True]\n",
    "five[five.str.contains(\"스펙업\")==True]=\"\""
   ]
  },
  {
   "cell_type": "code",
   "execution_count": 198,
   "metadata": {},
   "outputs": [],
   "source": [
    "five[five.str.contains(\"4번\")==True]=\"\""
   ]
  },
  {
   "cell_type": "code",
   "execution_count": 199,
   "metadata": {},
   "outputs": [],
   "source": [
    "five[five.str.contains(\"경험\")==True]=\"실무 경험 1년\"\n",
    "df.at[five[five.str.contains(\"실무\")==True].index,[\"경험사항\"]]=five[five.str.contains(\"실무\")==True]\n",
    "five[five.str.contains(\"실무\")==True]=\"\""
   ]
  },
  {
   "cell_type": "code",
   "execution_count": 200,
   "metadata": {},
   "outputs": [],
   "source": [
    "five[five.str.contains(\"멘토링\")==True]\n",
    "df.at[five[five.str.contains(\"멘토링\")==True].index,[\"경험사항\"]]=five[five.str.contains(\"멘토링\")==True]\n",
    "five[five.str.contains(\"멘토링\")==True]=\"\""
   ]
  },
  {
   "cell_type": "code",
   "execution_count": 201,
   "metadata": {},
   "outputs": [],
   "source": [
    "five[five.str.contains(\"워킹\")==True]\n",
    "df.at[five[five.str.contains(\"워킹\")==True].index,[\"경험사항\"]]=five[five.str.contains(\"워킹\")==True]\n",
    "five[five.str.contains(\"워킹\")==True]=\"\""
   ]
  },
  {
   "cell_type": "code",
   "execution_count": 202,
   "metadata": {},
   "outputs": [],
   "source": [
    "five[five.str.contains(\"농활\")==True]=\"농촌활동\"\n",
    "df.at[five[five.str.contains(\"농활\")==True].index,[\"경험사항\"]]=five[five.str.contains(\"농활\")==True]\n",
    "five[five.str.contains(\"농활\")==True]=\"\""
   ]
  },
  {
   "cell_type": "code",
   "execution_count": 203,
   "metadata": {},
   "outputs": [
    {
     "data": {
      "text/plain": [
       "8602     HSK 6\n",
       "Name: 4, dtype: object"
      ]
     },
     "execution_count": 203,
     "metadata": {},
     "output_type": "execute_result"
    }
   ],
   "source": [
    "five[five.str.contains(\"HSK\")==True]"
   ]
  },
  {
   "cell_type": "code",
   "execution_count": 204,
   "metadata": {},
   "outputs": [],
   "source": [
    "df.at[five[five.str.contains(\"HSK\")==True].index,[\"어학\"]]=five[five.str.contains(\"HSK\")==True]\n",
    "five[five.str.contains(\"HSK\")==True]=\"\""
   ]
  },
  {
   "cell_type": "code",
   "execution_count": 205,
   "metadata": {},
   "outputs": [],
   "source": [
    "five[five.str.contains(\"2\")==True]=\"\""
   ]
  },
  {
   "cell_type": "code",
   "execution_count": 206,
   "metadata": {},
   "outputs": [],
   "source": [
    "df.at[five[five.str.contains(\"플랜\")==True].index,[\"경험사항\"]]=five[five.str.contains(\"플랜\")==True]\n",
    "five[five.str.contains(\"플랜\")==True]=\"\""
   ]
  },
  {
   "cell_type": "code",
   "execution_count": 207,
   "metadata": {},
   "outputs": [],
   "source": [
    "five[five.str.contains(\"여러\")==True]=\"\""
   ]
  },
  {
   "cell_type": "code",
   "execution_count": 208,
   "metadata": {},
   "outputs": [],
   "source": [
    "five[five.str.contains(\"N\")==True]=\"\""
   ]
  },
  {
   "cell_type": "code",
   "execution_count": 209,
   "metadata": {},
   "outputs": [],
   "source": [
    "five[five.str.contains(\".\")==True]=\"\""
   ]
  },
  {
   "cell_type": "code",
   "execution_count": 210,
   "metadata": {},
   "outputs": [
    {
     "data": {
      "text/html": [
       "<div>\n",
       "<style scoped>\n",
       "    .dataframe tbody tr th:only-of-type {\n",
       "        vertical-align: middle;\n",
       "    }\n",
       "\n",
       "    .dataframe tbody tr th {\n",
       "        vertical-align: top;\n",
       "    }\n",
       "\n",
       "    .dataframe thead th {\n",
       "        text-align: right;\n",
       "    }\n",
       "</style>\n",
       "<table border=\"1\" class=\"dataframe\">\n",
       "  <thead>\n",
       "    <tr style=\"text-align: right;\">\n",
       "      <th></th>\n",
       "      <th>Unnamed: 0</th>\n",
       "      <th>Unnamed: 0.1</th>\n",
       "      <th>기업명</th>\n",
       "      <th>지원부서</th>\n",
       "      <th>지원시기</th>\n",
       "      <th>학교</th>\n",
       "      <th>학과</th>\n",
       "      <th>학점</th>\n",
       "      <th>어학</th>\n",
       "      <th>자격증</th>\n",
       "      <th>경험사항</th>\n",
       "      <th>자소서</th>\n",
       "    </tr>\n",
       "  </thead>\n",
       "  <tbody>\n",
       "    <tr>\n",
       "      <th>0</th>\n",
       "      <td>0</td>\n",
       "      <td>0</td>\n",
       "      <td>한국석유공사</td>\n",
       "      <td>설비</td>\n",
       "      <td>2020 상반기</td>\n",
       "      <td>NaN</td>\n",
       "      <td>전자공학과</td>\n",
       "      <td>학점 1.7등급</td>\n",
       "      <td>NaN</td>\n",
       "      <td>NaN</td>\n",
       "      <td>인천 글로벌 숙련 진흥원, 선반, 용접 ,특수용접, 설비보전</td>\n",
       "      <td>7.한국석유공사\\n\\n 1. 지원 분야 직무기술서 ‘직무수행 내용’ 중 본인이 가장...</td>\n",
       "    </tr>\n",
       "    <tr>\n",
       "      <th>1</th>\n",
       "      <td>1</td>\n",
       "      <td>1</td>\n",
       "      <td>CJ제일제당</td>\n",
       "      <td>Food Sales</td>\n",
       "      <td>2020 상반기</td>\n",
       "      <td>서울사립대(중앙대학교)</td>\n",
       "      <td>상경계열학과</td>\n",
       "      <td>학점 3.92</td>\n",
       "      <td>NaN</td>\n",
       "      <td>NaN</td>\n",
       "      <td>봉사활동 일부빼고는 전무.</td>\n",
       "      <td>CJ제일제당 및 선택한 직무에 대한 지원동기는 무엇인가요? ① 선택한 직무에 관심을...</td>\n",
       "    </tr>\n",
       "    <tr>\n",
       "      <th>2</th>\n",
       "      <td>2</td>\n",
       "      <td>2</td>\n",
       "      <td>한국가스안전공사</td>\n",
       "      <td>LP가스 안전지킴이사업</td>\n",
       "      <td>2020 상반기</td>\n",
       "      <td>지방거점국립대(제주대학교)</td>\n",
       "      <td>NaN</td>\n",
       "      <td>학점 3.3</td>\n",
       "      <td>토익830</td>\n",
       "      <td>NaN</td>\n",
       "      <td>NaN</td>\n",
       "      <td>\\n1. 한국가스안전공사가 진행하는 사업에 관심을 갖고 공사에 지원한 동기에 대해 ...</td>\n",
       "    </tr>\n",
       "    <tr>\n",
       "      <th>3</th>\n",
       "      <td>3</td>\n",
       "      <td>3</td>\n",
       "      <td>코레일</td>\n",
       "      <td>사무영업</td>\n",
       "      <td>2020 상반기</td>\n",
       "      <td>지방거점국립대(충남대학교)</td>\n",
       "      <td>NaN</td>\n",
       "      <td>학점 3.87</td>\n",
       "      <td>토익 835</td>\n",
       "      <td>NaN</td>\n",
       "      <td>NaN</td>\n",
       "      <td>1.공동체의 일원으로서 가장 중요하게 생각하는 가치를 제시하고, 그 가치를 실천했던...</td>\n",
       "    </tr>\n",
       "    <tr>\n",
       "      <th>4</th>\n",
       "      <td>4</td>\n",
       "      <td>4</td>\n",
       "      <td>한국기술교육대학교</td>\n",
       "      <td>행정</td>\n",
       "      <td>2020 상반기</td>\n",
       "      <td>서울사립대(건국대학교)</td>\n",
       "      <td>NaN</td>\n",
       "      <td>학점 4.0</td>\n",
       "      <td>토익 780</td>\n",
       "      <td>NaN</td>\n",
       "      <td>NaN</td>\n",
       "      <td>1. 본인이 가진 가장 뛰어난 점과 그렇게 판단한 이유, 고용노동연수원 업무수행에서...</td>\n",
       "    </tr>\n",
       "    <tr>\n",
       "      <th>...</th>\n",
       "      <td>...</td>\n",
       "      <td>...</td>\n",
       "      <td>...</td>\n",
       "      <td>...</td>\n",
       "      <td>...</td>\n",
       "      <td>...</td>\n",
       "      <td>...</td>\n",
       "      <td>...</td>\n",
       "      <td>...</td>\n",
       "      <td>...</td>\n",
       "      <td>...</td>\n",
       "      <td>...</td>\n",
       "    </tr>\n",
       "    <tr>\n",
       "      <th>10102</th>\n",
       "      <td>10102</td>\n",
       "      <td>10102</td>\n",
       "      <td>현대자동차</td>\n",
       "      <td>영업관리</td>\n",
       "      <td>2013 상반기</td>\n",
       "      <td>서울사립대(상명대학교)</td>\n",
       "      <td>국제통상학과</td>\n",
       "      <td>학점 4.3</td>\n",
       "      <td>NaN</td>\n",
       "      <td>NaN</td>\n",
       "      <td>해외인턴1회, 중국어 말하기 대회 1등, 와인바 매니저 1년 6개월 경력</td>\n",
       "      <td>1. 현대자동차에 지원하게 된 동기 또는 해당 직무에 지원하게 된 동기는 무엇입니까...</td>\n",
       "    </tr>\n",
       "    <tr>\n",
       "      <th>10103</th>\n",
       "      <td>10103</td>\n",
       "      <td>10103</td>\n",
       "      <td>심팩</td>\n",
       "      <td>용접관리</td>\n",
       "      <td>2013 상반기</td>\n",
       "      <td>전문대</td>\n",
       "      <td>공업화학과</td>\n",
       "      <td>학점 3.06</td>\n",
       "      <td>NaN</td>\n",
       "      <td>NaN</td>\n",
       "      <td>NaN</td>\n",
       "      <td>성격소개\\n\\n대부분의 사람들이 평가하는 첫인상은 소심하고 내성적인 성격일것이라 생...</td>\n",
       "    </tr>\n",
       "    <tr>\n",
       "      <th>10104</th>\n",
       "      <td>10104</td>\n",
       "      <td>10104</td>\n",
       "      <td>한국전력</td>\n",
       "      <td>인턴[송,배전]</td>\n",
       "      <td>2013 상반기</td>\n",
       "      <td>지방거점국립대</td>\n",
       "      <td>전자공학과</td>\n",
       "      <td>학점 3.7</td>\n",
       "      <td>NaN</td>\n",
       "      <td>NaN</td>\n",
       "      <td>음악봉사활동, 멘토링 등</td>\n",
       "      <td>[질문 1] 취업이라는 목표 이외에 인생의 큰 목표를 세운 경험, 그 목표를 실현하...</td>\n",
       "    </tr>\n",
       "    <tr>\n",
       "      <th>10105</th>\n",
       "      <td>10105</td>\n",
       "      <td>10105</td>\n",
       "      <td>한국전력</td>\n",
       "      <td>인턴[송,배전]</td>\n",
       "      <td>2013 상반기</td>\n",
       "      <td>지방거점국립대</td>\n",
       "      <td>전자공학과</td>\n",
       "      <td>학점 3.7</td>\n",
       "      <td>NaN</td>\n",
       "      <td>NaN</td>\n",
       "      <td>음악봉사활동, 멘토링등</td>\n",
       "      <td>한전 자가소개서 양식 500자 12줄 이내\\n\\n[질문 1] 취업이라는 목표 이외에...</td>\n",
       "    </tr>\n",
       "    <tr>\n",
       "      <th>10106</th>\n",
       "      <td>10106</td>\n",
       "      <td>10106</td>\n",
       "      <td>한국전력</td>\n",
       "      <td>인턴[송,배전]</td>\n",
       "      <td>2013 상반기</td>\n",
       "      <td>지방거점국립대</td>\n",
       "      <td>전자공학과</td>\n",
       "      <td>학점 3.7</td>\n",
       "      <td>NaN</td>\n",
       "      <td>NaN</td>\n",
       "      <td>음악봉사활동, 멘토링등</td>\n",
       "      <td>한전 자가소개서 양식 500자 12줄 이내\\n\\n[질문 1] 취업이라는 목표 이외에...</td>\n",
       "    </tr>\n",
       "  </tbody>\n",
       "</table>\n",
       "<p>10107 rows × 12 columns</p>\n",
       "</div>"
      ],
      "text/plain": [
       "       Unnamed: 0  Unnamed: 0.1         기업명            지원부서       지원시기  \\\n",
       "0               0             0     한국석유공사              설비    2020 상반기   \n",
       "1               1             1     CJ제일제당      Food Sales    2020 상반기   \n",
       "2               2             2   한국가스안전공사    LP가스 안전지킴이사업    2020 상반기   \n",
       "3               3             3        코레일            사무영업    2020 상반기   \n",
       "4               4             4  한국기술교육대학교              행정    2020 상반기   \n",
       "...           ...           ...         ...             ...        ...   \n",
       "10102       10102         10102      현대자동차            영업관리    2013 상반기   \n",
       "10103       10103         10103         심팩            용접관리    2013 상반기   \n",
       "10104       10104         10104       한국전력        인턴[송,배전]    2013 상반기   \n",
       "10105       10105         10105       한국전력        인턴[송,배전]    2013 상반기   \n",
       "10106       10106         10106       한국전력        인턴[송,배전]    2013 상반기   \n",
       "\n",
       "                   학교      학과          학점        어학  자격증  \\\n",
       "0                 NaN   전자공학과   학점 1.7등급        NaN  NaN   \n",
       "1        서울사립대(중앙대학교)  상경계열학과    학점 3.92        NaN  NaN   \n",
       "2      지방거점국립대(제주대학교)     NaN     학점 3.3     토익830   NaN   \n",
       "3      지방거점국립대(충남대학교)     NaN    학점 3.87    토익 835   NaN   \n",
       "4        서울사립대(건국대학교)     NaN     학점 4.0    토익 780   NaN   \n",
       "...               ...     ...         ...       ...  ...   \n",
       "10102    서울사립대(상명대학교)  국제통상학과     학점 4.3        NaN  NaN   \n",
       "10103             전문대   공업화학과     학점 3.06       NaN  NaN   \n",
       "10104         지방거점국립대   전자공학과     학점 3.7        NaN  NaN   \n",
       "10105         지방거점국립대   전자공학과     학점 3.7        NaN  NaN   \n",
       "10106         지방거점국립대   전자공학과     학점 3.7        NaN  NaN   \n",
       "\n",
       "                                            경험사항  \\\n",
       "0              인천 글로벌 숙련 진흥원, 선반, 용접 ,특수용접, 설비보전   \n",
       "1                                 봉사활동 일부빼고는 전무.   \n",
       "2                                            NaN   \n",
       "3                                            NaN   \n",
       "4                                            NaN   \n",
       "...                                          ...   \n",
       "10102   해외인턴1회, 중국어 말하기 대회 1등, 와인바 매니저 1년 6개월 경력   \n",
       "10103                                        NaN   \n",
       "10104                              음악봉사활동, 멘토링 등   \n",
       "10105                               음악봉사활동, 멘토링등   \n",
       "10106                               음악봉사활동, 멘토링등   \n",
       "\n",
       "                                                     자소서  \n",
       "0      7.한국석유공사\\n\\n 1. 지원 분야 직무기술서 ‘직무수행 내용’ 중 본인이 가장...  \n",
       "1      CJ제일제당 및 선택한 직무에 대한 지원동기는 무엇인가요? ① 선택한 직무에 관심을...  \n",
       "2      \\n1. 한국가스안전공사가 진행하는 사업에 관심을 갖고 공사에 지원한 동기에 대해 ...  \n",
       "3      1.공동체의 일원으로서 가장 중요하게 생각하는 가치를 제시하고, 그 가치를 실천했던...  \n",
       "4      1. 본인이 가진 가장 뛰어난 점과 그렇게 판단한 이유, 고용노동연수원 업무수행에서...  \n",
       "...                                                  ...  \n",
       "10102  1. 현대자동차에 지원하게 된 동기 또는 해당 직무에 지원하게 된 동기는 무엇입니까...  \n",
       "10103  성격소개\\n\\n대부분의 사람들이 평가하는 첫인상은 소심하고 내성적인 성격일것이라 생...  \n",
       "10104  [질문 1] 취업이라는 목표 이외에 인생의 큰 목표를 세운 경험, 그 목표를 실현하...  \n",
       "10105  한전 자가소개서 양식 500자 12줄 이내\\n\\n[질문 1] 취업이라는 목표 이외에...  \n",
       "10106  한전 자가소개서 양식 500자 12줄 이내\\n\\n[질문 1] 취업이라는 목표 이외에...  \n",
       "\n",
       "[10107 rows x 12 columns]"
      ]
     },
     "execution_count": 210,
     "metadata": {},
     "output_type": "execute_result"
    }
   ],
   "source": [
    "df"
   ]
  },
  {
   "cell_type": "code",
   "execution_count": 211,
   "metadata": {},
   "outputs": [
    {
     "data": {
      "text/html": [
       "<div>\n",
       "<style scoped>\n",
       "    .dataframe tbody tr th:only-of-type {\n",
       "        vertical-align: middle;\n",
       "    }\n",
       "\n",
       "    .dataframe tbody tr th {\n",
       "        vertical-align: top;\n",
       "    }\n",
       "\n",
       "    .dataframe thead th {\n",
       "        text-align: right;\n",
       "    }\n",
       "</style>\n",
       "<table border=\"1\" class=\"dataframe\">\n",
       "  <thead>\n",
       "    <tr style=\"text-align: right;\">\n",
       "      <th></th>\n",
       "      <th>Unnamed: 0</th>\n",
       "      <th>Unnamed: 0.1</th>\n",
       "      <th>기업명</th>\n",
       "      <th>지원부서</th>\n",
       "      <th>지원시기</th>\n",
       "      <th>학교</th>\n",
       "      <th>학과</th>\n",
       "      <th>학점</th>\n",
       "      <th>어학</th>\n",
       "      <th>자격증</th>\n",
       "      <th>경험사항</th>\n",
       "      <th>자소서</th>\n",
       "    </tr>\n",
       "  </thead>\n",
       "  <tbody>\n",
       "    <tr>\n",
       "      <th>0</th>\n",
       "      <td>0</td>\n",
       "      <td>0</td>\n",
       "      <td>한국석유공사</td>\n",
       "      <td>설비</td>\n",
       "      <td>2020 상반기</td>\n",
       "      <td>NaN</td>\n",
       "      <td>전자공학과</td>\n",
       "      <td>학점 1.7등급</td>\n",
       "      <td>NaN</td>\n",
       "      <td>NaN</td>\n",
       "      <td>인천 글로벌 숙련 진흥원, 선반, 용접 ,특수용접, 설비보전</td>\n",
       "      <td>7.한국석유공사\\n\\n 1. 지원 분야 직무기술서 ‘직무수행 내용’ 중 본인이 가장...</td>\n",
       "    </tr>\n",
       "    <tr>\n",
       "      <th>1</th>\n",
       "      <td>1</td>\n",
       "      <td>1</td>\n",
       "      <td>CJ제일제당</td>\n",
       "      <td>Food Sales</td>\n",
       "      <td>2020 상반기</td>\n",
       "      <td>서울사립대(중앙대학교)</td>\n",
       "      <td>상경계열학과</td>\n",
       "      <td>학점 3.92</td>\n",
       "      <td>NaN</td>\n",
       "      <td>NaN</td>\n",
       "      <td>봉사활동 일부빼고는 전무.</td>\n",
       "      <td>CJ제일제당 및 선택한 직무에 대한 지원동기는 무엇인가요? ① 선택한 직무에 관심을...</td>\n",
       "    </tr>\n",
       "    <tr>\n",
       "      <th>2</th>\n",
       "      <td>2</td>\n",
       "      <td>2</td>\n",
       "      <td>한국가스안전공사</td>\n",
       "      <td>LP가스 안전지킴이사업</td>\n",
       "      <td>2020 상반기</td>\n",
       "      <td>지방거점국립대(제주대학교)</td>\n",
       "      <td>NaN</td>\n",
       "      <td>학점 3.3</td>\n",
       "      <td>토익830</td>\n",
       "      <td>NaN</td>\n",
       "      <td>NaN</td>\n",
       "      <td>\\n1. 한국가스안전공사가 진행하는 사업에 관심을 갖고 공사에 지원한 동기에 대해 ...</td>\n",
       "    </tr>\n",
       "    <tr>\n",
       "      <th>3</th>\n",
       "      <td>3</td>\n",
       "      <td>3</td>\n",
       "      <td>코레일</td>\n",
       "      <td>사무영업</td>\n",
       "      <td>2020 상반기</td>\n",
       "      <td>지방거점국립대(충남대학교)</td>\n",
       "      <td>NaN</td>\n",
       "      <td>학점 3.87</td>\n",
       "      <td>토익 835</td>\n",
       "      <td>NaN</td>\n",
       "      <td>NaN</td>\n",
       "      <td>1.공동체의 일원으로서 가장 중요하게 생각하는 가치를 제시하고, 그 가치를 실천했던...</td>\n",
       "    </tr>\n",
       "    <tr>\n",
       "      <th>4</th>\n",
       "      <td>4</td>\n",
       "      <td>4</td>\n",
       "      <td>한국기술교육대학교</td>\n",
       "      <td>행정</td>\n",
       "      <td>2020 상반기</td>\n",
       "      <td>서울사립대(건국대학교)</td>\n",
       "      <td>NaN</td>\n",
       "      <td>학점 4.0</td>\n",
       "      <td>토익 780</td>\n",
       "      <td>NaN</td>\n",
       "      <td>NaN</td>\n",
       "      <td>1. 본인이 가진 가장 뛰어난 점과 그렇게 판단한 이유, 고용노동연수원 업무수행에서...</td>\n",
       "    </tr>\n",
       "    <tr>\n",
       "      <th>...</th>\n",
       "      <td>...</td>\n",
       "      <td>...</td>\n",
       "      <td>...</td>\n",
       "      <td>...</td>\n",
       "      <td>...</td>\n",
       "      <td>...</td>\n",
       "      <td>...</td>\n",
       "      <td>...</td>\n",
       "      <td>...</td>\n",
       "      <td>...</td>\n",
       "      <td>...</td>\n",
       "      <td>...</td>\n",
       "    </tr>\n",
       "    <tr>\n",
       "      <th>10102</th>\n",
       "      <td>10102</td>\n",
       "      <td>10102</td>\n",
       "      <td>현대자동차</td>\n",
       "      <td>영업관리</td>\n",
       "      <td>2013 상반기</td>\n",
       "      <td>서울사립대(상명대학교)</td>\n",
       "      <td>국제통상학과</td>\n",
       "      <td>학점 4.3</td>\n",
       "      <td>NaN</td>\n",
       "      <td>NaN</td>\n",
       "      <td>해외인턴1회, 중국어 말하기 대회 1등, 와인바 매니저 1년 6개월 경력</td>\n",
       "      <td>1. 현대자동차에 지원하게 된 동기 또는 해당 직무에 지원하게 된 동기는 무엇입니까...</td>\n",
       "    </tr>\n",
       "    <tr>\n",
       "      <th>10103</th>\n",
       "      <td>10103</td>\n",
       "      <td>10103</td>\n",
       "      <td>심팩</td>\n",
       "      <td>용접관리</td>\n",
       "      <td>2013 상반기</td>\n",
       "      <td>전문대</td>\n",
       "      <td>공업화학과</td>\n",
       "      <td>학점 3.06</td>\n",
       "      <td>NaN</td>\n",
       "      <td>NaN</td>\n",
       "      <td>NaN</td>\n",
       "      <td>성격소개\\n\\n대부분의 사람들이 평가하는 첫인상은 소심하고 내성적인 성격일것이라 생...</td>\n",
       "    </tr>\n",
       "    <tr>\n",
       "      <th>10104</th>\n",
       "      <td>10104</td>\n",
       "      <td>10104</td>\n",
       "      <td>한국전력</td>\n",
       "      <td>인턴[송,배전]</td>\n",
       "      <td>2013 상반기</td>\n",
       "      <td>지방거점국립대</td>\n",
       "      <td>전자공학과</td>\n",
       "      <td>학점 3.7</td>\n",
       "      <td>NaN</td>\n",
       "      <td>NaN</td>\n",
       "      <td>음악봉사활동, 멘토링 등</td>\n",
       "      <td>[질문 1] 취업이라는 목표 이외에 인생의 큰 목표를 세운 경험, 그 목표를 실현하...</td>\n",
       "    </tr>\n",
       "    <tr>\n",
       "      <th>10105</th>\n",
       "      <td>10105</td>\n",
       "      <td>10105</td>\n",
       "      <td>한국전력</td>\n",
       "      <td>인턴[송,배전]</td>\n",
       "      <td>2013 상반기</td>\n",
       "      <td>지방거점국립대</td>\n",
       "      <td>전자공학과</td>\n",
       "      <td>학점 3.7</td>\n",
       "      <td>NaN</td>\n",
       "      <td>NaN</td>\n",
       "      <td>음악봉사활동, 멘토링등</td>\n",
       "      <td>한전 자가소개서 양식 500자 12줄 이내\\n\\n[질문 1] 취업이라는 목표 이외에...</td>\n",
       "    </tr>\n",
       "    <tr>\n",
       "      <th>10106</th>\n",
       "      <td>10106</td>\n",
       "      <td>10106</td>\n",
       "      <td>한국전력</td>\n",
       "      <td>인턴[송,배전]</td>\n",
       "      <td>2013 상반기</td>\n",
       "      <td>지방거점국립대</td>\n",
       "      <td>전자공학과</td>\n",
       "      <td>학점 3.7</td>\n",
       "      <td>NaN</td>\n",
       "      <td>NaN</td>\n",
       "      <td>음악봉사활동, 멘토링등</td>\n",
       "      <td>한전 자가소개서 양식 500자 12줄 이내\\n\\n[질문 1] 취업이라는 목표 이외에...</td>\n",
       "    </tr>\n",
       "  </tbody>\n",
       "</table>\n",
       "<p>10107 rows × 12 columns</p>\n",
       "</div>"
      ],
      "text/plain": [
       "       Unnamed: 0  Unnamed: 0.1         기업명            지원부서       지원시기  \\\n",
       "0               0             0     한국석유공사              설비    2020 상반기   \n",
       "1               1             1     CJ제일제당      Food Sales    2020 상반기   \n",
       "2               2             2   한국가스안전공사    LP가스 안전지킴이사업    2020 상반기   \n",
       "3               3             3        코레일            사무영업    2020 상반기   \n",
       "4               4             4  한국기술교육대학교              행정    2020 상반기   \n",
       "...           ...           ...         ...             ...        ...   \n",
       "10102       10102         10102      현대자동차            영업관리    2013 상반기   \n",
       "10103       10103         10103         심팩            용접관리    2013 상반기   \n",
       "10104       10104         10104       한국전력        인턴[송,배전]    2013 상반기   \n",
       "10105       10105         10105       한국전력        인턴[송,배전]    2013 상반기   \n",
       "10106       10106         10106       한국전력        인턴[송,배전]    2013 상반기   \n",
       "\n",
       "                   학교      학과          학점        어학  자격증  \\\n",
       "0                 NaN   전자공학과   학점 1.7등급        NaN  NaN   \n",
       "1        서울사립대(중앙대학교)  상경계열학과    학점 3.92        NaN  NaN   \n",
       "2      지방거점국립대(제주대학교)     NaN     학점 3.3     토익830   NaN   \n",
       "3      지방거점국립대(충남대학교)     NaN    학점 3.87    토익 835   NaN   \n",
       "4        서울사립대(건국대학교)     NaN     학점 4.0    토익 780   NaN   \n",
       "...               ...     ...         ...       ...  ...   \n",
       "10102    서울사립대(상명대학교)  국제통상학과     학점 4.3        NaN  NaN   \n",
       "10103             전문대   공업화학과     학점 3.06       NaN  NaN   \n",
       "10104         지방거점국립대   전자공학과     학점 3.7        NaN  NaN   \n",
       "10105         지방거점국립대   전자공학과     학점 3.7        NaN  NaN   \n",
       "10106         지방거점국립대   전자공학과     학점 3.7        NaN  NaN   \n",
       "\n",
       "                                            경험사항  \\\n",
       "0              인천 글로벌 숙련 진흥원, 선반, 용접 ,특수용접, 설비보전   \n",
       "1                                 봉사활동 일부빼고는 전무.   \n",
       "2                                            NaN   \n",
       "3                                            NaN   \n",
       "4                                            NaN   \n",
       "...                                          ...   \n",
       "10102   해외인턴1회, 중국어 말하기 대회 1등, 와인바 매니저 1년 6개월 경력   \n",
       "10103                                        NaN   \n",
       "10104                              음악봉사활동, 멘토링 등   \n",
       "10105                               음악봉사활동, 멘토링등   \n",
       "10106                               음악봉사활동, 멘토링등   \n",
       "\n",
       "                                                     자소서  \n",
       "0      7.한국석유공사\\n\\n 1. 지원 분야 직무기술서 ‘직무수행 내용’ 중 본인이 가장...  \n",
       "1      CJ제일제당 및 선택한 직무에 대한 지원동기는 무엇인가요? ① 선택한 직무에 관심을...  \n",
       "2      \\n1. 한국가스안전공사가 진행하는 사업에 관심을 갖고 공사에 지원한 동기에 대해 ...  \n",
       "3      1.공동체의 일원으로서 가장 중요하게 생각하는 가치를 제시하고, 그 가치를 실천했던...  \n",
       "4      1. 본인이 가진 가장 뛰어난 점과 그렇게 판단한 이유, 고용노동연수원 업무수행에서...  \n",
       "...                                                  ...  \n",
       "10102  1. 현대자동차에 지원하게 된 동기 또는 해당 직무에 지원하게 된 동기는 무엇입니까...  \n",
       "10103  성격소개\\n\\n대부분의 사람들이 평가하는 첫인상은 소심하고 내성적인 성격일것이라 생...  \n",
       "10104  [질문 1] 취업이라는 목표 이외에 인생의 큰 목표를 세운 경험, 그 목표를 실현하...  \n",
       "10105  한전 자가소개서 양식 500자 12줄 이내\\n\\n[질문 1] 취업이라는 목표 이외에...  \n",
       "10106  한전 자가소개서 양식 500자 12줄 이내\\n\\n[질문 1] 취업이라는 목표 이외에...  \n",
       "\n",
       "[10107 rows x 12 columns]"
      ]
     },
     "execution_count": 211,
     "metadata": {},
     "output_type": "execute_result"
    }
   ],
   "source": [
    "df.drop([\"Unnamed: 0.1\"], axis=1)\n",
    "df"
   ]
  },
  {
   "cell_type": "code",
   "execution_count": 212,
   "metadata": {},
   "outputs": [],
   "source": [
    "df.to_csv(\"2.csv\",encoding='utf-8')"
   ]
  },
  {
   "cell_type": "code",
   "execution_count": 213,
   "metadata": {},
   "outputs": [
    {
     "data": {
      "text/plain": [
       "8130"
      ]
     },
     "execution_count": 213,
     "metadata": {},
     "output_type": "execute_result"
    }
   ],
   "source": [
    "df[\"어학\"].isnull().sum()"
   ]
  }
 ],
 "metadata": {
  "kernelspec": {
   "display_name": "Python 3",
   "language": "python",
   "name": "python3"
  },
  "language_info": {
   "codemirror_mode": {
    "name": "ipython",
    "version": 3
   },
   "file_extension": ".py",
   "mimetype": "text/x-python",
   "name": "python",
   "nbconvert_exporter": "python",
   "pygments_lexer": "ipython3",
   "version": "3.7.6"
  }
 },
 "nbformat": 4,
 "nbformat_minor": 4
}
