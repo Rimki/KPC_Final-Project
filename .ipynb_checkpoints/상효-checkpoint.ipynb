{
 "cells": [
  {
   "cell_type": "code",
   "execution_count": 1,
   "metadata": {},
   "outputs": [],
   "source": [
    "import pandas as pd"
   ]
  },
  {
   "cell_type": "code",
   "execution_count": 2,
   "metadata": {},
   "outputs": [],
   "source": [
    "raw_df = pd.read_csv(\"WriteData.csv\")"
   ]
  },
  {
   "cell_type": "code",
   "execution_count": 3,
   "metadata": {},
   "outputs": [
    {
     "data": {
      "text/html": [
       "<div>\n",
       "<style scoped>\n",
       "    .dataframe tbody tr th:only-of-type {\n",
       "        vertical-align: middle;\n",
       "    }\n",
       "\n",
       "    .dataframe tbody tr th {\n",
       "        vertical-align: top;\n",
       "    }\n",
       "\n",
       "    .dataframe thead th {\n",
       "        text-align: right;\n",
       "    }\n",
       "</style>\n",
       "<table border=\"1\" class=\"dataframe\">\n",
       "  <thead>\n",
       "    <tr style=\"text-align: right;\">\n",
       "      <th></th>\n",
       "      <th>1</th>\n",
       "      <th>2</th>\n",
       "      <th>3</th>\n",
       "    </tr>\n",
       "  </thead>\n",
       "  <tbody>\n",
       "    <tr>\n",
       "      <th>0</th>\n",
       "      <td>한국석유공사 / 설비 / 2020 상반기</td>\n",
       "      <td>광주전자공업고등학교 / 학점 1.7등급 / 인천 글로벌 숙련 진흥원 5일, 선반, ...</td>\n",
       "      <td>7.한국석유공사\\n\\n 1. 지원 분야 직무기술서 ‘직무수행 내용’ 중 본인이 가장...</td>\n",
       "    </tr>\n",
       "    <tr>\n",
       "      <th>1</th>\n",
       "      <td>CJ제일제당 / Food Sales / 2020 상반기</td>\n",
       "      <td>중경외시 / 상경계열 / 학점 3.92 / 토익 905, 토스 LV 6 / 봉사활동...</td>\n",
       "      <td>CJ제일제당 및 선택한 직무에 대한 지원동기는 무엇인가요? ① 선택한 직무에 관심을...</td>\n",
       "    </tr>\n",
       "    <tr>\n",
       "      <th>2</th>\n",
       "      <td>한국가스안전공사 / LP가스 안전지킴이사업 / 2020 상반기</td>\n",
       "      <td>제주대학교 / 학점 3.3 / 토익830 / 컴퓨터활용능력1급, 한국사1급</td>\n",
       "      <td>\\n1. 한국가스안전공사가 진행하는 사업에 관심을 갖고 공사에 지원한 동기에 대해 ...</td>\n",
       "    </tr>\n",
       "    <tr>\n",
       "      <th>3</th>\n",
       "      <td>코레일 / 사무영업 / 2020 상반기</td>\n",
       "      <td>충남대학교 / 학점 3.87 / 토익 835 / 토론동아리 3년, 컴활1급, 한국사1급</td>\n",
       "      <td>1.공동체의 일원으로서 가장 중요하게 생각하는 가치를 제시하고, 그 가치를 실천했던...</td>\n",
       "    </tr>\n",
       "    <tr>\n",
       "      <th>4</th>\n",
       "      <td>한국기술교육대학교 / 행정 / 2020 상반기</td>\n",
       "      <td>건국대학교 / 학점 4.0 / 토익 780 / 컴활 1급, 한국사1급</td>\n",
       "      <td>1. 본인이 가진 가장 뛰어난 점과 그렇게 판단한 이유, 고용노동연수원 업무수행에서...</td>\n",
       "    </tr>\n",
       "    <tr>\n",
       "      <th>...</th>\n",
       "      <td>...</td>\n",
       "      <td>...</td>\n",
       "      <td>...</td>\n",
       "    </tr>\n",
       "    <tr>\n",
       "      <th>10102</th>\n",
       "      <td>현대자동차 / 영업관리 / 2013 상반기</td>\n",
       "      <td>상명대학교 / 국제통상학 / 학점 4.3 / 토익 900, HSK 6급 / 해외인턴...</td>\n",
       "      <td>1. 현대자동차에 지원하게 된 동기 또는 해당 직무에 지원하게 된 동기는 무엇입니까...</td>\n",
       "    </tr>\n",
       "    <tr>\n",
       "      <th>10103</th>\n",
       "      <td>심팩 / 용접관리 / 2013 상반기</td>\n",
       "      <td>지방전문대 / 공업화학 / 학점 3.06</td>\n",
       "      <td>성격소개\\n\\n대부분의 사람들이 평가하는 첫인상은 소심하고 내성적인 성격일것이라 생...</td>\n",
       "    </tr>\n",
       "    <tr>\n",
       "      <th>10104</th>\n",
       "      <td>한국전력 / 인턴[송,배전] / 2013 상반기</td>\n",
       "      <td>지거국 / 전자공학 / 학점 3.7 / 토익 900대 / 음악봉사활동, 멘토링 등</td>\n",
       "      <td>[질문 1] 취업이라는 목표 이외에 인생의 큰 목표를 세운 경험, 그 목표를 실현하...</td>\n",
       "    </tr>\n",
       "    <tr>\n",
       "      <th>10105</th>\n",
       "      <td>한국전력 / 인턴[송,배전] / 2013 상반기</td>\n",
       "      <td>지거국 / 전자공학 / 학점 3.7 / 토익 900 / 음악봉사활동, 멘토링등</td>\n",
       "      <td>한전 자가소개서 양식 500자 12줄 이내\\n\\n[질문 1] 취업이라는 목표 이외에...</td>\n",
       "    </tr>\n",
       "    <tr>\n",
       "      <th>10106</th>\n",
       "      <td>한국전력 / 인턴[송,배전] / 2013 상반기</td>\n",
       "      <td>지거국 / 전자공학 / 학점 3.7 / 토익 900 / 음악봉사활동, 멘토링등</td>\n",
       "      <td>한전 자가소개서 양식 500자 12줄 이내\\n\\n[질문 1] 취업이라는 목표 이외에...</td>\n",
       "    </tr>\n",
       "  </tbody>\n",
       "</table>\n",
       "<p>10107 rows × 3 columns</p>\n",
       "</div>"
      ],
      "text/plain": [
       "                                        1  \\\n",
       "0                  한국석유공사 / 설비 / 2020 상반기   \n",
       "1          CJ제일제당 / Food Sales / 2020 상반기   \n",
       "2      한국가스안전공사 / LP가스 안전지킴이사업 / 2020 상반기   \n",
       "3                   코레일 / 사무영업 / 2020 상반기   \n",
       "4               한국기술교육대학교 / 행정 / 2020 상반기   \n",
       "...                                   ...   \n",
       "10102             현대자동차 / 영업관리 / 2013 상반기   \n",
       "10103                심팩 / 용접관리 / 2013 상반기   \n",
       "10104          한국전력 / 인턴[송,배전] / 2013 상반기   \n",
       "10105          한국전력 / 인턴[송,배전] / 2013 상반기   \n",
       "10106          한국전력 / 인턴[송,배전] / 2013 상반기   \n",
       "\n",
       "                                                       2  \\\n",
       "0      광주전자공업고등학교 / 학점 1.7등급 / 인천 글로벌 숙련 진흥원 5일, 선반, ...   \n",
       "1      중경외시 / 상경계열 / 학점 3.92 / 토익 905, 토스 LV 6 / 봉사활동...   \n",
       "2              제주대학교 / 학점 3.3 / 토익830 / 컴퓨터활용능력1급, 한국사1급   \n",
       "3       충남대학교 / 학점 3.87 / 토익 835 / 토론동아리 3년, 컴활1급, 한국사1급   \n",
       "4                 건국대학교 / 학점 4.0 / 토익 780 / 컴활 1급, 한국사1급   \n",
       "...                                                  ...   \n",
       "10102  상명대학교 / 국제통상학 / 학점 4.3 / 토익 900, HSK 6급 / 해외인턴...   \n",
       "10103                             지방전문대 / 공업화학 / 학점 3.06   \n",
       "10104      지거국 / 전자공학 / 학점 3.7 / 토익 900대 / 음악봉사활동, 멘토링 등   \n",
       "10105        지거국 / 전자공학 / 학점 3.7 / 토익 900 / 음악봉사활동, 멘토링등   \n",
       "10106        지거국 / 전자공학 / 학점 3.7 / 토익 900 / 음악봉사활동, 멘토링등   \n",
       "\n",
       "                                                       3  \n",
       "0      7.한국석유공사\\n\\n 1. 지원 분야 직무기술서 ‘직무수행 내용’ 중 본인이 가장...  \n",
       "1      CJ제일제당 및 선택한 직무에 대한 지원동기는 무엇인가요? ① 선택한 직무에 관심을...  \n",
       "2      \\n1. 한국가스안전공사가 진행하는 사업에 관심을 갖고 공사에 지원한 동기에 대해 ...  \n",
       "3      1.공동체의 일원으로서 가장 중요하게 생각하는 가치를 제시하고, 그 가치를 실천했던...  \n",
       "4      1. 본인이 가진 가장 뛰어난 점과 그렇게 판단한 이유, 고용노동연수원 업무수행에서...  \n",
       "...                                                  ...  \n",
       "10102  1. 현대자동차에 지원하게 된 동기 또는 해당 직무에 지원하게 된 동기는 무엇입니까...  \n",
       "10103  성격소개\\n\\n대부분의 사람들이 평가하는 첫인상은 소심하고 내성적인 성격일것이라 생...  \n",
       "10104  [질문 1] 취업이라는 목표 이외에 인생의 큰 목표를 세운 경험, 그 목표를 실현하...  \n",
       "10105  한전 자가소개서 양식 500자 12줄 이내\\n\\n[질문 1] 취업이라는 목표 이외에...  \n",
       "10106  한전 자가소개서 양식 500자 12줄 이내\\n\\n[질문 1] 취업이라는 목표 이외에...  \n",
       "\n",
       "[10107 rows x 3 columns]"
      ]
     },
     "execution_count": 3,
     "metadata": {},
     "output_type": "execute_result"
    }
   ],
   "source": [
    "raw_df"
   ]
  },
  {
   "cell_type": "code",
   "execution_count": 4,
   "metadata": {},
   "outputs": [],
   "source": [
    "df = pd.DataFrame(columns=[\"기업명\",\"지원부서\",\"지원시기\",\"학교\",\"학과\",\"학점\",\"어학\",\"자격증\",\"경험사항\",\"자소서\"])"
   ]
  },
  {
   "cell_type": "code",
   "execution_count": 5,
   "metadata": {},
   "outputs": [],
   "source": [
    "df[\"기업명\"] = raw_df['1'].str.split(\"/\",expand=True)[0]\n",
    "df[\"지원부서\"] = raw_df['1'].str.split(\"/\",expand=True)[1]\n",
    "df[\"지원시기\"] = raw_df['1'].str.split(\"/\",expand=True)[2]\n",
    "df[\"자소서\"] = raw_df[\"3\"]"
   ]
  },
  {
   "cell_type": "code",
   "execution_count": 6,
   "metadata": {
    "scrolled": false
   },
   "outputs": [
    {
     "data": {
      "text/html": [
       "<div>\n",
       "<style scoped>\n",
       "    .dataframe tbody tr th:only-of-type {\n",
       "        vertical-align: middle;\n",
       "    }\n",
       "\n",
       "    .dataframe tbody tr th {\n",
       "        vertical-align: top;\n",
       "    }\n",
       "\n",
       "    .dataframe thead th {\n",
       "        text-align: right;\n",
       "    }\n",
       "</style>\n",
       "<table border=\"1\" class=\"dataframe\">\n",
       "  <thead>\n",
       "    <tr style=\"text-align: right;\">\n",
       "      <th></th>\n",
       "      <th>기업명</th>\n",
       "      <th>지원부서</th>\n",
       "      <th>지원시기</th>\n",
       "      <th>학교</th>\n",
       "      <th>학과</th>\n",
       "      <th>학점</th>\n",
       "      <th>어학</th>\n",
       "      <th>자격증</th>\n",
       "      <th>경험사항</th>\n",
       "      <th>자소서</th>\n",
       "    </tr>\n",
       "  </thead>\n",
       "  <tbody>\n",
       "    <tr>\n",
       "      <th>0</th>\n",
       "      <td>한국석유공사</td>\n",
       "      <td>설비</td>\n",
       "      <td>2020 상반기</td>\n",
       "      <td>NaN</td>\n",
       "      <td>NaN</td>\n",
       "      <td>NaN</td>\n",
       "      <td>NaN</td>\n",
       "      <td>NaN</td>\n",
       "      <td>NaN</td>\n",
       "      <td>7.한국석유공사\\n\\n 1. 지원 분야 직무기술서 ‘직무수행 내용’ 중 본인이 가장...</td>\n",
       "    </tr>\n",
       "    <tr>\n",
       "      <th>1</th>\n",
       "      <td>CJ제일제당</td>\n",
       "      <td>Food Sales</td>\n",
       "      <td>2020 상반기</td>\n",
       "      <td>NaN</td>\n",
       "      <td>NaN</td>\n",
       "      <td>NaN</td>\n",
       "      <td>NaN</td>\n",
       "      <td>NaN</td>\n",
       "      <td>NaN</td>\n",
       "      <td>CJ제일제당 및 선택한 직무에 대한 지원동기는 무엇인가요? ① 선택한 직무에 관심을...</td>\n",
       "    </tr>\n",
       "    <tr>\n",
       "      <th>2</th>\n",
       "      <td>한국가스안전공사</td>\n",
       "      <td>LP가스 안전지킴이사업</td>\n",
       "      <td>2020 상반기</td>\n",
       "      <td>NaN</td>\n",
       "      <td>NaN</td>\n",
       "      <td>NaN</td>\n",
       "      <td>NaN</td>\n",
       "      <td>NaN</td>\n",
       "      <td>NaN</td>\n",
       "      <td>\\n1. 한국가스안전공사가 진행하는 사업에 관심을 갖고 공사에 지원한 동기에 대해 ...</td>\n",
       "    </tr>\n",
       "    <tr>\n",
       "      <th>3</th>\n",
       "      <td>코레일</td>\n",
       "      <td>사무영업</td>\n",
       "      <td>2020 상반기</td>\n",
       "      <td>NaN</td>\n",
       "      <td>NaN</td>\n",
       "      <td>NaN</td>\n",
       "      <td>NaN</td>\n",
       "      <td>NaN</td>\n",
       "      <td>NaN</td>\n",
       "      <td>1.공동체의 일원으로서 가장 중요하게 생각하는 가치를 제시하고, 그 가치를 실천했던...</td>\n",
       "    </tr>\n",
       "    <tr>\n",
       "      <th>4</th>\n",
       "      <td>한국기술교육대학교</td>\n",
       "      <td>행정</td>\n",
       "      <td>2020 상반기</td>\n",
       "      <td>NaN</td>\n",
       "      <td>NaN</td>\n",
       "      <td>NaN</td>\n",
       "      <td>NaN</td>\n",
       "      <td>NaN</td>\n",
       "      <td>NaN</td>\n",
       "      <td>1. 본인이 가진 가장 뛰어난 점과 그렇게 판단한 이유, 고용노동연수원 업무수행에서...</td>\n",
       "    </tr>\n",
       "    <tr>\n",
       "      <th>...</th>\n",
       "      <td>...</td>\n",
       "      <td>...</td>\n",
       "      <td>...</td>\n",
       "      <td>...</td>\n",
       "      <td>...</td>\n",
       "      <td>...</td>\n",
       "      <td>...</td>\n",
       "      <td>...</td>\n",
       "      <td>...</td>\n",
       "      <td>...</td>\n",
       "    </tr>\n",
       "    <tr>\n",
       "      <th>10102</th>\n",
       "      <td>현대자동차</td>\n",
       "      <td>영업관리</td>\n",
       "      <td>2013 상반기</td>\n",
       "      <td>NaN</td>\n",
       "      <td>NaN</td>\n",
       "      <td>NaN</td>\n",
       "      <td>NaN</td>\n",
       "      <td>NaN</td>\n",
       "      <td>NaN</td>\n",
       "      <td>1. 현대자동차에 지원하게 된 동기 또는 해당 직무에 지원하게 된 동기는 무엇입니까...</td>\n",
       "    </tr>\n",
       "    <tr>\n",
       "      <th>10103</th>\n",
       "      <td>심팩</td>\n",
       "      <td>용접관리</td>\n",
       "      <td>2013 상반기</td>\n",
       "      <td>NaN</td>\n",
       "      <td>NaN</td>\n",
       "      <td>NaN</td>\n",
       "      <td>NaN</td>\n",
       "      <td>NaN</td>\n",
       "      <td>NaN</td>\n",
       "      <td>성격소개\\n\\n대부분의 사람들이 평가하는 첫인상은 소심하고 내성적인 성격일것이라 생...</td>\n",
       "    </tr>\n",
       "    <tr>\n",
       "      <th>10104</th>\n",
       "      <td>한국전력</td>\n",
       "      <td>인턴[송,배전]</td>\n",
       "      <td>2013 상반기</td>\n",
       "      <td>NaN</td>\n",
       "      <td>NaN</td>\n",
       "      <td>NaN</td>\n",
       "      <td>NaN</td>\n",
       "      <td>NaN</td>\n",
       "      <td>NaN</td>\n",
       "      <td>[질문 1] 취업이라는 목표 이외에 인생의 큰 목표를 세운 경험, 그 목표를 실현하...</td>\n",
       "    </tr>\n",
       "    <tr>\n",
       "      <th>10105</th>\n",
       "      <td>한국전력</td>\n",
       "      <td>인턴[송,배전]</td>\n",
       "      <td>2013 상반기</td>\n",
       "      <td>NaN</td>\n",
       "      <td>NaN</td>\n",
       "      <td>NaN</td>\n",
       "      <td>NaN</td>\n",
       "      <td>NaN</td>\n",
       "      <td>NaN</td>\n",
       "      <td>한전 자가소개서 양식 500자 12줄 이내\\n\\n[질문 1] 취업이라는 목표 이외에...</td>\n",
       "    </tr>\n",
       "    <tr>\n",
       "      <th>10106</th>\n",
       "      <td>한국전력</td>\n",
       "      <td>인턴[송,배전]</td>\n",
       "      <td>2013 상반기</td>\n",
       "      <td>NaN</td>\n",
       "      <td>NaN</td>\n",
       "      <td>NaN</td>\n",
       "      <td>NaN</td>\n",
       "      <td>NaN</td>\n",
       "      <td>NaN</td>\n",
       "      <td>한전 자가소개서 양식 500자 12줄 이내\\n\\n[질문 1] 취업이라는 목표 이외에...</td>\n",
       "    </tr>\n",
       "  </tbody>\n",
       "</table>\n",
       "<p>10107 rows × 10 columns</p>\n",
       "</div>"
      ],
      "text/plain": [
       "              기업명            지원부서       지원시기   학교   학과   학점   어학  자격증 경험사항  \\\n",
       "0         한국석유공사              설비    2020 상반기  NaN  NaN  NaN  NaN  NaN  NaN   \n",
       "1         CJ제일제당      Food Sales    2020 상반기  NaN  NaN  NaN  NaN  NaN  NaN   \n",
       "2       한국가스안전공사    LP가스 안전지킴이사업    2020 상반기  NaN  NaN  NaN  NaN  NaN  NaN   \n",
       "3            코레일            사무영업    2020 상반기  NaN  NaN  NaN  NaN  NaN  NaN   \n",
       "4      한국기술교육대학교              행정    2020 상반기  NaN  NaN  NaN  NaN  NaN  NaN   \n",
       "...           ...             ...        ...  ...  ...  ...  ...  ...  ...   \n",
       "10102      현대자동차            영업관리    2013 상반기  NaN  NaN  NaN  NaN  NaN  NaN   \n",
       "10103         심팩            용접관리    2013 상반기  NaN  NaN  NaN  NaN  NaN  NaN   \n",
       "10104       한국전력        인턴[송,배전]    2013 상반기  NaN  NaN  NaN  NaN  NaN  NaN   \n",
       "10105       한국전력        인턴[송,배전]    2013 상반기  NaN  NaN  NaN  NaN  NaN  NaN   \n",
       "10106       한국전력        인턴[송,배전]    2013 상반기  NaN  NaN  NaN  NaN  NaN  NaN   \n",
       "\n",
       "                                                     자소서  \n",
       "0      7.한국석유공사\\n\\n 1. 지원 분야 직무기술서 ‘직무수행 내용’ 중 본인이 가장...  \n",
       "1      CJ제일제당 및 선택한 직무에 대한 지원동기는 무엇인가요? ① 선택한 직무에 관심을...  \n",
       "2      \\n1. 한국가스안전공사가 진행하는 사업에 관심을 갖고 공사에 지원한 동기에 대해 ...  \n",
       "3      1.공동체의 일원으로서 가장 중요하게 생각하는 가치를 제시하고, 그 가치를 실천했던...  \n",
       "4      1. 본인이 가진 가장 뛰어난 점과 그렇게 판단한 이유, 고용노동연수원 업무수행에서...  \n",
       "...                                                  ...  \n",
       "10102  1. 현대자동차에 지원하게 된 동기 또는 해당 직무에 지원하게 된 동기는 무엇입니까...  \n",
       "10103  성격소개\\n\\n대부분의 사람들이 평가하는 첫인상은 소심하고 내성적인 성격일것이라 생...  \n",
       "10104  [질문 1] 취업이라는 목표 이외에 인생의 큰 목표를 세운 경험, 그 목표를 실현하...  \n",
       "10105  한전 자가소개서 양식 500자 12줄 이내\\n\\n[질문 1] 취업이라는 목표 이외에...  \n",
       "10106  한전 자가소개서 양식 500자 12줄 이내\\n\\n[질문 1] 취업이라는 목표 이외에...  \n",
       "\n",
       "[10107 rows x 10 columns]"
      ]
     },
     "execution_count": 6,
     "metadata": {},
     "output_type": "execute_result"
    }
   ],
   "source": [
    "df"
   ]
  },
  {
   "cell_type": "code",
   "execution_count": 7,
   "metadata": {},
   "outputs": [],
   "source": [
    "first = raw_df[\"2\"].str.split(\"/\",expand=True)[0]\n",
    "second = raw_df[\"2\"].str.split(\"/\",expand=True)[1]\n",
    "third = raw_df[\"2\"].str.split(\"/\",expand=True)[2]\n",
    "#raw_df[\"2\"].str.split(\"/\",expand=True)[3]\n",
    "#raw_df[\"2\"].str.split(\"/\",expand=True)[4]\n",
    "#raw_df[\"2\"].str.split(\"/\",expand=True)[5]"
   ]
  },
  {
   "cell_type": "code",
   "execution_count": 8,
   "metadata": {},
   "outputs": [
    {
     "data": {
      "text/plain": [
       "0         인천 글로벌 숙련 진흥원 5일, 선반, 용접, 특수용접, 설비보전\n",
       "1                                     학점 3.92 \n",
       "2                                       토익830 \n",
       "3                                      토익 835 \n",
       "4                                      토익 780 \n",
       "                         ...                  \n",
       "10102                                  학점 4.3 \n",
       "10103                                  학점 3.06\n",
       "10104                                  학점 3.7 \n",
       "10105                                  학점 3.7 \n",
       "10106                                  학점 3.7 \n",
       "Name: 2, Length: 10107, dtype: object"
      ]
     },
     "execution_count": 8,
     "metadata": {},
     "output_type": "execute_result"
    }
   ],
   "source": [
    "third"
   ]
  },
  {
   "cell_type": "code",
   "execution_count": 9,
   "metadata": {},
   "outputs": [
    {
     "data": {
      "text/plain": [
       "1         학점 3.92 \n",
       "187        학점 3.9 \n",
       "191        학점 3.0 \n",
       "192       학점 3.04 \n",
       "199       학점 3.67 \n",
       "           ...    \n",
       "10102      학점 4.3 \n",
       "10103      학점 3.06\n",
       "10104      학점 3.7 \n",
       "10105      학점 3.7 \n",
       "10106      학점 3.7 \n",
       "Name: 2, Length: 7570, dtype: object"
      ]
     },
     "execution_count": 9,
     "metadata": {},
     "output_type": "execute_result"
    }
   ],
   "source": [
    "# 이름 바꾸기\n",
    "third[third.str.contains(\"학점\")==True]"
   ]
  },
  {
   "cell_type": "code",
   "execution_count": 10,
   "metadata": {},
   "outputs": [],
   "source": [
    "#컬럼에 집어넣기\n",
    "df.at[third[third.str.contains(\"학점\")==True].index,[\"학점\"]]=third[third.str.contains(\"학점\")==True]"
   ]
  },
  {
   "cell_type": "code",
   "execution_count": 11,
   "metadata": {},
   "outputs": [],
   "source": [
    "#컬럼 삭제\n",
    "third[third.str.contains(\"학점\")==True]=\"\""
   ]
  },
  {
   "cell_type": "code",
   "execution_count": 12,
   "metadata": {},
   "outputs": [
    {
     "data": {
      "text/plain": [
       "0              NaN\n",
       "1         학점 3.92 \n",
       "2              NaN\n",
       "3              NaN\n",
       "4              NaN\n",
       "           ...    \n",
       "10102      학점 4.3 \n",
       "10103      학점 3.06\n",
       "10104      학점 3.7 \n",
       "10105      학점 3.7 \n",
       "10106      학점 3.7 \n",
       "Name: 학점, Length: 10107, dtype: object"
      ]
     },
     "execution_count": 12,
     "metadata": {},
     "output_type": "execute_result"
    }
   ],
   "source": [
    "df[\"학점\"]"
   ]
  },
  {
   "cell_type": "code",
   "execution_count": 13,
   "metadata": {},
   "outputs": [],
   "source": [
    "third[third.str.contains(\"토익 \")==True]\n",
    "df.at[third[third.str.contains(\"토익 \")==True].index,[\"어학\"]]=third[third.str.contains(\"토익 \")==True]"
   ]
  },
  {
   "cell_type": "code",
   "execution_count": 14,
   "metadata": {},
   "outputs": [],
   "source": [
    "third[third.str.contains(\"토익 \")==True] = \"\""
   ]
  },
  {
   "cell_type": "code",
   "execution_count": 15,
   "metadata": {},
   "outputs": [
    {
     "data": {
      "text/plain": [
       "Series([], Name: 2, dtype: object)"
      ]
     },
     "execution_count": 15,
     "metadata": {},
     "output_type": "execute_result"
    }
   ],
   "source": [
    "third[third.str.contains(\"토익 \")==True]"
   ]
  },
  {
   "cell_type": "code",
   "execution_count": 16,
   "metadata": {},
   "outputs": [],
   "source": [
    "third[third.str.contains(\"토익\")==True]\n",
    "df.at[third[third.str.contains(\"토익\")==True].index,[\"어학\"]]=third[third.str.contains(\"토익\")==True]"
   ]
  },
  {
   "cell_type": "code",
   "execution_count": 17,
   "metadata": {},
   "outputs": [],
   "source": [
    "third[third.str.contains(\"토익\")==True] = \"\""
   ]
  },
  {
   "cell_type": "code",
   "execution_count": 18,
   "metadata": {},
   "outputs": [
    {
     "data": {
      "text/plain": [
       "Series([], Name: 2, dtype: object)"
      ]
     },
     "execution_count": 18,
     "metadata": {},
     "output_type": "execute_result"
    }
   ],
   "source": [
    "third[third.str.contains(\"토익\")==True]"
   ]
  },
  {
   "cell_type": "code",
   "execution_count": 19,
   "metadata": {},
   "outputs": [],
   "source": [
    "third[third.str.contains(\"오픽\")==True]\n",
    "df.at[third[third.str.contains(\"오픽\")==True].index,[\"어학\"]]=third[third.str.contains(\"오픽\")==True]"
   ]
  },
  {
   "cell_type": "code",
   "execution_count": 20,
   "metadata": {},
   "outputs": [],
   "source": [
    "third[third.str.contains(\"오픽\")==True]=\"\""
   ]
  },
  {
   "cell_type": "code",
   "execution_count": 21,
   "metadata": {},
   "outputs": [
    {
     "data": {
      "text/plain": [
       "Series([], Name: 2, dtype: object)"
      ]
     },
     "execution_count": 21,
     "metadata": {},
     "output_type": "execute_result"
    }
   ],
   "source": [
    "third[third.str.contains(\"오픽\")==True]"
   ]
  },
  {
   "cell_type": "code",
   "execution_count": 22,
   "metadata": {},
   "outputs": [],
   "source": [
    "third[third.str.contains(\"오픽 \")==True]\n",
    "df.at[third[third.str.contains(\"오픽 \")==True].index,[\"어학\"]]=third[third.str.contains(\"오픽 \")==True]"
   ]
  },
  {
   "cell_type": "code",
   "execution_count": 23,
   "metadata": {},
   "outputs": [],
   "source": [
    "third[third.str.contains(\"오픽 \")==True]=\"\""
   ]
  },
  {
   "cell_type": "code",
   "execution_count": 24,
   "metadata": {},
   "outputs": [
    {
     "data": {
      "text/plain": [
       "Series([], Name: 2, dtype: object)"
      ]
     },
     "execution_count": 24,
     "metadata": {},
     "output_type": "execute_result"
    }
   ],
   "source": [
    "third[third.str.contains(\"오픽 \")==True]"
   ]
  },
  {
   "cell_type": "code",
   "execution_count": 25,
   "metadata": {},
   "outputs": [],
   "source": [
    "third.to_csv(\"1.txt\")"
   ]
  },
  {
   "cell_type": "code",
   "execution_count": 26,
   "metadata": {},
   "outputs": [],
   "source": [
    "third[third.str.contains(\"토스 \")==True]\n",
    "df.at[third[third.str.contains(\"토스 \")==True].index,[\"어학\"]]=third[third.str.contains(\"토스 \")==True]"
   ]
  },
  {
   "cell_type": "code",
   "execution_count": 27,
   "metadata": {},
   "outputs": [],
   "source": [
    "third[third.str.contains(\"토스 \")==True]=\"\""
   ]
  },
  {
   "cell_type": "code",
   "execution_count": 28,
   "metadata": {},
   "outputs": [
    {
     "data": {
      "text/plain": [
       "Series([], Name: 2, dtype: object)"
      ]
     },
     "execution_count": 28,
     "metadata": {},
     "output_type": "execute_result"
    }
   ],
   "source": [
    "third[third.str.contains(\"토스 \")==True]"
   ]
  },
  {
   "cell_type": "code",
   "execution_count": 29,
   "metadata": {},
   "outputs": [],
   "source": [
    "third[third.str.contains(\"토스\")==True]\n",
    "df.at[third[third.str.contains(\"토스\")==True].index,[\"어학\"]]=third[third.str.contains(\"토스\")==True]"
   ]
  },
  {
   "cell_type": "code",
   "execution_count": 30,
   "metadata": {},
   "outputs": [],
   "source": [
    "third[third.str.contains(\"토스\")==True]=\"\""
   ]
  },
  {
   "cell_type": "code",
   "execution_count": 31,
   "metadata": {},
   "outputs": [
    {
     "data": {
      "text/plain": [
       "Series([], Name: 2, dtype: object)"
      ]
     },
     "execution_count": 31,
     "metadata": {},
     "output_type": "execute_result"
    }
   ],
   "source": [
    "third[third.str.contains(\"토스\")==True]"
   ]
  },
  {
   "cell_type": "code",
   "execution_count": 32,
   "metadata": {},
   "outputs": [],
   "source": [
    "third.to_csv(\"1.txt\")"
   ]
  },
  {
   "cell_type": "code",
   "execution_count": 33,
   "metadata": {},
   "outputs": [],
   "source": [
    "third[third.str.contains(\"OPIC\")==True]\n",
    "df.at[third[third.str.contains(\"OPIC\")==True].index,[\"어학\"]]=third[third.str.contains(\"OPIC\")==True]"
   ]
  },
  {
   "cell_type": "code",
   "execution_count": 34,
   "metadata": {},
   "outputs": [],
   "source": [
    "third[third.str.contains(\"OPIC\")==True]=\"\""
   ]
  },
  {
   "cell_type": "code",
   "execution_count": 35,
   "metadata": {},
   "outputs": [
    {
     "data": {
      "text/plain": [
       "Series([], Name: 2, dtype: object)"
      ]
     },
     "execution_count": 35,
     "metadata": {},
     "output_type": "execute_result"
    }
   ],
   "source": [
    "third[third.str.contains(\"OPIC\")==True]"
   ]
  },
  {
   "cell_type": "code",
   "execution_count": 36,
   "metadata": {},
   "outputs": [],
   "source": [
    "third[third.str.contains(\"무역영어\")==True]\n",
    "df.at[third[third.str.contains(\"무역영어\")==True].index,[\"어학\"]]=third[third.str.contains(\"무역영어\")==True]"
   ]
  },
  {
   "cell_type": "code",
   "execution_count": 37,
   "metadata": {},
   "outputs": [],
   "source": [
    "third[third.str.contains(\"무역영어\")==True]=\"\""
   ]
  },
  {
   "cell_type": "code",
   "execution_count": 38,
   "metadata": {},
   "outputs": [
    {
     "data": {
      "text/plain": [
       "Series([], Name: 2, dtype: object)"
      ]
     },
     "execution_count": 38,
     "metadata": {},
     "output_type": "execute_result"
    }
   ],
   "source": [
    "third[third.str.contains(\"무역영어\")==True]"
   ]
  },
  {
   "cell_type": "code",
   "execution_count": 39,
   "metadata": {},
   "outputs": [],
   "source": [
    "third.to_csv(\"1.txt\")"
   ]
  },
  {
   "cell_type": "code",
   "execution_count": 40,
   "metadata": {},
   "outputs": [],
   "source": [
    "third[third.str.contains(\"토플\")==True]\n",
    "df.at[third[third.str.contains(\"토플\")==True].index,[\"어학\"]]=third[third.str.contains(\"토플\")==True]"
   ]
  },
  {
   "cell_type": "code",
   "execution_count": 41,
   "metadata": {},
   "outputs": [],
   "source": [
    "third[third.str.contains(\"토플\")==True]=\"\""
   ]
  },
  {
   "cell_type": "code",
   "execution_count": 42,
   "metadata": {},
   "outputs": [
    {
     "data": {
      "text/plain": [
       "Series([], Name: 2, dtype: object)"
      ]
     },
     "execution_count": 42,
     "metadata": {},
     "output_type": "execute_result"
    }
   ],
   "source": [
    "third[third.str.contains(\"토플\")==True]"
   ]
  },
  {
   "cell_type": "code",
   "execution_count": 43,
   "metadata": {},
   "outputs": [],
   "source": [
    "third[third.str.contains(\"JPT\")==True]\n",
    "df.at[third[third.str.contains(\"JPT\")==True].index,[\"어학\"]]=third[third.str.contains(\"JPT\")==True]"
   ]
  },
  {
   "cell_type": "code",
   "execution_count": 44,
   "metadata": {},
   "outputs": [],
   "source": [
    "third[third.str.contains(\"JPT\")==True]=\"\""
   ]
  },
  {
   "cell_type": "code",
   "execution_count": 45,
   "metadata": {},
   "outputs": [
    {
     "data": {
      "text/plain": [
       "Series([], Name: 2, dtype: object)"
      ]
     },
     "execution_count": 45,
     "metadata": {},
     "output_type": "execute_result"
    }
   ],
   "source": [
    "third[third.str.contains(\"JPT\")==True]"
   ]
  },
  {
   "cell_type": "code",
   "execution_count": 46,
   "metadata": {},
   "outputs": [],
   "source": [
    "third[third.str.contains(\"TOEIC\")==True]\n",
    "df.at[third[third.str.contains(\"TOEIC\")==True].index,[\"어학\"]]=third[third.str.contains(\"TOEIC\")==True]"
   ]
  },
  {
   "cell_type": "code",
   "execution_count": 47,
   "metadata": {},
   "outputs": [],
   "source": [
    "third[third.str.contains(\"TOEIC\")==True]=\"\""
   ]
  },
  {
   "cell_type": "code",
   "execution_count": 48,
   "metadata": {},
   "outputs": [
    {
     "data": {
      "text/plain": [
       "Series([], Name: 2, dtype: object)"
      ]
     },
     "execution_count": 48,
     "metadata": {},
     "output_type": "execute_result"
    }
   ],
   "source": [
    "third[third.str.contains(\"TOEIC\")==True]"
   ]
  },
  {
   "cell_type": "code",
   "execution_count": 49,
   "metadata": {},
   "outputs": [],
   "source": [
    "third[third.str.contains(\"러시아어\")==True]\n",
    "df.at[third[third.str.contains(\"러시아어\")==True].index,[\"어학\"]]=third[third.str.contains(\"러시아어\")==True]"
   ]
  },
  {
   "cell_type": "code",
   "execution_count": 50,
   "metadata": {},
   "outputs": [],
   "source": [
    "third[third.str.contains(\"러시아어\")==True]=\"\""
   ]
  },
  {
   "cell_type": "code",
   "execution_count": 51,
   "metadata": {},
   "outputs": [
    {
     "data": {
      "text/plain": [
       "Series([], Name: 2, dtype: object)"
      ]
     },
     "execution_count": 51,
     "metadata": {},
     "output_type": "execute_result"
    }
   ],
   "source": [
    "third[third.str.contains(\"러시아어\")==True]"
   ]
  },
  {
   "cell_type": "code",
   "execution_count": 52,
   "metadata": {},
   "outputs": [],
   "source": [
    "third[third.str.contains(\"Im3\")==True]\n",
    "df.at[third[third.str.contains(\"Im3\")==True].index,[\"어학\"]]=third[third.str.contains(\"Im3\")==True]"
   ]
  },
  {
   "cell_type": "code",
   "execution_count": 53,
   "metadata": {},
   "outputs": [],
   "source": [
    "third[third.str.contains(\"Im3\")==True]=\"\""
   ]
  },
  {
   "cell_type": "code",
   "execution_count": 54,
   "metadata": {},
   "outputs": [
    {
     "data": {
      "text/plain": [
       "Series([], Name: 2, dtype: object)"
      ]
     },
     "execution_count": 54,
     "metadata": {},
     "output_type": "execute_result"
    }
   ],
   "source": [
    "third[third.str.contains(\"Im3\")==True]"
   ]
  },
  {
   "cell_type": "code",
   "execution_count": 55,
   "metadata": {},
   "outputs": [],
   "source": [
    "third[third.str.contains(\"IH\")==True]\n",
    "df.at[third[third.str.contains(\"IH\")==True].index,[\"어학\"]]=third[third.str.contains(\"IH\")==True]"
   ]
  },
  {
   "cell_type": "code",
   "execution_count": 56,
   "metadata": {},
   "outputs": [],
   "source": [
    "third[third.str.contains(\"IH\")==True]=\"\""
   ]
  },
  {
   "cell_type": "code",
   "execution_count": 57,
   "metadata": {},
   "outputs": [
    {
     "data": {
      "text/plain": [
       "Series([], Name: 2, dtype: object)"
      ]
     },
     "execution_count": 57,
     "metadata": {},
     "output_type": "execute_result"
    }
   ],
   "source": [
    "third[third.str.contains(\"IH\")==True]"
   ]
  },
  {
   "cell_type": "code",
   "execution_count": 58,
   "metadata": {},
   "outputs": [],
   "source": [
    "third[third.str.contains(\"HSK\")==True]\n",
    "df.at[third[third.str.contains(\"HSK\")==True].index,[\"어학\"]]=third[third.str.contains(\"HSK\")==True]"
   ]
  },
  {
   "cell_type": "code",
   "execution_count": 59,
   "metadata": {},
   "outputs": [],
   "source": [
    "third[third.str.contains(\"HSK\")==True]=\"\""
   ]
  },
  {
   "cell_type": "code",
   "execution_count": 60,
   "metadata": {},
   "outputs": [
    {
     "data": {
      "text/plain": [
       "Series([], Name: 2, dtype: object)"
      ]
     },
     "execution_count": 60,
     "metadata": {},
     "output_type": "execute_result"
    }
   ],
   "source": [
    "third[third.str.contains(\"IH\")==True]"
   ]
  },
  {
   "cell_type": "code",
   "execution_count": 61,
   "metadata": {},
   "outputs": [],
   "source": [
    "third[third.str.contains(\"영어\")==True]\n",
    "df.at[third[third.str.contains(\"영어\")==True].index,[\"어학\"]]=third[third.str.contains(\"영어\")==True]"
   ]
  },
  {
   "cell_type": "code",
   "execution_count": 62,
   "metadata": {},
   "outputs": [],
   "source": [
    "third[third.str.contains(\"영어\")==True]=\"\""
   ]
  },
  {
   "cell_type": "code",
   "execution_count": 63,
   "metadata": {},
   "outputs": [
    {
     "data": {
      "text/plain": [
       "Series([], Name: 2, dtype: object)"
      ]
     },
     "execution_count": 63,
     "metadata": {},
     "output_type": "execute_result"
    }
   ],
   "source": [
    "third[third.str.contains(\"영어\")==True]"
   ]
  },
  {
   "cell_type": "code",
   "execution_count": 64,
   "metadata": {},
   "outputs": [],
   "source": [
    "third.to_csv(\"1.txt\")"
   ]
  },
  {
   "cell_type": "code",
   "execution_count": 65,
   "metadata": {},
   "outputs": [
    {
     "data": {
      "text/html": [
       "<div>\n",
       "<style scoped>\n",
       "    .dataframe tbody tr th:only-of-type {\n",
       "        vertical-align: middle;\n",
       "    }\n",
       "\n",
       "    .dataframe tbody tr th {\n",
       "        vertical-align: top;\n",
       "    }\n",
       "\n",
       "    .dataframe thead th {\n",
       "        text-align: right;\n",
       "    }\n",
       "</style>\n",
       "<table border=\"1\" class=\"dataframe\">\n",
       "  <thead>\n",
       "    <tr style=\"text-align: right;\">\n",
       "      <th></th>\n",
       "      <th>기업명</th>\n",
       "      <th>지원부서</th>\n",
       "      <th>지원시기</th>\n",
       "      <th>학교</th>\n",
       "      <th>학과</th>\n",
       "      <th>학점</th>\n",
       "      <th>어학</th>\n",
       "      <th>자격증</th>\n",
       "      <th>경험사항</th>\n",
       "      <th>자소서</th>\n",
       "    </tr>\n",
       "  </thead>\n",
       "  <tbody>\n",
       "    <tr>\n",
       "      <th>0</th>\n",
       "      <td>한국석유공사</td>\n",
       "      <td>설비</td>\n",
       "      <td>2020 상반기</td>\n",
       "      <td>NaN</td>\n",
       "      <td>NaN</td>\n",
       "      <td>NaN</td>\n",
       "      <td>NaN</td>\n",
       "      <td>NaN</td>\n",
       "      <td>NaN</td>\n",
       "      <td>7.한국석유공사\\n\\n 1. 지원 분야 직무기술서 ‘직무수행 내용’ 중 본인이 가장...</td>\n",
       "    </tr>\n",
       "    <tr>\n",
       "      <th>1</th>\n",
       "      <td>CJ제일제당</td>\n",
       "      <td>Food Sales</td>\n",
       "      <td>2020 상반기</td>\n",
       "      <td>NaN</td>\n",
       "      <td>NaN</td>\n",
       "      <td>학점 3.92</td>\n",
       "      <td>NaN</td>\n",
       "      <td>NaN</td>\n",
       "      <td>NaN</td>\n",
       "      <td>CJ제일제당 및 선택한 직무에 대한 지원동기는 무엇인가요? ① 선택한 직무에 관심을...</td>\n",
       "    </tr>\n",
       "    <tr>\n",
       "      <th>2</th>\n",
       "      <td>한국가스안전공사</td>\n",
       "      <td>LP가스 안전지킴이사업</td>\n",
       "      <td>2020 상반기</td>\n",
       "      <td>NaN</td>\n",
       "      <td>NaN</td>\n",
       "      <td>NaN</td>\n",
       "      <td>토익830</td>\n",
       "      <td>NaN</td>\n",
       "      <td>NaN</td>\n",
       "      <td>\\n1. 한국가스안전공사가 진행하는 사업에 관심을 갖고 공사에 지원한 동기에 대해 ...</td>\n",
       "    </tr>\n",
       "    <tr>\n",
       "      <th>3</th>\n",
       "      <td>코레일</td>\n",
       "      <td>사무영업</td>\n",
       "      <td>2020 상반기</td>\n",
       "      <td>NaN</td>\n",
       "      <td>NaN</td>\n",
       "      <td>NaN</td>\n",
       "      <td>토익 835</td>\n",
       "      <td>NaN</td>\n",
       "      <td>NaN</td>\n",
       "      <td>1.공동체의 일원으로서 가장 중요하게 생각하는 가치를 제시하고, 그 가치를 실천했던...</td>\n",
       "    </tr>\n",
       "    <tr>\n",
       "      <th>4</th>\n",
       "      <td>한국기술교육대학교</td>\n",
       "      <td>행정</td>\n",
       "      <td>2020 상반기</td>\n",
       "      <td>NaN</td>\n",
       "      <td>NaN</td>\n",
       "      <td>NaN</td>\n",
       "      <td>토익 780</td>\n",
       "      <td>NaN</td>\n",
       "      <td>NaN</td>\n",
       "      <td>1. 본인이 가진 가장 뛰어난 점과 그렇게 판단한 이유, 고용노동연수원 업무수행에서...</td>\n",
       "    </tr>\n",
       "    <tr>\n",
       "      <th>...</th>\n",
       "      <td>...</td>\n",
       "      <td>...</td>\n",
       "      <td>...</td>\n",
       "      <td>...</td>\n",
       "      <td>...</td>\n",
       "      <td>...</td>\n",
       "      <td>...</td>\n",
       "      <td>...</td>\n",
       "      <td>...</td>\n",
       "      <td>...</td>\n",
       "    </tr>\n",
       "    <tr>\n",
       "      <th>10102</th>\n",
       "      <td>현대자동차</td>\n",
       "      <td>영업관리</td>\n",
       "      <td>2013 상반기</td>\n",
       "      <td>NaN</td>\n",
       "      <td>NaN</td>\n",
       "      <td>학점 4.3</td>\n",
       "      <td>NaN</td>\n",
       "      <td>NaN</td>\n",
       "      <td>NaN</td>\n",
       "      <td>1. 현대자동차에 지원하게 된 동기 또는 해당 직무에 지원하게 된 동기는 무엇입니까...</td>\n",
       "    </tr>\n",
       "    <tr>\n",
       "      <th>10103</th>\n",
       "      <td>심팩</td>\n",
       "      <td>용접관리</td>\n",
       "      <td>2013 상반기</td>\n",
       "      <td>NaN</td>\n",
       "      <td>NaN</td>\n",
       "      <td>학점 3.06</td>\n",
       "      <td>NaN</td>\n",
       "      <td>NaN</td>\n",
       "      <td>NaN</td>\n",
       "      <td>성격소개\\n\\n대부분의 사람들이 평가하는 첫인상은 소심하고 내성적인 성격일것이라 생...</td>\n",
       "    </tr>\n",
       "    <tr>\n",
       "      <th>10104</th>\n",
       "      <td>한국전력</td>\n",
       "      <td>인턴[송,배전]</td>\n",
       "      <td>2013 상반기</td>\n",
       "      <td>NaN</td>\n",
       "      <td>NaN</td>\n",
       "      <td>학점 3.7</td>\n",
       "      <td>NaN</td>\n",
       "      <td>NaN</td>\n",
       "      <td>NaN</td>\n",
       "      <td>[질문 1] 취업이라는 목표 이외에 인생의 큰 목표를 세운 경험, 그 목표를 실현하...</td>\n",
       "    </tr>\n",
       "    <tr>\n",
       "      <th>10105</th>\n",
       "      <td>한국전력</td>\n",
       "      <td>인턴[송,배전]</td>\n",
       "      <td>2013 상반기</td>\n",
       "      <td>NaN</td>\n",
       "      <td>NaN</td>\n",
       "      <td>학점 3.7</td>\n",
       "      <td>NaN</td>\n",
       "      <td>NaN</td>\n",
       "      <td>NaN</td>\n",
       "      <td>한전 자가소개서 양식 500자 12줄 이내\\n\\n[질문 1] 취업이라는 목표 이외에...</td>\n",
       "    </tr>\n",
       "    <tr>\n",
       "      <th>10106</th>\n",
       "      <td>한국전력</td>\n",
       "      <td>인턴[송,배전]</td>\n",
       "      <td>2013 상반기</td>\n",
       "      <td>NaN</td>\n",
       "      <td>NaN</td>\n",
       "      <td>학점 3.7</td>\n",
       "      <td>NaN</td>\n",
       "      <td>NaN</td>\n",
       "      <td>NaN</td>\n",
       "      <td>한전 자가소개서 양식 500자 12줄 이내\\n\\n[질문 1] 취업이라는 목표 이외에...</td>\n",
       "    </tr>\n",
       "  </tbody>\n",
       "</table>\n",
       "<p>10107 rows × 10 columns</p>\n",
       "</div>"
      ],
      "text/plain": [
       "              기업명            지원부서       지원시기   학교   학과         학점        어학  \\\n",
       "0         한국석유공사              설비    2020 상반기  NaN  NaN        NaN       NaN   \n",
       "1         CJ제일제당      Food Sales    2020 상반기  NaN  NaN   학점 3.92        NaN   \n",
       "2       한국가스안전공사    LP가스 안전지킴이사업    2020 상반기  NaN  NaN        NaN    토익830    \n",
       "3            코레일            사무영업    2020 상반기  NaN  NaN        NaN   토익 835    \n",
       "4      한국기술교육대학교              행정    2020 상반기  NaN  NaN        NaN   토익 780    \n",
       "...           ...             ...        ...  ...  ...        ...       ...   \n",
       "10102      현대자동차            영업관리    2013 상반기  NaN  NaN    학점 4.3        NaN   \n",
       "10103         심팩            용접관리    2013 상반기  NaN  NaN    학점 3.06       NaN   \n",
       "10104       한국전력        인턴[송,배전]    2013 상반기  NaN  NaN    학점 3.7        NaN   \n",
       "10105       한국전력        인턴[송,배전]    2013 상반기  NaN  NaN    학점 3.7        NaN   \n",
       "10106       한국전력        인턴[송,배전]    2013 상반기  NaN  NaN    학점 3.7        NaN   \n",
       "\n",
       "       자격증 경험사항                                                자소서  \n",
       "0      NaN  NaN  7.한국석유공사\\n\\n 1. 지원 분야 직무기술서 ‘직무수행 내용’ 중 본인이 가장...  \n",
       "1      NaN  NaN  CJ제일제당 및 선택한 직무에 대한 지원동기는 무엇인가요? ① 선택한 직무에 관심을...  \n",
       "2      NaN  NaN  \\n1. 한국가스안전공사가 진행하는 사업에 관심을 갖고 공사에 지원한 동기에 대해 ...  \n",
       "3      NaN  NaN  1.공동체의 일원으로서 가장 중요하게 생각하는 가치를 제시하고, 그 가치를 실천했던...  \n",
       "4      NaN  NaN  1. 본인이 가진 가장 뛰어난 점과 그렇게 판단한 이유, 고용노동연수원 업무수행에서...  \n",
       "...    ...  ...                                                ...  \n",
       "10102  NaN  NaN  1. 현대자동차에 지원하게 된 동기 또는 해당 직무에 지원하게 된 동기는 무엇입니까...  \n",
       "10103  NaN  NaN  성격소개\\n\\n대부분의 사람들이 평가하는 첫인상은 소심하고 내성적인 성격일것이라 생...  \n",
       "10104  NaN  NaN  [질문 1] 취업이라는 목표 이외에 인생의 큰 목표를 세운 경험, 그 목표를 실현하...  \n",
       "10105  NaN  NaN  한전 자가소개서 양식 500자 12줄 이내\\n\\n[질문 1] 취업이라는 목표 이외에...  \n",
       "10106  NaN  NaN  한전 자가소개서 양식 500자 12줄 이내\\n\\n[질문 1] 취업이라는 목표 이외에...  \n",
       "\n",
       "[10107 rows x 10 columns]"
      ]
     },
     "execution_count": 65,
     "metadata": {},
     "output_type": "execute_result"
    }
   ],
   "source": [
    "df"
   ]
  },
  {
   "cell_type": "markdown",
   "metadata": {},
   "source": [
    "# 자격증 및 경험사항"
   ]
  },
  {
   "cell_type": "code",
   "execution_count": 67,
   "metadata": {},
   "outputs": [],
   "source": [
    "third[third.str.contains(\"세종\")==True]\n",
    "df.at[third[third.str.contains(\"세종\")==True].index,[\"자격증\"]]=\"한국사검정능력1급, GAIQ고급\""
   ]
  },
  {
   "cell_type": "code",
   "execution_count": 68,
   "metadata": {},
   "outputs": [],
   "source": [
    "third[third.str.contains(\"세종\")==True]\n",
    "df.at[third[third.str.contains(\"세종\")==True].index,[\"경험사항\"]]=\"세종문화회관 인턴 (2개월), 구립망원청소년문화센터 계약직 (6개월), CJ ONE 대학생 서포터즈 3기 (3개월), 라틴음악동아리 (2년), 국악동아리 (6개월)\""
   ]
  },
  {
   "cell_type": "code",
   "execution_count": 69,
   "metadata": {},
   "outputs": [],
   "source": [
    "third[third.str.contains(\"세종\")==True]=\"\""
   ]
  },
  {
   "cell_type": "code",
   "execution_count": 70,
   "metadata": {},
   "outputs": [],
   "source": [
    "third[third.str.contains(\"인천 글로벌\")==True]\n",
    "df.at[third[third.str.contains(\"인천 글로벌\")==True].index,[\"경험사항\"]]=\"인천 글로벌 숙련 진흥원, 선반, 용접 ,특수용접, 설비보전\""
   ]
  },
  {
   "cell_type": "code",
   "execution_count": 71,
   "metadata": {},
   "outputs": [],
   "source": [
    "third[third.str.contains(\"인천 글로벌\")==True]=\"\""
   ]
  },
  {
   "cell_type": "code",
   "execution_count": 72,
   "metadata": {},
   "outputs": [],
   "source": [
    "third[third.str.contains(\"한국사능력검정시험 1급$\")==True]\n",
    "df.at[third[third.str.contains(\"한국사능력검정시험 1급$\")==True].index,[\"자격증\"]]=\"한국사검정능력1급\""
   ]
  },
  {
   "cell_type": "code",
   "execution_count": 73,
   "metadata": {},
   "outputs": [],
   "source": [
    "third[third.str.contains(\"한국사능력검정시험 1급$\")==True]=\"\""
   ]
  },
  {
   "cell_type": "code",
   "execution_count": 74,
   "metadata": {},
   "outputs": [
    {
     "data": {
      "text/plain": [
       "Series([], Name: 2, dtype: object)"
      ]
     },
     "execution_count": 74,
     "metadata": {},
     "output_type": "execute_result"
    }
   ],
   "source": [
    "third[third.str.contains(\"한국사능력검정시험 1급$\")==True]"
   ]
  },
  {
   "cell_type": "code",
   "execution_count": 75,
   "metadata": {},
   "outputs": [],
   "source": [
    "third[third.str.contains(\"LG 디스플레이\")==True]\n",
    "df.at[third[third.str.contains(\"LG 디스플레이\")==True].index,[\"자격증\"]]=\"한국사검정능력1급, 전기기사, 전기공사기사\""
   ]
  },
  {
   "cell_type": "code",
   "execution_count": 76,
   "metadata": {},
   "outputs": [],
   "source": [
    "third[third.str.contains(\"LG 디스플레이\")==True]\n",
    "df.at[third[third.str.contains(\"LG 디스플레이\")==True].index,[\"경험사항\"]]=\"LG 디스플레이 3년 근무\""
   ]
  },
  {
   "cell_type": "code",
   "execution_count": 77,
   "metadata": {},
   "outputs": [],
   "source": [
    "third[third.str.contains(\"LG 디스플레이\")==True]=\"\""
   ]
  },
  {
   "cell_type": "code",
   "execution_count": 78,
   "metadata": {},
   "outputs": [],
   "source": [
    "third[third.str.contains(\"산업안전기사\")==True]\n",
    "df.at[third[third.str.contains(\"산업안전기사\")==True].index,[\"자격증\"]]=\"한국사검정능력1급, 산업안전기사, 위험물산산업기사\""
   ]
  },
  {
   "cell_type": "code",
   "execution_count": 79,
   "metadata": {},
   "outputs": [],
   "source": [
    "third[third.str.contains(\"산업안전기사\")==True]=\"\""
   ]
  },
  {
   "cell_type": "code",
   "execution_count": 80,
   "metadata": {},
   "outputs": [],
   "source": [
    "third[third.str.contains(\"중소기업 계약직\")==True]\n",
    "df.at[third[third.str.contains(\"중소기업 계약직\")==True].index,[\"경험사항\"]]=\"중소기업 계약직 1년\""
   ]
  },
  {
   "cell_type": "code",
   "execution_count": 81,
   "metadata": {},
   "outputs": [],
   "source": [
    "third[third.str.contains(\"중소기업 계약직\")==True]=\"\""
   ]
  },
  {
   "cell_type": "code",
   "execution_count": 82,
   "metadata": {},
   "outputs": [],
   "source": [
    "third[third.str.contains(\"SAS Certified\")==True] \n",
    "df.at[third[third.str.contains(\"SAS Certified\")==True].index,[\"경험사항\"]]=\"SAS Certified Base Programmer for SAS 9, SAS Certified Advanced Programmer for SAS 9 SQLD, GBSA SW-tech 전문교육 1기 (Data Scientist Academy) (1개월), 넥슨코리아 데이터분석 인턴 (6개월)\""
   ]
  },
  {
   "cell_type": "code",
   "execution_count": 83,
   "metadata": {},
   "outputs": [],
   "source": [
    "third[third.str.contains(\"SAS Certified\")==True]=\"\""
   ]
  },
  {
   "cell_type": "code",
   "execution_count": 84,
   "metadata": {},
   "outputs": [],
   "source": [
    "third[third.str.contains(\"중소기업인턴\")==True]\n",
    "df.at[third[third.str.contains(\"중소기업인턴\")==True].index,[\"경험사항\"]]=\"중소기업인턴\""
   ]
  },
  {
   "cell_type": "code",
   "execution_count": 85,
   "metadata": {},
   "outputs": [],
   "source": [
    "third[third.str.contains(\"중소기업인턴\")==True]\n",
    "df.at[third[third.str.contains(\"중소기업인턴\")==True].index,[\"자격증\"]]=\"한국사검정능력2급\""
   ]
  },
  {
   "cell_type": "code",
   "execution_count": 86,
   "metadata": {},
   "outputs": [],
   "source": [
    "third[third.str.contains(\"중소기업인턴\")==True]=\"\""
   ]
  },
  {
   "cell_type": "code",
   "execution_count": 87,
   "metadata": {},
   "outputs": [],
   "source": [
    "third[third.str.contains(\"컴퓨터활용능력 1급\")==True]\n",
    "df.at[third[third.str.contains(\"컴퓨터활용능력 1급\")==True].index,[\"자격증\"]]=third[third.str.contains(\"컴퓨터활용능력 1급\")==True]"
   ]
  },
  {
   "cell_type": "code",
   "execution_count": 88,
   "metadata": {},
   "outputs": [],
   "source": [
    "third[third.str.contains(\"컴퓨터활용능력 1급\")==True]=\"\""
   ]
  },
  {
   "cell_type": "code",
   "execution_count": 89,
   "metadata": {},
   "outputs": [],
   "source": [
    "third[third.str.contains(\"학과 학생회\")==True]\n",
    "df.at[third[third.str.contains(\"학과 학생회\")==True].index,[\"경험사항\"]]=\"학과 학생회 (2년)\""
   ]
  },
  {
   "cell_type": "code",
   "execution_count": 90,
   "metadata": {},
   "outputs": [],
   "source": [
    "third[third.str.contains(\"학과 학생회\")==True]\n",
    "df.at[third[third.str.contains(\"학과 학생회\")==True].index,[\"자격증\"]]=\"컴퓨터활용능력 2급\""
   ]
  },
  {
   "cell_type": "code",
   "execution_count": 91,
   "metadata": {},
   "outputs": [],
   "source": [
    "third[third.str.contains(\"학과 학생회\")==True]=\"\""
   ]
  },
  {
   "cell_type": "code",
   "execution_count": 92,
   "metadata": {},
   "outputs": [],
   "source": [
    "third[third.str.contains(\"2018\")==True]\n",
    "df.at[third[third.str.contains(\"2018\")==True].index,[\"경험사항\"]]=third[third.str.contains(\"2018\")==True]"
   ]
  },
  {
   "cell_type": "code",
   "execution_count": 93,
   "metadata": {},
   "outputs": [],
   "source": [
    "third[third.str.contains(\"2018\")==True]=\"\""
   ]
  },
  {
   "cell_type": "code",
   "execution_count": 94,
   "metadata": {},
   "outputs": [],
   "source": [
    "third.to_csv(\"1.txt\")"
   ]
  },
  {
   "cell_type": "code",
   "execution_count": 95,
   "metadata": {},
   "outputs": [],
   "source": [
    "third[third.str.contains(\"한전\")==True]\n",
    "df.at[third[third.str.contains(\"한전\")==True].index,[\"경험사항\"]]=\"한전 kps 인턴\""
   ]
  },
  {
   "cell_type": "code",
   "execution_count": 96,
   "metadata": {},
   "outputs": [],
   "source": [
    "third[third.str.contains(\"한전\")==True]\n",
    "df.at[third[third.str.contains(\"한전\")==True].index,[\"자격증\"]]=\"한국사검정능력 2급, 전기기사\""
   ]
  },
  {
   "cell_type": "code",
   "execution_count": 97,
   "metadata": {},
   "outputs": [],
   "source": [
    "third[third.str.contains(\"한전\")==True]=\"\""
   ]
  },
  {
   "cell_type": "code",
   "execution_count": 98,
   "metadata": {},
   "outputs": [],
   "source": [
    "third[third.str.contains(\"한자\")==True]\n",
    "df.at[third[third.str.contains(\"한자\")==True].index,[\"자격증\"]]=third[third.str.contains(\"한자\")==True]"
   ]
  },
  {
   "cell_type": "code",
   "execution_count": 99,
   "metadata": {},
   "outputs": [],
   "source": [
    "third[third.str.contains(\"한자\")==True]=\"\""
   ]
  },
  {
   "cell_type": "code",
   "execution_count": 100,
   "metadata": {},
   "outputs": [],
   "source": [
    "third[third.str.contains(\"정보처리기사\")==True]\n",
    "df.at[third[third.str.contains(\"정보처리기사\")==True].index,[\"자격증\"]]=third[third.str.contains(\"정보처리기사\")==True]"
   ]
  },
  {
   "cell_type": "code",
   "execution_count": 101,
   "metadata": {},
   "outputs": [],
   "source": [
    "third[third.str.contains(\"정보처리기사\")==True]=\"\""
   ]
  },
  {
   "cell_type": "code",
   "execution_count": 102,
   "metadata": {},
   "outputs": [],
   "source": [
    "third[third.str.contains(\"재경관리사\")==True]\n",
    "df.at[third[third.str.contains(\"재경관리사\")==True].index,[\"자격증\"]]=third[third.str.contains(\"재경관리사\")==True]"
   ]
  },
  {
   "cell_type": "code",
   "execution_count": 103,
   "metadata": {},
   "outputs": [],
   "source": [
    "third[third.str.contains(\"재경관리사\")==True]=\"\""
   ]
  },
  {
   "cell_type": "code",
   "execution_count": 104,
   "metadata": {},
   "outputs": [],
   "source": [
    "third[third.str.contains(\"금융감독원\")==True]\n",
    "df.at[third[third.str.contains(\"금융감독원\")==True].index,[\"경험사항\"]]=third[third.str.contains(\"금융감독원\")==True]"
   ]
  },
  {
   "cell_type": "code",
   "execution_count": 105,
   "metadata": {},
   "outputs": [],
   "source": [
    "third[third.str.contains(\"금융감독원\")==True]=\"\""
   ]
  },
  {
   "cell_type": "code",
   "execution_count": 106,
   "metadata": {},
   "outputs": [],
   "source": [
    "third[third.str.contains(\"기술보증끔\")==True]\n",
    "df.at[third[third.str.contains(\"기술보증끔\")==True].index,[\"경험사항\"]]=\"기술보증기금 체험형인턴 (2015 하반기)\""
   ]
  },
  {
   "cell_type": "code",
   "execution_count": 107,
   "metadata": {},
   "outputs": [],
   "source": [
    "third[third.str.contains(\"기술보증끔\")==True]\n",
    "df.at[third[third.str.contains(\"기술보증끔\")==True].index,[\"자격증\"]]=\"컴퓨터활용능력1급\""
   ]
  },
  {
   "cell_type": "code",
   "execution_count": 108,
   "metadata": {},
   "outputs": [],
   "source": [
    "third[third.str.contains(\"기술보증끔\")==True]=\"\""
   ]
  },
  {
   "cell_type": "code",
   "execution_count": 109,
   "metadata": {},
   "outputs": [],
   "source": [
    "third[third.str.contains(\"한국사검정능력 1급\")==True]\n",
    "df.at[third[third.str.contains(\"한국사검정능력 1급\")==True].index,[\"자격증\"]]=third[third.str.contains(\"한국사검정능력 1급\")==True]"
   ]
  },
  {
   "cell_type": "code",
   "execution_count": 110,
   "metadata": {},
   "outputs": [],
   "source": [
    "third[third.str.contains(\"한국사검정능력 1급\")==True]=\"\""
   ]
  },
  {
   "cell_type": "code",
   "execution_count": 111,
   "metadata": {},
   "outputs": [],
   "source": [
    "third[third.str.contains(\"한국사$\")==True]\n",
    "df.at[third[third.str.contains(\"한국사$\")==True].index,[\"자격증\"]]=third[third.str.contains(\"한국사$\")==True]"
   ]
  },
  {
   "cell_type": "code",
   "execution_count": 112,
   "metadata": {},
   "outputs": [],
   "source": [
    "third[third.str.contains(\"한국사$\")==True]=\"\""
   ]
  },
  {
   "cell_type": "code",
   "execution_count": 113,
   "metadata": {},
   "outputs": [],
   "source": [
    "third[third.str.contains(\"1팀\")==True]\n",
    "df.at[third[third.str.contains(\"1팀\")==True].index,[\"경험사항\"]]=\"1팀1기업 프로젝트 금상수상, 포항흥해황금들녘 허수아비 문화축제 대상수상\""
   ]
  },
  {
   "cell_type": "code",
   "execution_count": 114,
   "metadata": {},
   "outputs": [],
   "source": [
    "third[third.str.contains(\"1팀\")==True]\n",
    "df.at[third[third.str.contains(\"1팀\")==True].index,[\"자격증\"]]=\"(기능사 : 위험물,용접,특수용접,선반,밀링,공유압), (산업기사 : 위험물산업기사)\""
   ]
  },
  {
   "cell_type": "code",
   "execution_count": 115,
   "metadata": {},
   "outputs": [],
   "source": [
    "third[third.str.contains(\"1팀\")==True]=\"\""
   ]
  },
  {
   "cell_type": "code",
   "execution_count": 116,
   "metadata": {},
   "outputs": [],
   "source": [
    "third[third.str.contains(\"실습\")==True]\n",
    "df.at[third[third.str.contains(\"실습\")==True].index,[\"경험사항\"]]=\"실습-원광대학병원영양팀(1개월), 봉사활동-복지센터(1년)\""
   ]
  },
  {
   "cell_type": "code",
   "execution_count": 117,
   "metadata": {},
   "outputs": [],
   "source": [
    "third[third.str.contains(\"실습\")==True]\n",
    "df.at[third[third.str.contains(\"실습\")==True].index,[\"자격증\"]]=\"영양사면허증, 위생사면허증, 한식조리기능사, 햅썹팀장과정수료증, 푸트예술치료사자격증\""
   ]
  },
  {
   "cell_type": "code",
   "execution_count": 118,
   "metadata": {},
   "outputs": [],
   "source": [
    "third[third.str.contains(\"실습\")==True]=\"\""
   ]
  },
  {
   "cell_type": "code",
   "execution_count": 119,
   "metadata": {},
   "outputs": [],
   "source": [
    "third[third.str.contains(\"무역협회\")==True]\n",
    "df.at[third[third.str.contains(\"무역협회\")==True].index,[\"경험사항\"]]=\"무역협회 인턴 3회, 사회 봉사 72시간\""
   ]
  },
  {
   "cell_type": "code",
   "execution_count": 120,
   "metadata": {},
   "outputs": [],
   "source": [
    "third[third.str.contains(\"무역협회\")==True]\n",
    "df.at[third[third.str.contains(\"무역협회\")==True].index,[\"자격증\"]]=\"운전면허 2종 보통, 매일경제테스트 우수등급\""
   ]
  },
  {
   "cell_type": "code",
   "execution_count": 121,
   "metadata": {},
   "outputs": [],
   "source": [
    "third[third.str.contains(\"무역협회\")==True]=\"\""
   ]
  },
  {
   "cell_type": "code",
   "execution_count": 122,
   "metadata": {},
   "outputs": [],
   "source": [
    "third.to_csv(\"1.txt\")"
   ]
  },
  {
   "cell_type": "code",
   "execution_count": 123,
   "metadata": {},
   "outputs": [],
   "source": [
    "third[third.str.contains(\"컴퓨터활용능력1급\")==True]\n",
    "df.at[third[third.str.contains(\"컴퓨터활용능력1급\")==True].index,[\"자격증\"]]=third[third.str.contains(\"컴퓨터활용능력1급\")==True]"
   ]
  },
  {
   "cell_type": "code",
   "execution_count": 124,
   "metadata": {},
   "outputs": [],
   "source": [
    "third[third.str.contains(\"컴퓨터활용능력1급\")==True]=\"\""
   ]
  },
  {
   "cell_type": "code",
   "execution_count": 125,
   "metadata": {},
   "outputs": [],
   "source": [
    "third[third.str.contains(\"컴퓨터활용능력 2급$\")==True]\n",
    "df.at[third[third.str.contains(\"컴퓨터활용능력 2급$\")==True].index,[\"자격증\"]]=third[third.str.contains(\"컴퓨터활용능력 2급$\")==True]"
   ]
  },
  {
   "cell_type": "code",
   "execution_count": 126,
   "metadata": {},
   "outputs": [],
   "source": [
    "third[third.str.contains(\"컴퓨터활용능력 2급$\")==True]=\"\""
   ]
  },
  {
   "cell_type": "code",
   "execution_count": 127,
   "metadata": {},
   "outputs": [],
   "source": [
    "third[third.str.contains(\"컴퓨터활용능력 2급,\")==True]\n",
    "df.at[third[third.str.contains(\"컴퓨터활용능력 2급,\")==True].index,[\"경험사항\"]]=\"보건복지부 금연서포터즈 (5개월), 한국노인인력개발원(5개월), 한국장학재단 나눔지기(6개월), 근로복지공단 기자단(8개월), 학교 취업지원동아리 회장(~1년 2개월) 등\""
   ]
  },
  {
   "cell_type": "code",
   "execution_count": 128,
   "metadata": {},
   "outputs": [],
   "source": [
    "third[third.str.contains(\"컴퓨터활용능력 2급,\")==True]\n",
    "df.at[third[third.str.contains(\"컴퓨터활용능력 2급,\")==True].index,[\"자격증\"]]=\"컴퓨터활용능력 2급, 워드프로세스, 정보처리기능사, 한국사 1급\""
   ]
  },
  {
   "cell_type": "code",
   "execution_count": 129,
   "metadata": {},
   "outputs": [],
   "source": [
    "third[third.str.contains(\"컴퓨터활용능력 2급,\")==True]=\"\""
   ]
  },
  {
   "cell_type": "code",
   "execution_count": 130,
   "metadata": {},
   "outputs": [],
   "source": [
    "third[third.str.contains(\"사회복지사\")==True]\n",
    "df.at[third[third.str.contains(\"사회복지사\")==True].index,[\"자격증\"]]=third[third.str.contains(\"사회복지사\")==True]"
   ]
  },
  {
   "cell_type": "code",
   "execution_count": 131,
   "metadata": {},
   "outputs": [],
   "source": [
    "third[third.str.contains(\"사회복지사\")==True]=\"\""
   ]
  },
  {
   "cell_type": "code",
   "execution_count": 132,
   "metadata": {},
   "outputs": [],
   "source": [
    "third[third.str.contains(\"CRA\")==True]\n",
    "df.at[third[third.str.contains(\"CRA\")==True].index,[\"경험사항\"]]=third[third.str.contains(\"CRA\")==True]"
   ]
  },
  {
   "cell_type": "code",
   "execution_count": 133,
   "metadata": {},
   "outputs": [],
   "source": [
    "third[third.str.contains(\"CRA\")==True]=\"\""
   ]
  },
  {
   "cell_type": "code",
   "execution_count": 134,
   "metadata": {},
   "outputs": [],
   "source": [
    "third[third.str.contains(\"아르바이트경험\")==True]\n",
    "df.at[third[third.str.contains(\"아르바이트경험\")==True].index,[\"경험사항\"]]=third[third.str.contains(\"아르바이트경험\")==True]"
   ]
  },
  {
   "cell_type": "code",
   "execution_count": 135,
   "metadata": {},
   "outputs": [],
   "source": [
    "third[third.str.contains(\"아르바이트경험\")==True]=\"\""
   ]
  },
  {
   "cell_type": "code",
   "execution_count": 136,
   "metadata": {},
   "outputs": [],
   "source": [
    "third[third.str.contains(\"인턴, 봉사활동\")==True]\n",
    "df.at[third[third.str.contains(\"인턴, 봉사활동\")==True].index,[\"경험사항\"]]=third[third.str.contains(\"인턴, 봉사활동\")==True]"
   ]
  },
  {
   "cell_type": "code",
   "execution_count": 137,
   "metadata": {},
   "outputs": [],
   "source": [
    "third[third.str.contains(\"인턴, 봉사활동\")==True]=\"\""
   ]
  },
  {
   "cell_type": "code",
   "execution_count": 138,
   "metadata": {},
   "outputs": [],
   "source": [
    "third[third.str.contains(\"봉사활동\")==True]\n",
    "df.at[third[third.str.contains(\"봉사활동\")==True].index,[\"경험사항\"]]=third[third.str.contains(\"봉사활동\")==True]"
   ]
  },
  {
   "cell_type": "code",
   "execution_count": 139,
   "metadata": {},
   "outputs": [],
   "source": [
    "third[third.str.contains(\"봉사활동\")==True]=\"\""
   ]
  },
  {
   "cell_type": "code",
   "execution_count": 140,
   "metadata": {},
   "outputs": [],
   "source": [
    "third.to_csv(\"1.txt\")"
   ]
  },
  {
   "cell_type": "code",
   "execution_count": 141,
   "metadata": {},
   "outputs": [],
   "source": [
    "third[third.str.contains(\"대기업 인턴\")==True]\n",
    "df.at[third[third.str.contains(\"대기업 인턴\")==True].index,[\"경험사항\"]]=third[third.str.contains(\"대기업 인턴\")==True]"
   ]
  },
  {
   "cell_type": "code",
   "execution_count": 142,
   "metadata": {},
   "outputs": [],
   "source": [
    "third[third.str.contains(\"대기업 인턴\")==True]=\"\""
   ]
  },
  {
   "cell_type": "code",
   "execution_count": 143,
   "metadata": {},
   "outputs": [],
   "source": [
    "third[third.str.contains(\"인턴 2회\")==True]\n",
    "df.at[third[third.str.contains(\"인턴 2회\")==True].index,[\"경험사항\"]]=third[third.str.contains(\"인턴 2회\")==True]"
   ]
  },
  {
   "cell_type": "code",
   "execution_count": 144,
   "metadata": {},
   "outputs": [],
   "source": [
    "third[third.str.contains(\"인턴 2회\")==True]=\"\""
   ]
  },
  {
   "cell_type": "code",
   "execution_count": 145,
   "metadata": {},
   "outputs": [],
   "source": [
    "third[third.str.contains(\"인턴 1회\")==True]\n",
    "df.at[third[third.str.contains(\"인턴 1회\")==True].index,[\"경험사항\"]]=third[third.str.contains(\"인턴 1회\")==True]"
   ]
  },
  {
   "cell_type": "code",
   "execution_count": 146,
   "metadata": {},
   "outputs": [],
   "source": [
    "third[third.str.contains(\"인턴 1회\")==True]=\"\""
   ]
  },
  {
   "cell_type": "code",
   "execution_count": 147,
   "metadata": {},
   "outputs": [],
   "source": [
    "third[third.str.contains(\"인턴1회\")==True]\n",
    "df.at[third[third.str.contains(\"인턴1회\")==True].index,[\"경험사항\"]]=third[third.str.contains(\"인턴1회\")==True]"
   ]
  },
  {
   "cell_type": "code",
   "execution_count": 148,
   "metadata": {},
   "outputs": [],
   "source": [
    "third[third.str.contains(\"인턴1회\")==True]=\"\""
   ]
  },
  {
   "cell_type": "code",
   "execution_count": 149,
   "metadata": {},
   "outputs": [],
   "source": [
    "third[third.str.contains(\"외식업\")==True]\n",
    "df.at[third[third.str.contains(\"외식업\")==True].index,[\"경험사항\"]]=third[third.str.contains(\"외식업\")==True]"
   ]
  },
  {
   "cell_type": "code",
   "execution_count": 150,
   "metadata": {},
   "outputs": [],
   "source": [
    "third[third.str.contains(\"외식업\")==True]=\"\""
   ]
  },
  {
   "cell_type": "code",
   "execution_count": 151,
   "metadata": {},
   "outputs": [],
   "source": [
    "third[third.str.contains(\"금융권\")==True]\n",
    "df.at[third[third.str.contains(\"금융권\")==True].index,[\"경험사항\"]]=third[third.str.contains(\"금융권\")==True]"
   ]
  },
  {
   "cell_type": "code",
   "execution_count": 152,
   "metadata": {},
   "outputs": [],
   "source": [
    "third[third.str.contains(\"금융권\")==True]=\"\""
   ]
  },
  {
   "cell_type": "code",
   "execution_count": 153,
   "metadata": {},
   "outputs": [],
   "source": [
    "third[third.str.contains(\"LG\")==True]\n",
    "df.at[third[third.str.contains(\"LG\")==True].index,[\"경험사항\"]]=third[third.str.contains(\"LG\")==True]"
   ]
  },
  {
   "cell_type": "code",
   "execution_count": 154,
   "metadata": {},
   "outputs": [],
   "source": [
    "third[third.str.contains(\"LG\")==True]=\"\""
   ]
  },
  {
   "cell_type": "code",
   "execution_count": 155,
   "metadata": {},
   "outputs": [],
   "source": [
    "third[third.str.contains(\"지상파\")==True]\n",
    "df.at[third[third.str.contains(\"지상파\")==True].index,[\"경험사항\"]]=third[third.str.contains(\"지상파\")==True]"
   ]
  },
  {
   "cell_type": "code",
   "execution_count": 156,
   "metadata": {},
   "outputs": [],
   "source": [
    "third[third.str.contains(\"지상파\")==True]=\"\""
   ]
  },
  {
   "cell_type": "code",
   "execution_count": 157,
   "metadata": {},
   "outputs": [],
   "source": [
    "third[third.str.contains(\"해피무브\")==True]\n",
    "df.at[third[third.str.contains(\"해피무브\")==True].index,[\"경험사항\"]]=third[third.str.contains(\"해피무브\")==True]"
   ]
  },
  {
   "cell_type": "code",
   "execution_count": 158,
   "metadata": {},
   "outputs": [],
   "source": [
    "third[third.str.contains(\"해피무브\")==True]=\"\""
   ]
  },
  {
   "cell_type": "code",
   "execution_count": 159,
   "metadata": {},
   "outputs": [],
   "source": [
    "third[third.str.contains(\"봉사\")==True]\n",
    "df.at[third[third.str.contains(\"봉사\")==True].index,[\"경험사항\"]]=third[third.str.contains(\"봉사\")==True]"
   ]
  },
  {
   "cell_type": "code",
   "execution_count": 160,
   "metadata": {},
   "outputs": [],
   "source": [
    "third[third.str.contains(\"봉사\")==True]=\"\""
   ]
  },
  {
   "cell_type": "code",
   "execution_count": 161,
   "metadata": {},
   "outputs": [],
   "source": [
    "third[third.str.contains(\"인턴,\")==True]\n",
    "df.at[third[third.str.contains(\"인턴,\")==True].index,[\"경험사항\"]]=third[third.str.contains(\"인턴,\")==True]"
   ]
  },
  {
   "cell_type": "code",
   "execution_count": 162,
   "metadata": {},
   "outputs": [],
   "source": [
    "third[third.str.contains(\"인턴,\")==True]=\"\""
   ]
  },
  {
   "cell_type": "code",
   "execution_count": 163,
   "metadata": {},
   "outputs": [],
   "source": [
    "third[third.str.contains(\"대외활동\")==True]\n",
    "df.at[third[third.str.contains(\"대외활동\")==True].index,[\"경험사항\"]]=third[third.str.contains(\"대외활동\")==True]"
   ]
  },
  {
   "cell_type": "code",
   "execution_count": 164,
   "metadata": {},
   "outputs": [],
   "source": [
    "third[third.str.contains(\"대외활동\")==True]=\"\""
   ]
  },
  {
   "cell_type": "code",
   "execution_count": 165,
   "metadata": {},
   "outputs": [],
   "source": [
    "third[third.str.contains(\"인턴2회\")==True]\n",
    "df.at[third[third.str.contains(\"인턴2회\")==True].index,[\"경험사항\"]]=third[third.str.contains(\"인턴2회\")==True]"
   ]
  },
  {
   "cell_type": "code",
   "execution_count": 166,
   "metadata": {},
   "outputs": [],
   "source": [
    "third[third.str.contains(\"인턴2회\")==True]=\"\""
   ]
  },
  {
   "cell_type": "code",
   "execution_count": 167,
   "metadata": {},
   "outputs": [],
   "source": [
    "third[third.str.contains(\"삼성\")==True]\n",
    "df.at[third[third.str.contains(\"삼성\")==True].index,[\"경험사항\"]]=third[third.str.contains(\"삼성\")==True]"
   ]
  },
  {
   "cell_type": "code",
   "execution_count": 168,
   "metadata": {},
   "outputs": [],
   "source": [
    "third[third.str.contains(\"삼성\")==True]=\"\""
   ]
  },
  {
   "cell_type": "code",
   "execution_count": 169,
   "metadata": {},
   "outputs": [],
   "source": [
    "third[third.str.contains(\"대회\")==True]\n",
    "df.at[third[third.str.contains(\"대회\")==True].index,[\"경험사항\"]]=third[third.str.contains(\"대회\")==True]"
   ]
  },
  {
   "cell_type": "code",
   "execution_count": 170,
   "metadata": {},
   "outputs": [],
   "source": [
    "third[third.str.contains(\"대회\")==True]=\"\""
   ]
  },
  {
   "cell_type": "code",
   "execution_count": 171,
   "metadata": {},
   "outputs": [],
   "source": [
    "third[third.str.contains(\"한국사 1급\")==True]\n",
    "df.at[third[third.str.contains(\"한국사 1급\")==True].index,[\"자격증\"]]=\"한국사검정능력1급\""
   ]
  },
  {
   "cell_type": "code",
   "execution_count": 172,
   "metadata": {},
   "outputs": [],
   "source": [
    "third[third.str.contains(\"한국사 1급\")==True]=\"\""
   ]
  },
  {
   "cell_type": "code",
   "execution_count": 173,
   "metadata": {},
   "outputs": [],
   "source": [
    "third[third.str.contains(\"교내활동\")==True]\n",
    "df.at[third[third.str.contains(\"교내활동\")==True].index,[\"경험사항\"]]=third[third.str.contains(\"교내활동\")==True]"
   ]
  },
  {
   "cell_type": "code",
   "execution_count": 174,
   "metadata": {},
   "outputs": [],
   "source": [
    "third[third.str.contains(\"교내활동\")==True]=\"\""
   ]
  },
  {
   "cell_type": "code",
   "execution_count": 175,
   "metadata": {},
   "outputs": [],
   "source": [
    "third[third.str.contains(\"데이터분석\")==True]\n",
    "df.at[third[third.str.contains(\"데이터분석\")==True].index,[\"경험사항\"]]=third[third.str.contains(\"데이터분석\")==True]"
   ]
  },
  {
   "cell_type": "code",
   "execution_count": 176,
   "metadata": {},
   "outputs": [],
   "source": [
    "third[third.str.contains(\"데이터분석\")==True]=\"\""
   ]
  },
  {
   "cell_type": "code",
   "execution_count": 177,
   "metadata": {},
   "outputs": [],
   "source": [
    "third[third.str.contains(\"전자전파\")==True]\n",
    "df.at[third[third.str.contains(\"전자전파\")==True].index,[\"자격증\"]]=third[third.str.contains(\"전자전파\")==True]"
   ]
  },
  {
   "cell_type": "code",
   "execution_count": 178,
   "metadata": {},
   "outputs": [],
   "source": [
    "third[third.str.contains(\"전자전파\")==True]=\"\""
   ]
  },
  {
   "cell_type": "code",
   "execution_count": 179,
   "metadata": {},
   "outputs": [],
   "source": [
    "third.to_csv(\"1.txt\")"
   ]
  },
  {
   "cell_type": "code",
   "execution_count": 180,
   "metadata": {},
   "outputs": [],
   "source": [
    "third[third.str.contains(\"4.3\")==True]\n",
    "df.at[third[third.str.contains(\"4.3\")==True].index,[\"학점\"]]=third[third.str.contains(\"4.3\")==True]"
   ]
  },
  {
   "cell_type": "code",
   "execution_count": 181,
   "metadata": {},
   "outputs": [],
   "source": [
    "third[third.str.contains(\"4.3\")==True]=\"\""
   ]
  },
  {
   "cell_type": "code",
   "execution_count": 182,
   "metadata": {},
   "outputs": [],
   "source": [
    "third[third.str.contains(\"컴퓨터\")==True]\n",
    "df.at[third[third.str.contains(\"컴퓨터\")==True].index,[\"학과\"]]=third[third.str.contains(\"컴퓨터\")==True]"
   ]
  },
  {
   "cell_type": "code",
   "execution_count": 183,
   "metadata": {},
   "outputs": [],
   "source": [
    "third[third.str.contains(\"컴퓨터\")==True]=\"\""
   ]
  },
  {
   "cell_type": "code",
   "execution_count": 184,
   "metadata": {},
   "outputs": [],
   "source": [
    "third[third.str.contains(\"에너지\")==True]\n",
    "df.at[third[third.str.contains(\"에너지\")==True].index,[\"학과\"]]=third[third.str.contains(\"에너지\")==True]"
   ]
  },
  {
   "cell_type": "code",
   "execution_count": 185,
   "metadata": {},
   "outputs": [],
   "source": [
    "third[third.str.contains(\"에너지\")==True]=\"\""
   ]
  },
  {
   "cell_type": "code",
   "execution_count": 186,
   "metadata": {},
   "outputs": [],
   "source": [
    "third[third.str.contains(\"전자\")==True]\n",
    "df.at[third[third.str.contains(\"전자\")==True].index,[\"학과\"]]=third[third.str.contains(\"전자\")==True]"
   ]
  },
  {
   "cell_type": "code",
   "execution_count": 187,
   "metadata": {},
   "outputs": [],
   "source": [
    "third[third.str.contains(\"전자\")==True]=\"\""
   ]
  },
  {
   "cell_type": "code",
   "execution_count": 188,
   "metadata": {},
   "outputs": [],
   "source": [
    "third[third.str.contains(\"정보보호\")==True]\n",
    "df.at[third[third.str.contains(\"정보보호\")==True].index,[\"학과\"]]=third[third.str.contains(\"정보보호\")==True]"
   ]
  },
  {
   "cell_type": "code",
   "execution_count": 189,
   "metadata": {},
   "outputs": [],
   "source": [
    "third[third.str.contains(\"정보보호\")==True]=\"\""
   ]
  },
  {
   "cell_type": "code",
   "execution_count": 190,
   "metadata": {},
   "outputs": [],
   "source": [
    "third[third.str.contains(\"홍보광고\")==True]\n",
    "df.at[third[third.str.contains(\"홍보광고\")==True].index,[\"학과\"]]=third[third.str.contains(\"홍보광고\")==True]"
   ]
  },
  {
   "cell_type": "code",
   "execution_count": 191,
   "metadata": {},
   "outputs": [],
   "source": [
    "third[third.str.contains(\"홍보광고\")==True]=\"\""
   ]
  },
  {
   "cell_type": "code",
   "execution_count": 192,
   "metadata": {},
   "outputs": [],
   "source": [
    "third[third.str.contains(\"경제학\")==True]\n",
    "df.at[third[third.str.contains(\"경제학\")==True].index,[\"학과\"]]=third[third.str.contains(\"경제학\")==True]"
   ]
  },
  {
   "cell_type": "code",
   "execution_count": 193,
   "metadata": {},
   "outputs": [],
   "source": [
    "third[third.str.contains(\"경제학\")==True]=\"\""
   ]
  },
  {
   "cell_type": "code",
   "execution_count": 194,
   "metadata": {},
   "outputs": [],
   "source": [
    "third[third.str.contains(\"광고홍보\")==True]\n",
    "df.at[third[third.str.contains(\"광고홍보\")==True].index,[\"학과\"]]=third[third.str.contains(\"광고홍보\")==True]"
   ]
  },
  {
   "cell_type": "code",
   "execution_count": 195,
   "metadata": {},
   "outputs": [],
   "source": [
    "third[third.str.contains(\"광고홍보\")==True]=\"\""
   ]
  },
  {
   "cell_type": "code",
   "execution_count": 196,
   "metadata": {},
   "outputs": [],
   "source": [
    "third[third.str.contains(\"소프트웨어\")==True]\n",
    "df.at[third[third.str.contains(\"소프트웨어\")==True].index,[\"학과\"]]=third[third.str.contains(\"소프트웨어\")==True]"
   ]
  },
  {
   "cell_type": "code",
   "execution_count": 197,
   "metadata": {},
   "outputs": [],
   "source": [
    "third[third.str.contains(\"소프트웨어\")==True]=\"\""
   ]
  },
  {
   "cell_type": "code",
   "execution_count": 198,
   "metadata": {},
   "outputs": [],
   "source": [
    "third[third.str.contains(\"경제\")==True]\n",
    "df.at[third[third.str.contains(\"경제\")==True].index,[\"학과\"]]=third[third.str.contains(\"경제\")==True]"
   ]
  },
  {
   "cell_type": "code",
   "execution_count": 199,
   "metadata": {},
   "outputs": [],
   "source": [
    "third[third.str.contains(\"경제\")==True]=\"\""
   ]
  },
  {
   "cell_type": "code",
   "execution_count": 200,
   "metadata": {},
   "outputs": [],
   "source": [
    "third[third.str.contains(\"4.5\")==True]\n",
    "df.at[third[third.str.contains(\"4.5\")==True].index,[\"학점\"]]=third[third.str.contains(\"4.5\")==True]"
   ]
  },
  {
   "cell_type": "code",
   "execution_count": 201,
   "metadata": {},
   "outputs": [],
   "source": [
    "third[third.str.contains(\"4.5\")==True]=\"\""
   ]
  },
  {
   "cell_type": "code",
   "execution_count": 202,
   "metadata": {},
   "outputs": [],
   "source": [
    "third[third.str.contains(\"국제통상\")==True]\n",
    "df.at[third[third.str.contains(\"국제통상\")==True].index,[\"학과\"]]=third[third.str.contains(\"국제통상\")==True]"
   ]
  },
  {
   "cell_type": "code",
   "execution_count": 203,
   "metadata": {},
   "outputs": [],
   "source": [
    "third[third.str.contains(\"국제통상\")==True]=\"\""
   ]
  },
  {
   "cell_type": "code",
   "execution_count": 204,
   "metadata": {},
   "outputs": [],
   "source": [
    "third[third.str.contains(\"신소재공학\")==True]\n",
    "df.at[third[third.str.contains(\"신소재공학\")==True].index,[\"학과\"]]=third[third.str.contains(\"신소재공학\")==True]"
   ]
  },
  {
   "cell_type": "code",
   "execution_count": 205,
   "metadata": {},
   "outputs": [],
   "source": [
    "third[third.str.contains(\"신소재공학\")==True]=\"\""
   ]
  },
  {
   "cell_type": "code",
   "execution_count": 206,
   "metadata": {},
   "outputs": [],
   "source": [
    "third[third.str.contains(\"4.19\")==True]\n",
    "df.at[third[third.str.contains(\"4.19\")==True].index,[\"학점\"]]=third[third.str.contains(\"4.19\")==True]"
   ]
  },
  {
   "cell_type": "code",
   "execution_count": 207,
   "metadata": {},
   "outputs": [],
   "source": [
    "third[third.str.contains(\"4.19\")==True]=\"\""
   ]
  },
  {
   "cell_type": "code",
   "execution_count": 208,
   "metadata": {},
   "outputs": [],
   "source": [
    "third[third.str.contains(\"신문방송\")==True]\n",
    "df.at[third[third.str.contains(\"신문방송\")==True].index,[\"학과\"]]=third[third.str.contains(\"신문방송\")==True]"
   ]
  },
  {
   "cell_type": "code",
   "execution_count": 209,
   "metadata": {},
   "outputs": [],
   "source": [
    "third[third.str.contains(\"신문방송\")==True]=\"\""
   ]
  },
  {
   "cell_type": "code",
   "execution_count": 210,
   "metadata": {},
   "outputs": [],
   "source": [
    "third[third.str.contains(\"도시\")==True]\n",
    "df.at[third[third.str.contains(\"도시\")==True].index,[\"학과\"]]=third[third.str.contains(\"도시\")==True]"
   ]
  },
  {
   "cell_type": "code",
   "execution_count": 211,
   "metadata": {},
   "outputs": [],
   "source": [
    "third[third.str.contains(\"도시\")==True]=\"\""
   ]
  },
  {
   "cell_type": "code",
   "execution_count": 212,
   "metadata": {},
   "outputs": [],
   "source": [
    "third[third.str.contains(\"부동산\")==True]\n",
    "df.at[third[third.str.contains(\"부동산\")==True].index,[\"학과\"]]=third[third.str.contains(\"부동산\")==True]"
   ]
  },
  {
   "cell_type": "code",
   "execution_count": 213,
   "metadata": {},
   "outputs": [],
   "source": [
    "third[third.str.contains(\"부동산\")==True]=\"\""
   ]
  },
  {
   "cell_type": "code",
   "execution_count": 214,
   "metadata": {},
   "outputs": [],
   "source": [
    "third[third.str.contains(\"기계공학\")==True]\n",
    "df.at[third[third.str.contains(\"기계공학\")==True].index,[\"학과\"]]=third[third.str.contains(\"기계공학\")==True]"
   ]
  },
  {
   "cell_type": "code",
   "execution_count": 215,
   "metadata": {},
   "outputs": [],
   "source": [
    "third[third.str.contains(\"기계공학\")==True]=\"\""
   ]
  },
  {
   "cell_type": "code",
   "execution_count": 216,
   "metadata": {},
   "outputs": [],
   "source": [
    "third[third.str.contains(\"광고관련\")==True]\n",
    "df.at[third[third.str.contains(\"광고관련\")==True].index,[\"학과\"]]=third[third.str.contains(\"광고관련\")==True]"
   ]
  },
  {
   "cell_type": "code",
   "execution_count": 217,
   "metadata": {},
   "outputs": [],
   "source": [
    "third[third.str.contains(\"광고관련\")==True]=\"\""
   ]
  },
  {
   "cell_type": "code",
   "execution_count": 218,
   "metadata": {},
   "outputs": [],
   "source": [
    "third[third.str.contains(\"의류\")==True]\n",
    "df.at[third[third.str.contains(\"의류\")==True].index,[\"학과\"]]=third[third.str.contains(\"의류\")==True]"
   ]
  },
  {
   "cell_type": "code",
   "execution_count": 219,
   "metadata": {},
   "outputs": [],
   "source": [
    "third[third.str.contains(\"의류\")==True]=\"\""
   ]
  },
  {
   "cell_type": "code",
   "execution_count": 220,
   "metadata": {},
   "outputs": [],
   "source": [
    "third[third.str.contains(\"외교통상\")==True]\n",
    "df.at[third[third.str.contains(\"외교통상\")==True].index,[\"학과\"]]=third[third.str.contains(\"외교통상\")==True]"
   ]
  },
  {
   "cell_type": "code",
   "execution_count": 221,
   "metadata": {},
   "outputs": [],
   "source": [
    "third[third.str.contains(\"외교통상\")==True]=\"\""
   ]
  },
  {
   "cell_type": "code",
   "execution_count": 222,
   "metadata": {},
   "outputs": [],
   "source": [
    "third[third.str.contains(\"화학\")==True]\n",
    "df.at[third[third.str.contains(\"화학\")==True].index,[\"학과\"]]=third[third.str.contains(\"화학\")==True]"
   ]
  },
  {
   "cell_type": "code",
   "execution_count": 223,
   "metadata": {},
   "outputs": [],
   "source": [
    "third[third.str.contains(\"화학\")==True]=\"\""
   ]
  },
  {
   "cell_type": "code",
   "execution_count": 224,
   "metadata": {},
   "outputs": [],
   "source": [
    "third[third.str.contains(\"광고\")==True]\n",
    "df.at[third[third.str.contains(\"광고\")==True].index,[\"학과\"]]=third[third.str.contains(\"광고\")==True]"
   ]
  },
  {
   "cell_type": "code",
   "execution_count": 225,
   "metadata": {},
   "outputs": [],
   "source": [
    "third[third.str.contains(\"광고\")==True]=\"\""
   ]
  },
  {
   "cell_type": "code",
   "execution_count": 226,
   "metadata": {},
   "outputs": [],
   "source": [
    "third[third.str.contains(\"심리\")==True]\n",
    "df.at[third[third.str.contains(\"심리\")==True].index,[\"학과\"]]=third[third.str.contains(\"심리\")==True]"
   ]
  },
  {
   "cell_type": "code",
   "execution_count": 227,
   "metadata": {},
   "outputs": [],
   "source": [
    "third[third.str.contains(\"심리\")==True]=\"\""
   ]
  },
  {
   "cell_type": "code",
   "execution_count": 228,
   "metadata": {},
   "outputs": [],
   "source": [
    "third[third.str.contains(\"통계\")==True]\n",
    "df.at[third[third.str.contains(\"통계\")==True].index,[\"학과\"]]=third[third.str.contains(\"통계\")==True]"
   ]
  },
  {
   "cell_type": "code",
   "execution_count": 229,
   "metadata": {},
   "outputs": [],
   "source": [
    "third[third.str.contains(\"통계\")==True]=\"\""
   ]
  },
  {
   "cell_type": "code",
   "execution_count": 230,
   "metadata": {},
   "outputs": [],
   "source": [
    "third[third.str.contains(\"회계\")==True]\n",
    "df.at[third[third.str.contains(\"회계\")==True].index,[\"학과\"]]=third[third.str.contains(\"회계\")==True]"
   ]
  },
  {
   "cell_type": "code",
   "execution_count": 231,
   "metadata": {},
   "outputs": [],
   "source": [
    "third[third.str.contains(\"회계\")==True]=\"\""
   ]
  },
  {
   "cell_type": "code",
   "execution_count": 232,
   "metadata": {},
   "outputs": [],
   "source": [
    "third[third.str.contains(\"건축\")==True]\n",
    "df.at[third[third.str.contains(\"건축\")==True].index,[\"학과\"]]=third[third.str.contains(\"건축\")==True]"
   ]
  },
  {
   "cell_type": "code",
   "execution_count": 233,
   "metadata": {},
   "outputs": [],
   "source": [
    "third[third.str.contains(\"건축\")==True]=\"\""
   ]
  },
  {
   "cell_type": "code",
   "execution_count": 234,
   "metadata": {},
   "outputs": [],
   "source": [
    "third[third.str.contains(\"\\+경영\")==True]\n",
    "df.at[third[third.str.contains(\"\\+경영\")==True].index,[\"학과\"]]=third[third.str.contains(\"\\+경영\")==True]"
   ]
  },
  {
   "cell_type": "code",
   "execution_count": 235,
   "metadata": {},
   "outputs": [],
   "source": [
    "third[third.str.contains(\"\\+경영\")==True]=\"\""
   ]
  },
  {
   "cell_type": "code",
   "execution_count": 236,
   "metadata": {},
   "outputs": [],
   "source": [
    "third[third.str.contains(\"미디어\")==True]\n",
    "df.at[third[third.str.contains(\"미디어\")==True].index,[\"학과\"]]=third[third.str.contains(\"미디어\")==True]"
   ]
  },
  {
   "cell_type": "code",
   "execution_count": 237,
   "metadata": {},
   "outputs": [],
   "source": [
    "third[third.str.contains(\"미디어\")==True]=\"\""
   ]
  },
  {
   "cell_type": "code",
   "execution_count": 238,
   "metadata": {},
   "outputs": [],
   "source": [
    "third[third.str.contains(\"언론정보\")==True]\n",
    "df.at[third[third.str.contains(\"언론정보\")==True].index,[\"학과\"]]=third[third.str.contains(\"언론정보\")==True]"
   ]
  },
  {
   "cell_type": "code",
   "execution_count": 239,
   "metadata": {},
   "outputs": [],
   "source": [
    "third[third.str.contains(\"언론정보\")==True]=\"\""
   ]
  },
  {
   "cell_type": "code",
   "execution_count": 240,
   "metadata": {},
   "outputs": [],
   "source": [
    "third[third.str.contains(\"상경\")==True]\n",
    "df.at[third[third.str.contains(\"상경\")==True].index,[\"학과\"]]=third[third.str.contains(\"상경\")==True]"
   ]
  },
  {
   "cell_type": "code",
   "execution_count": 241,
   "metadata": {},
   "outputs": [],
   "source": [
    "third[third.str.contains(\"상경\")==True]=\"\""
   ]
  },
  {
   "cell_type": "code",
   "execution_count": 242,
   "metadata": {},
   "outputs": [],
   "source": [
    "third[third.str.contains(\"중문\")==True]\n",
    "df.at[third[third.str.contains(\"중문\")==True].index,[\"학과\"]]=third[third.str.contains(\"중문\")==True]"
   ]
  },
  {
   "cell_type": "code",
   "execution_count": 243,
   "metadata": {},
   "outputs": [],
   "source": [
    "third[third.str.contains(\"중문\")==True]=\"\""
   ]
  },
  {
   "cell_type": "code",
   "execution_count": 244,
   "metadata": {},
   "outputs": [],
   "source": [
    "third[third.str.contains(\"세포생물학\")==True]\n",
    "df.at[third[third.str.contains(\"세포생물학\")==True].index,[\"학과\"]]=third[third.str.contains(\"세포생물학\")==True]"
   ]
  },
  {
   "cell_type": "code",
   "execution_count": 245,
   "metadata": {},
   "outputs": [],
   "source": [
    "third[third.str.contains(\"세포생물학\")==True]=\"\""
   ]
  },
  {
   "cell_type": "code",
   "execution_count": 246,
   "metadata": {},
   "outputs": [],
   "source": [
    "third[third.str.contains(\"재료공학\")==True]\n",
    "df.at[third[third.str.contains(\"재료공학\")==True].index,[\"학과\"]]=third[third.str.contains(\"재료공학\")==True]"
   ]
  },
  {
   "cell_type": "code",
   "execution_count": 247,
   "metadata": {},
   "outputs": [],
   "source": [
    "third[third.str.contains(\"재료공학\")==True]=\"\""
   ]
  },
  {
   "cell_type": "code",
   "execution_count": 248,
   "metadata": {},
   "outputs": [],
   "source": [
    "third[third.str.contains(\"국제무역\")==True]\n",
    "df.at[third[third.str.contains(\"국제무역\")==True].index,[\"학과\"]]=third[third.str.contains(\"국제무역\")==True]"
   ]
  },
  {
   "cell_type": "code",
   "execution_count": 249,
   "metadata": {},
   "outputs": [],
   "source": [
    "third[third.str.contains(\"국제무역\")==True]=\"\""
   ]
  },
  {
   "cell_type": "code",
   "execution_count": 250,
   "metadata": {},
   "outputs": [],
   "source": [
    "third.to_csv(\"1.txt\")"
   ]
  },
  {
   "cell_type": "code",
   "execution_count": 251,
   "metadata": {},
   "outputs": [],
   "source": [
    "third[third.str.contains(\"정치외교학\")==True]\n",
    "df.at[third[third.str.contains(\"정치외교학\")==True].index,[\"학과\"]]=third[third.str.contains(\"정치외교학\")==True]"
   ]
  },
  {
   "cell_type": "code",
   "execution_count": 252,
   "metadata": {},
   "outputs": [],
   "source": [
    "third[third.str.contains(\"정치외교학\")==True]=\"\""
   ]
  },
  {
   "cell_type": "code",
   "execution_count": 253,
   "metadata": {},
   "outputs": [],
   "source": [
    "third[third.str.contains(\"금융\")==True]\n",
    "df.at[third[third.str.contains(\"금융\")==True].index,[\"학과\"]]=third[third.str.contains(\"금융\")==True]"
   ]
  },
  {
   "cell_type": "code",
   "execution_count": 254,
   "metadata": {},
   "outputs": [],
   "source": [
    "third[third.str.contains(\"금융\")==True]=\"\""
   ]
  },
  {
   "cell_type": "code",
   "execution_count": 255,
   "metadata": {},
   "outputs": [],
   "source": [
    "third[third.str.contains(\"화공\")==True]\n",
    "df.at[third[third.str.contains(\"화공\")==True].index,[\"학과\"]]=third[third.str.contains(\"화공\")==True]"
   ]
  },
  {
   "cell_type": "code",
   "execution_count": 256,
   "metadata": {},
   "outputs": [],
   "source": [
    "third[third.str.contains(\"화공\")==True]=\"\""
   ]
  },
  {
   "cell_type": "code",
   "execution_count": 257,
   "metadata": {},
   "outputs": [],
   "source": [
    "third[third.str.contains(\"정치외교\")==True]\n",
    "df.at[third[third.str.contains(\"정치외교\")==True].index,[\"학과\"]]=third[third.str.contains(\"정치외교\")==True]"
   ]
  },
  {
   "cell_type": "code",
   "execution_count": 258,
   "metadata": {},
   "outputs": [],
   "source": [
    "third[third.str.contains(\"정치외교\")==True]=\"\""
   ]
  },
  {
   "cell_type": "code",
   "execution_count": 264,
   "metadata": {},
   "outputs": [],
   "source": [
    "third[third.str.contains(\"복수\")==True]=\"\""
   ]
  },
  {
   "cell_type": "code",
   "execution_count": 265,
   "metadata": {},
   "outputs": [],
   "source": [
    "third[third.str.contains(\"복전\")==True]=\"\""
   ]
  },
  {
   "cell_type": "code",
   "execution_count": 266,
   "metadata": {},
   "outputs": [],
   "source": [
    "third[third.str.contains(\"부\")==True]=\"\""
   ]
  },
  {
   "cell_type": "code",
   "execution_count": 268,
   "metadata": {},
   "outputs": [],
   "source": [
    "third[third.str.contains(\"유\")==True]=\"\""
   ]
  },
  {
   "cell_type": "code",
   "execution_count": 271,
   "metadata": {},
   "outputs": [],
   "source": [
    "third[third.str.contains(\"경영\")==True]\n",
    "df.at[third[third.str.contains(\"경영\")==True].index,[\"학과\"]]=third[third.str.contains(\"경영\")==True]"
   ]
  },
  {
   "cell_type": "code",
   "execution_count": 274,
   "metadata": {},
   "outputs": [],
   "source": [
    "third[third.str.contains(\"경영\")==True]=\"\""
   ]
  },
  {
   "cell_type": "code",
   "execution_count": 277,
   "metadata": {},
   "outputs": [],
   "source": [
    "third[third.str.contains(\"경\")==True]=\"\""
   ]
  },
  {
   "cell_type": "code",
   "execution_count": 279,
   "metadata": {},
   "outputs": [],
   "source": [
    "third[third.str.contains(\"석사\")==True]=\"\""
   ]
  },
  {
   "cell_type": "code",
   "execution_count": 282,
   "metadata": {},
   "outputs": [],
   "source": [
    "third[third.str.contains(\"2회\")==True]=\"\""
   ]
  },
  {
   "cell_type": "code",
   "execution_count": 288,
   "metadata": {},
   "outputs": [],
   "source": [
    "third[third.str.contains(\"외\")==True]=\"\""
   ]
  },
  {
   "cell_type": "code",
   "execution_count": 289,
   "metadata": {},
   "outputs": [],
   "source": [
    "third[third.str.contains(\"홍\")==True]\n",
    "df.at[third[third.str.contains(\"홍\")==True].index,[\"학교\"]]=third[third.str.contains(\"홍\")==True]"
   ]
  },
  {
   "cell_type": "code",
   "execution_count": 290,
   "metadata": {},
   "outputs": [],
   "source": [
    "third[third.str.contains(\"홍\")==True]=\"\""
   ]
  }
 ],
 "metadata": {
  "kernelspec": {
   "display_name": "Python 3",
   "language": "python",
   "name": "python3"
  },
  "language_info": {
   "codemirror_mode": {
    "name": "ipython",
    "version": 3
   },
   "file_extension": ".py",
   "mimetype": "text/x-python",
   "name": "python",
   "nbconvert_exporter": "python",
   "pygments_lexer": "ipython3",
   "version": "3.7.6"
  }
 },
 "nbformat": 4,
 "nbformat_minor": 4
}
