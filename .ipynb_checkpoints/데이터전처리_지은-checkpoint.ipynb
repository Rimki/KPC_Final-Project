{
 "cells": [
  {
   "cell_type": "code",
   "execution_count": 2,
   "metadata": {},
   "outputs": [],
   "source": [
    "import pandas as pd\n",
    "import numpy as np"
   ]
  },
  {
   "cell_type": "code",
   "execution_count": 3,
   "metadata": {},
   "outputs": [],
   "source": [
    "raw_df = pd.read_csv(\"WriteData.csv\")"
   ]
  },
  {
   "cell_type": "code",
   "execution_count": 4,
   "metadata": {},
   "outputs": [],
   "source": [
    "raw_df1=pd.read_csv(\"20200807.csv\")"
   ]
  },
  {
   "cell_type": "code",
   "execution_count": 891,
   "metadata": {},
   "outputs": [],
   "source": [
    "raw_df2=pd.read_csv(\"20200811.csv\")"
   ]
  },
  {
   "cell_type": "code",
   "execution_count": 892,
   "metadata": {
    "scrolled": false
   },
   "outputs": [
    {
     "data": {
      "text/html": [
       "<div>\n",
       "<style scoped>\n",
       "    .dataframe tbody tr th:only-of-type {\n",
       "        vertical-align: middle;\n",
       "    }\n",
       "\n",
       "    .dataframe tbody tr th {\n",
       "        vertical-align: top;\n",
       "    }\n",
       "\n",
       "    .dataframe thead th {\n",
       "        text-align: right;\n",
       "    }\n",
       "</style>\n",
       "<table border=\"1\" class=\"dataframe\">\n",
       "  <thead>\n",
       "    <tr style=\"text-align: right;\">\n",
       "      <th></th>\n",
       "      <th>Unnamed: 0</th>\n",
       "      <th>기업명</th>\n",
       "      <th>지원부서</th>\n",
       "      <th>지원시기</th>\n",
       "      <th>학교</th>\n",
       "      <th>학과</th>\n",
       "      <th>학점</th>\n",
       "      <th>어학</th>\n",
       "      <th>자격증</th>\n",
       "      <th>경험사항</th>\n",
       "      <th>자소서</th>\n",
       "    </tr>\n",
       "  </thead>\n",
       "  <tbody>\n",
       "    <tr>\n",
       "      <th>0</th>\n",
       "      <td>0</td>\n",
       "      <td>한국석유공사</td>\n",
       "      <td>설비</td>\n",
       "      <td>2020 상반기</td>\n",
       "      <td>NaN</td>\n",
       "      <td>NaN</td>\n",
       "      <td>학점 1.7등급</td>\n",
       "      <td>NaN</td>\n",
       "      <td>NaN</td>\n",
       "      <td>NaN</td>\n",
       "      <td>7.한국석유공사\\n\\n 1. 지원 분야 직무기술서 ‘직무수행 내용’ 중 본인이 가장...</td>\n",
       "    </tr>\n",
       "    <tr>\n",
       "      <th>1</th>\n",
       "      <td>1</td>\n",
       "      <td>CJ제일제당</td>\n",
       "      <td>Food Sales</td>\n",
       "      <td>2020 상반기</td>\n",
       "      <td>NaN</td>\n",
       "      <td>상경계열학과</td>\n",
       "      <td>NaN</td>\n",
       "      <td>NaN</td>\n",
       "      <td>NaN</td>\n",
       "      <td>NaN</td>\n",
       "      <td>CJ제일제당 및 선택한 직무에 대한 지원동기는 무엇인가요? ① 선택한 직무에 관심을...</td>\n",
       "    </tr>\n",
       "    <tr>\n",
       "      <th>2</th>\n",
       "      <td>2</td>\n",
       "      <td>한국가스안전공사</td>\n",
       "      <td>LP가스 안전지킴이사업</td>\n",
       "      <td>2020 상반기</td>\n",
       "      <td>NaN</td>\n",
       "      <td>NaN</td>\n",
       "      <td>학점 3.3</td>\n",
       "      <td>NaN</td>\n",
       "      <td>NaN</td>\n",
       "      <td>NaN</td>\n",
       "      <td>\\n1. 한국가스안전공사가 진행하는 사업에 관심을 갖고 공사에 지원한 동기에 대해 ...</td>\n",
       "    </tr>\n",
       "    <tr>\n",
       "      <th>3</th>\n",
       "      <td>3</td>\n",
       "      <td>코레일</td>\n",
       "      <td>사무영업</td>\n",
       "      <td>2020 상반기</td>\n",
       "      <td>NaN</td>\n",
       "      <td>NaN</td>\n",
       "      <td>학점 3.87</td>\n",
       "      <td>NaN</td>\n",
       "      <td>NaN</td>\n",
       "      <td>NaN</td>\n",
       "      <td>1.공동체의 일원으로서 가장 중요하게 생각하는 가치를 제시하고, 그 가치를 실천했던...</td>\n",
       "    </tr>\n",
       "    <tr>\n",
       "      <th>4</th>\n",
       "      <td>4</td>\n",
       "      <td>한국기술교육대학교</td>\n",
       "      <td>행정</td>\n",
       "      <td>2020 상반기</td>\n",
       "      <td>NaN</td>\n",
       "      <td>NaN</td>\n",
       "      <td>학점 4.0</td>\n",
       "      <td>NaN</td>\n",
       "      <td>NaN</td>\n",
       "      <td>NaN</td>\n",
       "      <td>1. 본인이 가진 가장 뛰어난 점과 그렇게 판단한 이유, 고용노동연수원 업무수행에서...</td>\n",
       "    </tr>\n",
       "    <tr>\n",
       "      <th>...</th>\n",
       "      <td>...</td>\n",
       "      <td>...</td>\n",
       "      <td>...</td>\n",
       "      <td>...</td>\n",
       "      <td>...</td>\n",
       "      <td>...</td>\n",
       "      <td>...</td>\n",
       "      <td>...</td>\n",
       "      <td>...</td>\n",
       "      <td>...</td>\n",
       "      <td>...</td>\n",
       "    </tr>\n",
       "    <tr>\n",
       "      <th>10102</th>\n",
       "      <td>10102</td>\n",
       "      <td>현대자동차</td>\n",
       "      <td>영업관리</td>\n",
       "      <td>2013 상반기</td>\n",
       "      <td>NaN</td>\n",
       "      <td>국제통상학과</td>\n",
       "      <td>NaN</td>\n",
       "      <td>NaN</td>\n",
       "      <td>NaN</td>\n",
       "      <td>NaN</td>\n",
       "      <td>1. 현대자동차에 지원하게 된 동기 또는 해당 직무에 지원하게 된 동기는 무엇입니까...</td>\n",
       "    </tr>\n",
       "    <tr>\n",
       "      <th>10103</th>\n",
       "      <td>10103</td>\n",
       "      <td>심팩</td>\n",
       "      <td>용접관리</td>\n",
       "      <td>2013 상반기</td>\n",
       "      <td>NaN</td>\n",
       "      <td>공업화학과</td>\n",
       "      <td>NaN</td>\n",
       "      <td>NaN</td>\n",
       "      <td>NaN</td>\n",
       "      <td>NaN</td>\n",
       "      <td>성격소개\\n\\n대부분의 사람들이 평가하는 첫인상은 소심하고 내성적인 성격일것이라 생...</td>\n",
       "    </tr>\n",
       "    <tr>\n",
       "      <th>10104</th>\n",
       "      <td>10104</td>\n",
       "      <td>한국전력</td>\n",
       "      <td>인턴[송,배전]</td>\n",
       "      <td>2013 상반기</td>\n",
       "      <td>NaN</td>\n",
       "      <td>전자공학과</td>\n",
       "      <td>NaN</td>\n",
       "      <td>NaN</td>\n",
       "      <td>NaN</td>\n",
       "      <td>NaN</td>\n",
       "      <td>[질문 1] 취업이라는 목표 이외에 인생의 큰 목표를 세운 경험, 그 목표를 실현하...</td>\n",
       "    </tr>\n",
       "    <tr>\n",
       "      <th>10105</th>\n",
       "      <td>10105</td>\n",
       "      <td>한국전력</td>\n",
       "      <td>인턴[송,배전]</td>\n",
       "      <td>2013 상반기</td>\n",
       "      <td>NaN</td>\n",
       "      <td>전자공학과</td>\n",
       "      <td>NaN</td>\n",
       "      <td>NaN</td>\n",
       "      <td>NaN</td>\n",
       "      <td>NaN</td>\n",
       "      <td>한전 자가소개서 양식 500자 12줄 이내\\n\\n[질문 1] 취업이라는 목표 이외에...</td>\n",
       "    </tr>\n",
       "    <tr>\n",
       "      <th>10106</th>\n",
       "      <td>10106</td>\n",
       "      <td>한국전력</td>\n",
       "      <td>인턴[송,배전]</td>\n",
       "      <td>2013 상반기</td>\n",
       "      <td>NaN</td>\n",
       "      <td>전자공학과</td>\n",
       "      <td>NaN</td>\n",
       "      <td>NaN</td>\n",
       "      <td>NaN</td>\n",
       "      <td>NaN</td>\n",
       "      <td>한전 자가소개서 양식 500자 12줄 이내\\n\\n[질문 1] 취업이라는 목표 이외에...</td>\n",
       "    </tr>\n",
       "  </tbody>\n",
       "</table>\n",
       "<p>10107 rows × 11 columns</p>\n",
       "</div>"
      ],
      "text/plain": [
       "       Unnamed: 0         기업명            지원부서       지원시기  학교      학과  \\\n",
       "0               0     한국석유공사              설비    2020 상반기 NaN     NaN   \n",
       "1               1     CJ제일제당      Food Sales    2020 상반기 NaN  상경계열학과   \n",
       "2               2   한국가스안전공사    LP가스 안전지킴이사업    2020 상반기 NaN     NaN   \n",
       "3               3        코레일            사무영업    2020 상반기 NaN     NaN   \n",
       "4               4  한국기술교육대학교              행정    2020 상반기 NaN     NaN   \n",
       "...           ...         ...             ...        ...  ..     ...   \n",
       "10102       10102      현대자동차            영업관리    2013 상반기 NaN  국제통상학과   \n",
       "10103       10103         심팩            용접관리    2013 상반기 NaN   공업화학과   \n",
       "10104       10104       한국전력        인턴[송,배전]    2013 상반기 NaN   전자공학과   \n",
       "10105       10105       한국전력        인턴[송,배전]    2013 상반기 NaN   전자공학과   \n",
       "10106       10106       한국전력        인턴[송,배전]    2013 상반기 NaN   전자공학과   \n",
       "\n",
       "               학점   어학  자격증 경험사항  \\\n",
       "0       학점 1.7등급   NaN  NaN  NaN   \n",
       "1             NaN  NaN  NaN  NaN   \n",
       "2         학점 3.3   NaN  NaN  NaN   \n",
       "3        학점 3.87   NaN  NaN  NaN   \n",
       "4         학점 4.0   NaN  NaN  NaN   \n",
       "...           ...  ...  ...  ...   \n",
       "10102         NaN  NaN  NaN  NaN   \n",
       "10103         NaN  NaN  NaN  NaN   \n",
       "10104         NaN  NaN  NaN  NaN   \n",
       "10105         NaN  NaN  NaN  NaN   \n",
       "10106         NaN  NaN  NaN  NaN   \n",
       "\n",
       "                                                     자소서  \n",
       "0      7.한국석유공사\\n\\n 1. 지원 분야 직무기술서 ‘직무수행 내용’ 중 본인이 가장...  \n",
       "1      CJ제일제당 및 선택한 직무에 대한 지원동기는 무엇인가요? ① 선택한 직무에 관심을...  \n",
       "2      \\n1. 한국가스안전공사가 진행하는 사업에 관심을 갖고 공사에 지원한 동기에 대해 ...  \n",
       "3      1.공동체의 일원으로서 가장 중요하게 생각하는 가치를 제시하고, 그 가치를 실천했던...  \n",
       "4      1. 본인이 가진 가장 뛰어난 점과 그렇게 판단한 이유, 고용노동연수원 업무수행에서...  \n",
       "...                                                  ...  \n",
       "10102  1. 현대자동차에 지원하게 된 동기 또는 해당 직무에 지원하게 된 동기는 무엇입니까...  \n",
       "10103  성격소개\\n\\n대부분의 사람들이 평가하는 첫인상은 소심하고 내성적인 성격일것이라 생...  \n",
       "10104  [질문 1] 취업이라는 목표 이외에 인생의 큰 목표를 세운 경험, 그 목표를 실현하...  \n",
       "10105  한전 자가소개서 양식 500자 12줄 이내\\n\\n[질문 1] 취업이라는 목표 이외에...  \n",
       "10106  한전 자가소개서 양식 500자 12줄 이내\\n\\n[질문 1] 취업이라는 목표 이외에...  \n",
       "\n",
       "[10107 rows x 11 columns]"
      ]
     },
     "execution_count": 892,
     "metadata": {},
     "output_type": "execute_result"
    }
   ],
   "source": [
    "raw_df2"
   ]
  },
  {
   "cell_type": "code",
   "execution_count": 6,
   "metadata": {},
   "outputs": [],
   "source": [
    "df = pd.DataFrame(columns=[\"기업명\",\"지원부서\",\"지원시기\",\"학교\",\"학과\",\"학점\",\"어학\",\"자격증\",\"경험사항\",\"자소서\"])"
   ]
  },
  {
   "cell_type": "code",
   "execution_count": 7,
   "metadata": {},
   "outputs": [],
   "source": [
    "df[\"기업명\"] = raw_df['1'].str.split(\"/\",expand=True)[0]\n",
    "df[\"지원부서\"] = raw_df['1'].str.split(\"/\",expand=True)[1]\n",
    "df[\"지원시기\"] = raw_df['1'].str.split(\"/\",expand=True)[2]\n",
    "df[\"자소서\"] = raw_df[\"3\"]"
   ]
  },
  {
   "cell_type": "code",
   "execution_count": 9,
   "metadata": {
    "scrolled": false
   },
   "outputs": [
    {
     "data": {
      "text/html": [
       "<div>\n",
       "<style scoped>\n",
       "    .dataframe tbody tr th:only-of-type {\n",
       "        vertical-align: middle;\n",
       "    }\n",
       "\n",
       "    .dataframe tbody tr th {\n",
       "        vertical-align: top;\n",
       "    }\n",
       "\n",
       "    .dataframe thead th {\n",
       "        text-align: right;\n",
       "    }\n",
       "</style>\n",
       "<table border=\"1\" class=\"dataframe\">\n",
       "  <thead>\n",
       "    <tr style=\"text-align: right;\">\n",
       "      <th></th>\n",
       "      <th>기업명</th>\n",
       "      <th>지원부서</th>\n",
       "      <th>지원시기</th>\n",
       "      <th>학교</th>\n",
       "      <th>학과</th>\n",
       "      <th>학점</th>\n",
       "      <th>어학</th>\n",
       "      <th>자격증</th>\n",
       "      <th>경험사항</th>\n",
       "      <th>자소서</th>\n",
       "    </tr>\n",
       "  </thead>\n",
       "  <tbody>\n",
       "    <tr>\n",
       "      <th>0</th>\n",
       "      <td>한국석유공사</td>\n",
       "      <td>설비</td>\n",
       "      <td>2020 상반기</td>\n",
       "      <td>NaN</td>\n",
       "      <td>NaN</td>\n",
       "      <td>NaN</td>\n",
       "      <td>NaN</td>\n",
       "      <td>NaN</td>\n",
       "      <td>NaN</td>\n",
       "      <td>7.한국석유공사\\n\\n 1. 지원 분야 직무기술서 ‘직무수행 내용’ 중 본인이 가장...</td>\n",
       "    </tr>\n",
       "    <tr>\n",
       "      <th>1</th>\n",
       "      <td>CJ제일제당</td>\n",
       "      <td>Food Sales</td>\n",
       "      <td>2020 상반기</td>\n",
       "      <td>NaN</td>\n",
       "      <td>NaN</td>\n",
       "      <td>NaN</td>\n",
       "      <td>NaN</td>\n",
       "      <td>NaN</td>\n",
       "      <td>NaN</td>\n",
       "      <td>CJ제일제당 및 선택한 직무에 대한 지원동기는 무엇인가요? ① 선택한 직무에 관심을...</td>\n",
       "    </tr>\n",
       "    <tr>\n",
       "      <th>2</th>\n",
       "      <td>한국가스안전공사</td>\n",
       "      <td>LP가스 안전지킴이사업</td>\n",
       "      <td>2020 상반기</td>\n",
       "      <td>NaN</td>\n",
       "      <td>NaN</td>\n",
       "      <td>NaN</td>\n",
       "      <td>NaN</td>\n",
       "      <td>NaN</td>\n",
       "      <td>NaN</td>\n",
       "      <td>\\n1. 한국가스안전공사가 진행하는 사업에 관심을 갖고 공사에 지원한 동기에 대해 ...</td>\n",
       "    </tr>\n",
       "    <tr>\n",
       "      <th>3</th>\n",
       "      <td>코레일</td>\n",
       "      <td>사무영업</td>\n",
       "      <td>2020 상반기</td>\n",
       "      <td>NaN</td>\n",
       "      <td>NaN</td>\n",
       "      <td>NaN</td>\n",
       "      <td>NaN</td>\n",
       "      <td>NaN</td>\n",
       "      <td>NaN</td>\n",
       "      <td>1.공동체의 일원으로서 가장 중요하게 생각하는 가치를 제시하고, 그 가치를 실천했던...</td>\n",
       "    </tr>\n",
       "    <tr>\n",
       "      <th>4</th>\n",
       "      <td>한국기술교육대학교</td>\n",
       "      <td>행정</td>\n",
       "      <td>2020 상반기</td>\n",
       "      <td>NaN</td>\n",
       "      <td>NaN</td>\n",
       "      <td>NaN</td>\n",
       "      <td>NaN</td>\n",
       "      <td>NaN</td>\n",
       "      <td>NaN</td>\n",
       "      <td>1. 본인이 가진 가장 뛰어난 점과 그렇게 판단한 이유, 고용노동연수원 업무수행에서...</td>\n",
       "    </tr>\n",
       "    <tr>\n",
       "      <th>...</th>\n",
       "      <td>...</td>\n",
       "      <td>...</td>\n",
       "      <td>...</td>\n",
       "      <td>...</td>\n",
       "      <td>...</td>\n",
       "      <td>...</td>\n",
       "      <td>...</td>\n",
       "      <td>...</td>\n",
       "      <td>...</td>\n",
       "      <td>...</td>\n",
       "    </tr>\n",
       "    <tr>\n",
       "      <th>10102</th>\n",
       "      <td>현대자동차</td>\n",
       "      <td>영업관리</td>\n",
       "      <td>2013 상반기</td>\n",
       "      <td>NaN</td>\n",
       "      <td>NaN</td>\n",
       "      <td>NaN</td>\n",
       "      <td>NaN</td>\n",
       "      <td>NaN</td>\n",
       "      <td>NaN</td>\n",
       "      <td>1. 현대자동차에 지원하게 된 동기 또는 해당 직무에 지원하게 된 동기는 무엇입니까...</td>\n",
       "    </tr>\n",
       "    <tr>\n",
       "      <th>10103</th>\n",
       "      <td>심팩</td>\n",
       "      <td>용접관리</td>\n",
       "      <td>2013 상반기</td>\n",
       "      <td>NaN</td>\n",
       "      <td>NaN</td>\n",
       "      <td>NaN</td>\n",
       "      <td>NaN</td>\n",
       "      <td>NaN</td>\n",
       "      <td>NaN</td>\n",
       "      <td>성격소개\\n\\n대부분의 사람들이 평가하는 첫인상은 소심하고 내성적인 성격일것이라 생...</td>\n",
       "    </tr>\n",
       "    <tr>\n",
       "      <th>10104</th>\n",
       "      <td>한국전력</td>\n",
       "      <td>인턴[송,배전]</td>\n",
       "      <td>2013 상반기</td>\n",
       "      <td>NaN</td>\n",
       "      <td>NaN</td>\n",
       "      <td>NaN</td>\n",
       "      <td>NaN</td>\n",
       "      <td>NaN</td>\n",
       "      <td>NaN</td>\n",
       "      <td>[질문 1] 취업이라는 목표 이외에 인생의 큰 목표를 세운 경험, 그 목표를 실현하...</td>\n",
       "    </tr>\n",
       "    <tr>\n",
       "      <th>10105</th>\n",
       "      <td>한국전력</td>\n",
       "      <td>인턴[송,배전]</td>\n",
       "      <td>2013 상반기</td>\n",
       "      <td>NaN</td>\n",
       "      <td>NaN</td>\n",
       "      <td>NaN</td>\n",
       "      <td>NaN</td>\n",
       "      <td>NaN</td>\n",
       "      <td>NaN</td>\n",
       "      <td>한전 자가소개서 양식 500자 12줄 이내\\n\\n[질문 1] 취업이라는 목표 이외에...</td>\n",
       "    </tr>\n",
       "    <tr>\n",
       "      <th>10106</th>\n",
       "      <td>한국전력</td>\n",
       "      <td>인턴[송,배전]</td>\n",
       "      <td>2013 상반기</td>\n",
       "      <td>NaN</td>\n",
       "      <td>NaN</td>\n",
       "      <td>NaN</td>\n",
       "      <td>NaN</td>\n",
       "      <td>NaN</td>\n",
       "      <td>NaN</td>\n",
       "      <td>한전 자가소개서 양식 500자 12줄 이내\\n\\n[질문 1] 취업이라는 목표 이외에...</td>\n",
       "    </tr>\n",
       "  </tbody>\n",
       "</table>\n",
       "<p>10107 rows × 10 columns</p>\n",
       "</div>"
      ],
      "text/plain": [
       "              기업명            지원부서       지원시기   학교   학과   학점   어학  자격증 경험사항  \\\n",
       "0         한국석유공사              설비    2020 상반기  NaN  NaN  NaN  NaN  NaN  NaN   \n",
       "1         CJ제일제당      Food Sales    2020 상반기  NaN  NaN  NaN  NaN  NaN  NaN   \n",
       "2       한국가스안전공사    LP가스 안전지킴이사업    2020 상반기  NaN  NaN  NaN  NaN  NaN  NaN   \n",
       "3            코레일            사무영업    2020 상반기  NaN  NaN  NaN  NaN  NaN  NaN   \n",
       "4      한국기술교육대학교              행정    2020 상반기  NaN  NaN  NaN  NaN  NaN  NaN   \n",
       "...           ...             ...        ...  ...  ...  ...  ...  ...  ...   \n",
       "10102      현대자동차            영업관리    2013 상반기  NaN  NaN  NaN  NaN  NaN  NaN   \n",
       "10103         심팩            용접관리    2013 상반기  NaN  NaN  NaN  NaN  NaN  NaN   \n",
       "10104       한국전력        인턴[송,배전]    2013 상반기  NaN  NaN  NaN  NaN  NaN  NaN   \n",
       "10105       한국전력        인턴[송,배전]    2013 상반기  NaN  NaN  NaN  NaN  NaN  NaN   \n",
       "10106       한국전력        인턴[송,배전]    2013 상반기  NaN  NaN  NaN  NaN  NaN  NaN   \n",
       "\n",
       "                                                     자소서  \n",
       "0      7.한국석유공사\\n\\n 1. 지원 분야 직무기술서 ‘직무수행 내용’ 중 본인이 가장...  \n",
       "1      CJ제일제당 및 선택한 직무에 대한 지원동기는 무엇인가요? ① 선택한 직무에 관심을...  \n",
       "2      \\n1. 한국가스안전공사가 진행하는 사업에 관심을 갖고 공사에 지원한 동기에 대해 ...  \n",
       "3      1.공동체의 일원으로서 가장 중요하게 생각하는 가치를 제시하고, 그 가치를 실천했던...  \n",
       "4      1. 본인이 가진 가장 뛰어난 점과 그렇게 판단한 이유, 고용노동연수원 업무수행에서...  \n",
       "...                                                  ...  \n",
       "10102  1. 현대자동차에 지원하게 된 동기 또는 해당 직무에 지원하게 된 동기는 무엇입니까...  \n",
       "10103  성격소개\\n\\n대부분의 사람들이 평가하는 첫인상은 소심하고 내성적인 성격일것이라 생...  \n",
       "10104  [질문 1] 취업이라는 목표 이외에 인생의 큰 목표를 세운 경험, 그 목표를 실현하...  \n",
       "10105  한전 자가소개서 양식 500자 12줄 이내\\n\\n[질문 1] 취업이라는 목표 이외에...  \n",
       "10106  한전 자가소개서 양식 500자 12줄 이내\\n\\n[질문 1] 취업이라는 목표 이외에...  \n",
       "\n",
       "[10107 rows x 10 columns]"
      ]
     },
     "execution_count": 9,
     "metadata": {},
     "output_type": "execute_result"
    }
   ],
   "source": [
    "df"
   ]
  },
  {
   "cell_type": "code",
   "execution_count": 10,
   "metadata": {},
   "outputs": [],
   "source": [
    "first = raw_df[\"2\"].str.split(\"/\",expand=True)[0]\n",
    "second = raw_df[\"2\"].str.split(\"/\",expand=True)[1]\n",
    "third = raw_df[\"2\"].str.split(\"/\",expand=True)[2]\n",
    "#raw_df[\"2\"].str.split(\"/\",expand=True)[3]\n",
    "#raw_df[\"2\"].str.split(\"/\",expand=True)[4]\n",
    "#raw_df[\"2\"].str.split(\"/\",expand=True)[5]"
   ]
  },
  {
   "cell_type": "code",
   "execution_count": 13,
   "metadata": {},
   "outputs": [],
   "source": [
    "df.at[second[second.str.contains(\"학점 \")==True].index,[\"학점\"]]=second[second.str.contains(\"학점 \")==True]"
   ]
  },
  {
   "cell_type": "code",
   "execution_count": 16,
   "metadata": {
    "scrolled": true
   },
   "outputs": [],
   "source": [
    "second.to_csv(\"01.txt\",encoding='utf-8')"
   ]
  },
  {
   "cell_type": "code",
   "execution_count": 17,
   "metadata": {},
   "outputs": [],
   "source": [
    "second[second.str.contains(\"학점 \")==True]=\"\""
   ]
  },
  {
   "cell_type": "code",
   "execution_count": 19,
   "metadata": {},
   "outputs": [],
   "source": [
    "df.at[second[second.str.contains(\"토익\")==True].index,[\"어학\"]]=second[second.str.contains(\"토익\")==True]"
   ]
  },
  {
   "cell_type": "code",
   "execution_count": 21,
   "metadata": {},
   "outputs": [],
   "source": [
    "second[second.str.contains(\"토익\")==True]=\"\""
   ]
  },
  {
   "cell_type": "code",
   "execution_count": 22,
   "metadata": {},
   "outputs": [],
   "source": [
    "second[second.str.contains(\"전자공학\")==True]=\"전자공학과\""
   ]
  },
  {
   "cell_type": "code",
   "execution_count": 27,
   "metadata": {},
   "outputs": [],
   "source": [
    "df.at[second[second.str.contains(\"전자공학과\")==True].index,[\"학과\"]]=second[second.str.contains(\"전자공학과\")==True]"
   ]
  },
  {
   "cell_type": "code",
   "execution_count": 28,
   "metadata": {},
   "outputs": [],
   "source": [
    "second[second.str.contains(\"전기전자\")==True]=\"전기전자공학과\""
   ]
  },
  {
   "cell_type": "code",
   "execution_count": 30,
   "metadata": {},
   "outputs": [],
   "source": [
    "df.at[second[second.str.contains(\"전기전자공학과\")==True].index,[\"학과\"]]=second[second.str.contains(\"전기전자공학과\")==True]"
   ]
  },
  {
   "cell_type": "code",
   "execution_count": 31,
   "metadata": {},
   "outputs": [],
   "source": [
    "second[second.str.contains(\"전자공학부\")==True]=\"전자공학과\""
   ]
  },
  {
   "cell_type": "code",
   "execution_count": 32,
   "metadata": {},
   "outputs": [],
   "source": [
    "second[second.str.contains(\"전자공학\")==True]=\"전자공학과\""
   ]
  },
  {
   "cell_type": "code",
   "execution_count": 33,
   "metadata": {},
   "outputs": [],
   "source": [
    "df.at[second[second.str.contains(\"전자공학과\")==True].index,[\"학과\"]]=second[second.str.contains(\"전자공학과\")==True]"
   ]
  },
  {
   "cell_type": "code",
   "execution_count": 34,
   "metadata": {},
   "outputs": [],
   "source": [
    "second[second.str.contains(\"전자전기\")==True]=\"전기전자공학과\""
   ]
  },
  {
   "cell_type": "code",
   "execution_count": 35,
   "metadata": {},
   "outputs": [],
   "source": [
    "df.at[second[second.str.contains(\"전기전자공학과\")==True].index,[\"학과\"]]=second[second.str.contains(\"전기전자공학과\")==True]"
   ]
  },
  {
   "cell_type": "code",
   "execution_count": 36,
   "metadata": {},
   "outputs": [],
   "source": [
    "second[second.str.contains(\"전기전자공학과\")==True]=\"\""
   ]
  },
  {
   "cell_type": "code",
   "execution_count": 38,
   "metadata": {},
   "outputs": [],
   "source": [
    "df.at[second[second.str.contains(\"전자컴퓨터통신공학과\")==True].index,[\"학과\"]]=second[second.str.contains(\"전자컴퓨터통신공학과\")==True]"
   ]
  },
  {
   "cell_type": "code",
   "execution_count": 39,
   "metadata": {},
   "outputs": [],
   "source": [
    "second[second.str.contains(\"전자컴퓨터통신공학과\")==True]=\"\""
   ]
  },
  {
   "cell_type": "code",
   "execution_count": 40,
   "metadata": {},
   "outputs": [],
   "source": [
    "second[second.str.contains(\"전자통신공학\")==True]=\"전자통신공학과\""
   ]
  },
  {
   "cell_type": "code",
   "execution_count": 41,
   "metadata": {},
   "outputs": [],
   "source": [
    "df.at[second[second.str.contains(\"전자통신공학과\")==True].index,[\"학과\"]]=second[second.str.contains(\"전자통신공학과\")==True]"
   ]
  },
  {
   "cell_type": "code",
   "execution_count": 42,
   "metadata": {},
   "outputs": [],
   "source": [
    "second[second.str.contains(\"전자통신공학과\")==True]=\"\""
   ]
  },
  {
   "cell_type": "code",
   "execution_count": 43,
   "metadata": {},
   "outputs": [],
   "source": [
    "second[second.str.contains(\"전기전자과\")==True]=\"전기전자공학과\""
   ]
  },
  {
   "cell_type": "code",
   "execution_count": 44,
   "metadata": {},
   "outputs": [],
   "source": [
    "df.at[second[second.str.contains(\"전기전자공학과\")==True].index,[\"학과\"]]=second[second.str.contains(\"전기전자공학과\")==True]"
   ]
  },
  {
   "cell_type": "code",
   "execution_count": 45,
   "metadata": {},
   "outputs": [],
   "source": [
    "second[second.str.contains(\"전자과\")==True]=\"전자공학과\""
   ]
  },
  {
   "cell_type": "code",
   "execution_count": 46,
   "metadata": {},
   "outputs": [],
   "source": [
    "second[second.str.contains(\"전자공학과\")==True]=\"\""
   ]
  },
  {
   "cell_type": "code",
   "execution_count": 47,
   "metadata": {},
   "outputs": [],
   "source": [
    "df.at[second[second.str.contains(\"전자공학과\")==True].index,[\"학과\"]]=second[second.str.contains(\"전자공학과\")==True]"
   ]
  },
  {
   "cell_type": "code",
   "execution_count": 48,
   "metadata": {},
   "outputs": [],
   "source": [
    "second[second.str.contains(\"전기전자\")==True]=\"전기전자공학과\""
   ]
  },
  {
   "cell_type": "code",
   "execution_count": 49,
   "metadata": {},
   "outputs": [],
   "source": [
    "df.at[second[second.str.contains(\"전기전자공학과\")==True].index,[\"학과\"]]=second[second.str.contains(\"전기전자공학과\")==True]"
   ]
  },
  {
   "cell_type": "code",
   "execution_count": 50,
   "metadata": {},
   "outputs": [],
   "source": [
    "second[second.str.contains(\"전기전자공학과\")==True]=\"\""
   ]
  },
  {
   "cell_type": "code",
   "execution_count": 51,
   "metadata": {},
   "outputs": [],
   "source": [
    "second[second.str.contains(\"광전자화공소재\")==True]=\"광전자화공소재공학과\""
   ]
  },
  {
   "cell_type": "code",
   "execution_count": 52,
   "metadata": {},
   "outputs": [],
   "source": [
    "df.at[second[second.str.contains(\"광전자화공소재공학과\")==True].index,[\"학과\"]]=second[second.str.contains(\"광전자화공소재공학과\")==True]"
   ]
  },
  {
   "cell_type": "code",
   "execution_count": 53,
   "metadata": {},
   "outputs": [],
   "source": [
    "second[second.str.contains(\"광전자화공소재\")==True]=\"\""
   ]
  },
  {
   "cell_type": "code",
   "execution_count": 54,
   "metadata": {},
   "outputs": [],
   "source": [
    "second[second.str.contains(\"전자\")==True]=\"전자공학과\""
   ]
  },
  {
   "cell_type": "code",
   "execution_count": 55,
   "metadata": {},
   "outputs": [],
   "source": [
    "second[second.str.contains(\"전자공학과\")==True]=\"\""
   ]
  },
  {
   "cell_type": "code",
   "execution_count": 56,
   "metadata": {},
   "outputs": [],
   "source": [
    "df.at[second[second.str.contains(\"컴퓨터공학과\")==True].index,[\"학과\"]]=second[second.str.contains(\"컴퓨터공학과\")==True]"
   ]
  },
  {
   "cell_type": "code",
   "execution_count": 57,
   "metadata": {},
   "outputs": [],
   "source": [
    "second[second.str.contains(\"컴퓨터공학과\")==True]=\"\""
   ]
  },
  {
   "cell_type": "code",
   "execution_count": 58,
   "metadata": {},
   "outputs": [],
   "source": [
    "second[second.str.contains(\"컴퓨터공학부\")==True]=\"컴퓨터공학과\""
   ]
  },
  {
   "cell_type": "code",
   "execution_count": 59,
   "metadata": {},
   "outputs": [],
   "source": [
    "df.at[second[second.str.contains(\"컴퓨터공학과\")==True].index,[\"학과\"]]=second[second.str.contains(\"컴퓨터공학과\")==True]"
   ]
  },
  {
   "cell_type": "code",
   "execution_count": 60,
   "metadata": {},
   "outputs": [],
   "source": [
    "second[second.str.contains(\"컴퓨터공학과\")==True]=\"\""
   ]
  },
  {
   "cell_type": "code",
   "execution_count": 61,
   "metadata": {},
   "outputs": [],
   "source": [
    "second[second.str.contains(\"컴퓨터학\")==True]=\"컴퓨터공학과\""
   ]
  },
  {
   "cell_type": "code",
   "execution_count": 62,
   "metadata": {},
   "outputs": [],
   "source": [
    "second[second.str.contains(\"컴퓨터공학\")==True]=\"컴퓨터공학과\""
   ]
  },
  {
   "cell_type": "code",
   "execution_count": 63,
   "metadata": {},
   "outputs": [],
   "source": [
    "second[second.str.contains(\"컴퓨\")==True]=\"컴퓨터공학과\""
   ]
  },
  {
   "cell_type": "code",
   "execution_count": 64,
   "metadata": {},
   "outputs": [],
   "source": [
    "df.at[second[second.str.contains(\"컴퓨터공학과\")==True].index,[\"학과\"]]=second[second.str.contains(\"컴퓨터공학과\")==True]"
   ]
  },
  {
   "cell_type": "code",
   "execution_count": 65,
   "metadata": {},
   "outputs": [],
   "source": [
    "second[second.str.contains(\"컴퓨터공학과\")==True]=\"\""
   ]
  },
  {
   "cell_type": "code",
   "execution_count": 66,
   "metadata": {},
   "outputs": [],
   "source": [
    "second[second.str.contains(\"패션\")==True]=\"패션디자인학과\""
   ]
  },
  {
   "cell_type": "code",
   "execution_count": 67,
   "metadata": {},
   "outputs": [],
   "source": [
    "df.at[second[second.str.contains(\"패션디자인학과\")==True].index,[\"학과\"]]=second[second.str.contains(\"패션디자인학과\")==True]"
   ]
  },
  {
   "cell_type": "code",
   "execution_count": 68,
   "metadata": {},
   "outputs": [],
   "source": [
    "second[second.str.contains(\"패션\")==True]=\"\""
   ]
  },
  {
   "cell_type": "code",
   "execution_count": 69,
   "metadata": {},
   "outputs": [],
   "source": [
    "df.at[second[second.str.contains(\"기계시스템디자인공학과\")==True].index,[\"학과\"]]=second[second.str.contains(\"기계시스템디자인공학과\")==True]"
   ]
  },
  {
   "cell_type": "code",
   "execution_count": 70,
   "metadata": {},
   "outputs": [],
   "source": [
    "second[second.str.contains(\"기계시스템디자인공학과\")==True]=\"\""
   ]
  },
  {
   "cell_type": "code",
   "execution_count": 71,
   "metadata": {},
   "outputs": [],
   "source": [
    "second[second.str.contains(\"기계공학부\")==True]=\"기계공학과\""
   ]
  },
  {
   "cell_type": "code",
   "execution_count": 72,
   "metadata": {},
   "outputs": [],
   "source": [
    "second[second.str.contains(\"기계공학\")==True]=\"기계공학과\""
   ]
  },
  {
   "cell_type": "code",
   "execution_count": 73,
   "metadata": {},
   "outputs": [],
   "source": [
    "second[second.str.contains(\"기계공\")==True]=\"기계공학과\""
   ]
  },
  {
   "cell_type": "code",
   "execution_count": 74,
   "metadata": {},
   "outputs": [],
   "source": [
    "second[second.str.contains(\"기계\")==True]=\"기계공학과\""
   ]
  },
  {
   "cell_type": "code",
   "execution_count": 75,
   "metadata": {},
   "outputs": [],
   "source": [
    "df.at[second[second.str.contains(\"기계공학과\")==True].index,[\"학과\"]]=second[second.str.contains(\"기계공학과\")==True]"
   ]
  },
  {
   "cell_type": "code",
   "execution_count": 76,
   "metadata": {},
   "outputs": [],
   "source": [
    "second[second.str.contains(\"기계공학과\")==True]=\"\""
   ]
  },
  {
   "cell_type": "code",
   "execution_count": 77,
   "metadata": {},
   "outputs": [],
   "source": [
    "second[second.str.contains(\"설비\")==True]=\"건축설비공학과\""
   ]
  },
  {
   "cell_type": "code",
   "execution_count": 78,
   "metadata": {},
   "outputs": [],
   "source": [
    "df.at[second[second.str.contains(\"건축설비공학과\")==True].index,[\"학과\"]]=second[second.str.contains(\"건축설비공학과\")==True]"
   ]
  },
  {
   "cell_type": "code",
   "execution_count": 79,
   "metadata": {},
   "outputs": [],
   "source": [
    "second[second.str.contains(\"설비\")==True]=\"\""
   ]
  },
  {
   "cell_type": "code",
   "execution_count": 80,
   "metadata": {},
   "outputs": [],
   "source": [
    "second[second.str.contains(\"건설환경\")==True]=\"건설환경공학과\""
   ]
  },
  {
   "cell_type": "code",
   "execution_count": 81,
   "metadata": {},
   "outputs": [],
   "source": [
    "df.at[second[second.str.contains(\"건설환경공학과\")==True].index,[\"학과\"]]=second[second.str.contains(\"건설환경공학과\")==True]"
   ]
  },
  {
   "cell_type": "code",
   "execution_count": 82,
   "metadata": {
    "scrolled": true
   },
   "outputs": [],
   "source": [
    "second[second.str.contains(\"건설환경공학과\")==True]=\"\""
   ]
  },
  {
   "cell_type": "code",
   "execution_count": 84,
   "metadata": {},
   "outputs": [],
   "source": [
    "second[second.str.contains(\"도시건설\")==True]=\"도시건설공학과\""
   ]
  },
  {
   "cell_type": "code",
   "execution_count": 85,
   "metadata": {},
   "outputs": [],
   "source": [
    "df.at[second[second.str.contains(\"도시건설공학과\")==True].index,[\"학과\"]]=second[second.str.contains(\"도시건설공학과\")==True]"
   ]
  },
  {
   "cell_type": "code",
   "execution_count": 86,
   "metadata": {},
   "outputs": [],
   "source": [
    "second[second.str.contains(\"도시건설공학과\")==True]=\"\""
   ]
  },
  {
   "cell_type": "code",
   "execution_count": 87,
   "metadata": {},
   "outputs": [],
   "source": [
    "second[second.str.contains(\"건설\")==True]=\"건설공학과\""
   ]
  },
  {
   "cell_type": "code",
   "execution_count": 88,
   "metadata": {},
   "outputs": [],
   "source": [
    "df.at[second[second.str.contains(\"건설공학과\")==True].index,[\"학과\"]]=second[second.str.contains(\"건설공학과\")==True]"
   ]
  },
  {
   "cell_type": "code",
   "execution_count": 89,
   "metadata": {},
   "outputs": [],
   "source": [
    "second[second.str.contains(\"건설공학과\")==True]=\"\""
   ]
  },
  {
   "cell_type": "code",
   "execution_count": 90,
   "metadata": {},
   "outputs": [],
   "source": [
    "second[second.str.contains(\"실내건축\")==True]=\"실내건축학과\""
   ]
  },
  {
   "cell_type": "code",
   "execution_count": 91,
   "metadata": {},
   "outputs": [],
   "source": [
    "df.at[second[second.str.contains(\"실내건축학과\")==True].index,[\"학과\"]]=second[second.str.contains(\"실내건축학과\")==True]"
   ]
  },
  {
   "cell_type": "code",
   "execution_count": 92,
   "metadata": {},
   "outputs": [],
   "source": [
    "second[second.str.contains(\"실내건축학과\")==True]=\"\""
   ]
  },
  {
   "cell_type": "code",
   "execution_count": 93,
   "metadata": {},
   "outputs": [],
   "source": [
    "second[second.str.contains(\"건축공\")==True]=\"건축공학과\""
   ]
  },
  {
   "cell_type": "code",
   "execution_count": 94,
   "metadata": {},
   "outputs": [],
   "source": [
    "df.at[second[second.str.contains(\"건축공학과\")==True].index,[\"학과\"]]=second[second.str.contains(\"건축공학과\")==True]"
   ]
  },
  {
   "cell_type": "code",
   "execution_count": 95,
   "metadata": {},
   "outputs": [],
   "source": [
    "second[second.str.contains(\"건축공학과\")==True]=\"\""
   ]
  },
  {
   "cell_type": "code",
   "execution_count": 96,
   "metadata": {},
   "outputs": [],
   "source": [
    "second[second.str.contains(\"건축설계학과\")==True]=\"건축설계공학과\""
   ]
  },
  {
   "cell_type": "code",
   "execution_count": 97,
   "metadata": {},
   "outputs": [],
   "source": [
    "df.at[second[second.str.contains(\"건축설계공학과\")==True].index,[\"학과\"]]=second[second.str.contains(\"건축설계공학과\")==True]"
   ]
  },
  {
   "cell_type": "code",
   "execution_count": 98,
   "metadata": {},
   "outputs": [],
   "source": [
    "second[second.str.contains(\"건축설계공학과\")==True]=\"\""
   ]
  },
  {
   "cell_type": "code",
   "execution_count": 99,
   "metadata": {},
   "outputs": [],
   "source": [
    "second[second.str.contains(\"건축\")==True]=\"건축학과\""
   ]
  },
  {
   "cell_type": "code",
   "execution_count": 100,
   "metadata": {},
   "outputs": [],
   "source": [
    "df.at[second[second.str.contains(\"건축학과\")==True].index,[\"학과\"]]=second[second.str.contains(\"건축학과\")==True]"
   ]
  },
  {
   "cell_type": "code",
   "execution_count": 101,
   "metadata": {},
   "outputs": [],
   "source": [
    "second[second.str.contains(\"건축학과\")==True]=\"\""
   ]
  },
  {
   "cell_type": "code",
   "execution_count": 102,
   "metadata": {},
   "outputs": [],
   "source": [
    "second[second.str.contains(\"화공\")==True]=\"화학공학과\""
   ]
  },
  {
   "cell_type": "code",
   "execution_count": 103,
   "metadata": {},
   "outputs": [],
   "source": [
    "second[second.str.contains(\"화학공\")==True]=\"화학공학과\""
   ]
  },
  {
   "cell_type": "code",
   "execution_count": 104,
   "metadata": {},
   "outputs": [],
   "source": [
    "second[second.str.contains(\"공업화학\")==True]=\"공업화학과\""
   ]
  },
  {
   "cell_type": "code",
   "execution_count": 105,
   "metadata": {},
   "outputs": [],
   "source": [
    "df.at[second[second.str.contains(\"화학공학과\")==True].index,[\"학과\"]]=second[second.str.contains(\"화학공학과\")==True]"
   ]
  },
  {
   "cell_type": "code",
   "execution_count": 106,
   "metadata": {},
   "outputs": [],
   "source": [
    "second[second.str.contains(\"화학공학과\")==True]=\"\""
   ]
  },
  {
   "cell_type": "code",
   "execution_count": 107,
   "metadata": {},
   "outputs": [],
   "source": [
    "df.at[second[second.str.contains(\"공업화학과\")==True].index,[\"학과\"]]=second[second.str.contains(\"공업화학과\")==True]"
   ]
  },
  {
   "cell_type": "code",
   "execution_count": 108,
   "metadata": {},
   "outputs": [],
   "source": [
    "second[second.str.contains(\"공업화학과\")==True]=\"\""
   ]
  },
  {
   "cell_type": "code",
   "execution_count": 109,
   "metadata": {},
   "outputs": [],
   "source": [
    "df.at[second[second.str.contains(\"영화학과\")==True].index,[\"학과\"]]=second[second.str.contains(\"영화학과\")==True]"
   ]
  },
  {
   "cell_type": "code",
   "execution_count": 110,
   "metadata": {},
   "outputs": [],
   "source": [
    "second[second.str.contains(\"영화학과\")==True]=\"\""
   ]
  },
  {
   "cell_type": "code",
   "execution_count": 111,
   "metadata": {},
   "outputs": [],
   "source": [
    "df.at[second[second.str.contains(\"화학과\")==True].index,[\"학과\"]]=second[second.str.contains(\"화학과\")==True]"
   ]
  },
  {
   "cell_type": "code",
   "execution_count": 112,
   "metadata": {},
   "outputs": [],
   "source": [
    "second[second.str.contains(\"화학과\")==True]=\"\""
   ]
  },
  {
   "cell_type": "code",
   "execution_count": 114,
   "metadata": {},
   "outputs": [],
   "source": [
    "second[second.str.contains(\"연극\")==True]=\"연극영화학과\""
   ]
  },
  {
   "cell_type": "code",
   "execution_count": 115,
   "metadata": {},
   "outputs": [],
   "source": [
    "df.at[second[second.str.contains(\"연극영화학과\")==True].index,[\"학과\"]]=second[second.str.contains(\"연극영화학과\")==True]"
   ]
  },
  {
   "cell_type": "code",
   "execution_count": 116,
   "metadata": {},
   "outputs": [],
   "source": [
    "second[second.str.contains(\"연극영화학과\")==True]=\"\""
   ]
  },
  {
   "cell_type": "code",
   "execution_count": 117,
   "metadata": {},
   "outputs": [],
   "source": [
    "second[second.str.contains(\"화학생명\")==True]=\"화학생명공학과\""
   ]
  },
  {
   "cell_type": "code",
   "execution_count": 118,
   "metadata": {},
   "outputs": [],
   "source": [
    "df.at[second[second.str.contains(\"화학생명공학과\")==True].index,[\"학과\"]]=second[second.str.contains(\"화학생명공학과\")==True]"
   ]
  },
  {
   "cell_type": "code",
   "execution_count": 119,
   "metadata": {},
   "outputs": [],
   "source": [
    "second[second.str.contains(\"화학생명공학과\")==True]=\"\""
   ]
  },
  {
   "cell_type": "code",
   "execution_count": 120,
   "metadata": {},
   "outputs": [],
   "source": [
    "second[second.str.contains(\"응용화학\")==True]=\"응용화학공학과\""
   ]
  },
  {
   "cell_type": "code",
   "execution_count": 121,
   "metadata": {},
   "outputs": [],
   "source": [
    "df.at[second[second.str.contains(\"응용화학공학과\")==True].index,[\"학과\"]]=second[second.str.contains(\"응용화학공학과\")==True]"
   ]
  },
  {
   "cell_type": "code",
   "execution_count": 122,
   "metadata": {},
   "outputs": [],
   "source": [
    "second[second.str.contains(\"응용화학공학과\")==True]=\"\""
   ]
  },
  {
   "cell_type": "code",
   "execution_count": 123,
   "metadata": {},
   "outputs": [],
   "source": [
    "second[second.str.contains(\"중국언어문화학\")==True]=\"중국언어문화학과\""
   ]
  },
  {
   "cell_type": "code",
   "execution_count": 124,
   "metadata": {},
   "outputs": [],
   "source": [
    "df.at[second[second.str.contains(\"중국언어문화학과\")==True].index,[\"학과\"]]=second[second.str.contains(\"중국언어문화학과\")==True]"
   ]
  },
  {
   "cell_type": "code",
   "execution_count": 125,
   "metadata": {},
   "outputs": [],
   "source": [
    "second[second.str.contains(\"중국언어문화학\")==True]=\"\""
   ]
  },
  {
   "cell_type": "code",
   "execution_count": 126,
   "metadata": {},
   "outputs": [],
   "source": [
    "second[second.str.contains(\"화학\")==True]=\"화학공학과\""
   ]
  },
  {
   "cell_type": "code",
   "execution_count": 127,
   "metadata": {},
   "outputs": [],
   "source": [
    "df.at[second[second.str.contains(\"화학공학과\")==True].index,[\"학과\"]]=second[second.str.contains(\"화학공학과\")==True]"
   ]
  },
  {
   "cell_type": "code",
   "execution_count": 128,
   "metadata": {},
   "outputs": [],
   "source": [
    "second[second.str.contains(\"화학공학과\")==True]=\"\""
   ]
  },
  {
   "cell_type": "code",
   "execution_count": 129,
   "metadata": {},
   "outputs": [],
   "source": [
    "second[second.str.contains(\"호텔경영\")==True]=\"호텔경영학과\""
   ]
  },
  {
   "cell_type": "code",
   "execution_count": 130,
   "metadata": {},
   "outputs": [],
   "source": [
    "df.at[second[second.str.contains(\"호텔경영학과\")==True].index,[\"학과\"]]=second[second.str.contains(\"호텔경영학과\")==True]"
   ]
  },
  {
   "cell_type": "code",
   "execution_count": 131,
   "metadata": {},
   "outputs": [],
   "source": [
    "second[second.str.contains(\"호텔경영\")==True]=\"\""
   ]
  },
  {
   "cell_type": "code",
   "execution_count": 132,
   "metadata": {},
   "outputs": [],
   "source": [
    "second[second.str.contains(\"문화관광\")==True]=\"문화관광콘텐츠학과\""
   ]
  },
  {
   "cell_type": "code",
   "execution_count": 133,
   "metadata": {},
   "outputs": [],
   "source": [
    "df.at[second[second.str.contains(\"문화관광콘텐츠학과\")==True].index,[\"학과\"]]=second[second.str.contains(\"문화관광콘텐츠학과\")==True]"
   ]
  },
  {
   "cell_type": "code",
   "execution_count": 134,
   "metadata": {},
   "outputs": [],
   "source": [
    "second[second.str.contains(\"문화관광콘텐츠학과\")==True]=\"\""
   ]
  },
  {
   "cell_type": "code",
   "execution_count": 135,
   "metadata": {},
   "outputs": [],
   "source": [
    "second[second.str.contains(\"관광경영\")==True]=\"관광경영학과\""
   ]
  },
  {
   "cell_type": "code",
   "execution_count": 136,
   "metadata": {},
   "outputs": [],
   "source": [
    "df.at[second[second.str.contains(\"관광경영학과\")==True].index,[\"학과\"]]=second[second.str.contains(\"관광경영학과\")==True]"
   ]
  },
  {
   "cell_type": "code",
   "execution_count": 137,
   "metadata": {},
   "outputs": [],
   "source": [
    "second[second.str.contains(\"관광경영학과\")==True]=\"\""
   ]
  },
  {
   "cell_type": "code",
   "execution_count": 138,
   "metadata": {},
   "outputs": [],
   "source": [
    "df.at[second[second.str.contains(\"통역\")==True].index,[\"학과\"]]=second[second.str.contains(\"통역\")==True]"
   ]
  },
  {
   "cell_type": "code",
   "execution_count": 139,
   "metadata": {},
   "outputs": [],
   "source": [
    "second[second.str.contains(\"통역\")==True]=\"\""
   ]
  },
  {
   "cell_type": "code",
   "execution_count": 140,
   "metadata": {},
   "outputs": [],
   "source": [
    "second[second.str.contains(\"아태물류\")==True]=\"아태물류학과\""
   ]
  },
  {
   "cell_type": "code",
   "execution_count": 141,
   "metadata": {},
   "outputs": [],
   "source": [
    "df.at[second[second.str.contains(\"아태물류학과\")==True].index,[\"학과\"]]=second[second.str.contains(\"아태물류학과\")==True]"
   ]
  },
  {
   "cell_type": "code",
   "execution_count": 142,
   "metadata": {},
   "outputs": [],
   "source": [
    "second[second.str.contains(\"아태물류\")==True]=\"\""
   ]
  },
  {
   "cell_type": "code",
   "execution_count": 143,
   "metadata": {},
   "outputs": [],
   "source": [
    "df.at[second[second.str.contains(\"물류학\")==True].index,[\"학과\"]]=second[second.str.contains(\"물류학\")==True]"
   ]
  },
  {
   "cell_type": "code",
   "execution_count": 144,
   "metadata": {},
   "outputs": [],
   "source": [
    "second[second.str.contains(\"물류학\")==True]=\"\""
   ]
  },
  {
   "cell_type": "code",
   "execution_count": 145,
   "metadata": {},
   "outputs": [],
   "source": [
    "df.at[second[second.str.contains(\"컴활\")==True].index,[\"자격증\"]]=second[second.str.contains(\"컴활\")==True]"
   ]
  },
  {
   "cell_type": "code",
   "execution_count": 146,
   "metadata": {},
   "outputs": [],
   "source": [
    "second[second.str.contains(\"컴활\")==True]=\"\""
   ]
  },
  {
   "cell_type": "code",
   "execution_count": 147,
   "metadata": {},
   "outputs": [],
   "source": [
    "second[second.str.contains(\"물리\")==True]=\"물리학과\""
   ]
  },
  {
   "cell_type": "code",
   "execution_count": 148,
   "metadata": {},
   "outputs": [],
   "source": [
    "df.at[second[second.str.contains(\"물리학과\")==True].index,[\"학과\"]]=second[second.str.contains(\"물리학과\")==True]"
   ]
  },
  {
   "cell_type": "code",
   "execution_count": 149,
   "metadata": {},
   "outputs": [],
   "source": [
    "second[second.str.contains(\"물리\")==True]=\"\""
   ]
  },
  {
   "cell_type": "code",
   "execution_count": 150,
   "metadata": {},
   "outputs": [],
   "source": [
    "second[second.str.contains(\"러시아어문학\")==True]=\"러시어문학과\""
   ]
  },
  {
   "cell_type": "code",
   "execution_count": 151,
   "metadata": {},
   "outputs": [],
   "source": [
    "df.at[second[second.str.contains(\"러시아문학과\")==True].index,[\"학과\"]]=second[second.str.contains(\"러시아문학과\")==True]"
   ]
  },
  {
   "cell_type": "code",
   "execution_count": 152,
   "metadata": {},
   "outputs": [],
   "source": [
    "second[second.str.contains(\"러시아어문학\")==True]=\"\""
   ]
  },
  {
   "cell_type": "code",
   "execution_count": 153,
   "metadata": {},
   "outputs": [],
   "source": [
    "df.at[second[second.str.contains(\"북한학과\")==True].index,[\"학과\"]]=second[second.str.contains(\"북한학과\")==True]"
   ]
  },
  {
   "cell_type": "code",
   "execution_count": 154,
   "metadata": {},
   "outputs": [],
   "source": [
    "second[second.str.contains(\"북한학과\")==True]=\"\""
   ]
  },
  {
   "cell_type": "code",
   "execution_count": 155,
   "metadata": {},
   "outputs": [],
   "source": [
    "df.at[second[second.str.contains(\"러시아\")==True].index,[\"학과\"]]=second[second.str.contains(\"러시아\")==True]"
   ]
  },
  {
   "cell_type": "code",
   "execution_count": 156,
   "metadata": {},
   "outputs": [],
   "source": [
    "second[second.str.contains(\"러시어\")==True]=\"\""
   ]
  },
  {
   "cell_type": "code",
   "execution_count": 157,
   "metadata": {},
   "outputs": [],
   "source": [
    "second[second.str.contains(\"심리학 복\")==True]=\"국어국문학과\""
   ]
  },
  {
   "cell_type": "code",
   "execution_count": 158,
   "metadata": {},
   "outputs": [],
   "source": [
    "second[second.str.contains(\"문예창작\")==True]=\"문예창작학과\""
   ]
  },
  {
   "cell_type": "code",
   "execution_count": 159,
   "metadata": {},
   "outputs": [],
   "source": [
    "df.at[second[second.str.contains(\"문예창작학과\")==True].index,[\"학과\"]]=second[second.str.contains(\"문예창작학과\")==True]"
   ]
  },
  {
   "cell_type": "code",
   "execution_count": 160,
   "metadata": {},
   "outputs": [],
   "source": [
    "second[second.str.contains(\"문예창작학과\")==True]=\"\""
   ]
  },
  {
   "cell_type": "code",
   "execution_count": 161,
   "metadata": {},
   "outputs": [],
   "source": [
    "second[second.str.contains(\"국어국\")==True]=\"국어국문학과\""
   ]
  },
  {
   "cell_type": "code",
   "execution_count": 162,
   "metadata": {},
   "outputs": [],
   "source": [
    "df.at[second[second.str.contains(\"국어국문학과\")==True].index,[\"학과\"]]=second[second.str.contains(\"국어국문학과\")==True]"
   ]
  },
  {
   "cell_type": "code",
   "execution_count": 163,
   "metadata": {},
   "outputs": [],
   "source": [
    "second[second.str.contains(\"국어국문학과\")==True]=\"\""
   ]
  },
  {
   "cell_type": "code",
   "execution_count": 164,
   "metadata": {},
   "outputs": [],
   "source": [
    "second[second.str.contains(\"중국문\")==True]=\"중국문화학과\""
   ]
  },
  {
   "cell_type": "code",
   "execution_count": 165,
   "metadata": {},
   "outputs": [],
   "source": [
    "df.at[second[second.str.contains(\"중국문화학과\")==True].index,[\"학과\"]]=second[second.str.contains(\"중국문화학과\")==True]"
   ]
  },
  {
   "cell_type": "code",
   "execution_count": 166,
   "metadata": {},
   "outputs": [],
   "source": [
    "second[second.str.contains(\"중국문화학과\")==True]=\"\""
   ]
  },
  {
   "cell_type": "code",
   "execution_count": 167,
   "metadata": {},
   "outputs": [],
   "source": [
    "second[second.str.contains(\"경영&중국어\")==True]=\"경영학과\""
   ]
  },
  {
   "cell_type": "code",
   "execution_count": 168,
   "metadata": {},
   "outputs": [],
   "source": [
    "df.at[second[second.str.contains(\"경영학과\")==True].index,[\"학과\"]]=second[second.str.contains(\"경영학과\")==True]"
   ]
  },
  {
   "cell_type": "code",
   "execution_count": 169,
   "metadata": {},
   "outputs": [],
   "source": [
    "second[second.str.contains(\"경영학과\")==True]=\"\""
   ]
  },
  {
   "cell_type": "code",
   "execution_count": 170,
   "metadata": {},
   "outputs": [],
   "source": [
    "second[second.str.contains(\"중국어, 국제물류\")==True]=\"중국어학과\""
   ]
  },
  {
   "cell_type": "code",
   "execution_count": 171,
   "metadata": {},
   "outputs": [],
   "source": [
    "df.at[second[second.str.contains(\"중국어학과\")==True].index,[\"학과\"]]=second[second.str.contains(\"중국어학과\")==True]"
   ]
  },
  {
   "cell_type": "code",
   "execution_count": 172,
   "metadata": {},
   "outputs": [],
   "source": [
    "second[second.str.contains(\"중국어학과\")==True]=\"\""
   ]
  },
  {
   "cell_type": "code",
   "execution_count": 173,
   "metadata": {},
   "outputs": [],
   "source": [
    "second[second.str.contains(\"비즈니스중국어\")==True]=\"비즈니스중국어학과\""
   ]
  },
  {
   "cell_type": "code",
   "execution_count": 174,
   "metadata": {},
   "outputs": [],
   "source": [
    "df.at[second[second.str.contains(\"비즈니스중국어학과\")==True].index,[\"학과\"]]=second[second.str.contains(\"비즈니스중국어학과\")==True]"
   ]
  },
  {
   "cell_type": "code",
   "execution_count": 175,
   "metadata": {},
   "outputs": [],
   "source": [
    "second[second.str.contains(\"비즈니스중국어학과\")==True]=\"\""
   ]
  },
  {
   "cell_type": "code",
   "execution_count": 176,
   "metadata": {},
   "outputs": [],
   "source": [
    "second[second.str.contains(\"중국어\")==True]=\"중국어학과\""
   ]
  },
  {
   "cell_type": "code",
   "execution_count": 177,
   "metadata": {},
   "outputs": [],
   "source": [
    "df.at[second[second.str.contains(\"중국어학과\")==True].index,[\"학과\"]]=second[second.str.contains(\"중국어학과\")==True]"
   ]
  },
  {
   "cell_type": "code",
   "execution_count": 178,
   "metadata": {},
   "outputs": [],
   "source": [
    "second[second.str.contains(\"중국어학과\")==True]=\"\""
   ]
  },
  {
   "cell_type": "code",
   "execution_count": 179,
   "metadata": {},
   "outputs": [],
   "source": [
    "second[second.str.contains(\"중국학\")==True]=\"중국학과\""
   ]
  },
  {
   "cell_type": "code",
   "execution_count": 180,
   "metadata": {},
   "outputs": [],
   "source": [
    "df.at[second[second.str.contains(\"중국학과\")==True].index,[\"학과\"]]=second[second.str.contains(\"중국학과\")==True]"
   ]
  },
  {
   "cell_type": "code",
   "execution_count": 181,
   "metadata": {},
   "outputs": [],
   "source": [
    "second[second.str.contains(\"중국학과\")==True]=\"\""
   ]
  },
  {
   "cell_type": "code",
   "execution_count": 182,
   "metadata": {},
   "outputs": [],
   "source": [
    "second[second.str.contains(\"중국지역학\")==True]=\"중국지역학과\""
   ]
  },
  {
   "cell_type": "code",
   "execution_count": 183,
   "metadata": {},
   "outputs": [],
   "source": [
    "df.at[second[second.str.contains(\"중국지역학과\")==True].index,[\"학과\"]]=second[second.str.contains(\"중국지역학과\")==True]"
   ]
  },
  {
   "cell_type": "code",
   "execution_count": 184,
   "metadata": {},
   "outputs": [],
   "source": [
    "second[second.str.contains(\"중국지역학과\")==True]=\"\""
   ]
  },
  {
   "cell_type": "code",
   "execution_count": 185,
   "metadata": {},
   "outputs": [],
   "source": [
    "second[second.str.contains(\"중국\")==True]=\"국제통상학과\""
   ]
  },
  {
   "cell_type": "code",
   "execution_count": 186,
   "metadata": {},
   "outputs": [],
   "source": [
    "second[second.str.contains(\"국제통\")==True]=\"국제통상학과\""
   ]
  },
  {
   "cell_type": "code",
   "execution_count": 187,
   "metadata": {},
   "outputs": [],
   "source": [
    "second[second.str.contains(\"경제통상\")==True]=\"경제통상학과\""
   ]
  },
  {
   "cell_type": "code",
   "execution_count": 188,
   "metadata": {},
   "outputs": [],
   "source": [
    "df.at[second[second.str.contains(\"국제통상학과\")==True].index,[\"학과\"]]=second[second.str.contains(\"국제통상학과\")==True]"
   ]
  },
  {
   "cell_type": "code",
   "execution_count": 189,
   "metadata": {},
   "outputs": [],
   "source": [
    "df.at[second[second.str.contains(\"경제통상학과\")==True].index,[\"학과\"]]=second[second.str.contains(\"경제통상학과\")==True]"
   ]
  },
  {
   "cell_type": "code",
   "execution_count": 190,
   "metadata": {},
   "outputs": [],
   "source": [
    "second[second.str.contains(\"국제통상학과\")==True]=\"\""
   ]
  },
  {
   "cell_type": "code",
   "execution_count": 191,
   "metadata": {},
   "outputs": [],
   "source": [
    "second[second.str.contains(\"경제통상학과\")==True]=\"\""
   ]
  },
  {
   "cell_type": "code",
   "execution_count": 192,
   "metadata": {},
   "outputs": [],
   "source": [
    "second[second.str.contains(\"통상\")==True]=\"일본통상학과\""
   ]
  },
  {
   "cell_type": "code",
   "execution_count": 193,
   "metadata": {},
   "outputs": [],
   "source": [
    "df.at[second[second.str.contains(\"일본통상학과\")==True].index,[\"학과\"]]=second[second.str.contains(\"일본통상학과\")==True]"
   ]
  },
  {
   "cell_type": "code",
   "execution_count": 194,
   "metadata": {},
   "outputs": [],
   "source": [
    "second[second.str.contains(\"일본통상학과\")==True]=\"\""
   ]
  },
  {
   "cell_type": "code",
   "execution_count": 195,
   "metadata": {},
   "outputs": [],
   "source": [
    "second[second.str.contains(\"정보통신\")==True]=\"정보통신공학과\""
   ]
  },
  {
   "cell_type": "code",
   "execution_count": 196,
   "metadata": {},
   "outputs": [],
   "source": [
    "df.at[second[second.str.contains(\"정보통신공학과\")==True].index,[\"학과\"]]=second[second.str.contains(\"정보통신공학과\")==True]"
   ]
  },
  {
   "cell_type": "code",
   "execution_count": 197,
   "metadata": {},
   "outputs": [],
   "source": [
    "second[second.str.contains(\"정보통신공학과\")==True]=\"\""
   ]
  },
  {
   "cell_type": "code",
   "execution_count": 198,
   "metadata": {},
   "outputs": [],
   "source": [
    "second[second.str.contains(\"항공우주정보시스템공학\")==True]=\"항공우주시스템공학과\""
   ]
  },
  {
   "cell_type": "code",
   "execution_count": 199,
   "metadata": {},
   "outputs": [],
   "source": [
    "second[second.str.contains(\"항공우주시스템공학\")==True]=\"항공우주시스템공학과\""
   ]
  },
  {
   "cell_type": "code",
   "execution_count": 200,
   "metadata": {},
   "outputs": [],
   "source": [
    "df.at[second[second.str.contains(\"항공우주시스템공학과\")==True].index,[\"학과\"]]=second[second.str.contains(\"항공우주시스템공학과\")==True]"
   ]
  },
  {
   "cell_type": "code",
   "execution_count": 201,
   "metadata": {},
   "outputs": [],
   "source": [
    "second[second.str.contains(\"항공우주시스템공학과\")==True]=\"\""
   ]
  },
  {
   "cell_type": "code",
   "execution_count": 202,
   "metadata": {},
   "outputs": [],
   "source": [
    "second[second.str.contains(\"항공우주시스템\")==True]=\"항공우주시스템공학과\""
   ]
  },
  {
   "cell_type": "code",
   "execution_count": 203,
   "metadata": {},
   "outputs": [],
   "source": [
    "df.at[second[second.str.contains(\"항공우주시스템공학과\")==True].index,[\"학과\"]]=second[second.str.contains(\"항공우주시스템공학과\")==True]"
   ]
  },
  {
   "cell_type": "code",
   "execution_count": 204,
   "metadata": {},
   "outputs": [],
   "source": [
    "second[second.str.contains(\"항공우주시스템공학과\")==True]=\"\""
   ]
  },
  {
   "cell_type": "code",
   "execution_count": 205,
   "metadata": {},
   "outputs": [],
   "source": [
    "second[second.str.contains(\"항공우주\")==True]=\"항공우주공학과\""
   ]
  },
  {
   "cell_type": "code",
   "execution_count": 206,
   "metadata": {},
   "outputs": [],
   "source": [
    "df.at[second[second.str.contains(\"항공우주공학과\")==True].index,[\"학과\"]]=second[second.str.contains(\"항공우주공학과\")==True]"
   ]
  },
  {
   "cell_type": "code",
   "execution_count": 207,
   "metadata": {},
   "outputs": [],
   "source": [
    "second[second.str.contains(\"항공우주공학과\")==True]=\"\""
   ]
  },
  {
   "cell_type": "code",
   "execution_count": 208,
   "metadata": {},
   "outputs": [],
   "source": [
    "second[second.str.contains(\"항공교통\")==True]=\"항공교통학과\""
   ]
  },
  {
   "cell_type": "code",
   "execution_count": 209,
   "metadata": {},
   "outputs": [],
   "source": [
    "df.at[second[second.str.contains(\"항공교통학과\")==True].index,[\"학과\"]]=second[second.str.contains(\"항공교통학과\")==True]"
   ]
  },
  {
   "cell_type": "code",
   "execution_count": 210,
   "metadata": {},
   "outputs": [],
   "source": [
    "second[second.str.contains(\"항공교통학과\")==True]=\"\""
   ]
  },
  {
   "cell_type": "code",
   "execution_count": 211,
   "metadata": {},
   "outputs": [],
   "source": [
    "second[second.str.contains(\"항공기\")==True]=\"항공기시스템학과\""
   ]
  },
  {
   "cell_type": "code",
   "execution_count": 212,
   "metadata": {},
   "outputs": [],
   "source": [
    "df.at[second[second.str.contains(\"항공기시스템학과\")==True].index,[\"학과\"]]=second[second.str.contains(\"항공기시스템학과\")==True]"
   ]
  },
  {
   "cell_type": "code",
   "execution_count": 213,
   "metadata": {},
   "outputs": [],
   "source": [
    "second[second.str.contains(\"항공기시스템학과\")==True]=\"\""
   ]
  },
  {
   "cell_type": "code",
   "execution_count": 214,
   "metadata": {},
   "outputs": [],
   "source": [
    "second[second.str.contains(\"항공\")==True]=\"항공학과\""
   ]
  },
  {
   "cell_type": "code",
   "execution_count": 215,
   "metadata": {},
   "outputs": [],
   "source": [
    "df.at[second[second.str.contains(\"항공학과\")==True].index,[\"학과\"]]=second[second.str.contains(\"항공학과\")==True]"
   ]
  },
  {
   "cell_type": "code",
   "execution_count": 216,
   "metadata": {},
   "outputs": [],
   "source": [
    "second[second.str.contains(\"항공학과\")==True]=\"\""
   ]
  },
  {
   "cell_type": "code",
   "execution_count": 217,
   "metadata": {},
   "outputs": [],
   "source": [
    "second[second.str.contains(\"광고\")==True]=\"광고홍보학과\""
   ]
  },
  {
   "cell_type": "code",
   "execution_count": 218,
   "metadata": {},
   "outputs": [],
   "source": [
    "df.at[second[second.str.contains(\"광고홍보학과\")==True].index,[\"학과\"]]=second[second.str.contains(\"광고홍보학과\")==True]"
   ]
  },
  {
   "cell_type": "code",
   "execution_count": 219,
   "metadata": {},
   "outputs": [],
   "source": [
    "second[second.str.contains(\"광고홍보학과\")==True]=\"\""
   ]
  },
  {
   "cell_type": "code",
   "execution_count": 220,
   "metadata": {},
   "outputs": [],
   "source": [
    "second[second.str.contains(\"산업공\")==True]=\"산업공학과\""
   ]
  },
  {
   "cell_type": "code",
   "execution_count": 221,
   "metadata": {},
   "outputs": [],
   "source": [
    "df.at[second[second.str.contains(\"산업공학과\")==True].index,[\"학과\"]]=second[second.str.contains(\"산업공학과\")==True]"
   ]
  },
  {
   "cell_type": "code",
   "execution_count": 222,
   "metadata": {},
   "outputs": [],
   "source": [
    "second[second.str.contains(\"산업공학과\")==True]=\"\""
   ]
  },
  {
   "cell_type": "code",
   "execution_count": 223,
   "metadata": {},
   "outputs": [],
   "source": [
    "second[second.str.contains(\"전기공\")==True]=\"전기공학과\""
   ]
  },
  {
   "cell_type": "code",
   "execution_count": 224,
   "metadata": {},
   "outputs": [],
   "source": [
    "df.at[second[second.str.contains(\"전기공학과\")==True].index,[\"학과\"]]=second[second.str.contains(\"전기공학과\")==True]"
   ]
  },
  {
   "cell_type": "code",
   "execution_count": 225,
   "metadata": {},
   "outputs": [],
   "source": [
    "second[second.str.contains(\"전기공학과\")==True]=\"\""
   ]
  },
  {
   "cell_type": "code",
   "execution_count": 226,
   "metadata": {},
   "outputs": [],
   "source": [
    "second[second.str.contains(\"전기정보\")==True]=\"전기정보공학과\""
   ]
  },
  {
   "cell_type": "code",
   "execution_count": 227,
   "metadata": {},
   "outputs": [],
   "source": [
    "df.at[second[second.str.contains(\"전기정보공학과\")==True].index,[\"학과\"]]=second[second.str.contains(\"전기정보공학과\")==True]"
   ]
  },
  {
   "cell_type": "code",
   "execution_count": 228,
   "metadata": {},
   "outputs": [],
   "source": [
    "second[second.str.contains(\"전기정보공학과\")==True]=\"\""
   ]
  },
  {
   "cell_type": "code",
   "execution_count": 229,
   "metadata": {},
   "outputs": [],
   "source": [
    "second[second.str.contains(\"전기\")==True]=\"전기공학과\""
   ]
  },
  {
   "cell_type": "code",
   "execution_count": 230,
   "metadata": {},
   "outputs": [],
   "source": [
    "df.at[second[second.str.contains(\"전기공학과\")==True].index,[\"학과\"]]=second[second.str.contains(\"전기공학과\")==True]"
   ]
  },
  {
   "cell_type": "code",
   "execution_count": 231,
   "metadata": {},
   "outputs": [],
   "source": [
    "second[second.str.contains(\"전기공학과\")==True]=\"\""
   ]
  },
  {
   "cell_type": "code",
   "execution_count": 232,
   "metadata": {},
   "outputs": [],
   "source": [
    "second[second.str.contains(\"경영\")==True]=\"경영학과\""
   ]
  },
  {
   "cell_type": "code",
   "execution_count": 233,
   "metadata": {},
   "outputs": [],
   "source": [
    "df.at[second[second.str.contains(\"경영학과\")==True].index,[\"학과\"]]=second[second.str.contains(\"경영학과\")==True]"
   ]
  },
  {
   "cell_type": "code",
   "execution_count": 234,
   "metadata": {},
   "outputs": [],
   "source": [
    "second[second.str.contains(\"경영학과\")==True]=\"\""
   ]
  },
  {
   "cell_type": "code",
   "execution_count": 235,
   "metadata": {},
   "outputs": [],
   "source": [
    "second[second.str.contains(\"바이오나노\")==True]=\"바이오나노학과\""
   ]
  },
  {
   "cell_type": "code",
   "execution_count": 236,
   "metadata": {},
   "outputs": [],
   "source": [
    "df.at[second[second.str.contains(\"바이오나노\")==True].index,[\"학과\"]]=second[second.str.contains(\"바이오나노\")==True]"
   ]
  },
  {
   "cell_type": "code",
   "execution_count": 237,
   "metadata": {},
   "outputs": [],
   "source": [
    "second[second.str.contains(\"바이오나노학과\")==True]=\"\""
   ]
  },
  {
   "cell_type": "code",
   "execution_count": 238,
   "metadata": {},
   "outputs": [],
   "source": [
    "second[second.str.contains(\"바이오\")==True]=\"바이오공학과\""
   ]
  },
  {
   "cell_type": "code",
   "execution_count": 239,
   "metadata": {},
   "outputs": [],
   "source": [
    "df.at[second[second.str.contains(\"바이오공학과\")==True].index,[\"학과\"]]=second[second.str.contains(\"바이오공학과\")==True]"
   ]
  },
  {
   "cell_type": "code",
   "execution_count": 240,
   "metadata": {},
   "outputs": [],
   "source": [
    "second[second.str.contains(\"바이오공학과\")==True]=\"\""
   ]
  },
  {
   "cell_type": "code",
   "execution_count": 241,
   "metadata": {},
   "outputs": [],
   "source": [
    "second[second.str.contains(\"생명나노공학\")==True]=\"생명나노공학과\""
   ]
  },
  {
   "cell_type": "code",
   "execution_count": 242,
   "metadata": {},
   "outputs": [],
   "source": [
    "second[second.str.contains(\"나노메디컬유기재료공학과\")==True]=\"생명나노공학과\""
   ]
  },
  {
   "cell_type": "code",
   "execution_count": 243,
   "metadata": {},
   "outputs": [],
   "source": [
    "second[second.str.contains(\"유기나노공학과\")==True]=\"생명나노공학과\""
   ]
  },
  {
   "cell_type": "code",
   "execution_count": 244,
   "metadata": {},
   "outputs": [],
   "source": [
    "df.at[second[second.str.contains(\"생명나노공학과\")==True].index,[\"학과\"]]=second[second.str.contains(\"생명나노공학과\")==True]"
   ]
  },
  {
   "cell_type": "code",
   "execution_count": 245,
   "metadata": {},
   "outputs": [],
   "source": [
    "second[second.str.contains(\"생명나노공학과\")==True]=\"\""
   ]
  },
  {
   "cell_type": "code",
   "execution_count": 246,
   "metadata": {},
   "outputs": [],
   "source": [
    "second[second.str.contains(\"나노\")==True]=\"나노공학과\""
   ]
  },
  {
   "cell_type": "code",
   "execution_count": 247,
   "metadata": {},
   "outputs": [],
   "source": [
    "df.at[second[second.str.contains(\"나노공학과\")==True].index,[\"학과\"]]=second[second.str.contains(\"나노공학과\")==True]"
   ]
  },
  {
   "cell_type": "code",
   "execution_count": 248,
   "metadata": {},
   "outputs": [],
   "source": [
    "second[second.str.contains(\"나노공학과\")==True]=\"\""
   ]
  },
  {
   "cell_type": "code",
   "execution_count": 249,
   "metadata": {},
   "outputs": [],
   "source": [
    "df.at[second[second.str.contains(\"지리\")==True].index,[\"학과\"]]=second[second.str.contains(\"지리\")==True]"
   ]
  },
  {
   "cell_type": "code",
   "execution_count": 250,
   "metadata": {},
   "outputs": [],
   "source": [
    "second[second.str.contains(\"지리\")==True]=\"\""
   ]
  },
  {
   "cell_type": "code",
   "execution_count": 251,
   "metadata": {},
   "outputs": [],
   "source": [
    "df.at[second[second.str.contains(\"토익\")==True].index,[\"어학\"]]=second[second.str.contains(\"토익\")==True]"
   ]
  },
  {
   "cell_type": "code",
   "execution_count": 252,
   "metadata": {},
   "outputs": [],
   "source": [
    "second[second.str.contains(\"토익\")==True]=\"\""
   ]
  },
  {
   "cell_type": "code",
   "execution_count": 253,
   "metadata": {},
   "outputs": [],
   "source": [
    "second[second.str.contains(\"법학\")==True]=\"법학과\""
   ]
  },
  {
   "cell_type": "code",
   "execution_count": 254,
   "metadata": {},
   "outputs": [],
   "source": [
    "df.at[second[second.str.contains(\"법학과\")==True].index,[\"학과\"]]=second[second.str.contains(\"법학과\")==True]"
   ]
  },
  {
   "cell_type": "code",
   "execution_count": 255,
   "metadata": {},
   "outputs": [],
   "source": [
    "second[second.str.contains(\"법학과\")==True]=\"\""
   ]
  },
  {
   "cell_type": "code",
   "execution_count": 256,
   "metadata": {},
   "outputs": [],
   "source": [
    "second[second.str.contains(\"신문\")==True]=\"신문방송학과\""
   ]
  },
  {
   "cell_type": "code",
   "execution_count": 257,
   "metadata": {},
   "outputs": [],
   "source": [
    "df.at[second[second.str.contains(\"신문방송학과\")==True].index,[\"학과\"]]=second[second.str.contains(\"신문방송학과\")==True]"
   ]
  },
  {
   "cell_type": "code",
   "execution_count": 258,
   "metadata": {},
   "outputs": [],
   "source": [
    "second[second.str.contains(\"신문방송학과\")==True]=\"\""
   ]
  },
  {
   "cell_type": "code",
   "execution_count": 259,
   "metadata": {},
   "outputs": [],
   "source": [
    "second[second.str.contains(\"영문\")==True]=\"영문학과\""
   ]
  },
  {
   "cell_type": "code",
   "execution_count": 260,
   "metadata": {},
   "outputs": [],
   "source": [
    "df.at[second[second.str.contains(\"영문학과\")==True].index,[\"학과\"]]=second[second.str.contains(\"영문학과\")==True]"
   ]
  },
  {
   "cell_type": "code",
   "execution_count": 261,
   "metadata": {},
   "outputs": [],
   "source": [
    "second[second.str.contains(\"영문학과\")==True]=\"\""
   ]
  },
  {
   "cell_type": "code",
   "execution_count": 262,
   "metadata": {},
   "outputs": [],
   "source": [
    "second[second.str.contains(\"경제\")==True]=\"경제학과\""
   ]
  },
  {
   "cell_type": "code",
   "execution_count": 263,
   "metadata": {},
   "outputs": [],
   "source": [
    "df.at[second[second.str.contains(\"경제학과\")==True].index,[\"학과\"]]=second[second.str.contains(\"경제학과\")==True]"
   ]
  },
  {
   "cell_type": "code",
   "execution_count": 264,
   "metadata": {},
   "outputs": [],
   "source": [
    "second[second.str.contains(\"경제학과\")==True]=\"\""
   ]
  },
  {
   "cell_type": "code",
   "execution_count": 265,
   "metadata": {},
   "outputs": [],
   "source": [
    "second[second.str.contains(\"토목\")==True]=\"토목공학과\""
   ]
  },
  {
   "cell_type": "code",
   "execution_count": 266,
   "metadata": {},
   "outputs": [],
   "source": [
    "df.at[second[second.str.contains(\"토목공학과\")==True].index,[\"학과\"]]=second[second.str.contains(\"토목공학과\")==True]"
   ]
  },
  {
   "cell_type": "code",
   "execution_count": 267,
   "metadata": {},
   "outputs": [],
   "source": [
    "second[second.str.contains(\"토목공학과\")==True]=\"\""
   ]
  },
  {
   "cell_type": "code",
   "execution_count": 268,
   "metadata": {},
   "outputs": [],
   "source": [
    "second[second.str.contains(\"국제정치\")==True]=\"국제정치학과\""
   ]
  },
  {
   "cell_type": "code",
   "execution_count": 269,
   "metadata": {},
   "outputs": [],
   "source": [
    "df.at[second[second.str.contains(\"국제정치학과\")==True].index,[\"학과\"]]=second[second.str.contains(\"국제정치학과\")==True]"
   ]
  },
  {
   "cell_type": "code",
   "execution_count": 270,
   "metadata": {},
   "outputs": [],
   "source": [
    "second[second.str.contains(\"국제정치학과\")==True]=\"\""
   ]
  },
  {
   "cell_type": "code",
   "execution_count": 271,
   "metadata": {},
   "outputs": [],
   "source": [
    "second[second.str.contains(\"정치\")==True]=\"정치외교학과\""
   ]
  },
  {
   "cell_type": "code",
   "execution_count": 272,
   "metadata": {},
   "outputs": [],
   "source": [
    "df.at[second[second.str.contains(\"정치외교학과\")==True].index,[\"학과\"]]=second[second.str.contains(\"정치외교학과\")==True]"
   ]
  },
  {
   "cell_type": "code",
   "execution_count": 273,
   "metadata": {},
   "outputs": [],
   "source": [
    "second[second.str.contains(\"정치외교학과\")==True]=\"\""
   ]
  },
  {
   "cell_type": "code",
   "execution_count": 274,
   "metadata": {},
   "outputs": [],
   "source": [
    "second[second.str.contains(\"대학원\")==True]=\"대학원\""
   ]
  },
  {
   "cell_type": "code",
   "execution_count": 275,
   "metadata": {},
   "outputs": [],
   "source": [
    "df.at[second[second.str.contains(\"대학원\")==True].index,[\"학과\"]]=second[second.str.contains(\"대학원\")==True]"
   ]
  },
  {
   "cell_type": "code",
   "execution_count": 276,
   "metadata": {},
   "outputs": [],
   "source": [
    "second[second.str.contains(\"대학원\")==True]=\"\""
   ]
  },
  {
   "cell_type": "code",
   "execution_count": 277,
   "metadata": {},
   "outputs": [],
   "source": [
    "second[second.str.contains(\"수학\")==True]=\"수학과\""
   ]
  },
  {
   "cell_type": "code",
   "execution_count": 278,
   "metadata": {},
   "outputs": [],
   "source": [
    "df.at[second[second.str.contains(\"수학과\")==True].index,[\"학과\"]]=second[second.str.contains(\"수학과\")==True]"
   ]
  },
  {
   "cell_type": "code",
   "execution_count": 279,
   "metadata": {},
   "outputs": [],
   "source": [
    "second[second.str.contains(\"수학과\")==True]=\"\""
   ]
  },
  {
   "cell_type": "code",
   "execution_count": 280,
   "metadata": {},
   "outputs": [],
   "source": [
    "second[second.str.contains(\"컴공\")==True]=\"컴퓨터공학과\""
   ]
  },
  {
   "cell_type": "code",
   "execution_count": 281,
   "metadata": {},
   "outputs": [],
   "source": [
    "df.at[second[second.str.contains(\"컴퓨터공학과\")==True].index,[\"학과\"]]=second[second.str.contains(\"컴퓨터공학과\")==True]"
   ]
  },
  {
   "cell_type": "code",
   "execution_count": 282,
   "metadata": {},
   "outputs": [],
   "source": [
    "second[second.str.contains(\"컴퓨터공학과\")==True]=\"\""
   ]
  },
  {
   "cell_type": "code",
   "execution_count": 283,
   "metadata": {},
   "outputs": [],
   "source": [
    "second[second.str.contains(\"이탈\")==True]=\"이탈리아어학과\""
   ]
  },
  {
   "cell_type": "code",
   "execution_count": 284,
   "metadata": {},
   "outputs": [],
   "source": [
    "df.at[second[second.str.contains(\"이탈리아어학과\")==True].index,[\"학과\"]]=second[second.str.contains(\"이탈리아어학과\")==True]"
   ]
  },
  {
   "cell_type": "code",
   "execution_count": 285,
   "metadata": {},
   "outputs": [],
   "source": [
    "second[second.str.contains(\"이탈리아어학과\")==True]=\"\""
   ]
  },
  {
   "cell_type": "code",
   "execution_count": 286,
   "metadata": {},
   "outputs": [],
   "source": [
    "second[second.str.contains(\"유기응용재료공학\")==True]=\"유기응용재료공학과\""
   ]
  },
  {
   "cell_type": "code",
   "execution_count": 287,
   "metadata": {},
   "outputs": [],
   "source": [
    "df.at[second[second.str.contains(\"유기응용재료공학\")==True].index,[\"학과\"]]=second[second.str.contains(\"유기응용재료공학과\")==True]"
   ]
  },
  {
   "cell_type": "code",
   "execution_count": 288,
   "metadata": {},
   "outputs": [],
   "source": [
    "second[second.str.contains(\"유기응용재료공학과\")==True]=\"\""
   ]
  },
  {
   "cell_type": "code",
   "execution_count": 289,
   "metadata": {},
   "outputs": [],
   "source": [
    "second[second.str.contains(\"재료\")==True]=\"재료공학과\""
   ]
  },
  {
   "cell_type": "code",
   "execution_count": 290,
   "metadata": {},
   "outputs": [],
   "source": [
    "df.at[second[second.str.contains(\"재료공학과\")==True].index,[\"학과\"]]=second[second.str.contains(\"재료공학과\")==True]"
   ]
  },
  {
   "cell_type": "code",
   "execution_count": 291,
   "metadata": {},
   "outputs": [],
   "source": [
    "second[second.str.contains(\"재료공학과\")==True]=\"\""
   ]
  },
  {
   "cell_type": "code",
   "execution_count": 292,
   "metadata": {},
   "outputs": [],
   "source": [
    "second[second.str.contains(\"신소재\")==True]=\"신소재공학과\""
   ]
  },
  {
   "cell_type": "code",
   "execution_count": 293,
   "metadata": {},
   "outputs": [],
   "source": [
    "df.at[second[second.str.contains(\"신소재공학과\")==True].index,[\"학과\"]]=second[second.str.contains(\"신소재공학과\")==True]"
   ]
  },
  {
   "cell_type": "code",
   "execution_count": 294,
   "metadata": {},
   "outputs": [],
   "source": [
    "second[second.str.contains(\"신소재공학과\")==True]=\"\""
   ]
  },
  {
   "cell_type": "code",
   "execution_count": 295,
   "metadata": {},
   "outputs": [],
   "source": [
    "second[second.str.contains(\"사회과학\")==True]=\"사회과학계열학과\""
   ]
  },
  {
   "cell_type": "code",
   "execution_count": 296,
   "metadata": {},
   "outputs": [],
   "source": [
    "df.at[second[second.str.contains(\"사회과학계열학과\")==True].index,[\"학과\"]]=second[second.str.contains(\"사회과학계열학과\")==True]"
   ]
  },
  {
   "cell_type": "code",
   "execution_count": 297,
   "metadata": {},
   "outputs": [],
   "source": [
    "second[second.str.contains(\"사회과학계열학과\")==True]=\"\""
   ]
  },
  {
   "cell_type": "code",
   "execution_count": 298,
   "metadata": {},
   "outputs": [],
   "source": [
    "second[second.str.contains(\"상경\")==True]=\"상경계열학과\""
   ]
  },
  {
   "cell_type": "code",
   "execution_count": 299,
   "metadata": {},
   "outputs": [],
   "source": [
    "df.at[second[second.str.contains(\"상경계열학과\")==True].index,[\"학과\"]]=second[second.str.contains(\"상경계열학과\")==True]"
   ]
  },
  {
   "cell_type": "code",
   "execution_count": 300,
   "metadata": {},
   "outputs": [],
   "source": [
    "second[second.str.contains(\"상경계열학과\")==True]=\"\""
   ]
  },
  {
   "cell_type": "code",
   "execution_count": 301,
   "metadata": {},
   "outputs": [],
   "source": [
    "second[second.str.contains(\"문사\")==True]=\"인문사회계열학과\""
   ]
  },
  {
   "cell_type": "code",
   "execution_count": 302,
   "metadata": {},
   "outputs": [],
   "source": [
    "df.at[second[second.str.contains(\"인문사회계열학과\")==True].index,[\"학과\"]]=second[second.str.contains(\"인문사회계열학과\")==True]"
   ]
  },
  {
   "cell_type": "code",
   "execution_count": 303,
   "metadata": {},
   "outputs": [],
   "source": [
    "second[second.str.contains(\"인문사회계열학과\")==True]=\"\""
   ]
  },
  {
   "cell_type": "code",
   "execution_count": 304,
   "metadata": {},
   "outputs": [],
   "source": [
    "second[second.str.contains(\"중문\")==True]=\"중어중문학과\""
   ]
  },
  {
   "cell_type": "code",
   "execution_count": 305,
   "metadata": {},
   "outputs": [],
   "source": [
    "df.at[second[second.str.contains(\"중어중문학과\")==True].index,[\"학과\"]]=second[second.str.contains(\"중어중문학과\")==True]"
   ]
  },
  {
   "cell_type": "code",
   "execution_count": 306,
   "metadata": {},
   "outputs": [],
   "source": [
    "second[second.str.contains(\"중어중문학과\")==True]=\"\""
   ]
  },
  {
   "cell_type": "code",
   "execution_count": 307,
   "metadata": {},
   "outputs": [],
   "source": [
    "df.at[second[second.str.contains(\"축산\")==True].index,[\"학과\"]]=second[second.str.contains(\"축산\")==True]"
   ]
  },
  {
   "cell_type": "code",
   "execution_count": 308,
   "metadata": {},
   "outputs": [],
   "source": [
    "second[second.str.contains(\"축산\")==True]=\"\""
   ]
  },
  {
   "cell_type": "code",
   "execution_count": 309,
   "metadata": {},
   "outputs": [],
   "source": [
    "second[second.str.contains(\"식품공\")==True]=\"식품공학과\""
   ]
  },
  {
   "cell_type": "code",
   "execution_count": 310,
   "metadata": {},
   "outputs": [],
   "source": [
    "df.at[second[second.str.contains(\"식품공학과\")==True].index,[\"학과\"]]=second[second.str.contains(\"식품공학과\")==True]"
   ]
  },
  {
   "cell_type": "code",
   "execution_count": 311,
   "metadata": {},
   "outputs": [],
   "source": [
    "second[second.str.contains(\"식품공학과\")==True]=\"\""
   ]
  },
  {
   "cell_type": "code",
   "execution_count": 312,
   "metadata": {},
   "outputs": [],
   "source": [
    "df.at[second[second.str.contains(\"식품생명\")==True].index,[\"학과\"]]=second[second.str.contains(\"식품생명\")==True]"
   ]
  },
  {
   "cell_type": "code",
   "execution_count": 313,
   "metadata": {},
   "outputs": [],
   "source": [
    "second[second.str.contains(\"식품생명\")==True]=\"\""
   ]
  },
  {
   "cell_type": "code",
   "execution_count": 314,
   "metadata": {},
   "outputs": [],
   "source": [
    "second[second.str.contains(\"식품\")==True]=\"식품영양학과\""
   ]
  },
  {
   "cell_type": "code",
   "execution_count": 315,
   "metadata": {},
   "outputs": [],
   "source": [
    "df.at[second[second.str.contains(\"식품영양학과\")==True].index,[\"학과\"]]=second[second.str.contains(\"식품영양학과\")==True]"
   ]
  },
  {
   "cell_type": "code",
   "execution_count": 316,
   "metadata": {},
   "outputs": [],
   "source": [
    "second[second.str.contains(\"식품영양학과\")==True]=\"\""
   ]
  },
  {
   "cell_type": "code",
   "execution_count": 317,
   "metadata": {},
   "outputs": [],
   "source": [
    "second[second.str.contains(\"공과\")==True]=\"공과계열학과\""
   ]
  },
  {
   "cell_type": "code",
   "execution_count": 318,
   "metadata": {},
   "outputs": [],
   "source": [
    "df.at[second[second.str.contains(\"공과계열학과\")==True].index,[\"학과\"]]=second[second.str.contains(\"공과계열학과\")==True]"
   ]
  },
  {
   "cell_type": "code",
   "execution_count": 319,
   "metadata": {},
   "outputs": [],
   "source": [
    "second[second.str.contains(\"공과계열학과\")==True]=\"\""
   ]
  },
  {
   "cell_type": "code",
   "execution_count": 320,
   "metadata": {},
   "outputs": [],
   "source": [
    "second[second.str.contains(\"의류\")==True]=\"의류학과\""
   ]
  },
  {
   "cell_type": "code",
   "execution_count": 321,
   "metadata": {},
   "outputs": [],
   "source": [
    "df.at[second[second.str.contains(\"의류학과\")==True].index,[\"학과\"]]=second[second.str.contains(\"의류학과\")==True]"
   ]
  },
  {
   "cell_type": "code",
   "execution_count": 322,
   "metadata": {},
   "outputs": [],
   "source": [
    "second[second.str.contains(\"의류학과\")==True]=\"\""
   ]
  },
  {
   "cell_type": "code",
   "execution_count": 323,
   "metadata": {},
   "outputs": [],
   "source": [
    "second[second.str.contains(\"국제무역\")==True]=\"국제무역학과\""
   ]
  },
  {
   "cell_type": "code",
   "execution_count": 324,
   "metadata": {},
   "outputs": [],
   "source": [
    "df.at[second[second.str.contains(\"국제무역학과\")==True].index,[\"학과\"]]=second[second.str.contains(\"국제무역학과\")==True]"
   ]
  },
  {
   "cell_type": "code",
   "execution_count": 325,
   "metadata": {},
   "outputs": [],
   "source": [
    "second[second.str.contains(\"국제무역학과\")==True]=\"\""
   ]
  },
  {
   "cell_type": "code",
   "execution_count": 326,
   "metadata": {},
   "outputs": [],
   "source": [
    "second[second.str.contains(\"무역\")==True]=\"무역학과\""
   ]
  },
  {
   "cell_type": "code",
   "execution_count": 327,
   "metadata": {},
   "outputs": [],
   "source": [
    "df.at[second[second.str.contains(\"무역학과\")==True].index,[\"학과\"]]=second[second.str.contains(\"무역학과\")==True]"
   ]
  },
  {
   "cell_type": "code",
   "execution_count": 328,
   "metadata": {},
   "outputs": [],
   "source": [
    "second[second.str.contains(\"무역학과\")==True]=\"\""
   ]
  },
  {
   "cell_type": "code",
   "execution_count": 329,
   "metadata": {},
   "outputs": [],
   "source": [
    "second[second.str.contains(\"산업디자인\")==True]=\"산업디자인학과\""
   ]
  },
  {
   "cell_type": "code",
   "execution_count": 330,
   "metadata": {},
   "outputs": [],
   "source": [
    "df.at[second[second.str.contains(\"산업디자인학과\")==True].index,[\"학과\"]]=second[second.str.contains(\"산업디자인학과\")==True]"
   ]
  },
  {
   "cell_type": "code",
   "execution_count": 331,
   "metadata": {},
   "outputs": [],
   "source": [
    "second[second.str.contains(\"산업디자인학과\")==True]=\"\""
   ]
  },
  {
   "cell_type": "code",
   "execution_count": 332,
   "metadata": {},
   "outputs": [],
   "source": [
    "df.at[second[second.str.contains(\"외식산업학과\")==True].index,[\"학과\"]]=second[second.str.contains(\"외식산업학과\")==True]"
   ]
  },
  {
   "cell_type": "code",
   "execution_count": 333,
   "metadata": {},
   "outputs": [],
   "source": [
    "second[second.str.contains(\"외식산업학과\")==True]=\"\""
   ]
  },
  {
   "cell_type": "code",
   "execution_count": 334,
   "metadata": {},
   "outputs": [],
   "source": [
    "second[second.str.contains(\"산업\")==True]=\"산업시스템공학과\""
   ]
  },
  {
   "cell_type": "code",
   "execution_count": 335,
   "metadata": {},
   "outputs": [],
   "source": [
    "df.at[second[second.str.contains(\"산업시스템공학과\")==True].index,[\"학과\"]]=second[second.str.contains(\"산업시스템공학과\")==True]"
   ]
  },
  {
   "cell_type": "code",
   "execution_count": 336,
   "metadata": {},
   "outputs": [],
   "source": [
    "second[second.str.contains(\"산업시스템공학과\")==True]=\"\""
   ]
  },
  {
   "cell_type": "code",
   "execution_count": 337,
   "metadata": {},
   "outputs": [],
   "source": [
    "second[second.str.contains(\"어문\")==True]=\"어문계열학과\""
   ]
  },
  {
   "cell_type": "code",
   "execution_count": 338,
   "metadata": {},
   "outputs": [],
   "source": [
    "df.at[second[second.str.contains(\"어문계열학과\")==True].index,[\"학과\"]]=second[second.str.contains(\"어문계열학과\")==True]"
   ]
  },
  {
   "cell_type": "code",
   "execution_count": 339,
   "metadata": {},
   "outputs": [],
   "source": [
    "second[second.str.contains(\"국제물류\")==True]=\"국제물류학과\""
   ]
  },
  {
   "cell_type": "code",
   "execution_count": 340,
   "metadata": {},
   "outputs": [],
   "source": [
    "df.at[second[second.str.contains(\"국제물류학과\")==True].index,[\"학과\"]]=second[second.str.contains(\"국제물류학과\")==True]"
   ]
  },
  {
   "cell_type": "code",
   "execution_count": 341,
   "metadata": {},
   "outputs": [],
   "source": [
    "second[second.str.contains(\"국제물류학과\")==True]=\"\""
   ]
  },
  {
   "cell_type": "code",
   "execution_count": 342,
   "metadata": {},
   "outputs": [],
   "source": [
    "second[second.str.contains(\"물류\")==True]=\"물류학과\""
   ]
  },
  {
   "cell_type": "code",
   "execution_count": 343,
   "metadata": {},
   "outputs": [],
   "source": [
    "df.at[second[second.str.contains(\"물류학과\")==True].index,[\"학과\"]]=second[second.str.contains(\"물류학과\")==True]"
   ]
  },
  {
   "cell_type": "code",
   "execution_count": 344,
   "metadata": {},
   "outputs": [],
   "source": [
    "second[second.str.contains(\"물류학과\")==True]=\"\""
   ]
  },
  {
   "cell_type": "code",
   "execution_count": 345,
   "metadata": {},
   "outputs": [],
   "source": [
    "second[second.str.contains(\"멀티미디어\")==True]=\"멀티미디어학과\""
   ]
  },
  {
   "cell_type": "code",
   "execution_count": 346,
   "metadata": {},
   "outputs": [],
   "source": [
    "df.at[second[second.str.contains(\"멀티미디어학과\")==True].index,[\"학과\"]]=second[second.str.contains(\"멀티미디어학과\")==True]"
   ]
  },
  {
   "cell_type": "code",
   "execution_count": 347,
   "metadata": {},
   "outputs": [],
   "source": [
    "second[second.str.contains(\"멀티미디어학과\")==True]=\"\""
   ]
  },
  {
   "cell_type": "code",
   "execution_count": 348,
   "metadata": {},
   "outputs": [],
   "source": [
    "df.at[second[second.str.contains(\"미디어커뮤니케이션학과\")==True].index,[\"학과\"]]=second[second.str.contains(\"미디어커뮤니케이션학과\")==True]"
   ]
  },
  {
   "cell_type": "code",
   "execution_count": 349,
   "metadata": {},
   "outputs": [],
   "source": [
    "second[second.str.contains(\"미디어커뮤니케이션학과\")==True]=\"\""
   ]
  },
  {
   "cell_type": "code",
   "execution_count": 350,
   "metadata": {},
   "outputs": [],
   "source": [
    "second[second.str.contains(\"미디어\")==True]=\"미디어학과\""
   ]
  },
  {
   "cell_type": "code",
   "execution_count": 351,
   "metadata": {},
   "outputs": [],
   "source": [
    "df.at[second[second.str.contains(\"미디어학과\")==True].index,[\"학과\"]]=second[second.str.contains(\"미디어학과\")==True]"
   ]
  },
  {
   "cell_type": "code",
   "execution_count": 352,
   "metadata": {},
   "outputs": [],
   "source": [
    "second[second.str.contains(\"미디어학과\")==True]=\"\""
   ]
  },
  {
   "cell_type": "code",
   "execution_count": 353,
   "metadata": {},
   "outputs": [],
   "source": [
    "second[second.str.contains(\"사회\")==True]=\"사회학과\""
   ]
  },
  {
   "cell_type": "code",
   "execution_count": 354,
   "metadata": {},
   "outputs": [],
   "source": [
    "df.at[second[second.str.contains(\"사회학과\")==True].index,[\"학과\"]]=second[second.str.contains(\"사회학과\")==True]"
   ]
  },
  {
   "cell_type": "code",
   "execution_count": 355,
   "metadata": {},
   "outputs": [],
   "source": [
    "second[second.str.contains(\"사회학과\")==True]=\"\""
   ]
  },
  {
   "cell_type": "code",
   "execution_count": 356,
   "metadata": {},
   "outputs": [],
   "source": [
    "second[second.str.contains(\"디지털콘텐츠\")==True]=\"디지털콘텐츠학과\""
   ]
  },
  {
   "cell_type": "code",
   "execution_count": 357,
   "metadata": {},
   "outputs": [],
   "source": [
    "second[second.str.contains(\"디지털컨텐츠\")==True]=\"디지털콘텐츠학과\""
   ]
  },
  {
   "cell_type": "code",
   "execution_count": 358,
   "metadata": {},
   "outputs": [],
   "source": [
    "df.at[second[second.str.contains(\"디지털콘텐츠학과\")==True].index,[\"학과\"]]=second[second.str.contains(\"디지털콘텐츠학과\")==True]"
   ]
  },
  {
   "cell_type": "code",
   "execution_count": 359,
   "metadata": {},
   "outputs": [],
   "source": [
    "second[second.str.contains(\"디지털콘텐츠학과\")==True]=\"\""
   ]
  },
  {
   "cell_type": "code",
   "execution_count": 360,
   "metadata": {},
   "outputs": [],
   "source": [
    "second[second.str.contains(\"디지털마케팅과\")==True]=\"디지털마케팅학과\""
   ]
  },
  {
   "cell_type": "code",
   "execution_count": 361,
   "metadata": {},
   "outputs": [],
   "source": [
    "df.at[second[second.str.contains(\"디지털마케팅학과\")==True].index,[\"학과\"]]=second[second.str.contains(\"디지털마케팅학과\")==True]"
   ]
  },
  {
   "cell_type": "code",
   "execution_count": 362,
   "metadata": {},
   "outputs": [],
   "source": [
    "second[second.str.contains(\"디지털마케팅\")==True]=\"\""
   ]
  },
  {
   "cell_type": "code",
   "execution_count": 363,
   "metadata": {},
   "outputs": [],
   "source": [
    "df.at[second[second.str.contains(\"디지털\")==True].index,[\"학과\"]]=second[second.str.contains(\"디지털\")==True]"
   ]
  },
  {
   "cell_type": "code",
   "execution_count": 364,
   "metadata": {},
   "outputs": [],
   "source": [
    "second[second.str.contains(\"디지털\")==True]=\"\""
   ]
  },
  {
   "cell_type": "code",
   "execution_count": 365,
   "metadata": {},
   "outputs": [],
   "source": [
    "second[second.str.contains(\"소프트\")==True]=\"소프트웨어공학과\""
   ]
  },
  {
   "cell_type": "code",
   "execution_count": 366,
   "metadata": {},
   "outputs": [],
   "source": [
    "df.at[second[second.str.contains(\"소프트웨어공학과\")==True].index,[\"학과\"]]=second[second.str.contains(\"소프트웨어공학과\")==True]"
   ]
  },
  {
   "cell_type": "code",
   "execution_count": 367,
   "metadata": {},
   "outputs": [],
   "source": [
    "second[second.str.contains(\"소프트웨어공학과\")==True]=\"\""
   ]
  },
  {
   "cell_type": "code",
   "execution_count": 368,
   "metadata": {},
   "outputs": [],
   "source": [
    "second[second.str.contains(\"통계\")==True]=\"통계학과\""
   ]
  },
  {
   "cell_type": "code",
   "execution_count": 369,
   "metadata": {},
   "outputs": [],
   "source": [
    "df.at[second[second.str.contains(\"통계학과\")==True].index,[\"학과\"]]=second[second.str.contains(\"통계학과\")==True]"
   ]
  },
  {
   "cell_type": "code",
   "execution_count": 370,
   "metadata": {},
   "outputs": [],
   "source": [
    "second[second.str.contains(\"통계학과\")==True]=\"\""
   ]
  },
  {
   "cell_type": "code",
   "execution_count": 371,
   "metadata": {},
   "outputs": [],
   "source": [
    "second[second.str.contains(\"초등\")==True]=\"초등교육학과\""
   ]
  },
  {
   "cell_type": "code",
   "execution_count": 372,
   "metadata": {},
   "outputs": [],
   "source": [
    "df.at[second[second.str.contains(\"초등교육학과\")==True].index,[\"학과\"]]=second[second.str.contains(\"초등교육학과\")==True]"
   ]
  },
  {
   "cell_type": "code",
   "execution_count": 373,
   "metadata": {},
   "outputs": [],
   "source": [
    "second[second.str.contains(\"초등교육학과\")==True]=\"\""
   ]
  },
  {
   "cell_type": "code",
   "execution_count": 374,
   "metadata": {},
   "outputs": [],
   "source": [
    "second[second.str.contains(\"조선\")==True]=\"조선해양공학과\""
   ]
  },
  {
   "cell_type": "code",
   "execution_count": 375,
   "metadata": {},
   "outputs": [],
   "source": [
    "df.at[second[second.str.contains(\"조선해양공학과\")==True].index,[\"학과\"]]=second[second.str.contains(\"조선해양공학과\")==True]"
   ]
  },
  {
   "cell_type": "code",
   "execution_count": 376,
   "metadata": {},
   "outputs": [],
   "source": [
    "second[second.str.contains(\"조선해양공학과\")==True]=\"\""
   ]
  },
  {
   "cell_type": "code",
   "execution_count": 377,
   "metadata": {},
   "outputs": [],
   "source": [
    "second[second.str.contains(\"영어통번역\")==True]=\"영어통번역학과\""
   ]
  },
  {
   "cell_type": "code",
   "execution_count": 378,
   "metadata": {},
   "outputs": [],
   "source": [
    "df.at[second[second.str.contains(\"영어통번역학과\")==True].index,[\"학과\"]]=second[second.str.contains(\"영어통번역학\")==True]"
   ]
  },
  {
   "cell_type": "code",
   "execution_count": 379,
   "metadata": {},
   "outputs": [],
   "source": [
    "second[second.str.contains(\"영어통번역학과\")==True]=\"\""
   ]
  },
  {
   "cell_type": "code",
   "execution_count": 380,
   "metadata": {},
   "outputs": [],
   "source": [
    "second[second.str.contains(\"설계\")==True]=\"기계설계공학과\""
   ]
  },
  {
   "cell_type": "code",
   "execution_count": 381,
   "metadata": {},
   "outputs": [],
   "source": [
    "df.at[second[second.str.contains(\"기계설계공학과\")==True].index,[\"학과\"]]=second[second.str.contains(\"기계설계공학과\")==True]"
   ]
  },
  {
   "cell_type": "code",
   "execution_count": 382,
   "metadata": {},
   "outputs": [],
   "source": [
    "second[second.str.contains(\"기계설계공학과\")==True]=\"\""
   ]
  },
  {
   "cell_type": "code",
   "execution_count": 383,
   "metadata": {},
   "outputs": [],
   "source": [
    "second[second.str.contains(\"의상\")==True]=\"의상학과\""
   ]
  },
  {
   "cell_type": "code",
   "execution_count": 384,
   "metadata": {},
   "outputs": [],
   "source": [
    "df.at[second[second.str.contains(\"의상학과\")==True].index,[\"학과\"]]=second[second.str.contains(\"의상학과\")==True]"
   ]
  },
  {
   "cell_type": "code",
   "execution_count": 385,
   "metadata": {},
   "outputs": [],
   "source": [
    "second[second.str.contains(\"의상학과\")==True]=\"\""
   ]
  },
  {
   "cell_type": "code",
   "execution_count": 386,
   "metadata": {},
   "outputs": [],
   "source": [
    "df.at[second[second.str.contains(\"조경\")==True].index,[\"학과\"]]=second[second.str.contains(\"조경\")==True]"
   ]
  },
  {
   "cell_type": "code",
   "execution_count": 387,
   "metadata": {},
   "outputs": [],
   "source": [
    "second[second.str.contains(\"조경\")==True]=\"\""
   ]
  },
  {
   "cell_type": "code",
   "execution_count": 388,
   "metadata": {},
   "outputs": [],
   "source": [
    "second[second.str.contains(\"이공\")==True]=\"이공계열학과\""
   ]
  },
  {
   "cell_type": "code",
   "execution_count": 389,
   "metadata": {},
   "outputs": [],
   "source": [
    "df.at[second[second.str.contains(\"이공계열학과\")==True].index,[\"학과\"]]=second[second.str.contains(\"이공계열학과\")==True]"
   ]
  },
  {
   "cell_type": "code",
   "execution_count": 390,
   "metadata": {},
   "outputs": [],
   "source": [
    "second[second.str.contains(\"이공계열학과\")==True]=\"\""
   ]
  },
  {
   "cell_type": "code",
   "execution_count": 391,
   "metadata": {},
   "outputs": [],
   "source": [
    "second[second.str.contains(\"지질\")==True]=\"지질환경과학과\""
   ]
  },
  {
   "cell_type": "code",
   "execution_count": 392,
   "metadata": {},
   "outputs": [],
   "source": [
    "df.at[second[second.str.contains(\"지질환경과학과\")==True].index,[\"학과\"]]=second[second.str.contains(\"지질환경과학과\")==True]"
   ]
  },
  {
   "cell_type": "code",
   "execution_count": 393,
   "metadata": {},
   "outputs": [],
   "source": [
    "second[second.str.contains(\"지질환경과학과\")==True]=\"\""
   ]
  },
  {
   "cell_type": "code",
   "execution_count": 394,
   "metadata": {},
   "outputs": [],
   "source": [
    "second[second.str.contains(\"유기응용\")==True]=\"유기응용공학과\""
   ]
  },
  {
   "cell_type": "code",
   "execution_count": 395,
   "metadata": {},
   "outputs": [],
   "source": [
    "df.at[second[second.str.contains(\"유기응용공학과\")==True].index,[\"학과\"]]=second[second.str.contains(\"유기응용공학과\")==True]"
   ]
  },
  {
   "cell_type": "code",
   "execution_count": 396,
   "metadata": {},
   "outputs": [],
   "source": [
    "second[second.str.contains(\"유기응용공학과\")==True]=\"\""
   ]
  },
  {
   "cell_type": "code",
   "execution_count": 397,
   "metadata": {},
   "outputs": [],
   "source": [
    "second[second.str.contains(\"유기\")==True]=\"유기소재공학과\""
   ]
  },
  {
   "cell_type": "code",
   "execution_count": 398,
   "metadata": {},
   "outputs": [],
   "source": [
    "df.at[second[second.str.contains(\"유기소재공학과\")==True].index,[\"학과\"]]=second[second.str.contains(\"유기소재공학과\")==True]"
   ]
  },
  {
   "cell_type": "code",
   "execution_count": 399,
   "metadata": {},
   "outputs": [],
   "source": [
    "second[second.str.contains(\"유기소재공학과\")==True]=\"\""
   ]
  },
  {
   "cell_type": "code",
   "execution_count": 400,
   "metadata": {},
   "outputs": [],
   "source": [
    "df.at[second[second.str.contains(\"어문\")==True].index,[\"학과\"]]=second[second.str.contains(\"어문\")==True]"
   ]
  },
  {
   "cell_type": "code",
   "execution_count": 401,
   "metadata": {},
   "outputs": [],
   "source": [
    "second[second.str.contains(\"어문\")==True]=\"\""
   ]
  },
  {
   "cell_type": "code",
   "execution_count": 402,
   "metadata": {},
   "outputs": [],
   "source": [
    "second[second.str.contains(\"독\")==True]=\"독어독문학과\""
   ]
  },
  {
   "cell_type": "code",
   "execution_count": 403,
   "metadata": {},
   "outputs": [],
   "source": [
    "df.at[second[second.str.contains(\"독어독문학과\")==True].index,[\"학과\"]]=second[second.str.contains(\"독어독문학과\")==True]"
   ]
  },
  {
   "cell_type": "code",
   "execution_count": 404,
   "metadata": {},
   "outputs": [],
   "source": [
    "second[second.str.contains(\"독어독문학과\")==True]=\"\""
   ]
  },
  {
   "cell_type": "code",
   "execution_count": 405,
   "metadata": {},
   "outputs": [],
   "source": [
    "second[second.str.contains(\"불어\")==True]=\"불어불문학과\""
   ]
  },
  {
   "cell_type": "code",
   "execution_count": 406,
   "metadata": {},
   "outputs": [],
   "source": [
    "df.at[second[second.str.contains(\"불어불문학과\")==True].index,[\"학과\"]]=second[second.str.contains(\"불어불문학과\")==True]"
   ]
  },
  {
   "cell_type": "code",
   "execution_count": 407,
   "metadata": {},
   "outputs": [],
   "source": [
    "second[second.str.contains(\"불어불문학과\")==True]=\"\""
   ]
  },
  {
   "cell_type": "code",
   "execution_count": 408,
   "metadata": {},
   "outputs": [],
   "source": [
    "second[second.str.contains(\"자연\")==True]=\"자연계열학과\""
   ]
  },
  {
   "cell_type": "code",
   "execution_count": 409,
   "metadata": {},
   "outputs": [],
   "source": [
    "df.at[second[second.str.contains(\"자연계열학과\")==True].index,[\"학과\"]]=second[second.str.contains(\"자연계열학과\")==True]"
   ]
  },
  {
   "cell_type": "code",
   "execution_count": 410,
   "metadata": {},
   "outputs": [],
   "source": [
    "second[second.str.contains(\"자연계열학과\")==True]=\"\""
   ]
  },
  {
   "cell_type": "code",
   "execution_count": 411,
   "metadata": {},
   "outputs": [],
   "source": [
    "second[second.str.contains(\"도시교통공학\")==True]=\"도시교통공학과\""
   ]
  },
  {
   "cell_type": "code",
   "execution_count": 412,
   "metadata": {},
   "outputs": [],
   "source": [
    "df.at[second[second.str.contains(\"도시교통공학과\")==True].index,[\"학과\"]]=second[second.str.contains(\"도시교통공학과\")==True]"
   ]
  },
  {
   "cell_type": "code",
   "execution_count": 413,
   "metadata": {},
   "outputs": [],
   "source": [
    "second[second.str.contains(\"도시교통공학과\")==True]=\"\""
   ]
  },
  {
   "cell_type": "code",
   "execution_count": 414,
   "metadata": {},
   "outputs": [],
   "source": [
    "second[second.str.contains(\"도시정보\")==True]=\"도시정보공학과\""
   ]
  },
  {
   "cell_type": "code",
   "execution_count": 415,
   "metadata": {},
   "outputs": [],
   "source": [
    "df.at[second[second.str.contains(\"도시정보공학과\")==True].index,[\"학과\"]]=second[second.str.contains(\"도시정보공학과\")==True]"
   ]
  },
  {
   "cell_type": "code",
   "execution_count": 416,
   "metadata": {},
   "outputs": [],
   "source": [
    "second[second.str.contains(\"도시정보공학과\")==True]=\"\""
   ]
  },
  {
   "cell_type": "code",
   "execution_count": 417,
   "metadata": {},
   "outputs": [],
   "source": [
    "second[second.str.contains(\"도시\")==True]=\"도시공학과\""
   ]
  },
  {
   "cell_type": "code",
   "execution_count": 418,
   "metadata": {},
   "outputs": [],
   "source": [
    "df.at[second[second.str.contains(\"도시공학과\")==True].index,[\"학과\"]]=second[second.str.contains(\"도시공학과\")==True]"
   ]
  },
  {
   "cell_type": "code",
   "execution_count": 419,
   "metadata": {},
   "outputs": [],
   "source": [
    "second[second.str.contains(\"도시공학과\")==True]=\"\""
   ]
  },
  {
   "cell_type": "code",
   "execution_count": 420,
   "metadata": {},
   "outputs": [],
   "source": [
    "second[second.str.contains(\"포어\")==True]=\"포르투칼어학과\""
   ]
  },
  {
   "cell_type": "code",
   "execution_count": 421,
   "metadata": {},
   "outputs": [],
   "source": [
    "df.at[second[second.str.contains(\"포르투칼어학과\")==True].index,[\"학과\"]]=second[second.str.contains(\"포르투칼어학과\")==True]"
   ]
  },
  {
   "cell_type": "code",
   "execution_count": 422,
   "metadata": {},
   "outputs": [],
   "source": [
    "second[second.str.contains(\"포르투칼어학과\")==True]=\"\""
   ]
  },
  {
   "cell_type": "code",
   "execution_count": 423,
   "metadata": {},
   "outputs": [],
   "source": [
    "second[second.str.contains(\"철학\")==True]=\"철학과\""
   ]
  },
  {
   "cell_type": "code",
   "execution_count": 424,
   "metadata": {},
   "outputs": [],
   "source": [
    "df.at[second[second.str.contains(\"철학과\")==True].index,[\"학과\"]]=second[second.str.contains(\"철학과\")==True]"
   ]
  },
  {
   "cell_type": "code",
   "execution_count": 425,
   "metadata": {},
   "outputs": [],
   "source": [
    "second[second.str.contains(\"철학과\")==True]=\"\""
   ]
  },
  {
   "cell_type": "code",
   "execution_count": 426,
   "metadata": {},
   "outputs": [],
   "source": [
    "second[second.str.contains(\"심리학\")==True]=\"심리학과\""
   ]
  },
  {
   "cell_type": "code",
   "execution_count": 427,
   "metadata": {},
   "outputs": [],
   "source": [
    "df.at[second[second.str.contains(\"심리학\")==True].index,[\"학과\"]]=second[second.str.contains(\"심리학\")==True]"
   ]
  },
  {
   "cell_type": "code",
   "execution_count": 428,
   "metadata": {},
   "outputs": [],
   "source": [
    "second[second.str.contains(\"심리학과\")==True]=\"\""
   ]
  },
  {
   "cell_type": "code",
   "execution_count": 429,
   "metadata": {},
   "outputs": [],
   "source": [
    "second[second.str.contains(\"생명공\")==True]=\"생명공학과\""
   ]
  },
  {
   "cell_type": "code",
   "execution_count": 430,
   "metadata": {},
   "outputs": [],
   "source": [
    "df.at[second[second.str.contains(\"생명공학과\")==True].index,[\"학과\"]]=second[second.str.contains(\"생명공학과\")==True]"
   ]
  },
  {
   "cell_type": "code",
   "execution_count": 431,
   "metadata": {},
   "outputs": [],
   "source": [
    "second[second.str.contains(\"생명공학과\")==True]=\"\""
   ]
  },
  {
   "cell_type": "code",
   "execution_count": 432,
   "metadata": {},
   "outputs": [],
   "source": [
    "second[second.str.contains(\"생명과\")==True]=\"생명과학과\""
   ]
  },
  {
   "cell_type": "code",
   "execution_count": 433,
   "metadata": {},
   "outputs": [],
   "source": [
    "df.at[second[second.str.contains(\"생명과학과\")==True].index,[\"학과\"]]=second[second.str.contains(\"생명과학과\")==True]"
   ]
  },
  {
   "cell_type": "code",
   "execution_count": 434,
   "metadata": {},
   "outputs": [],
   "source": [
    "second[second.str.contains(\"생명과학과\")==True]=\"\""
   ]
  },
  {
   "cell_type": "code",
   "execution_count": 435,
   "metadata": {},
   "outputs": [],
   "source": [
    "second[second.str.contains(\"의료\")==True]=\"의료계열학과\""
   ]
  },
  {
   "cell_type": "code",
   "execution_count": 436,
   "metadata": {},
   "outputs": [],
   "source": [
    "df.at[second[second.str.contains(\"의료계열학과\")==True].index,[\"학과\"]]=second[second.str.contains(\"의료계열학과\")==True]"
   ]
  },
  {
   "cell_type": "code",
   "execution_count": 437,
   "metadata": {},
   "outputs": [],
   "source": [
    "second[second.str.contains(\"의료계열학과\")==True]=\"\""
   ]
  },
  {
   "cell_type": "code",
   "execution_count": 438,
   "metadata": {},
   "outputs": [],
   "source": [
    "second[second.str.contains(\"광홍\")==True]=\"광고홍보학과\""
   ]
  },
  {
   "cell_type": "code",
   "execution_count": 439,
   "metadata": {},
   "outputs": [],
   "source": [
    "df.at[second[second.str.contains(\"광고홍보학과\")==True].index,[\"학과\"]]=second[second.str.contains(\"광고홍보학과\")==True]"
   ]
  },
  {
   "cell_type": "code",
   "execution_count": 440,
   "metadata": {},
   "outputs": [],
   "source": [
    "second[second.str.contains(\"광고홍보학과\")==True]=\"\""
   ]
  },
  {
   "cell_type": "code",
   "execution_count": 441,
   "metadata": {},
   "outputs": [],
   "source": [
    "second[second.str.contains(\"국제\")==True]=\"국제학과\""
   ]
  },
  {
   "cell_type": "code",
   "execution_count": 442,
   "metadata": {},
   "outputs": [],
   "source": [
    "df.at[second[second.str.contains(\"국제학과\")==True].index,[\"학과\"]]=second[second.str.contains(\"국제학과\")==True]"
   ]
  },
  {
   "cell_type": "code",
   "execution_count": 443,
   "metadata": {},
   "outputs": [],
   "source": [
    "second[second.str.contains(\"국제학과\")==True]=\"\""
   ]
  },
  {
   "cell_type": "code",
   "execution_count": 444,
   "metadata": {},
   "outputs": [],
   "source": [
    "second[second.str.contains(\"간호\")==True]=\"간호학과\""
   ]
  },
  {
   "cell_type": "code",
   "execution_count": 445,
   "metadata": {},
   "outputs": [],
   "source": [
    "df.at[second[second.str.contains(\"간호학과\")==True].index,[\"학과\"]]=second[second.str.contains(\"간호학과\")==True]"
   ]
  },
  {
   "cell_type": "code",
   "execution_count": 446,
   "metadata": {},
   "outputs": [],
   "source": [
    "second[second.str.contains(\"간호학과\")==True]=\"\""
   ]
  },
  {
   "cell_type": "code",
   "execution_count": 447,
   "metadata": {},
   "outputs": [],
   "source": [
    "second[second.str.contains(\"환경공\")==True]=\"환경공학과\""
   ]
  },
  {
   "cell_type": "code",
   "execution_count": 448,
   "metadata": {},
   "outputs": [],
   "source": [
    "df.at[second[second.str.contains(\"환경공학과\")==True].index,[\"학과\"]]=second[second.str.contains(\"환경공학과\")==True]"
   ]
  },
  {
   "cell_type": "code",
   "execution_count": 449,
   "metadata": {},
   "outputs": [],
   "source": [
    "second[second.str.contains(\"환경공학과\")==True]=\"\""
   ]
  },
  {
   "cell_type": "code",
   "execution_count": 450,
   "metadata": {},
   "outputs": [],
   "source": [
    "second[second.str.contains(\"보건과학\")==True]=\"보건과학학과\""
   ]
  },
  {
   "cell_type": "code",
   "execution_count": 451,
   "metadata": {},
   "outputs": [],
   "source": [
    "df.at[second[second.str.contains(\"보건과학학과\")==True].index,[\"학과\"]]=second[second.str.contains(\"보건과학학과\")==True]"
   ]
  },
  {
   "cell_type": "code",
   "execution_count": 452,
   "metadata": {},
   "outputs": [],
   "source": [
    "second[second.str.contains(\"보건과학학과\")==True]=\"\""
   ]
  },
  {
   "cell_type": "code",
   "execution_count": 453,
   "metadata": {},
   "outputs": [],
   "source": [
    "df.at[second[second.str.contains(\"보건관리학과\")==True].index,[\"학과\"]]=second[second.str.contains(\"보건관리학과\")==True]"
   ]
  },
  {
   "cell_type": "code",
   "execution_count": 454,
   "metadata": {},
   "outputs": [],
   "source": [
    "second[second.str.contains(\"보건관리학과\")==True]=\"\""
   ]
  },
  {
   "cell_type": "code",
   "execution_count": 455,
   "metadata": {},
   "outputs": [],
   "source": [
    "second[second.str.contains(\"보건환경\")==True]=\"보건환경학과\""
   ]
  },
  {
   "cell_type": "code",
   "execution_count": 456,
   "metadata": {},
   "outputs": [],
   "source": [
    "df.at[second[second.str.contains(\"보건환경학과\")==True].index,[\"학과\"]]=second[second.str.contains(\"보건환경학과\")==True]"
   ]
  },
  {
   "cell_type": "code",
   "execution_count": 457,
   "metadata": {},
   "outputs": [],
   "source": [
    "second[second.str.contains(\"보건환경학과\")==True]=\"\""
   ]
  },
  {
   "cell_type": "code",
   "execution_count": 458,
   "metadata": {},
   "outputs": [],
   "source": [
    "second[second.str.contains(\"보건\")==True]=\"보건학과\""
   ]
  },
  {
   "cell_type": "code",
   "execution_count": 459,
   "metadata": {},
   "outputs": [],
   "source": [
    "df.at[second[second.str.contains(\"보건학과\")==True].index,[\"학과\"]]=second[second.str.contains(\"보건학과\")==True]"
   ]
  },
  {
   "cell_type": "code",
   "execution_count": 460,
   "metadata": {},
   "outputs": [],
   "source": [
    "second[second.str.contains(\"보건학과\")==True]=\"\""
   ]
  },
  {
   "cell_type": "code",
   "execution_count": 461,
   "metadata": {},
   "outputs": [],
   "source": [
    "second[second.str.contains(\"시립\")==True]=\"\""
   ]
  },
  {
   "cell_type": "code",
   "execution_count": 462,
   "metadata": {},
   "outputs": [],
   "source": [
    "second[second.str.contains(\"생명\")==True]=\"생명공학과\""
   ]
  },
  {
   "cell_type": "code",
   "execution_count": 463,
   "metadata": {},
   "outputs": [],
   "source": [
    "df.at[second[second.str.contains(\"생명공학과\")==True].index,[\"학과\"]]=second[second.str.contains(\"생명공학과\")==True]"
   ]
  },
  {
   "cell_type": "code",
   "execution_count": 464,
   "metadata": {},
   "outputs": [],
   "source": [
    "second[second.str.contains(\"생명공학과\")==True]=\"\""
   ]
  },
  {
   "cell_type": "code",
   "execution_count": 465,
   "metadata": {},
   "outputs": [],
   "source": [
    "df.at[second[second.str.contains(\"미생물학\")==True].index,[\"학과\"]]=second[second.str.contains(\"미생물학\")==True]"
   ]
  },
  {
   "cell_type": "code",
   "execution_count": 466,
   "metadata": {},
   "outputs": [],
   "source": [
    "second[second.str.contains(\"미생물학\")==True]=\"\""
   ]
  },
  {
   "cell_type": "code",
   "execution_count": 467,
   "metadata": {},
   "outputs": [],
   "source": [
    "second[second.str.contains(\"생물학\")==True]=\"생물학과\""
   ]
  },
  {
   "cell_type": "code",
   "execution_count": 468,
   "metadata": {},
   "outputs": [],
   "source": [
    "df.at[second[second.str.contains(\"생물학과\")==True].index,[\"학과\"]]=second[second.str.contains(\"생물학과\")==True]"
   ]
  },
  {
   "cell_type": "code",
   "execution_count": 469,
   "metadata": {},
   "outputs": [],
   "source": [
    "second[second.str.contains(\"생물학과\")==True]=\"\""
   ]
  },
  {
   "cell_type": "code",
   "execution_count": 470,
   "metadata": {},
   "outputs": [],
   "source": [
    "second[second.str.contains(\"생물\")==True]=\"생물학과\""
   ]
  },
  {
   "cell_type": "code",
   "execution_count": 471,
   "metadata": {},
   "outputs": [],
   "source": [
    "df.at[second[second.str.contains(\"생물학과\")==True].index,[\"학과\"]]=second[second.str.contains(\"생물학과\")==True]"
   ]
  },
  {
   "cell_type": "code",
   "execution_count": 472,
   "metadata": {},
   "outputs": [],
   "source": [
    "second[second.str.contains(\"생물학과\")==True]=\"\""
   ]
  },
  {
   "cell_type": "code",
   "execution_count": 473,
   "metadata": {},
   "outputs": [],
   "source": [
    "second[second.str.contains(\"행\")==True]=\"행정학과\""
   ]
  },
  {
   "cell_type": "code",
   "execution_count": 474,
   "metadata": {},
   "outputs": [],
   "source": [
    "df.at[second[second.str.contains(\"행정학과\")==True].index,[\"학과\"]]=second[second.str.contains(\"행정학과\")==True]"
   ]
  },
  {
   "cell_type": "code",
   "execution_count": 475,
   "metadata": {},
   "outputs": [],
   "source": [
    "second[second.str.contains(\"행정학과\")==True]=\"\""
   ]
  },
  {
   "cell_type": "code",
   "execution_count": 476,
   "metadata": {},
   "outputs": [],
   "source": [
    "second[second.str.contains(\"공대\")==True]=\"공학계열학과\""
   ]
  },
  {
   "cell_type": "code",
   "execution_count": 477,
   "metadata": {},
   "outputs": [],
   "source": [
    "df.at[second[second.str.contains(\"공학계열학과\")==True].index,[\"학과\"]]=second[second.str.contains(\"공학계열학과\")==True]"
   ]
  },
  {
   "cell_type": "code",
   "execution_count": 478,
   "metadata": {},
   "outputs": [],
   "source": [
    "second[second.str.contains(\"공학계열학과\")==True]=\"\""
   ]
  },
  {
   "cell_type": "code",
   "execution_count": 479,
   "metadata": {},
   "outputs": [],
   "source": [
    "second[second.str.contains(\"고분자\")==True]=\"고분자공학과\""
   ]
  },
  {
   "cell_type": "code",
   "execution_count": 480,
   "metadata": {},
   "outputs": [],
   "source": [
    "df.at[second[second.str.contains(\"고분자공학과\")==True].index,[\"학과\"]]=second[second.str.contains(\"고분자공학과\")==True]"
   ]
  },
  {
   "cell_type": "code",
   "execution_count": 481,
   "metadata": {},
   "outputs": [],
   "source": [
    "second[second.str.contains(\"고분자공학과\")==True]=\"\""
   ]
  },
  {
   "cell_type": "code",
   "execution_count": 482,
   "metadata": {},
   "outputs": [],
   "source": [
    "second[second.str.contains(\"산공\")==True]=\"산업공학과\""
   ]
  },
  {
   "cell_type": "code",
   "execution_count": 483,
   "metadata": {},
   "outputs": [],
   "source": [
    "df.at[second[second.str.contains(\"산업공학과\")==True].index,[\"학과\"]]=second[second.str.contains(\"산업공학과\")==True]"
   ]
  },
  {
   "cell_type": "code",
   "execution_count": 484,
   "metadata": {},
   "outputs": [],
   "source": [
    "second[second.str.contains(\"산업공학과\")==True]=\"\""
   ]
  },
  {
   "cell_type": "code",
   "execution_count": 485,
   "metadata": {},
   "outputs": [],
   "source": [
    "second[second.str.contains(\"제어자동화\")==True]=\"제어자동화학과\""
   ]
  },
  {
   "cell_type": "code",
   "execution_count": 486,
   "metadata": {},
   "outputs": [],
   "source": [
    "df.at[second[second.str.contains(\"제어자동화학과\")==True].index,[\"학과\"]]=second[second.str.contains(\"제어자동화학과\")==True]"
   ]
  },
  {
   "cell_type": "code",
   "execution_count": 487,
   "metadata": {},
   "outputs": [],
   "source": [
    "second[second.str.contains(\"제어자동화학과\")==True]=\"\""
   ]
  },
  {
   "cell_type": "code",
   "execution_count": 488,
   "metadata": {},
   "outputs": [],
   "source": [
    "second[second.str.contains(\"자동차\")==True]=\"자동차공학과\""
   ]
  },
  {
   "cell_type": "code",
   "execution_count": 489,
   "metadata": {},
   "outputs": [],
   "source": [
    "df.at[second[second.str.contains(\"자동차공학과\")==True].index,[\"학과\"]]=second[second.str.contains(\"자동차공학과\")==True]"
   ]
  },
  {
   "cell_type": "code",
   "execution_count": 490,
   "metadata": {},
   "outputs": [],
   "source": [
    "second[second.str.contains(\"에너지시스템\")==True]=\"에너지시스템학과\""
   ]
  },
  {
   "cell_type": "code",
   "execution_count": 491,
   "metadata": {},
   "outputs": [],
   "source": [
    "df.at[second[second.str.contains(\"에너지시스템학과\")==True].index,[\"학과\"]]=second[second.str.contains(\"에너지시스템학과\")==True]"
   ]
  },
  {
   "cell_type": "code",
   "execution_count": 492,
   "metadata": {},
   "outputs": [],
   "source": [
    "second[second.str.contains(\"에너지시스템학과\")==True]=\"\""
   ]
  },
  {
   "cell_type": "code",
   "execution_count": 493,
   "metadata": {},
   "outputs": [],
   "source": [
    "second[second.str.contains(\"에너지\")==True]=\"에너지공학과\""
   ]
  },
  {
   "cell_type": "code",
   "execution_count": 494,
   "metadata": {},
   "outputs": [],
   "source": [
    "df.at[second[second.str.contains(\"에너지공학과\")==True].index,[\"학과\"]]=second[second.str.contains(\"에너지공학과\")==True]"
   ]
  },
  {
   "cell_type": "code",
   "execution_count": 495,
   "metadata": {},
   "outputs": [],
   "source": [
    "second[second.str.contains(\"에너지공학과\")==True]=\"\""
   ]
  },
  {
   "cell_type": "code",
   "execution_count": 496,
   "metadata": {},
   "outputs": [],
   "source": [
    "df.at[second[second.str.contains(\"오픽\")==True].index,[\"어학\"]]=second[second.str.contains(\"오픽\")==True]"
   ]
  },
  {
   "cell_type": "code",
   "execution_count": 497,
   "metadata": {},
   "outputs": [],
   "source": [
    "second[second.str.contains(\"오픽\")==True]=\"\""
   ]
  },
  {
   "cell_type": "code",
   "execution_count": 498,
   "metadata": {},
   "outputs": [],
   "source": [
    "second[second.str.contains(\"식영\")==True]=\"식품영양학과\""
   ]
  },
  {
   "cell_type": "code",
   "execution_count": 499,
   "metadata": {},
   "outputs": [],
   "source": [
    "df.at[second[second.str.contains(\"식품영양학과\")==True].index,[\"학과\"]]=second[second.str.contains(\"식품영양학과\")==True]"
   ]
  },
  {
   "cell_type": "code",
   "execution_count": 500,
   "metadata": {},
   "outputs": [],
   "source": [
    "second[second.str.contains(\"식품영양학과\")==True]=\"\""
   ]
  },
  {
   "cell_type": "code",
   "execution_count": 501,
   "metadata": {},
   "outputs": [],
   "source": [
    "df.at[second[second.str.contains(\"천문대기과학과\")==True].index,[\"학과\"]]=second[second.str.contains(\"천문대기과학과\")==True]"
   ]
  },
  {
   "cell_type": "code",
   "execution_count": 502,
   "metadata": {},
   "outputs": [],
   "source": [
    "second[second.str.contains(\"천문대기과학과\")==True]=\"\""
   ]
  },
  {
   "cell_type": "code",
   "execution_count": 503,
   "metadata": {},
   "outputs": [],
   "source": [
    "second[second.str.contains(\"국문\")==True]=\"국어국문학과\""
   ]
  },
  {
   "cell_type": "code",
   "execution_count": 504,
   "metadata": {},
   "outputs": [],
   "source": [
    "df.at[second[second.str.contains(\"국어국문학과\")==True].index,[\"학과\"]]=second[second.str.contains(\"국어국문학과\")==True]"
   ]
  },
  {
   "cell_type": "code",
   "execution_count": 505,
   "metadata": {},
   "outputs": [],
   "source": [
    "second[second.str.contains(\"국어국문학과\")==True]=\"\""
   ]
  },
  {
   "cell_type": "code",
   "execution_count": 506,
   "metadata": {},
   "outputs": [],
   "source": [
    "df.at[second[second.str.contains(\"문화인류학과\")==True].index,[\"학과\"]]=second[second.str.contains(\"문화인류학과\")==True]"
   ]
  },
  {
   "cell_type": "code",
   "execution_count": 507,
   "metadata": {},
   "outputs": [],
   "source": [
    "second[second.str.contains(\"문화인류학과\")==True]=\"\""
   ]
  },
  {
   "cell_type": "code",
   "execution_count": 508,
   "metadata": {},
   "outputs": [],
   "source": [
    "second[second.str.contains(\"문대\")==True]=\"인문대학과\""
   ]
  },
  {
   "cell_type": "code",
   "execution_count": 509,
   "metadata": {},
   "outputs": [],
   "source": [
    "df.at[second[second.str.contains(\"인문대학과\")==True].index,[\"학과\"]]=second[second.str.contains(\"인문대학과\")==True]"
   ]
  },
  {
   "cell_type": "code",
   "execution_count": 510,
   "metadata": {},
   "outputs": [],
   "source": [
    "second[second.str.contains(\"인문대학과\")==True]=\"\""
   ]
  },
  {
   "cell_type": "code",
   "execution_count": 511,
   "metadata": {},
   "outputs": [],
   "source": [
    "second[second.str.contains(\"공간디자인\")==True]=\"공간디자인학과\""
   ]
  },
  {
   "cell_type": "code",
   "execution_count": 512,
   "metadata": {},
   "outputs": [],
   "source": [
    "df.at[second[second.str.contains(\"공간디자인학과\")==True].index,[\"학과\"]]=second[second.str.contains(\"공간디자인학과\")==True]"
   ]
  },
  {
   "cell_type": "code",
   "execution_count": 513,
   "metadata": {},
   "outputs": [],
   "source": [
    "second[second.str.contains(\"공간디자인학과\")==True]=\"\""
   ]
  },
  {
   "cell_type": "code",
   "execution_count": 514,
   "metadata": {},
   "outputs": [],
   "source": [
    "second[second.str.contains(\"시각디자인\")==True]=\"시각디자인학과\""
   ]
  },
  {
   "cell_type": "code",
   "execution_count": 515,
   "metadata": {},
   "outputs": [],
   "source": [
    "df.at[second[second.str.contains(\"시각디자인학과\")==True].index,[\"학과\"]]=second[second.str.contains(\"시각디자인학과\")==True]"
   ]
  },
  {
   "cell_type": "code",
   "execution_count": 516,
   "metadata": {},
   "outputs": [],
   "source": [
    "second[second.str.contains(\"시각디자인학과\")==True]=\"\""
   ]
  },
  {
   "cell_type": "code",
   "execution_count": 517,
   "metadata": {},
   "outputs": [],
   "source": [
    "second[second.str.contains(\"실내디자인\")==True]=\"실내디자인학과\""
   ]
  },
  {
   "cell_type": "code",
   "execution_count": 518,
   "metadata": {},
   "outputs": [],
   "source": [
    "df.at[second[second.str.contains(\"실내다지인학과\")==True].index,[\"학과\"]]=second[second.str.contains(\"실내디자인학과\")==True]"
   ]
  },
  {
   "cell_type": "code",
   "execution_count": 519,
   "metadata": {},
   "outputs": [],
   "source": [
    "second[second.str.contains(\"실내디자인학과\")==True]=\"\""
   ]
  },
  {
   "cell_type": "code",
   "execution_count": 520,
   "metadata": {},
   "outputs": [],
   "source": [
    "second[second.str.contains(\"디자인\")==True]=\"디자인학과\""
   ]
  },
  {
   "cell_type": "code",
   "execution_count": 521,
   "metadata": {},
   "outputs": [],
   "source": [
    "df.at[second[second.str.contains(\"디자인학과\")==True].index,[\"학과\"]]=second[second.str.contains(\"디자인학과\")==True]"
   ]
  },
  {
   "cell_type": "code",
   "execution_count": 522,
   "metadata": {},
   "outputs": [],
   "source": [
    "second[second.str.contains(\"디자인학과\")==True]=\"\""
   ]
  },
  {
   "cell_type": "code",
   "execution_count": 523,
   "metadata": {},
   "outputs": [],
   "source": [
    "second[second.str.contains(\"회계\")==True]=\"회계학과\""
   ]
  },
  {
   "cell_type": "code",
   "execution_count": 524,
   "metadata": {},
   "outputs": [],
   "source": [
    "df.at[second[second.str.contains(\"회계학과\")==True].index,[\"학과\"]]=second[second.str.contains(\"회계학과\")==True]"
   ]
  },
  {
   "cell_type": "code",
   "execution_count": 525,
   "metadata": {},
   "outputs": [],
   "source": [
    "second[second.str.contains(\"회계학과\")==True]=\"\""
   ]
  },
  {
   "cell_type": "code",
   "execution_count": 526,
   "metadata": {},
   "outputs": [],
   "source": [
    "second[second.str.contains(\"안전\")==True]=\"안전공학과\""
   ]
  },
  {
   "cell_type": "code",
   "execution_count": 527,
   "metadata": {},
   "outputs": [],
   "source": [
    "df.at[second[second.str.contains(\"안전공학과\")==True].index,[\"학과\"]]=second[second.str.contains(\"안전공학과\")==True]"
   ]
  },
  {
   "cell_type": "code",
   "execution_count": 528,
   "metadata": {},
   "outputs": [],
   "source": [
    "second[second.str.contains(\"안전공학과\")==True]=\"\""
   ]
  },
  {
   "cell_type": "code",
   "execution_count": 529,
   "metadata": {},
   "outputs": [],
   "source": [
    "df.at[second[second.str.contains(\"토스\")==True].index,[\"어학\"]]=second[second.str.contains(\"토스\")==True]"
   ]
  },
  {
   "cell_type": "code",
   "execution_count": 530,
   "metadata": {},
   "outputs": [],
   "source": [
    "second[second.str.contains(\"토스\")==True]=\"\""
   ]
  },
  {
   "cell_type": "code",
   "execution_count": 531,
   "metadata": {},
   "outputs": [],
   "source": [
    "second[second.str.contains(\"환경\")==True]=\"환경과학과\""
   ]
  },
  {
   "cell_type": "code",
   "execution_count": 532,
   "metadata": {},
   "outputs": [],
   "source": [
    "df.at[second[second.str.contains(\"환경과학과\")==True].index,[\"학과\"]]=second[second.str.contains(\"환경과학과\")==True]"
   ]
  },
  {
   "cell_type": "code",
   "execution_count": 533,
   "metadata": {},
   "outputs": [],
   "source": [
    "second[second.str.contains(\"환경과학과\")==True]=\"\""
   ]
  },
  {
   "cell_type": "code",
   "execution_count": 534,
   "metadata": {},
   "outputs": [],
   "source": [
    "second[second.str.contains(\"커뮤\")==True]=\"미디어커뮤니케이션학과\""
   ]
  },
  {
   "cell_type": "code",
   "execution_count": 535,
   "metadata": {},
   "outputs": [],
   "source": [
    "df.at[second[second.str.contains(\"미디어커뮤니케이션학과\")==True].index,[\"학과\"]]=second[second.str.contains(\"미디어커뮤니케이션학과\")==True]"
   ]
  },
  {
   "cell_type": "code",
   "execution_count": 536,
   "metadata": {},
   "outputs": [],
   "source": [
    "second[second.str.contains(\"미디어커뮤니케이션학과\")==True]=\"\""
   ]
  },
  {
   "cell_type": "code",
   "execution_count": 537,
   "metadata": {},
   "outputs": [],
   "source": [
    "second[second.str.contains(\"약\")==True]=\"약학과\""
   ]
  },
  {
   "cell_type": "code",
   "execution_count": 538,
   "metadata": {},
   "outputs": [],
   "source": [
    "df.at[second[second.str.contains(\"약학과\")==True].index,[\"학과\"]]=second[second.str.contains(\"약학과\")==True]"
   ]
  },
  {
   "cell_type": "code",
   "execution_count": 539,
   "metadata": {},
   "outputs": [],
   "source": [
    "second[second.str.contains(\"약학과\")==True]=\"\""
   ]
  },
  {
   "cell_type": "code",
   "execution_count": 540,
   "metadata": {},
   "outputs": [],
   "source": [
    "second[second.str.contains(\"금융\")==True]=\"경제금융학과\""
   ]
  },
  {
   "cell_type": "code",
   "execution_count": 541,
   "metadata": {},
   "outputs": [],
   "source": [
    "df.at[second[second.str.contains(\"경제금융학과\")==True].index,[\"학과\"]]=second[second.str.contains(\"경제금융학과\")==True]"
   ]
  },
  {
   "cell_type": "code",
   "execution_count": 542,
   "metadata": {},
   "outputs": [],
   "source": [
    "second[second.str.contains(\"경제금융학과\")==True]=\"\""
   ]
  },
  {
   "cell_type": "code",
   "execution_count": 543,
   "metadata": {},
   "outputs": [],
   "source": [
    "second[second.str.contains(\"치\")==True]=\"치기공학과\""
   ]
  },
  {
   "cell_type": "code",
   "execution_count": 544,
   "metadata": {},
   "outputs": [],
   "source": [
    "df.at[second[second.str.contains(\"치기공학과\")==True].index,[\"학과\"]]=second[second.str.contains(\"치기공학과\")==True]"
   ]
  },
  {
   "cell_type": "code",
   "execution_count": 545,
   "metadata": {},
   "outputs": [],
   "source": [
    "second[second.str.contains(\"치기공학과\")==True]=\"\""
   ]
  },
  {
   "cell_type": "code",
   "execution_count": 546,
   "metadata": {},
   "outputs": [],
   "source": [
    "df.at[second[second.str.contains(\"태권도\")==True].index,[\"학과\"]]=second[second.str.contains(\"태권도\")==True]"
   ]
  },
  {
   "cell_type": "code",
   "execution_count": 547,
   "metadata": {},
   "outputs": [],
   "source": [
    "second[second.str.contains(\"태권도\")==True]=\"\""
   ]
  },
  {
   "cell_type": "code",
   "execution_count": 548,
   "metadata": {},
   "outputs": [],
   "source": [
    "second[second.str.contains(\"소비자학\")==True]=\"소비자학과\""
   ]
  },
  {
   "cell_type": "code",
   "execution_count": 549,
   "metadata": {},
   "outputs": [],
   "source": [
    "df.at[second[second.str.contains(\"소비자학과\")==True].index,[\"학과\"]]=second[second.str.contains(\"소비자학과\")==True]"
   ]
  },
  {
   "cell_type": "code",
   "execution_count": 550,
   "metadata": {},
   "outputs": [],
   "source": [
    "second[second.str.contains(\"소비자학과\")==True]=\"\""
   ]
  },
  {
   "cell_type": "code",
   "execution_count": 551,
   "metadata": {},
   "outputs": [],
   "source": [
    "second[second.str.contains(\"러시아\")==True]=\"러시아학과\""
   ]
  },
  {
   "cell_type": "code",
   "execution_count": 552,
   "metadata": {},
   "outputs": [],
   "source": [
    "df.at[second[second.str.contains(\"러시아학과\")==True].index,[\"학과\"]]=second[second.str.contains(\"러시아학과\")==True]"
   ]
  },
  {
   "cell_type": "code",
   "execution_count": 553,
   "metadata": {},
   "outputs": [],
   "source": [
    "second[second.str.contains(\"러시아학과\")==True]=\"\""
   ]
  },
  {
   "cell_type": "code",
   "execution_count": 554,
   "metadata": {},
   "outputs": [],
   "source": [
    "second[second.str.contains(\"영어교육\")==True]=\"영어교육과\""
   ]
  },
  {
   "cell_type": "code",
   "execution_count": 555,
   "metadata": {},
   "outputs": [],
   "source": [
    "df.at[second[second.str.contains(\"영어교육과\")==True].index,[\"학과\"]]=second[second.str.contains(\"영어교육과\")==True]"
   ]
  },
  {
   "cell_type": "code",
   "execution_count": 556,
   "metadata": {},
   "outputs": [],
   "source": [
    "second[second.str.contains(\"영어교육과\")==True]=\"\""
   ]
  },
  {
   "cell_type": "code",
   "execution_count": 557,
   "metadata": {},
   "outputs": [],
   "source": [
    "second[second.str.contains(\"영어\")==True]=\"영어영문학과\""
   ]
  },
  {
   "cell_type": "code",
   "execution_count": 558,
   "metadata": {},
   "outputs": [],
   "source": [
    "df.at[second[second.str.contains(\"영어영문학과\")==True].index,[\"학과\"]]=second[second.str.contains(\"영어영문학과\")==True]"
   ]
  },
  {
   "cell_type": "code",
   "execution_count": 559,
   "metadata": {},
   "outputs": [],
   "source": [
    "second[second.str.contains(\"영어영문학과\")==True]=\"\""
   ]
  },
  {
   "cell_type": "code",
   "execution_count": 560,
   "metadata": {},
   "outputs": [],
   "source": [
    "second[second.str.contains(\"인지\")==True]=\"인지과학학과\""
   ]
  },
  {
   "cell_type": "code",
   "execution_count": 561,
   "metadata": {},
   "outputs": [],
   "source": [
    "df.at[second[second.str.contains(\"인지과학학과\")==True].index,[\"학과\"]]=second[second.str.contains(\"인지과학학과\")==True]"
   ]
  },
  {
   "cell_type": "code",
   "execution_count": 562,
   "metadata": {},
   "outputs": [],
   "source": [
    "second[second.str.contains(\"인지과학학과\")==True]=\"\""
   ]
  },
  {
   "cell_type": "code",
   "execution_count": 563,
   "metadata": {},
   "outputs": [],
   "source": [
    "second[second.str.contains(\"반도체\")==True]=\"반도체공학과\""
   ]
  },
  {
   "cell_type": "code",
   "execution_count": 564,
   "metadata": {},
   "outputs": [],
   "source": [
    "df.at[second[second.str.contains(\"반도체공학과\")==True].index,[\"학과\"]]=second[second.str.contains(\"반도체공학과\")==True]"
   ]
  },
  {
   "cell_type": "code",
   "execution_count": 565,
   "metadata": {},
   "outputs": [],
   "source": [
    "second[second.str.contains(\"반도체공학과\")==True]=\"\""
   ]
  },
  {
   "cell_type": "code",
   "execution_count": 566,
   "metadata": {},
   "outputs": [],
   "source": [
    "second[second.str.contains(\"기게\")==True]=\"기계공학과\""
   ]
  },
  {
   "cell_type": "code",
   "execution_count": 567,
   "metadata": {},
   "outputs": [],
   "source": [
    "df.at[second[second.str.contains(\"기계공학과\")==True].index,[\"학과\"]]=second[second.str.contains(\"기계공학과\")==True]"
   ]
  },
  {
   "cell_type": "code",
   "execution_count": 568,
   "metadata": {},
   "outputs": [],
   "source": [
    "second[second.str.contains(\"기계공학과\")==True]=\"\""
   ]
  },
  {
   "cell_type": "code",
   "execution_count": 569,
   "metadata": {},
   "outputs": [],
   "source": [
    "second[second.str.contains(\"체육\")==True]=\"체육학과\""
   ]
  },
  {
   "cell_type": "code",
   "execution_count": 570,
   "metadata": {},
   "outputs": [],
   "source": [
    "df.at[second[second.str.contains(\"체육학과\")==True].index,[\"학과\"]]=second[second.str.contains(\"체육학과\")==True]"
   ]
  },
  {
   "cell_type": "code",
   "execution_count": 571,
   "metadata": {},
   "outputs": [],
   "source": [
    "second[second.str.contains(\"체육학과\")==True]=\"\""
   ]
  },
  {
   "cell_type": "code",
   "execution_count": 572,
   "metadata": {},
   "outputs": [],
   "source": [
    "second[second.str.contains(\"통신\")==True]=\"정보통신학과\""
   ]
  },
  {
   "cell_type": "code",
   "execution_count": 573,
   "metadata": {},
   "outputs": [],
   "source": [
    "df.at[second[second.str.contains(\"정보통신학과\")==True].index,[\"학과\"]]=second[second.str.contains(\"정보통신학과\")==True]"
   ]
  },
  {
   "cell_type": "code",
   "execution_count": 574,
   "metadata": {},
   "outputs": [],
   "source": [
    "second[second.str.contains(\"정보통신학과\")==True]=\"\""
   ]
  },
  {
   "cell_type": "code",
   "execution_count": 575,
   "metadata": {},
   "outputs": [],
   "source": [
    "second[second.str.contains(\"유아교육\")==True]=\"유아교육과\""
   ]
  },
  {
   "cell_type": "code",
   "execution_count": 576,
   "metadata": {},
   "outputs": [],
   "source": [
    "df.at[second[second.str.contains(\"유아교육과\")==True].index,[\"학과\"]]=second[second.str.contains(\"유아교육과\")==True]"
   ]
  },
  {
   "cell_type": "code",
   "execution_count": 577,
   "metadata": {},
   "outputs": [],
   "source": [
    "second[second.str.contains(\"유아교육과\")==True]=\"\""
   ]
  },
  {
   "cell_type": "code",
   "execution_count": 578,
   "metadata": {},
   "outputs": [],
   "source": [
    "second[second.str.contains(\"역사교육\")==True]=\"역사교육학과\""
   ]
  },
  {
   "cell_type": "code",
   "execution_count": 579,
   "metadata": {},
   "outputs": [],
   "source": [
    "df.at[second[second.str.contains(\"역사교육학과\")==True].index,[\"학과\"]]=second[second.str.contains(\"역사교육학과\")==True]"
   ]
  },
  {
   "cell_type": "code",
   "execution_count": 580,
   "metadata": {},
   "outputs": [],
   "source": [
    "second[second.str.contains(\"역사교육학과\")==True]=\"\""
   ]
  },
  {
   "cell_type": "code",
   "execution_count": 581,
   "metadata": {},
   "outputs": [],
   "source": [
    "second[second.str.contains(\"과학교육\")==True]=\"과학교육학과\""
   ]
  },
  {
   "cell_type": "code",
   "execution_count": 582,
   "metadata": {},
   "outputs": [],
   "source": [
    "df.at[second[second.str.contains(\"과학교육학과\")==True].index,[\"학과\"]]=second[second.str.contains(\"과학교육학과\")==True]"
   ]
  },
  {
   "cell_type": "code",
   "execution_count": 583,
   "metadata": {},
   "outputs": [],
   "source": [
    "second[second.str.contains(\"과학교육학과\")==True]=\"\""
   ]
  },
  {
   "cell_type": "code",
   "execution_count": 584,
   "metadata": {},
   "outputs": [],
   "source": [
    "second[second.str.contains(\"교육\")==True]=\"교육학과\""
   ]
  },
  {
   "cell_type": "code",
   "execution_count": 585,
   "metadata": {},
   "outputs": [],
   "source": [
    "df.at[second[second.str.contains(\"교육학과\")==True].index,[\"학과\"]]=second[second.str.contains(\"교육학과\")==True]"
   ]
  },
  {
   "cell_type": "code",
   "execution_count": 586,
   "metadata": {},
   "outputs": [],
   "source": [
    "second[second.str.contains(\"교육학과\")==True]=\"\""
   ]
  },
  {
   "cell_type": "code",
   "execution_count": 587,
   "metadata": {},
   "outputs": [],
   "source": [
    "second[second.str.contains(\"부산대\")==True]=\"\""
   ]
  },
  {
   "cell_type": "code",
   "execution_count": 588,
   "metadata": {},
   "outputs": [],
   "source": [
    "second[second.str.contains(\"생공\")==True]=\"생명공학과\""
   ]
  },
  {
   "cell_type": "code",
   "execution_count": 589,
   "metadata": {},
   "outputs": [],
   "source": [
    "df.at[second[second.str.contains(\"생명공학과\")==True].index,[\"학과\"]]=second[second.str.contains(\"생명공학과\")==True]"
   ]
  },
  {
   "cell_type": "code",
   "execution_count": 590,
   "metadata": {},
   "outputs": [],
   "source": [
    "second[second.str.contains(\"생명공학과\")==True]=\"\""
   ]
  },
  {
   "cell_type": "code",
   "execution_count": 591,
   "metadata": {},
   "outputs": [],
   "source": [
    "second[second.str.contains(\"특수\")==True]=\"특수어학과\""
   ]
  },
  {
   "cell_type": "code",
   "execution_count": 592,
   "metadata": {},
   "outputs": [],
   "source": [
    "df.at[second[second.str.contains(\"특수어학과\")==True].index,[\"학과\"]]=second[second.str.contains(\"특수어학과\")==True]"
   ]
  },
  {
   "cell_type": "code",
   "execution_count": 593,
   "metadata": {},
   "outputs": [],
   "source": [
    "second[second.str.contains(\"특수어학과\")==True]=\"\""
   ]
  },
  {
   "cell_type": "code",
   "execution_count": 594,
   "metadata": {},
   "outputs": [],
   "source": [
    "second[second.str.contains(\"Illustration Animation BA\")==True]=\"디자인학과\""
   ]
  },
  {
   "cell_type": "code",
   "execution_count": 595,
   "metadata": {},
   "outputs": [],
   "source": [
    "df.at[second[second.str.contains(\"디자인학과\")==True].index,[\"학과\"]]=second[second.str.contains(\"디자인학과\")==True]"
   ]
  },
  {
   "cell_type": "code",
   "execution_count": 596,
   "metadata": {},
   "outputs": [],
   "source": [
    "second[second.str.contains(\"디자인학과\")==True]=\"\""
   ]
  },
  {
   "cell_type": "code",
   "execution_count": 597,
   "metadata": {},
   "outputs": [],
   "source": [
    "second[second.str.contains(\"영상\")==True]=\"영상학과\""
   ]
  },
  {
   "cell_type": "code",
   "execution_count": 598,
   "metadata": {},
   "outputs": [],
   "source": [
    "df.at[second[second.str.contains(\"영상학과\")==True].index,[\"학과\"]]=second[second.str.contains(\"영상학과\")==True]"
   ]
  },
  {
   "cell_type": "code",
   "execution_count": 599,
   "metadata": {},
   "outputs": [],
   "source": [
    "second[second.str.contains(\"영상학과\")==True]=\"\""
   ]
  },
  {
   "cell_type": "code",
   "execution_count": 600,
   "metadata": {},
   "outputs": [],
   "source": [
    "second[second.str.contains(\"관광\")==True]=\"관광학과\""
   ]
  },
  {
   "cell_type": "code",
   "execution_count": 601,
   "metadata": {},
   "outputs": [],
   "source": [
    "df.at[second[second.str.contains(\"관광학과\")==True].index,[\"학과\"]]=second[second.str.contains(\"관광학과\")==True]"
   ]
  },
  {
   "cell_type": "code",
   "execution_count": 602,
   "metadata": {},
   "outputs": [],
   "source": [
    "second[second.str.contains(\"관광학과\")==True]=\"\""
   ]
  },
  {
   "cell_type": "code",
   "execution_count": 603,
   "metadata": {},
   "outputs": [],
   "source": [
    "df.at[second[second.str.contains(\"메카트로닉스공학과\")==True].index,[\"학과\"]]=second[second.str.contains(\"메카트로닉스공학과\")==True]"
   ]
  },
  {
   "cell_type": "code",
   "execution_count": 604,
   "metadata": {},
   "outputs": [],
   "source": [
    "second[second.str.contains(\"메카트로닉스공학과\")==True]=\"\""
   ]
  },
  {
   "cell_type": "code",
   "execution_count": 605,
   "metadata": {},
   "outputs": [],
   "source": [
    "second[second.str.contains(\"제어계측공학\")==True]=\"제어계측공학과\""
   ]
  },
  {
   "cell_type": "code",
   "execution_count": 606,
   "metadata": {},
   "outputs": [],
   "source": [
    "df.at[second[second.str.contains(\"제어계측공학과\")==True].index,[\"학과\"]]=second[second.str.contains(\"제어계측공학과\")==True]"
   ]
  },
  {
   "cell_type": "code",
   "execution_count": 607,
   "metadata": {},
   "outputs": [],
   "source": [
    "second[second.str.contains(\"제어계측공학과\")==True]=\"\""
   ]
  },
  {
   "cell_type": "code",
   "execution_count": 608,
   "metadata": {},
   "outputs": [],
   "source": [
    "df.at[second[second.str.contains(\"생체공학과\")==True].index,[\"학과\"]]=second[second.str.contains(\"생체공학과\")==True]"
   ]
  },
  {
   "cell_type": "code",
   "execution_count": 609,
   "metadata": {},
   "outputs": [],
   "source": [
    "second[second.str.contains(\"생체공학과\")==True]=\"\""
   ]
  },
  {
   "cell_type": "code",
   "execution_count": 610,
   "metadata": {},
   "outputs": [],
   "source": [
    "df.at[second[second.str.contains(\"유전공학과\")==True].index,[\"학과\"]]=second[second.str.contains(\"유전공학과\")==True]"
   ]
  },
  {
   "cell_type": "code",
   "execution_count": 611,
   "metadata": {},
   "outputs": [],
   "source": [
    "second[second.str.contains(\"유전공학과\")==True]=\"\""
   ]
  },
  {
   "cell_type": "code",
   "execution_count": 612,
   "metadata": {},
   "outputs": [],
   "source": [
    "second[second.str.contains(\"기전공학부\")==True]=\"기계전자공학과\""
   ]
  },
  {
   "cell_type": "code",
   "execution_count": 613,
   "metadata": {},
   "outputs": [],
   "source": [
    "df.at[second[second.str.contains(\"기계전자공학과\")==True].index,[\"학과\"]]=second[second.str.contains(\"기계전자공학과\")==True]"
   ]
  },
  {
   "cell_type": "code",
   "execution_count": 614,
   "metadata": {},
   "outputs": [],
   "source": [
    "second[second.str.contains(\"기계전자공학과\")==True]=\"\""
   ]
  },
  {
   "cell_type": "code",
   "execution_count": 615,
   "metadata": {},
   "outputs": [],
   "source": [
    "second[second.str.contains(\"금속공학\")==True]=\"금속공학과\""
   ]
  },
  {
   "cell_type": "code",
   "execution_count": 616,
   "metadata": {},
   "outputs": [],
   "source": [
    "df.at[second[second.str.contains(\"금속공학과\")==True].index,[\"학과\"]]=second[second.str.contains(\"금속공학과\")==True]"
   ]
  },
  {
   "cell_type": "code",
   "execution_count": 617,
   "metadata": {},
   "outputs": [],
   "source": [
    "second[second.str.contains(\"금속공학과\")==True]=\"\""
   ]
  },
  {
   "cell_type": "code",
   "execution_count": 619,
   "metadata": {},
   "outputs": [],
   "source": [
    "df.at[second[second.str.contains(\"공모전\")==True].index,[\"경험사항\"]]=second[second.str.contains(\"공모전\")==True]"
   ]
  },
  {
   "cell_type": "code",
   "execution_count": 620,
   "metadata": {},
   "outputs": [],
   "source": [
    "second[second.str.contains(\"공모전\")==True]=\"\""
   ]
  },
  {
   "cell_type": "code",
   "execution_count": 621,
   "metadata": {},
   "outputs": [],
   "source": [
    "second[second.str.contains(\"기공\")==True]=\"기계공학과\""
   ]
  },
  {
   "cell_type": "code",
   "execution_count": 622,
   "metadata": {},
   "outputs": [],
   "source": [
    "df.at[second[second.str.contains(\"기계공학과\")==True].index,[\"학과\"]]=second[second.str.contains(\"기계공학과\")==True]"
   ]
  },
  {
   "cell_type": "code",
   "execution_count": 623,
   "metadata": {},
   "outputs": [],
   "source": [
    "second[second.str.contains(\"기계공학과\")==True]=\"\""
   ]
  },
  {
   "cell_type": "code",
   "execution_count": 624,
   "metadata": {},
   "outputs": [],
   "source": [
    "df.at[second[second.str.contains(\"뇌\")==True].index,[\"학과\"]]=second[second.str.contains(\"뇌\")==True]"
   ]
  },
  {
   "cell_type": "code",
   "execution_count": 625,
   "metadata": {},
   "outputs": [],
   "source": [
    "second[second.str.contains(\"뇌\")==True]=\"\""
   ]
  },
  {
   "cell_type": "code",
   "execution_count": 626,
   "metadata": {},
   "outputs": [],
   "source": [
    "second[second.str.contains(\"디자인\")==True]=\"디자인학과\""
   ]
  },
  {
   "cell_type": "code",
   "execution_count": 627,
   "metadata": {},
   "outputs": [],
   "source": [
    "df.at[second[second.str.contains(\"디자인학과\")==True].index,[\"학과\"]]=second[second.str.contains(\"디자인학과\")==True]"
   ]
  },
  {
   "cell_type": "code",
   "execution_count": 628,
   "metadata": {},
   "outputs": [],
   "source": [
    "second[second.str.contains(\"디자인학과\")==True]=\"\""
   ]
  },
  {
   "cell_type": "code",
   "execution_count": 629,
   "metadata": {},
   "outputs": [],
   "source": [
    "second[second.str.contains(\"병원\")==True]=\"의료학과\""
   ]
  },
  {
   "cell_type": "code",
   "execution_count": 630,
   "metadata": {},
   "outputs": [],
   "source": [
    "df.at[second[second.str.contains(\"의료학과\")==True].index,[\"학과\"]]=second[second.str.contains(\"의료학과\")==True]"
   ]
  },
  {
   "cell_type": "code",
   "execution_count": 631,
   "metadata": {},
   "outputs": [],
   "source": [
    "second[second.str.contains(\"의료학과\")==True]=\"\""
   ]
  },
  {
   "cell_type": "code",
   "execution_count": 632,
   "metadata": {},
   "outputs": [],
   "source": [
    "second[second.str.contains(\"인문\")==True]=\"인문계열학과\""
   ]
  },
  {
   "cell_type": "code",
   "execution_count": 633,
   "metadata": {},
   "outputs": [],
   "source": [
    "df.at[second[second.str.contains(\"인문계열학과\")==True].index,[\"학과\"]]=second[second.str.contains(\"인문계열학과\")==True]"
   ]
  },
  {
   "cell_type": "code",
   "execution_count": 634,
   "metadata": {},
   "outputs": [],
   "source": [
    "second[second.str.contains(\"인문계열학과\")==True]=\"\""
   ]
  },
  {
   "cell_type": "code",
   "execution_count": 635,
   "metadata": {},
   "outputs": [],
   "source": [
    "df.at[second[second.str.contains(\"인턴\")==True].index,[\"경험사항\"]]=second[second.str.contains(\"인턴\")==True]"
   ]
  },
  {
   "cell_type": "code",
   "execution_count": 636,
   "metadata": {},
   "outputs": [],
   "source": [
    "second[second.str.contains(\"인턴\")==True]=\"\""
   ]
  },
  {
   "cell_type": "code",
   "execution_count": 637,
   "metadata": {},
   "outputs": [],
   "source": [
    "second[second.str.contains(\"보안\")==True]=\"보안학과\""
   ]
  },
  {
   "cell_type": "code",
   "execution_count": 638,
   "metadata": {},
   "outputs": [],
   "source": [
    "df.at[second[second.str.contains(\"보안학과\")==True].index,[\"학과\"]]=second[second.str.contains(\"보안학과\")==True]"
   ]
  },
  {
   "cell_type": "code",
   "execution_count": 639,
   "metadata": {},
   "outputs": [],
   "source": [
    "second[second.str.contains(\"보안학과\")==True]=\"\""
   ]
  },
  {
   "cell_type": "code",
   "execution_count": 640,
   "metadata": {},
   "outputs": [],
   "source": [
    "second[second.str.contains(\"SW\")==True]=\"소프트웨어학과\""
   ]
  },
  {
   "cell_type": "code",
   "execution_count": 641,
   "metadata": {},
   "outputs": [],
   "source": [
    "df.at[second[second.str.contains(\"소프트웨어학과\")==True].index,[\"학과\"]]=second[second.str.contains(\"소프트웨어학과\")==True]"
   ]
  },
  {
   "cell_type": "code",
   "execution_count": 642,
   "metadata": {},
   "outputs": [],
   "source": [
    "second[second.str.contains(\"소프트웨어학과\")==True]=\"\""
   ]
  },
  {
   "cell_type": "code",
   "execution_count": 643,
   "metadata": {},
   "outputs": [],
   "source": [
    "df.at[second[second.str.contains(\"정보제어\")==True].index,[\"학과\"]]=second[second.str.contains(\"정보제어\")==True]"
   ]
  },
  {
   "cell_type": "code",
   "execution_count": 644,
   "metadata": {},
   "outputs": [],
   "source": [
    "second[second.str.contains(\"정보제어\")==True]=\"\""
   ]
  },
  {
   "cell_type": "code",
   "execution_count": 645,
   "metadata": {},
   "outputs": [],
   "source": [
    "second[second.str.contains(\"원자\")==True]=\"원자력공학과\""
   ]
  },
  {
   "cell_type": "code",
   "execution_count": 646,
   "metadata": {},
   "outputs": [],
   "source": [
    "df.at[second[second.str.contains(\"원자력공학과\")==True].index,[\"학과\"]]=second[second.str.contains(\"원자력공학과\")==True]"
   ]
  },
  {
   "cell_type": "code",
   "execution_count": 647,
   "metadata": {},
   "outputs": [],
   "source": [
    "second[second.str.contains(\"원자력공학과\")==True]=\"\""
   ]
  },
  {
   "cell_type": "code",
   "execution_count": 648,
   "metadata": {},
   "outputs": [],
   "source": [
    "second[second.str.contains(\"식\")==True]=\"식품공학과\""
   ]
  },
  {
   "cell_type": "code",
   "execution_count": 649,
   "metadata": {},
   "outputs": [],
   "source": [
    "df.at[second[second.str.contains(\"식품공학과\")==True].index,[\"학과\"]]=second[second.str.contains(\"식품공학과\")==True]"
   ]
  },
  {
   "cell_type": "code",
   "execution_count": 650,
   "metadata": {},
   "outputs": [],
   "source": [
    "second[second.str.contains(\"식품공학과\")==True]=\"\""
   ]
  },
  {
   "cell_type": "code",
   "execution_count": 651,
   "metadata": {},
   "outputs": [],
   "source": [
    "second[second.str.contains(\"공학 \")==True]=\"공학계열학과\""
   ]
  },
  {
   "cell_type": "code",
   "execution_count": 652,
   "metadata": {},
   "outputs": [],
   "source": [
    "df.at[second[second.str.contains(\"공학계열학과\")==True].index,[\"학과\"]]=second[second.str.contains(\"공학계열학과\")==True]"
   ]
  },
  {
   "cell_type": "code",
   "execution_count": 653,
   "metadata": {},
   "outputs": [],
   "source": [
    "second[second.str.contains(\"공학 \")==True]=\"\""
   ]
  },
  {
   "cell_type": "code",
   "execution_count": 654,
   "metadata": {},
   "outputs": [],
   "source": [
    "second[second.str.contains(\"공학계열 \")==True]=\"공학계열학과\""
   ]
  },
  {
   "cell_type": "code",
   "execution_count": 655,
   "metadata": {},
   "outputs": [],
   "source": [
    "df.at[second[second.str.contains(\"공학계열학과\")==True].index,[\"학과\"]]=second[second.str.contains(\"공학계열학과\")==True]"
   ]
  },
  {
   "cell_type": "code",
   "execution_count": 656,
   "metadata": {},
   "outputs": [],
   "source": [
    "second[second.str.contains(\"공학 \")==True]=\"\""
   ]
  },
  {
   "cell_type": "code",
   "execution_count": 657,
   "metadata": {},
   "outputs": [],
   "source": [
    "df.at[second[second.str.contains(\"의공학과\")==True].index,[\"학과\"]]=second[second.str.contains(\"의공학과\")==True]"
   ]
  },
  {
   "cell_type": "code",
   "execution_count": 658,
   "metadata": {},
   "outputs": [],
   "source": [
    "second[second.str.contains(\"의공학과\")==True]=\"\""
   ]
  },
  {
   "cell_type": "code",
   "execution_count": 659,
   "metadata": {},
   "outputs": [],
   "source": [
    "second[second.str.contains(\"냉동\")==True]=\"냉동공조학과\""
   ]
  },
  {
   "cell_type": "code",
   "execution_count": 660,
   "metadata": {},
   "outputs": [],
   "source": [
    "df.at[second[second.str.contains(\"냉동공조학과\")==True].index,[\"학과\"]]=second[second.str.contains(\"냉동공조학과\")==True]"
   ]
  },
  {
   "cell_type": "code",
   "execution_count": 661,
   "metadata": {},
   "outputs": [],
   "source": [
    "second[second.str.contains(\"냉동\")==True]=\"\""
   ]
  },
  {
   "cell_type": "code",
   "execution_count": 662,
   "metadata": {},
   "outputs": [],
   "source": [
    "df.at[second[second.str.contains(\"방사선\")==True].index,[\"학과\"]]=second[second.str.contains(\"방사선\")==True]"
   ]
  },
  {
   "cell_type": "code",
   "execution_count": 663,
   "metadata": {},
   "outputs": [],
   "source": [
    "second[second.str.contains(\"방사선\")==True]=\"\""
   ]
  },
  {
   "cell_type": "code",
   "execution_count": 664,
   "metadata": {},
   "outputs": [],
   "source": [
    "second[second.str.contains(\"b\")==True]=\"경영학과\""
   ]
  },
  {
   "cell_type": "code",
   "execution_count": 665,
   "metadata": {},
   "outputs": [],
   "source": [
    "df.at[second[second.str.contains(\"경영학과\")==True].index,[\"학과\"]]=second[second.str.contains(\"경영학과\")==True]"
   ]
  },
  {
   "cell_type": "code",
   "execution_count": 666,
   "metadata": {},
   "outputs": [],
   "source": [
    "second[second.str.contains(\"경영학과\")==True]=\"\""
   ]
  },
  {
   "cell_type": "code",
   "execution_count": 667,
   "metadata": {},
   "outputs": [],
   "source": [
    "df.at[second[second.str.contains(\"자동차\")==True].index,[\"학과\"]]=second[second.str.contains(\"자동차\")==True]"
   ]
  },
  {
   "cell_type": "code",
   "execution_count": 668,
   "metadata": {},
   "outputs": [],
   "source": [
    "second[second.str.contains(\"자동차\")==True]=\"\""
   ]
  },
  {
   "cell_type": "code",
   "execution_count": 669,
   "metadata": {},
   "outputs": [],
   "source": [
    "second[second.str.contains(\"ITM\")==True]=\"산업공학과\""
   ]
  },
  {
   "cell_type": "code",
   "execution_count": 670,
   "metadata": {},
   "outputs": [],
   "source": [
    "df.at[second[second.str.contains(\"산업공학과\")==True].index,[\"학과\"]]=second[second.str.contains(\"산업공학과\")==True]"
   ]
  },
  {
   "cell_type": "code",
   "execution_count": 671,
   "metadata": {},
   "outputs": [],
   "source": [
    "second[second.str.contains(\"산업공학과\")==True]=\"\""
   ]
  },
  {
   "cell_type": "code",
   "execution_count": 672,
   "metadata": {},
   "outputs": [],
   "source": [
    "second[second.str.contains(\"소재\")==True]=\"소재공학과\""
   ]
  },
  {
   "cell_type": "code",
   "execution_count": 673,
   "metadata": {},
   "outputs": [],
   "source": [
    "df.at[second[second.str.contains(\"소재공학과\")==True].index,[\"학과\"]]=second[second.str.contains(\"소재공학과\")==True]"
   ]
  },
  {
   "cell_type": "code",
   "execution_count": 674,
   "metadata": {},
   "outputs": [],
   "source": [
    "second[second.str.contains(\"소재공학과\")==True]=\"\""
   ]
  },
  {
   "cell_type": "code",
   "execution_count": 675,
   "metadata": {},
   "outputs": [],
   "source": [
    "second[second.str.contains(\"부동산\")==True]=\"부동산학과\""
   ]
  },
  {
   "cell_type": "code",
   "execution_count": 676,
   "metadata": {},
   "outputs": [],
   "source": [
    "df.at[second[second.str.contains(\"부동산학과\")==True].index,[\"학과\"]]=second[second.str.contains(\"부동산학과\")==True]"
   ]
  },
  {
   "cell_type": "code",
   "execution_count": 677,
   "metadata": {},
   "outputs": [],
   "source": [
    "second[second.str.contains(\"부동산학과\")==True]=\"\""
   ]
  },
  {
   "cell_type": "code",
   "execution_count": 678,
   "metadata": {},
   "outputs": [],
   "source": [
    "df.at[second[second.str.contains(\"봉사\")==True].index,[\"경험사항\"]]=second[second.str.contains(\"봉사\")==True]"
   ]
  },
  {
   "cell_type": "code",
   "execution_count": 679,
   "metadata": {},
   "outputs": [],
   "source": [
    "second[second.str.contains(\"봉사\")==True]=\"\""
   ]
  },
  {
   "cell_type": "code",
   "execution_count": 680,
   "metadata": {},
   "outputs": [],
   "source": [
    "second[second.str.contains(\"동\")==True]=\"동물자연학과\""
   ]
  },
  {
   "cell_type": "code",
   "execution_count": 681,
   "metadata": {},
   "outputs": [],
   "source": [
    "df.at[second[second.str.contains(\"동물자연학과\")==True].index,[\"학과\"]]=second[second.str.contains(\"동물자연학과\")==True]"
   ]
  },
  {
   "cell_type": "code",
   "execution_count": 682,
   "metadata": {},
   "outputs": [],
   "source": [
    "second[second.str.contains(\"동물자연학과\")==True]=\"\""
   ]
  },
  {
   "cell_type": "code",
   "execution_count": 683,
   "metadata": {},
   "outputs": [],
   "source": [
    "second[second.str.contains(\"방송\")==True]=\"방송학과\""
   ]
  },
  {
   "cell_type": "code",
   "execution_count": 684,
   "metadata": {},
   "outputs": [],
   "source": [
    "df.at[second[second.str.contains(\"방송학과\")==True].index,[\"학과\"]]=second[second.str.contains(\"방송학과\")==True]"
   ]
  },
  {
   "cell_type": "code",
   "execution_count": 685,
   "metadata": {},
   "outputs": [],
   "source": [
    "second[second.str.contains(\"방송학과\")==True]=\"\""
   ]
  },
  {
   "cell_type": "code",
   "execution_count": 686,
   "metadata": {},
   "outputs": [],
   "source": [
    "second[second.str.contains(\"일어\")==True]=\"일어일문과\""
   ]
  },
  {
   "cell_type": "code",
   "execution_count": 687,
   "metadata": {},
   "outputs": [],
   "source": [
    "df.at[second[second.str.contains(\"일어일문과\")==True].index,[\"학과\"]]=second[second.str.contains(\"일어일문과\")==True]"
   ]
  },
  {
   "cell_type": "code",
   "execution_count": 688,
   "metadata": {},
   "outputs": [],
   "source": [
    "second[second.str.contains(\"일어일문과\")==True]=\"\""
   ]
  },
  {
   "cell_type": "code",
   "execution_count": 689,
   "metadata": {},
   "outputs": [],
   "source": [
    "second[second.str.contains(\"스포\")==True]=\"스포츠과학학과\""
   ]
  },
  {
   "cell_type": "code",
   "execution_count": 690,
   "metadata": {},
   "outputs": [],
   "source": [
    "df.at[second[second.str.contains(\"스포츠과학학과\")==True].index,[\"학과\"]]=second[second.str.contains(\"스포츠과학학과\")==True]"
   ]
  },
  {
   "cell_type": "code",
   "execution_count": 691,
   "metadata": {},
   "outputs": [],
   "source": [
    "second[second.str.contains(\"스포츠과학학과\")==True]=\"\""
   ]
  },
  {
   "cell_type": "code",
   "execution_count": 692,
   "metadata": {},
   "outputs": [],
   "source": [
    "second[second.str.contains(\"심리\")==True]=\"심리학과\""
   ]
  },
  {
   "cell_type": "code",
   "execution_count": 693,
   "metadata": {},
   "outputs": [],
   "source": [
    "df.at[second[second.str.contains(\"심리학과\")==True].index,[\"학과\"]]=second[second.str.contains(\"심리학과\")==True]"
   ]
  },
  {
   "cell_type": "code",
   "execution_count": 694,
   "metadata": {},
   "outputs": [],
   "source": [
    "second[second.str.contains(\"심리학과\")==True]=\"\""
   ]
  },
  {
   "cell_type": "code",
   "execution_count": 695,
   "metadata": {},
   "outputs": [],
   "source": [
    "second[second.str.contains(\"공간\")==True]=\"공간정보학과\""
   ]
  },
  {
   "cell_type": "code",
   "execution_count": 696,
   "metadata": {},
   "outputs": [],
   "source": [
    "df.at[second[second.str.contains(\"공간정보\")==True].index,[\"학과\"]]=second[second.str.contains(\"공간정보학과\")==True]"
   ]
  },
  {
   "cell_type": "code",
   "execution_count": 697,
   "metadata": {},
   "outputs": [],
   "source": [
    "second[second.str.contains(\"공간정보학과\")==True]=\"\""
   ]
  },
  {
   "cell_type": "code",
   "execution_count": 698,
   "metadata": {},
   "outputs": [],
   "source": [
    "second[second.str.contains(\"예술\")==True]=\"예술계열학과\""
   ]
  },
  {
   "cell_type": "code",
   "execution_count": 699,
   "metadata": {},
   "outputs": [],
   "source": [
    "df.at[second[second.str.contains(\"예술\")==True].index,[\"학과\"]]=second[second.str.contains(\"예술\")==True]"
   ]
  },
  {
   "cell_type": "code",
   "execution_count": 700,
   "metadata": {},
   "outputs": [],
   "source": [
    "second[second.str.contains(\"예술\")==True]=\"\""
   ]
  },
  {
   "cell_type": "code",
   "execution_count": 701,
   "metadata": {},
   "outputs": [],
   "source": [
    "df.at[second[second.str.contains(\"로봇\")==True].index,[\"학과\"]]=second[second.str.contains(\"로봇\")==True]"
   ]
  },
  {
   "cell_type": "code",
   "execution_count": 702,
   "metadata": {},
   "outputs": [],
   "source": [
    "second[second.str.contains(\"로봇\")==True]=\"\""
   ]
  },
  {
   "cell_type": "code",
   "execution_count": 703,
   "metadata": {},
   "outputs": [],
   "source": [
    "second[second.str.contains(\"의공학\")==True]=\"의공학과\""
   ]
  },
  {
   "cell_type": "code",
   "execution_count": 704,
   "metadata": {},
   "outputs": [],
   "source": [
    "df.at[second[second.str.contains(\"의공학과\")==True].index,[\"학과\"]]=second[second.str.contains(\"의공학과\")==True]"
   ]
  },
  {
   "cell_type": "code",
   "execution_count": 705,
   "metadata": {},
   "outputs": [],
   "source": [
    "second[second.str.contains(\"의공학과\")==True]=\"\""
   ]
  },
  {
   "cell_type": "code",
   "execution_count": 706,
   "metadata": {},
   "outputs": [],
   "source": [
    "df.at[second[second.str.contains(\"제어\")==True].index,[\"학과\"]]=second[second.str.contains(\"제어\")==True]"
   ]
  },
  {
   "cell_type": "code",
   "execution_count": 707,
   "metadata": {},
   "outputs": [],
   "source": [
    "second[second.str.contains(\"제어\")==True]=\"\""
   ]
  },
  {
   "cell_type": "code",
   "execution_count": 708,
   "metadata": {},
   "outputs": [],
   "source": [
    "second[second.str.contains(\"신방\")==True]=\"신문방송학과\""
   ]
  },
  {
   "cell_type": "code",
   "execution_count": 709,
   "metadata": {},
   "outputs": [],
   "source": [
    "df.at[second[second.str.contains(\"신문방송학과\")==True].index,[\"학과\"]]=second[second.str.contains(\"신문방송학과\")==True]"
   ]
  },
  {
   "cell_type": "code",
   "execution_count": 710,
   "metadata": {},
   "outputs": [],
   "source": [
    "second[second.str.contains(\"신문방송학과\")==True]=\"\""
   ]
  },
  {
   "cell_type": "code",
   "execution_count": 711,
   "metadata": {},
   "outputs": [],
   "source": [
    "second[second.str.contains(\"Il\")==True]=\"예술계열학과\""
   ]
  },
  {
   "cell_type": "code",
   "execution_count": 712,
   "metadata": {},
   "outputs": [],
   "source": [
    "df.at[second[second.str.contains(\"예술계열학과\")==True].index,[\"학과\"]]=second[second.str.contains(\"예술계열학과\")==True]"
   ]
  },
  {
   "cell_type": "code",
   "execution_count": 713,
   "metadata": {},
   "outputs": [],
   "source": [
    "second[second.str.contains(\"예술계열학과\")==True]=\"\""
   ]
  },
  {
   "cell_type": "code",
   "execution_count": 714,
   "metadata": {},
   "outputs": [],
   "source": [
    "second[second.str.contains(\"아\")==True]=\"\""
   ]
  },
  {
   "cell_type": "code",
   "execution_count": 715,
   "metadata": {},
   "outputs": [],
   "source": [
    "second[second.str.contains(\"메카\")==True]=\"메카트로닉스공학과\""
   ]
  },
  {
   "cell_type": "code",
   "execution_count": 716,
   "metadata": {},
   "outputs": [],
   "source": [
    "df.at[second[second.str.contains(\"메카트로닉스공학과\")==True].index,[\"학과\"]]=second[second.str.contains(\"메카트로닉스공학과\")==True]"
   ]
  },
  {
   "cell_type": "code",
   "execution_count": 717,
   "metadata": {},
   "outputs": [],
   "source": [
    "second[second.str.contains(\"메카트로닉스공학과\")==True]=\"\""
   ]
  },
  {
   "cell_type": "code",
   "execution_count": 718,
   "metadata": {},
   "outputs": [],
   "source": [
    "df.at[second[second.str.contains(\"수\")==True].index,[\"학과\"]]=second[second.str.contains(\"수\")==True]"
   ]
  },
  {
   "cell_type": "code",
   "execution_count": 719,
   "metadata": {},
   "outputs": [],
   "source": [
    "second[second.str.contains(\"수\")==True]=\"\""
   ]
  },
  {
   "cell_type": "code",
   "execution_count": 720,
   "metadata": {},
   "outputs": [],
   "source": [
    "second[second.str.contains(\"일본\")==True]=\"일어일문학과\""
   ]
  },
  {
   "cell_type": "code",
   "execution_count": 721,
   "metadata": {},
   "outputs": [],
   "source": [
    "df.at[second[second.str.contains(\"일어일문학과\")==True].index,[\"학과\"]]=second[second.str.contains(\"일어일문학과\")==True]"
   ]
  },
  {
   "cell_type": "code",
   "execution_count": 722,
   "metadata": {},
   "outputs": [],
   "source": [
    "second[second.str.contains(\"일어일문학과\")==True]=\"\""
   ]
  },
  {
   "cell_type": "code",
   "execution_count": 723,
   "metadata": {},
   "outputs": [],
   "source": [
    "second[second.str.contains(\"사범\")==True]=\"사범계열학과\""
   ]
  },
  {
   "cell_type": "code",
   "execution_count": 724,
   "metadata": {},
   "outputs": [],
   "source": [
    "df.at[second[second.str.contains(\"사범\")==True].index,[\"학과\"]]=second[second.str.contains(\"사범\")==True]"
   ]
  },
  {
   "cell_type": "code",
   "execution_count": 725,
   "metadata": {},
   "outputs": [],
   "source": [
    "second[second.str.contains(\"사범\")==True]=\"\""
   ]
  },
  {
   "cell_type": "code",
   "execution_count": 726,
   "metadata": {},
   "outputs": [],
   "source": [
    "second[second.str.contains(\"언론\")==True]=\"언론정보학과\""
   ]
  },
  {
   "cell_type": "code",
   "execution_count": 727,
   "metadata": {},
   "outputs": [],
   "source": [
    "df.at[second[second.str.contains(\"언론정보학과\")==True].index,[\"학과\"]]=second[second.str.contains(\"언론정보학과\")==True]"
   ]
  },
  {
   "cell_type": "code",
   "execution_count": 728,
   "metadata": {},
   "outputs": [],
   "source": [
    "second[second.str.contains(\"언론정보학과\")==True]=\"\""
   ]
  },
  {
   "cell_type": "code",
   "execution_count": 729,
   "metadata": {},
   "outputs": [],
   "source": [
    "second[second.str.contains(\"IT\")==True]=\"컴퓨터공학과\""
   ]
  },
  {
   "cell_type": "code",
   "execution_count": 730,
   "metadata": {},
   "outputs": [],
   "source": [
    "df.at[second[second.str.contains(\"컴퓨터공학과\")==True].index,[\"학과\"]]=second[second.str.contains(\"컴퓨터공학과\")==True]"
   ]
  },
  {
   "cell_type": "code",
   "execution_count": 731,
   "metadata": {},
   "outputs": [],
   "source": [
    "second[second.str.contains(\"컴퓨터공학과\")==True]=\"\""
   ]
  },
  {
   "cell_type": "code",
   "execution_count": 732,
   "metadata": {},
   "outputs": [],
   "source": [
    "second[second.str.contains(\"I\")==True]=\"경영학과\""
   ]
  },
  {
   "cell_type": "code",
   "execution_count": 733,
   "metadata": {},
   "outputs": [],
   "source": [
    "df.at[second[second.str.contains(\"경영학과\")==True].index,[\"학과\"]]=second[second.str.contains(\"경영학과\")==True]"
   ]
  },
  {
   "cell_type": "code",
   "execution_count": 734,
   "metadata": {},
   "outputs": [],
   "source": [
    "second[second.str.contains(\"경영학과\")==True]=\"\""
   ]
  },
  {
   "cell_type": "code",
   "execution_count": 735,
   "metadata": {},
   "outputs": [],
   "source": [
    "second[second.str.contains(\"CS\")==True]=\"전산학과\""
   ]
  },
  {
   "cell_type": "code",
   "execution_count": 736,
   "metadata": {},
   "outputs": [],
   "source": [
    "df.at[second[second.str.contains(\"전산학과\")==True].index,[\"학과\"]]=second[second.str.contains(\"전산학과\")==True]"
   ]
  },
  {
   "cell_type": "code",
   "execution_count": 737,
   "metadata": {},
   "outputs": [],
   "source": [
    "second[second.str.contains(\"전산학과\")==True]=\"\""
   ]
  },
  {
   "cell_type": "code",
   "execution_count": 738,
   "metadata": {},
   "outputs": [],
   "source": [
    "second[second.str.contains(\"비공\")==True]=\"\""
   ]
  },
  {
   "cell_type": "code",
   "execution_count": 739,
   "metadata": {},
   "outputs": [],
   "source": [
    "second[second.str.contains(\"전산\")==True]=\"전산학과\""
   ]
  },
  {
   "cell_type": "code",
   "execution_count": 740,
   "metadata": {},
   "outputs": [],
   "source": [
    "df.at[second[second.str.contains(\"전산학과\")==True].index,[\"학과\"]]=second[second.str.contains(\"전산학과\")==True]"
   ]
  },
  {
   "cell_type": "code",
   "execution_count": 741,
   "metadata": {},
   "outputs": [],
   "source": [
    "second[second.str.contains(\"전산학과\")==True]=\"\""
   ]
  },
  {
   "cell_type": "code",
   "execution_count": 742,
   "metadata": {},
   "outputs": [],
   "source": [
    "second[second.str.contains(\"정외\")==True]=\"정치외교학과\""
   ]
  },
  {
   "cell_type": "code",
   "execution_count": 743,
   "metadata": {},
   "outputs": [],
   "source": [
    "df.at[second[second.str.contains(\"정치외교학과\")==True].index,[\"학과\"]]=second[second.str.contains(\"정치외교학과\")==True]"
   ]
  },
  {
   "cell_type": "code",
   "execution_count": 744,
   "metadata": {},
   "outputs": [],
   "source": [
    "second[second.str.contains(\"정치외교학과\")==True]=\"\""
   ]
  },
  {
   "cell_type": "code",
   "execution_count": 745,
   "metadata": {},
   "outputs": [],
   "source": [
    "second[second.str.contains(\"정통\")==True]=\"\""
   ]
  },
  {
   "cell_type": "code",
   "execution_count": 746,
   "metadata": {},
   "outputs": [],
   "source": [
    "second[second.str.contains(\"몰라\")==True]=\"\""
   ]
  },
  {
   "cell_type": "code",
   "execution_count": 747,
   "metadata": {},
   "outputs": [],
   "source": [
    "second[second.str.contains(\"언어\")==True]=\"언어학과\""
   ]
  },
  {
   "cell_type": "code",
   "execution_count": 748,
   "metadata": {},
   "outputs": [],
   "source": [
    "df.at[second[second.str.contains(\"언어학과\")==True].index,[\"학과\"]]=second[second.str.contains(\"언어학과\")==True]"
   ]
  },
  {
   "cell_type": "code",
   "execution_count": 749,
   "metadata": {},
   "outputs": [],
   "source": [
    "second[second.str.contains(\"언어학과\")==True]=\"\""
   ]
  },
  {
   "cell_type": "code",
   "execution_count": 750,
   "metadata": {},
   "outputs": [],
   "source": [
    "second[second.str.contains(\"디스\")==True]=\"정보디스플레이학과\""
   ]
  },
  {
   "cell_type": "code",
   "execution_count": 751,
   "metadata": {},
   "outputs": [],
   "source": [
    "df.at[second[second.str.contains(\"정보디스\")==True].index,[\"학과\"]]=second[second.str.contains(\"정보디스\")==True]"
   ]
  },
  {
   "cell_type": "code",
   "execution_count": 752,
   "metadata": {},
   "outputs": [],
   "source": [
    "second[second.str.contains(\"정보디스\")==True]=\"\""
   ]
  },
  {
   "cell_type": "code",
   "execution_count": 753,
   "metadata": {},
   "outputs": [],
   "source": [
    "second[second.str.contains(\"회화\")==True]=\"예술계열학과\""
   ]
  },
  {
   "cell_type": "code",
   "execution_count": 754,
   "metadata": {},
   "outputs": [],
   "source": [
    "df.at[second[second.str.contains(\"예술계열\")==True].index,[\"학과\"]]=second[second.str.contains(\"예술계열\")==True]"
   ]
  },
  {
   "cell_type": "code",
   "execution_count": 755,
   "metadata": {},
   "outputs": [],
   "source": [
    "second[second.str.contains(\"예술계열\")==True]=\"\""
   ]
  },
  {
   "cell_type": "code",
   "execution_count": 756,
   "metadata": {},
   "outputs": [],
   "source": [
    "second[second.str.contains(\"이란\")==True]=\"이란어학과\""
   ]
  },
  {
   "cell_type": "code",
   "execution_count": 757,
   "metadata": {},
   "outputs": [],
   "source": [
    "df.at[second[second.str.contains(\"이란어학과\")==True].index,[\"학과\"]]=second[second.str.contains(\"이란어학과\")==True]"
   ]
  },
  {
   "cell_type": "code",
   "execution_count": 758,
   "metadata": {},
   "outputs": [],
   "source": [
    "second[second.str.contains(\"이란어학과\")==True]=\"\""
   ]
  },
  {
   "cell_type": "code",
   "execution_count": 759,
   "metadata": {},
   "outputs": [],
   "source": [
    "second[second.str.contains(\"서울\")==True]=\"\""
   ]
  },
  {
   "cell_type": "code",
   "execution_count": 760,
   "metadata": {},
   "outputs": [],
   "source": [
    "second[second.str.contains(\"음\")==True]=\"예술계열학과\""
   ]
  },
  {
   "cell_type": "code",
   "execution_count": 761,
   "metadata": {},
   "outputs": [],
   "source": [
    "df.at[second[second.str.contains(\"예술계열\")==True].index,[\"학과\"]]=second[second.str.contains(\"예술계열\")==True]"
   ]
  },
  {
   "cell_type": "code",
   "execution_count": 762,
   "metadata": {},
   "outputs": [],
   "source": [
    "second[second.str.contains(\"예술계열\")==True]=\"\""
   ]
  },
  {
   "cell_type": "code",
   "execution_count": 763,
   "metadata": {},
   "outputs": [],
   "source": [
    "second[second.str.contains(\"법\")==True]=\"\""
   ]
  },
  {
   "cell_type": "code",
   "execution_count": 764,
   "metadata": {},
   "outputs": [],
   "source": [
    "second[second.str.contains(\"경\")==True]=\"경영학과\""
   ]
  },
  {
   "cell_type": "code",
   "execution_count": 765,
   "metadata": {},
   "outputs": [],
   "source": [
    "df.at[second[second.str.contains(\"경영학과\")==True].index,[\"학과\"]]=second[second.str.contains(\"경영학과\")==True]"
   ]
  },
  {
   "cell_type": "code",
   "execution_count": 766,
   "metadata": {},
   "outputs": [],
   "source": [
    "second[second.str.contains(\"경영학과\")==True]=\"\""
   ]
  },
  {
   "cell_type": "code",
   "execution_count": 767,
   "metadata": {},
   "outputs": [],
   "source": [
    "second[second.str.contains(\"예\")==True]=\"예술계열학과\""
   ]
  },
  {
   "cell_type": "code",
   "execution_count": 768,
   "metadata": {},
   "outputs": [],
   "source": [
    "df.at[second[second.str.contains(\"예술계열학과\")==True].index,[\"학과\"]]=second[second.str.contains(\"예술계열학과\")==True]"
   ]
  },
  {
   "cell_type": "code",
   "execution_count": 769,
   "metadata": {},
   "outputs": [],
   "source": [
    "second[second.str.contains(\"예술계열학과\")==True]=\"\""
   ]
  },
  {
   "cell_type": "code",
   "execution_count": 770,
   "metadata": {},
   "outputs": [],
   "source": [
    "second[second.str.contains(\"스페\")==True]=\"스페인어학과\""
   ]
  },
  {
   "cell_type": "code",
   "execution_count": 771,
   "metadata": {},
   "outputs": [],
   "source": [
    "df.at[second[second.str.contains(\"스페\")==True].index,[\"학과\"]]=second[second.str.contains(\"스페\")==True]"
   ]
  },
  {
   "cell_type": "code",
   "execution_count": 772,
   "metadata": {},
   "outputs": [],
   "source": [
    "second[second.str.contains(\"스페\")==True]=\"\""
   ]
  },
  {
   "cell_type": "code",
   "execution_count": 773,
   "metadata": {},
   "outputs": [],
   "source": [
    "second[second.str.contains(\"B\")==True]=\"경영학과\""
   ]
  },
  {
   "cell_type": "code",
   "execution_count": 774,
   "metadata": {},
   "outputs": [],
   "source": [
    "df.at[second[second.str.contains(\"경영\")==True].index,[\"학과\"]]=second[second.str.contains(\"경영\")==True]"
   ]
  },
  {
   "cell_type": "code",
   "execution_count": 775,
   "metadata": {},
   "outputs": [],
   "source": [
    "second[second.str.contains(\"경영\")==True]=\"\""
   ]
  },
  {
   "cell_type": "code",
   "execution_count": 776,
   "metadata": {},
   "outputs": [],
   "source": [
    "second[second.str.contains(\"유럽\")==True]=\"유럽학과\""
   ]
  },
  {
   "cell_type": "code",
   "execution_count": 777,
   "metadata": {},
   "outputs": [],
   "source": [
    "df.at[second[second.str.contains(\"유럽\")==True].index,[\"학과\"]]=second[second.str.contains(\"유럽\")==True]"
   ]
  },
  {
   "cell_type": "code",
   "execution_count": 778,
   "metadata": {},
   "outputs": [],
   "source": [
    "second[second.str.contains(\"유럽\")==True]=\"\""
   ]
  },
  {
   "cell_type": "code",
   "execution_count": 779,
   "metadata": {},
   "outputs": [],
   "source": [
    "second[second.str.contains(\"노어\")==True]=\"노어노문학과\""
   ]
  },
  {
   "cell_type": "code",
   "execution_count": 780,
   "metadata": {},
   "outputs": [],
   "source": [
    "df.at[second[second.str.contains(\"노어\")==True].index,[\"학과\"]]=second[second.str.contains(\"노어\")==True]"
   ]
  },
  {
   "cell_type": "code",
   "execution_count": 781,
   "metadata": {},
   "outputs": [],
   "source": [
    "second[second.str.contains(\"노어\")==True]=\"\""
   ]
  },
  {
   "cell_type": "code",
   "execution_count": 782,
   "metadata": {},
   "outputs": [],
   "source": [
    "second[second.str.contains(\"한문\")==True]=\"한문학과\""
   ]
  },
  {
   "cell_type": "code",
   "execution_count": 783,
   "metadata": {},
   "outputs": [],
   "source": [
    "df.at[second[second.str.contains(\"한문\")==True].index,[\"학과\"]]=second[second.str.contains(\"한문\")==True]"
   ]
  },
  {
   "cell_type": "code",
   "execution_count": 784,
   "metadata": {},
   "outputs": [],
   "source": [
    "second[second.str.contains(\"한문\")==True]=\"\""
   ]
  },
  {
   "cell_type": "code",
   "execution_count": 785,
   "metadata": {},
   "outputs": [],
   "source": [
    "second[second.str.contains(\"미술\")==True]=\"예술관련학과\""
   ]
  },
  {
   "cell_type": "code",
   "execution_count": 786,
   "metadata": {},
   "outputs": [],
   "source": [
    "df.at[second[second.str.contains(\"예술\")==True].index,[\"학과\"]]=second[second.str.contains(\"예술\")==True]"
   ]
  },
  {
   "cell_type": "code",
   "execution_count": 787,
   "metadata": {},
   "outputs": [],
   "source": [
    "second[second.str.contains(\"예술\")==True]=\"\""
   ]
  },
  {
   "cell_type": "code",
   "execution_count": 788,
   "metadata": {},
   "outputs": [],
   "source": [
    "second[second.str.contains(\"대기\")==True]=\"대기과학학과\""
   ]
  },
  {
   "cell_type": "code",
   "execution_count": 789,
   "metadata": {},
   "outputs": [],
   "source": [
    "df.at[second[second.str.contains(\"대기\")==True].index,[\"학과\"]]=second[second.str.contains(\"대기\")==True]"
   ]
  },
  {
   "cell_type": "code",
   "execution_count": 790,
   "metadata": {},
   "outputs": [],
   "source": [
    "second[second.str.contains(\"대기\")==True]=\"\""
   ]
  },
  {
   "cell_type": "code",
   "execution_count": 791,
   "metadata": {},
   "outputs": [],
   "source": [
    "df.at[second[second.str.contains(\"3\")==True].index,[\"학점\"]]=second[second.str.contains(\"3\")==True]"
   ]
  },
  {
   "cell_type": "code",
   "execution_count": 792,
   "metadata": {},
   "outputs": [],
   "source": [
    "second[second.str.contains(\"3\")==True]=\"\""
   ]
  },
  {
   "cell_type": "code",
   "execution_count": 793,
   "metadata": {},
   "outputs": [],
   "source": [
    "second[second.str.contains(\"농\")==True]=\"농업계열학과\""
   ]
  },
  {
   "cell_type": "code",
   "execution_count": 794,
   "metadata": {},
   "outputs": [],
   "source": [
    "df.at[second[second.str.contains(\"농\")==True].index,[\"학과\"]]=second[second.str.contains(\"농\")==True]"
   ]
  },
  {
   "cell_type": "code",
   "execution_count": 795,
   "metadata": {},
   "outputs": [],
   "source": [
    "second[second.str.contains(\"농\")==True]=\"\""
   ]
  },
  {
   "cell_type": "code",
   "execution_count": 796,
   "metadata": {},
   "outputs": [],
   "source": [
    "second[second.str.contains(\"전화\")==True]=\"전자공학과\""
   ]
  },
  {
   "cell_type": "code",
   "execution_count": 797,
   "metadata": {},
   "outputs": [],
   "source": [
    "df.at[second[second.str.contains(\"전자\")==True].index,[\"학과\"]]=second[second.str.contains(\"전자\")==True]"
   ]
  },
  {
   "cell_type": "code",
   "execution_count": 798,
   "metadata": {},
   "outputs": [],
   "source": [
    "second[second.str.contains(\"전자\")==True]=\"\""
   ]
  },
  {
   "cell_type": "code",
   "execution_count": 799,
   "metadata": {},
   "outputs": [],
   "source": [
    "second[second.str.contains(\"마케\")==True]=\"마케팅학과\""
   ]
  },
  {
   "cell_type": "code",
   "execution_count": 800,
   "metadata": {},
   "outputs": [],
   "source": [
    "df.at[second[second.str.contains(\"마케팅학과\")==True].index,[\"학과\"]]=second[second.str.contains(\"마케팅학과\")==True]"
   ]
  },
  {
   "cell_type": "code",
   "execution_count": 801,
   "metadata": {},
   "outputs": [],
   "source": [
    "second[second.str.contains(\"마케팅학과\")==True]=\"\""
   ]
  },
  {
   "cell_type": "code",
   "execution_count": 802,
   "metadata": {},
   "outputs": [],
   "source": [
    "second[second.str.contains(\"서성\")==True]=\"대학원\""
   ]
  },
  {
   "cell_type": "code",
   "execution_count": 803,
   "metadata": {},
   "outputs": [],
   "source": [
    "df.at[second[second.str.contains(\"대학원\")==True].index,[\"학과\"]]=second[second.str.contains(\"대학원\")==True]"
   ]
  },
  {
   "cell_type": "code",
   "execution_count": 804,
   "metadata": {},
   "outputs": [],
   "source": [
    "second[second.str.contains(\"대학원\")==True]=\"\""
   ]
  },
  {
   "cell_type": "code",
   "execution_count": 805,
   "metadata": {},
   "outputs": [],
   "source": [
    "df.at[second[second.str.contains(\"사진\")==True].index,[\"학과\"]]=second[second.str.contains(\"사진\")==True]"
   ]
  },
  {
   "cell_type": "code",
   "execution_count": 806,
   "metadata": {},
   "outputs": [],
   "source": [
    "second[second.str.contains(\"사진\")==True]=\"\""
   ]
  },
  {
   "cell_type": "code",
   "execution_count": 807,
   "metadata": {},
   "outputs": [],
   "source": [
    "second[second.str.contains(\"자격\")==True]=\"\""
   ]
  },
  {
   "cell_type": "code",
   "execution_count": 808,
   "metadata": {},
   "outputs": [],
   "source": [
    "second[second.str.contains(\"산림\")==True]=\"산림자원학과\""
   ]
  },
  {
   "cell_type": "code",
   "execution_count": 809,
   "metadata": {},
   "outputs": [],
   "source": [
    "df.at[second[second.str.contains(\"산림\")==True].index,[\"학과\"]]=second[second.str.contains(\"산림\")==True]"
   ]
  },
  {
   "cell_type": "code",
   "execution_count": 810,
   "metadata": {},
   "outputs": [],
   "source": [
    "second[second.str.contains(\"산림\")==True]=\"\""
   ]
  },
  {
   "cell_type": "code",
   "execution_count": 811,
   "metadata": {},
   "outputs": [],
   "source": [
    "second[second.str.contains(\"이학\")==True]=\"어학계열학과\""
   ]
  },
  {
   "cell_type": "code",
   "execution_count": 812,
   "metadata": {},
   "outputs": [],
   "source": [
    "df.at[second[second.str.contains(\"어학\")==True].index,[\"학과\"]]=second[second.str.contains(\"어학\")==True]"
   ]
  },
  {
   "cell_type": "code",
   "execution_count": 813,
   "metadata": {},
   "outputs": [],
   "source": [
    "second[second.str.contains(\"어학\")==True]=\"\""
   ]
  },
  {
   "cell_type": "code",
   "execution_count": 814,
   "metadata": {},
   "outputs": [],
   "source": [
    "df.at[second[second.str.contains(\"역사\")==True].index,[\"학과\"]]=second[second.str.contains(\"역사\")==True]"
   ]
  },
  {
   "cell_type": "code",
   "execution_count": 815,
   "metadata": {},
   "outputs": [],
   "source": [
    "second[second.str.contains(\"역사\")==True]=\"\""
   ]
  },
  {
   "cell_type": "code",
   "execution_count": 816,
   "metadata": {},
   "outputs": [],
   "source": [
    "second[second.str.contains(\"M\")==True]=\"커뮤니케이션학과\""
   ]
  },
  {
   "cell_type": "code",
   "execution_count": 817,
   "metadata": {},
   "outputs": [],
   "source": [
    "df.at[second[second.str.contains(\"커뮤\")==True].index,[\"학과\"]]=second[second.str.contains(\"커뮤\")==True]"
   ]
  },
  {
   "cell_type": "code",
   "execution_count": 818,
   "metadata": {},
   "outputs": [],
   "source": [
    "second[second.str.contains(\"커뮤\")==True]=\"\""
   ]
  },
  {
   "cell_type": "code",
   "execution_count": 819,
   "metadata": {},
   "outputs": [],
   "source": [
    "second[second.str.contains(\"국사\")==True]=\"국사학과\""
   ]
  },
  {
   "cell_type": "code",
   "execution_count": 820,
   "metadata": {},
   "outputs": [],
   "source": [
    "df.at[second[second.str.contains(\"국사\")==True].index,[\"학과\"]]=second[second.str.contains(\"국사\")==True]"
   ]
  },
  {
   "cell_type": "code",
   "execution_count": 821,
   "metadata": {},
   "outputs": [],
   "source": [
    "second[second.str.contains(\"국사\")==True]=\"\""
   ]
  },
  {
   "cell_type": "code",
   "execution_count": 823,
   "metadata": {},
   "outputs": [],
   "source": [
    "df.at[second[second.str.contains(\"지구\")==True].index,[\"학과\"]]=second[second.str.contains(\"지구\")==True]"
   ]
  },
  {
   "cell_type": "code",
   "execution_count": 824,
   "metadata": {},
   "outputs": [],
   "source": [
    "second[second.str.contains(\"지구\")==True]=\"\""
   ]
  },
  {
   "cell_type": "code",
   "execution_count": 825,
   "metadata": {},
   "outputs": [],
   "source": [
    "second[second.str.contains(\"재무\")==True]=\"재무학과\""
   ]
  },
  {
   "cell_type": "code",
   "execution_count": 826,
   "metadata": {},
   "outputs": [],
   "source": [
    "df.at[second[second.str.contains(\"재무\")==True].index,[\"학과\"]]=second[second.str.contains(\"재무\")==True]"
   ]
  },
  {
   "cell_type": "code",
   "execution_count": 827,
   "metadata": {},
   "outputs": [],
   "source": [
    "second[second.str.contains(\"재무\")==True]=\"\""
   ]
  },
  {
   "cell_type": "code",
   "execution_count": 828,
   "metadata": {},
   "outputs": [],
   "source": [
    "second[second.str.contains(\"기전\")==True]=\"기계공학과\""
   ]
  },
  {
   "cell_type": "code",
   "execution_count": 829,
   "metadata": {},
   "outputs": [],
   "source": [
    "df.at[second[second.str.contains(\"기계\")==True].index,[\"학과\"]]=second[second.str.contains(\"기계\")==True]"
   ]
  },
  {
   "cell_type": "code",
   "execution_count": 830,
   "metadata": {},
   "outputs": [],
   "source": [
    "second[second.str.contains(\"기계\")==True]=\"\""
   ]
  },
  {
   "cell_type": "code",
   "execution_count": 832,
   "metadata": {},
   "outputs": [],
   "source": [
    "second[second.str.contains(\"공학\")==True]=\"공학계열학과\""
   ]
  },
  {
   "cell_type": "code",
   "execution_count": 833,
   "metadata": {},
   "outputs": [],
   "source": [
    "df.at[second[second.str.contains(\"공학계열학과\")==True].index,[\"학과\"]]=second[second.str.contains(\"공학계열학과\")==True]"
   ]
  },
  {
   "cell_type": "code",
   "execution_count": 834,
   "metadata": {},
   "outputs": [],
   "source": [
    "second[second.str.contains(\"공학계열학과\")==True]=\"\""
   ]
  },
  {
   "cell_type": "code",
   "execution_count": 836,
   "metadata": {},
   "outputs": [],
   "source": [
    "second[second.str.contains(\"판\")==True]=\"예술계열학과\""
   ]
  },
  {
   "cell_type": "code",
   "execution_count": 837,
   "metadata": {},
   "outputs": [],
   "source": [
    "df.at[second[second.str.contains(\"예술\")==True].index,[\"학과\"]]=second[second.str.contains(\"예술\")==True]"
   ]
  },
  {
   "cell_type": "code",
   "execution_count": 839,
   "metadata": {},
   "outputs": [],
   "source": [
    "second[second.str.contains(\"예술\")==True]=\"\""
   ]
  },
  {
   "cell_type": "code",
   "execution_count": 841,
   "metadata": {},
   "outputs": [],
   "source": [
    "second[second.str.contains(\"영화\")==True]=\"영화학과\""
   ]
  },
  {
   "cell_type": "code",
   "execution_count": 842,
   "metadata": {},
   "outputs": [],
   "source": [
    "df.at[second[second.str.contains(\"영화\")==True].index,[\"학과\"]]=second[second.str.contains(\"영화\")==True]"
   ]
  },
  {
   "cell_type": "code",
   "execution_count": 843,
   "metadata": {},
   "outputs": [],
   "source": [
    "second[second.str.contains(\"영화\")==True]=\"\""
   ]
  },
  {
   "cell_type": "code",
   "execution_count": 845,
   "metadata": {},
   "outputs": [],
   "source": [
    "second[second.str.contains(\"소비자가족\")==True]=\"소비자가족학과\""
   ]
  },
  {
   "cell_type": "code",
   "execution_count": 846,
   "metadata": {},
   "outputs": [],
   "source": [
    "df.at[second[second.str.contains(\"소비자가족\")==True].index,[\"학과\"]]=second[second.str.contains(\"소비자가족\")==True]"
   ]
  },
  {
   "cell_type": "code",
   "execution_count": 847,
   "metadata": {},
   "outputs": [],
   "source": [
    "second[second.str.contains(\"소비자가족\")==True]=\"\""
   ]
  },
  {
   "cell_type": "code",
   "execution_count": 849,
   "metadata": {},
   "outputs": [],
   "source": [
    "second[second.str.contains(\"가\")==True]=\"\""
   ]
  },
  {
   "cell_type": "code",
   "execution_count": 851,
   "metadata": {},
   "outputs": [],
   "source": [
    "second[second.str.contains(\"C\")==True]=\"화학과\""
   ]
  },
  {
   "cell_type": "code",
   "execution_count": 852,
   "metadata": {},
   "outputs": [],
   "source": [
    "df.at[second[second.str.contains(\"화학과\")==True].index,[\"학과\"]]=second[second.str.contains(\"화학과\")==True]"
   ]
  },
  {
   "cell_type": "code",
   "execution_count": 853,
   "metadata": {},
   "outputs": [],
   "source": [
    "second[second.str.contains(\"화학과\")==True]=\"\""
   ]
  },
  {
   "cell_type": "code",
   "execution_count": 858,
   "metadata": {},
   "outputs": [],
   "source": [
    "second[second.str.contains(\"카\")==True]=\"\""
   ]
  },
  {
   "cell_type": "code",
   "execution_count": 860,
   "metadata": {},
   "outputs": [],
   "source": [
    "second[second.str.contains(\"F\")==True]=\"경영학과\""
   ]
  },
  {
   "cell_type": "code",
   "execution_count": 861,
   "metadata": {},
   "outputs": [],
   "source": [
    "df.at[second[second.str.contains(\"경영학과\")==True].index,[\"학과\"]]=second[second.str.contains(\"경영학과\")==True]"
   ]
  },
  {
   "cell_type": "code",
   "execution_count": 862,
   "metadata": {},
   "outputs": [],
   "source": [
    "second[second.str.contains(\"경영학과\")==True]=\"\""
   ]
  },
  {
   "cell_type": "code",
   "execution_count": 864,
   "metadata": {},
   "outputs": [],
   "source": [
    "second[second.str.contains(\"사학\")==True]=\"사회학과\""
   ]
  },
  {
   "cell_type": "code",
   "execution_count": 865,
   "metadata": {},
   "outputs": [],
   "source": [
    "df.at[second[second.str.contains(\"사회학\")==True].index,[\"학과\"]]=second[second.str.contains(\"사회학\")==True]"
   ]
  },
  {
   "cell_type": "code",
   "execution_count": 866,
   "metadata": {},
   "outputs": [],
   "source": [
    "second[second.str.contains(\"사회학\")==True]=\"\""
   ]
  },
  {
   "cell_type": "code",
   "execution_count": 868,
   "metadata": {},
   "outputs": [],
   "source": [
    "second[second.str.contains(\"석사\")==True]=\"대학원\""
   ]
  },
  {
   "cell_type": "code",
   "execution_count": 869,
   "metadata": {},
   "outputs": [],
   "source": [
    "df.at[second[second.str.contains(\"대학원\")==True].index,[\"학과\"]]=second[second.str.contains(\"대학원\")==True]"
   ]
  },
  {
   "cell_type": "code",
   "execution_count": 870,
   "metadata": {},
   "outputs": [],
   "source": [
    "second[second.str.contains(\"대학원\")==True]=\"\""
   ]
  },
  {
   "cell_type": "code",
   "execution_count": 873,
   "metadata": {},
   "outputs": [],
   "source": [
    "second[second.str.contains(\"기관\")==True]=\"기관시스템학과\""
   ]
  },
  {
   "cell_type": "code",
   "execution_count": 874,
   "metadata": {},
   "outputs": [],
   "source": [
    "df.at[second[second.str.contains(\"기관\")==True].index,[\"학과\"]]=second[second.str.contains(\"기관\")==True]"
   ]
  },
  {
   "cell_type": "code",
   "execution_count": 875,
   "metadata": {},
   "outputs": [],
   "source": [
    "second[second.str.contains(\"기관\")==True]=\"\""
   ]
  },
  {
   "cell_type": "code",
   "execution_count": 877,
   "metadata": {},
   "outputs": [],
   "source": [
    "second[second.str.contains(\"생체\")==True]=\"생체의학공학과\""
   ]
  },
  {
   "cell_type": "code",
   "execution_count": 878,
   "metadata": {},
   "outputs": [],
   "source": [
    "df.at[second[second.str.contains(\"생체\")==True].index,[\"학과\"]]=second[second.str.contains(\"생체\")==True]"
   ]
  },
  {
   "cell_type": "code",
   "execution_count": 879,
   "metadata": {},
   "outputs": [],
   "source": [
    "second[second.str.contains(\"생체\")==True]=\"\""
   ]
  },
  {
   "cell_type": "code",
   "execution_count": 881,
   "metadata": {},
   "outputs": [],
   "source": [
    "second[second.str.contains(\"문과\")==True]=\"언어계열학과\""
   ]
  },
  {
   "cell_type": "code",
   "execution_count": 882,
   "metadata": {},
   "outputs": [],
   "source": [
    "df.at[second[second.str.contains(\"언어\")==True].index,[\"학과\"]]=second[second.str.contains(\"언어\")==True]"
   ]
  },
  {
   "cell_type": "code",
   "execution_count": 883,
   "metadata": {},
   "outputs": [],
   "source": [
    "second[second.str.contains(\"언어\")==True]=\"\""
   ]
  },
  {
   "cell_type": "code",
   "execution_count": 885,
   "metadata": {},
   "outputs": [],
   "source": [
    "second[second.str.contains(\"정보\")==True]=\"정보시스템학과\""
   ]
  },
  {
   "cell_type": "code",
   "execution_count": 886,
   "metadata": {},
   "outputs": [],
   "source": [
    "df.at[second[second.str.contains(\"정보\")==True].index,[\"학과\"]]=second[second.str.contains(\"정보\")==True]"
   ]
  },
  {
   "cell_type": "code",
   "execution_count": 887,
   "metadata": {},
   "outputs": [],
   "source": [
    "second[second.str.contains(\"정보\")==True]=\"\""
   ]
  },
  {
   "cell_type": "markdown",
   "metadata": {},
   "source": [
    "# first"
   ]
  },
  {
   "cell_type": "code",
   "execution_count": 1060,
   "metadata": {},
   "outputs": [],
   "source": [
    "first[first.str.contains(\"고등학교\")==True] = \"고등학교졸업\""
   ]
  },
  {
   "cell_type": "code",
   "execution_count": 1061,
   "metadata": {},
   "outputs": [],
   "source": [
    "first[first.str.contains(\"해외\")==True] = \"해외대\""
   ]
  },
  {
   "cell_type": "code",
   "execution_count": 1062,
   "metadata": {},
   "outputs": [],
   "source": [
    "first[first.str.contains(\"미국\")==True]= \"해외대(미국)\""
   ]
  },
  {
   "cell_type": "code",
   "execution_count": 1063,
   "metadata": {},
   "outputs": [],
   "source": [
    "first[first.str.contains(\"중국\")==True]=\"해외대(중국)\""
   ]
  },
  {
   "cell_type": "code",
   "execution_count": 1064,
   "metadata": {},
   "outputs": [],
   "source": [
    "first[first.str.contains(\"외국대학\")==True]=\"해외대\""
   ]
  },
  {
   "cell_type": "code",
   "execution_count": 1065,
   "metadata": {},
   "outputs": [],
   "source": [
    "first[first.str.contains(\"외국대\")==True]=\"해외대\""
   ]
  },
  {
   "cell_type": "code",
   "execution_count": 1066,
   "metadata": {},
   "outputs": [],
   "source": [
    "first[first.str.contains(\"북경외국\")==True]=\"해외대(중국)\""
   ]
  },
  {
   "cell_type": "code",
   "execution_count": 1067,
   "metadata": {},
   "outputs": [],
   "source": [
    "first[first.str.contains(\"외국4년제\")==True]=\"해외대\""
   ]
  },
  {
   "cell_type": "code",
   "execution_count": 1068,
   "metadata": {},
   "outputs": [],
   "source": [
    "first[first.str.contains(\"외국계\")==True]=\"해외대\""
   ]
  },
  {
   "cell_type": "code",
   "execution_count": 1069,
   "metadata": {},
   "outputs": [],
   "source": [
    "first[first.str.contains(\"일본\")==True]=\"해외대(일본)\""
   ]
  },
  {
   "cell_type": "code",
   "execution_count": 1070,
   "metadata": {},
   "outputs": [],
   "source": [
    "first[first.str.contains(\"영국\")==True]=\"해외대(영국)\""
   ]
  },
  {
   "cell_type": "code",
   "execution_count": 1071,
   "metadata": {},
   "outputs": [],
   "source": [
    "first[first.str.contains(\"Valdosta State University\")==True]=\"해외대(미국)\""
   ]
  },
  {
   "cell_type": "code",
   "execution_count": 1072,
   "metadata": {},
   "outputs": [],
   "source": [
    "first[first.str.contains(\"Pennsylvania\")==True]=\"해외대(미국)\""
   ]
  },
  {
   "cell_type": "code",
   "execution_count": 1073,
   "metadata": {},
   "outputs": [],
   "source": [
    "first[first.str.contains(\"USC\")==True]=\"해외대(미국)\""
   ]
  },
  {
   "cell_type": "code",
   "execution_count": 1074,
   "metadata": {},
   "outputs": [],
   "source": [
    "first[first.str.contains(\"sydney\")==True]=\"해외대(호주)\""
   ]
  },
  {
   "cell_type": "code",
   "execution_count": 1075,
   "metadata": {},
   "outputs": [],
   "source": [
    "first[first.str.contains(\"Lodon\")==True]=\"해외대(영국)\""
   ]
  },
  {
   "cell_type": "code",
   "execution_count": 1076,
   "metadata": {},
   "outputs": [],
   "source": [
    "first[first.str.contains(\"Illinois\")==True]=\"해외대(미국)\""
   ]
  },
  {
   "cell_type": "code",
   "execution_count": 1077,
   "metadata": {},
   "outputs": [],
   "source": [
    "first[first.str.contains(\"University\")==True]=\"해외대\""
   ]
  },
  {
   "cell_type": "code",
   "execution_count": 1078,
   "metadata": {},
   "outputs": [],
   "source": [
    "first[first.str.contains(\"Kyrgyz\")==True]=\"해외대\""
   ]
  },
  {
   "cell_type": "code",
   "execution_count": 1080,
   "metadata": {},
   "outputs": [],
   "source": [
    "first[first.str.contains(\"o\")==True]=\"해외대\""
   ]
  },
  {
   "cell_type": "code",
   "execution_count": 1081,
   "metadata": {},
   "outputs": [],
   "source": [
    "first[first.str.contains(\"W\")==True]=\"광운대학교\""
   ]
  },
  {
   "cell_type": "code",
   "execution_count": 1082,
   "metadata": {},
   "outputs": [],
   "source": [
    "first[first.str.contains(\"h\")==True]=\"경희대학교\""
   ]
  },
  {
   "cell_type": "code",
   "execution_count": 1083,
   "metadata": {},
   "outputs": [],
   "source": [
    "first[first.str.contains(\"지거국\")==True]=\"지방거점국립대\""
   ]
  },
  {
   "cell_type": "code",
   "execution_count": 1084,
   "metadata": {},
   "outputs": [],
   "source": [
    "first[first.str.contains(\"지거\")==True]=\"지방거점국립대\""
   ]
  },
  {
   "cell_type": "code",
   "execution_count": 1085,
   "metadata": {},
   "outputs": [],
   "source": [
    "first[first.str.contains(\"강원\")==True]=\"지방거점국립대(강원대학교)\""
   ]
  },
  {
   "cell_type": "code",
   "execution_count": 1086,
   "metadata": {},
   "outputs": [],
   "source": [
    "first[first.str.contains(\"대학원\")==True]=\"대학원\""
   ]
  },
  {
   "cell_type": "code",
   "execution_count": 1087,
   "metadata": {},
   "outputs": [],
   "source": [
    "first[first.str.contains(\"충북\")==True]=\"지방거점국립대(충북대학교)\""
   ]
  },
  {
   "cell_type": "code",
   "execution_count": 1088,
   "metadata": {},
   "outputs": [],
   "source": [
    "first[first.str.contains(\"충남\")==True]=\"지방거점국립대(충남대학교)\""
   ]
  },
  {
   "cell_type": "code",
   "execution_count": 1089,
   "metadata": {},
   "outputs": [],
   "source": [
    "first[first.str.contains(\"전북\")==True]=\"지방거점국립대(전북대학교)\""
   ]
  },
  {
   "cell_type": "code",
   "execution_count": 1090,
   "metadata": {},
   "outputs": [],
   "source": [
    "first[first.str.contains(\"전남\")==True]=\"지방거점국립대(전남대학교)\""
   ]
  },
  {
   "cell_type": "code",
   "execution_count": 1091,
   "metadata": {},
   "outputs": [],
   "source": [
    "first[first.str.contains(\"경북대\")==True]=\"지방거점국립대(경북대학교)\""
   ]
  },
  {
   "cell_type": "code",
   "execution_count": 1092,
   "metadata": {},
   "outputs": [],
   "source": [
    "first[first.str.contains(\"부산대\")==True]=\"지방거점국립대(부산대학교)\""
   ]
  },
  {
   "cell_type": "code",
   "execution_count": 1093,
   "metadata": {},
   "outputs": [],
   "source": [
    "first[first.str.contains(\"제주\")==True]=\"지방거점국립대(제주대학교)\""
   ]
  },
  {
   "cell_type": "code",
   "execution_count": 1095,
   "metadata": {},
   "outputs": [],
   "source": [
    "first[first.str.contains(\"강릉\")==True]=\"지방국립대(강릉대학교)\""
   ]
  },
  {
   "cell_type": "code",
   "execution_count": 1096,
   "metadata": {},
   "outputs": [],
   "source": [
    "first[first.str.contains(\"공주\")==True]=\"지방국립대(공주대학교)\""
   ]
  },
  {
   "cell_type": "code",
   "execution_count": 1097,
   "metadata": {},
   "outputs": [],
   "source": [
    "first[first.str.contains(\"해양\")==True]=\"지방국립대(한국해양대학교)\""
   ]
  },
  {
   "cell_type": "code",
   "execution_count": 1098,
   "metadata": {},
   "outputs": [],
   "source": [
    "first[first.str.contains(\"부경\")==True]=\"지방국립대(부경대학교)\""
   ]
  },
  {
   "cell_type": "code",
   "execution_count": 1099,
   "metadata": {},
   "outputs": [],
   "source": [
    "first[first.str.contains(\"순천대학교\")==True]=\"지방국립대(순천대학교)\""
   ]
  },
  {
   "cell_type": "code",
   "execution_count": 1100,
   "metadata": {},
   "outputs": [],
   "source": [
    "first[first.str.contains(\"순천향\")==True]=\"지방사립대(순천향대학교)\""
   ]
  },
  {
   "cell_type": "code",
   "execution_count": 1101,
   "metadata": {},
   "outputs": [],
   "source": [
    "first[first.str.contains(\"인천대\")==True]=\"지방국립대(인천대학교)\""
   ]
  },
  {
   "cell_type": "code",
   "execution_count": 1102,
   "metadata": {},
   "outputs": [],
   "source": [
    "first[first.str.contains(\"창원\")==True]=\"지방국립대(창원대학교)\""
   ]
  },
  {
   "cell_type": "code",
   "execution_count": 1103,
   "metadata": {},
   "outputs": [],
   "source": [
    "first[first.str.contains(\"한국교통\")==True]=\"지방국립대(한국교통대학교)\""
   ]
  },
  {
   "cell_type": "code",
   "execution_count": 1104,
   "metadata": {},
   "outputs": [],
   "source": [
    "first[first.str.contains(\"한경\")==True]=\"지방국립대(한경대학교)\""
   ]
  },
  {
   "cell_type": "code",
   "execution_count": 1105,
   "metadata": {},
   "outputs": [],
   "source": [
    "first[first.str.contains(\"한밭\")==True]=\"지방국립대(한밭대학교)\""
   ]
  },
  {
   "cell_type": "code",
   "execution_count": 1106,
   "metadata": {},
   "outputs": [],
   "source": [
    "first[first.str.contains(\"금오\")==True]=\"지방국립대(금오공과대학교)\""
   ]
  },
  {
   "cell_type": "code",
   "execution_count": 1107,
   "metadata": {},
   "outputs": [],
   "source": [
    "first[first.str.contains(\"광주\")==True]=\"지방사립대(광주대학교)\""
   ]
  },
  {
   "cell_type": "code",
   "execution_count": 1108,
   "metadata": {},
   "outputs": [],
   "source": [
    "first[first.str.contains(\"경남대학교\")==True]=\"지방사립대(경남대학교)\""
   ]
  },
  {
   "cell_type": "code",
   "execution_count": 1109,
   "metadata": {},
   "outputs": [],
   "source": [
    "first[first.str.contains(\"부산가톨릭\")==True]=\"지방사립대(부산가톨릭대학교)\""
   ]
  },
  {
   "cell_type": "code",
   "execution_count": 1110,
   "metadata": {},
   "outputs": [],
   "source": [
    "first[first.str.contains(\"영남\")==True]=\"지방사립대(영남대학교)\""
   ]
  },
  {
   "cell_type": "code",
   "execution_count": 1111,
   "metadata": {},
   "outputs": [],
   "source": [
    "first[first.str.contains(\"울산대\")==True]=\"지방사립대(울산대학교)\""
   ]
  },
  {
   "cell_type": "code",
   "execution_count": 1112,
   "metadata": {},
   "outputs": [],
   "source": [
    "first[first.str.contains(\"동아대\")==True]=\"지방사립대(동아대학교)\""
   ]
  },
  {
   "cell_type": "code",
   "execution_count": 1113,
   "metadata": {},
   "outputs": [],
   "source": [
    "first[first.str.contains(\"조선대\")==True]=\"지방사립대(조선대학교)\""
   ]
  },
  {
   "cell_type": "code",
   "execution_count": 1114,
   "metadata": {},
   "outputs": [],
   "source": [
    "first[first.str.contains(\"원광대\")==True]=\"지방사립대(원광대학교)\""
   ]
  },
  {
   "cell_type": "code",
   "execution_count": 1115,
   "metadata": {},
   "outputs": [],
   "source": [
    "first[first.str.contains(\"계명\")==True]=\"지방사립대(계명대학교)\""
   ]
  },
  {
   "cell_type": "code",
   "execution_count": 1116,
   "metadata": {},
   "outputs": [],
   "source": [
    "first[first.str.contains(\"한남\")==True]=\"지방사립대(한남대학교)\""
   ]
  },
  {
   "cell_type": "code",
   "execution_count": 1117,
   "metadata": {},
   "outputs": [],
   "source": [
    "first[first.str.contains(\"폴리\")==True]=\"2년제(한국폴리텍대학)\""
   ]
  },
  {
   "cell_type": "code",
   "execution_count": 1118,
   "metadata": {},
   "outputs": [],
   "source": [
    "first[first.str.contains(\"경인\")==True]=\"지방국립대\""
   ]
  },
  {
   "cell_type": "code",
   "execution_count": 1119,
   "metadata": {},
   "outputs": [],
   "source": [
    "first[first.str.contains(\"교육\")==True]=\"지방사립대(한국기술교육대학교)\""
   ]
  },
  {
   "cell_type": "code",
   "execution_count": 1120,
   "metadata": {},
   "outputs": [],
   "source": [
    "first[first.str.contains(\"인제\")==True]=\"지방사립대(인제대학교)\""
   ]
  },
  {
   "cell_type": "code",
   "execution_count": 1121,
   "metadata": {},
   "outputs": [],
   "source": [
    "first[first.str.contains(\"2년제\")==True]=\"전문대\""
   ]
  },
  {
   "cell_type": "code",
   "execution_count": 1122,
   "metadata": {},
   "outputs": [],
   "source": [
    "first[first.str.contains(\"수도권 2년\")==True]=\"2년제\""
   ]
  },
  {
   "cell_type": "code",
   "execution_count": 1123,
   "metadata": {},
   "outputs": [],
   "source": [
    "first[first.str.contains(\"전문\")==True]=\"전문대\""
   ]
  },
  {
   "cell_type": "code",
   "execution_count": 1124,
   "metadata": {},
   "outputs": [],
   "source": [
    "first[first.str.contains(\"서울과학\")==True]=\"서울국립대(서울과학기술대학교)\""
   ]
  },
  {
   "cell_type": "code",
   "execution_count": 1125,
   "metadata": {},
   "outputs": [],
   "source": [
    "first[first.str.contains(\"서울시립\")==True]=\"서울공립대(서울시립대학교)\""
   ]
  },
  {
   "cell_type": "code",
   "execution_count": 1126,
   "metadata": {},
   "outputs": [],
   "source": [
    "first[first.str.contains(\"인서울대학\")==True]=\"서울사립대\""
   ]
  },
  {
   "cell_type": "code",
   "execution_count": 1127,
   "metadata": {},
   "outputs": [],
   "source": [
    "first[first.str.contains(\"서울대\")==True]=\"서울대학교\""
   ]
  },
  {
   "cell_type": "code",
   "execution_count": 1128,
   "metadata": {},
   "outputs": [],
   "source": [
    "first[first.str.contains(\"부산가톨릭\")==True]=\"지방사립대(부산가톨릭대학교)\""
   ]
  },
  {
   "cell_type": "code",
   "execution_count": 1129,
   "metadata": {},
   "outputs": [],
   "source": [
    "first[first.str.contains(\"건국\")==True]=\"서울사립대(건국대학교)\""
   ]
  },
  {
   "cell_type": "code",
   "execution_count": 1130,
   "metadata": {},
   "outputs": [],
   "source": [
    "first[first.str.contains(\"경기대\")==True]=\"서울사립대(경기대학교)\""
   ]
  },
  {
   "cell_type": "code",
   "execution_count": 1131,
   "metadata": {},
   "outputs": [],
   "source": [
    "first[first.str.contains(\"경희대\")==True]=\"서울사립대(경희대학교)\""
   ]
  },
  {
   "cell_type": "code",
   "execution_count": 1132,
   "metadata": {},
   "outputs": [],
   "source": [
    "first[first.str.contains(\"고려대\")==True]=\"서울사립대(고려대학교)\""
   ]
  },
  {
   "cell_type": "code",
   "execution_count": 1133,
   "metadata": {},
   "outputs": [],
   "source": [
    "first[first.str.contains(\"광운\")==True]=\"서울사립대(광운대학교)\""
   ]
  },
  {
   "cell_type": "code",
   "execution_count": 1134,
   "metadata": {},
   "outputs": [],
   "source": [
    "first[first.str.contains(\"국민\")==True]=\"서울사립대(국민대학교)\""
   ]
  },
  {
   "cell_type": "code",
   "execution_count": 1135,
   "metadata": {},
   "outputs": [],
   "source": [
    "first[first.str.contains(\"덕성\")==True]=\"서울사립대(덕성여자대학교)\""
   ]
  },
  {
   "cell_type": "code",
   "execution_count": 1136,
   "metadata": {},
   "outputs": [],
   "source": [
    "first[first.str.contains(\"동국대\")==True]=\"서울사립대(동국대학교)\""
   ]
  },
  {
   "cell_type": "code",
   "execution_count": 1137,
   "metadata": {},
   "outputs": [],
   "source": [
    "first[first.str.contains(\"동덕\")==True]=\"서울사립대(동덕여자대학교)\""
   ]
  },
  {
   "cell_type": "code",
   "execution_count": 1138,
   "metadata": {},
   "outputs": [],
   "source": [
    "first[first.str.contains(\"명지\")==True]=\"서울사립대(명지대학교)\""
   ]
  },
  {
   "cell_type": "code",
   "execution_count": 1139,
   "metadata": {},
   "outputs": [],
   "source": [
    "first[first.str.contains(\"삼육\")==True]=\"서울사립대(삼육대학교)\""
   ]
  },
  {
   "cell_type": "code",
   "execution_count": 1140,
   "metadata": {},
   "outputs": [],
   "source": [
    "first[first.str.contains(\"천안\")==True]=\"지방사립대(상명대학교)\""
   ]
  },
  {
   "cell_type": "code",
   "execution_count": 1141,
   "metadata": {},
   "outputs": [],
   "source": [
    "first[first.str.contains(\"서강\")==True]=\"서울사립대(서강대학교)\""
   ]
  },
  {
   "cell_type": "code",
   "execution_count": 1142,
   "metadata": {},
   "outputs": [],
   "source": [
    "first[first.str.contains(\"서경\")==True]=\"서울사립대(서경대학교)\""
   ]
  },
  {
   "cell_type": "code",
   "execution_count": 1143,
   "metadata": {},
   "outputs": [],
   "source": [
    "first[first.str.contains(\"성신\")==True]=\"서울사립대(성신여자대학교)\""
   ]
  },
  {
   "cell_type": "code",
   "execution_count": 1144,
   "metadata": {},
   "outputs": [],
   "source": [
    "first[first.str.contains(\"인서울 여자대학교\")==True]=\"서울사립대(성신여자대학교)\""
   ]
  },
  {
   "cell_type": "code",
   "execution_count": 1145,
   "metadata": {},
   "outputs": [],
   "source": [
    "first[first.str.contains(\"숙명\")==True]=\"서울사립대(숙명여자대학교)\""
   ]
  },
  {
   "cell_type": "code",
   "execution_count": 1146,
   "metadata": {},
   "outputs": [],
   "source": [
    "first[first.str.contains(\"홍익대학교 세종캠퍼스\")==True]=\"지방사립대(홍익대학교)\""
   ]
  },
  {
   "cell_type": "code",
   "execution_count": 1147,
   "metadata": {},
   "outputs": [],
   "source": [
    "first[first.str.contains(\"고대 세종\")==True]=\"지방사립대(고려대학교)\""
   ]
  },
  {
   "cell_type": "code",
   "execution_count": 1148,
   "metadata": {},
   "outputs": [],
   "source": [
    "first[first.str.contains(\"세종\")==True]=\"서울사립대(세종대학교)\""
   ]
  },
  {
   "cell_type": "code",
   "execution_count": 1149,
   "metadata": {},
   "outputs": [],
   "source": [
    "first[first.str.contains(\"숭실\")==True]=\"서울사립대(숭실대학교)\""
   ]
  },
  {
   "cell_type": "code",
   "execution_count": 1150,
   "metadata": {},
   "outputs": [],
   "source": [
    "first[first.str.contains(\"연세\")==True]=\"서울사립대(연세대학교)\""
   ]
  },
  {
   "cell_type": "code",
   "execution_count": 1151,
   "metadata": {},
   "outputs": [],
   "source": [
    "first[first.str.contains(\"이화\")==True]=\"서울사립대(이화여자대학교)\""
   ]
  },
  {
   "cell_type": "code",
   "execution_count": 1152,
   "metadata": {},
   "outputs": [],
   "source": [
    "first[first.str.contains(\"중앙\")==True]=\"서울사립대(중앙대학교)\""
   ]
  },
  {
   "cell_type": "code",
   "execution_count": 1153,
   "metadata": {},
   "outputs": [],
   "source": [
    "first[first.str.contains(\"성서\")==True]=\"서울사립대(서성한)\""
   ]
  },
  {
   "cell_type": "code",
   "execution_count": 1154,
   "metadata": {},
   "outputs": [],
   "source": [
    "first[first.str.contains(\"외국\")==True]=\"서울사립대(한국외국어대학교)\""
   ]
  },
  {
   "cell_type": "code",
   "execution_count": 1155,
   "metadata": {},
   "outputs": [],
   "source": [
    "first[first.str.contains(\"한성대\")==True]=\"서울사립대(한성대학교)\""
   ]
  },
  {
   "cell_type": "code",
   "execution_count": 1156,
   "metadata": {},
   "outputs": [],
   "source": [
    "first[first.str.contains(\"한양\")==True]=\"서울사립대(한양대학교)\""
   ]
  },
  {
   "cell_type": "code",
   "execution_count": 1157,
   "metadata": {},
   "outputs": [],
   "source": [
    "first[first.str.contains(\"서성\")==True]=\"서울사립대(서성한)\""
   ]
  },
  {
   "cell_type": "code",
   "execution_count": 1158,
   "metadata": {},
   "outputs": [],
   "source": [
    "first[first.str.contains(\"중경\")==True]=\"서울사립대(중경외시)\""
   ]
  },
  {
   "cell_type": "code",
   "execution_count": 1159,
   "metadata": {},
   "outputs": [],
   "source": [
    "first[first.str.contains(\"건홍\")==True]=\"서울사립대(건동홍)\""
   ]
  },
  {
   "cell_type": "code",
   "execution_count": 1160,
   "metadata": {},
   "outputs": [],
   "source": [
    "first[first.str.contains(\"건동\")==True]=\"서울사립대(건동홍)\""
   ]
  },
  {
   "cell_type": "code",
   "execution_count": 1161,
   "metadata": {},
   "outputs": [],
   "source": [
    "first[first.str.contains(\"원광보건대학교\")==True]=\"전문대\""
   ]
  },
  {
   "cell_type": "code",
   "execution_count": 1162,
   "metadata": {},
   "outputs": [],
   "source": [
    "first[first.str.contains(\"건대\")==True]=\"서울사립대(건국대학교)\""
   ]
  },
  {
   "cell_type": "code",
   "execution_count": 1163,
   "metadata": {},
   "outputs": [],
   "source": [
    "first[first.str.contains(\"부산경상\")==True]=\"전문대\""
   ]
  },
  {
   "cell_type": "code",
   "execution_count": 1164,
   "metadata": {},
   "outputs": [],
   "source": [
    "first[first.str.contains(\"수도권\")==True]=\"지방사립대(경기)\""
   ]
  },
  {
   "cell_type": "code",
   "execution_count": 1165,
   "metadata": {},
   "outputs": [],
   "source": [
    "first[first.str.contains(\"하위\")==True]=\"서울사립대\""
   ]
  },
  {
   "cell_type": "code",
   "execution_count": 1166,
   "metadata": {},
   "outputs": [],
   "source": [
    "first[first.str.contains(\"인서울\")==True]=\"서울사립대\""
   ]
  },
  {
   "cell_type": "code",
   "execution_count": 1167,
   "metadata": {},
   "outputs": [],
   "source": [
    "first[first.str.contains(\"중상\")==True]=\"서울사립대\""
   ]
  },
  {
   "cell_type": "code",
   "execution_count": 1168,
   "metadata": {},
   "outputs": [],
   "source": [
    "first[first.str.contains(\"중하\")==True]=\"서울사립대\""
   ]
  },
  {
   "cell_type": "code",
   "execution_count": 1169,
   "metadata": {},
   "outputs": [],
   "source": [
    "first[first.str.contains(\"협성\")==True]=\"지방사립대(협성대학교)\""
   ]
  },
  {
   "cell_type": "code",
   "execution_count": 1170,
   "metadata": {},
   "outputs": [],
   "source": [
    "first[first.str.contains(\"경성대\")==True]=\"지방사립대(경성대학교)\""
   ]
  },
  {
   "cell_type": "code",
   "execution_count": 1171,
   "metadata": {},
   "outputs": [],
   "source": [
    "first[first.str.contains(\"수도권4년제\")==True]=\"서울사립대(경기)\""
   ]
  },
  {
   "cell_type": "code",
   "execution_count": 1172,
   "metadata": {},
   "outputs": [],
   "source": [
    "first[first.str.contains(\"서울4년제\")==True]=\"서울사립대\""
   ]
  },
  {
   "cell_type": "code",
   "execution_count": 1173,
   "metadata": {},
   "outputs": [],
   "source": [
    "first[first.str.contains(\"지방4년제\")==True]=\"지방사립대\""
   ]
  },
  {
   "cell_type": "code",
   "execution_count": 1174,
   "metadata": {},
   "outputs": [],
   "source": [
    "first[first.str.contains(\"서울 4년제\")==True]=\"서울사립대\""
   ]
  },
  {
   "cell_type": "code",
   "execution_count": 1175,
   "metadata": {},
   "outputs": [],
   "source": [
    "first[first.str.contains(\"2년\")==True]=\"전문대\""
   ]
  },
  {
   "cell_type": "code",
   "execution_count": 1176,
   "metadata": {},
   "outputs": [],
   "source": [
    "first[first.str.contains(\"경기도 4년제\")==True]=\"지방사립대(경기)\""
   ]
  },
  {
   "cell_type": "code",
   "execution_count": 1177,
   "metadata": {},
   "outputs": [],
   "source": [
    "first[first.str.contains(\"지방 국립4년제\")==True]=\"지방국립대\""
   ]
  },
  {
   "cell_type": "code",
   "execution_count": 1178,
   "metadata": {},
   "outputs": [],
   "source": [
    "first[first.str.contains(\"서울 4년\")==True]=\"서울사립대\""
   ]
  },
  {
   "cell_type": "code",
   "execution_count": 1179,
   "metadata": {},
   "outputs": [],
   "source": [
    "first[first.str.contains(\"지방 4년제\")==True]=\"지방사립대\""
   ]
  },
  {
   "cell_type": "code",
   "execution_count": 1180,
   "metadata": {},
   "outputs": [],
   "source": [
    "first[first.str.contains(\"경기권 4년제\")==True]=\"지방사립대(경기)\""
   ]
  },
  {
   "cell_type": "code",
   "execution_count": 1181,
   "metadata": {},
   "outputs": [],
   "source": [
    "first[first.str.contains(\"지방사립 4년\")==True]=\"지방사립대\""
   ]
  },
  {
   "cell_type": "code",
   "execution_count": 1182,
   "metadata": {},
   "outputs": [],
   "source": [
    "first[first.str.contains(\"지방 4년\")==True]=\"지방사립대\""
   ]
  },
  {
   "cell_type": "code",
   "execution_count": 1183,
   "metadata": {},
   "outputs": [],
   "source": [
    "first[first.str.contains(\"00대학교\")==True]=\"지방사립대\""
   ]
  },
  {
   "cell_type": "code",
   "execution_count": 1184,
   "metadata": {},
   "outputs": [],
   "source": [
    "first[first.str.contains(\"지방대 4년제\")==True]=\"지방사립대\""
   ]
  },
  {
   "cell_type": "code",
   "execution_count": 1185,
   "metadata": {},
   "outputs": [],
   "source": [
    "first[first.str.contains(\"지방국립대 4년제\")==True]=\"지방국립대\""
   ]
  },
  {
   "cell_type": "code",
   "execution_count": 1186,
   "metadata": {},
   "outputs": [],
   "source": [
    "first[first.str.contains(\"서울권4년제\")==True]=\"서울사립대\""
   ]
  },
  {
   "cell_type": "code",
   "execution_count": 1187,
   "metadata": {},
   "outputs": [],
   "source": [
    "first[first.str.contains(\"경기 4년제\")==True]=\"지방사립대(경기)\""
   ]
  },
  {
   "cell_type": "code",
   "execution_count": 1188,
   "metadata": {},
   "outputs": [],
   "source": [
    "first[first.str.contains(\"서울 중위권 4년제\")==True]=\"서울사립대\""
   ]
  },
  {
   "cell_type": "code",
   "execution_count": 1189,
   "metadata": {},
   "outputs": [],
   "source": [
    "first[first.str.contains(\"경기원 4년제\")==True]=\"지방사립대\""
   ]
  },
  {
   "cell_type": "code",
   "execution_count": 1190,
   "metadata": {},
   "outputs": [],
   "source": [
    "first[first.str.contains(\"지방대4년\")==True]=\"지방사립대\""
   ]
  },
  {
   "cell_type": "code",
   "execution_count": 1191,
   "metadata": {},
   "outputs": [],
   "source": [
    "first[first.str.contains(\"서울소재 4년\")==True]=\"서울사립대\""
   ]
  },
  {
   "cell_type": "code",
   "execution_count": 1192,
   "metadata": {},
   "outputs": [],
   "source": [
    "first[first.str.contains(\"지방 국립 4년\")==True]=\"지방국립대\""
   ]
  },
  {
   "cell_type": "code",
   "execution_count": 1193,
   "metadata": {},
   "outputs": [],
   "source": [
    "first[first.str.contains(\"지방국립4년제\")==True]=\"지방국립대\""
   ]
  },
  {
   "cell_type": "code",
   "execution_count": 1194,
   "metadata": {},
   "outputs": [],
   "source": [
    "first[first.str.contains(\"지방사립4년\")==True]=\"지방사립대\""
   ]
  },
  {
   "cell_type": "code",
   "execution_count": 1195,
   "metadata": {},
   "outputs": [],
   "source": [
    "first[first.str.contains(\"인천지역 4년제대\")==True]=\"지방사립대(경기)\""
   ]
  },
  {
   "cell_type": "code",
   "execution_count": 1196,
   "metadata": {},
   "outputs": [],
   "source": [
    "first[first.str.contains(\"북경4년제\")==True]=\"해외대(중국)\""
   ]
  },
  {
   "cell_type": "code",
   "execution_count": 1197,
   "metadata": {},
   "outputs": [],
   "source": [
    "first[first.str.contains(\"서울권 4년제\")==True]=\"서울사립대\""
   ]
  },
  {
   "cell_type": "code",
   "execution_count": 1198,
   "metadata": {},
   "outputs": [],
   "source": [
    "first[first.str.contains(\"4년제\")==True]=\"지방사립대\""
   ]
  },
  {
   "cell_type": "code",
   "execution_count": 1199,
   "metadata": {},
   "outputs": [],
   "source": [
    "first[first.str.contains(\"서울 상위\")==True]=\"서울사립대\""
   ]
  },
  {
   "cell_type": "code",
   "execution_count": 1200,
   "metadata": {},
   "outputs": [],
   "source": [
    "first[first.str.contains(\"서상한\")==True]=\"서울사립대(서성한)\""
   ]
  },
  {
   "cell_type": "code",
   "execution_count": 1201,
   "metadata": {},
   "outputs": [],
   "source": [
    "first[first.str.contains(\"지방 상위\")==True]=\"지방사립대\""
   ]
  },
  {
   "cell_type": "code",
   "execution_count": 1202,
   "metadata": {},
   "outputs": [],
   "source": [
    "first[first.str.contains(\"경상대학교\")==True]=\"지방국립대\""
   ]
  },
  {
   "cell_type": "code",
   "execution_count": 1203,
   "metadata": {},
   "outputs": [],
   "source": [
    "first[first.str.contains(\"지방상위권\")==True]=\"지방사립대\""
   ]
  },
  {
   "cell_type": "code",
   "execution_count": 1204,
   "metadata": {},
   "outputs": [],
   "source": [
    "first[first.str.contains(\"상명대학교 \")==True]=\"서울사립대(상명대학교)\""
   ]
  },
  {
   "cell_type": "code",
   "execution_count": 1205,
   "metadata": {},
   "outputs": [],
   "source": [
    "first[first.str.contains(\"서울상위권\")==True]=\"서울사립대\""
   ]
  },
  {
   "cell_type": "code",
   "execution_count": 1206,
   "metadata": {},
   "outputs": [],
   "source": [
    "first[first.str.contains(\"상위권\")==True]=\"서울사립대\""
   ]
  },
  {
   "cell_type": "code",
   "execution_count": 1207,
   "metadata": {},
   "outputs": [],
   "source": [
    "first[first.str.contains(\"광명상가\")==True]=\"서울사립대(명지대학교)\""
   ]
  },
  {
   "cell_type": "code",
   "execution_count": 1208,
   "metadata": {},
   "outputs": [],
   "source": [
    "first[first.str.contains(\"경상대\")==True]=\"지방국립대\""
   ]
  },
  {
   "cell_type": "code",
   "execution_count": 1209,
   "metadata": {},
   "outputs": [],
   "source": [
    "first[first.str.contains(\"상경\")==True]=\"서울사립대\""
   ]
  },
  {
   "cell_type": "code",
   "execution_count": 1210,
   "metadata": {},
   "outputs": [],
   "source": [
    "first[first.str.contains(\"서울상위\")==True]='서울사립대'"
   ]
  },
  {
   "cell_type": "code",
   "execution_count": 1211,
   "metadata": {},
   "outputs": [],
   "source": [
    "first[first.str.contains(\"라인\")==True]=\"서울사립대\""
   ]
  },
  {
   "cell_type": "code",
   "execution_count": 1212,
   "metadata": {},
   "outputs": [],
   "source": [
    "first[first.str.contains(\"국숭세단\")==True]=\"서울사립대(숭실대학교)\""
   ]
  },
  {
   "cell_type": "code",
   "execution_count": 1213,
   "metadata": {},
   "outputs": [],
   "source": [
    "first[first.str.contains(\"세단\")==True]=\"서울사립대(숭실대학교)\""
   ]
  },
  {
   "cell_type": "code",
   "execution_count": 1214,
   "metadata": {},
   "outputs": [],
   "source": [
    "first[first.str.contains(\"단국대학교\")==True]=\"서울사립대(단국대학교)\""
   ]
  },
  {
   "cell_type": "code",
   "execution_count": 1215,
   "metadata": {},
   "outputs": [],
   "source": [
    "first[first.str.contains(\"단국대학교\")==True]=\"서울사립대(단국대학교)\""
   ]
  },
  {
   "cell_type": "code",
   "execution_count": 1216,
   "metadata": {},
   "outputs": [],
   "source": [
    "first[first.str.contains(\"신한대학교\")==True]=\"지방사립대(신한대학교)\""
   ]
  },
  {
   "cell_type": "code",
   "execution_count": 1217,
   "metadata": {},
   "outputs": [],
   "source": [
    "first[first.str.contains(\"아주대학교\")==True]=\"서울사립대(아주대학교)\""
   ]
  },
  {
   "cell_type": "code",
   "execution_count": 1218,
   "metadata": {},
   "outputs": [],
   "source": [
    "first[first.str.contains(\"한동대학교\")==True]=\"지방사립대(한동대학교)\""
   ]
  },
  {
   "cell_type": "code",
   "execution_count": 1219,
   "metadata": {},
   "outputs": [],
   "source": [
    "first[first.str.contains(\"대전대학교\")==True]=\"지방사립대(대전대학교)\""
   ]
  },
  {
   "cell_type": "code",
   "execution_count": 1220,
   "metadata": {},
   "outputs": [],
   "source": [
    "first[first.str.contains(\"항공대\")==True]=\"지방사립대(한국항공대학교)\""
   ]
  },
  {
   "cell_type": "code",
   "execution_count": 1221,
   "metadata": {},
   "outputs": [],
   "source": [
    "first[first.str.contains(\"백석대\")==True]=\"지방사립대(백석대학교)\""
   ]
  },
  {
   "cell_type": "code",
   "execution_count": 1222,
   "metadata": {},
   "outputs": [],
   "source": [
    "first[first.str.contains(\"성결\")==True]=\"지방사립대(성결대학교)\""
   ]
  },
  {
   "cell_type": "code",
   "execution_count": 1223,
   "metadata": {},
   "outputs": [],
   "source": [
    "first[first.str.contains(\"한림\")==True]=\"지방사립대(한림대학교)\""
   ]
  },
  {
   "cell_type": "code",
   "execution_count": 1224,
   "metadata": {},
   "outputs": [],
   "source": [
    "df.at[first[first.str.contains(\"학점\")==True].index,[\"학점\"]]=first[first.str.contains(\"학점\")==True]"
   ]
  },
  {
   "cell_type": "code",
   "execution_count": 1225,
   "metadata": {},
   "outputs": [],
   "source": [
    "first[first.str.contains(\"학점\")==True]=\"\""
   ]
  },
  {
   "cell_type": "code",
   "execution_count": 1226,
   "metadata": {},
   "outputs": [],
   "source": [
    "s=first[first.str.contains(\"학점\")==True]"
   ]
  },
  {
   "cell_type": "code",
   "execution_count": 1227,
   "metadata": {},
   "outputs": [],
   "source": [
    "df.at[first[first.str.contains(\"컴활\")==True].index,[\"자격증\"]]=first[first.str.contains(\"컴활\")==True]"
   ]
  },
  {
   "cell_type": "code",
   "execution_count": 1228,
   "metadata": {},
   "outputs": [],
   "source": [
    "first[first.str.contains(\"컴활\")==True]=\"\""
   ]
  },
  {
   "cell_type": "code",
   "execution_count": 1229,
   "metadata": {},
   "outputs": [],
   "source": [
    "df.at[first[first.str.contains(\"봉사\")==True].index,[\"경험사항\"]]=first[first.str.contains(\"봉사\")==True]"
   ]
  },
  {
   "cell_type": "code",
   "execution_count": 1230,
   "metadata": {},
   "outputs": [],
   "source": [
    "first[first.str.contains(\"봉사\")==True]=\"\""
   ]
  },
  {
   "cell_type": "code",
   "execution_count": 1231,
   "metadata": {},
   "outputs": [],
   "source": [
    "first[first.str.contains(\"서울권 \")==True]=\"서울사립대\""
   ]
  },
  {
   "cell_type": "code",
   "execution_count": 1232,
   "metadata": {},
   "outputs": [],
   "source": [
    "first[first.str.contains(\"경남과기대\")==True]=\"지방국립대(경남과학기술대학교)\""
   ]
  },
  {
   "cell_type": "code",
   "execution_count": 1233,
   "metadata": {},
   "outputs": [],
   "source": [
    "first[first.str.contains(\"인하대\")==True]=\"지방사립대(인하대학교)\""
   ]
  },
  {
   "cell_type": "code",
   "execution_count": 1234,
   "metadata": {},
   "outputs": [],
   "source": [
    "first[first.str.contains(\"성균\")==True]=\"서울사립대(성균관대학교)\""
   ]
  },
  {
   "cell_type": "code",
   "execution_count": 1235,
   "metadata": {},
   "outputs": [],
   "source": [
    "first[first.str.contains(\"경중외시\")==True]=\"서울사립대(경희대학교)\""
   ]
  },
  {
   "cell_type": "code",
   "execution_count": 1236,
   "metadata": {},
   "outputs": [],
   "source": [
    "first[first.str.contains(\"지방 국립대\")==True]=\"지방국립대\""
   ]
  },
  {
   "cell_type": "code",
   "execution_count": 1237,
   "metadata": {},
   "outputs": [],
   "source": [
    "first[first.str.contains(\"지방 사립\")==True]=\"지방사립대\""
   ]
  },
  {
   "cell_type": "code",
   "execution_count": 1238,
   "metadata": {},
   "outputs": [],
   "source": [
    "first[first.str.contains(\"서울 사립\")==True]=\"서울사립대\""
   ]
  },
  {
   "cell_type": "code",
   "execution_count": 1239,
   "metadata": {},
   "outputs": [],
   "source": [
    "first[first.str.contains(\"서울 중위권\")==True]=\"서울사립대\""
   ]
  },
  {
   "cell_type": "code",
   "execution_count": 1240,
   "metadata": {},
   "outputs": [],
   "source": [
    "first[first.str.contains(\"서울 중\")==True]=\"서울사립대\""
   ]
  },
  {
   "cell_type": "code",
   "execution_count": 1241,
   "metadata": {},
   "outputs": [],
   "source": [
    "first[first.str.contains(\"서울 과기대\")==True]=\"서울국립대(서울과학기술대학교)\""
   ]
  },
  {
   "cell_type": "code",
   "execution_count": 1242,
   "metadata": {},
   "outputs": [],
   "source": [
    "first[first.str.contains(\"서울 하\")==True]=\"서울사립대\""
   ]
  },
  {
   "cell_type": "code",
   "execution_count": 1243,
   "metadata": {},
   "outputs": [],
   "source": [
    "first[first.str.contains(\"서울 소재\")==True]=\"서울사립대\""
   ]
  },
  {
   "cell_type": "code",
   "execution_count": 1244,
   "metadata": {},
   "outputs": [],
   "source": [
    "first[first.str.contains(\"서울 광진구\")==True]=\"서울사립대\""
   ]
  },
  {
   "cell_type": "code",
   "execution_count": 1245,
   "metadata": {},
   "outputs": [],
   "source": [
    "first[first.str.contains(\"지방, 서울\")==True]=\"지방사립대\""
   ]
  },
  {
   "cell_type": "code",
   "execution_count": 1246,
   "metadata": {},
   "outputs": [],
   "source": [
    "first[first.str.contains(\"서울 \")==True]=\"서울사립대\""
   ]
  },
  {
   "cell_type": "code",
   "execution_count": 1247,
   "metadata": {},
   "outputs": [],
   "source": [
    "first[first.str.contains(\"지방 과기원 \")==True]=\"UNIST\""
   ]
  },
  {
   "cell_type": "code",
   "execution_count": 1248,
   "metadata": {},
   "outputs": [],
   "source": [
    "first[first.str.contains(\"지방 국립\")==True]=\"지방국립대\""
   ]
  },
  {
   "cell_type": "code",
   "execution_count": 1249,
   "metadata": {},
   "outputs": [],
   "source": [
    "first[first.str.contains(\"분교 지방\")==True]=\"지방사립대\""
   ]
  },
  {
   "cell_type": "code",
   "execution_count": 1250,
   "metadata": {},
   "outputs": [],
   "source": [
    "first[first.str.contains(\"지방 거점\")==True]=\"지방거점국립대\""
   ]
  },
  {
   "cell_type": "code",
   "execution_count": 1251,
   "metadata": {},
   "outputs": [],
   "source": [
    "first[first.str.contains(\"부산지방\")==True]=\"지방사립대\""
   ]
  },
  {
   "cell_type": "code",
   "execution_count": 1252,
   "metadata": {},
   "outputs": [],
   "source": [
    "first[first.str.contains(\"지방 공립\")==True]=\"지방국립대\""
   ]
  },
  {
   "cell_type": "code",
   "execution_count": 1253,
   "metadata": {},
   "outputs": [],
   "source": [
    "first[first.str.contains(\"지방 \")==True]=\"지방사립대\""
   ]
  },
  {
   "cell_type": "code",
   "execution_count": 1254,
   "metadata": {},
   "outputs": [],
   "source": [
    "first[first.str.contains(\"지방대\")==True]=\"지방사립대\""
   ]
  },
  {
   "cell_type": "code",
   "execution_count": 1255,
   "metadata": {},
   "outputs": [],
   "source": [
    "first[first.str.contains(\"인천 지방사립대\")==True]=\"지방사립대\""
   ]
  },
  {
   "cell_type": "code",
   "execution_count": 1256,
   "metadata": {},
   "outputs": [],
   "source": [
    "first[first.str.contains(\"SKY 지방캠\")==True]=\"지방사립대\""
   ]
  },
  {
   "cell_type": "code",
   "execution_count": 1257,
   "metadata": {},
   "outputs": [],
   "source": [
    "first[first.str.contains(\"디자인 서홍국\")==True]=\"서울사립대(홍익대학교)\""
   ]
  },
  {
   "cell_type": "code",
   "execution_count": 1258,
   "metadata": {},
   "outputs": [],
   "source": [
    "first[first.str.contains(\"신라\")==True]=\"지방사립대(신라대학교)\""
   ]
  },
  {
   "cell_type": "code",
   "execution_count": 1259,
   "metadata": {},
   "outputs": [],
   "source": [
    "first[first.str.contains(\"서울과기대\")==True]=\"서울국립대(서울과학기술대학교)\""
   ]
  },
  {
   "cell_type": "code",
   "execution_count": 1260,
   "metadata": {},
   "outputs": [],
   "source": [
    "first[first.str.contains(\"과기대\")==True]=\"서울국립대(서울과학기술대학교)\""
   ]
  },
  {
   "cell_type": "code",
   "execution_count": 1261,
   "metadata": {},
   "outputs": [],
   "source": [
    "first[first.str.contains(\"과기\")==True]=\"KAIST\""
   ]
  },
  {
   "cell_type": "code",
   "execution_count": 1262,
   "metadata": {},
   "outputs": [],
   "source": [
    "first[first.str.contains(\"가천\")==True]=\"지방사립대(가천대학교)\""
   ]
  },
  {
   "cell_type": "code",
   "execution_count": 1263,
   "metadata": {},
   "outputs": [],
   "source": [
    "first[first.str.contains(\"지방거점 \")==True]=\"지방거점국립대\""
   ]
  },
  {
   "cell_type": "code",
   "execution_count": 1264,
   "metadata": {},
   "outputs": [],
   "source": [
    "first[first.str.contains(\"ky\")==True]=\"서울사립대(고려대학교)\""
   ]
  },
  {
   "cell_type": "code",
   "execution_count": 1265,
   "metadata": {},
   "outputs": [],
   "source": [
    "first[first.str.contains(\"s\")==True]=\"서울국립대(서울대학교)\""
   ]
  },
  {
   "cell_type": "code",
   "execution_count": 1266,
   "metadata": {},
   "outputs": [],
   "source": [
    "first[first.str.contains(\"서울대\")==True]=\"서울국립대(서울대학교)\""
   ]
  },
  {
   "cell_type": "code",
   "execution_count": 1267,
   "metadata": {},
   "outputs": [],
   "source": [
    "first[first.str.contains(\"SK\")==True]=\"서울사립대(연세대학교)\""
   ]
  },
  {
   "cell_type": "code",
   "execution_count": 1268,
   "metadata": {},
   "outputs": [],
   "source": [
    "first[first.str.contains(\"아주대 석사\")==True]=\"대학원\""
   ]
  },
  {
   "cell_type": "code",
   "execution_count": 1269,
   "metadata": {},
   "outputs": [],
   "source": [
    "first[first.str.contains(\"아주대 \")==True]=\"서울사립대(아주대학교)\""
   ]
  },
  {
   "cell_type": "code",
   "execution_count": 1270,
   "metadata": {},
   "outputs": [],
   "source": [
    "first[first.str.contains(\"석사\")==True]=\"대학원\""
   ]
  },
  {
   "cell_type": "code",
   "execution_count": 1271,
   "metadata": {},
   "outputs": [],
   "source": [
    "first[first.str.contains(\"기계\")==True]=\"지방사립대\""
   ]
  },
  {
   "cell_type": "code",
   "execution_count": 1272,
   "metadata": {},
   "outputs": [],
   "source": [
    "first[first.str.contains(\"한국외\")==True]=\"서울사립대(한국외국어대학교)\""
   ]
  },
  {
   "cell_type": "code",
   "execution_count": 1273,
   "metadata": {},
   "outputs": [],
   "source": [
    "first[first.str.contains(\"상지\")==True]=\"지방사립대(상지대학교)\""
   ]
  },
  {
   "cell_type": "code",
   "execution_count": 1274,
   "metadata": {},
   "outputs": [],
   "source": [
    "first[first.str.contains(\"\\(경기\\)\")==True]=\"지방사립대\""
   ]
  },
  {
   "cell_type": "code",
   "execution_count": 1275,
   "metadata": {},
   "outputs": [],
   "source": [
    "first[first.str.contains(\"경기권 \")==True]=\"지방사립대\""
   ]
  },
  {
   "cell_type": "code",
   "execution_count": 1276,
   "metadata": {},
   "outputs": [],
   "source": [
    "first[first.str.contains(\"경기 \")==True]=\"지방사립대\""
   ]
  },
  {
   "cell_type": "code",
   "execution_count": 1277,
   "metadata": {},
   "outputs": [],
   "source": [
    "first[first.str.contains(\"경기과학기술대학교\")==True]=\"전문대\""
   ]
  },
  {
   "cell_type": "code",
   "execution_count": 1278,
   "metadata": {},
   "outputs": [],
   "source": [
    "first[first.str.contains(\"학점은행\")==True]=\"고등학교졸업\""
   ]
  },
  {
   "cell_type": "code",
   "execution_count": 1279,
   "metadata": {},
   "outputs": [],
   "source": [
    "first[first.str.contains(\"동서\")==True]=\"지방사립대(동서대학교)\""
   ]
  },
  {
   "cell_type": "code",
   "execution_count": 1280,
   "metadata": {},
   "outputs": [],
   "source": [
    "first[first.str.contains(\"한신\")==True]=\"지방사립대(한신대학교)\""
   ]
  },
  {
   "cell_type": "code",
   "execution_count": 1281,
   "metadata": {},
   "outputs": [],
   "source": [
    "first[first.str.contains(\"서연\")==True]=\"서울사립대(고려대학교)\""
   ]
  },
  {
   "cell_type": "code",
   "execution_count": 1282,
   "metadata": {},
   "outputs": [],
   "source": [
    "first[first.str.contains(\"연고\")==True]=\"서울사립대(연세대학교)\""
   ]
  },
  {
   "cell_type": "code",
   "execution_count": 1283,
   "metadata": {},
   "outputs": [],
   "source": [
    "first[first.str.contains(\"스카이\")==True]=\"서울사립대(고려대학교)\""
   ]
  },
  {
   "cell_type": "code",
   "execution_count": 1284,
   "metadata": {},
   "outputs": [],
   "source": [
    "first[first.str.contains(\"5공\")==True]=\"서울사립대(한양대학교)\""
   ]
  },
  {
   "cell_type": "code",
   "execution_count": 1285,
   "metadata": {},
   "outputs": [],
   "source": [
    "first[first.str.contains(\"지방국립 \")==True]=\"지방국립대\""
   ]
  },
  {
   "cell_type": "code",
   "execution_count": 1286,
   "metadata": {},
   "outputs": [],
   "source": [
    "first[first.str.contains(\"동국\")==True]=\"서울사립대(동국대학교)\""
   ]
  },
  {
   "cell_type": "code",
   "execution_count": 1287,
   "metadata": {},
   "outputs": [],
   "source": [
    "df.at[first[first.str.contains(\"컴퓨터공학\")==True].index,[\"학과\"]]=first[first.str.contains(\"컴퓨터공학\")==True]"
   ]
  },
  {
   "cell_type": "code",
   "execution_count": 1288,
   "metadata": {},
   "outputs": [],
   "source": [
    "first[first.str.contains(\"컴퓨터공학\")==True]=\"\""
   ]
  },
  {
   "cell_type": "code",
   "execution_count": 1289,
   "metadata": {
    "scrolled": true
   },
   "outputs": [],
   "source": [
    "df.at[first[first.str.contains(\"경영\")==True].index,[\"학과\"]]=first[first.str.contains(\"경영\")==True]"
   ]
  },
  {
   "cell_type": "code",
   "execution_count": 1290,
   "metadata": {},
   "outputs": [],
   "source": [
    "first[first.str.contains(\"경영\")==True]=\"\""
   ]
  },
  {
   "cell_type": "code",
   "execution_count": 1291,
   "metadata": {},
   "outputs": [],
   "source": [
    "first[first.str.contains(\"부산외대\")==True]=\"지방사립대(부산외국어대학교)\""
   ]
  },
  {
   "cell_type": "code",
   "execution_count": 1292,
   "metadata": {},
   "outputs": [],
   "source": [
    "first[first.str.contains(\"외대 \")==True]=\"서울사립대(한국외국어대학교)\""
   ]
  },
  {
   "cell_type": "code",
   "execution_count": 1293,
   "metadata": {
    "scrolled": true
   },
   "outputs": [],
   "source": [
    "first[first.str.contains(\"바이오\")==True]=\"바이오뇌공학과\""
   ]
  },
  {
   "cell_type": "code",
   "execution_count": 1294,
   "metadata": {},
   "outputs": [],
   "source": [
    "df.at[first[first.str.contains(\"바이오\")==True].index,[\"학과\"]]=first[first.str.contains(\"바이오\")==True]"
   ]
  },
  {
   "cell_type": "code",
   "execution_count": 1295,
   "metadata": {},
   "outputs": [],
   "source": [
    "first[first.str.contains(\"바이오\")==True]=\"\""
   ]
  },
  {
   "cell_type": "code",
   "execution_count": 1296,
   "metadata": {},
   "outputs": [],
   "source": [
    "first[first.str.contains(\"거제\")==True]=\"지방사립대(거제대학교)\""
   ]
  },
  {
   "cell_type": "code",
   "execution_count": 1297,
   "metadata": {},
   "outputs": [],
   "source": [
    "first[first.str.contains(\"연대\")==True]=\"서울사립대(연세대학교)\""
   ]
  },
  {
   "cell_type": "code",
   "execution_count": 1298,
   "metadata": {},
   "outputs": [],
   "source": [
    "first[first.str.contains(\"서성한\")==True]=\"서울사립대(서강대학교)\""
   ]
  },
  {
   "cell_type": "code",
   "execution_count": 1299,
   "metadata": {},
   "outputs": [],
   "source": [
    "first[first.str.contains(\"건동홍\")==True]=\"서울사립대(홍익대학교)\""
   ]
  },
  {
   "cell_type": "code",
   "execution_count": 1300,
   "metadata": {},
   "outputs": [],
   "source": [
    "first[first.str.contains(\"단국\")==True]=\"서울사립대(단국대학교)\""
   ]
  },
  {
   "cell_type": "code",
   "execution_count": 1301,
   "metadata": {},
   "outputs": [],
   "source": [
    "first[first.str.contains(\"그래픽\")==True]=\"컴퓨터그래픽학과\""
   ]
  },
  {
   "cell_type": "code",
   "execution_count": 1302,
   "metadata": {},
   "outputs": [],
   "source": [
    "df.at[first[first.str.contains(\"그래픽\")==True].index,[\"학과\"]]=first[first.str.contains(\"그래픽\")==True]"
   ]
  },
  {
   "cell_type": "code",
   "execution_count": 1303,
   "metadata": {},
   "outputs": [],
   "source": [
    "first[first.str.contains(\"그래픽\")==True]=\"\""
   ]
  },
  {
   "cell_type": "code",
   "execution_count": 1304,
   "metadata": {},
   "outputs": [],
   "source": [
    "first[first.str.contains(\"고대\")==True]=\"서울사립대(고려대학교)\""
   ]
  },
  {
   "cell_type": "code",
   "execution_count": 1305,
   "metadata": {},
   "outputs": [],
   "source": [
    "first[first.str.contains(\"경기권\")==True]=\"지방사립대\""
   ]
  },
  {
   "cell_type": "code",
   "execution_count": 1306,
   "metadata": {},
   "outputs": [],
   "source": [
    "first[first.str.contains(\"화공\")==True]=\"화학공학과\""
   ]
  },
  {
   "cell_type": "code",
   "execution_count": 1307,
   "metadata": {},
   "outputs": [],
   "source": [
    "df.at[first[first.str.contains(\"화학공학과\")==True].index,[\"학과\"]]=first[first.str.contains(\"화학공학과\")==True]"
   ]
  },
  {
   "cell_type": "code",
   "execution_count": 1308,
   "metadata": {},
   "outputs": [],
   "source": [
    "first[first.str.contains(\"화학공학과\")==True]=\"\""
   ]
  },
  {
   "cell_type": "code",
   "execution_count": 1309,
   "metadata": {},
   "outputs": [],
   "source": [
    "first[first.str.contains(\" 국립대\")==True]=\"서울국립대\""
   ]
  },
  {
   "cell_type": "code",
   "execution_count": 1310,
   "metadata": {},
   "outputs": [],
   "source": [
    "first[first.str.contains(\"지방국립대 \")==True]=\"지방국립대\""
   ]
  },
  {
   "cell_type": "code",
   "execution_count": 1311,
   "metadata": {},
   "outputs": [],
   "source": [
    "first[first.str.contains(\"서울중위\")==True]=\"서울사립대\""
   ]
  },
  {
   "cell_type": "code",
   "execution_count": 1312,
   "metadata": {},
   "outputs": [],
   "source": [
    "first[first.str.contains(\"중위\")==True]=\"지방사립대\""
   ]
  },
  {
   "cell_type": "code",
   "execution_count": 1313,
   "metadata": {},
   "outputs": [],
   "source": [
    "first[first.str.contains(\"인하 \")==True]=\"지방사립대(인하대학교)\""
   ]
  },
  {
   "cell_type": "code",
   "execution_count": 1314,
   "metadata": {},
   "outputs": [],
   "source": [
    "first[first.str.contains(\"중 \")==True]=\"지방사립대\""
   ]
  },
  {
   "cell_type": "code",
   "execution_count": 1315,
   "metadata": {},
   "outputs": [],
   "source": [
    "first[first.str.contains(\"국제통상 \")==True]=\"국제통상학과\""
   ]
  },
  {
   "cell_type": "code",
   "execution_count": 1316,
   "metadata": {},
   "outputs": [],
   "source": [
    "df.at[first[first.str.contains(\"국제통상학과\")==True].index,[\"학과\"]]=first[first.str.contains(\"국제통상학과\")==True]"
   ]
  },
  {
   "cell_type": "code",
   "execution_count": 1317,
   "metadata": {},
   "outputs": [],
   "source": [
    "first[first.str.contains(\"국제통상학과\")==True]=\"\""
   ]
  },
  {
   "cell_type": "code",
   "execution_count": 1318,
   "metadata": {},
   "outputs": [],
   "source": [
    "first[first.str.contains(\"영산\")==True]=\"지방사립대(영산대학교)\""
   ]
  },
  {
   "cell_type": "code",
   "execution_count": 1319,
   "metadata": {},
   "outputs": [],
   "source": [
    "first[first.str.contains(\"S대\")==True]=\"서울국립대(서울대학교)\""
   ]
  },
  {
   "cell_type": "code",
   "execution_count": 1320,
   "metadata": {
    "scrolled": true
   },
   "outputs": [],
   "source": [
    "df.at[first[first.str.contains(\"무역학과\")==True].index,[\"학과\"]]=first[first.str.contains(\"무역학과\")==True]"
   ]
  },
  {
   "cell_type": "code",
   "execution_count": 1321,
   "metadata": {},
   "outputs": [],
   "source": [
    "first[first.str.contains(\"무역학과\")==True]=\"\""
   ]
  },
  {
   "cell_type": "code",
   "execution_count": 1322,
   "metadata": {},
   "outputs": [],
   "source": [
    "first[first.str.contains(\"서울권\")==True]=\"서울사립대\""
   ]
  },
  {
   "cell_type": "code",
   "execution_count": 1323,
   "metadata": {},
   "outputs": [],
   "source": [
    "first[first.str.contains(\"연대\")==True]=\"서울사립대(연세대학교)\""
   ]
  },
  {
   "cell_type": "code",
   "execution_count": 1324,
   "metadata": {},
   "outputs": [],
   "source": [
    "first[first.str.contains(\"메카\")==True]=\"메카트로닉스공학과\""
   ]
  },
  {
   "cell_type": "code",
   "execution_count": 1325,
   "metadata": {},
   "outputs": [],
   "source": [
    "df.at[first[first.str.contains(\"메카\")==True].index,[\"학과\"]]=first[first.str.contains(\"메카\")==True]"
   ]
  },
  {
   "cell_type": "code",
   "execution_count": 1326,
   "metadata": {},
   "outputs": [],
   "source": [
    "first[first.str.contains(\"메카\")==True]=\"\""
   ]
  },
  {
   "cell_type": "code",
   "execution_count": 1327,
   "metadata": {},
   "outputs": [],
   "source": [
    "first[first.str.contains(\"KY 학사\")==True]=\"대학원\""
   ]
  },
  {
   "cell_type": "code",
   "execution_count": 1328,
   "metadata": {},
   "outputs": [],
   "source": [
    "first[first.str.contains(\"Y\")==True]=\"서울사립대(연세대학교)\""
   ]
  },
  {
   "cell_type": "code",
   "execution_count": 1329,
   "metadata": {},
   "outputs": [],
   "source": [
    "first[first.str.contains(\"중경외시\")==True]=\"서울사립대(중앙대학교)\""
   ]
  },
  {
   "cell_type": "code",
   "execution_count": 1330,
   "metadata": {},
   "outputs": [],
   "source": [
    "#재료(전공)\n",
    "first[first.str.contains(\"재료\")==True]=\"재료공학과\""
   ]
  },
  {
   "cell_type": "code",
   "execution_count": 1331,
   "metadata": {},
   "outputs": [],
   "source": [
    "df.at[first[first.str.contains(\"재료\")==True].index,[\"학과\"]]=first[first.str.contains(\"재료\")==True]"
   ]
  },
  {
   "cell_type": "code",
   "execution_count": 1332,
   "metadata": {},
   "outputs": [],
   "source": [
    "first[first.str.contains(\"재료\")==True]=\"\""
   ]
  },
  {
   "cell_type": "code",
   "execution_count": 1333,
   "metadata": {},
   "outputs": [],
   "source": [
    "first[first.str.contains(\"지방사립 \")==True]=\"지방사립대\""
   ]
  },
  {
   "cell_type": "code",
   "execution_count": 1334,
   "metadata": {},
   "outputs": [],
   "source": [
    "first[first.str.contains(\"인천 소재 대학교 \")==True]=\"지방사립대\""
   ]
  },
  {
   "cell_type": "code",
   "execution_count": 1335,
   "metadata": {},
   "outputs": [],
   "source": [
    "first[first.str.contains(\"안양대\")==True]=\"지방사립대(안양대학교)\""
   ]
  },
  {
   "cell_type": "code",
   "execution_count": 1336,
   "metadata": {},
   "outputs": [],
   "source": [
    "first[first.str.contains(\"건\")==True]=\"서울사립대(건국대학교)\""
   ]
  },
  {
   "cell_type": "code",
   "execution_count": 1337,
   "metadata": {},
   "outputs": [],
   "source": [
    "first[first.str.contains(\"경희 수원\")==True]=\"지방사립대(경희대학교)\""
   ]
  },
  {
   "cell_type": "code",
   "execution_count": 1338,
   "metadata": {},
   "outputs": [],
   "source": [
    "first[first.str.contains(\"경희 \")==True]=\"서울사립대(경희대학교)\""
   ]
  },
  {
   "cell_type": "code",
   "execution_count": 1339,
   "metadata": {},
   "outputs": [],
   "source": [
    "first[first.str.contains(\"상하이\")==True]=\"해외대(중국)\""
   ]
  },
  {
   "cell_type": "code",
   "execution_count": 1340,
   "metadata": {},
   "outputs": [],
   "source": [
    "first[first.str.contains(\"중,아,인\")==True]=\"서울사립대(아주대학교)\""
   ]
  },
  {
   "cell_type": "code",
   "execution_count": 1341,
   "metadata": {},
   "outputs": [],
   "source": [
    "first[first.str.contains(\"시립대\")==True]=\"서울공립대(서울시립대학교)\""
   ]
  },
  {
   "cell_type": "code",
   "execution_count": 1342,
   "metadata": {},
   "outputs": [],
   "source": [
    "first[first.str.contains(\"중인시\")==True]=\"지방사립대(인하대학교)\""
   ]
  },
  {
   "cell_type": "code",
   "execution_count": 1343,
   "metadata": {},
   "outputs": [],
   "source": [
    "first[first.str.contains(\"E 대학교\")==True]=\"서울사립대(이화여자대학교)\""
   ]
  },
  {
   "cell_type": "code",
   "execution_count": 1344,
   "metadata": {},
   "outputs": [],
   "source": [
    "first[first.str.contains(\"국숭\")==True]=\"서울사립대(숭실대학교)\""
   ]
  },
  {
   "cell_type": "code",
   "execution_count": 1345,
   "metadata": {},
   "outputs": [],
   "source": [
    "first[first.str.contains(\"홍익대학교 \")==True]=\"서울사립대(홍익대학교)\""
   ]
  },
  {
   "cell_type": "code",
   "execution_count": 1346,
   "metadata": {},
   "outputs": [],
   "source": [
    "first[first.str.contains(\"칭화대학교\")==True]=\"해외대(중국)\""
   ]
  },
  {
   "cell_type": "code",
   "execution_count": 1347,
   "metadata": {},
   "outputs": [],
   "source": [
    "first[first.str.contains(\"센트럴\")==True]=\"해외대(영국)\""
   ]
  },
  {
   "cell_type": "code",
   "execution_count": 1348,
   "metadata": {},
   "outputs": [],
   "source": [
    "first[first.str.contains(\"홍익 \")==True]=\"서울사립대(홍익대학교)\""
   ]
  },
  {
   "cell_type": "code",
   "execution_count": 1349,
   "metadata": {},
   "outputs": [],
   "source": [
    "first[first.str.contains(\"설카포\")==True]=\"포항공과대학교\""
   ]
  },
  {
   "cell_type": "code",
   "execution_count": 1350,
   "metadata": {},
   "outputs": [],
   "source": [
    "first[first.str.contains(\"고려사이버\")==True]=\"전문대\""
   ]
  },
  {
   "cell_type": "code",
   "execution_count": 1351,
   "metadata": {},
   "outputs": [],
   "source": [
    "first[first.str.contains(\"지방분교\")==True]=\"지방사립대\""
   ]
  },
  {
   "cell_type": "code",
   "execution_count": 1352,
   "metadata": {},
   "outputs": [],
   "source": [
    "first[first.str.contains(\"명문대\")==True]=\"서울사립대\""
   ]
  },
  {
   "cell_type": "code",
   "execution_count": 1353,
   "metadata": {},
   "outputs": [],
   "source": [
    "first[first.str.contains(\"인천소재\")==True]=\"지방사립대\""
   ]
  },
  {
   "cell_type": "code",
   "execution_count": 1354,
   "metadata": {},
   "outputs": [],
   "source": [
    "first[first.str.contains(\"중,아,인 \")==True]=\"\""
   ]
  },
  {
   "cell_type": "code",
   "execution_count": 1355,
   "metadata": {},
   "outputs": [],
   "source": [
    "first[first.str.contains(\"^거점국립대\")==True]=\"지방거점국립대\""
   ]
  },
  {
   "cell_type": "code",
   "execution_count": 1356,
   "metadata": {},
   "outputs": [],
   "source": [
    "first[first.str.contains(\"경기도권\")==True]=\"지방사립대\""
   ]
  },
  {
   "cell_type": "code",
   "execution_count": 1357,
   "metadata": {},
   "outputs": [],
   "source": [
    "first[first.str.contains(\"지방4\")==True]=\"지방사립대\""
   ]
  },
  {
   "cell_type": "code",
   "execution_count": 1358,
   "metadata": {},
   "outputs": [],
   "source": [
    "first[first.str.contains(\"지방국립공\")==True]=\"지방국립대\""
   ]
  },
  {
   "cell_type": "code",
   "execution_count": 1359,
   "metadata": {},
   "outputs": [],
   "source": [
    "first[first.str.contains(\"^국립대\")==True]=\"지방국립대\""
   ]
  },
  {
   "cell_type": "code",
   "execution_count": 1360,
   "metadata": {},
   "outputs": [],
   "source": [
    "first[first.str.contains(\"숙대\")==True]=\"서울사립대(숙명여자대학교)\""
   ]
  },
  {
   "cell_type": "code",
   "execution_count": 1361,
   "metadata": {},
   "outputs": [],
   "source": [
    "first[first.str.contains(\"서울하\")==True]=\"서울사립대\""
   ]
  },
  {
   "cell_type": "code",
   "execution_count": 1362,
   "metadata": {},
   "outputs": [],
   "source": [
    "first[first.str.contains(\"서울소재\")==True]=\"서울사립대\""
   ]
  },
  {
   "cell_type": "code",
   "execution_count": 1363,
   "metadata": {},
   "outputs": [],
   "source": [
    "first[first.str.contains(\"뉴\")==True]=\"해외대(미국)\""
   ]
  },
  {
   "cell_type": "code",
   "execution_count": 1364,
   "metadata": {},
   "outputs": [],
   "source": [
    "first[first.str.contains(\"한서\")==True]=\"지방사립대(한서대학교)\""
   ]
  },
  {
   "cell_type": "code",
   "execution_count": 1365,
   "metadata": {},
   "outputs": [],
   "source": [
    "first[first.str.contains(\"한국산업기술\")==True]=\"지방사립대(한국산업기술대학교)\""
   ]
  },
  {
   "cell_type": "code",
   "execution_count": 1366,
   "metadata": {},
   "outputs": [],
   "source": [
    "first[first.str.contains(\"사립대학교\")==True]=\"지방사립대\""
   ]
  },
  {
   "cell_type": "code",
   "execution_count": 1367,
   "metadata": {},
   "outputs": [],
   "source": [
    "first[first.str.contains(\"카이스트\")==True]=\"KAIST\""
   ]
  },
  {
   "cell_type": "code",
   "execution_count": 1368,
   "metadata": {},
   "outputs": [],
   "source": [
    "first[first.str.contains(\"경남과학기술대학교\")==True]=\"지방국립대(경남과학기술대학교)\""
   ]
  },
  {
   "cell_type": "code",
   "execution_count": 1369,
   "metadata": {},
   "outputs": [],
   "source": [
    "first[first.str.contains(\"지방거점국립대학\")==True]=\"지방거점국립대\""
   ]
  },
  {
   "cell_type": "code",
   "execution_count": 1370,
   "metadata": {},
   "outputs": [],
   "source": [
    "first[first.str.contains(\"서홍국\")==True]=\"서울사립대(홍익대학교)\""
   ]
  },
  {
   "cell_type": "code",
   "execution_count": 1371,
   "metadata": {},
   "outputs": [],
   "source": [
    "first[first.str.contains(\"한기대\")==True]=\"지방사립대(한국기술교육대학교)\""
   ]
  },
  {
   "cell_type": "code",
   "execution_count": 1372,
   "metadata": {},
   "outputs": [],
   "source": [
    "first[first.str.contains(\"중견\")==True]=\"서울사립대\""
   ]
  },
  {
   "cell_type": "code",
   "execution_count": 1373,
   "metadata": {},
   "outputs": [],
   "source": [
    "first[first.str.contains(\"경원대\")==True]=\"지방사립대(가천대학교)\""
   ]
  },
  {
   "cell_type": "code",
   "execution_count": 1374,
   "metadata": {},
   "outputs": [],
   "source": [
    "first[first.str.contains(\"목원\")==True]=\"지방사립대(목원대학교)\""
   ]
  },
  {
   "cell_type": "code",
   "execution_count": 1375,
   "metadata": {},
   "outputs": [],
   "source": [
    "first[first.str.contains(\"c대\")==True]=\"서울사립대(중앙대학교)\""
   ]
  },
  {
   "cell_type": "code",
   "execution_count": 1376,
   "metadata": {},
   "outputs": [],
   "source": [
    "first[first.str.contains(\"울산과학\")==True]=\"UNIST\""
   ]
  },
  {
   "cell_type": "code",
   "execution_count": 1377,
   "metadata": {},
   "outputs": [],
   "source": [
    "first[first.str.contains(\"캠퍼스\")==True]=\"지방사립대\""
   ]
  },
  {
   "cell_type": "code",
   "execution_count": 1378,
   "metadata": {},
   "outputs": [],
   "source": [
    "first[first.str.contains(\"북경항공\")==True]=\"해외대(중국)\""
   ]
  },
  {
   "cell_type": "code",
   "execution_count": 1379,
   "metadata": {},
   "outputs": [],
   "source": [
    "first[first.str.contains(\"북경\")==True]=\"해외대(중국)\""
   ]
  },
  {
   "cell_type": "code",
   "execution_count": 1380,
   "metadata": {},
   "outputs": [],
   "source": [
    "first[first.str.contains(\"서울사립대\\(중앙대하굑\\)\")==True]=\"서울사립대(중앙대학교)\""
   ]
  },
  {
   "cell_type": "code",
   "execution_count": 1381,
   "metadata": {},
   "outputs": [],
   "source": [
    "first[first.str.contains(\"중,\")==True]=\"서울사립대(경희대학교)\""
   ]
  },
  {
   "cell_type": "code",
   "execution_count": 1382,
   "metadata": {},
   "outputs": [],
   "source": [
    "first[first.str.contains(\"강남대학교\")==True]=\"지방사립대(강남대학교)\""
   ]
  },
  {
   "cell_type": "code",
   "execution_count": 1383,
   "metadata": {},
   "outputs": [],
   "source": [
    "first[first.str.contains(\"홍대\")==True]=\"서울사립대(홍익대학교)\""
   ]
  },
  {
   "cell_type": "code",
   "execution_count": 1384,
   "metadata": {},
   "outputs": [],
   "source": [
    "first[first.str.contains(\"에리카\")==True]=\"지방사립대(한양대에리카)\""
   ]
  },
  {
   "cell_type": "code",
   "execution_count": 1385,
   "metadata": {},
   "outputs": [],
   "source": [
    "first[first.str.contains(\"교대\")==True]=\"서울국립대(서울교육대학교)\""
   ]
  },
  {
   "cell_type": "code",
   "execution_count": 1386,
   "metadata": {},
   "outputs": [],
   "source": [
    "first[first.str.contains(\"중아인\")==True]=\"서울사립대(아주대학교)\""
   ]
  },
  {
   "cell_type": "code",
   "execution_count": 1387,
   "metadata": {},
   "outputs": [],
   "source": [
    "first[first.str.contains(\"국외대\")==True]=\"해외대\""
   ]
  },
  {
   "cell_type": "code",
   "execution_count": 1388,
   "metadata": {},
   "outputs": [],
   "source": [
    "first[first.str.contains(\"I대\")==True]=\"지방사립대(인하대학교)\""
   ]
  },
  {
   "cell_type": "code",
   "execution_count": 1389,
   "metadata": {},
   "outputs": [],
   "source": [
    "first[first.str.contains(\"경기사립\")==True]=\"지방사립대\""
   ]
  },
  {
   "cell_type": "code",
   "execution_count": 1390,
   "metadata": {},
   "outputs": [],
   "source": [
    "first[first.str.contains(\"지방거주\")==True]=\"지방사립대\""
   ]
  },
  {
   "cell_type": "code",
   "execution_count": 1391,
   "metadata": {},
   "outputs": [],
   "source": [
    "first[first.str.contains(\"초대졸\")==True]=\"전문대\""
   ]
  },
  {
   "cell_type": "code",
   "execution_count": 1392,
   "metadata": {},
   "outputs": [],
   "source": [
    "first[first.str.contains(\"지국대\")==True]=\"지방국립대\""
   ]
  },
  {
   "cell_type": "code",
   "execution_count": 1393,
   "metadata": {},
   "outputs": [],
   "source": [
    "first[first.str.contains(\"^가톨릭\")==True]=\"서울사립대(가톨릭대학교)\""
   ]
  },
  {
   "cell_type": "code",
   "execution_count": 1394,
   "metadata": {},
   "outputs": [],
   "source": [
    "first[first.str.contains(\"IST\")==True]=\"과학기술원\""
   ]
  },
  {
   "cell_type": "code",
   "execution_count": 1395,
   "metadata": {},
   "outputs": [],
   "source": [
    "first[first.str.contains(\"포항\")==True]=\"과학기술원\""
   ]
  },
  {
   "cell_type": "code",
   "execution_count": 1397,
   "metadata": {},
   "outputs": [],
   "source": [
    "df.at[first[first.str.contains(\"교내\")==True].index,[\"경험사항\"]]=first[first.str.contains(\"교내\")==True]"
   ]
  },
  {
   "cell_type": "code",
   "execution_count": 1398,
   "metadata": {},
   "outputs": [],
   "source": [
    "first[first.str.contains(\"교내\")==True]=\"\""
   ]
  },
  {
   "cell_type": "code",
   "execution_count": 1399,
   "metadata": {},
   "outputs": [],
   "source": [
    "first[first.str.contains(\"전기\")==True]=\"전자전기공학과\""
   ]
  },
  {
   "cell_type": "code",
   "execution_count": 1400,
   "metadata": {},
   "outputs": [],
   "source": [
    "df.at[first[first.str.contains(\"전자전기공학과\")==True].index,[\"학과\"]]=first[first.str.contains(\"전자전기공학과\")==True]"
   ]
  },
  {
   "cell_type": "code",
   "execution_count": 1401,
   "metadata": {},
   "outputs": [],
   "source": [
    "first[first.str.contains(\"전자전기공학과\")==True]=\"\""
   ]
  },
  {
   "cell_type": "code",
   "execution_count": 1402,
   "metadata": {},
   "outputs": [],
   "source": [
    "first[first.str.contains(\"전자공\")==True]=\"전자공학과\""
   ]
  },
  {
   "cell_type": "code",
   "execution_count": 1403,
   "metadata": {},
   "outputs": [],
   "source": [
    "first[first.str.contains(\"^전자\")==True]=\"전자공학과\""
   ]
  },
  {
   "cell_type": "code",
   "execution_count": 1404,
   "metadata": {
    "scrolled": true
   },
   "outputs": [],
   "source": [
    "df.at[first[first.str.contains(\"LG\")==True].index,[\"경험사항\"]]=first[first.str.contains(\"LG\")==True]"
   ]
  },
  {
   "cell_type": "code",
   "execution_count": 1405,
   "metadata": {},
   "outputs": [],
   "source": [
    "df.at[first[first.str.contains(\"전자공학과\")==True].index,[\"학과\"]]=first[first.str.contains(\"전자공학과\")==True]"
   ]
  },
  {
   "cell_type": "code",
   "execution_count": 1406,
   "metadata": {},
   "outputs": [],
   "source": [
    "first[first.str.contains(\"LG\")==True]=\"\""
   ]
  },
  {
   "cell_type": "code",
   "execution_count": 1407,
   "metadata": {},
   "outputs": [],
   "source": [
    "first[first.str.contains(\"전자공학과\")==True]=\"\""
   ]
  },
  {
   "cell_type": "code",
   "execution_count": 1408,
   "metadata": {},
   "outputs": [],
   "source": [
    "first[first.str.contains(\"디자인\")==True]=\"산업디자인학과\""
   ]
  },
  {
   "cell_type": "code",
   "execution_count": 1409,
   "metadata": {},
   "outputs": [],
   "source": [
    "df.at[first[first.str.contains(\"산업디자인학과\")==True].index,[\"학과\"]]=first[first.str.contains(\"산업디자인학과\")==True]"
   ]
  },
  {
   "cell_type": "code",
   "execution_count": 1410,
   "metadata": {},
   "outputs": [],
   "source": [
    "first[first.str.contains(\"산업디자인\")==True]=\"\""
   ]
  },
  {
   "cell_type": "code",
   "execution_count": 1411,
   "metadata": {},
   "outputs": [],
   "source": [
    "first[first.str.contains(\"컴퓨터\")==True]=\"컴퓨터공학과\""
   ]
  },
  {
   "cell_type": "code",
   "execution_count": 1412,
   "metadata": {},
   "outputs": [],
   "source": [
    "df.at[first[first.str.contains(\"컴퓨터\")==True].index,[\"학과\"]]=first[first.str.contains(\"컴퓨터\")==True]"
   ]
  },
  {
   "cell_type": "code",
   "execution_count": 1413,
   "metadata": {},
   "outputs": [],
   "source": [
    "first[first.str.contains(\"컴퓨터\")==True]=\"\""
   ]
  },
  {
   "cell_type": "code",
   "execution_count": 1414,
   "metadata": {},
   "outputs": [],
   "source": [
    "df.at[first[first.str.contains(\"학과\")==True].index,[\"학과\"]]=first[first.str.contains(\"학과\")==True]"
   ]
  },
  {
   "cell_type": "code",
   "execution_count": 1415,
   "metadata": {},
   "outputs": [],
   "source": [
    "first[first.str.contains(\"학과\")==True]=\"\""
   ]
  },
  {
   "cell_type": "code",
   "execution_count": 1416,
   "metadata": {},
   "outputs": [],
   "source": [
    "first[first.str.contains(\"컴\")==True]=\"컴퓨터공학과\""
   ]
  },
  {
   "cell_type": "code",
   "execution_count": 1417,
   "metadata": {},
   "outputs": [],
   "source": [
    "df.at[first[first.str.contains(\"컴퓨터공학과\")==True].index,[\"학과\"]]=first[first.str.contains(\"컴퓨터공학과\")==True]"
   ]
  },
  {
   "cell_type": "code",
   "execution_count": 1418,
   "metadata": {},
   "outputs": [],
   "source": [
    "first[first.str.contains(\"컴퓨터공학\")==True]=\"\""
   ]
  },
  {
   "cell_type": "code",
   "execution_count": 1419,
   "metadata": {},
   "outputs": [],
   "source": [
    "first[first.str.contains(\"경기도 대학\")==True]=\"지방사립대\""
   ]
  },
  {
   "cell_type": "code",
   "execution_count": 1420,
   "metadata": {},
   "outputs": [],
   "source": [
    "first[first.str.contains(\"정보통신공학\")==True]=\"정보통신공학과\""
   ]
  },
  {
   "cell_type": "code",
   "execution_count": 1421,
   "metadata": {},
   "outputs": [],
   "source": [
    "df.at[first[first.str.contains(\"정보통신공학과\")==True].index,[\"학과\"]]=first[first.str.contains(\"정보통신공학과\")==True]"
   ]
  },
  {
   "cell_type": "code",
   "execution_count": 1422,
   "metadata": {},
   "outputs": [],
   "source": [
    "first[first.str.contains(\"정보통신공학과\")==True]=\"\""
   ]
  },
  {
   "cell_type": "code",
   "execution_count": 1423,
   "metadata": {},
   "outputs": [],
   "source": [
    "first[first.str.contains(\"화학공\")==True]=\"화학공학과\""
   ]
  },
  {
   "cell_type": "code",
   "execution_count": 1424,
   "metadata": {},
   "outputs": [],
   "source": [
    "df.at[first[first.str.contains(\"화학공학과\")==True].index,[\"학과\"]]=first[first.str.contains(\"화학공학과\")==True]"
   ]
  },
  {
   "cell_type": "code",
   "execution_count": 1425,
   "metadata": {},
   "outputs": [],
   "source": [
    "first[first.str.contains(\"화학\")==True]=\"화학과\""
   ]
  },
  {
   "cell_type": "code",
   "execution_count": 1426,
   "metadata": {},
   "outputs": [],
   "source": [
    "df.at[first[first.str.contains(\"화학과\")==True].index,[\"학과\"]]=first[first.str.contains(\"화학과\")==True]"
   ]
  },
  {
   "cell_type": "code",
   "execution_count": 1427,
   "metadata": {},
   "outputs": [],
   "source": [
    "first[first.str.contains(\"화학\")==True]=\"\""
   ]
  },
  {
   "cell_type": "code",
   "execution_count": 1428,
   "metadata": {},
   "outputs": [],
   "source": [
    "first[first.str.contains(\"산업공학\")==True]=\"산업공학과\""
   ]
  },
  {
   "cell_type": "code",
   "execution_count": 1429,
   "metadata": {},
   "outputs": [],
   "source": [
    "df.at[first[first.str.contains(\"산업공학과\")==True].index,[\"학과\"]]=first[first.str.contains(\"산업공학과\")==True]"
   ]
  },
  {
   "cell_type": "code",
   "execution_count": 1430,
   "metadata": {},
   "outputs": [],
   "source": [
    "first[first.str.contains(\"산업공학\")==True]=\"\""
   ]
  },
  {
   "cell_type": "code",
   "execution_count": 1431,
   "metadata": {},
   "outputs": [],
   "source": [
    "first[first.str.contains(\"고분자공학\")==True]=\"고분자공학과\""
   ]
  },
  {
   "cell_type": "code",
   "execution_count": 1432,
   "metadata": {},
   "outputs": [],
   "source": [
    "df.at[first[first.str.contains(\"고분자공학과\")==True].index,[\"학과\"]]=first[first.str.contains(\"고분자공학과\")==True]"
   ]
  },
  {
   "cell_type": "code",
   "execution_count": 1433,
   "metadata": {},
   "outputs": [],
   "source": [
    "first[first.str.contains(\"고분자공학\")==True]=\"\""
   ]
  },
  {
   "cell_type": "code",
   "execution_count": 1434,
   "metadata": {},
   "outputs": [],
   "source": [
    "first[first.str.contains(\"환경공학\")==True]=\"환경공학과\""
   ]
  },
  {
   "cell_type": "code",
   "execution_count": 1435,
   "metadata": {},
   "outputs": [],
   "source": [
    "df.at[first[first.str.contains(\"환경공학과\")==True].index,[\"학과\"]]=first[first.str.contains(\"환경공학과\")==True]"
   ]
  },
  {
   "cell_type": "code",
   "execution_count": 1436,
   "metadata": {},
   "outputs": [],
   "source": [
    "first[first.str.contains(\"환경공학\")==True]=\"\""
   ]
  },
  {
   "cell_type": "code",
   "execution_count": 1437,
   "metadata": {},
   "outputs": [],
   "source": [
    "first[first.str.contains(\"환경\")==True]=\"토목환경공학과\""
   ]
  },
  {
   "cell_type": "code",
   "execution_count": 1438,
   "metadata": {},
   "outputs": [],
   "source": [
    "df.at[first[first.str.contains(\"토목환경공학과\")==True].index,[\"학과\"]]=first[first.str.contains(\"토목환경공학과\")==True]"
   ]
  },
  {
   "cell_type": "code",
   "execution_count": 1439,
   "metadata": {},
   "outputs": [],
   "source": [
    "first[first.str.contains(\"토목환경공학\")==True]=\"\""
   ]
  },
  {
   "cell_type": "code",
   "execution_count": 1440,
   "metadata": {},
   "outputs": [],
   "source": [
    "first[first.str.contains(\"신소재\")==True]=\"신소재공학과\""
   ]
  },
  {
   "cell_type": "code",
   "execution_count": 1441,
   "metadata": {},
   "outputs": [],
   "source": [
    "df.at[first[first.str.contains(\"신소재공학과\")==True].index,[\"학과\"]]=first[first.str.contains(\"신소재공학과\")==True]"
   ]
  },
  {
   "cell_type": "code",
   "execution_count": 1442,
   "metadata": {},
   "outputs": [],
   "source": [
    "first[first.str.contains(\"신소재\")==True]=\"\""
   ]
  },
  {
   "cell_type": "code",
   "execution_count": 1443,
   "metadata": {},
   "outputs": [],
   "source": [
    "first[first.str.contains(\"경제\")==True]=\"경제학과\""
   ]
  },
  {
   "cell_type": "code",
   "execution_count": 1444,
   "metadata": {},
   "outputs": [],
   "source": [
    "df.at[first[first.str.contains(\"경제\")==True].index,[\"학과\"]]=first[first.str.contains(\"경제\")==True]"
   ]
  },
  {
   "cell_type": "code",
   "execution_count": 1445,
   "metadata": {},
   "outputs": [],
   "source": [
    "first[first.str.contains(\"경제학\")==True]=\"\""
   ]
  },
  {
   "cell_type": "code",
   "execution_count": 1446,
   "metadata": {},
   "outputs": [],
   "source": [
    "first[first.str.contains(\"^공과대학\")==True]=\"공학계열학과\""
   ]
  },
  {
   "cell_type": "code",
   "execution_count": 1447,
   "metadata": {},
   "outputs": [],
   "source": [
    "df.at[first[first.str.contains(\"공학계열학과\")==True].index,[\"학과\"]]=first[first.str.contains(\"공학계열학과\")==True]"
   ]
  },
  {
   "cell_type": "code",
   "execution_count": 1448,
   "metadata": {},
   "outputs": [],
   "source": [
    "first[first.str.contains(\"공학계열학과\")==True]=\"\""
   ]
  },
  {
   "cell_type": "code",
   "execution_count": 1449,
   "metadata": {},
   "outputs": [],
   "source": [
    "first[first.str.contains(\"자연\")==True]=\"자연과학학과\""
   ]
  },
  {
   "cell_type": "code",
   "execution_count": 1450,
   "metadata": {},
   "outputs": [],
   "source": [
    "df.at[first[first.str.contains(\"자연과학학과\")==True].index,[\"학과\"]]=first[first.str.contains(\"자연과학학과\")==True]"
   ]
  },
  {
   "cell_type": "code",
   "execution_count": 1451,
   "metadata": {},
   "outputs": [],
   "source": [
    "first[first.str.contains(\"자연\")==True]=\"\""
   ]
  },
  {
   "cell_type": "code",
   "execution_count": 1452,
   "metadata": {},
   "outputs": [],
   "source": [
    "first[first.str.contains(\"홍익대 \")==True]=\"서울사립대(홍익대학교)\""
   ]
  },
  {
   "cell_type": "code",
   "execution_count": 1453,
   "metadata": {},
   "outputs": [],
   "source": [
    "first[first.str.contains(\"부산 지잡\")==True]=\"지방사립대\""
   ]
  },
  {
   "cell_type": "code",
   "execution_count": 1454,
   "metadata": {},
   "outputs": [],
   "source": [
    "df.at[first[first.str.contains(\"토익\")==True].index,[\"어학\"]]=first[first.str.contains(\"토익\")==True]"
   ]
  },
  {
   "cell_type": "code",
   "execution_count": 1455,
   "metadata": {},
   "outputs": [],
   "source": [
    "first[first.str.contains(\"토익\")==True]=\"\""
   ]
  },
  {
   "cell_type": "code",
   "execution_count": 1456,
   "metadata": {},
   "outputs": [],
   "source": [
    "first[first.str.contains(\"it\")==True]=\"컴퓨터공학과\""
   ]
  },
  {
   "cell_type": "code",
   "execution_count": 1457,
   "metadata": {},
   "outputs": [],
   "source": [
    "first[first.str.contains(\"IT\")==True]=\"컴퓨터공학과\""
   ]
  },
  {
   "cell_type": "code",
   "execution_count": 1458,
   "metadata": {},
   "outputs": [],
   "source": [
    "df.at[first[first.str.contains(\"컴퓨터공학과\")==True].index,[\"학과\"]]=first[first.str.contains(\"컴퓨터공학과\")==True]"
   ]
  },
  {
   "cell_type": "code",
   "execution_count": 1459,
   "metadata": {},
   "outputs": [],
   "source": [
    "first[first.str.contains(\"컴퓨터\")==True]=\"\""
   ]
  },
  {
   "cell_type": "code",
   "execution_count": 1460,
   "metadata": {},
   "outputs": [],
   "source": [
    "df.at[first[first.str.contains(\"인턴\")==True].index,[\"경험사항\"]]=first[first.str.contains(\"인턴\")==True]"
   ]
  },
  {
   "cell_type": "code",
   "execution_count": 1461,
   "metadata": {},
   "outputs": [],
   "source": [
    "first[first.str.contains(\"인턴\")==True]=\"\""
   ]
  },
  {
   "cell_type": "code",
   "execution_count": 1462,
   "metadata": {},
   "outputs": [],
   "source": [
    "first[first.str.contains(\"^인천\")==True]=\"지방사립대\""
   ]
  },
  {
   "cell_type": "code",
   "execution_count": 1463,
   "metadata": {},
   "outputs": [],
   "source": [
    "first[first.str.contains(\"^인\")==True]=\"지방사립대\""
   ]
  },
  {
   "cell_type": "code",
   "execution_count": 1464,
   "metadata": {},
   "outputs": [],
   "source": [
    "first[first.str.contains(\"^성대\")==True]=\"서울사립대(성균관대학교)\""
   ]
  },
  {
   "cell_type": "code",
   "execution_count": 1465,
   "metadata": {},
   "outputs": [],
   "source": [
    "first[first.str.contains(\"동물\")==True]=\"동물자원학과\""
   ]
  },
  {
   "cell_type": "code",
   "execution_count": 1466,
   "metadata": {},
   "outputs": [],
   "source": [
    "df.at[first[first.str.contains(\"동물자원학과\")==True].index,[\"학과\"]]=first[first.str.contains(\"동물자원학과\")==True]"
   ]
  },
  {
   "cell_type": "code",
   "execution_count": 1467,
   "metadata": {},
   "outputs": [],
   "source": [
    "first[first.str.contains(\"동물자원학과\")==True]=\"\""
   ]
  },
  {
   "cell_type": "code",
   "execution_count": 1469,
   "metadata": {},
   "outputs": [],
   "source": [
    "df.at[first[first.str.contains(\"토\")==True].index,[\"어학\"]]=first[first.str.contains(\"토\")==True]"
   ]
  },
  {
   "cell_type": "code",
   "execution_count": 1470,
   "metadata": {},
   "outputs": [],
   "source": [
    "first[first.str.contains(\"토\")==True]=\"\""
   ]
  },
  {
   "cell_type": "code",
   "execution_count": 1471,
   "metadata": {},
   "outputs": [],
   "source": [
    "first[first.str.contains(\"영어\")==True]=\"영어영문학과\""
   ]
  },
  {
   "cell_type": "code",
   "execution_count": 1472,
   "metadata": {},
   "outputs": [],
   "source": [
    "df.at[first[first.str.contains(\"영어영문학과\")==True].index,[\"학과\"]]=first[first.str.contains(\"영어영문학과\")==True]"
   ]
  },
  {
   "cell_type": "code",
   "execution_count": 1473,
   "metadata": {},
   "outputs": [],
   "source": [
    "first[first.str.contains(\"영어영문학과\")==True]=\"\""
   ]
  },
  {
   "cell_type": "code",
   "execution_count": 1474,
   "metadata": {},
   "outputs": [],
   "source": [
    "first[first.str.contains(\"설포\")==True]=\"과학기술원\""
   ]
  },
  {
   "cell_type": "code",
   "execution_count": 1476,
   "metadata": {},
   "outputs": [],
   "source": [
    "first[first.str.contains(\"^중\")==True]=\"서울사립대(중앙대학교)\""
   ]
  },
  {
   "cell_type": "code",
   "execution_count": 1477,
   "metadata": {},
   "outputs": [],
   "source": [
    "first[first.str.contains(\"산공\")==True]=\"산업공학과\""
   ]
  },
  {
   "cell_type": "code",
   "execution_count": 1478,
   "metadata": {},
   "outputs": [],
   "source": [
    "df.at[first[first.str.contains(\"산업공학과\")==True].index,[\"학과\"]]=first[first.str.contains(\"산업공학과\")==True]"
   ]
  },
  {
   "cell_type": "code",
   "execution_count": 1479,
   "metadata": {},
   "outputs": [],
   "source": [
    "first[first.str.contains(\"산업공\")==True]=\"\""
   ]
  },
  {
   "cell_type": "code",
   "execution_count": 1480,
   "metadata": {},
   "outputs": [],
   "source": [
    "first[first.str.contains(\"정보\")==True]=\"정보통신공학과\""
   ]
  },
  {
   "cell_type": "code",
   "execution_count": 1481,
   "metadata": {},
   "outputs": [],
   "source": [
    "df.at[first[first.str.contains(\"정보통신\")==True].index,[\"학과\"]]=first[first.str.contains(\"정보통신\")==True]"
   ]
  },
  {
   "cell_type": "code",
   "execution_count": 1482,
   "metadata": {},
   "outputs": [],
   "source": [
    "first[first.str.contains(\"정보\")==True]=\"\""
   ]
  },
  {
   "cell_type": "code",
   "execution_count": 1483,
   "metadata": {},
   "outputs": [],
   "source": [
    "first[first.str.contains(\"^K\")==True]=\"서울사립대(고려대학교)\""
   ]
  },
  {
   "cell_type": "code",
   "execution_count": 1485,
   "metadata": {},
   "outputs": [],
   "source": [
    "first[first.str.contains(\"^통\")==True]=\"통계학과\""
   ]
  },
  {
   "cell_type": "code",
   "execution_count": 1486,
   "metadata": {},
   "outputs": [],
   "source": [
    "df.at[first[first.str.contains(\"통계학과\")==True].index,[\"학과\"]]=first[first.str.contains(\"통계학과\")==True]"
   ]
  },
  {
   "cell_type": "code",
   "execution_count": 1487,
   "metadata": {},
   "outputs": [],
   "source": [
    "first[first.str.contains(\"통계\")==True]=\"\""
   ]
  },
  {
   "cell_type": "code",
   "execution_count": 1488,
   "metadata": {},
   "outputs": [],
   "source": [
    "first[first.str.contains(\"^경기도\")==True]=\"지방사립대\""
   ]
  },
  {
   "cell_type": "code",
   "execution_count": 1489,
   "metadata": {},
   "outputs": [],
   "source": [
    "first[first.str.contains(\"자동\")==True]=\"자동차공학과\""
   ]
  },
  {
   "cell_type": "code",
   "execution_count": 1490,
   "metadata": {},
   "outputs": [],
   "source": [
    "df.at[first[first.str.contains(\"자동차공학과\")==True].index,[\"학과\"]]=first[first.str.contains(\"자동차공학과\")==True]"
   ]
  },
  {
   "cell_type": "code",
   "execution_count": 1491,
   "metadata": {},
   "outputs": [],
   "source": [
    "first[first.str.contains(\"자동\")==True]=\"\""
   ]
  },
  {
   "cell_type": "code",
   "execution_count": 1492,
   "metadata": {},
   "outputs": [],
   "source": [
    "first[first.str.contains(\"서울사립 \")==True]=\"서울사립대\""
   ]
  },
  {
   "cell_type": "code",
   "execution_count": 1493,
   "metadata": {},
   "outputs": [],
   "source": [
    "first[first.str.contains(\"서카\")==True]=\"과학기술원\""
   ]
  },
  {
   "cell_type": "code",
   "execution_count": 1494,
   "metadata": {},
   "outputs": [],
   "source": [
    "first[first.str.contains(\"한동\")==True]=\"지방사립대(한동대학교)\""
   ]
  },
  {
   "cell_type": "code",
   "execution_count": 1497,
   "metadata": {},
   "outputs": [],
   "source": [
    "df.at[first[first.str.contains(\"서울사립\")==True].index,[\"학교\"]]=first[first.str.contains(\"서울사립\")==True]"
   ]
  },
  {
   "cell_type": "code",
   "execution_count": 1501,
   "metadata": {},
   "outputs": [],
   "source": [
    "first[first.str.contains(\"서울\")==True]=\"\""
   ]
  },
  {
   "cell_type": "code",
   "execution_count": 1500,
   "metadata": {},
   "outputs": [],
   "source": [
    "df.at[first[first.str.contains(\"서울\")==True].index,[\"학교\"]]=first[first.str.contains(\"서울\")==True]"
   ]
  },
  {
   "cell_type": "code",
   "execution_count": 1503,
   "metadata": {},
   "outputs": [],
   "source": [
    "df.at[first[first.str.contains(\"지방\")==True].index,[\"학교\"]]=first[first.str.contains(\"지방\")==True]"
   ]
  },
  {
   "cell_type": "code",
   "execution_count": 1517,
   "metadata": {},
   "outputs": [],
   "source": [
    "df.at[first[first.str.contains(\"고\")==True].index,[\"학교\"]]=first[first.str.contains(\"고\")==True]"
   ]
  },
  {
   "cell_type": "code",
   "execution_count": 1518,
   "metadata": {},
   "outputs": [],
   "source": [
    "first[first.str.contains(\"고\")==True]=\"\""
   ]
  }
 ],
 "metadata": {
  "kernelspec": {
   "display_name": "Python 3",
   "language": "python",
   "name": "python3"
  },
  "language_info": {
   "codemirror_mode": {
    "name": "ipython",
    "version": 3
   },
   "file_extension": ".py",
   "mimetype": "text/x-python",
   "name": "python",
   "nbconvert_exporter": "python",
   "pygments_lexer": "ipython3",
   "version": "3.7.6"
  }
 },
 "nbformat": 4,
 "nbformat_minor": 4
}
