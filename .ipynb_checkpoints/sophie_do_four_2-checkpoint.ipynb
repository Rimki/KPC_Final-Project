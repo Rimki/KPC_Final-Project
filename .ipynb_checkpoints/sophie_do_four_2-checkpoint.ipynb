{
 "cells": [
  {
   "cell_type": "code",
   "execution_count": 1,
   "metadata": {},
   "outputs": [],
   "source": [
    "import pandas as pd\n",
    "import io"
   ]
  },
  {
   "cell_type": "code",
   "execution_count": 2,
   "metadata": {},
   "outputs": [],
   "source": [
    "raw_df=pd.read_csv(\"WriteData.csv\")"
   ]
  },
  {
   "cell_type": "code",
   "execution_count": 3,
   "metadata": {
    "scrolled": true
   },
   "outputs": [
    {
     "data": {
      "text/html": [
       "<div>\n",
       "<style scoped>\n",
       "    .dataframe tbody tr th:only-of-type {\n",
       "        vertical-align: middle;\n",
       "    }\n",
       "\n",
       "    .dataframe tbody tr th {\n",
       "        vertical-align: top;\n",
       "    }\n",
       "\n",
       "    .dataframe thead th {\n",
       "        text-align: right;\n",
       "    }\n",
       "</style>\n",
       "<table border=\"1\" class=\"dataframe\">\n",
       "  <thead>\n",
       "    <tr style=\"text-align: right;\">\n",
       "      <th></th>\n",
       "      <th>1</th>\n",
       "      <th>2</th>\n",
       "      <th>3</th>\n",
       "    </tr>\n",
       "  </thead>\n",
       "  <tbody>\n",
       "    <tr>\n",
       "      <th>0</th>\n",
       "      <td>한국석유공사 / 설비 / 2020 상반기</td>\n",
       "      <td>광주전자공업고등학교 / 학점 1.7등급 / 인천 글로벌 숙련 진흥원 5일, 선반, ...</td>\n",
       "      <td>7.한국석유공사\\n\\n 1. 지원 분야 직무기술서 ‘직무수행 내용’ 중 본인이 가장...</td>\n",
       "    </tr>\n",
       "    <tr>\n",
       "      <th>1</th>\n",
       "      <td>CJ제일제당 / Food Sales / 2020 상반기</td>\n",
       "      <td>중경외시 / 상경계열 / 학점 3.92 / 토익 905, 토스 LV 6 / 봉사활동...</td>\n",
       "      <td>CJ제일제당 및 선택한 직무에 대한 지원동기는 무엇인가요? ① 선택한 직무에 관심을...</td>\n",
       "    </tr>\n",
       "    <tr>\n",
       "      <th>2</th>\n",
       "      <td>한국가스안전공사 / LP가스 안전지킴이사업 / 2020 상반기</td>\n",
       "      <td>제주대학교 / 학점 3.3 / 토익830 / 컴퓨터활용능력1급, 한국사1급</td>\n",
       "      <td>\\n1. 한국가스안전공사가 진행하는 사업에 관심을 갖고 공사에 지원한 동기에 대해 ...</td>\n",
       "    </tr>\n",
       "    <tr>\n",
       "      <th>3</th>\n",
       "      <td>코레일 / 사무영업 / 2020 상반기</td>\n",
       "      <td>충남대학교 / 학점 3.87 / 토익 835 / 토론동아리 3년, 컴활1급, 한국사1급</td>\n",
       "      <td>1.공동체의 일원으로서 가장 중요하게 생각하는 가치를 제시하고, 그 가치를 실천했던...</td>\n",
       "    </tr>\n",
       "    <tr>\n",
       "      <th>4</th>\n",
       "      <td>한국기술교육대학교 / 행정 / 2020 상반기</td>\n",
       "      <td>건국대학교 / 학점 4.0 / 토익 780 / 컴활 1급, 한국사1급</td>\n",
       "      <td>1. 본인이 가진 가장 뛰어난 점과 그렇게 판단한 이유, 고용노동연수원 업무수행에서...</td>\n",
       "    </tr>\n",
       "    <tr>\n",
       "      <th>...</th>\n",
       "      <td>...</td>\n",
       "      <td>...</td>\n",
       "      <td>...</td>\n",
       "    </tr>\n",
       "    <tr>\n",
       "      <th>10102</th>\n",
       "      <td>현대자동차 / 영업관리 / 2013 상반기</td>\n",
       "      <td>상명대학교 / 국제통상학 / 학점 4.3 / 토익 900, HSK 6급 / 해외인턴...</td>\n",
       "      <td>1. 현대자동차에 지원하게 된 동기 또는 해당 직무에 지원하게 된 동기는 무엇입니까...</td>\n",
       "    </tr>\n",
       "    <tr>\n",
       "      <th>10103</th>\n",
       "      <td>심팩 / 용접관리 / 2013 상반기</td>\n",
       "      <td>지방전문대 / 공업화학 / 학점 3.06</td>\n",
       "      <td>성격소개\\n\\n대부분의 사람들이 평가하는 첫인상은 소심하고 내성적인 성격일것이라 생...</td>\n",
       "    </tr>\n",
       "    <tr>\n",
       "      <th>10104</th>\n",
       "      <td>한국전력 / 인턴[송,배전] / 2013 상반기</td>\n",
       "      <td>지거국 / 전자공학 / 학점 3.7 / 토익 900대 / 음악봉사활동, 멘토링 등</td>\n",
       "      <td>[질문 1] 취업이라는 목표 이외에 인생의 큰 목표를 세운 경험, 그 목표를 실현하...</td>\n",
       "    </tr>\n",
       "    <tr>\n",
       "      <th>10105</th>\n",
       "      <td>한국전력 / 인턴[송,배전] / 2013 상반기</td>\n",
       "      <td>지거국 / 전자공학 / 학점 3.7 / 토익 900 / 음악봉사활동, 멘토링등</td>\n",
       "      <td>한전 자가소개서 양식 500자 12줄 이내\\n\\n[질문 1] 취업이라는 목표 이외에...</td>\n",
       "    </tr>\n",
       "    <tr>\n",
       "      <th>10106</th>\n",
       "      <td>한국전력 / 인턴[송,배전] / 2013 상반기</td>\n",
       "      <td>지거국 / 전자공학 / 학점 3.7 / 토익 900 / 음악봉사활동, 멘토링등</td>\n",
       "      <td>한전 자가소개서 양식 500자 12줄 이내\\n\\n[질문 1] 취업이라는 목표 이외에...</td>\n",
       "    </tr>\n",
       "  </tbody>\n",
       "</table>\n",
       "<p>10107 rows × 3 columns</p>\n",
       "</div>"
      ],
      "text/plain": [
       "                                        1  \\\n",
       "0                  한국석유공사 / 설비 / 2020 상반기   \n",
       "1          CJ제일제당 / Food Sales / 2020 상반기   \n",
       "2      한국가스안전공사 / LP가스 안전지킴이사업 / 2020 상반기   \n",
       "3                   코레일 / 사무영업 / 2020 상반기   \n",
       "4               한국기술교육대학교 / 행정 / 2020 상반기   \n",
       "...                                   ...   \n",
       "10102             현대자동차 / 영업관리 / 2013 상반기   \n",
       "10103                심팩 / 용접관리 / 2013 상반기   \n",
       "10104          한국전력 / 인턴[송,배전] / 2013 상반기   \n",
       "10105          한국전력 / 인턴[송,배전] / 2013 상반기   \n",
       "10106          한국전력 / 인턴[송,배전] / 2013 상반기   \n",
       "\n",
       "                                                       2  \\\n",
       "0      광주전자공업고등학교 / 학점 1.7등급 / 인천 글로벌 숙련 진흥원 5일, 선반, ...   \n",
       "1      중경외시 / 상경계열 / 학점 3.92 / 토익 905, 토스 LV 6 / 봉사활동...   \n",
       "2              제주대학교 / 학점 3.3 / 토익830 / 컴퓨터활용능력1급, 한국사1급   \n",
       "3       충남대학교 / 학점 3.87 / 토익 835 / 토론동아리 3년, 컴활1급, 한국사1급   \n",
       "4                 건국대학교 / 학점 4.0 / 토익 780 / 컴활 1급, 한국사1급   \n",
       "...                                                  ...   \n",
       "10102  상명대학교 / 국제통상학 / 학점 4.3 / 토익 900, HSK 6급 / 해외인턴...   \n",
       "10103                             지방전문대 / 공업화학 / 학점 3.06   \n",
       "10104      지거국 / 전자공학 / 학점 3.7 / 토익 900대 / 음악봉사활동, 멘토링 등   \n",
       "10105        지거국 / 전자공학 / 학점 3.7 / 토익 900 / 음악봉사활동, 멘토링등   \n",
       "10106        지거국 / 전자공학 / 학점 3.7 / 토익 900 / 음악봉사활동, 멘토링등   \n",
       "\n",
       "                                                       3  \n",
       "0      7.한국석유공사\\n\\n 1. 지원 분야 직무기술서 ‘직무수행 내용’ 중 본인이 가장...  \n",
       "1      CJ제일제당 및 선택한 직무에 대한 지원동기는 무엇인가요? ① 선택한 직무에 관심을...  \n",
       "2      \\n1. 한국가스안전공사가 진행하는 사업에 관심을 갖고 공사에 지원한 동기에 대해 ...  \n",
       "3      1.공동체의 일원으로서 가장 중요하게 생각하는 가치를 제시하고, 그 가치를 실천했던...  \n",
       "4      1. 본인이 가진 가장 뛰어난 점과 그렇게 판단한 이유, 고용노동연수원 업무수행에서...  \n",
       "...                                                  ...  \n",
       "10102  1. 현대자동차에 지원하게 된 동기 또는 해당 직무에 지원하게 된 동기는 무엇입니까...  \n",
       "10103  성격소개\\n\\n대부분의 사람들이 평가하는 첫인상은 소심하고 내성적인 성격일것이라 생...  \n",
       "10104  [질문 1] 취업이라는 목표 이외에 인생의 큰 목표를 세운 경험, 그 목표를 실현하...  \n",
       "10105  한전 자가소개서 양식 500자 12줄 이내\\n\\n[질문 1] 취업이라는 목표 이외에...  \n",
       "10106  한전 자가소개서 양식 500자 12줄 이내\\n\\n[질문 1] 취업이라는 목표 이외에...  \n",
       "\n",
       "[10107 rows x 3 columns]"
      ]
     },
     "execution_count": 3,
     "metadata": {},
     "output_type": "execute_result"
    }
   ],
   "source": [
    "raw_df"
   ]
  },
  {
   "cell_type": "code",
   "execution_count": 4,
   "metadata": {},
   "outputs": [],
   "source": [
    "df=pd.read_csv(\"4.csv\")"
   ]
  },
  {
   "cell_type": "code",
   "execution_count": 5,
   "metadata": {},
   "outputs": [],
   "source": [
    "df.drop('Unnamed: 0.1.1.1.1', axis=1, inplace=True) "
   ]
  },
  {
   "cell_type": "code",
   "execution_count": 6,
   "metadata": {},
   "outputs": [],
   "source": [
    "df.to_csv(\"realfin.csv\",encoding=\"utf-8\")"
   ]
  },
  {
   "cell_type": "code",
   "execution_count": 7,
   "metadata": {},
   "outputs": [],
   "source": [
    "four=pd.read_csv(\"sophie20200810.csv\",index_col=0)"
   ]
  },
  {
   "cell_type": "code",
   "execution_count": 8,
   "metadata": {},
   "outputs": [
    {
     "data": {
      "text/html": [
       "<div>\n",
       "<style scoped>\n",
       "    .dataframe tbody tr th:only-of-type {\n",
       "        vertical-align: middle;\n",
       "    }\n",
       "\n",
       "    .dataframe tbody tr th {\n",
       "        vertical-align: top;\n",
       "    }\n",
       "\n",
       "    .dataframe thead th {\n",
       "        text-align: right;\n",
       "    }\n",
       "</style>\n",
       "<table border=\"1\" class=\"dataframe\">\n",
       "  <thead>\n",
       "    <tr style=\"text-align: right;\">\n",
       "      <th></th>\n",
       "      <th>3</th>\n",
       "    </tr>\n",
       "  </thead>\n",
       "  <tbody>\n",
       "    <tr>\n",
       "      <th>0</th>\n",
       "      <td>NaN</td>\n",
       "    </tr>\n",
       "    <tr>\n",
       "      <th>1</th>\n",
       "      <td>NaN</td>\n",
       "    </tr>\n",
       "    <tr>\n",
       "      <th>2</th>\n",
       "      <td>컴퓨터활용능력1급, 한국사1급</td>\n",
       "    </tr>\n",
       "    <tr>\n",
       "      <th>3</th>\n",
       "      <td>토론동아리 3년, 컴활1급, 한국사1급</td>\n",
       "    </tr>\n",
       "    <tr>\n",
       "      <th>4</th>\n",
       "      <td>NaN</td>\n",
       "    </tr>\n",
       "    <tr>\n",
       "      <th>...</th>\n",
       "      <td>...</td>\n",
       "    </tr>\n",
       "    <tr>\n",
       "      <th>10102</th>\n",
       "      <td>NaN</td>\n",
       "    </tr>\n",
       "    <tr>\n",
       "      <th>10103</th>\n",
       "      <td>NaN</td>\n",
       "    </tr>\n",
       "    <tr>\n",
       "      <th>10104</th>\n",
       "      <td>NaN</td>\n",
       "    </tr>\n",
       "    <tr>\n",
       "      <th>10105</th>\n",
       "      <td>NaN</td>\n",
       "    </tr>\n",
       "    <tr>\n",
       "      <th>10106</th>\n",
       "      <td>NaN</td>\n",
       "    </tr>\n",
       "  </tbody>\n",
       "</table>\n",
       "<p>10107 rows × 1 columns</p>\n",
       "</div>"
      ],
      "text/plain": [
       "                            3\n",
       "0                         NaN\n",
       "1                         NaN\n",
       "2            컴퓨터활용능력1급, 한국사1급\n",
       "3       토론동아리 3년, 컴활1급, 한국사1급\n",
       "4                         NaN\n",
       "...                       ...\n",
       "10102                     NaN\n",
       "10103                     NaN\n",
       "10104                     NaN\n",
       "10105                     NaN\n",
       "10106                     NaN\n",
       "\n",
       "[10107 rows x 1 columns]"
      ]
     },
     "execution_count": 8,
     "metadata": {},
     "output_type": "execute_result"
    }
   ],
   "source": [
    "four"
   ]
  },
  {
   "cell_type": "code",
   "execution_count": 9,
   "metadata": {},
   "outputs": [],
   "source": [
    "four = four[\"3\"]"
   ]
  },
  {
   "cell_type": "code",
   "execution_count": 10,
   "metadata": {},
   "outputs": [
    {
     "data": {
      "text/plain": [
       "3552     워드1급, Auto CAD 2급, 한국사 1급\n",
       "3567     워드1급, Auto CAD 2급, 한국사 1급\n",
       "Name: 3, dtype: object"
      ]
     },
     "execution_count": 10,
     "metadata": {},
     "output_type": "execute_result"
    }
   ],
   "source": [
    "four[four.str.contains(\"Auto CAD 2급\")==True]"
   ]
  },
  {
   "cell_type": "code",
   "execution_count": 11,
   "metadata": {},
   "outputs": [],
   "source": [
    "df.at[four[four.str.contains(\"Auto CAD 2급\")==True].index,[\"자격증\"]]=four[four.str.contains(\"Auto CAD 2급\")==True]"
   ]
  },
  {
   "cell_type": "code",
   "execution_count": 12,
   "metadata": {},
   "outputs": [],
   "source": [
    "four[four.str.contains(\"Auto CAD 2급\")==True]=\"\""
   ]
  },
  {
   "cell_type": "code",
   "execution_count": 13,
   "metadata": {},
   "outputs": [
    {
     "data": {
      "text/plain": [
       "64     중소기업 현장실습 인턴 (4개월) \n",
       "95     중소기업 현장실습 인턴 (4개월) \n",
       "Name: 3, dtype: object"
      ]
     },
     "execution_count": 13,
     "metadata": {},
     "output_type": "execute_result"
    }
   ],
   "source": [
    "four[four.str.contains(\"중소기업 현장실습\")==True]"
   ]
  },
  {
   "cell_type": "code",
   "execution_count": 14,
   "metadata": {},
   "outputs": [],
   "source": [
    "df.at[four[four.str.contains(\"중소기업 현장실습\")==True].index,[\"경험사항\"]]=four[four.str.contains(\"중소기업 현장실습\")==True]"
   ]
  },
  {
   "cell_type": "code",
   "execution_count": 15,
   "metadata": {},
   "outputs": [],
   "source": [
    "four[four.str.contains(\"중소기업 현장실습\")==True]=\"\""
   ]
  },
  {
   "cell_type": "code",
   "execution_count": 16,
   "metadata": {},
   "outputs": [
    {
     "data": {
      "text/plain": [
       "2     컴퓨터활용능력1급, 한국사1급\n",
       "Name: 3, dtype: object"
      ]
     },
     "execution_count": 16,
     "metadata": {},
     "output_type": "execute_result"
    }
   ],
   "source": [
    "four[four.str.contains(\"컴퓨터활용능력1급, 한국사\")==True]"
   ]
  },
  {
   "cell_type": "code",
   "execution_count": 17,
   "metadata": {},
   "outputs": [],
   "source": [
    "df.at[four[four.str.contains(\"컴퓨터활용능력1급, 한국사\")==True].index,[\"자격증\"]]=four[four.str.contains(\"컴퓨터활용능력1급, 한국사\")==True]"
   ]
  },
  {
   "cell_type": "code",
   "execution_count": 18,
   "metadata": {},
   "outputs": [],
   "source": [
    "four[four.str.contains(\"컴퓨터활용능력1급, 한국사\")==True]=\"\""
   ]
  },
  {
   "cell_type": "code",
   "execution_count": 19,
   "metadata": {},
   "outputs": [
    {
     "data": {
      "text/plain": [
       "1966     마케팅 인턴 2회, 동아리 2회\n",
       "2113     마케팅 인턴 2회, 동아리 2회\n",
       "Name: 3, dtype: object"
      ]
     },
     "execution_count": 19,
     "metadata": {},
     "output_type": "execute_result"
    }
   ],
   "source": [
    "four[four.str.contains(\"마케팅 인턴 2회\")==True]"
   ]
  },
  {
   "cell_type": "code",
   "execution_count": 20,
   "metadata": {},
   "outputs": [],
   "source": [
    "df.at[four[four.str.contains(\"마케팅 인턴 2회\")==True].index,[\"경험사항\"]]=four[four.str.contains(\"마케팅 인턴 2회\")==True]"
   ]
  },
  {
   "cell_type": "code",
   "execution_count": 21,
   "metadata": {},
   "outputs": [],
   "source": [
    "four[four.str.contains(\"마케팅 인턴 2회\")==True]=\"\""
   ]
  },
  {
   "cell_type": "code",
   "execution_count": 22,
   "metadata": {},
   "outputs": [
    {
     "data": {
      "text/plain": [
       "1470               봉사동아리\n",
       "1487               봉사동아리\n",
       "4623                 동아리\n",
       "4649     수상 경력 2회, 봉사동아리\n",
       "4781                 동아리\n",
       "9531               봉사동아리\n",
       "9591               봉사동아리\n",
       "9624               봉사동아리\n",
       "9644               봉사동아리\n",
       "9808               봉사동아리\n",
       "9926                 동아리\n",
       "9927                 동아리\n",
       "Name: 3, dtype: object"
      ]
     },
     "execution_count": 22,
     "metadata": {},
     "output_type": "execute_result"
    }
   ],
   "source": [
    "four[four.str.contains(\"동아리$\")==True]"
   ]
  },
  {
   "cell_type": "code",
   "execution_count": 23,
   "metadata": {},
   "outputs": [],
   "source": [
    "df.at[four[four.str.contains(\"동아리$\")==True].index,[\"경험사항\"]]=four[four.str.contains(\"동아리$\")==True]"
   ]
  },
  {
   "cell_type": "code",
   "execution_count": 24,
   "metadata": {},
   "outputs": [],
   "source": [
    "four[four.str.contains(\"동아리$\")==True]=\"\""
   ]
  },
  {
   "cell_type": "code",
   "execution_count": 25,
   "metadata": {},
   "outputs": [
    {
     "data": {
      "text/plain": [
       "4916            공모전 1회 수상\n",
       "5048            공모전 1회 수상\n",
       "5069            공모전 1회 수상\n",
       "5089            공모전 1회 수상\n",
       "5636            공모전 1회 수상\n",
       "5668            공모전 1회 수상\n",
       "5688            공모전 1회 수상\n",
       "8893     인턴 1회, 공모전 1회 수상\n",
       "Name: 3, dtype: object"
      ]
     },
     "execution_count": 25,
     "metadata": {},
     "output_type": "execute_result"
    }
   ],
   "source": [
    "four[four.str.contains(\"공모전 1회 수상\")==True]"
   ]
  },
  {
   "cell_type": "code",
   "execution_count": 26,
   "metadata": {},
   "outputs": [],
   "source": [
    "df.at[four[four.str.contains(\"공모전 1회 수상\")==True].index,[\"경험사항\"]]=four[four.str.contains(\"공모전 1회 수상\")==True]"
   ]
  },
  {
   "cell_type": "code",
   "execution_count": 27,
   "metadata": {},
   "outputs": [],
   "source": [
    "four[four.str.contains(\"공모전 1회 수상\")==True]=\"\""
   ]
  },
  {
   "cell_type": "code",
   "execution_count": 28,
   "metadata": {},
   "outputs": [
    {
     "data": {
      "text/plain": [
       "8031     인턴2, 대외활동2 (봉사포함), 공모전2\n",
       "8317     인턴2, 대외활동2 (봉사포함), 공모전2\n",
       "8337     인턴2, 대외활동2 (봉사포함), 공모전2\n",
       "Name: 3, dtype: object"
      ]
     },
     "execution_count": 28,
     "metadata": {},
     "output_type": "execute_result"
    }
   ],
   "source": [
    "four[four.str.contains(\"인턴2, 대외활동2\")==True]"
   ]
  },
  {
   "cell_type": "code",
   "execution_count": 29,
   "metadata": {},
   "outputs": [],
   "source": [
    "df.at[four[four.str.contains(\"인턴2, 대외활동2\")==True].index,[\"경험사항\"]]=four[four.str.contains(\"인턴2, 대외활동2\")==True]"
   ]
  },
  {
   "cell_type": "code",
   "execution_count": 30,
   "metadata": {},
   "outputs": [],
   "source": [
    "four[four.str.contains(\"인턴2, 대외활동2\")==True]=\"\""
   ]
  },
  {
   "cell_type": "code",
   "execution_count": 31,
   "metadata": {},
   "outputs": [
    {
     "data": {
      "text/plain": [
       "9943     앱 공모전 수상\n",
       "Name: 3, dtype: object"
      ]
     },
     "execution_count": 31,
     "metadata": {},
     "output_type": "execute_result"
    }
   ],
   "source": [
    "four[four.str.contains(\"앱 공모전\")==True]"
   ]
  },
  {
   "cell_type": "code",
   "execution_count": 32,
   "metadata": {},
   "outputs": [],
   "source": [
    "df.at[four[four.str.contains(\"앱 공모전\")==True].index,[\"경험사항\"]]=four[four.str.contains(\"앱 공모전\")==True]"
   ]
  },
  {
   "cell_type": "code",
   "execution_count": 33,
   "metadata": {},
   "outputs": [],
   "source": [
    "four[four.str.contains(\"앱 공모전\")==True]=\"\""
   ]
  },
  {
   "cell_type": "code",
   "execution_count": 34,
   "metadata": {},
   "outputs": [
    {
     "data": {
      "text/plain": [
       "8795     공모전 2회 수상, 연구회 활동 경험 있음, 사업계획서 2회, 인턴, 대외활동\n",
       "8815     공모전 2회 수상, 연구회 활동 경험 있음, 사업계획서 2회, 인턴, 대외활동\n",
       "9029     공모전 2회 수상, 연구회 활동 경험 있음, 사업계획서 2회, 인턴, 대외활동\n",
       "Name: 3, dtype: object"
      ]
     },
     "execution_count": 34,
     "metadata": {},
     "output_type": "execute_result"
    }
   ],
   "source": [
    "four[four.str.contains(\"공모전 2회 수상\")==True]"
   ]
  },
  {
   "cell_type": "code",
   "execution_count": 35,
   "metadata": {},
   "outputs": [],
   "source": [
    "df.at[four[four.str.contains(\"공모전 2회 수상\")==True].index,[\"경험사항\"]]=four[four.str.contains(\"공모전 2회 수상\")==True]"
   ]
  },
  {
   "cell_type": "code",
   "execution_count": 36,
   "metadata": {},
   "outputs": [],
   "source": [
    "four[four.str.contains(\"공모전 2회 수상\")==True]=\"\""
   ]
  },
  {
   "cell_type": "code",
   "execution_count": 37,
   "metadata": {},
   "outputs": [
    {
     "data": {
      "text/plain": [
       "263      교내 연합봉사동아리 2년(부회장 1년), 교내 공모전 2회 참여: 우수상, 인기상...\n",
       "638      교내 연합봉사동아리 2년(부회장 1년), 교내 공모전 2회 참여: 우수상, 인기상...\n",
       "640      교내 연합봉사동아리 2년(부회장 1년), 교내 공모전 2회 참여: 우수상, 인기상...\n",
       "645      교내 연합봉사동아리 2년(부회장 1년), 교내 공모전 2회 참여: 우수상, 인기상...\n",
       "710      교내 연합봉사동아리 2년(부회장 1년), 교내 공모전 2회 참여: 우수상, 인기상...\n",
       "714      교내 연합봉사동아리 2년(부회장 1년), 교내 공모전 2회 참여: 우수상, 인기상...\n",
       "718      교내 연합봉사동아리 2년(부회장 1년), 교내 공모전 2회 참여: 우수상, 인기상...\n",
       "730      교내 연합봉사동아리 2년(부회장 1년), 교내 공모전 2회 참여: 우수상, 인기상...\n",
       "734      교내 연합봉사동아리 2년(부회장 1년), 교내 공모전 2회 참여: 우수상, 인기상...\n",
       "738      교내 연합봉사동아리 2년(부회장 1년), 교내 공모전 2회 참여: 우수상, 인기상...\n",
       "5023                                        인턴 2회, 공모전 2회\n",
       "7591                                           공모전 2회, 인턴\n",
       "7611                                           공모전 2회, 인턴\n",
       "7663                                           공모전 2회, 인턴\n",
       "Name: 3, dtype: object"
      ]
     },
     "execution_count": 37,
     "metadata": {},
     "output_type": "execute_result"
    }
   ],
   "source": [
    "four[four.str.contains(\"공모전 2회\")==True]"
   ]
  },
  {
   "cell_type": "code",
   "execution_count": 38,
   "metadata": {},
   "outputs": [],
   "source": [
    "df.at[four[four.str.contains(\"공모전 2회\")==True].index,[\"경험사항\"]]=four[four.str.contains(\"공모전 2회\")==True]"
   ]
  },
  {
   "cell_type": "code",
   "execution_count": 39,
   "metadata": {},
   "outputs": [],
   "source": [
    "four[four.str.contains(\"공모전 2회\")==True]=\"\""
   ]
  },
  {
   "cell_type": "code",
   "execution_count": 40,
   "metadata": {},
   "outputs": [
    {
     "data": {
      "text/plain": [
       "5901     대외활동 20회, 공모전 10회 수상\n",
       "5921     대외활동 20회, 공모전 10회 수상\n",
       "6129     대외활동 20회, 공모전 10회 수상\n",
       "7234           공모전 10회, 인턴 1회\n",
       "7254           공모전 10회, 인턴 1회\n",
       "Name: 3, dtype: object"
      ]
     },
     "execution_count": 40,
     "metadata": {},
     "output_type": "execute_result"
    }
   ],
   "source": [
    "four[four.str.contains(\"공모전 10회\")==True]"
   ]
  },
  {
   "cell_type": "code",
   "execution_count": 41,
   "metadata": {},
   "outputs": [],
   "source": [
    "df.at[four[four.str.contains(\"공모전 10회\")==True].index,[\"경험사항\"]]=four[four.str.contains(\"공모전 10회\")==True]"
   ]
  },
  {
   "cell_type": "code",
   "execution_count": 42,
   "metadata": {},
   "outputs": [],
   "source": [
    "four[four.str.contains(\"공모전 10회\")==True]=\"\""
   ]
  },
  {
   "cell_type": "code",
   "execution_count": 43,
   "metadata": {},
   "outputs": [
    {
     "data": {
      "text/plain": [
       "7883     대학생 기획공모전, 농촌 봉사활동, 학교 자치기구 학생회\n",
       "Name: 3, dtype: object"
      ]
     },
     "execution_count": 43,
     "metadata": {},
     "output_type": "execute_result"
    }
   ],
   "source": [
    "four[four.str.contains(\"대학생 기획공모전\")==True]"
   ]
  },
  {
   "cell_type": "code",
   "execution_count": 44,
   "metadata": {},
   "outputs": [],
   "source": [
    "df.at[four[four.str.contains(\"대학생 기획공모전\")==True].index,[\"경험사항\"]]=four[four.str.contains(\"대학생 기획공모전\")==True]"
   ]
  },
  {
   "cell_type": "code",
   "execution_count": 45,
   "metadata": {},
   "outputs": [],
   "source": [
    "four[four.str.contains(\"대학생 기획공모전\")==True]=\"\""
   ]
  },
  {
   "cell_type": "code",
   "execution_count": 46,
   "metadata": {},
   "outputs": [
    {
     "data": {
      "text/plain": [
       "4546     단대학생회, 반도체실무교육, 아르바이트 다수\n",
       "4700     단대학생회, 반도체실무교육, 아르바이트 다수\n",
       "4720     단대학생회, 반도체실무교육, 아르바이트 다수\n",
       "Name: 3, dtype: object"
      ]
     },
     "execution_count": 46,
     "metadata": {},
     "output_type": "execute_result"
    }
   ],
   "source": [
    "four[four.str.contains(\"단대학생회\")==True]"
   ]
  },
  {
   "cell_type": "code",
   "execution_count": 47,
   "metadata": {},
   "outputs": [],
   "source": [
    "df.at[four[four.str.contains(\"단대학생회\")==True].index,[\"경험사항\"]]=four[four.str.contains(\"단대학생회\")==True]"
   ]
  },
  {
   "cell_type": "code",
   "execution_count": 48,
   "metadata": {},
   "outputs": [],
   "source": [
    "four[four.str.contains(\"단대학생회\")==True]=\"\""
   ]
  },
  {
   "cell_type": "code",
   "execution_count": 49,
   "metadata": {},
   "outputs": [
    {
     "data": {
      "text/plain": [
       "5653     학생회 4년, 스타트업 6개월, 학교 영어\n",
       "Name: 3, dtype: object"
      ]
     },
     "execution_count": 49,
     "metadata": {},
     "output_type": "execute_result"
    }
   ],
   "source": [
    "four[four.str.contains(\"학생회 4년\")==True]"
   ]
  },
  {
   "cell_type": "code",
   "execution_count": 50,
   "metadata": {},
   "outputs": [],
   "source": [
    "df.at[four[four.str.contains(\"학생회 4년\")==True].index,[\"경험사항\"]]=four[four.str.contains(\"학생회 4년\")==True]"
   ]
  },
  {
   "cell_type": "code",
   "execution_count": 51,
   "metadata": {},
   "outputs": [],
   "source": [
    "four[four.str.contains(\"학생회 4년\")==True]=\"\""
   ]
  },
  {
   "cell_type": "code",
   "execution_count": 52,
   "metadata": {},
   "outputs": [
    {
     "data": {
      "text/plain": [
       "3917     인턴 1회, 해외봉사 2회, 통역, 교환학생\n",
       "4029     인턴 1회, 해외봉사 2회, 통역, 교환학생\n",
       "4049     인턴 1회, 해외봉사 2회, 통역, 교환학생\n",
       "Name: 3, dtype: object"
      ]
     },
     "execution_count": 52,
     "metadata": {},
     "output_type": "execute_result"
    }
   ],
   "source": [
    "four[four.str.contains(\"인턴 1회, 해외봉사 2회,\")==True]"
   ]
  },
  {
   "cell_type": "code",
   "execution_count": 53,
   "metadata": {},
   "outputs": [],
   "source": [
    "df.at[four[four.str.contains(\"인턴 1회, 해외봉사 2회,\")==True].index,[\"경험사항\"]]=four[four.str.contains(\"인턴 1회, 해외봉사 2회,\")==True]"
   ]
  },
  {
   "cell_type": "code",
   "execution_count": 54,
   "metadata": {},
   "outputs": [],
   "source": [
    "four[four.str.contains(\"인턴 1회, 해외봉사 2회,\")==True]=\"\""
   ]
  },
  {
   "cell_type": "code",
   "execution_count": 55,
   "metadata": {},
   "outputs": [
    {
     "data": {
      "text/plain": [
       "7310     교환학생, 파트타이머\n",
       "7348     교환학생, 파트타이머\n",
       "7368     교환학생, 파트타이머\n",
       "Name: 3, dtype: object"
      ]
     },
     "execution_count": 55,
     "metadata": {},
     "output_type": "execute_result"
    }
   ],
   "source": [
    "four[four.str.contains(\"교환학생, 파트타이머\")==True]"
   ]
  },
  {
   "cell_type": "code",
   "execution_count": 56,
   "metadata": {},
   "outputs": [],
   "source": [
    "df.at[four[four.str.contains(\"교환학생, 파트타이머\")==True].index,[\"경험사항\"]]=four[four.str.contains(\"교환학생, 파트타이머\")==True]"
   ]
  },
  {
   "cell_type": "code",
   "execution_count": 57,
   "metadata": {},
   "outputs": [],
   "source": [
    "four[four.str.contains(\"교환학생, 파트타이머\")==True]=\"\""
   ]
  },
  {
   "cell_type": "code",
   "execution_count": 58,
   "metadata": {},
   "outputs": [
    {
     "data": {
      "text/plain": [
       "1672     물류관리사 자격증\n",
       "1692     물류관리사 자격증\n",
       "1834     물류관리사 자격증\n",
       "Name: 3, dtype: object"
      ]
     },
     "execution_count": 58,
     "metadata": {},
     "output_type": "execute_result"
    }
   ],
   "source": [
    "four[four.str.contains(\"물류관리사 자격증\")==True]"
   ]
  },
  {
   "cell_type": "code",
   "execution_count": 59,
   "metadata": {},
   "outputs": [],
   "source": [
    "df.at[four[four.str.contains(\"물류관리사 자격증\")==True].index,[\"자격증\"]]=four[four.str.contains(\"물류관리사 자격증\")==True]"
   ]
  },
  {
   "cell_type": "code",
   "execution_count": 60,
   "metadata": {},
   "outputs": [],
   "source": [
    "four[four.str.contains(\"물류관리사 자격증\")==True]=\"\""
   ]
  },
  {
   "cell_type": "code",
   "execution_count": 61,
   "metadata": {},
   "outputs": [
    {
     "data": {
      "text/plain": [
       "1901                                       인턴 1회\n",
       "1921                                       인턴 1회\n",
       "2035                                       인턴 1회\n",
       "2055                                       인턴 1회\n",
       "2248                              대외활동 2회, 인턴 1회\n",
       "2426                              대외활동 2회, 인턴 1회\n",
       "2634     TV 예능 프로그램 특파원, 영국 내 한국전쟁 홍보 프로젝트 인턴 1회\n",
       "2654     TV 예능 프로그램 특파원, 영국 내 한국전쟁 홍보 프로젝트 인턴 1회\n",
       "2743                                       인턴 1회\n",
       "2763                                       인턴 1회\n",
       "2796                                       인턴 1회\n",
       "2874                                       인턴 1회\n",
       "2894                                       인턴 1회\n",
       "2935                                       인턴 1회\n",
       "3750                                       인턴 1회\n",
       "3770                                       인턴 1회\n",
       "3850                                       인턴 1회\n",
       "5537                                       인턴 1회\n",
       "5595                                       인턴 1회\n",
       "5944                                       인턴 1회\n",
       "6148                                       인턴 1회\n",
       "6168                                       인턴 1회\n",
       "7291                                       인턴 1회\n",
       "9560                                       인턴 1회\n",
       "9587                                       인턴 1회\n",
       "9819                                       인턴 1회\n",
       "Name: 3, dtype: object"
      ]
     },
     "execution_count": 61,
     "metadata": {},
     "output_type": "execute_result"
    }
   ],
   "source": [
    "four[four.str.contains(\"인턴 1회$\")==True]"
   ]
  },
  {
   "cell_type": "code",
   "execution_count": 62,
   "metadata": {},
   "outputs": [],
   "source": [
    "df.at[four[four.str.contains(\"인턴 1회$\")==True].index,[\"경험사항\"]]=four[four.str.contains(\"인턴 1회$\")==True]"
   ]
  },
  {
   "cell_type": "code",
   "execution_count": 63,
   "metadata": {},
   "outputs": [],
   "source": [
    "four[four.str.contains(\"인턴 1회$\")==True]=\"\""
   ]
  },
  {
   "cell_type": "code",
   "execution_count": 64,
   "metadata": {},
   "outputs": [
    {
     "data": {
      "text/plain": [
       "5556            봉사 무, 인턴 무, 공모전 1\n",
       "5576            봉사 무, 인턴 무, 공모전 1\n",
       "5601            봉사 무, 인턴 무, 공모전 1\n",
       "9256     인턴 무, 학회 조교, 봉사활동 동아리 참여\n",
       "9719     인턴 무, 학회 조교, 봉사활동 동아리 참여\n",
       "9720     인턴 무, 학회 조교, 봉사활동 동아리 참여\n",
       "Name: 3, dtype: object"
      ]
     },
     "execution_count": 64,
     "metadata": {},
     "output_type": "execute_result"
    }
   ],
   "source": [
    "four[four.str.contains(\"인턴 무,\")==True]"
   ]
  },
  {
   "cell_type": "code",
   "execution_count": 65,
   "metadata": {},
   "outputs": [],
   "source": [
    "df.at[four[four.str.contains(\"인턴 무,\")==True].index,[\"경험사항\"]]=four[four.str.contains(\"인턴 무,\")==True]"
   ]
  },
  {
   "cell_type": "code",
   "execution_count": 66,
   "metadata": {},
   "outputs": [],
   "source": [
    "four[four.str.contains(\"인턴 무,\")==True]=\"\""
   ]
  },
  {
   "cell_type": "code",
   "execution_count": 67,
   "metadata": {},
   "outputs": [
    {
     "data": {
      "text/plain": [
       "1713              인턴 1회, 봉사활동 1회\n",
       "1858              인턴 1회, 봉사활동 1회\n",
       "4102     인턴 1회, 봉사 많이, 공모전 수상 1회\n",
       "4122     인턴 1회, 봉사 많이, 공모전 수상 1회\n",
       "8167              인턴 1회, 봉사활동 2회\n",
       "Name: 3, dtype: object"
      ]
     },
     "execution_count": 67,
     "metadata": {},
     "output_type": "execute_result"
    }
   ],
   "source": [
    "four[four.str.contains(\"인턴 1회, 봉사\")==True]"
   ]
  },
  {
   "cell_type": "code",
   "execution_count": 68,
   "metadata": {},
   "outputs": [],
   "source": [
    "df.at[four[four.str.contains(\"인턴 1회, 봉사\")==True].index,[\"경험사항\"]]=four[four.str.contains(\"인턴 1회, 봉사\")==True]"
   ]
  },
  {
   "cell_type": "code",
   "execution_count": 69,
   "metadata": {},
   "outputs": [],
   "source": [
    "four[four.str.contains(\"인턴 1회, 봉사\")==True]=\"\""
   ]
  },
  {
   "cell_type": "code",
   "execution_count": 70,
   "metadata": {},
   "outputs": [
    {
     "data": {
      "text/plain": [
       "650     전공 대외활동 1회, 전공 관련 교내 동아리 1회\n",
       "Name: 3, dtype: object"
      ]
     },
     "execution_count": 70,
     "metadata": {},
     "output_type": "execute_result"
    }
   ],
   "source": [
    "four[four.str.contains(\"전공 대외활동\")==True]"
   ]
  },
  {
   "cell_type": "code",
   "execution_count": 71,
   "metadata": {},
   "outputs": [],
   "source": [
    "df.at[four[four.str.contains(\"전공 대외활동\")==True].index,[\"경험사항\"]]=four[four.str.contains(\"전공 대외활동\")==True]"
   ]
  },
  {
   "cell_type": "code",
   "execution_count": 72,
   "metadata": {},
   "outputs": [],
   "source": [
    "four[four.str.contains(\"전공 대외활동\")==True]=\"\""
   ]
  },
  {
   "cell_type": "code",
   "execution_count": 73,
   "metadata": {},
   "outputs": [
    {
     "data": {
      "text/plain": [
       "9932     연구소인턴 2개월\n",
       "Name: 3, dtype: object"
      ]
     },
     "execution_count": 73,
     "metadata": {},
     "output_type": "execute_result"
    }
   ],
   "source": [
    "four[four.str.contains(\"연구소인턴 2개월\")==True]"
   ]
  },
  {
   "cell_type": "code",
   "execution_count": 74,
   "metadata": {},
   "outputs": [],
   "source": [
    "df.at[four[four.str.contains(\"연구소인턴 2개월\")==True].index,[\"경험사항\"]]=four[four.str.contains(\"연구소인턴 2개월\")==True]"
   ]
  },
  {
   "cell_type": "code",
   "execution_count": 75,
   "metadata": {},
   "outputs": [],
   "source": [
    "four[four.str.contains(\"연구소인턴 2개월\")==True]=\"\""
   ]
  },
  {
   "cell_type": "code",
   "execution_count": 76,
   "metadata": {},
   "outputs": [
    {
     "data": {
      "text/plain": [
       "260     한국서부발전 체험형 인턴 2개월\n",
       "338     한국서부발전 체험형 인턴 2개월\n",
       "Name: 3, dtype: object"
      ]
     },
     "execution_count": 76,
     "metadata": {},
     "output_type": "execute_result"
    }
   ],
   "source": [
    "four[four.str.contains(\"한국서부발전 체험형\")==True]"
   ]
  },
  {
   "cell_type": "code",
   "execution_count": 77,
   "metadata": {},
   "outputs": [],
   "source": [
    "df.at[four[four.str.contains(\"한국서부발전 체험형\")==True].index,[\"경험사항\"]]=four[four.str.contains(\"한국서부발전 체험형\")==True]"
   ]
  },
  {
   "cell_type": "code",
   "execution_count": 78,
   "metadata": {},
   "outputs": [],
   "source": [
    "four[four.str.contains(\"한국서부발전 체험형\")==True]=\"\""
   ]
  },
  {
   "cell_type": "code",
   "execution_count": 79,
   "metadata": {},
   "outputs": [
    {
     "data": {
      "text/plain": [
       "3060     인턴 2회, 대외활동 3회\n",
       "3363            대외활동 3회\n",
       "3479            대외활동 3회\n",
       "8853     인턴 1회, 대외활동 3회\n",
       "9043     인턴 1회, 대외활동 3회\n",
       "Name: 3, dtype: object"
      ]
     },
     "execution_count": 79,
     "metadata": {},
     "output_type": "execute_result"
    }
   ],
   "source": [
    "four[four.str.contains(\"대외활동 3회$\")==True]"
   ]
  },
  {
   "cell_type": "code",
   "execution_count": 80,
   "metadata": {},
   "outputs": [],
   "source": [
    "df.at[four[four.str.contains(\"대외활동 3회$\")==True].index,[\"경험사항\"]]=four[four.str.contains(\"대외활동 3회$\")==True]"
   ]
  },
  {
   "cell_type": "code",
   "execution_count": 81,
   "metadata": {},
   "outputs": [],
   "source": [
    "four[four.str.contains(\"대외활동 3회$\")==True]=\"\""
   ]
  },
  {
   "cell_type": "code",
   "execution_count": 82,
   "metadata": {},
   "outputs": [
    {
     "data": {
      "text/plain": [
       "6331     인턴 1회\\n\\n봉사 및 대외활동 약 5회\n",
       "6561     인턴 1회\\n\\n봉사 및 대외활동 약 5회\n",
       "Name: 3, dtype: object"
      ]
     },
     "execution_count": 82,
     "metadata": {},
     "output_type": "execute_result"
    }
   ],
   "source": [
    "four[four.str.contains(\"대외활동 약\")==True]"
   ]
  },
  {
   "cell_type": "code",
   "execution_count": 83,
   "metadata": {},
   "outputs": [],
   "source": [
    "df.at[four[four.str.contains(\"대외활동 및\")==True].index,[\"경험사항\"]]=four[four.str.contains(\"대외활동 및\")==True]"
   ]
  },
  {
   "cell_type": "code",
   "execution_count": 84,
   "metadata": {},
   "outputs": [],
   "source": [
    "four[four.str.contains(\"대외활동 및\")==True]=\"\""
   ]
  },
  {
   "cell_type": "code",
   "execution_count": 85,
   "metadata": {},
   "outputs": [
    {
     "data": {
      "text/plain": [
       "1418                           대외활동 2회\n",
       "1432                           대외활동 2회\n",
       "1452                           대외활동 2회\n",
       "1990                    인턴 1회, 대외활동 2회\n",
       "2129                    인턴 1회, 대외활동 2회\n",
       "3331     편지번역 봉사, 마케팅 관련 대외활동 2개, 교생실습\n",
       "3445     편지번역 봉사, 마케팅 관련 대외활동 2개, 교생실습\n",
       "Name: 3, dtype: object"
      ]
     },
     "execution_count": 85,
     "metadata": {},
     "output_type": "execute_result"
    }
   ],
   "source": [
    "four[four.str.contains(\"대외활동 2\")==True]"
   ]
  },
  {
   "cell_type": "code",
   "execution_count": 86,
   "metadata": {},
   "outputs": [],
   "source": [
    "df.at[four[four.str.contains(\"대외활동 2\")==True].index,[\"경험사항\"]]=four[four.str.contains(\"대외활동 2\")==True]"
   ]
  },
  {
   "cell_type": "code",
   "execution_count": 87,
   "metadata": {},
   "outputs": [],
   "source": [
    "four[four.str.contains(\"대외활동 2\")==True]=\"\""
   ]
  },
  {
   "cell_type": "code",
   "execution_count": 88,
   "metadata": {},
   "outputs": [
    {
     "data": {
      "text/plain": [
       "1660     현장실습 1회, 대외활동 1회, 공모전 수상 1회\n",
       "1680     현장실습 1회, 대외활동 1회, 공모전 수상 1회\n",
       "1825     현장실습 1회, 대외활동 1회, 공모전 수상 1회\n",
       "Name: 3, dtype: object"
      ]
     },
     "execution_count": 88,
     "metadata": {},
     "output_type": "execute_result"
    }
   ],
   "source": [
    "four[four.str.contains(\"현장실습 1\")==True]"
   ]
  },
  {
   "cell_type": "code",
   "execution_count": 89,
   "metadata": {},
   "outputs": [],
   "source": [
    "df.at[four[four.str.contains(\"현장실습 1\")==True].index,[\"경험사항\"]]=four[four.str.contains(\"현장실습 1\")==True]"
   ]
  },
  {
   "cell_type": "code",
   "execution_count": 90,
   "metadata": {},
   "outputs": [],
   "source": [
    "four[four.str.contains(\"현장실습 1\")==True]=\"\""
   ]
  },
  {
   "cell_type": "code",
   "execution_count": 91,
   "metadata": {},
   "outputs": [
    {
     "data": {
      "text/plain": [
       "868     교내동아리, 산학연계현장실습(1개월) \n",
       "Name: 3, dtype: object"
      ]
     },
     "execution_count": 91,
     "metadata": {},
     "output_type": "execute_result"
    }
   ],
   "source": [
    "four[four.str.contains(\"교내동아리\")==True]"
   ]
  },
  {
   "cell_type": "code",
   "execution_count": 92,
   "metadata": {},
   "outputs": [],
   "source": [
    "df.at[four[four.str.contains(\"교내동아리\")==True].index,[\"경험사항\"]]=four[four.str.contains(\"교내동아리\")==True]"
   ]
  },
  {
   "cell_type": "code",
   "execution_count": 93,
   "metadata": {},
   "outputs": [],
   "source": [
    "four[four.str.contains(\"교내동아리\")==True]=\"\""
   ]
  },
  {
   "cell_type": "code",
   "execution_count": 94,
   "metadata": {},
   "outputs": [
    {
     "data": {
      "text/plain": [
       "1624         현대오토에버 채용전제형인턴 (2개월\n",
       "1706        현대오토에버 채용전제형 인턴 (2개월\n",
       "1767         현대오토에버 채용전제형인턴 (2개월\n",
       "1843        현대오토에버 채용전제형 인턴 (2개월\n",
       "1970     현대오토에버 채용형 인턴(2018 상반기)\n",
       "2108     현대오토에버 채용형 인턴(2018 상반기)\n",
       "2217     현대오토에버 채용형 인턴 (2018상반기)\n",
       "2370     현대오토에버 채용형 인턴 (2018상반기)\n",
       "Name: 3, dtype: object"
      ]
     },
     "execution_count": 94,
     "metadata": {},
     "output_type": "execute_result"
    }
   ],
   "source": [
    "four[four.str.contains(\"현대오토에버 \")==True]"
   ]
  },
  {
   "cell_type": "code",
   "execution_count": 95,
   "metadata": {},
   "outputs": [],
   "source": [
    "df.at[four[four.str.contains(\"현대오토에버 \")==True].index,[\"경험사항\"]]=four[four.str.contains(\"현대오토에버 \")==True]"
   ]
  },
  {
   "cell_type": "code",
   "execution_count": 96,
   "metadata": {},
   "outputs": [],
   "source": [
    "four[four.str.contains(\"현대오토에버 \")==True]=\"\""
   ]
  },
  {
   "cell_type": "code",
   "execution_count": 97,
   "metadata": {},
   "outputs": [
    {
     "data": {
      "text/plain": [
       "8237     인턴 봉사활동 경험 有\n",
       "8514     인턴 봉사활동 경험 有\n",
       "8521     인턴 봉사활동 경험 有\n",
       "Name: 3, dtype: object"
      ]
     },
     "execution_count": 97,
     "metadata": {},
     "output_type": "execute_result"
    }
   ],
   "source": [
    "four[four.str.contains(\"인턴 봉사활동\")==True]"
   ]
  },
  {
   "cell_type": "code",
   "execution_count": 98,
   "metadata": {},
   "outputs": [],
   "source": [
    "df.at[four[four.str.contains(\"인턴 봉사활동\")==True].index,[\"경험사항\"]]=four[four.str.contains(\"인턴 봉사활동\")==True]"
   ]
  },
  {
   "cell_type": "code",
   "execution_count": 99,
   "metadata": {},
   "outputs": [],
   "source": [
    "four[four.str.contains(\"인턴 봉사활동\")==True]=\"\""
   ]
  },
  {
   "cell_type": "code",
   "execution_count": 100,
   "metadata": {},
   "outputs": [
    {
     "data": {
      "text/plain": [
       "10088     보쉬전장 인턴(6개월), 글로벌 무역전문가 양성 사업단(1년 6개월)\n",
       "Name: 3, dtype: object"
      ]
     },
     "execution_count": 100,
     "metadata": {},
     "output_type": "execute_result"
    }
   ],
   "source": [
    "four[four.str.contains(\"보쉬전장\")==True]"
   ]
  },
  {
   "cell_type": "code",
   "execution_count": 101,
   "metadata": {},
   "outputs": [],
   "source": [
    "df.at[four[four.str.contains(\"보쉬전장\")==True].index,[\"경험사항\"]]=four[four.str.contains(\"보쉬전장\")==True]"
   ]
  },
  {
   "cell_type": "code",
   "execution_count": 102,
   "metadata": {},
   "outputs": [],
   "source": [
    "four[four.str.contains(\"보쉬전장\")==True]=\"\""
   ]
  },
  {
   "cell_type": "code",
   "execution_count": 103,
   "metadata": {},
   "outputs": [
    {
     "data": {
      "text/plain": [
       "1542                    인턴1회\n",
       "1562                    인턴1회\n",
       "2748                    인턴1회\n",
       "2768                    인턴1회\n",
       "2907                    인턴1회\n",
       "2989         인턴1회, 동종업계 경력1년\n",
       "3009         인턴1회, 동종업계 경력1년\n",
       "5886                인턴1, 봉사1\n",
       "5967                     인턴1\n",
       "6207                     인턴1\n",
       "6363           인턴1, 증권관련 알바1\n",
       "6424        인턴1회, 학술대회 우수논문상\n",
       "6518           인턴1, 증권관련 알바1\n",
       "6538           인턴1, 증권관련 알바1\n",
       "6636        인턴1회, 학술대회 우수논문상\n",
       "6656        인턴1회, 학술대회 우수논문상\n",
       "7423                    인턴1회\n",
       "7522                    인턴1회\n",
       "8017     인턴1회, 대회활동 다수, 상 다수\n",
       "8557                     인턴1\n",
       "8577                     인턴1\n",
       "9293                    인턴1회\n",
       "Name: 3, dtype: object"
      ]
     },
     "execution_count": 103,
     "metadata": {},
     "output_type": "execute_result"
    }
   ],
   "source": [
    "four[four.str.contains(\"인턴1\")==True]"
   ]
  },
  {
   "cell_type": "code",
   "execution_count": 104,
   "metadata": {},
   "outputs": [],
   "source": [
    "df.at[four[four.str.contains(\"인턴1\")==True].index,[\"경험사항\"]]=four[four.str.contains(\"인턴1\")==True]"
   ]
  },
  {
   "cell_type": "code",
   "execution_count": 105,
   "metadata": {},
   "outputs": [],
   "source": [
    "four[four.str.contains(\"인턴1\")==True]=\"\""
   ]
  },
  {
   "cell_type": "code",
   "execution_count": 106,
   "metadata": {},
   "outputs": [
    {
     "data": {
      "text/plain": [
       "7408     인턴 1회 , 정규직 1회\n",
       "7472     인턴 1회 , 정규직 1회\n",
       "7492     인턴 1회 , 정규직 1회\n",
       "Name: 3, dtype: object"
      ]
     },
     "execution_count": 106,
     "metadata": {},
     "output_type": "execute_result"
    }
   ],
   "source": [
    "four[four.str.contains(\"인턴 1회 ,\")==True]"
   ]
  },
  {
   "cell_type": "code",
   "execution_count": 107,
   "metadata": {},
   "outputs": [],
   "source": [
    "df.at[four[four.str.contains(\"인턴 1회 ,\")==True].index,[\"경험사항\"]]=four[four.str.contains(\"인턴 1회 ,\")==True]"
   ]
  },
  {
   "cell_type": "code",
   "execution_count": 108,
   "metadata": {},
   "outputs": [],
   "source": [
    "four[four.str.contains(\"인턴 1회 ,\")==True]=\"\""
   ]
  },
  {
   "cell_type": "code",
   "execution_count": 109,
   "metadata": {},
   "outputs": [
    {
     "data": {
      "text/plain": [
       "3592                              인턴 1회, 대외활동 다수, 봉사활동 다수\n",
       "3609                              인턴 1회, 대외활동 다수, 봉사활동 다수\n",
       "3690                                        인턴 1회, 자격증 보유\n",
       "3698                              인턴 1회, 동아리, 대외활동, 알바 다수\n",
       "3753     중소기업 광고직 인턴 1회, 대기업H 광고직 인턴 1회, HSAD 은상 수상, D...\n",
       "3773     중소기업 광고직 인턴 1회, 대기업H 광고직 인턴 1회, HSAD 은상 수상, D...\n",
       "3790                               인턴 1회, 해외봉사 1회, 공모전 1회\n",
       "3803                              인턴 1회, 동아리, 대외활동, 알바 다수\n",
       "3860     중소기업 광고직 인턴 1회, 대기업H 광고직 인턴 1회, HSAD 은상 수상, D...\n",
       "3872                               인턴 1회, 해외봉사 1회, 공모전 1회\n",
       "3880     중소기업 광고직 인턴 1회, 대기업H 광고직 인턴 1회, HSAD 은상 수상, D...\n",
       "3892                               인턴 1회, 해외봉사 1회, 공모전 1회\n",
       "4535                                    인턴 1회, 자동차 공모전 1회\n",
       "5286                                인턴 1회, 해외봉사, 봉사활동 9개월\n",
       "5431                                인턴 1회, 해외봉사, 봉사활동 9개월\n",
       "5451                                인턴 1회, 해외봉사, 봉사활동 9개월\n",
       "5958                                     인턴 1회, 동아리 활동 4개\n",
       "6182                                     인턴 1회, 동아리 활동 4개\n",
       "6325                               전자소재연구소 인턴 1회, 대외활동 1회\n",
       "6804                         인턴 1회, 기타 창업 1회, 창업 관련 수상 2회\n",
       "7455                                       인턴 1회, 대외활동 다수\n",
       "7479                                       인턴 1회, 대외활동 다수\n",
       "7499                                       인턴 1회, 대외활동 다수\n",
       "8626                                 수상 2회, 인턴 1회, 자격증 2개\n",
       "Name: 3, dtype: object"
      ]
     },
     "execution_count": 109,
     "metadata": {},
     "output_type": "execute_result"
    }
   ],
   "source": [
    "four[four.str.contains(\"인턴 1회,\")==True]"
   ]
  },
  {
   "cell_type": "code",
   "execution_count": 110,
   "metadata": {},
   "outputs": [],
   "source": [
    "df.at[four[four.str.contains(\"인턴 1회,\")==True].index,[\"경험사항\"]]=four[four.str.contains(\"인턴 1회,\")==True]"
   ]
  },
  {
   "cell_type": "code",
   "execution_count": 111,
   "metadata": {},
   "outputs": [],
   "source": [
    "four[four.str.contains(\"인턴 1회,\")==True]=\"\""
   ]
  },
  {
   "cell_type": "code",
   "execution_count": 112,
   "metadata": {},
   "outputs": [
    {
     "data": {
      "text/plain": [
       "6331     인턴 1회\\n\\n봉사 및 대외활동 약 5회\n",
       "6561     인턴 1회\\n\\n봉사 및 대외활동 약 5회\n",
       "Name: 3, dtype: object"
      ]
     },
     "execution_count": 112,
     "metadata": {},
     "output_type": "execute_result"
    }
   ],
   "source": [
    "four[four.str.contains(\"봉사 및 대외활동\")==True]"
   ]
  },
  {
   "cell_type": "code",
   "execution_count": 113,
   "metadata": {},
   "outputs": [],
   "source": [
    "df.at[four[four.str.contains(\"봉사 및 대외활동\")==True].index,[\"경험사항\"]]=four[four.str.contains(\"봉사 및 대외활동\")==True]"
   ]
  },
  {
   "cell_type": "code",
   "execution_count": 114,
   "metadata": {},
   "outputs": [],
   "source": [
    "four[four.str.contains(\"봉사 및 대외활동\")==True]=\"\""
   ]
  },
  {
   "cell_type": "code",
   "execution_count": 115,
   "metadata": {},
   "outputs": [
    {
     "data": {
      "text/plain": [
       "6941     봉사 1년, 경력 1년\n",
       "7163     봉사 1년, 경력 1년\n",
       "Name: 3, dtype: object"
      ]
     },
     "execution_count": 115,
     "metadata": {},
     "output_type": "execute_result"
    }
   ],
   "source": [
    "four[four.str.contains(\"봉사 1년, 경\")==True]"
   ]
  },
  {
   "cell_type": "code",
   "execution_count": 116,
   "metadata": {},
   "outputs": [],
   "source": [
    "df.at[four[four.str.contains(\"봉사 1년, 경\")==True].index,[\"경험사항\"]]=four[four.str.contains(\"봉사 1년, 경\")==True]"
   ]
  },
  {
   "cell_type": "code",
   "execution_count": 117,
   "metadata": {},
   "outputs": [],
   "source": [
    "four[four.str.contains(\"봉사 1년, 경\")==True]=\"\""
   ]
  },
  {
   "cell_type": "code",
   "execution_count": 118,
   "metadata": {},
   "outputs": [
    {
     "data": {
      "text/plain": [
       "7191     봉사 1\n",
       "7206     봉사 1\n",
       "7207     봉사 1\n",
       "Name: 3, dtype: object"
      ]
     },
     "execution_count": 118,
     "metadata": {},
     "output_type": "execute_result"
    }
   ],
   "source": [
    "four[four.str.contains(\"봉사 1$\")==True]"
   ]
  },
  {
   "cell_type": "code",
   "execution_count": 119,
   "metadata": {},
   "outputs": [],
   "source": [
    "df.at[four[four.str.contains(\"봉사 1$\")==True].index,[\"경험사항\"]]=four[four.str.contains(\"봉사 1$\")==True]"
   ]
  },
  {
   "cell_type": "code",
   "execution_count": 120,
   "metadata": {},
   "outputs": [],
   "source": [
    "four[four.str.contains(\"봉사 1$\")==True]=\"\""
   ]
  },
  {
   "cell_type": "code",
   "execution_count": 121,
   "metadata": {},
   "outputs": [
    {
     "data": {
      "text/plain": [
       "8159      봉사활동 100시간\n",
       "8422      봉사활동 100시간\n",
       "8442      봉사활동 100시간\n",
       "10091     봉사활동 100시간\n",
       "Name: 3, dtype: object"
      ]
     },
     "execution_count": 121,
     "metadata": {},
     "output_type": "execute_result"
    }
   ],
   "source": [
    "four[four.str.contains(\"봉사활동 100\")==True]"
   ]
  },
  {
   "cell_type": "code",
   "execution_count": 122,
   "metadata": {},
   "outputs": [],
   "source": [
    "df.at[four[four.str.contains(\"봉사활동 100\")==True].index,[\"경험사항\"]]=four[four.str.contains(\"봉사활동 100\")==True]"
   ]
  },
  {
   "cell_type": "code",
   "execution_count": 123,
   "metadata": {},
   "outputs": [],
   "source": [
    "four[four.str.contains(\"봉사활동 100\")==True]=\"\""
   ]
  },
  {
   "cell_type": "code",
   "execution_count": 124,
   "metadata": {},
   "outputs": [
    {
     "data": {
      "text/plain": [
       "1591     봉사활동 다수, 공모전 입상 2회\n",
       "7558               봉사활동 다수.\n",
       "Name: 3, dtype: object"
      ]
     },
     "execution_count": 124,
     "metadata": {},
     "output_type": "execute_result"
    }
   ],
   "source": [
    "four[four.str.contains(\"봉사활동 다수.\")==True]"
   ]
  },
  {
   "cell_type": "code",
   "execution_count": 125,
   "metadata": {},
   "outputs": [],
   "source": [
    "df.at[four[four.str.contains(\"봉사활동 다수.\")==True].index,[\"경험사항\"]]=four[four.str.contains(\"봉사활동 다수.\")==True]"
   ]
  },
  {
   "cell_type": "code",
   "execution_count": 126,
   "metadata": {},
   "outputs": [],
   "source": [
    "four[four.str.contains(\"봉사활동 다수.\")==True]=\"\""
   ]
  },
  {
   "cell_type": "code",
   "execution_count": 127,
   "metadata": {},
   "outputs": [
    {
     "data": {
      "text/plain": [
       "6327     봉사활동 다수\n",
       "Name: 3, dtype: object"
      ]
     },
     "execution_count": 127,
     "metadata": {},
     "output_type": "execute_result"
    }
   ],
   "source": [
    "four[four.str.contains(\"봉사활동 다\")==True]"
   ]
  },
  {
   "cell_type": "code",
   "execution_count": 128,
   "metadata": {},
   "outputs": [],
   "source": [
    "df.at[four[four.str.contains(\"봉사활동 다\")==True].index,[\"경험사항\"]]=four[four.str.contains(\"봉사활동 다\")==True]"
   ]
  },
  {
   "cell_type": "code",
   "execution_count": 129,
   "metadata": {},
   "outputs": [],
   "source": [
    "four[four.str.contains(\"봉사활동 다\")==True]=\"\""
   ]
  },
  {
   "cell_type": "code",
   "execution_count": 130,
   "metadata": {},
   "outputs": [
    {
     "data": {
      "text/plain": [
       "7315     해외봉사활동 1회\n",
       "7380     해외봉사활동 1회\n",
       "Name: 3, dtype: object"
      ]
     },
     "execution_count": 130,
     "metadata": {},
     "output_type": "execute_result"
    }
   ],
   "source": [
    "four[four.str.contains(\"해외봉사활동 \")==True]"
   ]
  },
  {
   "cell_type": "code",
   "execution_count": 131,
   "metadata": {},
   "outputs": [],
   "source": [
    "df.at[four[four.str.contains(\"해외봉사활동 \")==True].index,[\"경험사항\"]]=four[four.str.contains(\"해외봉사활동 \")==True]"
   ]
  },
  {
   "cell_type": "code",
   "execution_count": 132,
   "metadata": {},
   "outputs": [],
   "source": [
    "four[four.str.contains(\"해외봉사활동 \")==True]=\"\""
   ]
  },
  {
   "cell_type": "code",
   "execution_count": 133,
   "metadata": {},
   "outputs": [
    {
     "data": {
      "text/plain": [
       "23       아프리카 해외봉사 1년, 소상공인 경영지원 프로그램 3개월, 컴퓨터활용능력 1급,...\n",
       "48       아프리카 해외봉사 1년, 소상공인 경영지원 프로그램 3개월, 컴퓨터활용능력 1급,...\n",
       "79       아프리카 해외봉사 1년, 소상공인 경영지원 프로그램 3개월, 컴퓨터활용능력 1급,...\n",
       "90       아프리카 해외봉사 1년, 소상공인 경영지원 프로그램 3개월, 컴퓨터활용능력 1급,...\n",
       "109      아프리카 해외봉사 1년, 소상공인 경영지원 프로그램 3개월, 컴퓨터활용능력 1급,...\n",
       "129      아프리카 해외봉사 1년, 소상공인 경영지원 프로그램 3개월, 컴퓨터활용능력 1급,...\n",
       "280              컴퓨터활용능력 1급, 한국사 1급, 유앤트레블 인턴, 말레이시아 해외봉사\n",
       "356              컴퓨터활용능력 1급, 한국사 1급, 유앤트레블 인턴, 말레이시아 해외봉사\n",
       "376              컴퓨터활용능력 1급, 한국사 1급, 유앤트레블 인턴, 말레이시아 해외봉사\n",
       "384                    말레이시아 해외봉사 유앤트레블 인턴, 컴활 1급, 한국사 1급\n",
       "451                     말레이시아 해외봉사 유앤트레블 인턴, 컴활1급, 한국사1급 \n",
       "537                     말레이시아 해외봉사 유앤트레블 인턴, 컴활1급, 한국사1급 \n",
       "669        한국사1급, 말레이시아 해외봉사, 컴퓨터활용능력 1급, 일본 해외봉사, 여행사 인턴\n",
       "1705     차세대 에너지 융합 기술 경진대회 우수상, 전북대학교 문화인재 청년 웅비상, 해외...\n",
       "1841     차세대 에너지 융합 기술 경진대회 우수상, 전북대학교 문화인재 청년 웅비상, 해외...\n",
       "1878     차세대 에너지 융합 기술 경진대회 우수상, 전북대학교 문화인재 청년 웅비상, 해외...\n",
       "2240         공모전 1회, 인턴 0회, 대외활동은 동아리3개, 번역봉사, 해외봉사, 교육봉사\n",
       "2398         공모전 1회, 인턴 0회, 대외활동은 동아리3개, 번역봉사, 해외봉사, 교육봉사\n",
       "2418         공모전 1회, 인턴 0회, 대외활동은 동아리3개, 번역봉사, 해외봉사, 교육봉사\n",
       "2420         공모전 1회, 인턴 0회, 대외활동은 동아리3개, 번역봉사, 해외봉사, 교육봉사\n",
       "2734          정보처리기사, 금융교육봉사활동(4개월), 금융권대외활동(4개월), 해외봉사활동\n",
       "2803     차세대 에너지 융합 기술 경진대회 우수상, 전북대학교 문화인재 청년 웅비상, 해외...\n",
       "2863          정보처리기사, 금융교육봉사활동(4개월), 금융권대외활동(4개월), 해외봉사활동\n",
       "2883          정보처리기사, 금융교육봉사활동(4개월), 금융권대외활동(4개월), 해외봉사활동\n",
       "2929     차세대 에너지 융합 기술 경진대회 우수상, 전북대학교 문화인재 청년 웅비상, 해외...\n",
       "4628                                        하나은행 인턴, 해외봉사\n",
       "4788                                        하나은행 인턴, 해외봉사\n",
       "4957                                      해피무브, 캄보디아 해외봉사\n",
       "4977                                      해피무브, 캄보디아 해외봉사\n",
       "5127                                      해피무브, 캄보디아 해외봉사\n",
       "6723                             해외봉사 2회, 국내봉사 2회, 동아리 회장\n",
       "6962                             해외봉사 2회, 국내봉사 2회, 동아리 회장\n",
       "9556                                                해외봉사 \n",
       "Name: 3, dtype: object"
      ]
     },
     "execution_count": 133,
     "metadata": {},
     "output_type": "execute_result"
    }
   ],
   "source": [
    "four[four.str.contains(\"해외봉사\")==True]"
   ]
  },
  {
   "cell_type": "code",
   "execution_count": 134,
   "metadata": {},
   "outputs": [
    {
     "data": {
      "text/plain": [
       "2240     공모전 1회, 인턴 0회, 대외활동은 동아리3개, 번역봉사, 해외봉사, 교육봉사\n",
       "2398     공모전 1회, 인턴 0회, 대외활동은 동아리3개, 번역봉사, 해외봉사, 교육봉사\n",
       "2418     공모전 1회, 인턴 0회, 대외활동은 동아리3개, 번역봉사, 해외봉사, 교육봉사\n",
       "2420     공모전 1회, 인턴 0회, 대외활동은 동아리3개, 번역봉사, 해외봉사, 교육봉사\n",
       "Name: 3, dtype: object"
      ]
     },
     "execution_count": 134,
     "metadata": {},
     "output_type": "execute_result"
    }
   ],
   "source": [
    "four[four.str.contains(\"번역봉사\")==True]"
   ]
  },
  {
   "cell_type": "code",
   "execution_count": 135,
   "metadata": {},
   "outputs": [],
   "source": [
    "df.at[four[four.str.contains(\"번역봉사\")==True].index,[\"경험사항\"]]=four[four.str.contains(\"번역봉사\")==True]"
   ]
  },
  {
   "cell_type": "code",
   "execution_count": 136,
   "metadata": {},
   "outputs": [],
   "source": [
    "four[four.str.contains(\"번역봉사\")==True]=\"\""
   ]
  },
  {
   "cell_type": "code",
   "execution_count": 137,
   "metadata": {},
   "outputs": [
    {
     "data": {
      "text/plain": [
       "4957     해피무브, 캄보디아 해외봉사\n",
       "4977     해피무브, 캄보디아 해외봉사\n",
       "5127     해피무브, 캄보디아 해외봉사\n",
       "Name: 3, dtype: object"
      ]
     },
     "execution_count": 137,
     "metadata": {},
     "output_type": "execute_result"
    }
   ],
   "source": [
    "four[four.str.contains(\"해피무브,\")==True]"
   ]
  },
  {
   "cell_type": "code",
   "execution_count": 138,
   "metadata": {},
   "outputs": [],
   "source": [
    "df.at[four[four.str.contains(\"해피무브,\")==True].index,[\"경험사항\"]]=four[four.str.contains(\"해피무브,\")==True]"
   ]
  },
  {
   "cell_type": "code",
   "execution_count": 139,
   "metadata": {},
   "outputs": [],
   "source": [
    "four[four.str.contains(\"해피무브,\")==True]=\"\""
   ]
  },
  {
   "cell_type": "code",
   "execution_count": 140,
   "metadata": {},
   "outputs": [
    {
     "data": {
      "text/plain": [
       "4628     하나은행 인턴, 해외봉사\n",
       "4788     하나은행 인턴, 해외봉사\n",
       "Name: 3, dtype: object"
      ]
     },
     "execution_count": 140,
     "metadata": {},
     "output_type": "execute_result"
    }
   ],
   "source": [
    "four[four.str.contains(\"하나은행\")==True]"
   ]
  },
  {
   "cell_type": "code",
   "execution_count": 141,
   "metadata": {},
   "outputs": [],
   "source": [
    "df.at[four[four.str.contains(\"하나은행\")==True].index,[\"경험사항\"]]=four[four.str.contains(\"하나은행\")==True]"
   ]
  },
  {
   "cell_type": "code",
   "execution_count": 142,
   "metadata": {},
   "outputs": [],
   "source": [
    "four[four.str.contains(\"하나은행\")==True]=\"\""
   ]
  },
  {
   "cell_type": "code",
   "execution_count": 143,
   "metadata": {},
   "outputs": [
    {
     "data": {
      "text/plain": [
       "2186       인턴 2, 봉사 2, 공모전 4 \n",
       "2345       인턴 2, 봉사 2, 공모전 4 \n",
       "5836     창업, 공모전 4회 수상, 인턴 2회\n",
       "6065     창업, 공모전 4회 수상, 인턴 2회\n",
       "Name: 3, dtype: object"
      ]
     },
     "execution_count": 143,
     "metadata": {},
     "output_type": "execute_result"
    }
   ],
   "source": [
    "four[four.str.contains(\"공모전 4\")==True]"
   ]
  },
  {
   "cell_type": "code",
   "execution_count": 144,
   "metadata": {},
   "outputs": [],
   "source": [
    "df.at[four[four.str.contains(\"공모전 4\")==True].index,[\"경험사항\"]]=four[four.str.contains(\"공모전 4\")==True]"
   ]
  },
  {
   "cell_type": "code",
   "execution_count": 145,
   "metadata": {},
   "outputs": [],
   "source": [
    "four[four.str.contains(\"공모전 4\")==True]=\"\""
   ]
  },
  {
   "cell_type": "code",
   "execution_count": 146,
   "metadata": {},
   "outputs": [
    {
     "data": {
      "text/plain": [
       "1885     봉사활동 1회, 공모전 1회\n",
       "2028     봉사활동 1회, 공모전 1회\n",
       "2048     봉사활동 1회, 공모전 1회\n",
       "Name: 3, dtype: object"
      ]
     },
     "execution_count": 146,
     "metadata": {},
     "output_type": "execute_result"
    }
   ],
   "source": [
    "four[four.str.contains(\"봉사활동 1회,\")==True]"
   ]
  },
  {
   "cell_type": "code",
   "execution_count": 147,
   "metadata": {},
   "outputs": [],
   "source": [
    "df.at[four[four.str.contains(\"봉사활동 1회,\")==True].index,[\"경험사항\"]]=four[four.str.contains(\"봉사활동 1회,\")==True]"
   ]
  },
  {
   "cell_type": "code",
   "execution_count": 148,
   "metadata": {},
   "outputs": [],
   "source": [
    "four[four.str.contains(\"봉사활동 1회,\")==True]=\"\""
   ]
  },
  {
   "cell_type": "code",
   "execution_count": 149,
   "metadata": {},
   "outputs": [
    {
     "data": {
      "text/plain": [
       "7300     봉사활동 경험 많음 : 노숙자 봉사, 입양어린이 등, 등교내 에세이, 수학경시대회...\n",
       "7346     봉사활동 경험 많음 : 노숙자 봉사, 입양어린이 등, 등교내 에세이, 수학경시대회...\n",
       "7366     봉사활동 경험 많음 : 노숙자 봉사, 입양어린이 등, 등교내 에세이, 수학경시대회...\n",
       "Name: 3, dtype: object"
      ]
     },
     "execution_count": 149,
     "metadata": {},
     "output_type": "execute_result"
    }
   ],
   "source": [
    "four[four.str.contains(\"봉사활동 경험\")==True]"
   ]
  },
  {
   "cell_type": "code",
   "execution_count": 150,
   "metadata": {},
   "outputs": [],
   "source": [
    "df.at[four[four.str.contains(\"봉사활동 경험\")==True].index,[\"경험사항\"]]=four[four.str.contains(\"봉사활동 경험\")==True]"
   ]
  },
  {
   "cell_type": "code",
   "execution_count": 151,
   "metadata": {},
   "outputs": [],
   "source": [
    "four[four.str.contains(\"봉사활동 경험\")==True]=\"\""
   ]
  },
  {
   "cell_type": "code",
   "execution_count": 152,
   "metadata": {},
   "outputs": [
    {
     "data": {
      "text/plain": [
       "3547     인턴 3, 봉사활동 1, 공모전 2, 관련아르바이트 1, 동아리 2\n",
       "3569     인턴 3, 봉사활동 1, 공모전 2, 관련아르바이트 1, 동아리 2\n",
       "4168                                   봉사활동 1회\n",
       "4238                                   봉사활동 1회\n",
       "4258                                   봉사활동 1회\n",
       "4928                           인턴 2회 , 봉사활동 1회\n",
       "5078                           인턴 2회 , 봉사활동 1회\n",
       "5098                           인턴 2회 , 봉사활동 1회\n",
       "5361                                   봉사활동 1회\n",
       "5512                                   봉사활동 1회\n",
       "6904                              봉사활동 1, 인턴 1\n",
       "8240             모 금융사 영업 및 지역 선관위 인턴, 봉사활동 1회\n",
       "8476             모 금융사 영업 및 지역 선관위 인턴, 봉사활동 1회\n",
       "Name: 3, dtype: object"
      ]
     },
     "execution_count": 152,
     "metadata": {},
     "output_type": "execute_result"
    }
   ],
   "source": [
    "four[four.str.contains(\"봉사활동 1\")==True]"
   ]
  },
  {
   "cell_type": "code",
   "execution_count": 153,
   "metadata": {},
   "outputs": [],
   "source": [
    "df.at[four[four.str.contains(\"봉사활동 1\")==True].index,[\"경험사항\"]]=four[four.str.contains(\"봉사활동 1\")==True]"
   ]
  },
  {
   "cell_type": "code",
   "execution_count": 154,
   "metadata": {},
   "outputs": [],
   "source": [
    "four[four.str.contains(\"봉사활동 1\")==True]=\"\""
   ]
  },
  {
   "cell_type": "code",
   "execution_count": 155,
   "metadata": {},
   "outputs": [
    {
     "data": {
      "text/plain": [
       "1556     인턴 1년, 멘토링 봉사활동 2회(1년, 6개월)\n",
       "1576     인턴 1년, 멘토링 봉사활동 2회(1년, 6개월)\n",
       "1642     인턴 1년, 멘토링 봉사활동 2회(1년, 6개월)\n",
       "1788     인턴 1년, 멘토링 봉사활동 2회(1년, 6개월)\n",
       "1808     인턴 1년, 멘토링 봉사활동 2회(1년, 6개월)\n",
       "1903     인턴 1년, 멘토링 봉사활동 2회(1년, 6개월)\n",
       "1923     인턴 1년, 멘토링 봉사활동 2회(1년, 6개월)\n",
       "1996     인턴 1년, 멘토링 봉사활동 2회(1년, 6개월)\n",
       "2039     인턴 1년, 멘토링 봉사활동 2회(1년, 6개월)\n",
       "2059     인턴 1년, 멘토링 봉사활동 2회(1년, 6개월)\n",
       "2134     인턴 1년, 멘토링 봉사활동 2회(1년, 6개월)\n",
       "2783     인턴 1년, 멘토링 봉사활동 2회(1년, 6개월)\n",
       "2913     인턴 1년, 멘토링 봉사활동 2회(1년, 6개월)\n",
       "3367     인턴 1년, 멘토링 봉사활동 2회(1년, 6개월)\n",
       "3483     인턴 1년, 멘토링 봉사활동 2회(1년, 6개월)\n",
       "Name: 3, dtype: object"
      ]
     },
     "execution_count": 155,
     "metadata": {},
     "output_type": "execute_result"
    }
   ],
   "source": [
    "four[four.str.contains(\"멘토링 봉사활동 2\")==True]"
   ]
  },
  {
   "cell_type": "code",
   "execution_count": 156,
   "metadata": {},
   "outputs": [],
   "source": [
    "df.at[four[four.str.contains(\"멘토링 봉사활동 2\")==True].index,[\"경험사항\"]]=four[four.str.contains(\"멘토링 봉사활동 2\")==True]"
   ]
  },
  {
   "cell_type": "code",
   "execution_count": 157,
   "metadata": {},
   "outputs": [],
   "source": [
    "four[four.str.contains(\"멘토링 봉사활동 2\")==True]=\"\""
   ]
  },
  {
   "cell_type": "code",
   "execution_count": 158,
   "metadata": {},
   "outputs": [
    {
     "data": {
      "text/plain": [
       "1974     인턴2회\\n\\n봉사활동 90시간\\n\\n대외활동 1회\n",
       "2117     인턴2회\\n\\n봉사활동 90시간\\n\\n대외활동 1회\n",
       "Name: 3, dtype: object"
      ]
     },
     "execution_count": 158,
     "metadata": {},
     "output_type": "execute_result"
    }
   ],
   "source": [
    "four[four.str.contains(\"봉사활동 90\")==True]"
   ]
  },
  {
   "cell_type": "code",
   "execution_count": 159,
   "metadata": {},
   "outputs": [],
   "source": [
    "df.at[four[four.str.contains(\"봉사활동 90\")==True].index,[\"경험사항\"]]=four[four.str.contains(\"봉사활동 90\")==True]"
   ]
  },
  {
   "cell_type": "code",
   "execution_count": 160,
   "metadata": {},
   "outputs": [],
   "source": [
    "four[four.str.contains(\"봉사활동 90\")==True]=\"\""
   ]
  },
  {
   "cell_type": "code",
   "execution_count": 161,
   "metadata": {},
   "outputs": [
    {
     "data": {
      "text/plain": [
       "7443     봉사활동, 알바\n",
       "7533     봉사활동, 알바\n",
       "Name: 3, dtype: object"
      ]
     },
     "execution_count": 161,
     "metadata": {},
     "output_type": "execute_result"
    }
   ],
   "source": [
    "four[four.str.contains(\"봉사활동, 알바\")==True]"
   ]
  },
  {
   "cell_type": "code",
   "execution_count": 162,
   "metadata": {},
   "outputs": [],
   "source": [
    "df.at[four[four.str.contains(\"봉사활동, 알바\")==True].index,[\"경험사항\"]]=four[four.str.contains(\"봉사활동, 알바\")==True]"
   ]
  },
  {
   "cell_type": "code",
   "execution_count": 163,
   "metadata": {},
   "outputs": [],
   "source": [
    "four[four.str.contains(\"봉사활동, 알바\")==True]=\"\""
   ]
  },
  {
   "cell_type": "code",
   "execution_count": 164,
   "metadata": {},
   "outputs": [
    {
     "data": {
      "text/plain": [
       "1393     인턴, 대외활동, 봉사활동, 공모전, 자격증\n",
       "3706                    봉사활동, 공모전\n",
       "3808                    봉사활동, 공모전\n",
       "5029             은행 1회, 봉사활동, 공모전\n",
       "6353            아르바이트, 봉사활동, 대외활동\n",
       "6398                봉사활동, 인턴경험 2회\n",
       "6418                봉사활동, 인턴경험 2회\n",
       "6541            아르바이트, 봉사활동, 대외활동\n",
       "6627                봉사활동, 인턴경험 2회\n",
       "6647                봉사활동, 인턴경험 2회\n",
       "7756                     봉사활동, 인턴\n",
       "7783                     봉사활동, 인턴\n",
       "Name: 3, dtype: object"
      ]
     },
     "execution_count": 164,
     "metadata": {},
     "output_type": "execute_result"
    }
   ],
   "source": [
    "four[four.str.contains(\"봉사활동, \")==True]"
   ]
  },
  {
   "cell_type": "code",
   "execution_count": 165,
   "metadata": {},
   "outputs": [],
   "source": [
    "df.at[four[four.str.contains(\"봉사활동, \")==True].index,[\"경험사항\"]]=four[four.str.contains(\"봉사활동, \")==True]"
   ]
  },
  {
   "cell_type": "code",
   "execution_count": 166,
   "metadata": {},
   "outputs": [],
   "source": [
    "four[four.str.contains(\"봉사활동, \")==True]=\"\""
   ]
  },
  {
   "cell_type": "code",
   "execution_count": 167,
   "metadata": {},
   "outputs": [
    {
     "data": {
      "text/plain": [
       "6872     봉사활동 3회\n",
       "6892     봉사활동 3회\n",
       "7102     봉사활동 3회\n",
       "7122     봉사활동 3회\n",
       "Name: 3, dtype: object"
      ]
     },
     "execution_count": 167,
     "metadata": {},
     "output_type": "execute_result"
    }
   ],
   "source": [
    "four[four.str.contains(\"봉사활동 3회\")==True]"
   ]
  },
  {
   "cell_type": "code",
   "execution_count": 168,
   "metadata": {},
   "outputs": [],
   "source": [
    "df.at[four[four.str.contains(\"봉사활동 3회\")==True].index,[\"경험사항\"]]=four[four.str.contains(\"봉사활동 3회\")==True]"
   ]
  },
  {
   "cell_type": "code",
   "execution_count": 169,
   "metadata": {},
   "outputs": [],
   "source": [
    "four[four.str.contains(\"봉사활동 3회\")==True]=\"\""
   ]
  },
  {
   "cell_type": "code",
   "execution_count": 170,
   "metadata": {},
   "outputs": [
    {
     "data": {
      "text/plain": [
       "3391     봉사활동 2년, 동종업계 정규직 2년\n",
       "3411     봉사활동 2년, 동종업계 정규직 2년\n",
       "3509     봉사활동 2년, 동종업계 정규직 2년\n",
       "3529     봉사활동 2년, 동종업계 정규직 2년\n",
       "Name: 3, dtype: object"
      ]
     },
     "execution_count": 170,
     "metadata": {},
     "output_type": "execute_result"
    }
   ],
   "source": [
    "four[four.str.contains(\"봉사활동 2년\")==True]"
   ]
  },
  {
   "cell_type": "code",
   "execution_count": 171,
   "metadata": {},
   "outputs": [],
   "source": [
    "df.at[four[four.str.contains(\"봉사활동 2년\")==True].index,[\"경험사항\"]]=four[four.str.contains(\"봉사활동 2년\")==True]"
   ]
  },
  {
   "cell_type": "code",
   "execution_count": 172,
   "metadata": {},
   "outputs": [],
   "source": [
    "four[four.str.contains(\"봉사활동 2년\")==True]=\"\""
   ]
  },
  {
   "cell_type": "code",
   "execution_count": 173,
   "metadata": {},
   "outputs": [
    {
     "data": {
      "text/plain": [
       "4101     인턴2, 봉사활동 및 대외활동 다수\n",
       "4121     인턴2, 봉사활동 및 대외활동 다수\n",
       "Name: 3, dtype: object"
      ]
     },
     "execution_count": 173,
     "metadata": {},
     "output_type": "execute_result"
    }
   ],
   "source": [
    "four[four.str.contains(\"봉사활동 및\")==True]"
   ]
  },
  {
   "cell_type": "code",
   "execution_count": 174,
   "metadata": {},
   "outputs": [],
   "source": [
    "df.at[four[four.str.contains(\"봉사활동 및\")==True].index,[\"경험사항\"]]=four[four.str.contains(\"봉사활동 및\")==True]"
   ]
  },
  {
   "cell_type": "code",
   "execution_count": 175,
   "metadata": {},
   "outputs": [],
   "source": [
    "four[four.str.contains(\"봉사활동 및\")==True]=\"\""
   ]
  },
  {
   "cell_type": "code",
   "execution_count": 176,
   "metadata": {},
   "outputs": [
    {
     "data": {
      "text/plain": [
       "7326     인턴 1개월, 대외활동 3, 봉사활동 동행\n",
       "7390     인턴 1개월, 대외활동 3, 봉사활동 동행\n",
       "Name: 3, dtype: object"
      ]
     },
     "execution_count": 176,
     "metadata": {},
     "output_type": "execute_result"
    }
   ],
   "source": [
    "four[four.str.contains(\"봉사활동 동행\")==True]"
   ]
  },
  {
   "cell_type": "code",
   "execution_count": 177,
   "metadata": {},
   "outputs": [],
   "source": [
    "df.at[four[four.str.contains(\"봉사활동 동행\")==True].index,[\"경험사항\"]]=four[four.str.contains(\"봉사활동 동행\")==True]"
   ]
  },
  {
   "cell_type": "code",
   "execution_count": 178,
   "metadata": {},
   "outputs": [],
   "source": [
    "four[four.str.contains(\"봉사활동 동행\")==True]=\"\""
   ]
  },
  {
   "cell_type": "code",
   "execution_count": 179,
   "metadata": {},
   "outputs": [
    {
     "data": {
      "text/plain": [
       "7330     산학협력1회, 봉사활동 , NGO활동,\n",
       "7394     산학협력1회, 봉사활동 , NGO활동,\n",
       "Name: 3, dtype: object"
      ]
     },
     "execution_count": 179,
     "metadata": {},
     "output_type": "execute_result"
    }
   ],
   "source": [
    "four[four.str.contains(\"봉사활동 ,\")==True]"
   ]
  },
  {
   "cell_type": "code",
   "execution_count": 180,
   "metadata": {},
   "outputs": [],
   "source": [
    "df.at[four[four.str.contains(\"봉사활동 ,\")==True].index,[\"경험사항\"]]=four[four.str.contains(\"봉사활동 ,\")==True]"
   ]
  },
  {
   "cell_type": "code",
   "execution_count": 181,
   "metadata": {},
   "outputs": [],
   "source": [
    "four[four.str.contains(\"봉사활동 ,\")==True]=\"\""
   ]
  },
  {
   "cell_type": "code",
   "execution_count": 182,
   "metadata": {},
   "outputs": [
    {
     "data": {
      "text/plain": [
       "3587     인턴3, 대외활동 1, 자격증 2, 봉사활동 3\n",
       "3603     인턴3, 대외활동 1, 자격증 2, 봉사활동 3\n",
       "5838                 대외활동 3, 봉사활동 3\n",
       "6069                 대외활동 3, 봉사활동 3\n",
       "Name: 3, dtype: object"
      ]
     },
     "execution_count": 182,
     "metadata": {},
     "output_type": "execute_result"
    }
   ],
   "source": [
    "four[four.str.contains(\"봉사활동 3\")==True]"
   ]
  },
  {
   "cell_type": "code",
   "execution_count": 183,
   "metadata": {},
   "outputs": [],
   "source": [
    "df.at[four[four.str.contains(\"봉사활동 3\")==True].index,[\"경험사항\"]]=four[four.str.contains(\"봉사활동 3\")==True]"
   ]
  },
  {
   "cell_type": "code",
   "execution_count": 184,
   "metadata": {},
   "outputs": [],
   "source": [
    "four[four.str.contains(\"봉사활동 3\")==True]=\"\""
   ]
  },
  {
   "cell_type": "code",
   "execution_count": 185,
   "metadata": {},
   "outputs": [
    {
     "data": {
      "text/plain": [
       "4935     봉사활동 2번\n",
       "5108     봉사활동 2번\n",
       "Name: 3, dtype: object"
      ]
     },
     "execution_count": 185,
     "metadata": {},
     "output_type": "execute_result"
    }
   ],
   "source": [
    "four[four.str.contains(\"봉사활동 2번$\")==True]"
   ]
  },
  {
   "cell_type": "code",
   "execution_count": 186,
   "metadata": {},
   "outputs": [],
   "source": [
    "df.at[four[four.str.contains(\"봉사활동 2번$\")==True].index,[\"경험사항\"]]=four[four.str.contains(\"봉사활동 2번$\")==True]"
   ]
  },
  {
   "cell_type": "code",
   "execution_count": 187,
   "metadata": {},
   "outputs": [],
   "source": [
    "four[four.str.contains(\"봉사활동 2번$\")==True]=\"\""
   ]
  },
  {
   "cell_type": "code",
   "execution_count": 188,
   "metadata": {},
   "outputs": [
    {
     "data": {
      "text/plain": [
       "4410     인턴 2회, 봉사활동 2회(해외,국내), 대외활동서포터즈 3회\n",
       "4433     인턴 2회, 봉사활동 2회(해외,국내), 대외활동서포터즈 3회\n",
       "Name: 3, dtype: object"
      ]
     },
     "execution_count": 188,
     "metadata": {},
     "output_type": "execute_result"
    }
   ],
   "source": [
    "four[four.str.contains(\"봉사활동 2회\")==True]"
   ]
  },
  {
   "cell_type": "code",
   "execution_count": 189,
   "metadata": {},
   "outputs": [],
   "source": [
    "df.at[four[four.str.contains(\"봉사활동 2회\")==True].index,[\"경험사항\"]]=four[four.str.contains(\"봉사활동 2회\")==True]"
   ]
  },
  {
   "cell_type": "code",
   "execution_count": 190,
   "metadata": {},
   "outputs": [],
   "source": [
    "four[four.str.contains(\"봉사활동 2회\")==True]=\"\""
   ]
  },
  {
   "cell_type": "code",
   "execution_count": 191,
   "metadata": {},
   "outputs": [
    {
     "data": {
      "text/plain": [
       "4477     인턴 2회, 대외봉사 및 봉사활동 6회\n",
       "4497     인턴 2회, 대외봉사 및 봉사활동 6회\n",
       "Name: 3, dtype: object"
      ]
     },
     "execution_count": 191,
     "metadata": {},
     "output_type": "execute_result"
    }
   ],
   "source": [
    "four[four.str.contains(\"봉사활동 6\")==True]"
   ]
  },
  {
   "cell_type": "code",
   "execution_count": 192,
   "metadata": {},
   "outputs": [],
   "source": [
    "df.at[four[four.str.contains(\"봉사활동 6\")==True].index,[\"경험사항\"]]=four[four.str.contains(\"봉사활동 6\")==True]"
   ]
  },
  {
   "cell_type": "code",
   "execution_count": 193,
   "metadata": {},
   "outputs": [],
   "source": [
    "four[four.str.contains(\"봉사활동 6\")==True]=\"\""
   ]
  },
  {
   "cell_type": "code",
   "execution_count": 194,
   "metadata": {},
   "outputs": [
    {
     "data": {
      "text/plain": [
       "5580     자격증1, 봉사활동 2, 증권회사 아르바이트\n",
       "5610     자격증1, 봉사활동 2, 증권회사 아르바이트\n",
       "Name: 3, dtype: object"
      ]
     },
     "execution_count": 194,
     "metadata": {},
     "output_type": "execute_result"
    }
   ],
   "source": [
    "four[four.str.contains(\"봉사활동 2,\")==True]"
   ]
  },
  {
   "cell_type": "code",
   "execution_count": 195,
   "metadata": {},
   "outputs": [],
   "source": [
    "df.at[four[four.str.contains(\"봉사활동 2,\")==True].index,[\"경험사항\"]]=four[four.str.contains(\"봉사활동 2,\")==True]"
   ]
  },
  {
   "cell_type": "code",
   "execution_count": 196,
   "metadata": {},
   "outputs": [],
   "source": [
    "four[four.str.contains(\"봉사활동 2,\")==True]=\"\""
   ]
  },
  {
   "cell_type": "code",
   "execution_count": 197,
   "metadata": {},
   "outputs": [
    {
     "data": {
      "text/plain": [
       "2666     봉사활동1회, 인턴2회\n",
       "2690     봉사활동1회, 인턴2회\n",
       "5865     대외활동1, 봉사활동1\n",
       "6097     대외활동1, 봉사활동1\n",
       "Name: 3, dtype: object"
      ]
     },
     "execution_count": 197,
     "metadata": {},
     "output_type": "execute_result"
    }
   ],
   "source": [
    "four[four.str.contains(\" 봉사활동1\")==True]"
   ]
  },
  {
   "cell_type": "code",
   "execution_count": 198,
   "metadata": {},
   "outputs": [],
   "source": [
    "df.at[four[four.str.contains(\" 봉사활동1\")==True].index,[\"경험사항\"]]=four[four.str.contains(\" 봉사활동1\")==True]"
   ]
  },
  {
   "cell_type": "code",
   "execution_count": 199,
   "metadata": {},
   "outputs": [],
   "source": [
    "four[four.str.contains(\" 봉사활동1\")==True]=\"\""
   ]
  },
  {
   "cell_type": "code",
   "execution_count": 200,
   "metadata": {},
   "outputs": [
    {
     "data": {
      "text/plain": [
       "92                               한국전력공사 체험형 인턴(2017 상반기) \n",
       "111                              한국전력공사 체험형 인턴(2017 상반기) \n",
       "131                              한국전력공사 체험형 인턴(2017 상반기) \n",
       "145                              한국전력공사 체험형 인턴(2017 상반기) \n",
       "147                              한국전력공사 체험형 인턴(2017 상반기) \n",
       "167                              한국전력공사 체험형 인턴(2017 상반기) \n",
       "172                              한국전력공사 체험형 인턴(2017 상반기) \n",
       "1881                             한국전력공사 체험형 인턴(2017 상반기) \n",
       "1895     정부부처 기자단(2015, 2016), 은행 홍보대사(2015~2016), 학과 ...\n",
       "1971     정부부처 기자단(2015, 2016), 은행 홍보대사(2015~2016), 학과 ...\n",
       "1981                             한국전력공사 체험형 인턴(2017 상반기) \n",
       "2037     정부부처 기자단(2015, 2016), 은행 홍보대사(2015~2016), 학과 ...\n",
       "2057     정부부처 기자단(2015, 2016), 은행 홍보대사(2015~2016), 학과 ...\n",
       "2102     정부부처 기자단(2015, 2016), 은행 홍보대사(2015~2016), 학과 ...\n",
       "2119     정부부처 기자단(2015, 2016), 은행 홍보대사(2015~2016), 학과 ...\n",
       "2120     정부부처 기자단(2015, 2016), 은행 홍보대사(2015~2016), 학과 ...\n",
       "2123                             한국전력공사 체험형 인턴(2017 상반기) \n",
       "2155     정부부처 기자단(2015, 2016), 은행 홍보대사(2015~2016), 학과 ...\n",
       "2175     정부부처 기자단(2015, 2016), 은행 홍보대사(2015~2016), 학과 ...\n",
       "2325     정부부처 기자단(2015, 2016), 은행 홍보대사(2015~2016), 학과 ...\n",
       "2488     정부부처 기자단(2015, 2016), 은행 홍보대사(2015~2016), 학과 ...\n",
       "2800     정부부처 기자단(2015, 2016), 은행 홍보대사(2015~2016), 학과 ...\n",
       "2802     정부부처 기자단(2015, 2016), 은행 홍보대사(2015~2016), 학과 ...\n",
       "2811                              한국전력공사체험형 인턴(2017 상반기) \n",
       "2844                             한국전력공사 체험형 인턴(2017 상반기) \n",
       "2928     정부부처 기자단(2015, 2016), 은행 홍보대사(2015~2016), 학과 ...\n",
       "2934     정부부처 기자단(2015, 2016), 은행 홍보대사(2015~2016), 학과 ...\n",
       "2942                              한국전력공사체험형 인턴(2017 상반기) \n",
       "2976                             한국전력공사 체험형 인턴(2017 상반기) \n",
       "3113     정부부처 기자단(2015, 2016), 은행 홍보대사(2015~2016), 학과 ...\n",
       "3121                             한국전력공사 체험형 인턴(2017 상반기) \n",
       "3209     정부부처 기자단(2015, 2016), 은행 홍보대사(2015~2016), 학과 ...\n",
       "3323     정부부처 기자단(2015, 2016), 은행 홍보대사(2015~2016), 학과 ...\n",
       "3352                             한국전력공사 체험형 인턴(2017 상반기) \n",
       "3392                             한국전력공사 체험형 인턴(2017 상반기) \n",
       "3412                             한국전력공사 체험형 인턴(2017 상반기) \n",
       "3433     정부부처 기자단(2015, 2016), 은행 홍보대사(2015~2016), 학과 ...\n",
       "3465                             한국전력공사 체험형 인턴(2017 상반기) \n",
       "3510                             한국전력공사 체험형 인턴(2017 상반기) \n",
       "3530                             한국전력공사 체험형 인턴(2017 상반기) \n",
       "Name: 3, dtype: object"
      ]
     },
     "execution_count": 200,
     "metadata": {},
     "output_type": "execute_result"
    }
   ],
   "source": [
    "four[four.str.contains(\"2017 상반기\")==True]"
   ]
  },
  {
   "cell_type": "code",
   "execution_count": 201,
   "metadata": {},
   "outputs": [],
   "source": [
    "df.at[four[four.str.contains(\"2017 상반기\")==True].index,[\"경험사항\"]]=four[four.str.contains(\"2017 상반기\")==True]"
   ]
  },
  {
   "cell_type": "code",
   "execution_count": 202,
   "metadata": {},
   "outputs": [],
   "source": [
    "four[four.str.contains(\"2017 상반기\")==True]=\"\""
   ]
  },
  {
   "cell_type": "code",
   "execution_count": 203,
   "metadata": {},
   "outputs": [
    {
     "data": {
      "text/plain": [
       "1595     지원 당시 회사 재직중(현대경제연구원 2016년~)\n",
       "1736     지원 당시 회사 재직중(현대경제연구원 2016년~)\n",
       "Name: 3, dtype: object"
      ]
     },
     "execution_count": 203,
     "metadata": {},
     "output_type": "execute_result"
    }
   ],
   "source": [
    "four[four.str.contains(\"지원 당시\")==True]"
   ]
  },
  {
   "cell_type": "code",
   "execution_count": 204,
   "metadata": {},
   "outputs": [],
   "source": [
    "df.at[four[four.str.contains(\"지원 당시\")==True].index,[\"경험사항\"]]=four[four.str.contains(\"지원 당시\")==True]"
   ]
  },
  {
   "cell_type": "code",
   "execution_count": 205,
   "metadata": {},
   "outputs": [],
   "source": [
    "four[four.str.contains(\"지원 당시\")==True]=\"\""
   ]
  },
  {
   "cell_type": "code",
   "execution_count": 206,
   "metadata": {},
   "outputs": [
    {
     "data": {
      "text/plain": [
       "1992     네이버 인턴\n",
       "2131     네이버 인턴\n",
       "Name: 3, dtype: object"
      ]
     },
     "execution_count": 206,
     "metadata": {},
     "output_type": "execute_result"
    }
   ],
   "source": [
    "four[four.str.contains(\"네이버\")==True]"
   ]
  },
  {
   "cell_type": "code",
   "execution_count": 207,
   "metadata": {},
   "outputs": [],
   "source": [
    "df.at[four[four.str.contains(\"네이버\")==True].index,[\"경험사항\"]]=four[four.str.contains(\"네이버\")==True]"
   ]
  },
  {
   "cell_type": "code",
   "execution_count": 208,
   "metadata": {},
   "outputs": [],
   "source": [
    "four[four.str.contains(\"네이버\")==True]=\"\""
   ]
  },
  {
   "cell_type": "code",
   "execution_count": 209,
   "metadata": {},
   "outputs": [
    {
     "data": {
      "text/plain": [
       "2003     이코르 동아리 1기 활동(11개월) \n",
       "2141     이코르 동아리 1기 활동(11개월) \n",
       "2161     이코르 동아리 1기 활동(11개월) \n",
       "Name: 3, dtype: object"
      ]
     },
     "execution_count": 209,
     "metadata": {},
     "output_type": "execute_result"
    }
   ],
   "source": [
    "four[four.str.contains(\"이코르\")==True]"
   ]
  },
  {
   "cell_type": "code",
   "execution_count": 210,
   "metadata": {},
   "outputs": [],
   "source": [
    "df.at[four[four.str.contains(\"이코르\")==True].index,[\"경험사항\"]]=four[four.str.contains(\"이코르\")==True]"
   ]
  },
  {
   "cell_type": "code",
   "execution_count": 211,
   "metadata": {},
   "outputs": [],
   "source": [
    "four[four.str.contains(\"이코르\")==True]=\"\""
   ]
  },
  {
   "cell_type": "code",
   "execution_count": 212,
   "metadata": {},
   "outputs": [
    {
     "data": {
      "text/plain": [
       "2190     연구원 4개월 인턴, 삼성 파운더리 사업부 체험의 장\n",
       "2350     연구원 4개월 인턴, 삼성 파운더리 사업부 체험의 장\n",
       "Name: 3, dtype: object"
      ]
     },
     "execution_count": 212,
     "metadata": {},
     "output_type": "execute_result"
    }
   ],
   "source": [
    "four[four.str.contains(\"연구원 4\")==True]"
   ]
  },
  {
   "cell_type": "code",
   "execution_count": 213,
   "metadata": {},
   "outputs": [],
   "source": [
    "df.at[four[four.str.contains(\"연구원 4\")==True].index,[\"경험사항\"]]=four[four.str.contains(\"연구원 4\")==True]"
   ]
  },
  {
   "cell_type": "code",
   "execution_count": 214,
   "metadata": {},
   "outputs": [],
   "source": [
    "four[four.str.contains(\"연구원 4\")==True]=\"\""
   ]
  },
  {
   "cell_type": "code",
   "execution_count": 215,
   "metadata": {},
   "outputs": [
    {
     "data": {
      "text/plain": [
       "4158     경력 - 연구원 인턴 4개월, 경영지원 3개월, 사무보조 3개월\\n\\n수상 - 공...\n",
       "4233     경력 - 연구원 인턴 4개월, 경영지원 3개월, 사무보조 3개월\\n\\n수상 - 공...\n",
       "4253     경력 - 연구원 인턴 4개월, 경영지원 3개월, 사무보조 3개월\\n\\n수상 - 공...\n",
       "Name: 3, dtype: object"
      ]
     },
     "execution_count": 215,
     "metadata": {},
     "output_type": "execute_result"
    }
   ],
   "source": [
    "four[four.str.contains(\"- 연구원 \")==True]"
   ]
  },
  {
   "cell_type": "code",
   "execution_count": 216,
   "metadata": {},
   "outputs": [],
   "source": [
    "df.at[four[four.str.contains(\"- 연구원 \")==True].index,[\"경험사항\"]]=four[four.str.contains(\"- 연구원 \")==True]"
   ]
  },
  {
   "cell_type": "code",
   "execution_count": 217,
   "metadata": {},
   "outputs": [],
   "source": [
    "four[four.str.contains(\"- 연구원 \")==True]=\"\""
   ]
  },
  {
   "cell_type": "code",
   "execution_count": 218,
   "metadata": {},
   "outputs": [
    {
     "data": {
      "text/plain": [
       "1582     교내 리모델링 연구단, 학부생 인턴 8개월, 한국건설관리협회 원가관리 경진대회 장...\n",
       "1724     교내 리모델링 연구단, 학부생 인턴 8개월, 한국건설관리협회 원가관리 경진대회 장...\n",
       "1877     교내 리모델링 연구단, 학부생 인턴 8개월, 한국건설관리협회 원가관리 경진대회 장...\n",
       "1949     교내 리모델링 연구단, 학부생 인턴 8개월, 한국건설관리협회 원가관리 경진대회 장...\n",
       "2088     교내 리모델링 연구단, 학부생 인턴 8개월, 한국건설관리협회 원가관리 경진대회 장...\n",
       "2196     교내 리모델링 연구단, 학부생 인턴 8개월, 한국건설관리협회 원가관리 경진대회 장...\n",
       "2272     교내 리모델링 연구단, 학부생 인턴 8개월, 한국건설관리협회 원가관리 경진대회 장...\n",
       "2292     교내 리모델링 연구단, 학부생 인턴 8개월, 한국건설관리협회 원가관리 경진대회 장...\n",
       "2356     교내 리모델링 연구단, 학부생 인턴 8개월, 한국건설관리협회 원가관리 경진대회 장...\n",
       "2447     교내 리모델링 연구단, 학부생 인턴 8개월, 한국건설관리협회 원가관리 경진대회 장...\n",
       "Name: 3, dtype: object"
      ]
     },
     "execution_count": 218,
     "metadata": {},
     "output_type": "execute_result"
    }
   ],
   "source": [
    "four[four.str.contains(\"교내 리모델링\")==True]"
   ]
  },
  {
   "cell_type": "code",
   "execution_count": 219,
   "metadata": {},
   "outputs": [],
   "source": [
    "df.at[four[four.str.contains(\"교내 리모델링\")==True].index,[\"경험사항\"]]=four[four.str.contains(\"교내 리모델링\")==True]"
   ]
  },
  {
   "cell_type": "code",
   "execution_count": 220,
   "metadata": {},
   "outputs": [],
   "source": [
    "four[four.str.contains(\"교내 리모델링\")==True]=\"\""
   ]
  },
  {
   "cell_type": "code",
   "execution_count": 221,
   "metadata": {},
   "outputs": [
    {
     "data": {
      "text/plain": [
       "1021     위험물산업기사, 수질환경기사, 대기환경기사\n",
       "2309     위험물산업기사, 수질환경기사, 대기환경기사\n",
       "2467     위험물산업기사, 수질환경기사, 대기환경기사\n",
       "Name: 3, dtype: object"
      ]
     },
     "execution_count": 221,
     "metadata": {},
     "output_type": "execute_result"
    }
   ],
   "source": [
    "four[four.str.contains(\"위험물산업기사, 수질\")==True]"
   ]
  },
  {
   "cell_type": "code",
   "execution_count": 222,
   "metadata": {},
   "outputs": [],
   "source": [
    "df.at[four[four.str.contains(\"위험물산업기사, 수질\")==True].index,[\"자격증\"]]=four[four.str.contains(\"위험물산업기사, 수질\")==True]"
   ]
  },
  {
   "cell_type": "code",
   "execution_count": 223,
   "metadata": {},
   "outputs": [],
   "source": [
    "four[four.str.contains(\"위험물산업기사, 수질\")==True]=\"\""
   ]
  },
  {
   "cell_type": "code",
   "execution_count": 224,
   "metadata": {},
   "outputs": [
    {
     "data": {
      "text/plain": [
       "9955     한솔PNS IT 서비스 사업부 인턴 2개월, 앱 개발 동아리, 이화앱센터 안드로이...\n",
       "Name: 3, dtype: object"
      ]
     },
     "execution_count": 224,
     "metadata": {},
     "output_type": "execute_result"
    }
   ],
   "source": [
    "four[four.str.contains(\"사업부\")==True]"
   ]
  },
  {
   "cell_type": "code",
   "execution_count": 225,
   "metadata": {},
   "outputs": [],
   "source": [
    "df.at[four[four.str.contains(\"사업부\")==True].index,[\"경험사항\"]]=four[four.str.contains(\"사업부\")==True]"
   ]
  },
  {
   "cell_type": "code",
   "execution_count": 226,
   "metadata": {},
   "outputs": [],
   "source": [
    "four[four.str.contains(\"사업부\")==True]=\"\""
   ]
  },
  {
   "cell_type": "code",
   "execution_count": 227,
   "metadata": {},
   "outputs": [
    {
     "data": {
      "text/plain": [
       "3100     인턴경험 없음, 대외활동, 동아리 경험 있음\n",
       "3203     인턴경험 없음, 대외활동, 동아리 경험 있음\n",
       "7786                      인턴경험 1회\n",
       "Name: 3, dtype: object"
      ]
     },
     "execution_count": 227,
     "metadata": {},
     "output_type": "execute_result"
    }
   ],
   "source": [
    "four[four.str.contains(\"인턴경험\")==True]"
   ]
  },
  {
   "cell_type": "code",
   "execution_count": 228,
   "metadata": {},
   "outputs": [],
   "source": [
    "df.at[four[four.str.contains(\"인턴경험\")==True].index,[\"경험사항\"]]=four[four.str.contains(\"인턴경험\")==True]"
   ]
  },
  {
   "cell_type": "code",
   "execution_count": 229,
   "metadata": {},
   "outputs": [],
   "source": [
    "four[four.str.contains(\"인턴경험\")==True]=\"\""
   ]
  },
  {
   "cell_type": "code",
   "execution_count": 230,
   "metadata": {},
   "outputs": [
    {
     "data": {
      "text/plain": [
       "71                       교내 캡스톤디자인 경진대회 2등, 한국사1급, 일반기계기사\n",
       "98                       교내 캡스톤디자인 경진대회 2등, 한국사1급, 일반기계기사\n",
       "221                          일반기계기사, 농촌진흥청 현장실습(2015 상반기)\n",
       "227      교내 봉사동아리 회장, 프랜차이즈 아르바이트 4년, 한국사 1급, 일반기계기사, ...\n",
       "241                          일반기계기사, 농촌진흥청 현장실습(2015 상반기)\n",
       "247      교내 봉사동아리 회장, 프랜차이즈 아르바이트 4년, 한국사 1급, 일반기계기사, ...\n",
       "272                             일반기계기사, 한국사1급, 자작자동차대회 수상\n",
       "273                             자작자동차대회 수상, 일반기계기사, 한국사1급\n",
       "274                             자작자동차대회 수상, 일반기계기사, 한국사1급\n",
       "277                                                일반기계기사\n",
       "315      교내 봉사동아리 회장, 프랜차이즈 아르바이트 4년, 한국사 1급, 일반기계기사, ...\n",
       "316                          일반기계기사, 농촌진흥청 현장실습(2015 상반기)\n",
       "345                             일반기계기사, 한국사1급, 자작자동차대회 수상\n",
       "350                             자작자동차대회 수상, 일반기계기사, 한국사1급\n",
       "352                             자작자동차대회 수상, 일반기계기사, 한국사1급\n",
       "353                                                일반기계기사\n",
       "365                             일반기계기사, 한국사1급, 자작자동차대회 수상\n",
       "370                             자작자동차대회 수상, 일반기계기사, 한국사1급\n",
       "372                             자작자동차대회 수상, 일반기계기사, 한국사1급\n",
       "373                                                일반기계기사\n",
       "412                                                일반기계기사\n",
       "427                             자작자동차대회 수상, 일반기계기사, 한국사1급\n",
       "446                             자작자동차대회 수상, 일반기계기사, 한국사1급\n",
       "507                             자작자동차대회 수상, 일반기계기사, 한국사1급\n",
       "532                             자작자동차대회 수상, 일반기계기사, 한국사1급\n",
       "1023                    교내 캡스톤디자인 경진대회 2등, 한국사 1급, 일반기계기사\n",
       "1040                    교내 캡스톤디자인 경진대회 2등, 한국사 1급, 일반기계기사\n",
       "1106                     교내 캡스톤디자인 경진대회 2등, 한국사1급, 일반기계기사\n",
       "1128                    교내 캡스톤디자인 경진대회 2등, 한국사 1급, 일반기계기사\n",
       "1182                     교내 캡스톤디자인 경진대회 2등, 한국사1급, 일반기계기사\n",
       "1202                     교내 캡스톤디자인 경진대회 2등, 한국사1급, 일반기계기사\n",
       "1278                         농촌진흥청 현장실습(2015 상반기), 일반기계기사\n",
       "1378                         농촌진흥청 현장실습(2015 상반기), 일반기계기사\n",
       "1559                                      일반기계기사, 식스시그마GB\n",
       "1579                                      일반기계기사, 식스시그마GB\n",
       "1726                                      일반기계기사, 식스시그마GB\n",
       "2795                                               일반기계기사\n",
       "2931                                               일반기계기사\n",
       "3137                         농촌진흥청 현장실습(2015 상반기), 일반기계기사\n",
       "3232                         농촌진흥청 현장실습(2015 상반기), 일반기계기사\n",
       "Name: 3, dtype: object"
      ]
     },
     "execution_count": 230,
     "metadata": {},
     "output_type": "execute_result"
    }
   ],
   "source": [
    "four[four.str.contains(\"일반\")==True]"
   ]
  },
  {
   "cell_type": "code",
   "execution_count": 231,
   "metadata": {},
   "outputs": [],
   "source": [
    "df.at[four[four.str.contains(\"일반\")==True].index,[\"자격증\"]]=four[four.str.contains(\"일반\")==True]"
   ]
  },
  {
   "cell_type": "code",
   "execution_count": 232,
   "metadata": {},
   "outputs": [],
   "source": [
    "four[four.str.contains(\"일반\")==True]=\"\""
   ]
  },
  {
   "cell_type": "code",
   "execution_count": 233,
   "metadata": {},
   "outputs": [
    {
     "data": {
      "text/plain": [
       "20       한국전력공사 체험형 인턴(2019 상반기 2주), 국민건강보험공단 체험형 인턴 (...\n",
       "44       한국전력공사 체험형 인턴(2019 상반기 2주), 국민건강보험공단 체험형 인턴 (...\n",
       "229                              한국전력공사 체험형 인턴 (2019상반기) \n",
       "249                              한국전력공사 체험형 인턴 (2019상반기) \n",
       "266                              한국전력공사 체험형 인턴 (2019상반기) \n",
       "278                              한국전력공사 체험형 인턴 (2019상반기) \n",
       "319                              한국전력공사 체험형 인턴 (2019상반기) \n",
       "336                              한국전력공사 체험형 인턴 (2019상반기) \n",
       "351                              한국전력공사 체험형 인턴 (2019상반기) \n",
       "371                              한국전력공사 체험형 인턴 (2019상반기) \n",
       "466      한국전력공사 체험형 인턴(2019 상반기 2주), 국민건강보험공단 체험형 인턴 (...\n",
       "486      한국전력공사 체험형 인턴(2019 상반기 2주), 국민건강보험공단 체험형 인턴 (...\n",
       "516      한국전력공사 체험형 인턴(2019 상반기 2주), 국민건강보험공단 체험형 인턴 (...\n",
       "558      한국전력공사 체험형 인턴(2019 상반기 2주), 국민건강보험공단 체험형 인턴 (...\n",
       "873      한국전력공사 체험형인턴(2019상반기), 한국수력원자력 체험형인턴(2019 하반기...\n",
       "942      한국전력공사 체험형인턴(2019상반기), 한국수력원자력 체험형인턴(2019 하반기...\n",
       "962      한국전력공사 체험형인턴(2019상반기), 한국수력원자력 체험형인턴(2019 하반기...\n",
       "1055     한국전력공사 체험형인턴(2019상반기), 한국수력원자력 체험형인턴(2019하반기)...\n",
       "1118     한국전력공사 체험형인턴(2019상반기), 한국수력원자력 체험형인턴(2019하반기)...\n",
       "1144     한국전력공사 체험형인턴(2019상반기), 한국수력원자력 체험형인턴(2019하반기)...\n",
       "1189     한국전력공사 체험형인턴(2019상반기), 한국수력원자력 체험형인턴(2019하반기)...\n",
       "1209     한국전력공사 체험형인턴(2019상반기), 한국수력원자력 체험형인턴(2019하반기)...\n",
       "1297     컴퓨터활용능력 1급, 한국사 1급, 한국전력공사 체험형 인턴 (2019 상반기 2...\n",
       "1385     컴퓨터활용능력 1급, 한국사 1급, 한국전력공사 체험형 인턴 (2019 상반기 2...\n",
       "1386     컴퓨터활용능력 1급, 한국사 1급, 한국전력공사 체험형 인턴 (2019 상반기 2...\n",
       "Name: 3, dtype: object"
      ]
     },
     "execution_count": 233,
     "metadata": {},
     "output_type": "execute_result"
    }
   ],
   "source": [
    "four[four.str.contains(\"한국전력공사\")==True]"
   ]
  },
  {
   "cell_type": "code",
   "execution_count": 234,
   "metadata": {},
   "outputs": [],
   "source": [
    "df.at[four[four.str.contains(\"한국전력공사\")==True].index,[\"자격증\"]]=four[four.str.contains(\"한국전력공사\")==True]"
   ]
  },
  {
   "cell_type": "code",
   "execution_count": 235,
   "metadata": {},
   "outputs": [],
   "source": [
    "four[four.str.contains(\"한국전력공사\")==True]=\"\""
   ]
  },
  {
   "cell_type": "code",
   "execution_count": 236,
   "metadata": {},
   "outputs": [
    {
     "data": {
      "text/plain": [
       "2834     광주문화재단 인턴2개월, 마케팅회사 근무 1년 6개월\n",
       "2964     광주문화재단 인턴2개월, 마케팅회사 근무 1년 6개월\n",
       "Name: 3, dtype: object"
      ]
     },
     "execution_count": 236,
     "metadata": {},
     "output_type": "execute_result"
    }
   ],
   "source": [
    "four[four.str.contains(\"광주문화\")==True]"
   ]
  },
  {
   "cell_type": "code",
   "execution_count": 237,
   "metadata": {},
   "outputs": [],
   "source": [
    "df.at[four[four.str.contains(\"광주문화\")==True].index,[\"경험사항\"]]=four[four.str.contains(\"광주문화\")==True]"
   ]
  },
  {
   "cell_type": "code",
   "execution_count": 238,
   "metadata": {},
   "outputs": [],
   "source": [
    "four[four.str.contains(\"광주문화\")==True]=\"\""
   ]
  },
  {
   "cell_type": "code",
   "execution_count": 239,
   "metadata": {},
   "outputs": [
    {
     "data": {
      "text/plain": [
       "7219     2015광주하계유니버시아드 IT공모전 동상, 제8회 이브와 ICT 멘토링 동상, ...\n",
       "7220     2015광주하계유니버시아드 IT공모전 동상, 제8회 이브와 ICT 멘토링 동상, ...\n",
       "Name: 3, dtype: object"
      ]
     },
     "execution_count": 239,
     "metadata": {},
     "output_type": "execute_result"
    }
   ],
   "source": [
    "four[four.str.contains(\"광주\")==True]"
   ]
  },
  {
   "cell_type": "code",
   "execution_count": 240,
   "metadata": {},
   "outputs": [],
   "source": [
    "df.at[four[four.str.contains(\"광주\")==True].index,[\"경험사항\"]]=four[four.str.contains(\"광주\")==True]"
   ]
  },
  {
   "cell_type": "code",
   "execution_count": 241,
   "metadata": {},
   "outputs": [],
   "source": [
    "four[four.str.contains(\"광주\")==True]=\"\""
   ]
  },
  {
   "cell_type": "code",
   "execution_count": 242,
   "metadata": {},
   "outputs": [
    {
     "data": {
      "text/plain": [
       "3020     러시아 모스크바 국립 언어 대학교 교환학생, 중소기업청 주최 카자흐스탄 알마티 미...\n",
       "Name: 3, dtype: object"
      ]
     },
     "execution_count": 242,
     "metadata": {},
     "output_type": "execute_result"
    }
   ],
   "source": [
    "four[four.str.contains(\"러시아\")==True]"
   ]
  },
  {
   "cell_type": "code",
   "execution_count": 243,
   "metadata": {},
   "outputs": [],
   "source": [
    "df.at[four[four.str.contains(\"러시아\")==True].index,[\"경험사항\"]]=four[four.str.contains(\"러시아\")==True]"
   ]
  },
  {
   "cell_type": "code",
   "execution_count": 244,
   "metadata": {},
   "outputs": [],
   "source": [
    "four[four.str.contains(\"러시아\")==True]=\"\""
   ]
  },
  {
   "cell_type": "code",
   "execution_count": 245,
   "metadata": {},
   "outputs": [
    {
     "data": {
      "text/plain": [
       "3022                 수상경력 3회\n",
       "3140                 수상경력 3회\n",
       "3160                 수상경력 3회\n",
       "3240                 수상경력 3회\n",
       "3315     공모전 수상경력 1회, 동아리 활동\n",
       "3439     공모전 수상경력 1회, 동아리 활동\n",
       "Name: 3, dtype: object"
      ]
     },
     "execution_count": 245,
     "metadata": {},
     "output_type": "execute_result"
    }
   ],
   "source": [
    "four[four.str.contains(\"수상경력\")==True]"
   ]
  },
  {
   "cell_type": "code",
   "execution_count": 246,
   "metadata": {},
   "outputs": [],
   "source": [
    "df.at[four[four.str.contains(\"수상경력\")==True].index,[\"경험사항\"]]=four[four.str.contains(\"수상경력\")==True]"
   ]
  },
  {
   "cell_type": "code",
   "execution_count": 247,
   "metadata": {},
   "outputs": [],
   "source": [
    "four[four.str.contains(\"수상경력\")==True]=\"\""
   ]
  },
  {
   "cell_type": "code",
   "execution_count": 248,
   "metadata": {},
   "outputs": [
    {
     "data": {
      "text/plain": [
       "91      공학사 우등졸업상, 졸업작품 우수상, 교외 창의적 아이디어 공모전 우수상((주)아...\n",
       "110     공학사 우등졸업상, 졸업작품 우수상, 교외 창의적 아이디어 공모전 우수상((주)아...\n",
       "130     공학사 우등졸업상, 졸업작품 우수상, 교외 창의적 아이디어 공모전 우수상((주)아...\n",
       "Name: 3, dtype: object"
      ]
     },
     "execution_count": 248,
     "metadata": {},
     "output_type": "execute_result"
    }
   ],
   "source": [
    "four[four.str.contains(\"공학사\")==True]"
   ]
  },
  {
   "cell_type": "code",
   "execution_count": 249,
   "metadata": {},
   "outputs": [],
   "source": [
    "df.at[four[four.str.contains(\"공학사\")==True].index,[\"자격증\"]]=four[four.str.contains(\"공학사\")==True]"
   ]
  },
  {
   "cell_type": "code",
   "execution_count": 250,
   "metadata": {},
   "outputs": [],
   "source": [
    "four[four.str.contains(\"공학사\")==True]=\"\""
   ]
  },
  {
   "cell_type": "code",
   "execution_count": 251,
   "metadata": {},
   "outputs": [
    {
     "data": {
      "text/plain": [
       "922      교내 창업동아리(1년), 에너지인력양성사업(1년), 해외취업프론티어(6개월), 기...\n",
       "1008     교내 창업동아리(1년), 에너지인력양성사업(1년), 해외취업프론티어(6개월), 기...\n",
       "3358     교내 창업동아리(1년), 에너지인력양성사업(1년), 해외취업프론티어(6개월), 기...\n",
       "3475     교내 창업동아리(1년), 에너지인력양성사업(1년), 해외취업프론티어(6개월), 기...\n",
       "Name: 3, dtype: object"
      ]
     },
     "execution_count": 251,
     "metadata": {},
     "output_type": "execute_result"
    }
   ],
   "source": [
    "four[four.str.contains(\"창업동아리\")==True]"
   ]
  },
  {
   "cell_type": "code",
   "execution_count": 252,
   "metadata": {},
   "outputs": [],
   "source": [
    "df.at[four[four.str.contains(\"창업동아리\")==True].index,[\"자격증\"]]=four[four.str.contains(\"창업동아리\")==True]"
   ]
  },
  {
   "cell_type": "code",
   "execution_count": 253,
   "metadata": {},
   "outputs": [],
   "source": [
    "four[four.str.contains(\"창업동아리\")==True]=\"\""
   ]
  },
  {
   "cell_type": "code",
   "execution_count": 254,
   "metadata": {},
   "outputs": [
    {
     "data": {
      "text/plain": [
       "6266     x \n",
       "6286     x \n",
       "6496     x \n",
       "Name: 3, dtype: object"
      ]
     },
     "execution_count": 254,
     "metadata": {},
     "output_type": "execute_result"
    }
   ],
   "source": [
    "four[four.str.contains(\"x\")==True]"
   ]
  },
  {
   "cell_type": "code",
   "execution_count": 255,
   "metadata": {},
   "outputs": [],
   "source": [
    "df.at[four[four.str.contains(\"x\")==True].index,[\"경험사항\"]]=four[four.str.contains(\"x\")==True]"
   ]
  },
  {
   "cell_type": "code",
   "execution_count": 256,
   "metadata": {},
   "outputs": [],
   "source": [
    "four[four.str.contains(\"x\")==True]=\"\""
   ]
  },
  {
   "cell_type": "code",
   "execution_count": 257,
   "metadata": {},
   "outputs": [
    {
     "data": {
      "text/plain": [
       "777      X \n",
       "787      X \n",
       "3031      X\n",
       "3156      X\n",
       "3176      X\n",
       "3260      X\n",
       "3280      X\n",
       "3990     X \n",
       "4010     X \n",
       "4095     X \n",
       "Name: 3, dtype: object"
      ]
     },
     "execution_count": 257,
     "metadata": {},
     "output_type": "execute_result"
    }
   ],
   "source": [
    "four[four.str.contains(\"X\")==True]"
   ]
  },
  {
   "cell_type": "code",
   "execution_count": 258,
   "metadata": {},
   "outputs": [],
   "source": [
    "df.at[four[four.str.contains(\"X\")==True].index,[\"경험사항\"]]=four[four.str.contains(\"X\")==True]"
   ]
  },
  {
   "cell_type": "code",
   "execution_count": 259,
   "metadata": {},
   "outputs": [],
   "source": [
    "four[four.str.contains(\"X\")==True]=\"\""
   ]
  },
  {
   "cell_type": "code",
   "execution_count": 260,
   "metadata": {},
   "outputs": [
    {
     "data": {
      "text/plain": [
       "6        토목기사 자격증, 한국사 1급 자격증, 컴퓨터활용능력 1급 자격증, 대학교 내 튜...\n",
       "7        토목기사 자격증, 한국사 1급 자격증, 컴퓨터활용능력 1급 자격증, 대학교 내 튜...\n",
       "193                         컴퓨터활용능력 1급, 한국사능력검정 2급, 토목기사 \n",
       "200                         컴퓨터활용능력 1급, 한국사능력검정 2급, 토목기사 \n",
       "287                         컴퓨터활용능력 1급, 한국사능력검정 2급, 토목기사 \n",
       "354                         컴퓨터활용능력 1급, 한국사능력검정 2급, 토목기사 \n",
       "374                         컴퓨터활용능력 1급, 한국사능력검정 2급, 토목기사 \n",
       "426      토목기사 자격증, 한국사 1급 자격증, 컴퓨터활용능력 1급 자격증, 대학교 내 튜...\n",
       "471                         컴퓨터활용능력 1급, 한국사능력검정 2급, 토목기사 \n",
       "491                         컴퓨터활용능력 1급, 한국사능력검정 2급, 토목기사 \n",
       "510      토목기사 자격증, 한국사 1급 자격증, 컴퓨터활용능력 1급 자격증, 대학교 내 튜...\n",
       "559                         컴퓨터활용능력 1급, 한국사능력검정 2급, 토목기사 \n",
       "3114     컴퓨터활용능력 1급, 토목기사, 건설안전기사, 한국사1급, 코레일 인턴(2016년...\n",
       "3210     컴퓨터활용능력 1급, 토목기사, 건설안전기사, 한국사1급, 코레일 인턴(2016년...\n",
       "Name: 3, dtype: object"
      ]
     },
     "execution_count": 260,
     "metadata": {},
     "output_type": "execute_result"
    }
   ],
   "source": [
    "four[four.str.contains(\"토목기사\")==True]"
   ]
  },
  {
   "cell_type": "code",
   "execution_count": 261,
   "metadata": {},
   "outputs": [],
   "source": [
    "df.at[four[four.str.contains(\"토목기사\")==True].index,[\"자격증\"]]=four[four.str.contains(\"토목기사\")==True]"
   ]
  },
  {
   "cell_type": "code",
   "execution_count": 262,
   "metadata": {},
   "outputs": [],
   "source": [
    "four[four.str.contains(\"토목기사\")==True]=\"\""
   ]
  },
  {
   "cell_type": "code",
   "execution_count": 263,
   "metadata": {},
   "outputs": [
    {
     "data": {
      "text/plain": [
       "5                                              컴퓨터활용능력 2급\n",
       "19                                     컴퓨터활용능력 1급, 한국사 1급\n",
       "23       아프리카 해외봉사 1년, 소상공인 경영지원 프로그램 3개월, 컴퓨터활용능력 1급,...\n",
       "27                                     컴퓨터활용능력 1급, 한국사 1급\n",
       "33       국민건강보험공단 체험형 인턴(2019 하반기), 관공서 아르바이트 1회, 컴퓨터활...\n",
       "                              ...                        \n",
       "3169                                           컴퓨터활용능력 2급\n",
       "3207     컴퓨터활용능력1급, 워드프로세서1급, KBS한국어 3+, 한국사2급, 학생회 총무...\n",
       "3223     교내 봉사동아리 회장 (12개월), 해외 인턴(Lanchid) (1개월), 증권사...\n",
       "3246                                           컴퓨터활용능력 2급\n",
       "5715     헌혈 30회, 기계가공 기능장, 기계설계산업기사, 컴퓨터응용가공산업기사, 기계정비...\n",
       "Name: 3, Length: 255, dtype: object"
      ]
     },
     "execution_count": 263,
     "metadata": {},
     "output_type": "execute_result"
    }
   ],
   "source": [
    "four[four.str.contains(\"컴퓨터\")==True]"
   ]
  },
  {
   "cell_type": "code",
   "execution_count": 264,
   "metadata": {},
   "outputs": [],
   "source": [
    "df.at[four[four.str.contains(\"컴퓨터\")==True].index,[\"자격증\"]]=four[four.str.contains(\"컴퓨터\")==True]"
   ]
  },
  {
   "cell_type": "code",
   "execution_count": 265,
   "metadata": {},
   "outputs": [],
   "source": [
    "four[four.str.contains(\"컴퓨터\")==True]=\"\""
   ]
  },
  {
   "cell_type": "code",
   "execution_count": 266,
   "metadata": {},
   "outputs": [
    {
     "data": {
      "text/plain": [
       "14       정보처리기사,  ICT 프로젝트 인턴십 (2017년 하반기), 태화기독교사회복지관...\n",
       "41       정보처리기사,  ICT 프로젝트 인턴십 (2017년 하반기), 태화기독교사회복지관...\n",
       "198              전기기사, 전기공사기사, 교내봉사단 1년, 한국어1급, 실용글쓰기 준2급\n",
       "207                     교내봉사단 1년, 전기기사, 전기공사기사, 실용글쓰기 준2급\n",
       "223      정보통신기사, 무선설비기사, 한국사 1급, 임베디드 연구실 작품활동 1년, 교내 ...\n",
       "                              ...                        \n",
       "4398                                   인턴 1회\\n\\n기사 자격증 1개\n",
       "4430                                   인턴 1회\\n\\n기사 자격증 1개\n",
       "4441                                   인턴 1회\\n\\n기사 자격증 1개\n",
       "5977                                   전공관련 기사 2개, 공모전 1회\n",
       "6196                                   전공관련 기사 2개, 공모전 1회\n",
       "Name: 3, Length: 121, dtype: object"
      ]
     },
     "execution_count": 266,
     "metadata": {},
     "output_type": "execute_result"
    }
   ],
   "source": [
    "four[four.str.contains(\"기사\")==True]"
   ]
  },
  {
   "cell_type": "code",
   "execution_count": 267,
   "metadata": {},
   "outputs": [],
   "source": [
    "df.at[four[four.str.contains(\"기사\")==True].index,[\"자격증\"]]=four[four.str.contains(\"기사\")==True]"
   ]
  },
  {
   "cell_type": "code",
   "execution_count": 268,
   "metadata": {},
   "outputs": [],
   "source": [
    "four[four.str.contains(\"기사\")==True]=\"\""
   ]
  },
  {
   "cell_type": "code",
   "execution_count": 269,
   "metadata": {},
   "outputs": [
    {
     "data": {
      "text/plain": [
       "3                                   토론동아리 3년, 컴활1급, 한국사1급\n",
       "8                               교환학생, 교내대의원, 한국사능력검정시험 1급\n",
       "16       워드프로세서 1급, 유통관리사 2급, 한국사능력검정 1급, 투자 동아리 (3년),...\n",
       "22                                           한국사능력검정시험 1급\n",
       "26       삼성생명 금융영업전문가 과정, KT&G 상상발룬티어 (6개월), 국민연금 대학생 ...\n",
       "42       삼성생명 금융영업전문가 과정, KT&G 상상발룬티어 (6개월), 국민연금 대학생 ...\n",
       "52                                           한국사능력검정시험 1급\n",
       "85                                   관련 직무 경력 4년, 한국사능력1급\n",
       "104                                  관련 직무 경력 4년, 한국사능력1급\n",
       "112           자전거, 워드프로세서 3급,  한국사 3급, 1종보통면허, 소방안전관리자 2급\n",
       "124                                  관련 직무 경력 4년, 한국사능력1급\n",
       "132           자전거, 워드프로세서 3급,  한국사 3급, 1종보통면허, 소방안전관리자 2급\n",
       "156                    활용능력 1급, 한국사능력검정시험 1급, 매일경제Test 우수\n",
       "182                    활용능력 1급, 한국사능력검정시험 1급, 매일경제Test 우수\n",
       "202      컴활 2급, 정보처리기능사, 한국사 1급, 2018년 학과 학생회장, 2019년 ...\n",
       "288                                      학교 교지편집부, 한국사 1급\n",
       "359                                      학교 교지편집부, 한국사 1급\n",
       "379                                      학교 교지편집부, 한국사 1급\n",
       "384                    말레이시아 해외봉사 유앤트레블 인턴, 컴활 1급, 한국사 1급\n",
       "393                             사기업 정규직 경력 4년 9개월, 한국사 1급\n",
       "403                             사기업 정규직 경력 4년 9개월, 한국사 1급\n",
       "440                                      학교 교지편집부, 한국사 1급\n",
       "451                     말레이시아 해외봉사 유앤트레블 인턴, 컴활1급, 한국사1급 \n",
       "452      컴활 2급, 정보처리기능사, 한국사 1급, 2018년 학과 학생회장, 2019년 ...\n",
       "467                                           컴활1급, 한국사2급\n",
       "472                             사기업 정규직 경력 4년 9개월, 한국사 1급\n",
       "487                                           컴활1급, 한국사2급\n",
       "492                             사기업 정규직 경력 4년 9개월, 한국사 1급\n",
       "524                                      학교 교지편집부, 한국사 1급\n",
       "536      컴활 2급, 정보처리기능사, 한국사 1급, 2018년 학과 학생회장, 2019년 ...\n",
       "537                     말레이시아 해외봉사 유앤트레블 인턴, 컴활1급, 한국사1급 \n",
       "651      워드프로세서 1급, 유통관리사 2급, 한국사능력검정 1급, 투자 동아리 (3년),...\n",
       "664                           관련 직무 경력 (4년), 한국사능력검정시험 1급\n",
       "667                             교환학생, 교내대의원, 한국사능력검정시험 1급\n",
       "755                             교환학생, 교내대의원, 한국사능력검정시험 1급\n",
       "756                           관련 직무 경력 (4년), 한국사능력검정시험 1급\n",
       "764                                      학교 교지편집부, 한국사 1급\n",
       "768                             교환학생, 교내대의원, 한국사능력검정시험 1급\n",
       "1599                            관련 직무 경력 4년, 한국사능력검정시험 1급\n",
       "1742                            관련 직무 경력 4년, 한국사능력검정시험 1급\n",
       "1968                            사기업 정규직 경력 4년 9개월, 한국사 1급\n",
       "2106                            사기업 정규직 경력 4년 9개월, 한국사 1급\n",
       "2739                       한국마사회 청년인턴(2017하반기), 컴활1 ,한국사1\n",
       "3107                       한국마사회 청년인턴(2017하반기), 컴활1 ,한국사1\n",
       "3215                       한국마사회 청년인턴(2017하반기), 컴활1 ,한국사1\n",
       "6387     농협중앙회 인턴(1개월), 농촌봉사활동(1회), 비영리재단 서포터즈(2회), 유통...\n",
       "6407     농협중앙회 인턴(1개월), 농촌봉사활동(1회), 비영리재단 서포터즈(2회), 유통...\n",
       "6554     농협중앙회 인턴(1개월), 농촌봉사활동(1회), 비영리재단 서포터즈(2회), 유통...\n",
       "6616     농협중앙회 인턴(1개월), 농촌봉사활동(1회), 비영리재단 서포터즈(2회), 유통...\n",
       "Name: 3, dtype: object"
      ]
     },
     "execution_count": 269,
     "metadata": {},
     "output_type": "execute_result"
    }
   ],
   "source": [
    "four[four.str.contains(\"한국사\")==True]"
   ]
  },
  {
   "cell_type": "code",
   "execution_count": 270,
   "metadata": {},
   "outputs": [],
   "source": [
    "df.at[four[four.str.contains(\"한국사\")==True].index,[\"자격증\"]]=four[four.str.contains(\"한국사\")==True]"
   ]
  },
  {
   "cell_type": "code",
   "execution_count": 271,
   "metadata": {},
   "outputs": [],
   "source": [
    "four[four.str.contains(\"한국사\")==True]=\"\""
   ]
  },
  {
   "cell_type": "code",
   "execution_count": 272,
   "metadata": {},
   "outputs": [
    {
     "data": {
      "text/plain": [
       "5907     대외활동 4개, 헌혈15번, 은행권 인턴\n",
       "5927     대외활동 4개, 헌혈15번, 은행권 인턴\n",
       "6139     대외활동 4개, 헌혈15번, 은행권 인턴\n",
       "Name: 3, dtype: object"
      ]
     },
     "execution_count": 272,
     "metadata": {},
     "output_type": "execute_result"
    }
   ],
   "source": [
    "four[four.str.contains(\"은행\")==True]"
   ]
  },
  {
   "cell_type": "code",
   "execution_count": 273,
   "metadata": {},
   "outputs": [],
   "source": [
    "df.at[four[four.str.contains(\"은행\")==True].index,[\"경험사항\"]]=four[four.str.contains(\"은행\")==True]"
   ]
  },
  {
   "cell_type": "code",
   "execution_count": 274,
   "metadata": {},
   "outputs": [],
   "source": [
    "four[four.str.contains(\"은행\")==True]=\"\""
   ]
  },
  {
   "cell_type": "code",
   "execution_count": 275,
   "metadata": {},
   "outputs": [
    {
     "data": {
      "text/plain": [
       "39       컴활 2급, 마사회 인턴 1회(2019 상반기), 사기업 행정인턴 2회(2019 ...\n",
       "60       컴활 2급, 마사회 인턴 1회(2019 상반기), 사기업 행정인턴 2회(2019 ...\n",
       "77       컴활 2급, 마사회 인턴 1회(2019 상반기), 사기업 행정인턴 2회(2019 ...\n",
       "101      컴활 2급, 마사회 인턴 1회(2019 상반기), 사기업 행정인턴 2회(2019 ...\n",
       "121      컴활 2급, 마사회 인턴 1회(2019 상반기), 사기업 행정인턴 2회(2019 ...\n",
       "295      학부연구생 1년, 한국철도공사 인턴 2달, 컴활1급, 워드1급, MOS MASTE...\n",
       "383      학부연구생 1년, 한국철도공사 인턴 2달, 컴활1급, 워드1급, MOS MASTE...\n",
       "540      학부연구생 1년, 한국철도공사 인턴 2달, 컴활1급, 워드1급, MOS MASTE...\n",
       "562      학부연구생 1년, 한국철도공사 인턴 2달, 컴활1급, 워드1급, MOS MASTE...\n",
       "625                  교내 연구실 활동(9개월), 워드 1급, 컴활 2급, 위험물기능사\n",
       "627      학부연구생 1년, 한국철도공사 인턴 2달, 컴활1급, 워드1급, MOS MASTE...\n",
       "708      학부연구생 1년, 한국철도공사 인턴 2달, 컴활1급, 워드1급, MOS MASTE...\n",
       "728      학부연구생 1년, 한국철도공사 인턴 2달, 컴활1급, 워드1급, MOS MASTE...\n",
       "833      학부연구생 1년, 한국철도공사 인턴 2달, 컴활1급, 워드1급, MOS MASTE...\n",
       "853      학부연구생 1년, 한국철도공사 인턴 2달, 컴활1급, 워드1급, MOS MASTE...\n",
       "884      학부연구생 1년, 한국철도공사 인턴 2달, 컴활1급, 워드1급, MOS MASTE...\n",
       "920      학부연구생 1년, 한국철도공사 인턴 2달, 컴활1급, 워드1급, MOS MASTE...\n",
       "929      학부연구생 1년, 한국철도공사 인턴 2달, 컴활1급, 워드1급, MOS MASTE...\n",
       "957      학부연구생 1년, 한국철도공사 인턴 2달, 컴활1급, 워드1급, MOS MASTE...\n",
       "977      학부연구생 1년, 한국철도공사 인턴 2달, 컴활1급, 워드1급, MOS MASTE...\n",
       "1011     학부연구생 1년, 한국철도공사 인턴 2달, 컴활1급, 워드1급, MOS MASTE...\n",
       "1030     학부연구생 1년, 한국철도공사 인턴 2달, 컴활1급, 워드1급, MOS MASTE...\n",
       "1105     학부연구생 1년, 한국철도공사 인턴 2달, 컴활1급, 워드1급, MOS MASTE...\n",
       "1181     학부연구생 1년, 한국철도공사 인턴 2달, 컴활1급, 워드1급, MOS MASTE...\n",
       "1201     학부연구생 1년, 한국철도공사 인턴 2달, 컴활1급, 워드1급, MOS MASTE...\n",
       "1231     학부연구생 1년, 한국철도공사 인턴 2달, 컴활1급, 워드1급, MOS MASTE...\n",
       "1244     학부연구생 1년, 한국철도공사 인턴 2달, 컴활1급, 워드1급, MOS MASTE...\n",
       "1273     학부연구생 1년, 한국철도공사 인턴 2달, 컴활1급, 워드1급, MOS MASTE...\n",
       "1282     학부연구생 1년, 한국철도공사 인턴 2달, 컴활1급, 워드1급, MOS MASTE...\n",
       "1285     학부연구생 1년, 한국철도공사 인턴 2달, 컴활1급, 워드1급, MOS MASTE...\n",
       "1295     학부연구생 1년, 한국철도공사 인턴 2달, 컴활1급, 워드1급, MOS MASTE...\n",
       "1315     학부연구생 1년, 한국철도공사 인턴 2달, 컴활1급, 워드1급, MOS MASTE...\n",
       "1335     학부연구생 1년, 한국철도공사 인턴 2달, 컴활1급, 워드1급, MOS MASTE...\n",
       "1360     학부연구생 1년, 한국철도공사 인턴 2달, 컴활1급, 워드1급, MOS MASTE...\n",
       "1371     학부연구생 1년, 한국철도공사 인턴 2달, 컴활1급, 워드1급, MOS MASTE...\n",
       "1373     학부연구생 1년, 한국철도공사 인턴 2달, 컴활1급, 워드1급, MOS MASTE...\n",
       "Name: 3, dtype: object"
      ]
     },
     "execution_count": 275,
     "metadata": {},
     "output_type": "execute_result"
    }
   ],
   "source": [
    "four[four.str.contains(\"컴활\")==True]"
   ]
  },
  {
   "cell_type": "code",
   "execution_count": 276,
   "metadata": {},
   "outputs": [],
   "source": [
    "df.at[four[four.str.contains(\"컴활\")==True].index,[\"자격증\"]]=four[four.str.contains(\"컴활\")==True]"
   ]
  },
  {
   "cell_type": "code",
   "execution_count": 277,
   "metadata": {},
   "outputs": [],
   "source": [
    "four[four.str.contains(\"컴활\")==True]=\"\""
   ]
  },
  {
   "cell_type": "code",
   "execution_count": 278,
   "metadata": {},
   "outputs": [
    {
     "data": {
      "text/plain": [
       "3120     현대자동차 인턴\n",
       "Name: 3, dtype: object"
      ]
     },
     "execution_count": 278,
     "metadata": {},
     "output_type": "execute_result"
    }
   ],
   "source": [
    "four[four.str.contains(\"현대\")==True]"
   ]
  },
  {
   "cell_type": "code",
   "execution_count": 279,
   "metadata": {},
   "outputs": [],
   "source": [
    "df.at[four[four.str.contains(\"현대\")==True].index,[\"경험사항\"]]=four[four.str.contains(\"현대\")==True]"
   ]
  },
  {
   "cell_type": "code",
   "execution_count": 280,
   "metadata": {},
   "outputs": [],
   "source": [
    "four[four.str.contains(\"현대\")==True]=\"\""
   ]
  },
  {
   "cell_type": "code",
   "execution_count": 281,
   "metadata": {},
   "outputs": [
    {
     "data": {
      "text/plain": [
       "215     유통관리사2급, 운전면허2종보통, 마사회 체험형인턴, 모두투어 네트워크 채용연계형 인턴\n",
       "304     유통관리사2급, 운전면허2종보통, 마사회 체험형인턴, 모두투어 네트워크 채용연계형 인턴\n",
       "325             사기업 경력 6년 10개월(영업관리), ERP 회계2급, ERP 인사2급\n",
       "392             사기업 경력 6년 10개월(영업관리), ERP 회계2급, ERP 인사2급\n",
       "473     유통관리사2급, 운전면허2종보통, 마사회 체험형인턴, 모두투어 네트워크 채용연계형 인턴\n",
       "493     유통관리사2급, 운전면허2종보통, 마사회 체험형인턴, 모두투어 네트워크 채용연계형 인턴\n",
       "552     유통관리사2급, 운전면허2종보통, 마사회 체험형인턴, 모두투어 네트워크 채용연계형 인턴\n",
       "648     유통관리사2급, 운전면허2종보통, 마사회 체험형인턴, 모두투어 네트워크 채용연계형 인턴\n",
       "742     유통관리사2급, 운전면허2종보통, 마사회 체험형인턴, 모두투어 네트워크 채용연계형 인턴\n",
       "Name: 3, dtype: object"
      ]
     },
     "execution_count": 281,
     "metadata": {},
     "output_type": "execute_result"
    }
   ],
   "source": [
    "four[four.str.contains(\"2급\")==True]"
   ]
  },
  {
   "cell_type": "code",
   "execution_count": 282,
   "metadata": {},
   "outputs": [],
   "source": [
    "df.at[four[four.str.contains(\"2급\")==True].index,[\"자격증\"]]=four[four.str.contains(\"2급\")==True]"
   ]
  },
  {
   "cell_type": "code",
   "execution_count": 283,
   "metadata": {},
   "outputs": [],
   "source": [
    "four[four.str.contains(\"2급\")==True]=\"\""
   ]
  },
  {
   "cell_type": "code",
   "execution_count": 284,
   "metadata": {},
   "outputs": [
    {
     "data": {
      "text/plain": [
       "420     교내 공로상, 총동아리연합회장, Professional Codeing Specia...\n",
       "580     교내 공로상, 총동아리연합회장, Professional Codeing Specia...\n",
       "600     교내 공로상, 총동아리연합회장, Professional Codeing Specia...\n",
       "Name: 3, dtype: object"
      ]
     },
     "execution_count": 284,
     "metadata": {},
     "output_type": "execute_result"
    }
   ],
   "source": [
    "four[four.str.contains(\"1급\")==True]"
   ]
  },
  {
   "cell_type": "code",
   "execution_count": 285,
   "metadata": {},
   "outputs": [],
   "source": [
    "df.at[four[four.str.contains(\"1급\")==True].index,[\"자격증\"]]=four[four.str.contains(\"1급\")==True]"
   ]
  },
  {
   "cell_type": "code",
   "execution_count": 286,
   "metadata": {},
   "outputs": [],
   "source": [
    "four[four.str.contains(\"1급\")==True]=\"\""
   ]
  },
  {
   "cell_type": "code",
   "execution_count": 287,
   "metadata": {},
   "outputs": [
    {
     "data": {
      "text/plain": [
       "409      ITQ, 워드프로세서 2,3급, 매경 우수\n",
       "470      ITQ, 워드프로세서 2,3급, 매경 우수\n",
       "490      ITQ, 워드프로세서 2,3급, 매경 우수\n",
       "1230                   워드프로세서 단일\n",
       "Name: 3, dtype: object"
      ]
     },
     "execution_count": 287,
     "metadata": {},
     "output_type": "execute_result"
    }
   ],
   "source": [
    "four[four.str.contains(\"워드\")==True]"
   ]
  },
  {
   "cell_type": "code",
   "execution_count": 288,
   "metadata": {},
   "outputs": [],
   "source": [
    "df.at[four[four.str.contains(\"워드\")==True].index,[\"자격증\"]]=four[four.str.contains(\"워드\")==True]"
   ]
  },
  {
   "cell_type": "code",
   "execution_count": 289,
   "metadata": {},
   "outputs": [],
   "source": [
    "four[four.str.contains(\"워드\")==True]=\"\""
   ]
  },
  {
   "cell_type": "code",
   "execution_count": 290,
   "metadata": {},
   "outputs": [
    {
     "data": {
      "text/plain": [
       "1472                                    봉사2회, 공모전4회, 인턴2회\n",
       "1496                                    봉사2회, 공모전4회, 인턴2회\n",
       "2321                                   대외활동 1회, 공모전 수상 1회\n",
       "2483                                   대외활동 1회, 공모전 수상 1회\n",
       "3518                                       공모전 및 수상 경험 5회\n",
       "3538                                       공모전 및 수상 경험 5회\n",
       "3562                                       공모전 및 수상 경험 5회\n",
       "3691                                         교내 공모전 수상 1회\n",
       "4583                                    봉사단체 3회,공모전 수상 3회\n",
       "4603                                    봉사단체 3회,공모전 수상 3회\n",
       "4764                                    봉사단체 3회,공모전 수상 3회\n",
       "5533                                             인턴 , 공모전\n",
       "5544                           ICT관련 대외활동 , 중앙행정기관 공모전 수상\n",
       "5564                           ICT관련 대외활동 , 중앙행정기관 공모전 수상\n",
       "5591                                             인턴 , 공모전\n",
       "5852                                               공모전 입상\n",
       "6079                                               공모전 입상\n",
       "6371                                인턴 2회, 대외활동 4회, 공모전1회\n",
       "6669                                인턴 2회, 대외활동 4회, 공모전1회\n",
       "6862     관련 회사 출퇴근 아르바이트 5개월, 논문 우수상, 교내 공모전 대상, 미래부&금...\n",
       "6882     관련 회사 출퇴근 아르바이트 5개월, 논문 우수상, 교내 공모전 대상, 미래부&금...\n",
       "7096     관련 회사 출퇴근 아르바이트 5개월, 논문 우수상, 교내 공모전 대상, 미래부&금...\n",
       "Name: 3, dtype: object"
      ]
     },
     "execution_count": 290,
     "metadata": {},
     "output_type": "execute_result"
    }
   ],
   "source": [
    "four[four.str.contains(\"공모전\")==True]"
   ]
  },
  {
   "cell_type": "code",
   "execution_count": 291,
   "metadata": {},
   "outputs": [],
   "source": [
    "df.at[four[four.str.contains(\"공모전\")==True].index,[\"경험사항\"]]=four[four.str.contains(\"공모전\")==True]"
   ]
  },
  {
   "cell_type": "code",
   "execution_count": 292,
   "metadata": {},
   "outputs": [],
   "source": [
    "four[four.str.contains(\"공모전\")==True]=\"\""
   ]
  },
  {
   "cell_type": "code",
   "execution_count": 293,
   "metadata": {},
   "outputs": [
    {
     "data": {
      "text/plain": [
       "5883     화장품 물류업무 1개월, 그 외 수많은 아르바이트\n",
       "6108     화장품 물류업무 1개월, 그 외 수많은 아르바이트\n",
       "7187                 교내활동 2, 아르바이트 1\n",
       "7202                 교내활동 2, 아르바이트 1\n",
       "Name: 3, dtype: object"
      ]
     },
     "execution_count": 293,
     "metadata": {},
     "output_type": "execute_result"
    }
   ],
   "source": [
    "four[four.str.contains(\"아르바이트\")==True]"
   ]
  },
  {
   "cell_type": "code",
   "execution_count": 294,
   "metadata": {},
   "outputs": [],
   "source": [
    "df.at[four[four.str.contains(\"아르바이트\")==True].index,[\"경험사항\"]]=four[four.str.contains(\"아르바이트\")==True]"
   ]
  },
  {
   "cell_type": "code",
   "execution_count": 295,
   "metadata": {},
   "outputs": [],
   "source": [
    "four[four.str.contains(\"아르바이트\")==True]=\"\""
   ]
  },
  {
   "cell_type": "code",
   "execution_count": 296,
   "metadata": {},
   "outputs": [
    {
     "data": {
      "text/plain": [
       "445     알바천국 서포터즈 (3개월), 캐시슬라이드 서포터즈 (2개월), KT&G 상상마케...\n",
       "533     알바천국 서포터즈 (3개월), 캐시슬라이드 서포터즈 (2개월), KT&G 상상마케...\n",
       "Name: 3, dtype: object"
      ]
     },
     "execution_count": 296,
     "metadata": {},
     "output_type": "execute_result"
    }
   ],
   "source": [
    "four[four.str.contains(\"알바\")==True]"
   ]
  },
  {
   "cell_type": "code",
   "execution_count": 297,
   "metadata": {},
   "outputs": [],
   "source": [
    "df.at[four[four.str.contains(\"알바\")==True].index,[\"경험사항\"]]=four[four.str.contains(\"알바\")==True]"
   ]
  },
  {
   "cell_type": "code",
   "execution_count": 298,
   "metadata": {},
   "outputs": [],
   "source": [
    "four[four.str.contains(\"알바\")==True]=\"\""
   ]
  },
  {
   "cell_type": "code",
   "execution_count": 299,
   "metadata": {},
   "outputs": [
    {
     "data": {
      "text/plain": [
       "284                                 교내 취업 지원팀 서포터즈 활동(1년) \n",
       "357                                 교내 취업 지원팀 서포터즈 활동(1년) \n",
       "377                                 교내 취업 지원팀 서포터즈 활동(1년) \n",
       "10076     서울시주관 동생행복프로젝트(2012.9 - 12), 경기문화재단 도시락특공대 대학...\n",
       "Name: 3, dtype: object"
      ]
     },
     "execution_count": 299,
     "metadata": {},
     "output_type": "execute_result"
    }
   ],
   "source": [
    "four[four.str.contains(\"서포터즈\")==True]"
   ]
  },
  {
   "cell_type": "code",
   "execution_count": 300,
   "metadata": {},
   "outputs": [],
   "source": [
    "df.at[four[four.str.contains(\"서포터즈\")==True].index,[\"경험사항\"]]=four[four.str.contains(\"서포터즈\")==True]"
   ]
  },
  {
   "cell_type": "code",
   "execution_count": 301,
   "metadata": {},
   "outputs": [],
   "source": [
    "four[four.str.contains(\"서포터즈\")==True]=\"\""
   ]
  },
  {
   "cell_type": "code",
   "execution_count": 302,
   "metadata": {},
   "outputs": [
    {
     "data": {
      "text/plain": [
       "4323         대외활동 수상 1회\n",
       "4655       창업경진대회 수상 2번\n",
       "4812       창업경진대회 수상 2번\n",
       "5290     인턴 2회, 장관상 수상1\n",
       "5468     인턴 2회, 장관상 수상1\n",
       "Name: 3, dtype: object"
      ]
     },
     "execution_count": 302,
     "metadata": {},
     "output_type": "execute_result"
    }
   ],
   "source": [
    "four[four.str.contains(\"수상\")==True]"
   ]
  },
  {
   "cell_type": "code",
   "execution_count": 303,
   "metadata": {},
   "outputs": [],
   "source": [
    "df.at[four[four.str.contains(\"수상\")==True].index,[\"경험사항\"]]=four[four.str.contains(\"수상\")==True]"
   ]
  },
  {
   "cell_type": "code",
   "execution_count": 304,
   "metadata": {},
   "outputs": [],
   "source": [
    "four[four.str.contains(\"수상\")==True]=\"\""
   ]
  },
  {
   "cell_type": "code",
   "execution_count": 305,
   "metadata": {},
   "outputs": [
    {
     "data": {
      "text/plain": [
       "1620     인턴 2회\n",
       "1772     인턴 2회\n",
       "2157     인턴 2회\n",
       "2177     인턴 2회\n",
       "2340     인턴 2회\n",
       "3312     인턴 2회\n",
       "3424     인턴 2회\n",
       "6909     인턴 2회\n",
       "7119     인턴 2회\n",
       "7139     인턴 2회\n",
       "8101     인턴 2회\n",
       "8381     인턴 2회\n",
       "Name: 3, dtype: object"
      ]
     },
     "execution_count": 305,
     "metadata": {},
     "output_type": "execute_result"
    }
   ],
   "source": [
    "four[four.str.contains(\"인턴 2회\")==True]"
   ]
  },
  {
   "cell_type": "code",
   "execution_count": 306,
   "metadata": {},
   "outputs": [],
   "source": [
    "df.at[four[four.str.contains(\"인턴 2회\")==True].index,[\"경험사항\"]]=four[four.str.contains(\"인턴 2회\")==True]"
   ]
  },
  {
   "cell_type": "code",
   "execution_count": 307,
   "metadata": {},
   "outputs": [],
   "source": [
    "four[four.str.contains(\"인턴 2회\")==True]=\"\""
   ]
  },
  {
   "cell_type": "code",
   "execution_count": 308,
   "metadata": {},
   "outputs": [
    {
     "data": {
      "text/plain": [
       "148         국민건강보험공단 2개월, 정보처리기능사\n",
       "173         국민건강보험공단 2개월, 정보처리기능사\n",
       "217      국민건강보험공단 인턴 2개월, 정보처리기능사\n",
       "308      국민건강보험공단 인턴 2개월, 정보처리기능사\n",
       "633      국민건강보험공단 2개월 인턴, 정보처리기능사\n",
       "701      국민건강보험공단 2개월 인턴, 정보처리기능사\n",
       "721      국민건강보험공단 2개월 인턴, 정보처리기능사\n",
       "911      국민건강보험공단 2개월 인턴, 정보처리기능사\n",
       "999      국민건강보험공단 2개월 인턴, 정보처리기능사\n",
       "1002     국민건강보험공단 2개월 인턴, 정보처리기능사\n",
       "1066     국민건강보험공단 인턴 2개월, 정보처리기능사\n",
       "1086     국민건강보험공단 인턴 2개월, 정보처리기능사\n",
       "1153     국민건강보험공단 인턴 2개월, 정보처리기능사\n",
       "1264        국민건강보험공단 2개월, 정보처리기능사\n",
       "1351        국민건강보험공단 2개월, 정보처리기능사\n",
       "2204     국민건강보험공단 인턴 2개월, 정보처리기능사\n",
       "2339     국민건강보험공단 2개월 인턴, 정보처리기능사\n",
       "2499     국민건강보험공단 2개월 인턴, 정보처리기능사\n",
       "Name: 3, dtype: object"
      ]
     },
     "execution_count": 308,
     "metadata": {},
     "output_type": "execute_result"
    }
   ],
   "source": [
    "four[four.str.contains(\"정보처리\")==True]"
   ]
  },
  {
   "cell_type": "code",
   "execution_count": 309,
   "metadata": {},
   "outputs": [],
   "source": [
    "df.at[four[four.str.contains(\"정보처리\")==True].index,[\"자격증\"]]=four[four.str.contains(\"정보처리\")==True]"
   ]
  },
  {
   "cell_type": "code",
   "execution_count": 310,
   "metadata": {},
   "outputs": [],
   "source": [
    "four[four.str.contains(\"정보처리\")==True]=\"\""
   ]
  },
  {
   "cell_type": "code",
   "execution_count": 311,
   "metadata": {},
   "outputs": [],
   "source": [
    "four[four.str.contains(\"경영정보\")==True]=\"경영정보학과\""
   ]
  },
  {
   "cell_type": "code",
   "execution_count": 312,
   "metadata": {},
   "outputs": [],
   "source": [
    "df.at[four[four.str.contains(\"경영정보학과\")==True].index,[\"학과\"]]=four[four.str.contains(\"경영정보학과\")==True]"
   ]
  },
  {
   "cell_type": "code",
   "execution_count": 313,
   "metadata": {},
   "outputs": [],
   "source": [
    "four[four.str.contains(\"경영정보학과\")==True]=\"\""
   ]
  },
  {
   "cell_type": "code",
   "execution_count": 314,
   "metadata": {},
   "outputs": [],
   "source": [
    "four[four.str.contains(\"경영\")==True]=\"경영학과\""
   ]
  },
  {
   "cell_type": "code",
   "execution_count": 315,
   "metadata": {},
   "outputs": [],
   "source": [
    "df.at[four[four.str.contains(\"경영학과\")==True].index,[\"학과\"]]=four[four.str.contains(\"경영학과\")==True]"
   ]
  },
  {
   "cell_type": "code",
   "execution_count": 316,
   "metadata": {},
   "outputs": [],
   "source": [
    "four[four.str.contains(\"경영학과\")==True]=\"\""
   ]
  },
  {
   "cell_type": "code",
   "execution_count": 317,
   "metadata": {},
   "outputs": [
    {
     "data": {
      "text/plain": [
       "3621     회계법인 인턴\n",
       "3641     회계법인 인턴\n",
       "7547      삼일회계법인\n",
       "Name: 3, dtype: object"
      ]
     },
     "execution_count": 317,
     "metadata": {},
     "output_type": "execute_result"
    }
   ],
   "source": [
    "four[four.str.contains(\"회계\")==True]"
   ]
  },
  {
   "cell_type": "code",
   "execution_count": 318,
   "metadata": {},
   "outputs": [],
   "source": [
    "df.at[four[four.str.contains(\"회계\")==True].index,[\"경험사항\"]]=four[four.str.contains(\"회계\")==True]"
   ]
  },
  {
   "cell_type": "code",
   "execution_count": 319,
   "metadata": {},
   "outputs": [],
   "source": [
    "four[four.str.contains(\"회계\")==True]=\"\""
   ]
  },
  {
   "cell_type": "code",
   "execution_count": 320,
   "metadata": {},
   "outputs": [
    {
     "data": {
      "text/plain": [
       "3685     없음 \n",
       "3787     없음 \n",
       "3865     없음 \n",
       "3885     없음 \n",
       "Name: 3, dtype: object"
      ]
     },
     "execution_count": 320,
     "metadata": {},
     "output_type": "execute_result"
    }
   ],
   "source": [
    "four[four.str.contains(\"없음\")==True]"
   ]
  },
  {
   "cell_type": "code",
   "execution_count": 321,
   "metadata": {},
   "outputs": [],
   "source": [
    "df.at[four[four.str.contains(\"없음\")==True].index,[\"경험사항\"]]=four[four.str.contains(\"없음\")==True]"
   ]
  },
  {
   "cell_type": "code",
   "execution_count": 322,
   "metadata": {},
   "outputs": [],
   "source": [
    "four[four.str.contains(\"없음\")==True]=\"\""
   ]
  },
  {
   "cell_type": "code",
   "execution_count": 323,
   "metadata": {},
   "outputs": [
    {
     "data": {
      "text/plain": [
       "4913     봉사활동\n",
       "5054     봉사활동\n",
       "5074     봉사활동\n",
       "5094     봉사활동\n",
       "Name: 3, dtype: object"
      ]
     },
     "execution_count": 323,
     "metadata": {},
     "output_type": "execute_result"
    }
   ],
   "source": [
    "four[four.str.contains(\"봉사활동\")==True]"
   ]
  },
  {
   "cell_type": "code",
   "execution_count": 324,
   "metadata": {},
   "outputs": [],
   "source": [
    "df.at[four[four.str.contains(\"봉사활동\")==True].index,[\"경험사항\"]]=four[four.str.contains(\"봉사활동\")==True]"
   ]
  },
  {
   "cell_type": "code",
   "execution_count": 325,
   "metadata": {},
   "outputs": [],
   "source": [
    "four[four.str.contains(\"봉사활동\")==True]=\"\""
   ]
  },
  {
   "cell_type": "code",
   "execution_count": 326,
   "metadata": {},
   "outputs": [
    {
     "data": {
      "text/plain": [
       "422      인턴 3회(해외위치 국내기업 통역인턴 6개월, 국내위치 외국기관 인턴 6개월, 국...\n",
       "439                             인턴 3회(해외위치 국내기업 인턴통역 6개월 \n",
       "509      인턴 3회(해외위치 국내기업 통역인턴 6개월, 국내위치 외국기관 인턴 6개월, 국...\n",
       "523                             인턴 3회(해외위치 국내기업 인턴통역 6개월 \n",
       "572                                    인지컨트롤스 인턴 2018 하반기\n",
       "1050                                           인턴 1회(6개월)\n",
       "1137                                           인턴 1회(6개월)\n",
       "1645                                          현장실습인턴 : 2번\n",
       "1646                                          현장실습인턴 : 2번\n",
       "1674                                                   인턴\n",
       "1694                                                   인턴\n",
       "1790                                          현장실습인턴 : 2번\n",
       "1810                                          현장실습인턴 : 2번\n",
       "1839                                                   인턴\n",
       "2507                                                 인턴 1\n",
       "2527                                                 인턴 1\n",
       "3128                                               인턴 2개월\n",
       "3230                                               인턴 2개월\n",
       "3262                                                   인턴\n",
       "3282                                                   인턴\n",
       "3951                                 언론사인턴, 마케팅인턴, 홍보대사 등\n",
       "4456                                                 인턴 1\n",
       "4509                                                 인턴 1\n",
       "5538                                          인턴 1, 동아리 1\n",
       "5582                                       인턴 2,  대외활동  5\n",
       "5596                                          인턴 1, 동아리 1\n",
       "5612                                       인턴 2,  대외활동  5\n",
       "5721                                                   인턴\n",
       "5761                                                   인턴\n",
       "7197                                             인턴2, 대외2\n",
       "7212                                             인턴2, 대외2\n",
       "7316                      신세계 I&C 동계인턴, ICT 프로젝트 산학협력 인턴십\n",
       "7358                      신세계 I&C 동계인턴, ICT 프로젝트 산학협력 인턴십\n",
       "7378                      신세계 I&C 동계인턴, ICT 프로젝트 산학협력 인턴십\n",
       "7381                      신세계 I&C 동계인턴, ICT 프로젝트 산학협력 인턴십\n",
       "Name: 3, dtype: object"
      ]
     },
     "execution_count": 326,
     "metadata": {},
     "output_type": "execute_result"
    }
   ],
   "source": [
    "four[four.str.contains(\"인턴\")==True]"
   ]
  },
  {
   "cell_type": "code",
   "execution_count": 327,
   "metadata": {},
   "outputs": [],
   "source": [
    "df.at[four[four.str.contains(\"인턴\")==True].index,[\"경험사항\"]]=four[four.str.contains(\"인턴\")==True]"
   ]
  },
  {
   "cell_type": "code",
   "execution_count": 328,
   "metadata": {},
   "outputs": [],
   "source": [
    "four[four.str.contains(\"인턴\")==True]=\"\""
   ]
  },
  {
   "cell_type": "code",
   "execution_count": 329,
   "metadata": {},
   "outputs": [
    {
     "data": {
      "text/plain": [
       "3910     금융자격증\n",
       "Name: 3, dtype: object"
      ]
     },
     "execution_count": 329,
     "metadata": {},
     "output_type": "execute_result"
    }
   ],
   "source": [
    "four[four.str.contains(\"금융\")==True]"
   ]
  },
  {
   "cell_type": "code",
   "execution_count": 330,
   "metadata": {},
   "outputs": [],
   "source": [
    "df.at[four[four.str.contains(\"금융\")==True].index,[\"자격증\"]]=four[four.str.contains(\"금융\")==True]"
   ]
  },
  {
   "cell_type": "code",
   "execution_count": 331,
   "metadata": {},
   "outputs": [],
   "source": [
    "four[four.str.contains(\"금융\")==True]=\"\""
   ]
  },
  {
   "cell_type": "code",
   "execution_count": 332,
   "metadata": {},
   "outputs": [
    {
     "data": {
      "text/plain": [
       "6256     유통회사 마케팅, 대외활동, 어학연수\n",
       "6486     유통회사 마케팅, 대외활동, 어학연수\n",
       "6581     유통회사 마케팅, 대외활동, 어학연수\n",
       "Name: 3, dtype: object"
      ]
     },
     "execution_count": 332,
     "metadata": {},
     "output_type": "execute_result"
    }
   ],
   "source": [
    "four[four.str.contains(\"마케팅\")==True]"
   ]
  },
  {
   "cell_type": "code",
   "execution_count": 333,
   "metadata": {},
   "outputs": [],
   "source": [
    "df.at[four[four.str.contains(\"마케팅\")==True].index,[\"경험사항\"]]=four[four.str.contains(\"마케팅\")==True]"
   ]
  },
  {
   "cell_type": "code",
   "execution_count": 334,
   "metadata": {},
   "outputs": [],
   "source": [
    "four[four.str.contains(\"마케팅\")==True]=\"\""
   ]
  },
  {
   "cell_type": "code",
   "execution_count": 335,
   "metadata": {},
   "outputs": [],
   "source": [
    "four[four.str.contains(\"코트라\")==True]=\"코트라 무역관 인턴\""
   ]
  },
  {
   "cell_type": "code",
   "execution_count": 336,
   "metadata": {},
   "outputs": [],
   "source": [
    "df.at[four[four.str.contains(\"코트라 무역관 인턴\")==True].index,[\"경험사항\"]]=four[four.str.contains(\"코트라 무역관 인턴\")==True]"
   ]
  },
  {
   "cell_type": "code",
   "execution_count": 337,
   "metadata": {},
   "outputs": [],
   "source": [
    "four[four.str.contains(\"코트라 무역관 인턴\")==True]=\"\""
   ]
  },
  {
   "cell_type": "code",
   "execution_count": 338,
   "metadata": {},
   "outputs": [
    {
     "data": {
      "text/plain": [
       "6723                             해외봉사 2회, 국내봉사 2회, 동아리 회장\n",
       "6962                             해외봉사 2회, 국내봉사 2회, 동아리 회장\n",
       "8799     스타트업 약 3년, 안랩 연수생 6개월, 캡스톤 경진대회 금상, 전공학회 4년 및 회장\n",
       "8819     스타트업 약 3년, 안랩 연수생 6개월, 캡스톤 경진대회 금상, 전공학회 4년 및 회장\n",
       "9033     스타트업 약 3년, 안랩 연수생 6개월, 캡스톤 경진대회 금상, 전공학회 4년 및 회장\n",
       "Name: 3, dtype: object"
      ]
     },
     "execution_count": 338,
     "metadata": {},
     "output_type": "execute_result"
    }
   ],
   "source": [
    "four[four.str.contains(\"회장\")==True]"
   ]
  },
  {
   "cell_type": "code",
   "execution_count": 339,
   "metadata": {},
   "outputs": [],
   "source": [
    "df.at[four[four.str.contains(\"회장\")==True].index,[\"경험사항\"]]=four[four.str.contains(\"회장\")==True]"
   ]
  },
  {
   "cell_type": "code",
   "execution_count": 340,
   "metadata": {},
   "outputs": [],
   "source": [
    "four[four.str.contains(\"회장\")==True]=\"\""
   ]
  },
  {
   "cell_type": "code",
   "execution_count": 341,
   "metadata": {},
   "outputs": [],
   "source": [
    "four[four.str.contains(\"경력\")==True]=\"관련직종 경력 3년\""
   ]
  },
  {
   "cell_type": "code",
   "execution_count": 342,
   "metadata": {},
   "outputs": [],
   "source": [
    "df.at[four[four.str.contains(\"관련직종 경력 3년\")==True].index,[\"경험사항\"]]=four[four.str.contains(\"관련직종 경력 3년\")==True]"
   ]
  },
  {
   "cell_type": "code",
   "execution_count": 343,
   "metadata": {},
   "outputs": [],
   "source": [
    "four[four.str.contains(\"관련직종 경력 3년\")==True]=\"\""
   ]
  },
  {
   "cell_type": "code",
   "execution_count": 344,
   "metadata": {},
   "outputs": [
    {
     "data": {
      "text/plain": [
       "5733     대외활동 1\n",
       "5767     대외활동 1\n",
       "5787     대외활동 1\n",
       "5807     대외활동 1\n",
       "8170       대외활동\n",
       "8499       대외활동\n",
       "Name: 3, dtype: object"
      ]
     },
     "execution_count": 344,
     "metadata": {},
     "output_type": "execute_result"
    }
   ],
   "source": [
    "four[four.str.contains(\"대외\")==True]"
   ]
  },
  {
   "cell_type": "code",
   "execution_count": 345,
   "metadata": {},
   "outputs": [],
   "source": [
    "df.at[four[four.str.contains(\"대외\")==True].index,[\"경험사항\"]]=four[four.str.contains(\"대외\")==True]"
   ]
  },
  {
   "cell_type": "code",
   "execution_count": 346,
   "metadata": {},
   "outputs": [],
   "source": [
    "four[four.str.contains(\"대외\")==True]=\"\""
   ]
  },
  {
   "cell_type": "code",
   "execution_count": 347,
   "metadata": {},
   "outputs": [
    {
     "data": {
      "text/plain": [
       "790          4.0 \n",
       "801          4.0 \n",
       "1043         4.0 \n",
       "1108         4.0 \n",
       "1134         4.0 \n",
       "1188         4.0 \n",
       "1208         4.0 \n",
       "4473     4.0(석사) \n",
       "4493     4.0(석사) \n",
       "4524     4.0(석사) \n",
       "5021         4.0 \n",
       "5310         4.0 \n",
       "5330         4.0 \n",
       "5472         4.0 \n",
       "6330         4.0 \n",
       "6560         4.0 \n",
       "8621         4.0 \n",
       "8911         4.0 \n",
       "9160         4.0 \n",
       "9419         4.0 \n",
       "9420         4.0 \n",
       "Name: 3, dtype: object"
      ]
     },
     "execution_count": 347,
     "metadata": {},
     "output_type": "execute_result"
    }
   ],
   "source": [
    "four[four.str.contains(\"4.0\")==True]"
   ]
  },
  {
   "cell_type": "code",
   "execution_count": 348,
   "metadata": {},
   "outputs": [],
   "source": [
    "df.at[four[four.str.contains(\"4.0\")==True].index,[\"학점\"]]=four[four.str.contains(\"4.0\")==True]"
   ]
  },
  {
   "cell_type": "code",
   "execution_count": 349,
   "metadata": {},
   "outputs": [],
   "source": [
    "four[four.str.contains(\"4.0\")==True]=\"\""
   ]
  },
  {
   "cell_type": "code",
   "execution_count": 350,
   "metadata": {},
   "outputs": [
    {
     "data": {
      "text/plain": [
       "4596     중국 유학경험\n",
       "4616     중국 유학경험\n",
       "4775     중국 유학경험\n",
       "Name: 3, dtype: object"
      ]
     },
     "execution_count": 350,
     "metadata": {},
     "output_type": "execute_result"
    }
   ],
   "source": [
    "four[four.str.contains(\"유학\")==True]"
   ]
  },
  {
   "cell_type": "code",
   "execution_count": 351,
   "metadata": {},
   "outputs": [],
   "source": [
    "df.at[four[four.str.contains(\"유학\")==True].index,[\"경험사항\"]]=four[four.str.contains(\"유학\")==True]"
   ]
  },
  {
   "cell_type": "code",
   "execution_count": 352,
   "metadata": {},
   "outputs": [],
   "source": [
    "four[four.str.contains(\"유학\")==True]=\"\""
   ]
  },
  {
   "cell_type": "code",
   "execution_count": 353,
   "metadata": {},
   "outputs": [
    {
     "data": {
      "text/plain": [
       "4621     학회 참여\n",
       "4773     학회 참여\n",
       "Name: 3, dtype: object"
      ]
     },
     "execution_count": 353,
     "metadata": {},
     "output_type": "execute_result"
    }
   ],
   "source": [
    "four[four.str.contains(\"학회\")==True]"
   ]
  },
  {
   "cell_type": "code",
   "execution_count": 354,
   "metadata": {},
   "outputs": [],
   "source": [
    "df.at[four[four.str.contains(\"학회\")==True].index,[\"경험사항\"]]=four[four.str.contains(\"학회\")==True]"
   ]
  },
  {
   "cell_type": "code",
   "execution_count": 355,
   "metadata": {},
   "outputs": [],
   "source": [
    "four[four.str.contains(\"학회\")==True]=\"\""
   ]
  },
  {
   "cell_type": "code",
   "execution_count": 356,
   "metadata": {},
   "outputs": [
    {
     "data": {
      "text/plain": [
       "9556     해외봉사 \n",
       "Name: 3, dtype: object"
      ]
     },
     "execution_count": 356,
     "metadata": {},
     "output_type": "execute_result"
    }
   ],
   "source": [
    "four[four.str.contains(\"해외봉사\")==True]"
   ]
  },
  {
   "cell_type": "code",
   "execution_count": 357,
   "metadata": {},
   "outputs": [],
   "source": [
    "df.at[four[four.str.contains(\"해외봉사\")==True].index,[\"경험사항\"]]=four[four.str.contains(\"해외봉사\")==True]"
   ]
  },
  {
   "cell_type": "code",
   "execution_count": 358,
   "metadata": {},
   "outputs": [],
   "source": [
    "four[four.str.contains(\"해외봉사\")==True]=\"\""
   ]
  },
  {
   "cell_type": "code",
   "execution_count": 359,
   "metadata": {},
   "outputs": [
    {
     "data": {
      "text/plain": [
       "8197     해외대\n",
       "8217     해외대\n",
       "8434     해외대\n",
       "8454     해외대\n",
       "8504     해외대\n",
       "Name: 3, dtype: object"
      ]
     },
     "execution_count": 359,
     "metadata": {},
     "output_type": "execute_result"
    }
   ],
   "source": [
    "four[four.str.contains(\"해외\")==True]"
   ]
  },
  {
   "cell_type": "code",
   "execution_count": 360,
   "metadata": {},
   "outputs": [],
   "source": [
    "df.at[four[four.str.contains(\"해외\")==True].index,[\"학교\"]]=four[four.str.contains(\"해외\")==True]"
   ]
  },
  {
   "cell_type": "code",
   "execution_count": 361,
   "metadata": {},
   "outputs": [],
   "source": [
    "four[four.str.contains(\"해외\")==True]=\"\""
   ]
  },
  {
   "cell_type": "code",
   "execution_count": 362,
   "metadata": {},
   "outputs": [
    {
     "data": {
      "text/plain": [
       "1652     동아리 활동 \n",
       "1786     동아리 활동 \n",
       "1806     동아리 활동 \n",
       "Name: 3, dtype: object"
      ]
     },
     "execution_count": 362,
     "metadata": {},
     "output_type": "execute_result"
    }
   ],
   "source": [
    "four[four.str.contains(\"동아리\")==True]"
   ]
  },
  {
   "cell_type": "code",
   "execution_count": 363,
   "metadata": {},
   "outputs": [],
   "source": [
    "df.at[four[four.str.contains(\"동아리\")==True].index,[\"경험사항\"]]=four[four.str.contains(\"동아리\")==True]"
   ]
  },
  {
   "cell_type": "code",
   "execution_count": 364,
   "metadata": {},
   "outputs": [],
   "source": [
    "four[four.str.contains(\"동아리\")==True]=\"\""
   ]
  },
  {
   "cell_type": "code",
   "execution_count": 365,
   "metadata": {},
   "outputs": [
    {
     "data": {
      "text/plain": [
       "5017     스타트업기업 CTO, 창업경진대회 은상 , 국내학술대회 논문 1회, 국외학술대회 ...\n",
       "Name: 3, dtype: object"
      ]
     },
     "execution_count": 365,
     "metadata": {},
     "output_type": "execute_result"
    }
   ],
   "source": [
    "four[four.str.contains(\"창업\")==True]"
   ]
  },
  {
   "cell_type": "code",
   "execution_count": 366,
   "metadata": {},
   "outputs": [],
   "source": [
    "df.at[four[four.str.contains(\"창업\")==True].index,[\"경험사항\"]]=four[four.str.contains(\"창업\")==True]"
   ]
  },
  {
   "cell_type": "code",
   "execution_count": 367,
   "metadata": {},
   "outputs": [],
   "source": [
    "four[four.str.contains(\"창업\")==True]=\"\""
   ]
  },
  {
   "cell_type": "code",
   "execution_count": 368,
   "metadata": {},
   "outputs": [
    {
     "data": {
      "text/plain": [
       "10099     글로벌 무역 전문가 양성사업단 5기 활동(1년 6개월)\n",
       "Name: 3, dtype: object"
      ]
     },
     "execution_count": 368,
     "metadata": {},
     "output_type": "execute_result"
    }
   ],
   "source": [
    "four[four.str.contains(\"무역\")==True]"
   ]
  },
  {
   "cell_type": "code",
   "execution_count": 369,
   "metadata": {},
   "outputs": [],
   "source": [
    "df.at[four[four.str.contains(\"무역\")==True].index,[\"경험사항\"]]=four[four.str.contains(\"무역\")==True]"
   ]
  },
  {
   "cell_type": "code",
   "execution_count": 370,
   "metadata": {},
   "outputs": [],
   "source": [
    "four[four.str.contains(\"무역\")==True]=\"\""
   ]
  },
  {
   "cell_type": "code",
   "execution_count": 371,
   "metadata": {},
   "outputs": [],
   "source": [
    "four[four.str.contains(\"무\")==True]=\"X\""
   ]
  },
  {
   "cell_type": "code",
   "execution_count": 372,
   "metadata": {},
   "outputs": [],
   "source": [
    "df.at[four[four.str.contains(\"X\")==True].index,[\"경험사항\"]]=four[four.str.contains(\"X\")==True]"
   ]
  },
  {
   "cell_type": "code",
   "execution_count": 373,
   "metadata": {},
   "outputs": [],
   "source": [
    "four[four.str.contains(\"X\")==True]=\"\""
   ]
  },
  {
   "cell_type": "code",
   "execution_count": 374,
   "metadata": {},
   "outputs": [
    {
     "data": {
      "text/plain": [
       "3104     봉사1회\n",
       "3202     봉사1회\n",
       "Name: 3, dtype: object"
      ]
     },
     "execution_count": 374,
     "metadata": {},
     "output_type": "execute_result"
    }
   ],
   "source": [
    "four[four.str.contains(\"봉사\")==True]"
   ]
  },
  {
   "cell_type": "code",
   "execution_count": 375,
   "metadata": {},
   "outputs": [],
   "source": [
    "df.at[four[four.str.contains(\"봉사\")==True].index,[\"경험사항\"]]=four[four.str.contains(\"봉사\")==True]"
   ]
  },
  {
   "cell_type": "code",
   "execution_count": 376,
   "metadata": {},
   "outputs": [],
   "source": [
    "four[four.str.contains(\"봉사\")==True]=\"\""
   ]
  },
  {
   "cell_type": "code",
   "execution_count": 377,
   "metadata": {},
   "outputs": [],
   "source": [
    "four[four.str.contains(\"4.25\")==True]=\"4.25\""
   ]
  },
  {
   "cell_type": "code",
   "execution_count": 378,
   "metadata": {},
   "outputs": [],
   "source": [
    "df.at[four[four.str.contains(\"4.25\")==True].index,[\"학점\"]]=four[four.str.contains(\"4.25\")==True]"
   ]
  },
  {
   "cell_type": "code",
   "execution_count": 379,
   "metadata": {},
   "outputs": [],
   "source": [
    "four[four.str.contains(\"4.25\")==True]=\"\""
   ]
  },
  {
   "cell_type": "code",
   "execution_count": 380,
   "metadata": {},
   "outputs": [
    {
     "data": {
      "text/plain": [
       "636     한국여성과학기술인지원센터（WISET） 주관 2019년도 여대학원생 공학연구팀제 심...\n",
       "709     한국여성과학기술인지원센터（WISET） 주관 2019년도 여대학원생 공학연구팀제 심...\n",
       "729     한국여성과학기술인지원센터（WISET） 주관 2019년도 여대학원생 공학연구팀제 심...\n",
       "Name: 3, dtype: object"
      ]
     },
     "execution_count": 380,
     "metadata": {},
     "output_type": "execute_result"
    }
   ],
   "source": [
    "four[four.str.contains(\"한국\")==True]"
   ]
  },
  {
   "cell_type": "code",
   "execution_count": 381,
   "metadata": {},
   "outputs": [],
   "source": [
    "df.at[four[four.str.contains(\"한국\")==True].index,[\"경험사항\"]]=four[four.str.contains(\"한국\")==True]"
   ]
  },
  {
   "cell_type": "code",
   "execution_count": 382,
   "metadata": {},
   "outputs": [],
   "source": [
    "four[four.str.contains(\"한국\")==True]=\"\""
   ]
  },
  {
   "cell_type": "code",
   "execution_count": 383,
   "metadata": {},
   "outputs": [],
   "source": [
    "four[four.str.contains(\"대학원\")==True]=\"\""
   ]
  },
  {
   "cell_type": "code",
   "execution_count": 384,
   "metadata": {},
   "outputs": [],
   "source": [
    "four[four.str.contains(\"1회\")==True]=\"\""
   ]
  },
  {
   "cell_type": "code",
   "execution_count": 385,
   "metadata": {},
   "outputs": [],
   "source": [
    "four[four.str.contains(\"미기재\")==True]=\"\""
   ]
  },
  {
   "cell_type": "code",
   "execution_count": 386,
   "metadata": {},
   "outputs": [],
   "source": [
    "four[four.str.contains(\"상경\")==True]=\"\""
   ]
  },
  {
   "cell_type": "code",
   "execution_count": 387,
   "metadata": {},
   "outputs": [
    {
     "data": {
      "text/plain": [
       "7908     보험설계사 1년반\n",
       "7931     보험설계사 1년반\n",
       "Name: 3, dtype: object"
      ]
     },
     "execution_count": 387,
     "metadata": {},
     "output_type": "execute_result"
    }
   ],
   "source": [
    "four[four.str.contains(\"보험\")==True]"
   ]
  },
  {
   "cell_type": "code",
   "execution_count": 388,
   "metadata": {},
   "outputs": [],
   "source": [
    "df.at[four[four.str.contains(\"보험\")==True].index,[\"경험사항\"]]=four[four.str.contains(\"보험\")==True]"
   ]
  },
  {
   "cell_type": "code",
   "execution_count": 389,
   "metadata": {},
   "outputs": [],
   "source": [
    "four[four.str.contains(\"보험\")==True]=\"\""
   ]
  },
  {
   "cell_type": "code",
   "execution_count": 390,
   "metadata": {},
   "outputs": [
    {
     "data": {
      "text/plain": [
       "8771         5회이상\n",
       "8899     활동 5회 이상\n",
       "Name: 3, dtype: object"
      ]
     },
     "execution_count": 390,
     "metadata": {},
     "output_type": "execute_result"
    }
   ],
   "source": [
    "four[four.str.contains(\"5회\")==True]"
   ]
  },
  {
   "cell_type": "code",
   "execution_count": 391,
   "metadata": {},
   "outputs": [],
   "source": [
    "df.at[four[four.str.contains(\"5회\")==True].index,[\"경험사항\"]]=four[four.str.contains(\"5회\")==True]"
   ]
  },
  {
   "cell_type": "code",
   "execution_count": 392,
   "metadata": {},
   "outputs": [],
   "source": [
    "four[four.str.contains(\"5회\")==True]=\"\""
   ]
  },
  {
   "cell_type": "code",
   "execution_count": 393,
   "metadata": {},
   "outputs": [],
   "source": [
    "four[four.str.contains(\"공대\")==True]=\"\""
   ]
  },
  {
   "cell_type": "code",
   "execution_count": 394,
   "metadata": {},
   "outputs": [],
   "source": [
    "four[four.str.contains(\"140\")==True]=\"\""
   ]
  },
  {
   "cell_type": "code",
   "execution_count": 395,
   "metadata": {},
   "outputs": [],
   "source": [
    "four[four.str.contains(\"4\")==True]=\"4.0\""
   ]
  },
  {
   "cell_type": "code",
   "execution_count": 396,
   "metadata": {},
   "outputs": [],
   "source": [
    "df.at[four[four.str.contains(\"4.0\")==True].index,[\"학점\"]]=four[four.str.contains(\"4.0\")==True]"
   ]
  },
  {
   "cell_type": "code",
   "execution_count": 397,
   "metadata": {},
   "outputs": [],
   "source": [
    "four[four.str.contains(\"4.0\")==True]=\"\""
   ]
  },
  {
   "cell_type": "code",
   "execution_count": 398,
   "metadata": {},
   "outputs": [
    {
     "data": {
      "text/plain": [
       "9442     산업공학과 \n",
       "9462     산업공학과 \n",
       "Name: 3, dtype: object"
      ]
     },
     "execution_count": 398,
     "metadata": {},
     "output_type": "execute_result"
    }
   ],
   "source": [
    "four[four.str.contains(\"산업공학과\")==True]"
   ]
  },
  {
   "cell_type": "code",
   "execution_count": 399,
   "metadata": {},
   "outputs": [],
   "source": [
    "df.at[four[four.str.contains(\"산업공학과\")==True].index,[\"학과\"]]=four[four.str.contains(\"산업공학과\")==True]"
   ]
  },
  {
   "cell_type": "code",
   "execution_count": 400,
   "metadata": {},
   "outputs": [],
   "source": [
    "four[four.str.contains(\"산업공학과\")==True]=\"\""
   ]
  },
  {
   "cell_type": "code",
   "execution_count": 401,
   "metadata": {},
   "outputs": [
    {
     "data": {
      "text/plain": [
       "402     영삼성, kb폴라리스\n",
       "Name: 3, dtype: object"
      ]
     },
     "execution_count": 401,
     "metadata": {},
     "output_type": "execute_result"
    }
   ],
   "source": [
    "four[four.str.contains(\"삼성\")==True]"
   ]
  },
  {
   "cell_type": "code",
   "execution_count": 402,
   "metadata": {},
   "outputs": [],
   "source": [
    "df.at[four[four.str.contains(\"삼성\")==True].index,[\"경험사항\"]]=four[four.str.contains(\"삼성\")==True]"
   ]
  },
  {
   "cell_type": "code",
   "execution_count": 403,
   "metadata": {},
   "outputs": [],
   "source": [
    "four[four.str.contains(\"92\")==True]=\"\""
   ]
  },
  {
   "cell_type": "code",
   "execution_count": 404,
   "metadata": {},
   "outputs": [],
   "source": [
    "df.to_csv(\"5.csv\", encoding=\"utf-8\")"
   ]
  },
  {
   "cell_type": "code",
   "execution_count": 405,
   "metadata": {
    "scrolled": true
   },
   "outputs": [
    {
     "data": {
      "text/html": [
       "<div>\n",
       "<style scoped>\n",
       "    .dataframe tbody tr th:only-of-type {\n",
       "        vertical-align: middle;\n",
       "    }\n",
       "\n",
       "    .dataframe tbody tr th {\n",
       "        vertical-align: top;\n",
       "    }\n",
       "\n",
       "    .dataframe thead th {\n",
       "        text-align: right;\n",
       "    }\n",
       "</style>\n",
       "<table border=\"1\" class=\"dataframe\">\n",
       "  <thead>\n",
       "    <tr style=\"text-align: right;\">\n",
       "      <th></th>\n",
       "      <th>Unnamed: 0</th>\n",
       "      <th>Unnamed: 0.1</th>\n",
       "      <th>Unnamed: 0.1.1</th>\n",
       "      <th>Unnamed: 0.1.1.1</th>\n",
       "      <th>기업명</th>\n",
       "      <th>지원부서</th>\n",
       "      <th>지원시기</th>\n",
       "      <th>학교</th>\n",
       "      <th>학과</th>\n",
       "      <th>학점</th>\n",
       "      <th>어학</th>\n",
       "      <th>자격증</th>\n",
       "      <th>경험사항</th>\n",
       "      <th>자소서</th>\n",
       "    </tr>\n",
       "  </thead>\n",
       "  <tbody>\n",
       "    <tr>\n",
       "      <th>0</th>\n",
       "      <td>0</td>\n",
       "      <td>0</td>\n",
       "      <td>0</td>\n",
       "      <td>0</td>\n",
       "      <td>한국석유공사</td>\n",
       "      <td>설비</td>\n",
       "      <td>2020 상반기</td>\n",
       "      <td>NaN</td>\n",
       "      <td>전자공학과</td>\n",
       "      <td>학점 1.7등급</td>\n",
       "      <td>NaN</td>\n",
       "      <td>NaN</td>\n",
       "      <td>인천 글로벌 숙련 진흥원, 선반, 용접 ,특수용접, 설비보전</td>\n",
       "      <td>7.한국석유공사\\n\\n 1. 지원 분야 직무기술서 ‘직무수행 내용’ 중 본인이 가장...</td>\n",
       "    </tr>\n",
       "    <tr>\n",
       "      <th>1</th>\n",
       "      <td>1</td>\n",
       "      <td>1</td>\n",
       "      <td>1</td>\n",
       "      <td>1</td>\n",
       "      <td>CJ제일제당</td>\n",
       "      <td>Food Sales</td>\n",
       "      <td>2020 상반기</td>\n",
       "      <td>서울사립대(중앙대학교)</td>\n",
       "      <td>상경계열학과</td>\n",
       "      <td>학점 3.92</td>\n",
       "      <td>토익 905, 토스 LV 6</td>\n",
       "      <td>NaN</td>\n",
       "      <td>봉사활동 일부빼고는 전무.</td>\n",
       "      <td>CJ제일제당 및 선택한 직무에 대한 지원동기는 무엇인가요? ① 선택한 직무에 관심을...</td>\n",
       "    </tr>\n",
       "    <tr>\n",
       "      <th>2</th>\n",
       "      <td>2</td>\n",
       "      <td>2</td>\n",
       "      <td>2</td>\n",
       "      <td>2</td>\n",
       "      <td>한국가스안전공사</td>\n",
       "      <td>LP가스 안전지킴이사업</td>\n",
       "      <td>2020 상반기</td>\n",
       "      <td>지방거점국립대(제주대학교)</td>\n",
       "      <td>NaN</td>\n",
       "      <td>학점 3.3</td>\n",
       "      <td>토익830</td>\n",
       "      <td>컴퓨터활용능력1급, 한국사1급</td>\n",
       "      <td>NaN</td>\n",
       "      <td>\\n1. 한국가스안전공사가 진행하는 사업에 관심을 갖고 공사에 지원한 동기에 대해 ...</td>\n",
       "    </tr>\n",
       "    <tr>\n",
       "      <th>3</th>\n",
       "      <td>3</td>\n",
       "      <td>3</td>\n",
       "      <td>3</td>\n",
       "      <td>3</td>\n",
       "      <td>코레일</td>\n",
       "      <td>사무영업</td>\n",
       "      <td>2020 상반기</td>\n",
       "      <td>지방거점국립대(충남대학교)</td>\n",
       "      <td>NaN</td>\n",
       "      <td>학점 3.87</td>\n",
       "      <td>토익 835</td>\n",
       "      <td>토론동아리 3년, 컴활1급, 한국사1급</td>\n",
       "      <td>NaN</td>\n",
       "      <td>1.공동체의 일원으로서 가장 중요하게 생각하는 가치를 제시하고, 그 가치를 실천했던...</td>\n",
       "    </tr>\n",
       "    <tr>\n",
       "      <th>4</th>\n",
       "      <td>4</td>\n",
       "      <td>4</td>\n",
       "      <td>4</td>\n",
       "      <td>4</td>\n",
       "      <td>한국기술교육대학교</td>\n",
       "      <td>행정</td>\n",
       "      <td>2020 상반기</td>\n",
       "      <td>서울사립대(건국대학교)</td>\n",
       "      <td>NaN</td>\n",
       "      <td>학점 4.0</td>\n",
       "      <td>토익 780</td>\n",
       "      <td>컴활 1급, 한국사1급</td>\n",
       "      <td>NaN</td>\n",
       "      <td>1. 본인이 가진 가장 뛰어난 점과 그렇게 판단한 이유, 고용노동연수원 업무수행에서...</td>\n",
       "    </tr>\n",
       "    <tr>\n",
       "      <th>...</th>\n",
       "      <td>...</td>\n",
       "      <td>...</td>\n",
       "      <td>...</td>\n",
       "      <td>...</td>\n",
       "      <td>...</td>\n",
       "      <td>...</td>\n",
       "      <td>...</td>\n",
       "      <td>...</td>\n",
       "      <td>...</td>\n",
       "      <td>...</td>\n",
       "      <td>...</td>\n",
       "      <td>...</td>\n",
       "      <td>...</td>\n",
       "      <td>...</td>\n",
       "    </tr>\n",
       "    <tr>\n",
       "      <th>10102</th>\n",
       "      <td>10102</td>\n",
       "      <td>10102</td>\n",
       "      <td>10102</td>\n",
       "      <td>10102</td>\n",
       "      <td>현대자동차</td>\n",
       "      <td>영업관리</td>\n",
       "      <td>2013 상반기</td>\n",
       "      <td>서울사립대(상명대학교)</td>\n",
       "      <td>국제통상학과</td>\n",
       "      <td>학점 4.3</td>\n",
       "      <td>토익 900, HSK 6급</td>\n",
       "      <td>NaN</td>\n",
       "      <td>해외인턴1회, 중국어 말하기 대회 1등, 와인바 매니저 1년 6개월 경력</td>\n",
       "      <td>1. 현대자동차에 지원하게 된 동기 또는 해당 직무에 지원하게 된 동기는 무엇입니까...</td>\n",
       "    </tr>\n",
       "    <tr>\n",
       "      <th>10103</th>\n",
       "      <td>10103</td>\n",
       "      <td>10103</td>\n",
       "      <td>10103</td>\n",
       "      <td>10103</td>\n",
       "      <td>심팩</td>\n",
       "      <td>용접관리</td>\n",
       "      <td>2013 상반기</td>\n",
       "      <td>전문대</td>\n",
       "      <td>공업화학과</td>\n",
       "      <td>학점 3.06</td>\n",
       "      <td>NaN</td>\n",
       "      <td>NaN</td>\n",
       "      <td>NaN</td>\n",
       "      <td>성격소개\\n\\n대부분의 사람들이 평가하는 첫인상은 소심하고 내성적인 성격일것이라 생...</td>\n",
       "    </tr>\n",
       "    <tr>\n",
       "      <th>10104</th>\n",
       "      <td>10104</td>\n",
       "      <td>10104</td>\n",
       "      <td>10104</td>\n",
       "      <td>10104</td>\n",
       "      <td>한국전력</td>\n",
       "      <td>인턴[송,배전]</td>\n",
       "      <td>2013 상반기</td>\n",
       "      <td>지방거점국립대</td>\n",
       "      <td>전자공학과</td>\n",
       "      <td>학점 3.7</td>\n",
       "      <td>토익 900대</td>\n",
       "      <td>NaN</td>\n",
       "      <td>음악봉사활동, 멘토링 등</td>\n",
       "      <td>[질문 1] 취업이라는 목표 이외에 인생의 큰 목표를 세운 경험, 그 목표를 실현하...</td>\n",
       "    </tr>\n",
       "    <tr>\n",
       "      <th>10105</th>\n",
       "      <td>10105</td>\n",
       "      <td>10105</td>\n",
       "      <td>10105</td>\n",
       "      <td>10105</td>\n",
       "      <td>한국전력</td>\n",
       "      <td>인턴[송,배전]</td>\n",
       "      <td>2013 상반기</td>\n",
       "      <td>지방거점국립대</td>\n",
       "      <td>전자공학과</td>\n",
       "      <td>학점 3.7</td>\n",
       "      <td>토익 900</td>\n",
       "      <td>NaN</td>\n",
       "      <td>음악봉사활동, 멘토링등</td>\n",
       "      <td>한전 자가소개서 양식 500자 12줄 이내\\n\\n[질문 1] 취업이라는 목표 이외에...</td>\n",
       "    </tr>\n",
       "    <tr>\n",
       "      <th>10106</th>\n",
       "      <td>10106</td>\n",
       "      <td>10106</td>\n",
       "      <td>10106</td>\n",
       "      <td>10106</td>\n",
       "      <td>한국전력</td>\n",
       "      <td>인턴[송,배전]</td>\n",
       "      <td>2013 상반기</td>\n",
       "      <td>지방거점국립대</td>\n",
       "      <td>전자공학과</td>\n",
       "      <td>학점 3.7</td>\n",
       "      <td>토익 900</td>\n",
       "      <td>NaN</td>\n",
       "      <td>음악봉사활동, 멘토링등</td>\n",
       "      <td>한전 자가소개서 양식 500자 12줄 이내\\n\\n[질문 1] 취업이라는 목표 이외에...</td>\n",
       "    </tr>\n",
       "  </tbody>\n",
       "</table>\n",
       "<p>10107 rows × 14 columns</p>\n",
       "</div>"
      ],
      "text/plain": [
       "       Unnamed: 0  Unnamed: 0.1  Unnamed: 0.1.1  Unnamed: 0.1.1.1         기업명  \\\n",
       "0               0             0               0                 0     한국석유공사    \n",
       "1               1             1               1                 1     CJ제일제당    \n",
       "2               2             2               2                 2   한국가스안전공사    \n",
       "3               3             3               3                 3        코레일    \n",
       "4               4             4               4                 4  한국기술교육대학교    \n",
       "...           ...           ...             ...               ...         ...   \n",
       "10102       10102         10102           10102             10102      현대자동차    \n",
       "10103       10103         10103           10103             10103         심팩    \n",
       "10104       10104         10104           10104             10104       한국전력    \n",
       "10105       10105         10105           10105             10105       한국전력    \n",
       "10106       10106         10106           10106             10106       한국전력    \n",
       "\n",
       "                 지원부서       지원시기              학교      학과          학점  \\\n",
       "0                 설비    2020 상반기             NaN   전자공학과   학점 1.7등급    \n",
       "1         Food Sales    2020 상반기    서울사립대(중앙대학교)  상경계열학과    학점 3.92    \n",
       "2       LP가스 안전지킴이사업    2020 상반기  지방거점국립대(제주대학교)     NaN     학점 3.3    \n",
       "3               사무영업    2020 상반기  지방거점국립대(충남대학교)     NaN    학점 3.87    \n",
       "4                 행정    2020 상반기    서울사립대(건국대학교)     NaN     학점 4.0    \n",
       "...               ...        ...             ...     ...         ...   \n",
       "10102           영업관리    2013 상반기    서울사립대(상명대학교)  국제통상학과     학점 4.3    \n",
       "10103           용접관리    2013 상반기             전문대   공업화학과     학점 3.06   \n",
       "10104       인턴[송,배전]    2013 상반기         지방거점국립대   전자공학과     학점 3.7    \n",
       "10105       인턴[송,배전]    2013 상반기         지방거점국립대   전자공학과     학점 3.7    \n",
       "10106       인턴[송,배전]    2013 상반기         지방거점국립대   전자공학과     학점 3.7    \n",
       "\n",
       "                      어학                     자격증  \\\n",
       "0                    NaN                     NaN   \n",
       "1       토익 905, 토스 LV 6                      NaN   \n",
       "2                 토익830         컴퓨터활용능력1급, 한국사1급   \n",
       "3                토익 835    토론동아리 3년, 컴활1급, 한국사1급   \n",
       "4                토익 780             컴활 1급, 한국사1급   \n",
       "...                  ...                     ...   \n",
       "10102    토익 900, HSK 6급                      NaN   \n",
       "10103                NaN                     NaN   \n",
       "10104           토익 900대                      NaN   \n",
       "10105            토익 900                      NaN   \n",
       "10106            토익 900                      NaN   \n",
       "\n",
       "                                            경험사항  \\\n",
       "0              인천 글로벌 숙련 진흥원, 선반, 용접 ,특수용접, 설비보전   \n",
       "1                                 봉사활동 일부빼고는 전무.   \n",
       "2                                            NaN   \n",
       "3                                            NaN   \n",
       "4                                            NaN   \n",
       "...                                          ...   \n",
       "10102   해외인턴1회, 중국어 말하기 대회 1등, 와인바 매니저 1년 6개월 경력   \n",
       "10103                                        NaN   \n",
       "10104                              음악봉사활동, 멘토링 등   \n",
       "10105                               음악봉사활동, 멘토링등   \n",
       "10106                               음악봉사활동, 멘토링등   \n",
       "\n",
       "                                                     자소서  \n",
       "0      7.한국석유공사\\n\\n 1. 지원 분야 직무기술서 ‘직무수행 내용’ 중 본인이 가장...  \n",
       "1      CJ제일제당 및 선택한 직무에 대한 지원동기는 무엇인가요? ① 선택한 직무에 관심을...  \n",
       "2      \\n1. 한국가스안전공사가 진행하는 사업에 관심을 갖고 공사에 지원한 동기에 대해 ...  \n",
       "3      1.공동체의 일원으로서 가장 중요하게 생각하는 가치를 제시하고, 그 가치를 실천했던...  \n",
       "4      1. 본인이 가진 가장 뛰어난 점과 그렇게 판단한 이유, 고용노동연수원 업무수행에서...  \n",
       "...                                                  ...  \n",
       "10102  1. 현대자동차에 지원하게 된 동기 또는 해당 직무에 지원하게 된 동기는 무엇입니까...  \n",
       "10103  성격소개\\n\\n대부분의 사람들이 평가하는 첫인상은 소심하고 내성적인 성격일것이라 생...  \n",
       "10104  [질문 1] 취업이라는 목표 이외에 인생의 큰 목표를 세운 경험, 그 목표를 실현하...  \n",
       "10105  한전 자가소개서 양식 500자 12줄 이내\\n\\n[질문 1] 취업이라는 목표 이외에...  \n",
       "10106  한전 자가소개서 양식 500자 12줄 이내\\n\\n[질문 1] 취업이라는 목표 이외에...  \n",
       "\n",
       "[10107 rows x 14 columns]"
      ]
     },
     "execution_count": 405,
     "metadata": {},
     "output_type": "execute_result"
    }
   ],
   "source": [
    "df"
   ]
  },
  {
   "cell_type": "code",
   "execution_count": 407,
   "metadata": {},
   "outputs": [
    {
     "data": {
      "text/plain": [
       "734"
      ]
     },
     "execution_count": 407,
     "metadata": {},
     "output_type": "execute_result"
    }
   ],
   "source": [
    "df[\"학점\"].isnull().sum()"
   ]
  }
 ],
 "metadata": {
  "kernelspec": {
   "display_name": "Python 3",
   "language": "python",
   "name": "python3"
  },
  "language_info": {
   "codemirror_mode": {
    "name": "ipython",
    "version": 3
   },
   "file_extension": ".py",
   "mimetype": "text/x-python",
   "name": "python",
   "nbconvert_exporter": "python",
   "pygments_lexer": "ipython3",
   "version": "3.7.6"
  }
 },
 "nbformat": 4,
 "nbformat_minor": 4
}
