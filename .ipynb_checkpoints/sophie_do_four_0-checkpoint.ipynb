{
 "cells": [
  {
   "cell_type": "code",
   "execution_count": 1,
   "metadata": {},
   "outputs": [],
   "source": [
    "import pandas as pd"
   ]
  },
  {
   "cell_type": "code",
   "execution_count": 2,
   "metadata": {},
   "outputs": [],
   "source": [
    "raw_df=pd.read_csv(\"WriteData.csv\")"
   ]
  },
  {
   "cell_type": "code",
   "execution_count": 3,
   "metadata": {
    "scrolled": true
   },
   "outputs": [
    {
     "data": {
      "text/html": [
       "<div>\n",
       "<style scoped>\n",
       "    .dataframe tbody tr th:only-of-type {\n",
       "        vertical-align: middle;\n",
       "    }\n",
       "\n",
       "    .dataframe tbody tr th {\n",
       "        vertical-align: top;\n",
       "    }\n",
       "\n",
       "    .dataframe thead th {\n",
       "        text-align: right;\n",
       "    }\n",
       "</style>\n",
       "<table border=\"1\" class=\"dataframe\">\n",
       "  <thead>\n",
       "    <tr style=\"text-align: right;\">\n",
       "      <th></th>\n",
       "      <th>1</th>\n",
       "      <th>2</th>\n",
       "      <th>3</th>\n",
       "    </tr>\n",
       "  </thead>\n",
       "  <tbody>\n",
       "    <tr>\n",
       "      <th>0</th>\n",
       "      <td>한국석유공사 / 설비 / 2020 상반기</td>\n",
       "      <td>광주전자공업고등학교 / 학점 1.7등급 / 인천 글로벌 숙련 진흥원 5일, 선반, ...</td>\n",
       "      <td>7.한국석유공사\\n\\n 1. 지원 분야 직무기술서 ‘직무수행 내용’ 중 본인이 가장...</td>\n",
       "    </tr>\n",
       "    <tr>\n",
       "      <th>1</th>\n",
       "      <td>CJ제일제당 / Food Sales / 2020 상반기</td>\n",
       "      <td>중경외시 / 상경계열 / 학점 3.92 / 토익 905, 토스 LV 6 / 봉사활동...</td>\n",
       "      <td>CJ제일제당 및 선택한 직무에 대한 지원동기는 무엇인가요? ① 선택한 직무에 관심을...</td>\n",
       "    </tr>\n",
       "    <tr>\n",
       "      <th>2</th>\n",
       "      <td>한국가스안전공사 / LP가스 안전지킴이사업 / 2020 상반기</td>\n",
       "      <td>제주대학교 / 학점 3.3 / 토익830 / 컴퓨터활용능력1급, 한국사1급</td>\n",
       "      <td>\\n1. 한국가스안전공사가 진행하는 사업에 관심을 갖고 공사에 지원한 동기에 대해 ...</td>\n",
       "    </tr>\n",
       "    <tr>\n",
       "      <th>3</th>\n",
       "      <td>코레일 / 사무영업 / 2020 상반기</td>\n",
       "      <td>충남대학교 / 학점 3.87 / 토익 835 / 토론동아리 3년, 컴활1급, 한국사1급</td>\n",
       "      <td>1.공동체의 일원으로서 가장 중요하게 생각하는 가치를 제시하고, 그 가치를 실천했던...</td>\n",
       "    </tr>\n",
       "    <tr>\n",
       "      <th>4</th>\n",
       "      <td>한국기술교육대학교 / 행정 / 2020 상반기</td>\n",
       "      <td>건국대학교 / 학점 4.0 / 토익 780 / 컴활 1급, 한국사1급</td>\n",
       "      <td>1. 본인이 가진 가장 뛰어난 점과 그렇게 판단한 이유, 고용노동연수원 업무수행에서...</td>\n",
       "    </tr>\n",
       "    <tr>\n",
       "      <th>...</th>\n",
       "      <td>...</td>\n",
       "      <td>...</td>\n",
       "      <td>...</td>\n",
       "    </tr>\n",
       "    <tr>\n",
       "      <th>10102</th>\n",
       "      <td>현대자동차 / 영업관리 / 2013 상반기</td>\n",
       "      <td>상명대학교 / 국제통상학 / 학점 4.3 / 토익 900, HSK 6급 / 해외인턴...</td>\n",
       "      <td>1. 현대자동차에 지원하게 된 동기 또는 해당 직무에 지원하게 된 동기는 무엇입니까...</td>\n",
       "    </tr>\n",
       "    <tr>\n",
       "      <th>10103</th>\n",
       "      <td>심팩 / 용접관리 / 2013 상반기</td>\n",
       "      <td>지방전문대 / 공업화학 / 학점 3.06</td>\n",
       "      <td>성격소개\\n\\n대부분의 사람들이 평가하는 첫인상은 소심하고 내성적인 성격일것이라 생...</td>\n",
       "    </tr>\n",
       "    <tr>\n",
       "      <th>10104</th>\n",
       "      <td>한국전력 / 인턴[송,배전] / 2013 상반기</td>\n",
       "      <td>지거국 / 전자공학 / 학점 3.7 / 토익 900대 / 음악봉사활동, 멘토링 등</td>\n",
       "      <td>[질문 1] 취업이라는 목표 이외에 인생의 큰 목표를 세운 경험, 그 목표를 실현하...</td>\n",
       "    </tr>\n",
       "    <tr>\n",
       "      <th>10105</th>\n",
       "      <td>한국전력 / 인턴[송,배전] / 2013 상반기</td>\n",
       "      <td>지거국 / 전자공학 / 학점 3.7 / 토익 900 / 음악봉사활동, 멘토링등</td>\n",
       "      <td>한전 자가소개서 양식 500자 12줄 이내\\n\\n[질문 1] 취업이라는 목표 이외에...</td>\n",
       "    </tr>\n",
       "    <tr>\n",
       "      <th>10106</th>\n",
       "      <td>한국전력 / 인턴[송,배전] / 2013 상반기</td>\n",
       "      <td>지거국 / 전자공학 / 학점 3.7 / 토익 900 / 음악봉사활동, 멘토링등</td>\n",
       "      <td>한전 자가소개서 양식 500자 12줄 이내\\n\\n[질문 1] 취업이라는 목표 이외에...</td>\n",
       "    </tr>\n",
       "  </tbody>\n",
       "</table>\n",
       "<p>10107 rows × 3 columns</p>\n",
       "</div>"
      ],
      "text/plain": [
       "                                        1  \\\n",
       "0                  한국석유공사 / 설비 / 2020 상반기   \n",
       "1          CJ제일제당 / Food Sales / 2020 상반기   \n",
       "2      한국가스안전공사 / LP가스 안전지킴이사업 / 2020 상반기   \n",
       "3                   코레일 / 사무영업 / 2020 상반기   \n",
       "4               한국기술교육대학교 / 행정 / 2020 상반기   \n",
       "...                                   ...   \n",
       "10102             현대자동차 / 영업관리 / 2013 상반기   \n",
       "10103                심팩 / 용접관리 / 2013 상반기   \n",
       "10104          한국전력 / 인턴[송,배전] / 2013 상반기   \n",
       "10105          한국전력 / 인턴[송,배전] / 2013 상반기   \n",
       "10106          한국전력 / 인턴[송,배전] / 2013 상반기   \n",
       "\n",
       "                                                       2  \\\n",
       "0      광주전자공업고등학교 / 학점 1.7등급 / 인천 글로벌 숙련 진흥원 5일, 선반, ...   \n",
       "1      중경외시 / 상경계열 / 학점 3.92 / 토익 905, 토스 LV 6 / 봉사활동...   \n",
       "2              제주대학교 / 학점 3.3 / 토익830 / 컴퓨터활용능력1급, 한국사1급   \n",
       "3       충남대학교 / 학점 3.87 / 토익 835 / 토론동아리 3년, 컴활1급, 한국사1급   \n",
       "4                 건국대학교 / 학점 4.0 / 토익 780 / 컴활 1급, 한국사1급   \n",
       "...                                                  ...   \n",
       "10102  상명대학교 / 국제통상학 / 학점 4.3 / 토익 900, HSK 6급 / 해외인턴...   \n",
       "10103                             지방전문대 / 공업화학 / 학점 3.06   \n",
       "10104      지거국 / 전자공학 / 학점 3.7 / 토익 900대 / 음악봉사활동, 멘토링 등   \n",
       "10105        지거국 / 전자공학 / 학점 3.7 / 토익 900 / 음악봉사활동, 멘토링등   \n",
       "10106        지거국 / 전자공학 / 학점 3.7 / 토익 900 / 음악봉사활동, 멘토링등   \n",
       "\n",
       "                                                       3  \n",
       "0      7.한국석유공사\\n\\n 1. 지원 분야 직무기술서 ‘직무수행 내용’ 중 본인이 가장...  \n",
       "1      CJ제일제당 및 선택한 직무에 대한 지원동기는 무엇인가요? ① 선택한 직무에 관심을...  \n",
       "2      \\n1. 한국가스안전공사가 진행하는 사업에 관심을 갖고 공사에 지원한 동기에 대해 ...  \n",
       "3      1.공동체의 일원으로서 가장 중요하게 생각하는 가치를 제시하고, 그 가치를 실천했던...  \n",
       "4      1. 본인이 가진 가장 뛰어난 점과 그렇게 판단한 이유, 고용노동연수원 업무수행에서...  \n",
       "...                                                  ...  \n",
       "10102  1. 현대자동차에 지원하게 된 동기 또는 해당 직무에 지원하게 된 동기는 무엇입니까...  \n",
       "10103  성격소개\\n\\n대부분의 사람들이 평가하는 첫인상은 소심하고 내성적인 성격일것이라 생...  \n",
       "10104  [질문 1] 취업이라는 목표 이외에 인생의 큰 목표를 세운 경험, 그 목표를 실현하...  \n",
       "10105  한전 자가소개서 양식 500자 12줄 이내\\n\\n[질문 1] 취업이라는 목표 이외에...  \n",
       "10106  한전 자가소개서 양식 500자 12줄 이내\\n\\n[질문 1] 취업이라는 목표 이외에...  \n",
       "\n",
       "[10107 rows x 3 columns]"
      ]
     },
     "execution_count": 3,
     "metadata": {},
     "output_type": "execute_result"
    }
   ],
   "source": [
    "raw_df"
   ]
  },
  {
   "cell_type": "code",
   "execution_count": 4,
   "metadata": {},
   "outputs": [],
   "source": [
    "df=pd.read_csv(\"20200811_Fin.csv\")"
   ]
  },
  {
   "cell_type": "code",
   "execution_count": 5,
   "metadata": {
    "scrolled": true
   },
   "outputs": [
    {
     "data": {
      "text/html": [
       "<div>\n",
       "<style scoped>\n",
       "    .dataframe tbody tr th:only-of-type {\n",
       "        vertical-align: middle;\n",
       "    }\n",
       "\n",
       "    .dataframe tbody tr th {\n",
       "        vertical-align: top;\n",
       "    }\n",
       "\n",
       "    .dataframe thead th {\n",
       "        text-align: right;\n",
       "    }\n",
       "</style>\n",
       "<table border=\"1\" class=\"dataframe\">\n",
       "  <thead>\n",
       "    <tr style=\"text-align: right;\">\n",
       "      <th></th>\n",
       "      <th>Unnamed: 0</th>\n",
       "      <th>Unnamed: 0.1</th>\n",
       "      <th>Unnamed: 0.1.1</th>\n",
       "      <th>기업명</th>\n",
       "      <th>지원부서</th>\n",
       "      <th>지원시기</th>\n",
       "      <th>학교</th>\n",
       "      <th>학과</th>\n",
       "      <th>학점</th>\n",
       "      <th>어학</th>\n",
       "      <th>자격증</th>\n",
       "      <th>경험사항</th>\n",
       "      <th>자소서</th>\n",
       "    </tr>\n",
       "  </thead>\n",
       "  <tbody>\n",
       "    <tr>\n",
       "      <th>0</th>\n",
       "      <td>0</td>\n",
       "      <td>0</td>\n",
       "      <td>0</td>\n",
       "      <td>한국석유공사</td>\n",
       "      <td>설비</td>\n",
       "      <td>2020 상반기</td>\n",
       "      <td>NaN</td>\n",
       "      <td>전자공학과</td>\n",
       "      <td>학점 1.7등급</td>\n",
       "      <td>NaN</td>\n",
       "      <td>NaN</td>\n",
       "      <td>인천 글로벌 숙련 진흥원, 선반, 용접 ,특수용접, 설비보전</td>\n",
       "      <td>7.한국석유공사\\n\\n 1. 지원 분야 직무기술서 ‘직무수행 내용’ 중 본인이 가장...</td>\n",
       "    </tr>\n",
       "    <tr>\n",
       "      <th>1</th>\n",
       "      <td>1</td>\n",
       "      <td>1</td>\n",
       "      <td>1</td>\n",
       "      <td>CJ제일제당</td>\n",
       "      <td>Food Sales</td>\n",
       "      <td>2020 상반기</td>\n",
       "      <td>서울사립대(중앙대학교)</td>\n",
       "      <td>상경계열학과</td>\n",
       "      <td>학점 3.92</td>\n",
       "      <td>NaN</td>\n",
       "      <td>NaN</td>\n",
       "      <td>봉사활동 일부빼고는 전무.</td>\n",
       "      <td>CJ제일제당 및 선택한 직무에 대한 지원동기는 무엇인가요? ① 선택한 직무에 관심을...</td>\n",
       "    </tr>\n",
       "    <tr>\n",
       "      <th>2</th>\n",
       "      <td>2</td>\n",
       "      <td>2</td>\n",
       "      <td>2</td>\n",
       "      <td>한국가스안전공사</td>\n",
       "      <td>LP가스 안전지킴이사업</td>\n",
       "      <td>2020 상반기</td>\n",
       "      <td>지방거점국립대(제주대학교)</td>\n",
       "      <td>NaN</td>\n",
       "      <td>학점 3.3</td>\n",
       "      <td>토익830</td>\n",
       "      <td>NaN</td>\n",
       "      <td>NaN</td>\n",
       "      <td>\\n1. 한국가스안전공사가 진행하는 사업에 관심을 갖고 공사에 지원한 동기에 대해 ...</td>\n",
       "    </tr>\n",
       "    <tr>\n",
       "      <th>3</th>\n",
       "      <td>3</td>\n",
       "      <td>3</td>\n",
       "      <td>3</td>\n",
       "      <td>코레일</td>\n",
       "      <td>사무영업</td>\n",
       "      <td>2020 상반기</td>\n",
       "      <td>지방거점국립대(충남대학교)</td>\n",
       "      <td>NaN</td>\n",
       "      <td>학점 3.87</td>\n",
       "      <td>토익 835</td>\n",
       "      <td>NaN</td>\n",
       "      <td>NaN</td>\n",
       "      <td>1.공동체의 일원으로서 가장 중요하게 생각하는 가치를 제시하고, 그 가치를 실천했던...</td>\n",
       "    </tr>\n",
       "    <tr>\n",
       "      <th>4</th>\n",
       "      <td>4</td>\n",
       "      <td>4</td>\n",
       "      <td>4</td>\n",
       "      <td>한국기술교육대학교</td>\n",
       "      <td>행정</td>\n",
       "      <td>2020 상반기</td>\n",
       "      <td>서울사립대(건국대학교)</td>\n",
       "      <td>NaN</td>\n",
       "      <td>학점 4.0</td>\n",
       "      <td>토익 780</td>\n",
       "      <td>NaN</td>\n",
       "      <td>NaN</td>\n",
       "      <td>1. 본인이 가진 가장 뛰어난 점과 그렇게 판단한 이유, 고용노동연수원 업무수행에서...</td>\n",
       "    </tr>\n",
       "    <tr>\n",
       "      <th>...</th>\n",
       "      <td>...</td>\n",
       "      <td>...</td>\n",
       "      <td>...</td>\n",
       "      <td>...</td>\n",
       "      <td>...</td>\n",
       "      <td>...</td>\n",
       "      <td>...</td>\n",
       "      <td>...</td>\n",
       "      <td>...</td>\n",
       "      <td>...</td>\n",
       "      <td>...</td>\n",
       "      <td>...</td>\n",
       "      <td>...</td>\n",
       "    </tr>\n",
       "    <tr>\n",
       "      <th>10102</th>\n",
       "      <td>10102</td>\n",
       "      <td>10102</td>\n",
       "      <td>10102</td>\n",
       "      <td>현대자동차</td>\n",
       "      <td>영업관리</td>\n",
       "      <td>2013 상반기</td>\n",
       "      <td>서울사립대(상명대학교)</td>\n",
       "      <td>국제통상학과</td>\n",
       "      <td>학점 4.3</td>\n",
       "      <td>NaN</td>\n",
       "      <td>NaN</td>\n",
       "      <td>해외인턴1회, 중국어 말하기 대회 1등, 와인바 매니저 1년 6개월 경력</td>\n",
       "      <td>1. 현대자동차에 지원하게 된 동기 또는 해당 직무에 지원하게 된 동기는 무엇입니까...</td>\n",
       "    </tr>\n",
       "    <tr>\n",
       "      <th>10103</th>\n",
       "      <td>10103</td>\n",
       "      <td>10103</td>\n",
       "      <td>10103</td>\n",
       "      <td>심팩</td>\n",
       "      <td>용접관리</td>\n",
       "      <td>2013 상반기</td>\n",
       "      <td>전문대</td>\n",
       "      <td>공업화학과</td>\n",
       "      <td>학점 3.06</td>\n",
       "      <td>NaN</td>\n",
       "      <td>NaN</td>\n",
       "      <td>NaN</td>\n",
       "      <td>성격소개\\n\\n대부분의 사람들이 평가하는 첫인상은 소심하고 내성적인 성격일것이라 생...</td>\n",
       "    </tr>\n",
       "    <tr>\n",
       "      <th>10104</th>\n",
       "      <td>10104</td>\n",
       "      <td>10104</td>\n",
       "      <td>10104</td>\n",
       "      <td>한국전력</td>\n",
       "      <td>인턴[송,배전]</td>\n",
       "      <td>2013 상반기</td>\n",
       "      <td>지방거점국립대</td>\n",
       "      <td>전자공학과</td>\n",
       "      <td>학점 3.7</td>\n",
       "      <td>NaN</td>\n",
       "      <td>NaN</td>\n",
       "      <td>음악봉사활동, 멘토링 등</td>\n",
       "      <td>[질문 1] 취업이라는 목표 이외에 인생의 큰 목표를 세운 경험, 그 목표를 실현하...</td>\n",
       "    </tr>\n",
       "    <tr>\n",
       "      <th>10105</th>\n",
       "      <td>10105</td>\n",
       "      <td>10105</td>\n",
       "      <td>10105</td>\n",
       "      <td>한국전력</td>\n",
       "      <td>인턴[송,배전]</td>\n",
       "      <td>2013 상반기</td>\n",
       "      <td>지방거점국립대</td>\n",
       "      <td>전자공학과</td>\n",
       "      <td>학점 3.7</td>\n",
       "      <td>NaN</td>\n",
       "      <td>NaN</td>\n",
       "      <td>음악봉사활동, 멘토링등</td>\n",
       "      <td>한전 자가소개서 양식 500자 12줄 이내\\n\\n[질문 1] 취업이라는 목표 이외에...</td>\n",
       "    </tr>\n",
       "    <tr>\n",
       "      <th>10106</th>\n",
       "      <td>10106</td>\n",
       "      <td>10106</td>\n",
       "      <td>10106</td>\n",
       "      <td>한국전력</td>\n",
       "      <td>인턴[송,배전]</td>\n",
       "      <td>2013 상반기</td>\n",
       "      <td>지방거점국립대</td>\n",
       "      <td>전자공학과</td>\n",
       "      <td>학점 3.7</td>\n",
       "      <td>NaN</td>\n",
       "      <td>NaN</td>\n",
       "      <td>음악봉사활동, 멘토링등</td>\n",
       "      <td>한전 자가소개서 양식 500자 12줄 이내\\n\\n[질문 1] 취업이라는 목표 이외에...</td>\n",
       "    </tr>\n",
       "  </tbody>\n",
       "</table>\n",
       "<p>10107 rows × 13 columns</p>\n",
       "</div>"
      ],
      "text/plain": [
       "       Unnamed: 0  Unnamed: 0.1  Unnamed: 0.1.1         기업명            지원부서  \\\n",
       "0               0             0               0     한국석유공사              설비    \n",
       "1               1             1               1     CJ제일제당      Food Sales    \n",
       "2               2             2               2   한국가스안전공사    LP가스 안전지킴이사업    \n",
       "3               3             3               3        코레일            사무영업    \n",
       "4               4             4               4  한국기술교육대학교              행정    \n",
       "...           ...           ...             ...         ...             ...   \n",
       "10102       10102         10102           10102      현대자동차            영업관리    \n",
       "10103       10103         10103           10103         심팩            용접관리    \n",
       "10104       10104         10104           10104       한국전력        인턴[송,배전]    \n",
       "10105       10105         10105           10105       한국전력        인턴[송,배전]    \n",
       "10106       10106         10106           10106       한국전력        인턴[송,배전]    \n",
       "\n",
       "            지원시기              학교      학과          학점        어학  자격증  \\\n",
       "0       2020 상반기             NaN   전자공학과   학점 1.7등급        NaN  NaN   \n",
       "1       2020 상반기    서울사립대(중앙대학교)  상경계열학과    학점 3.92        NaN  NaN   \n",
       "2       2020 상반기  지방거점국립대(제주대학교)     NaN     학점 3.3     토익830   NaN   \n",
       "3       2020 상반기  지방거점국립대(충남대학교)     NaN    학점 3.87    토익 835   NaN   \n",
       "4       2020 상반기    서울사립대(건국대학교)     NaN     학점 4.0    토익 780   NaN   \n",
       "...          ...             ...     ...         ...       ...  ...   \n",
       "10102   2013 상반기    서울사립대(상명대학교)  국제통상학과     학점 4.3        NaN  NaN   \n",
       "10103   2013 상반기             전문대   공업화학과     학점 3.06       NaN  NaN   \n",
       "10104   2013 상반기         지방거점국립대   전자공학과     학점 3.7        NaN  NaN   \n",
       "10105   2013 상반기         지방거점국립대   전자공학과     학점 3.7        NaN  NaN   \n",
       "10106   2013 상반기         지방거점국립대   전자공학과     학점 3.7        NaN  NaN   \n",
       "\n",
       "                                            경험사항  \\\n",
       "0              인천 글로벌 숙련 진흥원, 선반, 용접 ,특수용접, 설비보전   \n",
       "1                                 봉사활동 일부빼고는 전무.   \n",
       "2                                            NaN   \n",
       "3                                            NaN   \n",
       "4                                            NaN   \n",
       "...                                          ...   \n",
       "10102   해외인턴1회, 중국어 말하기 대회 1등, 와인바 매니저 1년 6개월 경력   \n",
       "10103                                        NaN   \n",
       "10104                              음악봉사활동, 멘토링 등   \n",
       "10105                               음악봉사활동, 멘토링등   \n",
       "10106                               음악봉사활동, 멘토링등   \n",
       "\n",
       "                                                     자소서  \n",
       "0      7.한국석유공사\\n\\n 1. 지원 분야 직무기술서 ‘직무수행 내용’ 중 본인이 가장...  \n",
       "1      CJ제일제당 및 선택한 직무에 대한 지원동기는 무엇인가요? ① 선택한 직무에 관심을...  \n",
       "2      \\n1. 한국가스안전공사가 진행하는 사업에 관심을 갖고 공사에 지원한 동기에 대해 ...  \n",
       "3      1.공동체의 일원으로서 가장 중요하게 생각하는 가치를 제시하고, 그 가치를 실천했던...  \n",
       "4      1. 본인이 가진 가장 뛰어난 점과 그렇게 판단한 이유, 고용노동연수원 업무수행에서...  \n",
       "...                                                  ...  \n",
       "10102  1. 현대자동차에 지원하게 된 동기 또는 해당 직무에 지원하게 된 동기는 무엇입니까...  \n",
       "10103  성격소개\\n\\n대부분의 사람들이 평가하는 첫인상은 소심하고 내성적인 성격일것이라 생...  \n",
       "10104  [질문 1] 취업이라는 목표 이외에 인생의 큰 목표를 세운 경험, 그 목표를 실현하...  \n",
       "10105  한전 자가소개서 양식 500자 12줄 이내\\n\\n[질문 1] 취업이라는 목표 이외에...  \n",
       "10106  한전 자가소개서 양식 500자 12줄 이내\\n\\n[질문 1] 취업이라는 목표 이외에...  \n",
       "\n",
       "[10107 rows x 13 columns]"
      ]
     },
     "execution_count": 5,
     "metadata": {},
     "output_type": "execute_result"
    }
   ],
   "source": [
    "df"
   ]
  },
  {
   "cell_type": "code",
   "execution_count": 6,
   "metadata": {},
   "outputs": [],
   "source": [
    "first = raw_df['2'].str.split(\"/\",expand=True)[0]\n",
    "second = raw_df['2'].str.split(\"/\",expand=True)[1]\n",
    "third = raw_df['2'].str.split(\"/\",expand=True)[2]\n"
   ]
  },
  {
   "cell_type": "code",
   "execution_count": 7,
   "metadata": {},
   "outputs": [],
   "source": [
    "four=raw_df[\"2\"].str.split(\"/\",expand=True)[3]"
   ]
  },
  {
   "cell_type": "code",
   "execution_count": 8,
   "metadata": {},
   "outputs": [
    {
     "data": {
      "text/plain": [
       "0                          None\n",
       "1              토익 905, 토스 LV 6 \n",
       "2              컴퓨터활용능력1급, 한국사1급\n",
       "3         토론동아리 3년, 컴활1급, 한국사1급\n",
       "4                  컴활 1급, 한국사1급\n",
       "                  ...          \n",
       "10102           토익 900, HSK 6급 \n",
       "10103                      None\n",
       "10104                  토익 900대 \n",
       "10105                   토익 900 \n",
       "10106                   토익 900 \n",
       "Name: 3, Length: 10107, dtype: object"
      ]
     },
     "execution_count": 8,
     "metadata": {},
     "output_type": "execute_result"
    }
   ],
   "source": [
    "four"
   ]
  },
  {
   "cell_type": "code",
   "execution_count": 9,
   "metadata": {},
   "outputs": [
    {
     "data": {
      "text/plain": [
       "1           토익 905, 토스 LV 6 \n",
       "66                   토익 890 \n",
       "191                토익스피킹 레벨6\n",
       "192       토익 745, 토익스피킹 130 \n",
       "199                  토익 910 \n",
       "                ...         \n",
       "10101                 토익 850\n",
       "10102        토익 900, HSK 6급 \n",
       "10104               토익 900대 \n",
       "10105                토익 900 \n",
       "10106                토익 900 \n",
       "Name: 3, Length: 4835, dtype: object"
      ]
     },
     "execution_count": 9,
     "metadata": {},
     "output_type": "execute_result"
    }
   ],
   "source": [
    "four[four.str.contains(\"토익\")==True]"
   ]
  },
  {
   "cell_type": "code",
   "execution_count": 10,
   "metadata": {},
   "outputs": [],
   "source": [
    "# 이름바꾸기\n",
    "four[four.str.contains(\"전자공학\")==True]=\"전자공학과\""
   ]
  },
  {
   "cell_type": "code",
   "execution_count": 11,
   "metadata": {},
   "outputs": [],
   "source": [
    "# 컬럼에 집어넣기\n",
    "df.at[four[four.str.contains(\"opic\")==True].index,[\"어학\"]]=four[four.str.contains(\"opic\")==True]"
   ]
  },
  {
   "cell_type": "code",
   "execution_count": 12,
   "metadata": {},
   "outputs": [],
   "source": [
    "# 컬럼삭제\n",
    "four[four.str.contains(\"    \")==True]=\"\"\n",
    "# 파일로넣기\n",
    "four.to_csv(\"sophie.txt\",encoding='utf-8')"
   ]
  },
  {
   "cell_type": "code",
   "execution_count": 13,
   "metadata": {},
   "outputs": [],
   "source": [
    "df[\"어학\"]=four[four.str.contains(\"  \")==True]"
   ]
  },
  {
   "cell_type": "code",
   "execution_count": null,
   "metadata": {},
   "outputs": [],
   "source": []
  },
  {
   "cell_type": "code",
   "execution_count": null,
   "metadata": {},
   "outputs": [],
   "source": []
  },
  {
   "cell_type": "code",
   "execution_count": 14,
   "metadata": {},
   "outputs": [
    {
     "data": {
      "text/plain": [
       "1           토익 905, 토스 LV 6 \n",
       "66                   토익 890 \n",
       "191                토익스피킹 레벨6\n",
       "192       토익 745, 토익스피킹 130 \n",
       "199                  토익 910 \n",
       "                ...         \n",
       "10101                 토익 850\n",
       "10102        토익 900, HSK 6급 \n",
       "10104               토익 900대 \n",
       "10105                토익 900 \n",
       "10106                토익 900 \n",
       "Name: 3, Length: 4835, dtype: object"
      ]
     },
     "execution_count": 14,
     "metadata": {},
     "output_type": "execute_result"
    }
   ],
   "source": [
    "four[four.str.contains(\"토익\")==True]"
   ]
  },
  {
   "cell_type": "code",
   "execution_count": 15,
   "metadata": {},
   "outputs": [],
   "source": [
    "df.at[four[four.str.contains(\"토익\")==True].index,[\"어학\"]]=four[four.str.contains(\"토익\")==True]"
   ]
  },
  {
   "cell_type": "code",
   "execution_count": 16,
   "metadata": {},
   "outputs": [],
   "source": [
    "four[four.str.contains(\"토익\")==True]=\"\""
   ]
  },
  {
   "cell_type": "code",
   "execution_count": 17,
   "metadata": {},
   "outputs": [
    {
     "data": {
      "text/plain": [
       "24        토스 lv7 \n",
       "25        토스 lv6 \n",
       "46        토스 lv7 \n",
       "49        토스 lv6 \n",
       "63        토스 Lv6 \n",
       "           ...   \n",
       "10035      토스 레벨6\n",
       "10055      토스 레벨6\n",
       "10062      토스 레벨6\n",
       "10089     토스 lv.5\n",
       "10092      토스 lv6\n",
       "Name: 3, Length: 850, dtype: object"
      ]
     },
     "execution_count": 17,
     "metadata": {},
     "output_type": "execute_result"
    }
   ],
   "source": [
    "four[four.str.contains(\"토스\")==True]"
   ]
  },
  {
   "cell_type": "code",
   "execution_count": 18,
   "metadata": {},
   "outputs": [],
   "source": [
    "df.at[four[four.str.contains(\"토스\")==True].index,[\"어학\"]]=four[four.str.contains(\"토스\")==True]"
   ]
  },
  {
   "cell_type": "code",
   "execution_count": 19,
   "metadata": {},
   "outputs": [],
   "source": [
    "four[four.str.contains(\"토스\")==True]=\"\""
   ]
  },
  {
   "cell_type": "code",
   "execution_count": 20,
   "metadata": {},
   "outputs": [
    {
     "data": {
      "text/plain": [
       "187     JPT 795\n",
       "Name: 3, dtype: object"
      ]
     },
     "execution_count": 20,
     "metadata": {},
     "output_type": "execute_result"
    }
   ],
   "source": [
    "four[four.str.contains(\"JPT\")==True]"
   ]
  },
  {
   "cell_type": "code",
   "execution_count": 21,
   "metadata": {},
   "outputs": [],
   "source": [
    "df.at[four[four.str.contains(\"JPT\")==True].index,[\"어학\"]]=four[four.str.contains(\"JPT\")==True]"
   ]
  },
  {
   "cell_type": "code",
   "execution_count": 22,
   "metadata": {},
   "outputs": [],
   "source": [
    "four[four.str.contains(\"JPT\")==True]=\"\""
   ]
  },
  {
   "cell_type": "code",
   "execution_count": 23,
   "metadata": {},
   "outputs": [
    {
     "data": {
      "text/plain": [
       "206                      오픽 IM2\n",
       "231       오픽 Im2, Hsk 4급, 240점 \n",
       "251       오픽 Im2, Hsk 4급, 240점 \n",
       "267                       오픽 IH\n",
       "291                      오픽 IM2\n",
       "                  ...          \n",
       "10025                    오픽 AL \n",
       "10045                    오픽 AL \n",
       "10072            오픽 IH, HSK 6급 \n",
       "10083                   오픽 im2 \n",
       "10095           오픽IH, HSK 6급 등 \n",
       "Name: 3, Length: 958, dtype: object"
      ]
     },
     "execution_count": 23,
     "metadata": {},
     "output_type": "execute_result"
    }
   ],
   "source": [
    "four[four.str.contains(\"오픽\")==True]"
   ]
  },
  {
   "cell_type": "code",
   "execution_count": 24,
   "metadata": {},
   "outputs": [
    {
     "data": {
      "text/plain": [
       "0                      NaN\n",
       "1         토익 905, 토스 LV 6 \n",
       "2                      NaN\n",
       "3                      NaN\n",
       "4                      NaN\n",
       "               ...        \n",
       "10102      토익 900, HSK 6급 \n",
       "10103                  NaN\n",
       "10104             토익 900대 \n",
       "10105              토익 900 \n",
       "10106              토익 900 \n",
       "Name: 어학, Length: 10107, dtype: object"
      ]
     },
     "execution_count": 24,
     "metadata": {},
     "output_type": "execute_result"
    }
   ],
   "source": [
    "df[\"어학\"]"
   ]
  },
  {
   "cell_type": "code",
   "execution_count": 25,
   "metadata": {},
   "outputs": [
    {
     "data": {
      "text/plain": [
       "659                         중국어 HSK5급 \n",
       "751                         중국어 HSK5급 \n",
       "839                            HSK 5급 \n",
       "859                            HSK 5급 \n",
       "934                            HSK 5급 \n",
       "2189                    오픽 IH, HSK 5급 \n",
       "2349                    오픽 IH, HSK 5급 \n",
       "2544                 HSK(5급),Opic(IH) \n",
       "2560                 HSK(5급),Opic(IH) \n",
       "2637                 오픽 AL, 중국어 HSK6급 \n",
       "2657                 오픽 AL, 중국어 HSK6급 \n",
       "3039                         중국어 HSK6급\n",
       "3135                      HSK 6급 276점 \n",
       "3148                         중국어 HSK6급\n",
       "3168                         중국어 HSK6급\n",
       "3234                      HSK 6급 276점 \n",
       "3252                         중국어 HSK6급\n",
       "3396                    오픽 IH, HSK 6급 \n",
       "3416                    오픽 IH, HSK 6급 \n",
       "3513                    오픽 IH, HSK 6급 \n",
       "3533                    오픽 IH, HSK 6급 \n",
       "3580                              신HSK\n",
       "3604                              신HSK\n",
       "3711                       중국어 신HSK6급 \n",
       "3725                    오픽 AL, HSK 6급 \n",
       "3812                       중국어 신HSK6급 \n",
       "3830                    오픽 AL, HSK 6급 \n",
       "5287      중국어 오픽 AL, 영어 오픽 IH, HSK 6급 \n",
       "5435      중국어 오픽 AL, 영어 오픽 IH, HSK 6급 \n",
       "5455      중국어 오픽 AL, 영어 오픽 IH, HSK 6급 \n",
       "6332                 HSK 6급, TOEIC 880\n",
       "6562                 HSK 6급, TOEIC 880\n",
       "6713                       중국어 HSK 6급 \n",
       "6947                중국어 HSK 6급, 오픽 IH \n",
       "7174                중국어 HSK 6급, 오픽 IH \n",
       "7185                            HSK 6급\n",
       "8110                    오픽IH, 신HSK 6급 \n",
       "8174                   오픽 IH, 신HSK 6급 \n",
       "8253             오픽 IH, HSK 6, JLPT 2 \n",
       "8393                    오픽IH, 신HSK 6급 \n",
       "8536             오픽 IH, HSK 6, JLPT 2 \n",
       "8857           오픽 IH, HSK 6급, JLPT N2 \n",
       "9047           오픽 IH, HSK 6급, JLPT N2 \n",
       "9121           오픽 IH, HSK 6급, JLPT N2 \n",
       "9491                     오픽 IH, HSK 6 \n",
       "10072                   오픽 IH, HSK 6급 \n",
       "10095                  오픽IH, HSK 6급 등 \n",
       "Name: 3, dtype: object"
      ]
     },
     "execution_count": 25,
     "metadata": {},
     "output_type": "execute_result"
    }
   ],
   "source": [
    "four[four.str.contains(\"HSK\")==True]"
   ]
  },
  {
   "cell_type": "code",
   "execution_count": 26,
   "metadata": {},
   "outputs": [],
   "source": [
    "four.to_csv(\"sophie.txt\",encoding='utf-8')"
   ]
  },
  {
   "cell_type": "code",
   "execution_count": 27,
   "metadata": {},
   "outputs": [],
   "source": [
    "df[\"어학\"]=four[four.str.contains(\"토익\")==True]"
   ]
  },
  {
   "cell_type": "code",
   "execution_count": 28,
   "metadata": {},
   "outputs": [
    {
     "data": {
      "text/html": [
       "<div>\n",
       "<style scoped>\n",
       "    .dataframe tbody tr th:only-of-type {\n",
       "        vertical-align: middle;\n",
       "    }\n",
       "\n",
       "    .dataframe tbody tr th {\n",
       "        vertical-align: top;\n",
       "    }\n",
       "\n",
       "    .dataframe thead th {\n",
       "        text-align: right;\n",
       "    }\n",
       "</style>\n",
       "<table border=\"1\" class=\"dataframe\">\n",
       "  <thead>\n",
       "    <tr style=\"text-align: right;\">\n",
       "      <th></th>\n",
       "      <th>Unnamed: 0</th>\n",
       "      <th>Unnamed: 0.1</th>\n",
       "      <th>Unnamed: 0.1.1</th>\n",
       "      <th>기업명</th>\n",
       "      <th>지원부서</th>\n",
       "      <th>지원시기</th>\n",
       "      <th>학교</th>\n",
       "      <th>학과</th>\n",
       "      <th>학점</th>\n",
       "      <th>어학</th>\n",
       "      <th>자격증</th>\n",
       "      <th>경험사항</th>\n",
       "      <th>자소서</th>\n",
       "    </tr>\n",
       "  </thead>\n",
       "  <tbody>\n",
       "    <tr>\n",
       "      <th>0</th>\n",
       "      <td>0</td>\n",
       "      <td>0</td>\n",
       "      <td>0</td>\n",
       "      <td>한국석유공사</td>\n",
       "      <td>설비</td>\n",
       "      <td>2020 상반기</td>\n",
       "      <td>NaN</td>\n",
       "      <td>전자공학과</td>\n",
       "      <td>학점 1.7등급</td>\n",
       "      <td>NaN</td>\n",
       "      <td>NaN</td>\n",
       "      <td>인천 글로벌 숙련 진흥원, 선반, 용접 ,특수용접, 설비보전</td>\n",
       "      <td>7.한국석유공사\\n\\n 1. 지원 분야 직무기술서 ‘직무수행 내용’ 중 본인이 가장...</td>\n",
       "    </tr>\n",
       "    <tr>\n",
       "      <th>1</th>\n",
       "      <td>1</td>\n",
       "      <td>1</td>\n",
       "      <td>1</td>\n",
       "      <td>CJ제일제당</td>\n",
       "      <td>Food Sales</td>\n",
       "      <td>2020 상반기</td>\n",
       "      <td>서울사립대(중앙대학교)</td>\n",
       "      <td>상경계열학과</td>\n",
       "      <td>학점 3.92</td>\n",
       "      <td>NaN</td>\n",
       "      <td>NaN</td>\n",
       "      <td>봉사활동 일부빼고는 전무.</td>\n",
       "      <td>CJ제일제당 및 선택한 직무에 대한 지원동기는 무엇인가요? ① 선택한 직무에 관심을...</td>\n",
       "    </tr>\n",
       "    <tr>\n",
       "      <th>2</th>\n",
       "      <td>2</td>\n",
       "      <td>2</td>\n",
       "      <td>2</td>\n",
       "      <td>한국가스안전공사</td>\n",
       "      <td>LP가스 안전지킴이사업</td>\n",
       "      <td>2020 상반기</td>\n",
       "      <td>지방거점국립대(제주대학교)</td>\n",
       "      <td>NaN</td>\n",
       "      <td>학점 3.3</td>\n",
       "      <td>NaN</td>\n",
       "      <td>NaN</td>\n",
       "      <td>NaN</td>\n",
       "      <td>\\n1. 한국가스안전공사가 진행하는 사업에 관심을 갖고 공사에 지원한 동기에 대해 ...</td>\n",
       "    </tr>\n",
       "    <tr>\n",
       "      <th>3</th>\n",
       "      <td>3</td>\n",
       "      <td>3</td>\n",
       "      <td>3</td>\n",
       "      <td>코레일</td>\n",
       "      <td>사무영업</td>\n",
       "      <td>2020 상반기</td>\n",
       "      <td>지방거점국립대(충남대학교)</td>\n",
       "      <td>NaN</td>\n",
       "      <td>학점 3.87</td>\n",
       "      <td>NaN</td>\n",
       "      <td>NaN</td>\n",
       "      <td>NaN</td>\n",
       "      <td>1.공동체의 일원으로서 가장 중요하게 생각하는 가치를 제시하고, 그 가치를 실천했던...</td>\n",
       "    </tr>\n",
       "    <tr>\n",
       "      <th>4</th>\n",
       "      <td>4</td>\n",
       "      <td>4</td>\n",
       "      <td>4</td>\n",
       "      <td>한국기술교육대학교</td>\n",
       "      <td>행정</td>\n",
       "      <td>2020 상반기</td>\n",
       "      <td>서울사립대(건국대학교)</td>\n",
       "      <td>NaN</td>\n",
       "      <td>학점 4.0</td>\n",
       "      <td>NaN</td>\n",
       "      <td>NaN</td>\n",
       "      <td>NaN</td>\n",
       "      <td>1. 본인이 가진 가장 뛰어난 점과 그렇게 판단한 이유, 고용노동연수원 업무수행에서...</td>\n",
       "    </tr>\n",
       "    <tr>\n",
       "      <th>...</th>\n",
       "      <td>...</td>\n",
       "      <td>...</td>\n",
       "      <td>...</td>\n",
       "      <td>...</td>\n",
       "      <td>...</td>\n",
       "      <td>...</td>\n",
       "      <td>...</td>\n",
       "      <td>...</td>\n",
       "      <td>...</td>\n",
       "      <td>...</td>\n",
       "      <td>...</td>\n",
       "      <td>...</td>\n",
       "      <td>...</td>\n",
       "    </tr>\n",
       "    <tr>\n",
       "      <th>10102</th>\n",
       "      <td>10102</td>\n",
       "      <td>10102</td>\n",
       "      <td>10102</td>\n",
       "      <td>현대자동차</td>\n",
       "      <td>영업관리</td>\n",
       "      <td>2013 상반기</td>\n",
       "      <td>서울사립대(상명대학교)</td>\n",
       "      <td>국제통상학과</td>\n",
       "      <td>학점 4.3</td>\n",
       "      <td>NaN</td>\n",
       "      <td>NaN</td>\n",
       "      <td>해외인턴1회, 중국어 말하기 대회 1등, 와인바 매니저 1년 6개월 경력</td>\n",
       "      <td>1. 현대자동차에 지원하게 된 동기 또는 해당 직무에 지원하게 된 동기는 무엇입니까...</td>\n",
       "    </tr>\n",
       "    <tr>\n",
       "      <th>10103</th>\n",
       "      <td>10103</td>\n",
       "      <td>10103</td>\n",
       "      <td>10103</td>\n",
       "      <td>심팩</td>\n",
       "      <td>용접관리</td>\n",
       "      <td>2013 상반기</td>\n",
       "      <td>전문대</td>\n",
       "      <td>공업화학과</td>\n",
       "      <td>학점 3.06</td>\n",
       "      <td>NaN</td>\n",
       "      <td>NaN</td>\n",
       "      <td>NaN</td>\n",
       "      <td>성격소개\\n\\n대부분의 사람들이 평가하는 첫인상은 소심하고 내성적인 성격일것이라 생...</td>\n",
       "    </tr>\n",
       "    <tr>\n",
       "      <th>10104</th>\n",
       "      <td>10104</td>\n",
       "      <td>10104</td>\n",
       "      <td>10104</td>\n",
       "      <td>한국전력</td>\n",
       "      <td>인턴[송,배전]</td>\n",
       "      <td>2013 상반기</td>\n",
       "      <td>지방거점국립대</td>\n",
       "      <td>전자공학과</td>\n",
       "      <td>학점 3.7</td>\n",
       "      <td>NaN</td>\n",
       "      <td>NaN</td>\n",
       "      <td>음악봉사활동, 멘토링 등</td>\n",
       "      <td>[질문 1] 취업이라는 목표 이외에 인생의 큰 목표를 세운 경험, 그 목표를 실현하...</td>\n",
       "    </tr>\n",
       "    <tr>\n",
       "      <th>10105</th>\n",
       "      <td>10105</td>\n",
       "      <td>10105</td>\n",
       "      <td>10105</td>\n",
       "      <td>한국전력</td>\n",
       "      <td>인턴[송,배전]</td>\n",
       "      <td>2013 상반기</td>\n",
       "      <td>지방거점국립대</td>\n",
       "      <td>전자공학과</td>\n",
       "      <td>학점 3.7</td>\n",
       "      <td>NaN</td>\n",
       "      <td>NaN</td>\n",
       "      <td>음악봉사활동, 멘토링등</td>\n",
       "      <td>한전 자가소개서 양식 500자 12줄 이내\\n\\n[질문 1] 취업이라는 목표 이외에...</td>\n",
       "    </tr>\n",
       "    <tr>\n",
       "      <th>10106</th>\n",
       "      <td>10106</td>\n",
       "      <td>10106</td>\n",
       "      <td>10106</td>\n",
       "      <td>한국전력</td>\n",
       "      <td>인턴[송,배전]</td>\n",
       "      <td>2013 상반기</td>\n",
       "      <td>지방거점국립대</td>\n",
       "      <td>전자공학과</td>\n",
       "      <td>학점 3.7</td>\n",
       "      <td>NaN</td>\n",
       "      <td>NaN</td>\n",
       "      <td>음악봉사활동, 멘토링등</td>\n",
       "      <td>한전 자가소개서 양식 500자 12줄 이내\\n\\n[질문 1] 취업이라는 목표 이외에...</td>\n",
       "    </tr>\n",
       "  </tbody>\n",
       "</table>\n",
       "<p>10107 rows × 13 columns</p>\n",
       "</div>"
      ],
      "text/plain": [
       "       Unnamed: 0  Unnamed: 0.1  Unnamed: 0.1.1         기업명            지원부서  \\\n",
       "0               0             0               0     한국석유공사              설비    \n",
       "1               1             1               1     CJ제일제당      Food Sales    \n",
       "2               2             2               2   한국가스안전공사    LP가스 안전지킴이사업    \n",
       "3               3             3               3        코레일            사무영업    \n",
       "4               4             4               4  한국기술교육대학교              행정    \n",
       "...           ...           ...             ...         ...             ...   \n",
       "10102       10102         10102           10102      현대자동차            영업관리    \n",
       "10103       10103         10103           10103         심팩            용접관리    \n",
       "10104       10104         10104           10104       한국전력        인턴[송,배전]    \n",
       "10105       10105         10105           10105       한국전력        인턴[송,배전]    \n",
       "10106       10106         10106           10106       한국전력        인턴[송,배전]    \n",
       "\n",
       "            지원시기              학교      학과          학점   어학  자격증  \\\n",
       "0       2020 상반기             NaN   전자공학과   학점 1.7등급   NaN  NaN   \n",
       "1       2020 상반기    서울사립대(중앙대학교)  상경계열학과    학점 3.92   NaN  NaN   \n",
       "2       2020 상반기  지방거점국립대(제주대학교)     NaN     학점 3.3   NaN  NaN   \n",
       "3       2020 상반기  지방거점국립대(충남대학교)     NaN    학점 3.87   NaN  NaN   \n",
       "4       2020 상반기    서울사립대(건국대학교)     NaN     학점 4.0   NaN  NaN   \n",
       "...          ...             ...     ...         ...  ...  ...   \n",
       "10102   2013 상반기    서울사립대(상명대학교)  국제통상학과     학점 4.3   NaN  NaN   \n",
       "10103   2013 상반기             전문대   공업화학과     학점 3.06  NaN  NaN   \n",
       "10104   2013 상반기         지방거점국립대   전자공학과     학점 3.7   NaN  NaN   \n",
       "10105   2013 상반기         지방거점국립대   전자공학과     학점 3.7   NaN  NaN   \n",
       "10106   2013 상반기         지방거점국립대   전자공학과     학점 3.7   NaN  NaN   \n",
       "\n",
       "                                            경험사항  \\\n",
       "0              인천 글로벌 숙련 진흥원, 선반, 용접 ,특수용접, 설비보전   \n",
       "1                                 봉사활동 일부빼고는 전무.   \n",
       "2                                            NaN   \n",
       "3                                            NaN   \n",
       "4                                            NaN   \n",
       "...                                          ...   \n",
       "10102   해외인턴1회, 중국어 말하기 대회 1등, 와인바 매니저 1년 6개월 경력   \n",
       "10103                                        NaN   \n",
       "10104                              음악봉사활동, 멘토링 등   \n",
       "10105                               음악봉사활동, 멘토링등   \n",
       "10106                               음악봉사활동, 멘토링등   \n",
       "\n",
       "                                                     자소서  \n",
       "0      7.한국석유공사\\n\\n 1. 지원 분야 직무기술서 ‘직무수행 내용’ 중 본인이 가장...  \n",
       "1      CJ제일제당 및 선택한 직무에 대한 지원동기는 무엇인가요? ① 선택한 직무에 관심을...  \n",
       "2      \\n1. 한국가스안전공사가 진행하는 사업에 관심을 갖고 공사에 지원한 동기에 대해 ...  \n",
       "3      1.공동체의 일원으로서 가장 중요하게 생각하는 가치를 제시하고, 그 가치를 실천했던...  \n",
       "4      1. 본인이 가진 가장 뛰어난 점과 그렇게 판단한 이유, 고용노동연수원 업무수행에서...  \n",
       "...                                                  ...  \n",
       "10102  1. 현대자동차에 지원하게 된 동기 또는 해당 직무에 지원하게 된 동기는 무엇입니까...  \n",
       "10103  성격소개\\n\\n대부분의 사람들이 평가하는 첫인상은 소심하고 내성적인 성격일것이라 생...  \n",
       "10104  [질문 1] 취업이라는 목표 이외에 인생의 큰 목표를 세운 경험, 그 목표를 실현하...  \n",
       "10105  한전 자가소개서 양식 500자 12줄 이내\\n\\n[질문 1] 취업이라는 목표 이외에...  \n",
       "10106  한전 자가소개서 양식 500자 12줄 이내\\n\\n[질문 1] 취업이라는 목표 이외에...  \n",
       "\n",
       "[10107 rows x 13 columns]"
      ]
     },
     "execution_count": 28,
     "metadata": {},
     "output_type": "execute_result"
    }
   ],
   "source": [
    "df"
   ]
  },
  {
   "cell_type": "code",
   "execution_count": 29,
   "metadata": {},
   "outputs": [],
   "source": [
    "df.at[four[four.str.contains(\"오픽\")==True].index,[\"어학\"]]=four[four.str.contains(\"오픽\")==True]"
   ]
  },
  {
   "cell_type": "code",
   "execution_count": 30,
   "metadata": {},
   "outputs": [
    {
     "data": {
      "text/plain": [
       "' 오픽 IM2'"
      ]
     },
     "execution_count": 30,
     "metadata": {},
     "output_type": "execute_result"
    }
   ],
   "source": [
    "df[\"어학\"][291]"
   ]
  },
  {
   "cell_type": "code",
   "execution_count": 31,
   "metadata": {},
   "outputs": [],
   "source": [
    "four[four.str.contains(\"오픽\")==True]=\"\""
   ]
  },
  {
   "cell_type": "code",
   "execution_count": 32,
   "metadata": {},
   "outputs": [
    {
     "data": {
      "text/plain": [
       "5245     opic IM3\n",
       "5246     opic IM3\n",
       "5395     opic IM3\n",
       "Name: 3, dtype: object"
      ]
     },
     "execution_count": 32,
     "metadata": {},
     "output_type": "execute_result"
    }
   ],
   "source": [
    "four[four.str.contains(\"opic\")==True]"
   ]
  },
  {
   "cell_type": "code",
   "execution_count": 33,
   "metadata": {},
   "outputs": [],
   "source": [
    "df.at[four[four.str.contains(\"opic\")==True].index,[\"어학\"]]=four[four.str.contains(\"opic\")==True]"
   ]
  },
  {
   "cell_type": "code",
   "execution_count": 34,
   "metadata": {},
   "outputs": [],
   "source": [
    "four[four.str.contains(\"opic\")==True]=\"\""
   ]
  },
  {
   "cell_type": "code",
   "execution_count": 35,
   "metadata": {},
   "outputs": [
    {
     "data": {
      "text/plain": [
       "2216      OPIC IM2 \n",
       "2374      OPIC IM2 \n",
       "4389        OPIC AL\n",
       "4404     IM2(OPIC) \n",
       "4424        OPIC AL\n",
       "4435     IM2(OPIC) \n",
       "4448     IM2(OPIC) \n",
       "5022      OPIC IM2 \n",
       "Name: 3, dtype: object"
      ]
     },
     "execution_count": 35,
     "metadata": {},
     "output_type": "execute_result"
    }
   ],
   "source": [
    "four[four.str.contains(\"OPIC\")==True]"
   ]
  },
  {
   "cell_type": "code",
   "execution_count": 36,
   "metadata": {},
   "outputs": [],
   "source": [
    "df.at[four[four.str.contains(\"OPIC\")==True].index,[\"어학\"]]=four[four.str.contains(\"OPIC\")==True]"
   ]
  },
  {
   "cell_type": "code",
   "execution_count": 37,
   "metadata": {},
   "outputs": [],
   "source": [
    "four[four.str.contains(\"OPIC\")==True]=\"\""
   ]
  },
  {
   "cell_type": "code",
   "execution_count": 38,
   "metadata": {},
   "outputs": [
    {
     "data": {
      "text/plain": [
       "2544     HSK(5급),Opic(IH) \n",
       "2560     HSK(5급),Opic(IH) \n",
       "5973               Opic IH\n",
       "6192               Opic IH\n",
       "Name: 3, dtype: object"
      ]
     },
     "execution_count": 38,
     "metadata": {},
     "output_type": "execute_result"
    }
   ],
   "source": [
    "four[four.str.contains(\"Opic\")==True]"
   ]
  },
  {
   "cell_type": "code",
   "execution_count": 39,
   "metadata": {},
   "outputs": [],
   "source": [
    "df.at[four[four.str.contains(\"Opic\")==True].index,[\"어학\"]]=four[four.str.contains(\"Opic\")==True]"
   ]
  },
  {
   "cell_type": "code",
   "execution_count": 40,
   "metadata": {},
   "outputs": [],
   "source": [
    "four[four.str.contains(\"Opic\")==True]=\"\""
   ]
  },
  {
   "cell_type": "code",
   "execution_count": 41,
   "metadata": {},
   "outputs": [
    {
     "data": {
      "text/plain": [
       "741                                              무역영어 1급 \n",
       "770                                              무역영어 1급 \n",
       "9393     인턴 1회, 대외활동 1회, 산업통상자원부장관상, 봉사활동 100시간, 무역영어 ...\n",
       "9611     인턴 1회, 대외활동 1회, 산업통상자원부장관상, 봉사활동 100시간, 무역영어 ...\n",
       "Name: 3, dtype: object"
      ]
     },
     "execution_count": 41,
     "metadata": {},
     "output_type": "execute_result"
    }
   ],
   "source": [
    "four[four.str.contains(\"무역영어\")==True]"
   ]
  },
  {
   "cell_type": "code",
   "execution_count": 42,
   "metadata": {},
   "outputs": [],
   "source": [
    "df.at[four[four.str.contains(\"무역영어\")==True].index,[\"어학\"]]=four[four.str.contains(\"무역영어\")==True]"
   ]
  },
  {
   "cell_type": "code",
   "execution_count": 43,
   "metadata": {},
   "outputs": [],
   "source": [
    "four[four.str.contains(\"무역영어\")==True]=\"\""
   ]
  },
  {
   "cell_type": "code",
   "execution_count": 44,
   "metadata": {},
   "outputs": [
    {
     "data": {
      "text/plain": [
       "860      토플 100점대 \n",
       "3758        토플 89 \n",
       "3778        토플 89 \n",
       "3856        토플 89 \n",
       "Name: 3, dtype: object"
      ]
     },
     "execution_count": 44,
     "metadata": {},
     "output_type": "execute_result"
    }
   ],
   "source": [
    "four[four.str.contains(\"토플\")==True]"
   ]
  },
  {
   "cell_type": "code",
   "execution_count": 45,
   "metadata": {},
   "outputs": [],
   "source": [
    "df.at[four[four.str.contains(\"토플\")==True].index,[\"어학\"]]=four[four.str.contains(\"토플\")==True]"
   ]
  },
  {
   "cell_type": "code",
   "execution_count": 46,
   "metadata": {},
   "outputs": [],
   "source": [
    "four[four.str.contains(\"토플\")==True]=\"\""
   ]
  },
  {
   "cell_type": "code",
   "execution_count": 47,
   "metadata": {},
   "outputs": [
    {
     "data": {
      "text/plain": [
       "879     토픽 7 \n",
       "949     토픽 7 \n",
       "969     토픽 7 \n",
       "Name: 3, dtype: object"
      ]
     },
     "execution_count": 47,
     "metadata": {},
     "output_type": "execute_result"
    }
   ],
   "source": [
    "four[four.str.contains(\"토픽\")==True]"
   ]
  },
  {
   "cell_type": "code",
   "execution_count": 48,
   "metadata": {},
   "outputs": [],
   "source": [
    "df.at[four[four.str.contains(\"토픽\")==True].index,[\"어학\"]]=four[four.str.contains(\"토픽\")==True]"
   ]
  },
  {
   "cell_type": "code",
   "execution_count": 49,
   "metadata": {},
   "outputs": [],
   "source": [
    "four[four.str.contains(\"토픽\")==True]=\"\""
   ]
  },
  {
   "cell_type": "code",
   "execution_count": 50,
   "metadata": {},
   "outputs": [
    {
     "data": {
      "text/plain": [
       "892         850 \n",
       "981         850 \n",
       "7567         850\n",
       "7642         850\n",
       "9522     통기 850 \n",
       "9582     통기 850 \n",
       "9629     통기 850 \n",
       "9649     통기 850 \n",
       "9801     통기 850 \n",
       "Name: 3, dtype: object"
      ]
     },
     "execution_count": 50,
     "metadata": {},
     "output_type": "execute_result"
    }
   ],
   "source": [
    "four[four.str.contains(\"850\")==True]"
   ]
  },
  {
   "cell_type": "code",
   "execution_count": 51,
   "metadata": {},
   "outputs": [],
   "source": [
    "four[four.str.contains(\"850\")==True]=\"토익 850\""
   ]
  },
  {
   "cell_type": "code",
   "execution_count": 52,
   "metadata": {},
   "outputs": [],
   "source": [
    "df.at[four[four.str.contains(\"토익 850\")==True].index,[\"어학\"]]=four[four.str.contains(\"토익 850\")==True]"
   ]
  },
  {
   "cell_type": "code",
   "execution_count": 53,
   "metadata": {},
   "outputs": [],
   "source": [
    "four[four.str.contains(\"토익 850\")==True]=\"\""
   ]
  },
  {
   "cell_type": "code",
   "execution_count": 54,
   "metadata": {},
   "outputs": [
    {
     "data": {
      "text/plain": [
       "2837              TOEIC 960 \n",
       "2971              TOEIC 960 \n",
       "3021      TOEIC 960, OPIc Al\n",
       "3141      TOEIC 960, OPIc Al\n",
       "3161      TOEIC 960, OPIc Al\n",
       "3241      TOEIC 960, OPIc Al\n",
       "6332       HSK 6급, TOEIC 880\n",
       "6562       HSK 6급, TOEIC 880\n",
       "7404            TOEIC - 840 \n",
       "7578              TOEIC 860 \n",
       "7657              TOEIC 860 \n",
       "8888              TOEIC 765 \n",
       "9139              TOEIC 765 \n",
       "9324     TOEIC 705, JLPT N1 \n",
       "9344     TOEIC 705, JLPT N1 \n",
       "9749     TOEIC 705, JLPT N1 \n",
       "9769     TOEIC 705, JLPT N1 \n",
       "Name: 3, dtype: object"
      ]
     },
     "execution_count": 54,
     "metadata": {},
     "output_type": "execute_result"
    }
   ],
   "source": [
    "four[four.str.contains(\"TOEIC\")==True]"
   ]
  },
  {
   "cell_type": "code",
   "execution_count": 55,
   "metadata": {},
   "outputs": [],
   "source": [
    "df.at[four[four.str.contains(\"TOEIC\")==True].index,[\"어학\"]]=four[four.str.contains(\"TOEIC\")==True]"
   ]
  },
  {
   "cell_type": "code",
   "execution_count": 56,
   "metadata": {},
   "outputs": [],
   "source": [
    "four[four.str.contains(\"TOEIC\")==True]=\"\""
   ]
  },
  {
   "cell_type": "code",
   "execution_count": 57,
   "metadata": {},
   "outputs": [
    {
     "data": {
      "text/plain": [
       "3958      toeic 820 \n",
       "4066      toeic 820 \n",
       "8796      toeic 930 \n",
       "8816      toeic 930 \n",
       "9030      toeic 930 \n",
       "10087      toeic 920\n",
       "Name: 3, dtype: object"
      ]
     },
     "execution_count": 57,
     "metadata": {},
     "output_type": "execute_result"
    }
   ],
   "source": [
    "four[four.str.contains(\"toeic\")==True]"
   ]
  },
  {
   "cell_type": "code",
   "execution_count": 58,
   "metadata": {},
   "outputs": [],
   "source": [
    "df.at[four[four.str.contains(\"toeic\")==True].index,[\"어학\"]]=four[four.str.contains(\"toeic\")==True]"
   ]
  },
  {
   "cell_type": "code",
   "execution_count": 59,
   "metadata": {},
   "outputs": [],
   "source": [
    "four[four.str.contains(\"toeic\")==True]=\"\""
   ]
  },
  {
   "cell_type": "code",
   "execution_count": 60,
   "metadata": {},
   "outputs": [
    {
     "data": {
      "text/plain": [
       "3348     Toeic speaking LV6 \n",
       "3468     Toeic speaking LV6 \n",
       "8885         LV5, Toeic 720 \n",
       "Name: 3, dtype: object"
      ]
     },
     "execution_count": 60,
     "metadata": {},
     "output_type": "execute_result"
    }
   ],
   "source": [
    "four[four.str.contains(\"Toeic\")==True]"
   ]
  },
  {
   "cell_type": "code",
   "execution_count": 61,
   "metadata": {},
   "outputs": [],
   "source": [
    "df.at[four[four.str.contains(\"Toeic\")==True].index,[\"어학\"]]=four[four.str.contains(\"Toeic\")==True]"
   ]
  },
  {
   "cell_type": "code",
   "execution_count": 62,
   "metadata": {},
   "outputs": [],
   "source": [
    "four[four.str.contains(\"Toeic\")==True]=\"\""
   ]
  },
  {
   "cell_type": "code",
   "execution_count": 63,
   "metadata": {},
   "outputs": [
    {
     "data": {
      "text/plain": [
       "1288     hsk 6급\n",
       "1383     hsk 6급\n",
       "Name: 3, dtype: object"
      ]
     },
     "execution_count": 63,
     "metadata": {},
     "output_type": "execute_result"
    }
   ],
   "source": [
    "four[four.str.contains(\"hsk\")==True]"
   ]
  },
  {
   "cell_type": "code",
   "execution_count": 64,
   "metadata": {},
   "outputs": [],
   "source": [
    "df.at[four[four.str.contains(\"hsk\")==True].index,[\"어학\"]]=four[four.str.contains(\"hsk\")==True]"
   ]
  },
  {
   "cell_type": "code",
   "execution_count": 65,
   "metadata": {},
   "outputs": [],
   "source": [
    "four[four.str.contains(\"hsk\")==True]=\"\""
   ]
  },
  {
   "cell_type": "code",
   "execution_count": 66,
   "metadata": {},
   "outputs": [
    {
     "data": {
      "text/plain": [
       "1279      920\n",
       "1369      920\n",
       "7888     920 \n",
       "Name: 3, dtype: object"
      ]
     },
     "execution_count": 66,
     "metadata": {},
     "output_type": "execute_result"
    }
   ],
   "source": [
    "four[four.str.contains(\"920\")==True]"
   ]
  },
  {
   "cell_type": "code",
   "execution_count": 67,
   "metadata": {},
   "outputs": [],
   "source": [
    "df.at[four[four.str.contains(\"920\")==True].index,[\"어학\"]]=four[four.str.contains(\"토익 920\")==True]"
   ]
  },
  {
   "cell_type": "code",
   "execution_count": 68,
   "metadata": {},
   "outputs": [],
   "source": [
    "four[four.str.contains(\"920\")==True]=\"토익 920\""
   ]
  },
  {
   "cell_type": "code",
   "execution_count": 69,
   "metadata": {},
   "outputs": [],
   "source": [
    "four[four.str.contains(\"토익 920\")==True]=\"\""
   ]
  },
  {
   "cell_type": "code",
   "execution_count": 70,
   "metadata": {},
   "outputs": [
    {
     "data": {
      "text/plain": [
       "2213      800\n",
       "2377      800\n",
       "2380      800\n",
       "2400      800\n",
       "5887      800\n",
       "7984     800 \n",
       "8266     800 \n",
       "Name: 3, dtype: object"
      ]
     },
     "execution_count": 70,
     "metadata": {},
     "output_type": "execute_result"
    }
   ],
   "source": [
    "four[four.str.contains(\"800\")==True]"
   ]
  },
  {
   "cell_type": "code",
   "execution_count": 71,
   "metadata": {},
   "outputs": [],
   "source": [
    "four[four.str.contains(\"800\")==True]=\"토익 800\""
   ]
  },
  {
   "cell_type": "code",
   "execution_count": 72,
   "metadata": {},
   "outputs": [],
   "source": [
    "df.at[four[four.str.contains(\"토익 800\")==True].index,[\"어학\"]]=four[four.str.contains(\"토익 800\")==True]"
   ]
  },
  {
   "cell_type": "code",
   "execution_count": 73,
   "metadata": {},
   "outputs": [],
   "source": [
    "four[four.str.contains(\"토익 800\")==True]=\"\""
   ]
  },
  {
   "cell_type": "code",
   "execution_count": 74,
   "metadata": {},
   "outputs": [
    {
     "data": {
      "text/plain": [
       "659        중국어 HSK5급 \n",
       "751        중국어 HSK5급 \n",
       "839           HSK 5급 \n",
       "859           HSK 5급 \n",
       "934           HSK 5급 \n",
       "3039        중국어 HSK6급\n",
       "3135     HSK 6급 276점 \n",
       "3148        중국어 HSK6급\n",
       "3168        중국어 HSK6급\n",
       "3234     HSK 6급 276점 \n",
       "3252        중국어 HSK6급\n",
       "3580             신HSK\n",
       "3604             신HSK\n",
       "3711      중국어 신HSK6급 \n",
       "3812      중국어 신HSK6급 \n",
       "6713      중국어 HSK 6급 \n",
       "7185           HSK 6급\n",
       "Name: 3, dtype: object"
      ]
     },
     "execution_count": 74,
     "metadata": {},
     "output_type": "execute_result"
    }
   ],
   "source": [
    "four[four.str.contains(\"HSK\")==True]"
   ]
  },
  {
   "cell_type": "code",
   "execution_count": 75,
   "metadata": {},
   "outputs": [],
   "source": [
    "df.at[four[four.str.contains(\"HSK\")==True].index,[\"어학\"]]=four[four.str.contains(\"HSK\")==True]"
   ]
  },
  {
   "cell_type": "code",
   "execution_count": 76,
   "metadata": {},
   "outputs": [],
   "source": [
    "four[four.str.contains(\"HSK\")==True]=\"\""
   ]
  },
  {
   "cell_type": "code",
   "execution_count": 77,
   "metadata": {},
   "outputs": [
    {
     "data": {
      "text/plain": [
       "3954     820 \n",
       "Name: 3, dtype: object"
      ]
     },
     "execution_count": 77,
     "metadata": {},
     "output_type": "execute_result"
    }
   ],
   "source": [
    "four[four.str.contains(\"820\")==True]"
   ]
  },
  {
   "cell_type": "code",
   "execution_count": 78,
   "metadata": {},
   "outputs": [],
   "source": [
    "four[four.str.contains(\"820\")==True]=\"토익 820\""
   ]
  },
  {
   "cell_type": "code",
   "execution_count": 79,
   "metadata": {},
   "outputs": [],
   "source": [
    "df.at[four[four.str.contains(\"토익 820\")==True].index,[\"어학\"]]=four[four.str.contains(\"토익 820\")==True]"
   ]
  },
  {
   "cell_type": "code",
   "execution_count": 80,
   "metadata": {},
   "outputs": [],
   "source": [
    "four[four.str.contains(\"토익 820\")==True]=\"\""
   ]
  },
  {
   "cell_type": "code",
   "execution_count": 81,
   "metadata": {},
   "outputs": [
    {
     "data": {
      "text/plain": [
       "4169            IM2\n",
       "4239            IM2\n",
       "4259            IM2\n",
       "4260            IM2\n",
       "6368      715, IM2 \n",
       "6638      715, IM2 \n",
       "6658      715, IM2 \n",
       "6666      715, IM2 \n",
       "9979            IM2\n",
       "9999            IM2\n",
       "10019           IM2\n",
       "Name: 3, dtype: object"
      ]
     },
     "execution_count": 81,
     "metadata": {},
     "output_type": "execute_result"
    }
   ],
   "source": [
    "four[four.str.contains(\"IM2\")==True]"
   ]
  },
  {
   "cell_type": "code",
   "execution_count": 82,
   "metadata": {},
   "outputs": [],
   "source": [
    "four[four.str.contains(\"IM1\")==True]=\"오픽 IM1\""
   ]
  },
  {
   "cell_type": "code",
   "execution_count": 83,
   "metadata": {},
   "outputs": [],
   "source": [
    "df.at[four[four.str.contains(\"오픽 IM1\")==True].index,[\"어학\"]]=four[four.str.contains(\"오픽 IM1\")==True]"
   ]
  },
  {
   "cell_type": "code",
   "execution_count": 84,
   "metadata": {},
   "outputs": [],
   "source": [
    "four[four.str.contains(\"오픽 IM1\")==True]=\"\""
   ]
  },
  {
   "cell_type": "code",
   "execution_count": 85,
   "metadata": {},
   "outputs": [
    {
     "data": {
      "text/plain": [
       "6368     715, IM2 \n",
       "6638     715, IM2 \n",
       "6658     715, IM2 \n",
       "6666     715, IM2 \n",
       "Name: 3, dtype: object"
      ]
     },
     "execution_count": 85,
     "metadata": {},
     "output_type": "execute_result"
    }
   ],
   "source": [
    "four[four.str.contains(\"715, IM2\")==True]"
   ]
  },
  {
   "cell_type": "code",
   "execution_count": 86,
   "metadata": {},
   "outputs": [],
   "source": [
    "four[four.str.contains(\"715, IM2\")==True]=\"토익 715, 오픽 IM2\""
   ]
  },
  {
   "cell_type": "code",
   "execution_count": 87,
   "metadata": {},
   "outputs": [],
   "source": [
    "df.at[four[four.str.contains(\"토익 715, 오픽 IM2\")==True].index,[\"어학\"]]=four[four.str.contains(\"토익 715, 오픽 IM2\")==True]"
   ]
  },
  {
   "cell_type": "code",
   "execution_count": 88,
   "metadata": {},
   "outputs": [],
   "source": [
    "four[four.str.contains(\"토익 715, 오픽 IM2\")==True]=\"\""
   ]
  },
  {
   "cell_type": "code",
   "execution_count": 89,
   "metadata": {},
   "outputs": [
    {
     "data": {
      "text/plain": [
       "4169      IM2\n",
       "4239      IM2\n",
       "4259      IM2\n",
       "4260      IM2\n",
       "9979      IM2\n",
       "9999      IM2\n",
       "10019     IM2\n",
       "Name: 3, dtype: object"
      ]
     },
     "execution_count": 89,
     "metadata": {},
     "output_type": "execute_result"
    }
   ],
   "source": [
    "four[four.str.contains(\"IM2\")==True]"
   ]
  },
  {
   "cell_type": "code",
   "execution_count": 90,
   "metadata": {},
   "outputs": [],
   "source": [
    "four[four.str.contains(\"IM2\")==True]=\"오픽 IM2\""
   ]
  },
  {
   "cell_type": "code",
   "execution_count": 91,
   "metadata": {},
   "outputs": [],
   "source": [
    "df.at[four[four.str.contains(\"오픽 IM2\")==True].index,[\"어학\"]]=four[four.str.contains(\"오픽 IM2\")==True]"
   ]
  },
  {
   "cell_type": "code",
   "execution_count": 92,
   "metadata": {},
   "outputs": [],
   "source": [
    "four[four.str.contains(\"오픽 IM2\")==True]=\"\""
   ]
  },
  {
   "cell_type": "code",
   "execution_count": 93,
   "metadata": {},
   "outputs": [],
   "source": [
    "four[four.str.contains(\"IH\")==True]=\"오픽 IH\""
   ]
  },
  {
   "cell_type": "code",
   "execution_count": 94,
   "metadata": {},
   "outputs": [],
   "source": [
    "df.at[four[four.str.contains(\"오픽 IH\")==True].index,[\"어학\"]]=four[four.str.contains(\"오픽 IH\")==True]"
   ]
  },
  {
   "cell_type": "code",
   "execution_count": 95,
   "metadata": {},
   "outputs": [],
   "source": [
    "four[four.str.contains(\"오픽 IH\")==True]=\"\""
   ]
  },
  {
   "cell_type": "code",
   "execution_count": 96,
   "metadata": {},
   "outputs": [],
   "source": [
    "four[four.str.contains(\"900\")==True]=\"토익 900\""
   ]
  },
  {
   "cell_type": "code",
   "execution_count": 97,
   "metadata": {},
   "outputs": [],
   "source": [
    "df.at[four[four.str.contains(\"토익 900\")==True].index,[\"어학\"]]=four[four.str.contains(\"토익 900\")==True]"
   ]
  },
  {
   "cell_type": "code",
   "execution_count": 98,
   "metadata": {},
   "outputs": [],
   "source": [
    "four[four.str.contains(\"토익 900\")==True]=\"\""
   ]
  },
  {
   "cell_type": "code",
   "execution_count": 99,
   "metadata": {},
   "outputs": [],
   "source": [
    "four[four.str.contains(\"890\")==True]=\"토익 890\""
   ]
  },
  {
   "cell_type": "code",
   "execution_count": 100,
   "metadata": {},
   "outputs": [],
   "source": [
    "df.at[four[four.str.contains(\"토익 890\")==True].index,[\"어학\"]]=four[four.str.contains(\"토익 890\")==True]"
   ]
  },
  {
   "cell_type": "code",
   "execution_count": 101,
   "metadata": {},
   "outputs": [],
   "source": [
    "four[four.str.contains(\"토익 890\")==True]=\"\""
   ]
  },
  {
   "cell_type": "code",
   "execution_count": 102,
   "metadata": {},
   "outputs": [],
   "source": [
    "four[four.str.contains(\"855\")==True]=\"토익 855\""
   ]
  },
  {
   "cell_type": "code",
   "execution_count": 103,
   "metadata": {},
   "outputs": [],
   "source": [
    "df.at[four[four.str.contains(\"토익 855\")==True].index,[\"어학\"]]=four[four.str.contains(\"토익 855\")==True]"
   ]
  },
  {
   "cell_type": "code",
   "execution_count": 104,
   "metadata": {},
   "outputs": [],
   "source": [
    "four[four.str.contains(\"토익 855\")==True]=\"\""
   ]
  },
  {
   "cell_type": "code",
   "execution_count": 105,
   "metadata": {},
   "outputs": [],
   "source": [
    "four[four.str.contains(\"스피킹\")==True]=\"토스 Lv7\""
   ]
  },
  {
   "cell_type": "code",
   "execution_count": 106,
   "metadata": {},
   "outputs": [],
   "source": [
    "df.at[four[four.str.contains(\"토스 Lv7\")==True].index,[\"어학\"]]=four[four.str.contains(\"토스 Lv7\")==True]"
   ]
  },
  {
   "cell_type": "code",
   "execution_count": 107,
   "metadata": {},
   "outputs": [],
   "source": [
    "four[four.str.contains(\"토스 Lv7\")==True]=\"\""
   ]
  },
  {
   "cell_type": "code",
   "execution_count": 108,
   "metadata": {},
   "outputs": [],
   "source": [
    "four[four.str.contains(\"790\")==True]=\"토익 790\""
   ]
  },
  {
   "cell_type": "code",
   "execution_count": 109,
   "metadata": {},
   "outputs": [],
   "source": [
    "df.at[four[four.str.contains(\"토익 790\")==True].index,[\"어학\"]]=four[four.str.contains(\"토익 790\")==True]"
   ]
  },
  {
   "cell_type": "code",
   "execution_count": 110,
   "metadata": {},
   "outputs": [],
   "source": [
    "four[four.str.contains(\"토익 790\")==True]=\"\""
   ]
  },
  {
   "cell_type": "code",
   "execution_count": 111,
   "metadata": {},
   "outputs": [],
   "source": [
    "four[four.str.contains(\"805\")==True]=\"토익 805\""
   ]
  },
  {
   "cell_type": "code",
   "execution_count": 112,
   "metadata": {},
   "outputs": [],
   "source": [
    "df.at[four[four.str.contains(\"토익 805\")==True].index,[\"어학\"]]=four[four.str.contains(\"토익 805\")==True]"
   ]
  },
  {
   "cell_type": "code",
   "execution_count": 113,
   "metadata": {},
   "outputs": [],
   "source": [
    "four[four.str.contains(\"토익 805\")==True]=\"\""
   ]
  },
  {
   "cell_type": "code",
   "execution_count": 114,
   "metadata": {},
   "outputs": [
    {
     "data": {
      "text/plain": [
       "6793     940 \n",
       "7030     940 \n",
       "Name: 3, dtype: object"
      ]
     },
     "execution_count": 114,
     "metadata": {},
     "output_type": "execute_result"
    }
   ],
   "source": [
    "four[four.str.contains(\"940\")==True]"
   ]
  },
  {
   "cell_type": "code",
   "execution_count": 115,
   "metadata": {},
   "outputs": [],
   "source": [
    "four[four.str.contains(\"940\")==True]=\"토익 940\""
   ]
  },
  {
   "cell_type": "code",
   "execution_count": 116,
   "metadata": {},
   "outputs": [],
   "source": [
    "df.at[four[four.str.contains(\"토익 940\")==True].index,[\"어학\"]]=four[four.str.contains(\"토익 940\")==True]"
   ]
  },
  {
   "cell_type": "code",
   "execution_count": 117,
   "metadata": {},
   "outputs": [],
   "source": [
    "four[four.str.contains(\"토익 940\")==True]=\"\""
   ]
  },
  {
   "cell_type": "code",
   "execution_count": 118,
   "metadata": {},
   "outputs": [
    {
     "data": {
      "text/plain": [
       "6788     Hsk 6급\n",
       "6999     Hsk 6급\n",
       "7019     Hsk 6급\n",
       "7020     Hsk 6급\n",
       "Name: 3, dtype: object"
      ]
     },
     "execution_count": 118,
     "metadata": {},
     "output_type": "execute_result"
    }
   ],
   "source": [
    "four[four.str.contains(\"Hsk\")==True]"
   ]
  },
  {
   "cell_type": "code",
   "execution_count": 119,
   "metadata": {},
   "outputs": [],
   "source": [
    "df.at[four[four.str.contains(\"Hsk\")==True].index,[\"어학\"]]=four[four.str.contains(\"Hsk\")==True]"
   ]
  },
  {
   "cell_type": "code",
   "execution_count": 120,
   "metadata": {},
   "outputs": [],
   "source": [
    "four[four.str.contains(\"Hsk\")==True]=\"\""
   ]
  },
  {
   "cell_type": "code",
   "execution_count": 121,
   "metadata": {},
   "outputs": [],
   "source": [
    "four[four.str.contains(\"945\")==True]=\"토익 945\""
   ]
  },
  {
   "cell_type": "code",
   "execution_count": 122,
   "metadata": {},
   "outputs": [],
   "source": [
    "df.at[four[four.str.contains(\"토익 945\")==True].index,[\"어학\"]]=four[four.str.contains(\"토익 945\")==True]"
   ]
  },
  {
   "cell_type": "code",
   "execution_count": 123,
   "metadata": {},
   "outputs": [],
   "source": [
    "four[four.str.contains(\"토익 945\")==True]=\"\""
   ]
  },
  {
   "cell_type": "code",
   "execution_count": 124,
   "metadata": {},
   "outputs": [],
   "source": [
    "four[four.str.contains(\"840\")==True]=\"토익 840\""
   ]
  },
  {
   "cell_type": "code",
   "execution_count": 125,
   "metadata": {},
   "outputs": [],
   "source": [
    "df.at[four[four.str.contains(\"토익 840\")==True].index,[\"어학\"]]=four[four.str.contains(\"토익 840\")==True]"
   ]
  },
  {
   "cell_type": "code",
   "execution_count": 126,
   "metadata": {},
   "outputs": [],
   "source": [
    "four[four.str.contains(\"토익 840\")==True]=\"\""
   ]
  },
  {
   "cell_type": "code",
   "execution_count": 127,
   "metadata": {},
   "outputs": [],
   "source": [
    "four[four.str.contains(\"770\")==True]=\"토익 770\""
   ]
  },
  {
   "cell_type": "code",
   "execution_count": 128,
   "metadata": {},
   "outputs": [],
   "source": [
    "df.at[four[four.str.contains(\"토익 770\")==True].index,[\"어학\"]]=four[four.str.contains(\"토익 770\")==True]"
   ]
  },
  {
   "cell_type": "code",
   "execution_count": 129,
   "metadata": {},
   "outputs": [],
   "source": [
    "four[four.str.contains(\"토익 770\")==True]=\"\""
   ]
  },
  {
   "cell_type": "code",
   "execution_count": 130,
   "metadata": {},
   "outputs": [],
   "source": [
    "four[four.str.contains(\"780\")==True]=\"토익 780\""
   ]
  },
  {
   "cell_type": "code",
   "execution_count": 131,
   "metadata": {},
   "outputs": [],
   "source": [
    "df.at[four[four.str.contains(\"토익 780\")==True].index,[\"어학\"]]=four[four.str.contains(\"토익 780\")==True]"
   ]
  },
  {
   "cell_type": "code",
   "execution_count": 132,
   "metadata": {},
   "outputs": [],
   "source": [
    "four[four.str.contains(\"토익 780\")==True]=\"\""
   ]
  },
  {
   "cell_type": "code",
   "execution_count": 133,
   "metadata": {},
   "outputs": [],
   "source": [
    "four[four.str.contains(\"845\")==True]=\"토익 845\""
   ]
  },
  {
   "cell_type": "code",
   "execution_count": 134,
   "metadata": {},
   "outputs": [],
   "source": [
    "df.at[four[four.str.contains(\"토익 845\")==True].index,[\"어학\"]]=four[four.str.contains(\"토익 845\")==True]"
   ]
  },
  {
   "cell_type": "code",
   "execution_count": 135,
   "metadata": {},
   "outputs": [],
   "source": [
    "four[four.str.contains(\"토익 845\")==True]=\"\""
   ]
  },
  {
   "cell_type": "code",
   "execution_count": 136,
   "metadata": {},
   "outputs": [],
   "source": [
    "four[four.str.contains(\"700\")==True]=\"토익 770\""
   ]
  },
  {
   "cell_type": "code",
   "execution_count": 137,
   "metadata": {},
   "outputs": [],
   "source": [
    "df.at[four[four.str.contains(\"토익 770\")==True].index,[\"어학\"]]=four[four.str.contains(\"토익 770\")==True]"
   ]
  },
  {
   "cell_type": "code",
   "execution_count": 138,
   "metadata": {},
   "outputs": [],
   "source": [
    "four[four.str.contains(\"토익 770\")==True]=\"\""
   ]
  },
  {
   "cell_type": "code",
   "execution_count": 139,
   "metadata": {},
   "outputs": [],
   "source": [
    "four[four.str.contains(\"750\")==True]=\"토익 750\""
   ]
  },
  {
   "cell_type": "code",
   "execution_count": 140,
   "metadata": {},
   "outputs": [],
   "source": [
    "df.at[four[four.str.contains(\"토익 750\")==True].index,[\"어학\"]]=four[four.str.contains(\"토익 750\")==True]"
   ]
  },
  {
   "cell_type": "code",
   "execution_count": 141,
   "metadata": {},
   "outputs": [],
   "source": [
    "four[four.str.contains(\"토익 750\")==True]=\"\""
   ]
  },
  {
   "cell_type": "code",
   "execution_count": 142,
   "metadata": {},
   "outputs": [],
   "source": [
    "four[four.str.contains(\"895\")==True]=\"토익 895\""
   ]
  },
  {
   "cell_type": "code",
   "execution_count": 143,
   "metadata": {},
   "outputs": [],
   "source": [
    "df.at[four[four.str.contains(\"토익 895\")==True].index,[\"어학\"]]=four[four.str.contains(\"토익 895\")==True]"
   ]
  },
  {
   "cell_type": "code",
   "execution_count": 144,
   "metadata": {},
   "outputs": [],
   "source": [
    "four[four.str.contains(\"토익 895\")==True]=\"\""
   ]
  },
  {
   "cell_type": "code",
   "execution_count": 145,
   "metadata": {},
   "outputs": [],
   "source": [
    "four[four.str.contains(\"870\")==True]=\"토익 870\""
   ]
  },
  {
   "cell_type": "code",
   "execution_count": 146,
   "metadata": {},
   "outputs": [],
   "source": [
    "df.at[four[four.str.contains(\"토익 870\")==True].index,[\"어학\"]]=four[four.str.contains(\"토익 870\")==True]"
   ]
  },
  {
   "cell_type": "code",
   "execution_count": 147,
   "metadata": {},
   "outputs": [],
   "source": [
    "four[four.str.contains(\"토익 870\")==True]=\"\""
   ]
  },
  {
   "cell_type": "code",
   "execution_count": 148,
   "metadata": {},
   "outputs": [],
   "source": [
    "four[four.str.contains(\"975\")==True]=\"토익 975\""
   ]
  },
  {
   "cell_type": "code",
   "execution_count": 149,
   "metadata": {},
   "outputs": [],
   "source": [
    "df.at[four[four.str.contains(\"토익 975\")==True].index,[\"어학\"]]=four[four.str.contains(\"토익 975\")==True]"
   ]
  },
  {
   "cell_type": "code",
   "execution_count": 150,
   "metadata": {},
   "outputs": [],
   "source": [
    "four[four.str.contains(\"토익 975\")==True]=\"\""
   ]
  },
  {
   "cell_type": "code",
   "execution_count": 151,
   "metadata": {},
   "outputs": [],
   "source": [
    "four[four.str.contains(\"835\")==True]=\"토익 835\""
   ]
  },
  {
   "cell_type": "code",
   "execution_count": 152,
   "metadata": {},
   "outputs": [],
   "source": [
    "df.at[four[four.str.contains(\"토익 835\")==True].index,[\"어학\"]]=four[four.str.contains(\"토익 835\")==True]"
   ]
  },
  {
   "cell_type": "code",
   "execution_count": 153,
   "metadata": {},
   "outputs": [],
   "source": [
    "four[four.str.contains(\"토익 835\")==True]=\"\""
   ]
  },
  {
   "cell_type": "code",
   "execution_count": 154,
   "metadata": {},
   "outputs": [
    {
     "data": {
      "text/plain": [
       "Series([], Name: 3, dtype: object)"
      ]
     },
     "execution_count": 154,
     "metadata": {},
     "output_type": "execute_result"
    }
   ],
   "source": [
    "four[four.str.contains(\"toeic\")==True]"
   ]
  },
  {
   "cell_type": "code",
   "execution_count": 155,
   "metadata": {},
   "outputs": [],
   "source": [
    "four.to_csv(\"sophie.txt\",encoding='utf-8')"
   ]
  },
  {
   "cell_type": "code",
   "execution_count": 156,
   "metadata": {},
   "outputs": [],
   "source": [
    "four.to_csv(\"sophie.txt\",encoding='utf-8')"
   ]
  },
  {
   "cell_type": "code",
   "execution_count": 157,
   "metadata": {},
   "outputs": [],
   "source": [
    "four.to_csv(\"sophie.csv\",encoding='utf-8')"
   ]
  },
  {
   "cell_type": "code",
   "execution_count": 158,
   "metadata": {},
   "outputs": [],
   "source": [
    "df.to_csv(\"df.csv\")"
   ]
  },
  {
   "cell_type": "code",
   "execution_count": null,
   "metadata": {},
   "outputs": [],
   "source": []
  }
 ],
 "metadata": {
  "kernelspec": {
   "display_name": "Python 3",
   "language": "python",
   "name": "python3"
  },
  "language_info": {
   "codemirror_mode": {
    "name": "ipython",
    "version": 3
   },
   "file_extension": ".py",
   "mimetype": "text/x-python",
   "name": "python",
   "nbconvert_exporter": "python",
   "pygments_lexer": "ipython3",
   "version": "3.7.6"
  }
 },
 "nbformat": 4,
 "nbformat_minor": 4
}
