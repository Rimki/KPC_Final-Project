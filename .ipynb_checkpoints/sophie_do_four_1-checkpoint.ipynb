{
 "cells": [
  {
   "cell_type": "code",
   "execution_count": 1,
   "metadata": {},
   "outputs": [],
   "source": [
    "import pandas as pd"
   ]
  },
  {
   "cell_type": "code",
   "execution_count": 2,
   "metadata": {},
   "outputs": [],
   "source": [
    "raw_df=pd.read_csv(\"WriteData.csv\")"
   ]
  },
  {
   "cell_type": "code",
   "execution_count": 3,
   "metadata": {},
   "outputs": [
    {
     "data": {
      "text/html": [
       "<div>\n",
       "<style scoped>\n",
       "    .dataframe tbody tr th:only-of-type {\n",
       "        vertical-align: middle;\n",
       "    }\n",
       "\n",
       "    .dataframe tbody tr th {\n",
       "        vertical-align: top;\n",
       "    }\n",
       "\n",
       "    .dataframe thead th {\n",
       "        text-align: right;\n",
       "    }\n",
       "</style>\n",
       "<table border=\"1\" class=\"dataframe\">\n",
       "  <thead>\n",
       "    <tr style=\"text-align: right;\">\n",
       "      <th></th>\n",
       "      <th>1</th>\n",
       "      <th>2</th>\n",
       "      <th>3</th>\n",
       "    </tr>\n",
       "  </thead>\n",
       "  <tbody>\n",
       "    <tr>\n",
       "      <th>0</th>\n",
       "      <td>한국석유공사 / 설비 / 2020 상반기</td>\n",
       "      <td>광주전자공업고등학교 / 학점 1.7등급 / 인천 글로벌 숙련 진흥원 5일, 선반, ...</td>\n",
       "      <td>7.한국석유공사\\n\\n 1. 지원 분야 직무기술서 ‘직무수행 내용’ 중 본인이 가장...</td>\n",
       "    </tr>\n",
       "    <tr>\n",
       "      <th>1</th>\n",
       "      <td>CJ제일제당 / Food Sales / 2020 상반기</td>\n",
       "      <td>중경외시 / 상경계열 / 학점 3.92 / 토익 905, 토스 LV 6 / 봉사활동...</td>\n",
       "      <td>CJ제일제당 및 선택한 직무에 대한 지원동기는 무엇인가요? ① 선택한 직무에 관심을...</td>\n",
       "    </tr>\n",
       "    <tr>\n",
       "      <th>2</th>\n",
       "      <td>한국가스안전공사 / LP가스 안전지킴이사업 / 2020 상반기</td>\n",
       "      <td>제주대학교 / 학점 3.3 / 토익830 / 컴퓨터활용능력1급, 한국사1급</td>\n",
       "      <td>\\n1. 한국가스안전공사가 진행하는 사업에 관심을 갖고 공사에 지원한 동기에 대해 ...</td>\n",
       "    </tr>\n",
       "    <tr>\n",
       "      <th>3</th>\n",
       "      <td>코레일 / 사무영업 / 2020 상반기</td>\n",
       "      <td>충남대학교 / 학점 3.87 / 토익 835 / 토론동아리 3년, 컴활1급, 한국사1급</td>\n",
       "      <td>1.공동체의 일원으로서 가장 중요하게 생각하는 가치를 제시하고, 그 가치를 실천했던...</td>\n",
       "    </tr>\n",
       "    <tr>\n",
       "      <th>4</th>\n",
       "      <td>한국기술교육대학교 / 행정 / 2020 상반기</td>\n",
       "      <td>건국대학교 / 학점 4.0 / 토익 780 / 컴활 1급, 한국사1급</td>\n",
       "      <td>1. 본인이 가진 가장 뛰어난 점과 그렇게 판단한 이유, 고용노동연수원 업무수행에서...</td>\n",
       "    </tr>\n",
       "    <tr>\n",
       "      <th>...</th>\n",
       "      <td>...</td>\n",
       "      <td>...</td>\n",
       "      <td>...</td>\n",
       "    </tr>\n",
       "    <tr>\n",
       "      <th>10102</th>\n",
       "      <td>현대자동차 / 영업관리 / 2013 상반기</td>\n",
       "      <td>상명대학교 / 국제통상학 / 학점 4.3 / 토익 900, HSK 6급 / 해외인턴...</td>\n",
       "      <td>1. 현대자동차에 지원하게 된 동기 또는 해당 직무에 지원하게 된 동기는 무엇입니까...</td>\n",
       "    </tr>\n",
       "    <tr>\n",
       "      <th>10103</th>\n",
       "      <td>심팩 / 용접관리 / 2013 상반기</td>\n",
       "      <td>지방전문대 / 공업화학 / 학점 3.06</td>\n",
       "      <td>성격소개\\n\\n대부분의 사람들이 평가하는 첫인상은 소심하고 내성적인 성격일것이라 생...</td>\n",
       "    </tr>\n",
       "    <tr>\n",
       "      <th>10104</th>\n",
       "      <td>한국전력 / 인턴[송,배전] / 2013 상반기</td>\n",
       "      <td>지거국 / 전자공학 / 학점 3.7 / 토익 900대 / 음악봉사활동, 멘토링 등</td>\n",
       "      <td>[질문 1] 취업이라는 목표 이외에 인생의 큰 목표를 세운 경험, 그 목표를 실현하...</td>\n",
       "    </tr>\n",
       "    <tr>\n",
       "      <th>10105</th>\n",
       "      <td>한국전력 / 인턴[송,배전] / 2013 상반기</td>\n",
       "      <td>지거국 / 전자공학 / 학점 3.7 / 토익 900 / 음악봉사활동, 멘토링등</td>\n",
       "      <td>한전 자가소개서 양식 500자 12줄 이내\\n\\n[질문 1] 취업이라는 목표 이외에...</td>\n",
       "    </tr>\n",
       "    <tr>\n",
       "      <th>10106</th>\n",
       "      <td>한국전력 / 인턴[송,배전] / 2013 상반기</td>\n",
       "      <td>지거국 / 전자공학 / 학점 3.7 / 토익 900 / 음악봉사활동, 멘토링등</td>\n",
       "      <td>한전 자가소개서 양식 500자 12줄 이내\\n\\n[질문 1] 취업이라는 목표 이외에...</td>\n",
       "    </tr>\n",
       "  </tbody>\n",
       "</table>\n",
       "<p>10107 rows × 3 columns</p>\n",
       "</div>"
      ],
      "text/plain": [
       "                                        1  \\\n",
       "0                  한국석유공사 / 설비 / 2020 상반기   \n",
       "1          CJ제일제당 / Food Sales / 2020 상반기   \n",
       "2      한국가스안전공사 / LP가스 안전지킴이사업 / 2020 상반기   \n",
       "3                   코레일 / 사무영업 / 2020 상반기   \n",
       "4               한국기술교육대학교 / 행정 / 2020 상반기   \n",
       "...                                   ...   \n",
       "10102             현대자동차 / 영업관리 / 2013 상반기   \n",
       "10103                심팩 / 용접관리 / 2013 상반기   \n",
       "10104          한국전력 / 인턴[송,배전] / 2013 상반기   \n",
       "10105          한국전력 / 인턴[송,배전] / 2013 상반기   \n",
       "10106          한국전력 / 인턴[송,배전] / 2013 상반기   \n",
       "\n",
       "                                                       2  \\\n",
       "0      광주전자공업고등학교 / 학점 1.7등급 / 인천 글로벌 숙련 진흥원 5일, 선반, ...   \n",
       "1      중경외시 / 상경계열 / 학점 3.92 / 토익 905, 토스 LV 6 / 봉사활동...   \n",
       "2              제주대학교 / 학점 3.3 / 토익830 / 컴퓨터활용능력1급, 한국사1급   \n",
       "3       충남대학교 / 학점 3.87 / 토익 835 / 토론동아리 3년, 컴활1급, 한국사1급   \n",
       "4                 건국대학교 / 학점 4.0 / 토익 780 / 컴활 1급, 한국사1급   \n",
       "...                                                  ...   \n",
       "10102  상명대학교 / 국제통상학 / 학점 4.3 / 토익 900, HSK 6급 / 해외인턴...   \n",
       "10103                             지방전문대 / 공업화학 / 학점 3.06   \n",
       "10104      지거국 / 전자공학 / 학점 3.7 / 토익 900대 / 음악봉사활동, 멘토링 등   \n",
       "10105        지거국 / 전자공학 / 학점 3.7 / 토익 900 / 음악봉사활동, 멘토링등   \n",
       "10106        지거국 / 전자공학 / 학점 3.7 / 토익 900 / 음악봉사활동, 멘토링등   \n",
       "\n",
       "                                                       3  \n",
       "0      7.한국석유공사\\n\\n 1. 지원 분야 직무기술서 ‘직무수행 내용’ 중 본인이 가장...  \n",
       "1      CJ제일제당 및 선택한 직무에 대한 지원동기는 무엇인가요? ① 선택한 직무에 관심을...  \n",
       "2      \\n1. 한국가스안전공사가 진행하는 사업에 관심을 갖고 공사에 지원한 동기에 대해 ...  \n",
       "3      1.공동체의 일원으로서 가장 중요하게 생각하는 가치를 제시하고, 그 가치를 실천했던...  \n",
       "4      1. 본인이 가진 가장 뛰어난 점과 그렇게 판단한 이유, 고용노동연수원 업무수행에서...  \n",
       "...                                                  ...  \n",
       "10102  1. 현대자동차에 지원하게 된 동기 또는 해당 직무에 지원하게 된 동기는 무엇입니까...  \n",
       "10103  성격소개\\n\\n대부분의 사람들이 평가하는 첫인상은 소심하고 내성적인 성격일것이라 생...  \n",
       "10104  [질문 1] 취업이라는 목표 이외에 인생의 큰 목표를 세운 경험, 그 목표를 실현하...  \n",
       "10105  한전 자가소개서 양식 500자 12줄 이내\\n\\n[질문 1] 취업이라는 목표 이외에...  \n",
       "10106  한전 자가소개서 양식 500자 12줄 이내\\n\\n[질문 1] 취업이라는 목표 이외에...  \n",
       "\n",
       "[10107 rows x 3 columns]"
      ]
     },
     "execution_count": 3,
     "metadata": {},
     "output_type": "execute_result"
    }
   ],
   "source": [
    "raw_df"
   ]
  },
  {
   "cell_type": "code",
   "execution_count": 4,
   "metadata": {},
   "outputs": [],
   "source": [
    "df = pd.DataFrame(columns=[\"기업명\",\"지원부서\",\"지원시기\",\"학교\",\"학과\",\"학점\",\"어학\",\"자격증\",\"경험사항\",\"자소서\"])"
   ]
  },
  {
   "cell_type": "code",
   "execution_count": 5,
   "metadata": {},
   "outputs": [],
   "source": [
    "df=pd.read_csv(\"20200811_Fin.csv\")"
   ]
  },
  {
   "cell_type": "code",
   "execution_count": 6,
   "metadata": {},
   "outputs": [
    {
     "data": {
      "text/html": [
       "<div>\n",
       "<style scoped>\n",
       "    .dataframe tbody tr th:only-of-type {\n",
       "        vertical-align: middle;\n",
       "    }\n",
       "\n",
       "    .dataframe tbody tr th {\n",
       "        vertical-align: top;\n",
       "    }\n",
       "\n",
       "    .dataframe thead th {\n",
       "        text-align: right;\n",
       "    }\n",
       "</style>\n",
       "<table border=\"1\" class=\"dataframe\">\n",
       "  <thead>\n",
       "    <tr style=\"text-align: right;\">\n",
       "      <th></th>\n",
       "      <th>Unnamed: 0</th>\n",
       "      <th>Unnamed: 0.1</th>\n",
       "      <th>Unnamed: 0.1.1</th>\n",
       "      <th>기업명</th>\n",
       "      <th>지원부서</th>\n",
       "      <th>지원시기</th>\n",
       "      <th>학교</th>\n",
       "      <th>학과</th>\n",
       "      <th>학점</th>\n",
       "      <th>어학</th>\n",
       "      <th>자격증</th>\n",
       "      <th>경험사항</th>\n",
       "      <th>자소서</th>\n",
       "    </tr>\n",
       "  </thead>\n",
       "  <tbody>\n",
       "    <tr>\n",
       "      <th>0</th>\n",
       "      <td>0</td>\n",
       "      <td>0</td>\n",
       "      <td>0</td>\n",
       "      <td>한국석유공사</td>\n",
       "      <td>설비</td>\n",
       "      <td>2020 상반기</td>\n",
       "      <td>NaN</td>\n",
       "      <td>전자공학과</td>\n",
       "      <td>학점 1.7등급</td>\n",
       "      <td>NaN</td>\n",
       "      <td>NaN</td>\n",
       "      <td>인천 글로벌 숙련 진흥원, 선반, 용접 ,특수용접, 설비보전</td>\n",
       "      <td>7.한국석유공사\\n\\n 1. 지원 분야 직무기술서 ‘직무수행 내용’ 중 본인이 가장...</td>\n",
       "    </tr>\n",
       "    <tr>\n",
       "      <th>1</th>\n",
       "      <td>1</td>\n",
       "      <td>1</td>\n",
       "      <td>1</td>\n",
       "      <td>CJ제일제당</td>\n",
       "      <td>Food Sales</td>\n",
       "      <td>2020 상반기</td>\n",
       "      <td>서울사립대(중앙대학교)</td>\n",
       "      <td>상경계열학과</td>\n",
       "      <td>학점 3.92</td>\n",
       "      <td>NaN</td>\n",
       "      <td>NaN</td>\n",
       "      <td>봉사활동 일부빼고는 전무.</td>\n",
       "      <td>CJ제일제당 및 선택한 직무에 대한 지원동기는 무엇인가요? ① 선택한 직무에 관심을...</td>\n",
       "    </tr>\n",
       "    <tr>\n",
       "      <th>2</th>\n",
       "      <td>2</td>\n",
       "      <td>2</td>\n",
       "      <td>2</td>\n",
       "      <td>한국가스안전공사</td>\n",
       "      <td>LP가스 안전지킴이사업</td>\n",
       "      <td>2020 상반기</td>\n",
       "      <td>지방거점국립대(제주대학교)</td>\n",
       "      <td>NaN</td>\n",
       "      <td>학점 3.3</td>\n",
       "      <td>토익830</td>\n",
       "      <td>NaN</td>\n",
       "      <td>NaN</td>\n",
       "      <td>\\n1. 한국가스안전공사가 진행하는 사업에 관심을 갖고 공사에 지원한 동기에 대해 ...</td>\n",
       "    </tr>\n",
       "    <tr>\n",
       "      <th>3</th>\n",
       "      <td>3</td>\n",
       "      <td>3</td>\n",
       "      <td>3</td>\n",
       "      <td>코레일</td>\n",
       "      <td>사무영업</td>\n",
       "      <td>2020 상반기</td>\n",
       "      <td>지방거점국립대(충남대학교)</td>\n",
       "      <td>NaN</td>\n",
       "      <td>학점 3.87</td>\n",
       "      <td>토익 835</td>\n",
       "      <td>NaN</td>\n",
       "      <td>NaN</td>\n",
       "      <td>1.공동체의 일원으로서 가장 중요하게 생각하는 가치를 제시하고, 그 가치를 실천했던...</td>\n",
       "    </tr>\n",
       "    <tr>\n",
       "      <th>4</th>\n",
       "      <td>4</td>\n",
       "      <td>4</td>\n",
       "      <td>4</td>\n",
       "      <td>한국기술교육대학교</td>\n",
       "      <td>행정</td>\n",
       "      <td>2020 상반기</td>\n",
       "      <td>서울사립대(건국대학교)</td>\n",
       "      <td>NaN</td>\n",
       "      <td>학점 4.0</td>\n",
       "      <td>토익 780</td>\n",
       "      <td>NaN</td>\n",
       "      <td>NaN</td>\n",
       "      <td>1. 본인이 가진 가장 뛰어난 점과 그렇게 판단한 이유, 고용노동연수원 업무수행에서...</td>\n",
       "    </tr>\n",
       "    <tr>\n",
       "      <th>...</th>\n",
       "      <td>...</td>\n",
       "      <td>...</td>\n",
       "      <td>...</td>\n",
       "      <td>...</td>\n",
       "      <td>...</td>\n",
       "      <td>...</td>\n",
       "      <td>...</td>\n",
       "      <td>...</td>\n",
       "      <td>...</td>\n",
       "      <td>...</td>\n",
       "      <td>...</td>\n",
       "      <td>...</td>\n",
       "      <td>...</td>\n",
       "    </tr>\n",
       "    <tr>\n",
       "      <th>10102</th>\n",
       "      <td>10102</td>\n",
       "      <td>10102</td>\n",
       "      <td>10102</td>\n",
       "      <td>현대자동차</td>\n",
       "      <td>영업관리</td>\n",
       "      <td>2013 상반기</td>\n",
       "      <td>서울사립대(상명대학교)</td>\n",
       "      <td>국제통상학과</td>\n",
       "      <td>학점 4.3</td>\n",
       "      <td>NaN</td>\n",
       "      <td>NaN</td>\n",
       "      <td>해외인턴1회, 중국어 말하기 대회 1등, 와인바 매니저 1년 6개월 경력</td>\n",
       "      <td>1. 현대자동차에 지원하게 된 동기 또는 해당 직무에 지원하게 된 동기는 무엇입니까...</td>\n",
       "    </tr>\n",
       "    <tr>\n",
       "      <th>10103</th>\n",
       "      <td>10103</td>\n",
       "      <td>10103</td>\n",
       "      <td>10103</td>\n",
       "      <td>심팩</td>\n",
       "      <td>용접관리</td>\n",
       "      <td>2013 상반기</td>\n",
       "      <td>전문대</td>\n",
       "      <td>공업화학과</td>\n",
       "      <td>학점 3.06</td>\n",
       "      <td>NaN</td>\n",
       "      <td>NaN</td>\n",
       "      <td>NaN</td>\n",
       "      <td>성격소개\\n\\n대부분의 사람들이 평가하는 첫인상은 소심하고 내성적인 성격일것이라 생...</td>\n",
       "    </tr>\n",
       "    <tr>\n",
       "      <th>10104</th>\n",
       "      <td>10104</td>\n",
       "      <td>10104</td>\n",
       "      <td>10104</td>\n",
       "      <td>한국전력</td>\n",
       "      <td>인턴[송,배전]</td>\n",
       "      <td>2013 상반기</td>\n",
       "      <td>지방거점국립대</td>\n",
       "      <td>전자공학과</td>\n",
       "      <td>학점 3.7</td>\n",
       "      <td>NaN</td>\n",
       "      <td>NaN</td>\n",
       "      <td>음악봉사활동, 멘토링 등</td>\n",
       "      <td>[질문 1] 취업이라는 목표 이외에 인생의 큰 목표를 세운 경험, 그 목표를 실현하...</td>\n",
       "    </tr>\n",
       "    <tr>\n",
       "      <th>10105</th>\n",
       "      <td>10105</td>\n",
       "      <td>10105</td>\n",
       "      <td>10105</td>\n",
       "      <td>한국전력</td>\n",
       "      <td>인턴[송,배전]</td>\n",
       "      <td>2013 상반기</td>\n",
       "      <td>지방거점국립대</td>\n",
       "      <td>전자공학과</td>\n",
       "      <td>학점 3.7</td>\n",
       "      <td>NaN</td>\n",
       "      <td>NaN</td>\n",
       "      <td>음악봉사활동, 멘토링등</td>\n",
       "      <td>한전 자가소개서 양식 500자 12줄 이내\\n\\n[질문 1] 취업이라는 목표 이외에...</td>\n",
       "    </tr>\n",
       "    <tr>\n",
       "      <th>10106</th>\n",
       "      <td>10106</td>\n",
       "      <td>10106</td>\n",
       "      <td>10106</td>\n",
       "      <td>한국전력</td>\n",
       "      <td>인턴[송,배전]</td>\n",
       "      <td>2013 상반기</td>\n",
       "      <td>지방거점국립대</td>\n",
       "      <td>전자공학과</td>\n",
       "      <td>학점 3.7</td>\n",
       "      <td>NaN</td>\n",
       "      <td>NaN</td>\n",
       "      <td>음악봉사활동, 멘토링등</td>\n",
       "      <td>한전 자가소개서 양식 500자 12줄 이내\\n\\n[질문 1] 취업이라는 목표 이외에...</td>\n",
       "    </tr>\n",
       "  </tbody>\n",
       "</table>\n",
       "<p>10107 rows × 13 columns</p>\n",
       "</div>"
      ],
      "text/plain": [
       "       Unnamed: 0  Unnamed: 0.1  Unnamed: 0.1.1         기업명            지원부서  \\\n",
       "0               0             0               0     한국석유공사              설비    \n",
       "1               1             1               1     CJ제일제당      Food Sales    \n",
       "2               2             2               2   한국가스안전공사    LP가스 안전지킴이사업    \n",
       "3               3             3               3        코레일            사무영업    \n",
       "4               4             4               4  한국기술교육대학교              행정    \n",
       "...           ...           ...             ...         ...             ...   \n",
       "10102       10102         10102           10102      현대자동차            영업관리    \n",
       "10103       10103         10103           10103         심팩            용접관리    \n",
       "10104       10104         10104           10104       한국전력        인턴[송,배전]    \n",
       "10105       10105         10105           10105       한국전력        인턴[송,배전]    \n",
       "10106       10106         10106           10106       한국전력        인턴[송,배전]    \n",
       "\n",
       "            지원시기              학교      학과          학점        어학  자격증  \\\n",
       "0       2020 상반기             NaN   전자공학과   학점 1.7등급        NaN  NaN   \n",
       "1       2020 상반기    서울사립대(중앙대학교)  상경계열학과    학점 3.92        NaN  NaN   \n",
       "2       2020 상반기  지방거점국립대(제주대학교)     NaN     학점 3.3     토익830   NaN   \n",
       "3       2020 상반기  지방거점국립대(충남대학교)     NaN    학점 3.87    토익 835   NaN   \n",
       "4       2020 상반기    서울사립대(건국대학교)     NaN     학점 4.0    토익 780   NaN   \n",
       "...          ...             ...     ...         ...       ...  ...   \n",
       "10102   2013 상반기    서울사립대(상명대학교)  국제통상학과     학점 4.3        NaN  NaN   \n",
       "10103   2013 상반기             전문대   공업화학과     학점 3.06       NaN  NaN   \n",
       "10104   2013 상반기         지방거점국립대   전자공학과     학점 3.7        NaN  NaN   \n",
       "10105   2013 상반기         지방거점국립대   전자공학과     학점 3.7        NaN  NaN   \n",
       "10106   2013 상반기         지방거점국립대   전자공학과     학점 3.7        NaN  NaN   \n",
       "\n",
       "                                            경험사항  \\\n",
       "0              인천 글로벌 숙련 진흥원, 선반, 용접 ,특수용접, 설비보전   \n",
       "1                                 봉사활동 일부빼고는 전무.   \n",
       "2                                            NaN   \n",
       "3                                            NaN   \n",
       "4                                            NaN   \n",
       "...                                          ...   \n",
       "10102   해외인턴1회, 중국어 말하기 대회 1등, 와인바 매니저 1년 6개월 경력   \n",
       "10103                                        NaN   \n",
       "10104                              음악봉사활동, 멘토링 등   \n",
       "10105                               음악봉사활동, 멘토링등   \n",
       "10106                               음악봉사활동, 멘토링등   \n",
       "\n",
       "                                                     자소서  \n",
       "0      7.한국석유공사\\n\\n 1. 지원 분야 직무기술서 ‘직무수행 내용’ 중 본인이 가장...  \n",
       "1      CJ제일제당 및 선택한 직무에 대한 지원동기는 무엇인가요? ① 선택한 직무에 관심을...  \n",
       "2      \\n1. 한국가스안전공사가 진행하는 사업에 관심을 갖고 공사에 지원한 동기에 대해 ...  \n",
       "3      1.공동체의 일원으로서 가장 중요하게 생각하는 가치를 제시하고, 그 가치를 실천했던...  \n",
       "4      1. 본인이 가진 가장 뛰어난 점과 그렇게 판단한 이유, 고용노동연수원 업무수행에서...  \n",
       "...                                                  ...  \n",
       "10102  1. 현대자동차에 지원하게 된 동기 또는 해당 직무에 지원하게 된 동기는 무엇입니까...  \n",
       "10103  성격소개\\n\\n대부분의 사람들이 평가하는 첫인상은 소심하고 내성적인 성격일것이라 생...  \n",
       "10104  [질문 1] 취업이라는 목표 이외에 인생의 큰 목표를 세운 경험, 그 목표를 실현하...  \n",
       "10105  한전 자가소개서 양식 500자 12줄 이내\\n\\n[질문 1] 취업이라는 목표 이외에...  \n",
       "10106  한전 자가소개서 양식 500자 12줄 이내\\n\\n[질문 1] 취업이라는 목표 이외에...  \n",
       "\n",
       "[10107 rows x 13 columns]"
      ]
     },
     "execution_count": 6,
     "metadata": {},
     "output_type": "execute_result"
    }
   ],
   "source": [
    "df"
   ]
  },
  {
   "cell_type": "code",
   "execution_count": 7,
   "metadata": {},
   "outputs": [],
   "source": [
    "four=pd.read_csv(\"sophie.csv\",index_col=0)"
   ]
  },
  {
   "cell_type": "code",
   "execution_count": 8,
   "metadata": {},
   "outputs": [
    {
     "data": {
      "text/html": [
       "<div>\n",
       "<style scoped>\n",
       "    .dataframe tbody tr th:only-of-type {\n",
       "        vertical-align: middle;\n",
       "    }\n",
       "\n",
       "    .dataframe tbody tr th {\n",
       "        vertical-align: top;\n",
       "    }\n",
       "\n",
       "    .dataframe thead th {\n",
       "        text-align: right;\n",
       "    }\n",
       "</style>\n",
       "<table border=\"1\" class=\"dataframe\">\n",
       "  <thead>\n",
       "    <tr style=\"text-align: right;\">\n",
       "      <th></th>\n",
       "      <th>3</th>\n",
       "    </tr>\n",
       "  </thead>\n",
       "  <tbody>\n",
       "    <tr>\n",
       "      <th>0</th>\n",
       "      <td>NaN</td>\n",
       "    </tr>\n",
       "    <tr>\n",
       "      <th>1</th>\n",
       "      <td>NaN</td>\n",
       "    </tr>\n",
       "    <tr>\n",
       "      <th>2</th>\n",
       "      <td>컴퓨터활용능력1급, 한국사1급</td>\n",
       "    </tr>\n",
       "    <tr>\n",
       "      <th>3</th>\n",
       "      <td>토론동아리 3년, 컴활1급, 한국사1급</td>\n",
       "    </tr>\n",
       "    <tr>\n",
       "      <th>4</th>\n",
       "      <td>컴활 1급, 한국사1급</td>\n",
       "    </tr>\n",
       "    <tr>\n",
       "      <th>...</th>\n",
       "      <td>...</td>\n",
       "    </tr>\n",
       "    <tr>\n",
       "      <th>10102</th>\n",
       "      <td>NaN</td>\n",
       "    </tr>\n",
       "    <tr>\n",
       "      <th>10103</th>\n",
       "      <td>NaN</td>\n",
       "    </tr>\n",
       "    <tr>\n",
       "      <th>10104</th>\n",
       "      <td>NaN</td>\n",
       "    </tr>\n",
       "    <tr>\n",
       "      <th>10105</th>\n",
       "      <td>NaN</td>\n",
       "    </tr>\n",
       "    <tr>\n",
       "      <th>10106</th>\n",
       "      <td>NaN</td>\n",
       "    </tr>\n",
       "  </tbody>\n",
       "</table>\n",
       "<p>10107 rows × 1 columns</p>\n",
       "</div>"
      ],
      "text/plain": [
       "                            3\n",
       "0                         NaN\n",
       "1                         NaN\n",
       "2            컴퓨터활용능력1급, 한국사1급\n",
       "3       토론동아리 3년, 컴활1급, 한국사1급\n",
       "4                컴활 1급, 한국사1급\n",
       "...                       ...\n",
       "10102                     NaN\n",
       "10103                     NaN\n",
       "10104                     NaN\n",
       "10105                     NaN\n",
       "10106                     NaN\n",
       "\n",
       "[10107 rows x 1 columns]"
      ]
     },
     "execution_count": 8,
     "metadata": {},
     "output_type": "execute_result"
    }
   ],
   "source": [
    "four"
   ]
  },
  {
   "cell_type": "code",
   "execution_count": null,
   "metadata": {},
   "outputs": [],
   "source": []
  },
  {
   "cell_type": "code",
   "execution_count": 9,
   "metadata": {},
   "outputs": [],
   "source": [
    "four = four[\"3\"]"
   ]
  },
  {
   "cell_type": "code",
   "execution_count": 10,
   "metadata": {},
   "outputs": [
    {
     "data": {
      "text/plain": [
       "1950     OPIc IL \n",
       "2089     OPIc IL \n",
       "Name: 3, dtype: object"
      ]
     },
     "execution_count": 10,
     "metadata": {},
     "output_type": "execute_result"
    }
   ],
   "source": [
    "four[four.str.contains(\"IL\")==True]"
   ]
  },
  {
   "cell_type": "code",
   "execution_count": 11,
   "metadata": {},
   "outputs": [],
   "source": [
    "df.at[four[four.str.contains(\"IL\")==True].index,[\"어학\"]]=four[four.str.contains(\"IL\")==True]"
   ]
  },
  {
   "cell_type": "code",
   "execution_count": 12,
   "metadata": {},
   "outputs": [],
   "source": [
    "four[four.str.contains(\"IL\")==True]=\"\""
   ]
  },
  {
   "cell_type": "code",
   "execution_count": 13,
   "metadata": {},
   "outputs": [
    {
     "data": {
      "text/plain": [
       "87      바디텍메드 인턴 (2개월), 학과 축구동아리 회장 1년, 교육봉사 28시간\n",
       "106     바디텍메드 인턴 (2개월), 학과 축구동아리 회장 1년, 교육봉사 28시간\n",
       "126     바디텍메드 인턴 (2개월), 학과 축구동아리 회장 1년, 교육봉사 28시간\n",
       "Name: 3, dtype: object"
      ]
     },
     "execution_count": 13,
     "metadata": {},
     "output_type": "execute_result"
    }
   ],
   "source": [
    "four[four.str.contains(\"축구\")==True]"
   ]
  },
  {
   "cell_type": "code",
   "execution_count": 14,
   "metadata": {},
   "outputs": [],
   "source": [
    "df.at[four[four.str.contains(\"축구\")==True].index,[\"경험사항\"]]=four[four.str.contains(\"축구\")==True]"
   ]
  },
  {
   "cell_type": "code",
   "execution_count": 15,
   "metadata": {},
   "outputs": [],
   "source": [
    "four[four.str.contains(\"축구\")==True]=\"\""
   ]
  },
  {
   "cell_type": "code",
   "execution_count": 16,
   "metadata": {},
   "outputs": [
    {
     "data": {
      "text/plain": [
       "268     아시아나 지상직원 근무 (1년2개월), 백석대학교 어문학부 학생회 (1년), 교내...\n",
       "340     아시아나 지상직원 근무 (1년2개월), 백석대학교 어문학부 학생회 (1년), 교내...\n",
       "360     아시아나 지상직원 근무 (1년2개월), 백석대학교 어문학부 학생회 (1년), 교내...\n",
       "Name: 3, dtype: object"
      ]
     },
     "execution_count": 16,
     "metadata": {},
     "output_type": "execute_result"
    }
   ],
   "source": [
    "four[four.str.contains(\"아시아나\")==True]"
   ]
  },
  {
   "cell_type": "code",
   "execution_count": 17,
   "metadata": {},
   "outputs": [],
   "source": [
    "df.at[four[four.str.contains(\"아시아나\")==True].index,[\"경험사항\"]]=four[four.str.contains(\"아시아나\")==True]"
   ]
  },
  {
   "cell_type": "code",
   "execution_count": 18,
   "metadata": {},
   "outputs": [],
   "source": [
    "four[four.str.contains(\"아시아나\")==True]=\"\""
   ]
  },
  {
   "cell_type": "code",
   "execution_count": 19,
   "metadata": {},
   "outputs": [
    {
     "data": {
      "text/plain": [
       "159     몽골해외 봉사, 교내 봉사 동아리, 공조냉동기계기사\n",
       "185     몽골해외 봉사, 교내 봉사 동아리, 공조냉동기계기사\n",
       "261     몽골해외 봉사, 교내 봉사 동아리, 공조냉동기계기사\n",
       "337     몽골해외 봉사, 교내 봉사 동아리, 공조냉동기계기사\n",
       "Name: 3, dtype: object"
      ]
     },
     "execution_count": 19,
     "metadata": {},
     "output_type": "execute_result"
    }
   ],
   "source": [
    "four[four.str.contains(\"몽골\")==True]"
   ]
  },
  {
   "cell_type": "code",
   "execution_count": 20,
   "metadata": {},
   "outputs": [],
   "source": [
    "df.at[four[four.str.contains(\"몽골\")==True].index,[\"경험사항\"]]=four[four.str.contains(\"몽골\")==True]"
   ]
  },
  {
   "cell_type": "code",
   "execution_count": 21,
   "metadata": {},
   "outputs": [],
   "source": [
    "four[four.str.contains(\"몽골\")==True]=\"\""
   ]
  },
  {
   "cell_type": "code",
   "execution_count": 22,
   "metadata": {},
   "outputs": [
    {
     "data": {
      "text/plain": [
       "4       컴활 1급, 한국사1급\n",
       "21      컴활 1급, 한국사1급\n",
       "38      컴활 1급, 한국사1급\n",
       "45      컴활 1급, 한국사1급\n",
       "405     컴활 1급, 한국사1급\n",
       "Name: 3, dtype: object"
      ]
     },
     "execution_count": 22,
     "metadata": {},
     "output_type": "execute_result"
    }
   ],
   "source": [
    "four[four.str.contains(\"컴활 1급, 한국사1급\")==True]"
   ]
  },
  {
   "cell_type": "code",
   "execution_count": 23,
   "metadata": {},
   "outputs": [],
   "source": [
    "df.at[four[four.str.contains(\"컴활 1급, 한국사1급\")==True].index,[\"자격증\"]]=four[four.str.contains(\"컴활 1급, 한국사1급\")==True]"
   ]
  },
  {
   "cell_type": "code",
   "execution_count": 24,
   "metadata": {},
   "outputs": [],
   "source": [
    "four[four.str.contains(\"컴활 1급, 한국사1급\")==True]=\"\""
   ]
  },
  {
   "cell_type": "code",
   "execution_count": 25,
   "metadata": {},
   "outputs": [
    {
     "data": {
      "text/plain": [
       "15      슈나이더일렉트릭코리아 대학생 공모전(9개월), 2018년 여름방학 현장실습 (4주) \n",
       "216     슈나이더일렉트릭코리아 대학생 공모전(9개월), 2018년 여름방학 현장실습 (4주) \n",
       "305     슈나이더일렉트릭코리아 대학생 공모전(9개월), 2018년 여름방학 현장실습 (4주) \n",
       "647     슈나이더일렉트릭코리아 대학생 공모전(9개월), 2018년 여름방학 현장실습 (4주) \n",
       "743     슈나이더일렉트릭코리아 대학생 공모전(9개월), 2018년 여름방학 현장실습 (4주) \n",
       "Name: 3, dtype: object"
      ]
     },
     "execution_count": 25,
     "metadata": {},
     "output_type": "execute_result"
    }
   ],
   "source": [
    "four[four.str.contains(\"슈나이더일렉트릭코리아\")==True]"
   ]
  },
  {
   "cell_type": "code",
   "execution_count": 26,
   "metadata": {},
   "outputs": [],
   "source": [
    "df.at[four[four.str.contains(\"슈나이더일렉트릭코리아\")==True].index,[\"경험사항\"]]=four[four.str.contains(\"슈나이더일렉트릭코리아\")==True]"
   ]
  },
  {
   "cell_type": "code",
   "execution_count": 27,
   "metadata": {},
   "outputs": [],
   "source": [
    "four[four.str.contains(\"슈나이더일렉트릭코리아\")==True]=\"\""
   ]
  },
  {
   "cell_type": "code",
   "execution_count": 28,
   "metadata": {},
   "outputs": [
    {
     "data": {
      "text/plain": [
       "17       (주)에이피피 학교 연계형 인턴 (2개월, 2018년 상반기), 재료연구소 체험형...\n",
       "80       (주)에이피피 학교 연계형 인턴 (2개월, 2018년 상반기), 재료연구소 체험형...\n",
       "83       (주)에이피피 학교 연계형 인턴 (2개월, 2018년 상반기), 재료연구소 체험형...\n",
       "113      (주)에이피피 학교 연계형 인턴 (2개월, 2018년 상반기), 재료연구소 체험형...\n",
       "133      (주)에이피피 학교 연계형 인턴 (2개월, 2018년 상반기), 재료연구소 체험형...\n",
       "153      (주)에이피피 학교 연계형 인턴 (2개월, 2018년 상반기), 재료연구소 체험형...\n",
       "179      (주)에이피피 학교 연계형 인턴 (2개월, 2018년 상반기), 재료연구소 체험형...\n",
       "208      (주)에이피피 학교 연계형 인턴 (2개월, 2018년 상반기), 재료연구소 체험형...\n",
       "265      (주)에이피피 학교 연계형 인턴 (2개월, 2018년 상반기), 재료연구소 체험형...\n",
       "335      (주)에이피피 학교 연계형 인턴 (2개월, 2018년 상반기), 재료연구소 체험형...\n",
       "578      (주)에이피피 학교 연계형 인턴 (2개월, 2018년 상반기), 재료연구소 체험형...\n",
       "646      (주)에이피피 학교 연계형 인턴 (2개월, 2018년 상반기), 재료연구소 체험형...\n",
       "652      (주)에이피피 학교 연계형 인턴 (2개월, 2018년 상반기), 재료연구소 체험형...\n",
       "740      (주)에이피피 학교 연계형 인턴 (2개월, 2018년 상반기), 재료연구소 체험형...\n",
       "747      (주)에이피피 학교 연계형 인턴 (2개월, 2018년 상반기), 재료연구소 체험형...\n",
       "769      (주)에이피피 학교 연계형 인턴 (2개월, 2018년 상반기), 재료연구소 체험형...\n",
       "1277     (주)에이피피 학교 연계형 인턴 (2개월, 2018년 상반기), 재료연구소 체험형...\n",
       "1364     (주)에이피피 학교 연계형 인턴 (2개월, 2018년 상반기), 재료연구소 체험형...\n",
       "Name: 3, dtype: object"
      ]
     },
     "execution_count": 28,
     "metadata": {},
     "output_type": "execute_result"
    }
   ],
   "source": [
    "four[four.str.contains(\"한국나노기술원\")==True]"
   ]
  },
  {
   "cell_type": "code",
   "execution_count": 29,
   "metadata": {},
   "outputs": [],
   "source": [
    "df.at[four[four.str.contains(\"한국나노기술원\")==True].index,[\"경험사항\"]]=four[four.str.contains(\"한국나노기술원\")==True]"
   ]
  },
  {
   "cell_type": "code",
   "execution_count": 30,
   "metadata": {},
   "outputs": [],
   "source": [
    "four[four.str.contains(\"한국나노기술원\")==True]=\"\""
   ]
  },
  {
   "cell_type": "code",
   "execution_count": 31,
   "metadata": {},
   "outputs": [
    {
     "data": {
      "text/plain": [
       "28     전산회계1급, ERP회계정보관리사 2급, ERP 인사정보관리사 2급\n",
       "50     전산회계1급, ERP회계정보관리사 2급, ERP 인사정보관리사 2급\n",
       "Name: 3, dtype: object"
      ]
     },
     "execution_count": 31,
     "metadata": {},
     "output_type": "execute_result"
    }
   ],
   "source": [
    "four[four.str.contains(\"전산회계1급, \")==True]"
   ]
  },
  {
   "cell_type": "code",
   "execution_count": 32,
   "metadata": {},
   "outputs": [],
   "source": [
    "df.at[four[four.str.contains(\"전산회계1급, \")==True].index,[\"자격증\"]]=four[four.str.contains(\"전산회계1급, \")==True]"
   ]
  },
  {
   "cell_type": "code",
   "execution_count": 33,
   "metadata": {},
   "outputs": [],
   "source": [
    "four[four.str.contains(\"전산회계1급, \")==True]=\"\""
   ]
  },
  {
   "cell_type": "code",
   "execution_count": 34,
   "metadata": {},
   "outputs": [
    {
     "data": {
      "text/plain": [
       "30     한국장애인고용공단 체험형 인턴(2018 상반기) \n",
       "51     한국장애인고용공단 체험형 인턴(2018 상반기) \n",
       "Name: 3, dtype: object"
      ]
     },
     "execution_count": 34,
     "metadata": {},
     "output_type": "execute_result"
    }
   ],
   "source": [
    "four[four.str.contains(\"한국장애인고용공단 \")==True]"
   ]
  },
  {
   "cell_type": "code",
   "execution_count": 35,
   "metadata": {},
   "outputs": [],
   "source": [
    "df.at[four[four.str.contains(\"한국장애인고용공단 \")==True].index,[\"경험사항\"]]=four[four.str.contains(\"한국장애인고용공단 \")==True]"
   ]
  },
  {
   "cell_type": "code",
   "execution_count": 36,
   "metadata": {},
   "outputs": [],
   "source": [
    "four[four.str.contains(\"한국장애인고용공단 \")==True]=\"\""
   ]
  },
  {
   "cell_type": "code",
   "execution_count": 37,
   "metadata": {},
   "outputs": [
    {
     "data": {
      "text/plain": [
       "61      백석대학교 어문학부 학생회 (1년), 교내 중국 국제교류 한국인 봉사자 (2주)\n",
       "89         백석대학교 어문학부 학생회 (1년), 교내 국제교류 한국인 봉사자 (2주)\n",
       "93      백석대학교 어문학부 학생회 (1년), 교내 중국 국제교류 한국인 봉사자 (2주)\n",
       "108        백석대학교 어문학부 학생회 (1년), 교내 국제교류 한국인 봉사자 (2주)\n",
       "128        백석대학교 어문학부 학생회 (1년), 교내 국제교류 한국인 봉사자 (2주)\n",
       "Name: 3, dtype: object"
      ]
     },
     "execution_count": 37,
     "metadata": {},
     "output_type": "execute_result"
    }
   ],
   "source": [
    "four[four.str.contains(\"백석대학교\")==True]"
   ]
  },
  {
   "cell_type": "code",
   "execution_count": 38,
   "metadata": {},
   "outputs": [],
   "source": [
    "df.at[four[four.str.contains(\"백석대학교\")==True].index,[\"경험사항\"]]=four[four.str.contains(\"백석대학교\")==True]"
   ]
  },
  {
   "cell_type": "code",
   "execution_count": 39,
   "metadata": {},
   "outputs": [],
   "source": [
    "four[four.str.contains(\"백석대학교\")==True]=\"\""
   ]
  },
  {
   "cell_type": "code",
   "execution_count": 40,
   "metadata": {},
   "outputs": [
    {
     "data": {
      "text/plain": [
       "32       컴퓨터활용능력 2급, 한국사 1급, 재경관리사, 정보처리기사\n",
       "54       컴퓨터활용능력 2급, 한국사 1급, 재경관리사, 정보처리기사\n",
       "74                재경관리사, 사무자동화산업기사, 정보처리기사\n",
       "115       재경관리사, 정보처리기사, 사무자동화산업기사, 워드프로세서\n",
       "135       재경관리사, 정보처리기사, 사무자동화산업기사, 워드프로세서\n",
       "161       재경관리사, 정보처리기사, 사무자동화산업기사, 워드프로세서\n",
       "204                                 재경관리사 \n",
       "395                                 재경관리사 \n",
       "436                                 재경관리사 \n",
       "448                                 재경관리사 \n",
       "459     재경관리사, 정보처리산업기사, 사무자동화산업기사, 워드프로세서\n",
       "460                                 재경관리사 \n",
       "474                                 재경관리사 \n",
       "480                                 재경관리사 \n",
       "494                                 재경관리사 \n",
       "522                                 재경관리사 \n",
       "529                                 재경관리사 \n",
       "542     재경관리사, 정보처리산업기사, 사무자동화산업기사, 워드프로세서\n",
       "550                                 재경관리사 \n",
       "553                                 재경관리사 \n",
       "Name: 3, dtype: object"
      ]
     },
     "execution_count": 40,
     "metadata": {},
     "output_type": "execute_result"
    }
   ],
   "source": [
    "four[four.str.contains(\"재경관리사\")==True]"
   ]
  },
  {
   "cell_type": "code",
   "execution_count": 41,
   "metadata": {},
   "outputs": [],
   "source": [
    "df.at[four[four.str.contains(\"재경관리사\")==True].index,[\"자격증\"]]=four[four.str.contains(\"재경관리사\")==True]"
   ]
  },
  {
   "cell_type": "code",
   "execution_count": 42,
   "metadata": {},
   "outputs": [],
   "source": [
    "four[four.str.contains(\"재경관리사\")==True]=\"\""
   ]
  },
  {
   "cell_type": "code",
   "execution_count": 43,
   "metadata": {},
   "outputs": [
    {
     "data": {
      "text/plain": [
       "3545     교육봉사 1\n",
       "3546     교육봉사 1\n",
       "Name: 3, dtype: object"
      ]
     },
     "execution_count": 43,
     "metadata": {},
     "output_type": "execute_result"
    }
   ],
   "source": [
    "four[four.str.contains(\"교육봉사 1\")==True]"
   ]
  },
  {
   "cell_type": "code",
   "execution_count": 44,
   "metadata": {},
   "outputs": [],
   "source": [
    "df.at[four[four.str.contains(\"교육봉사 1\")==True].index,[\"경험사항\"]]=four[four.str.contains(\"교육봉사 1\")==True]"
   ]
  },
  {
   "cell_type": "code",
   "execution_count": 45,
   "metadata": {},
   "outputs": [],
   "source": [
    "four[four.str.contains(\"교육봉사 1\")==True]=\"\""
   ]
  },
  {
   "cell_type": "code",
   "execution_count": 46,
   "metadata": {},
   "outputs": [
    {
     "data": {
      "text/plain": [
       "141     교내 범죄학논문대회 2등\n",
       "176     교내 범죄학논문대회 2등\n",
       "Name: 3, dtype: object"
      ]
     },
     "execution_count": 46,
     "metadata": {},
     "output_type": "execute_result"
    }
   ],
   "source": [
    "four[four.str.contains(\"범죄학\")==True]"
   ]
  },
  {
   "cell_type": "code",
   "execution_count": 47,
   "metadata": {},
   "outputs": [],
   "source": [
    "df.at[four[four.str.contains(\"범죄학\")==True].index,[\"경험사항\"]]=four[four.str.contains(\"범죄학\")==True]"
   ]
  },
  {
   "cell_type": "code",
   "execution_count": 48,
   "metadata": {},
   "outputs": [],
   "source": [
    "four[four.str.contains(\"범죄학\")==True]=\"\""
   ]
  },
  {
   "cell_type": "code",
   "execution_count": 49,
   "metadata": {},
   "outputs": [
    {
     "data": {
      "text/plain": [
       "144     KT&G 상상마케팅스쿨 2018하반기 우수상(2위) 수상 \n",
       "174     KT&G 상상마케팅스쿨 2018하반기 우수상(2위) 수상 \n",
       "Name: 3, dtype: object"
      ]
     },
     "execution_count": 49,
     "metadata": {},
     "output_type": "execute_result"
    }
   ],
   "source": [
    "four[four.str.contains(\"2018하반기 우수상\")==True]"
   ]
  },
  {
   "cell_type": "code",
   "execution_count": 50,
   "metadata": {},
   "outputs": [],
   "source": [
    "df.at[four[four.str.contains(\"2018하반기 우수상\")==True].index,[\"경험사항\"]]=four[four.str.contains(\"2018하반기 우수상\")==True]"
   ]
  },
  {
   "cell_type": "code",
   "execution_count": 51,
   "metadata": {},
   "outputs": [],
   "source": [
    "four[four.str.contains(\"2018하반기 우수상\")==True]=\"\""
   ]
  },
  {
   "cell_type": "code",
   "execution_count": 52,
   "metadata": {},
   "outputs": [
    {
     "data": {
      "text/plain": [
       "195     롯데자산개발 계약직(3개월), 철도기술연구원 계약직(3개월) 동원시스템즈 인턴 (...\n",
       "Name: 3, dtype: object"
      ]
     },
     "execution_count": 52,
     "metadata": {},
     "output_type": "execute_result"
    }
   ],
   "source": [
    "four[four.str.contains(\"롯데자산개발\")==True]"
   ]
  },
  {
   "cell_type": "code",
   "execution_count": 53,
   "metadata": {},
   "outputs": [],
   "source": [
    "df.at[four[four.str.contains(\"롯데자산개발\")==True].index,[\"경험사항\"]]=four[four.str.contains(\"롯데자산개발\")==True]"
   ]
  },
  {
   "cell_type": "code",
   "execution_count": 54,
   "metadata": {},
   "outputs": [],
   "source": [
    "four[four.str.contains(\"롯데자산개발\")==True]=\"\""
   ]
  },
  {
   "cell_type": "code",
   "execution_count": 55,
   "metadata": {},
   "outputs": [
    {
     "data": {
      "text/plain": [
       "209     고용노동부 청년취업아카데미(2개월)\n",
       "228     고용노동부 청년취업아카데미(2개월)\n",
       "248     고용노동부 청년취업아카데미(2개월)\n",
       "306     고용노동부 청년취업아카데미(2개월)\n",
       "318     고용노동부 청년취업아카데미(2개월)\n",
       "413     고용노동부 청년취업아카데미(2개월)\n",
       "414     고용노동부 청년취업아카데미(2개월)\n",
       "458     고용노동부 청년취업아카데미(2개월)\n",
       "501     고용노동부 청년취업아카데미(2개월)\n",
       "502     고용노동부 청년취업아카데미(2개월)\n",
       "649     고용노동부 청년취업아카데미(2개월)\n",
       "744     고용노동부 청년취업아카데미(2개월)\n",
       "Name: 3, dtype: object"
      ]
     },
     "execution_count": 55,
     "metadata": {},
     "output_type": "execute_result"
    }
   ],
   "source": [
    "four[four.str.contains(\"고용노동부\")==True]"
   ]
  },
  {
   "cell_type": "code",
   "execution_count": 56,
   "metadata": {},
   "outputs": [],
   "source": [
    "df.at[four[four.str.contains(\"고용노동부\")==True].index,[\"경험사항\"]]=four[four.str.contains(\"고용노동부\")==True]"
   ]
  },
  {
   "cell_type": "code",
   "execution_count": 57,
   "metadata": {},
   "outputs": [],
   "source": [
    "four[four.str.contains(\"고용노동부\")==True]=\"\""
   ]
  },
  {
   "cell_type": "code",
   "execution_count": 58,
   "metadata": {},
   "outputs": [
    {
     "data": {
      "text/plain": [
       "212     휴먼 번역 핀챗 6기, 해외송금 모인 서포터즈 2기, 고우해커스 지구촌 특파원 2...\n",
       "309     휴먼 번역 핀챗 6기, 해외송금 모인 서포터즈 2기, 고우해커스 지구촌 특파원 2...\n",
       "Name: 3, dtype: object"
      ]
     },
     "execution_count": 58,
     "metadata": {},
     "output_type": "execute_result"
    }
   ],
   "source": [
    "four[four.str.contains(\"해외송금\")==True]"
   ]
  },
  {
   "cell_type": "code",
   "execution_count": 59,
   "metadata": {},
   "outputs": [],
   "source": [
    "df.at[four[four.str.contains(\"해외송금\")==True].index,[\"경험사항\"]]=four[four.str.contains(\"해외송금\")==True]"
   ]
  },
  {
   "cell_type": "code",
   "execution_count": 60,
   "metadata": {},
   "outputs": [],
   "source": [
    "four[four.str.contains(\"해외송금\")==True]=\"\""
   ]
  },
  {
   "cell_type": "code",
   "execution_count": 61,
   "metadata": {},
   "outputs": [
    {
     "data": {
      "text/plain": [
       "219       학점 3.69?(3.51\n",
       "313       학점 3.69?(3.51\n",
       "461              학점 2.8\n",
       "481              학점 2.8\n",
       "551              학점 2.8\n",
       "              ...      \n",
       "9724             학점 3.7\n",
       "9812           학점 3.58 \n",
       "9830           학점 3.84 \n",
       "9839             학점 3.7\n",
       "10069           학점 3.5 \n",
       "Name: 3, Length: 196, dtype: object"
      ]
     },
     "execution_count": 61,
     "metadata": {},
     "output_type": "execute_result"
    }
   ],
   "source": [
    "four[four.str.contains(\"학점\")==True]"
   ]
  },
  {
   "cell_type": "code",
   "execution_count": 62,
   "metadata": {},
   "outputs": [],
   "source": [
    "df.at[four[four.str.contains(\"학점\")==True].index,[\"학점\"]]=four[four.str.contains(\"학점\")==True]"
   ]
  },
  {
   "cell_type": "code",
   "execution_count": 63,
   "metadata": {},
   "outputs": [],
   "source": [
    "four[four.str.contains(\"학점\")==True]=\"\""
   ]
  },
  {
   "cell_type": "code",
   "execution_count": 64,
   "metadata": {},
   "outputs": [
    {
     "data": {
      "text/plain": [
       "225    4점초반 \n",
       "245    4점초반 \n",
       "323    4점초반 \n",
       "Name: 3, dtype: object"
      ]
     },
     "execution_count": 64,
     "metadata": {},
     "output_type": "execute_result"
    }
   ],
   "source": [
    "four[four.str.contains(\"4점\")==True]"
   ]
  },
  {
   "cell_type": "code",
   "execution_count": 65,
   "metadata": {},
   "outputs": [],
   "source": [
    "four[four.str.contains(\"4점\")==True]=\"학점 4.0\""
   ]
  },
  {
   "cell_type": "code",
   "execution_count": 66,
   "metadata": {},
   "outputs": [],
   "source": [
    "df.at[four[four.str.contains(\"학점 4.0\")==True].index,[\"학점\"]]=four[four.str.contains(\"학점 4.0\")==True]"
   ]
  },
  {
   "cell_type": "code",
   "execution_count": 67,
   "metadata": {},
   "outputs": [],
   "source": [
    "four[four.str.contains(\"학점 4.0\")==True]=\"\""
   ]
  },
  {
   "cell_type": "code",
   "execution_count": 68,
   "metadata": {},
   "outputs": [
    {
     "data": {
      "text/plain": [
       "2791     한국전력공사 인턴 수료(2017 상반기) \n",
       "2921     한국전력공사 인턴 수료(2017 상반기) \n",
       "Name: 3, dtype: object"
      ]
     },
     "execution_count": 68,
     "metadata": {},
     "output_type": "execute_result"
    }
   ],
   "source": [
    "four[four.str.contains(\"한국전력공사 인턴 수료\")==True]"
   ]
  },
  {
   "cell_type": "code",
   "execution_count": 69,
   "metadata": {},
   "outputs": [],
   "source": [
    "df.at[four[four.str.contains(\"한국전력공사 인턴 수료\")==True].index,[\"경험사항\"]]=four[four.str.contains(\"한국전력공사 인턴 수료\")==True]"
   ]
  },
  {
   "cell_type": "code",
   "execution_count": 70,
   "metadata": {},
   "outputs": [],
   "source": [
    "four[four.str.contains(\"한국전력공사 인턴 수료\")==True]=\"\""
   ]
  },
  {
   "cell_type": "code",
   "execution_count": 71,
   "metadata": {},
   "outputs": [
    {
     "data": {
      "text/plain": [
       "275      관세청 정책기자단 2기\n",
       "347      관세청 정책기자단 2기\n",
       "367      관세청 정책기자단 2기\n",
       "561      관세청 정책기자단 2기\n",
       "585      관세청 정책기자단 2기\n",
       "605      관세청 정책기자단 2기\n",
       "660      관세청 정책기자단 2기\n",
       "698      관세청 정책기자단 2기\n",
       "745      관세청 정책기자단 2기\n",
       "766      관세청 정책기자단 2기\n",
       "1117     관세청 정책기자단 2기\n",
       "1183     관세청 정책기자단 2기\n",
       "1203     관세청 정책기자단 2기\n",
       "1366     관세청 정책기자단 2기\n",
       "1387     관세청 정책기자단 2기\n",
       "Name: 3, dtype: object"
      ]
     },
     "execution_count": 71,
     "metadata": {},
     "output_type": "execute_result"
    }
   ],
   "source": [
    "four[four.str.contains(\"관세청 정책기자단 2기\")==True]"
   ]
  },
  {
   "cell_type": "code",
   "execution_count": 72,
   "metadata": {},
   "outputs": [],
   "source": [
    "df.at[four[four.str.contains(\"관세청 정책기자단 2기\")==True].index,[\"경험사항\"]]=four[four.str.contains(\"관세청 정책기자단 2기\")==True]"
   ]
  },
  {
   "cell_type": "code",
   "execution_count": 73,
   "metadata": {},
   "outputs": [],
   "source": [
    "four[four.str.contains(\"관세청 정책기자단 2기\")==True]=\"\""
   ]
  },
  {
   "cell_type": "code",
   "execution_count": 74,
   "metadata": {},
   "outputs": [
    {
     "data": {
      "text/plain": [
       "269     청년TLO근무 (19.05.01~19.10.30), 돌봄교실 봉사단(17.08.0...\n",
       "279     청년TLO근무 (19.05.01~19.10.30)\\n 돌봄교실 봉사단(17.08....\n",
       "341     청년TLO근무 (19.05.01~19.10.30), 돌봄교실 봉사단(17.08.0...\n",
       "346     청년TLO근무 (19.05.01~19.10.30)\\n 돌봄교실 봉사단(17.08....\n",
       "361     청년TLO근무 (19.05.01~19.10.30), 돌봄교실 봉사단(17.08.0...\n",
       "366     청년TLO근무 (19.05.01~19.10.30)\\n 돌봄교실 봉사단(17.08....\n",
       "418     청년TLO근무 (19.05.01~19.10.30), 돌봄교실 봉사단(17.08.0...\n",
       "428     청년TLO근무 (19.05.01~19.10.30), 돌봄교실 봉사단(17.08.0...\n",
       "450     청년TLO근무 (19.05.01~19.10.30), 돌봄교실 봉사단(17.08.0...\n",
       "513     청년TLO근무 (19.05.01~19.10.30), 돌봄교실 봉사단(17.08.0...\n",
       "531     청년TLO근무 (19.05.01~19.10.30), 돌봄교실 봉사단(17.08.0...\n",
       "644     청년TLO근무 (19.05.01~19.10.30), 돌봄교실 봉사단(17.08.0...\n",
       "679     청년TLO근무 (19.05.01~19.10.30), 돌봄교실 봉사단(17.08.0...\n",
       "719     청년TLO근무 (19.05.01~19.10.30), 돌봄교실 봉사단(17.08.0...\n",
       "739     청년TLO근무 (19.05.01~19.10.30), 돌봄교실 봉사단(17.08.0...\n",
       "765     청년TLO근무 (19.05.01~19.10.30), 돌봄교실 봉사단(17.08.0...\n",
       "Name: 3, dtype: object"
      ]
     },
     "execution_count": 74,
     "metadata": {},
     "output_type": "execute_result"
    }
   ],
   "source": [
    "four[four.str.contains(\"TLO\")==True]"
   ]
  },
  {
   "cell_type": "code",
   "execution_count": 75,
   "metadata": {},
   "outputs": [],
   "source": [
    "df.at[four[four.str.contains(\"TLO\")==True].index,[\"경험사항\"]]=four[four.str.contains(\"TLO\")==True]"
   ]
  },
  {
   "cell_type": "code",
   "execution_count": 76,
   "metadata": {},
   "outputs": [],
   "source": [
    "four[four.str.contains(\"TLO\")==True]=\"\""
   ]
  },
  {
   "cell_type": "code",
   "execution_count": 77,
   "metadata": {},
   "outputs": [
    {
     "data": {
      "text/plain": [
       "Series([], Name: 3, dtype: object)"
      ]
     },
     "execution_count": 77,
     "metadata": {},
     "output_type": "execute_result"
    }
   ],
   "source": [
    "four[four.isin([\"컴퓨터활용능력 2급\"])==True]"
   ]
  },
  {
   "cell_type": "code",
   "execution_count": 78,
   "metadata": {},
   "outputs": [
    {
     "data": {
      "text/plain": [
       "1110     컴퓨터활용능력 2급, 한국사능력검정1급, 토목기사\n",
       "1177     컴퓨터활용능력 2급, 한국사능력검정1급, 토목기사\n",
       "Name: 3, dtype: object"
      ]
     },
     "execution_count": 78,
     "metadata": {},
     "output_type": "execute_result"
    }
   ],
   "source": [
    "four[four.str.find(\"컴퓨터활용능력 2급, 한국사\")==True]"
   ]
  },
  {
   "cell_type": "code",
   "execution_count": 79,
   "metadata": {},
   "outputs": [],
   "source": [
    "df.at[four[four.str.find(\"컴퓨터활용능력 2급, 한국사\")==True].index,[\"자격증\"]]=four[four.str.find(\"컴퓨터활용능력 2급, 한국사\")==True]"
   ]
  },
  {
   "cell_type": "code",
   "execution_count": 80,
   "metadata": {},
   "outputs": [],
   "source": [
    "four[four.str.find(\"컴퓨터활용능력 2급, 한국사\")==True]=\"\""
   ]
  },
  {
   "cell_type": "code",
   "execution_count": 81,
   "metadata": {},
   "outputs": [
    {
     "data": {
      "text/plain": [
       "5                                              컴퓨터활용능력 2급\n",
       "36       경북대학교 이종격투기 동아리 회장 (12개월), 경북대학교 총동아리연합회 홍보부장...\n",
       "37       컴퓨터활용능력 2급, 사무자동화산업기사, 한국사능력검정시험 2급, ERP정보관리사...\n",
       "58       경북대학교 이종격투기 동아리 회장 (12개월), 경북대학교 총동아리연합회 홍보부장...\n",
       "59       컴퓨터활용능력 2급, 사무자동화산업기사, 한국사능력검정시험 2급, ERP정보관리사...\n",
       "                              ...                        \n",
       "3149                                           컴퓨터활용능력 2급\n",
       "3169                                           컴퓨터활용능력 2급\n",
       "3246                                           컴퓨터활용능력 2급\n",
       "3358     교내 창업동아리(1년), 에너지인력양성사업(1년), 해외취업프론티어(6개월), 기...\n",
       "3475     교내 창업동아리(1년), 에너지인력양성사업(1년), 해외취업프론티어(6개월), 기...\n",
       "Name: 3, Length: 64, dtype: object"
      ]
     },
     "execution_count": 81,
     "metadata": {},
     "output_type": "execute_result"
    }
   ],
   "source": [
    "four[four.str.contains(\"컴퓨터활용능력 2급\")==True]"
   ]
  },
  {
   "cell_type": "code",
   "execution_count": 82,
   "metadata": {},
   "outputs": [
    {
     "data": {
      "text/plain": [
       "29                정보처리기사 \n",
       "47                정보처리기사 \n",
       "6834     정보처리기사 ccna mcse\n",
       "7065     정보처리기사 ccna mcse\n",
       "Name: 3, dtype: object"
      ]
     },
     "execution_count": 82,
     "metadata": {},
     "output_type": "execute_result"
    }
   ],
   "source": [
    "four[four.str.find(\"정보처리기사 \")==True]"
   ]
  },
  {
   "cell_type": "code",
   "execution_count": 83,
   "metadata": {},
   "outputs": [],
   "source": [
    "df.at[four[four.str.find(\"정보처리기사 \")==True].index,[\"자격증\"]]=four[four.str.find(\"정보처리기사 \")==True]"
   ]
  },
  {
   "cell_type": "code",
   "execution_count": 84,
   "metadata": {},
   "outputs": [],
   "source": [
    "four[four.str.find(\"정보처리기사 \")==True]=\"\""
   ]
  },
  {
   "cell_type": "code",
   "execution_count": 85,
   "metadata": {},
   "outputs": [
    {
     "data": {
      "text/plain": [
       "82     한국사 1급 \n",
       "Name: 3, dtype: object"
      ]
     },
     "execution_count": 85,
     "metadata": {},
     "output_type": "execute_result"
    }
   ],
   "source": [
    "four[four.str.find(\"한국사 \")==True]"
   ]
  },
  {
   "cell_type": "code",
   "execution_count": 86,
   "metadata": {},
   "outputs": [],
   "source": [
    "df.at[four[four.str.find(\"한국사 \")==True].index,[\"자격증\"]]=four[four.str.find(\"한국사 \")==True]"
   ]
  },
  {
   "cell_type": "code",
   "execution_count": 87,
   "metadata": {},
   "outputs": [],
   "source": [
    "four[four.str.find(\"한국사 \")==True]=\"\""
   ]
  },
  {
   "cell_type": "code",
   "execution_count": 88,
   "metadata": {},
   "outputs": [
    {
     "data": {
      "text/plain": [
       "417     컴활2급, 투자자산운용사\n",
       "582     컴활2급, 투자자산운용사\n",
       "602     컴활2급, 투자자산운용사\n",
       "Name: 3, dtype: object"
      ]
     },
     "execution_count": 88,
     "metadata": {},
     "output_type": "execute_result"
    }
   ],
   "source": [
    "four[four.str.contains(\"투자자산\")==True]"
   ]
  },
  {
   "cell_type": "code",
   "execution_count": 89,
   "metadata": {},
   "outputs": [],
   "source": [
    "df.at[four[four.str.contains(\"투자자산\")==True].index,[\"자격증\"]]=four[four.str.contains(\"투자자산\")==True]\n"
   ]
  },
  {
   "cell_type": "code",
   "execution_count": 90,
   "metadata": {},
   "outputs": [],
   "source": [
    "four[four.str.contains(\"투자자산\")==True]=\"\""
   ]
  },
  {
   "cell_type": "code",
   "execution_count": 91,
   "metadata": {},
   "outputs": [
    {
     "data": {
      "text/plain": [
       "589      정보처리기사\n",
       "595      정보처리기사\n",
       "609      정보처리기사\n",
       "615      정보처리기사\n",
       "681      정보처리기사\n",
       "692      정보처리기사\n",
       "1036     정보처리기사\n",
       "1129     정보처리기사\n",
       "3070     정보처리기사\n",
       "3184     정보처리기사\n",
       "Name: 3, dtype: object"
      ]
     },
     "execution_count": 91,
     "metadata": {},
     "output_type": "execute_result"
    }
   ],
   "source": [
    "four[four.str.contains(\"정보처리기사$\")==True]"
   ]
  },
  {
   "cell_type": "code",
   "execution_count": 92,
   "metadata": {},
   "outputs": [],
   "source": [
    "df.at[four[four.str.contains(\"정보처리기사$\")==True].index,[\"자격증\"]]=four[four.str.contains(\"정보처리기사$\")==True]\n"
   ]
  },
  {
   "cell_type": "code",
   "execution_count": 93,
   "metadata": {},
   "outputs": [],
   "source": [
    "four[four.str.contains(\"정보처리기사$\")==True]=\"\""
   ]
  },
  {
   "cell_type": "code",
   "execution_count": 94,
   "metadata": {},
   "outputs": [
    {
     "data": {
      "text/plain": [
       "201                  토목기사\n",
       "234                  토목기사\n",
       "237                  토목기사\n",
       "254                  토목기사\n",
       "257                  토목기사\n",
       "328                  토목기사\n",
       "329                  토목기사\n",
       "567      컴퓨터활용능력 1급, 토목기사\n",
       "587      컴퓨터활용능력 1급, 토목기사\n",
       "588                  토목기사\n",
       "591                  토목기사\n",
       "607      컴퓨터활용능력 1급, 토목기사\n",
       "608                  토목기사\n",
       "611                  토목기사\n",
       "662      컴퓨터활용능력 1급, 토목기사\n",
       "677      컴퓨터활용능력 1급, 토목기사\n",
       "684                  토목기사\n",
       "686      컴퓨터활용능력 1급, 토목기사\n",
       "687                  토목기사\n",
       "753      컴퓨터활용능력 1급, 토목기사\n",
       "1227                 토목기사\n",
       "Name: 3, dtype: object"
      ]
     },
     "execution_count": 94,
     "metadata": {},
     "output_type": "execute_result"
    }
   ],
   "source": [
    "four[four.str.contains(\"토목기사$\")==True]"
   ]
  },
  {
   "cell_type": "code",
   "execution_count": 95,
   "metadata": {},
   "outputs": [],
   "source": [
    "df.at[four[four.str.contains(\"토목기사$\")==True].index,[\"자격증\"]]=four[four.str.contains(\"토목기사$\")==True]\n"
   ]
  },
  {
   "cell_type": "code",
   "execution_count": 96,
   "metadata": {},
   "outputs": [],
   "source": [
    "four[four.str.contains(\"토목기사$\")==True]=\"\""
   ]
  },
  {
   "cell_type": "code",
   "execution_count": 97,
   "metadata": {},
   "outputs": [
    {
     "data": {
      "text/plain": [
       "671     품질경영기사, 컴활 2급\n",
       "760     품질경영기사, 컴활 2급\n",
       "Name: 3, dtype: object"
      ]
     },
     "execution_count": 97,
     "metadata": {},
     "output_type": "execute_result"
    }
   ],
   "source": [
    "four[four.str.contains(\"품질경영기사\")==True]"
   ]
  },
  {
   "cell_type": "code",
   "execution_count": 98,
   "metadata": {},
   "outputs": [],
   "source": [
    "df.at[four[four.str.contains(\"품질경영기사\")==True].index,[\"자격증\"]]=four[four.str.contains(\"품질경영기사\")==True]\n"
   ]
  },
  {
   "cell_type": "code",
   "execution_count": 99,
   "metadata": {},
   "outputs": [],
   "source": [
    "four[four.str.contains(\"품질경영기사\")==True]=\"\""
   ]
  },
  {
   "cell_type": "code",
   "execution_count": 100,
   "metadata": {},
   "outputs": [
    {
     "data": {
      "text/plain": [
       "1419    4.00 \n",
       "1433    4.00 \n",
       "1453    4.00 \n",
       "3376    4.00 \n",
       "3498    4.00 \n",
       "6931    4.00 \n",
       "7151    4.00 \n",
       "Name: 3, dtype: object"
      ]
     },
     "execution_count": 100,
     "metadata": {},
     "output_type": "execute_result"
    }
   ],
   "source": [
    "four[four.str.contains(\"4.00\")==True]"
   ]
  },
  {
   "cell_type": "code",
   "execution_count": 101,
   "metadata": {},
   "outputs": [],
   "source": [
    "df.at[four[four.str.contains(\"4.00\")==True].index,[\"학점\"]]=four[four.str.contains(\"4.00\")==True]\n"
   ]
  },
  {
   "cell_type": "code",
   "execution_count": 102,
   "metadata": {},
   "outputs": [],
   "source": [
    "four[four.str.contains(\"4.00\")==True]=\"\""
   ]
  },
  {
   "cell_type": "code",
   "execution_count": 103,
   "metadata": {},
   "outputs": [
    {
     "data": {
      "text/plain": [
       "793     안랩 학생기자단, 생산성본부 주관 AI 성과발표회 우수상\n",
       "804     안랩 학생기자단, 생산성본부 주관 AI 성과발표회 우수상\n",
       "Name: 3, dtype: object"
      ]
     },
     "execution_count": 103,
     "metadata": {},
     "output_type": "execute_result"
    }
   ],
   "source": [
    "four[four.str.contains(\"성과발표회 우수상\")==True]"
   ]
  },
  {
   "cell_type": "code",
   "execution_count": 104,
   "metadata": {},
   "outputs": [],
   "source": [
    "df.at[four[four.str.contains(\"성과발표회 우수상\")==True].index,[\"경험사항\"]]=four[four.str.contains(\"성과발표회 우수상\")==True]\n"
   ]
  },
  {
   "cell_type": "code",
   "execution_count": 105,
   "metadata": {},
   "outputs": [],
   "source": [
    "four[four.str.contains(\"성과발표회 우수상\")==True]=\"\""
   ]
  },
  {
   "cell_type": "code",
   "execution_count": 106,
   "metadata": {},
   "outputs": [
    {
     "data": {
      "text/plain": [
       "423      4.5 \n",
       "511      4.5 \n",
       "813      4.5 \n",
       "822      4.5 \n",
       "842      4.5 \n",
       "         ... \n",
       "9989     4.5 \n",
       "9990     4.5 \n",
       "10009    4.5 \n",
       "10010    4.5 \n",
       "10075    4.5 \n",
       "Name: 3, Length: 217, dtype: object"
      ]
     },
     "execution_count": 106,
     "metadata": {},
     "output_type": "execute_result"
    }
   ],
   "source": [
    "four[four.str.contains(\"4.5\")==True]"
   ]
  },
  {
   "cell_type": "code",
   "execution_count": 107,
   "metadata": {},
   "outputs": [],
   "source": [
    "df.at[four[four.str.contains(\"4.5\")==True].index,[\"학점\"]]=four[four.str.contains(\"4.5\")==True]\n"
   ]
  },
  {
   "cell_type": "code",
   "execution_count": 108,
   "metadata": {},
   "outputs": [],
   "source": [
    "four[four.str.contains(\"4.5\")==True]=\"\""
   ]
  },
  {
   "cell_type": "code",
   "execution_count": 109,
   "metadata": {},
   "outputs": [
    {
     "data": {
      "text/plain": [
       "814     세계 여행 3년, 물류 포워딩 업체 근무 경험\n",
       "823     세계 여행 3년, 물류 포워딩 업체 근무 경험\n",
       "843     세계 여행 3년, 물류 포워딩 업체 근무 경험\n",
       "Name: 3, dtype: object"
      ]
     },
     "execution_count": 109,
     "metadata": {},
     "output_type": "execute_result"
    }
   ],
   "source": [
    "four[four.str.contains(\"세계 여행\")==True]"
   ]
  },
  {
   "cell_type": "code",
   "execution_count": 110,
   "metadata": {},
   "outputs": [],
   "source": [
    "df.at[four[four.str.contains(\"세계 여행\")==True].index,[\"경험사항\"]]=four[four.str.contains(\"세계 여행\")==True]\n"
   ]
  },
  {
   "cell_type": "code",
   "execution_count": 111,
   "metadata": {},
   "outputs": [],
   "source": [
    "four[four.str.contains(\"세계 여행\")==True]=\"\""
   ]
  },
  {
   "cell_type": "code",
   "execution_count": 112,
   "metadata": {},
   "outputs": [
    {
     "data": {
      "text/plain": [
       "895      인턴 1, 대외활동 2\n",
       "993      인턴 1, 대외활동 2\n",
       "5722     인턴 1, 대외활동 2\n",
       "5762     인턴 1, 대외활동 2\n",
       "Name: 3, dtype: object"
      ]
     },
     "execution_count": 112,
     "metadata": {},
     "output_type": "execute_result"
    }
   ],
   "source": [
    "four[four.str.contains(\"인턴 1, 대외활동\")==True]"
   ]
  },
  {
   "cell_type": "code",
   "execution_count": 113,
   "metadata": {},
   "outputs": [],
   "source": [
    "df.at[four[four.str.contains(\"인턴 1, 대외활동\")==True].index,[\"경험사항\"]]=four[four.str.contains(\"인턴 1, 대외활동\")==True]\n"
   ]
  },
  {
   "cell_type": "code",
   "execution_count": 114,
   "metadata": {},
   "outputs": [],
   "source": [
    "four[four.str.contains(\"인턴 1, 대외활동\")==True]=\"\""
   ]
  },
  {
   "cell_type": "code",
   "execution_count": 115,
   "metadata": {},
   "outputs": [
    {
     "data": {
      "text/plain": [
       "869           4.3 \n",
       "915           4.3 \n",
       "1543     4.3, 3.63\n",
       "1563     4.3, 3.63\n",
       "2225          4.3 \n",
       "2383          4.3 \n",
       "2403          4.3 \n",
       "3738     4.3 (석사) \n",
       "3839     4.3 (석사) \n",
       "3953          4.3 \n",
       "5251          4.3 \n",
       "5281          4.3 \n",
       "5285          4.3 \n",
       "5295          4.3 \n",
       "5364          4.3 \n",
       "5406          4.3 \n",
       "5430          4.3 \n",
       "5436          4.3 \n",
       "5450          4.3 \n",
       "5456          4.3 \n",
       "5462          4.3 \n",
       "5513          4.3 \n",
       "5947     (석사)4.32 \n",
       "6151     (석사)4.32 \n",
       "6171     (석사)4.32 \n",
       "6250       4.3(석) \n",
       "6380          4.3 \n",
       "6400          4.3 \n",
       "6475          4.3 \n",
       "6613          4.3 \n",
       "6682          4.3 \n",
       "6797          4.3 \n",
       "6869       4.3(석) \n",
       "6889       4.3(석) \n",
       "7031          4.3 \n",
       "7948          4.3 \n",
       "7968          4.3 \n",
       "8055          4.3 \n",
       "8138          4.3 \n",
       "8355          4.3 \n",
       "8415          4.3 \n",
       "8591          4.3 \n",
       "8724          4.3 \n",
       "8740          4.3 \n",
       "8833          4.3 \n",
       "8854     석사(4.36) \n",
       "8877          4.3 \n",
       "8890          4.3 \n",
       "8937          4.3 \n",
       "9014          4.3 \n",
       "9044     석사(4.36) \n",
       "9134          4.3 \n",
       "9502          4.3 \n",
       "9507          4.3 \n",
       "9792          4.3 \n",
       "9877          4.3 \n",
       "9897          4.3 \n",
       "9946          4.3 \n",
       "Name: 3, dtype: object"
      ]
     },
     "execution_count": 115,
     "metadata": {},
     "output_type": "execute_result"
    }
   ],
   "source": [
    "four[four.str.contains(\"4.3\")==True]"
   ]
  },
  {
   "cell_type": "code",
   "execution_count": 116,
   "metadata": {},
   "outputs": [],
   "source": [
    "df.at[four[four.str.contains(\"4.3\")==True].index,[\"학점\"]]=four[four.str.contains(\"4.3\")==True]\n"
   ]
  },
  {
   "cell_type": "code",
   "execution_count": 117,
   "metadata": {},
   "outputs": [],
   "source": [
    "four[four.str.contains(\"4.3\")==True]=\"\""
   ]
  },
  {
   "cell_type": "code",
   "execution_count": 118,
   "metadata": {},
   "outputs": [
    {
     "data": {
      "text/plain": [
       "220      교내 마케팅동아리 1년, 스피치대회 시장상, IBK기업은행 체험형인턴(2018하계...\n",
       "240      교내 마케팅동아리 1년, 스피치대회 시장상, IBK기업은행 체험형인턴(2018하계...\n",
       "322      교내 마케팅동아리 1년, 스피치대회 시장상, IBK기업은행 체험형인턴(2018하계...\n",
       "449      교내 마케팅동아리 1년, 스피치대회 시장상, IBK기업은행 체험형인턴(2018하계...\n",
       "530      교내 마케팅동아리 1년, 스피치대회 시장상, IBK기업은행 체험형인턴(2018하계...\n",
       "668      교내 마케팅동아리 1년, 스피치대회 시장상, IBK기업은행 체험형인턴(2018하계...\n",
       "872      교내 마케팅동아리 1년, 스피치대회 시장상, IBK기업은행 체험형인턴(2018하계...\n",
       "941      교내 마케팅동아리 1년, 스피치대회 시장상, IBK기업은행 체험형인턴(2018하계...\n",
       "961      교내 마케팅동아리 1년, 스피치대회 시장상, IBK기업은행 체험형인턴(2018하계...\n",
       "1101     교내 마케팅동아리 1년, 스피치대회 시장상, IBK기업은행 체험형인턴(2018하계...\n",
       "1173     교내 마케팅동아리 1년, 스피치대회 시장상, IBK기업은행 체험형인턴(2018하계...\n",
       "1296     교내 마케팅동아리 1년, 스피치대회 시장상, IBK기업은행 체험형인턴(2018하계...\n",
       "1388     교내 마케팅동아리 1년, 스피치대회 시장상, IBK기업은행 체험형인턴(2018하계...\n",
       "1610       교내 마케팅동아리 1년, 스피치대회 시장상, IBK기업은행 체험형인턴(2018하계)\n",
       "1752       교내 마케팅동아리 1년, 스피치대회 시장상, IBK기업은행 체험형인턴(2018하계)\n",
       "1882       교내 마케팅동아리 1년, 스피치대회 시장상, IBK기업은행 체험형인턴(2018하계)\n",
       "2826                              교내 마케팅동아리 1년, 스피치대회 시장상\n",
       "2960                              교내 마케팅동아리 1년, 스피치대회 시장상\n",
       "Name: 3, dtype: object"
      ]
     },
     "execution_count": 118,
     "metadata": {},
     "output_type": "execute_result"
    }
   ],
   "source": [
    "four[four.str.contains(\"스피치대회 시장상\")==True]"
   ]
  },
  {
   "cell_type": "code",
   "execution_count": 119,
   "metadata": {},
   "outputs": [],
   "source": [
    "df.at[four[four.str.contains(\"스피치대회 시장상\")==True].index,[\"경험사항\"]]=four[four.str.contains(\"스피치대회 시장상\")==True]\n"
   ]
  },
  {
   "cell_type": "code",
   "execution_count": 120,
   "metadata": {},
   "outputs": [],
   "source": [
    "four[four.str.contains(\"스피치대회 시장상\")==True]=\"\""
   ]
  },
  {
   "cell_type": "code",
   "execution_count": 121,
   "metadata": {},
   "outputs": [
    {
     "data": {
      "text/plain": [
       "18       유앤트레블 인턴, 한국전력공사 인턴, 2019 하반기 말레이시아 해외봉사, 일본 ...\n",
       "908                                 한국전력공사 인턴(2017년 상반기) \n",
       "997                                 한국전력공사 인턴(2017년 상반기) \n",
       "1000                                한국전력공사 인턴(2017년 상반기) \n",
       "Name: 3, dtype: object"
      ]
     },
     "execution_count": 121,
     "metadata": {},
     "output_type": "execute_result"
    }
   ],
   "source": [
    "four[four.str.contains(\"한국전력공사 인턴\")==True]"
   ]
  },
  {
   "cell_type": "code",
   "execution_count": 122,
   "metadata": {},
   "outputs": [],
   "source": [
    "df.at[four[four.str.contains(\"한국전력공사 인턴\")==True].index,[\"경험사항\"]]=four[four.str.contains(\"한국전력공사 인턴\")==True]\n"
   ]
  },
  {
   "cell_type": "code",
   "execution_count": 123,
   "metadata": {},
   "outputs": [],
   "source": [
    "four[four.str.contains(\"한국전력공사 인턴\")==True]=\"\""
   ]
  },
  {
   "cell_type": "code",
   "execution_count": 124,
   "metadata": {},
   "outputs": [
    {
     "data": {
      "text/plain": [
       "65       봉사활동 470시간(헌혈 81회 포함), 교내 도서관 홍보대사, 대한적십자사 헌혈...\n",
       "1056     봉사활동 470시간(헌혈 81회 포함), 교내 도서관 홍보대사, 대한적십자사 헌혈...\n",
       "1143     봉사활동 470시간(헌혈 81회 포함), 교내 도서관 홍보대사, 대한적십자사 헌혈...\n",
       "1241     봉사활동 470시간(헌혈 81회 포함), 교내 도서관 홍보대사, 대한적십자사 헌혈...\n",
       "1259     봉사활동 470시간(헌혈 81회 포함), 교내 도서관 홍보대사, 대한적십자사 헌혈...\n",
       "1261     봉사활동 470시간(헌혈 81회 포함), 교내 도서관 홍보대사, 대한적십자사 헌혈...\n",
       "1304     봉사활동 470시간(헌혈 81회 포함), 교내 도서관 홍보대사, 대한적십자사 헌혈...\n",
       "1324     봉사활동 470시간(헌혈 81회 포함), 교내 도서관 홍보대사, 대한적십자사 헌혈...\n",
       "1349     봉사활동 470시간(헌혈 81회 포함), 교내 도서관 홍보대사, 대한적십자사 헌혈...\n",
       "1350     봉사활동 470시간(헌혈 81회 포함), 교내 도서관 홍보대사, 대한적십자사 헌혈...\n",
       "Name: 3, dtype: object"
      ]
     },
     "execution_count": 124,
     "metadata": {},
     "output_type": "execute_result"
    }
   ],
   "source": [
    "four[four.str.contains(\"470시간\")==True]"
   ]
  },
  {
   "cell_type": "code",
   "execution_count": 125,
   "metadata": {},
   "outputs": [],
   "source": [
    "df.at[four[four.str.contains(\"470시간\")==True].index,[\"경험사항\"]]=four[four.str.contains(\"470시간\")==True]"
   ]
  },
  {
   "cell_type": "code",
   "execution_count": 126,
   "metadata": {},
   "outputs": [],
   "source": [
    "four[four.str.contains(\"470시간\")==True]=\"\""
   ]
  },
  {
   "cell_type": "code",
   "execution_count": 127,
   "metadata": {},
   "outputs": [
    {
     "data": {
      "text/plain": [
       "654      해외 국제기구 인턴십 (6개월)\n",
       "749      해외 국제기구 인턴십 (6개월)\n",
       "1061     해외 국제기구 인턴십 (6개월)\n",
       "1081     해외 국제기구 인턴십 (6개월)\n",
       "1152     해외 국제기구 인턴십 (6개월)\n",
       "Name: 3, dtype: object"
      ]
     },
     "execution_count": 127,
     "metadata": {},
     "output_type": "execute_result"
    }
   ],
   "source": [
    "four[four.str.contains(\"국제기구\")==True]"
   ]
  },
  {
   "cell_type": "code",
   "execution_count": 128,
   "metadata": {},
   "outputs": [],
   "source": [
    "df.at[four[four.str.contains(\"국제기구\")==True].index,[\"경험사항\"]]=four[four.str.contains(\"국제기구\")==True]"
   ]
  },
  {
   "cell_type": "code",
   "execution_count": 129,
   "metadata": {},
   "outputs": [],
   "source": [
    "four[four.str.contains(\"국제기구\")==True]=\"\""
   ]
  },
  {
   "cell_type": "code",
   "execution_count": 130,
   "metadata": {},
   "outputs": [
    {
     "data": {
      "text/plain": [
       "1074     식품기사\n",
       "1094     식품기사\n",
       "1166     식품기사\n",
       "2329     식품기사\n",
       "2486     식품기사\n",
       "Name: 3, dtype: object"
      ]
     },
     "execution_count": 130,
     "metadata": {},
     "output_type": "execute_result"
    }
   ],
   "source": [
    "four[four.str.contains(\"식품기사$\")==True]"
   ]
  },
  {
   "cell_type": "code",
   "execution_count": 131,
   "metadata": {},
   "outputs": [],
   "source": [
    "df.at[four[four.str.contains(\"식품기사$\")==True].index,[\"자격증\"]]=four[four.str.contains(\"식품기사$\")==True]"
   ]
  },
  {
   "cell_type": "code",
   "execution_count": 132,
   "metadata": {},
   "outputs": [],
   "source": [
    "four[four.str.contains(\"식품기사$\")==True]=\"\""
   ]
  },
  {
   "cell_type": "code",
   "execution_count": 133,
   "metadata": {},
   "outputs": [
    {
     "data": {
      "text/plain": [
       "9973      인턴 2, 창업 2, 공모전 2, 동아리 1\n",
       "9996      인턴 2, 창업 2, 공모전 2, 동아리 1\n",
       "10016     인턴 2, 창업 2, 공모전 2, 동아리 1\n",
       "Name: 3, dtype: object"
      ]
     },
     "execution_count": 133,
     "metadata": {},
     "output_type": "execute_result"
    }
   ],
   "source": [
    "four[four.str.contains(\"인턴 2, 창업\")==True]"
   ]
  },
  {
   "cell_type": "code",
   "execution_count": 134,
   "metadata": {},
   "outputs": [],
   "source": [
    "df.at[four[four.str.contains(\"인턴 2, 창업\")==True].index,[\"경험사항\"]]=four[four.str.contains(\"인턴 2, 창업\")==True]"
   ]
  },
  {
   "cell_type": "code",
   "execution_count": 135,
   "metadata": {},
   "outputs": [],
   "source": [
    "four[four.str.contains(\"인턴 2, 창업\")==True]=\"\""
   ]
  },
  {
   "cell_type": "code",
   "execution_count": 136,
   "metadata": {},
   "outputs": [
    {
     "data": {
      "text/plain": [
       "6311     인턴1, 대외활동4\n",
       "Name: 3, dtype: object"
      ]
     },
     "execution_count": 136,
     "metadata": {},
     "output_type": "execute_result"
    }
   ],
   "source": [
    "four[four.str.contains(\"인턴1, 대외활동\")==True]"
   ]
  },
  {
   "cell_type": "code",
   "execution_count": 137,
   "metadata": {},
   "outputs": [],
   "source": [
    "df.at[four[four.str.contains(\"인턴1, 대외활동\")==True].index,[\"경험사항\"]]=four[four.str.contains(\"인턴1, 대외활동\")==True]"
   ]
  },
  {
   "cell_type": "code",
   "execution_count": 138,
   "metadata": {},
   "outputs": [],
   "source": [
    "four[four.str.contains(\"인턴1, 대외활동\")==True]=\"\""
   ]
  },
  {
   "cell_type": "code",
   "execution_count": 139,
   "metadata": {},
   "outputs": [],
   "source": [
    "four[four.str.contains(\"4$\")==True]=\"학점 4.0\""
   ]
  },
  {
   "cell_type": "code",
   "execution_count": 140,
   "metadata": {},
   "outputs": [],
   "source": [
    "df.at[four[four.str.contains(\"학점 4.0\")==True].index,[\"학점\"]]=four[four.str.contains(\"학점 4.0\")==True]"
   ]
  },
  {
   "cell_type": "code",
   "execution_count": 141,
   "metadata": {},
   "outputs": [],
   "source": [
    "four[four.str.contains(\"학점 4.0\")==True]=\"\""
   ]
  },
  {
   "cell_type": "code",
   "execution_count": 142,
   "metadata": {},
   "outputs": [],
   "source": [
    "four[four.str.contains(\"4.0$\")==True]=\"학점 4.0\""
   ]
  },
  {
   "cell_type": "code",
   "execution_count": 143,
   "metadata": {},
   "outputs": [],
   "source": [
    "df.at[four[four.str.contains(\"학점 4.0\")==True].index,[\"학점\"]]=four[four.str.contains(\"학점 4.0\")==True]"
   ]
  },
  {
   "cell_type": "code",
   "execution_count": 144,
   "metadata": {},
   "outputs": [],
   "source": [
    "four[four.str.contains(\"학점 4.0\")==True]=\"\""
   ]
  },
  {
   "cell_type": "code",
   "execution_count": 145,
   "metadata": {},
   "outputs": [
    {
     "data": {
      "text/plain": [
       "1516     관련직종 경력 합 4년\n",
       "1531     관련직종 경력 합 4년\n",
       "Name: 3, dtype: object"
      ]
     },
     "execution_count": 145,
     "metadata": {},
     "output_type": "execute_result"
    }
   ],
   "source": [
    "four[four.str.contains(\"관련직종 경력 합\")==True]"
   ]
  },
  {
   "cell_type": "code",
   "execution_count": 146,
   "metadata": {},
   "outputs": [],
   "source": [
    "df.at[four[four.str.contains(\"관련직종 경력 합\")==True].index,[\"경험사항\"]]=four[four.str.contains(\"관련직종 경력 합\")==True]"
   ]
  },
  {
   "cell_type": "code",
   "execution_count": 147,
   "metadata": {},
   "outputs": [],
   "source": [
    "four[four.str.contains(\"관련직종 경력 합\")==True]=\"\""
   ]
  },
  {
   "cell_type": "code",
   "execution_count": 148,
   "metadata": {},
   "outputs": [
    {
     "data": {
      "text/plain": [
       "1270     교내활동, 학과 학생회장 교육, 품질관리 교육 490시간\n",
       "Name: 3, dtype: object"
      ]
     },
     "execution_count": 148,
     "metadata": {},
     "output_type": "execute_result"
    }
   ],
   "source": [
    "four[four.str.contains(\"품질관리 교육\")==True]"
   ]
  },
  {
   "cell_type": "code",
   "execution_count": 149,
   "metadata": {},
   "outputs": [],
   "source": [
    "df.at[four[four.str.contains(\"품질관리 교육\")==True].index,[\"경험사항\"]]=four[four.str.contains(\"품질관리 교육\")==True]"
   ]
  },
  {
   "cell_type": "code",
   "execution_count": 150,
   "metadata": {},
   "outputs": [],
   "source": [
    "four[four.str.contains(\"품질관리 교육\")==True]=\"\""
   ]
  },
  {
   "cell_type": "code",
   "execution_count": 151,
   "metadata": {},
   "outputs": [
    {
     "data": {
      "text/plain": [
       "9983      석사 4.0 \n",
       "10003     석사 4.0 \n",
       "Name: 3, dtype: object"
      ]
     },
     "execution_count": 151,
     "metadata": {},
     "output_type": "execute_result"
    }
   ],
   "source": [
    "four[four.str.contains(\"석사 4.0\")==True]"
   ]
  },
  {
   "cell_type": "code",
   "execution_count": 152,
   "metadata": {},
   "outputs": [],
   "source": [
    "df.at[four[four.str.contains(\"석사 4.0\")==True].index,[\"학점\"]]=four[four.str.contains(\"석사 4.0\")==True]"
   ]
  },
  {
   "cell_type": "code",
   "execution_count": 153,
   "metadata": {},
   "outputs": [],
   "source": [
    "four[four.str.contains(\"석사 4.0\")==True]=\"\""
   ]
  },
  {
   "cell_type": "code",
   "execution_count": 154,
   "metadata": {},
   "outputs": [],
   "source": [
    "four[four.str.contains(\"4.06\")==True]=\"학점 4.06\""
   ]
  },
  {
   "cell_type": "code",
   "execution_count": 155,
   "metadata": {},
   "outputs": [],
   "source": [
    "df.at[four[four.str.contains(\"학점 4.06\")==True].index,[\"학점\"]]=four[four.str.contains(\"학점 4.06\")==True]"
   ]
  },
  {
   "cell_type": "code",
   "execution_count": 156,
   "metadata": {},
   "outputs": [],
   "source": [
    "four[four.str.contains(\"학점 4.06\")==True]=\"\""
   ]
  },
  {
   "cell_type": "code",
   "execution_count": 157,
   "metadata": {},
   "outputs": [
    {
     "data": {
      "text/plain": [
       "9936     봉사활동 5년, 프리랜서 강사 2회, 공모전 입선 4회, 졸업전시 은상 1회\n",
       "Name: 3, dtype: object"
      ]
     },
     "execution_count": 157,
     "metadata": {},
     "output_type": "execute_result"
    }
   ],
   "source": [
    "four[four.str.contains(\"봉사활동 5년\")==True]"
   ]
  },
  {
   "cell_type": "code",
   "execution_count": 158,
   "metadata": {},
   "outputs": [],
   "source": [
    "df.at[four[four.str.contains(\"봉사활동 5년\")==True].index,[\"경험사항\"]]=four[four.str.contains(\"봉사활동 5년\")==True]"
   ]
  },
  {
   "cell_type": "code",
   "execution_count": 159,
   "metadata": {},
   "outputs": [],
   "source": [
    "four[four.str.contains(\"봉사활동 5년\")==True]=\"\""
   ]
  },
  {
   "cell_type": "code",
   "execution_count": 160,
   "metadata": {},
   "outputs": [],
   "source": [
    "four.to_csv(\"sophie20200810.csv\",encoding='utf-8')"
   ]
  },
  {
   "cell_type": "code",
   "execution_count": 161,
   "metadata": {},
   "outputs": [],
   "source": [
    "four.to_csv(\"sophie20200810.txt\",encoding='utf-8')"
   ]
  },
  {
   "cell_type": "code",
   "execution_count": 162,
   "metadata": {},
   "outputs": [],
   "source": [
    "df.to_csv(\"sophie20200810df.csv\",encoding='utf-8')"
   ]
  },
  {
   "cell_type": "code",
   "execution_count": 163,
   "metadata": {},
   "outputs": [],
   "source": [
    "df.to_csv(\"sophie20200810df.txt\",encoding='utf-8')"
   ]
  },
  {
   "cell_type": "code",
   "execution_count": 164,
   "metadata": {},
   "outputs": [
    {
     "data": {
      "text/plain": [
       "0                           NaN\n",
       "1                           NaN\n",
       "2              컴퓨터활용능력1급, 한국사1급\n",
       "3         토론동아리 3년, 컴활1급, 한국사1급\n",
       "4                              \n",
       "                  ...          \n",
       "10102                       NaN\n",
       "10103                       NaN\n",
       "10104                       NaN\n",
       "10105                       NaN\n",
       "10106                       NaN\n",
       "Name: 3, Length: 10107, dtype: object"
      ]
     },
     "execution_count": 164,
     "metadata": {},
     "output_type": "execute_result"
    }
   ],
   "source": [
    "four"
   ]
  },
  {
   "cell_type": "code",
   "execution_count": 165,
   "metadata": {},
   "outputs": [
    {
     "data": {
      "text/html": [
       "<div>\n",
       "<style scoped>\n",
       "    .dataframe tbody tr th:only-of-type {\n",
       "        vertical-align: middle;\n",
       "    }\n",
       "\n",
       "    .dataframe tbody tr th {\n",
       "        vertical-align: top;\n",
       "    }\n",
       "\n",
       "    .dataframe thead th {\n",
       "        text-align: right;\n",
       "    }\n",
       "</style>\n",
       "<table border=\"1\" class=\"dataframe\">\n",
       "  <thead>\n",
       "    <tr style=\"text-align: right;\">\n",
       "      <th></th>\n",
       "      <th>Unnamed: 0</th>\n",
       "      <th>Unnamed: 0.1</th>\n",
       "      <th>Unnamed: 0.1.1</th>\n",
       "      <th>기업명</th>\n",
       "      <th>지원부서</th>\n",
       "      <th>지원시기</th>\n",
       "      <th>학교</th>\n",
       "      <th>학과</th>\n",
       "      <th>학점</th>\n",
       "      <th>어학</th>\n",
       "      <th>자격증</th>\n",
       "      <th>경험사항</th>\n",
       "      <th>자소서</th>\n",
       "    </tr>\n",
       "  </thead>\n",
       "  <tbody>\n",
       "    <tr>\n",
       "      <th>0</th>\n",
       "      <td>0</td>\n",
       "      <td>0</td>\n",
       "      <td>0</td>\n",
       "      <td>한국석유공사</td>\n",
       "      <td>설비</td>\n",
       "      <td>2020 상반기</td>\n",
       "      <td>NaN</td>\n",
       "      <td>전자공학과</td>\n",
       "      <td>학점 1.7등급</td>\n",
       "      <td>NaN</td>\n",
       "      <td>NaN</td>\n",
       "      <td>인천 글로벌 숙련 진흥원, 선반, 용접 ,특수용접, 설비보전</td>\n",
       "      <td>7.한국석유공사\\n\\n 1. 지원 분야 직무기술서 ‘직무수행 내용’ 중 본인이 가장...</td>\n",
       "    </tr>\n",
       "    <tr>\n",
       "      <th>1</th>\n",
       "      <td>1</td>\n",
       "      <td>1</td>\n",
       "      <td>1</td>\n",
       "      <td>CJ제일제당</td>\n",
       "      <td>Food Sales</td>\n",
       "      <td>2020 상반기</td>\n",
       "      <td>서울사립대(중앙대학교)</td>\n",
       "      <td>상경계열학과</td>\n",
       "      <td>학점 3.92</td>\n",
       "      <td>NaN</td>\n",
       "      <td>NaN</td>\n",
       "      <td>봉사활동 일부빼고는 전무.</td>\n",
       "      <td>CJ제일제당 및 선택한 직무에 대한 지원동기는 무엇인가요? ① 선택한 직무에 관심을...</td>\n",
       "    </tr>\n",
       "    <tr>\n",
       "      <th>2</th>\n",
       "      <td>2</td>\n",
       "      <td>2</td>\n",
       "      <td>2</td>\n",
       "      <td>한국가스안전공사</td>\n",
       "      <td>LP가스 안전지킴이사업</td>\n",
       "      <td>2020 상반기</td>\n",
       "      <td>지방거점국립대(제주대학교)</td>\n",
       "      <td>NaN</td>\n",
       "      <td>학점 3.3</td>\n",
       "      <td>토익830</td>\n",
       "      <td>NaN</td>\n",
       "      <td>NaN</td>\n",
       "      <td>\\n1. 한국가스안전공사가 진행하는 사업에 관심을 갖고 공사에 지원한 동기에 대해 ...</td>\n",
       "    </tr>\n",
       "    <tr>\n",
       "      <th>3</th>\n",
       "      <td>3</td>\n",
       "      <td>3</td>\n",
       "      <td>3</td>\n",
       "      <td>코레일</td>\n",
       "      <td>사무영업</td>\n",
       "      <td>2020 상반기</td>\n",
       "      <td>지방거점국립대(충남대학교)</td>\n",
       "      <td>NaN</td>\n",
       "      <td>학점 3.87</td>\n",
       "      <td>토익 835</td>\n",
       "      <td>NaN</td>\n",
       "      <td>NaN</td>\n",
       "      <td>1.공동체의 일원으로서 가장 중요하게 생각하는 가치를 제시하고, 그 가치를 실천했던...</td>\n",
       "    </tr>\n",
       "    <tr>\n",
       "      <th>4</th>\n",
       "      <td>4</td>\n",
       "      <td>4</td>\n",
       "      <td>4</td>\n",
       "      <td>한국기술교육대학교</td>\n",
       "      <td>행정</td>\n",
       "      <td>2020 상반기</td>\n",
       "      <td>서울사립대(건국대학교)</td>\n",
       "      <td>NaN</td>\n",
       "      <td>학점 4.0</td>\n",
       "      <td>토익 780</td>\n",
       "      <td>컴활 1급, 한국사1급</td>\n",
       "      <td>NaN</td>\n",
       "      <td>1. 본인이 가진 가장 뛰어난 점과 그렇게 판단한 이유, 고용노동연수원 업무수행에서...</td>\n",
       "    </tr>\n",
       "    <tr>\n",
       "      <th>...</th>\n",
       "      <td>...</td>\n",
       "      <td>...</td>\n",
       "      <td>...</td>\n",
       "      <td>...</td>\n",
       "      <td>...</td>\n",
       "      <td>...</td>\n",
       "      <td>...</td>\n",
       "      <td>...</td>\n",
       "      <td>...</td>\n",
       "      <td>...</td>\n",
       "      <td>...</td>\n",
       "      <td>...</td>\n",
       "      <td>...</td>\n",
       "    </tr>\n",
       "    <tr>\n",
       "      <th>10102</th>\n",
       "      <td>10102</td>\n",
       "      <td>10102</td>\n",
       "      <td>10102</td>\n",
       "      <td>현대자동차</td>\n",
       "      <td>영업관리</td>\n",
       "      <td>2013 상반기</td>\n",
       "      <td>서울사립대(상명대학교)</td>\n",
       "      <td>국제통상학과</td>\n",
       "      <td>학점 4.3</td>\n",
       "      <td>NaN</td>\n",
       "      <td>NaN</td>\n",
       "      <td>해외인턴1회, 중국어 말하기 대회 1등, 와인바 매니저 1년 6개월 경력</td>\n",
       "      <td>1. 현대자동차에 지원하게 된 동기 또는 해당 직무에 지원하게 된 동기는 무엇입니까...</td>\n",
       "    </tr>\n",
       "    <tr>\n",
       "      <th>10103</th>\n",
       "      <td>10103</td>\n",
       "      <td>10103</td>\n",
       "      <td>10103</td>\n",
       "      <td>심팩</td>\n",
       "      <td>용접관리</td>\n",
       "      <td>2013 상반기</td>\n",
       "      <td>전문대</td>\n",
       "      <td>공업화학과</td>\n",
       "      <td>학점 3.06</td>\n",
       "      <td>NaN</td>\n",
       "      <td>NaN</td>\n",
       "      <td>NaN</td>\n",
       "      <td>성격소개\\n\\n대부분의 사람들이 평가하는 첫인상은 소심하고 내성적인 성격일것이라 생...</td>\n",
       "    </tr>\n",
       "    <tr>\n",
       "      <th>10104</th>\n",
       "      <td>10104</td>\n",
       "      <td>10104</td>\n",
       "      <td>10104</td>\n",
       "      <td>한국전력</td>\n",
       "      <td>인턴[송,배전]</td>\n",
       "      <td>2013 상반기</td>\n",
       "      <td>지방거점국립대</td>\n",
       "      <td>전자공학과</td>\n",
       "      <td>학점 3.7</td>\n",
       "      <td>NaN</td>\n",
       "      <td>NaN</td>\n",
       "      <td>음악봉사활동, 멘토링 등</td>\n",
       "      <td>[질문 1] 취업이라는 목표 이외에 인생의 큰 목표를 세운 경험, 그 목표를 실현하...</td>\n",
       "    </tr>\n",
       "    <tr>\n",
       "      <th>10105</th>\n",
       "      <td>10105</td>\n",
       "      <td>10105</td>\n",
       "      <td>10105</td>\n",
       "      <td>한국전력</td>\n",
       "      <td>인턴[송,배전]</td>\n",
       "      <td>2013 상반기</td>\n",
       "      <td>지방거점국립대</td>\n",
       "      <td>전자공학과</td>\n",
       "      <td>학점 3.7</td>\n",
       "      <td>NaN</td>\n",
       "      <td>NaN</td>\n",
       "      <td>음악봉사활동, 멘토링등</td>\n",
       "      <td>한전 자가소개서 양식 500자 12줄 이내\\n\\n[질문 1] 취업이라는 목표 이외에...</td>\n",
       "    </tr>\n",
       "    <tr>\n",
       "      <th>10106</th>\n",
       "      <td>10106</td>\n",
       "      <td>10106</td>\n",
       "      <td>10106</td>\n",
       "      <td>한국전력</td>\n",
       "      <td>인턴[송,배전]</td>\n",
       "      <td>2013 상반기</td>\n",
       "      <td>지방거점국립대</td>\n",
       "      <td>전자공학과</td>\n",
       "      <td>학점 3.7</td>\n",
       "      <td>NaN</td>\n",
       "      <td>NaN</td>\n",
       "      <td>음악봉사활동, 멘토링등</td>\n",
       "      <td>한전 자가소개서 양식 500자 12줄 이내\\n\\n[질문 1] 취업이라는 목표 이외에...</td>\n",
       "    </tr>\n",
       "  </tbody>\n",
       "</table>\n",
       "<p>10107 rows × 13 columns</p>\n",
       "</div>"
      ],
      "text/plain": [
       "       Unnamed: 0  Unnamed: 0.1  Unnamed: 0.1.1         기업명            지원부서  \\\n",
       "0               0             0               0     한국석유공사              설비    \n",
       "1               1             1               1     CJ제일제당      Food Sales    \n",
       "2               2             2               2   한국가스안전공사    LP가스 안전지킴이사업    \n",
       "3               3             3               3        코레일            사무영업    \n",
       "4               4             4               4  한국기술교육대학교              행정    \n",
       "...           ...           ...             ...         ...             ...   \n",
       "10102       10102         10102           10102      현대자동차            영업관리    \n",
       "10103       10103         10103           10103         심팩            용접관리    \n",
       "10104       10104         10104           10104       한국전력        인턴[송,배전]    \n",
       "10105       10105         10105           10105       한국전력        인턴[송,배전]    \n",
       "10106       10106         10106           10106       한국전력        인턴[송,배전]    \n",
       "\n",
       "            지원시기              학교      학과          학점        어학            자격증  \\\n",
       "0       2020 상반기             NaN   전자공학과   학점 1.7등급        NaN            NaN   \n",
       "1       2020 상반기    서울사립대(중앙대학교)  상경계열학과    학점 3.92        NaN            NaN   \n",
       "2       2020 상반기  지방거점국립대(제주대학교)     NaN     학점 3.3     토익830             NaN   \n",
       "3       2020 상반기  지방거점국립대(충남대학교)     NaN    학점 3.87    토익 835             NaN   \n",
       "4       2020 상반기    서울사립대(건국대학교)     NaN     학점 4.0    토익 780    컴활 1급, 한국사1급   \n",
       "...          ...             ...     ...         ...       ...            ...   \n",
       "10102   2013 상반기    서울사립대(상명대학교)  국제통상학과     학점 4.3        NaN            NaN   \n",
       "10103   2013 상반기             전문대   공업화학과     학점 3.06       NaN            NaN   \n",
       "10104   2013 상반기         지방거점국립대   전자공학과     학점 3.7        NaN            NaN   \n",
       "10105   2013 상반기         지방거점국립대   전자공학과     학점 3.7        NaN            NaN   \n",
       "10106   2013 상반기         지방거점국립대   전자공학과     학점 3.7        NaN            NaN   \n",
       "\n",
       "                                            경험사항  \\\n",
       "0              인천 글로벌 숙련 진흥원, 선반, 용접 ,특수용접, 설비보전   \n",
       "1                                 봉사활동 일부빼고는 전무.   \n",
       "2                                            NaN   \n",
       "3                                            NaN   \n",
       "4                                            NaN   \n",
       "...                                          ...   \n",
       "10102   해외인턴1회, 중국어 말하기 대회 1등, 와인바 매니저 1년 6개월 경력   \n",
       "10103                                        NaN   \n",
       "10104                              음악봉사활동, 멘토링 등   \n",
       "10105                               음악봉사활동, 멘토링등   \n",
       "10106                               음악봉사활동, 멘토링등   \n",
       "\n",
       "                                                     자소서  \n",
       "0      7.한국석유공사\\n\\n 1. 지원 분야 직무기술서 ‘직무수행 내용’ 중 본인이 가장...  \n",
       "1      CJ제일제당 및 선택한 직무에 대한 지원동기는 무엇인가요? ① 선택한 직무에 관심을...  \n",
       "2      \\n1. 한국가스안전공사가 진행하는 사업에 관심을 갖고 공사에 지원한 동기에 대해 ...  \n",
       "3      1.공동체의 일원으로서 가장 중요하게 생각하는 가치를 제시하고, 그 가치를 실천했던...  \n",
       "4      1. 본인이 가진 가장 뛰어난 점과 그렇게 판단한 이유, 고용노동연수원 업무수행에서...  \n",
       "...                                                  ...  \n",
       "10102  1. 현대자동차에 지원하게 된 동기 또는 해당 직무에 지원하게 된 동기는 무엇입니까...  \n",
       "10103  성격소개\\n\\n대부분의 사람들이 평가하는 첫인상은 소심하고 내성적인 성격일것이라 생...  \n",
       "10104  [질문 1] 취업이라는 목표 이외에 인생의 큰 목표를 세운 경험, 그 목표를 실현하...  \n",
       "10105  한전 자가소개서 양식 500자 12줄 이내\\n\\n[질문 1] 취업이라는 목표 이외에...  \n",
       "10106  한전 자가소개서 양식 500자 12줄 이내\\n\\n[질문 1] 취업이라는 목표 이외에...  \n",
       "\n",
       "[10107 rows x 13 columns]"
      ]
     },
     "execution_count": 165,
     "metadata": {},
     "output_type": "execute_result"
    }
   ],
   "source": [
    "df"
   ]
  },
  {
   "cell_type": "code",
   "execution_count": null,
   "metadata": {},
   "outputs": [],
   "source": []
  }
 ],
 "metadata": {
  "kernelspec": {
   "display_name": "Python 3",
   "language": "python",
   "name": "python3"
  },
  "language_info": {
   "codemirror_mode": {
    "name": "ipython",
    "version": 3
   },
   "file_extension": ".py",
   "mimetype": "text/x-python",
   "name": "python",
   "nbconvert_exporter": "python",
   "pygments_lexer": "ipython3",
   "version": "3.7.6"
  }
 },
 "nbformat": 4,
 "nbformat_minor": 4
}
