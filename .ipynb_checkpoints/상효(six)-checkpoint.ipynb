{
 "cells": [
  {
   "cell_type": "code",
   "execution_count": 4,
   "metadata": {},
   "outputs": [],
   "source": [
    "import pandas as pd"
   ]
  },
  {
   "cell_type": "code",
   "execution_count": 5,
   "metadata": {},
   "outputs": [],
   "source": [
    "raw_df = pd.read_csv(\"WriteData.csv\")"
   ]
  },
  {
   "cell_type": "code",
   "execution_count": 6,
   "metadata": {
    "scrolled": true
   },
   "outputs": [
    {
     "data": {
      "text/html": [
       "<div>\n",
       "<style scoped>\n",
       "    .dataframe tbody tr th:only-of-type {\n",
       "        vertical-align: middle;\n",
       "    }\n",
       "\n",
       "    .dataframe tbody tr th {\n",
       "        vertical-align: top;\n",
       "    }\n",
       "\n",
       "    .dataframe thead th {\n",
       "        text-align: right;\n",
       "    }\n",
       "</style>\n",
       "<table border=\"1\" class=\"dataframe\">\n",
       "  <thead>\n",
       "    <tr style=\"text-align: right;\">\n",
       "      <th></th>\n",
       "      <th>1</th>\n",
       "      <th>2</th>\n",
       "      <th>3</th>\n",
       "    </tr>\n",
       "  </thead>\n",
       "  <tbody>\n",
       "    <tr>\n",
       "      <th>0</th>\n",
       "      <td>한국석유공사 / 설비 / 2020 상반기</td>\n",
       "      <td>광주전자공업고등학교 / 학점 1.7등급 / 인천 글로벌 숙련 진흥원 5일, 선반, ...</td>\n",
       "      <td>7.한국석유공사\\n\\n 1. 지원 분야 직무기술서 ‘직무수행 내용’ 중 본인이 가장...</td>\n",
       "    </tr>\n",
       "    <tr>\n",
       "      <th>1</th>\n",
       "      <td>CJ제일제당 / Food Sales / 2020 상반기</td>\n",
       "      <td>중경외시 / 상경계열 / 학점 3.92 / 토익 905, 토스 LV 6 / 봉사활동...</td>\n",
       "      <td>CJ제일제당 및 선택한 직무에 대한 지원동기는 무엇인가요? ① 선택한 직무에 관심을...</td>\n",
       "    </tr>\n",
       "    <tr>\n",
       "      <th>2</th>\n",
       "      <td>한국가스안전공사 / LP가스 안전지킴이사업 / 2020 상반기</td>\n",
       "      <td>제주대학교 / 학점 3.3 / 토익830 / 컴퓨터활용능력1급, 한국사1급</td>\n",
       "      <td>\\n1. 한국가스안전공사가 진행하는 사업에 관심을 갖고 공사에 지원한 동기에 대해 ...</td>\n",
       "    </tr>\n",
       "    <tr>\n",
       "      <th>3</th>\n",
       "      <td>코레일 / 사무영업 / 2020 상반기</td>\n",
       "      <td>충남대학교 / 학점 3.87 / 토익 835 / 토론동아리 3년, 컴활1급, 한국사1급</td>\n",
       "      <td>1.공동체의 일원으로서 가장 중요하게 생각하는 가치를 제시하고, 그 가치를 실천했던...</td>\n",
       "    </tr>\n",
       "    <tr>\n",
       "      <th>4</th>\n",
       "      <td>한국기술교육대학교 / 행정 / 2020 상반기</td>\n",
       "      <td>건국대학교 / 학점 4.0 / 토익 780 / 컴활 1급, 한국사1급</td>\n",
       "      <td>1. 본인이 가진 가장 뛰어난 점과 그렇게 판단한 이유, 고용노동연수원 업무수행에서...</td>\n",
       "    </tr>\n",
       "    <tr>\n",
       "      <th>...</th>\n",
       "      <td>...</td>\n",
       "      <td>...</td>\n",
       "      <td>...</td>\n",
       "    </tr>\n",
       "    <tr>\n",
       "      <th>10102</th>\n",
       "      <td>현대자동차 / 영업관리 / 2013 상반기</td>\n",
       "      <td>상명대학교 / 국제통상학 / 학점 4.3 / 토익 900, HSK 6급 / 해외인턴...</td>\n",
       "      <td>1. 현대자동차에 지원하게 된 동기 또는 해당 직무에 지원하게 된 동기는 무엇입니까...</td>\n",
       "    </tr>\n",
       "    <tr>\n",
       "      <th>10103</th>\n",
       "      <td>심팩 / 용접관리 / 2013 상반기</td>\n",
       "      <td>지방전문대 / 공업화학 / 학점 3.06</td>\n",
       "      <td>성격소개\\n\\n대부분의 사람들이 평가하는 첫인상은 소심하고 내성적인 성격일것이라 생...</td>\n",
       "    </tr>\n",
       "    <tr>\n",
       "      <th>10104</th>\n",
       "      <td>한국전력 / 인턴[송,배전] / 2013 상반기</td>\n",
       "      <td>지거국 / 전자공학 / 학점 3.7 / 토익 900대 / 음악봉사활동, 멘토링 등</td>\n",
       "      <td>[질문 1] 취업이라는 목표 이외에 인생의 큰 목표를 세운 경험, 그 목표를 실현하...</td>\n",
       "    </tr>\n",
       "    <tr>\n",
       "      <th>10105</th>\n",
       "      <td>한국전력 / 인턴[송,배전] / 2013 상반기</td>\n",
       "      <td>지거국 / 전자공학 / 학점 3.7 / 토익 900 / 음악봉사활동, 멘토링등</td>\n",
       "      <td>한전 자가소개서 양식 500자 12줄 이내\\n\\n[질문 1] 취업이라는 목표 이외에...</td>\n",
       "    </tr>\n",
       "    <tr>\n",
       "      <th>10106</th>\n",
       "      <td>한국전력 / 인턴[송,배전] / 2013 상반기</td>\n",
       "      <td>지거국 / 전자공학 / 학점 3.7 / 토익 900 / 음악봉사활동, 멘토링등</td>\n",
       "      <td>한전 자가소개서 양식 500자 12줄 이내\\n\\n[질문 1] 취업이라는 목표 이외에...</td>\n",
       "    </tr>\n",
       "  </tbody>\n",
       "</table>\n",
       "<p>10107 rows × 3 columns</p>\n",
       "</div>"
      ],
      "text/plain": [
       "                                        1  \\\n",
       "0                  한국석유공사 / 설비 / 2020 상반기   \n",
       "1          CJ제일제당 / Food Sales / 2020 상반기   \n",
       "2      한국가스안전공사 / LP가스 안전지킴이사업 / 2020 상반기   \n",
       "3                   코레일 / 사무영업 / 2020 상반기   \n",
       "4               한국기술교육대학교 / 행정 / 2020 상반기   \n",
       "...                                   ...   \n",
       "10102             현대자동차 / 영업관리 / 2013 상반기   \n",
       "10103                심팩 / 용접관리 / 2013 상반기   \n",
       "10104          한국전력 / 인턴[송,배전] / 2013 상반기   \n",
       "10105          한국전력 / 인턴[송,배전] / 2013 상반기   \n",
       "10106          한국전력 / 인턴[송,배전] / 2013 상반기   \n",
       "\n",
       "                                                       2  \\\n",
       "0      광주전자공업고등학교 / 학점 1.7등급 / 인천 글로벌 숙련 진흥원 5일, 선반, ...   \n",
       "1      중경외시 / 상경계열 / 학점 3.92 / 토익 905, 토스 LV 6 / 봉사활동...   \n",
       "2              제주대학교 / 학점 3.3 / 토익830 / 컴퓨터활용능력1급, 한국사1급   \n",
       "3       충남대학교 / 학점 3.87 / 토익 835 / 토론동아리 3년, 컴활1급, 한국사1급   \n",
       "4                 건국대학교 / 학점 4.0 / 토익 780 / 컴활 1급, 한국사1급   \n",
       "...                                                  ...   \n",
       "10102  상명대학교 / 국제통상학 / 학점 4.3 / 토익 900, HSK 6급 / 해외인턴...   \n",
       "10103                             지방전문대 / 공업화학 / 학점 3.06   \n",
       "10104      지거국 / 전자공학 / 학점 3.7 / 토익 900대 / 음악봉사활동, 멘토링 등   \n",
       "10105        지거국 / 전자공학 / 학점 3.7 / 토익 900 / 음악봉사활동, 멘토링등   \n",
       "10106        지거국 / 전자공학 / 학점 3.7 / 토익 900 / 음악봉사활동, 멘토링등   \n",
       "\n",
       "                                                       3  \n",
       "0      7.한국석유공사\\n\\n 1. 지원 분야 직무기술서 ‘직무수행 내용’ 중 본인이 가장...  \n",
       "1      CJ제일제당 및 선택한 직무에 대한 지원동기는 무엇인가요? ① 선택한 직무에 관심을...  \n",
       "2      \\n1. 한국가스안전공사가 진행하는 사업에 관심을 갖고 공사에 지원한 동기에 대해 ...  \n",
       "3      1.공동체의 일원으로서 가장 중요하게 생각하는 가치를 제시하고, 그 가치를 실천했던...  \n",
       "4      1. 본인이 가진 가장 뛰어난 점과 그렇게 판단한 이유, 고용노동연수원 업무수행에서...  \n",
       "...                                                  ...  \n",
       "10102  1. 현대자동차에 지원하게 된 동기 또는 해당 직무에 지원하게 된 동기는 무엇입니까...  \n",
       "10103  성격소개\\n\\n대부분의 사람들이 평가하는 첫인상은 소심하고 내성적인 성격일것이라 생...  \n",
       "10104  [질문 1] 취업이라는 목표 이외에 인생의 큰 목표를 세운 경험, 그 목표를 실현하...  \n",
       "10105  한전 자가소개서 양식 500자 12줄 이내\\n\\n[질문 1] 취업이라는 목표 이외에...  \n",
       "10106  한전 자가소개서 양식 500자 12줄 이내\\n\\n[질문 1] 취업이라는 목표 이외에...  \n",
       "\n",
       "[10107 rows x 3 columns]"
      ]
     },
     "execution_count": 6,
     "metadata": {},
     "output_type": "execute_result"
    }
   ],
   "source": [
    "raw_df"
   ]
  },
  {
   "cell_type": "code",
   "execution_count": 7,
   "metadata": {},
   "outputs": [],
   "source": [
    "df=pd.read_csv(\"realfin.csv\")"
   ]
  },
  {
   "cell_type": "code",
   "execution_count": 8,
   "metadata": {},
   "outputs": [
    {
     "data": {
      "text/html": [
       "<div>\n",
       "<style scoped>\n",
       "    .dataframe tbody tr th:only-of-type {\n",
       "        vertical-align: middle;\n",
       "    }\n",
       "\n",
       "    .dataframe tbody tr th {\n",
       "        vertical-align: top;\n",
       "    }\n",
       "\n",
       "    .dataframe thead th {\n",
       "        text-align: right;\n",
       "    }\n",
       "</style>\n",
       "<table border=\"1\" class=\"dataframe\">\n",
       "  <thead>\n",
       "    <tr style=\"text-align: right;\">\n",
       "      <th></th>\n",
       "      <th>Unnamed: 0</th>\n",
       "      <th>기업명</th>\n",
       "      <th>지원부서</th>\n",
       "      <th>지원시기</th>\n",
       "      <th>학교</th>\n",
       "      <th>학과</th>\n",
       "      <th>학점</th>\n",
       "      <th>어학</th>\n",
       "      <th>자격증</th>\n",
       "      <th>경험사항</th>\n",
       "      <th>자소서</th>\n",
       "    </tr>\n",
       "  </thead>\n",
       "  <tbody>\n",
       "    <tr>\n",
       "      <th>0</th>\n",
       "      <td>0</td>\n",
       "      <td>한국석유공사</td>\n",
       "      <td>설비</td>\n",
       "      <td>2020 상반기</td>\n",
       "      <td>NaN</td>\n",
       "      <td>전자공학과</td>\n",
       "      <td>학점 1.7등급</td>\n",
       "      <td>NaN</td>\n",
       "      <td>NaN</td>\n",
       "      <td>인천 글로벌 숙련 진흥원, 선반, 용접 ,특수용접, 설비보전</td>\n",
       "      <td>7.한국석유공사\\n\\n 1. 지원 분야 직무기술서 ‘직무수행 내용’ 중 본인이 가장...</td>\n",
       "    </tr>\n",
       "    <tr>\n",
       "      <th>1</th>\n",
       "      <td>1</td>\n",
       "      <td>CJ제일제당</td>\n",
       "      <td>Food Sales</td>\n",
       "      <td>2020 상반기</td>\n",
       "      <td>서울사립대(중앙대학교)</td>\n",
       "      <td>상경계열학과</td>\n",
       "      <td>학점 3.92</td>\n",
       "      <td>NaN</td>\n",
       "      <td>NaN</td>\n",
       "      <td>봉사활동 일부빼고는 전무.</td>\n",
       "      <td>CJ제일제당 및 선택한 직무에 대한 지원동기는 무엇인가요? ① 선택한 직무에 관심을...</td>\n",
       "    </tr>\n",
       "    <tr>\n",
       "      <th>2</th>\n",
       "      <td>2</td>\n",
       "      <td>한국가스안전공사</td>\n",
       "      <td>LP가스 안전지킴이사업</td>\n",
       "      <td>2020 상반기</td>\n",
       "      <td>지방거점국립대(제주대학교)</td>\n",
       "      <td>NaN</td>\n",
       "      <td>학점 3.3</td>\n",
       "      <td>NaN</td>\n",
       "      <td>NaN</td>\n",
       "      <td>NaN</td>\n",
       "      <td>\\n1. 한국가스안전공사가 진행하는 사업에 관심을 갖고 공사에 지원한 동기에 대해 ...</td>\n",
       "    </tr>\n",
       "    <tr>\n",
       "      <th>3</th>\n",
       "      <td>3</td>\n",
       "      <td>코레일</td>\n",
       "      <td>사무영업</td>\n",
       "      <td>2020 상반기</td>\n",
       "      <td>지방거점국립대(충남대학교)</td>\n",
       "      <td>NaN</td>\n",
       "      <td>학점 3.87</td>\n",
       "      <td>NaN</td>\n",
       "      <td>NaN</td>\n",
       "      <td>NaN</td>\n",
       "      <td>1.공동체의 일원으로서 가장 중요하게 생각하는 가치를 제시하고, 그 가치를 실천했던...</td>\n",
       "    </tr>\n",
       "    <tr>\n",
       "      <th>4</th>\n",
       "      <td>4</td>\n",
       "      <td>한국기술교육대학교</td>\n",
       "      <td>행정</td>\n",
       "      <td>2020 상반기</td>\n",
       "      <td>서울사립대(건국대학교)</td>\n",
       "      <td>NaN</td>\n",
       "      <td>학점 4.0</td>\n",
       "      <td>NaN</td>\n",
       "      <td>컴활 1급, 한국사1급</td>\n",
       "      <td>NaN</td>\n",
       "      <td>1. 본인이 가진 가장 뛰어난 점과 그렇게 판단한 이유, 고용노동연수원 업무수행에서...</td>\n",
       "    </tr>\n",
       "    <tr>\n",
       "      <th>...</th>\n",
       "      <td>...</td>\n",
       "      <td>...</td>\n",
       "      <td>...</td>\n",
       "      <td>...</td>\n",
       "      <td>...</td>\n",
       "      <td>...</td>\n",
       "      <td>...</td>\n",
       "      <td>...</td>\n",
       "      <td>...</td>\n",
       "      <td>...</td>\n",
       "      <td>...</td>\n",
       "    </tr>\n",
       "    <tr>\n",
       "      <th>10102</th>\n",
       "      <td>10102</td>\n",
       "      <td>현대자동차</td>\n",
       "      <td>영업관리</td>\n",
       "      <td>2013 상반기</td>\n",
       "      <td>서울사립대(상명대학교)</td>\n",
       "      <td>국제통상학과</td>\n",
       "      <td>학점 4.3</td>\n",
       "      <td>NaN</td>\n",
       "      <td>NaN</td>\n",
       "      <td>해외인턴1회, 중국어 말하기 대회 1등, 와인바 매니저 1년 6개월 경력</td>\n",
       "      <td>1. 현대자동차에 지원하게 된 동기 또는 해당 직무에 지원하게 된 동기는 무엇입니까...</td>\n",
       "    </tr>\n",
       "    <tr>\n",
       "      <th>10103</th>\n",
       "      <td>10103</td>\n",
       "      <td>심팩</td>\n",
       "      <td>용접관리</td>\n",
       "      <td>2013 상반기</td>\n",
       "      <td>전문대</td>\n",
       "      <td>공업화학과</td>\n",
       "      <td>학점 3.06</td>\n",
       "      <td>NaN</td>\n",
       "      <td>NaN</td>\n",
       "      <td>NaN</td>\n",
       "      <td>성격소개\\n\\n대부분의 사람들이 평가하는 첫인상은 소심하고 내성적인 성격일것이라 생...</td>\n",
       "    </tr>\n",
       "    <tr>\n",
       "      <th>10104</th>\n",
       "      <td>10104</td>\n",
       "      <td>한국전력</td>\n",
       "      <td>인턴[송,배전]</td>\n",
       "      <td>2013 상반기</td>\n",
       "      <td>지방거점국립대</td>\n",
       "      <td>전자공학과</td>\n",
       "      <td>학점 3.7</td>\n",
       "      <td>NaN</td>\n",
       "      <td>NaN</td>\n",
       "      <td>음악봉사활동, 멘토링 등</td>\n",
       "      <td>[질문 1] 취업이라는 목표 이외에 인생의 큰 목표를 세운 경험, 그 목표를 실현하...</td>\n",
       "    </tr>\n",
       "    <tr>\n",
       "      <th>10105</th>\n",
       "      <td>10105</td>\n",
       "      <td>한국전력</td>\n",
       "      <td>인턴[송,배전]</td>\n",
       "      <td>2013 상반기</td>\n",
       "      <td>지방거점국립대</td>\n",
       "      <td>전자공학과</td>\n",
       "      <td>학점 3.7</td>\n",
       "      <td>NaN</td>\n",
       "      <td>NaN</td>\n",
       "      <td>음악봉사활동, 멘토링등</td>\n",
       "      <td>한전 자가소개서 양식 500자 12줄 이내\\n\\n[질문 1] 취업이라는 목표 이외에...</td>\n",
       "    </tr>\n",
       "    <tr>\n",
       "      <th>10106</th>\n",
       "      <td>10106</td>\n",
       "      <td>한국전력</td>\n",
       "      <td>인턴[송,배전]</td>\n",
       "      <td>2013 상반기</td>\n",
       "      <td>지방거점국립대</td>\n",
       "      <td>전자공학과</td>\n",
       "      <td>학점 3.7</td>\n",
       "      <td>NaN</td>\n",
       "      <td>NaN</td>\n",
       "      <td>음악봉사활동, 멘토링등</td>\n",
       "      <td>한전 자가소개서 양식 500자 12줄 이내\\n\\n[질문 1] 취업이라는 목표 이외에...</td>\n",
       "    </tr>\n",
       "  </tbody>\n",
       "</table>\n",
       "<p>10107 rows × 11 columns</p>\n",
       "</div>"
      ],
      "text/plain": [
       "       Unnamed: 0         기업명            지원부서       지원시기              학교  \\\n",
       "0               0     한국석유공사              설비    2020 상반기             NaN   \n",
       "1               1     CJ제일제당      Food Sales    2020 상반기    서울사립대(중앙대학교)   \n",
       "2               2   한국가스안전공사    LP가스 안전지킴이사업    2020 상반기  지방거점국립대(제주대학교)   \n",
       "3               3        코레일            사무영업    2020 상반기  지방거점국립대(충남대학교)   \n",
       "4               4  한국기술교육대학교              행정    2020 상반기    서울사립대(건국대학교)   \n",
       "...           ...         ...             ...        ...             ...   \n",
       "10102       10102      현대자동차            영업관리    2013 상반기    서울사립대(상명대학교)   \n",
       "10103       10103         심팩            용접관리    2013 상반기             전문대   \n",
       "10104       10104       한국전력        인턴[송,배전]    2013 상반기         지방거점국립대   \n",
       "10105       10105       한국전력        인턴[송,배전]    2013 상반기         지방거점국립대   \n",
       "10106       10106       한국전력        인턴[송,배전]    2013 상반기         지방거점국립대   \n",
       "\n",
       "           학과          학점   어학            자격증  \\\n",
       "0       전자공학과   학점 1.7등급   NaN            NaN   \n",
       "1      상경계열학과    학점 3.92   NaN            NaN   \n",
       "2         NaN     학점 3.3   NaN            NaN   \n",
       "3         NaN    학점 3.87   NaN            NaN   \n",
       "4         NaN     학점 4.0   NaN   컴활 1급, 한국사1급   \n",
       "...       ...         ...  ...            ...   \n",
       "10102  국제통상학과     학점 4.3   NaN            NaN   \n",
       "10103   공업화학과     학점 3.06  NaN            NaN   \n",
       "10104   전자공학과     학점 3.7   NaN            NaN   \n",
       "10105   전자공학과     학점 3.7   NaN            NaN   \n",
       "10106   전자공학과     학점 3.7   NaN            NaN   \n",
       "\n",
       "                                            경험사항  \\\n",
       "0              인천 글로벌 숙련 진흥원, 선반, 용접 ,특수용접, 설비보전   \n",
       "1                                 봉사활동 일부빼고는 전무.   \n",
       "2                                            NaN   \n",
       "3                                            NaN   \n",
       "4                                            NaN   \n",
       "...                                          ...   \n",
       "10102   해외인턴1회, 중국어 말하기 대회 1등, 와인바 매니저 1년 6개월 경력   \n",
       "10103                                        NaN   \n",
       "10104                              음악봉사활동, 멘토링 등   \n",
       "10105                               음악봉사활동, 멘토링등   \n",
       "10106                               음악봉사활동, 멘토링등   \n",
       "\n",
       "                                                     자소서  \n",
       "0      7.한국석유공사\\n\\n 1. 지원 분야 직무기술서 ‘직무수행 내용’ 중 본인이 가장...  \n",
       "1      CJ제일제당 및 선택한 직무에 대한 지원동기는 무엇인가요? ① 선택한 직무에 관심을...  \n",
       "2      \\n1. 한국가스안전공사가 진행하는 사업에 관심을 갖고 공사에 지원한 동기에 대해 ...  \n",
       "3      1.공동체의 일원으로서 가장 중요하게 생각하는 가치를 제시하고, 그 가치를 실천했던...  \n",
       "4      1. 본인이 가진 가장 뛰어난 점과 그렇게 판단한 이유, 고용노동연수원 업무수행에서...  \n",
       "...                                                  ...  \n",
       "10102  1. 현대자동차에 지원하게 된 동기 또는 해당 직무에 지원하게 된 동기는 무엇입니까...  \n",
       "10103  성격소개\\n\\n대부분의 사람들이 평가하는 첫인상은 소심하고 내성적인 성격일것이라 생...  \n",
       "10104  [질문 1] 취업이라는 목표 이외에 인생의 큰 목표를 세운 경험, 그 목표를 실현하...  \n",
       "10105  한전 자가소개서 양식 500자 12줄 이내\\n\\n[질문 1] 취업이라는 목표 이외에...  \n",
       "10106  한전 자가소개서 양식 500자 12줄 이내\\n\\n[질문 1] 취업이라는 목표 이외에...  \n",
       "\n",
       "[10107 rows x 11 columns]"
      ]
     },
     "execution_count": 8,
     "metadata": {},
     "output_type": "execute_result"
    }
   ],
   "source": [
    "df"
   ]
  },
  {
   "cell_type": "code",
   "execution_count": 7,
   "metadata": {},
   "outputs": [],
   "source": [
    "#first = raw_df[\"2\"].str.split(\"/\",expand=True)[0]\n",
    "#second = raw_df[\"2\"].str.split(\"/\",expand=True)[1]\n",
    "#third = raw_df[\"2\"].str.split(\"/\",expand=True)[2]\n",
    "#raw_df[\"2\"].str.split(\"/\",expand=True)[3]\n",
    "#raw_df[\"2\"].str.split(\"/\",expand=True)[4]\n",
    "six=raw_df[\"2\"].str.split(\"/\",expand=True)[5]"
   ]
  },
  {
   "cell_type": "code",
   "execution_count": 8,
   "metadata": {},
   "outputs": [
    {
     "data": {
      "text/plain": [
       "0        None\n",
       "1        None\n",
       "2        None\n",
       "3        None\n",
       "4        None\n",
       "         ... \n",
       "10102    None\n",
       "10103    None\n",
       "10104    None\n",
       "10105    None\n",
       "10106    None\n",
       "Name: 5, Length: 10107, dtype: object"
      ]
     },
     "execution_count": 8,
     "metadata": {},
     "output_type": "execute_result"
    }
   ],
   "source": [
    "six"
   ]
  },
  {
   "cell_type": "code",
   "execution_count": 9,
   "metadata": {},
   "outputs": [],
   "source": [
    "six.to_csv(\"2.txt\")"
   ]
  },
  {
   "cell_type": "code",
   "execution_count": 10,
   "metadata": {},
   "outputs": [
    {
     "data": {
      "text/plain": [
       "24                               전공 멘토링(6개월) \n",
       "25                                     재경관리사 \n",
       "29                                 사무자동화산업기사 \n",
       "30                                     컴활 1급 \n",
       "46                               전공 멘토링(6개월) \n",
       "                         ...                 \n",
       "10017                           홍보 교육과정 1기 이수\n",
       "10028               2012년 연세대학교 한국어학당 GS25 점장\n",
       "10048               2012년 연세대학교 한국어학당 GS25 점장\n",
       "10069                           교내 통역봉사, 교육봉사\n",
       "10075     현장실습 1, 봉사활동 2, 공모전 대상, 동아리 1, 학회 1\n",
       "Name: 5, Length: 649, dtype: object"
      ]
     },
     "execution_count": 10,
     "metadata": {},
     "output_type": "execute_result"
    }
   ],
   "source": [
    "# 이름 바꾸기\n",
    "six[six.str.contains(\"\")==True]"
   ]
  },
  {
   "cell_type": "code",
   "execution_count": 11,
   "metadata": {},
   "outputs": [],
   "source": [
    "#컬럼에 집어넣기\n",
    "df.at[six[six.str.contains(\"\")==True].index,[\"경험사항\"]]=six[six.str.contains(\"\")==True]"
   ]
  },
  {
   "cell_type": "code",
   "execution_count": 12,
   "metadata": {},
   "outputs": [],
   "source": [
    "#컬럼 삭제\n",
    "#six[six.str.contains(\" \")==True]=\"\""
   ]
  },
  {
   "cell_type": "code",
   "execution_count": 13,
   "metadata": {},
   "outputs": [],
   "source": [
    "six[six.str.contains(\"전공 멘토링\")==True]\n",
    "df.at[six[six.str.contains(\"전공 멘토링\")==True].index,[\"경험사항\"]]=six[six.str.contains(\"전공 멘토링\")==True]"
   ]
  },
  {
   "cell_type": "code",
   "execution_count": 14,
   "metadata": {},
   "outputs": [],
   "source": [
    "six[six.str.contains(\"전공 멘토링\")==True]=\"\""
   ]
  },
  {
   "cell_type": "code",
   "execution_count": 15,
   "metadata": {},
   "outputs": [],
   "source": [
    "six[six.str.contains(\"재경관리사\")==True]\n",
    "df.at[six[six.str.contains(\"재경관리사\")==True].index,[\"자격증\"]]=six[six.str.contains(\"재경관리사\")==True]"
   ]
  },
  {
   "cell_type": "code",
   "execution_count": 16,
   "metadata": {},
   "outputs": [],
   "source": [
    "six[six.str.contains(\"재경관리사\")==True]=\"\""
   ]
  },
  {
   "cell_type": "code",
   "execution_count": 17,
   "metadata": {},
   "outputs": [],
   "source": [
    "six[six.str.contains(\"사무자동화\")==True]\n",
    "df.at[six[six.str.contains(\"사무자동화\")==True].index,[\"자격증\"]]=six[six.str.contains(\"사무자동화\")==True]"
   ]
  },
  {
   "cell_type": "code",
   "execution_count": 18,
   "metadata": {},
   "outputs": [],
   "source": [
    "six[six.str.contains(\"사무자동화\")==True]=\"\""
   ]
  },
  {
   "cell_type": "code",
   "execution_count": 19,
   "metadata": {},
   "outputs": [],
   "source": [
    "six[six.str.contains(\"컴활\")==True]\n",
    "df.at[six[six.str.contains(\"컴활\")==True].index,[\"자격증\"]]=six[six.str.contains(\"컴활\")==True]"
   ]
  },
  {
   "cell_type": "code",
   "execution_count": 20,
   "metadata": {},
   "outputs": [],
   "source": [
    "six[six.str.contains(\"컴활\")==True]=\"\""
   ]
  },
  {
   "cell_type": "code",
   "execution_count": 21,
   "metadata": {},
   "outputs": [],
   "source": [
    "six[six.str.contains(\"합창단\")==True]\n",
    "df.at[six[six.str.contains(\"합창단\")==True].index,[\"경험사항\"]]=six[six.str.contains(\"합창단\")==True]"
   ]
  },
  {
   "cell_type": "code",
   "execution_count": 22,
   "metadata": {},
   "outputs": [],
   "source": [
    "six[six.str.contains(\"합창단\")==True]=\"\""
   ]
  },
  {
   "cell_type": "code",
   "execution_count": 23,
   "metadata": {},
   "outputs": [],
   "source": [
    "six[six.str.contains(\"한국사 1급\")==True]\n",
    "df.at[six[six.str.contains(\"한국사 1급\")==True].index,[\"자격증\"]]=six[six.str.contains(\"한국사 1급\")==True]"
   ]
  },
  {
   "cell_type": "code",
   "execution_count": 24,
   "metadata": {},
   "outputs": [],
   "source": [
    "six[six.str.contains(\"한국사 1급\")==True]=\"\""
   ]
  },
  {
   "cell_type": "code",
   "execution_count": 25,
   "metadata": {},
   "outputs": [],
   "source": [
    "six[six.str.contains(\"총동아리\")==True]\n",
    "df.at[six[six.str.contains(\"총동아리\")==True].index,[\"경험사항\"]]=six[six.str.contains(\"총동아리\")==True]"
   ]
  },
  {
   "cell_type": "code",
   "execution_count": 26,
   "metadata": {},
   "outputs": [],
   "source": [
    "six[six.str.contains(\"총동아리\")==True]=\"\""
   ]
  },
  {
   "cell_type": "code",
   "execution_count": 27,
   "metadata": {},
   "outputs": [],
   "source": [
    "six[six.str.contains(\"자동차정비\")==True]\n",
    "df.at[six[six.str.contains(\"자동차정비\")==True].index,[\"자격증\"]]=six[six.str.contains(\"자동차정비\")==True]"
   ]
  },
  {
   "cell_type": "code",
   "execution_count": 28,
   "metadata": {},
   "outputs": [],
   "source": [
    "six[six.str.contains(\"자동차정비\")==True]=\"\""
   ]
  },
  {
   "cell_type": "code",
   "execution_count": 29,
   "metadata": {},
   "outputs": [],
   "source": [
    "six[six.str.contains(\"국제무역사 1급$\")==True]\n",
    "df.at[six[six.str.contains(\"국제무역사 1급$\")==True].index,[\"자격증\"]]=six[six.str.contains(\"국제무역사 1급$\")==True]"
   ]
  },
  {
   "cell_type": "code",
   "execution_count": 30,
   "metadata": {},
   "outputs": [],
   "source": [
    "six[six.str.contains(\"국제무역사 1급$\")==True]=\"\""
   ]
  },
  {
   "cell_type": "code",
   "execution_count": 31,
   "metadata": {},
   "outputs": [],
   "source": [
    "six[six.str.contains(\"일반기계\")==True]\n",
    "df.at[six[six.str.contains(\"일반기계\")==True].index,[\"자격증\"]]=six[six.str.contains(\"일반기계\")==True]"
   ]
  },
  {
   "cell_type": "code",
   "execution_count": 32,
   "metadata": {},
   "outputs": [],
   "source": [
    "six[six.str.contains(\"일반기계\")==True]=\"\""
   ]
  },
  {
   "cell_type": "code",
   "execution_count": 33,
   "metadata": {},
   "outputs": [],
   "source": [
    "six[six.str.contains(\"교내 멘토링\")==True]\n",
    "df.at[six[six.str.contains(\"교내 멘토링\")==True].index,[\"경험사항\"]]=six[six.str.contains(\"교내 멘토링\")==True]"
   ]
  },
  {
   "cell_type": "code",
   "execution_count": 34,
   "metadata": {},
   "outputs": [],
   "source": [
    "six[six.str.contains(\"교내 멘토링\")==True]=\"\""
   ]
  },
  {
   "cell_type": "code",
   "execution_count": 35,
   "metadata": {},
   "outputs": [],
   "source": [
    "six[six.str.contains(\"한국사1급\")==True]\n",
    "df.at[six[six.str.contains(\"한국사1급\")==True].index,[\"자격증\"]]=six[six.str.contains(\"한국사1급\")==True]"
   ]
  },
  {
   "cell_type": "code",
   "execution_count": 36,
   "metadata": {},
   "outputs": [],
   "source": [
    "six[six.str.contains(\"한국사1급\")==True]=\"\""
   ]
  },
  {
   "cell_type": "code",
   "execution_count": 37,
   "metadata": {},
   "outputs": [],
   "source": [
    "six[six.str.contains(\"토익\")==True]\n",
    "df.at[six[six.str.contains(\"토익\")==True].index,[\"어학\"]]=six[six.str.contains(\"토익\")==True]"
   ]
  },
  {
   "cell_type": "code",
   "execution_count": 38,
   "metadata": {},
   "outputs": [],
   "source": [
    "six[six.str.contains(\"토익\")==True]=\"\""
   ]
  },
  {
   "cell_type": "code",
   "execution_count": 39,
   "metadata": {},
   "outputs": [],
   "source": [
    "six[six.str.contains(\"전기공사기사\")==True]\n",
    "df.at[six[six.str.contains(\"전기공사기사\")==True].index,[\"자격증\"]]=six[six.str.contains(\"전기공사기사\")==True]"
   ]
  },
  {
   "cell_type": "code",
   "execution_count": 40,
   "metadata": {},
   "outputs": [],
   "source": [
    "six[six.str.contains(\"전기공사기사\")==True]=\"\""
   ]
  },
  {
   "cell_type": "code",
   "execution_count": 41,
   "metadata": {},
   "outputs": [],
   "source": [
    "six[six.str.contains(\"스타트업 개발\")==True]\n",
    "df.at[six[six.str.contains(\"스타트업 개발\")==True].index,[\"경험사항\"]]=six[six.str.contains(\"스타트업 개발\")==True]"
   ]
  },
  {
   "cell_type": "code",
   "execution_count": 42,
   "metadata": {},
   "outputs": [],
   "source": [
    "six[six.str.contains(\"스타트업 개발\")==True]=\"\""
   ]
  },
  {
   "cell_type": "code",
   "execution_count": 43,
   "metadata": {},
   "outputs": [],
   "source": [
    "six.to_csv(\"2.txt\")"
   ]
  },
  {
   "cell_type": "code",
   "execution_count": 44,
   "metadata": {},
   "outputs": [],
   "source": [
    "six[six.str.contains(\"한국교통\")==True]\n",
    "df.at[six[six.str.contains(\"한국교통\")==True].index,[\"경험사항\"]]=\"한국교통안전공단 인턴(2016상반기)\""
   ]
  },
  {
   "cell_type": "code",
   "execution_count": 45,
   "metadata": {},
   "outputs": [],
   "source": [
    "six[six.str.contains(\"한국교통\")==True]\n",
    "df.at[six[six.str.contains(\"한국교통\")==True].index,[\"자격증\"]]=\"컴퓨터활용능력1급\""
   ]
  },
  {
   "cell_type": "code",
   "execution_count": 46,
   "metadata": {},
   "outputs": [],
   "source": [
    "six[six.str.contains(\"한국교통\")==True]=\"\""
   ]
  },
  {
   "cell_type": "code",
   "execution_count": 47,
   "metadata": {},
   "outputs": [],
   "source": [
    "six[six.str.contains(\"조선소\")==True]\n",
    "df.at[six[six.str.contains(\"조선소\")==True].index,[\"경험사항\"]]=six[six.str.contains(\"조선소\")==True]"
   ]
  },
  {
   "cell_type": "code",
   "execution_count": 48,
   "metadata": {},
   "outputs": [],
   "source": [
    "six[six.str.contains(\"조선소\")==True]=\"\""
   ]
  },
  {
   "cell_type": "code",
   "execution_count": 49,
   "metadata": {},
   "outputs": [],
   "source": [
    "six[six.str.contains(\"국내위치\")==True]\n",
    "df.at[six[six.str.contains(\"국내위치\")==True].index,[\"경험사항\"]]=six[six.str.contains(\"국내위치\")==True]"
   ]
  },
  {
   "cell_type": "code",
   "execution_count": 50,
   "metadata": {},
   "outputs": [],
   "source": [
    "six[six.str.contains(\"국내위치\")==True]=\"\""
   ]
  },
  {
   "cell_type": "code",
   "execution_count": 51,
   "metadata": {},
   "outputs": [],
   "source": [
    "six[six.str.contains(\"토스\")==True]\n",
    "df.at[six[six.str.contains(\"토스\")==True].index,[\"어학\"]]=six[six.str.contains(\"토스\")==True]"
   ]
  },
  {
   "cell_type": "code",
   "execution_count": 52,
   "metadata": {},
   "outputs": [],
   "source": [
    "six[six.str.contains(\"토스\")==True]=\"\""
   ]
  },
  {
   "cell_type": "code",
   "execution_count": 53,
   "metadata": {},
   "outputs": [],
   "source": [
    "six[six.str.contains(\"DELE\")==True]\n",
    "df.at[six[six.str.contains(\"DELE\")==True].index,[\"자격증\"]]=\"DELE C1, 국제무역사 1급\""
   ]
  },
  {
   "cell_type": "code",
   "execution_count": 54,
   "metadata": {},
   "outputs": [],
   "source": [
    "six[six.str.contains(\"DELE\")==True]\n",
    "df.at[six[six.str.contains(\"DELE\")==True].index,[\"경험사항\"]]=\"대기업 인턴 1회\""
   ]
  },
  {
   "cell_type": "code",
   "execution_count": 55,
   "metadata": {},
   "outputs": [],
   "source": [
    "six[six.str.contains(\"DELE\")==True]=\"\""
   ]
  },
  {
   "cell_type": "code",
   "execution_count": 56,
   "metadata": {},
   "outputs": [],
   "source": [
    "six[six.str.contains(\"인턴 1회$\")==True]\n",
    "df.at[six[six.str.contains(\"인턴 1회$\")==True].index,[\"경험사항\"]]=six[six.str.contains(\"인턴 1회$\")==True]"
   ]
  },
  {
   "cell_type": "code",
   "execution_count": 57,
   "metadata": {},
   "outputs": [],
   "source": [
    "six[six.str.contains(\"인턴 1회$\")==True]=\"\""
   ]
  },
  {
   "cell_type": "code",
   "execution_count": 58,
   "metadata": {},
   "outputs": [],
   "source": [
    "six.to_csv(\"2.txt\")"
   ]
  },
  {
   "cell_type": "code",
   "execution_count": 59,
   "metadata": {},
   "outputs": [],
   "source": [
    "six[six.str.contains(\"멘토링 다수\")==True]\n",
    "df.at[six[six.str.contains(\"멘토링 다수\")==True].index,[\"경험사항\"]]=six[six.str.contains(\"멘토링 다수\")==True]"
   ]
  },
  {
   "cell_type": "code",
   "execution_count": 60,
   "metadata": {},
   "outputs": [],
   "source": [
    "six[six.str.contains(\"멘토링 다수\")==True]=\"\""
   ]
  },
  {
   "cell_type": "code",
   "execution_count": 61,
   "metadata": {},
   "outputs": [],
   "source": [
    "six[six.str.contains(\"브랜드 마케팅\")==True]\n",
    "df.at[six[six.str.contains(\"브랜드 마케팅\")==True].index,[\"경험사항\"]]=six[six.str.contains(\"브랜드 마케팅\")==True]"
   ]
  },
  {
   "cell_type": "code",
   "execution_count": 62,
   "metadata": {},
   "outputs": [],
   "source": [
    "six[six.str.contains(\"브랜드 마케팅\")==True]=\"\""
   ]
  },
  {
   "cell_type": "code",
   "execution_count": 63,
   "metadata": {},
   "outputs": [],
   "source": [
    "six[six.str.contains(\"봉사활동 230시간\")==True]\n",
    "df.at[six[six.str.contains(\"봉사활동 230시간\")==True].index,[\"경험사항\"]]=six[six.str.contains(\"봉사활동 230시간\")==True]"
   ]
  },
  {
   "cell_type": "code",
   "execution_count": 64,
   "metadata": {},
   "outputs": [],
   "source": [
    "six[six.str.contains(\"봉사활동 230시간\")==True]=\"\""
   ]
  },
  {
   "cell_type": "code",
   "execution_count": 65,
   "metadata": {},
   "outputs": [],
   "source": [
    "six[six.str.contains(\"코딩지니어스\")==True]\n",
    "df.at[six[six.str.contains(\"코딩지니어스\")==True].index,[\"경험사항\"]]=six[six.str.contains(\"코딩지니어스\")==True]"
   ]
  },
  {
   "cell_type": "code",
   "execution_count": 66,
   "metadata": {},
   "outputs": [],
   "source": [
    "six[six.str.contains(\"코딩지니어스\")==True]=\"\""
   ]
  },
  {
   "cell_type": "code",
   "execution_count": 67,
   "metadata": {},
   "outputs": [],
   "source": [
    "six[six.str.contains(\"동아리활동, \")==True]\n",
    "df.at[six[six.str.contains(\"동아리활동, \")==True].index,[\"경험사항\"]]=six[six.str.contains(\"동아리활동, \")==True]"
   ]
  },
  {
   "cell_type": "code",
   "execution_count": 68,
   "metadata": {},
   "outputs": [],
   "source": [
    "six[six.str.contains(\"동아리활동, \")==True]=\"\""
   ]
  },
  {
   "cell_type": "code",
   "execution_count": 69,
   "metadata": {},
   "outputs": [],
   "source": [
    "six[six.str.contains(\"교내 동아리\")==True]\n",
    "df.at[six[six.str.contains(\"교내 동아리\")==True].index,[\"경험사항\"]]=six[six.str.contains(\"교내 동아리\")==True]"
   ]
  },
  {
   "cell_type": "code",
   "execution_count": 70,
   "metadata": {},
   "outputs": [],
   "source": [
    "six[six.str.contains(\"교내 동아리\")==True]=\"\""
   ]
  },
  {
   "cell_type": "code",
   "execution_count": 71,
   "metadata": {},
   "outputs": [],
   "source": [
    "six[six.str.contains(\"3회\")==True]\n",
    "df.at[six[six.str.contains(\"3회\")==True].index,[\"경험사항\"]]=six[six.str.contains(\"3회\")==True]"
   ]
  },
  {
   "cell_type": "code",
   "execution_count": 72,
   "metadata": {},
   "outputs": [],
   "source": [
    "six[six.str.contains(\"3회\")==True]=\"\""
   ]
  },
  {
   "cell_type": "code",
   "execution_count": 73,
   "metadata": {},
   "outputs": [],
   "source": [
    "six.to_csv(\"2.txt\")"
   ]
  },
  {
   "cell_type": "code",
   "execution_count": 74,
   "metadata": {},
   "outputs": [],
   "source": [
    "six[six.str.contains(\"HSK\")==True]\n",
    "df.at[six[six.str.contains(\"HSK\")==True].index,[\"어학\"]]=six[six.str.contains(\"HSK\")==True]"
   ]
  },
  {
   "cell_type": "code",
   "execution_count": 75,
   "metadata": {},
   "outputs": [],
   "source": [
    "six[six.str.contains(\"HSK\")==True]=\"\""
   ]
  },
  {
   "cell_type": "code",
   "execution_count": 76,
   "metadata": {},
   "outputs": [],
   "source": [
    "six[six.str.contains(\"삼성카드\")==True]\n",
    "df.at[six[six.str.contains(\"삼성카드\")==True].index,[\"경험사항\"]]=six[six.str.contains(\"삼성카드\")==True]"
   ]
  },
  {
   "cell_type": "code",
   "execution_count": 77,
   "metadata": {},
   "outputs": [],
   "source": [
    "six[six.str.contains(\"삼성카드\")==True]=\"\""
   ]
  },
  {
   "cell_type": "code",
   "execution_count": 78,
   "metadata": {},
   "outputs": [],
   "source": [
    "six[six.str.contains(\"대외활동 다수\")==True]\n",
    "df.at[six[six.str.contains(\"대외활동 다수\")==True].index,[\"경험사항\"]]=six[six.str.contains(\"대외활동 다수\")==True]"
   ]
  },
  {
   "cell_type": "code",
   "execution_count": 79,
   "metadata": {},
   "outputs": [],
   "source": [
    "six[six.str.contains(\"대외활동 다수\")==True]=\"\""
   ]
  },
  {
   "cell_type": "code",
   "execution_count": 80,
   "metadata": {},
   "outputs": [],
   "source": [
    "six[six.str.contains(\"우수인턴\")==True]\n",
    "df.at[six[six.str.contains(\"우수인턴\")==True].index,[\"경험사항\"]]=six[six.str.contains(\"우수인턴\")==True]"
   ]
  },
  {
   "cell_type": "code",
   "execution_count": 81,
   "metadata": {},
   "outputs": [],
   "source": [
    "six[six.str.contains(\"우수인턴\")==True]=\"\""
   ]
  },
  {
   "cell_type": "code",
   "execution_count": 82,
   "metadata": {},
   "outputs": [],
   "source": [
    "six[six.str.contains(\"대기업\")==True]\n",
    "df.at[six[six.str.contains(\"대기업\")==True].index,[\"경험사항\"]]=six[six.str.contains(\"대기업\")==True]"
   ]
  },
  {
   "cell_type": "code",
   "execution_count": 83,
   "metadata": {},
   "outputs": [],
   "source": [
    "six[six.str.contains(\"대기업\")==True]=\"\""
   ]
  },
  {
   "cell_type": "code",
   "execution_count": 84,
   "metadata": {},
   "outputs": [],
   "source": [
    "six[six.str.contains(\"국내\\*해외\")==True]\n",
    "df.at[six[six.str.contains(\"국내\\*해외\")==True].index,[\"경험사항\"]]=six[six.str.contains(\"국내\\*해외\")==True]"
   ]
  },
  {
   "cell_type": "code",
   "execution_count": 85,
   "metadata": {},
   "outputs": [],
   "source": [
    "six[six.str.contains(\"국내\\*해외\")==True]=\"\""
   ]
  },
  {
   "cell_type": "code",
   "execution_count": 86,
   "metadata": {},
   "outputs": [],
   "source": [
    "six[six.str.contains(\"동아리 경험 2회\")==True]\n",
    "df.at[six[six.str.contains(\"동아리 경험 2회\")==True].index,[\"경험사항\"]]=six[six.str.contains(\"동아리 경험 2회\")==True]"
   ]
  },
  {
   "cell_type": "code",
   "execution_count": 87,
   "metadata": {},
   "outputs": [],
   "source": [
    "six[six.str.contains(\"동아리 경험 2회\")==True]=\"\""
   ]
  },
  {
   "cell_type": "code",
   "execution_count": 88,
   "metadata": {},
   "outputs": [],
   "source": [
    "six[six.str.contains(\"스타트업\")==True]\n",
    "df.at[six[six.str.contains(\"스타트업\")==True].index,[\"경험사항\"]]=six[six.str.contains(\"스타트업\")==True]"
   ]
  },
  {
   "cell_type": "code",
   "execution_count": 89,
   "metadata": {},
   "outputs": [],
   "source": [
    "six[six.str.contains(\"스타트업\")==True]=\"\""
   ]
  },
  {
   "cell_type": "code",
   "execution_count": 90,
   "metadata": {},
   "outputs": [],
   "source": [
    "six[six.str.contains(\"인턴 2회\")==True]\n",
    "df.at[six[six.str.contains(\"인턴 2회\")==True].index,[\"경험사항\"]]=six[six.str.contains(\"인턴 2회\")==True]"
   ]
  },
  {
   "cell_type": "code",
   "execution_count": 91,
   "metadata": {},
   "outputs": [],
   "source": [
    "six[six.str.contains(\"인턴 2회\")==True]=\"\""
   ]
  },
  {
   "cell_type": "code",
   "execution_count": 92,
   "metadata": {},
   "outputs": [],
   "source": [
    "six[six.str.contains(\"일본자치\")==True]\n",
    "df.at[six[six.str.contains(\"일본자치\")==True].index,[\"경험사항\"]]=six[six.str.contains(\"일본자치\")==True]"
   ]
  },
  {
   "cell_type": "code",
   "execution_count": 93,
   "metadata": {},
   "outputs": [],
   "source": [
    "six[six.str.contains(\"일본자치\")==True]=\"\""
   ]
  },
  {
   "cell_type": "code",
   "execution_count": 94,
   "metadata": {},
   "outputs": [],
   "source": [
    "six[six.str.contains(\"인턴1회\")==True]\n",
    "df.at[six[six.str.contains(\"인턴1회\")==True].index,[\"경험사항\"]]=six[six.str.contains(\"인턴1회\")==True]"
   ]
  },
  {
   "cell_type": "code",
   "execution_count": 95,
   "metadata": {},
   "outputs": [],
   "source": [
    "six[six.str.contains(\"인턴1회\")==True]=\"\""
   ]
  },
  {
   "cell_type": "code",
   "execution_count": 96,
   "metadata": {},
   "outputs": [],
   "source": [
    "six[six.str.contains(\"외식업\")==True]\n",
    "df.at[six[six.str.contains(\"외식업\")==True].index,[\"경험사항\"]]=\"외식업 아르바이트 약 2년\""
   ]
  },
  {
   "cell_type": "code",
   "execution_count": 97,
   "metadata": {},
   "outputs": [],
   "source": [
    "six[six.str.contains(\"외식업\")==True]\n",
    "df.at[six[six.str.contains(\"외식업\")==True].index,[\"자격증\"]]=\"식품기사\""
   ]
  },
  {
   "cell_type": "code",
   "execution_count": 98,
   "metadata": {},
   "outputs": [],
   "source": [
    "six[six.str.contains(\"외식업\")==True]=\"\""
   ]
  },
  {
   "cell_type": "code",
   "execution_count": 99,
   "metadata": {},
   "outputs": [],
   "source": [
    "six[six.str.contains(\"홍보대행사\")==True]\n",
    "df.at[six[six.str.contains(\"홍보대행사\")==True].index,[\"경험사항\"]]=six[six.str.contains(\"홍보대행사\")==True]"
   ]
  },
  {
   "cell_type": "code",
   "execution_count": 100,
   "metadata": {},
   "outputs": [],
   "source": [
    "six[six.str.contains(\"홍보대행사\")==True]=\"\""
   ]
  },
  {
   "cell_type": "code",
   "execution_count": 101,
   "metadata": {},
   "outputs": [],
   "source": [
    "six.to_csv(\"2.txt\")"
   ]
  },
  {
   "cell_type": "code",
   "execution_count": 102,
   "metadata": {},
   "outputs": [],
   "source": [
    "six[six.str.contains(\"인턴 경력 2회\")==True]\n",
    "df.at[six[six.str.contains(\"인턴 경력 2회\")==True].index,[\"경험사항\"]]=six[six.str.contains(\"인턴 경력 2회\")==True]"
   ]
  },
  {
   "cell_type": "code",
   "execution_count": 103,
   "metadata": {},
   "outputs": [],
   "source": [
    "six[six.str.contains(\"인턴 경력 2회\")==True]=\"\""
   ]
  },
  {
   "cell_type": "code",
   "execution_count": 104,
   "metadata": {},
   "outputs": [],
   "source": [
    "six[six.str.contains(\"교육기관 2년\")==True]\n",
    "df.at[six[six.str.contains(\"교육기관 2년\")==True].index,[\"경험사항\"]]=six[six.str.contains(\"교육기관 2년\")==True]"
   ]
  },
  {
   "cell_type": "code",
   "execution_count": 105,
   "metadata": {},
   "outputs": [],
   "source": [
    "six[six.str.contains(\"교육기관 2년\")==True]=\"\""
   ]
  },
  {
   "cell_type": "code",
   "execution_count": 106,
   "metadata": {},
   "outputs": [],
   "source": [
    "six[six.str.contains(\"대외활동 \")==True]\n",
    "df.at[six[six.str.contains(\"대외활동 \")==True].index,[\"경험사항\"]]=six[six.str.contains(\"대외활동 \")==True]"
   ]
  },
  {
   "cell_type": "code",
   "execution_count": 107,
   "metadata": {},
   "outputs": [],
   "source": [
    "six[six.str.contains(\"대외활동 \")==True]=\"\""
   ]
  },
  {
   "cell_type": "code",
   "execution_count": 108,
   "metadata": {},
   "outputs": [],
   "source": [
    "six[six.str.contains(\"봉사활동 1회\")==True]\n",
    "df.at[six[six.str.contains(\"봉사활동 1회\")==True].index,[\"경험사항\"]]=six[six.str.contains(\"봉사활동 1회\")==True]"
   ]
  },
  {
   "cell_type": "code",
   "execution_count": 109,
   "metadata": {},
   "outputs": [],
   "source": [
    "six[six.str.contains(\"봉사활동 1회\")==True]=\"\""
   ]
  },
  {
   "cell_type": "code",
   "execution_count": 110,
   "metadata": {},
   "outputs": [],
   "source": [
    "six[six.str.contains(\"사기업 인턴\")==True]\n",
    "df.at[six[six.str.contains(\"사기업 인턴\")==True].index,[\"경험사항\"]]=\"사기업 인턴 1회\""
   ]
  },
  {
   "cell_type": "code",
   "execution_count": 111,
   "metadata": {},
   "outputs": [],
   "source": [
    "six[six.str.contains(\"사기업 인턴\")==True]\n",
    "df.at[six[six.str.contains(\"사기업 인턴\")==True].index,[\"자격증\"]]=\"AFPK\""
   ]
  },
  {
   "cell_type": "code",
   "execution_count": 112,
   "metadata": {},
   "outputs": [],
   "source": [
    "six[six.str.contains(\"사기업 인턴\")==True]=\"\""
   ]
  },
  {
   "cell_type": "code",
   "execution_count": 113,
   "metadata": {},
   "outputs": [],
   "source": [
    "six[six.str.contains(\"인턴 경력\")==True]\n",
    "df.at[six[six.str.contains(\"인턴 경력\")==True].index,[\"경험사항\"]]=six[six.str.contains(\"인턴 경력\")==True]"
   ]
  },
  {
   "cell_type": "code",
   "execution_count": 114,
   "metadata": {},
   "outputs": [],
   "source": [
    "six[six.str.contains(\"인턴 경력\")==True]=\"\""
   ]
  },
  {
   "cell_type": "code",
   "execution_count": 115,
   "metadata": {},
   "outputs": [],
   "source": [
    "six[six.str.contains(\"삼성\")==True]\n",
    "df.at[six[six.str.contains(\"삼성\")==True].index,[\"경험사항\"]]=six[six.str.contains(\"삼성\")==True]"
   ]
  },
  {
   "cell_type": "code",
   "execution_count": 116,
   "metadata": {},
   "outputs": [],
   "source": [
    "six[six.str.contains(\"삼성\")==True]=\"\""
   ]
  },
  {
   "cell_type": "code",
   "execution_count": 117,
   "metadata": {},
   "outputs": [],
   "source": [
    "six[six.str.contains(\"HRD 인턴\")==True]\n",
    "df.at[six[six.str.contains(\"HRD 인턴\")==True].index,[\"경험사항\"]]=six[six.str.contains(\"HRD 인턴\")==True]"
   ]
  },
  {
   "cell_type": "code",
   "execution_count": 118,
   "metadata": {},
   "outputs": [],
   "source": [
    "six[six.str.contains(\"HRD 인턴\")==True]=\"\""
   ]
  },
  {
   "cell_type": "code",
   "execution_count": 119,
   "metadata": {},
   "outputs": [],
   "source": [
    "six[six.str.contains(\"교환학생\")==True]\n",
    "df.at[six[six.str.contains(\"교환학생\")==True].index,[\"경험사항\"]]=six[six.str.contains(\"교환학생\")==True]"
   ]
  },
  {
   "cell_type": "code",
   "execution_count": 120,
   "metadata": {},
   "outputs": [],
   "source": [
    "six[six.str.contains(\"교환학생\")==True]=\"\""
   ]
  },
  {
   "cell_type": "code",
   "execution_count": 121,
   "metadata": {},
   "outputs": [],
   "source": [
    "six[six.str.contains(\"어학연수\")==True]\n",
    "df.at[six[six.str.contains(\"어학연수\")==True].index,[\"경험사항\"]]=six[six.str.contains(\"어학연수\")==True]"
   ]
  },
  {
   "cell_type": "code",
   "execution_count": 122,
   "metadata": {},
   "outputs": [],
   "source": [
    "six[six.str.contains(\"어학연수\")==True]=\"\""
   ]
  },
  {
   "cell_type": "code",
   "execution_count": 123,
   "metadata": {},
   "outputs": [],
   "source": [
    "six[six.str.contains(\"봉사활동2\")==True]\n",
    "df.at[six[six.str.contains(\"봉사활동2\")==True].index,[\"경험사항\"]]=six[six.str.contains(\"봉사활동2\")==True]"
   ]
  },
  {
   "cell_type": "code",
   "execution_count": 124,
   "metadata": {},
   "outputs": [],
   "source": [
    "six[six.str.contains(\"봉사활동2\")==True]=\"\""
   ]
  },
  {
   "cell_type": "code",
   "execution_count": 125,
   "metadata": {},
   "outputs": [],
   "source": [
    "six[six.str.contains(\"공모전\")==True]\n",
    "df.at[six[six.str.contains(\"공모전\")==True].index,[\"경험사항\"]]=six[six.str.contains(\"공모전\")==True]"
   ]
  },
  {
   "cell_type": "code",
   "execution_count": 126,
   "metadata": {},
   "outputs": [],
   "source": [
    "six[six.str.contains(\"공모전\")==True]=\"\""
   ]
  },
  {
   "cell_type": "code",
   "execution_count": 127,
   "metadata": {},
   "outputs": [],
   "source": [
    "six.to_csv(\"2.txt\")"
   ]
  },
  {
   "cell_type": "code",
   "execution_count": 128,
   "metadata": {},
   "outputs": [],
   "source": [
    "six[six.str.contains(\"토플\")==True]\n",
    "df.at[six[six.str.contains(\"토플\")==True].index,[\"어학\"]]=six[six.str.contains(\"토플\")==True]"
   ]
  },
  {
   "cell_type": "code",
   "execution_count": 129,
   "metadata": {},
   "outputs": [],
   "source": [
    "six[six.str.contains(\"토플\")==True]=\"\""
   ]
  },
  {
   "cell_type": "code",
   "execution_count": 130,
   "metadata": {},
   "outputs": [],
   "source": [
    "six[six.str.contains(\"해외실습\")==True]\n",
    "df.at[six[six.str.contains(\"해외실습\")==True].index,[\"경험사항\"]]=six[six.str.contains(\"해외실습\")==True]"
   ]
  },
  {
   "cell_type": "code",
   "execution_count": 131,
   "metadata": {},
   "outputs": [],
   "source": [
    "six[six.str.contains(\"해외실습\")==True]=\"\""
   ]
  },
  {
   "cell_type": "code",
   "execution_count": 132,
   "metadata": {},
   "outputs": [],
   "source": [
    "six[six.str.contains(\"X\")==True]=\"\""
   ]
  },
  {
   "cell_type": "code",
   "execution_count": 133,
   "metadata": {},
   "outputs": [],
   "source": [
    "six[six.str.contains(\"인턴 1\")==True]\n",
    "df.at[six[six.str.contains(\"인턴 1\")==True].index,[\"경험사항\"]]=six[six.str.contains(\"인턴 1\")==True]"
   ]
  },
  {
   "cell_type": "code",
   "execution_count": 134,
   "metadata": {},
   "outputs": [],
   "source": [
    "six[six.str.contains(\"인턴 1\")==True]=\"\""
   ]
  },
  {
   "cell_type": "code",
   "execution_count": 135,
   "metadata": {},
   "outputs": [],
   "source": [
    "six.to_csv(\"2.txt\")"
   ]
  },
  {
   "cell_type": "code",
   "execution_count": 136,
   "metadata": {},
   "outputs": [],
   "source": [
    "six[six.str.contains(\"오픽\")==True]\n",
    "df.at[six[six.str.contains(\"오픽\")==True].index,[\"어학\"]]=six[six.str.contains(\"오픽\")==True]"
   ]
  },
  {
   "cell_type": "code",
   "execution_count": 137,
   "metadata": {},
   "outputs": [],
   "source": [
    "six[six.str.contains(\"오픽\")==True]=\"\""
   ]
  },
  {
   "cell_type": "code",
   "execution_count": 138,
   "metadata": {},
   "outputs": [],
   "source": [
    "six[six.str.contains(\"봉사활동1\")==True]\n",
    "df.at[six[six.str.contains(\"봉사활동1\")==True].index,[\"경험사항\"]]=six[six.str.contains(\"봉사활동1\")==True]"
   ]
  },
  {
   "cell_type": "code",
   "execution_count": 139,
   "metadata": {},
   "outputs": [],
   "source": [
    "six[six.str.contains(\"봉사활동1\")==True]=\"\""
   ]
  },
  {
   "cell_type": "code",
   "execution_count": 140,
   "metadata": {},
   "outputs": [],
   "source": [
    "six[six.str.contains(\"문화\")==True]\n",
    "df.at[six[six.str.contains(\"문화\")==True].index,[\"경험사항\"]]=six[six.str.contains(\"문화\")==True]"
   ]
  },
  {
   "cell_type": "code",
   "execution_count": 141,
   "metadata": {},
   "outputs": [],
   "source": [
    "six[six.str.contains(\"문화\")==True]=\"\""
   ]
  },
  {
   "cell_type": "code",
   "execution_count": 142,
   "metadata": {},
   "outputs": [],
   "source": [
    "six[six.str.contains(\"국내 학회\")==True]\n",
    "df.at[six[six.str.contains(\"국내 학회\")==True].index,[\"경험사항\"]]=six[six.str.contains(\"국내 학회\")==True]"
   ]
  },
  {
   "cell_type": "code",
   "execution_count": 143,
   "metadata": {},
   "outputs": [],
   "source": [
    "six[six.str.contains(\"국내 학회\")==True]=\"\""
   ]
  },
  {
   "cell_type": "code",
   "execution_count": 144,
   "metadata": {},
   "outputs": [],
   "source": [
    "six[six.str.contains(\"인턴 0\")==True]=\"\""
   ]
  },
  {
   "cell_type": "code",
   "execution_count": 145,
   "metadata": {},
   "outputs": [],
   "source": [
    "six[six.str.contains(\"4.3\")==True]\n",
    "df.at[six[six.str.contains(\"4.3\")==True].index,[\"학점\"]]=six[six.str.contains(\"4.3\")==True]"
   ]
  },
  {
   "cell_type": "code",
   "execution_count": 146,
   "metadata": {},
   "outputs": [],
   "source": [
    "six[six.str.contains(\"4.3\")==True]=\"\""
   ]
  },
  {
   "cell_type": "code",
   "execution_count": 147,
   "metadata": {},
   "outputs": [
    {
     "data": {
      "text/plain": [
       "Series([], Name: 5, dtype: object)"
      ]
     },
     "execution_count": 147,
     "metadata": {},
     "output_type": "execute_result"
    }
   ],
   "source": [
    "six[six.str.contains(\"문화 관련\")==True]"
   ]
  },
  {
   "cell_type": "code",
   "execution_count": 148,
   "metadata": {},
   "outputs": [],
   "source": [
    "six[six.str.contains(\"없음\")==True]=\"\""
   ]
  },
  {
   "cell_type": "code",
   "execution_count": 149,
   "metadata": {},
   "outputs": [],
   "source": [
    "six[six.str.contains(\"교육봉사\")==True]\n",
    "df.at[six[six.str.contains(\"교육봉사\")==True].index,[\"경험사항\"]]=six[six.str.contains(\"교육봉사\")==True]"
   ]
  },
  {
   "cell_type": "code",
   "execution_count": 150,
   "metadata": {},
   "outputs": [],
   "source": [
    "six[six.str.contains(\"교육봉사\")==True]=\"\""
   ]
  },
  {
   "cell_type": "code",
   "execution_count": 151,
   "metadata": {},
   "outputs": [],
   "source": [
    "six[six.str.contains(\"해피무브\")==True]\n",
    "df.at[six[six.str.contains(\"해피무브\")==True].index,[\"경험사항\"]]=six[six.str.contains(\"해피무브\")==True]"
   ]
  },
  {
   "cell_type": "code",
   "execution_count": 152,
   "metadata": {},
   "outputs": [],
   "source": [
    "six[six.str.contains(\"해피무브\")==True]=\"\""
   ]
  },
  {
   "cell_type": "code",
   "execution_count": 153,
   "metadata": {},
   "outputs": [],
   "source": [
    "six[six.str.contains(\"인턴1 대외3\")==True]\n",
    "df.at[six[six.str.contains(\"인턴1 대외3\")==True].index,[\"경험사항\"]]=six[six.str.contains(\"인턴1 대외3\")==True]"
   ]
  },
  {
   "cell_type": "code",
   "execution_count": 154,
   "metadata": {},
   "outputs": [],
   "source": [
    "six[six.str.contains(\"인턴1 대외3\")==True]=\"\""
   ]
  },
  {
   "cell_type": "code",
   "execution_count": 155,
   "metadata": {},
   "outputs": [],
   "source": [
    "six[six.str.contains(\"봉사활동 2회\")==True]\n",
    "df.at[six[six.str.contains(\"봉사활동 2회\")==True].index,[\"경험사항\"]]=six[six.str.contains(\"봉사활동 2회\")==True]"
   ]
  },
  {
   "cell_type": "code",
   "execution_count": 156,
   "metadata": {},
   "outputs": [],
   "source": [
    "six[six.str.contains(\"봉사활동 2회\")==True]=\"\""
   ]
  },
  {
   "cell_type": "code",
   "execution_count": 157,
   "metadata": {},
   "outputs": [],
   "source": [
    "six[six.str.contains(\"로타랙트\")==True]\n",
    "df.at[six[six.str.contains(\"로타랙트\")==True].index,[\"경험사항\"]]=six[six.str.contains(\"로타랙트\")==True]"
   ]
  },
  {
   "cell_type": "code",
   "execution_count": 158,
   "metadata": {},
   "outputs": [],
   "source": [
    "six[six.str.contains(\"로타랙트\")==True]=\"\""
   ]
  },
  {
   "cell_type": "code",
   "execution_count": 159,
   "metadata": {},
   "outputs": [],
   "source": [
    "six[six.str.contains(\"학점 3.77\")==True]\n",
    "df.at[six[six.str.contains(\"학점 3.77\")==True].index,[\"학점\"]]=six[six.str.contains(\"학점 3.77\")==True]"
   ]
  },
  {
   "cell_type": "code",
   "execution_count": 160,
   "metadata": {},
   "outputs": [],
   "source": [
    "six[six.str.contains(\"학점 3.77\")==True]=\"\""
   ]
  },
  {
   "cell_type": "code",
   "execution_count": 161,
   "metadata": {},
   "outputs": [],
   "source": [
    "six[six.str.contains(\"인턴\")==True]\n",
    "df.at[six[six.str.contains(\"인턴\")==True].index,[\"경험사항\"]]=six[six.str.contains(\"인턴\")==True]"
   ]
  },
  {
   "cell_type": "code",
   "execution_count": 162,
   "metadata": {},
   "outputs": [],
   "source": [
    "six[six.str.contains(\"인턴\")==True]=\"\""
   ]
  },
  {
   "cell_type": "code",
   "execution_count": 163,
   "metadata": {},
   "outputs": [],
   "source": [
    "six[six.str.contains(\"동아리 9회\")==True]\n",
    "df.at[six[six.str.contains(\"동아리 9회\")==True].index,[\"경험사항\"]]=six[six.str.contains(\"동아리 9회\")==True]"
   ]
  },
  {
   "cell_type": "code",
   "execution_count": 164,
   "metadata": {},
   "outputs": [],
   "source": [
    "six[six.str.contains(\"동아리 9회\")==True]=\"\""
   ]
  },
  {
   "cell_type": "code",
   "execution_count": 165,
   "metadata": {},
   "outputs": [],
   "source": [
    "six[six.str.contains(\"학점 4.01\")==True]\n",
    "df.at[six[six.str.contains(\"학점 4.01\")==True].index,[\"학점\"]]=six[six.str.contains(\"학점 4.01\")==True]"
   ]
  },
  {
   "cell_type": "code",
   "execution_count": 166,
   "metadata": {},
   "outputs": [],
   "source": [
    "six[six.str.contains(\"학점 4.01\")==True]=\"\""
   ]
  },
  {
   "cell_type": "code",
   "execution_count": 167,
   "metadata": {},
   "outputs": [],
   "source": [
    "six.to_csv(\"2.txt\")"
   ]
  },
  {
   "cell_type": "code",
   "execution_count": 168,
   "metadata": {},
   "outputs": [],
   "source": [
    "six[six.str.contains(\"최우수공로상\")==True]\n",
    "df.at[six[six.str.contains(\"최우수공로상\")==True].index,[\"경험사항\"]]=six[six.str.contains(\"최우수공로상\")==True]"
   ]
  },
  {
   "cell_type": "code",
   "execution_count": 169,
   "metadata": {},
   "outputs": [],
   "source": [
    "six[six.str.contains(\"최우수공로상\")==True]=\"\""
   ]
  },
  {
   "cell_type": "code",
   "execution_count": 170,
   "metadata": {},
   "outputs": [],
   "source": [
    "six[six.str.contains(\"봉사단\")==True]\n",
    "df.at[six[six.str.contains(\"봉사단\")==True].index,[\"경험사항\"]]=six[six.str.contains(\"봉사단\")==True]"
   ]
  },
  {
   "cell_type": "code",
   "execution_count": 171,
   "metadata": {},
   "outputs": [],
   "source": [
    "six[six.str.contains(\"봉사단\")==True]=\"\""
   ]
  },
  {
   "cell_type": "code",
   "execution_count": 172,
   "metadata": {},
   "outputs": [],
   "source": [
    "six[six.str.contains(\"공연기획\")==True]\n",
    "df.at[six[six.str.contains(\"공연기획\")==True].index,[\"경험사항\"]]=six[six.str.contains(\"공연기획\")==True]"
   ]
  },
  {
   "cell_type": "code",
   "execution_count": 173,
   "metadata": {},
   "outputs": [],
   "source": [
    "six[six.str.contains(\"공연기획\")==True]=\"\""
   ]
  },
  {
   "cell_type": "code",
   "execution_count": 174,
   "metadata": {},
   "outputs": [],
   "source": [
    "six[six.str.contains(\"국토대장정\")==True]\n",
    "df.at[six[six.str.contains(\"국토대장정\")==True].index,[\"경험사항\"]]=six[six.str.contains(\"국토대장정\")==True]"
   ]
  },
  {
   "cell_type": "code",
   "execution_count": 175,
   "metadata": {},
   "outputs": [],
   "source": [
    "six[six.str.contains(\"국토대장정\")==True]=\"\""
   ]
  },
  {
   "cell_type": "code",
   "execution_count": 176,
   "metadata": {},
   "outputs": [],
   "source": [
    "six[six.str.contains(\"뮤지컬\")==True]\n",
    "df.at[six[six.str.contains(\"뮤지컬\")==True].index,[\"경험사항\"]]=six[six.str.contains(\"뮤지컬\")==True]"
   ]
  },
  {
   "cell_type": "code",
   "execution_count": 177,
   "metadata": {},
   "outputs": [],
   "source": [
    "six[six.str.contains(\"뮤지컬\")==True]=\"\""
   ]
  },
  {
   "cell_type": "code",
   "execution_count": 178,
   "metadata": {},
   "outputs": [],
   "source": [
    "six[six.str.contains(\"동아리\")==True]\n",
    "df.at[six[six.str.contains(\"동아리\")==True].index,[\"경험사항\"]]=six[six.str.contains(\"동아리\")==True]"
   ]
  },
  {
   "cell_type": "code",
   "execution_count": 179,
   "metadata": {},
   "outputs": [],
   "source": [
    "six[six.str.contains(\"동아리\")==True]=\"\""
   ]
  },
  {
   "cell_type": "code",
   "execution_count": 180,
   "metadata": {},
   "outputs": [],
   "source": [
    "six[six.str.contains(\"CAU\")==True]\n",
    "df.at[six[six.str.contains(\"CAU\")==True].index,[\"경험사항\"]]=six[six.str.contains(\"CAU\")==True]"
   ]
  },
  {
   "cell_type": "code",
   "execution_count": 181,
   "metadata": {},
   "outputs": [],
   "source": [
    "six[six.str.contains(\"CAU\")==True]=\"\""
   ]
  },
  {
   "cell_type": "code",
   "execution_count": 182,
   "metadata": {},
   "outputs": [],
   "source": [
    "six[six.str.contains(\"울산대학교\")==True]\n",
    "df.at[six[six.str.contains(\"울산대학교\")==True].index,[\"경험사항\"]]=six[six.str.contains(\"울산대학교\")==True]"
   ]
  },
  {
   "cell_type": "code",
   "execution_count": 183,
   "metadata": {},
   "outputs": [],
   "source": [
    "six[six.str.contains(\"울산대학교\")==True]=\"\""
   ]
  },
  {
   "cell_type": "code",
   "execution_count": 184,
   "metadata": {},
   "outputs": [],
   "source": [
    "six[six.str.contains(\"봉사\")==True]\n",
    "df.at[six[six.str.contains(\"봉사\")==True].index,[\"경험사항\"]]=six[six.str.contains(\"봉사\")==True]"
   ]
  },
  {
   "cell_type": "code",
   "execution_count": 185,
   "metadata": {},
   "outputs": [],
   "source": [
    "six[six.str.contains(\"봉사\")==True]=\"\""
   ]
  },
  {
   "cell_type": "code",
   "execution_count": 186,
   "metadata": {},
   "outputs": [],
   "source": [
    "six[six.str.contains(\"x\")==True]=\"\""
   ]
  },
  {
   "cell_type": "code",
   "execution_count": 187,
   "metadata": {},
   "outputs": [],
   "source": [
    "six[six.str.contains(\"2회\")==True]\n",
    "df.at[six[six.str.contains(\"2회\")==True].index,[\"경험사항\"]]=six[six.str.contains(\"2회\")==True]"
   ]
  },
  {
   "cell_type": "code",
   "execution_count": 188,
   "metadata": {},
   "outputs": [],
   "source": [
    "six[six.str.contains(\"2회\")==True]=\"\""
   ]
  },
  {
   "cell_type": "code",
   "execution_count": 189,
   "metadata": {},
   "outputs": [],
   "source": [
    "six[six.str.contains(\"한국과학\")==True]\n",
    "df.at[six[six.str.contains(\"한국과학\")==True].index,[\"경험사항\"]]=six[six.str.contains(\"한국과학\")==True]"
   ]
  },
  {
   "cell_type": "code",
   "execution_count": 190,
   "metadata": {},
   "outputs": [],
   "source": [
    "six[six.str.contains(\"한국과학\")==True]=\"\""
   ]
  },
  {
   "cell_type": "code",
   "execution_count": 191,
   "metadata": {},
   "outputs": [],
   "source": [
    "six[six.str.contains(\"6시그마\")==True]\n",
    "df.at[six[six.str.contains(\"6시그마\")==True].index,[\"경험사항\"]]=six[six.str.contains(\"6시그마\")==True]"
   ]
  },
  {
   "cell_type": "code",
   "execution_count": 192,
   "metadata": {},
   "outputs": [],
   "source": [
    "six[six.str.contains(\"6시그마\")==True]=\"\""
   ]
  },
  {
   "cell_type": "code",
   "execution_count": 193,
   "metadata": {},
   "outputs": [],
   "source": [
    "six[six.str.contains(\"필리핀\")==True]\n",
    "df.at[six[six.str.contains(\"필리핀\")==True].index,[\"경험사항\"]]=six[six.str.contains(\"필리핀\")==True]"
   ]
  },
  {
   "cell_type": "code",
   "execution_count": 194,
   "metadata": {},
   "outputs": [],
   "source": [
    "six[six.str.contains(\"필리핀\")==True]=\"\""
   ]
  },
  {
   "cell_type": "code",
   "execution_count": 195,
   "metadata": {},
   "outputs": [],
   "source": [
    "six[six.str.contains(\"야구단\")==True]\n",
    "df.at[six[six.str.contains(\"야구단\")==True].index,[\"경험사항\"]]=six[six.str.contains(\"야구단\")==True]"
   ]
  },
  {
   "cell_type": "code",
   "execution_count": 196,
   "metadata": {},
   "outputs": [],
   "source": [
    "six[six.str.contains(\"야구단\")==True]=\"\""
   ]
  },
  {
   "cell_type": "code",
   "execution_count": 197,
   "metadata": {},
   "outputs": [],
   "source": [
    "six[six.str.contains(\"한국공항\")==True]\n",
    "df.at[six[six.str.contains(\"한국공항\")==True].index,[\"경험사항\"]]=six[six.str.contains(\"한국공항\")==True]"
   ]
  },
  {
   "cell_type": "code",
   "execution_count": 198,
   "metadata": {},
   "outputs": [],
   "source": [
    "six[six.str.contains(\"한국공항\")==True]=\"\""
   ]
  },
  {
   "cell_type": "code",
   "execution_count": 199,
   "metadata": {},
   "outputs": [],
   "source": [
    "six[six.str.contains(\"대한금속\")==True]\n",
    "df.at[six[six.str.contains(\"대한금속\")==True].index,[\"경험사항\"]]=six[six.str.contains(\"대한금속\")==True]"
   ]
  },
  {
   "cell_type": "code",
   "execution_count": 200,
   "metadata": {},
   "outputs": [],
   "source": [
    "six[six.str.contains(\"대한금속\")==True]=\"\""
   ]
  },
  {
   "cell_type": "code",
   "execution_count": 202,
   "metadata": {},
   "outputs": [],
   "source": [
    "six.to_csv(\"2.txt\")"
   ]
  },
  {
   "cell_type": "code",
   "execution_count": 204,
   "metadata": {},
   "outputs": [],
   "source": [
    "six[six.str.contains(\"국제무역사\")==True]\n",
    "df.at[six[six.str.contains(\"국제무역사\")==True].index,[\"자격증\"]]=six[six.str.contains(\"국제무역사\")==True]"
   ]
  },
  {
   "cell_type": "code",
   "execution_count": 205,
   "metadata": {},
   "outputs": [],
   "source": [
    "six[six.str.contains(\"국제무역사\")==True]=\"\""
   ]
  },
  {
   "cell_type": "code",
   "execution_count": 206,
   "metadata": {},
   "outputs": [],
   "source": [
    "six[six.str.contains(\"창업\")==True]=\"\""
   ]
  },
  {
   "cell_type": "code",
   "execution_count": 209,
   "metadata": {},
   "outputs": [],
   "source": [
    "six[six.str.contains(\"현장\")==True]\n",
    "df.at[six[six.str.contains(\"현장\")==True].index,[\"경험사항\"]]=six[six.str.contains(\"현장\")==True]"
   ]
  },
  {
   "cell_type": "code",
   "execution_count": 211,
   "metadata": {},
   "outputs": [],
   "source": [
    "six[six.str.contains(\"현장\")==True]=\"\""
   ]
  },
  {
   "cell_type": "code",
   "execution_count": 213,
   "metadata": {},
   "outputs": [],
   "source": [
    "six[six.str.contains(\"w\")==True]\n",
    "df.at[six[six.str.contains(\"w\")==True].index,[\"경험사항\"]]=six[six.str.contains(\"w\")==True]"
   ]
  },
  {
   "cell_type": "code",
   "execution_count": 214,
   "metadata": {},
   "outputs": [],
   "source": [
    "six[six.str.contains(\"w\")==True]=\"\""
   ]
  },
  {
   "cell_type": "code",
   "execution_count": 217,
   "metadata": {},
   "outputs": [],
   "source": [
    "six[six.str.contains(\"교내\")==True]\n",
    "df.at[six[six.str.contains(\"교내\")==True].index,[\"경험사항\"]]=six[six.str.contains(\"교내\")==True]"
   ]
  },
  {
   "cell_type": "code",
   "execution_count": 219,
   "metadata": {},
   "outputs": [],
   "source": [
    "six[six.str.contains(\"교내\")==True]=\"\""
   ]
  },
  {
   "cell_type": "code",
   "execution_count": 222,
   "metadata": {},
   "outputs": [],
   "source": [
    "six[six.str.contains(\"대외\")==True]\n",
    "df.at[six[six.str.contains(\"대외\")==True].index,[\"경험사항\"]]=six[six.str.contains(\"대외\")==True]"
   ]
  },
  {
   "cell_type": "code",
   "execution_count": 223,
   "metadata": {},
   "outputs": [],
   "source": [
    "six.to_csv(\"2.txt\")"
   ]
  },
  {
   "cell_type": "code",
   "execution_count": 225,
   "metadata": {},
   "outputs": [],
   "source": [
    "six[six.str.contains(\"대외\")==True]=\"\""
   ]
  },
  {
   "cell_type": "code",
   "execution_count": 229,
   "metadata": {},
   "outputs": [],
   "source": [
    "six[six.str.contains(\"4.17\")==True]\n",
    "df.at[six[six.str.contains(\"4.17\")==True].index,[\"학점\"]]=six[six.str.contains(\"4.17\")==True]"
   ]
  },
  {
   "cell_type": "code",
   "execution_count": 231,
   "metadata": {},
   "outputs": [],
   "source": [
    "six[six.str.contains(\"4.17\")==True]=\"4.17\""
   ]
  },
  {
   "cell_type": "code",
   "execution_count": 230,
   "metadata": {},
   "outputs": [],
   "source": [
    "six[six.str.contains(\"4.17\")==True]=\"\""
   ]
  },
  {
   "cell_type": "code",
   "execution_count": 235,
   "metadata": {},
   "outputs": [],
   "source": [
    "six[six.str.contains(\"우리\")==True]=\"\""
   ]
  },
  {
   "cell_type": "code",
   "execution_count": 233,
   "metadata": {},
   "outputs": [],
   "source": [
    "df.at[six[six.str.contains(\"우리\")==True].index,[\"경험사항\"]]=six[six.str.contains(\"우리\")==True]"
   ]
  },
  {
   "cell_type": "code",
   "execution_count": 238,
   "metadata": {},
   "outputs": [],
   "source": [
    "six[six.str.contains(\"공기\")==True]=\"\""
   ]
  },
  {
   "cell_type": "code",
   "execution_count": 237,
   "metadata": {},
   "outputs": [],
   "source": [
    "df.at[six[six.str.contains(\"공기\")==True].index,[\"경험사항\"]]=six[six.str.contains(\"공기\")==True]"
   ]
  },
  {
   "cell_type": "code",
   "execution_count": 239,
   "metadata": {},
   "outputs": [],
   "source": [
    "six[six.str.contains(\"무\")==True]=\"\""
   ]
  },
  {
   "cell_type": "code",
   "execution_count": 242,
   "metadata": {},
   "outputs": [],
   "source": [
    "six[six.str.contains(\"해외연수\")==True]=\"\""
   ]
  },
  {
   "cell_type": "code",
   "execution_count": 241,
   "metadata": {},
   "outputs": [],
   "source": [
    "df.at[six[six.str.contains(\"해외연수\")==True].index,[\"경험사항\"]]=six[six.str.contains(\"해외연수\")==True]"
   ]
  },
  {
   "cell_type": "code",
   "execution_count": 245,
   "metadata": {},
   "outputs": [],
   "source": [
    "six[six.str.contains(\"LG\")==True]=\"\""
   ]
  },
  {
   "cell_type": "code",
   "execution_count": 244,
   "metadata": {},
   "outputs": [],
   "source": [
    "df.at[six[six.str.contains(\"LG\")==True].index,[\"경험사항\"]]=six[six.str.contains(\"LG\")==True]"
   ]
  },
  {
   "cell_type": "code",
   "execution_count": 246,
   "metadata": {},
   "outputs": [],
   "source": [
    "six.to_csv(\"2.txt\")"
   ]
  },
  {
   "cell_type": "code",
   "execution_count": 248,
   "metadata": {},
   "outputs": [],
   "source": [
    "six[six.str.contains(\"홍보\")==True]\n",
    "df.at[six[six.str.contains(\"홍보\")==True].index,[\"경험사항\"]]=six[six.str.contains(\"홍보\")==True]\n",
    "six[six.str.contains(\"홍보\")==True]=\"\""
   ]
  },
  {
   "cell_type": "code",
   "execution_count": 250,
   "metadata": {},
   "outputs": [],
   "source": [
    "six[six.str.contains(\"마케팅\")==True]\n",
    "df.at[six[six.str.contains(\"마케팅\")==True].index,[\"경험사항\"]]=six[six.str.contains(\"마케팅\")==True]\n",
    "six[six.str.contains(\"마케팅\")==True]=\"\""
   ]
  },
  {
   "cell_type": "code",
   "execution_count": 253,
   "metadata": {},
   "outputs": [],
   "source": [
    "six[six.str.contains(\"자격증\")==True]\n",
    "df.at[six[six.str.contains(\"자격증\")==True].index,[\"경험사항\"]]=six[six.str.contains(\"자격증\")==True]\n",
    "six[six.str.contains(\"자격증\")==True]=\"\""
   ]
  },
  {
   "cell_type": "code",
   "execution_count": null,
   "metadata": {},
   "outputs": [],
   "source": [
    "df.at[six[six.str.contains(\"마케팅\")==True].index,[\"경험사항\"]]=six[six.str.contains(\"마케팅\")==True]\n",
    "six[six.str.contains(\"마케팅\")==True]=\"\""
   ]
  }
 ],
 "metadata": {
  "kernelspec": {
   "display_name": "Python 3",
   "language": "python",
   "name": "python3"
  },
  "language_info": {
   "codemirror_mode": {
    "name": "ipython",
    "version": 3
   },
   "file_extension": ".py",
   "mimetype": "text/x-python",
   "name": "python",
   "nbconvert_exporter": "python",
   "pygments_lexer": "ipython3",
   "version": "3.7.6"
  }
 },
 "nbformat": 4,
 "nbformat_minor": 4
}
