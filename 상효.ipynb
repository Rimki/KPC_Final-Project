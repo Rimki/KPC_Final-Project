{
 "cells": [
  {
   "cell_type": "code",
   "execution_count": 269,
   "metadata": {},
   "outputs": [],
   "source": [
    "import pandas as pd"
   ]
  },
  {
   "cell_type": "code",
   "execution_count": 270,
   "metadata": {},
   "outputs": [],
   "source": [
    "raw_df = pd.read_csv(\"WriteData.csv\")"
   ]
  },
  {
   "cell_type": "code",
   "execution_count": 324,
   "metadata": {
    "scrolled": true
   },
   "outputs": [],
   "source": [
    "df=pd.read_csv(\"0811j.csv\")"
   ]
  },
  {
   "cell_type": "code",
   "execution_count": 325,
   "metadata": {},
   "outputs": [],
   "source": [
    "first = raw_df[\"2\"].str.split(\"/\",expand=True)[0]\n",
    "second = raw_df[\"2\"].str.split(\"/\",expand=True)[1]\n",
    "third = raw_df[\"2\"].str.split(\"/\",expand=True)[2]\n",
    "#raw_df[\"2\"].str.split(\"/\",expand=True)[3]\n",
    "#raw_df[\"2\"].str.split(\"/\",expand=True)[4]\n",
    "#raw_df[\"2\"].str.split(\"/\",expand=True)[5]"
   ]
  },
  {
   "cell_type": "code",
   "execution_count": 326,
   "metadata": {},
   "outputs": [
    {
     "data": {
      "text/plain": [
       "0         인천 글로벌 숙련 진흥원 5일, 선반, 용접, 특수용접, 설비보전\n",
       "1                                     학점 3.92 \n",
       "2                                       토익830 \n",
       "3                                      토익 835 \n",
       "4                                      토익 780 \n",
       "                         ...                  \n",
       "10102                                  학점 4.3 \n",
       "10103                                  학점 3.06\n",
       "10104                                  학점 3.7 \n",
       "10105                                  학점 3.7 \n",
       "10106                                  학점 3.7 \n",
       "Name: 2, Length: 10107, dtype: object"
      ]
     },
     "execution_count": 326,
     "metadata": {},
     "output_type": "execute_result"
    }
   ],
   "source": [
    "third"
   ]
  },
  {
   "cell_type": "code",
   "execution_count": 327,
   "metadata": {},
   "outputs": [
    {
     "data": {
      "text/plain": [
       "1         학점 3.92 \n",
       "187        학점 3.9 \n",
       "191        학점 3.0 \n",
       "192       학점 3.04 \n",
       "199       학점 3.67 \n",
       "           ...    \n",
       "10102      학점 4.3 \n",
       "10103      학점 3.06\n",
       "10104      학점 3.7 \n",
       "10105      학점 3.7 \n",
       "10106      학점 3.7 \n",
       "Name: 2, Length: 7570, dtype: object"
      ]
     },
     "execution_count": 327,
     "metadata": {},
     "output_type": "execute_result"
    }
   ],
   "source": [
    "# 이름 바꾸기\n",
    "third[third.str.contains(\"학점\")==True]"
   ]
  },
  {
   "cell_type": "code",
   "execution_count": 328,
   "metadata": {},
   "outputs": [],
   "source": [
    "#컬럼에 집어넣기\n",
    "df.at[third[third.str.contains(\"학점\")==True].index,[\"학점\"]]=third[third.str.contains(\"학점\")==True]"
   ]
  },
  {
   "cell_type": "code",
   "execution_count": 329,
   "metadata": {},
   "outputs": [],
   "source": [
    "#컬럼 삭제\n",
    "third[third.str.contains(\"학점\")==True]=\"\""
   ]
  },
  {
   "cell_type": "code",
   "execution_count": 330,
   "metadata": {},
   "outputs": [
    {
     "data": {
      "text/plain": [
       "0         학점 1.7등급 \n",
       "1          학점 3.92 \n",
       "2           학점 3.3 \n",
       "3          학점 3.87 \n",
       "4           학점 4.0 \n",
       "            ...    \n",
       "10102       학점 4.3 \n",
       "10103       학점 3.06\n",
       "10104       학점 3.7 \n",
       "10105       학점 3.7 \n",
       "10106       학점 3.7 \n",
       "Name: 학점, Length: 10107, dtype: object"
      ]
     },
     "execution_count": 330,
     "metadata": {},
     "output_type": "execute_result"
    }
   ],
   "source": [
    "df[\"학점\"]"
   ]
  },
  {
   "cell_type": "code",
   "execution_count": 331,
   "metadata": {},
   "outputs": [],
   "source": [
    "third[third.str.contains(\"토익 \")==True]\n",
    "df.at[third[third.str.contains(\"토익 \")==True].index,[\"어학\"]]=third[third.str.contains(\"토익 \")==True]"
   ]
  },
  {
   "cell_type": "code",
   "execution_count": 332,
   "metadata": {},
   "outputs": [],
   "source": [
    "third[third.str.contains(\"토익 \")==True] = \"\""
   ]
  },
  {
   "cell_type": "code",
   "execution_count": 333,
   "metadata": {},
   "outputs": [
    {
     "data": {
      "text/plain": [
       "Series([], Name: 2, dtype: object)"
      ]
     },
     "execution_count": 333,
     "metadata": {},
     "output_type": "execute_result"
    }
   ],
   "source": [
    "third[third.str.contains(\"토익 \")==True]"
   ]
  },
  {
   "cell_type": "code",
   "execution_count": 334,
   "metadata": {},
   "outputs": [],
   "source": [
    "third[third.str.contains(\"토익\")==True]\n",
    "df.at[third[third.str.contains(\"토익\")==True].index,[\"어학\"]]=third[third.str.contains(\"토익\")==True]"
   ]
  },
  {
   "cell_type": "code",
   "execution_count": 335,
   "metadata": {},
   "outputs": [],
   "source": [
    "third[third.str.contains(\"토익\")==True] = \"\""
   ]
  },
  {
   "cell_type": "code",
   "execution_count": 336,
   "metadata": {},
   "outputs": [
    {
     "data": {
      "text/plain": [
       "Series([], Name: 2, dtype: object)"
      ]
     },
     "execution_count": 336,
     "metadata": {},
     "output_type": "execute_result"
    }
   ],
   "source": [
    "third[third.str.contains(\"토익\")==True]"
   ]
  },
  {
   "cell_type": "code",
   "execution_count": 337,
   "metadata": {},
   "outputs": [],
   "source": [
    "third[third.str.contains(\"오픽\")==True]\n",
    "df.at[third[third.str.contains(\"오픽\")==True].index,[\"어학\"]]=third[third.str.contains(\"오픽\")==True]"
   ]
  },
  {
   "cell_type": "code",
   "execution_count": 338,
   "metadata": {},
   "outputs": [],
   "source": [
    "third[third.str.contains(\"오픽\")==True]=\"\""
   ]
  },
  {
   "cell_type": "code",
   "execution_count": 339,
   "metadata": {},
   "outputs": [
    {
     "data": {
      "text/plain": [
       "Series([], Name: 2, dtype: object)"
      ]
     },
     "execution_count": 339,
     "metadata": {},
     "output_type": "execute_result"
    }
   ],
   "source": [
    "third[third.str.contains(\"오픽\")==True]"
   ]
  },
  {
   "cell_type": "code",
   "execution_count": 340,
   "metadata": {},
   "outputs": [],
   "source": [
    "third[third.str.contains(\"오픽 \")==True]\n",
    "df.at[third[third.str.contains(\"오픽 \")==True].index,[\"어학\"]]=third[third.str.contains(\"오픽 \")==True]"
   ]
  },
  {
   "cell_type": "code",
   "execution_count": 341,
   "metadata": {},
   "outputs": [],
   "source": [
    "third[third.str.contains(\"오픽 \")==True]=\"\""
   ]
  },
  {
   "cell_type": "code",
   "execution_count": 342,
   "metadata": {
    "scrolled": true
   },
   "outputs": [
    {
     "data": {
      "text/plain": [
       "Series([], Name: 2, dtype: object)"
      ]
     },
     "execution_count": 342,
     "metadata": {},
     "output_type": "execute_result"
    }
   ],
   "source": [
    "third[third.str.contains(\"오픽 \")==True]"
   ]
  },
  {
   "cell_type": "code",
   "execution_count": 343,
   "metadata": {},
   "outputs": [],
   "source": [
    "third[third.str.contains(\"토스 \")==True]\n",
    "df.at[third[third.str.contains(\"토스 \")==True].index,[\"어학\"]]=third[third.str.contains(\"토스 \")==True]"
   ]
  },
  {
   "cell_type": "code",
   "execution_count": 344,
   "metadata": {},
   "outputs": [],
   "source": [
    "third[third.str.contains(\"토스 \")==True]=\"\""
   ]
  },
  {
   "cell_type": "code",
   "execution_count": 345,
   "metadata": {},
   "outputs": [
    {
     "data": {
      "text/plain": [
       "Series([], Name: 2, dtype: object)"
      ]
     },
     "execution_count": 345,
     "metadata": {},
     "output_type": "execute_result"
    }
   ],
   "source": [
    "third[third.str.contains(\"토스 \")==True]"
   ]
  },
  {
   "cell_type": "code",
   "execution_count": 346,
   "metadata": {},
   "outputs": [],
   "source": [
    "third[third.str.contains(\"토스\")==True]\n",
    "df.at[third[third.str.contains(\"토스\")==True].index,[\"어학\"]]=third[third.str.contains(\"토스\")==True]"
   ]
  },
  {
   "cell_type": "code",
   "execution_count": 347,
   "metadata": {},
   "outputs": [],
   "source": [
    "third[third.str.contains(\"토스\")==True]=\"\""
   ]
  },
  {
   "cell_type": "code",
   "execution_count": 348,
   "metadata": {},
   "outputs": [
    {
     "data": {
      "text/plain": [
       "Series([], Name: 2, dtype: object)"
      ]
     },
     "execution_count": 348,
     "metadata": {},
     "output_type": "execute_result"
    }
   ],
   "source": [
    "third[third.str.contains(\"토스\")==True]"
   ]
  },
  {
   "cell_type": "code",
   "execution_count": 349,
   "metadata": {},
   "outputs": [],
   "source": [
    "third[third.str.contains(\"OPIC\")==True]\n",
    "df.at[third[third.str.contains(\"OPIC\")==True].index,[\"어학\"]]=third[third.str.contains(\"OPIC\")==True]"
   ]
  },
  {
   "cell_type": "code",
   "execution_count": 350,
   "metadata": {},
   "outputs": [],
   "source": [
    "third[third.str.contains(\"OPIC\")==True]=\"\""
   ]
  },
  {
   "cell_type": "code",
   "execution_count": 351,
   "metadata": {
    "scrolled": true
   },
   "outputs": [
    {
     "data": {
      "text/plain": [
       "Series([], Name: 2, dtype: object)"
      ]
     },
     "execution_count": 351,
     "metadata": {},
     "output_type": "execute_result"
    }
   ],
   "source": [
    "third[third.str.contains(\"OPIC\")==True]"
   ]
  },
  {
   "cell_type": "code",
   "execution_count": 352,
   "metadata": {
    "scrolled": true
   },
   "outputs": [],
   "source": [
    "third[third.str.contains(\"무역영어\")==True]\n",
    "df.at[third[third.str.contains(\"무역영어\")==True].index,[\"자격증\"]]=third[third.str.contains(\"무역영어\")==True]"
   ]
  },
  {
   "cell_type": "code",
   "execution_count": 353,
   "metadata": {},
   "outputs": [],
   "source": [
    "third[third.str.contains(\"무역영어\")==True]=\"\""
   ]
  },
  {
   "cell_type": "code",
   "execution_count": 354,
   "metadata": {},
   "outputs": [],
   "source": [
    "third[third.str.contains(\"토플\")==True]\n",
    "df.at[third[third.str.contains(\"토플\")==True].index,[\"어학\"]]=third[third.str.contains(\"토플\")==True]"
   ]
  },
  {
   "cell_type": "code",
   "execution_count": 355,
   "metadata": {},
   "outputs": [],
   "source": [
    "third[third.str.contains(\"토플\")==True]=\"\""
   ]
  },
  {
   "cell_type": "code",
   "execution_count": 356,
   "metadata": {},
   "outputs": [
    {
     "data": {
      "text/plain": [
       "Series([], Name: 2, dtype: object)"
      ]
     },
     "execution_count": 356,
     "metadata": {},
     "output_type": "execute_result"
    }
   ],
   "source": [
    "third[third.str.contains(\"토플\")==True]"
   ]
  },
  {
   "cell_type": "code",
   "execution_count": 357,
   "metadata": {},
   "outputs": [],
   "source": [
    "third[third.str.contains(\"JPT\")==True]\n",
    "df.at[third[third.str.contains(\"JPT\")==True].index,[\"어학\"]]=third[third.str.contains(\"JPT\")==True]"
   ]
  },
  {
   "cell_type": "code",
   "execution_count": 358,
   "metadata": {},
   "outputs": [],
   "source": [
    "third[third.str.contains(\"JPT\")==True]=\"\""
   ]
  },
  {
   "cell_type": "code",
   "execution_count": 359,
   "metadata": {},
   "outputs": [],
   "source": [
    "third[third.str.contains(\"TOEIC\")==True]\n",
    "df.at[third[third.str.contains(\"TOEIC\")==True].index,[\"어학\"]]=third[third.str.contains(\"TOEIC\")==True]"
   ]
  },
  {
   "cell_type": "code",
   "execution_count": 360,
   "metadata": {},
   "outputs": [],
   "source": [
    "third[third.str.contains(\"TOEIC\")==True]=\"\""
   ]
  },
  {
   "cell_type": "code",
   "execution_count": 361,
   "metadata": {},
   "outputs": [],
   "source": [
    "third[third.str.contains(\"러시아어\")==True]=\"\""
   ]
  },
  {
   "cell_type": "code",
   "execution_count": 362,
   "metadata": {},
   "outputs": [],
   "source": [
    "third[third.str.contains(\"Im3\")==True]\n",
    "df.at[third[third.str.contains(\"Im3\")==True].index,[\"어학\"]]=third[third.str.contains(\"Im3\")==True]"
   ]
  },
  {
   "cell_type": "code",
   "execution_count": 363,
   "metadata": {},
   "outputs": [],
   "source": [
    "third[third.str.contains(\"Im3\")==True]=\"\""
   ]
  },
  {
   "cell_type": "code",
   "execution_count": 364,
   "metadata": {},
   "outputs": [],
   "source": [
    "third[third.str.contains(\"IH\")==True]\n",
    "df.at[third[third.str.contains(\"IH\")==True].index,[\"어학\"]]=third[third.str.contains(\"IH\")==True]"
   ]
  },
  {
   "cell_type": "code",
   "execution_count": 365,
   "metadata": {},
   "outputs": [],
   "source": [
    "third[third.str.contains(\"IH\")==True]=\"\""
   ]
  },
  {
   "cell_type": "code",
   "execution_count": 366,
   "metadata": {},
   "outputs": [],
   "source": [
    "third[third.str.contains(\"HSK\")==True]\n",
    "df.at[third[third.str.contains(\"HSK\")==True].index,[\"어학\"]]=third[third.str.contains(\"HSK\")==True]"
   ]
  },
  {
   "cell_type": "code",
   "execution_count": 367,
   "metadata": {},
   "outputs": [],
   "source": [
    "third[third.str.contains(\"HSK\")==True]=\"\""
   ]
  },
  {
   "cell_type": "code",
   "execution_count": 368,
   "metadata": {},
   "outputs": [],
   "source": [
    "third[third.str.contains(\"영어\")==True]=\"\""
   ]
  },
  {
   "cell_type": "code",
   "execution_count": 369,
   "metadata": {
    "scrolled": true
   },
   "outputs": [
    {
     "data": {
      "text/html": [
       "<div>\n",
       "<style scoped>\n",
       "    .dataframe tbody tr th:only-of-type {\n",
       "        vertical-align: middle;\n",
       "    }\n",
       "\n",
       "    .dataframe tbody tr th {\n",
       "        vertical-align: top;\n",
       "    }\n",
       "\n",
       "    .dataframe thead th {\n",
       "        text-align: right;\n",
       "    }\n",
       "</style>\n",
       "<table border=\"1\" class=\"dataframe\">\n",
       "  <thead>\n",
       "    <tr style=\"text-align: right;\">\n",
       "      <th></th>\n",
       "      <th>Unnamed: 0</th>\n",
       "      <th>기업명</th>\n",
       "      <th>지원부서</th>\n",
       "      <th>지원시기</th>\n",
       "      <th>학교</th>\n",
       "      <th>학과</th>\n",
       "      <th>학점</th>\n",
       "      <th>어학</th>\n",
       "      <th>자격증</th>\n",
       "      <th>경험사항</th>\n",
       "      <th>자소서</th>\n",
       "    </tr>\n",
       "  </thead>\n",
       "  <tbody>\n",
       "    <tr>\n",
       "      <th>0</th>\n",
       "      <td>0</td>\n",
       "      <td>한국석유공사</td>\n",
       "      <td>설비</td>\n",
       "      <td>2020 상반기</td>\n",
       "      <td>NaN</td>\n",
       "      <td>전자공학과</td>\n",
       "      <td>학점 1.7등급</td>\n",
       "      <td>NaN</td>\n",
       "      <td>NaN</td>\n",
       "      <td>NaN</td>\n",
       "      <td>7.한국석유공사\\n\\n 1. 지원 분야 직무기술서 ‘직무수행 내용’ 중 본인이 가장...</td>\n",
       "    </tr>\n",
       "    <tr>\n",
       "      <th>1</th>\n",
       "      <td>1</td>\n",
       "      <td>CJ제일제당</td>\n",
       "      <td>Food Sales</td>\n",
       "      <td>2020 상반기</td>\n",
       "      <td>서울사립대(중앙대학교)</td>\n",
       "      <td>상경계열학과</td>\n",
       "      <td>학점 3.92</td>\n",
       "      <td>NaN</td>\n",
       "      <td>NaN</td>\n",
       "      <td>NaN</td>\n",
       "      <td>CJ제일제당 및 선택한 직무에 대한 지원동기는 무엇인가요? ① 선택한 직무에 관심을...</td>\n",
       "    </tr>\n",
       "    <tr>\n",
       "      <th>2</th>\n",
       "      <td>2</td>\n",
       "      <td>한국가스안전공사</td>\n",
       "      <td>LP가스 안전지킴이사업</td>\n",
       "      <td>2020 상반기</td>\n",
       "      <td>지방거점국립대(제주대학교)</td>\n",
       "      <td>NaN</td>\n",
       "      <td>학점 3.3</td>\n",
       "      <td>토익830</td>\n",
       "      <td>NaN</td>\n",
       "      <td>NaN</td>\n",
       "      <td>\\n1. 한국가스안전공사가 진행하는 사업에 관심을 갖고 공사에 지원한 동기에 대해 ...</td>\n",
       "    </tr>\n",
       "    <tr>\n",
       "      <th>3</th>\n",
       "      <td>3</td>\n",
       "      <td>코레일</td>\n",
       "      <td>사무영업</td>\n",
       "      <td>2020 상반기</td>\n",
       "      <td>지방거점국립대(충남대학교)</td>\n",
       "      <td>NaN</td>\n",
       "      <td>학점 3.87</td>\n",
       "      <td>토익 835</td>\n",
       "      <td>NaN</td>\n",
       "      <td>NaN</td>\n",
       "      <td>1.공동체의 일원으로서 가장 중요하게 생각하는 가치를 제시하고, 그 가치를 실천했던...</td>\n",
       "    </tr>\n",
       "    <tr>\n",
       "      <th>4</th>\n",
       "      <td>4</td>\n",
       "      <td>한국기술교육대학교</td>\n",
       "      <td>행정</td>\n",
       "      <td>2020 상반기</td>\n",
       "      <td>서울사립대(건국대학교)</td>\n",
       "      <td>NaN</td>\n",
       "      <td>학점 4.0</td>\n",
       "      <td>토익 780</td>\n",
       "      <td>NaN</td>\n",
       "      <td>NaN</td>\n",
       "      <td>1. 본인이 가진 가장 뛰어난 점과 그렇게 판단한 이유, 고용노동연수원 업무수행에서...</td>\n",
       "    </tr>\n",
       "    <tr>\n",
       "      <th>...</th>\n",
       "      <td>...</td>\n",
       "      <td>...</td>\n",
       "      <td>...</td>\n",
       "      <td>...</td>\n",
       "      <td>...</td>\n",
       "      <td>...</td>\n",
       "      <td>...</td>\n",
       "      <td>...</td>\n",
       "      <td>...</td>\n",
       "      <td>...</td>\n",
       "      <td>...</td>\n",
       "    </tr>\n",
       "    <tr>\n",
       "      <th>10102</th>\n",
       "      <td>10102</td>\n",
       "      <td>현대자동차</td>\n",
       "      <td>영업관리</td>\n",
       "      <td>2013 상반기</td>\n",
       "      <td>서울사립대(상명대학교)</td>\n",
       "      <td>국제통상학과</td>\n",
       "      <td>학점 4.3</td>\n",
       "      <td>NaN</td>\n",
       "      <td>NaN</td>\n",
       "      <td>NaN</td>\n",
       "      <td>1. 현대자동차에 지원하게 된 동기 또는 해당 직무에 지원하게 된 동기는 무엇입니까...</td>\n",
       "    </tr>\n",
       "    <tr>\n",
       "      <th>10103</th>\n",
       "      <td>10103</td>\n",
       "      <td>심팩</td>\n",
       "      <td>용접관리</td>\n",
       "      <td>2013 상반기</td>\n",
       "      <td>전문대</td>\n",
       "      <td>공업화학과</td>\n",
       "      <td>학점 3.06</td>\n",
       "      <td>NaN</td>\n",
       "      <td>NaN</td>\n",
       "      <td>NaN</td>\n",
       "      <td>성격소개\\n\\n대부분의 사람들이 평가하는 첫인상은 소심하고 내성적인 성격일것이라 생...</td>\n",
       "    </tr>\n",
       "    <tr>\n",
       "      <th>10104</th>\n",
       "      <td>10104</td>\n",
       "      <td>한국전력</td>\n",
       "      <td>인턴[송,배전]</td>\n",
       "      <td>2013 상반기</td>\n",
       "      <td>지방거점국립대</td>\n",
       "      <td>전자공학과</td>\n",
       "      <td>학점 3.7</td>\n",
       "      <td>NaN</td>\n",
       "      <td>NaN</td>\n",
       "      <td>NaN</td>\n",
       "      <td>[질문 1] 취업이라는 목표 이외에 인생의 큰 목표를 세운 경험, 그 목표를 실현하...</td>\n",
       "    </tr>\n",
       "    <tr>\n",
       "      <th>10105</th>\n",
       "      <td>10105</td>\n",
       "      <td>한국전력</td>\n",
       "      <td>인턴[송,배전]</td>\n",
       "      <td>2013 상반기</td>\n",
       "      <td>지방거점국립대</td>\n",
       "      <td>전자공학과</td>\n",
       "      <td>학점 3.7</td>\n",
       "      <td>NaN</td>\n",
       "      <td>NaN</td>\n",
       "      <td>NaN</td>\n",
       "      <td>한전 자가소개서 양식 500자 12줄 이내\\n\\n[질문 1] 취업이라는 목표 이외에...</td>\n",
       "    </tr>\n",
       "    <tr>\n",
       "      <th>10106</th>\n",
       "      <td>10106</td>\n",
       "      <td>한국전력</td>\n",
       "      <td>인턴[송,배전]</td>\n",
       "      <td>2013 상반기</td>\n",
       "      <td>지방거점국립대</td>\n",
       "      <td>전자공학과</td>\n",
       "      <td>학점 3.7</td>\n",
       "      <td>NaN</td>\n",
       "      <td>NaN</td>\n",
       "      <td>NaN</td>\n",
       "      <td>한전 자가소개서 양식 500자 12줄 이내\\n\\n[질문 1] 취업이라는 목표 이외에...</td>\n",
       "    </tr>\n",
       "  </tbody>\n",
       "</table>\n",
       "<p>10107 rows × 11 columns</p>\n",
       "</div>"
      ],
      "text/plain": [
       "       Unnamed: 0         기업명            지원부서       지원시기              학교  \\\n",
       "0               0     한국석유공사              설비    2020 상반기             NaN   \n",
       "1               1     CJ제일제당      Food Sales    2020 상반기    서울사립대(중앙대학교)   \n",
       "2               2   한국가스안전공사    LP가스 안전지킴이사업    2020 상반기  지방거점국립대(제주대학교)   \n",
       "3               3        코레일            사무영업    2020 상반기  지방거점국립대(충남대학교)   \n",
       "4               4  한국기술교육대학교              행정    2020 상반기    서울사립대(건국대학교)   \n",
       "...           ...         ...             ...        ...             ...   \n",
       "10102       10102      현대자동차            영업관리    2013 상반기    서울사립대(상명대학교)   \n",
       "10103       10103         심팩            용접관리    2013 상반기             전문대   \n",
       "10104       10104       한국전력        인턴[송,배전]    2013 상반기         지방거점국립대   \n",
       "10105       10105       한국전력        인턴[송,배전]    2013 상반기         지방거점국립대   \n",
       "10106       10106       한국전력        인턴[송,배전]    2013 상반기         지방거점국립대   \n",
       "\n",
       "           학과          학점        어학  자격증 경험사항  \\\n",
       "0       전자공학과   학점 1.7등급        NaN  NaN  NaN   \n",
       "1      상경계열학과    학점 3.92        NaN  NaN  NaN   \n",
       "2         NaN     학점 3.3     토익830   NaN  NaN   \n",
       "3         NaN    학점 3.87    토익 835   NaN  NaN   \n",
       "4         NaN     학점 4.0    토익 780   NaN  NaN   \n",
       "...       ...         ...       ...  ...  ...   \n",
       "10102  국제통상학과     학점 4.3        NaN  NaN  NaN   \n",
       "10103   공업화학과     학점 3.06       NaN  NaN  NaN   \n",
       "10104   전자공학과     학점 3.7        NaN  NaN  NaN   \n",
       "10105   전자공학과     학점 3.7        NaN  NaN  NaN   \n",
       "10106   전자공학과     학점 3.7        NaN  NaN  NaN   \n",
       "\n",
       "                                                     자소서  \n",
       "0      7.한국석유공사\\n\\n 1. 지원 분야 직무기술서 ‘직무수행 내용’ 중 본인이 가장...  \n",
       "1      CJ제일제당 및 선택한 직무에 대한 지원동기는 무엇인가요? ① 선택한 직무에 관심을...  \n",
       "2      \\n1. 한국가스안전공사가 진행하는 사업에 관심을 갖고 공사에 지원한 동기에 대해 ...  \n",
       "3      1.공동체의 일원으로서 가장 중요하게 생각하는 가치를 제시하고, 그 가치를 실천했던...  \n",
       "4      1. 본인이 가진 가장 뛰어난 점과 그렇게 판단한 이유, 고용노동연수원 업무수행에서...  \n",
       "...                                                  ...  \n",
       "10102  1. 현대자동차에 지원하게 된 동기 또는 해당 직무에 지원하게 된 동기는 무엇입니까...  \n",
       "10103  성격소개\\n\\n대부분의 사람들이 평가하는 첫인상은 소심하고 내성적인 성격일것이라 생...  \n",
       "10104  [질문 1] 취업이라는 목표 이외에 인생의 큰 목표를 세운 경험, 그 목표를 실현하...  \n",
       "10105  한전 자가소개서 양식 500자 12줄 이내\\n\\n[질문 1] 취업이라는 목표 이외에...  \n",
       "10106  한전 자가소개서 양식 500자 12줄 이내\\n\\n[질문 1] 취업이라는 목표 이외에...  \n",
       "\n",
       "[10107 rows x 11 columns]"
      ]
     },
     "execution_count": 369,
     "metadata": {},
     "output_type": "execute_result"
    }
   ],
   "source": [
    "df"
   ]
  },
  {
   "cell_type": "markdown",
   "metadata": {},
   "source": [
    "# 자격증 및 경험사항"
   ]
  },
  {
   "cell_type": "code",
   "execution_count": 371,
   "metadata": {},
   "outputs": [],
   "source": [
    "third[third.str.contains(\"세종\")==True]\n",
    "df.at[third[third.str.contains(\"세종\")==True].index,[\"자격증\"]]=\"한국사검정능력1급, GAIQ고급\""
   ]
  },
  {
   "cell_type": "code",
   "execution_count": 372,
   "metadata": {},
   "outputs": [],
   "source": [
    "third[third.str.contains(\"세종\")==True]\n",
    "df.at[third[third.str.contains(\"세종\")==True].index,[\"경험사항\"]]=\"세종문화회관 인턴 (2개월), 구립망원청소년문화센터 계약직 (6개월), CJ ONE 대학생 서포터즈 3기 (3개월), 라틴음악동아리 (2년), 국악동아리 (6개월)\""
   ]
  },
  {
   "cell_type": "code",
   "execution_count": 373,
   "metadata": {},
   "outputs": [],
   "source": [
    "third[third.str.contains(\"세종\")==True]=\"\""
   ]
  },
  {
   "cell_type": "code",
   "execution_count": 374,
   "metadata": {},
   "outputs": [],
   "source": [
    "third[third.str.contains(\"인천 글로벌\")==True]\n",
    "df.at[third[third.str.contains(\"인천 글로벌\")==True].index,[\"경험사항\"]]=\"인천 글로벌 숙련 진흥원, 선반, 용접 ,특수용접, 설비보전\""
   ]
  },
  {
   "cell_type": "code",
   "execution_count": 375,
   "metadata": {},
   "outputs": [],
   "source": [
    "third[third.str.contains(\"인천 글로벌\")==True]=\"\""
   ]
  },
  {
   "cell_type": "code",
   "execution_count": 376,
   "metadata": {},
   "outputs": [],
   "source": [
    "third[third.str.contains(\"한국사능력검정시험 1급$\")==True]\n",
    "df.at[third[third.str.contains(\"한국사능력검정시험 1급$\")==True].index,[\"자격증\"]]=\"한국사검정능력1급\""
   ]
  },
  {
   "cell_type": "code",
   "execution_count": 377,
   "metadata": {},
   "outputs": [],
   "source": [
    "third[third.str.contains(\"한국사능력검정시험 1급$\")==True]=\"\""
   ]
  },
  {
   "cell_type": "code",
   "execution_count": 379,
   "metadata": {},
   "outputs": [],
   "source": [
    "third[third.str.contains(\"LG 디스플레이\")==True]\n",
    "df.at[third[third.str.contains(\"LG 디스플레이\")==True].index,[\"자격증\"]]=\"한국사검정능력1급, 전기기사, 전기공사기사\""
   ]
  },
  {
   "cell_type": "code",
   "execution_count": 380,
   "metadata": {},
   "outputs": [],
   "source": [
    "third[third.str.contains(\"LG 디스플레이\")==True]\n",
    "df.at[third[third.str.contains(\"LG 디스플레이\")==True].index,[\"경험사항\"]]=\"LG 디스플레이 3년 근무\""
   ]
  },
  {
   "cell_type": "code",
   "execution_count": 381,
   "metadata": {},
   "outputs": [],
   "source": [
    "third[third.str.contains(\"LG 디스플레이\")==True]=\"\""
   ]
  },
  {
   "cell_type": "code",
   "execution_count": 382,
   "metadata": {},
   "outputs": [],
   "source": [
    "third[third.str.contains(\"산업안전기사\")==True]\n",
    "df.at[third[third.str.contains(\"산업안전기사\")==True].index,[\"자격증\"]]=\"한국사검정능력1급, 산업안전기사, 위험물산산업기사\""
   ]
  },
  {
   "cell_type": "code",
   "execution_count": 383,
   "metadata": {},
   "outputs": [],
   "source": [
    "third[third.str.contains(\"산업안전기사\")==True]=\"\""
   ]
  },
  {
   "cell_type": "code",
   "execution_count": 384,
   "metadata": {},
   "outputs": [],
   "source": [
    "third[third.str.contains(\"중소기업 계약직\")==True]\n",
    "df.at[third[third.str.contains(\"중소기업 계약직\")==True].index,[\"경험사항\"]]=\"중소기업 계약직 1년\""
   ]
  },
  {
   "cell_type": "code",
   "execution_count": 385,
   "metadata": {},
   "outputs": [],
   "source": [
    "third[third.str.contains(\"중소기업 계약직\")==True]=\"\""
   ]
  },
  {
   "cell_type": "code",
   "execution_count": 386,
   "metadata": {},
   "outputs": [],
   "source": [
    "third[third.str.contains(\"SAS Certified\")==True] \n",
    "df.at[third[third.str.contains(\"SAS Certified\")==True].index,[\"경험사항\"]]=\"SAS Certified Base Programmer for SAS 9, SAS Certified Advanced Programmer for SAS 9 SQLD, GBSA SW-tech 전문교육 1기 (Data Scientist Academy) (1개월), 넥슨코리아 데이터분석 인턴 (6개월)\""
   ]
  },
  {
   "cell_type": "code",
   "execution_count": 387,
   "metadata": {},
   "outputs": [],
   "source": [
    "third[third.str.contains(\"SAS Certified\")==True]=\"\""
   ]
  },
  {
   "cell_type": "code",
   "execution_count": 388,
   "metadata": {},
   "outputs": [],
   "source": [
    "third[third.str.contains(\"중소기업인턴\")==True]\n",
    "df.at[third[third.str.contains(\"중소기업인턴\")==True].index,[\"경험사항\"]]=\"중소기업인턴\""
   ]
  },
  {
   "cell_type": "code",
   "execution_count": 389,
   "metadata": {},
   "outputs": [],
   "source": [
    "third[third.str.contains(\"중소기업인턴\")==True]\n",
    "df.at[third[third.str.contains(\"중소기업인턴\")==True].index,[\"자격증\"]]=\"한국사검정능력2급\""
   ]
  },
  {
   "cell_type": "code",
   "execution_count": 390,
   "metadata": {},
   "outputs": [],
   "source": [
    "third[third.str.contains(\"중소기업인턴\")==True]=\"\""
   ]
  },
  {
   "cell_type": "code",
   "execution_count": 391,
   "metadata": {},
   "outputs": [],
   "source": [
    "third[third.str.contains(\"컴퓨터활용능력 1급\")==True]\n",
    "df.at[third[third.str.contains(\"컴퓨터활용능력 1급\")==True].index,[\"자격증\"]]=third[third.str.contains(\"컴퓨터활용능력 1급\")==True]"
   ]
  },
  {
   "cell_type": "code",
   "execution_count": 392,
   "metadata": {},
   "outputs": [],
   "source": [
    "third[third.str.contains(\"컴퓨터활용능력 1급\")==True]=\"\""
   ]
  },
  {
   "cell_type": "code",
   "execution_count": 393,
   "metadata": {},
   "outputs": [],
   "source": [
    "third[third.str.contains(\"학과 학생회\")==True]\n",
    "df.at[third[third.str.contains(\"학과 학생회\")==True].index,[\"경험사항\"]]=\"학과 학생회 (2년)\""
   ]
  },
  {
   "cell_type": "code",
   "execution_count": 394,
   "metadata": {},
   "outputs": [],
   "source": [
    "third[third.str.contains(\"학과 학생회\")==True]\n",
    "df.at[third[third.str.contains(\"학과 학생회\")==True].index,[\"자격증\"]]=\"컴퓨터활용능력 2급\""
   ]
  },
  {
   "cell_type": "code",
   "execution_count": 395,
   "metadata": {},
   "outputs": [],
   "source": [
    "third[third.str.contains(\"학과 학생회\")==True]=\"\""
   ]
  },
  {
   "cell_type": "code",
   "execution_count": 396,
   "metadata": {},
   "outputs": [],
   "source": [
    "third[third.str.contains(\"2018\")==True]\n",
    "df.at[third[third.str.contains(\"2018\")==True].index,[\"경험사항\"]]=third[third.str.contains(\"2018\")==True]"
   ]
  },
  {
   "cell_type": "code",
   "execution_count": 397,
   "metadata": {},
   "outputs": [],
   "source": [
    "third[third.str.contains(\"2018\")==True]=\"\""
   ]
  },
  {
   "cell_type": "code",
   "execution_count": 401,
   "metadata": {},
   "outputs": [],
   "source": [
    "third[third.str.contains(\"한전\")==True]\n",
    "df.at[third[third.str.contains(\"한전\")==True].index,[\"경험사항\"]]=\"한전 kps 인턴\""
   ]
  },
  {
   "cell_type": "code",
   "execution_count": 402,
   "metadata": {},
   "outputs": [],
   "source": [
    "third[third.str.contains(\"한전\")==True]\n",
    "df.at[third[third.str.contains(\"한전\")==True].index,[\"자격증\"]]=\"한국사검정능력 2급, 전기기사\""
   ]
  },
  {
   "cell_type": "code",
   "execution_count": 403,
   "metadata": {},
   "outputs": [],
   "source": [
    "third[third.str.contains(\"한전\")==True]=\"\""
   ]
  },
  {
   "cell_type": "code",
   "execution_count": 404,
   "metadata": {},
   "outputs": [],
   "source": [
    "third[third.str.contains(\"한자\")==True]\n",
    "df.at[third[third.str.contains(\"한자\")==True].index,[\"자격증\"]]=third[third.str.contains(\"한자\")==True]"
   ]
  },
  {
   "cell_type": "code",
   "execution_count": 405,
   "metadata": {},
   "outputs": [],
   "source": [
    "third[third.str.contains(\"한자\")==True]=\"\""
   ]
  },
  {
   "cell_type": "code",
   "execution_count": 406,
   "metadata": {},
   "outputs": [],
   "source": [
    "third[third.str.contains(\"정보처리기사\")==True]\n",
    "df.at[third[third.str.contains(\"정보처리기사\")==True].index,[\"자격증\"]]=third[third.str.contains(\"정보처리기사\")==True]"
   ]
  },
  {
   "cell_type": "code",
   "execution_count": 407,
   "metadata": {},
   "outputs": [],
   "source": [
    "third[third.str.contains(\"정보처리기사\")==True]=\"\""
   ]
  },
  {
   "cell_type": "code",
   "execution_count": 408,
   "metadata": {},
   "outputs": [],
   "source": [
    "third[third.str.contains(\"재경관리사\")==True]\n",
    "df.at[third[third.str.contains(\"재경관리사\")==True].index,[\"자격증\"]]=third[third.str.contains(\"재경관리사\")==True]"
   ]
  },
  {
   "cell_type": "code",
   "execution_count": 409,
   "metadata": {},
   "outputs": [],
   "source": [
    "third[third.str.contains(\"재경관리사\")==True]=\"\""
   ]
  },
  {
   "cell_type": "code",
   "execution_count": 410,
   "metadata": {},
   "outputs": [],
   "source": [
    "third[third.str.contains(\"금융감독원\")==True]\n",
    "df.at[third[third.str.contains(\"금융감독원\")==True].index,[\"경험사항\"]]=third[third.str.contains(\"금융감독원\")==True]"
   ]
  },
  {
   "cell_type": "code",
   "execution_count": 411,
   "metadata": {},
   "outputs": [],
   "source": [
    "third[third.str.contains(\"금융감독원\")==True]=\"\""
   ]
  },
  {
   "cell_type": "code",
   "execution_count": 412,
   "metadata": {},
   "outputs": [],
   "source": [
    "third[third.str.contains(\"기술보증끔\")==True]\n",
    "df.at[third[third.str.contains(\"기술보증끔\")==True].index,[\"경험사항\"]]=\"기술보증기금 체험형인턴 (2015 하반기)\""
   ]
  },
  {
   "cell_type": "code",
   "execution_count": 413,
   "metadata": {},
   "outputs": [],
   "source": [
    "third[third.str.contains(\"기술보증끔\")==True]\n",
    "df.at[third[third.str.contains(\"기술보증끔\")==True].index,[\"자격증\"]]=\"컴퓨터활용능력1급\""
   ]
  },
  {
   "cell_type": "code",
   "execution_count": 414,
   "metadata": {},
   "outputs": [],
   "source": [
    "third[third.str.contains(\"기술보증끔\")==True]=\"\""
   ]
  },
  {
   "cell_type": "code",
   "execution_count": 415,
   "metadata": {},
   "outputs": [],
   "source": [
    "third[third.str.contains(\"한국사검정능력 1급\")==True]\n",
    "df.at[third[third.str.contains(\"한국사검정능력 1급\")==True].index,[\"자격증\"]]=third[third.str.contains(\"한국사검정능력 1급\")==True]"
   ]
  },
  {
   "cell_type": "code",
   "execution_count": 416,
   "metadata": {},
   "outputs": [],
   "source": [
    "third[third.str.contains(\"한국사검정능력 1급\")==True]=\"\""
   ]
  },
  {
   "cell_type": "code",
   "execution_count": 417,
   "metadata": {},
   "outputs": [],
   "source": [
    "third[third.str.contains(\"한국사$\")==True]\n",
    "df.at[third[third.str.contains(\"한국사$\")==True].index,[\"자격증\"]]=third[third.str.contains(\"한국사$\")==True]"
   ]
  },
  {
   "cell_type": "code",
   "execution_count": 418,
   "metadata": {},
   "outputs": [],
   "source": [
    "third[third.str.contains(\"한국사$\")==True]=\"\""
   ]
  },
  {
   "cell_type": "code",
   "execution_count": 419,
   "metadata": {},
   "outputs": [],
   "source": [
    "third[third.str.contains(\"1팀\")==True]\n",
    "df.at[third[third.str.contains(\"1팀\")==True].index,[\"경험사항\"]]=\"1팀1기업 프로젝트 금상수상, 포항흥해황금들녘 허수아비 문화축제 대상수상\""
   ]
  },
  {
   "cell_type": "code",
   "execution_count": 420,
   "metadata": {},
   "outputs": [],
   "source": [
    "third[third.str.contains(\"1팀\")==True]\n",
    "df.at[third[third.str.contains(\"1팀\")==True].index,[\"자격증\"]]=\"(기능사 : 위험물,용접,특수용접,선반,밀링,공유압), (산업기사 : 위험물산업기사)\""
   ]
  },
  {
   "cell_type": "code",
   "execution_count": 421,
   "metadata": {},
   "outputs": [],
   "source": [
    "third[third.str.contains(\"1팀\")==True]=\"\""
   ]
  },
  {
   "cell_type": "code",
   "execution_count": 422,
   "metadata": {},
   "outputs": [],
   "source": [
    "third[third.str.contains(\"실습\")==True]\n",
    "df.at[third[third.str.contains(\"실습\")==True].index,[\"경험사항\"]]=\"실습-원광대학병원영양팀(1개월), 봉사활동-복지센터(1년)\""
   ]
  },
  {
   "cell_type": "code",
   "execution_count": 423,
   "metadata": {},
   "outputs": [],
   "source": [
    "third[third.str.contains(\"실습\")==True]\n",
    "df.at[third[third.str.contains(\"실습\")==True].index,[\"자격증\"]]=\"영양사면허증, 위생사면허증, 한식조리기능사, 햅썹팀장과정수료증, 푸트예술치료사자격증\""
   ]
  },
  {
   "cell_type": "code",
   "execution_count": 424,
   "metadata": {},
   "outputs": [],
   "source": [
    "third[third.str.contains(\"실습\")==True]=\"\""
   ]
  },
  {
   "cell_type": "code",
   "execution_count": 425,
   "metadata": {},
   "outputs": [],
   "source": [
    "third[third.str.contains(\"무역협회\")==True]\n",
    "df.at[third[third.str.contains(\"무역협회\")==True].index,[\"경험사항\"]]=\"무역협회 인턴 3회, 사회 봉사 72시간\""
   ]
  },
  {
   "cell_type": "code",
   "execution_count": 426,
   "metadata": {},
   "outputs": [],
   "source": [
    "third[third.str.contains(\"무역협회\")==True]\n",
    "df.at[third[third.str.contains(\"무역협회\")==True].index,[\"자격증\"]]=\"운전면허 2종 보통, 매일경제테스트 우수등급\""
   ]
  },
  {
   "cell_type": "code",
   "execution_count": 427,
   "metadata": {},
   "outputs": [],
   "source": [
    "third[third.str.contains(\"무역협회\")==True]=\"\""
   ]
  },
  {
   "cell_type": "code",
   "execution_count": 428,
   "metadata": {},
   "outputs": [],
   "source": [
    "third[third.str.contains(\"컴퓨터활용능력1급\")==True]\n",
    "df.at[third[third.str.contains(\"컴퓨터활용능력1급\")==True].index,[\"자격증\"]]=third[third.str.contains(\"컴퓨터활용능력1급\")==True]"
   ]
  },
  {
   "cell_type": "code",
   "execution_count": 429,
   "metadata": {},
   "outputs": [],
   "source": [
    "third[third.str.contains(\"컴퓨터활용능력1급\")==True]=\"\""
   ]
  },
  {
   "cell_type": "code",
   "execution_count": 430,
   "metadata": {},
   "outputs": [],
   "source": [
    "third[third.str.contains(\"컴퓨터활용능력 2급$\")==True]\n",
    "df.at[third[third.str.contains(\"컴퓨터활용능력 2급$\")==True].index,[\"자격증\"]]=third[third.str.contains(\"컴퓨터활용능력 2급$\")==True]"
   ]
  },
  {
   "cell_type": "code",
   "execution_count": 431,
   "metadata": {},
   "outputs": [],
   "source": [
    "third[third.str.contains(\"컴퓨터활용능력 2급$\")==True]=\"\""
   ]
  },
  {
   "cell_type": "code",
   "execution_count": 432,
   "metadata": {},
   "outputs": [],
   "source": [
    "third[third.str.contains(\"컴퓨터활용능력 2급,\")==True]\n",
    "df.at[third[third.str.contains(\"컴퓨터활용능력 2급,\")==True].index,[\"경험사항\"]]=\"보건복지부 금연서포터즈 (5개월), 한국노인인력개발원(5개월), 한국장학재단 나눔지기(6개월), 근로복지공단 기자단(8개월), 학교 취업지원동아리 회장(~1년 2개월) 등\""
   ]
  },
  {
   "cell_type": "code",
   "execution_count": 433,
   "metadata": {},
   "outputs": [],
   "source": [
    "third[third.str.contains(\"컴퓨터활용능력 2급,\")==True]\n",
    "df.at[third[third.str.contains(\"컴퓨터활용능력 2급,\")==True].index,[\"자격증\"]]=\"컴퓨터활용능력 2급, 워드프로세스, 정보처리기능사, 한국사 1급\""
   ]
  },
  {
   "cell_type": "code",
   "execution_count": 434,
   "metadata": {},
   "outputs": [],
   "source": [
    "third[third.str.contains(\"컴퓨터활용능력 2급,\")==True]=\"\""
   ]
  },
  {
   "cell_type": "code",
   "execution_count": 435,
   "metadata": {},
   "outputs": [],
   "source": [
    "third[third.str.contains(\"사회복지사\")==True]\n",
    "df.at[third[third.str.contains(\"사회복지사\")==True].index,[\"자격증\"]]=third[third.str.contains(\"사회복지사\")==True]"
   ]
  },
  {
   "cell_type": "code",
   "execution_count": 436,
   "metadata": {},
   "outputs": [],
   "source": [
    "third[third.str.contains(\"사회복지사\")==True]=\"\""
   ]
  },
  {
   "cell_type": "code",
   "execution_count": 437,
   "metadata": {},
   "outputs": [],
   "source": [
    "third[third.str.contains(\"CRA\")==True]\n",
    "df.at[third[third.str.contains(\"CRA\")==True].index,[\"경험사항\"]]=third[third.str.contains(\"CRA\")==True]"
   ]
  },
  {
   "cell_type": "code",
   "execution_count": 438,
   "metadata": {},
   "outputs": [],
   "source": [
    "third[third.str.contains(\"CRA\")==True]=\"\""
   ]
  },
  {
   "cell_type": "code",
   "execution_count": 439,
   "metadata": {},
   "outputs": [],
   "source": [
    "third[third.str.contains(\"아르바이트경험\")==True]\n",
    "df.at[third[third.str.contains(\"아르바이트경험\")==True].index,[\"경험사항\"]]=third[third.str.contains(\"아르바이트경험\")==True]"
   ]
  },
  {
   "cell_type": "code",
   "execution_count": 440,
   "metadata": {},
   "outputs": [],
   "source": [
    "third[third.str.contains(\"아르바이트경험\")==True]=\"\""
   ]
  },
  {
   "cell_type": "code",
   "execution_count": 441,
   "metadata": {},
   "outputs": [],
   "source": [
    "third[third.str.contains(\"인턴, 봉사활동\")==True]\n",
    "df.at[third[third.str.contains(\"인턴, 봉사활동\")==True].index,[\"경험사항\"]]=third[third.str.contains(\"인턴, 봉사활동\")==True]"
   ]
  },
  {
   "cell_type": "code",
   "execution_count": 442,
   "metadata": {},
   "outputs": [],
   "source": [
    "third[third.str.contains(\"인턴, 봉사활동\")==True]=\"\""
   ]
  },
  {
   "cell_type": "code",
   "execution_count": 443,
   "metadata": {},
   "outputs": [],
   "source": [
    "third[third.str.contains(\"봉사활동\")==True]\n",
    "df.at[third[third.str.contains(\"봉사활동\")==True].index,[\"경험사항\"]]=third[third.str.contains(\"봉사활동\")==True]"
   ]
  },
  {
   "cell_type": "code",
   "execution_count": 444,
   "metadata": {},
   "outputs": [],
   "source": [
    "third[third.str.contains(\"봉사활동\")==True]=\"\""
   ]
  },
  {
   "cell_type": "code",
   "execution_count": 445,
   "metadata": {},
   "outputs": [],
   "source": [
    "third[third.str.contains(\"대기업 인턴\")==True]\n",
    "df.at[third[third.str.contains(\"대기업 인턴\")==True].index,[\"경험사항\"]]=third[third.str.contains(\"대기업 인턴\")==True]"
   ]
  },
  {
   "cell_type": "code",
   "execution_count": 446,
   "metadata": {},
   "outputs": [],
   "source": [
    "third[third.str.contains(\"대기업 인턴\")==True]=\"\""
   ]
  },
  {
   "cell_type": "code",
   "execution_count": 447,
   "metadata": {},
   "outputs": [],
   "source": [
    "third[third.str.contains(\"인턴 2회\")==True]\n",
    "df.at[third[third.str.contains(\"인턴 2회\")==True].index,[\"경험사항\"]]=third[third.str.contains(\"인턴 2회\")==True]"
   ]
  },
  {
   "cell_type": "code",
   "execution_count": 448,
   "metadata": {},
   "outputs": [],
   "source": [
    "third[third.str.contains(\"인턴 2회\")==True]=\"\""
   ]
  },
  {
   "cell_type": "code",
   "execution_count": 449,
   "metadata": {},
   "outputs": [],
   "source": [
    "third[third.str.contains(\"인턴 1회\")==True]\n",
    "df.at[third[third.str.contains(\"인턴 1회\")==True].index,[\"경험사항\"]]=third[third.str.contains(\"인턴 1회\")==True]"
   ]
  },
  {
   "cell_type": "code",
   "execution_count": 450,
   "metadata": {},
   "outputs": [],
   "source": [
    "third[third.str.contains(\"인턴 1회\")==True]=\"\""
   ]
  },
  {
   "cell_type": "code",
   "execution_count": 451,
   "metadata": {},
   "outputs": [],
   "source": [
    "third[third.str.contains(\"인턴1회\")==True]\n",
    "df.at[third[third.str.contains(\"인턴1회\")==True].index,[\"경험사항\"]]=third[third.str.contains(\"인턴1회\")==True]"
   ]
  },
  {
   "cell_type": "code",
   "execution_count": 452,
   "metadata": {},
   "outputs": [],
   "source": [
    "third[third.str.contains(\"인턴1회\")==True]=\"\""
   ]
  },
  {
   "cell_type": "code",
   "execution_count": 453,
   "metadata": {},
   "outputs": [],
   "source": [
    "third[third.str.contains(\"외식업\")==True]\n",
    "df.at[third[third.str.contains(\"외식업\")==True].index,[\"경험사항\"]]=third[third.str.contains(\"외식업\")==True]"
   ]
  },
  {
   "cell_type": "code",
   "execution_count": 454,
   "metadata": {},
   "outputs": [],
   "source": [
    "third[third.str.contains(\"외식업\")==True]=\"\""
   ]
  },
  {
   "cell_type": "code",
   "execution_count": 455,
   "metadata": {},
   "outputs": [],
   "source": [
    "third[third.str.contains(\"금융권\")==True]\n",
    "df.at[third[third.str.contains(\"금융권\")==True].index,[\"경험사항\"]]=third[third.str.contains(\"금융권\")==True]"
   ]
  },
  {
   "cell_type": "code",
   "execution_count": 456,
   "metadata": {},
   "outputs": [],
   "source": [
    "third[third.str.contains(\"금융권\")==True]=\"\""
   ]
  },
  {
   "cell_type": "code",
   "execution_count": 457,
   "metadata": {},
   "outputs": [],
   "source": [
    "third[third.str.contains(\"LG\")==True]\n",
    "df.at[third[third.str.contains(\"LG\")==True].index,[\"경험사항\"]]=third[third.str.contains(\"LG\")==True]"
   ]
  },
  {
   "cell_type": "code",
   "execution_count": 458,
   "metadata": {},
   "outputs": [],
   "source": [
    "third[third.str.contains(\"LG\")==True]=\"\""
   ]
  },
  {
   "cell_type": "code",
   "execution_count": 459,
   "metadata": {},
   "outputs": [],
   "source": [
    "third[third.str.contains(\"지상파\")==True]\n",
    "df.at[third[third.str.contains(\"지상파\")==True].index,[\"경험사항\"]]=third[third.str.contains(\"지상파\")==True]"
   ]
  },
  {
   "cell_type": "code",
   "execution_count": 460,
   "metadata": {},
   "outputs": [],
   "source": [
    "third[third.str.contains(\"지상파\")==True]=\"\""
   ]
  },
  {
   "cell_type": "code",
   "execution_count": 461,
   "metadata": {},
   "outputs": [],
   "source": [
    "third[third.str.contains(\"해피무브\")==True]\n",
    "df.at[third[third.str.contains(\"해피무브\")==True].index,[\"경험사항\"]]=third[third.str.contains(\"해피무브\")==True]"
   ]
  },
  {
   "cell_type": "code",
   "execution_count": 462,
   "metadata": {},
   "outputs": [],
   "source": [
    "third[third.str.contains(\"해피무브\")==True]=\"\""
   ]
  },
  {
   "cell_type": "code",
   "execution_count": 463,
   "metadata": {},
   "outputs": [],
   "source": [
    "third[third.str.contains(\"봉사\")==True]\n",
    "df.at[third[third.str.contains(\"봉사\")==True].index,[\"경험사항\"]]=third[third.str.contains(\"봉사\")==True]"
   ]
  },
  {
   "cell_type": "code",
   "execution_count": 464,
   "metadata": {},
   "outputs": [],
   "source": [
    "third[third.str.contains(\"봉사\")==True]=\"\""
   ]
  },
  {
   "cell_type": "code",
   "execution_count": 465,
   "metadata": {},
   "outputs": [],
   "source": [
    "third[third.str.contains(\"인턴,\")==True]\n",
    "df.at[third[third.str.contains(\"인턴,\")==True].index,[\"경험사항\"]]=third[third.str.contains(\"인턴,\")==True]"
   ]
  },
  {
   "cell_type": "code",
   "execution_count": 466,
   "metadata": {},
   "outputs": [],
   "source": [
    "third[third.str.contains(\"인턴,\")==True]=\"\""
   ]
  },
  {
   "cell_type": "code",
   "execution_count": 467,
   "metadata": {},
   "outputs": [],
   "source": [
    "third[third.str.contains(\"대외활동\")==True]\n",
    "df.at[third[third.str.contains(\"대외활동\")==True].index,[\"경험사항\"]]=third[third.str.contains(\"대외활동\")==True]"
   ]
  },
  {
   "cell_type": "code",
   "execution_count": 468,
   "metadata": {},
   "outputs": [],
   "source": [
    "third[third.str.contains(\"대외활동\")==True]=\"\""
   ]
  },
  {
   "cell_type": "code",
   "execution_count": 469,
   "metadata": {},
   "outputs": [],
   "source": [
    "third[third.str.contains(\"인턴2회\")==True]\n",
    "df.at[third[third.str.contains(\"인턴2회\")==True].index,[\"경험사항\"]]=third[third.str.contains(\"인턴2회\")==True]"
   ]
  },
  {
   "cell_type": "code",
   "execution_count": 470,
   "metadata": {},
   "outputs": [],
   "source": [
    "third[third.str.contains(\"인턴2회\")==True]=\"\""
   ]
  },
  {
   "cell_type": "code",
   "execution_count": 471,
   "metadata": {},
   "outputs": [],
   "source": [
    "third[third.str.contains(\"삼성\")==True]\n",
    "df.at[third[third.str.contains(\"삼성\")==True].index,[\"경험사항\"]]=third[third.str.contains(\"삼성\")==True]"
   ]
  },
  {
   "cell_type": "code",
   "execution_count": 472,
   "metadata": {},
   "outputs": [],
   "source": [
    "third[third.str.contains(\"삼성\")==True]=\"\""
   ]
  },
  {
   "cell_type": "code",
   "execution_count": 473,
   "metadata": {},
   "outputs": [],
   "source": [
    "third[third.str.contains(\"대회\")==True]\n",
    "df.at[third[third.str.contains(\"대회\")==True].index,[\"경험사항\"]]=third[third.str.contains(\"대회\")==True]"
   ]
  },
  {
   "cell_type": "code",
   "execution_count": 474,
   "metadata": {},
   "outputs": [],
   "source": [
    "third[third.str.contains(\"대회\")==True]=\"\""
   ]
  },
  {
   "cell_type": "code",
   "execution_count": 475,
   "metadata": {},
   "outputs": [],
   "source": [
    "third[third.str.contains(\"한국사 1급\")==True]\n",
    "df.at[third[third.str.contains(\"한국사 1급\")==True].index,[\"자격증\"]]=\"한국사검정능력1급\""
   ]
  },
  {
   "cell_type": "code",
   "execution_count": 476,
   "metadata": {},
   "outputs": [],
   "source": [
    "third[third.str.contains(\"한국사 1급\")==True]=\"\""
   ]
  },
  {
   "cell_type": "code",
   "execution_count": 477,
   "metadata": {},
   "outputs": [],
   "source": [
    "third[third.str.contains(\"교내활동\")==True]\n",
    "df.at[third[third.str.contains(\"교내활동\")==True].index,[\"경험사항\"]]=third[third.str.contains(\"교내활동\")==True]"
   ]
  },
  {
   "cell_type": "code",
   "execution_count": 478,
   "metadata": {},
   "outputs": [],
   "source": [
    "third[third.str.contains(\"교내활동\")==True]=\"\""
   ]
  },
  {
   "cell_type": "code",
   "execution_count": 479,
   "metadata": {},
   "outputs": [],
   "source": [
    "third[third.str.contains(\"데이터분석\")==True]\n",
    "df.at[third[third.str.contains(\"데이터분석\")==True].index,[\"경험사항\"]]=third[third.str.contains(\"데이터분석\")==True]"
   ]
  },
  {
   "cell_type": "code",
   "execution_count": 480,
   "metadata": {},
   "outputs": [],
   "source": [
    "third[third.str.contains(\"데이터분석\")==True]=\"\""
   ]
  },
  {
   "cell_type": "code",
   "execution_count": 481,
   "metadata": {},
   "outputs": [],
   "source": [
    "third[third.str.contains(\"전자전파\")==True]\n",
    "df.at[third[third.str.contains(\"전자전파\")==True].index,[\"자격증\"]]=third[third.str.contains(\"전자전파\")==True]"
   ]
  },
  {
   "cell_type": "code",
   "execution_count": 482,
   "metadata": {},
   "outputs": [],
   "source": [
    "third[third.str.contains(\"전자전파\")==True]=\"\""
   ]
  },
  {
   "cell_type": "code",
   "execution_count": 483,
   "metadata": {},
   "outputs": [],
   "source": [
    "third[third.str.contains(\"4.3\")==True]=\"학점 4.3\""
   ]
  },
  {
   "cell_type": "code",
   "execution_count": 484,
   "metadata": {},
   "outputs": [],
   "source": [
    "df.at[third[third.str.contains(\"4.3\")==True].index,[\"학점\"]]=third[third.str.contains(\"4.3\")==True]"
   ]
  },
  {
   "cell_type": "code",
   "execution_count": 485,
   "metadata": {},
   "outputs": [],
   "source": [
    "third[third.str.contains(\"4.3\")==True]=\"\""
   ]
  },
  {
   "cell_type": "code",
   "execution_count": 487,
   "metadata": {},
   "outputs": [],
   "source": [
    "third[third.str.contains(\"컴퓨터\")==True]=\"컴퓨터공학과\"\n",
    "df.at[third[third.str.contains(\"컴퓨터\")==True].index,[\"학과\"]]=third[third.str.contains(\"컴퓨터\")==True]"
   ]
  },
  {
   "cell_type": "code",
   "execution_count": 488,
   "metadata": {},
   "outputs": [],
   "source": [
    "third[third.str.contains(\"컴퓨터\")==True]=\"\""
   ]
  },
  {
   "cell_type": "code",
   "execution_count": 490,
   "metadata": {},
   "outputs": [],
   "source": [
    "third[third.str.contains(\"에너지\")==True]=\"에너지공학과\"\n",
    "df.at[third[third.str.contains(\"에너지\")==True].index,[\"학과\"]]=third[third.str.contains(\"에너지\")==True]"
   ]
  },
  {
   "cell_type": "code",
   "execution_count": 491,
   "metadata": {},
   "outputs": [],
   "source": [
    "third[third.str.contains(\"에너지\")==True]=\"\""
   ]
  },
  {
   "cell_type": "code",
   "execution_count": 494,
   "metadata": {},
   "outputs": [],
   "source": [
    "third[third.str.contains(\"전자\")==True]=\"전자공학과\"\n",
    "df.at[third[third.str.contains(\"전자\")==True].index,[\"학과\"]]=third[third.str.contains(\"전자\")==True]"
   ]
  },
  {
   "cell_type": "code",
   "execution_count": 495,
   "metadata": {},
   "outputs": [],
   "source": [
    "third[third.str.contains(\"전자\")==True]=\"\""
   ]
  },
  {
   "cell_type": "code",
   "execution_count": 497,
   "metadata": {},
   "outputs": [],
   "source": [
    "third[third.str.contains(\"정보보호\")==True]=\"정보보호학과\"\n",
    "df.at[third[third.str.contains(\"정보보호\")==True].index,[\"학과\"]]=third[third.str.contains(\"정보보호\")==True]"
   ]
  },
  {
   "cell_type": "code",
   "execution_count": 498,
   "metadata": {},
   "outputs": [],
   "source": [
    "third[third.str.contains(\"정보보호\")==True]=\"\""
   ]
  },
  {
   "cell_type": "code",
   "execution_count": 501,
   "metadata": {},
   "outputs": [],
   "source": [
    "third[third.str.contains(\"홍보광고\")==True]=\"광고홍보학과\"\n",
    "df.at[third[third.str.contains(\"광고홍보\")==True].index,[\"학과\"]]=third[third.str.contains(\"광고홍보\")==True]"
   ]
  },
  {
   "cell_type": "code",
   "execution_count": 502,
   "metadata": {},
   "outputs": [],
   "source": [
    "third[third.str.contains(\"광고홍보\")==True]=\"\""
   ]
  },
  {
   "cell_type": "code",
   "execution_count": 505,
   "metadata": {},
   "outputs": [],
   "source": [
    "third[third.str.contains(\"경제학\")==True]=\"경제학과\"\n",
    "df.at[third[third.str.contains(\"경제학\")==True].index,[\"학과\"]]=third[third.str.contains(\"경제학\")==True]"
   ]
  },
  {
   "cell_type": "code",
   "execution_count": 506,
   "metadata": {},
   "outputs": [],
   "source": [
    "third[third.str.contains(\"경제학\")==True]=\"\""
   ]
  },
  {
   "cell_type": "code",
   "execution_count": 507,
   "metadata": {},
   "outputs": [],
   "source": [
    "third[third.str.contains(\"광고홍보\")==True]=\"광고홍보학과\"\n",
    "df.at[third[third.str.contains(\"광고홍보\")==True].index,[\"학과\"]]=third[third.str.contains(\"광고홍보\")==True]"
   ]
  },
  {
   "cell_type": "code",
   "execution_count": 508,
   "metadata": {},
   "outputs": [],
   "source": [
    "third[third.str.contains(\"광고홍보\")==True]=\"\""
   ]
  },
  {
   "cell_type": "code",
   "execution_count": 509,
   "metadata": {},
   "outputs": [],
   "source": [
    "third[third.str.contains(\"소프트웨어\")==True]=\"소프트웨어학과\"\n",
    "df.at[third[third.str.contains(\"소프트웨어\")==True].index,[\"학과\"]]=third[third.str.contains(\"소프트웨어\")==True]"
   ]
  },
  {
   "cell_type": "code",
   "execution_count": 510,
   "metadata": {},
   "outputs": [],
   "source": [
    "third[third.str.contains(\"소프트웨어\")==True]=\"\""
   ]
  },
  {
   "cell_type": "code",
   "execution_count": 511,
   "metadata": {},
   "outputs": [],
   "source": [
    "third[third.str.contains(\"경제\")==True]=\"경제학과\"\n",
    "df.at[third[third.str.contains(\"경제\")==True].index,[\"학과\"]]=third[third.str.contains(\"경제\")==True]"
   ]
  },
  {
   "cell_type": "code",
   "execution_count": 512,
   "metadata": {},
   "outputs": [],
   "source": [
    "third[third.str.contains(\"경제\")==True]=\"\""
   ]
  },
  {
   "cell_type": "code",
   "execution_count": 513,
   "metadata": {},
   "outputs": [],
   "source": [
    "third[third.str.contains(\"4.5\")==True]=\"학점 4.5\"\n",
    "df.at[third[third.str.contains(\"4.5\")==True].index,[\"학점\"]]=third[third.str.contains(\"4.5\")==True]"
   ]
  },
  {
   "cell_type": "code",
   "execution_count": 514,
   "metadata": {},
   "outputs": [],
   "source": [
    "third[third.str.contains(\"4.5\")==True]=\"\""
   ]
  },
  {
   "cell_type": "code",
   "execution_count": 515,
   "metadata": {},
   "outputs": [],
   "source": [
    "third[third.str.contains(\"국제통상\")==True]=\"국제통상학과\"\n",
    "df.at[third[third.str.contains(\"국제통상\")==True].index,[\"학과\"]]=third[third.str.contains(\"국제통상\")==True]"
   ]
  },
  {
   "cell_type": "code",
   "execution_count": 516,
   "metadata": {},
   "outputs": [],
   "source": [
    "third[third.str.contains(\"국제통상\")==True]=\"\""
   ]
  },
  {
   "cell_type": "code",
   "execution_count": 517,
   "metadata": {},
   "outputs": [],
   "source": [
    "third[third.str.contains(\"신소재공학\")==True]=\"신소재공학과\"\n",
    "df.at[third[third.str.contains(\"신소재공학\")==True].index,[\"학과\"]]=third[third.str.contains(\"신소재공학\")==True]"
   ]
  },
  {
   "cell_type": "code",
   "execution_count": 518,
   "metadata": {},
   "outputs": [],
   "source": [
    "third[third.str.contains(\"신소재공학\")==True]=\"\""
   ]
  },
  {
   "cell_type": "code",
   "execution_count": 519,
   "metadata": {},
   "outputs": [],
   "source": [
    "third[third.str.contains(\"4.19\")==True]=\"학점 4.19\"\n",
    "df.at[third[third.str.contains(\"4.19\")==True].index,[\"학점\"]]=third[third.str.contains(\"4.19\")==True]"
   ]
  },
  {
   "cell_type": "code",
   "execution_count": 520,
   "metadata": {},
   "outputs": [],
   "source": [
    "third[third.str.contains(\"4.19\")==True]=\"\""
   ]
  },
  {
   "cell_type": "code",
   "execution_count": 521,
   "metadata": {},
   "outputs": [],
   "source": [
    "third[third.str.contains(\"신문방송\")==True]=\"신문방송학과\"\n",
    "df.at[third[third.str.contains(\"신문방송\")==True].index,[\"학과\"]]=third[third.str.contains(\"신문방송\")==True]"
   ]
  },
  {
   "cell_type": "code",
   "execution_count": 522,
   "metadata": {},
   "outputs": [],
   "source": [
    "third[third.str.contains(\"신문방송\")==True]=\"\""
   ]
  },
  {
   "cell_type": "code",
   "execution_count": 523,
   "metadata": {},
   "outputs": [],
   "source": [
    "third[third.str.contains(\"도시\")==True]=\"도시공학과\"\n",
    "df.at[third[third.str.contains(\"도시\")==True].index,[\"학과\"]]=third[third.str.contains(\"도시\")==True]"
   ]
  },
  {
   "cell_type": "code",
   "execution_count": 524,
   "metadata": {},
   "outputs": [],
   "source": [
    "third[third.str.contains(\"도시\")==True]=\"\""
   ]
  },
  {
   "cell_type": "code",
   "execution_count": 525,
   "metadata": {},
   "outputs": [],
   "source": [
    "third[third.str.contains(\"부동산\")==True]=\"부동산학과\"\n",
    "df.at[third[third.str.contains(\"부동산\")==True].index,[\"학과\"]]=third[third.str.contains(\"부동산\")==True]"
   ]
  },
  {
   "cell_type": "code",
   "execution_count": 526,
   "metadata": {},
   "outputs": [],
   "source": [
    "third[third.str.contains(\"부동산\")==True]=\"\""
   ]
  },
  {
   "cell_type": "code",
   "execution_count": 527,
   "metadata": {},
   "outputs": [],
   "source": [
    "third[third.str.contains(\"기계공학\")==True]=\"기계공학과\"\n",
    "df.at[third[third.str.contains(\"기계공학\")==True].index,[\"학과\"]]=third[third.str.contains(\"기계공학\")==True]"
   ]
  },
  {
   "cell_type": "code",
   "execution_count": 528,
   "metadata": {},
   "outputs": [],
   "source": [
    "third[third.str.contains(\"기계공학\")==True]=\"\""
   ]
  },
  {
   "cell_type": "code",
   "execution_count": 531,
   "metadata": {},
   "outputs": [],
   "source": [
    "third[third.str.contains(\"광고관련\")==True]=\"광고홍보학과\"\n",
    "df.at[third[third.str.contains(\"광고홍보\")==True].index,[\"학과\"]]=third[third.str.contains(\"광고홍보\")==True]"
   ]
  },
  {
   "cell_type": "code",
   "execution_count": 532,
   "metadata": {},
   "outputs": [],
   "source": [
    "third[third.str.contains(\"광고홍보\")==True]=\"\""
   ]
  },
  {
   "cell_type": "code",
   "execution_count": 533,
   "metadata": {},
   "outputs": [],
   "source": [
    "third[third.str.contains(\"의류\")==True]=\"의류학과\"\n",
    "df.at[third[third.str.contains(\"의류\")==True].index,[\"학과\"]]=third[third.str.contains(\"의류\")==True]"
   ]
  },
  {
   "cell_type": "code",
   "execution_count": 534,
   "metadata": {},
   "outputs": [],
   "source": [
    "third[third.str.contains(\"의류\")==True]=\"\""
   ]
  },
  {
   "cell_type": "code",
   "execution_count": 535,
   "metadata": {},
   "outputs": [],
   "source": [
    "third[third.str.contains(\"외교통상\")==True]=\"외교통상학과\"\n",
    "df.at[third[third.str.contains(\"외교통상\")==True].index,[\"학과\"]]=third[third.str.contains(\"외교통상\")==True]"
   ]
  },
  {
   "cell_type": "code",
   "execution_count": 536,
   "metadata": {},
   "outputs": [],
   "source": [
    "third[third.str.contains(\"외교통상\")==True]=\"\""
   ]
  },
  {
   "cell_type": "code",
   "execution_count": 537,
   "metadata": {},
   "outputs": [],
   "source": [
    "third[third.str.contains(\"화학\")==True]=\"화학과\"\n",
    "df.at[third[third.str.contains(\"화학\")==True].index,[\"학과\"]]=third[third.str.contains(\"화학\")==True]"
   ]
  },
  {
   "cell_type": "code",
   "execution_count": 538,
   "metadata": {},
   "outputs": [],
   "source": [
    "third[third.str.contains(\"화학\")==True]=\"\""
   ]
  },
  {
   "cell_type": "code",
   "execution_count": 539,
   "metadata": {},
   "outputs": [],
   "source": [
    "third[third.str.contains(\"광고\")==True]=\"광고홍보학과\"\n",
    "df.at[third[third.str.contains(\"광고\")==True].index,[\"학과\"]]=third[third.str.contains(\"광고\")==True]"
   ]
  },
  {
   "cell_type": "code",
   "execution_count": 540,
   "metadata": {},
   "outputs": [],
   "source": [
    "third[third.str.contains(\"광고\")==True]=\"\""
   ]
  },
  {
   "cell_type": "code",
   "execution_count": 541,
   "metadata": {},
   "outputs": [],
   "source": [
    "third[third.str.contains(\"심리\")==True]=\"심리학과\"\n",
    "df.at[third[third.str.contains(\"심리\")==True].index,[\"학과\"]]=third[third.str.contains(\"심리\")==True]"
   ]
  },
  {
   "cell_type": "code",
   "execution_count": 542,
   "metadata": {},
   "outputs": [],
   "source": [
    "third[third.str.contains(\"심리\")==True]=\"\""
   ]
  },
  {
   "cell_type": "code",
   "execution_count": 543,
   "metadata": {},
   "outputs": [],
   "source": [
    "third[third.str.contains(\"통계\")==True]=\"통계학과\"\n",
    "df.at[third[third.str.contains(\"통계\")==True].index,[\"학과\"]]=third[third.str.contains(\"통계\")==True]"
   ]
  },
  {
   "cell_type": "code",
   "execution_count": 544,
   "metadata": {},
   "outputs": [],
   "source": [
    "third[third.str.contains(\"통계\")==True]=\"\""
   ]
  },
  {
   "cell_type": "code",
   "execution_count": 545,
   "metadata": {},
   "outputs": [],
   "source": [
    "third[third.str.contains(\"회계\")==True]=\"회계학과\"\n",
    "df.at[third[third.str.contains(\"회계\")==True].index,[\"학과\"]]=third[third.str.contains(\"회계\")==True]"
   ]
  },
  {
   "cell_type": "code",
   "execution_count": 546,
   "metadata": {},
   "outputs": [],
   "source": [
    "third[third.str.contains(\"회계\")==True]=\"\""
   ]
  },
  {
   "cell_type": "code",
   "execution_count": 549,
   "metadata": {},
   "outputs": [],
   "source": [
    "third[third.str.contains(\"건축공학\")==True]=\"\""
   ]
  },
  {
   "cell_type": "code",
   "execution_count": 550,
   "metadata": {},
   "outputs": [],
   "source": [
    "third[third.str.contains(\"건축\")==True]=\"건축학과\"\n",
    "df.at[third[third.str.contains(\"건축\")==True].index,[\"학과\"]]=third[third.str.contains(\"건축\")==True]"
   ]
  },
  {
   "cell_type": "code",
   "execution_count": 551,
   "metadata": {},
   "outputs": [],
   "source": [
    "third[third.str.contains(\"건축\")==True]=\"\""
   ]
  },
  {
   "cell_type": "code",
   "execution_count": 553,
   "metadata": {},
   "outputs": [],
   "source": [
    "third[third.str.contains(\"\\+경영\")==True]=\"언론정보학과\"\n",
    "df.at[third[third.str.contains(\"언론정보학과\")==True].index,[\"학과\"]]=third[third.str.contains(\"언론정보학과\")==True]"
   ]
  },
  {
   "cell_type": "code",
   "execution_count": 554,
   "metadata": {},
   "outputs": [],
   "source": [
    "third[third.str.contains(\"언론정보학과\")==True]=\"\""
   ]
  },
  {
   "cell_type": "code",
   "execution_count": 555,
   "metadata": {},
   "outputs": [],
   "source": [
    "third[third.str.contains(\"미디어\")==True]=\"미디어학과\"\n",
    "df.at[third[third.str.contains(\"미디어\")==True].index,[\"학과\"]]=third[third.str.contains(\"미디어\")==True]"
   ]
  },
  {
   "cell_type": "code",
   "execution_count": 556,
   "metadata": {},
   "outputs": [],
   "source": [
    "third[third.str.contains(\"미디어\")==True]=\"\""
   ]
  },
  {
   "cell_type": "code",
   "execution_count": 558,
   "metadata": {},
   "outputs": [],
   "source": [
    "third[third.str.contains(\"언론정보\")==True]=\"언론정보학과\"\n",
    "df.at[third[third.str.contains(\"언론정보\")==True].index,[\"학과\"]]=third[third.str.contains(\"언론정보\")==True]"
   ]
  },
  {
   "cell_type": "code",
   "execution_count": 559,
   "metadata": {},
   "outputs": [],
   "source": [
    "third[third.str.contains(\"언론정보\")==True]=\"\""
   ]
  },
  {
   "cell_type": "code",
   "execution_count": 560,
   "metadata": {},
   "outputs": [],
   "source": [
    "third[third.str.contains(\"상경\")==True]=\"상경계열학과\"\n",
    "df.at[third[third.str.contains(\"상경\")==True].index,[\"학과\"]]=third[third.str.contains(\"상경\")==True]"
   ]
  },
  {
   "cell_type": "code",
   "execution_count": 561,
   "metadata": {},
   "outputs": [],
   "source": [
    "third[third.str.contains(\"상경\")==True]=\"\""
   ]
  },
  {
   "cell_type": "code",
   "execution_count": 562,
   "metadata": {},
   "outputs": [],
   "source": [
    "third[third.str.contains(\"중문\")==True]=\"중어중문학과\"\n",
    "df.at[third[third.str.contains(\"중문\")==True].index,[\"학과\"]]=third[third.str.contains(\"중문\")==True]"
   ]
  },
  {
   "cell_type": "code",
   "execution_count": 563,
   "metadata": {},
   "outputs": [],
   "source": [
    "third[third.str.contains(\"중문\")==True]=\"\""
   ]
  },
  {
   "cell_type": "code",
   "execution_count": 564,
   "metadata": {},
   "outputs": [],
   "source": [
    "third[third.str.contains(\"세포생물학\")==True]=\"세포생물학과\"\n",
    "df.at[third[third.str.contains(\"세포생물학\")==True].index,[\"학과\"]]=third[third.str.contains(\"세포생물학\")==True]"
   ]
  },
  {
   "cell_type": "code",
   "execution_count": 565,
   "metadata": {},
   "outputs": [],
   "source": [
    "third[third.str.contains(\"세포생물학\")==True]=\"\""
   ]
  },
  {
   "cell_type": "code",
   "execution_count": 567,
   "metadata": {},
   "outputs": [],
   "source": [
    "third[third.str.contains(\"재료공학\")==True]=\"재료공학과\"\n",
    "df.at[third[third.str.contains(\"재료공학\")==True].index,[\"학과\"]]=third[third.str.contains(\"재료공학\")==True]"
   ]
  },
  {
   "cell_type": "code",
   "execution_count": 568,
   "metadata": {},
   "outputs": [],
   "source": [
    "third[third.str.contains(\"재료공학\")==True]=\"\""
   ]
  },
  {
   "cell_type": "code",
   "execution_count": 569,
   "metadata": {},
   "outputs": [],
   "source": [
    "third[third.str.contains(\"국제무역\")==True]=\"국제무역학과\"\n",
    "df.at[third[third.str.contains(\"국제무역\")==True].index,[\"학과\"]]=third[third.str.contains(\"국제무역\")==True]"
   ]
  },
  {
   "cell_type": "code",
   "execution_count": 570,
   "metadata": {},
   "outputs": [],
   "source": [
    "third[third.str.contains(\"국제무역\")==True]=\"\""
   ]
  },
  {
   "cell_type": "code",
   "execution_count": 571,
   "metadata": {},
   "outputs": [],
   "source": [
    "third[third.str.contains(\"정치외교학\")==True]=\"정치외교학과\"\n",
    "df.at[third[third.str.contains(\"정치외교학\")==True].index,[\"학과\"]]=third[third.str.contains(\"정치외교학\")==True]"
   ]
  },
  {
   "cell_type": "code",
   "execution_count": 572,
   "metadata": {},
   "outputs": [],
   "source": [
    "third[third.str.contains(\"정치외교학\")==True]=\"\""
   ]
  },
  {
   "cell_type": "code",
   "execution_count": 573,
   "metadata": {},
   "outputs": [],
   "source": [
    "third[third.str.contains(\"금융\")==True]=\"금융학과\"\n",
    "df.at[third[third.str.contains(\"금융\")==True].index,[\"학과\"]]=third[third.str.contains(\"금융\")==True]"
   ]
  },
  {
   "cell_type": "code",
   "execution_count": 574,
   "metadata": {},
   "outputs": [],
   "source": [
    "third[third.str.contains(\"금융\")==True]=\"\""
   ]
  },
  {
   "cell_type": "code",
   "execution_count": 577,
   "metadata": {},
   "outputs": [],
   "source": [
    "third[third.str.contains(\"화공\")==True]=\"화학공학과\"\n",
    "df.at[third[third.str.contains(\"화학공학과\")==True].index,[\"학과\"]]=third[third.str.contains(\"화학공학과\")==True]"
   ]
  },
  {
   "cell_type": "code",
   "execution_count": 578,
   "metadata": {},
   "outputs": [],
   "source": [
    "third[third.str.contains(\"화학공학과\")==True]=\"\""
   ]
  },
  {
   "cell_type": "code",
   "execution_count": 579,
   "metadata": {},
   "outputs": [],
   "source": [
    "third[third.str.contains(\"정치외교\")==True]=\"정치외교학과\"\n",
    "df.at[third[third.str.contains(\"정치외교\")==True].index,[\"학과\"]]=third[third.str.contains(\"정치외교\")==True]"
   ]
  },
  {
   "cell_type": "code",
   "execution_count": 580,
   "metadata": {},
   "outputs": [],
   "source": [
    "third[third.str.contains(\"정치외교\")==True]=\"\""
   ]
  },
  {
   "cell_type": "code",
   "execution_count": 582,
   "metadata": {},
   "outputs": [],
   "source": [
    "third[third.str.contains(\"복수\")==True]=\"\""
   ]
  },
  {
   "cell_type": "code",
   "execution_count": 584,
   "metadata": {},
   "outputs": [],
   "source": [
    "third[third.str.contains(\"복전\")==True]=\"\""
   ]
  },
  {
   "cell_type": "code",
   "execution_count": 586,
   "metadata": {},
   "outputs": [],
   "source": [
    "third[third.str.contains(\"부\")==True]=\"경영학과\"\n",
    "df.at[third[third.str.contains(\"경영학과\")==True].index,[\"학과\"]]=third[third.str.contains(\"경영학과\")==True]"
   ]
  },
  {
   "cell_type": "code",
   "execution_count": 587,
   "metadata": {},
   "outputs": [],
   "source": [
    "third[third.str.contains(\"경영학과\")==True]=\"\""
   ]
  },
  {
   "cell_type": "code",
   "execution_count": 589,
   "metadata": {},
   "outputs": [],
   "source": [
    "third[third.str.contains(\"유\")==True]=\"\""
   ]
  },
  {
   "cell_type": "code",
   "execution_count": 591,
   "metadata": {},
   "outputs": [],
   "source": [
    "third[third.str.contains(\"경영\")==True]=\"경영학과\"\n",
    "df.at[third[third.str.contains(\"경영\")==True].index,[\"학과\"]]=third[third.str.contains(\"경영\")==True]"
   ]
  },
  {
   "cell_type": "code",
   "execution_count": 592,
   "metadata": {},
   "outputs": [],
   "source": [
    "third[third.str.contains(\"경영\")==True]=\"\""
   ]
  },
  {
   "cell_type": "code",
   "execution_count": 594,
   "metadata": {},
   "outputs": [],
   "source": [
    "third[third.str.contains(\"경\")==True]=\"\""
   ]
  },
  {
   "cell_type": "code",
   "execution_count": 596,
   "metadata": {},
   "outputs": [],
   "source": [
    "third[third.str.contains(\"석사\")==True]=\"\""
   ]
  },
  {
   "cell_type": "code",
   "execution_count": 598,
   "metadata": {},
   "outputs": [],
   "source": [
    "third[third.str.contains(\"2회\")==True]=\"\""
   ]
  },
  {
   "cell_type": "code",
   "execution_count": 600,
   "metadata": {},
   "outputs": [],
   "source": [
    "third[third.str.contains(\"외\")==True]=\"\""
   ]
  },
  {
   "cell_type": "code",
   "execution_count": 603,
   "metadata": {},
   "outputs": [],
   "source": [
    "third[third.str.contains(\"홍\")==True]=\"\""
   ]
  },
  {
   "cell_type": "code",
   "execution_count": 605,
   "metadata": {},
   "outputs": [],
   "source": [
    "third.to_csv(\"123121.txt\",encoding='utf-8')"
   ]
  },
  {
   "cell_type": "code",
   "execution_count": 610,
   "metadata": {},
   "outputs": [],
   "source": [
    "df.to_csv(\"1.csv\",encoding=\"utf-8\")"
   ]
  },
  {
   "cell_type": "code",
   "execution_count": 609,
   "metadata": {},
   "outputs": [
    {
     "data": {
      "text/plain": [
       "8685"
      ]
     },
     "execution_count": 609,
     "metadata": {},
     "output_type": "execute_result"
    }
   ],
   "source": [
    "df[\"어학\"].isnull().sum()"
   ]
  },
  {
   "cell_type": "code",
   "execution_count": null,
   "metadata": {},
   "outputs": [],
   "source": []
  }
 ],
 "metadata": {
  "kernelspec": {
   "display_name": "Python 3",
   "language": "python",
   "name": "python3"
  },
  "language_info": {
   "codemirror_mode": {
    "name": "ipython",
    "version": 3
   },
   "file_extension": ".py",
   "mimetype": "text/x-python",
   "name": "python",
   "nbconvert_exporter": "python",
   "pygments_lexer": "ipython3",
   "version": "3.7.6"
  }
 },
 "nbformat": 4,
 "nbformat_minor": 4
}
