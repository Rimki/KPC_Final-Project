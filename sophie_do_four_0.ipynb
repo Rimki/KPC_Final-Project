{
 "cells": [
  {
   "cell_type": "code",
   "execution_count": 161,
   "metadata": {},
   "outputs": [],
   "source": [
    "import pandas as pd"
   ]
  },
  {
   "cell_type": "code",
   "execution_count": 162,
   "metadata": {},
   "outputs": [],
   "source": [
    "raw_df=pd.read_csv(\"WriteData.csv\")"
   ]
  },
  {
   "cell_type": "code",
   "execution_count": 163,
   "metadata": {
    "scrolled": true
   },
   "outputs": [
    {
     "data": {
      "text/html": [
       "<div>\n",
       "<style scoped>\n",
       "    .dataframe tbody tr th:only-of-type {\n",
       "        vertical-align: middle;\n",
       "    }\n",
       "\n",
       "    .dataframe tbody tr th {\n",
       "        vertical-align: top;\n",
       "    }\n",
       "\n",
       "    .dataframe thead th {\n",
       "        text-align: right;\n",
       "    }\n",
       "</style>\n",
       "<table border=\"1\" class=\"dataframe\">\n",
       "  <thead>\n",
       "    <tr style=\"text-align: right;\">\n",
       "      <th></th>\n",
       "      <th>1</th>\n",
       "      <th>2</th>\n",
       "      <th>3</th>\n",
       "    </tr>\n",
       "  </thead>\n",
       "  <tbody>\n",
       "    <tr>\n",
       "      <th>0</th>\n",
       "      <td>한국석유공사 / 설비 / 2020 상반기</td>\n",
       "      <td>광주전자공업고등학교 / 학점 1.7등급 / 인천 글로벌 숙련 진흥원 5일, 선반, ...</td>\n",
       "      <td>7.한국석유공사\\n\\n 1. 지원 분야 직무기술서 ‘직무수행 내용’ 중 본인이 가장...</td>\n",
       "    </tr>\n",
       "    <tr>\n",
       "      <th>1</th>\n",
       "      <td>CJ제일제당 / Food Sales / 2020 상반기</td>\n",
       "      <td>중경외시 / 상경계열 / 학점 3.92 / 토익 905, 토스 LV 6 / 봉사활동...</td>\n",
       "      <td>CJ제일제당 및 선택한 직무에 대한 지원동기는 무엇인가요? ① 선택한 직무에 관심을...</td>\n",
       "    </tr>\n",
       "    <tr>\n",
       "      <th>2</th>\n",
       "      <td>한국가스안전공사 / LP가스 안전지킴이사업 / 2020 상반기</td>\n",
       "      <td>제주대학교 / 학점 3.3 / 토익830 / 컴퓨터활용능력1급, 한국사1급</td>\n",
       "      <td>\\n1. 한국가스안전공사가 진행하는 사업에 관심을 갖고 공사에 지원한 동기에 대해 ...</td>\n",
       "    </tr>\n",
       "    <tr>\n",
       "      <th>3</th>\n",
       "      <td>코레일 / 사무영업 / 2020 상반기</td>\n",
       "      <td>충남대학교 / 학점 3.87 / 토익 835 / 토론동아리 3년, 컴활1급, 한국사1급</td>\n",
       "      <td>1.공동체의 일원으로서 가장 중요하게 생각하는 가치를 제시하고, 그 가치를 실천했던...</td>\n",
       "    </tr>\n",
       "    <tr>\n",
       "      <th>4</th>\n",
       "      <td>한국기술교육대학교 / 행정 / 2020 상반기</td>\n",
       "      <td>건국대학교 / 학점 4.0 / 토익 780 / 컴활 1급, 한국사1급</td>\n",
       "      <td>1. 본인이 가진 가장 뛰어난 점과 그렇게 판단한 이유, 고용노동연수원 업무수행에서...</td>\n",
       "    </tr>\n",
       "    <tr>\n",
       "      <th>...</th>\n",
       "      <td>...</td>\n",
       "      <td>...</td>\n",
       "      <td>...</td>\n",
       "    </tr>\n",
       "    <tr>\n",
       "      <th>10102</th>\n",
       "      <td>현대자동차 / 영업관리 / 2013 상반기</td>\n",
       "      <td>상명대학교 / 국제통상학 / 학점 4.3 / 토익 900, HSK 6급 / 해외인턴...</td>\n",
       "      <td>1. 현대자동차에 지원하게 된 동기 또는 해당 직무에 지원하게 된 동기는 무엇입니까...</td>\n",
       "    </tr>\n",
       "    <tr>\n",
       "      <th>10103</th>\n",
       "      <td>심팩 / 용접관리 / 2013 상반기</td>\n",
       "      <td>지방전문대 / 공업화학 / 학점 3.06</td>\n",
       "      <td>성격소개\\n\\n대부분의 사람들이 평가하는 첫인상은 소심하고 내성적인 성격일것이라 생...</td>\n",
       "    </tr>\n",
       "    <tr>\n",
       "      <th>10104</th>\n",
       "      <td>한국전력 / 인턴[송,배전] / 2013 상반기</td>\n",
       "      <td>지거국 / 전자공학 / 학점 3.7 / 토익 900대 / 음악봉사활동, 멘토링 등</td>\n",
       "      <td>[질문 1] 취업이라는 목표 이외에 인생의 큰 목표를 세운 경험, 그 목표를 실현하...</td>\n",
       "    </tr>\n",
       "    <tr>\n",
       "      <th>10105</th>\n",
       "      <td>한국전력 / 인턴[송,배전] / 2013 상반기</td>\n",
       "      <td>지거국 / 전자공학 / 학점 3.7 / 토익 900 / 음악봉사활동, 멘토링등</td>\n",
       "      <td>한전 자가소개서 양식 500자 12줄 이내\\n\\n[질문 1] 취업이라는 목표 이외에...</td>\n",
       "    </tr>\n",
       "    <tr>\n",
       "      <th>10106</th>\n",
       "      <td>한국전력 / 인턴[송,배전] / 2013 상반기</td>\n",
       "      <td>지거국 / 전자공학 / 학점 3.7 / 토익 900 / 음악봉사활동, 멘토링등</td>\n",
       "      <td>한전 자가소개서 양식 500자 12줄 이내\\n\\n[질문 1] 취업이라는 목표 이외에...</td>\n",
       "    </tr>\n",
       "  </tbody>\n",
       "</table>\n",
       "<p>10107 rows × 3 columns</p>\n",
       "</div>"
      ],
      "text/plain": [
       "                                        1  \\\n",
       "0                  한국석유공사 / 설비 / 2020 상반기   \n",
       "1          CJ제일제당 / Food Sales / 2020 상반기   \n",
       "2      한국가스안전공사 / LP가스 안전지킴이사업 / 2020 상반기   \n",
       "3                   코레일 / 사무영업 / 2020 상반기   \n",
       "4               한국기술교육대학교 / 행정 / 2020 상반기   \n",
       "...                                   ...   \n",
       "10102             현대자동차 / 영업관리 / 2013 상반기   \n",
       "10103                심팩 / 용접관리 / 2013 상반기   \n",
       "10104          한국전력 / 인턴[송,배전] / 2013 상반기   \n",
       "10105          한국전력 / 인턴[송,배전] / 2013 상반기   \n",
       "10106          한국전력 / 인턴[송,배전] / 2013 상반기   \n",
       "\n",
       "                                                       2  \\\n",
       "0      광주전자공업고등학교 / 학점 1.7등급 / 인천 글로벌 숙련 진흥원 5일, 선반, ...   \n",
       "1      중경외시 / 상경계열 / 학점 3.92 / 토익 905, 토스 LV 6 / 봉사활동...   \n",
       "2              제주대학교 / 학점 3.3 / 토익830 / 컴퓨터활용능력1급, 한국사1급   \n",
       "3       충남대학교 / 학점 3.87 / 토익 835 / 토론동아리 3년, 컴활1급, 한국사1급   \n",
       "4                 건국대학교 / 학점 4.0 / 토익 780 / 컴활 1급, 한국사1급   \n",
       "...                                                  ...   \n",
       "10102  상명대학교 / 국제통상학 / 학점 4.3 / 토익 900, HSK 6급 / 해외인턴...   \n",
       "10103                             지방전문대 / 공업화학 / 학점 3.06   \n",
       "10104      지거국 / 전자공학 / 학점 3.7 / 토익 900대 / 음악봉사활동, 멘토링 등   \n",
       "10105        지거국 / 전자공학 / 학점 3.7 / 토익 900 / 음악봉사활동, 멘토링등   \n",
       "10106        지거국 / 전자공학 / 학점 3.7 / 토익 900 / 음악봉사활동, 멘토링등   \n",
       "\n",
       "                                                       3  \n",
       "0      7.한국석유공사\\n\\n 1. 지원 분야 직무기술서 ‘직무수행 내용’ 중 본인이 가장...  \n",
       "1      CJ제일제당 및 선택한 직무에 대한 지원동기는 무엇인가요? ① 선택한 직무에 관심을...  \n",
       "2      \\n1. 한국가스안전공사가 진행하는 사업에 관심을 갖고 공사에 지원한 동기에 대해 ...  \n",
       "3      1.공동체의 일원으로서 가장 중요하게 생각하는 가치를 제시하고, 그 가치를 실천했던...  \n",
       "4      1. 본인이 가진 가장 뛰어난 점과 그렇게 판단한 이유, 고용노동연수원 업무수행에서...  \n",
       "...                                                  ...  \n",
       "10102  1. 현대자동차에 지원하게 된 동기 또는 해당 직무에 지원하게 된 동기는 무엇입니까...  \n",
       "10103  성격소개\\n\\n대부분의 사람들이 평가하는 첫인상은 소심하고 내성적인 성격일것이라 생...  \n",
       "10104  [질문 1] 취업이라는 목표 이외에 인생의 큰 목표를 세운 경험, 그 목표를 실현하...  \n",
       "10105  한전 자가소개서 양식 500자 12줄 이내\\n\\n[질문 1] 취업이라는 목표 이외에...  \n",
       "10106  한전 자가소개서 양식 500자 12줄 이내\\n\\n[질문 1] 취업이라는 목표 이외에...  \n",
       "\n",
       "[10107 rows x 3 columns]"
      ]
     },
     "execution_count": 163,
     "metadata": {},
     "output_type": "execute_result"
    }
   ],
   "source": [
    "raw_df"
   ]
  },
  {
   "cell_type": "code",
   "execution_count": 164,
   "metadata": {},
   "outputs": [],
   "source": [
    "df=pd.read_csv(\"2.csv\")"
   ]
  },
  {
   "cell_type": "code",
   "execution_count": 165,
   "metadata": {
    "scrolled": true
   },
   "outputs": [
    {
     "data": {
      "text/html": [
       "<div>\n",
       "<style scoped>\n",
       "    .dataframe tbody tr th:only-of-type {\n",
       "        vertical-align: middle;\n",
       "    }\n",
       "\n",
       "    .dataframe tbody tr th {\n",
       "        vertical-align: top;\n",
       "    }\n",
       "\n",
       "    .dataframe thead th {\n",
       "        text-align: right;\n",
       "    }\n",
       "</style>\n",
       "<table border=\"1\" class=\"dataframe\">\n",
       "  <thead>\n",
       "    <tr style=\"text-align: right;\">\n",
       "      <th></th>\n",
       "      <th>Unnamed: 0</th>\n",
       "      <th>Unnamed: 0.1</th>\n",
       "      <th>Unnamed: 0.1.1</th>\n",
       "      <th>기업명</th>\n",
       "      <th>지원부서</th>\n",
       "      <th>지원시기</th>\n",
       "      <th>학교</th>\n",
       "      <th>학과</th>\n",
       "      <th>학점</th>\n",
       "      <th>어학</th>\n",
       "      <th>자격증</th>\n",
       "      <th>경험사항</th>\n",
       "      <th>자소서</th>\n",
       "    </tr>\n",
       "  </thead>\n",
       "  <tbody>\n",
       "    <tr>\n",
       "      <th>0</th>\n",
       "      <td>0</td>\n",
       "      <td>0</td>\n",
       "      <td>0</td>\n",
       "      <td>한국석유공사</td>\n",
       "      <td>설비</td>\n",
       "      <td>2020 상반기</td>\n",
       "      <td>NaN</td>\n",
       "      <td>전자공학과</td>\n",
       "      <td>학점 1.7등급</td>\n",
       "      <td>NaN</td>\n",
       "      <td>NaN</td>\n",
       "      <td>인천 글로벌 숙련 진흥원, 선반, 용접 ,특수용접, 설비보전</td>\n",
       "      <td>7.한국석유공사\\n\\n 1. 지원 분야 직무기술서 ‘직무수행 내용’ 중 본인이 가장...</td>\n",
       "    </tr>\n",
       "    <tr>\n",
       "      <th>1</th>\n",
       "      <td>1</td>\n",
       "      <td>1</td>\n",
       "      <td>1</td>\n",
       "      <td>CJ제일제당</td>\n",
       "      <td>Food Sales</td>\n",
       "      <td>2020 상반기</td>\n",
       "      <td>서울사립대(중앙대학교)</td>\n",
       "      <td>상경계열학과</td>\n",
       "      <td>학점 3.92</td>\n",
       "      <td>NaN</td>\n",
       "      <td>NaN</td>\n",
       "      <td>봉사활동 일부빼고는 전무.</td>\n",
       "      <td>CJ제일제당 및 선택한 직무에 대한 지원동기는 무엇인가요? ① 선택한 직무에 관심을...</td>\n",
       "    </tr>\n",
       "    <tr>\n",
       "      <th>2</th>\n",
       "      <td>2</td>\n",
       "      <td>2</td>\n",
       "      <td>2</td>\n",
       "      <td>한국가스안전공사</td>\n",
       "      <td>LP가스 안전지킴이사업</td>\n",
       "      <td>2020 상반기</td>\n",
       "      <td>지방거점국립대(제주대학교)</td>\n",
       "      <td>NaN</td>\n",
       "      <td>학점 3.3</td>\n",
       "      <td>토익830</td>\n",
       "      <td>NaN</td>\n",
       "      <td>NaN</td>\n",
       "      <td>\\n1. 한국가스안전공사가 진행하는 사업에 관심을 갖고 공사에 지원한 동기에 대해 ...</td>\n",
       "    </tr>\n",
       "    <tr>\n",
       "      <th>3</th>\n",
       "      <td>3</td>\n",
       "      <td>3</td>\n",
       "      <td>3</td>\n",
       "      <td>코레일</td>\n",
       "      <td>사무영업</td>\n",
       "      <td>2020 상반기</td>\n",
       "      <td>지방거점국립대(충남대학교)</td>\n",
       "      <td>NaN</td>\n",
       "      <td>학점 3.87</td>\n",
       "      <td>토익 835</td>\n",
       "      <td>NaN</td>\n",
       "      <td>NaN</td>\n",
       "      <td>1.공동체의 일원으로서 가장 중요하게 생각하는 가치를 제시하고, 그 가치를 실천했던...</td>\n",
       "    </tr>\n",
       "    <tr>\n",
       "      <th>4</th>\n",
       "      <td>4</td>\n",
       "      <td>4</td>\n",
       "      <td>4</td>\n",
       "      <td>한국기술교육대학교</td>\n",
       "      <td>행정</td>\n",
       "      <td>2020 상반기</td>\n",
       "      <td>서울사립대(건국대학교)</td>\n",
       "      <td>NaN</td>\n",
       "      <td>학점 4.0</td>\n",
       "      <td>토익 780</td>\n",
       "      <td>NaN</td>\n",
       "      <td>NaN</td>\n",
       "      <td>1. 본인이 가진 가장 뛰어난 점과 그렇게 판단한 이유, 고용노동연수원 업무수행에서...</td>\n",
       "    </tr>\n",
       "    <tr>\n",
       "      <th>...</th>\n",
       "      <td>...</td>\n",
       "      <td>...</td>\n",
       "      <td>...</td>\n",
       "      <td>...</td>\n",
       "      <td>...</td>\n",
       "      <td>...</td>\n",
       "      <td>...</td>\n",
       "      <td>...</td>\n",
       "      <td>...</td>\n",
       "      <td>...</td>\n",
       "      <td>...</td>\n",
       "      <td>...</td>\n",
       "      <td>...</td>\n",
       "    </tr>\n",
       "    <tr>\n",
       "      <th>10102</th>\n",
       "      <td>10102</td>\n",
       "      <td>10102</td>\n",
       "      <td>10102</td>\n",
       "      <td>현대자동차</td>\n",
       "      <td>영업관리</td>\n",
       "      <td>2013 상반기</td>\n",
       "      <td>서울사립대(상명대학교)</td>\n",
       "      <td>국제통상학과</td>\n",
       "      <td>학점 4.3</td>\n",
       "      <td>NaN</td>\n",
       "      <td>NaN</td>\n",
       "      <td>해외인턴1회, 중국어 말하기 대회 1등, 와인바 매니저 1년 6개월 경력</td>\n",
       "      <td>1. 현대자동차에 지원하게 된 동기 또는 해당 직무에 지원하게 된 동기는 무엇입니까...</td>\n",
       "    </tr>\n",
       "    <tr>\n",
       "      <th>10103</th>\n",
       "      <td>10103</td>\n",
       "      <td>10103</td>\n",
       "      <td>10103</td>\n",
       "      <td>심팩</td>\n",
       "      <td>용접관리</td>\n",
       "      <td>2013 상반기</td>\n",
       "      <td>전문대</td>\n",
       "      <td>공업화학과</td>\n",
       "      <td>학점 3.06</td>\n",
       "      <td>NaN</td>\n",
       "      <td>NaN</td>\n",
       "      <td>NaN</td>\n",
       "      <td>성격소개\\n\\n대부분의 사람들이 평가하는 첫인상은 소심하고 내성적인 성격일것이라 생...</td>\n",
       "    </tr>\n",
       "    <tr>\n",
       "      <th>10104</th>\n",
       "      <td>10104</td>\n",
       "      <td>10104</td>\n",
       "      <td>10104</td>\n",
       "      <td>한국전력</td>\n",
       "      <td>인턴[송,배전]</td>\n",
       "      <td>2013 상반기</td>\n",
       "      <td>지방거점국립대</td>\n",
       "      <td>전자공학과</td>\n",
       "      <td>학점 3.7</td>\n",
       "      <td>NaN</td>\n",
       "      <td>NaN</td>\n",
       "      <td>음악봉사활동, 멘토링 등</td>\n",
       "      <td>[질문 1] 취업이라는 목표 이외에 인생의 큰 목표를 세운 경험, 그 목표를 실현하...</td>\n",
       "    </tr>\n",
       "    <tr>\n",
       "      <th>10105</th>\n",
       "      <td>10105</td>\n",
       "      <td>10105</td>\n",
       "      <td>10105</td>\n",
       "      <td>한국전력</td>\n",
       "      <td>인턴[송,배전]</td>\n",
       "      <td>2013 상반기</td>\n",
       "      <td>지방거점국립대</td>\n",
       "      <td>전자공학과</td>\n",
       "      <td>학점 3.7</td>\n",
       "      <td>NaN</td>\n",
       "      <td>NaN</td>\n",
       "      <td>음악봉사활동, 멘토링등</td>\n",
       "      <td>한전 자가소개서 양식 500자 12줄 이내\\n\\n[질문 1] 취업이라는 목표 이외에...</td>\n",
       "    </tr>\n",
       "    <tr>\n",
       "      <th>10106</th>\n",
       "      <td>10106</td>\n",
       "      <td>10106</td>\n",
       "      <td>10106</td>\n",
       "      <td>한국전력</td>\n",
       "      <td>인턴[송,배전]</td>\n",
       "      <td>2013 상반기</td>\n",
       "      <td>지방거점국립대</td>\n",
       "      <td>전자공학과</td>\n",
       "      <td>학점 3.7</td>\n",
       "      <td>NaN</td>\n",
       "      <td>NaN</td>\n",
       "      <td>음악봉사활동, 멘토링등</td>\n",
       "      <td>한전 자가소개서 양식 500자 12줄 이내\\n\\n[질문 1] 취업이라는 목표 이외에...</td>\n",
       "    </tr>\n",
       "  </tbody>\n",
       "</table>\n",
       "<p>10107 rows × 13 columns</p>\n",
       "</div>"
      ],
      "text/plain": [
       "       Unnamed: 0  Unnamed: 0.1  Unnamed: 0.1.1         기업명            지원부서  \\\n",
       "0               0             0               0     한국석유공사              설비    \n",
       "1               1             1               1     CJ제일제당      Food Sales    \n",
       "2               2             2               2   한국가스안전공사    LP가스 안전지킴이사업    \n",
       "3               3             3               3        코레일            사무영업    \n",
       "4               4             4               4  한국기술교육대학교              행정    \n",
       "...           ...           ...             ...         ...             ...   \n",
       "10102       10102         10102           10102      현대자동차            영업관리    \n",
       "10103       10103         10103           10103         심팩            용접관리    \n",
       "10104       10104         10104           10104       한국전력        인턴[송,배전]    \n",
       "10105       10105         10105           10105       한국전력        인턴[송,배전]    \n",
       "10106       10106         10106           10106       한국전력        인턴[송,배전]    \n",
       "\n",
       "            지원시기              학교      학과          학점        어학  자격증  \\\n",
       "0       2020 상반기             NaN   전자공학과   학점 1.7등급        NaN  NaN   \n",
       "1       2020 상반기    서울사립대(중앙대학교)  상경계열학과    학점 3.92        NaN  NaN   \n",
       "2       2020 상반기  지방거점국립대(제주대학교)     NaN     학점 3.3     토익830   NaN   \n",
       "3       2020 상반기  지방거점국립대(충남대학교)     NaN    학점 3.87    토익 835   NaN   \n",
       "4       2020 상반기    서울사립대(건국대학교)     NaN     학점 4.0    토익 780   NaN   \n",
       "...          ...             ...     ...         ...       ...  ...   \n",
       "10102   2013 상반기    서울사립대(상명대학교)  국제통상학과     학점 4.3        NaN  NaN   \n",
       "10103   2013 상반기             전문대   공업화학과     학점 3.06       NaN  NaN   \n",
       "10104   2013 상반기         지방거점국립대   전자공학과     학점 3.7        NaN  NaN   \n",
       "10105   2013 상반기         지방거점국립대   전자공학과     학점 3.7        NaN  NaN   \n",
       "10106   2013 상반기         지방거점국립대   전자공학과     학점 3.7        NaN  NaN   \n",
       "\n",
       "                                            경험사항  \\\n",
       "0              인천 글로벌 숙련 진흥원, 선반, 용접 ,특수용접, 설비보전   \n",
       "1                                 봉사활동 일부빼고는 전무.   \n",
       "2                                            NaN   \n",
       "3                                            NaN   \n",
       "4                                            NaN   \n",
       "...                                          ...   \n",
       "10102   해외인턴1회, 중국어 말하기 대회 1등, 와인바 매니저 1년 6개월 경력   \n",
       "10103                                        NaN   \n",
       "10104                              음악봉사활동, 멘토링 등   \n",
       "10105                               음악봉사활동, 멘토링등   \n",
       "10106                               음악봉사활동, 멘토링등   \n",
       "\n",
       "                                                     자소서  \n",
       "0      7.한국석유공사\\n\\n 1. 지원 분야 직무기술서 ‘직무수행 내용’ 중 본인이 가장...  \n",
       "1      CJ제일제당 및 선택한 직무에 대한 지원동기는 무엇인가요? ① 선택한 직무에 관심을...  \n",
       "2      \\n1. 한국가스안전공사가 진행하는 사업에 관심을 갖고 공사에 지원한 동기에 대해 ...  \n",
       "3      1.공동체의 일원으로서 가장 중요하게 생각하는 가치를 제시하고, 그 가치를 실천했던...  \n",
       "4      1. 본인이 가진 가장 뛰어난 점과 그렇게 판단한 이유, 고용노동연수원 업무수행에서...  \n",
       "...                                                  ...  \n",
       "10102  1. 현대자동차에 지원하게 된 동기 또는 해당 직무에 지원하게 된 동기는 무엇입니까...  \n",
       "10103  성격소개\\n\\n대부분의 사람들이 평가하는 첫인상은 소심하고 내성적인 성격일것이라 생...  \n",
       "10104  [질문 1] 취업이라는 목표 이외에 인생의 큰 목표를 세운 경험, 그 목표를 실현하...  \n",
       "10105  한전 자가소개서 양식 500자 12줄 이내\\n\\n[질문 1] 취업이라는 목표 이외에...  \n",
       "10106  한전 자가소개서 양식 500자 12줄 이내\\n\\n[질문 1] 취업이라는 목표 이외에...  \n",
       "\n",
       "[10107 rows x 13 columns]"
      ]
     },
     "execution_count": 165,
     "metadata": {},
     "output_type": "execute_result"
    }
   ],
   "source": [
    "df"
   ]
  },
  {
   "cell_type": "code",
   "execution_count": 166,
   "metadata": {},
   "outputs": [],
   "source": [
    "first = raw_df['2'].str.split(\"/\",expand=True)[0]\n",
    "second = raw_df['2'].str.split(\"/\",expand=True)[1]\n",
    "third = raw_df['2'].str.split(\"/\",expand=True)[2]"
   ]
  },
  {
   "cell_type": "code",
   "execution_count": 167,
   "metadata": {},
   "outputs": [],
   "source": [
    "four=raw_df[\"2\"].str.split(\"/\",expand=True)[3]"
   ]
  },
  {
   "cell_type": "code",
   "execution_count": 168,
   "metadata": {
    "scrolled": false
   },
   "outputs": [
    {
     "data": {
      "text/plain": [
       "0                          None\n",
       "1              토익 905, 토스 LV 6 \n",
       "2              컴퓨터활용능력1급, 한국사1급\n",
       "3         토론동아리 3년, 컴활1급, 한국사1급\n",
       "4                  컴활 1급, 한국사1급\n",
       "                  ...          \n",
       "10102           토익 900, HSK 6급 \n",
       "10103                      None\n",
       "10104                  토익 900대 \n",
       "10105                   토익 900 \n",
       "10106                   토익 900 \n",
       "Name: 3, Length: 10107, dtype: object"
      ]
     },
     "execution_count": 168,
     "metadata": {},
     "output_type": "execute_result"
    }
   ],
   "source": [
    "four"
   ]
  },
  {
   "cell_type": "code",
   "execution_count": 9,
   "metadata": {},
   "outputs": [
    {
     "data": {
      "text/plain": [
       "1           토익 905, 토스 LV 6 \n",
       "66                   토익 890 \n",
       "191                토익스피킹 레벨6\n",
       "192       토익 745, 토익스피킹 130 \n",
       "199                  토익 910 \n",
       "                ...         \n",
       "10101                 토익 850\n",
       "10102        토익 900, HSK 6급 \n",
       "10104               토익 900대 \n",
       "10105                토익 900 \n",
       "10106                토익 900 \n",
       "Name: 3, Length: 4835, dtype: object"
      ]
     },
     "execution_count": 9,
     "metadata": {},
     "output_type": "execute_result"
    }
   ],
   "source": [
    "four[four.str.contains(\"토익\")==True]"
   ]
  },
  {
   "cell_type": "code",
   "execution_count": 170,
   "metadata": {},
   "outputs": [
    {
     "data": {
      "text/plain": [
       "1475                 오픽 IM3 \n",
       "1494                 오픽 IM3 \n",
       "1666                 오픽 IM3 \n",
       "1686                 오픽 IM3 \n",
       "1833                 오픽 IM3 \n",
       "1982                  오픽 IM3\n",
       "2121                  오픽 IM3\n",
       "2835         토익 880, 오픽 IM3 \n",
       "2967         토익 880, 오픽 IM3 \n",
       "3960                 오픽 IM3 \n",
       "3982                  오픽 IM3\n",
       "4002                  오픽 IM3\n",
       "4059                 오픽 IM3 \n",
       "4409                  오픽 IM3\n",
       "4432                  오픽 IM3\n",
       "5245                  오픽 IM3\n",
       "5246                  오픽 IM3\n",
       "5356                 오픽 IM3 \n",
       "5395                  오픽 IM3\n",
       "5503                 오픽 IM3 \n",
       "5623                 오픽 IM3 \n",
       "5655          토익 750, 오픽 IM3\n",
       "5964         토익 805, 오픽 IM3 \n",
       "6187         토익 805, 오픽 IM3 \n",
       "6307                  오픽 IM3\n",
       "6431                  오픽 IM3\n",
       "6694                  오픽 IM3\n",
       "6781                  오픽 IM3\n",
       "6996                  오픽 IM3\n",
       "7016                  오픽 IM3\n",
       "7409                 오픽 IM3 \n",
       "7470                 오픽 IM3 \n",
       "7490                 오픽 IM3 \n",
       "7884                 오픽 IM3 \n",
       "8234         토익 865, 오픽 IM3 \n",
       "8511         토익 865, 오픽 IM3 \n",
       "8520         토익 865, 오픽 IM3 \n",
       "8753         토익 915, 오픽 IM3 \n",
       "8769     오픽 IM3, 러시아어 오픽 AL \n",
       "8791          토익 890, 오픽 IM3\n",
       "8811          토익 890, 오픽 IM3\n",
       "9003          토익 890, 오픽 IM3\n",
       "9193          토익 890, 오픽 IM3\n",
       "9308         토익 725, 오픽 IM3 \n",
       "Name: 3, dtype: object"
      ]
     },
     "execution_count": 170,
     "metadata": {},
     "output_type": "execute_result"
    }
   ],
   "source": [
    "four[four.str.contains(\"opic\")==True]=\"오픽 IM3\"\n",
    "four[four.str.contains(\"오픽 IM3\")==True]"
   ]
  },
  {
   "cell_type": "code",
   "execution_count": 171,
   "metadata": {},
   "outputs": [],
   "source": [
    "# 컬럼에 집어넣기\n",
    "df.at[four[four.str.contains(\"오픽 IM3\")==True].index,[\"어학\"]]=four[four.str.contains(\"오픽 IM3\")==True]"
   ]
  },
  {
   "cell_type": "code",
   "execution_count": 172,
   "metadata": {},
   "outputs": [],
   "source": [
    "four[four.str.contains(\"오픽 IM3\")==True]=\"\""
   ]
  },
  {
   "cell_type": "code",
   "execution_count": 173,
   "metadata": {},
   "outputs": [
    {
     "data": {
      "text/plain": [
       "' 오픽 IM3 '"
      ]
     },
     "execution_count": 173,
     "metadata": {},
     "output_type": "execute_result"
    }
   ],
   "source": [
    "df[\"어학\"][1475]"
   ]
  },
  {
   "cell_type": "code",
   "execution_count": 174,
   "metadata": {},
   "outputs": [
    {
     "data": {
      "text/plain": [
       "1           토익 905, 토스 LV 6 \n",
       "66                   토익 890 \n",
       "191                토익스피킹 레벨6\n",
       "192       토익 745, 토익스피킹 130 \n",
       "199                  토익 910 \n",
       "                ...         \n",
       "10101                 토익 850\n",
       "10102        토익 900, HSK 6급 \n",
       "10104               토익 900대 \n",
       "10105                토익 900 \n",
       "10106                토익 900 \n",
       "Name: 3, Length: 4821, dtype: object"
      ]
     },
     "execution_count": 174,
     "metadata": {},
     "output_type": "execute_result"
    }
   ],
   "source": [
    "four[four.str.contains(\"토익\")==True]"
   ]
  },
  {
   "cell_type": "code",
   "execution_count": 175,
   "metadata": {},
   "outputs": [],
   "source": [
    "df.at[four[four.str.contains(\"토익\")==True].index,[\"어학\"]]=four[four.str.contains(\"토익\")==True]"
   ]
  },
  {
   "cell_type": "code",
   "execution_count": 186,
   "metadata": {},
   "outputs": [
    {
     "data": {
      "text/plain": [
       "' JPT 795'"
      ]
     },
     "execution_count": 186,
     "metadata": {},
     "output_type": "execute_result"
    }
   ],
   "source": [
    "df[\"어학\"][187]"
   ]
  },
  {
   "cell_type": "code",
   "execution_count": 177,
   "metadata": {},
   "outputs": [],
   "source": [
    "four[four.str.contains(\"토익\")==True]=\"\""
   ]
  },
  {
   "cell_type": "code",
   "execution_count": 178,
   "metadata": {},
   "outputs": [
    {
     "data": {
      "text/plain": [
       "24        토스 lv7 \n",
       "25        토스 lv6 \n",
       "46        토스 lv7 \n",
       "49        토스 lv6 \n",
       "63        토스 Lv6 \n",
       "           ...   \n",
       "10035      토스 레벨6\n",
       "10055      토스 레벨6\n",
       "10062      토스 레벨6\n",
       "10089     토스 lv.5\n",
       "10092      토스 lv6\n",
       "Name: 3, Length: 850, dtype: object"
      ]
     },
     "execution_count": 178,
     "metadata": {},
     "output_type": "execute_result"
    }
   ],
   "source": [
    "four[four.str.contains(\"토스\")==True]"
   ]
  },
  {
   "cell_type": "code",
   "execution_count": 179,
   "metadata": {},
   "outputs": [],
   "source": [
    "df.at[four[four.str.contains(\"토스\")==True].index,[\"어학\"]]=four[four.str.contains(\"토스\")==True]"
   ]
  },
  {
   "cell_type": "code",
   "execution_count": 181,
   "metadata": {},
   "outputs": [],
   "source": [
    "four[four.str.contains(\"토스\")==True]=\"\""
   ]
  },
  {
   "cell_type": "code",
   "execution_count": 182,
   "metadata": {},
   "outputs": [
    {
     "data": {
      "text/plain": [
       "187     JPT 795\n",
       "Name: 3, dtype: object"
      ]
     },
     "execution_count": 182,
     "metadata": {},
     "output_type": "execute_result"
    }
   ],
   "source": [
    "four[four.str.contains(\"JPT\")==True]"
   ]
  },
  {
   "cell_type": "code",
   "execution_count": 183,
   "metadata": {},
   "outputs": [],
   "source": [
    "df.at[four[four.str.contains(\"JPT\")==True].index,[\"어학\"]]=four[four.str.contains(\"JPT\")==True]"
   ]
  },
  {
   "cell_type": "code",
   "execution_count": 185,
   "metadata": {},
   "outputs": [],
   "source": [
    "four[four.str.contains(\"JPT\")==True]=\"\""
   ]
  },
  {
   "cell_type": "code",
   "execution_count": 187,
   "metadata": {
    "scrolled": true
   },
   "outputs": [
    {
     "data": {
      "text/plain": [
       "206                      오픽 IM2\n",
       "231       오픽 Im2, Hsk 4급, 240점 \n",
       "251       오픽 Im2, Hsk 4급, 240점 \n",
       "267                       오픽 IH\n",
       "291                      오픽 IM2\n",
       "                  ...          \n",
       "10025                    오픽 AL \n",
       "10045                    오픽 AL \n",
       "10072            오픽 IH, HSK 6급 \n",
       "10083                   오픽 im2 \n",
       "10095           오픽IH, HSK 6급 등 \n",
       "Name: 3, Length: 931, dtype: object"
      ]
     },
     "execution_count": 187,
     "metadata": {},
     "output_type": "execute_result"
    }
   ],
   "source": [
    "four[four.str.contains(\"오픽\")==True]"
   ]
  },
  {
   "cell_type": "code",
   "execution_count": 188,
   "metadata": {},
   "outputs": [],
   "source": [
    "df.at[four[four.str.contains(\"오픽\")==True].index,[\"어학\"]]=four[four.str.contains(\"오픽\")==True]"
   ]
  },
  {
   "cell_type": "code",
   "execution_count": 189,
   "metadata": {},
   "outputs": [],
   "source": [
    "four[four.str.contains(\"오픽\")==True]=\"\""
   ]
  },
  {
   "cell_type": "code",
   "execution_count": 193,
   "metadata": {},
   "outputs": [
    {
     "data": {
      "text/plain": [
       "2216      OPIC IM2 \n",
       "2374      OPIC IM2 \n",
       "4389        OPIC AL\n",
       "4404     IM2(OPIC) \n",
       "4424        OPIC AL\n",
       "4435     IM2(OPIC) \n",
       "4448     IM2(OPIC) \n",
       "5022      OPIC IM2 \n",
       "Name: 3, dtype: object"
      ]
     },
     "execution_count": 193,
     "metadata": {},
     "output_type": "execute_result"
    }
   ],
   "source": [
    "four[four.str.contains(\"OPIC\")==True]"
   ]
  },
  {
   "cell_type": "code",
   "execution_count": 194,
   "metadata": {},
   "outputs": [],
   "source": [
    "df.at[four[four.str.contains(\"OPIC\")==True].index,[\"어학\"]]=four[four.str.contains(\"OPIC\")==True]"
   ]
  },
  {
   "cell_type": "code",
   "execution_count": 195,
   "metadata": {},
   "outputs": [],
   "source": [
    "four[four.str.contains(\"OPIC\")==True]=\"\""
   ]
  },
  {
   "cell_type": "code",
   "execution_count": 196,
   "metadata": {},
   "outputs": [
    {
     "data": {
      "text/plain": [
       "2544     HSK(5급),Opic(IH) \n",
       "2560     HSK(5급),Opic(IH) \n",
       "5973               Opic IH\n",
       "6192               Opic IH\n",
       "Name: 3, dtype: object"
      ]
     },
     "execution_count": 196,
     "metadata": {},
     "output_type": "execute_result"
    }
   ],
   "source": [
    "four[four.str.contains(\"Opic\")==True]"
   ]
  },
  {
   "cell_type": "code",
   "execution_count": 197,
   "metadata": {},
   "outputs": [],
   "source": [
    "df.at[four[four.str.contains(\"Opic\")==True].index,[\"어학\"]]=four[four.str.contains(\"Opic\")==True]"
   ]
  },
  {
   "cell_type": "code",
   "execution_count": 198,
   "metadata": {},
   "outputs": [],
   "source": [
    "four[four.str.contains(\"Opic\")==True]=\"\""
   ]
  },
  {
   "cell_type": "code",
   "execution_count": 199,
   "metadata": {},
   "outputs": [
    {
     "data": {
      "text/plain": [
       "741                                              무역영어 1급 \n",
       "770                                              무역영어 1급 \n",
       "9393     인턴 1회, 대외활동 1회, 산업통상자원부장관상, 봉사활동 100시간, 무역영어 ...\n",
       "9611     인턴 1회, 대외활동 1회, 산업통상자원부장관상, 봉사활동 100시간, 무역영어 ...\n",
       "Name: 3, dtype: object"
      ]
     },
     "execution_count": 199,
     "metadata": {},
     "output_type": "execute_result"
    }
   ],
   "source": [
    "four[four.str.contains(\"무역영어\")==True]"
   ]
  },
  {
   "cell_type": "code",
   "execution_count": 200,
   "metadata": {},
   "outputs": [],
   "source": [
    "df.at[four[four.str.contains(\"무역영어\")==True].index,[\"자격증\"]]=four[four.str.contains(\"무역영어\")==True]"
   ]
  },
  {
   "cell_type": "code",
   "execution_count": 201,
   "metadata": {},
   "outputs": [],
   "source": [
    "four[four.str.contains(\"무역영어\")==True]=\"\""
   ]
  },
  {
   "cell_type": "code",
   "execution_count": 202,
   "metadata": {},
   "outputs": [
    {
     "data": {
      "text/plain": [
       "860      토플 100점대 \n",
       "3758        토플 89 \n",
       "3778        토플 89 \n",
       "3856        토플 89 \n",
       "Name: 3, dtype: object"
      ]
     },
     "execution_count": 202,
     "metadata": {},
     "output_type": "execute_result"
    }
   ],
   "source": [
    "four[four.str.contains(\"토플\")==True]"
   ]
  },
  {
   "cell_type": "code",
   "execution_count": 203,
   "metadata": {},
   "outputs": [],
   "source": [
    "df.at[four[four.str.contains(\"토플\")==True].index,[\"어학\"]]=four[four.str.contains(\"토플\")==True]"
   ]
  },
  {
   "cell_type": "code",
   "execution_count": 204,
   "metadata": {},
   "outputs": [],
   "source": [
    "four[four.str.contains(\"토플\")==True]=\"\""
   ]
  },
  {
   "cell_type": "code",
   "execution_count": 205,
   "metadata": {},
   "outputs": [
    {
     "data": {
      "text/plain": [
       "879     토픽 7 \n",
       "949     토픽 7 \n",
       "969     토픽 7 \n",
       "Name: 3, dtype: object"
      ]
     },
     "execution_count": 205,
     "metadata": {},
     "output_type": "execute_result"
    }
   ],
   "source": [
    "four[four.str.contains(\"토픽\")==True]"
   ]
  },
  {
   "cell_type": "code",
   "execution_count": 206,
   "metadata": {},
   "outputs": [],
   "source": [
    "df.at[four[four.str.contains(\"토픽\")==True].index,[\"어학\"]]=four[four.str.contains(\"토픽\")==True]"
   ]
  },
  {
   "cell_type": "code",
   "execution_count": 207,
   "metadata": {},
   "outputs": [],
   "source": [
    "four[four.str.contains(\"토픽\")==True]=\"\""
   ]
  },
  {
   "cell_type": "code",
   "execution_count": 208,
   "metadata": {},
   "outputs": [
    {
     "data": {
      "text/plain": [
       "892         850 \n",
       "981         850 \n",
       "7567         850\n",
       "7642         850\n",
       "9522     통기 850 \n",
       "9582     통기 850 \n",
       "9629     통기 850 \n",
       "9649     통기 850 \n",
       "9801     통기 850 \n",
       "Name: 3, dtype: object"
      ]
     },
     "execution_count": 208,
     "metadata": {},
     "output_type": "execute_result"
    }
   ],
   "source": [
    "four[four.str.contains(\"850\")==True]"
   ]
  },
  {
   "cell_type": "code",
   "execution_count": 209,
   "metadata": {},
   "outputs": [],
   "source": [
    "four[four.str.contains(\"850\")==True]=\"토익 850\""
   ]
  },
  {
   "cell_type": "code",
   "execution_count": 210,
   "metadata": {},
   "outputs": [],
   "source": [
    "df.at[four[four.str.contains(\"토익 850\")==True].index,[\"어학\"]]=four[four.str.contains(\"토익 850\")==True]"
   ]
  },
  {
   "cell_type": "code",
   "execution_count": 211,
   "metadata": {},
   "outputs": [],
   "source": [
    "four[four.str.contains(\"토익 850\")==True]=\"\""
   ]
  },
  {
   "cell_type": "code",
   "execution_count": 212,
   "metadata": {},
   "outputs": [
    {
     "data": {
      "text/plain": [
       "2837              TOEIC 960 \n",
       "2971              TOEIC 960 \n",
       "3021      TOEIC 960, OPIc Al\n",
       "3141      TOEIC 960, OPIc Al\n",
       "3161      TOEIC 960, OPIc Al\n",
       "3241      TOEIC 960, OPIc Al\n",
       "6332       HSK 6급, TOEIC 880\n",
       "6562       HSK 6급, TOEIC 880\n",
       "7404            TOEIC - 840 \n",
       "7578              TOEIC 860 \n",
       "7657              TOEIC 860 \n",
       "8888              TOEIC 765 \n",
       "9139              TOEIC 765 \n",
       "9324     TOEIC 705, JLPT N1 \n",
       "9344     TOEIC 705, JLPT N1 \n",
       "9749     TOEIC 705, JLPT N1 \n",
       "9769     TOEIC 705, JLPT N1 \n",
       "Name: 3, dtype: object"
      ]
     },
     "execution_count": 212,
     "metadata": {},
     "output_type": "execute_result"
    }
   ],
   "source": [
    "four[four.str.contains(\"TOEIC\")==True]"
   ]
  },
  {
   "cell_type": "code",
   "execution_count": 213,
   "metadata": {},
   "outputs": [],
   "source": [
    "df.at[four[four.str.contains(\"TOEIC\")==True].index,[\"어학\"]]=four[four.str.contains(\"TOEIC\")==True]"
   ]
  },
  {
   "cell_type": "code",
   "execution_count": 214,
   "metadata": {},
   "outputs": [],
   "source": [
    "four[four.str.contains(\"TOEIC\")==True]=\"\""
   ]
  },
  {
   "cell_type": "code",
   "execution_count": 215,
   "metadata": {},
   "outputs": [
    {
     "data": {
      "text/plain": [
       "3958      toeic 820 \n",
       "4066      toeic 820 \n",
       "8796      toeic 930 \n",
       "8816      toeic 930 \n",
       "9030      toeic 930 \n",
       "10087      toeic 920\n",
       "Name: 3, dtype: object"
      ]
     },
     "execution_count": 215,
     "metadata": {},
     "output_type": "execute_result"
    }
   ],
   "source": [
    "four[four.str.contains(\"toeic\")==True]"
   ]
  },
  {
   "cell_type": "code",
   "execution_count": 217,
   "metadata": {},
   "outputs": [],
   "source": [
    "df.at[four[four.str.contains(\"toeic\")==True].index,[\"어학\"]]=four[four.str.contains(\"toeic\")==True]"
   ]
  },
  {
   "cell_type": "code",
   "execution_count": 218,
   "metadata": {},
   "outputs": [],
   "source": [
    "four[four.str.contains(\"toeic\")==True]=\"\""
   ]
  },
  {
   "cell_type": "code",
   "execution_count": 219,
   "metadata": {},
   "outputs": [
    {
     "data": {
      "text/plain": [
       "3348     Toeic speaking LV6 \n",
       "3468     Toeic speaking LV6 \n",
       "8885         LV5, Toeic 720 \n",
       "Name: 3, dtype: object"
      ]
     },
     "execution_count": 219,
     "metadata": {},
     "output_type": "execute_result"
    }
   ],
   "source": [
    "four[four.str.contains(\"Toeic\")==True]"
   ]
  },
  {
   "cell_type": "code",
   "execution_count": 220,
   "metadata": {},
   "outputs": [],
   "source": [
    "df.at[four[four.str.contains(\"Toeic\")==True].index,[\"어학\"]]=four[four.str.contains(\"Toeic\")==True]"
   ]
  },
  {
   "cell_type": "code",
   "execution_count": 221,
   "metadata": {},
   "outputs": [],
   "source": [
    "four[four.str.contains(\"Toeic\")==True]=\"\""
   ]
  },
  {
   "cell_type": "code",
   "execution_count": 222,
   "metadata": {},
   "outputs": [
    {
     "data": {
      "text/plain": [
       "1288     hsk 6급\n",
       "1383     hsk 6급\n",
       "Name: 3, dtype: object"
      ]
     },
     "execution_count": 222,
     "metadata": {},
     "output_type": "execute_result"
    }
   ],
   "source": [
    "four[four.str.contains(\"hsk\")==True]"
   ]
  },
  {
   "cell_type": "code",
   "execution_count": 223,
   "metadata": {},
   "outputs": [],
   "source": [
    "df.at[four[four.str.contains(\"hsk\")==True].index,[\"어학\"]]=four[four.str.contains(\"hsk\")==True]"
   ]
  },
  {
   "cell_type": "code",
   "execution_count": 224,
   "metadata": {},
   "outputs": [],
   "source": [
    "four[four.str.contains(\"hsk\")==True]=\"\""
   ]
  },
  {
   "cell_type": "code",
   "execution_count": 226,
   "metadata": {},
   "outputs": [],
   "source": [
    "four[four.str.contains(\"920\")==True]=\"토익 920\""
   ]
  },
  {
   "cell_type": "code",
   "execution_count": 227,
   "metadata": {},
   "outputs": [],
   "source": [
    "df.at[four[four.str.contains(\"920\")==True].index,[\"어학\"]]=four[four.str.contains(\"토익 920\")==True]"
   ]
  },
  {
   "cell_type": "code",
   "execution_count": 228,
   "metadata": {},
   "outputs": [],
   "source": [
    "four[four.str.contains(\"토익 920\")==True]=\"\""
   ]
  },
  {
   "cell_type": "code",
   "execution_count": 229,
   "metadata": {},
   "outputs": [
    {
     "data": {
      "text/plain": [
       "2213      800\n",
       "2377      800\n",
       "2380      800\n",
       "2400      800\n",
       "5887      800\n",
       "7984     800 \n",
       "8266     800 \n",
       "Name: 3, dtype: object"
      ]
     },
     "execution_count": 229,
     "metadata": {},
     "output_type": "execute_result"
    }
   ],
   "source": [
    "four[four.str.contains(\"800\")==True]"
   ]
  },
  {
   "cell_type": "code",
   "execution_count": 230,
   "metadata": {},
   "outputs": [],
   "source": [
    "four[four.str.contains(\"800\")==True]=\"토익 800\""
   ]
  },
  {
   "cell_type": "code",
   "execution_count": 231,
   "metadata": {},
   "outputs": [],
   "source": [
    "df.at[four[four.str.contains(\"토익 800\")==True].index,[\"어학\"]]=four[four.str.contains(\"토익 800\")==True]"
   ]
  },
  {
   "cell_type": "code",
   "execution_count": 232,
   "metadata": {},
   "outputs": [],
   "source": [
    "four[four.str.contains(\"토익 800\")==True]=\"\""
   ]
  },
  {
   "cell_type": "code",
   "execution_count": 233,
   "metadata": {},
   "outputs": [
    {
     "data": {
      "text/plain": [
       "659        중국어 HSK5급 \n",
       "751        중국어 HSK5급 \n",
       "839           HSK 5급 \n",
       "859           HSK 5급 \n",
       "934           HSK 5급 \n",
       "3039        중국어 HSK6급\n",
       "3135     HSK 6급 276점 \n",
       "3148        중국어 HSK6급\n",
       "3168        중국어 HSK6급\n",
       "3234     HSK 6급 276점 \n",
       "3252        중국어 HSK6급\n",
       "3580             신HSK\n",
       "3604             신HSK\n",
       "3711      중국어 신HSK6급 \n",
       "3812      중국어 신HSK6급 \n",
       "6713      중국어 HSK 6급 \n",
       "7185           HSK 6급\n",
       "Name: 3, dtype: object"
      ]
     },
     "execution_count": 233,
     "metadata": {},
     "output_type": "execute_result"
    }
   ],
   "source": [
    "four[four.str.contains(\"HSK\")==True]"
   ]
  },
  {
   "cell_type": "code",
   "execution_count": 234,
   "metadata": {},
   "outputs": [],
   "source": [
    "df.at[four[four.str.contains(\"HSK\")==True].index,[\"어학\"]]=four[four.str.contains(\"HSK\")==True]"
   ]
  },
  {
   "cell_type": "code",
   "execution_count": 235,
   "metadata": {},
   "outputs": [],
   "source": [
    "four[four.str.contains(\"HSK\")==True]=\"\""
   ]
  },
  {
   "cell_type": "code",
   "execution_count": 237,
   "metadata": {},
   "outputs": [],
   "source": [
    "four[four.str.contains(\"820\")==True]=\"토익 820\""
   ]
  },
  {
   "cell_type": "code",
   "execution_count": 238,
   "metadata": {},
   "outputs": [],
   "source": [
    "df.at[four[four.str.contains(\"토익 820\")==True].index,[\"어학\"]]=four[four.str.contains(\"토익 820\")==True]"
   ]
  },
  {
   "cell_type": "code",
   "execution_count": 239,
   "metadata": {},
   "outputs": [],
   "source": [
    "four[four.str.contains(\"토익 820\")==True]=\"\""
   ]
  },
  {
   "cell_type": "code",
   "execution_count": 240,
   "metadata": {},
   "outputs": [
    {
     "data": {
      "text/plain": [
       "4169            IM2\n",
       "4239            IM2\n",
       "4259            IM2\n",
       "4260            IM2\n",
       "6368      715, IM2 \n",
       "6638      715, IM2 \n",
       "6658      715, IM2 \n",
       "6666      715, IM2 \n",
       "9979            IM2\n",
       "9999            IM2\n",
       "10019           IM2\n",
       "Name: 3, dtype: object"
      ]
     },
     "execution_count": 240,
     "metadata": {},
     "output_type": "execute_result"
    }
   ],
   "source": [
    "four[four.str.contains(\"IM2\")==True]"
   ]
  },
  {
   "cell_type": "code",
   "execution_count": 241,
   "metadata": {},
   "outputs": [],
   "source": [
    "four[four.str.contains(\"IM1\")==True]=\"오픽 IM1\""
   ]
  },
  {
   "cell_type": "code",
   "execution_count": 242,
   "metadata": {},
   "outputs": [],
   "source": [
    "df.at[four[four.str.contains(\"오픽 IM1\")==True].index,[\"어학\"]]=four[four.str.contains(\"오픽 IM1\")==True]"
   ]
  },
  {
   "cell_type": "code",
   "execution_count": 243,
   "metadata": {},
   "outputs": [],
   "source": [
    "four[four.str.contains(\"오픽 IM1\")==True]=\"\""
   ]
  },
  {
   "cell_type": "code",
   "execution_count": 244,
   "metadata": {},
   "outputs": [
    {
     "data": {
      "text/plain": [
       "6368     715, IM2 \n",
       "6638     715, IM2 \n",
       "6658     715, IM2 \n",
       "6666     715, IM2 \n",
       "Name: 3, dtype: object"
      ]
     },
     "execution_count": 244,
     "metadata": {},
     "output_type": "execute_result"
    }
   ],
   "source": [
    "four[four.str.contains(\"715, IM2\")==True]"
   ]
  },
  {
   "cell_type": "code",
   "execution_count": 245,
   "metadata": {},
   "outputs": [],
   "source": [
    "four[four.str.contains(\"715, IM2\")==True]=\"토익 715, 오픽 IM2\""
   ]
  },
  {
   "cell_type": "code",
   "execution_count": 246,
   "metadata": {},
   "outputs": [],
   "source": [
    "df.at[four[four.str.contains(\"토익 715, 오픽 IM2\")==True].index,[\"어학\"]]=four[four.str.contains(\"토익 715, 오픽 IM2\")==True]"
   ]
  },
  {
   "cell_type": "code",
   "execution_count": 247,
   "metadata": {},
   "outputs": [],
   "source": [
    "four[four.str.contains(\"토익 715, 오픽 IM2\")==True]=\"\""
   ]
  },
  {
   "cell_type": "code",
   "execution_count": 248,
   "metadata": {},
   "outputs": [
    {
     "data": {
      "text/plain": [
       "4169      IM2\n",
       "4239      IM2\n",
       "4259      IM2\n",
       "4260      IM2\n",
       "9979      IM2\n",
       "9999      IM2\n",
       "10019     IM2\n",
       "Name: 3, dtype: object"
      ]
     },
     "execution_count": 248,
     "metadata": {},
     "output_type": "execute_result"
    }
   ],
   "source": [
    "four[four.str.contains(\"IM2\")==True]"
   ]
  },
  {
   "cell_type": "code",
   "execution_count": 249,
   "metadata": {},
   "outputs": [],
   "source": [
    "four[four.str.contains(\"IM2\")==True]=\"오픽 IM2\""
   ]
  },
  {
   "cell_type": "code",
   "execution_count": 250,
   "metadata": {},
   "outputs": [],
   "source": [
    "df.at[four[four.str.contains(\"오픽 IM2\")==True].index,[\"어학\"]]=four[four.str.contains(\"오픽 IM2\")==True]"
   ]
  },
  {
   "cell_type": "code",
   "execution_count": 251,
   "metadata": {},
   "outputs": [],
   "source": [
    "four[four.str.contains(\"오픽 IM2\")==True]=\"\""
   ]
  },
  {
   "cell_type": "code",
   "execution_count": 252,
   "metadata": {},
   "outputs": [],
   "source": [
    "four[four.str.contains(\"IH\")==True]=\"오픽 IH\""
   ]
  },
  {
   "cell_type": "code",
   "execution_count": 253,
   "metadata": {},
   "outputs": [],
   "source": [
    "df.at[four[four.str.contains(\"오픽 IH\")==True].index,[\"어학\"]]=four[four.str.contains(\"오픽 IH\")==True]"
   ]
  },
  {
   "cell_type": "code",
   "execution_count": 254,
   "metadata": {},
   "outputs": [],
   "source": [
    "four[four.str.contains(\"오픽 IH\")==True]=\"\""
   ]
  },
  {
   "cell_type": "code",
   "execution_count": 255,
   "metadata": {},
   "outputs": [],
   "source": [
    "four[four.str.contains(\"900\")==True]=\"토익 900\""
   ]
  },
  {
   "cell_type": "code",
   "execution_count": 256,
   "metadata": {},
   "outputs": [],
   "source": [
    "df.at[four[four.str.contains(\"토익 900\")==True].index,[\"어학\"]]=four[four.str.contains(\"토익 900\")==True]"
   ]
  },
  {
   "cell_type": "code",
   "execution_count": 257,
   "metadata": {},
   "outputs": [],
   "source": [
    "four[four.str.contains(\"토익 900\")==True]=\"\""
   ]
  },
  {
   "cell_type": "code",
   "execution_count": 258,
   "metadata": {},
   "outputs": [],
   "source": [
    "four[four.str.contains(\"890\")==True]=\"토익 890\""
   ]
  },
  {
   "cell_type": "code",
   "execution_count": 259,
   "metadata": {},
   "outputs": [],
   "source": [
    "df.at[four[four.str.contains(\"토익 890\")==True].index,[\"어학\"]]=four[four.str.contains(\"토익 890\")==True]"
   ]
  },
  {
   "cell_type": "code",
   "execution_count": 260,
   "metadata": {},
   "outputs": [],
   "source": [
    "four[four.str.contains(\"토익 890\")==True]=\"\""
   ]
  },
  {
   "cell_type": "code",
   "execution_count": 261,
   "metadata": {},
   "outputs": [],
   "source": [
    "four[four.str.contains(\"855\")==True]=\"토익 855\""
   ]
  },
  {
   "cell_type": "code",
   "execution_count": 262,
   "metadata": {},
   "outputs": [],
   "source": [
    "df.at[four[four.str.contains(\"토익 855\")==True].index,[\"어학\"]]=four[four.str.contains(\"토익 855\")==True]"
   ]
  },
  {
   "cell_type": "code",
   "execution_count": 263,
   "metadata": {},
   "outputs": [],
   "source": [
    "four[four.str.contains(\"토익 855\")==True]=\"\""
   ]
  },
  {
   "cell_type": "code",
   "execution_count": 264,
   "metadata": {},
   "outputs": [],
   "source": [
    "four[four.str.contains(\"스피킹\")==True]=\"토스 Lv7\""
   ]
  },
  {
   "cell_type": "code",
   "execution_count": 265,
   "metadata": {},
   "outputs": [],
   "source": [
    "df.at[four[four.str.contains(\"토스 Lv7\")==True].index,[\"어학\"]]=four[four.str.contains(\"토스 Lv7\")==True]"
   ]
  },
  {
   "cell_type": "code",
   "execution_count": 266,
   "metadata": {},
   "outputs": [],
   "source": [
    "four[four.str.contains(\"토스 Lv7\")==True]=\"\""
   ]
  },
  {
   "cell_type": "code",
   "execution_count": 267,
   "metadata": {},
   "outputs": [],
   "source": [
    "four[four.str.contains(\"790\")==True]=\"토익 790\""
   ]
  },
  {
   "cell_type": "code",
   "execution_count": 268,
   "metadata": {},
   "outputs": [],
   "source": [
    "df.at[four[four.str.contains(\"토익 790\")==True].index,[\"어학\"]]=four[four.str.contains(\"토익 790\")==True]"
   ]
  },
  {
   "cell_type": "code",
   "execution_count": 269,
   "metadata": {},
   "outputs": [],
   "source": [
    "four[four.str.contains(\"토익 790\")==True]=\"\""
   ]
  },
  {
   "cell_type": "code",
   "execution_count": 270,
   "metadata": {},
   "outputs": [],
   "source": [
    "four[four.str.contains(\"805\")==True]=\"토익 805\""
   ]
  },
  {
   "cell_type": "code",
   "execution_count": 271,
   "metadata": {},
   "outputs": [],
   "source": [
    "df.at[four[four.str.contains(\"토익 805\")==True].index,[\"어학\"]]=four[four.str.contains(\"토익 805\")==True]"
   ]
  },
  {
   "cell_type": "code",
   "execution_count": 272,
   "metadata": {},
   "outputs": [],
   "source": [
    "four[four.str.contains(\"토익 805\")==True]=\"\""
   ]
  },
  {
   "cell_type": "code",
   "execution_count": 273,
   "metadata": {},
   "outputs": [
    {
     "data": {
      "text/plain": [
       "6793     940 \n",
       "7030     940 \n",
       "Name: 3, dtype: object"
      ]
     },
     "execution_count": 273,
     "metadata": {},
     "output_type": "execute_result"
    }
   ],
   "source": [
    "four[four.str.contains(\"940\")==True]"
   ]
  },
  {
   "cell_type": "code",
   "execution_count": 274,
   "metadata": {},
   "outputs": [],
   "source": [
    "four[four.str.contains(\"940\")==True]=\"토익 940\""
   ]
  },
  {
   "cell_type": "code",
   "execution_count": 275,
   "metadata": {},
   "outputs": [],
   "source": [
    "df.at[four[four.str.contains(\"토익 940\")==True].index,[\"어학\"]]=four[four.str.contains(\"토익 940\")==True]"
   ]
  },
  {
   "cell_type": "code",
   "execution_count": 276,
   "metadata": {},
   "outputs": [],
   "source": [
    "four[four.str.contains(\"토익 940\")==True]=\"\""
   ]
  },
  {
   "cell_type": "code",
   "execution_count": 277,
   "metadata": {},
   "outputs": [
    {
     "data": {
      "text/plain": [
       "6788     Hsk 6급\n",
       "6999     Hsk 6급\n",
       "7019     Hsk 6급\n",
       "7020     Hsk 6급\n",
       "Name: 3, dtype: object"
      ]
     },
     "execution_count": 277,
     "metadata": {},
     "output_type": "execute_result"
    }
   ],
   "source": [
    "four[four.str.contains(\"Hsk\")==True]"
   ]
  },
  {
   "cell_type": "code",
   "execution_count": 278,
   "metadata": {},
   "outputs": [],
   "source": [
    "df.at[four[four.str.contains(\"Hsk\")==True].index,[\"어학\"]]=four[four.str.contains(\"Hsk\")==True]"
   ]
  },
  {
   "cell_type": "code",
   "execution_count": 279,
   "metadata": {},
   "outputs": [],
   "source": [
    "four[four.str.contains(\"Hsk\")==True]=\"\""
   ]
  },
  {
   "cell_type": "code",
   "execution_count": 280,
   "metadata": {},
   "outputs": [],
   "source": [
    "four[four.str.contains(\"945\")==True]=\"토익 945\""
   ]
  },
  {
   "cell_type": "code",
   "execution_count": 281,
   "metadata": {},
   "outputs": [],
   "source": [
    "df.at[four[four.str.contains(\"토익 945\")==True].index,[\"어학\"]]=four[four.str.contains(\"토익 945\")==True]"
   ]
  },
  {
   "cell_type": "code",
   "execution_count": 282,
   "metadata": {},
   "outputs": [],
   "source": [
    "four[four.str.contains(\"토익 945\")==True]=\"\""
   ]
  },
  {
   "cell_type": "code",
   "execution_count": 283,
   "metadata": {},
   "outputs": [],
   "source": [
    "four[four.str.contains(\"840\")==True]=\"토익 840\""
   ]
  },
  {
   "cell_type": "code",
   "execution_count": 284,
   "metadata": {},
   "outputs": [],
   "source": [
    "df.at[four[four.str.contains(\"토익 840\")==True].index,[\"어학\"]]=four[four.str.contains(\"토익 840\")==True]"
   ]
  },
  {
   "cell_type": "code",
   "execution_count": 285,
   "metadata": {},
   "outputs": [],
   "source": [
    "four[four.str.contains(\"토익 840\")==True]=\"\""
   ]
  },
  {
   "cell_type": "code",
   "execution_count": 286,
   "metadata": {},
   "outputs": [],
   "source": [
    "four[four.str.contains(\"770\")==True]=\"토익 770\""
   ]
  },
  {
   "cell_type": "code",
   "execution_count": 287,
   "metadata": {},
   "outputs": [],
   "source": [
    "df.at[four[four.str.contains(\"토익 770\")==True].index,[\"어학\"]]=four[four.str.contains(\"토익 770\")==True]"
   ]
  },
  {
   "cell_type": "code",
   "execution_count": 288,
   "metadata": {},
   "outputs": [],
   "source": [
    "four[four.str.contains(\"토익 770\")==True]=\"\""
   ]
  },
  {
   "cell_type": "code",
   "execution_count": 289,
   "metadata": {},
   "outputs": [],
   "source": [
    "four[four.str.contains(\"780\")==True]=\"토익 780\""
   ]
  },
  {
   "cell_type": "code",
   "execution_count": 290,
   "metadata": {},
   "outputs": [],
   "source": [
    "df.at[four[four.str.contains(\"토익 780\")==True].index,[\"어학\"]]=four[four.str.contains(\"토익 780\")==True]"
   ]
  },
  {
   "cell_type": "code",
   "execution_count": 291,
   "metadata": {},
   "outputs": [],
   "source": [
    "four[four.str.contains(\"토익 780\")==True]=\"\""
   ]
  },
  {
   "cell_type": "code",
   "execution_count": 292,
   "metadata": {},
   "outputs": [],
   "source": [
    "four[four.str.contains(\"845\")==True]=\"토익 845\""
   ]
  },
  {
   "cell_type": "code",
   "execution_count": 293,
   "metadata": {},
   "outputs": [],
   "source": [
    "df.at[four[four.str.contains(\"토익 845\")==True].index,[\"어학\"]]=four[four.str.contains(\"토익 845\")==True]"
   ]
  },
  {
   "cell_type": "code",
   "execution_count": 294,
   "metadata": {},
   "outputs": [],
   "source": [
    "four[four.str.contains(\"토익 845\")==True]=\"\""
   ]
  },
  {
   "cell_type": "code",
   "execution_count": 295,
   "metadata": {},
   "outputs": [],
   "source": [
    "four[four.str.contains(\"700\")==True]=\"토익 770\""
   ]
  },
  {
   "cell_type": "code",
   "execution_count": 296,
   "metadata": {},
   "outputs": [],
   "source": [
    "df.at[four[four.str.contains(\"토익 770\")==True].index,[\"어학\"]]=four[four.str.contains(\"토익 770\")==True]"
   ]
  },
  {
   "cell_type": "code",
   "execution_count": 297,
   "metadata": {},
   "outputs": [],
   "source": [
    "four[four.str.contains(\"토익 770\")==True]=\"\""
   ]
  },
  {
   "cell_type": "code",
   "execution_count": 298,
   "metadata": {},
   "outputs": [],
   "source": [
    "four[four.str.contains(\"750\")==True]=\"토익 750\""
   ]
  },
  {
   "cell_type": "code",
   "execution_count": 299,
   "metadata": {},
   "outputs": [],
   "source": [
    "df.at[four[four.str.contains(\"토익 750\")==True].index,[\"어학\"]]=four[four.str.contains(\"토익 750\")==True]"
   ]
  },
  {
   "cell_type": "code",
   "execution_count": 300,
   "metadata": {},
   "outputs": [],
   "source": [
    "four[four.str.contains(\"토익 750\")==True]=\"\""
   ]
  },
  {
   "cell_type": "code",
   "execution_count": 301,
   "metadata": {},
   "outputs": [],
   "source": [
    "four[four.str.contains(\"895\")==True]=\"토익 895\""
   ]
  },
  {
   "cell_type": "code",
   "execution_count": 302,
   "metadata": {},
   "outputs": [],
   "source": [
    "df.at[four[four.str.contains(\"토익 895\")==True].index,[\"어학\"]]=four[four.str.contains(\"토익 895\")==True]"
   ]
  },
  {
   "cell_type": "code",
   "execution_count": 303,
   "metadata": {},
   "outputs": [],
   "source": [
    "four[four.str.contains(\"토익 895\")==True]=\"\""
   ]
  },
  {
   "cell_type": "code",
   "execution_count": 304,
   "metadata": {},
   "outputs": [],
   "source": [
    "four[four.str.contains(\"870\")==True]=\"토익 870\""
   ]
  },
  {
   "cell_type": "code",
   "execution_count": 305,
   "metadata": {},
   "outputs": [],
   "source": [
    "df.at[four[four.str.contains(\"토익 870\")==True].index,[\"어학\"]]=four[four.str.contains(\"토익 870\")==True]"
   ]
  },
  {
   "cell_type": "code",
   "execution_count": 306,
   "metadata": {},
   "outputs": [],
   "source": [
    "four[four.str.contains(\"토익 870\")==True]=\"\""
   ]
  },
  {
   "cell_type": "code",
   "execution_count": 307,
   "metadata": {},
   "outputs": [],
   "source": [
    "four[four.str.contains(\"975\")==True]=\"토익 975\""
   ]
  },
  {
   "cell_type": "code",
   "execution_count": 308,
   "metadata": {},
   "outputs": [],
   "source": [
    "df.at[four[four.str.contains(\"토익 975\")==True].index,[\"어학\"]]=four[four.str.contains(\"토익 975\")==True]"
   ]
  },
  {
   "cell_type": "code",
   "execution_count": 309,
   "metadata": {},
   "outputs": [],
   "source": [
    "four[four.str.contains(\"토익 975\")==True]=\"\""
   ]
  },
  {
   "cell_type": "code",
   "execution_count": 310,
   "metadata": {},
   "outputs": [],
   "source": [
    "four[four.str.contains(\"835\")==True]=\"토익 835\""
   ]
  },
  {
   "cell_type": "code",
   "execution_count": 311,
   "metadata": {},
   "outputs": [],
   "source": [
    "df.at[four[four.str.contains(\"토익 835\")==True].index,[\"어학\"]]=four[four.str.contains(\"토익 835\")==True]"
   ]
  },
  {
   "cell_type": "code",
   "execution_count": 312,
   "metadata": {},
   "outputs": [],
   "source": [
    "four[four.str.contains(\"토익 835\")==True]=\"\""
   ]
  },
  {
   "cell_type": "code",
   "execution_count": 314,
   "metadata": {},
   "outputs": [
    {
     "data": {
      "text/html": [
       "<div>\n",
       "<style scoped>\n",
       "    .dataframe tbody tr th:only-of-type {\n",
       "        vertical-align: middle;\n",
       "    }\n",
       "\n",
       "    .dataframe tbody tr th {\n",
       "        vertical-align: top;\n",
       "    }\n",
       "\n",
       "    .dataframe thead th {\n",
       "        text-align: right;\n",
       "    }\n",
       "</style>\n",
       "<table border=\"1\" class=\"dataframe\">\n",
       "  <thead>\n",
       "    <tr style=\"text-align: right;\">\n",
       "      <th></th>\n",
       "      <th>Unnamed: 0</th>\n",
       "      <th>Unnamed: 0.1</th>\n",
       "      <th>Unnamed: 0.1.1</th>\n",
       "      <th>기업명</th>\n",
       "      <th>지원부서</th>\n",
       "      <th>지원시기</th>\n",
       "      <th>학교</th>\n",
       "      <th>학과</th>\n",
       "      <th>학점</th>\n",
       "      <th>어학</th>\n",
       "      <th>자격증</th>\n",
       "      <th>경험사항</th>\n",
       "      <th>자소서</th>\n",
       "    </tr>\n",
       "  </thead>\n",
       "  <tbody>\n",
       "    <tr>\n",
       "      <th>0</th>\n",
       "      <td>0</td>\n",
       "      <td>0</td>\n",
       "      <td>0</td>\n",
       "      <td>한국석유공사</td>\n",
       "      <td>설비</td>\n",
       "      <td>2020 상반기</td>\n",
       "      <td>NaN</td>\n",
       "      <td>전자공학과</td>\n",
       "      <td>학점 1.7등급</td>\n",
       "      <td>NaN</td>\n",
       "      <td>NaN</td>\n",
       "      <td>인천 글로벌 숙련 진흥원, 선반, 용접 ,특수용접, 설비보전</td>\n",
       "      <td>7.한국석유공사\\n\\n 1. 지원 분야 직무기술서 ‘직무수행 내용’ 중 본인이 가장...</td>\n",
       "    </tr>\n",
       "    <tr>\n",
       "      <th>1</th>\n",
       "      <td>1</td>\n",
       "      <td>1</td>\n",
       "      <td>1</td>\n",
       "      <td>CJ제일제당</td>\n",
       "      <td>Food Sales</td>\n",
       "      <td>2020 상반기</td>\n",
       "      <td>서울사립대(중앙대학교)</td>\n",
       "      <td>상경계열학과</td>\n",
       "      <td>학점 3.92</td>\n",
       "      <td>토익 905, 토스 LV 6</td>\n",
       "      <td>NaN</td>\n",
       "      <td>봉사활동 일부빼고는 전무.</td>\n",
       "      <td>CJ제일제당 및 선택한 직무에 대한 지원동기는 무엇인가요? ① 선택한 직무에 관심을...</td>\n",
       "    </tr>\n",
       "    <tr>\n",
       "      <th>2</th>\n",
       "      <td>2</td>\n",
       "      <td>2</td>\n",
       "      <td>2</td>\n",
       "      <td>한국가스안전공사</td>\n",
       "      <td>LP가스 안전지킴이사업</td>\n",
       "      <td>2020 상반기</td>\n",
       "      <td>지방거점국립대(제주대학교)</td>\n",
       "      <td>NaN</td>\n",
       "      <td>학점 3.3</td>\n",
       "      <td>토익830</td>\n",
       "      <td>NaN</td>\n",
       "      <td>NaN</td>\n",
       "      <td>\\n1. 한국가스안전공사가 진행하는 사업에 관심을 갖고 공사에 지원한 동기에 대해 ...</td>\n",
       "    </tr>\n",
       "    <tr>\n",
       "      <th>3</th>\n",
       "      <td>3</td>\n",
       "      <td>3</td>\n",
       "      <td>3</td>\n",
       "      <td>코레일</td>\n",
       "      <td>사무영업</td>\n",
       "      <td>2020 상반기</td>\n",
       "      <td>지방거점국립대(충남대학교)</td>\n",
       "      <td>NaN</td>\n",
       "      <td>학점 3.87</td>\n",
       "      <td>토익 835</td>\n",
       "      <td>NaN</td>\n",
       "      <td>NaN</td>\n",
       "      <td>1.공동체의 일원으로서 가장 중요하게 생각하는 가치를 제시하고, 그 가치를 실천했던...</td>\n",
       "    </tr>\n",
       "    <tr>\n",
       "      <th>4</th>\n",
       "      <td>4</td>\n",
       "      <td>4</td>\n",
       "      <td>4</td>\n",
       "      <td>한국기술교육대학교</td>\n",
       "      <td>행정</td>\n",
       "      <td>2020 상반기</td>\n",
       "      <td>서울사립대(건국대학교)</td>\n",
       "      <td>NaN</td>\n",
       "      <td>학점 4.0</td>\n",
       "      <td>토익 780</td>\n",
       "      <td>NaN</td>\n",
       "      <td>NaN</td>\n",
       "      <td>1. 본인이 가진 가장 뛰어난 점과 그렇게 판단한 이유, 고용노동연수원 업무수행에서...</td>\n",
       "    </tr>\n",
       "    <tr>\n",
       "      <th>...</th>\n",
       "      <td>...</td>\n",
       "      <td>...</td>\n",
       "      <td>...</td>\n",
       "      <td>...</td>\n",
       "      <td>...</td>\n",
       "      <td>...</td>\n",
       "      <td>...</td>\n",
       "      <td>...</td>\n",
       "      <td>...</td>\n",
       "      <td>...</td>\n",
       "      <td>...</td>\n",
       "      <td>...</td>\n",
       "      <td>...</td>\n",
       "    </tr>\n",
       "    <tr>\n",
       "      <th>10102</th>\n",
       "      <td>10102</td>\n",
       "      <td>10102</td>\n",
       "      <td>10102</td>\n",
       "      <td>현대자동차</td>\n",
       "      <td>영업관리</td>\n",
       "      <td>2013 상반기</td>\n",
       "      <td>서울사립대(상명대학교)</td>\n",
       "      <td>국제통상학과</td>\n",
       "      <td>학점 4.3</td>\n",
       "      <td>토익 900, HSK 6급</td>\n",
       "      <td>NaN</td>\n",
       "      <td>해외인턴1회, 중국어 말하기 대회 1등, 와인바 매니저 1년 6개월 경력</td>\n",
       "      <td>1. 현대자동차에 지원하게 된 동기 또는 해당 직무에 지원하게 된 동기는 무엇입니까...</td>\n",
       "    </tr>\n",
       "    <tr>\n",
       "      <th>10103</th>\n",
       "      <td>10103</td>\n",
       "      <td>10103</td>\n",
       "      <td>10103</td>\n",
       "      <td>심팩</td>\n",
       "      <td>용접관리</td>\n",
       "      <td>2013 상반기</td>\n",
       "      <td>전문대</td>\n",
       "      <td>공업화학과</td>\n",
       "      <td>학점 3.06</td>\n",
       "      <td>NaN</td>\n",
       "      <td>NaN</td>\n",
       "      <td>NaN</td>\n",
       "      <td>성격소개\\n\\n대부분의 사람들이 평가하는 첫인상은 소심하고 내성적인 성격일것이라 생...</td>\n",
       "    </tr>\n",
       "    <tr>\n",
       "      <th>10104</th>\n",
       "      <td>10104</td>\n",
       "      <td>10104</td>\n",
       "      <td>10104</td>\n",
       "      <td>한국전력</td>\n",
       "      <td>인턴[송,배전]</td>\n",
       "      <td>2013 상반기</td>\n",
       "      <td>지방거점국립대</td>\n",
       "      <td>전자공학과</td>\n",
       "      <td>학점 3.7</td>\n",
       "      <td>토익 900대</td>\n",
       "      <td>NaN</td>\n",
       "      <td>음악봉사활동, 멘토링 등</td>\n",
       "      <td>[질문 1] 취업이라는 목표 이외에 인생의 큰 목표를 세운 경험, 그 목표를 실현하...</td>\n",
       "    </tr>\n",
       "    <tr>\n",
       "      <th>10105</th>\n",
       "      <td>10105</td>\n",
       "      <td>10105</td>\n",
       "      <td>10105</td>\n",
       "      <td>한국전력</td>\n",
       "      <td>인턴[송,배전]</td>\n",
       "      <td>2013 상반기</td>\n",
       "      <td>지방거점국립대</td>\n",
       "      <td>전자공학과</td>\n",
       "      <td>학점 3.7</td>\n",
       "      <td>토익 900</td>\n",
       "      <td>NaN</td>\n",
       "      <td>음악봉사활동, 멘토링등</td>\n",
       "      <td>한전 자가소개서 양식 500자 12줄 이내\\n\\n[질문 1] 취업이라는 목표 이외에...</td>\n",
       "    </tr>\n",
       "    <tr>\n",
       "      <th>10106</th>\n",
       "      <td>10106</td>\n",
       "      <td>10106</td>\n",
       "      <td>10106</td>\n",
       "      <td>한국전력</td>\n",
       "      <td>인턴[송,배전]</td>\n",
       "      <td>2013 상반기</td>\n",
       "      <td>지방거점국립대</td>\n",
       "      <td>전자공학과</td>\n",
       "      <td>학점 3.7</td>\n",
       "      <td>토익 900</td>\n",
       "      <td>NaN</td>\n",
       "      <td>음악봉사활동, 멘토링등</td>\n",
       "      <td>한전 자가소개서 양식 500자 12줄 이내\\n\\n[질문 1] 취업이라는 목표 이외에...</td>\n",
       "    </tr>\n",
       "  </tbody>\n",
       "</table>\n",
       "<p>10107 rows × 13 columns</p>\n",
       "</div>"
      ],
      "text/plain": [
       "       Unnamed: 0  Unnamed: 0.1  Unnamed: 0.1.1         기업명            지원부서  \\\n",
       "0               0             0               0     한국석유공사              설비    \n",
       "1               1             1               1     CJ제일제당      Food Sales    \n",
       "2               2             2               2   한국가스안전공사    LP가스 안전지킴이사업    \n",
       "3               3             3               3        코레일            사무영업    \n",
       "4               4             4               4  한국기술교육대학교              행정    \n",
       "...           ...           ...             ...         ...             ...   \n",
       "10102       10102         10102           10102      현대자동차            영업관리    \n",
       "10103       10103         10103           10103         심팩            용접관리    \n",
       "10104       10104         10104           10104       한국전력        인턴[송,배전]    \n",
       "10105       10105         10105           10105       한국전력        인턴[송,배전]    \n",
       "10106       10106         10106           10106       한국전력        인턴[송,배전]    \n",
       "\n",
       "            지원시기              학교      학과          학점                 어학  자격증  \\\n",
       "0       2020 상반기             NaN   전자공학과   학점 1.7등급                 NaN  NaN   \n",
       "1       2020 상반기    서울사립대(중앙대학교)  상경계열학과    학점 3.92    토익 905, 토스 LV 6   NaN   \n",
       "2       2020 상반기  지방거점국립대(제주대학교)     NaN     학점 3.3              토익830   NaN   \n",
       "3       2020 상반기  지방거점국립대(충남대학교)     NaN    학점 3.87             토익 835   NaN   \n",
       "4       2020 상반기    서울사립대(건국대학교)     NaN     학점 4.0             토익 780   NaN   \n",
       "...          ...             ...     ...         ...                ...  ...   \n",
       "10102   2013 상반기    서울사립대(상명대학교)  국제통상학과     학점 4.3     토익 900, HSK 6급   NaN   \n",
       "10103   2013 상반기             전문대   공업화학과     학점 3.06                NaN  NaN   \n",
       "10104   2013 상반기         지방거점국립대   전자공학과     학점 3.7            토익 900대   NaN   \n",
       "10105   2013 상반기         지방거점국립대   전자공학과     학점 3.7             토익 900   NaN   \n",
       "10106   2013 상반기         지방거점국립대   전자공학과     학점 3.7             토익 900   NaN   \n",
       "\n",
       "                                            경험사항  \\\n",
       "0              인천 글로벌 숙련 진흥원, 선반, 용접 ,특수용접, 설비보전   \n",
       "1                                 봉사활동 일부빼고는 전무.   \n",
       "2                                            NaN   \n",
       "3                                            NaN   \n",
       "4                                            NaN   \n",
       "...                                          ...   \n",
       "10102   해외인턴1회, 중국어 말하기 대회 1등, 와인바 매니저 1년 6개월 경력   \n",
       "10103                                        NaN   \n",
       "10104                              음악봉사활동, 멘토링 등   \n",
       "10105                               음악봉사활동, 멘토링등   \n",
       "10106                               음악봉사활동, 멘토링등   \n",
       "\n",
       "                                                     자소서  \n",
       "0      7.한국석유공사\\n\\n 1. 지원 분야 직무기술서 ‘직무수행 내용’ 중 본인이 가장...  \n",
       "1      CJ제일제당 및 선택한 직무에 대한 지원동기는 무엇인가요? ① 선택한 직무에 관심을...  \n",
       "2      \\n1. 한국가스안전공사가 진행하는 사업에 관심을 갖고 공사에 지원한 동기에 대해 ...  \n",
       "3      1.공동체의 일원으로서 가장 중요하게 생각하는 가치를 제시하고, 그 가치를 실천했던...  \n",
       "4      1. 본인이 가진 가장 뛰어난 점과 그렇게 판단한 이유, 고용노동연수원 업무수행에서...  \n",
       "...                                                  ...  \n",
       "10102  1. 현대자동차에 지원하게 된 동기 또는 해당 직무에 지원하게 된 동기는 무엇입니까...  \n",
       "10103  성격소개\\n\\n대부분의 사람들이 평가하는 첫인상은 소심하고 내성적인 성격일것이라 생...  \n",
       "10104  [질문 1] 취업이라는 목표 이외에 인생의 큰 목표를 세운 경험, 그 목표를 실현하...  \n",
       "10105  한전 자가소개서 양식 500자 12줄 이내\\n\\n[질문 1] 취업이라는 목표 이외에...  \n",
       "10106  한전 자가소개서 양식 500자 12줄 이내\\n\\n[질문 1] 취업이라는 목표 이외에...  \n",
       "\n",
       "[10107 rows x 13 columns]"
      ]
     },
     "execution_count": 314,
     "metadata": {},
     "output_type": "execute_result"
    }
   ],
   "source": [
    "df"
   ]
  },
  {
   "cell_type": "code",
   "execution_count": 316,
   "metadata": {},
   "outputs": [],
   "source": [
    "df.to_csv(\"3-1.csv\",encoding=\"utf-8\")"
   ]
  },
  {
   "cell_type": "code",
   "execution_count": 315,
   "metadata": {},
   "outputs": [
    {
     "data": {
      "text/plain": [
       "1514"
      ]
     },
     "execution_count": 315,
     "metadata": {},
     "output_type": "execute_result"
    }
   ],
   "source": [
    "df[\"어학\"].isnull().sum()"
   ]
  }
 ],
 "metadata": {
  "kernelspec": {
   "display_name": "Python 3",
   "language": "python",
   "name": "python3"
  },
  "language_info": {
   "codemirror_mode": {
    "name": "ipython",
    "version": 3
   },
   "file_extension": ".py",
   "mimetype": "text/x-python",
   "name": "python",
   "nbconvert_exporter": "python",
   "pygments_lexer": "ipython3",
   "version": "3.7.6"
  }
 },
 "nbformat": 4,
 "nbformat_minor": 4
}
